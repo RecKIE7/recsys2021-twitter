{
 "cells": [
  {
   "cell_type": "code",
   "execution_count": 1,
   "id": "1ad98848",
   "metadata": {},
   "outputs": [],
   "source": [
    "import os\n",
    "import sys\n",
    "sys.path.append('..')\n",
    "\n",
    "import numpy as np\n",
    "import matplotlib.pyplot as plt\n",
    "import pandas as pd\n",
    "import pickle\n",
    "import joblib\n",
    "from tqdm import tqdm\n",
    "from sklearn.model_selection import train_test_split\n",
    "import tensorflow as tf\n",
    "from tensorflow import feature_column as fc\n",
    "from tensorflow.keras.models import Sequential\n",
    "from tensorflow.keras.layers import Dense\n",
    "from sklearn import preprocessing\n",
    "from sklearn.utils import shuffle\n",
    "from tensorflow.keras.models import save_model,load_model\n",
    "\n",
    "from utils.util import *\n",
    "from utils.preprocessing import *\n",
    "from utils.dataiter import Dataiter\n",
    "from utils.evaluate import calculate_ctr, compute_rce, average_precision_score\n",
    "from utils.target_encode import MTE_one_shot\n",
    "\n",
    "import tensorflow.keras.backend as K\n",
    "import core.config as conf"
   ]
  },
  {
   "cell_type": "markdown",
   "id": "c3d171de",
   "metadata": {},
   "source": [
    "## Load Data"
   ]
  },
  {
   "cell_type": "code",
   "execution_count": 2,
   "id": "4f454fd4",
   "metadata": {},
   "outputs": [],
   "source": [
    "\n",
    "path = f'{conf.dataset_mini_path}/test'\n",
    "test = read_data(path)\n"
   ]
  },
  {
   "cell_type": "code",
   "execution_count": 3,
   "id": "81f3202f",
   "metadata": {},
   "outputs": [],
   "source": [
    "TARGET = 'like'"
   ]
  },
  {
   "cell_type": "markdown",
   "id": "ea98fae6",
   "metadata": {},
   "source": [
    "## Preprocessing"
   ]
  },
  {
   "cell_type": "code",
   "execution_count": 4,
   "id": "ca5e067f",
   "metadata": {},
   "outputs": [],
   "source": [
    "def set_dataframe_types(df, train):\n",
    "    df['id']   = np.arange( df.shape[0] )\n",
    "    df['id']   = df['id'].astype(np.uint32)\n",
    "\n",
    "    if train:\n",
    "        df['reply_timestamp']   = df['reply_timestamp'].fillna(0)\n",
    "        df['retweet_timestamp'] = df['retweet_timestamp'].fillna(0)\n",
    "        df['comment_timestamp'] = df['comment_timestamp'].fillna(0)\n",
    "        df['like_timestamp']    = df['like_timestamp'].fillna(0)\n",
    "\n",
    "        df['reply_timestamp']   = df['reply_timestamp'].astype(np.uint32)\n",
    "        df['retweet_timestamp'] = df['retweet_timestamp'].astype(np.uint32)\n",
    "        df['comment_timestamp'] = df['comment_timestamp'].astype(np.uint32)\n",
    "        df['like_timestamp']    = df['like_timestamp'].astype(np.uint32)\n",
    "\n",
    "    df['tweet_timestamp']         = df['tweet_timestamp'].astype( np.uint32 )\n",
    "    df['creator_follower_count']  = df['creator_follower_count'].astype( np.uint32 )\n",
    "    df['creator_following_count'] = df['creator_following_count'].astype( np.uint32 )\n",
    "    df['creator_account_creation']= df['creator_account_creation'].astype( np.uint32 )\n",
    "    df['engager_follower_count']  = df['engager_follower_count'].astype( np.uint32 )\n",
    "    df['engager_following_count'] = df['engager_following_count'].astype( np.uint32 )\n",
    "    df['engager_account_creation']= df['engager_account_creation'].astype( np.uint32 )\n",
    "\n",
    "    return df\n",
    "\n",
    "\n",
    "\n",
    "def preprocess(df, target, train):\n",
    "    df = set_dataframe_types(df, train)\n",
    "    # df = df.set_index('id')\n",
    "    # df.columns = conf.raw_features + conf.labels\n",
    "    df = df.drop('text_tokens', axis=1)\n",
    "    \n",
    "    df = feature_extraction(df, features=conf.used_features, train=train) # extract 'used_features'\n",
    "    cols = []\n",
    "\n",
    "    return df"
   ]
  },
  {
   "cell_type": "code",
   "execution_count": 5,
   "id": "faee18ca",
   "metadata": {},
   "outputs": [],
   "source": [
    "test = preprocess(test, TARGET, True)"
   ]
  },
  {
   "cell_type": "markdown",
   "id": "a8b56733",
   "metadata": {},
   "source": [
    "### pickle matching"
   ]
  },
  {
   "cell_type": "markdown",
   "id": "9bb1587e",
   "metadata": {},
   "source": [
    "#### language"
   ]
  },
  {
   "cell_type": "code",
   "execution_count": 6,
   "id": "fa6fe4bc",
   "metadata": {},
   "outputs": [],
   "source": [
    "pickle_path = conf.pickle_data"
   ]
  },
  {
   "cell_type": "code",
   "execution_count": 7,
   "id": "c662927c",
   "metadata": {},
   "outputs": [],
   "source": [
    "user_main_language_path = pickle_path + \"user_main_language.pkl\"\n",
    "\n",
    "if os.path.exists(user_main_language_path) :\n",
    "    with open(user_main_language_path, 'rb') as f :\n",
    "        user_main_language = pickle.load(f)"
   ]
  },
  {
   "cell_type": "code",
   "execution_count": 8,
   "id": "0a24aca5",
   "metadata": {},
   "outputs": [],
   "source": [
    "language_dict_path = pickle_path + \"language_dict.pkl\"\n",
    "\n",
    "if os.path.exists(language_dict_path ) :\n",
    "    with open(language_dict_path , 'rb') as f :\n",
    "        language_dict = pickle.load(f)"
   ]
  },
  {
   "cell_type": "code",
   "execution_count": 9,
   "id": "c3a5de04",
   "metadata": {},
   "outputs": [],
   "source": [
    "\n",
    "test['language'] = test.apply(lambda x : language_dict[x['language']], axis = 1)\n"
   ]
  },
  {
   "cell_type": "code",
   "execution_count": 10,
   "id": "1f7371f4",
   "metadata": {},
   "outputs": [],
   "source": [
    "del language_dict"
   ]
  },
  {
   "cell_type": "code",
   "execution_count": 11,
   "id": "a4fe6e06",
   "metadata": {},
   "outputs": [],
   "source": [
    "\n",
    "test['creator_main_language'] = test['creator_id'].map(user_main_language)"
   ]
  },
  {
   "cell_type": "code",
   "execution_count": 12,
   "id": "d05a5326",
   "metadata": {},
   "outputs": [],
   "source": [
    "\n",
    "test['engager_main_language'] = test['engager_id'].map(user_main_language)"
   ]
  },
  {
   "cell_type": "code",
   "execution_count": 13,
   "id": "853f493e",
   "metadata": {},
   "outputs": [],
   "source": [
    "test['creator_and_engager_have_same_main_language'] = test.apply(lambda x : 1 if x['creator_main_language'] == x['engager_main_language'] else 0, axis = 1)"
   ]
  },
  {
   "cell_type": "code",
   "execution_count": 14,
   "id": "512fcf6b",
   "metadata": {},
   "outputs": [],
   "source": [
    "test['is_tweet_in_creator_main_language'] = test.apply(lambda x : 1 if x['creator_main_language'] == x['language'] else 0, axis = 1)"
   ]
  },
  {
   "cell_type": "code",
   "execution_count": 15,
   "id": "e198e706",
   "metadata": {},
   "outputs": [],
   "source": [
    "test['is_tweet_in_engager_main_language'] = test.apply(lambda x : 1 if x['engager_main_language'] == x['language'] else 0, axis = 1)"
   ]
  },
  {
   "cell_type": "code",
   "execution_count": 16,
   "id": "956ee916",
   "metadata": {},
   "outputs": [],
   "source": [
    "del user_main_language"
   ]
  },
  {
   "cell_type": "markdown",
   "id": "ed1d1017",
   "metadata": {},
   "source": []
  },
  {
   "cell_type": "markdown",
   "id": "2a935eee",
   "metadata": {},
   "source": [
    "#### engagements"
   ]
  },
  {
   "cell_type": "code",
   "execution_count": 17,
   "id": "13f67b51",
   "metadata": {},
   "outputs": [],
   "source": [
    "engagement_like_path = pickle_path + \"engagement-like.pkl\"\n",
    "\n",
    "if os.path.exists(engagement_like_path ) :\n",
    "    with open(engagement_like_path , 'rb') as f :\n",
    "        engagement_like = pickle.load(f)"
   ]
  },
  {
   "cell_type": "code",
   "execution_count": 18,
   "id": "2cf3d141",
   "metadata": {},
   "outputs": [],
   "source": [
    "test['engager_feature_number_of_previous_like_engagement'] = test.apply(lambda x : engagement_like[x['engager_id']], axis = 1)\n",
    "del engagement_like"
   ]
  },
  {
   "cell_type": "code",
   "execution_count": 19,
   "id": "607fc718",
   "metadata": {},
   "outputs": [],
   "source": [
    "engagement_reply_path = pickle_path + \"engagement-reply.pkl\"\n",
    "\n",
    "if os.path.exists(engagement_reply_path ) :\n",
    "    with open(engagement_reply_path , 'rb') as f :\n",
    "        engagement_reply = pickle.load(f)"
   ]
  },
  {
   "cell_type": "code",
   "execution_count": 20,
   "id": "97f54f18",
   "metadata": {},
   "outputs": [],
   "source": [
    "test['engager_feature_number_of_previous_reply_engagement'] = test.apply(lambda x : engagement_reply[x['engager_id']], axis = 1)\n",
    "del engagement_reply"
   ]
  },
  {
   "cell_type": "code",
   "execution_count": 21,
   "id": "c8334b47",
   "metadata": {},
   "outputs": [],
   "source": [
    "engagement_retweet_path = pickle_path + \"engagement-retweet.pkl\"\n",
    "\n",
    "if os.path.exists(engagement_retweet_path ) :\n",
    "    with open(engagement_retweet_path , 'rb') as f :\n",
    "        engagement_retweet = pickle.load(f)"
   ]
  },
  {
   "cell_type": "code",
   "execution_count": 22,
   "id": "f23be26b",
   "metadata": {},
   "outputs": [],
   "source": [
    "test['engager_feature_number_of_previous_retweet_engagement'] = test.apply(lambda x : engagement_retweet[x['engager_id']], axis = 1)\n",
    "del engagement_retweet"
   ]
  },
  {
   "cell_type": "code",
   "execution_count": 23,
   "id": "1226d884",
   "metadata": {},
   "outputs": [],
   "source": [
    "engagement_comment_path = pickle_path + \"engagement-comment.pkl\"\n",
    "\n",
    "if os.path.exists(engagement_comment_path ) :\n",
    "    with open(engagement_comment_path , 'rb') as f :\n",
    "        engagement_comment = pickle.load(f)"
   ]
  },
  {
   "cell_type": "code",
   "execution_count": 24,
   "id": "8939b924",
   "metadata": {},
   "outputs": [],
   "source": [
    "test['engager_feature_number_of_previous_comment_engagement'] = test.apply(lambda x : engagement_comment[x['engager_id']], axis = 1)\n",
    "del engagement_comment"
   ]
  },
  {
   "cell_type": "code",
   "execution_count": 25,
   "id": "bcec0011",
   "metadata": {},
   "outputs": [],
   "source": [
    "test['number_of_engagements_positive'] = test.apply(lambda x : x['engager_feature_number_of_previous_like_engagement'] + x['engager_feature_number_of_previous_retweet_engagement'] + x['engager_feature_number_of_previous_reply_engagement'] + x['engager_feature_number_of_previous_comment_engagement'], axis = 1)"
   ]
  },
  {
   "cell_type": "code",
   "execution_count": 26,
   "id": "62f40b81",
   "metadata": {},
   "outputs": [],
   "source": [
    "test[f'number_of_engagements_ratio_like'] = test.apply(lambda x : x[f'engager_feature_number_of_previous_like_engagement'] / x['number_of_engagements_positive'] if x['number_of_engagements_positive'] != 0 else 0, axis = 1)\n",
    "test[f'number_of_engagements_ratio_reply'] = test.apply(lambda x : x[f'engager_feature_number_of_previous_reply_engagement'] / x['number_of_engagements_positive'] if x['number_of_engagements_positive'] != 0 else 0, axis = 1)\n",
    "test[f'number_of_engagements_ratio_retweet'] = test.apply(lambda x : x[f'engager_feature_number_of_previous_retweet_engagement'] / x['number_of_engagements_positive'] if x['number_of_engagements_positive'] != 0 else 0, axis = 1)\n",
    "test[f'number_of_engagements_ratio_comment'] = test.apply(lambda x : x[f'engager_feature_number_of_previous_comment_engagement'] / x['number_of_engagements_positive'] if x['number_of_engagements_positive'] != 0 else 0, axis = 1)"
   ]
  },
  {
   "cell_type": "code",
   "execution_count": null,
   "id": "56416eb0",
   "metadata": {},
   "outputs": [],
   "source": []
  },
  {
   "cell_type": "markdown",
   "id": "2c864683",
   "metadata": {},
   "source": [
    "## Split"
   ]
  },
  {
   "cell_type": "code",
   "execution_count": 27,
   "id": "3c7ebb57",
   "metadata": {},
   "outputs": [],
   "source": [
    "label_names = ['reply', 'retweet', 'comment', 'like']\n",
    "DONT_USE = ['tweet_timestamp','creator_account_creation','engager_account_creation','engage_time',\n",
    "            'creator_account_creation', 'engager_account_creation',\n",
    "            'fold','tweet_id', \n",
    "            'tr','dt_day','','',\n",
    "            'engager_id','creator_id','engager_is_verified',\n",
    "            'elapsed_time',\n",
    "            'links','domains','hashtags0','hashtags1',\n",
    "            'hashtags','tweet_hash','dt_second','id',\n",
    "            'tw_hash0',\n",
    "            'tw_hash1',\n",
    "            'tw_rt_uhash',\n",
    "            'same_language', 'nan_language','language',\n",
    "            'tw_hash', 'tw_freq_hash','tw_first_word', 'tw_second_word', 'tw_last_word', 'tw_llast_word',\n",
    "            'ypred','creator_count_combined','creator_user_fer_count_delta_time','creator_user_fing_count_delta_time','creator_user_fering_count_delta_time','creator_user_fing_count_mode','creator_user_fer_count_mode','creator_user_fering_count_mode'\n",
    "           ]\n",
    "DONT_USE += label_names\n",
    "DONT_USE += conf.labels"
   ]
  },
  {
   "cell_type": "code",
   "execution_count": 28,
   "id": "44e7bd73",
   "metadata": {},
   "outputs": [],
   "source": [
    "RMV = [c for c in DONT_USE if c in test.columns]"
   ]
  },
  {
   "cell_type": "code",
   "execution_count": 29,
   "id": "613dbff2",
   "metadata": {},
   "outputs": [],
   "source": [
    "yt_test = test[label_names]\n",
    "Xt_test = test.drop(RMV, axis=1)\n",
    "del test"
   ]
  },
  {
   "cell_type": "markdown",
   "id": "cdd5cb4e",
   "metadata": {},
   "source": [
    "## Scaling"
   ]
  },
  {
   "cell_type": "code",
   "execution_count": 30,
   "id": "8726425f",
   "metadata": {},
   "outputs": [],
   "source": [
    "standard_scaler = pickle.load(open(conf.scaler_path + 'scaler.pkl', 'rb'))"
   ]
  },
  {
   "cell_type": "code",
   "execution_count": 31,
   "id": "937fbdf4",
   "metadata": {},
   "outputs": [],
   "source": [
    "Xt_test = Xt_test.reset_index(drop=True)"
   ]
  },
  {
   "cell_type": "code",
   "execution_count": 32,
   "id": "4eea05af",
   "metadata": {},
   "outputs": [],
   "source": [
    "scaling_columns = ['creator_following_count', 'creator_follower_count', 'engager_follower_count', \n",
    "                   'engager_following_count', 'dt_dow', 'dt_hour', 'len_domains', 'creator_main_language', 'engager_main_language',\n",
    "                   'engager_feature_number_of_previous_like_engagement',\n",
    "                   'engager_feature_number_of_previous_reply_engagement',\n",
    "                   'engager_feature_number_of_previous_retweet_engagement',\n",
    "                   'engager_feature_number_of_previous_comment_engagement',\n",
    "                   'number_of_engagements_positive']"
   ]
  },
  {
   "cell_type": "code",
   "execution_count": 33,
   "id": "96ca93df",
   "metadata": {},
   "outputs": [],
   "source": [
    "ss = standard_scaler.transform(Xt_test[scaling_columns])\n",
    "Xt_test[scaling_columns] = pd.DataFrame(ss, columns = scaling_columns)"
   ]
  },
  {
   "cell_type": "code",
   "execution_count": 34,
   "id": "abf59b53",
   "metadata": {},
   "outputs": [],
   "source": [
    "Xt_test = Xt_test.fillna(Xt_test.mean())"
   ]
  },
  {
   "cell_type": "markdown",
   "id": "c5809d22",
   "metadata": {},
   "source": [
    "## Modeling"
   ]
  },
  {
   "cell_type": "code",
   "execution_count": 37,
   "id": "3ed2613c",
   "metadata": {},
   "outputs": [],
   "source": [
    "from tensorflow import keras"
   ]
  },
  {
   "cell_type": "code",
   "execution_count": 60,
   "id": "184d0ce4",
   "metadata": {},
   "outputs": [],
   "source": [
    "model = model = keras.models.load_model(f'/hdd/models/ffnn_pkl/ffnn_all/ffnn--comment-130')"
   ]
  },
  {
   "cell_type": "code",
   "execution_count": 41,
   "id": "82a633eb",
   "metadata": {},
   "outputs": [
    {
     "data": {
      "text/html": [
       "<div>\n",
       "<style scoped>\n",
       "    .dataframe tbody tr th:only-of-type {\n",
       "        vertical-align: middle;\n",
       "    }\n",
       "\n",
       "    .dataframe tbody tr th {\n",
       "        vertical-align: top;\n",
       "    }\n",
       "\n",
       "    .dataframe thead th {\n",
       "        text-align: right;\n",
       "    }\n",
       "</style>\n",
       "<table border=\"1\" class=\"dataframe\">\n",
       "  <thead>\n",
       "    <tr style=\"text-align: right;\">\n",
       "      <th></th>\n",
       "      <th>tweet_type</th>\n",
       "      <th>creator_follower_count</th>\n",
       "      <th>creator_following_count</th>\n",
       "      <th>engager_follower_count</th>\n",
       "      <th>engager_following_count</th>\n",
       "      <th>media</th>\n",
       "      <th>dt_dow</th>\n",
       "      <th>dt_hour</th>\n",
       "      <th>len_domains</th>\n",
       "      <th>creator_main_language</th>\n",
       "      <th>...</th>\n",
       "      <th>is_tweet_in_engager_main_language</th>\n",
       "      <th>engager_feature_number_of_previous_like_engagement</th>\n",
       "      <th>engager_feature_number_of_previous_reply_engagement</th>\n",
       "      <th>engager_feature_number_of_previous_retweet_engagement</th>\n",
       "      <th>engager_feature_number_of_previous_comment_engagement</th>\n",
       "      <th>number_of_engagements_positive</th>\n",
       "      <th>number_of_engagements_ratio_like</th>\n",
       "      <th>number_of_engagements_ratio_reply</th>\n",
       "      <th>number_of_engagements_ratio_retweet</th>\n",
       "      <th>number_of_engagements_ratio_comment</th>\n",
       "    </tr>\n",
       "  </thead>\n",
       "  <tbody>\n",
       "    <tr>\n",
       "      <th>0</th>\n",
       "      <td>3</td>\n",
       "      <td>-0.162526</td>\n",
       "      <td>-0.082124</td>\n",
       "      <td>-0.076058</td>\n",
       "      <td>-0.379439</td>\n",
       "      <td>1</td>\n",
       "      <td>-0.983670</td>\n",
       "      <td>1.339368</td>\n",
       "      <td>2.577894</td>\n",
       "      <td>-0.557175</td>\n",
       "      <td>...</td>\n",
       "      <td>1</td>\n",
       "      <td>-0.348633</td>\n",
       "      <td>-0.247094</td>\n",
       "      <td>-0.217264</td>\n",
       "      <td>-0.166385</td>\n",
       "      <td>-0.381704</td>\n",
       "      <td>1.000000</td>\n",
       "      <td>0.000000</td>\n",
       "      <td>0.000000</td>\n",
       "      <td>0.000000</td>\n",
       "    </tr>\n",
       "    <tr>\n",
       "      <th>1</th>\n",
       "      <td>3</td>\n",
       "      <td>-0.167457</td>\n",
       "      <td>-0.093997</td>\n",
       "      <td>-0.002149</td>\n",
       "      <td>0.005615</td>\n",
       "      <td>1</td>\n",
       "      <td>-0.983670</td>\n",
       "      <td>1.191686</td>\n",
       "      <td>-0.338471</td>\n",
       "      <td>-0.226362</td>\n",
       "      <td>...</td>\n",
       "      <td>0</td>\n",
       "      <td>0.049752</td>\n",
       "      <td>-0.247094</td>\n",
       "      <td>-0.210600</td>\n",
       "      <td>-0.166385</td>\n",
       "      <td>-0.030256</td>\n",
       "      <td>0.994792</td>\n",
       "      <td>0.000000</td>\n",
       "      <td>0.005208</td>\n",
       "      <td>0.000000</td>\n",
       "    </tr>\n",
       "    <tr>\n",
       "      <th>2</th>\n",
       "      <td>3</td>\n",
       "      <td>-0.169131</td>\n",
       "      <td>-0.105358</td>\n",
       "      <td>-0.079302</td>\n",
       "      <td>-0.345956</td>\n",
       "      <td>0</td>\n",
       "      <td>-1.484162</td>\n",
       "      <td>0.305590</td>\n",
       "      <td>-0.338471</td>\n",
       "      <td>-0.722582</td>\n",
       "      <td>...</td>\n",
       "      <td>1</td>\n",
       "      <td>-0.366144</td>\n",
       "      <td>-0.247094</td>\n",
       "      <td>-0.217264</td>\n",
       "      <td>-0.166385</td>\n",
       "      <td>-0.397068</td>\n",
       "      <td>1.000000</td>\n",
       "      <td>0.000000</td>\n",
       "      <td>0.000000</td>\n",
       "      <td>0.000000</td>\n",
       "    </tr>\n",
       "    <tr>\n",
       "      <th>3</th>\n",
       "      <td>3</td>\n",
       "      <td>-0.163935</td>\n",
       "      <td>-0.107136</td>\n",
       "      <td>-0.077173</td>\n",
       "      <td>-0.333998</td>\n",
       "      <td>0</td>\n",
       "      <td>-1.484162</td>\n",
       "      <td>-1.318919</td>\n",
       "      <td>2.577894</td>\n",
       "      <td>0.269858</td>\n",
       "      <td>...</td>\n",
       "      <td>0</td>\n",
       "      <td>-0.363955</td>\n",
       "      <td>-0.247094</td>\n",
       "      <td>-0.217264</td>\n",
       "      <td>-0.166385</td>\n",
       "      <td>-0.395148</td>\n",
       "      <td>1.000000</td>\n",
       "      <td>0.000000</td>\n",
       "      <td>0.000000</td>\n",
       "      <td>0.000000</td>\n",
       "    </tr>\n",
       "    <tr>\n",
       "      <th>4</th>\n",
       "      <td>0</td>\n",
       "      <td>-0.168604</td>\n",
       "      <td>-0.035928</td>\n",
       "      <td>-0.034187</td>\n",
       "      <td>-0.048795</td>\n",
       "      <td>0</td>\n",
       "      <td>-0.983670</td>\n",
       "      <td>-1.466601</td>\n",
       "      <td>-0.338471</td>\n",
       "      <td>-0.557175</td>\n",
       "      <td>...</td>\n",
       "      <td>0</td>\n",
       "      <td>0.192033</td>\n",
       "      <td>0.760813</td>\n",
       "      <td>0.029269</td>\n",
       "      <td>1.509986</td>\n",
       "      <td>0.229009</td>\n",
       "      <td>0.782875</td>\n",
       "      <td>0.073394</td>\n",
       "      <td>0.113150</td>\n",
       "      <td>0.030581</td>\n",
       "    </tr>\n",
       "    <tr>\n",
       "      <th>...</th>\n",
       "      <td>...</td>\n",
       "      <td>...</td>\n",
       "      <td>...</td>\n",
       "      <td>...</td>\n",
       "      <td>...</td>\n",
       "      <td>...</td>\n",
       "      <td>...</td>\n",
       "      <td>...</td>\n",
       "      <td>...</td>\n",
       "      <td>...</td>\n",
       "      <td>...</td>\n",
       "      <td>...</td>\n",
       "      <td>...</td>\n",
       "      <td>...</td>\n",
       "      <td>...</td>\n",
       "      <td>...</td>\n",
       "      <td>...</td>\n",
       "      <td>...</td>\n",
       "      <td>...</td>\n",
       "      <td>...</td>\n",
       "      <td>...</td>\n",
       "    </tr>\n",
       "    <tr>\n",
       "      <th>876157</th>\n",
       "      <td>3</td>\n",
       "      <td>-0.167974</td>\n",
       "      <td>-0.013056</td>\n",
       "      <td>0.723553</td>\n",
       "      <td>0.798445</td>\n",
       "      <td>0</td>\n",
       "      <td>-1.484162</td>\n",
       "      <td>1.487051</td>\n",
       "      <td>-0.338471</td>\n",
       "      <td>2.089331</td>\n",
       "      <td>...</td>\n",
       "      <td>0</td>\n",
       "      <td>-0.315799</td>\n",
       "      <td>0.172867</td>\n",
       "      <td>-0.170622</td>\n",
       "      <td>-0.166385</td>\n",
       "      <td>-0.320249</td>\n",
       "      <td>0.585366</td>\n",
       "      <td>0.243902</td>\n",
       "      <td>0.170732</td>\n",
       "      <td>0.000000</td>\n",
       "    </tr>\n",
       "    <tr>\n",
       "      <th>876158</th>\n",
       "      <td>3</td>\n",
       "      <td>-0.138012</td>\n",
       "      <td>-0.099813</td>\n",
       "      <td>-0.038952</td>\n",
       "      <td>-0.186912</td>\n",
       "      <td>1</td>\n",
       "      <td>-0.983670</td>\n",
       "      <td>0.748638</td>\n",
       "      <td>-0.338471</td>\n",
       "      <td>-0.557175</td>\n",
       "      <td>...</td>\n",
       "      <td>1</td>\n",
       "      <td>-0.328932</td>\n",
       "      <td>-0.121105</td>\n",
       "      <td>-0.210600</td>\n",
       "      <td>-0.166385</td>\n",
       "      <td>-0.356738</td>\n",
       "      <td>0.818182</td>\n",
       "      <td>0.136364</td>\n",
       "      <td>0.045455</td>\n",
       "      <td>0.000000</td>\n",
       "    </tr>\n",
       "    <tr>\n",
       "      <th>876159</th>\n",
       "      <td>3</td>\n",
       "      <td>-0.000808</td>\n",
       "      <td>-0.106413</td>\n",
       "      <td>-0.041182</td>\n",
       "      <td>-0.134894</td>\n",
       "      <td>0</td>\n",
       "      <td>-0.983670</td>\n",
       "      <td>-0.432823</td>\n",
       "      <td>2.577894</td>\n",
       "      <td>-0.722582</td>\n",
       "      <td>...</td>\n",
       "      <td>1</td>\n",
       "      <td>-0.348633</td>\n",
       "      <td>-0.247094</td>\n",
       "      <td>-0.217264</td>\n",
       "      <td>-0.166385</td>\n",
       "      <td>-0.381704</td>\n",
       "      <td>1.000000</td>\n",
       "      <td>0.000000</td>\n",
       "      <td>0.000000</td>\n",
       "      <td>0.000000</td>\n",
       "    </tr>\n",
       "    <tr>\n",
       "      <th>876160</th>\n",
       "      <td>3</td>\n",
       "      <td>-0.169115</td>\n",
       "      <td>-0.109035</td>\n",
       "      <td>-0.076970</td>\n",
       "      <td>-0.270619</td>\n",
       "      <td>1</td>\n",
       "      <td>-1.484162</td>\n",
       "      <td>0.748638</td>\n",
       "      <td>2.577894</td>\n",
       "      <td>-0.391769</td>\n",
       "      <td>...</td>\n",
       "      <td>1</td>\n",
       "      <td>-0.368333</td>\n",
       "      <td>-0.247094</td>\n",
       "      <td>-0.217264</td>\n",
       "      <td>-0.166385</td>\n",
       "      <td>-0.398989</td>\n",
       "      <td>0.000000</td>\n",
       "      <td>0.000000</td>\n",
       "      <td>0.000000</td>\n",
       "      <td>0.000000</td>\n",
       "    </tr>\n",
       "    <tr>\n",
       "      <th>876161</th>\n",
       "      <td>0</td>\n",
       "      <td>-0.148896</td>\n",
       "      <td>-0.108311</td>\n",
       "      <td>-0.070380</td>\n",
       "      <td>-0.313071</td>\n",
       "      <td>1</td>\n",
       "      <td>-0.983670</td>\n",
       "      <td>0.010225</td>\n",
       "      <td>-0.338471</td>\n",
       "      <td>-0.722582</td>\n",
       "      <td>...</td>\n",
       "      <td>1</td>\n",
       "      <td>-0.313610</td>\n",
       "      <td>-0.247094</td>\n",
       "      <td>0.395737</td>\n",
       "      <td>0.168889</td>\n",
       "      <td>-0.170451</td>\n",
       "      <td>0.210084</td>\n",
       "      <td>0.000000</td>\n",
       "      <td>0.773109</td>\n",
       "      <td>0.016807</td>\n",
       "    </tr>\n",
       "  </tbody>\n",
       "</table>\n",
       "<p>876162 rows × 23 columns</p>\n",
       "</div>"
      ],
      "text/plain": [
       "        tweet_type  creator_follower_count  creator_following_count  \\\n",
       "0                3               -0.162526                -0.082124   \n",
       "1                3               -0.167457                -0.093997   \n",
       "2                3               -0.169131                -0.105358   \n",
       "3                3               -0.163935                -0.107136   \n",
       "4                0               -0.168604                -0.035928   \n",
       "...            ...                     ...                      ...   \n",
       "876157           3               -0.167974                -0.013056   \n",
       "876158           3               -0.138012                -0.099813   \n",
       "876159           3               -0.000808                -0.106413   \n",
       "876160           3               -0.169115                -0.109035   \n",
       "876161           0               -0.148896                -0.108311   \n",
       "\n",
       "        engager_follower_count  engager_following_count  media    dt_dow  \\\n",
       "0                    -0.076058                -0.379439      1 -0.983670   \n",
       "1                    -0.002149                 0.005615      1 -0.983670   \n",
       "2                    -0.079302                -0.345956      0 -1.484162   \n",
       "3                    -0.077173                -0.333998      0 -1.484162   \n",
       "4                    -0.034187                -0.048795      0 -0.983670   \n",
       "...                        ...                      ...    ...       ...   \n",
       "876157                0.723553                 0.798445      0 -1.484162   \n",
       "876158               -0.038952                -0.186912      1 -0.983670   \n",
       "876159               -0.041182                -0.134894      0 -0.983670   \n",
       "876160               -0.076970                -0.270619      1 -1.484162   \n",
       "876161               -0.070380                -0.313071      1 -0.983670   \n",
       "\n",
       "         dt_hour  len_domains  creator_main_language  ...  \\\n",
       "0       1.339368     2.577894              -0.557175  ...   \n",
       "1       1.191686    -0.338471              -0.226362  ...   \n",
       "2       0.305590    -0.338471              -0.722582  ...   \n",
       "3      -1.318919     2.577894               0.269858  ...   \n",
       "4      -1.466601    -0.338471              -0.557175  ...   \n",
       "...          ...          ...                    ...  ...   \n",
       "876157  1.487051    -0.338471               2.089331  ...   \n",
       "876158  0.748638    -0.338471              -0.557175  ...   \n",
       "876159 -0.432823     2.577894              -0.722582  ...   \n",
       "876160  0.748638     2.577894              -0.391769  ...   \n",
       "876161  0.010225    -0.338471              -0.722582  ...   \n",
       "\n",
       "        is_tweet_in_engager_main_language  \\\n",
       "0                                       1   \n",
       "1                                       0   \n",
       "2                                       1   \n",
       "3                                       0   \n",
       "4                                       0   \n",
       "...                                   ...   \n",
       "876157                                  0   \n",
       "876158                                  1   \n",
       "876159                                  1   \n",
       "876160                                  1   \n",
       "876161                                  1   \n",
       "\n",
       "        engager_feature_number_of_previous_like_engagement  \\\n",
       "0                                               -0.348633    \n",
       "1                                                0.049752    \n",
       "2                                               -0.366144    \n",
       "3                                               -0.363955    \n",
       "4                                                0.192033    \n",
       "...                                                   ...    \n",
       "876157                                          -0.315799    \n",
       "876158                                          -0.328932    \n",
       "876159                                          -0.348633    \n",
       "876160                                          -0.368333    \n",
       "876161                                          -0.313610    \n",
       "\n",
       "        engager_feature_number_of_previous_reply_engagement  \\\n",
       "0                                               -0.247094     \n",
       "1                                               -0.247094     \n",
       "2                                               -0.247094     \n",
       "3                                               -0.247094     \n",
       "4                                                0.760813     \n",
       "...                                                   ...     \n",
       "876157                                           0.172867     \n",
       "876158                                          -0.121105     \n",
       "876159                                          -0.247094     \n",
       "876160                                          -0.247094     \n",
       "876161                                          -0.247094     \n",
       "\n",
       "        engager_feature_number_of_previous_retweet_engagement  \\\n",
       "0                                               -0.217264       \n",
       "1                                               -0.210600       \n",
       "2                                               -0.217264       \n",
       "3                                               -0.217264       \n",
       "4                                                0.029269       \n",
       "...                                                   ...       \n",
       "876157                                          -0.170622       \n",
       "876158                                          -0.210600       \n",
       "876159                                          -0.217264       \n",
       "876160                                          -0.217264       \n",
       "876161                                           0.395737       \n",
       "\n",
       "        engager_feature_number_of_previous_comment_engagement  \\\n",
       "0                                               -0.166385       \n",
       "1                                               -0.166385       \n",
       "2                                               -0.166385       \n",
       "3                                               -0.166385       \n",
       "4                                                1.509986       \n",
       "...                                                   ...       \n",
       "876157                                          -0.166385       \n",
       "876158                                          -0.166385       \n",
       "876159                                          -0.166385       \n",
       "876160                                          -0.166385       \n",
       "876161                                           0.168889       \n",
       "\n",
       "        number_of_engagements_positive  number_of_engagements_ratio_like  \\\n",
       "0                            -0.381704                          1.000000   \n",
       "1                            -0.030256                          0.994792   \n",
       "2                            -0.397068                          1.000000   \n",
       "3                            -0.395148                          1.000000   \n",
       "4                             0.229009                          0.782875   \n",
       "...                                ...                               ...   \n",
       "876157                       -0.320249                          0.585366   \n",
       "876158                       -0.356738                          0.818182   \n",
       "876159                       -0.381704                          1.000000   \n",
       "876160                       -0.398989                          0.000000   \n",
       "876161                       -0.170451                          0.210084   \n",
       "\n",
       "        number_of_engagements_ratio_reply  \\\n",
       "0                                0.000000   \n",
       "1                                0.000000   \n",
       "2                                0.000000   \n",
       "3                                0.000000   \n",
       "4                                0.073394   \n",
       "...                                   ...   \n",
       "876157                           0.243902   \n",
       "876158                           0.136364   \n",
       "876159                           0.000000   \n",
       "876160                           0.000000   \n",
       "876161                           0.000000   \n",
       "\n",
       "        number_of_engagements_ratio_retweet  \\\n",
       "0                                  0.000000   \n",
       "1                                  0.005208   \n",
       "2                                  0.000000   \n",
       "3                                  0.000000   \n",
       "4                                  0.113150   \n",
       "...                                     ...   \n",
       "876157                             0.170732   \n",
       "876158                             0.045455   \n",
       "876159                             0.000000   \n",
       "876160                             0.000000   \n",
       "876161                             0.773109   \n",
       "\n",
       "        number_of_engagements_ratio_comment  \n",
       "0                                  0.000000  \n",
       "1                                  0.000000  \n",
       "2                                  0.000000  \n",
       "3                                  0.000000  \n",
       "4                                  0.030581  \n",
       "...                                     ...  \n",
       "876157                             0.000000  \n",
       "876158                             0.000000  \n",
       "876159                             0.000000  \n",
       "876160                             0.000000  \n",
       "876161                             0.016807  \n",
       "\n",
       "[876162 rows x 23 columns]"
      ]
     },
     "execution_count": 41,
     "metadata": {},
     "output_type": "execute_result"
    }
   ],
   "source": [
    "Xt_test"
   ]
  },
  {
   "cell_type": "code",
   "execution_count": 61,
   "id": "571fa6ad",
   "metadata": {},
   "outputs": [],
   "source": [
    "X_test = Xt_test.drop(conf.drop_features[2], axis = 1)"
   ]
  },
  {
   "cell_type": "code",
   "execution_count": 62,
   "id": "f1e6238e",
   "metadata": {},
   "outputs": [],
   "source": [
    "y_test = yt_test['comment']"
   ]
  },
  {
   "cell_type": "code",
   "execution_count": null,
   "id": "0e82372d",
   "metadata": {},
   "outputs": [],
   "source": []
  },
  {
   "cell_type": "markdown",
   "id": "d4d9941b",
   "metadata": {},
   "source": [
    "## Predict"
   ]
  },
  {
   "cell_type": "code",
   "execution_count": 63,
   "id": "dcbab2a9",
   "metadata": {},
   "outputs": [],
   "source": [
    "pred = model.predict(X_test)"
   ]
  },
  {
   "cell_type": "code",
   "execution_count": 64,
   "id": "4e88b826",
   "metadata": {},
   "outputs": [
    {
     "data": {
      "text/plain": [
       "24.91234911157657"
      ]
     },
     "execution_count": 64,
     "metadata": {},
     "output_type": "execute_result"
    }
   ],
   "source": [
    "rce = compute_rce(pred, y_test)\n",
    "rce"
   ]
  },
  {
   "cell_type": "code",
   "execution_count": 65,
   "id": "de0ff024",
   "metadata": {},
   "outputs": [
    {
     "data": {
      "text/plain": [
       "0.13745298017791904"
      ]
     },
     "execution_count": 65,
     "metadata": {},
     "output_type": "execute_result"
    }
   ],
   "source": [
    "average_precision_score(y_test, pred)"
   ]
  },
  {
   "cell_type": "code",
   "execution_count": null,
   "id": "8b1b3e7a",
   "metadata": {},
   "outputs": [],
   "source": []
  }
 ],
 "metadata": {
  "kernelspec": {
   "name": "python3710jvsc74a57bd0c4c1a3e9c3a39a0885e9d9bd6e4723f2ede522dfea9ed13682022cc292aed1ac",
   "display_name": "Python 3.7.10 64-bit ('dask-cudf': conda)"
  },
  "language_info": {
   "codemirror_mode": {
    "name": "ipython",
    "version": 3
   },
   "file_extension": ".py",
   "mimetype": "text/x-python",
   "name": "python",
   "nbconvert_exporter": "python",
   "pygments_lexer": "ipython3",
   "version": "3.7.10"
  }
 },
 "nbformat": 4,
 "nbformat_minor": 5
}
