{
 "metadata": {
  "language_info": {
   "codemirror_mode": {
    "name": "ipython",
    "version": 3
   },
   "file_extension": ".py",
   "mimetype": "text/x-python",
   "name": "python",
   "nbconvert_exporter": "python",
   "pygments_lexer": "ipython3",
   "version": "3.7.10"
  },
  "orig_nbformat": 2,
  "kernelspec": {
   "name": "python3710jvsc74a57bd0c4c1a3e9c3a39a0885e9d9bd6e4723f2ede522dfea9ed13682022cc292aed1ac",
   "display_name": "Python 3.7.10 64-bit ('dask-cudf': conda)"
  }
 },
 "nbformat": 4,
 "nbformat_minor": 2,
 "cells": [
  {
   "cell_type": "code",
   "execution_count": 1,
   "metadata": {},
   "outputs": [],
   "source": [
    "import os\n",
    "import sys\n",
    "sys.path.append('..')\n",
    "\n",
    "from utils.dataiter import Dataset\n",
    "from utils.preprocessing import *\n",
    "from models.baseline.random_model import random_prediction_model\n",
    "from models.model.FFNN_ALL import FFNN_ALL\n",
    "from core.config import raw_features\n",
    "from utils.evaluate import calculate_ctr, compute_rce, average_precision_score\n",
    "\n",
    "import core.config as conf\n",
    "from tqdm import tqdm"
   ]
  },
  {
   "source": [
    "## predict"
   ],
   "cell_type": "markdown",
   "metadata": {}
  },
  {
   "cell_type": "code",
   "execution_count": 6,
   "metadata": {},
   "outputs": [],
   "source": [
    "def evaluate_test_set():\n",
    "    path = '/hdd/twitter/raw_lzo/' # ./test\n",
    "    part_files = sorted([os.path.join(path, f) for f in os.listdir(path) if 'part' in f])[:3]\n",
    "    model_path = '/hdd/models/ffnn_pkl/'\n",
    "    ds = Dataset()\n",
    "    with open('../submission/results.csv', 'w') as output:\n",
    "        for file in tqdm(part_files):\n",
    "            test_df = read_data(file)\n",
    "            test_df_reply = ds.pickle_matching(ds.preprocess(test_df, TARGET_id=conf.REPLY), TARGET_id=conf.REPLY)\n",
    "            # test_df_retweet = ds.pickle_matching(ds.preprocess(test_df, TARGET_id=conf.RETWEET), TARGET_id=conf.RETWEET)\n",
    "            # test_df_comment = ds.pickle_matching(ds.preprocess(test_df, TARGET_id=conf.COMMNET), TARGET_id=conf.COMMNET)\n",
    "            # test_df_like = ds.pickle_matching(ds.preprocess(test_df, TARGET_id=conf.LIKE), TARGET_id=conf.LIKE)\n",
    "\n",
    "            pred_reply = FFNN_ALL(test_df_reply, conf.REPLY).predict(model_path) \n",
    "            # pred_retweet = FFNN_ALL(test_df_retweet, conf.RETWEET).predict(model_path) \n",
    "            # pred_comment = FFNN_ALL(test_df_comment, conf.COMMNET).predict(model_path) \n",
    "            # pred_like = FFNN_ALL(test_df_like, conf.LIKE).predict(model_path) \n",
    "\n",
    "            with open(file, 'r') as f:\n",
    "                for i, line in enumerate(f.readlines()):\n",
    "                    tweet_id, user_id, features = parse_input_line(line)\n",
    "                    reply_pred = pred_reply[i][0]\n",
    "                    print(reply_pred)\n",
    "                    # retweet_pred = pred_retweet[i][0]\n",
    "                    # quote_pred = pred_comment[i][0]\n",
    "                    # fav_pred = pred_like[i][0]\n",
    "                    # output.write(f'{tweet_id},{user_id},{reply_pred},{retweet_pred},{quote_pred},{fav_pred}\\n')\n",
    "\n",
    "            del test_df"
   ]
  },
  {
   "cell_type": "code",
   "execution_count": 7,
   "metadata": {},
   "outputs": [
    {
     "output_type": "stream",
     "name": "stderr",
     "text": [
      "  0%|          | 0/3 [00:00<?, ?it/s]"
     ]
    }
   ],
   "source": [
    "evaluate_test_set()"
   ]
  },
  {
   "cell_type": "code",
   "execution_count": 4,
   "metadata": {},
   "outputs": [],
   "source": [
    "a =['tweet_type', 'creator_follower_count', 'creator_following_count',\n",
    "       'engager_follower_count', 'engager_following_count', 'media', 'dt_dow',\n",
    "       'dt_hour', 'len_domains', 'creator_main_language',\n",
    "       'engager_main_language', 'creator_and_engager_have_same_main_language',\n",
    "       'is_tweet_in_creator_main_language',\n",
    "       'is_tweet_in_engager_main_language',\n",
    "       'engager_feature_number_of_previous_like_engagement',\n",
    "       'engager_feature_number_of_previous_reply_engagement',\n",
    "       'engager_feature_number_of_previous_retweet_engagement',\n",
    "       'engager_feature_number_of_previous_comment_engagement',\n",
    "       'number_of_engagements_positive', 'number_of_engagements_ratio_reply',\n",
    "       'number_of_engagements_ratio_like',\n",
    "       'number_of_engagements_ratio_retweet',\n",
    "       'number_of_engagements_ratio_comment']"
   ]
  },
  {
   "cell_type": "code",
   "execution_count": 5,
   "metadata": {},
   "outputs": [
    {
     "output_type": "execute_result",
     "data": {
      "text/plain": [
       "23"
      ]
     },
     "metadata": {},
     "execution_count": 5
    }
   ],
   "source": [
    "len(a)"
   ]
  },
  {
   "source": [
    "## evaluate"
   ],
   "cell_type": "markdown",
   "metadata": {}
  },
  {
   "cell_type": "code",
   "execution_count": null,
   "metadata": {},
   "outputs": [],
   "source": [
    "path = '/hdd/twitter/raw_lzo/part-00000'\n",
    "df = read_data(path)"
   ]
  },
  {
   "cell_type": "code",
   "execution_count": null,
   "metadata": {},
   "outputs": [],
   "source": [
    "df['reply_timestamp']   = df['reply_timestamp'].fillna(0)\n",
    "df['retweet_timestamp'] = df['retweet_timestamp'].fillna(0)\n",
    "df['comment_timestamp'] = df['comment_timestamp'].fillna(0)\n",
    "df['like_timestamp']    = df['like_timestamp'].fillna(0)\n",
    "\n",
    "df['reply_timestamp']   = df['reply_timestamp'].astype(np.uint32)\n",
    "df['retweet_timestamp'] = df['retweet_timestamp'].astype(np.uint32)\n",
    "df['comment_timestamp'] = df['comment_timestamp'].astype(np.uint32)\n",
    "df['like_timestamp']    = df['like_timestamp'].astype(np.uint32)\n",
    "\n",
    "df['reply'] = df['reply_timestamp'].apply(lambda x: 1 if x > 0 else 0).astype(np.int32)\n",
    "df['retweet'] = df['retweet_timestamp'].apply(lambda x: 1 if x > 0 else 0).astype(np.int32)\n",
    "df['comment'] = df['comment_timestamp'].apply(lambda x: 1 if x > 0 else 0).astype(np.int32)\n",
    "df['like'] = df['like_timestamp'].apply(lambda x: 1 if x > 0 else 0).astype(np.int32) "
   ]
  },
  {
   "cell_type": "code",
   "execution_count": null,
   "metadata": {},
   "outputs": [],
   "source": [
    "pred = pd.read_csv('../submission/results.csv', names=['tweet_id','user_id','reply_pred','retweet_pred','comment_pred','like_pred'])"
   ]
  },
  {
   "cell_type": "code",
   "execution_count": null,
   "metadata": {},
   "outputs": [],
   "source": [
    "reply_rce = compute_rce(pred['reply_pred'], labels['reply'])\n",
    "rewtwrce = compute_rce(pred['retweet_pred'], labels['retweet'])\n",
    "comment_rce = compute_rce(pred['comment_pred'], labels['comment'])\n",
    "retweet_rce = compute_rce(pred['retweet_pred'], labels['retweet'])\n",
    "print(reply_rce, rewtwrce, comment_rce, retweet_rce)"
   ]
  },
  {
   "cell_type": "code",
   "execution_count": null,
   "metadata": {},
   "outputs": [],
   "source": [
    "reply_ap = average_precision_score(labels['reply'], pred['reply_pred'])\n",
    "retweet_ap = average_precision_score(labels['retweet'], pred['retweet_pred'])\n",
    "comment_ap = average_precision_score(labels['comment'], pred['comment_pred'])\n",
    "retweet_ap = average_precision_score(labels['retweet'], pred['retweet_pred'])\n",
    "print(reply_ap, retweet_ap, comment_ap, retweet_ap)"
   ]
  }
 ]
}