{
 "metadata": {
  "language_info": {
   "codemirror_mode": {
    "name": "ipython",
    "version": 3
   },
   "file_extension": ".py",
   "mimetype": "text/x-python",
   "name": "python",
   "nbconvert_exporter": "python",
   "pygments_lexer": "ipython3",
   "version": "3.7.10"
  },
  "orig_nbformat": 2,
  "kernelspec": {
   "name": "python3710jvsc74a57bd0c4c1a3e9c3a39a0885e9d9bd6e4723f2ede522dfea9ed13682022cc292aed1ac",
   "display_name": "Python 3.7.10 64-bit ('dask-cudf': conda)"
  }
 },
 "nbformat": 4,
 "nbformat_minor": 2,
 "cells": [
  {
   "cell_type": "code",
   "execution_count": 1,
   "metadata": {},
   "outputs": [],
   "source": [
    "import os\n",
    "import sys\n",
    "sys.path.append('..')\n",
    "\n",
    "from utils.dataiter import Dataset\n",
    "from utils.preprocessing import *\n",
    "from models.baseline.random_model import random_prediction_model\n",
    "from models.model.FFNN_ALL import FFNN_ALL\n",
    "from core.config import raw_features\n",
    "from utils.evaluate import calculate_ctr, compute_rce, average_precision_score\n",
    "\n",
    "import core.config as conf\n",
    "from tqdm import tqdm"
   ]
  },
  {
   "source": [
    "## predict"
   ],
   "cell_type": "markdown",
   "metadata": {}
  },
  {
   "cell_type": "code",
   "execution_count": 5,
   "metadata": {},
   "outputs": [],
   "source": [
    "all_features_to_idx = dict(zip(raw_features, range(len(raw_features))))\n",
    "float_formatter = \"{:.15f}\".format\n",
    "\n",
    "def parse_input_line(line):\n",
    "    features = line.split(\"\\x01\")\n",
    "    tweet_id = features[all_features_to_idx['tweet_id']]\n",
    "    user_id = features[all_features_to_idx['engager_id']]\n",
    "    input_feats = features[all_features_to_idx['text_tokens']]\n",
    "    return tweet_id, user_id, input_feats\n",
    "\n"
   ]
  },
  {
   "cell_type": "code",
   "execution_count": 7,
   "metadata": {},
   "outputs": [],
   "source": [
    "def evaluate_test_set():\n",
    "    path = '/hdd/twitter/raw_lzo/' # ./test\n",
    "    part_files = sorted([os.path.join(path, f) for f in os.listdir(path) if 'part' in f])[:1]\n",
    "    model_path = '/hdd/models/ffnn_pkl/'\n",
    "    ds = Dataset()\n",
    "    with open('../submission/results.csv', 'w') as output:\n",
    "        for file in tqdm(part_files):\n",
    "            df = read_data(file)\n",
    "            df = ds.pickle_matching(ds.preprocess(df, TARGET_id=conf.REPLY))\n",
    "\n",
    "            pred_reply = FFNN_ALL(df, conf.REPLY).predict(model_path) \n",
    "            pred_retweet = FFNN_ALL(df, conf.RETWEET).predict(model_path) \n",
    "            pred_comment = FFNN_ALL(df, conf.COMMNET).predict(model_path) \n",
    "            pred_like = FFNN_ALL(df, conf.LIKE).predict(model_path) \n",
    "\n",
    "            with open(file, 'r') as f:\n",
    "                for i, line in enumerate(f.readlines()):\n",
    "                    tweet_id, user_id, features = parse_input_line(line)\n",
    "                    reply_pred = pred_reply[i][0]\n",
    "                    retweet_pred = pred_retweet[i][0]\n",
    "                    quote_pred = pred_comment[i][0]\n",
    "                    fav_pred = pred_like[i][0]\n",
    "                    output.write(f'{tweet_id},{user_id},{reply_pred},{retweet_pred},{quote_pred},{fav_pred}\\n')\n",
    "\n",
    "            del df"
   ]
  },
  {
   "cell_type": "code",
   "execution_count": 8,
   "metadata": {},
   "outputs": [
    {
     "output_type": "stream",
     "name": "stderr",
     "text": [
      "  0%|          | 0/1 [00:00<?, ?it/s]['reply', 'retweet', 'comment', 'like'] 0\n",
      "Index(['tweet_type', 'creator_follower_count', 'creator_following_count',\n",
      "       'engager_follower_count', 'engager_following_count', 'media', 'dt_dow',\n",
      "       'dt_hour', 'len_domains', 'creator_main_language',\n",
      "       'engager_main_language', 'creator_and_engager_have_same_main_language',\n",
      "       'is_tweet_in_creator_main_language',\n",
      "       'is_tweet_in_engager_main_language',\n",
      "       'engager_feature_number_of_previous_like_engagement',\n",
      "       'engager_feature_number_of_previous_reply_engagement',\n",
      "       'engager_feature_number_of_previous_retweet_engagement',\n",
      "       'engager_feature_number_of_previous_comment_engagement',\n",
      "       'number_of_engagements_positive', 'number_of_engagements_ratio_reply',\n",
      "       'number_of_engagements_ratio_like',\n",
      "       'number_of_engagements_ratio_retweet',\n",
      "       'number_of_engagements_ratio_comment'],\n",
      "      dtype='object')\n",
      "Index(['tweet_type', 'creator_follower_count', 'creator_following_count',\n",
      "       'engager_follower_count', 'engager_following_count', 'media', 'dt_dow',\n",
      "       'dt_hour', 'len_domains', 'creator_main_language',\n",
      "       'engager_main_language', 'creator_and_engager_have_same_main_language',\n",
      "       'is_tweet_in_creator_main_language',\n",
      "       'is_tweet_in_engager_main_language',\n",
      "       'engager_feature_number_of_previous_reply_engagement',\n",
      "       'number_of_engagements_positive', 'number_of_engagements_ratio_reply'],\n",
      "      dtype='object')\n",
      "['reply', 'retweet', 'comment', 'like'] 1\n",
      "Index(['tweet_type', 'creator_follower_count', 'creator_following_count',\n",
      "       'engager_follower_count', 'engager_following_count', 'media', 'dt_dow',\n",
      "       'dt_hour', 'len_domains', 'creator_main_language',\n",
      "       'engager_main_language', 'creator_and_engager_have_same_main_language',\n",
      "       'is_tweet_in_creator_main_language',\n",
      "       'is_tweet_in_engager_main_language',\n",
      "       'engager_feature_number_of_previous_like_engagement',\n",
      "       'engager_feature_number_of_previous_reply_engagement',\n",
      "       'engager_feature_number_of_previous_retweet_engagement',\n",
      "       'engager_feature_number_of_previous_comment_engagement',\n",
      "       'number_of_engagements_positive', 'number_of_engagements_ratio_reply',\n",
      "       'number_of_engagements_ratio_like',\n",
      "       'number_of_engagements_ratio_retweet',\n",
      "       'number_of_engagements_ratio_comment'],\n",
      "      dtype='object')\n",
      "Index(['tweet_type', 'creator_follower_count', 'creator_following_count',\n",
      "       'engager_follower_count', 'engager_following_count', 'media', 'dt_dow',\n",
      "       'dt_hour', 'len_domains', 'creator_main_language',\n",
      "       'engager_main_language', 'creator_and_engager_have_same_main_language',\n",
      "       'is_tweet_in_creator_main_language',\n",
      "       'is_tweet_in_engager_main_language',\n",
      "       'engager_feature_number_of_previous_retweet_engagement',\n",
      "       'number_of_engagements_positive',\n",
      "       'number_of_engagements_ratio_retweet'],\n",
      "      dtype='object')\n",
      "['reply', 'retweet', 'comment', 'like'] 2\n",
      "Index(['tweet_type', 'creator_follower_count', 'creator_following_count',\n",
      "       'engager_follower_count', 'engager_following_count', 'media', 'dt_dow',\n",
      "       'dt_hour', 'len_domains', 'creator_main_language',\n",
      "       'engager_main_language', 'creator_and_engager_have_same_main_language',\n",
      "       'is_tweet_in_creator_main_language',\n",
      "       'is_tweet_in_engager_main_language',\n",
      "       'engager_feature_number_of_previous_like_engagement',\n",
      "       'engager_feature_number_of_previous_reply_engagement',\n",
      "       'engager_feature_number_of_previous_retweet_engagement',\n",
      "       'engager_feature_number_of_previous_comment_engagement',\n",
      "       'number_of_engagements_positive', 'number_of_engagements_ratio_reply',\n",
      "       'number_of_engagements_ratio_like',\n",
      "       'number_of_engagements_ratio_retweet',\n",
      "       'number_of_engagements_ratio_comment'],\n",
      "      dtype='object')\n",
      "Index(['tweet_type', 'creator_follower_count', 'creator_following_count',\n",
      "       'engager_follower_count', 'engager_following_count', 'media', 'dt_dow',\n",
      "       'dt_hour', 'len_domains', 'creator_main_language',\n",
      "       'engager_main_language', 'creator_and_engager_have_same_main_language',\n",
      "       'is_tweet_in_creator_main_language',\n",
      "       'is_tweet_in_engager_main_language',\n",
      "       'engager_feature_number_of_previous_comment_engagement',\n",
      "       'number_of_engagements_positive',\n",
      "       'number_of_engagements_ratio_comment'],\n",
      "      dtype='object')\n",
      "['reply', 'retweet', 'comment', 'like'] 3\n",
      "Index(['tweet_type', 'creator_follower_count', 'creator_following_count',\n",
      "       'engager_follower_count', 'engager_following_count', 'media', 'dt_dow',\n",
      "       'dt_hour', 'len_domains', 'creator_main_language',\n",
      "       'engager_main_language', 'creator_and_engager_have_same_main_language',\n",
      "       'is_tweet_in_creator_main_language',\n",
      "       'is_tweet_in_engager_main_language',\n",
      "       'engager_feature_number_of_previous_like_engagement',\n",
      "       'engager_feature_number_of_previous_reply_engagement',\n",
      "       'engager_feature_number_of_previous_retweet_engagement',\n",
      "       'engager_feature_number_of_previous_comment_engagement',\n",
      "       'number_of_engagements_positive', 'number_of_engagements_ratio_reply',\n",
      "       'number_of_engagements_ratio_like',\n",
      "       'number_of_engagements_ratio_retweet',\n",
      "       'number_of_engagements_ratio_comment'],\n",
      "      dtype='object')\n",
      "Index(['tweet_type', 'creator_follower_count', 'creator_following_count',\n",
      "       'engager_follower_count', 'engager_following_count', 'media', 'dt_dow',\n",
      "       'dt_hour', 'len_domains', 'creator_main_language',\n",
      "       'engager_main_language', 'creator_and_engager_have_same_main_language',\n",
      "       'is_tweet_in_creator_main_language',\n",
      "       'is_tweet_in_engager_main_language',\n",
      "       'engager_feature_number_of_previous_like_engagement',\n",
      "       'number_of_engagements_positive', 'number_of_engagements_ratio_like'],\n",
      "      dtype='object')\n",
      "  0%|          | 0/1 [06:31<?, ?it/s]\n"
     ]
    },
    {
     "output_type": "error",
     "ename": "UnboundLocalError",
     "evalue": "local variable 'test_df' referenced before assignment",
     "traceback": [
      "\u001b[0;31m---------------------------------------------------------------------------\u001b[0m",
      "\u001b[0;31mUnboundLocalError\u001b[0m                         Traceback (most recent call last)",
      "\u001b[0;32m<ipython-input-8-3bdffab38b3c>\u001b[0m in \u001b[0;36m<module>\u001b[0;34m\u001b[0m\n\u001b[0;32m----> 1\u001b[0;31m \u001b[0mevaluate_test_set\u001b[0m\u001b[0;34m(\u001b[0m\u001b[0;34m)\u001b[0m\u001b[0;34m\u001b[0m\u001b[0;34m\u001b[0m\u001b[0m\n\u001b[0m",
      "\u001b[0;32m<ipython-input-7-c0786e850725>\u001b[0m in \u001b[0;36mevaluate_test_set\u001b[0;34m()\u001b[0m\n\u001b[1;32m     23\u001b[0m                     \u001b[0moutput\u001b[0m\u001b[0;34m.\u001b[0m\u001b[0mwrite\u001b[0m\u001b[0;34m(\u001b[0m\u001b[0;34mf'{tweet_id},{user_id},{reply_pred},{retweet_pred},{quote_pred},{fav_pred}\\n'\u001b[0m\u001b[0;34m)\u001b[0m\u001b[0;34m\u001b[0m\u001b[0;34m\u001b[0m\u001b[0m\n\u001b[1;32m     24\u001b[0m \u001b[0;34m\u001b[0m\u001b[0m\n\u001b[0;32m---> 25\u001b[0;31m             \u001b[0;32mdel\u001b[0m \u001b[0mtest_df\u001b[0m\u001b[0;34m\u001b[0m\u001b[0;34m\u001b[0m\u001b[0m\n\u001b[0m",
      "\u001b[0;31mUnboundLocalError\u001b[0m: local variable 'test_df' referenced before assignment"
     ]
    }
   ],
   "source": [
    "evaluate_test_set()"
   ]
  },
  {
   "source": [
    "## evaluate"
   ],
   "cell_type": "markdown",
   "metadata": {}
  },
  {
   "cell_type": "code",
   "execution_count": 9,
   "metadata": {},
   "outputs": [],
   "source": [
    "path = '/hdd/twitter/raw_lzo/part-00000'\n",
    "df = read_data(path)"
   ]
  },
  {
   "cell_type": "code",
   "execution_count": 10,
   "metadata": {},
   "outputs": [],
   "source": [
    "df['reply_timestamp']   = df['reply_timestamp'].fillna(0)\n",
    "df['retweet_timestamp'] = df['retweet_timestamp'].fillna(0)\n",
    "df['comment_timestamp'] = df['comment_timestamp'].fillna(0)\n",
    "df['like_timestamp']    = df['like_timestamp'].fillna(0)\n",
    "\n",
    "df['reply_timestamp']   = df['reply_timestamp'].astype(np.uint32)\n",
    "df['retweet_timestamp'] = df['retweet_timestamp'].astype(np.uint32)\n",
    "df['comment_timestamp'] = df['comment_timestamp'].astype(np.uint32)\n",
    "df['like_timestamp']    = df['like_timestamp'].astype(np.uint32)\n",
    "\n",
    "df['reply'] = df['reply_timestamp'].apply(lambda x: 1 if x > 0 else 0).astype(np.int32)\n",
    "df['retweet'] = df['retweet_timestamp'].apply(lambda x: 1 if x > 0 else 0).astype(np.int32)\n",
    "df['comment'] = df['comment_timestamp'].apply(lambda x: 1 if x > 0 else 0).astype(np.int32)\n",
    "df['like'] = df['like_timestamp'].apply(lambda x: 1 if x > 0 else 0).astype(np.int32) "
   ]
  },
  {
   "cell_type": "code",
   "execution_count": 11,
   "metadata": {},
   "outputs": [
    {
     "output_type": "execute_result",
     "data": {
      "text/plain": [
       "3033902"
      ]
     },
     "metadata": {},
     "execution_count": 11
    }
   ],
   "source": [
    "len(df)"
   ]
  },
  {
   "cell_type": "code",
   "execution_count": 12,
   "metadata": {},
   "outputs": [],
   "source": [
    "pred = pd.read_csv('../submission/results.csv', names=['tweet_id','user_id','reply_pred','retweet_pred','comment_pred','like_pred'])"
   ]
  },
  {
   "cell_type": "code",
   "execution_count": 19,
   "metadata": {},
   "outputs": [
    {
     "output_type": "execute_result",
     "data": {
      "text/plain": [
       "                                 tweet_id                           user_id  \\\n",
       "0        5DCE3020423313CB0AC2631DEF94D2F5  2AEB7AFFD36CA43C0C963F24F75BCCAC   \n",
       "1        2B6F5C7C4F04F34543C09DD6E58C8F66  865C52D28FA84E5E233B530C6FDAECC2   \n",
       "2        784D3AE5E6429392245BD34FF4C82B5C  FE83E568BD4B2ACDBAF876CFBB6C7296   \n",
       "3        CA49ACBB31921F2A0FAC1CCCC99541F6  DB0201BF93E4CCA1B55932AC36923E43   \n",
       "4        2C95B42C651B36D84584F3653D722142  04F45C4A769FE2D7C792A96C92342DC2   \n",
       "...                                   ...                               ...   \n",
       "3033897  25B1D557E6B6D7298CA3888C72F9F7B5  AB51B05ACD422823A8567E51D106FBCF   \n",
       "3033898  3A656480D09FCCBA39B0E28FBFA64B72  2F0B0497A2C1F6DBF120782E915B1F63   \n",
       "3033899  E236B2359B119B2A7668FA83AC5E750B  5FFAD564CE93396A11C7951AA07D019E   \n",
       "3033900  B42CB5B47ABCCA8700686CD8F32696B6  1C3C0C32D7AEBCA253DC54EC85084951   \n",
       "3033901  0A3692BBC4209238759F79D392C225C8  F1383136D37D9DE0A8EF9C6DB973DCC1   \n",
       "\n",
       "         reply_pred  retweet_pred  comment_pred  like_pred  \n",
       "0          0.007657      0.011848      0.004873   0.426737  \n",
       "1          0.004492      0.005496      0.001447   0.185085  \n",
       "2          0.001964      0.001596      0.002433   0.188151  \n",
       "3          0.000268      0.052560      0.002369   0.082924  \n",
       "4          0.064634      0.008082      0.001255   0.604457  \n",
       "...             ...           ...           ...        ...  \n",
       "3033897    0.009160      0.004641      0.000891   0.197317  \n",
       "3033898    0.066106      0.267093      0.001955   0.454401  \n",
       "3033899    0.014096      0.136655      0.001153   0.069924  \n",
       "3033900    0.000563      0.006479      0.001396   0.497590  \n",
       "3033901    0.000822      0.115899      0.000878   0.172158  \n",
       "\n",
       "[3033902 rows x 6 columns]"
      ],
      "text/html": "<div>\n<style scoped>\n    .dataframe tbody tr th:only-of-type {\n        vertical-align: middle;\n    }\n\n    .dataframe tbody tr th {\n        vertical-align: top;\n    }\n\n    .dataframe thead th {\n        text-align: right;\n    }\n</style>\n<table border=\"1\" class=\"dataframe\">\n  <thead>\n    <tr style=\"text-align: right;\">\n      <th></th>\n      <th>tweet_id</th>\n      <th>user_id</th>\n      <th>reply_pred</th>\n      <th>retweet_pred</th>\n      <th>comment_pred</th>\n      <th>like_pred</th>\n    </tr>\n  </thead>\n  <tbody>\n    <tr>\n      <th>0</th>\n      <td>5DCE3020423313CB0AC2631DEF94D2F5</td>\n      <td>2AEB7AFFD36CA43C0C963F24F75BCCAC</td>\n      <td>0.007657</td>\n      <td>0.011848</td>\n      <td>0.004873</td>\n      <td>0.426737</td>\n    </tr>\n    <tr>\n      <th>1</th>\n      <td>2B6F5C7C4F04F34543C09DD6E58C8F66</td>\n      <td>865C52D28FA84E5E233B530C6FDAECC2</td>\n      <td>0.004492</td>\n      <td>0.005496</td>\n      <td>0.001447</td>\n      <td>0.185085</td>\n    </tr>\n    <tr>\n      <th>2</th>\n      <td>784D3AE5E6429392245BD34FF4C82B5C</td>\n      <td>FE83E568BD4B2ACDBAF876CFBB6C7296</td>\n      <td>0.001964</td>\n      <td>0.001596</td>\n      <td>0.002433</td>\n      <td>0.188151</td>\n    </tr>\n    <tr>\n      <th>3</th>\n      <td>CA49ACBB31921F2A0FAC1CCCC99541F6</td>\n      <td>DB0201BF93E4CCA1B55932AC36923E43</td>\n      <td>0.000268</td>\n      <td>0.052560</td>\n      <td>0.002369</td>\n      <td>0.082924</td>\n    </tr>\n    <tr>\n      <th>4</th>\n      <td>2C95B42C651B36D84584F3653D722142</td>\n      <td>04F45C4A769FE2D7C792A96C92342DC2</td>\n      <td>0.064634</td>\n      <td>0.008082</td>\n      <td>0.001255</td>\n      <td>0.604457</td>\n    </tr>\n    <tr>\n      <th>...</th>\n      <td>...</td>\n      <td>...</td>\n      <td>...</td>\n      <td>...</td>\n      <td>...</td>\n      <td>...</td>\n    </tr>\n    <tr>\n      <th>3033897</th>\n      <td>25B1D557E6B6D7298CA3888C72F9F7B5</td>\n      <td>AB51B05ACD422823A8567E51D106FBCF</td>\n      <td>0.009160</td>\n      <td>0.004641</td>\n      <td>0.000891</td>\n      <td>0.197317</td>\n    </tr>\n    <tr>\n      <th>3033898</th>\n      <td>3A656480D09FCCBA39B0E28FBFA64B72</td>\n      <td>2F0B0497A2C1F6DBF120782E915B1F63</td>\n      <td>0.066106</td>\n      <td>0.267093</td>\n      <td>0.001955</td>\n      <td>0.454401</td>\n    </tr>\n    <tr>\n      <th>3033899</th>\n      <td>E236B2359B119B2A7668FA83AC5E750B</td>\n      <td>5FFAD564CE93396A11C7951AA07D019E</td>\n      <td>0.014096</td>\n      <td>0.136655</td>\n      <td>0.001153</td>\n      <td>0.069924</td>\n    </tr>\n    <tr>\n      <th>3033900</th>\n      <td>B42CB5B47ABCCA8700686CD8F32696B6</td>\n      <td>1C3C0C32D7AEBCA253DC54EC85084951</td>\n      <td>0.000563</td>\n      <td>0.006479</td>\n      <td>0.001396</td>\n      <td>0.497590</td>\n    </tr>\n    <tr>\n      <th>3033901</th>\n      <td>0A3692BBC4209238759F79D392C225C8</td>\n      <td>F1383136D37D9DE0A8EF9C6DB973DCC1</td>\n      <td>0.000822</td>\n      <td>0.115899</td>\n      <td>0.000878</td>\n      <td>0.172158</td>\n    </tr>\n  </tbody>\n</table>\n<p>3033902 rows × 6 columns</p>\n</div>"
     },
     "metadata": {},
     "execution_count": 19
    }
   ],
   "source": [
    "pred"
   ]
  },
  {
   "cell_type": "code",
   "execution_count": 13,
   "metadata": {},
   "outputs": [
    {
     "output_type": "execute_result",
     "data": {
      "text/plain": [
       "3033902"
      ]
     },
     "metadata": {},
     "execution_count": 13
    }
   ],
   "source": [
    "len(pred)"
   ]
  },
  {
   "cell_type": "code",
   "execution_count": 20,
   "metadata": {},
   "outputs": [
    {
     "output_type": "stream",
     "name": "stdout",
     "text": [
      "33.69630837148914 14.853137648769966 24.577383676693533 28.64781669035882\n"
     ]
    }
   ],
   "source": [
    "reply_rce = compute_rce(pred['reply_pred'], df['reply'])\n",
    "like_rce = compute_rce(pred['like_pred'], df['like'])\n",
    "comment_rce = compute_rce(pred['comment_pred'], df['comment'])\n",
    "retweet_rce = compute_rce(pred['retweet_pred'], df['retweet'])\n",
    "print(reply_rce, like_rce, comment_rce, retweet_rce)"
   ]
  },
  {
   "cell_type": "code",
   "execution_count": 22,
   "metadata": {},
   "outputs": [
    {
     "output_type": "stream",
     "name": "stdout",
     "text": [
      "0.33898011139657563 0.6428957690094725 0.13560077317089178 0.4173661119936234\n"
     ]
    }
   ],
   "source": [
    "reply_ap = average_precision_score(df['reply'], pred['reply_pred'])\n",
    "like_ap = average_precision_score(df['like'], pred['like_pred'])\n",
    "comment_ap = average_precision_score(df['comment'], pred['comment_pred'])\n",
    "retweet_ap = average_precision_score(df['retweet'], pred['retweet_pred'])\n",
    "print(reply_ap, like_ap, comment_ap, retweet_ap)"
   ]
  },
  {
   "cell_type": "code",
   "execution_count": null,
   "metadata": {},
   "outputs": [],
   "source": []
  }
 ]
}