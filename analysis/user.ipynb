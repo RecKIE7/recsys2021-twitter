{
 "metadata": {
  "language_info": {
   "codemirror_mode": {
    "name": "ipython",
    "version": 3
   },
   "file_extension": ".py",
   "mimetype": "text/x-python",
   "name": "python",
   "nbconvert_exporter": "python",
   "pygments_lexer": "ipython3",
   "version": "3.7.10-final"
  },
  "orig_nbformat": 2,
  "kernelspec": {
   "name": "dask-cudf",
   "display_name": "dask-cudf",
   "language": "python"
  }
 },
 "nbformat": 4,
 "nbformat_minor": 2,
 "cells": [
  {
   "cell_type": "code",
   "execution_count": 2,
   "metadata": {},
   "outputs": [
    {
     "output_type": "stream",
     "name": "stderr",
     "text": [
      "/home/hyez/anaconda3/envs/dask-cudf/lib/python3.7/site-packages/distributed/node.py:155: UserWarning: Port 8787 is already in use.\nPerhaps you already have a cluster running?\nHosting the HTTP server on port 36763 instead\n  http_address[\"port\"], self.http_server.port\n"
     ]
    }
   ],
   "source": [
    "import sys\n",
    "sys.path.append('..')\n",
    "\n",
    "import numpy as np\n",
    "import matplotlib.pyplot as plt\n",
    "from datetime import datetime\n",
    "\n",
    "from utils.cuda_cluster import *\n",
    "from utils.dataset import read_data, factorize_small_cardinality\n",
    "from utils.util import get_day_phase, get_hours_from_midnight_of_current_day\n",
    "\n",
    "import core.config as conf"
   ]
  },
  {
   "cell_type": "code",
   "execution_count": 3,
   "metadata": {},
   "outputs": [
    {
     "output_type": "execute_result",
     "data": {
      "text/plain": [
       "<Client: 'tcp://127.0.0.1:41465' processes=1 threads=1, memory=33.47 GB>"
      ],
      "text/html": "<table style=\"border: 2px solid white;\">\n<tr>\n<td style=\"vertical-align: top; border: 0px solid white\">\n<h3 style=\"text-align: left;\">Client</h3>\n<ul style=\"text-align: left; list-style: none; margin: 0; padding: 0;\">\n  <li><b>Scheduler: </b>tcp://127.0.0.1:41465</li>\n  <li><b>Dashboard: </b><a href='http://127.0.0.1:36763/status' target='_blank'>http://127.0.0.1:36763/status</a></li>\n</ul>\n</td>\n<td style=\"vertical-align: top; border: 0px solid white\">\n<h3 style=\"text-align: left;\">Cluster</h3>\n<ul style=\"text-align: left; list-style:none; margin: 0; padding: 0;\">\n  <li><b>Workers: </b>1</li>\n  <li><b>Cores: </b>1</li>\n  <li><b>Memory: </b>33.47 GB</li>\n</ul>\n</td>\n</tr>\n</table>"
     },
     "metadata": {},
     "execution_count": 3
    }
   ],
   "source": [
    "client"
   ]
  },
  {
   "source": [
    "## 1. Load data"
   ],
   "cell_type": "markdown",
   "metadata": {}
  },
  {
   "cell_type": "code",
   "execution_count": 4,
   "metadata": {},
   "outputs": [
    {
     "output_type": "stream",
     "name": "stdout",
     "text": [
      "number of rows: 3033347\n"
     ]
    }
   ],
   "source": [
    "# data_path = conf.raw_data_path + '*' # for all dadtaset\n",
    "data_path = conf.raw_data_path + 'part-00175'\n",
    "ori_df = read_data(data_path)"
   ]
  },
  {
   "cell_type": "code",
   "execution_count": 4,
   "metadata": {},
   "outputs": [],
   "source": []
  },
  {
   "cell_type": "code",
   "execution_count": 5,
   "metadata": {},
   "outputs": [],
   "source": [
    "total_users = dask_cudf.concat([ori_df[\"engaged_with_user_id\"], ori_df[\"enaging_user_id\"]]).unique().compute()\n",
    "ori_df, _ = factorize_small_cardinality(ori_df, 'tweet_id')\n",
    "ori_df, _ = factorize_small_cardinality(ori_df, 'engaged_with_user_id', total_users, True)\n",
    "ori_df, _ = factorize_small_cardinality(ori_df, 'enaging_user_id', total_users, True)\n",
    "    "
   ]
  },
  {
   "cell_type": "code",
   "execution_count": 6,
   "metadata": {},
   "outputs": [],
   "source": [
    "df = ori_df[[\"tweet_id_encode\", \"engaged_with_user_id_encode\", \"enaging_user_id_encode\"]]\n",
    "df['tweet_id_encode'] = df['tweet_id_encode'].astype(np.int32)\n",
    "df['engaged_with_user_id_encode'] = df['engaged_with_user_id_encode'].astype(np.int32)\n",
    "df['enaging_user_id_encode'] = df['enaging_user_id_encode'].astype(np.int32)"
   ]
  },
  {
   "cell_type": "code",
   "execution_count": 7,
   "metadata": {},
   "outputs": [
    {
     "output_type": "execute_result",
     "data": {
      "text/plain": [
       "    tweet_id_encode  engaged_with_user_id_encode  enaging_user_id_encode\n",
       "id                                                                      \n",
       "1           2214622                      2586120                  893844\n",
       "2           2136815                      3355961                 3173376\n",
       "3           1986297                      1233947                  951213\n",
       "4             35685                      3063535                 2013995\n",
       "5           1465500                      2280964                 3018294"
      ],
      "text/html": "<div>\n<style scoped>\n    .dataframe tbody tr th:only-of-type {\n        vertical-align: middle;\n    }\n\n    .dataframe tbody tr th {\n        vertical-align: top;\n    }\n\n    .dataframe thead th {\n        text-align: right;\n    }\n</style>\n<table border=\"1\" class=\"dataframe\">\n  <thead>\n    <tr style=\"text-align: right;\">\n      <th></th>\n      <th>tweet_id_encode</th>\n      <th>engaged_with_user_id_encode</th>\n      <th>enaging_user_id_encode</th>\n    </tr>\n    <tr>\n      <th>id</th>\n      <th></th>\n      <th></th>\n      <th></th>\n    </tr>\n  </thead>\n  <tbody>\n    <tr>\n      <th>1</th>\n      <td>2214622</td>\n      <td>2586120</td>\n      <td>893844</td>\n    </tr>\n    <tr>\n      <th>2</th>\n      <td>2136815</td>\n      <td>3355961</td>\n      <td>3173376</td>\n    </tr>\n    <tr>\n      <th>3</th>\n      <td>1986297</td>\n      <td>1233947</td>\n      <td>951213</td>\n    </tr>\n    <tr>\n      <th>4</th>\n      <td>35685</td>\n      <td>3063535</td>\n      <td>2013995</td>\n    </tr>\n    <tr>\n      <th>5</th>\n      <td>1465500</td>\n      <td>2280964</td>\n      <td>3018294</td>\n    </tr>\n  </tbody>\n</table>\n</div>"
     },
     "metadata": {},
     "execution_count": 7
    }
   ],
   "source": [
    "df.head()"
   ]
  },
  {
   "cell_type": "code",
   "execution_count": 8,
   "metadata": {},
   "outputs": [
    {
     "output_type": "execute_result",
     "data": {
      "text/plain": [
       "<dask_cudf.DataFrame | 176 tasks | 16 npartitions>"
      ],
      "text/html": "<div><strong>Dask DataFrame Structure:</strong></div>\n<div>\n<style scoped>\n    .dataframe tbody tr th:only-of-type {\n        vertical-align: middle;\n    }\n\n    .dataframe tbody tr th {\n        vertical-align: top;\n    }\n\n    .dataframe thead th {\n        text-align: right;\n    }\n</style>\n<table border=\"1\" class=\"dataframe\">\n  <thead>\n    <tr style=\"text-align: right;\">\n      <th></th>\n      <th>tweet_id_encode</th>\n      <th>engaged_with_user_id_encode</th>\n      <th>enaging_user_id_encode</th>\n    </tr>\n    <tr>\n      <th>npartitions=16</th>\n      <th></th>\n      <th></th>\n      <th></th>\n    </tr>\n  </thead>\n  <tbody>\n    <tr>\n      <th>1</th>\n      <td>int32</td>\n      <td>int32</td>\n      <td>int32</td>\n    </tr>\n    <tr>\n      <th>273141</th>\n      <td>...</td>\n      <td>...</td>\n      <td>...</td>\n    </tr>\n    <tr>\n      <th>...</th>\n      <td>...</td>\n      <td>...</td>\n      <td>...</td>\n    </tr>\n    <tr>\n      <th>2983130</th>\n      <td>...</td>\n      <td>...</td>\n      <td>...</td>\n    </tr>\n    <tr>\n      <th>3033347</th>\n      <td>...</td>\n      <td>...</td>\n      <td>...</td>\n    </tr>\n  </tbody>\n</table>\n</div>\n<div>Dask Name: assign, 176 tasks</div>"
     },
     "metadata": {},
     "execution_count": 8
    }
   ],
   "source": [
    "df"
   ]
  },
  {
   "source": [
    "## 2. Number of unique users, creators and engagers\n"
   ],
   "cell_type": "markdown",
   "metadata": {}
  },
  {
   "cell_type": "code",
   "execution_count": 9,
   "metadata": {},
   "outputs": [
    {
     "output_type": "stream",
     "name": "stdout",
     "text": [
      "[      4      10      14 ... 3511081 3511084 3511089]\n[      0       1       2 ... 3511086 3511087 3511088]\n"
     ]
    }
   ],
   "source": [
    "unique_creators = df['engaged_with_user_id_encode'].unique().compute().to_array()\n",
    "unique_engagers = df['enaging_user_id_encode'].unique().compute().to_array()\n",
    "print(unique_creators)\n",
    "print(unique_engagers)"
   ]
  },
  {
   "cell_type": "code",
   "execution_count": 10,
   "metadata": {},
   "outputs": [
    {
     "output_type": "stream",
     "name": "stdout",
     "text": [
      "[      0       1       2 ... 3511087 3511088 3511089]\n"
     ]
    }
   ],
   "source": [
    "unique_users = np.unique(np.append(unique_creators, unique_engagers))\n",
    "print(unique_users)"
   ]
  },
  {
   "source": [
    "## 3. Check the number of users that are both creators and engagers in our train set\n"
   ],
   "cell_type": "markdown",
   "metadata": {}
  },
  {
   "cell_type": "code",
   "execution_count": 11,
   "metadata": {},
   "outputs": [
    {
     "output_type": "stream",
     "name": "stdout",
     "text": [
      "[2621442 1572869 2621449 ... 1572853  524279 2097148]\n"
     ]
    }
   ],
   "source": [
    "unique_creator_engager = np.array(list(set(unique_creators) & set(unique_engagers)))\n",
    "print(unique_creator_engager)"
   ]
  },
  {
   "cell_type": "code",
   "execution_count": 12,
   "metadata": {},
   "outputs": [
    {
     "output_type": "stream",
     "name": "stdout",
     "text": [
      "Unique creators are: 1558866\nUnique engagers are: 2175376\nUnique users are: 3511090\nUnique users that are both engager and creator: 223152\n"
     ]
    }
   ],
   "source": [
    "print(f\"Unique creators are: {len(unique_creators):n}\")\n",
    "print(f\"Unique engagers are: {len(unique_engagers):n}\")\n",
    "print(f\"Unique users are: {len(unique_users):n}\")\n",
    "print(f\"Unique users that are both engager and creator: {len(unique_creator_engager):n}\")"
   ]
  },
  {
   "source": [
    "## 4. Count the number of engagements per engager\n"
   ],
   "cell_type": "markdown",
   "metadata": {}
  },
  {
   "cell_type": "code",
   "execution_count": 24,
   "metadata": {},
   "outputs": [],
   "source": [
    "cols = [\n",
    "    'reply_timestamp', \n",
    "    'retweet_timestamp',\n",
    "    'retweet_with_comment_timestamp', \n",
    "    'like_timestamp'\n",
    "]\n",
    "df[cols] = ori_df[cols]"
   ]
  },
  {
   "cell_type": "code",
   "execution_count": 25,
   "metadata": {},
   "outputs": [],
   "source": [
    "df['is_reply'] = df['reply_timestamp'].compute().applymap(lambda x: 1 if x > 0 else 0).astype(np.int32)\n",
    "df['is_retweet'] = df['retweet_timestamp'].compute().applymap(lambda x: 1 if x > 0 else 0).astype(np.int32)\n",
    "df['is_comment'] = df['retweet_with_comment_timestamp'].compute().applymap(lambda x: 1 if x > 0 else 0).astype(np.int32)\n",
    "df['is_like'] = df['like_timestamp'].compute().applymap(lambda x: 1 if x > 0 else 0).astype(np.int32)\n",
    "\n",
    "df['is_positive'] = df[['is_like', 'is_retweet', 'is_reply', 'is_comment']].sum(axis=1).astype(np.uint8)\n",
    "df['is_negative'] =  df['is_positive'].compute().applymap(lambda x: 1 if x == 0 else 0).astype(np.int32)\n",
    "\n",
    "df = df.drop('reply_timestamp', axis=1)\n",
    "df = df.drop('retweet_timestamp', axis=1)\n",
    "df = df.drop('retweet_with_comment_timestamp', axis=1)\n",
    "df = df.drop('like_timestamp', axis=1)\n"
   ]
  },
  {
   "cell_type": "code",
   "execution_count": 29,
   "metadata": {},
   "outputs": [],
   "source": [
    "aggregate_result = df.groupby('enaging_user_id_encode').sum().compute()"
   ]
  },
  {
   "source": [
    "## 5. How many likes, reply, comment and retweet does an engager have?\n"
   ],
   "cell_type": "markdown",
   "metadata": {}
  },
  {
   "cell_type": "code",
   "execution_count": 30,
   "metadata": {},
   "outputs": [
    {
     "output_type": "execute_result",
     "data": {
      "text/plain": [
       "                        tweet_id_encode  engaged_with_user_id_encode  \\\n",
       "enaging_user_id_encode                                                 \n",
       "698016                           198979                      1153486   \n",
       "1989231                         1353721                      2574002   \n",
       "45523                            511863                      2491617   \n",
       "851357                           638951                      2296516   \n",
       "3038852                         6478313                      6880702   \n",
       "...                                 ...                          ...   \n",
       "895030                          1727997                      2876389   \n",
       "3308801                         2422492                      3101224   \n",
       "607002                          2802821                      1911860   \n",
       "1628293                         2650369                      7236833   \n",
       "2406520                         2615162                      1302065   \n",
       "\n",
       "                        is_reply  is_retweet  is_comment  is_like  \\\n",
       "enaging_user_id_encode                                              \n",
       "698016                         0           0           0        0   \n",
       "1989231                        0           0           0        0   \n",
       "45523                          0           0           0        0   \n",
       "851357                         0           0           0        1   \n",
       "3038852                        0           0           0        2   \n",
       "...                          ...         ...         ...      ...   \n",
       "895030                         0           0           0        1   \n",
       "3308801                        0           2           0        0   \n",
       "607002                         0           0           0        2   \n",
       "1628293                        0           0           0        1   \n",
       "2406520                        0           0           0        1   \n",
       "\n",
       "                        is_positive  is_negative  \n",
       "enaging_user_id_encode                            \n",
       "698016                            0            1  \n",
       "1989231                           0            1  \n",
       "45523                             0            1  \n",
       "851357                            1            0  \n",
       "3038852                           2            1  \n",
       "...                             ...          ...  \n",
       "895030                            1            0  \n",
       "3308801                           2            0  \n",
       "607002                            2            0  \n",
       "1628293                           1            2  \n",
       "2406520                           1            0  \n",
       "\n",
       "[2175376 rows x 8 columns]"
      ],
      "text/html": "<div>\n<style scoped>\n    .dataframe tbody tr th:only-of-type {\n        vertical-align: middle;\n    }\n\n    .dataframe tbody tr th {\n        vertical-align: top;\n    }\n\n    .dataframe thead th {\n        text-align: right;\n    }\n</style>\n<table border=\"1\" class=\"dataframe\">\n  <thead>\n    <tr style=\"text-align: right;\">\n      <th></th>\n      <th>tweet_id_encode</th>\n      <th>engaged_with_user_id_encode</th>\n      <th>is_reply</th>\n      <th>is_retweet</th>\n      <th>is_comment</th>\n      <th>is_like</th>\n      <th>is_positive</th>\n      <th>is_negative</th>\n    </tr>\n    <tr>\n      <th>enaging_user_id_encode</th>\n      <th></th>\n      <th></th>\n      <th></th>\n      <th></th>\n      <th></th>\n      <th></th>\n      <th></th>\n      <th></th>\n    </tr>\n  </thead>\n  <tbody>\n    <tr>\n      <th>698016</th>\n      <td>198979</td>\n      <td>1153486</td>\n      <td>0</td>\n      <td>0</td>\n      <td>0</td>\n      <td>0</td>\n      <td>0</td>\n      <td>1</td>\n    </tr>\n    <tr>\n      <th>1989231</th>\n      <td>1353721</td>\n      <td>2574002</td>\n      <td>0</td>\n      <td>0</td>\n      <td>0</td>\n      <td>0</td>\n      <td>0</td>\n      <td>1</td>\n    </tr>\n    <tr>\n      <th>45523</th>\n      <td>511863</td>\n      <td>2491617</td>\n      <td>0</td>\n      <td>0</td>\n      <td>0</td>\n      <td>0</td>\n      <td>0</td>\n      <td>1</td>\n    </tr>\n    <tr>\n      <th>851357</th>\n      <td>638951</td>\n      <td>2296516</td>\n      <td>0</td>\n      <td>0</td>\n      <td>0</td>\n      <td>1</td>\n      <td>1</td>\n      <td>0</td>\n    </tr>\n    <tr>\n      <th>3038852</th>\n      <td>6478313</td>\n      <td>6880702</td>\n      <td>0</td>\n      <td>0</td>\n      <td>0</td>\n      <td>2</td>\n      <td>2</td>\n      <td>1</td>\n    </tr>\n    <tr>\n      <th>...</th>\n      <td>...</td>\n      <td>...</td>\n      <td>...</td>\n      <td>...</td>\n      <td>...</td>\n      <td>...</td>\n      <td>...</td>\n      <td>...</td>\n    </tr>\n    <tr>\n      <th>895030</th>\n      <td>1727997</td>\n      <td>2876389</td>\n      <td>0</td>\n      <td>0</td>\n      <td>0</td>\n      <td>1</td>\n      <td>1</td>\n      <td>0</td>\n    </tr>\n    <tr>\n      <th>3308801</th>\n      <td>2422492</td>\n      <td>3101224</td>\n      <td>0</td>\n      <td>2</td>\n      <td>0</td>\n      <td>0</td>\n      <td>2</td>\n      <td>0</td>\n    </tr>\n    <tr>\n      <th>607002</th>\n      <td>2802821</td>\n      <td>1911860</td>\n      <td>0</td>\n      <td>0</td>\n      <td>0</td>\n      <td>2</td>\n      <td>2</td>\n      <td>0</td>\n    </tr>\n    <tr>\n      <th>1628293</th>\n      <td>2650369</td>\n      <td>7236833</td>\n      <td>0</td>\n      <td>0</td>\n      <td>0</td>\n      <td>1</td>\n      <td>1</td>\n      <td>2</td>\n    </tr>\n    <tr>\n      <th>2406520</th>\n      <td>2615162</td>\n      <td>1302065</td>\n      <td>0</td>\n      <td>0</td>\n      <td>0</td>\n      <td>1</td>\n      <td>1</td>\n      <td>0</td>\n    </tr>\n  </tbody>\n</table>\n<p>2175376 rows × 8 columns</p>\n</div>"
     },
     "metadata": {},
     "execution_count": 30
    }
   ],
   "source": [
    "aggregate_result"
   ]
  },
  {
   "cell_type": "code",
   "execution_count": null,
   "metadata": {},
   "outputs": [],
   "source": []
  }
 ]
}