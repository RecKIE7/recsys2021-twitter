{
 "cells": [
  {
   "cell_type": "code",
   "execution_count": 1,
   "id": "1df832cd",
   "metadata": {},
   "outputs": [
    {
     "name": "stderr",
     "output_type": "stream",
     "text": [
      "/home/nyongja/anaconda3/envs/dask/lib/python3.7/site-packages/distributed/node.py:155: UserWarning: Port 8787 is already in use.\n",
      "Perhaps you already have a cluster running?\n",
      "Hosting the HTTP server on port 37563 instead\n",
      "  http_address[\"port\"], self.http_server.port\n"
     ]
    }
   ],
   "source": [
    "import sys\n",
    "sys.path.append('..')\n",
    "\n",
    "import numpy as np\n",
    "import pandas as pd\n",
    "\n",
    "import matplotlib.pyplot as plt\n",
    "from tqdm import tqdm\n",
    "\n",
    "from utils.cuda_cluster import *\n",
    "from utils.dataset import read_data, factorize_small_cardinality_with_index\n",
    "\n",
    "import core.config as conf"
   ]
  },
  {
   "cell_type": "code",
   "execution_count": 2,
   "id": "e05b852e",
   "metadata": {},
   "outputs": [],
   "source": [
    "from datetime import datetime\n",
    "import time\n",
    "import pytz"
   ]
  },
  {
   "cell_type": "code",
   "execution_count": 3,
   "id": "9bf3c944",
   "metadata": {},
   "outputs": [
    {
     "data": {
      "text/html": [
       "<table style=\"border: 2px solid white;\">\n",
       "<tr>\n",
       "<td style=\"vertical-align: top; border: 0px solid white\">\n",
       "<h3 style=\"text-align: left;\">Client</h3>\n",
       "<ul style=\"text-align: left; list-style: none; margin: 0; padding: 0;\">\n",
       "  <li><b>Scheduler: </b>tcp://127.0.0.1:38011</li>\n",
       "  <li><b>Dashboard: </b><a href='http://127.0.0.1:37563/status' target='_blank'>http://127.0.0.1:37563/status</a></li>\n",
       "</ul>\n",
       "</td>\n",
       "<td style=\"vertical-align: top; border: 0px solid white\">\n",
       "<h3 style=\"text-align: left;\">Cluster</h3>\n",
       "<ul style=\"text-align: left; list-style:none; margin: 0; padding: 0;\">\n",
       "  <li><b>Workers: </b>1</li>\n",
       "  <li><b>Cores: </b>1</li>\n",
       "  <li><b>Memory: </b>33.47 GB</li>\n",
       "</ul>\n",
       "</td>\n",
       "</tr>\n",
       "</table>"
      ],
      "text/plain": [
       "<Client: 'tcp://127.0.0.1:38011' processes=1 threads=1, memory=33.47 GB>"
      ]
     },
     "execution_count": 3,
     "metadata": {},
     "output_type": "execute_result"
    }
   ],
   "source": [
    "client"
   ]
  },
  {
   "cell_type": "code",
   "execution_count": 4,
   "id": "798bbcef",
   "metadata": {},
   "outputs": [],
   "source": [
    "NP = 16\n",
    "# data_path = conf.raw_data_path + '*' # for all dataset\n",
    "data_path = conf.raw_data_path + 'part-00175'\n",
    "ori_df = read_data(data_path)"
   ]
  },
  {
   "cell_type": "code",
   "execution_count": 5,
   "id": "1144ed40",
   "metadata": {},
   "outputs": [
    {
     "data": {
      "text/html": [
       "<div>\n",
       "<style scoped>\n",
       "    .dataframe tbody tr th:only-of-type {\n",
       "        vertical-align: middle;\n",
       "    }\n",
       "\n",
       "    .dataframe tbody tr th {\n",
       "        vertical-align: top;\n",
       "    }\n",
       "\n",
       "    .dataframe thead th {\n",
       "        text-align: right;\n",
       "    }\n",
       "</style>\n",
       "<table border=\"1\" class=\"dataframe\">\n",
       "  <thead>\n",
       "    <tr style=\"text-align: right;\">\n",
       "      <th></th>\n",
       "      <th>tweet_id</th>\n",
       "      <th>engaged_with_user_id</th>\n",
       "      <th>enaging_user_id</th>\n",
       "      <th>tweet_timestamp</th>\n",
       "      <th>like_timestamp</th>\n",
       "      <th>retweet_timestamp</th>\n",
       "      <th>reply_timestamp</th>\n",
       "      <th>retweet_with_comment_timestamp</th>\n",
       "      <th>language</th>\n",
       "      <th>engagee_follows_engager</th>\n",
       "    </tr>\n",
       "    <tr>\n",
       "      <th>id</th>\n",
       "      <th></th>\n",
       "      <th></th>\n",
       "      <th></th>\n",
       "      <th></th>\n",
       "      <th></th>\n",
       "      <th></th>\n",
       "      <th></th>\n",
       "      <th></th>\n",
       "      <th></th>\n",
       "      <th></th>\n",
       "    </tr>\n",
       "  </thead>\n",
       "  <tbody>\n",
       "    <tr>\n",
       "      <th>1</th>\n",
       "      <td>C8F345CF8BC7A86E34572072ECFBBEC4</td>\n",
       "      <td>BC99C936FE4C2A1FDB0CD09295CAA53C</td>\n",
       "      <td>411C3FA9B6AB5CA95192D875CDC22823</td>\n",
       "      <td>1612993854</td>\n",
       "      <td>1613048460</td>\n",
       "      <td>0</td>\n",
       "      <td>0</td>\n",
       "      <td>0</td>\n",
       "      <td>B8B04128918BBF54E2E178BFF1ABA833</td>\n",
       "      <td>True</td>\n",
       "    </tr>\n",
       "    <tr>\n",
       "      <th>2</th>\n",
       "      <td>C1E31636C343B780BA776E4B73147028</td>\n",
       "      <td>F4ADB8DEADF1980D0B5C2B796C108F78</td>\n",
       "      <td>E764026AB0E38A5C2FF19921D73B6C18</td>\n",
       "      <td>1612886900</td>\n",
       "      <td>0</td>\n",
       "      <td>0</td>\n",
       "      <td>0</td>\n",
       "      <td>0</td>\n",
       "      <td>9FCF19233EAD65EA6E32C2E6DC03A444</td>\n",
       "      <td>False</td>\n",
       "    </tr>\n",
       "    <tr>\n",
       "      <th>3</th>\n",
       "      <td>B436C84E80C2430BA9DE41FDF04C73BF</td>\n",
       "      <td>59EBFE44ABE4C5E31528340304F529C3</td>\n",
       "      <td>455134BAAD3EAC4093393EC233FBAEF9</td>\n",
       "      <td>1614019237</td>\n",
       "      <td>0</td>\n",
       "      <td>0</td>\n",
       "      <td>1614019431</td>\n",
       "      <td>0</td>\n",
       "      <td>B0FA488F2911701DD8EC5B1EA5E322D8</td>\n",
       "      <td>True</td>\n",
       "    </tr>\n",
       "    <tr>\n",
       "      <th>4</th>\n",
       "      <td>033FFA42C8AD502057AE96C8B4B812BE</td>\n",
       "      <td>DF6A02AB1731A91FA46A2259F398F57B</td>\n",
       "      <td>92D70497B86CAFBA5C51E331084462AD</td>\n",
       "      <td>1612779567</td>\n",
       "      <td>1612780118</td>\n",
       "      <td>0</td>\n",
       "      <td>0</td>\n",
       "      <td>0</td>\n",
       "      <td>1F73BB863A39DB62B4A55B7E558DB1E8</td>\n",
       "      <td>True</td>\n",
       "    </tr>\n",
       "    <tr>\n",
       "      <th>5</th>\n",
       "      <td>84F2E902BA3CF3B34B8D056F6F78D488</td>\n",
       "      <td>A656845C3239DB662CFD45D64F2B94F5</td>\n",
       "      <td>DC1C8A9412B9E266A4C3D4CAF6DB06CB</td>\n",
       "      <td>1613822114</td>\n",
       "      <td>0</td>\n",
       "      <td>0</td>\n",
       "      <td>0</td>\n",
       "      <td>0</td>\n",
       "      <td>E7F038DE3EAD397AEC9193686C911677</td>\n",
       "      <td>True</td>\n",
       "    </tr>\n",
       "  </tbody>\n",
       "</table>\n",
       "</div>"
      ],
      "text/plain": [
       "                            tweet_id              engaged_with_user_id  \\\n",
       "id                                                                       \n",
       "1   C8F345CF8BC7A86E34572072ECFBBEC4  BC99C936FE4C2A1FDB0CD09295CAA53C   \n",
       "2   C1E31636C343B780BA776E4B73147028  F4ADB8DEADF1980D0B5C2B796C108F78   \n",
       "3   B436C84E80C2430BA9DE41FDF04C73BF  59EBFE44ABE4C5E31528340304F529C3   \n",
       "4   033FFA42C8AD502057AE96C8B4B812BE  DF6A02AB1731A91FA46A2259F398F57B   \n",
       "5   84F2E902BA3CF3B34B8D056F6F78D488  A656845C3239DB662CFD45D64F2B94F5   \n",
       "\n",
       "                     enaging_user_id  tweet_timestamp  like_timestamp  \\\n",
       "id                                                                      \n",
       "1   411C3FA9B6AB5CA95192D875CDC22823       1612993854      1613048460   \n",
       "2   E764026AB0E38A5C2FF19921D73B6C18       1612886900               0   \n",
       "3   455134BAAD3EAC4093393EC233FBAEF9       1614019237               0   \n",
       "4   92D70497B86CAFBA5C51E331084462AD       1612779567      1612780118   \n",
       "5   DC1C8A9412B9E266A4C3D4CAF6DB06CB       1613822114               0   \n",
       "\n",
       "    retweet_timestamp  reply_timestamp  retweet_with_comment_timestamp  \\\n",
       "id                                                                       \n",
       "1                   0                0                               0   \n",
       "2                   0                0                               0   \n",
       "3                   0       1614019431                               0   \n",
       "4                   0                0                               0   \n",
       "5                   0                0                               0   \n",
       "\n",
       "                            language  engagee_follows_engager  \n",
       "id                                                             \n",
       "1   B8B04128918BBF54E2E178BFF1ABA833                     True  \n",
       "2   9FCF19233EAD65EA6E32C2E6DC03A444                    False  \n",
       "3   B0FA488F2911701DD8EC5B1EA5E322D8                     True  \n",
       "4   1F73BB863A39DB62B4A55B7E558DB1E8                     True  \n",
       "5   E7F038DE3EAD397AEC9193686C911677                     True  "
      ]
     },
     "execution_count": 5,
     "metadata": {},
     "output_type": "execute_result"
    }
   ],
   "source": [
    "columns = ['tweet_id',\n",
    "           'engaged_with_user_id',\n",
    "           'enaging_user_id',\n",
    "           'tweet_timestamp',\n",
    "           'like_timestamp',\n",
    "           'retweet_timestamp',\n",
    "           'reply_timestamp',\n",
    "           'retweet_with_comment_timestamp',\n",
    "           'language',\n",
    "           'engagee_follows_engager']\n",
    "df = ori_df[columns]\n",
    "df.head()"
   ]
  },
  {
   "cell_type": "code",
   "execution_count": 6,
   "id": "08429222",
   "metadata": {},
   "outputs": [],
   "source": [
    "lang_df = df[[\"tweet_timestamp\", \"like_timestamp\", \"retweet_timestamp\", \"reply_timestamp\", \"retweet_with_comment_timestamp\", \"language\"]]"
   ]
  },
  {
   "cell_type": "code",
   "execution_count": 7,
   "id": "72aff839",
   "metadata": {},
   "outputs": [],
   "source": [
    "kor_df = lang_df[lang_df[\"language\"]==\"8729EBF694C3DAF61208A209C2A542C8\"]\n",
    "eng_df = lang_df[lang_df['language']==\"488B32D24BD4BB44172EB981C1BCA6FA\"]\n",
    "jap_df = lang_df[lang_df['language']==\"E7F038DE3EAD397AEC9193686C911677\"]"
   ]
  },
  {
   "cell_type": "code",
   "execution_count": 8,
   "id": "f55951dd",
   "metadata": {},
   "outputs": [
    {
     "name": "stdout",
     "output_type": "stream",
     "text": [
      "0    00304D7356D6C64481190D708D8F739C\n",
      "1    0BB2C843174730BA7D958C98B763A797\n",
      "2    105008E45831ADE8AF1DB888319F422A\n",
      "3    10C6C994C2AD434F9D49D4BE9CFBC613\n",
      "4    159541FA269CA8A9CDB93658CAEC4CA2\n",
      "5    1F73BB863A39DB62B4A55B7E558DB1E8\n",
      "6    23686A079CA538645BF6118A1EF51C8B\n",
      "7    2573A3CF633EBE6932A1E1010D5CD213\n",
      "8    2F548E5BE0D7F678E72DDE31DFBEF8E7\n",
      "9    310ECD7D1E42216E3C1B31EFDDFC72A7\n",
      "Name: language, dtype: object\n"
     ]
    }
   ],
   "source": [
    "print(df[\"language\"].compute().unique().head(10))"
   ]
  },
  {
   "cell_type": "markdown",
   "id": "64762a72",
   "metadata": {},
   "source": [
    "### tweet id encode"
   ]
  },
  {
   "cell_type": "code",
   "execution_count": 9,
   "id": "f1c7c624",
   "metadata": {
    "scrolled": true
   },
   "outputs": [
    {
     "data": {
      "text/html": [
       "<div>\n",
       "<style scoped>\n",
       "    .dataframe tbody tr th:only-of-type {\n",
       "        vertical-align: middle;\n",
       "    }\n",
       "\n",
       "    .dataframe tbody tr th {\n",
       "        vertical-align: top;\n",
       "    }\n",
       "\n",
       "    .dataframe thead th {\n",
       "        text-align: right;\n",
       "    }\n",
       "</style>\n",
       "<table border=\"1\" class=\"dataframe\">\n",
       "  <thead>\n",
       "    <tr style=\"text-align: right;\">\n",
       "      <th></th>\n",
       "      <th>tweet_id</th>\n",
       "      <th>engaged_with_user_id</th>\n",
       "      <th>enaging_user_id</th>\n",
       "      <th>tweet_timestamp</th>\n",
       "      <th>like_timestamp</th>\n",
       "      <th>retweet_timestamp</th>\n",
       "      <th>reply_timestamp</th>\n",
       "      <th>retweet_with_comment_timestamp</th>\n",
       "      <th>language</th>\n",
       "      <th>engagee_follows_engager</th>\n",
       "      <th>tweet_id_encode</th>\n",
       "    </tr>\n",
       "  </thead>\n",
       "  <tbody>\n",
       "    <tr>\n",
       "      <th>0</th>\n",
       "      <td>B8512E8529555FF3D43298DAC0C912CA</td>\n",
       "      <td>8E2F8673DA53511B319665F63511805C</td>\n",
       "      <td>9A9E176A0EA3C721E87136B3EC8B21FA</td>\n",
       "      <td>1613079026</td>\n",
       "      <td>0</td>\n",
       "      <td>0</td>\n",
       "      <td>0</td>\n",
       "      <td>0</td>\n",
       "      <td>488B32D24BD4BB44172EB981C1BCA6FA</td>\n",
       "      <td>True</td>\n",
       "      <td>2031505</td>\n",
       "    </tr>\n",
       "    <tr>\n",
       "      <th>1</th>\n",
       "      <td>EC027C079690E3798762DEBAF83D1688</td>\n",
       "      <td>5B52E4BF49F698E355C5CFC3EE40B9A2</td>\n",
       "      <td>F07B5A5598D1341412275D8E33B28640</td>\n",
       "      <td>1612510242</td>\n",
       "      <td>1612545370</td>\n",
       "      <td>0</td>\n",
       "      <td>0</td>\n",
       "      <td>0</td>\n",
       "      <td>2573A3CF633EBE6932A1E1010D5CD213</td>\n",
       "      <td>False</td>\n",
       "      <td>2600656</td>\n",
       "    </tr>\n",
       "    <tr>\n",
       "      <th>2</th>\n",
       "      <td>02596E062F15773851C3462D7117E627</td>\n",
       "      <td>457C4B2F6D1C9FA7ADAB57B40AF1262F</td>\n",
       "      <td>52FA2BC4BEA3415DDD4298A64E2FF768</td>\n",
       "      <td>1614019010</td>\n",
       "      <td>1614208933</td>\n",
       "      <td>0</td>\n",
       "      <td>0</td>\n",
       "      <td>0</td>\n",
       "      <td>488B32D24BD4BB44172EB981C1BCA6FA</td>\n",
       "      <td>True</td>\n",
       "      <td>25950</td>\n",
       "    </tr>\n",
       "    <tr>\n",
       "      <th>3</th>\n",
       "      <td>FE5D1B5D8F3CC658FB078CE9AC40DEA9</td>\n",
       "      <td>7BEE2D47403F3EC92BC176B738800F28</td>\n",
       "      <td>F91B6F425913952DC54F3BE5D52F49B7</td>\n",
       "      <td>1613014218</td>\n",
       "      <td>0</td>\n",
       "      <td>0</td>\n",
       "      <td>0</td>\n",
       "      <td>0</td>\n",
       "      <td>B8B04128918BBF54E2E178BFF1ABA833</td>\n",
       "      <td>False</td>\n",
       "      <td>2803336</td>\n",
       "    </tr>\n",
       "    <tr>\n",
       "      <th>4</th>\n",
       "      <td>E9C6E84F69CE2E0450625F540291D6E4</td>\n",
       "      <td>AC6C2619133E4B470D941A9907C30781</td>\n",
       "      <td>45267FFC2E718410038815E6FAC92F74</td>\n",
       "      <td>1613382844</td>\n",
       "      <td>1613392304</td>\n",
       "      <td>0</td>\n",
       "      <td>0</td>\n",
       "      <td>0</td>\n",
       "      <td>9A78FC330083E72BE0DD1EA92656F3B5</td>\n",
       "      <td>False</td>\n",
       "      <td>2575994</td>\n",
       "    </tr>\n",
       "  </tbody>\n",
       "</table>\n",
       "</div>"
      ],
      "text/plain": [
       "                           tweet_id              engaged_with_user_id  \\\n",
       "0  B8512E8529555FF3D43298DAC0C912CA  8E2F8673DA53511B319665F63511805C   \n",
       "1  EC027C079690E3798762DEBAF83D1688  5B52E4BF49F698E355C5CFC3EE40B9A2   \n",
       "2  02596E062F15773851C3462D7117E627  457C4B2F6D1C9FA7ADAB57B40AF1262F   \n",
       "3  FE5D1B5D8F3CC658FB078CE9AC40DEA9  7BEE2D47403F3EC92BC176B738800F28   \n",
       "4  E9C6E84F69CE2E0450625F540291D6E4  AC6C2619133E4B470D941A9907C30781   \n",
       "\n",
       "                    enaging_user_id  tweet_timestamp  like_timestamp  \\\n",
       "0  9A9E176A0EA3C721E87136B3EC8B21FA       1613079026               0   \n",
       "1  F07B5A5598D1341412275D8E33B28640       1612510242      1612545370   \n",
       "2  52FA2BC4BEA3415DDD4298A64E2FF768       1614019010      1614208933   \n",
       "3  F91B6F425913952DC54F3BE5D52F49B7       1613014218               0   \n",
       "4  45267FFC2E718410038815E6FAC92F74       1613382844      1613392304   \n",
       "\n",
       "   retweet_timestamp  reply_timestamp  retweet_with_comment_timestamp  \\\n",
       "0                  0                0                               0   \n",
       "1                  0                0                               0   \n",
       "2                  0                0                               0   \n",
       "3                  0                0                               0   \n",
       "4                  0                0                               0   \n",
       "\n",
       "                           language  engagee_follows_engager  tweet_id_encode  \n",
       "0  488B32D24BD4BB44172EB981C1BCA6FA                     True          2031505  \n",
       "1  2573A3CF633EBE6932A1E1010D5CD213                    False          2600656  \n",
       "2  488B32D24BD4BB44172EB981C1BCA6FA                     True            25950  \n",
       "3  B8B04128918BBF54E2E178BFF1ABA833                    False          2803336  \n",
       "4  9A78FC330083E72BE0DD1EA92656F3B5                    False          2575994  "
      ]
     },
     "execution_count": 9,
     "metadata": {},
     "output_type": "execute_result"
    }
   ],
   "source": [
    "df, tweet_id_index, _ = factorize_small_cardinality_with_index(df, \"tweet_id\", \"tweet_id_encode\")\n",
    "df.head()"
   ]
  },
  {
   "cell_type": "code",
   "execution_count": 10,
   "id": "02e9916e",
   "metadata": {},
   "outputs": [
    {
     "data": {
      "text/html": [
       "<div>\n",
       "<style scoped>\n",
       "    .dataframe tbody tr th:only-of-type {\n",
       "        vertical-align: middle;\n",
       "    }\n",
       "\n",
       "    .dataframe tbody tr th {\n",
       "        vertical-align: top;\n",
       "    }\n",
       "\n",
       "    .dataframe thead th {\n",
       "        text-align: right;\n",
       "    }\n",
       "</style>\n",
       "<table border=\"1\" class=\"dataframe\">\n",
       "  <thead>\n",
       "    <tr style=\"text-align: right;\">\n",
       "      <th></th>\n",
       "      <th>engaged_with_user_id</th>\n",
       "      <th>enaging_user_id</th>\n",
       "      <th>tweet_timestamp</th>\n",
       "      <th>like_timestamp</th>\n",
       "      <th>retweet_timestamp</th>\n",
       "      <th>reply_timestamp</th>\n",
       "      <th>retweet_with_comment_timestamp</th>\n",
       "      <th>language</th>\n",
       "      <th>engagee_follows_engager</th>\n",
       "      <th>tweet_id_encode</th>\n",
       "    </tr>\n",
       "  </thead>\n",
       "  <tbody>\n",
       "    <tr>\n",
       "      <th>0</th>\n",
       "      <td>8E2F8673DA53511B319665F63511805C</td>\n",
       "      <td>9A9E176A0EA3C721E87136B3EC8B21FA</td>\n",
       "      <td>1613079026</td>\n",
       "      <td>0</td>\n",
       "      <td>0</td>\n",
       "      <td>0</td>\n",
       "      <td>0</td>\n",
       "      <td>488B32D24BD4BB44172EB981C1BCA6FA</td>\n",
       "      <td>True</td>\n",
       "      <td>2031505</td>\n",
       "    </tr>\n",
       "    <tr>\n",
       "      <th>1</th>\n",
       "      <td>5B52E4BF49F698E355C5CFC3EE40B9A2</td>\n",
       "      <td>F07B5A5598D1341412275D8E33B28640</td>\n",
       "      <td>1612510242</td>\n",
       "      <td>1612545370</td>\n",
       "      <td>0</td>\n",
       "      <td>0</td>\n",
       "      <td>0</td>\n",
       "      <td>2573A3CF633EBE6932A1E1010D5CD213</td>\n",
       "      <td>False</td>\n",
       "      <td>2600656</td>\n",
       "    </tr>\n",
       "    <tr>\n",
       "      <th>2</th>\n",
       "      <td>457C4B2F6D1C9FA7ADAB57B40AF1262F</td>\n",
       "      <td>52FA2BC4BEA3415DDD4298A64E2FF768</td>\n",
       "      <td>1614019010</td>\n",
       "      <td>1614208933</td>\n",
       "      <td>0</td>\n",
       "      <td>0</td>\n",
       "      <td>0</td>\n",
       "      <td>488B32D24BD4BB44172EB981C1BCA6FA</td>\n",
       "      <td>True</td>\n",
       "      <td>25950</td>\n",
       "    </tr>\n",
       "    <tr>\n",
       "      <th>3</th>\n",
       "      <td>7BEE2D47403F3EC92BC176B738800F28</td>\n",
       "      <td>F91B6F425913952DC54F3BE5D52F49B7</td>\n",
       "      <td>1613014218</td>\n",
       "      <td>0</td>\n",
       "      <td>0</td>\n",
       "      <td>0</td>\n",
       "      <td>0</td>\n",
       "      <td>B8B04128918BBF54E2E178BFF1ABA833</td>\n",
       "      <td>False</td>\n",
       "      <td>2803336</td>\n",
       "    </tr>\n",
       "    <tr>\n",
       "      <th>4</th>\n",
       "      <td>AC6C2619133E4B470D941A9907C30781</td>\n",
       "      <td>45267FFC2E718410038815E6FAC92F74</td>\n",
       "      <td>1613382844</td>\n",
       "      <td>1613392304</td>\n",
       "      <td>0</td>\n",
       "      <td>0</td>\n",
       "      <td>0</td>\n",
       "      <td>9A78FC330083E72BE0DD1EA92656F3B5</td>\n",
       "      <td>False</td>\n",
       "      <td>2575994</td>\n",
       "    </tr>\n",
       "  </tbody>\n",
       "</table>\n",
       "</div>"
      ],
      "text/plain": [
       "               engaged_with_user_id                   enaging_user_id  \\\n",
       "0  8E2F8673DA53511B319665F63511805C  9A9E176A0EA3C721E87136B3EC8B21FA   \n",
       "1  5B52E4BF49F698E355C5CFC3EE40B9A2  F07B5A5598D1341412275D8E33B28640   \n",
       "2  457C4B2F6D1C9FA7ADAB57B40AF1262F  52FA2BC4BEA3415DDD4298A64E2FF768   \n",
       "3  7BEE2D47403F3EC92BC176B738800F28  F91B6F425913952DC54F3BE5D52F49B7   \n",
       "4  AC6C2619133E4B470D941A9907C30781  45267FFC2E718410038815E6FAC92F74   \n",
       "\n",
       "   tweet_timestamp  like_timestamp  retweet_timestamp  reply_timestamp  \\\n",
       "0       1613079026               0                  0                0   \n",
       "1       1612510242      1612545370                  0                0   \n",
       "2       1614019010      1614208933                  0                0   \n",
       "3       1613014218               0                  0                0   \n",
       "4       1613382844      1613392304                  0                0   \n",
       "\n",
       "   retweet_with_comment_timestamp                          language  \\\n",
       "0                               0  488B32D24BD4BB44172EB981C1BCA6FA   \n",
       "1                               0  2573A3CF633EBE6932A1E1010D5CD213   \n",
       "2                               0  488B32D24BD4BB44172EB981C1BCA6FA   \n",
       "3                               0  B8B04128918BBF54E2E178BFF1ABA833   \n",
       "4                               0  9A78FC330083E72BE0DD1EA92656F3B5   \n",
       "\n",
       "   engagee_follows_engager  tweet_id_encode  \n",
       "0                     True          2031505  \n",
       "1                    False          2600656  \n",
       "2                     True            25950  \n",
       "3                    False          2803336  \n",
       "4                    False          2575994  "
      ]
     },
     "execution_count": 10,
     "metadata": {},
     "output_type": "execute_result"
    }
   ],
   "source": [
    "df = df.drop(\"tweet_id\", axis = 1)\n",
    "df = df.rename(columns = {\"index\" : \"tweet_id_encode\"})\n",
    "df.head()"
   ]
  },
  {
   "cell_type": "markdown",
   "id": "d75198d7",
   "metadata": {},
   "source": [
    "### user id encode"
   ]
  },
  {
   "cell_type": "code",
   "execution_count": 11,
   "id": "b3c1529f",
   "metadata": {},
   "outputs": [],
   "source": [
    "user_a = df[\"engaged_with_user_id\"]\n",
    "user_b = df[\"enaging_user_id\"]\n",
    "user_df = dask_cudf.concat([user_a, user_b], axis = 0).unique().to_frame()"
   ]
  },
  {
   "cell_type": "code",
   "execution_count": 12,
   "id": "14c67b72",
   "metadata": {},
   "outputs": [
    {
     "data": {
      "text/html": [
       "<div>\n",
       "<style scoped>\n",
       "    .dataframe tbody tr th:only-of-type {\n",
       "        vertical-align: middle;\n",
       "    }\n",
       "\n",
       "    .dataframe tbody tr th {\n",
       "        vertical-align: top;\n",
       "    }\n",
       "\n",
       "    .dataframe thead th {\n",
       "        text-align: right;\n",
       "    }\n",
       "</style>\n",
       "<table border=\"1\" class=\"dataframe\">\n",
       "  <thead>\n",
       "    <tr style=\"text-align: right;\">\n",
       "      <th></th>\n",
       "      <th>user</th>\n",
       "      <th>user_encode</th>\n",
       "    </tr>\n",
       "  </thead>\n",
       "  <tbody>\n",
       "    <tr>\n",
       "      <th>0</th>\n",
       "      <td>0113EEB0B0E6E9DA87D4C3010BBD483B</td>\n",
       "      <td>15008</td>\n",
       "    </tr>\n",
       "    <tr>\n",
       "      <th>1</th>\n",
       "      <td>01143653E8A3BFC0E6E2ADCB95B3D708</td>\n",
       "      <td>15024</td>\n",
       "    </tr>\n",
       "    <tr>\n",
       "      <th>2</th>\n",
       "      <td>01140D882E48C13032A62823C4178B88</td>\n",
       "      <td>15016</td>\n",
       "    </tr>\n",
       "    <tr>\n",
       "      <th>3</th>\n",
       "      <td>0114475C0D050F46FC75C85BF42A21E0</td>\n",
       "      <td>15032</td>\n",
       "    </tr>\n",
       "    <tr>\n",
       "      <th>4</th>\n",
       "      <td>0113EF07F9A3799AC719738C01A07E25</td>\n",
       "      <td>15009</td>\n",
       "    </tr>\n",
       "  </tbody>\n",
       "</table>\n",
       "</div>"
      ],
      "text/plain": [
       "                               user  user_encode\n",
       "0  0113EEB0B0E6E9DA87D4C3010BBD483B        15008\n",
       "1  01143653E8A3BFC0E6E2ADCB95B3D708        15024\n",
       "2  01140D882E48C13032A62823C4178B88        15016\n",
       "3  0114475C0D050F46FC75C85BF42A21E0        15032\n",
       "4  0113EF07F9A3799AC719738C01A07E25        15009"
      ]
     },
     "execution_count": 12,
     "metadata": {},
     "output_type": "execute_result"
    }
   ],
   "source": [
    "user_df = user_df.rename(columns = {0:\"user\"})\n",
    "user_df, _, _ = factorize_small_cardinality_with_index(user_df, \"user\", \"user_encode\")\n",
    "user_df.head()"
   ]
  },
  {
   "cell_type": "code",
   "execution_count": 13,
   "id": "5b9bfc2b",
   "metadata": {},
   "outputs": [],
   "source": [
    "user_df = user_df.set_index(\"user\")"
   ]
  },
  {
   "cell_type": "code",
   "execution_count": 14,
   "id": "249cd78a",
   "metadata": {},
   "outputs": [],
   "source": [
    "df = df.merge(user_df, left_on = \"engaged_with_user_id\", right_index = True, how='left')"
   ]
  },
  {
   "cell_type": "code",
   "execution_count": 15,
   "id": "bbdea628",
   "metadata": {},
   "outputs": [
    {
     "data": {
      "text/html": [
       "<div>\n",
       "<style scoped>\n",
       "    .dataframe tbody tr th:only-of-type {\n",
       "        vertical-align: middle;\n",
       "    }\n",
       "\n",
       "    .dataframe tbody tr th {\n",
       "        vertical-align: top;\n",
       "    }\n",
       "\n",
       "    .dataframe thead th {\n",
       "        text-align: right;\n",
       "    }\n",
       "</style>\n",
       "<table border=\"1\" class=\"dataframe\">\n",
       "  <thead>\n",
       "    <tr style=\"text-align: right;\">\n",
       "      <th></th>\n",
       "      <th>engaged_with_user_id</th>\n",
       "      <th>enaging_user_id</th>\n",
       "      <th>tweet_timestamp</th>\n",
       "      <th>like_timestamp</th>\n",
       "      <th>retweet_timestamp</th>\n",
       "      <th>reply_timestamp</th>\n",
       "      <th>retweet_with_comment_timestamp</th>\n",
       "      <th>language</th>\n",
       "      <th>engagee_follows_engager</th>\n",
       "      <th>tweet_id_encode</th>\n",
       "      <th>engaged_user_encode</th>\n",
       "    </tr>\n",
       "  </thead>\n",
       "  <tbody>\n",
       "    <tr>\n",
       "      <th>9216</th>\n",
       "      <td>9E45E57B994F1F68EFCFECB6FF8C0615</td>\n",
       "      <td>15AF34FF6D23494E58E17010E4E6C816</td>\n",
       "      <td>1614182411</td>\n",
       "      <td>1614182607</td>\n",
       "      <td>0</td>\n",
       "      <td>0</td>\n",
       "      <td>0</td>\n",
       "      <td>488B32D24BD4BB44172EB981C1BCA6FA</td>\n",
       "      <td>True</td>\n",
       "      <td>2787196</td>\n",
       "      <td>2170275</td>\n",
       "    </tr>\n",
       "    <tr>\n",
       "      <th>9232</th>\n",
       "      <td>F8438EB46A95353C9349C4749BE92460</td>\n",
       "      <td>91D8B36214DFDD9EB2AA4B39004C5B17</td>\n",
       "      <td>1613624519</td>\n",
       "      <td>0</td>\n",
       "      <td>0</td>\n",
       "      <td>0</td>\n",
       "      <td>0</td>\n",
       "      <td>313ECD3A1E5BB07406E4249475C2D6D6</td>\n",
       "      <td>False</td>\n",
       "      <td>1088594</td>\n",
       "      <td>3405094</td>\n",
       "    </tr>\n",
       "    <tr>\n",
       "      <th>9224</th>\n",
       "      <td>CA40E9A6205B00F9E872BC9741E9B7E7</td>\n",
       "      <td>83F5B252FEA0EAC04D78654958ED1DDE</td>\n",
       "      <td>1613222955</td>\n",
       "      <td>0</td>\n",
       "      <td>0</td>\n",
       "      <td>0</td>\n",
       "      <td>0</td>\n",
       "      <td>E7F038DE3EAD397AEC9193686C911677</td>\n",
       "      <td>True</td>\n",
       "      <td>2424606</td>\n",
       "      <td>2772844</td>\n",
       "    </tr>\n",
       "    <tr>\n",
       "      <th>9240</th>\n",
       "      <td>EFDB575C1AC7BD23D471E7871A952AFD</td>\n",
       "      <td>B6258CDBCE185286B079CF67DDDE5B2E</td>\n",
       "      <td>1613219396</td>\n",
       "      <td>1613219653</td>\n",
       "      <td>0</td>\n",
       "      <td>0</td>\n",
       "      <td>0</td>\n",
       "      <td>488B32D24BD4BB44172EB981C1BCA6FA</td>\n",
       "      <td>False</td>\n",
       "      <td>1482000</td>\n",
       "      <td>3289746</td>\n",
       "    </tr>\n",
       "    <tr>\n",
       "      <th>9217</th>\n",
       "      <td>058B2F05F4AF15E979AE7C258139A5DA</td>\n",
       "      <td>F1AFC74C8BC144863BF6CD0DD2B3398F</td>\n",
       "      <td>1614179998</td>\n",
       "      <td>1614187083</td>\n",
       "      <td>0</td>\n",
       "      <td>0</td>\n",
       "      <td>0</td>\n",
       "      <td>B8B04128918BBF54E2E178BFF1ABA833</td>\n",
       "      <td>False</td>\n",
       "      <td>1322938</td>\n",
       "      <td>76292</td>\n",
       "    </tr>\n",
       "  </tbody>\n",
       "</table>\n",
       "</div>"
      ],
      "text/plain": [
       "                  engaged_with_user_id                   enaging_user_id  \\\n",
       "9216  9E45E57B994F1F68EFCFECB6FF8C0615  15AF34FF6D23494E58E17010E4E6C816   \n",
       "9232  F8438EB46A95353C9349C4749BE92460  91D8B36214DFDD9EB2AA4B39004C5B17   \n",
       "9224  CA40E9A6205B00F9E872BC9741E9B7E7  83F5B252FEA0EAC04D78654958ED1DDE   \n",
       "9240  EFDB575C1AC7BD23D471E7871A952AFD  B6258CDBCE185286B079CF67DDDE5B2E   \n",
       "9217  058B2F05F4AF15E979AE7C258139A5DA  F1AFC74C8BC144863BF6CD0DD2B3398F   \n",
       "\n",
       "      tweet_timestamp  like_timestamp  retweet_timestamp  reply_timestamp  \\\n",
       "9216       1614182411      1614182607                  0                0   \n",
       "9232       1613624519               0                  0                0   \n",
       "9224       1613222955               0                  0                0   \n",
       "9240       1613219396      1613219653                  0                0   \n",
       "9217       1614179998      1614187083                  0                0   \n",
       "\n",
       "      retweet_with_comment_timestamp                          language  \\\n",
       "9216                               0  488B32D24BD4BB44172EB981C1BCA6FA   \n",
       "9232                               0  313ECD3A1E5BB07406E4249475C2D6D6   \n",
       "9224                               0  E7F038DE3EAD397AEC9193686C911677   \n",
       "9240                               0  488B32D24BD4BB44172EB981C1BCA6FA   \n",
       "9217                               0  B8B04128918BBF54E2E178BFF1ABA833   \n",
       "\n",
       "      engagee_follows_engager  tweet_id_encode  engaged_user_encode  \n",
       "9216                     True          2787196              2170275  \n",
       "9232                    False          1088594              3405094  \n",
       "9224                     True          2424606              2772844  \n",
       "9240                    False          1482000              3289746  \n",
       "9217                    False          1322938                76292  "
      ]
     },
     "execution_count": 15,
     "metadata": {},
     "output_type": "execute_result"
    }
   ],
   "source": [
    "df = df.rename(columns = {\"user_encode\" : \"engaged_user_encode\"})\n",
    "df.head()"
   ]
  },
  {
   "cell_type": "code",
   "execution_count": 16,
   "id": "0e1b84a3",
   "metadata": {},
   "outputs": [],
   "source": [
    "df = df.merge(user_df, left_on=\"enaging_user_id\", right_index = True, how='left')"
   ]
  },
  {
   "cell_type": "code",
   "execution_count": 17,
   "id": "bf76c9f5",
   "metadata": {},
   "outputs": [
    {
     "data": {
      "text/html": [
       "<div>\n",
       "<style scoped>\n",
       "    .dataframe tbody tr th:only-of-type {\n",
       "        vertical-align: middle;\n",
       "    }\n",
       "\n",
       "    .dataframe tbody tr th {\n",
       "        vertical-align: top;\n",
       "    }\n",
       "\n",
       "    .dataframe thead th {\n",
       "        text-align: right;\n",
       "    }\n",
       "</style>\n",
       "<table border=\"1\" class=\"dataframe\">\n",
       "  <thead>\n",
       "    <tr style=\"text-align: right;\">\n",
       "      <th></th>\n",
       "      <th>engaged_with_user_id</th>\n",
       "      <th>enaging_user_id</th>\n",
       "      <th>tweet_timestamp</th>\n",
       "      <th>like_timestamp</th>\n",
       "      <th>retweet_timestamp</th>\n",
       "      <th>reply_timestamp</th>\n",
       "      <th>retweet_with_comment_timestamp</th>\n",
       "      <th>language</th>\n",
       "      <th>engagee_follows_engager</th>\n",
       "      <th>tweet_id_encode</th>\n",
       "      <th>engaged_user_encode</th>\n",
       "      <th>engaging_user_encode</th>\n",
       "    </tr>\n",
       "  </thead>\n",
       "  <tbody>\n",
       "    <tr>\n",
       "      <th>7104</th>\n",
       "      <td>F1405828D86A8F092A0F0B336E029D33</td>\n",
       "      <td>6DB661168DE72AC8720E58CAF652BF94</td>\n",
       "      <td>1612730586</td>\n",
       "      <td>0</td>\n",
       "      <td>0</td>\n",
       "      <td>0</td>\n",
       "      <td>0</td>\n",
       "      <td>B0FA488F2911701DD8EC5B1EA5E322D8</td>\n",
       "      <td>True</td>\n",
       "      <td>2795514</td>\n",
       "      <td>3308919</td>\n",
       "      <td>1504492</td>\n",
       "    </tr>\n",
       "    <tr>\n",
       "      <th>7108</th>\n",
       "      <td>554560F4CF3395FB8801B6DCCFCCB39B</td>\n",
       "      <td>4D76C9FAD0344C6A3183C74435C7F5E2</td>\n",
       "      <td>1613432948</td>\n",
       "      <td>0</td>\n",
       "      <td>0</td>\n",
       "      <td>0</td>\n",
       "      <td>0</td>\n",
       "      <td>B0FA488F2911701DD8EC5B1EA5E322D8</td>\n",
       "      <td>False</td>\n",
       "      <td>2352937</td>\n",
       "      <td>1170065</td>\n",
       "      <td>1063228</td>\n",
       "    </tr>\n",
       "    <tr>\n",
       "      <th>7106</th>\n",
       "      <td>8C88EC6202C648008398E985DB44623D</td>\n",
       "      <td>280185F21DB14EE6B34B333204D5C850</td>\n",
       "      <td>1613777096</td>\n",
       "      <td>0</td>\n",
       "      <td>0</td>\n",
       "      <td>0</td>\n",
       "      <td>0</td>\n",
       "      <td>E7F038DE3EAD397AEC9193686C911677</td>\n",
       "      <td>True</td>\n",
       "      <td>1646919</td>\n",
       "      <td>1927377</td>\n",
       "      <td>549103</td>\n",
       "    </tr>\n",
       "    <tr>\n",
       "      <th>7110</th>\n",
       "      <td>2F677C6EC8FB9586675A16FB9ABCE2F2</td>\n",
       "      <td>C82670479DA5135BA1045AC397434471</td>\n",
       "      <td>1613355558</td>\n",
       "      <td>1613473524</td>\n",
       "      <td>0</td>\n",
       "      <td>0</td>\n",
       "      <td>0</td>\n",
       "      <td>488B32D24BD4BB44172EB981C1BCA6FA</td>\n",
       "      <td>False</td>\n",
       "      <td>825196</td>\n",
       "      <td>650849</td>\n",
       "      <td>2744007</td>\n",
       "    </tr>\n",
       "    <tr>\n",
       "      <th>7120</th>\n",
       "      <td>25F8EEDE3FEF083DF2588E412F6B8082</td>\n",
       "      <td>56E62681CF1DACA74DDD1B970FE6D57B</td>\n",
       "      <td>1613468465</td>\n",
       "      <td>1613468676</td>\n",
       "      <td>0</td>\n",
       "      <td>0</td>\n",
       "      <td>0</td>\n",
       "      <td>E7F038DE3EAD397AEC9193686C911677</td>\n",
       "      <td>True</td>\n",
       "      <td>278418</td>\n",
       "      <td>521362</td>\n",
       "      <td>1192391</td>\n",
       "    </tr>\n",
       "  </tbody>\n",
       "</table>\n",
       "</div>"
      ],
      "text/plain": [
       "                  engaged_with_user_id                   enaging_user_id  \\\n",
       "7104  F1405828D86A8F092A0F0B336E029D33  6DB661168DE72AC8720E58CAF652BF94   \n",
       "7108  554560F4CF3395FB8801B6DCCFCCB39B  4D76C9FAD0344C6A3183C74435C7F5E2   \n",
       "7106  8C88EC6202C648008398E985DB44623D  280185F21DB14EE6B34B333204D5C850   \n",
       "7110  2F677C6EC8FB9586675A16FB9ABCE2F2  C82670479DA5135BA1045AC397434471   \n",
       "7120  25F8EEDE3FEF083DF2588E412F6B8082  56E62681CF1DACA74DDD1B970FE6D57B   \n",
       "\n",
       "      tweet_timestamp  like_timestamp  retweet_timestamp  reply_timestamp  \\\n",
       "7104       1612730586               0                  0                0   \n",
       "7108       1613432948               0                  0                0   \n",
       "7106       1613777096               0                  0                0   \n",
       "7110       1613355558      1613473524                  0                0   \n",
       "7120       1613468465      1613468676                  0                0   \n",
       "\n",
       "      retweet_with_comment_timestamp                          language  \\\n",
       "7104                               0  B0FA488F2911701DD8EC5B1EA5E322D8   \n",
       "7108                               0  B0FA488F2911701DD8EC5B1EA5E322D8   \n",
       "7106                               0  E7F038DE3EAD397AEC9193686C911677   \n",
       "7110                               0  488B32D24BD4BB44172EB981C1BCA6FA   \n",
       "7120                               0  E7F038DE3EAD397AEC9193686C911677   \n",
       "\n",
       "      engagee_follows_engager  tweet_id_encode  engaged_user_encode  \\\n",
       "7104                     True          2795514              3308919   \n",
       "7108                    False          2352937              1170065   \n",
       "7106                     True          1646919              1927377   \n",
       "7110                    False           825196               650849   \n",
       "7120                     True           278418               521362   \n",
       "\n",
       "      engaging_user_encode  \n",
       "7104               1504492  \n",
       "7108               1063228  \n",
       "7106                549103  \n",
       "7110               2744007  \n",
       "7120               1192391  "
      ]
     },
     "execution_count": 17,
     "metadata": {},
     "output_type": "execute_result"
    }
   ],
   "source": [
    "df = df.rename(columns = {\"user_encode\" : \"engaging_user_encode\"})\n",
    "df.head()"
   ]
  },
  {
   "cell_type": "code",
   "execution_count": 18,
   "id": "ac374bfd",
   "metadata": {},
   "outputs": [],
   "source": [
    "df = df.drop([\"engaged_with_user_id\", \"enaging_user_id\"], axis = 1)"
   ]
  },
  {
   "cell_type": "code",
   "execution_count": 19,
   "id": "af2b97ea",
   "metadata": {},
   "outputs": [],
   "source": [
    "df = df.repartition(npartitions=NP)\n",
    "df, = dask.persist(df)"
   ]
  },
  {
   "cell_type": "code",
   "execution_count": 20,
   "id": "56990029",
   "metadata": {},
   "outputs": [
    {
     "data": {
      "text/html": [
       "<div>\n",
       "<style scoped>\n",
       "    .dataframe tbody tr th:only-of-type {\n",
       "        vertical-align: middle;\n",
       "    }\n",
       "\n",
       "    .dataframe tbody tr th {\n",
       "        vertical-align: top;\n",
       "    }\n",
       "\n",
       "    .dataframe thead th {\n",
       "        text-align: right;\n",
       "    }\n",
       "</style>\n",
       "<table border=\"1\" class=\"dataframe\">\n",
       "  <thead>\n",
       "    <tr style=\"text-align: right;\">\n",
       "      <th></th>\n",
       "      <th>tweet_timestamp</th>\n",
       "      <th>like_timestamp</th>\n",
       "      <th>retweet_timestamp</th>\n",
       "      <th>reply_timestamp</th>\n",
       "      <th>retweet_with_comment_timestamp</th>\n",
       "      <th>language</th>\n",
       "      <th>engagee_follows_engager</th>\n",
       "      <th>tweet_id_encode</th>\n",
       "      <th>engaged_user_encode</th>\n",
       "      <th>engaging_user_encode</th>\n",
       "    </tr>\n",
       "  </thead>\n",
       "  <tbody>\n",
       "    <tr>\n",
       "      <th>17568</th>\n",
       "      <td>1613172895</td>\n",
       "      <td>1613187908</td>\n",
       "      <td>0</td>\n",
       "      <td>0</td>\n",
       "      <td>0</td>\n",
       "      <td>E7F038DE3EAD397AEC9193686C911677</td>\n",
       "      <td>True</td>\n",
       "      <td>2761461</td>\n",
       "      <td>3342006</td>\n",
       "      <td>2800751</td>\n",
       "    </tr>\n",
       "    <tr>\n",
       "      <th>17572</th>\n",
       "      <td>1612741180</td>\n",
       "      <td>0</td>\n",
       "      <td>0</td>\n",
       "      <td>1612744331</td>\n",
       "      <td>0</td>\n",
       "      <td>488B32D24BD4BB44172EB981C1BCA6FA</td>\n",
       "      <td>False</td>\n",
       "      <td>2574484</td>\n",
       "      <td>3023369</td>\n",
       "      <td>1600397</td>\n",
       "    </tr>\n",
       "    <tr>\n",
       "      <th>17570</th>\n",
       "      <td>1612669326</td>\n",
       "      <td>0</td>\n",
       "      <td>0</td>\n",
       "      <td>0</td>\n",
       "      <td>0</td>\n",
       "      <td>1F73BB863A39DB62B4A55B7E558DB1E8</td>\n",
       "      <td>True</td>\n",
       "      <td>869455</td>\n",
       "      <td>631017</td>\n",
       "      <td>3237562</td>\n",
       "    </tr>\n",
       "    <tr>\n",
       "      <th>17574</th>\n",
       "      <td>1612860943</td>\n",
       "      <td>1612917049</td>\n",
       "      <td>0</td>\n",
       "      <td>0</td>\n",
       "      <td>0</td>\n",
       "      <td>488B32D24BD4BB44172EB981C1BCA6FA</td>\n",
       "      <td>True</td>\n",
       "      <td>492000</td>\n",
       "      <td>152107</td>\n",
       "      <td>933384</td>\n",
       "    </tr>\n",
       "    <tr>\n",
       "      <th>17584</th>\n",
       "      <td>1613857194</td>\n",
       "      <td>1613861649</td>\n",
       "      <td>0</td>\n",
       "      <td>0</td>\n",
       "      <td>0</td>\n",
       "      <td>23686A079CA538645BF6118A1EF51C8B</td>\n",
       "      <td>True</td>\n",
       "      <td>2138416</td>\n",
       "      <td>3187127</td>\n",
       "      <td>568481</td>\n",
       "    </tr>\n",
       "  </tbody>\n",
       "</table>\n",
       "</div>"
      ],
      "text/plain": [
       "       tweet_timestamp  like_timestamp  retweet_timestamp  reply_timestamp  \\\n",
       "17568       1613172895      1613187908                  0                0   \n",
       "17572       1612741180               0                  0       1612744331   \n",
       "17570       1612669326               0                  0                0   \n",
       "17574       1612860943      1612917049                  0                0   \n",
       "17584       1613857194      1613861649                  0                0   \n",
       "\n",
       "       retweet_with_comment_timestamp                          language  \\\n",
       "17568                               0  E7F038DE3EAD397AEC9193686C911677   \n",
       "17572                               0  488B32D24BD4BB44172EB981C1BCA6FA   \n",
       "17570                               0  1F73BB863A39DB62B4A55B7E558DB1E8   \n",
       "17574                               0  488B32D24BD4BB44172EB981C1BCA6FA   \n",
       "17584                               0  23686A079CA538645BF6118A1EF51C8B   \n",
       "\n",
       "       engagee_follows_engager  tweet_id_encode  engaged_user_encode  \\\n",
       "17568                     True          2761461              3342006   \n",
       "17572                    False          2574484              3023369   \n",
       "17570                     True           869455               631017   \n",
       "17574                     True           492000               152107   \n",
       "17584                     True          2138416              3187127   \n",
       "\n",
       "       engaging_user_encode  \n",
       "17568               2800751  \n",
       "17572               1600397  \n",
       "17570               3237562  \n",
       "17574                933384  \n",
       "17584                568481  "
      ]
     },
     "execution_count": 20,
     "metadata": {},
     "output_type": "execute_result"
    }
   ],
   "source": [
    "df.head()"
   ]
  },
  {
   "cell_type": "markdown",
   "id": "825bebd7",
   "metadata": {},
   "source": [
    "## Anlysis engagement with tweet timestamp (follow)"
   ]
  },
  {
   "cell_type": "code",
   "execution_count": 21,
   "id": "213b3693",
   "metadata": {},
   "outputs": [],
   "source": [
    "df[\"like_timestamp\"] = df[\"like_timestamp\"] - df[\"tweet_timestamp\"]\n",
    "df[\"retweet_timestamp\"] = df[\"retweet_timestamp\"] - df[\"tweet_timestamp\"]\n",
    "df[\"reply_timestamp\"] = df[\"reply_timestamp\"] - df[\"tweet_timestamp\"]\n",
    "df[\"retweet_with_comment_timestamp\"] = df[\"retweet_with_comment_timestamp\"] - df[\"tweet_timestamp\"]"
   ]
  },
  {
   "cell_type": "code",
   "execution_count": 22,
   "id": "c263b718",
   "metadata": {},
   "outputs": [],
   "source": [
    "follow_df = df[df[\"engagee_follows_engager\"] == True]\n",
    "no_follow_df = df[df[\"engagee_follows_engager\"] == False]"
   ]
  },
  {
   "cell_type": "code",
   "execution_count": 23,
   "id": "a506e6cd",
   "metadata": {},
   "outputs": [],
   "source": [
    "time_lst = [\"5\", \"60\", \"240\", \"480\", \"1440\", \"101080\", \"0\"]\n",
    "follow_values = []\n",
    "no_follow_values = []"
   ]
  },
  {
   "cell_type": "code",
   "execution_count": 24,
   "id": "cffdd0a4",
   "metadata": {},
   "outputs": [],
   "source": [
    "prev_time = 0\n",
    "for i in time_lst :\n",
    "    i = int(i)\n",
    "    if i != 0 :\n",
    "        like_count = follow_df[(follow_df[\"like_timestamp\"]>=prev_time) & (follow_df[\"like_timestamp\"]<i*60)].count().values.compute()[0]\n",
    "        retweet_count = follow_df[(follow_df[\"retweet_timestamp\"]>=prev_time) & (follow_df[\"retweet_timestamp\"]<i*60)].count().values.compute()[0]\n",
    "        reply_count = follow_df[(follow_df[\"reply_timestamp\"]>=prev_time) & (follow_df[\"reply_timestamp\"]<i*60)].count().values.compute()[0]\n",
    "        comment_count = follow_df[(follow_df[\"retweet_with_comment_timestamp\"]>=prev_time) & (follow_df[\"retweet_with_comment_timestamp\"]<i*60)].count().values.compute()[0]\n",
    "        all_count = like_count + retweet_count + reply_count + comment_count\n",
    "    else :\n",
    "        like_count = follow_df[(follow_df[\"like_timestamp\"]>=prev_time)].count().values.compute()[0]\n",
    "        retweet_count = follow_df[(follow_df[\"retweet_timestamp\"]>=prev_time)].count().values.compute()[0]\n",
    "        reply_count = follow_df[(follow_df[\"reply_timestamp\"]>=prev_time) ].count().values.compute()[0]\n",
    "        comment_count = follow_df[(follow_df[\"retweet_with_comment_timestamp\"]>=prev_time)].count().values.compute()[0]\n",
    "        all_count = like_count + retweet_count + reply_count + comment_count\n",
    "    follow_values.append(int(all_count))\n",
    "    prev_time = i"
   ]
  },
  {
   "cell_type": "code",
   "execution_count": 25,
   "id": "3a823aaf",
   "metadata": {},
   "outputs": [],
   "source": [
    "prev_time = 0\n",
    "for i in time_lst :\n",
    "    i = int(i)\n",
    "    if i!= 0 :\n",
    "        like_count = no_follow_df[(no_follow_df[\"like_timestamp\"]>=prev_time) & (no_follow_df[\"like_timestamp\"]<int(i)*60)].count().values.compute()[0]\n",
    "        retweet_count = no_follow_df[(no_follow_df[\"retweet_timestamp\"]>=prev_time) & (no_follow_df[\"retweet_timestamp\"]<int(i)*60)].count().values.compute()[0]\n",
    "        reply_count = no_follow_df[(no_follow_df[\"reply_timestamp\"]>=prev_time) & (no_follow_df[\"reply_timestamp\"]<int(i)*60)].count().values.compute()[0]\n",
    "        comment_count = no_follow_df[(no_follow_df[\"retweet_with_comment_timestamp\"]>=prev_time) & (no_follow_df[\"retweet_with_comment_timestamp\"]<int(i)*60)].count().values.compute()[0]\n",
    "        all_count = like_count + retweet_count + reply_count + comment_count\n",
    "    else :\n",
    "        like_count = no_follow_df[(no_follow_df[\"like_timestamp\"]>=prev_time) ].count().values.compute()[0]\n",
    "        retweet_count = no_follow_df[(no_follow_df[\"retweet_timestamp\"]>=prev_time)].count().values.compute()[0]\n",
    "        reply_count = no_follow_df[(no_follow_df[\"reply_timestamp\"]>=prev_time) ].count().values.compute()[0]\n",
    "        comment_count = no_follow_df[(no_follow_df[\"retweet_with_comment_timestamp\"]>=prev_time)].count().values.compute()[0]\n",
    "        all_count = like_count + retweet_count + reply_count + comment_count\n",
    "    no_follow_values.append(int(all_count))\n",
    "    prev_time = i"
   ]
  },
  {
   "cell_type": "code",
   "execution_count": 26,
   "id": "e713ebb9",
   "metadata": {},
   "outputs": [
    {
     "data": {
      "image/png": "[encoded data removed]",
      "text/plain": [
       "<Figure size 432x288 with 1 Axes>"
      ]
     },
     "metadata": {
      "needs_background": "light"
     },
     "output_type": "display_data"
    }
   ],
   "source": [
    "index = np.arange(len(time_lst))\n",
    "bar_width = 0.35\n",
    "p1 = plt.bar(index, follow_values, bar_width, label = 'follow')\n",
    "p2 = plt.bar(index + bar_width, no_follow_values, bar_width, label = 'no_follow')\n",
    "plt.xlabel('time_past')\n",
    "plt.ylabel('number_of_engagement')\n",
    "plt.xticks(index, time_lst, fontsize=12)\n",
    "plt.legend((p1[0], p2[0]), ('follow', 'no follow'), fontsize=10)\n",
    "plt.show()"
   ]
  },
  {
   "cell_type": "code",
   "execution_count": 27,
   "id": "86361d68",
   "metadata": {},
   "outputs": [],
   "source": [
    "m_follow_values = []\n",
    "m_no_follow_values = []\n",
    "for i in range(0, len(time_lst)-1) :\n",
    "    m_follow_values.append(follow_values[i] / int(time_lst[i]))\n",
    "    m_no_follow_values.append(no_follow_values[i] / int(time_lst[i]))"
   ]
  },
  {
   "cell_type": "code",
   "execution_count": 28,
   "id": "e1ddf26d",
   "metadata": {},
   "outputs": [
    {
     "data": {
      "image/png": "[encoded data removed]",
      "text/plain": [
       "<Figure size 432x288 with 1 Axes>"
      ]
     },
     "metadata": {
      "needs_background": "light"
     },
     "output_type": "display_data"
    }
   ],
   "source": [
    "index = np.arange(len(time_lst)-1)\n",
    "bar_width = 0.35\n",
    "p1 = plt.bar(index, m_follow_values, bar_width, label = 'follow')\n",
    "p2 = plt.bar(index + bar_width, m_no_follow_values, bar_width, label = 'no_follow')\n",
    "plt.xlabel('time_past')\n",
    "plt.ylabel('mean_number_of_engagement')\n",
    "plt.xticks(index, time_lst[:-1], fontsize=12)\n",
    "plt.legend((p1[0], p2[0]), ('follow', 'no follow'), fontsize=10)\n",
    "plt.show()"
   ]
  },
  {
   "cell_type": "markdown",
   "id": "7c5ec58a",
   "metadata": {},
   "source": [
    "## Analysis timestamp with language\n",
    "The representative language is korean"
   ]
  },
  {
   "cell_type": "code",
   "execution_count": 29,
   "id": "f8e389ac",
   "metadata": {},
   "outputs": [
    {
     "data": {
      "text/html": [
       "<div>\n",
       "<style scoped>\n",
       "    .dataframe tbody tr th:only-of-type {\n",
       "        vertical-align: middle;\n",
       "    }\n",
       "\n",
       "    .dataframe tbody tr th {\n",
       "        vertical-align: top;\n",
       "    }\n",
       "\n",
       "    .dataframe thead th {\n",
       "        text-align: right;\n",
       "    }\n",
       "</style>\n",
       "<table border=\"1\" class=\"dataframe\">\n",
       "  <thead>\n",
       "    <tr style=\"text-align: right;\">\n",
       "      <th></th>\n",
       "      <th>tweet_timestamp</th>\n",
       "      <th>like_timestamp</th>\n",
       "      <th>retweet_timestamp</th>\n",
       "      <th>reply_timestamp</th>\n",
       "      <th>retweet_with_comment_timestamp</th>\n",
       "      <th>language</th>\n",
       "    </tr>\n",
       "    <tr>\n",
       "      <th>id</th>\n",
       "      <th></th>\n",
       "      <th></th>\n",
       "      <th></th>\n",
       "      <th></th>\n",
       "      <th></th>\n",
       "      <th></th>\n",
       "    </tr>\n",
       "  </thead>\n",
       "  <tbody>\n",
       "    <tr>\n",
       "      <th>18</th>\n",
       "      <td>1612713653</td>\n",
       "      <td>0</td>\n",
       "      <td>0</td>\n",
       "      <td>0</td>\n",
       "      <td>0</td>\n",
       "      <td>8729EBF694C3DAF61208A209C2A542C8</td>\n",
       "    </tr>\n",
       "    <tr>\n",
       "      <th>50</th>\n",
       "      <td>1612425967</td>\n",
       "      <td>0</td>\n",
       "      <td>0</td>\n",
       "      <td>0</td>\n",
       "      <td>0</td>\n",
       "      <td>8729EBF694C3DAF61208A209C2A542C8</td>\n",
       "    </tr>\n",
       "    <tr>\n",
       "      <th>154</th>\n",
       "      <td>1613138699</td>\n",
       "      <td>0</td>\n",
       "      <td>1613138924</td>\n",
       "      <td>0</td>\n",
       "      <td>0</td>\n",
       "      <td>8729EBF694C3DAF61208A209C2A542C8</td>\n",
       "    </tr>\n",
       "    <tr>\n",
       "      <th>265</th>\n",
       "      <td>1612769412</td>\n",
       "      <td>0</td>\n",
       "      <td>0</td>\n",
       "      <td>1612769586</td>\n",
       "      <td>0</td>\n",
       "      <td>8729EBF694C3DAF61208A209C2A542C8</td>\n",
       "    </tr>\n",
       "    <tr>\n",
       "      <th>323</th>\n",
       "      <td>1612501835</td>\n",
       "      <td>0</td>\n",
       "      <td>0</td>\n",
       "      <td>0</td>\n",
       "      <td>0</td>\n",
       "      <td>8729EBF694C3DAF61208A209C2A542C8</td>\n",
       "    </tr>\n",
       "  </tbody>\n",
       "</table>\n",
       "</div>"
      ],
      "text/plain": [
       "     tweet_timestamp  like_timestamp  retweet_timestamp  reply_timestamp  \\\n",
       "id                                                                         \n",
       "18        1612713653               0                  0                0   \n",
       "50        1612425967               0                  0                0   \n",
       "154       1613138699               0         1613138924                0   \n",
       "265       1612769412               0                  0       1612769586   \n",
       "323       1612501835               0                  0                0   \n",
       "\n",
       "     retweet_with_comment_timestamp                          language  \n",
       "id                                                                     \n",
       "18                                0  8729EBF694C3DAF61208A209C2A542C8  \n",
       "50                                0  8729EBF694C3DAF61208A209C2A542C8  \n",
       "154                               0  8729EBF694C3DAF61208A209C2A542C8  \n",
       "265                               0  8729EBF694C3DAF61208A209C2A542C8  \n",
       "323                               0  8729EBF694C3DAF61208A209C2A542C8  "
      ]
     },
     "execution_count": 29,
     "metadata": {},
     "output_type": "execute_result"
    }
   ],
   "source": [
    "kor_df.head()"
   ]
  },
  {
   "cell_type": "code",
   "execution_count": 30,
   "id": "16baaf80",
   "metadata": {},
   "outputs": [],
   "source": [
    "kor_df[\"like_timestamp\"] = kor_df[\"like_timestamp\"].compute().applymap(lambda x : -1 if int(x) == 0 else int(x) +32400)\n",
    "kor_df[\"retweet_timestamp\"] = kor_df[\"retweet_timestamp\"].compute().applymap(lambda x : -1 if int(x) == 0 else int(x) +32400)\n",
    "kor_df[\"reply_timestamp\"] = kor_df[\"reply_timestamp\"].compute().applymap(lambda x : -1 if int(x) == 0 else int(x) +32400)\n",
    "kor_df[\"retweet_with_comment_timestamp\"] = kor_df[\"retweet_with_comment_timestamp\"].compute().applymap(lambda x : -1 if int(x) == 0 else int(x) +32400)"
   ]
  },
  {
   "cell_type": "code",
   "execution_count": 31,
   "id": "a32af6a1",
   "metadata": {},
   "outputs": [],
   "source": [
    "like_hour = kor_df[kor_df[\"like_timestamp\"] != -1]\n",
    "retweet_hour = kor_df[kor_df[\"retweet_timestamp\"] != -1]\n",
    "reply_hour = kor_df[kor_df[\"reply_timestamp\"] != -1]\n",
    "comment_hour = kor_df[kor_df[\"retweet_with_comment_timestamp\"] != -1]"
   ]
  },
  {
   "cell_type": "code",
   "execution_count": 32,
   "id": "bc6ce624",
   "metadata": {},
   "outputs": [],
   "source": [
    "like_hour = like_hour[\"like_timestamp\"].astype('datetime64[s]')\n",
    "retweet_hour = retweet_hour[\"retweet_timestamp\"].astype('datetime64[s]')\n",
    "reply_hour = reply_hour[\"reply_timestamp\"].astype('datetime64[s]')\n",
    "comment_hour = comment_hour[\"retweet_with_comment_timestamp\"].astype('datetime64[s]')"
   ]
  },
  {
   "cell_type": "code",
   "execution_count": 33,
   "id": "8a044ec7",
   "metadata": {},
   "outputs": [],
   "source": [
    "like_hour = like_hour.dt.hour\n",
    "retweet_hour = retweet_hour.dt.hour\n",
    "reply_hour = reply_hour.dt.hour\n",
    "comment_hour = comment_hour.dt.hour"
   ]
  },
  {
   "cell_type": "code",
   "execution_count": 34,
   "id": "b60e08e8",
   "metadata": {},
   "outputs": [],
   "source": [
    "like_count = like_hour.value_counts().compute().sort_index()\n",
    "retweet_count = retweet_hour.value_counts().compute().sort_index()\n",
    "reply_count = reply_hour.value_counts().compute().sort_index()\n",
    "comment_count = comment_hour.value_counts().compute().sort_index()"
   ]
  },
  {
   "cell_type": "code",
   "execution_count": 35,
   "id": "aa45174b",
   "metadata": {},
   "outputs": [],
   "source": [
    "count = like_count + retweet_count + reply_count + comment_count"
   ]
  },
  {
   "cell_type": "code",
   "execution_count": 36,
   "id": "a5c9a648",
   "metadata": {},
   "outputs": [],
   "source": [
    "count_lst = [like_count, retweet_count, reply_count, comment_count, count]"
   ]
  },
  {
   "cell_type": "code",
   "execution_count": 37,
   "id": "f7be337f",
   "metadata": {},
   "outputs": [
    {
     "data": {
      "image/png": "[encoded data removed]",
      "text/plain": [
       "<Figure size 432x288 with 1 Axes>"
      ]
     },
     "metadata": {
      "needs_background": "light"
     },
     "output_type": "display_data"
    },
    {
     "data": {
      "image/png": "[encoded data removed]",
      "text/plain": [
       "<Figure size 432x288 with 1 Axes>"
      ]
     },
     "metadata": {
      "needs_background": "light"
     },
     "output_type": "display_data"
    },
    {
     "data": {
      "image/png": "[encoded data removed]",
      "text/plain": [
       "<Figure size 432x288 with 1 Axes>"
      ]
     },
     "metadata": {
      "needs_background": "light"
     },
     "output_type": "display_data"
    },
    {
     "data": {
      "image/png": "[encoded data removed]",
      "text/plain": [
       "<Figure size 432x288 with 1 Axes>"
      ]
     },
     "metadata": {
      "needs_background": "light"
     },
     "output_type": "display_data"
    },
    {
     "data": {
      "image/png": "[encoded data removed]",
      "text/plain": [
       "<Figure size 432x288 with 1 Axes>"
      ]
     },
     "metadata": {
      "needs_background": "light"
     },
     "output_type": "display_data"
    }
   ],
   "source": [
    "for i in range(len(count_lst)) : \n",
    "    plt.title(f\"Korean_{i}\")\n",
    "    plt.xticks(range(0,24))\n",
    "    plt.plot(count_lst[i].to_array())\n",
    "    plt.show()"
   ]
  },
  {
   "cell_type": "markdown",
   "id": "b96cc5bc",
   "metadata": {},
   "source": [
    "The comparision target1 is English!"
   ]
  },
  {
   "cell_type": "code",
   "execution_count": 38,
   "id": "9a3bcd98",
   "metadata": {},
   "outputs": [],
   "source": [
    "eng_df[\"like_timestamp\"] = eng_df[\"like_timestamp\"].compute().applymap(lambda x : -1 if int(x) == 0 else int(x)-21600)\n",
    "eng_df[\"retweet_timestamp\"] = eng_df[\"retweet_timestamp\"].compute().applymap(lambda x : -1 if int(x) == 0 else int(x)-21600)\n",
    "eng_df[\"reply_timestamp\"] = eng_df[\"reply_timestamp\"].compute().applymap(lambda x : -1 if int(x) == 0 else int(x)-21600)\n",
    "eng_df[\"retweet_with_comment_timestamp\"] = eng_df[\"retweet_with_comment_timestamp\"].compute().applymap(lambda x : -1 if int(x) == 0 else int(x)-21600)"
   ]
  },
  {
   "cell_type": "code",
   "execution_count": 39,
   "id": "b0bfd37e",
   "metadata": {},
   "outputs": [],
   "source": [
    "eng_like_hour = eng_df[eng_df[\"like_timestamp\"] != -1]\n",
    "eng_retweet_hour = eng_df[eng_df[\"retweet_timestamp\"] != -1]\n",
    "eng_reply_hour = eng_df[eng_df[\"reply_timestamp\"] != -1]\n",
    "eng_comment_hour = eng_df[eng_df[\"retweet_with_comment_timestamp\"] != -1]"
   ]
  },
  {
   "cell_type": "code",
   "execution_count": 40,
   "id": "9fd88264",
   "metadata": {},
   "outputs": [],
   "source": [
    "eng_like_hour = eng_like_hour[\"like_timestamp\"].astype('datetime64[s]')\n",
    "eng_retweet_hour = eng_retweet_hour[\"retweet_timestamp\"].astype('datetime64[s]')\n",
    "eng_reply_hour = eng_reply_hour[\"reply_timestamp\"].astype('datetime64[s]')\n",
    "eng_comment_hour = eng_comment_hour[\"retweet_with_comment_timestamp\"].astype('datetime64[s]')"
   ]
  },
  {
   "cell_type": "code",
   "execution_count": 41,
   "id": "8c3ee00b",
   "metadata": {},
   "outputs": [],
   "source": [
    "eng_like_hour = eng_like_hour.dt.hour\n",
    "eng_retweet_hour = eng_retweet_hour.dt.hour\n",
    "eng_reply_hour = eng_reply_hour.dt.hour\n",
    "eng_comment_hour = eng_comment_hour.dt.hour"
   ]
  },
  {
   "cell_type": "code",
   "execution_count": 42,
   "id": "0fc31b64",
   "metadata": {},
   "outputs": [],
   "source": [
    "eng_like_count = eng_like_hour.value_counts().compute().sort_index()\n",
    "eng_retweet_count = eng_retweet_hour.value_counts().compute().sort_index()\n",
    "eng_reply_count = eng_reply_hour.value_counts().compute().sort_index()\n",
    "eng_comment_count = eng_comment_hour.value_counts().compute().sort_index()"
   ]
  },
  {
   "cell_type": "code",
   "execution_count": 43,
   "id": "9c39425a",
   "metadata": {},
   "outputs": [],
   "source": [
    "eng_count = eng_like_count + eng_retweet_count + eng_reply_count + eng_comment_count"
   ]
  },
  {
   "cell_type": "code",
   "execution_count": 44,
   "id": "4cc3c8be",
   "metadata": {},
   "outputs": [],
   "source": [
    "eng_count_lst = [eng_like_count, eng_retweet_count, eng_reply_count, eng_comment_count, eng_count]"
   ]
  },
  {
   "cell_type": "code",
   "execution_count": 45,
   "id": "8d5d0729",
   "metadata": {},
   "outputs": [
    {
     "data": {
      "image/png": "[encoded data removed]",
      "text/plain": [
       "<Figure size 432x288 with 1 Axes>"
      ]
     },
     "metadata": {
      "needs_background": "light"
     },
     "output_type": "display_data"
    },
    {
     "data": {
      "image/png": "[encoded data removed]",
      "text/plain": [
       "<Figure size 432x288 with 1 Axes>"
      ]
     },
     "metadata": {
      "needs_background": "light"
     },
     "output_type": "display_data"
    },
    {
     "data": {
      "image/png": "[encoded data removed]",
      "text/plain": [
       "<Figure size 432x288 with 1 Axes>"
      ]
     },
     "metadata": {
      "needs_background": "light"
     },
     "output_type": "display_data"
    },
    {
     "data": {
      "image/png": "[encoded data removed]",
      "text/plain": [
       "<Figure size 432x288 with 1 Axes>"
      ]
     },
     "metadata": {
      "needs_background": "light"
     },
     "output_type": "display_data"
    },
    {
     "data": {
      "image/png": "[encoded data removed]",
      "text/plain": [
       "<Figure size 432x288 with 1 Axes>"
      ]
     },
     "metadata": {
      "needs_background": "light"
     },
     "output_type": "display_data"
    }
   ],
   "source": [
    "for i in range(len(eng_count_lst)) : \n",
    "    plt.title(f\"English_{i}\")\n",
    "    plt.xticks(range(0,24))\n",
    "    plt.plot(eng_count_lst[i].to_array())\n",
    "    plt.show()"
   ]
  },
  {
   "cell_type": "markdown",
   "id": "5a9b4da8",
   "metadata": {},
   "source": [
    "The comparision target2 is Japanese!"
   ]
  },
  {
   "cell_type": "code",
   "execution_count": 46,
   "id": "6ff3c6cb",
   "metadata": {},
   "outputs": [],
   "source": [
    "jap_df[\"like_timestamp\"] = jap_df[\"like_timestamp\"].compute().applymap(lambda x : -1 if int(x) == 0 else int(x) +32400)\n",
    "jap_df[\"retweet_timestamp\"] = jap_df[\"retweet_timestamp\"].compute().applymap(lambda x : -1 if int(x) == 0 else int(x) +32400)\n",
    "jap_df[\"reply_timestamp\"] = jap_df[\"reply_timestamp\"].compute().applymap(lambda x : -1 if int(x) == 0 else int(x) +32400)\n",
    "jap_df[\"retweet_with_comment_timestamp\"] = jap_df[\"retweet_with_comment_timestamp\"].compute().applymap(lambda x : -1 if int(x) == 0 else int(x) +32400)"
   ]
  },
  {
   "cell_type": "code",
   "execution_count": 47,
   "id": "18115097",
   "metadata": {},
   "outputs": [],
   "source": [
    "jap_like_hour = jap_df[jap_df[\"like_timestamp\"] != -1]\n",
    "jap_retweet_hour = jap_df[jap_df[\"retweet_timestamp\"] != -1]\n",
    "jap_reply_hour = jap_df[jap_df[\"reply_timestamp\"] != -1]\n",
    "jap_comment_hour = jap_df[jap_df[\"retweet_with_comment_timestamp\"] != -1]"
   ]
  },
  {
   "cell_type": "code",
   "execution_count": 48,
   "id": "466cea1a",
   "metadata": {},
   "outputs": [],
   "source": [
    "jap_like_hour = jap_like_hour[\"like_timestamp\"].astype('datetime64[s]')\n",
    "jap_retweet_hour = jap_retweet_hour[\"retweet_timestamp\"].astype('datetime64[s]')\n",
    "jap_reply_hour = jap_reply_hour[\"reply_timestamp\"].astype('datetime64[s]')\n",
    "jap_comment_hour = jap_comment_hour[\"retweet_with_comment_timestamp\"].astype('datetime64[s]')"
   ]
  },
  {
   "cell_type": "code",
   "execution_count": 49,
   "id": "0df7cf07",
   "metadata": {},
   "outputs": [],
   "source": [
    "jap_like_hour = jap_like_hour.dt.hour\n",
    "jap_retweet_hour = jap_retweet_hour.dt.hour\n",
    "jap_reply_hour = jap_reply_hour.dt.hour\n",
    "jap_comment_hour = jap_comment_hour.dt.hour"
   ]
  },
  {
   "cell_type": "code",
   "execution_count": 54,
   "id": "368ca93a",
   "metadata": {},
   "outputs": [],
   "source": [
    "jap_like_count = jap_like_hour.value_counts().compute().sort_index()\n",
    "jap_retweet_count = jap_retweet_hour.value_counts().compute().sort_index()\n",
    "jap_reply_count = jap_reply_hour.value_counts().compute().sort_index()\n",
    "jap_comment_count = jap_comment_hour.value_counts().compute().sort_index()"
   ]
  },
  {
   "cell_type": "code",
   "execution_count": 60,
   "id": "e20b0fc7",
   "metadata": {},
   "outputs": [],
   "source": [
    "jap_count = jap_like_count + jap_retweet_count + jap_reply_count + jap_comment_count\n",
    "jap_count_lst = [jap_like_count, jap_retweet_count, jap_reply_count, jap_comment_count, jap_count]"
   ]
  },
  {
   "cell_type": "code",
   "execution_count": 61,
   "id": "8c078fa1",
   "metadata": {},
   "outputs": [
    {
     "data": {
      "image/png": "[encoded data removed]",
      "text/plain": [
       "<Figure size 432x288 with 1 Axes>"
      ]
     },
     "metadata": {
      "needs_background": "light"
     },
     "output_type": "display_data"
    },
    {
     "data": {
      "image/png": "[encoded data removed]",
      "text/plain": [
       "<Figure size 432x288 with 1 Axes>"
      ]
     },
     "metadata": {
      "needs_background": "light"
     },
     "output_type": "display_data"
    },
    {
     "data": {
      "image/png": "[encoded data removed]",
      "text/plain": [
       "<Figure size 432x288 with 1 Axes>"
      ]
     },
     "metadata": {
      "needs_background": "light"
     },
     "output_type": "display_data"
    },
    {
     "data": {
      "image/png": "[encoded data removed]",
      "text/plain": [
       "<Figure size 432x288 with 1 Axes>"
      ]
     },
     "metadata": {
      "needs_background": "light"
     },
     "output_type": "display_data"
    },
    {
     "data": {
      "image/png": "[encoded data removed]",
      "text/plain": [
       "<Figure size 432x288 with 1 Axes>"
      ]
     },
     "metadata": {
      "needs_background": "light"
     },
     "output_type": "display_data"
    }
   ],
   "source": [
    "for i in range(len(jap_count_lst)) : \n",
    "    plt.title(f\"Japanese_{i}\")\n",
    "    plt.xticks(range(0,24))\n",
    "    plt.plot(jap_count_lst[i].to_array())\n",
    "    plt.show()"
   ]
  },
  {
   "cell_type": "code",
   "execution_count": null,
   "id": "4fa061bb",
   "metadata": {},
   "outputs": [],
   "source": []
  }
 ],
 "metadata": {
  "kernelspec": {
   "display_name": "Python 3",
   "language": "python",
   "name": "python3"
  },
  "language_info": {
   "codemirror_mode": {
    "name": "ipython",
    "version": 3
   },
   "file_extension": ".py",
   "mimetype": "text/x-python",
   "name": "python",
   "nbconvert_exporter": "python",
   "pygments_lexer": "ipython3",
   "version": "3.7.10"
  }
 },
 "nbformat": 4,
 "nbformat_minor": 5
}