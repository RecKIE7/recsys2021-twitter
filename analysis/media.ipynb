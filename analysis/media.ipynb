{
 "cells": [
  {
   "cell_type": "raw",
   "id": "051ec35c",
   "metadata": {},
   "outputs": [
    {
     "name": "stderr",
     "output_type": "stream",
     "text": [
      "/home/nyongja/anaconda3/envs/dask/lib/python3.7/site-packages/distributed/node.py:155: UserWarning: Port 8787 is already in use.\n",
      "Perhaps you already have a cluster running?\n",
      "Hosting the HTTP server on port 42053 instead\n",
      "  http_address[\"port\"], self.http_server.port\n"
     ]
    }
   ],
   "source": [
    "import sys\n",
    "sys.path.append('..')\n",
    "\n",
    "import numpy as np\n",
    "import pandas as pd\n",
    "\n",
    "import matplotlib.pyplot as plt\n",
    "from tqdm import tqdm\n",
    "\n",
    "from utils.cuda_cluster import *\n",
    "from utils.dataset import read_data, factorize_small_cardinality_with_index, split_join, get_media_index\n",
    "\n",
    "import core.config as conf"
   ]
  },
  {
   "cell_type": "code",
   "execution_count": 2,
   "id": "looking-pitch",
   "metadata": {},
   "outputs": [
    {
     "data": {
      "text/html": [
       "<table style=\"border: 2px solid white;\">\n",
       "<tr>\n",
       "<td style=\"vertical-align: top; border: 0px solid white\">\n",
       "<h3 style=\"text-align: left;\">Client</h3>\n",
       "<ul style=\"text-align: left; list-style: none; margin: 0; padding: 0;\">\n",
       "  <li><b>Scheduler: </b>tcp://127.0.0.1:44445</li>\n",
       "  <li><b>Dashboard: </b><a href='http://127.0.0.1:42053/status' target='_blank'>http://127.0.0.1:42053/status</a></li>\n",
       "</ul>\n",
       "</td>\n",
       "<td style=\"vertical-align: top; border: 0px solid white\">\n",
       "<h3 style=\"text-align: left;\">Cluster</h3>\n",
       "<ul style=\"text-align: left; list-style:none; margin: 0; padding: 0;\">\n",
       "  <li><b>Workers: </b>1</li>\n",
       "  <li><b>Cores: </b>1</li>\n",
       "  <li><b>Memory: </b>33.47 GB</li>\n",
       "</ul>\n",
       "</td>\n",
       "</tr>\n",
       "</table>"
      ],
      "text/plain": [
       "<Client: 'tcp://127.0.0.1:44445' processes=1 threads=1, memory=33.47 GB>"
      ]
     },
     "execution_count": 2,
     "metadata": {},
     "output_type": "execute_result"
    }
   ],
   "source": [
    "client"
   ]
  },
  {
   "cell_type": "code",
   "execution_count": 3,
   "id": "perfect-rebel",
   "metadata": {},
   "outputs": [
    {
     "ename": "MemoryError",
     "evalue": "std::bad_alloc: CUDA error at: /home/nyongja/anaconda3/envs/dask/include/rmm/mr/device/cuda_memory_resource.hpp:69: cudaErrorMemoryAllocation out of memory",
     "output_type": "error",
     "traceback": [
      "\u001b[0;31m---------------------------------------------------------------------------\u001b[0m",
      "\u001b[0;31mMemoryError\u001b[0m                               Traceback (most recent call last)",
      "\u001b[0;32m<ipython-input-3-f911be91d52d>\u001b[0m in \u001b[0;36m<module>\u001b[0;34m\u001b[0m\n\u001b[1;32m      2\u001b[0m \u001b[0;31m# data_path = conf.raw_data_path + '*' # for all dataset\u001b[0m\u001b[0;34m\u001b[0m\u001b[0;34m\u001b[0m\u001b[0;34m\u001b[0m\u001b[0m\n\u001b[1;32m      3\u001b[0m \u001b[0mdata_path\u001b[0m \u001b[0;34m=\u001b[0m \u001b[0mconf\u001b[0m\u001b[0;34m.\u001b[0m\u001b[0mraw_data_path\u001b[0m \u001b[0;34m+\u001b[0m \u001b[0;34m'part-0000*'\u001b[0m\u001b[0;34m\u001b[0m\u001b[0;34m\u001b[0m\u001b[0m\n\u001b[0;32m----> 4\u001b[0;31m \u001b[0mori_df\u001b[0m \u001b[0;34m=\u001b[0m \u001b[0mread_data\u001b[0m\u001b[0;34m(\u001b[0m\u001b[0mdata_path\u001b[0m\u001b[0;34m)\u001b[0m\u001b[0;34m\u001b[0m\u001b[0;34m\u001b[0m\u001b[0m\n\u001b[0m\u001b[1;32m      5\u001b[0m \u001b[0;34m\u001b[0m\u001b[0m\n\u001b[1;32m      6\u001b[0m \u001b[0;31m#print('number of rows:',len(ori_df))\u001b[0m\u001b[0;34m\u001b[0m\u001b[0;34m\u001b[0m\u001b[0;34m\u001b[0m\u001b[0m\n",
      "\u001b[0;32m~/kie/recsys2021-twitter/utils/dataset.py\u001b[0m in \u001b[0;36mread_data\u001b[0;34m(path, type, index, n_partitions)\u001b[0m\n\u001b[1;32m     16\u001b[0m             \u001b[0mdf\u001b[0m \u001b[0;34m=\u001b[0m \u001b[0mdf\u001b[0m\u001b[0;34m.\u001b[0m\u001b[0mrepartition\u001b[0m\u001b[0;34m(\u001b[0m\u001b[0mnpartitions\u001b[0m\u001b[0;34m=\u001b[0m\u001b[0mn_partitions\u001b[0m\u001b[0;34m)\u001b[0m\u001b[0;34m\u001b[0m\u001b[0;34m\u001b[0m\u001b[0m\n\u001b[1;32m     17\u001b[0m         \u001b[0mdf\u001b[0m\u001b[0;34m,\u001b[0m \u001b[0;34m=\u001b[0m \u001b[0mdask\u001b[0m\u001b[0;34m.\u001b[0m\u001b[0mpersist\u001b[0m\u001b[0;34m(\u001b[0m\u001b[0mdf\u001b[0m\u001b[0;34m)\u001b[0m\u001b[0;34m\u001b[0m\u001b[0;34m\u001b[0m\u001b[0m\n\u001b[0;32m---> 18\u001b[0;31m         \u001b[0mdf\u001b[0m \u001b[0;34m=\u001b[0m \u001b[0mdf\u001b[0m\u001b[0;34m.\u001b[0m\u001b[0mset_index\u001b[0m\u001b[0;34m(\u001b[0m\u001b[0;34m'id'\u001b[0m\u001b[0;34m,\u001b[0m \u001b[0mdrop\u001b[0m\u001b[0;34m=\u001b[0m\u001b[0;32mTrue\u001b[0m\u001b[0;34m)\u001b[0m\u001b[0;34m\u001b[0m\u001b[0;34m\u001b[0m\u001b[0m\n\u001b[0m\u001b[1;32m     19\u001b[0m         \u001b[0m_\u001b[0m \u001b[0;34m=\u001b[0m \u001b[0mwait\u001b[0m\u001b[0;34m(\u001b[0m\u001b[0mdf\u001b[0m\u001b[0;34m)\u001b[0m\u001b[0;34m\u001b[0m\u001b[0;34m\u001b[0m\u001b[0m\n\u001b[1;32m     20\u001b[0m         \u001b[0;31m#print('number of rows:',len(df))\u001b[0m\u001b[0;34m\u001b[0m\u001b[0;34m\u001b[0m\u001b[0;34m\u001b[0m\u001b[0m\n",
      "\u001b[0;32m~/anaconda3/envs/dask/lib/python3.7/site-packages/dask_cudf/core.py\u001b[0m in \u001b[0;36mset_index\u001b[0;34m(***failed resolving arguments***)\u001b[0m\n\u001b[1;32m    232\u001b[0m             \u001b[0mshuffle\u001b[0m\u001b[0;34m=\u001b[0m\u001b[0;34m\"tasks\"\u001b[0m\u001b[0;34m,\u001b[0m\u001b[0;34m\u001b[0m\u001b[0;34m\u001b[0m\u001b[0m\n\u001b[1;32m    233\u001b[0m             \u001b[0mdivisions\u001b[0m\u001b[0;34m=\u001b[0m\u001b[0mdivisions\u001b[0m\u001b[0;34m,\u001b[0m\u001b[0;34m\u001b[0m\u001b[0;34m\u001b[0m\u001b[0m\n\u001b[0;32m--> 234\u001b[0;31m             \u001b[0;34m**\u001b[0m\u001b[0mkwargs\u001b[0m\u001b[0;34m,\u001b[0m\u001b[0;34m\u001b[0m\u001b[0;34m\u001b[0m\u001b[0m\n\u001b[0m\u001b[1;32m    235\u001b[0m         )\n\u001b[1;32m    236\u001b[0m \u001b[0;34m\u001b[0m\u001b[0m\n",
      "\u001b[0;32m~/anaconda3/envs/dask/lib/python3.7/site-packages/dask/dataframe/core.py\u001b[0m in \u001b[0;36mset_index\u001b[0;34m(***failed resolving arguments***)\u001b[0m\n\u001b[1;32m   3921\u001b[0m                 \u001b[0mnpartitions\u001b[0m\u001b[0;34m=\u001b[0m\u001b[0mnpartitions\u001b[0m\u001b[0;34m,\u001b[0m\u001b[0;34m\u001b[0m\u001b[0;34m\u001b[0m\u001b[0m\n\u001b[1;32m   3922\u001b[0m                 \u001b[0mdivisions\u001b[0m\u001b[0;34m=\u001b[0m\u001b[0mdivisions\u001b[0m\u001b[0;34m,\u001b[0m\u001b[0;34m\u001b[0m\u001b[0;34m\u001b[0m\u001b[0m\n\u001b[0;32m-> 3923\u001b[0;31m                 \u001b[0;34m**\u001b[0m\u001b[0mkwargs\u001b[0m\u001b[0;34m,\u001b[0m\u001b[0;34m\u001b[0m\u001b[0;34m\u001b[0m\u001b[0m\n\u001b[0m\u001b[1;32m   3924\u001b[0m             )\n\u001b[1;32m   3925\u001b[0m \u001b[0;34m\u001b[0m\u001b[0m\n",
      "\u001b[0;32m~/anaconda3/envs/dask/lib/python3.7/site-packages/dask/dataframe/shuffle.py\u001b[0m in \u001b[0;36mset_index\u001b[0;34m(df, index, npartitions, shuffle, compute, drop, upsample, divisions, partition_size, **kwargs)\u001b[0m\n\u001b[1;32m    490\u001b[0m         \u001b[0mmins\u001b[0m \u001b[0;34m=\u001b[0m \u001b[0mindex2\u001b[0m\u001b[0;34m.\u001b[0m\u001b[0mmap_partitions\u001b[0m\u001b[0;34m(\u001b[0m\u001b[0mM\u001b[0m\u001b[0;34m.\u001b[0m\u001b[0mmin\u001b[0m\u001b[0;34m)\u001b[0m\u001b[0;34m\u001b[0m\u001b[0;34m\u001b[0m\u001b[0m\n\u001b[1;32m    491\u001b[0m         \u001b[0mmaxes\u001b[0m \u001b[0;34m=\u001b[0m \u001b[0mindex2\u001b[0m\u001b[0;34m.\u001b[0m\u001b[0mmap_partitions\u001b[0m\u001b[0;34m(\u001b[0m\u001b[0mM\u001b[0m\u001b[0;34m.\u001b[0m\u001b[0mmax\u001b[0m\u001b[0;34m)\u001b[0m\u001b[0;34m\u001b[0m\u001b[0;34m\u001b[0m\u001b[0m\n\u001b[0;32m--> 492\u001b[0;31m         \u001b[0mdivisions\u001b[0m\u001b[0;34m,\u001b[0m \u001b[0msizes\u001b[0m\u001b[0;34m,\u001b[0m \u001b[0mmins\u001b[0m\u001b[0;34m,\u001b[0m \u001b[0mmaxes\u001b[0m \u001b[0;34m=\u001b[0m \u001b[0mbase\u001b[0m\u001b[0;34m.\u001b[0m\u001b[0mcompute\u001b[0m\u001b[0;34m(\u001b[0m\u001b[0mdivisions\u001b[0m\u001b[0;34m,\u001b[0m \u001b[0msizes\u001b[0m\u001b[0;34m,\u001b[0m \u001b[0mmins\u001b[0m\u001b[0;34m,\u001b[0m \u001b[0mmaxes\u001b[0m\u001b[0;34m)\u001b[0m\u001b[0;34m\u001b[0m\u001b[0;34m\u001b[0m\u001b[0m\n\u001b[0m\u001b[1;32m    493\u001b[0m         \u001b[0mdivisions\u001b[0m \u001b[0;34m=\u001b[0m \u001b[0mmethods\u001b[0m\u001b[0;34m.\u001b[0m\u001b[0mtolist\u001b[0m\u001b[0;34m(\u001b[0m\u001b[0mdivisions\u001b[0m\u001b[0;34m)\u001b[0m\u001b[0;34m\u001b[0m\u001b[0;34m\u001b[0m\u001b[0m\n\u001b[1;32m    494\u001b[0m         \u001b[0;32mif\u001b[0m \u001b[0mtype\u001b[0m\u001b[0;34m(\u001b[0m\u001b[0msizes\u001b[0m\u001b[0;34m)\u001b[0m \u001b[0;32mis\u001b[0m \u001b[0;32mnot\u001b[0m \u001b[0mlist\u001b[0m\u001b[0;34m:\u001b[0m\u001b[0;34m\u001b[0m\u001b[0;34m\u001b[0m\u001b[0m\n",
      "\u001b[0;32m~/anaconda3/envs/dask/lib/python3.7/site-packages/dask/base.py\u001b[0m in \u001b[0;36mcompute\u001b[0;34m(*args, **kwargs)\u001b[0m\n\u001b[1;32m    563\u001b[0m         \u001b[0mpostcomputes\u001b[0m\u001b[0;34m.\u001b[0m\u001b[0mappend\u001b[0m\u001b[0;34m(\u001b[0m\u001b[0mx\u001b[0m\u001b[0;34m.\u001b[0m\u001b[0m__dask_postcompute__\u001b[0m\u001b[0;34m(\u001b[0m\u001b[0;34m)\u001b[0m\u001b[0;34m)\u001b[0m\u001b[0;34m\u001b[0m\u001b[0;34m\u001b[0m\u001b[0m\n\u001b[1;32m    564\u001b[0m \u001b[0;34m\u001b[0m\u001b[0m\n\u001b[0;32m--> 565\u001b[0;31m     \u001b[0mresults\u001b[0m \u001b[0;34m=\u001b[0m \u001b[0mschedule\u001b[0m\u001b[0;34m(\u001b[0m\u001b[0mdsk\u001b[0m\u001b[0;34m,\u001b[0m \u001b[0mkeys\u001b[0m\u001b[0;34m,\u001b[0m \u001b[0;34m**\u001b[0m\u001b[0mkwargs\u001b[0m\u001b[0;34m)\u001b[0m\u001b[0;34m\u001b[0m\u001b[0;34m\u001b[0m\u001b[0m\n\u001b[0m\u001b[1;32m    566\u001b[0m     \u001b[0;32mreturn\u001b[0m \u001b[0mrepack\u001b[0m\u001b[0;34m(\u001b[0m\u001b[0;34m[\u001b[0m\u001b[0mf\u001b[0m\u001b[0;34m(\u001b[0m\u001b[0mr\u001b[0m\u001b[0;34m,\u001b[0m \u001b[0;34m*\u001b[0m\u001b[0ma\u001b[0m\u001b[0;34m)\u001b[0m \u001b[0;32mfor\u001b[0m \u001b[0mr\u001b[0m\u001b[0;34m,\u001b[0m \u001b[0;34m(\u001b[0m\u001b[0mf\u001b[0m\u001b[0;34m,\u001b[0m \u001b[0ma\u001b[0m\u001b[0;34m)\u001b[0m \u001b[0;32min\u001b[0m \u001b[0mzip\u001b[0m\u001b[0;34m(\u001b[0m\u001b[0mresults\u001b[0m\u001b[0;34m,\u001b[0m \u001b[0mpostcomputes\u001b[0m\u001b[0;34m)\u001b[0m\u001b[0;34m]\u001b[0m\u001b[0;34m)\u001b[0m\u001b[0;34m\u001b[0m\u001b[0;34m\u001b[0m\u001b[0m\n\u001b[1;32m    567\u001b[0m \u001b[0;34m\u001b[0m\u001b[0m\n",
      "\u001b[0;32m~/anaconda3/envs/dask/lib/python3.7/site-packages/distributed/client.py\u001b[0m in \u001b[0;36mget\u001b[0;34m(self, dsk, keys, workers, allow_other_workers, resources, sync, asynchronous, direct, retries, priority, fifo_timeout, actors, **kwargs)\u001b[0m\n\u001b[1;32m   2664\u001b[0m                     \u001b[0mshould_rejoin\u001b[0m \u001b[0;34m=\u001b[0m \u001b[0;32mFalse\u001b[0m\u001b[0;34m\u001b[0m\u001b[0;34m\u001b[0m\u001b[0m\n\u001b[1;32m   2665\u001b[0m             \u001b[0;32mtry\u001b[0m\u001b[0;34m:\u001b[0m\u001b[0;34m\u001b[0m\u001b[0;34m\u001b[0m\u001b[0m\n\u001b[0;32m-> 2666\u001b[0;31m                 \u001b[0mresults\u001b[0m \u001b[0;34m=\u001b[0m \u001b[0mself\u001b[0m\u001b[0;34m.\u001b[0m\u001b[0mgather\u001b[0m\u001b[0;34m(\u001b[0m\u001b[0mpacked\u001b[0m\u001b[0;34m,\u001b[0m \u001b[0masynchronous\u001b[0m\u001b[0;34m=\u001b[0m\u001b[0masynchronous\u001b[0m\u001b[0;34m,\u001b[0m \u001b[0mdirect\u001b[0m\u001b[0;34m=\u001b[0m\u001b[0mdirect\u001b[0m\u001b[0;34m)\u001b[0m\u001b[0;34m\u001b[0m\u001b[0;34m\u001b[0m\u001b[0m\n\u001b[0m\u001b[1;32m   2667\u001b[0m             \u001b[0;32mfinally\u001b[0m\u001b[0;34m:\u001b[0m\u001b[0;34m\u001b[0m\u001b[0;34m\u001b[0m\u001b[0m\n\u001b[1;32m   2668\u001b[0m                 \u001b[0;32mfor\u001b[0m \u001b[0mf\u001b[0m \u001b[0;32min\u001b[0m \u001b[0mfutures\u001b[0m\u001b[0;34m.\u001b[0m\u001b[0mvalues\u001b[0m\u001b[0;34m(\u001b[0m\u001b[0;34m)\u001b[0m\u001b[0;34m:\u001b[0m\u001b[0;34m\u001b[0m\u001b[0;34m\u001b[0m\u001b[0m\n",
      "\u001b[0;32m~/anaconda3/envs/dask/lib/python3.7/site-packages/distributed/client.py\u001b[0m in \u001b[0;36mgather\u001b[0;34m(self, futures, errors, direct, asynchronous)\u001b[0m\n\u001b[1;32m   1979\u001b[0m                 \u001b[0mdirect\u001b[0m\u001b[0;34m=\u001b[0m\u001b[0mdirect\u001b[0m\u001b[0;34m,\u001b[0m\u001b[0;34m\u001b[0m\u001b[0;34m\u001b[0m\u001b[0m\n\u001b[1;32m   1980\u001b[0m                 \u001b[0mlocal_worker\u001b[0m\u001b[0;34m=\u001b[0m\u001b[0mlocal_worker\u001b[0m\u001b[0;34m,\u001b[0m\u001b[0;34m\u001b[0m\u001b[0;34m\u001b[0m\u001b[0m\n\u001b[0;32m-> 1981\u001b[0;31m                 \u001b[0masynchronous\u001b[0m\u001b[0;34m=\u001b[0m\u001b[0masynchronous\u001b[0m\u001b[0;34m,\u001b[0m\u001b[0;34m\u001b[0m\u001b[0;34m\u001b[0m\u001b[0m\n\u001b[0m\u001b[1;32m   1982\u001b[0m             )\n\u001b[1;32m   1983\u001b[0m \u001b[0;34m\u001b[0m\u001b[0m\n",
      "\u001b[0;32m~/anaconda3/envs/dask/lib/python3.7/site-packages/distributed/client.py\u001b[0m in \u001b[0;36msync\u001b[0;34m(self, func, asynchronous, callback_timeout, *args, **kwargs)\u001b[0m\n\u001b[1;32m    842\u001b[0m         \u001b[0;32melse\u001b[0m\u001b[0;34m:\u001b[0m\u001b[0;34m\u001b[0m\u001b[0;34m\u001b[0m\u001b[0m\n\u001b[1;32m    843\u001b[0m             return sync(\n\u001b[0;32m--> 844\u001b[0;31m                 \u001b[0mself\u001b[0m\u001b[0;34m.\u001b[0m\u001b[0mloop\u001b[0m\u001b[0;34m,\u001b[0m \u001b[0mfunc\u001b[0m\u001b[0;34m,\u001b[0m \u001b[0;34m*\u001b[0m\u001b[0margs\u001b[0m\u001b[0;34m,\u001b[0m \u001b[0mcallback_timeout\u001b[0m\u001b[0;34m=\u001b[0m\u001b[0mcallback_timeout\u001b[0m\u001b[0;34m,\u001b[0m \u001b[0;34m**\u001b[0m\u001b[0mkwargs\u001b[0m\u001b[0;34m\u001b[0m\u001b[0;34m\u001b[0m\u001b[0m\n\u001b[0m\u001b[1;32m    845\u001b[0m             )\n\u001b[1;32m    846\u001b[0m \u001b[0;34m\u001b[0m\u001b[0m\n",
      "\u001b[0;32m~/anaconda3/envs/dask/lib/python3.7/site-packages/distributed/utils.py\u001b[0m in \u001b[0;36msync\u001b[0;34m(loop, func, callback_timeout, *args, **kwargs)\u001b[0m\n\u001b[1;32m    351\u001b[0m     \u001b[0;32mif\u001b[0m \u001b[0merror\u001b[0m\u001b[0;34m[\u001b[0m\u001b[0;36m0\u001b[0m\u001b[0;34m]\u001b[0m\u001b[0;34m:\u001b[0m\u001b[0;34m\u001b[0m\u001b[0;34m\u001b[0m\u001b[0m\n\u001b[1;32m    352\u001b[0m         \u001b[0mtyp\u001b[0m\u001b[0;34m,\u001b[0m \u001b[0mexc\u001b[0m\u001b[0;34m,\u001b[0m \u001b[0mtb\u001b[0m \u001b[0;34m=\u001b[0m \u001b[0merror\u001b[0m\u001b[0;34m[\u001b[0m\u001b[0;36m0\u001b[0m\u001b[0;34m]\u001b[0m\u001b[0;34m\u001b[0m\u001b[0;34m\u001b[0m\u001b[0m\n\u001b[0;32m--> 353\u001b[0;31m         \u001b[0;32mraise\u001b[0m \u001b[0mexc\u001b[0m\u001b[0;34m.\u001b[0m\u001b[0mwith_traceback\u001b[0m\u001b[0;34m(\u001b[0m\u001b[0mtb\u001b[0m\u001b[0;34m)\u001b[0m\u001b[0;34m\u001b[0m\u001b[0;34m\u001b[0m\u001b[0m\n\u001b[0m\u001b[1;32m    354\u001b[0m     \u001b[0;32melse\u001b[0m\u001b[0;34m:\u001b[0m\u001b[0;34m\u001b[0m\u001b[0;34m\u001b[0m\u001b[0m\n\u001b[1;32m    355\u001b[0m         \u001b[0;32mreturn\u001b[0m \u001b[0mresult\u001b[0m\u001b[0;34m[\u001b[0m\u001b[0;36m0\u001b[0m\u001b[0;34m]\u001b[0m\u001b[0;34m\u001b[0m\u001b[0;34m\u001b[0m\u001b[0m\n",
      "\u001b[0;32m~/anaconda3/envs/dask/lib/python3.7/site-packages/distributed/utils.py\u001b[0m in \u001b[0;36mf\u001b[0;34m()\u001b[0m\n\u001b[1;32m    334\u001b[0m             \u001b[0;32mif\u001b[0m \u001b[0mcallback_timeout\u001b[0m \u001b[0;32mis\u001b[0m \u001b[0;32mnot\u001b[0m \u001b[0;32mNone\u001b[0m\u001b[0;34m:\u001b[0m\u001b[0;34m\u001b[0m\u001b[0;34m\u001b[0m\u001b[0m\n\u001b[1;32m    335\u001b[0m                 \u001b[0mfuture\u001b[0m \u001b[0;34m=\u001b[0m \u001b[0masyncio\u001b[0m\u001b[0;34m.\u001b[0m\u001b[0mwait_for\u001b[0m\u001b[0;34m(\u001b[0m\u001b[0mfuture\u001b[0m\u001b[0;34m,\u001b[0m \u001b[0mcallback_timeout\u001b[0m\u001b[0;34m)\u001b[0m\u001b[0;34m\u001b[0m\u001b[0;34m\u001b[0m\u001b[0m\n\u001b[0;32m--> 336\u001b[0;31m             \u001b[0mresult\u001b[0m\u001b[0;34m[\u001b[0m\u001b[0;36m0\u001b[0m\u001b[0;34m]\u001b[0m \u001b[0;34m=\u001b[0m \u001b[0;32myield\u001b[0m \u001b[0mfuture\u001b[0m\u001b[0;34m\u001b[0m\u001b[0;34m\u001b[0m\u001b[0m\n\u001b[0m\u001b[1;32m    337\u001b[0m         \u001b[0;32mexcept\u001b[0m \u001b[0mException\u001b[0m \u001b[0;32mas\u001b[0m \u001b[0mexc\u001b[0m\u001b[0;34m:\u001b[0m\u001b[0;34m\u001b[0m\u001b[0;34m\u001b[0m\u001b[0m\n\u001b[1;32m    338\u001b[0m             \u001b[0merror\u001b[0m\u001b[0;34m[\u001b[0m\u001b[0;36m0\u001b[0m\u001b[0;34m]\u001b[0m \u001b[0;34m=\u001b[0m \u001b[0msys\u001b[0m\u001b[0;34m.\u001b[0m\u001b[0mexc_info\u001b[0m\u001b[0;34m(\u001b[0m\u001b[0;34m)\u001b[0m\u001b[0;34m\u001b[0m\u001b[0;34m\u001b[0m\u001b[0m\n",
      "\u001b[0;32m~/anaconda3/envs/dask/lib/python3.7/site-packages/tornado/gen.py\u001b[0m in \u001b[0;36mrun\u001b[0;34m(self)\u001b[0m\n\u001b[1;32m    760\u001b[0m \u001b[0;34m\u001b[0m\u001b[0m\n\u001b[1;32m    761\u001b[0m                     \u001b[0;32mtry\u001b[0m\u001b[0;34m:\u001b[0m\u001b[0;34m\u001b[0m\u001b[0;34m\u001b[0m\u001b[0m\n\u001b[0;32m--> 762\u001b[0;31m                         \u001b[0mvalue\u001b[0m \u001b[0;34m=\u001b[0m \u001b[0mfuture\u001b[0m\u001b[0;34m.\u001b[0m\u001b[0mresult\u001b[0m\u001b[0;34m(\u001b[0m\u001b[0;34m)\u001b[0m\u001b[0;34m\u001b[0m\u001b[0;34m\u001b[0m\u001b[0m\n\u001b[0m\u001b[1;32m    763\u001b[0m                     \u001b[0;32mexcept\u001b[0m \u001b[0mException\u001b[0m\u001b[0;34m:\u001b[0m\u001b[0;34m\u001b[0m\u001b[0;34m\u001b[0m\u001b[0m\n\u001b[1;32m    764\u001b[0m                         \u001b[0mexc_info\u001b[0m \u001b[0;34m=\u001b[0m \u001b[0msys\u001b[0m\u001b[0;34m.\u001b[0m\u001b[0mexc_info\u001b[0m\u001b[0;34m(\u001b[0m\u001b[0;34m)\u001b[0m\u001b[0;34m\u001b[0m\u001b[0;34m\u001b[0m\u001b[0m\n",
      "\u001b[0;32m~/anaconda3/envs/dask/lib/python3.7/site-packages/distributed/client.py\u001b[0m in \u001b[0;36m_gather\u001b[0;34m(self, futures, errors, direct, local_worker)\u001b[0m\n\u001b[1;32m   1838\u001b[0m                             \u001b[0mexc\u001b[0m \u001b[0;34m=\u001b[0m \u001b[0mCancelledError\u001b[0m\u001b[0;34m(\u001b[0m\u001b[0mkey\u001b[0m\u001b[0;34m)\u001b[0m\u001b[0;34m\u001b[0m\u001b[0;34m\u001b[0m\u001b[0m\n\u001b[1;32m   1839\u001b[0m                         \u001b[0;32melse\u001b[0m\u001b[0;34m:\u001b[0m\u001b[0;34m\u001b[0m\u001b[0;34m\u001b[0m\u001b[0m\n\u001b[0;32m-> 1840\u001b[0;31m                             \u001b[0;32mraise\u001b[0m \u001b[0mexception\u001b[0m\u001b[0;34m.\u001b[0m\u001b[0mwith_traceback\u001b[0m\u001b[0;34m(\u001b[0m\u001b[0mtraceback\u001b[0m\u001b[0;34m)\u001b[0m\u001b[0;34m\u001b[0m\u001b[0;34m\u001b[0m\u001b[0m\n\u001b[0m\u001b[1;32m   1841\u001b[0m                         \u001b[0;32mraise\u001b[0m \u001b[0mexc\u001b[0m\u001b[0;34m\u001b[0m\u001b[0;34m\u001b[0m\u001b[0m\n\u001b[1;32m   1842\u001b[0m                     \u001b[0;32mif\u001b[0m \u001b[0merrors\u001b[0m \u001b[0;34m==\u001b[0m \u001b[0;34m\"skip\"\u001b[0m\u001b[0;34m:\u001b[0m\u001b[0;34m\u001b[0m\u001b[0;34m\u001b[0m\u001b[0m\n",
      "\u001b[0;32m~/anaconda3/envs/dask/lib/python3.7/site-packages/dask/dataframe/io/parquet/core.py\u001b[0m in \u001b[0;36mread_parquet_part\u001b[0;34m()\u001b[0m\n\u001b[1;32m    383\u001b[0m         dfs = [\n\u001b[1;32m    384\u001b[0m             \u001b[0mfunc\u001b[0m\u001b[0;34m(\u001b[0m\u001b[0mfs\u001b[0m\u001b[0;34m,\u001b[0m \u001b[0mrg\u001b[0m\u001b[0;34m,\u001b[0m \u001b[0mcolumns\u001b[0m\u001b[0;34m.\u001b[0m\u001b[0mcopy\u001b[0m\u001b[0;34m(\u001b[0m\u001b[0;34m)\u001b[0m\u001b[0;34m,\u001b[0m \u001b[0mindex\u001b[0m\u001b[0;34m,\u001b[0m \u001b[0;34m**\u001b[0m\u001b[0mtoolz\u001b[0m\u001b[0;34m.\u001b[0m\u001b[0mmerge\u001b[0m\u001b[0;34m(\u001b[0m\u001b[0mkwargs\u001b[0m\u001b[0;34m,\u001b[0m \u001b[0mkw\u001b[0m\u001b[0;34m)\u001b[0m\u001b[0;34m)\u001b[0m\u001b[0;34m\u001b[0m\u001b[0;34m\u001b[0m\u001b[0m\n\u001b[0;32m--> 385\u001b[0;31m             \u001b[0;32mfor\u001b[0m \u001b[0;34m(\u001b[0m\u001b[0mrg\u001b[0m\u001b[0;34m,\u001b[0m \u001b[0mkw\u001b[0m\u001b[0;34m)\u001b[0m \u001b[0;32min\u001b[0m \u001b[0mpart\u001b[0m\u001b[0;34m\u001b[0m\u001b[0;34m\u001b[0m\u001b[0m\n\u001b[0m\u001b[1;32m    386\u001b[0m         ]\n\u001b[1;32m    387\u001b[0m         \u001b[0mdf\u001b[0m \u001b[0;34m=\u001b[0m \u001b[0mconcat\u001b[0m\u001b[0;34m(\u001b[0m\u001b[0mdfs\u001b[0m\u001b[0;34m,\u001b[0m \u001b[0maxis\u001b[0m\u001b[0;34m=\u001b[0m\u001b[0;36m0\u001b[0m\u001b[0;34m)\u001b[0m\u001b[0;34m\u001b[0m\u001b[0;34m\u001b[0m\u001b[0m\n",
      "\u001b[0;32m~/anaconda3/envs/dask/lib/python3.7/site-packages/dask/dataframe/io/parquet/core.py\u001b[0m in \u001b[0;36m<listcomp>\u001b[0;34m()\u001b[0m\n\u001b[1;32m    383\u001b[0m         dfs = [\n\u001b[1;32m    384\u001b[0m             \u001b[0mfunc\u001b[0m\u001b[0;34m(\u001b[0m\u001b[0mfs\u001b[0m\u001b[0;34m,\u001b[0m \u001b[0mrg\u001b[0m\u001b[0;34m,\u001b[0m \u001b[0mcolumns\u001b[0m\u001b[0;34m.\u001b[0m\u001b[0mcopy\u001b[0m\u001b[0;34m(\u001b[0m\u001b[0;34m)\u001b[0m\u001b[0;34m,\u001b[0m \u001b[0mindex\u001b[0m\u001b[0;34m,\u001b[0m \u001b[0;34m**\u001b[0m\u001b[0mtoolz\u001b[0m\u001b[0;34m.\u001b[0m\u001b[0mmerge\u001b[0m\u001b[0;34m(\u001b[0m\u001b[0mkwargs\u001b[0m\u001b[0;34m,\u001b[0m \u001b[0mkw\u001b[0m\u001b[0;34m)\u001b[0m\u001b[0;34m)\u001b[0m\u001b[0;34m\u001b[0m\u001b[0;34m\u001b[0m\u001b[0m\n\u001b[0;32m--> 385\u001b[0;31m             \u001b[0;32mfor\u001b[0m \u001b[0;34m(\u001b[0m\u001b[0mrg\u001b[0m\u001b[0;34m,\u001b[0m \u001b[0mkw\u001b[0m\u001b[0;34m)\u001b[0m \u001b[0;32min\u001b[0m \u001b[0mpart\u001b[0m\u001b[0;34m\u001b[0m\u001b[0;34m\u001b[0m\u001b[0m\n\u001b[0m\u001b[1;32m    386\u001b[0m         ]\n\u001b[1;32m    387\u001b[0m         \u001b[0mdf\u001b[0m \u001b[0;34m=\u001b[0m \u001b[0mconcat\u001b[0m\u001b[0;34m(\u001b[0m\u001b[0mdfs\u001b[0m\u001b[0;34m,\u001b[0m \u001b[0maxis\u001b[0m\u001b[0;34m=\u001b[0m\u001b[0;36m0\u001b[0m\u001b[0;34m)\u001b[0m\u001b[0;34m\u001b[0m\u001b[0;34m\u001b[0m\u001b[0m\n",
      "\u001b[0;32m~/anaconda3/envs/dask/lib/python3.7/site-packages/dask_cudf/io/parquet.py\u001b[0m in \u001b[0;36mread_partition\u001b[0;34m()\u001b[0m\n\u001b[1;32m     65\u001b[0m                 \u001b[0mrow_groups\u001b[0m\u001b[0;34m=\u001b[0m\u001b[0mrow_group\u001b[0m\u001b[0;34m,\u001b[0m\u001b[0;34m\u001b[0m\u001b[0;34m\u001b[0m\u001b[0m\n\u001b[1;32m     66\u001b[0m                 \u001b[0mstrings_to_categorical\u001b[0m\u001b[0;34m=\u001b[0m\u001b[0mstrings_to_cats\u001b[0m\u001b[0;34m,\u001b[0m\u001b[0;34m\u001b[0m\u001b[0;34m\u001b[0m\u001b[0m\n\u001b[0;32m---> 67\u001b[0;31m                 \u001b[0;34m**\u001b[0m\u001b[0mkwargs\u001b[0m\u001b[0;34m.\u001b[0m\u001b[0mget\u001b[0m\u001b[0;34m(\u001b[0m\u001b[0;34m\"read\"\u001b[0m\u001b[0;34m,\u001b[0m \u001b[0;34m{\u001b[0m\u001b[0;34m}\u001b[0m\u001b[0;34m)\u001b[0m\u001b[0;34m,\u001b[0m\u001b[0;34m\u001b[0m\u001b[0;34m\u001b[0m\u001b[0m\n\u001b[0m\u001b[1;32m     68\u001b[0m             )\n\u001b[1;32m     69\u001b[0m         \u001b[0;32melse\u001b[0m\u001b[0;34m:\u001b[0m\u001b[0;34m\u001b[0m\u001b[0;34m\u001b[0m\u001b[0m\n",
      "\u001b[0;32m~/anaconda3/envs/dask/lib/python3.7/site-packages/cudf/io/parquet.py\u001b[0m in \u001b[0;36mread_parquet\u001b[0;34m()\u001b[0m\n\u001b[1;32m    256\u001b[0m             \u001b[0mnum_rows\u001b[0m\u001b[0;34m=\u001b[0m\u001b[0mnum_rows\u001b[0m\u001b[0;34m,\u001b[0m\u001b[0;34m\u001b[0m\u001b[0;34m\u001b[0m\u001b[0m\n\u001b[1;32m    257\u001b[0m             \u001b[0mstrings_to_categorical\u001b[0m\u001b[0;34m=\u001b[0m\u001b[0mstrings_to_categorical\u001b[0m\u001b[0;34m,\u001b[0m\u001b[0;34m\u001b[0m\u001b[0;34m\u001b[0m\u001b[0m\n\u001b[0;32m--> 258\u001b[0;31m             \u001b[0muse_pandas_metadata\u001b[0m\u001b[0;34m=\u001b[0m\u001b[0muse_pandas_metadata\u001b[0m\u001b[0;34m,\u001b[0m\u001b[0;34m\u001b[0m\u001b[0;34m\u001b[0m\u001b[0m\n\u001b[0m\u001b[1;32m    259\u001b[0m         )\n\u001b[1;32m    260\u001b[0m     \u001b[0;32melse\u001b[0m\u001b[0;34m:\u001b[0m\u001b[0;34m\u001b[0m\u001b[0;34m\u001b[0m\u001b[0m\n",
      "\u001b[0;32mcudf/_lib/parquet.pyx\u001b[0m in \u001b[0;36mcudf._lib.parquet.read_parquet\u001b[0;34m()\u001b[0m\n",
      "\u001b[0;32mcudf/_lib/parquet.pyx\u001b[0m in \u001b[0;36mcudf._lib.parquet.read_parquet\u001b[0;34m()\u001b[0m\n",
      "\u001b[0;31mMemoryError\u001b[0m: std::bad_alloc: CUDA error at: /home/nyongja/anaconda3/envs/dask/include/rmm/mr/device/cuda_memory_resource.hpp:69: cudaErrorMemoryAllocation out of memory"
     ]
    }
   ],
   "source": [
    "NP = 16\n",
    "# data_path = conf.raw_data_path + '*' # for all dataset\n",
    "data_path = conf.raw_data_path + 'part-0000*'\n",
    "ori_df = read_data(data_path)\n",
    "\n",
    "#print('number of rows:',len(ori_df))"
   ]
  },
  {
   "cell_type": "code",
   "execution_count": null,
   "id": "generic-vermont",
   "metadata": {},
   "outputs": [],
   "source": [
    "columns = ['like_timestamp', \n",
    "           'retweet_timestamp',\n",
    "           'reply_timestamp',\n",
    "           'retweet_with_comment_timestamp']\n",
    "engagement_df = ori_df[columns]"
   ]
  },
  {
   "cell_type": "code",
   "execution_count": 5,
   "id": "solved-encoding",
   "metadata": {},
   "outputs": [],
   "source": [
    "engagement_df[\"is_like\"] = engagement_df[\"like_timestamp\"].compute().applymap(lambda x : True if x > 0 else False).astype(np.bool)\n",
    "engagement_df[\"is_retweet\"] = engagement_df[\"retweet_timestamp\"].compute().applymap(lambda x : True if x > 0 else False).astype(np.bool)\n",
    "engagement_df[\"is_reply\"] = engagement_df[\"reply_timestamp\"].compute().applymap(lambda x : True if x > 0 else False).astype(np.bool)\n",
    "engagement_df[\"is_retweet_with_comment\"] = engagement_df[\"retweet_with_comment_timestamp\"].compute().applymap(lambda x : True if x > 0 else False).astype(np.bool)\n",
    "engagement_df['is_positive'] = engagement_df['is_reply'] | engagement_df['is_retweet'] | engagement_df['is_retweet_with_comment'] | engagement_df['is_like']\n",
    "engagement_df['is_negative'] =  engagement_df['is_positive'].compute().applymap(lambda x: 1 if x == 0 else 0).astype(np.int32)"
   ]
  },
  {
   "cell_type": "code",
   "execution_count": null,
   "id": "focused-president",
   "metadata": {},
   "outputs": [],
   "source": [
    "engagement_df = engagement_df.drop('like_timestamp', axis = 1)\n",
    "engagement_df = engagement_df.drop('retweet_timestamp', axis = 1)\n",
    "engagement_df = engagement_df.drop('reply_timestamp', axis = 1)\n",
    "engagement_df = engagement_df.drop('retweet_with_comment_timestamp', axis = 1)"
   ]
  },
  {
   "cell_type": "code",
   "execution_count": 12,
   "id": "neutral-lucas",
   "metadata": {},
   "outputs": [],
   "source": [
    "df,_ = factorize_small_cardinality_with_index(ori_df, \"tweet_id\", \"mapped_feature_tweet_id\")"
   ]
  },
  {
   "cell_type": "code",
   "execution_count": 13,
   "id": "surgical-andrews",
   "metadata": {},
   "outputs": [
    {
     "data": {
      "text/html": [
       "<div>\n",
       "<style scoped>\n",
       "    .dataframe tbody tr th:only-of-type {\n",
       "        vertical-align: middle;\n",
       "    }\n",
       "\n",
       "    .dataframe tbody tr th {\n",
       "        vertical-align: top;\n",
       "    }\n",
       "\n",
       "    .dataframe thead th {\n",
       "        text-align: right;\n",
       "    }\n",
       "</style>\n",
       "<table border=\"1\" class=\"dataframe\">\n",
       "  <thead>\n",
       "    <tr style=\"text-align: right;\">\n",
       "      <th></th>\n",
       "      <th>text_ tokens</th>\n",
       "      <th>hashtags</th>\n",
       "      <th>tweet_id</th>\n",
       "      <th>present_media</th>\n",
       "      <th>present_links</th>\n",
       "      <th>present_domains</th>\n",
       "      <th>tweet_type</th>\n",
       "      <th>language</th>\n",
       "      <th>tweet_timestamp</th>\n",
       "      <th>engaged_with_user_id</th>\n",
       "      <th>...</th>\n",
       "      <th>enaging_user_follower_count</th>\n",
       "      <th>enaging_user_following_count</th>\n",
       "      <th>enaging_user_is_verified</th>\n",
       "      <th>enaging_user_account_creation</th>\n",
       "      <th>engagee_follows_engager</th>\n",
       "      <th>reply_timestamp</th>\n",
       "      <th>retweet_timestamp</th>\n",
       "      <th>retweet_with_comment_timestamp</th>\n",
       "      <th>like_timestamp</th>\n",
       "      <th>mapped_feature_tweet_id</th>\n",
       "    </tr>\n",
       "  </thead>\n",
       "  <tbody>\n",
       "    <tr>\n",
       "      <th>0</th>\n",
       "      <td>101\\t11518\\t35678\\t10121\\t10543\\t10911\\t66330\\...</td>\n",
       "      <td>&lt;NA&gt;</td>\n",
       "      <td>1ED449592DD3E8AFD06C96810BFDE94B</td>\n",
       "      <td>&lt;NA&gt;</td>\n",
       "      <td>&lt;NA&gt;</td>\n",
       "      <td>&lt;NA&gt;</td>\n",
       "      <td>TopLevel</td>\n",
       "      <td>B0FA488F2911701DD8EC5B1EA5E322D8</td>\n",
       "      <td>1613836763</td>\n",
       "      <td>AFEBFE7CD8624080FAC332F7738A47A3</td>\n",
       "      <td>...</td>\n",
       "      <td>2313</td>\n",
       "      <td>535</td>\n",
       "      <td>False</td>\n",
       "      <td>1317424453</td>\n",
       "      <td>True</td>\n",
       "      <td>0</td>\n",
       "      <td>0</td>\n",
       "      <td>0</td>\n",
       "      <td>1613837379</td>\n",
       "      <td>340762</td>\n",
       "    </tr>\n",
       "    <tr>\n",
       "      <th>1</th>\n",
       "      <td>101\\t33522\\t34139\\t865\\t35773\\t21202\\t18244\\t8...</td>\n",
       "      <td>6720A1999211A529047947AF0E541791\\tDB0327A51C9C...</td>\n",
       "      <td>E7F3E2643496EA7F812645FCD5609453</td>\n",
       "      <td>Video</td>\n",
       "      <td>&lt;NA&gt;</td>\n",
       "      <td>&lt;NA&gt;</td>\n",
       "      <td>TopLevel</td>\n",
       "      <td>B4DC2F82961F1263E90DF7A942CCE0B2</td>\n",
       "      <td>1613801465</td>\n",
       "      <td>F910210C2A15E75EEA1C215DFA378DDF</td>\n",
       "      <td>...</td>\n",
       "      <td>146</td>\n",
       "      <td>198</td>\n",
       "      <td>False</td>\n",
       "      <td>1593802963</td>\n",
       "      <td>False</td>\n",
       "      <td>0</td>\n",
       "      <td>0</td>\n",
       "      <td>0</td>\n",
       "      <td>1613801858</td>\n",
       "      <td>2557376</td>\n",
       "    </tr>\n",
       "    <tr>\n",
       "      <th>2</th>\n",
       "      <td>101\\t56898\\t137\\t58573\\t13034\\t24093\\t168\\t121...</td>\n",
       "      <td>49550073D480172B59981D2237E1E0CF</td>\n",
       "      <td>4CEA776FB8F319CF643BBC9D3B3FD4BB</td>\n",
       "      <td>&lt;NA&gt;</td>\n",
       "      <td>&lt;NA&gt;</td>\n",
       "      <td>&lt;NA&gt;</td>\n",
       "      <td>Retweet</td>\n",
       "      <td>E7F038DE3EAD397AEC9193686C911677</td>\n",
       "      <td>1613378409</td>\n",
       "      <td>1A5DC78315C16E582B874B13F4B81E2C</td>\n",
       "      <td>...</td>\n",
       "      <td>181</td>\n",
       "      <td>181</td>\n",
       "      <td>False</td>\n",
       "      <td>1312775743</td>\n",
       "      <td>True</td>\n",
       "      <td>0</td>\n",
       "      <td>0</td>\n",
       "      <td>0</td>\n",
       "      <td>0</td>\n",
       "      <td>849378</td>\n",
       "    </tr>\n",
       "    <tr>\n",
       "      <th>3</th>\n",
       "      <td>101\\t56898\\t137\\t18840\\t14271\\t168\\t188\\t19528...</td>\n",
       "      <td>D1EDFADAD3149AED4D5E1867076CCAD4\\t981FFC7A8BBF...</td>\n",
       "      <td>554E4F5F416A574E1731E48D95148C75</td>\n",
       "      <td>&lt;NA&gt;</td>\n",
       "      <td>&lt;NA&gt;</td>\n",
       "      <td>&lt;NA&gt;</td>\n",
       "      <td>Retweet</td>\n",
       "      <td>E7F038DE3EAD397AEC9193686C911677</td>\n",
       "      <td>1612667302</td>\n",
       "      <td>D93BD394F52D5E48E029BB74D58C0C4C</td>\n",
       "      <td>...</td>\n",
       "      <td>254</td>\n",
       "      <td>240</td>\n",
       "      <td>False</td>\n",
       "      <td>1573402641</td>\n",
       "      <td>True</td>\n",
       "      <td>0</td>\n",
       "      <td>0</td>\n",
       "      <td>0</td>\n",
       "      <td>1612670508</td>\n",
       "      <td>941831</td>\n",
       "    </tr>\n",
       "    <tr>\n",
       "      <th>4</th>\n",
       "      <td>101\\t208\\t11589\\t10143\\t85346\\t16719\\t10240\\t8...</td>\n",
       "      <td>&lt;NA&gt;</td>\n",
       "      <td>5808202C9D839ACDBE6D6118981015E2</td>\n",
       "      <td>&lt;NA&gt;</td>\n",
       "      <td>1E3B9AF509BEB2F8E125C22716BACF4E</td>\n",
       "      <td>3306D25BD1F0AEFE292D5302A2815CDC</td>\n",
       "      <td>TopLevel</td>\n",
       "      <td>B0FA488F2911701DD8EC5B1EA5E322D8</td>\n",
       "      <td>1614087902</td>\n",
       "      <td>B39C1FC2B800F490A67E9BD381AD66FD</td>\n",
       "      <td>...</td>\n",
       "      <td>551</td>\n",
       "      <td>633</td>\n",
       "      <td>False</td>\n",
       "      <td>1239536094</td>\n",
       "      <td>False</td>\n",
       "      <td>0</td>\n",
       "      <td>0</td>\n",
       "      <td>0</td>\n",
       "      <td>0</td>\n",
       "      <td>971924</td>\n",
       "    </tr>\n",
       "  </tbody>\n",
       "</table>\n",
       "<p>5 rows × 25 columns</p>\n",
       "</div>"
      ],
      "text/plain": [
       "                                        text_ tokens  \\\n",
       "0  101\\t11518\\t35678\\t10121\\t10543\\t10911\\t66330\\...   \n",
       "1  101\\t33522\\t34139\\t865\\t35773\\t21202\\t18244\\t8...   \n",
       "2  101\\t56898\\t137\\t58573\\t13034\\t24093\\t168\\t121...   \n",
       "3  101\\t56898\\t137\\t18840\\t14271\\t168\\t188\\t19528...   \n",
       "4  101\\t208\\t11589\\t10143\\t85346\\t16719\\t10240\\t8...   \n",
       "\n",
       "                                            hashtags  \\\n",
       "0                                               <NA>   \n",
       "1  6720A1999211A529047947AF0E541791\\tDB0327A51C9C...   \n",
       "2                   49550073D480172B59981D2237E1E0CF   \n",
       "3  D1EDFADAD3149AED4D5E1867076CCAD4\\t981FFC7A8BBF...   \n",
       "4                                               <NA>   \n",
       "\n",
       "                           tweet_id present_media  \\\n",
       "0  1ED449592DD3E8AFD06C96810BFDE94B          <NA>   \n",
       "1  E7F3E2643496EA7F812645FCD5609453         Video   \n",
       "2  4CEA776FB8F319CF643BBC9D3B3FD4BB          <NA>   \n",
       "3  554E4F5F416A574E1731E48D95148C75          <NA>   \n",
       "4  5808202C9D839ACDBE6D6118981015E2          <NA>   \n",
       "\n",
       "                      present_links                   present_domains  \\\n",
       "0                              <NA>                              <NA>   \n",
       "1                              <NA>                              <NA>   \n",
       "2                              <NA>                              <NA>   \n",
       "3                              <NA>                              <NA>   \n",
       "4  1E3B9AF509BEB2F8E125C22716BACF4E  3306D25BD1F0AEFE292D5302A2815CDC   \n",
       "\n",
       "  tweet_type                          language  tweet_timestamp  \\\n",
       "0   TopLevel  B0FA488F2911701DD8EC5B1EA5E322D8       1613836763   \n",
       "1   TopLevel  B4DC2F82961F1263E90DF7A942CCE0B2       1613801465   \n",
       "2    Retweet  E7F038DE3EAD397AEC9193686C911677       1613378409   \n",
       "3    Retweet  E7F038DE3EAD397AEC9193686C911677       1612667302   \n",
       "4   TopLevel  B0FA488F2911701DD8EC5B1EA5E322D8       1614087902   \n",
       "\n",
       "               engaged_with_user_id  ...  enaging_user_follower_count  \\\n",
       "0  AFEBFE7CD8624080FAC332F7738A47A3  ...                         2313   \n",
       "1  F910210C2A15E75EEA1C215DFA378DDF  ...                          146   \n",
       "2  1A5DC78315C16E582B874B13F4B81E2C  ...                          181   \n",
       "3  D93BD394F52D5E48E029BB74D58C0C4C  ...                          254   \n",
       "4  B39C1FC2B800F490A67E9BD381AD66FD  ...                          551   \n",
       "\n",
       "   enaging_user_following_count  enaging_user_is_verified  \\\n",
       "0                           535                     False   \n",
       "1                           198                     False   \n",
       "2                           181                     False   \n",
       "3                           240                     False   \n",
       "4                           633                     False   \n",
       "\n",
       "   enaging_user_account_creation  engagee_follows_engager  reply_timestamp  \\\n",
       "0                     1317424453                     True                0   \n",
       "1                     1593802963                    False                0   \n",
       "2                     1312775743                     True                0   \n",
       "3                     1573402641                     True                0   \n",
       "4                     1239536094                    False                0   \n",
       "\n",
       "   retweet_timestamp  retweet_with_comment_timestamp  like_timestamp  \\\n",
       "0                  0                               0      1613837379   \n",
       "1                  0                               0      1613801858   \n",
       "2                  0                               0               0   \n",
       "3                  0                               0      1612670508   \n",
       "4                  0                               0               0   \n",
       "\n",
       "   mapped_feature_tweet_id  \n",
       "0                   340762  \n",
       "1                  2557376  \n",
       "2                   849378  \n",
       "3                   941831  \n",
       "4                   971924  \n",
       "\n",
       "[5 rows x 25 columns]"
      ]
     },
     "execution_count": 13,
     "metadata": {},
     "output_type": "execute_result"
    }
   ],
   "source": [
    "df.head()"
   ]
  },
  {
   "cell_type": "code",
   "execution_count": 14,
   "id": "healthy-indiana",
   "metadata": {},
   "outputs": [],
   "source": [
    "df['present_media'] = df['present_media'].fillna( '' )"
   ]
  },
  {
   "cell_type": "markdown",
   "id": "prerequisite-italy",
   "metadata": {},
   "source": [
    "# Media Index DafaFrame"
   ]
  },
  {
   "cell_type": "code",
   "execution_count": 17,
   "id": "fifty-breach",
   "metadata": {},
   "outputs": [],
   "source": [
    "df,media_index, _ = factorize_small_cardinality_with_index(df, 'present_media', 'media_type')"
   ]
  },
  {
   "cell_type": "code",
   "execution_count": 18,
   "id": "quick-particle",
   "metadata": {
    "scrolled": true
   },
   "outputs": [
    {
     "data": {
      "text/html": [
       "<div>\n",
       "<style scoped>\n",
       "    .dataframe tbody tr th:only-of-type {\n",
       "        vertical-align: middle;\n",
       "    }\n",
       "\n",
       "    .dataframe tbody tr th {\n",
       "        vertical-align: top;\n",
       "    }\n",
       "\n",
       "    .dataframe thead th {\n",
       "        text-align: right;\n",
       "    }\n",
       "</style>\n",
       "<table border=\"1\" class=\"dataframe\">\n",
       "  <thead>\n",
       "    <tr style=\"text-align: right;\">\n",
       "      <th></th>\n",
       "      <th>text_ tokens</th>\n",
       "      <th>hashtags</th>\n",
       "      <th>tweet_id</th>\n",
       "      <th>present_media</th>\n",
       "      <th>present_links</th>\n",
       "      <th>present_domains</th>\n",
       "      <th>tweet_type</th>\n",
       "      <th>language</th>\n",
       "      <th>tweet_timestamp</th>\n",
       "      <th>engaged_with_user_id</th>\n",
       "      <th>...</th>\n",
       "      <th>enaging_user_following_count</th>\n",
       "      <th>enaging_user_is_verified</th>\n",
       "      <th>enaging_user_account_creation</th>\n",
       "      <th>engagee_follows_engager</th>\n",
       "      <th>reply_timestamp</th>\n",
       "      <th>retweet_timestamp</th>\n",
       "      <th>retweet_with_comment_timestamp</th>\n",
       "      <th>like_timestamp</th>\n",
       "      <th>mapped_feature_tweet_id</th>\n",
       "      <th>media_type</th>\n",
       "    </tr>\n",
       "  </thead>\n",
       "  <tbody>\n",
       "    <tr>\n",
       "      <th>0</th>\n",
       "      <td>101\\t16411\\t10797\\t10119\\t49341\\t10104\\t62330\\...</td>\n",
       "      <td>&lt;NA&gt;</td>\n",
       "      <td>F1D4DB301DB94F6831CB0E967AEEAB21</td>\n",
       "      <td></td>\n",
       "      <td>&lt;NA&gt;</td>\n",
       "      <td>&lt;NA&gt;</td>\n",
       "      <td>TopLevel</td>\n",
       "      <td>B0FA488F2911701DD8EC5B1EA5E322D8</td>\n",
       "      <td>1612652852</td>\n",
       "      <td>103A3543750532ECA0E094FB5C02DC35</td>\n",
       "      <td>...</td>\n",
       "      <td>726</td>\n",
       "      <td>False</td>\n",
       "      <td>1572546505</td>\n",
       "      <td>False</td>\n",
       "      <td>1612654453</td>\n",
       "      <td>0</td>\n",
       "      <td>0</td>\n",
       "      <td>0</td>\n",
       "      <td>2666027</td>\n",
       "      <td>0</td>\n",
       "    </tr>\n",
       "    <tr>\n",
       "      <th>1</th>\n",
       "      <td>101\\t99843\\t58719\\t82272\\t27128\\t106\\t106\\t106...</td>\n",
       "      <td>&lt;NA&gt;</td>\n",
       "      <td>E30E737A6F02259A9FC340212E51B71F</td>\n",
       "      <td></td>\n",
       "      <td>&lt;NA&gt;</td>\n",
       "      <td>&lt;NA&gt;</td>\n",
       "      <td>TopLevel</td>\n",
       "      <td>488B32D24BD4BB44172EB981C1BCA6FA</td>\n",
       "      <td>1613635263</td>\n",
       "      <td>AD6568942A688D949BE1D4FC05F7A823</td>\n",
       "      <td>...</td>\n",
       "      <td>839</td>\n",
       "      <td>False</td>\n",
       "      <td>1326949574</td>\n",
       "      <td>True</td>\n",
       "      <td>0</td>\n",
       "      <td>0</td>\n",
       "      <td>0</td>\n",
       "      <td>0</td>\n",
       "      <td>2503381</td>\n",
       "      <td>0</td>\n",
       "    </tr>\n",
       "    <tr>\n",
       "      <th>2</th>\n",
       "      <td>101\\t10146\\t20971\\t14444\\t110611\\t11257\\t13859...</td>\n",
       "      <td>&lt;NA&gt;</td>\n",
       "      <td>0FF46234A57E1D7AD27D61061EEE0B15</td>\n",
       "      <td></td>\n",
       "      <td>&lt;NA&gt;</td>\n",
       "      <td>&lt;NA&gt;</td>\n",
       "      <td>TopLevel</td>\n",
       "      <td>B8B04128918BBF54E2E178BFF1ABA833</td>\n",
       "      <td>1613167725</td>\n",
       "      <td>2302736C739FA0BB0A13E9F99208EF33</td>\n",
       "      <td>...</td>\n",
       "      <td>1999</td>\n",
       "      <td>False</td>\n",
       "      <td>1485818264</td>\n",
       "      <td>True</td>\n",
       "      <td>0</td>\n",
       "      <td>0</td>\n",
       "      <td>0</td>\n",
       "      <td>1613167854</td>\n",
       "      <td>176730</td>\n",
       "      <td>0</td>\n",
       "    </tr>\n",
       "    <tr>\n",
       "      <th>3</th>\n",
       "      <td>101\\t56898\\t137\\t18484\\t10129\\t10884\\t10269\\t1...</td>\n",
       "      <td>&lt;NA&gt;</td>\n",
       "      <td>DDAB35853D0D48B09341DBBB7F54982F</td>\n",
       "      <td></td>\n",
       "      <td>&lt;NA&gt;</td>\n",
       "      <td>&lt;NA&gt;</td>\n",
       "      <td>Retweet</td>\n",
       "      <td>B0FA488F2911701DD8EC5B1EA5E322D8</td>\n",
       "      <td>1612823988</td>\n",
       "      <td>877354CA10DE3FE52601A7C1D02857A7</td>\n",
       "      <td>...</td>\n",
       "      <td>199</td>\n",
       "      <td>False</td>\n",
       "      <td>1455410785</td>\n",
       "      <td>False</td>\n",
       "      <td>0</td>\n",
       "      <td>0</td>\n",
       "      <td>0</td>\n",
       "      <td>0</td>\n",
       "      <td>2444010</td>\n",
       "      <td>0</td>\n",
       "    </tr>\n",
       "    <tr>\n",
       "      <th>4</th>\n",
       "      <td>101\\t108\\t106252\\t168\\t76295\\t10742\\t168\\t3107...</td>\n",
       "      <td>DDB03277FC62DE1314F917088E511412</td>\n",
       "      <td>B730D6B804D809EA6DAEC13A74BA3A79</td>\n",
       "      <td></td>\n",
       "      <td>&lt;NA&gt;</td>\n",
       "      <td>&lt;NA&gt;</td>\n",
       "      <td>TopLevel</td>\n",
       "      <td>9A78FC330083E72BE0DD1EA92656F3B5</td>\n",
       "      <td>1614171198</td>\n",
       "      <td>8AFA586CE93EB03FAE55D1034DC112EA</td>\n",
       "      <td>...</td>\n",
       "      <td>2289</td>\n",
       "      <td>False</td>\n",
       "      <td>1582283538</td>\n",
       "      <td>True</td>\n",
       "      <td>0</td>\n",
       "      <td>0</td>\n",
       "      <td>0</td>\n",
       "      <td>1614172469</td>\n",
       "      <td>2021015</td>\n",
       "      <td>0</td>\n",
       "    </tr>\n",
       "  </tbody>\n",
       "</table>\n",
       "<p>5 rows × 26 columns</p>\n",
       "</div>"
      ],
      "text/plain": [
       "                                        text_ tokens  \\\n",
       "0  101\\t16411\\t10797\\t10119\\t49341\\t10104\\t62330\\...   \n",
       "1  101\\t99843\\t58719\\t82272\\t27128\\t106\\t106\\t106...   \n",
       "2  101\\t10146\\t20971\\t14444\\t110611\\t11257\\t13859...   \n",
       "3  101\\t56898\\t137\\t18484\\t10129\\t10884\\t10269\\t1...   \n",
       "4  101\\t108\\t106252\\t168\\t76295\\t10742\\t168\\t3107...   \n",
       "\n",
       "                           hashtags                          tweet_id  \\\n",
       "0                              <NA>  F1D4DB301DB94F6831CB0E967AEEAB21   \n",
       "1                              <NA>  E30E737A6F02259A9FC340212E51B71F   \n",
       "2                              <NA>  0FF46234A57E1D7AD27D61061EEE0B15   \n",
       "3                              <NA>  DDAB35853D0D48B09341DBBB7F54982F   \n",
       "4  DDB03277FC62DE1314F917088E511412  B730D6B804D809EA6DAEC13A74BA3A79   \n",
       "\n",
       "  present_media present_links present_domains tweet_type  \\\n",
       "0                        <NA>            <NA>   TopLevel   \n",
       "1                        <NA>            <NA>   TopLevel   \n",
       "2                        <NA>            <NA>   TopLevel   \n",
       "3                        <NA>            <NA>    Retweet   \n",
       "4                        <NA>            <NA>   TopLevel   \n",
       "\n",
       "                           language  tweet_timestamp  \\\n",
       "0  B0FA488F2911701DD8EC5B1EA5E322D8       1612652852   \n",
       "1  488B32D24BD4BB44172EB981C1BCA6FA       1613635263   \n",
       "2  B8B04128918BBF54E2E178BFF1ABA833       1613167725   \n",
       "3  B0FA488F2911701DD8EC5B1EA5E322D8       1612823988   \n",
       "4  9A78FC330083E72BE0DD1EA92656F3B5       1614171198   \n",
       "\n",
       "               engaged_with_user_id  ...  enaging_user_following_count  \\\n",
       "0  103A3543750532ECA0E094FB5C02DC35  ...                           726   \n",
       "1  AD6568942A688D949BE1D4FC05F7A823  ...                           839   \n",
       "2  2302736C739FA0BB0A13E9F99208EF33  ...                          1999   \n",
       "3  877354CA10DE3FE52601A7C1D02857A7  ...                           199   \n",
       "4  8AFA586CE93EB03FAE55D1034DC112EA  ...                          2289   \n",
       "\n",
       "   enaging_user_is_verified  enaging_user_account_creation  \\\n",
       "0                     False                     1572546505   \n",
       "1                     False                     1326949574   \n",
       "2                     False                     1485818264   \n",
       "3                     False                     1455410785   \n",
       "4                     False                     1582283538   \n",
       "\n",
       "   engagee_follows_engager  reply_timestamp  retweet_timestamp  \\\n",
       "0                    False       1612654453                  0   \n",
       "1                     True                0                  0   \n",
       "2                     True                0                  0   \n",
       "3                    False                0                  0   \n",
       "4                     True                0                  0   \n",
       "\n",
       "   retweet_with_comment_timestamp  like_timestamp  mapped_feature_tweet_id  \\\n",
       "0                               0               0                  2666027   \n",
       "1                               0               0                  2503381   \n",
       "2                               0      1613167854                   176730   \n",
       "3                               0               0                  2444010   \n",
       "4                               0      1614172469                  2021015   \n",
       "\n",
       "   media_type  \n",
       "0           0  \n",
       "1           0  \n",
       "2           0  \n",
       "3           0  \n",
       "4           0  \n",
       "\n",
       "[5 rows x 26 columns]"
      ]
     },
     "execution_count": 18,
     "metadata": {},
     "output_type": "execute_result"
    }
   ],
   "source": [
    "df.head()"
   ]
  },
  {
   "cell_type": "code",
   "execution_count": 19,
   "id": "recorded-coordinate",
   "metadata": {},
   "outputs": [],
   "source": [
    "media_index = get_media_index(media_index)"
   ]
  },
  {
   "cell_type": "code",
   "execution_count": 20,
   "id": "universal-tablet",
   "metadata": {
    "scrolled": true
   },
   "outputs": [
    {
     "data": {
      "text/html": [
       "<div>\n",
       "<style scoped>\n",
       "    .dataframe tbody tr th:only-of-type {\n",
       "        vertical-align: middle;\n",
       "    }\n",
       "\n",
       "    .dataframe tbody tr th {\n",
       "        vertical-align: top;\n",
       "    }\n",
       "\n",
       "    .dataframe thead th {\n",
       "        text-align: right;\n",
       "    }\n",
       "</style>\n",
       "<table border=\"1\" class=\"dataframe\">\n",
       "  <thead>\n",
       "    <tr style=\"text-align: right;\">\n",
       "      <th></th>\n",
       "      <th>index</th>\n",
       "      <th>media</th>\n",
       "      <th>number_of_Video</th>\n",
       "      <th>number_of_Photo</th>\n",
       "      <th>number_of_GIF</th>\n",
       "      <th>number_of_media</th>\n",
       "    </tr>\n",
       "  </thead>\n",
       "  <tbody>\n",
       "    <tr>\n",
       "      <th>0</th>\n",
       "      <td>0</td>\n",
       "      <td>[]</td>\n",
       "      <td>0</td>\n",
       "      <td>0</td>\n",
       "      <td>0</td>\n",
       "      <td>1</td>\n",
       "    </tr>\n",
       "    <tr>\n",
       "      <th>1</th>\n",
       "      <td>1</td>\n",
       "      <td>[GIF]</td>\n",
       "      <td>0</td>\n",
       "      <td>0</td>\n",
       "      <td>1</td>\n",
       "      <td>1</td>\n",
       "    </tr>\n",
       "    <tr>\n",
       "      <th>2</th>\n",
       "      <td>2</td>\n",
       "      <td>[GIF, Photo]</td>\n",
       "      <td>0</td>\n",
       "      <td>1</td>\n",
       "      <td>1</td>\n",
       "      <td>2</td>\n",
       "    </tr>\n",
       "    <tr>\n",
       "      <th>3</th>\n",
       "      <td>3</td>\n",
       "      <td>[GIF, Photo, Photo]</td>\n",
       "      <td>0</td>\n",
       "      <td>2</td>\n",
       "      <td>1</td>\n",
       "      <td>3</td>\n",
       "    </tr>\n",
       "    <tr>\n",
       "      <th>4</th>\n",
       "      <td>4</td>\n",
       "      <td>[Photo]</td>\n",
       "      <td>0</td>\n",
       "      <td>1</td>\n",
       "      <td>0</td>\n",
       "      <td>1</td>\n",
       "    </tr>\n",
       "    <tr>\n",
       "      <th>5</th>\n",
       "      <td>5</td>\n",
       "      <td>[Photo, GIF]</td>\n",
       "      <td>0</td>\n",
       "      <td>1</td>\n",
       "      <td>1</td>\n",
       "      <td>2</td>\n",
       "    </tr>\n",
       "    <tr>\n",
       "      <th>6</th>\n",
       "      <td>6</td>\n",
       "      <td>[Photo, Photo]</td>\n",
       "      <td>0</td>\n",
       "      <td>2</td>\n",
       "      <td>0</td>\n",
       "      <td>2</td>\n",
       "    </tr>\n",
       "    <tr>\n",
       "      <th>7</th>\n",
       "      <td>7</td>\n",
       "      <td>[Photo, Photo, Photo]</td>\n",
       "      <td>0</td>\n",
       "      <td>3</td>\n",
       "      <td>0</td>\n",
       "      <td>3</td>\n",
       "    </tr>\n",
       "    <tr>\n",
       "      <th>8</th>\n",
       "      <td>8</td>\n",
       "      <td>[Photo, Photo, Photo, Photo]</td>\n",
       "      <td>0</td>\n",
       "      <td>4</td>\n",
       "      <td>0</td>\n",
       "      <td>4</td>\n",
       "    </tr>\n",
       "    <tr>\n",
       "      <th>9</th>\n",
       "      <td>9</td>\n",
       "      <td>[Photo, Photo, Video]</td>\n",
       "      <td>1</td>\n",
       "      <td>2</td>\n",
       "      <td>0</td>\n",
       "      <td>3</td>\n",
       "    </tr>\n",
       "    <tr>\n",
       "      <th>10</th>\n",
       "      <td>10</td>\n",
       "      <td>[Photo, Video]</td>\n",
       "      <td>1</td>\n",
       "      <td>1</td>\n",
       "      <td>0</td>\n",
       "      <td>2</td>\n",
       "    </tr>\n",
       "    <tr>\n",
       "      <th>11</th>\n",
       "      <td>11</td>\n",
       "      <td>[Video]</td>\n",
       "      <td>1</td>\n",
       "      <td>0</td>\n",
       "      <td>0</td>\n",
       "      <td>1</td>\n",
       "    </tr>\n",
       "    <tr>\n",
       "      <th>12</th>\n",
       "      <td>12</td>\n",
       "      <td>[Video, Photo]</td>\n",
       "      <td>1</td>\n",
       "      <td>1</td>\n",
       "      <td>0</td>\n",
       "      <td>2</td>\n",
       "    </tr>\n",
       "    <tr>\n",
       "      <th>13</th>\n",
       "      <td>13</td>\n",
       "      <td>[Video, Video]</td>\n",
       "      <td>2</td>\n",
       "      <td>0</td>\n",
       "      <td>0</td>\n",
       "      <td>2</td>\n",
       "    </tr>\n",
       "    <tr>\n",
       "      <th>14</th>\n",
       "      <td>14</td>\n",
       "      <td>[Video, Video, Video]</td>\n",
       "      <td>3</td>\n",
       "      <td>0</td>\n",
       "      <td>0</td>\n",
       "      <td>3</td>\n",
       "    </tr>\n",
       "    <tr>\n",
       "      <th>15</th>\n",
       "      <td>15</td>\n",
       "      <td>[Video, Video, Video, Video]</td>\n",
       "      <td>4</td>\n",
       "      <td>0</td>\n",
       "      <td>0</td>\n",
       "      <td>4</td>\n",
       "    </tr>\n",
       "  </tbody>\n",
       "</table>\n",
       "</div>"
      ],
      "text/plain": [
       "    index                         media  number_of_Video  number_of_Photo  \\\n",
       "0       0                            []                0                0   \n",
       "1       1                         [GIF]                0                0   \n",
       "2       2                  [GIF, Photo]                0                1   \n",
       "3       3           [GIF, Photo, Photo]                0                2   \n",
       "4       4                       [Photo]                0                1   \n",
       "5       5                  [Photo, GIF]                0                1   \n",
       "6       6                [Photo, Photo]                0                2   \n",
       "7       7         [Photo, Photo, Photo]                0                3   \n",
       "8       8  [Photo, Photo, Photo, Photo]                0                4   \n",
       "9       9         [Photo, Photo, Video]                1                2   \n",
       "10     10                [Photo, Video]                1                1   \n",
       "11     11                       [Video]                1                0   \n",
       "12     12                [Video, Photo]                1                1   \n",
       "13     13                [Video, Video]                2                0   \n",
       "14     14         [Video, Video, Video]                3                0   \n",
       "15     15  [Video, Video, Video, Video]                4                0   \n",
       "\n",
       "    number_of_GIF  number_of_media  \n",
       "0               0                1  \n",
       "1               1                1  \n",
       "2               1                2  \n",
       "3               1                3  \n",
       "4               0                1  \n",
       "5               1                2  \n",
       "6               0                2  \n",
       "7               0                3  \n",
       "8               0                4  \n",
       "9               0                3  \n",
       "10              0                2  \n",
       "11              0                1  \n",
       "12              0                2  \n",
       "13              0                2  \n",
       "14              0                3  \n",
       "15              0                4  "
      ]
     },
     "execution_count": 20,
     "metadata": {},
     "output_type": "execute_result"
    }
   ],
   "source": [
    "media_index"
   ]
  },
  {
   "cell_type": "code",
   "execution_count": 21,
   "id": "dress-marriage",
   "metadata": {},
   "outputs": [],
   "source": [
    "media_index = cudf.DataFrame(media_index)\n",
    "media_index = dask_cudf.from_cudf(media_index, npartitions=2)"
   ]
  },
  {
   "cell_type": "code",
   "execution_count": 22,
   "id": "enabling-mercy",
   "metadata": {},
   "outputs": [],
   "source": [
    "df = df.merge(media_index, left_on=\"media_type\", right_on = \"index\", how='left')"
   ]
  },
  {
   "cell_type": "code",
   "execution_count": 23,
   "id": "banned-garden",
   "metadata": {},
   "outputs": [
    {
     "data": {
      "text/html": [
       "<div>\n",
       "<style scoped>\n",
       "    .dataframe tbody tr th:only-of-type {\n",
       "        vertical-align: middle;\n",
       "    }\n",
       "\n",
       "    .dataframe tbody tr th {\n",
       "        vertical-align: top;\n",
       "    }\n",
       "\n",
       "    .dataframe thead th {\n",
       "        text-align: right;\n",
       "    }\n",
       "</style>\n",
       "<table border=\"1\" class=\"dataframe\">\n",
       "  <thead>\n",
       "    <tr style=\"text-align: right;\">\n",
       "      <th></th>\n",
       "      <th>text_ tokens</th>\n",
       "      <th>hashtags</th>\n",
       "      <th>tweet_id</th>\n",
       "      <th>present_media</th>\n",
       "      <th>present_links</th>\n",
       "      <th>present_domains</th>\n",
       "      <th>tweet_type</th>\n",
       "      <th>language</th>\n",
       "      <th>tweet_timestamp</th>\n",
       "      <th>engaged_with_user_id</th>\n",
       "      <th>...</th>\n",
       "      <th>retweet_timestamp</th>\n",
       "      <th>retweet_with_comment_timestamp</th>\n",
       "      <th>like_timestamp</th>\n",
       "      <th>mapped_feature_tweet_id</th>\n",
       "      <th>media_type</th>\n",
       "      <th>media</th>\n",
       "      <th>number_of_Video</th>\n",
       "      <th>number_of_Photo</th>\n",
       "      <th>number_of_GIF</th>\n",
       "      <th>number_of_media</th>\n",
       "    </tr>\n",
       "  </thead>\n",
       "  <tbody>\n",
       "    <tr>\n",
       "      <th>0</th>\n",
       "      <td>101\\t100\\t524\\t11079\\t16237\\t11718\\t63721\\t133...</td>\n",
       "      <td>&lt;NA&gt;</td>\n",
       "      <td>FAF3E31C6387A53053A98A1F029DB7BA</td>\n",
       "      <td>Video</td>\n",
       "      <td>&lt;NA&gt;</td>\n",
       "      <td>&lt;NA&gt;</td>\n",
       "      <td>TopLevel</td>\n",
       "      <td>477ED2ED930405BF1DBF13F9BF973434</td>\n",
       "      <td>1613380531</td>\n",
       "      <td>D0051E1594A407DD8EC9A31A127B6A5E</td>\n",
       "      <td>...</td>\n",
       "      <td>0</td>\n",
       "      <td>0</td>\n",
       "      <td>0</td>\n",
       "      <td>2766852</td>\n",
       "      <td>11</td>\n",
       "      <td>[Video]</td>\n",
       "      <td>1</td>\n",
       "      <td>0</td>\n",
       "      <td>0</td>\n",
       "      <td>1</td>\n",
       "    </tr>\n",
       "    <tr>\n",
       "      <th>1</th>\n",
       "      <td>101\\t56898\\t137\\t14261\\t32469\\t11396\\t11396\\t1...</td>\n",
       "      <td>&lt;NA&gt;</td>\n",
       "      <td>8B14EED8B7ADF8739B5598B5DFF38B61</td>\n",
       "      <td>Video</td>\n",
       "      <td>&lt;NA&gt;</td>\n",
       "      <td>&lt;NA&gt;</td>\n",
       "      <td>Retweet</td>\n",
       "      <td>488B32D24BD4BB44172EB981C1BCA6FA</td>\n",
       "      <td>1614199459</td>\n",
       "      <td>25319BCB0ECD8D2B5E6921C520978EC8</td>\n",
       "      <td>...</td>\n",
       "      <td>0</td>\n",
       "      <td>0</td>\n",
       "      <td>1614199831</td>\n",
       "      <td>1534739</td>\n",
       "      <td>11</td>\n",
       "      <td>[Video]</td>\n",
       "      <td>1</td>\n",
       "      <td>0</td>\n",
       "      <td>0</td>\n",
       "      <td>1</td>\n",
       "    </tr>\n",
       "    <tr>\n",
       "      <th>2</th>\n",
       "      <td>101\\t100\\t24170\\t13092\\t42524\\t10107\\t34953\\t6...</td>\n",
       "      <td>&lt;NA&gt;</td>\n",
       "      <td>E44DC1A47C756B89714B87DAA15F18A5</td>\n",
       "      <td>Video</td>\n",
       "      <td>&lt;NA&gt;</td>\n",
       "      <td>&lt;NA&gt;</td>\n",
       "      <td>TopLevel</td>\n",
       "      <td>E6936751CBF4F921F7DE1AEF33A16ED0</td>\n",
       "      <td>1612525989</td>\n",
       "      <td>5F242AEE04A47FFEBED709CF387BC0EC</td>\n",
       "      <td>...</td>\n",
       "      <td>0</td>\n",
       "      <td>0</td>\n",
       "      <td>1612526221</td>\n",
       "      <td>2517173</td>\n",
       "      <td>11</td>\n",
       "      <td>[Video]</td>\n",
       "      <td>1</td>\n",
       "      <td>0</td>\n",
       "      <td>0</td>\n",
       "      <td>1</td>\n",
       "    </tr>\n",
       "    <tr>\n",
       "      <th>3</th>\n",
       "      <td>101\\t100\\t43019\\t58495\\t10317\\t10183\\t10911\\t4...</td>\n",
       "      <td>A338C5C1637BEDA847BC1237241145BC\\t9A2CC1B26018...</td>\n",
       "      <td>3BEF5555A7DD2020A2558A8C2754098D</td>\n",
       "      <td>Video</td>\n",
       "      <td>EBCCD9F378AADAAD340B13A062C1CC04</td>\n",
       "      <td>E58C08C18C1493CF82B401D7CEFA9C6B</td>\n",
       "      <td>TopLevel</td>\n",
       "      <td>B8B04128918BBF54E2E178BFF1ABA833</td>\n",
       "      <td>1613501942</td>\n",
       "      <td>72F5543FAB2A30E64B1442CD827D40F2</td>\n",
       "      <td>...</td>\n",
       "      <td>0</td>\n",
       "      <td>0</td>\n",
       "      <td>0</td>\n",
       "      <td>662533</td>\n",
       "      <td>11</td>\n",
       "      <td>[Video]</td>\n",
       "      <td>1</td>\n",
       "      <td>0</td>\n",
       "      <td>0</td>\n",
       "      <td>1</td>\n",
       "    </tr>\n",
       "    <tr>\n",
       "      <th>4</th>\n",
       "      <td>101\\t68774\\t29306\\t10245\\t100\\t14120\\t131\\t120...</td>\n",
       "      <td>&lt;NA&gt;</td>\n",
       "      <td>68562BD657F9BF6A3CE4F89C16A8A6FB</td>\n",
       "      <td>Video</td>\n",
       "      <td>&lt;NA&gt;</td>\n",
       "      <td>&lt;NA&gt;</td>\n",
       "      <td>TopLevel</td>\n",
       "      <td>E6936751CBF4F921F7DE1AEF33A16ED0</td>\n",
       "      <td>1613601064</td>\n",
       "      <td>6625197900166E7601892DC5A520F88B</td>\n",
       "      <td>...</td>\n",
       "      <td>0</td>\n",
       "      <td>0</td>\n",
       "      <td>1613601299</td>\n",
       "      <td>1151522</td>\n",
       "      <td>11</td>\n",
       "      <td>[Video]</td>\n",
       "      <td>1</td>\n",
       "      <td>0</td>\n",
       "      <td>0</td>\n",
       "      <td>1</td>\n",
       "    </tr>\n",
       "  </tbody>\n",
       "</table>\n",
       "<p>5 rows × 31 columns</p>\n",
       "</div>"
      ],
      "text/plain": [
       "                                        text_ tokens  \\\n",
       "0  101\\t100\\t524\\t11079\\t16237\\t11718\\t63721\\t133...   \n",
       "1  101\\t56898\\t137\\t14261\\t32469\\t11396\\t11396\\t1...   \n",
       "2  101\\t100\\t24170\\t13092\\t42524\\t10107\\t34953\\t6...   \n",
       "3  101\\t100\\t43019\\t58495\\t10317\\t10183\\t10911\\t4...   \n",
       "4  101\\t68774\\t29306\\t10245\\t100\\t14120\\t131\\t120...   \n",
       "\n",
       "                                            hashtags  \\\n",
       "0                                               <NA>   \n",
       "1                                               <NA>   \n",
       "2                                               <NA>   \n",
       "3  A338C5C1637BEDA847BC1237241145BC\\t9A2CC1B26018...   \n",
       "4                                               <NA>   \n",
       "\n",
       "                           tweet_id present_media  \\\n",
       "0  FAF3E31C6387A53053A98A1F029DB7BA         Video   \n",
       "1  8B14EED8B7ADF8739B5598B5DFF38B61         Video   \n",
       "2  E44DC1A47C756B89714B87DAA15F18A5         Video   \n",
       "3  3BEF5555A7DD2020A2558A8C2754098D         Video   \n",
       "4  68562BD657F9BF6A3CE4F89C16A8A6FB         Video   \n",
       "\n",
       "                      present_links                   present_domains  \\\n",
       "0                              <NA>                              <NA>   \n",
       "1                              <NA>                              <NA>   \n",
       "2                              <NA>                              <NA>   \n",
       "3  EBCCD9F378AADAAD340B13A062C1CC04  E58C08C18C1493CF82B401D7CEFA9C6B   \n",
       "4                              <NA>                              <NA>   \n",
       "\n",
       "  tweet_type                          language  tweet_timestamp  \\\n",
       "0   TopLevel  477ED2ED930405BF1DBF13F9BF973434       1613380531   \n",
       "1    Retweet  488B32D24BD4BB44172EB981C1BCA6FA       1614199459   \n",
       "2   TopLevel  E6936751CBF4F921F7DE1AEF33A16ED0       1612525989   \n",
       "3   TopLevel  B8B04128918BBF54E2E178BFF1ABA833       1613501942   \n",
       "4   TopLevel  E6936751CBF4F921F7DE1AEF33A16ED0       1613601064   \n",
       "\n",
       "               engaged_with_user_id  ...  retweet_timestamp  \\\n",
       "0  D0051E1594A407DD8EC9A31A127B6A5E  ...                  0   \n",
       "1  25319BCB0ECD8D2B5E6921C520978EC8  ...                  0   \n",
       "2  5F242AEE04A47FFEBED709CF387BC0EC  ...                  0   \n",
       "3  72F5543FAB2A30E64B1442CD827D40F2  ...                  0   \n",
       "4  6625197900166E7601892DC5A520F88B  ...                  0   \n",
       "\n",
       "   retweet_with_comment_timestamp  like_timestamp  mapped_feature_tweet_id  \\\n",
       "0                               0               0                  2766852   \n",
       "1                               0      1614199831                  1534739   \n",
       "2                               0      1612526221                  2517173   \n",
       "3                               0               0                   662533   \n",
       "4                               0      1613601299                  1151522   \n",
       "\n",
       "   media_type    media number_of_Video  number_of_Photo  number_of_GIF  \\\n",
       "0          11  [Video]               1                0              0   \n",
       "1          11  [Video]               1                0              0   \n",
       "2          11  [Video]               1                0              0   \n",
       "3          11  [Video]               1                0              0   \n",
       "4          11  [Video]               1                0              0   \n",
       "\n",
       "   number_of_media  \n",
       "0                1  \n",
       "1                1  \n",
       "2                1  \n",
       "3                1  \n",
       "4                1  \n",
       "\n",
       "[5 rows x 31 columns]"
      ]
     },
     "execution_count": 23,
     "metadata": {},
     "output_type": "execute_result"
    }
   ],
   "source": [
    "df = df.drop('index', axis=1)\n",
    "df.head()"
   ]
  },
  {
   "cell_type": "code",
   "execution_count": 24,
   "id": "democratic-calculator",
   "metadata": {},
   "outputs": [],
   "source": [
    "media_df = df[[\"mapped_feature_tweet_id\", \"media_type\", \"media\", \"number_of_Video\", \"number_of_Photo\", \"number_of_GIF\", \"number_of_media\"]]\n",
    "media_df.head()"
   ]
  },
  {
   "cell_type": "code",
   "execution_count": 26,
   "id": "impaired-ceiling",
   "metadata": {},
   "outputs": [],
   "source": [
    "media_df = media_df.repartition(npartitions=NP)\n",
    "media_df, = dask.persist(media_df)\n",
    "_ = wait(media_df)\n",
    "#media_df.to_parquet(f'/dataset/preprocessing/media_df', write_index=False)"
   ]
  },
  {
   "cell_type": "code",
   "execution_count": 27,
   "id": "unlike-course",
   "metadata": {},
   "outputs": [
    {
     "data": {
      "text/html": [
       "<div>\n",
       "<style scoped>\n",
       "    .dataframe tbody tr th:only-of-type {\n",
       "        vertical-align: middle;\n",
       "    }\n",
       "\n",
       "    .dataframe tbody tr th {\n",
       "        vertical-align: top;\n",
       "    }\n",
       "\n",
       "    .dataframe thead th {\n",
       "        text-align: right;\n",
       "    }\n",
       "</style>\n",
       "<table border=\"1\" class=\"dataframe\">\n",
       "  <thead>\n",
       "    <tr style=\"text-align: right;\">\n",
       "      <th></th>\n",
       "      <th>mapped_feature_tweet_id</th>\n",
       "      <th>media_type</th>\n",
       "      <th>media</th>\n",
       "      <th>number_of_Video</th>\n",
       "      <th>number_of_Photo</th>\n",
       "      <th>number_of_GIF</th>\n",
       "      <th>number_of_media</th>\n",
       "    </tr>\n",
       "  </thead>\n",
       "  <tbody>\n",
       "    <tr>\n",
       "      <th>0</th>\n",
       "      <td>1692921</td>\n",
       "      <td>11</td>\n",
       "      <td>[Video]</td>\n",
       "      <td>1</td>\n",
       "      <td>0</td>\n",
       "      <td>0</td>\n",
       "      <td>1</td>\n",
       "    </tr>\n",
       "    <tr>\n",
       "      <th>1</th>\n",
       "      <td>44093</td>\n",
       "      <td>11</td>\n",
       "      <td>[Video]</td>\n",
       "      <td>1</td>\n",
       "      <td>0</td>\n",
       "      <td>0</td>\n",
       "      <td>1</td>\n",
       "    </tr>\n",
       "    <tr>\n",
       "      <th>2</th>\n",
       "      <td>203077</td>\n",
       "      <td>11</td>\n",
       "      <td>[Video]</td>\n",
       "      <td>1</td>\n",
       "      <td>0</td>\n",
       "      <td>0</td>\n",
       "      <td>1</td>\n",
       "    </tr>\n",
       "    <tr>\n",
       "      <th>3</th>\n",
       "      <td>1184528</td>\n",
       "      <td>11</td>\n",
       "      <td>[Video]</td>\n",
       "      <td>1</td>\n",
       "      <td>0</td>\n",
       "      <td>0</td>\n",
       "      <td>1</td>\n",
       "    </tr>\n",
       "    <tr>\n",
       "      <th>4</th>\n",
       "      <td>45281</td>\n",
       "      <td>11</td>\n",
       "      <td>[Video]</td>\n",
       "      <td>1</td>\n",
       "      <td>0</td>\n",
       "      <td>0</td>\n",
       "      <td>1</td>\n",
       "    </tr>\n",
       "  </tbody>\n",
       "</table>\n",
       "</div>"
      ],
      "text/plain": [
       "   mapped_feature_tweet_id  media_type    media  number_of_Video  \\\n",
       "0                  1692921          11  [Video]                1   \n",
       "1                    44093          11  [Video]                1   \n",
       "2                   203077          11  [Video]                1   \n",
       "3                  1184528          11  [Video]                1   \n",
       "4                    45281          11  [Video]                1   \n",
       "\n",
       "   number_of_Photo  number_of_GIF  number_of_media  \n",
       "0                0              0                1  \n",
       "1                0              0                1  \n",
       "2                0              0                1  \n",
       "3                0              0                1  \n",
       "4                0              0                1  "
      ]
     },
     "execution_count": 27,
     "metadata": {},
     "output_type": "execute_result"
    }
   ],
   "source": [
    "media_df.head()"
   ]
  },
  {
   "cell_type": "markdown",
   "id": "published-steam",
   "metadata": {},
   "source": [
    "# Media dataframe analysis"
   ]
  },
  {
   "cell_type": "code",
   "execution_count": 28,
   "id": "athletic-polish",
   "metadata": {},
   "outputs": [],
   "source": [
    "unique_tweet_dataframe = media_df.drop_duplicates(\"mapped_feature_tweet_id\")\n",
    "unique_tweet_dataframe.head()"
   ]
  },
  {
   "cell_type": "code",
   "execution_count": 30,
   "id": "vanilla-orange",
   "metadata": {},
   "outputs": [],
   "source": [
    "total_amount_of_photo = unique_tweet_dataframe['number_of_Video'].sum()"
   ]
  },
  {
   "cell_type": "code",
   "execution_count": 32,
   "id": "short-board",
   "metadata": {},
   "outputs": [],
   "source": [
    "total_amount_of_photo = unique_tweet_dataframe['number_of_Photo'].sum().compute()\n",
    "total_amount_of_video = unique_tweet_dataframe['number_of_Video'].sum().compute()\n",
    "total_amount_of_gif = unique_tweet_dataframe['number_of_GIF'].sum().compute()\n",
    "total_amount_of_media = unique_tweet_dataframe['number_of_media'].sum().compute()"
   ]
  },
  {
   "cell_type": "code",
   "execution_count": 33,
   "id": "grateful-missile",
   "metadata": {},
   "outputs": [
    {
     "name": "stdout",
     "output_type": "stream",
     "text": [
      "The amount of photos are 1314140, that are 0.3980 of all media\n",
      "The amount of photos are 191322, that are 0.0579 of all media\n",
      "The amount of photos are 35972, that are 0.0109 of all media\n"
     ]
    },
    {
     "data": {
      "image/png": "[encoded data removed]",
      "text/plain": [
       "<Figure size 432x288 with 1 Axes>"
      ]
     },
     "metadata": {},
     "output_type": "display_data"
    }
   ],
   "source": [
    "print(f\"The amount of photos are {total_amount_of_photo}, that are {total_amount_of_photo/total_amount_of_media:.4f} of all media\")\n",
    "print(f\"The amount of photos are {total_amount_of_video}, that are {total_amount_of_video/total_amount_of_media:.4f} of all media\")\n",
    "print(f\"The amount of photos are {total_amount_of_gif}, that are {total_amount_of_gif/total_amount_of_media:.4f} of all media\")\n",
    "plt.pie([total_amount_of_photo, total_amount_of_video, total_amount_of_gif], labels=[\"Photo\", \"Video\", \"GIF\"])\n",
    "plt.show()"
   ]
  },
  {
   "cell_type": "code",
   "execution_count": 34,
   "id": "unlike-mortgage",
   "metadata": {},
   "outputs": [
    {
     "data": {
      "text/plain": [
       "number_of_media\n",
       "3      40894\n",
       "2     158133\n",
       "1    2543568\n",
       "4      79889\n",
       "dtype: int64"
      ]
     },
     "execution_count": 34,
     "metadata": {},
     "output_type": "execute_result"
    }
   ],
   "source": [
    "unique_tweet_dataframe[['number_of_Video']].groupby('number_of_Video').size().compute()\n",
    "unique_tweet_dataframe[['number_of_GIF']].groupby('number_of_GIF').size().compute()\n",
    "unique_tweet_dataframe[['number_of_media']].groupby('number_of_media').size().compute()"
   ]
  },
  {
   "cell_type": "markdown",
   "id": "intellectual-undergraduate",
   "metadata": {},
   "source": [
    "### Photo dataset analysis"
   ]
  },
  {
   "cell_type": "code",
   "execution_count": 35,
   "id": "gross-collection",
   "metadata": {},
   "outputs": [
    {
     "data": {
      "text/plain": [
       "number_of_Photo\n",
       "4      79882\n",
       "2     158095\n",
       "1     555758\n",
       "3      40888\n",
       "0    1987861\n",
       "dtype: int64"
      ]
     },
     "execution_count": 35,
     "metadata": {},
     "output_type": "execute_result"
    }
   ],
   "source": [
    "aggregate_result = unique_tweet_dataframe[['number_of_Photo']].groupby(\"number_of_Photo\").size().compute()\n",
    "aggregate_result"
   ]
  },
  {
   "cell_type": "code",
   "execution_count": 36,
   "id": "bibliographic-foundation",
   "metadata": {},
   "outputs": [],
   "source": [
    "idx = aggregate_result.index.values.tolist()\n",
    "values = aggregate_result.values.tolist()"
   ]
  },
  {
   "cell_type": "code",
   "execution_count": 37,
   "id": "swedish-password",
   "metadata": {},
   "outputs": [
    {
     "data": {
      "image/png": "[encoded data removed]",
      "text/plain": [
       "<Figure size 432x288 with 1 Axes>"
      ]
     },
     "metadata": {
      "needs_background": "light"
     },
     "output_type": "display_data"
    }
   ],
   "source": [
    "plt.bar(idx, values)\n",
    "plt.xlabel('Number of Photo')\n",
    "plt.ylabel('Number of tweet with X photo')\n",
    "\n",
    "plt.show()"
   ]
  },
  {
   "cell_type": "markdown",
   "id": "moral-biography",
   "metadata": {},
   "source": [
    "### Video dataset analysis"
   ]
  },
  {
   "cell_type": "code",
   "execution_count": 38,
   "id": "willing-interstate",
   "metadata": {},
   "outputs": [
    {
     "data": {
      "text/plain": [
       "number_of_Video\n",
       "4          7\n",
       "2         18\n",
       "1     191249\n",
       "3          3\n",
       "0    2631207\n",
       "dtype: int64"
      ]
     },
     "execution_count": 38,
     "metadata": {},
     "output_type": "execute_result"
    }
   ],
   "source": [
    "aggregate_result = unique_tweet_dataframe[['number_of_Video']].groupby(\"number_of_Video\").size().compute()\n",
    "aggregate_result"
   ]
  },
  {
   "cell_type": "code",
   "execution_count": 39,
   "id": "verbal-virginia",
   "metadata": {},
   "outputs": [],
   "source": [
    "idx = aggregate_result.index.values.tolist()\n",
    "values = aggregate_result.values.tolist()"
   ]
  },
  {
   "cell_type": "code",
   "execution_count": 40,
   "id": "blocked-abuse",
   "metadata": {},
   "outputs": [
    {
     "data": {
      "image/png": "[encoded data removed]",
      "text/plain": [
       "<Figure size 432x288 with 1 Axes>"
      ]
     },
     "metadata": {
      "needs_background": "light"
     },
     "output_type": "display_data"
    }
   ],
   "source": [
    "plt.bar(idx, values)\n",
    "plt.xlabel('Number of Video')\n",
    "plt.ylabel('Number of tweet with X Video')\n",
    "\n",
    "plt.show()"
   ]
  },
  {
   "cell_type": "markdown",
   "id": "trying-bundle",
   "metadata": {},
   "source": [
    "### GIF dataset analysis"
   ]
  },
  {
   "cell_type": "code",
   "execution_count": 41,
   "id": "infectious-fifteen",
   "metadata": {},
   "outputs": [
    {
     "data": {
      "text/plain": [
       "number_of_GIF\n",
       "0    2786512\n",
       "1      35972\n",
       "dtype: int64"
      ]
     },
     "execution_count": 41,
     "metadata": {},
     "output_type": "execute_result"
    }
   ],
   "source": [
    "aggregate_result = unique_tweet_dataframe[['number_of_GIF']].groupby(\"number_of_GIF\").size().compute()\n",
    "aggregate_result"
   ]
  },
  {
   "cell_type": "code",
   "execution_count": 42,
   "id": "controversial-cause",
   "metadata": {},
   "outputs": [],
   "source": [
    "idx = aggregate_result.index.values.tolist()\n",
    "values = aggregate_result.values.tolist()"
   ]
  },
  {
   "cell_type": "code",
   "execution_count": 43,
   "id": "friendly-motel",
   "metadata": {},
   "outputs": [
    {
     "data": {
      "image/png": "[encoded data removed]",
      "text/plain": [
       "<Figure size 432x288 with 1 Axes>"
      ]
     },
     "metadata": {
      "needs_background": "light"
     },
     "output_type": "display_data"
    }
   ],
   "source": [
    "plt.bar(idx, values)\n",
    "plt.xlabel('Number of GIF')\n",
    "plt.ylabel('Number of tweet with X GIF')\n",
    "\n",
    "plt.show()"
   ]
  },
  {
   "cell_type": "markdown",
   "id": "hawaiian-chicken",
   "metadata": {},
   "source": [
    "### Total media dataset analysis"
   ]
  },
  {
   "cell_type": "code",
   "execution_count": 44,
   "id": "accessible-anthony",
   "metadata": {},
   "outputs": [
    {
     "data": {
      "text/plain": [
       "number_of_media\n",
       "3      40894\n",
       "2     158133\n",
       "1    2543568\n",
       "4      79889\n",
       "dtype: int64"
      ]
     },
     "execution_count": 44,
     "metadata": {},
     "output_type": "execute_result"
    }
   ],
   "source": [
    "aggregate_result = unique_tweet_dataframe[['number_of_media']].groupby(\"number_of_media\").size().compute()\n",
    "aggregate_result"
   ]
  },
  {
   "cell_type": "code",
   "execution_count": 45,
   "id": "genuine-induction",
   "metadata": {},
   "outputs": [],
   "source": [
    "idx = aggregate_result.index.values.tolist()\n",
    "values = aggregate_result.values.tolist()"
   ]
  },
  {
   "cell_type": "code",
   "execution_count": 46,
   "id": "signal-orbit",
   "metadata": {},
   "outputs": [
    {
     "data": {
      "image/png": "[encoded data removed]",
      "text/plain": [
       "<Figure size 432x288 with 1 Axes>"
      ]
     },
     "metadata": {
      "needs_background": "light"
     },
     "output_type": "display_data"
    }
   ],
   "source": [
    "plt.bar(idx, values)\n",
    "plt.xlabel('Number of media')\n",
    "plt.ylabel('Number of tweet with X media')\n",
    "\n",
    "plt.show()"
   ]
  },
  {
   "cell_type": "markdown",
   "id": "varied-happening",
   "metadata": {},
   "source": [
    "## Correlation between number of media and type of engagement analysis"
   ]
  },
  {
   "cell_type": "code",
   "execution_count": 47,
   "id": "continental-nudist",
   "metadata": {},
   "outputs": [],
   "source": [
    "del unique_tweet_dataframe"
   ]
  },
  {
   "cell_type": "code",
   "execution_count": 48,
   "id": "offshore-violence",
   "metadata": {},
   "outputs": [],
   "source": [
    "engagement_df = engagement_df.reset_index()"
   ]
  },
  {
   "cell_type": "code",
   "execution_count": 49,
   "id": "informal-sunday",
   "metadata": {},
   "outputs": [
    {
     "data": {
      "text/html": [
       "<div>\n",
       "<style scoped>\n",
       "    .dataframe tbody tr th:only-of-type {\n",
       "        vertical-align: middle;\n",
       "    }\n",
       "\n",
       "    .dataframe tbody tr th {\n",
       "        vertical-align: top;\n",
       "    }\n",
       "\n",
       "    .dataframe thead th {\n",
       "        text-align: right;\n",
       "    }\n",
       "</style>\n",
       "<table border=\"1\" class=\"dataframe\">\n",
       "  <thead>\n",
       "    <tr style=\"text-align: right;\">\n",
       "      <th></th>\n",
       "      <th>id</th>\n",
       "      <th>is_like</th>\n",
       "      <th>is_retweet</th>\n",
       "      <th>is_reply</th>\n",
       "      <th>is_retweet_with_comment</th>\n",
       "      <th>is_positive</th>\n",
       "      <th>is_negative</th>\n",
       "      <th>number_of_media</th>\n",
       "    </tr>\n",
       "  </thead>\n",
       "  <tbody>\n",
       "    <tr>\n",
       "      <th>0</th>\n",
       "      <td>1</td>\n",
       "      <td>True</td>\n",
       "      <td>False</td>\n",
       "      <td>False</td>\n",
       "      <td>False</td>\n",
       "      <td>True</td>\n",
       "      <td>0</td>\n",
       "      <td>1</td>\n",
       "    </tr>\n",
       "    <tr>\n",
       "      <th>1</th>\n",
       "      <td>2</td>\n",
       "      <td>True</td>\n",
       "      <td>False</td>\n",
       "      <td>False</td>\n",
       "      <td>False</td>\n",
       "      <td>True</td>\n",
       "      <td>0</td>\n",
       "      <td>1</td>\n",
       "    </tr>\n",
       "    <tr>\n",
       "      <th>2</th>\n",
       "      <td>3</td>\n",
       "      <td>True</td>\n",
       "      <td>False</td>\n",
       "      <td>False</td>\n",
       "      <td>False</td>\n",
       "      <td>True</td>\n",
       "      <td>0</td>\n",
       "      <td>1</td>\n",
       "    </tr>\n",
       "    <tr>\n",
       "      <th>3</th>\n",
       "      <td>4</td>\n",
       "      <td>True</td>\n",
       "      <td>False</td>\n",
       "      <td>False</td>\n",
       "      <td>False</td>\n",
       "      <td>True</td>\n",
       "      <td>0</td>\n",
       "      <td>1</td>\n",
       "    </tr>\n",
       "    <tr>\n",
       "      <th>4</th>\n",
       "      <td>5</td>\n",
       "      <td>False</td>\n",
       "      <td>False</td>\n",
       "      <td>False</td>\n",
       "      <td>False</td>\n",
       "      <td>False</td>\n",
       "      <td>1</td>\n",
       "      <td>1</td>\n",
       "    </tr>\n",
       "  </tbody>\n",
       "</table>\n",
       "</div>"
      ],
      "text/plain": [
       "   id  is_like  is_retweet  is_reply  is_retweet_with_comment  is_positive  \\\n",
       "0   1     True       False     False                    False         True   \n",
       "1   2     True       False     False                    False         True   \n",
       "2   3     True       False     False                    False         True   \n",
       "3   4     True       False     False                    False         True   \n",
       "4   5    False       False     False                    False        False   \n",
       "\n",
       "   is_negative  number_of_media  \n",
       "0            0                1  \n",
       "1            0                1  \n",
       "2            0                1  \n",
       "3            0                1  \n",
       "4            1                1  "
      ]
     },
     "execution_count": 49,
     "metadata": {},
     "output_type": "execute_result"
    }
   ],
   "source": [
    "engagement_df['number_of_media'] = df['number_of_media'].astype(np.int32)\n",
    "engagement_df.head()"
   ]
  },
  {
   "cell_type": "code",
   "execution_count": 50,
   "id": "twenty-feature",
   "metadata": {},
   "outputs": [
    {
     "name": "stdout",
     "output_type": "stream",
     "text": [
      "<class 'cudf.core.dataframe.DataFrame'>\n",
      "Int64Index: 3034943 entries, 0 to 50206\n",
      "Data columns (total 8 columns):\n",
      " #   Column                   Dtype\n",
      "---  ------                   -----\n",
      " 0   id                       int32\n",
      " 1   is_like                  bool\n",
      " 2   is_retweet               bool\n",
      " 3   is_reply                 bool\n",
      " 4   is_retweet_with_comment  bool\n",
      " 5   is_positive              bool\n",
      " 6   is_negative              int32\n",
      " 7   number_of_media          int32\n",
      "dtypes: bool(5), int32(3)\n",
      "memory usage: 72.7 MB\n"
     ]
    }
   ],
   "source": [
    "engagement_df.compute().info()"
   ]
  },
  {
   "cell_type": "code",
   "execution_count": 51,
   "id": "sacred-merit",
   "metadata": {},
   "outputs": [
    {
     "data": {
      "text/html": [
       "<div>\n",
       "<style scoped>\n",
       "    .dataframe tbody tr th:only-of-type {\n",
       "        vertical-align: middle;\n",
       "    }\n",
       "\n",
       "    .dataframe tbody tr th {\n",
       "        vertical-align: top;\n",
       "    }\n",
       "\n",
       "    .dataframe thead th {\n",
       "        text-align: right;\n",
       "    }\n",
       "</style>\n",
       "<table border=\"1\" class=\"dataframe\">\n",
       "  <thead>\n",
       "    <tr style=\"text-align: right;\">\n",
       "      <th></th>\n",
       "      <th>id</th>\n",
       "      <th>is_like</th>\n",
       "      <th>is_retweet</th>\n",
       "      <th>is_reply</th>\n",
       "      <th>is_retweet_with_comment</th>\n",
       "      <th>is_positive</th>\n",
       "      <th>is_negative</th>\n",
       "    </tr>\n",
       "    <tr>\n",
       "      <th>number_of_media</th>\n",
       "      <th></th>\n",
       "      <th></th>\n",
       "      <th></th>\n",
       "      <th></th>\n",
       "      <th></th>\n",
       "      <th></th>\n",
       "      <th></th>\n",
       "    </tr>\n",
       "  </thead>\n",
       "  <tbody>\n",
       "    <tr>\n",
       "      <th>4</th>\n",
       "      <td>195152341510</td>\n",
       "      <td>34681</td>\n",
       "      <td>7694</td>\n",
       "      <td>2594</td>\n",
       "      <td>620</td>\n",
       "      <td>43558</td>\n",
       "      <td>43928</td>\n",
       "    </tr>\n",
       "    <tr>\n",
       "      <th>1</th>\n",
       "      <td>695824452694</td>\n",
       "      <td>229235</td>\n",
       "      <td>49943</td>\n",
       "      <td>17175</td>\n",
       "      <td>4112</td>\n",
       "      <td>286988</td>\n",
       "      <td>286930</td>\n",
       "    </tr>\n",
       "    <tr>\n",
       "      <th>2</th>\n",
       "      <td>138553576993</td>\n",
       "      <td>20141</td>\n",
       "      <td>4467</td>\n",
       "      <td>1462</td>\n",
       "      <td>364</td>\n",
       "      <td>25282</td>\n",
       "      <td>24951</td>\n",
       "    </tr>\n",
       "    <tr>\n",
       "      <th>3</th>\n",
       "      <td>128702329168</td>\n",
       "      <td>17932</td>\n",
       "      <td>3927</td>\n",
       "      <td>1367</td>\n",
       "      <td>291</td>\n",
       "      <td>22471</td>\n",
       "      <td>22587</td>\n",
       "    </tr>\n",
       "  </tbody>\n",
       "</table>\n",
       "</div>"
      ],
      "text/plain": [
       "                           id  is_like  is_retweet  is_reply  \\\n",
       "number_of_media                                                \n",
       "4                195152341510    34681        7694      2594   \n",
       "1                695824452694   229235       49943     17175   \n",
       "2                138553576993    20141        4467      1462   \n",
       "3                128702329168    17932        3927      1367   \n",
       "\n",
       "                 is_retweet_with_comment  is_positive  is_negative  \n",
       "number_of_media                                                     \n",
       "4                                    620        43558        43928  \n",
       "1                                   4112       286988       286930  \n",
       "2                                    364        25282        24951  \n",
       "3                                    291        22471        22587  "
      ]
     },
     "execution_count": 51,
     "metadata": {},
     "output_type": "execute_result"
    }
   ],
   "source": [
    "result = engagement_df.groupby(\"number_of_media\").sum()\n",
    "result.head()"
   ]
  },
  {
   "cell_type": "code",
   "execution_count": 52,
   "id": "vocational-desktop",
   "metadata": {},
   "outputs": [],
   "source": [
    "result['n_engagements'] = engagement_df.groupby(\"number_of_media\").size()"
   ]
  },
  {
   "cell_type": "code",
   "execution_count": 53,
   "id": "convenient-flush",
   "metadata": {},
   "outputs": [],
   "source": [
    "result['like_ratio'] = result['is_like'] / result['n_engagements']\n",
    "result['retweet_ratio'] = result['is_retweet'] / result['n_engagements'] \n",
    "result['reply_ratio'] = result['is_reply'] / result['n_engagements'] \n",
    "result['comment_ratio'] = result['is_retweet_with_comment'] / result['n_engagements'] \n",
    "result['negative_ratio'] = result['is_negative'] / result['n_engagements']"
   ]
  },
  {
   "cell_type": "code",
   "execution_count": 59,
   "id": "young-agent",
   "metadata": {},
   "outputs": [
    {
     "data": {
      "text/plain": [
       "cudf.core.dataframe.DataFrame"
      ]
     },
     "execution_count": 59,
     "metadata": {},
     "output_type": "execute_result"
    }
   ],
   "source": [
    "type(result.compute())"
   ]
  },
  {
   "cell_type": "code",
   "execution_count": 58,
   "id": "multiple-zealand",
   "metadata": {},
   "outputs": [
    {
     "data": {
      "text/html": [
       "<div>\n",
       "<style scoped>\n",
       "    .dataframe tbody tr th:only-of-type {\n",
       "        vertical-align: middle;\n",
       "    }\n",
       "\n",
       "    .dataframe tbody tr th {\n",
       "        vertical-align: top;\n",
       "    }\n",
       "\n",
       "    .dataframe thead th {\n",
       "        text-align: right;\n",
       "    }\n",
       "</style>\n",
       "<table border=\"1\" class=\"dataframe\">\n",
       "  <thead>\n",
       "    <tr style=\"text-align: right;\">\n",
       "      <th></th>\n",
       "      <th>id</th>\n",
       "      <th>is_like</th>\n",
       "      <th>is_retweet</th>\n",
       "      <th>is_reply</th>\n",
       "      <th>is_retweet_with_comment</th>\n",
       "      <th>is_positive</th>\n",
       "      <th>is_negative</th>\n",
       "      <th>n_engagements</th>\n",
       "      <th>like_ratio</th>\n",
       "      <th>retweet_ratio</th>\n",
       "      <th>reply_ratio</th>\n",
       "      <th>comment_ratio</th>\n",
       "      <th>negative_ratio</th>\n",
       "    </tr>\n",
       "    <tr>\n",
       "      <th>number_of_media</th>\n",
       "      <th></th>\n",
       "      <th></th>\n",
       "      <th></th>\n",
       "      <th></th>\n",
       "      <th></th>\n",
       "      <th></th>\n",
       "      <th></th>\n",
       "      <th></th>\n",
       "      <th></th>\n",
       "      <th></th>\n",
       "      <th></th>\n",
       "      <th></th>\n",
       "      <th></th>\n",
       "    </tr>\n",
       "  </thead>\n",
       "  <tbody>\n",
       "    <tr>\n",
       "      <th>4</th>\n",
       "      <td>195152341510</td>\n",
       "      <td>34681</td>\n",
       "      <td>7694</td>\n",
       "      <td>2594</td>\n",
       "      <td>620</td>\n",
       "      <td>43558</td>\n",
       "      <td>43928</td>\n",
       "      <td>87486</td>\n",
       "      <td>0.396418</td>\n",
       "      <td>0.087945</td>\n",
       "      <td>0.029650</td>\n",
       "      <td>0.007087</td>\n",
       "      <td>0.502115</td>\n",
       "    </tr>\n",
       "    <tr>\n",
       "      <th>1</th>\n",
       "      <td>695824436668</td>\n",
       "      <td>229230</td>\n",
       "      <td>49946</td>\n",
       "      <td>17175</td>\n",
       "      <td>4112</td>\n",
       "      <td>286986</td>\n",
       "      <td>286932</td>\n",
       "      <td>573918</td>\n",
       "      <td>0.399412</td>\n",
       "      <td>0.087026</td>\n",
       "      <td>0.029926</td>\n",
       "      <td>0.007165</td>\n",
       "      <td>0.499953</td>\n",
       "    </tr>\n",
       "    <tr>\n",
       "      <th>2</th>\n",
       "      <td>138553598136</td>\n",
       "      <td>20146</td>\n",
       "      <td>4464</td>\n",
       "      <td>1462</td>\n",
       "      <td>364</td>\n",
       "      <td>25284</td>\n",
       "      <td>24949</td>\n",
       "      <td>50233</td>\n",
       "      <td>0.401051</td>\n",
       "      <td>0.088866</td>\n",
       "      <td>0.029104</td>\n",
       "      <td>0.007246</td>\n",
       "      <td>0.496666</td>\n",
       "    </tr>\n",
       "    <tr>\n",
       "      <th>3</th>\n",
       "      <td>128702324051</td>\n",
       "      <td>17932</td>\n",
       "      <td>3927</td>\n",
       "      <td>1367</td>\n",
       "      <td>291</td>\n",
       "      <td>22471</td>\n",
       "      <td>22587</td>\n",
       "      <td>45058</td>\n",
       "      <td>0.397976</td>\n",
       "      <td>0.087154</td>\n",
       "      <td>0.030339</td>\n",
       "      <td>0.006458</td>\n",
       "      <td>0.501287</td>\n",
       "    </tr>\n",
       "  </tbody>\n",
       "</table>\n",
       "</div>"
      ],
      "text/plain": [
       "                           id  is_like  is_retweet  is_reply  \\\n",
       "number_of_media                                                \n",
       "4                195152341510    34681        7694      2594   \n",
       "1                695824436668   229230       49946     17175   \n",
       "2                138553598136    20146        4464      1462   \n",
       "3                128702324051    17932        3927      1367   \n",
       "\n",
       "                 is_retweet_with_comment  is_positive  is_negative  \\\n",
       "number_of_media                                                      \n",
       "4                                    620        43558        43928   \n",
       "1                                   4112       286986       286932   \n",
       "2                                    364        25284        24949   \n",
       "3                                    291        22471        22587   \n",
       "\n",
       "                 n_engagements  like_ratio  retweet_ratio  reply_ratio  \\\n",
       "number_of_media                                                          \n",
       "4                        87486    0.396418       0.087945     0.029650   \n",
       "1                       573918    0.399412       0.087026     0.029926   \n",
       "2                        50233    0.401051       0.088866     0.029104   \n",
       "3                        45058    0.397976       0.087154     0.030339   \n",
       "\n",
       "                 comment_ratio  negative_ratio  \n",
       "number_of_media                                 \n",
       "4                     0.007087        0.502115  \n",
       "1                     0.007165        0.499953  \n",
       "2                     0.007246        0.496666  \n",
       "3                     0.006458        0.501287  "
      ]
     },
     "execution_count": 58,
     "metadata": {},
     "output_type": "execute_result"
    }
   ],
   "source": [
    "result.head()"
   ]
  },
  {
   "cell_type": "code",
   "execution_count": 99,
   "id": "widespread-investor",
   "metadata": {},
   "outputs": [],
   "source": [
    "n_engagements = result['n_engagements'].sum().compute()\n",
    "like_engagements = result['is_like'].sum().compute() / n_engagements\n",
    "retweet_engagements = result['is_retweet'].sum().compute() / n_engagements\n",
    "reply_engagements = result['is_reply'].sum().compute() / n_engagements\n",
    "comment_engagements = result['is_retweet_with_comment'].sum().compute() / n_engagements"
   ]
  },
  {
   "cell_type": "code",
   "execution_count": 100,
   "id": "recent-pleasure",
   "metadata": {},
   "outputs": [
    {
     "name": "stdout",
     "output_type": "stream",
     "text": [
      "0.39908946140783275\n",
      "0.08726237123279525\n",
      "0.02986407997938403\n",
      "0.0071191166850580485\n"
     ]
    }
   ],
   "source": [
    "print(like_engagements)\n",
    "print(retweet_engagements)\n",
    "print(reply_engagements)\n",
    "print(comment_engagements)"
   ]
  },
  {
   "cell_type": "code",
   "execution_count": 101,
   "id": "oriented-spirit",
   "metadata": {},
   "outputs": [],
   "source": [
    "idx = result.index.compute().values.tolist()\n",
    "values = result['like_ratio'].compute().values.tolist()"
   ]
  },
  {
   "cell_type": "code",
   "execution_count": 102,
   "id": "smoking-musician",
   "metadata": {},
   "outputs": [
    {
     "data": {
      "image/png": "[encoded data removed]",
      "text/plain": [
       "<Figure size 1080x360 with 1 Axes>"
      ]
     },
     "metadata": {
      "needs_background": "light"
     },
     "output_type": "display_data"
    }
   ],
   "source": [
    "plt.bar(idx, values)\n",
    "plt.xlabel('Number of media in tweet')\n",
    "plt.ylabel('Like ratio')\n",
    "plt.axhline(like_engagements, color = \"red\")\n",
    "plt.show()"
   ]
  },
  {
   "cell_type": "code",
   "execution_count": 103,
   "id": "miniature-lambda",
   "metadata": {},
   "outputs": [],
   "source": [
    "values = result['retweet_ratio'].compute().values.tolist()"
   ]
  },
  {
   "cell_type": "code",
   "execution_count": 104,
   "id": "russian-imagination",
   "metadata": {},
   "outputs": [
    {
     "data": {
      "image/png": "[encoded data removed]",
      "text/plain": [
       "<Figure size 1080x360 with 1 Axes>"
      ]
     },
     "metadata": {
      "needs_background": "light"
     },
     "output_type": "display_data"
    }
   ],
   "source": [
    "plt.bar(idx, values)\n",
    "plt.xlabel('Number of media in tweet')\n",
    "plt.ylabel('Retweet ratio')\n",
    "plt.axhline(retweet_engagements, color = \"red\")\n",
    "plt.show()"
   ]
  },
  {
   "cell_type": "code",
   "execution_count": 105,
   "id": "geological-prince",
   "metadata": {},
   "outputs": [],
   "source": [
    "values = result['reply_ratio'].compute().values.tolist()"
   ]
  },
  {
   "cell_type": "code",
   "execution_count": 106,
   "id": "visible-forward",
   "metadata": {},
   "outputs": [
    {
     "data": {
      "image/png": "[encoded data removed]",
      "text/plain": [
       "<Figure size 1080x360 with 1 Axes>"
      ]
     },
     "metadata": {
      "needs_background": "light"
     },
     "output_type": "display_data"
    }
   ],
   "source": [
    "plt.bar(idx, values)\n",
    "plt.xlabel('Number of media in tweet')\n",
    "plt.ylabel('Reply ratio')\n",
    "plt.axhline(reply_engagements, color = \"red\")\n",
    "plt.show()"
   ]
  },
  {
   "cell_type": "code",
   "execution_count": 107,
   "id": "mathematical-student",
   "metadata": {},
   "outputs": [],
   "source": [
    "values = result['comment_ratio'].compute().values.tolist()"
   ]
  },
  {
   "cell_type": "code",
   "execution_count": 108,
   "id": "extraordinary-frost",
   "metadata": {
    "scrolled": true
   },
   "outputs": [
    {
     "data": {
      "image/png": "[encoded data removed]",
      "text/plain": [
       "<Figure size 1080x360 with 1 Axes>"
      ]
     },
     "metadata": {
      "needs_background": "light"
     },
     "output_type": "display_data"
    }
   ],
   "source": [
    "plt.bar(idx, values)\n",
    "plt.xlabel('Number of media in tweet')\n",
    "plt.ylabel('Comment Ratio')\n",
    "plt.axhline(comment_engagements, color = \"red\")\n",
    "plt.show()"
   ]
  },
  {
   "cell_type": "code",
   "execution_count": null,
   "id": "fixed-complaint",
   "metadata": {},
   "outputs": [],
   "source": []
  }
 ],
 "metadata": {
  "kernelspec": {
   "display_name": "Python 3",
   "language": "python",
   "name": "python3"
  },
  "language_info": {
   "codemirror_mode": {
    "name": "ipython",
    "version": 3
   },
   "file_extension": ".py",
   "mimetype": "text/x-python",
   "name": "python",
   "nbconvert_exporter": "python",
   "pygments_lexer": "ipython3",
   "version": "3.7.10"
  }
 },
 "nbformat": 4,
 "nbformat_minor": 5
}
