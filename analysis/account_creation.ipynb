{
 "cells": [
  {
   "cell_type": "code",
   "execution_count": 31,
   "id": "0e7c0a46",
   "metadata": {},
   "outputs": [],
   "source": [
    "import sys\n",
    "sys.path.append('..')\n",
    "\n",
    "import numpy as np\n",
    "import matplotlib.pyplot as plt\n",
    "from scipy import sparse as sps\n",
    "import pandas as pd\n",
    "from scipy import stats\n",
    "\n",
    "from utils.gpu.cuda_cluster import *\n",
    "from utils.gpu.preprocessing import read_data, factorize_small_cardinality\n",
    "\n",
    "import core.config as conf\n"
   ]
  },
  {
   "cell_type": "code",
   "execution_count": 2,
   "id": "1416ba9b",
   "metadata": {},
   "outputs": [
    {
     "data": {
      "text/html": [
       "<table style=\"border: 2px solid white;\">\n",
       "<tr>\n",
       "<td style=\"vertical-align: top; border: 0px solid white\">\n",
       "<h3 style=\"text-align: left;\">Client</h3>\n",
       "<ul style=\"text-align: left; list-style: none; margin: 0; padding: 0;\">\n",
       "  <li><b>Scheduler: </b>tcp://127.0.0.1:37347</li>\n",
       "  <li><b>Dashboard: </b><a href='http://127.0.0.1:8787/status' target='_blank'>http://127.0.0.1:8787/status</a></li>\n",
       "</ul>\n",
       "</td>\n",
       "<td style=\"vertical-align: top; border: 0px solid white\">\n",
       "<h3 style=\"text-align: left;\">Cluster</h3>\n",
       "<ul style=\"text-align: left; list-style:none; margin: 0; padding: 0;\">\n",
       "  <li><b>Workers: </b>1</li>\n",
       "  <li><b>Cores: </b>1</li>\n",
       "  <li><b>Memory: </b>33.47 GB</li>\n",
       "</ul>\n",
       "</td>\n",
       "</tr>\n",
       "</table>"
      ],
      "text/plain": [
       "<Client: 'tcp://127.0.0.1:37347' processes=1 threads=1, memory=33.47 GB>"
      ]
     },
     "execution_count": 2,
     "metadata": {},
     "output_type": "execute_result"
    }
   ],
   "source": [
    "client"
   ]
  },
  {
   "cell_type": "markdown",
   "id": "2b9dd103",
   "metadata": {},
   "source": [
    "## 1. Load Data"
   ]
  },
  {
   "cell_type": "code",
   "execution_count": 3,
   "id": "aeccebd1",
   "metadata": {},
   "outputs": [],
   "source": [
    "# data_path = conf.raw_data_path + '*' # for all dataset\n",
    "data_path = conf.raw_data_path + 'part-00175'\n",
    "ori_df = read_data(data_path)"
   ]
  },
  {
   "cell_type": "code",
   "execution_count": 4,
   "id": "a7f903b8",
   "metadata": {},
   "outputs": [
    {
     "data": {
      "text/plain": [
       "Index(['text_ tokens', 'hashtags', 'tweet_id', 'present_media',\n",
       "       'present_links', 'present_domains', 'tweet_type', 'language',\n",
       "       'tweet_timestamp', 'engaged_with_user_id',\n",
       "       'engaged_with_user_follower_count', 'engaged_with_user_following_count',\n",
       "       'engaged_with_user_is_verified', 'engaged_with_user_account_creation',\n",
       "       'enaging_user_id', 'enaging_user_follower_count',\n",
       "       'enaging_user_following_count', 'enaging_user_is_verified',\n",
       "       'enaging_user_account_creation', 'engagee_follows_engager',\n",
       "       'reply_timestamp', 'retweet_timestamp',\n",
       "       'retweet_with_comment_timestamp', 'like_timestamp'],\n",
       "      dtype='object')"
      ]
     },
     "execution_count": 4,
     "metadata": {},
     "output_type": "execute_result"
    }
   ],
   "source": [
    "ori_df.columns"
   ]
  },
  {
   "cell_type": "code",
   "execution_count": 5,
   "id": "8a18be50",
   "metadata": {},
   "outputs": [],
   "source": [
    "df = ori_df[['engaged_with_user_follower_count', 'engaged_with_user_following_count', 'engaged_with_user_account_creation', 'enaging_user_follower_count', 'enaging_user_following_count', 'enaging_user_account_creation', 'reply_timestamp', 'retweet_timestamp', 'retweet_with_comment_timestamp', 'like_timestamp']]"
   ]
  },
  {
   "cell_type": "code",
   "execution_count": 6,
   "id": "4ab4855f",
   "metadata": {},
   "outputs": [],
   "source": [
    "df = df.rename(columns = {'engaged_with_user_follower_count' : 'creator_follower_count', 'engaged_with_user_following_count' : 'creator_following_count', 'engaged_with_user_account_creation' : 'creator_account_creation', 'enaging_user_follower_count' : 'engager_following_count', 'enaging_user_following_count' : 'engager_follower_count', 'enaging_user_account_creation' : 'engager_account_creation'})"
   ]
  },
  {
   "cell_type": "code",
   "execution_count": 7,
   "id": "669d28fe",
   "metadata": {},
   "outputs": [],
   "source": [
    "df['is_reply'] = df['reply_timestamp'].compute().applymap(lambda x: 1 if x > 0 else 0).astype(np.int32)\n",
    "df['is_retweet'] = df['retweet_timestamp'].compute().applymap(lambda x: 1 if x > 0 else 0).astype(np.int32)\n",
    "df['is_comment'] = df['retweet_with_comment_timestamp'].compute().applymap(lambda x: 1 if x > 0 else 0).astype(np.int32)\n",
    "df['is_like'] = df['like_timestamp'].compute().applymap(lambda x: 1 if x > 0 else 0).astype(np.int32)\n",
    "\n",
    "df['is_positive'] = df[['is_like', 'is_retweet', 'is_reply', 'is_comment']].sum(axis=1).astype(np.uint8)\n",
    "df['is_negative'] =  df['is_positive'].compute().applymap(lambda x: 1 if x == 0 else 0).astype(np.int32)\n",
    "\n",
    "df = df.drop('reply_timestamp', axis=1)\n",
    "df = df.drop('retweet_timestamp', axis=1)\n",
    "df = df.drop('retweet_with_comment_timestamp', axis=1)\n",
    "df = df.drop('like_timestamp', axis=1)"
   ]
  },
  {
   "cell_type": "code",
   "execution_count": 8,
   "id": "5b74376f",
   "metadata": {},
   "outputs": [
    {
     "data": {
      "text/html": [
       "<div>\n",
       "<style scoped>\n",
       "    .dataframe tbody tr th:only-of-type {\n",
       "        vertical-align: middle;\n",
       "    }\n",
       "\n",
       "    .dataframe tbody tr th {\n",
       "        vertical-align: top;\n",
       "    }\n",
       "\n",
       "    .dataframe thead th {\n",
       "        text-align: right;\n",
       "    }\n",
       "</style>\n",
       "<table border=\"1\" class=\"dataframe\">\n",
       "  <thead>\n",
       "    <tr style=\"text-align: right;\">\n",
       "      <th></th>\n",
       "      <th>creator_follower_count</th>\n",
       "      <th>creator_following_count</th>\n",
       "      <th>creator_account_creation</th>\n",
       "      <th>engager_following_count</th>\n",
       "      <th>engager_follower_count</th>\n",
       "      <th>engager_account_creation</th>\n",
       "      <th>is_reply</th>\n",
       "      <th>is_retweet</th>\n",
       "      <th>is_comment</th>\n",
       "      <th>is_like</th>\n",
       "      <th>is_positive</th>\n",
       "      <th>is_negative</th>\n",
       "    </tr>\n",
       "    <tr>\n",
       "      <th>id</th>\n",
       "      <th></th>\n",
       "      <th></th>\n",
       "      <th></th>\n",
       "      <th></th>\n",
       "      <th></th>\n",
       "      <th></th>\n",
       "      <th></th>\n",
       "      <th></th>\n",
       "      <th></th>\n",
       "      <th></th>\n",
       "      <th></th>\n",
       "      <th></th>\n",
       "    </tr>\n",
       "  </thead>\n",
       "  <tbody>\n",
       "    <tr>\n",
       "      <th>1</th>\n",
       "      <td>4753</td>\n",
       "      <td>1060</td>\n",
       "      <td>1423752135</td>\n",
       "      <td>76</td>\n",
       "      <td>189</td>\n",
       "      <td>1435892882</td>\n",
       "      <td>0</td>\n",
       "      <td>0</td>\n",
       "      <td>0</td>\n",
       "      <td>1</td>\n",
       "      <td>1</td>\n",
       "      <td>0</td>\n",
       "    </tr>\n",
       "    <tr>\n",
       "      <th>2</th>\n",
       "      <td>110643</td>\n",
       "      <td>180</td>\n",
       "      <td>1419491382</td>\n",
       "      <td>260</td>\n",
       "      <td>379</td>\n",
       "      <td>1393057295</td>\n",
       "      <td>0</td>\n",
       "      <td>0</td>\n",
       "      <td>0</td>\n",
       "      <td>0</td>\n",
       "      <td>0</td>\n",
       "      <td>1</td>\n",
       "    </tr>\n",
       "    <tr>\n",
       "      <th>3</th>\n",
       "      <td>4480</td>\n",
       "      <td>2953</td>\n",
       "      <td>1590589531</td>\n",
       "      <td>1259</td>\n",
       "      <td>868</td>\n",
       "      <td>1587102370</td>\n",
       "      <td>1</td>\n",
       "      <td>0</td>\n",
       "      <td>0</td>\n",
       "      <td>0</td>\n",
       "      <td>1</td>\n",
       "      <td>0</td>\n",
       "    </tr>\n",
       "    <tr>\n",
       "      <th>4</th>\n",
       "      <td>461</td>\n",
       "      <td>157</td>\n",
       "      <td>1492957625</td>\n",
       "      <td>437</td>\n",
       "      <td>597</td>\n",
       "      <td>1419347918</td>\n",
       "      <td>0</td>\n",
       "      <td>0</td>\n",
       "      <td>0</td>\n",
       "      <td>1</td>\n",
       "      <td>1</td>\n",
       "      <td>0</td>\n",
       "    </tr>\n",
       "    <tr>\n",
       "      <th>5</th>\n",
       "      <td>1308</td>\n",
       "      <td>1478</td>\n",
       "      <td>1347572499</td>\n",
       "      <td>247</td>\n",
       "      <td>404</td>\n",
       "      <td>1507470713</td>\n",
       "      <td>0</td>\n",
       "      <td>0</td>\n",
       "      <td>0</td>\n",
       "      <td>0</td>\n",
       "      <td>0</td>\n",
       "      <td>1</td>\n",
       "    </tr>\n",
       "  </tbody>\n",
       "</table>\n",
       "</div>"
      ],
      "text/plain": [
       "    creator_follower_count  creator_following_count  creator_account_creation  \\\n",
       "id                                                                              \n",
       "1                     4753                     1060                1423752135   \n",
       "2                   110643                      180                1419491382   \n",
       "3                     4480                     2953                1590589531   \n",
       "4                      461                      157                1492957625   \n",
       "5                     1308                     1478                1347572499   \n",
       "\n",
       "    engager_following_count  engager_follower_count  engager_account_creation  \\\n",
       "id                                                                              \n",
       "1                        76                     189                1435892882   \n",
       "2                       260                     379                1393057295   \n",
       "3                      1259                     868                1587102370   \n",
       "4                       437                     597                1419347918   \n",
       "5                       247                     404                1507470713   \n",
       "\n",
       "    is_reply  is_retweet  is_comment  is_like  is_positive  is_negative  \n",
       "id                                                                       \n",
       "1          0           0           0        1            1            0  \n",
       "2          0           0           0        0            0            1  \n",
       "3          1           0           0        0            1            0  \n",
       "4          0           0           0        1            1            0  \n",
       "5          0           0           0        0            0            1  "
      ]
     },
     "execution_count": 8,
     "metadata": {},
     "output_type": "execute_result"
    }
   ],
   "source": [
    "df.head()"
   ]
  },
  {
   "cell_type": "markdown",
   "id": "ee197343",
   "metadata": {},
   "source": [
    "## 2. Creator Account Creation Group"
   ]
  },
  {
   "cell_type": "code",
   "execution_count": 9,
   "id": "c86dfeba",
   "metadata": {},
   "outputs": [
    {
     "data": {
      "text/plain": [
       "0            -4665600\n",
       "1          1138308614\n",
       "2          1138308703\n",
       "3          1138309452\n",
       "4          1139196690\n",
       "              ...    \n",
       "1554709    1608246213\n",
       "1554710    1608246288\n",
       "1554711    1608249056\n",
       "1554712    1608249262\n",
       "1554713    1608249473\n",
       "Name: creator_account_creation, Length: 1554714, dtype: int32"
      ]
     },
     "execution_count": 9,
     "metadata": {},
     "output_type": "execute_result"
    }
   ],
   "source": [
    "df[\"creator_account_creation\"].unique().compute()"
   ]
  },
  {
   "cell_type": "code",
   "execution_count": 36,
   "id": "ea56ff7d",
   "metadata": {},
   "outputs": [],
   "source": [
    "ps_df = df[df[\"is_positive\"] == 1]\n",
    "ng_df = df[df[\"is_negative\"] == 1]"
   ]
  },
  {
   "cell_type": "code",
   "execution_count": 38,
   "id": "c1d8d275",
   "metadata": {},
   "outputs": [],
   "source": [
    "ps_account_df = ps_df.groupby(\"creator_account_creation\").sum()\n",
    "ng_account_df = ng_df.groupby(\"creator_account_creation\").sum()"
   ]
  },
  {
   "cell_type": "code",
   "execution_count": 40,
   "id": "0048ae8d",
   "metadata": {},
   "outputs": [],
   "source": [
    "ps_account_df = ps_account_df.compute().sort_index()\n",
    "ng_account_df = ng_account_df.compute().sort_index()"
   ]
  },
  {
   "cell_type": "code",
   "execution_count": 46,
   "id": "e6b5830d",
   "metadata": {},
   "outputs": [
    {
     "data": {
      "text/plain": [
       "DescribeResult(nobs=778969, minmax=(1, 1496), mean=1.8551007806472402, variance=54.69133640318115, skewness=59.98988343473391, kurtosis=6253.40035973159)"
      ]
     },
     "execution_count": 46,
     "metadata": {},
     "output_type": "execute_result"
    }
   ],
   "source": [
    "stats.describe(ps_account_df['is_positive'].to_array())"
   ]
  },
  {
   "cell_type": "code",
   "execution_count": 47,
   "id": "d090f481",
   "metadata": {},
   "outputs": [
    {
     "data": {
      "text/plain": [
       "DescribeResult(nobs=929611, minmax=(1, 1080), mean=1.6345901672850256, variance=26.519384795059096, skewness=53.86522019631677, kurtosis=5678.052344656905)"
      ]
     },
     "execution_count": 47,
     "metadata": {},
     "output_type": "execute_result"
    }
   ],
   "source": [
    "stats.describe(ng_account_df['is_negative'].to_array())"
   ]
  },
  {
   "cell_type": "code",
   "execution_count": 65,
   "id": "fa67066b",
   "metadata": {},
   "outputs": [
    {
     "data": {
      "image/png": "[encoded data removed]",
      "text/plain": [
       "<Figure size 432x288 with 1 Axes>"
      ]
     },
     "metadata": {
      "needs_background": "light"
     },
     "output_type": "display_data"
    },
    {
     "data": {
      "image/png": "[encoded data removed]",
      "text/plain": [
       "<Figure size 432x288 with 1 Axes>"
      ]
     },
     "metadata": {
      "needs_background": "light"
     },
     "output_type": "display_data"
    }
   ],
   "source": [
    "plt.title('positive_engagements_with_account_creation')\n",
    "plt.plot(range(len(ps_account_df.index)), ps_account_df['is_positive'].to_array())\n",
    "plt.show()\n",
    "\n",
    "plt.title('negative_engagements_with_account_creation')\n",
    "plt.plot(range(len(ng_account_df.index)), ng_account_df['is_negative'].to_array())\n",
    "plt.show()"
   ]
  },
  {
   "cell_type": "code",
   "execution_count": 48,
   "id": "f269810e",
   "metadata": {},
   "outputs": [
    {
     "data": {
      "image/png": "[encoded data removed]",
      "text/plain": [
       "<Figure size 432x288 with 1 Axes>"
      ]
     },
     "metadata": {
      "needs_background": "light"
     },
     "output_type": "display_data"
    },
    {
     "data": {
      "image/png": "[encoded data removed]",
      "text/plain": [
       "<Figure size 432x288 with 1 Axes>"
      ]
     },
     "metadata": {
      "needs_background": "light"
     },
     "output_type": "display_data"
    },
    {
     "data": {
      "image/png": "[encoded data removed]",
      "text/plain": [
       "<Figure size 432x288 with 1 Axes>"
      ]
     },
     "metadata": {
      "needs_background": "light"
     },
     "output_type": "display_data"
    },
    {
     "data": {
      "image/png": "[encoded data removed]",
      "text/plain": [
       "<Figure size 432x288 with 1 Axes>"
      ]
     },
     "metadata": {
      "needs_background": "light"
     },
     "output_type": "display_data"
    }
   ],
   "source": [
    "plt.title('like_with_account_creation')\n",
    "plt.plot(range(len(ps_account_df.index)), ps_account_df['is_like'].to_array())\n",
    "plt.show()\n",
    "\n",
    "plt.title('retweet_with_account_creation')\n",
    "plt.plot(range(len(ps_account_df.index)), ps_account_df['is_retweet'].to_array())\n",
    "plt.show()\n",
    "\n",
    "plt.title('reply_with_account_creation')\n",
    "plt.plot(range(len(ps_account_df.index)), ps_account_df['is_reply'].to_array())\n",
    "plt.show()\n",
    "\n",
    "plt.title('comment_with_account_creation')\n",
    "plt.plot(range(len(ps_account_df.index)), ps_account_df['is_comment'].to_array())\n",
    "plt.show()\n"
   ]
  },
  {
   "cell_type": "code",
   "execution_count": 26,
   "id": "c7ffc778",
   "metadata": {},
   "outputs": [
    {
     "data": {
      "text/html": [
       "<div>\n",
       "<style scoped>\n",
       "    .dataframe tbody tr th:only-of-type {\n",
       "        vertical-align: middle;\n",
       "    }\n",
       "\n",
       "    .dataframe tbody tr th {\n",
       "        vertical-align: top;\n",
       "    }\n",
       "\n",
       "    .dataframe thead th {\n",
       "        text-align: right;\n",
       "    }\n",
       "</style>\n",
       "<table border=\"1\" class=\"dataframe\">\n",
       "  <thead>\n",
       "    <tr style=\"text-align: right;\">\n",
       "      <th></th>\n",
       "      <th></th>\n",
       "      <th>creator_following_count</th>\n",
       "      <th>engager_following_count</th>\n",
       "      <th>engager_follower_count</th>\n",
       "      <th>engager_account_creation</th>\n",
       "      <th>is_reply</th>\n",
       "      <th>is_retweet</th>\n",
       "      <th>is_comment</th>\n",
       "      <th>is_like</th>\n",
       "      <th>is_positive</th>\n",
       "      <th>is_negative</th>\n",
       "    </tr>\n",
       "    <tr>\n",
       "      <th>creator_account_creation</th>\n",
       "      <th>creator_follower_count</th>\n",
       "      <th></th>\n",
       "      <th></th>\n",
       "      <th></th>\n",
       "      <th></th>\n",
       "      <th></th>\n",
       "      <th></th>\n",
       "      <th></th>\n",
       "      <th></th>\n",
       "      <th></th>\n",
       "      <th></th>\n",
       "    </tr>\n",
       "  </thead>\n",
       "  <tbody>\n",
       "    <tr>\n",
       "      <th>1525304931</th>\n",
       "      <th>143</th>\n",
       "      <td>120</td>\n",
       "      <td>272</td>\n",
       "      <td>284</td>\n",
       "      <td>1572256686</td>\n",
       "      <td>0</td>\n",
       "      <td>0</td>\n",
       "      <td>0</td>\n",
       "      <td>1</td>\n",
       "      <td>1</td>\n",
       "      <td>0</td>\n",
       "    </tr>\n",
       "    <tr>\n",
       "      <th>1378414617</th>\n",
       "      <th>975</th>\n",
       "      <td>257</td>\n",
       "      <td>972</td>\n",
       "      <td>118</td>\n",
       "      <td>1369096421</td>\n",
       "      <td>0</td>\n",
       "      <td>1</td>\n",
       "      <td>0</td>\n",
       "      <td>0</td>\n",
       "      <td>1</td>\n",
       "      <td>0</td>\n",
       "    </tr>\n",
       "    <tr>\n",
       "      <th>1576175369</th>\n",
       "      <th>141</th>\n",
       "      <td>504</td>\n",
       "      <td>30</td>\n",
       "      <td>98</td>\n",
       "      <td>1580502012</td>\n",
       "      <td>0</td>\n",
       "      <td>0</td>\n",
       "      <td>0</td>\n",
       "      <td>1</td>\n",
       "      <td>1</td>\n",
       "      <td>0</td>\n",
       "    </tr>\n",
       "    <tr>\n",
       "      <th>1340554000</th>\n",
       "      <th>25297</th>\n",
       "      <td>488</td>\n",
       "      <td>1668</td>\n",
       "      <td>510</td>\n",
       "      <td>1537391731</td>\n",
       "      <td>0</td>\n",
       "      <td>0</td>\n",
       "      <td>0</td>\n",
       "      <td>1</td>\n",
       "      <td>1</td>\n",
       "      <td>0</td>\n",
       "    </tr>\n",
       "    <tr>\n",
       "      <th>1482191231</th>\n",
       "      <th>404</th>\n",
       "      <td>722</td>\n",
       "      <td>314</td>\n",
       "      <td>731</td>\n",
       "      <td>3011409385</td>\n",
       "      <td>0</td>\n",
       "      <td>0</td>\n",
       "      <td>1</td>\n",
       "      <td>1</td>\n",
       "      <td>2</td>\n",
       "      <td>0</td>\n",
       "    </tr>\n",
       "    <tr>\n",
       "      <th>...</th>\n",
       "      <th>...</th>\n",
       "      <td>...</td>\n",
       "      <td>...</td>\n",
       "      <td>...</td>\n",
       "      <td>...</td>\n",
       "      <td>...</td>\n",
       "      <td>...</td>\n",
       "      <td>...</td>\n",
       "      <td>...</td>\n",
       "      <td>...</td>\n",
       "      <td>...</td>\n",
       "    </tr>\n",
       "    <tr>\n",
       "      <th>1585393623</th>\n",
       "      <th>2830</th>\n",
       "      <td>2495</td>\n",
       "      <td>244</td>\n",
       "      <td>351</td>\n",
       "      <td>1592094961</td>\n",
       "      <td>1</td>\n",
       "      <td>0</td>\n",
       "      <td>0</td>\n",
       "      <td>0</td>\n",
       "      <td>1</td>\n",
       "      <td>0</td>\n",
       "    </tr>\n",
       "    <tr>\n",
       "      <th>1571364015</th>\n",
       "      <th>216</th>\n",
       "      <td>237</td>\n",
       "      <td>80</td>\n",
       "      <td>197</td>\n",
       "      <td>1586254055</td>\n",
       "      <td>0</td>\n",
       "      <td>0</td>\n",
       "      <td>0</td>\n",
       "      <td>1</td>\n",
       "      <td>1</td>\n",
       "      <td>0</td>\n",
       "    </tr>\n",
       "    <tr>\n",
       "      <th>1482702208</th>\n",
       "      <th>16909</th>\n",
       "      <td>12082</td>\n",
       "      <td>5604</td>\n",
       "      <td>4609</td>\n",
       "      <td>1498388012</td>\n",
       "      <td>0</td>\n",
       "      <td>0</td>\n",
       "      <td>0</td>\n",
       "      <td>1</td>\n",
       "      <td>1</td>\n",
       "      <td>0</td>\n",
       "    </tr>\n",
       "    <tr>\n",
       "      <th>1573050313</th>\n",
       "      <th>162</th>\n",
       "      <td>332</td>\n",
       "      <td>54</td>\n",
       "      <td>70</td>\n",
       "      <td>1548763893</td>\n",
       "      <td>0</td>\n",
       "      <td>1</td>\n",
       "      <td>0</td>\n",
       "      <td>0</td>\n",
       "      <td>1</td>\n",
       "      <td>0</td>\n",
       "    </tr>\n",
       "    <tr>\n",
       "      <th>1400247303</th>\n",
       "      <th>59539</th>\n",
       "      <td>213</td>\n",
       "      <td>110</td>\n",
       "      <td>492</td>\n",
       "      <td>1414453882</td>\n",
       "      <td>0</td>\n",
       "      <td>0</td>\n",
       "      <td>0</td>\n",
       "      <td>1</td>\n",
       "      <td>1</td>\n",
       "      <td>0</td>\n",
       "    </tr>\n",
       "  </tbody>\n",
       "</table>\n",
       "<p>780069 rows × 10 columns</p>\n",
       "</div>"
      ],
      "text/plain": [
       "                                                 creator_following_count  \\\n",
       "creator_account_creation creator_follower_count                            \n",
       "1525304931               143                                         120   \n",
       "1378414617               975                                         257   \n",
       "1576175369               141                                         504   \n",
       "1340554000               25297                                       488   \n",
       "1482191231               404                                         722   \n",
       "...                                                                  ...   \n",
       "1585393623               2830                                       2495   \n",
       "1571364015               216                                         237   \n",
       "1482702208               16909                                     12082   \n",
       "1573050313               162                                         332   \n",
       "1400247303               59539                                       213   \n",
       "\n",
       "                                                 engager_following_count  \\\n",
       "creator_account_creation creator_follower_count                            \n",
       "1525304931               143                                         272   \n",
       "1378414617               975                                         972   \n",
       "1576175369               141                                          30   \n",
       "1340554000               25297                                      1668   \n",
       "1482191231               404                                         314   \n",
       "...                                                                  ...   \n",
       "1585393623               2830                                        244   \n",
       "1571364015               216                                          80   \n",
       "1482702208               16909                                      5604   \n",
       "1573050313               162                                          54   \n",
       "1400247303               59539                                       110   \n",
       "\n",
       "                                                 engager_follower_count  \\\n",
       "creator_account_creation creator_follower_count                           \n",
       "1525304931               143                                        284   \n",
       "1378414617               975                                        118   \n",
       "1576175369               141                                         98   \n",
       "1340554000               25297                                      510   \n",
       "1482191231               404                                        731   \n",
       "...                                                                 ...   \n",
       "1585393623               2830                                       351   \n",
       "1571364015               216                                        197   \n",
       "1482702208               16909                                     4609   \n",
       "1573050313               162                                         70   \n",
       "1400247303               59539                                      492   \n",
       "\n",
       "                                                 engager_account_creation  \\\n",
       "creator_account_creation creator_follower_count                             \n",
       "1525304931               143                                   1572256686   \n",
       "1378414617               975                                   1369096421   \n",
       "1576175369               141                                   1580502012   \n",
       "1340554000               25297                                 1537391731   \n",
       "1482191231               404                                   3011409385   \n",
       "...                                                                   ...   \n",
       "1585393623               2830                                  1592094961   \n",
       "1571364015               216                                   1586254055   \n",
       "1482702208               16909                                 1498388012   \n",
       "1573050313               162                                   1548763893   \n",
       "1400247303               59539                                 1414453882   \n",
       "\n",
       "                                                 is_reply  is_retweet  \\\n",
       "creator_account_creation creator_follower_count                         \n",
       "1525304931               143                            0           0   \n",
       "1378414617               975                            0           1   \n",
       "1576175369               141                            0           0   \n",
       "1340554000               25297                          0           0   \n",
       "1482191231               404                            0           0   \n",
       "...                                                   ...         ...   \n",
       "1585393623               2830                           1           0   \n",
       "1571364015               216                            0           0   \n",
       "1482702208               16909                          0           0   \n",
       "1573050313               162                            0           1   \n",
       "1400247303               59539                          0           0   \n",
       "\n",
       "                                                 is_comment  is_like  \\\n",
       "creator_account_creation creator_follower_count                        \n",
       "1525304931               143                              0        1   \n",
       "1378414617               975                              0        0   \n",
       "1576175369               141                              0        1   \n",
       "1340554000               25297                            0        1   \n",
       "1482191231               404                              1        1   \n",
       "...                                                     ...      ...   \n",
       "1585393623               2830                             0        0   \n",
       "1571364015               216                              0        1   \n",
       "1482702208               16909                            0        1   \n",
       "1573050313               162                              0        0   \n",
       "1400247303               59539                            0        1   \n",
       "\n",
       "                                                 is_positive  is_negative  \n",
       "creator_account_creation creator_follower_count                            \n",
       "1525304931               143                               1            0  \n",
       "1378414617               975                               1            0  \n",
       "1576175369               141                               1            0  \n",
       "1340554000               25297                             1            0  \n",
       "1482191231               404                               2            0  \n",
       "...                                                      ...          ...  \n",
       "1585393623               2830                              1            0  \n",
       "1571364015               216                               1            0  \n",
       "1482702208               16909                             1            0  \n",
       "1573050313               162                               1            0  \n",
       "1400247303               59539                             1            0  \n",
       "\n",
       "[780069 rows x 10 columns]"
      ]
     },
     "execution_count": 26,
     "metadata": {},
     "output_type": "execute_result"
    }
   ],
   "source": [
    "ps_df.groupby(by=[\"creator_account_creation\", \"creator_follower_count\"]).sum().compute()"
   ]
  },
  {
   "cell_type": "markdown",
   "id": "b3fde844",
   "metadata": {},
   "source": [
    "## 3. Relation between account creation and follower/following"
   ]
  },
  {
   "cell_type": "code",
   "execution_count": 61,
   "id": "ad61cf4a",
   "metadata": {},
   "outputs": [],
   "source": [
    "ps_df = ps_df.sort_values(by=['creator_account_creation'], axis=0)"
   ]
  },
  {
   "cell_type": "code",
   "execution_count": 64,
   "id": "49e08ee1",
   "metadata": {},
   "outputs": [
    {
     "data": {
      "image/png": "[encoded data removed]",
      "text/plain": [
       "<Figure size 432x288 with 1 Axes>"
      ]
     },
     "metadata": {
      "needs_background": "light"
     },
     "output_type": "display_data"
    },
    {
     "data": {
      "image/png": "[encoded data removed]",
      "text/plain": [
       "<Figure size 432x288 with 1 Axes>"
      ]
     },
     "metadata": {
      "needs_background": "light"
     },
     "output_type": "display_data"
    }
   ],
   "source": [
    "plt.title('creator account creation & creator follower count')\n",
    "plt.scatter(ps_df['creator_account_creation'].compute().to_array(), ps_df['creator_follower_count'].compute().to_array())\n",
    "plt.show()\n",
    "\n",
    "plt.title('creator account creation & creator following count')\n",
    "plt.scatter(ps_df['creator_account_creation'].compute().to_array(), ps_df['creator_following_count'].compute().to_array())\n",
    "plt.show()"
   ]
  },
  {
   "cell_type": "markdown",
   "id": "a50fb1f0",
   "metadata": {},
   "source": [
    "## 4. Analysis recent account creation"
   ]
  },
  {
   "cell_type": "code",
   "execution_count": 129,
   "id": "e37bbc6c",
   "metadata": {},
   "outputs": [],
   "source": [
    "# 2020.01 ~\n",
    "recent_ac = df[df[\"creator_account_creation\"] >= 1577804400]"
   ]
  },
  {
   "cell_type": "code",
   "execution_count": 130,
   "id": "4743b1b5",
   "metadata": {},
   "outputs": [],
   "source": [
    "r_ps_df = recent_ac[recent_ac[\"is_positive\"] == 1]\n",
    "r_ng_df = recent_ac[recent_ac[\"is_negative\"] == 1]"
   ]
  },
  {
   "cell_type": "code",
   "execution_count": 131,
   "id": "d8e30f54",
   "metadata": {},
   "outputs": [],
   "source": [
    "r_ps_account_df = r_ps_df.groupby(\"creator_account_creation\").sum()\n",
    "r_ng_account_df = r_ng_df.groupby(\"creator_account_creation\").sum()"
   ]
  },
  {
   "cell_type": "code",
   "execution_count": 132,
   "id": "2dfeedb5",
   "metadata": {},
   "outputs": [],
   "source": [
    "r_ps_account_df = r_ps_account_df.compute().sort_index()\n",
    "r_ng_account_df = r_ng_account_df.compute().sort_index()"
   ]
  },
  {
   "cell_type": "code",
   "execution_count": 133,
   "id": "d0a6d8eb",
   "metadata": {},
   "outputs": [
    {
     "data": {
      "text/plain": [
       "DescribeResult(nobs=173714, minmax=(1, 702), mean=1.5634779004570731, variance=18.749307934303474, skewness=74.37949561315128, kurtosis=9243.47613910331)"
      ]
     },
     "execution_count": 133,
     "metadata": {},
     "output_type": "execute_result"
    }
   ],
   "source": [
    "stats.describe(r_ps_account_df['is_positive'].to_array())"
   ]
  },
  {
   "cell_type": "code",
   "execution_count": 134,
   "id": "27b4d2b6",
   "metadata": {},
   "outputs": [
    {
     "data": {
      "text/plain": [
       "DescribeResult(nobs=171955, minmax=(1, 659), mean=1.24222616382193, variance=5.999504494367616, skewness=137.55611559584406, kurtosis=32146.674845738024)"
      ]
     },
     "execution_count": 134,
     "metadata": {},
     "output_type": "execute_result"
    }
   ],
   "source": [
    "stats.describe(r_ng_account_df['is_negative'].to_array())"
   ]
  },
  {
   "cell_type": "code",
   "execution_count": 135,
   "id": "3fd23d09",
   "metadata": {},
   "outputs": [],
   "source": [
    "# except outlier\n",
    "r_ps_account_df = r_ps_account_df[r_ps_account_df[\"is_positive\"] <= 300]\n",
    "r_ng_account_df = r_ng_account_df[r_ng_account_df[\"is_negative\"] <= 100]"
   ]
  },
  {
   "cell_type": "code",
   "execution_count": 136,
   "id": "5cfd5455",
   "metadata": {},
   "outputs": [
    {
     "data": {
      "image/png": "[encoded data removed]",
      "text/plain": [
       "<Figure size 432x288 with 1 Axes>"
      ]
     },
     "metadata": {
      "needs_background": "light"
     },
     "output_type": "display_data"
    },
    {
     "data": {
      "image/png": "[encoded data removed]",
      "text/plain": [
       "<Figure size 432x288 with 1 Axes>"
      ]
     },
     "metadata": {
      "needs_background": "light"
     },
     "output_type": "display_data"
    }
   ],
   "source": [
    "plt.title('positive_engagements_with_recent_account_creation')\n",
    "plt.plot(range(len(r_ps_account_df.index)), r_ps_account_df['is_positive'].to_array())\n",
    "plt.show()\n",
    "\n",
    "plt.title('negative_engagements_with_recent_account_creation')\n",
    "plt.plot(range(len(r_ng_account_df.index)), r_ng_account_df['is_negative'].to_array())\n",
    "plt.show()"
   ]
  },
  {
   "cell_type": "code",
   "execution_count": null,
   "id": "46c7897e",
   "metadata": {},
   "outputs": [],
   "source": []
  }
 ],
 "metadata": {
  "kernelspec": {
   "display_name": "Python 3",
   "language": "python",
   "name": "python3"
  },
  "language_info": {
   "codemirror_mode": {
    "name": "ipython",
    "version": 3
   },
   "file_extension": ".py",
   "mimetype": "text/x-python",
   "name": "python",
   "nbconvert_exporter": "python",
   "pygments_lexer": "ipython3",
   "version": "3.7.10"
  }
 },
 "nbformat": 4,
 "nbformat_minor": 5
}
