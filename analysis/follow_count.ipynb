{
 "metadata": {
  "language_info": {
   "codemirror_mode": {
    "name": "ipython",
    "version": 3
   },
   "file_extension": ".py",
   "mimetype": "text/x-python",
   "name": "python",
   "nbconvert_exporter": "python",
   "pygments_lexer": "ipython3",
   "version": "3.7.10-final"
  },
  "orig_nbformat": 2,
  "kernelspec": {
   "name": "dask-cudf",
   "display_name": "dask-cudf",
   "language": "python"
  }
 },
 "nbformat": 4,
 "nbformat_minor": 2,
 "cells": [
  {
   "source": [
    "# Analysis - Hashtag"
   ],
   "cell_type": "markdown",
   "metadata": {}
  },
  {
   "cell_type": "code",
   "execution_count": 1,
   "metadata": {},
   "outputs": [],
   "source": [
    "import sys\n",
    "sys.path.append('..')\n",
    "\n",
    "import numpy as np\n",
    "import matplotlib.pyplot as plt\n",
    "from scipy import sparse as sps\n",
    "import pandas as pd\n",
    "\n",
    "\n",
    "from utils.cuda_cluster import *\n",
    "from utils.dataset import read_data, factorize_small_cardinality\n",
    "\n",
    "import core.config as conf\n"
   ]
  },
  {
   "cell_type": "code",
   "execution_count": 2,
   "metadata": {},
   "outputs": [
    {
     "output_type": "execute_result",
     "data": {
      "text/plain": [
       "<Client: 'tcp://127.0.0.1:41421' processes=1 threads=1, memory=33.47 GB>"
      ],
      "text/html": "<table style=\"border: 2px solid white;\">\n<tr>\n<td style=\"vertical-align: top; border: 0px solid white\">\n<h3 style=\"text-align: left;\">Client</h3>\n<ul style=\"text-align: left; list-style: none; margin: 0; padding: 0;\">\n  <li><b>Scheduler: </b>tcp://127.0.0.1:41421</li>\n  <li><b>Dashboard: </b><a href='http://127.0.0.1:8787/status' target='_blank'>http://127.0.0.1:8787/status</a></li>\n</ul>\n</td>\n<td style=\"vertical-align: top; border: 0px solid white\">\n<h3 style=\"text-align: left;\">Cluster</h3>\n<ul style=\"text-align: left; list-style:none; margin: 0; padding: 0;\">\n  <li><b>Workers: </b>1</li>\n  <li><b>Cores: </b>1</li>\n  <li><b>Memory: </b>33.47 GB</li>\n</ul>\n</td>\n</tr>\n</table>"
     },
     "metadata": {},
     "execution_count": 2
    }
   ],
   "source": [
    "client"
   ]
  },
  {
   "source": [
    "## 1. Load data"
   ],
   "cell_type": "markdown",
   "metadata": {}
  },
  {
   "cell_type": "code",
   "execution_count": 3,
   "metadata": {},
   "outputs": [
    {
     "output_type": "stream",
     "name": "stdout",
     "text": [
      "number of rows: 3033347\n"
     ]
    }
   ],
   "source": [
    "# data_path = conf.raw_data_path + '*' # for all dataset\n",
    "data_path = conf.raw_data_path + 'part-00175'\n",
    "ori_df = read_data(data_path)"
   ]
  },
  {
   "cell_type": "code",
   "execution_count": 4,
   "metadata": {},
   "outputs": [
    {
     "output_type": "execute_result",
     "data": {
      "text/plain": [
       "Index(['text_ tokens', 'hashtags', 'tweet_id', 'present_media',\n",
       "       'present_links', 'present_domains', 'tweet_type', 'language',\n",
       "       'tweet_timestamp', 'engaged_with_user_id',\n",
       "       'engaged_with_user_follower_count', 'engaged_with_user_following_count',\n",
       "       'engaged_with_user_is_verified', 'engaged_with_user_account_creation',\n",
       "       'enaging_user_id', 'enaging_user_follower_count',\n",
       "       'enaging_user_following_count', 'enaging_user_is_verified',\n",
       "       'enaging_user_account_creation', 'engagee_follows_engager',\n",
       "       'reply_timestamp', 'retweet_timestamp',\n",
       "       'retweet_with_comment_timestamp', 'like_timestamp'],\n",
       "      dtype='object')"
      ]
     },
     "metadata": {},
     "execution_count": 4
    }
   ],
   "source": [
    "ori_df.columns"
   ]
  },
  {
   "cell_type": "code",
   "execution_count": 5,
   "metadata": {},
   "outputs": [],
   "source": [
    "df = ori_df[['engaged_with_user_id', 'engaged_with_user_follower_count', 'engaged_with_user_following_count', 'enaging_user_id', 'enaging_user_follower_count', 'enaging_user_following_count', 'reply_timestamp', 'retweet_timestamp','retweet_with_comment_timestamp', 'like_timestamp']]"
   ]
  },
  {
   "cell_type": "code",
   "execution_count": 6,
   "metadata": {},
   "outputs": [],
   "source": [
    "df['is_reply'] = df['reply_timestamp'].compute().applymap(lambda x: 1 if x > 0 else 0).astype(np.int32)\n",
    "df['is_retweet'] = df['retweet_timestamp'].compute().applymap(lambda x: 1 if x > 0 else 0).astype(np.int32)\n",
    "df['is_comment'] = df['retweet_with_comment_timestamp'].compute().applymap(lambda x: 1 if x > 0 else 0).astype(np.int32)\n",
    "df['is_like'] = df['like_timestamp'].compute().applymap(lambda x: 1 if x > 0 else 0).astype(np.int32)\n",
    "\n",
    "df['is_positive'] = df['is_reply'] | df['is_retweet'] | df['is_comment'] | df['is_like']\n",
    "df['is_negative'] =  df['is_positive'].compute().applymap(lambda x: 1 if x == 0 else 0).astype(np.int32)\n",
    "\n",
    "df = df.drop('reply_timestamp', axis=1)\n",
    "df = df.drop('retweet_timestamp', axis=1)\n",
    "df = df.drop('retweet_with_comment_timestamp', axis=1)\n",
    "df = df.drop('like_timestamp', axis=1)"
   ]
  },
  {
   "cell_type": "code",
   "execution_count": 13,
   "metadata": {},
   "outputs": [
    {
     "output_type": "execute_result",
     "data": {
      "text/plain": [
       "0          000000B946F21610D8169031348D6748\n",
       "1          0000030E0DCCFDF9DBF2DDC031E6DA58\n",
       "2          0000059852AB4CDFB4C417C550780C7D\n",
       "3          000005BCF00DCCEABCF7F82BDCFB3543\n",
       "4          0000079F3828E08D0A604E3E0D78C91F\n",
       "                         ...               \n",
       "3511085    FFFFF3D18C31109B40C431CE050BEE2E\n",
       "3511086    FFFFF50BA9D4FF3225576C8996BE8BAC\n",
       "3511087    FFFFF7DE6B3CB775180049CB3CD337BA\n",
       "3511088    FFFFF8D0A1E9C84BD356965A0C74ADB8\n",
       "3511089    FFFFFA8F28C6657BA57B88D608FA2298\n",
       "Length: 3511090, dtype: object"
      ]
     },
     "metadata": {},
     "execution_count": 13
    }
   ],
   "source": [
    "total_users = dask_cudf.concat([ori_df[\"engaged_with_user_id\"], ori_df[\"enaging_user_id\"]]).unique().compute()\n",
    "df, _ = factorize_small_cardinality(df, 'engaged_with_user_id', total_users, True)\n",
    "df, _ = factorize_small_cardinality(df, 'enaging_user_id', total_users, True)\n",
    "\n",
    "total_users"
   ]
  },
  {
   "cell_type": "code",
   "execution_count": 16,
   "metadata": {},
   "outputs": [],
   "source": [
    "df = df.rename(columns={'engaged_with_user_id_encode': 'careator_id'})\n",
    "df = df.rename(columns={'enaging_user_id_encode': 'engager_id'})\n",
    "df = df.drop('engaged_with_user_id', axis=1)\n",
    "df = df.drop('enaging_user_id', axis=1)\n",
    "\n",
    "df = df.rename(columns={'engaged_with_user_follower_count': 'creator_follower_count'})\n",
    "df = df.rename(columns={'engaged_with_user_following_count': 'creator_following_count'})\n",
    "df = df.rename(columns={'enaging_user_follower_count': 'engager_follower_count'})\n",
    "df = df.rename(columns={'enaging_user_following_count': 'engager_following_count'})"
   ]
  },
  {
   "cell_type": "code",
   "execution_count": 19,
   "metadata": {},
   "outputs": [
    {
     "output_type": "execute_result",
     "data": {
      "text/plain": [
       "    creator_follower_count  creator_following_count  engager_follower_count  \\\n",
       "id                                                                            \n",
       "1                     4753                     1060                      76   \n",
       "2                   110643                      180                     260   \n",
       "3                     4480                     2953                    1259   \n",
       "4                      461                      157                     437   \n",
       "5                     1308                     1478                     247   \n",
       "\n",
       "    engager_following_count  is_reply  is_retweet  is_comment  is_like  \\\n",
       "id                                                                       \n",
       "1                       189         0           0           0        1   \n",
       "2                       379         0           0           0        0   \n",
       "3                       868         1           0           0        0   \n",
       "4                       597         0           0           0        1   \n",
       "5                       404         0           0           0        0   \n",
       "\n",
       "    is_positive  is_negative  careator_id  engager_id  \n",
       "id                                                     \n",
       "1             1            0      2586120      893844  \n",
       "2             0            1      3355961     3173376  \n",
       "3             1            0      1233947      951213  \n",
       "4             1            0      3063535     2013995  \n",
       "5             0            1      2280964     3018294  "
      ],
      "text/html": "<div>\n<style scoped>\n    .dataframe tbody tr th:only-of-type {\n        vertical-align: middle;\n    }\n\n    .dataframe tbody tr th {\n        vertical-align: top;\n    }\n\n    .dataframe thead th {\n        text-align: right;\n    }\n</style>\n<table border=\"1\" class=\"dataframe\">\n  <thead>\n    <tr style=\"text-align: right;\">\n      <th></th>\n      <th>creator_follower_count</th>\n      <th>creator_following_count</th>\n      <th>engager_follower_count</th>\n      <th>engager_following_count</th>\n      <th>is_reply</th>\n      <th>is_retweet</th>\n      <th>is_comment</th>\n      <th>is_like</th>\n      <th>is_positive</th>\n      <th>is_negative</th>\n      <th>careator_id</th>\n      <th>engager_id</th>\n    </tr>\n    <tr>\n      <th>id</th>\n      <th></th>\n      <th></th>\n      <th></th>\n      <th></th>\n      <th></th>\n      <th></th>\n      <th></th>\n      <th></th>\n      <th></th>\n      <th></th>\n      <th></th>\n      <th></th>\n    </tr>\n  </thead>\n  <tbody>\n    <tr>\n      <th>1</th>\n      <td>4753</td>\n      <td>1060</td>\n      <td>76</td>\n      <td>189</td>\n      <td>0</td>\n      <td>0</td>\n      <td>0</td>\n      <td>1</td>\n      <td>1</td>\n      <td>0</td>\n      <td>2586120</td>\n      <td>893844</td>\n    </tr>\n    <tr>\n      <th>2</th>\n      <td>110643</td>\n      <td>180</td>\n      <td>260</td>\n      <td>379</td>\n      <td>0</td>\n      <td>0</td>\n      <td>0</td>\n      <td>0</td>\n      <td>0</td>\n      <td>1</td>\n      <td>3355961</td>\n      <td>3173376</td>\n    </tr>\n    <tr>\n      <th>3</th>\n      <td>4480</td>\n      <td>2953</td>\n      <td>1259</td>\n      <td>868</td>\n      <td>1</td>\n      <td>0</td>\n      <td>0</td>\n      <td>0</td>\n      <td>1</td>\n      <td>0</td>\n      <td>1233947</td>\n      <td>951213</td>\n    </tr>\n    <tr>\n      <th>4</th>\n      <td>461</td>\n      <td>157</td>\n      <td>437</td>\n      <td>597</td>\n      <td>0</td>\n      <td>0</td>\n      <td>0</td>\n      <td>1</td>\n      <td>1</td>\n      <td>0</td>\n      <td>3063535</td>\n      <td>2013995</td>\n    </tr>\n    <tr>\n      <th>5</th>\n      <td>1308</td>\n      <td>1478</td>\n      <td>247</td>\n      <td>404</td>\n      <td>0</td>\n      <td>0</td>\n      <td>0</td>\n      <td>0</td>\n      <td>0</td>\n      <td>1</td>\n      <td>2280964</td>\n      <td>3018294</td>\n    </tr>\n  </tbody>\n</table>\n</div>"
     },
     "metadata": {},
     "execution_count": 19
    }
   ],
   "source": [
    "df.head()"
   ]
  },
  {
   "cell_type": "code",
   "execution_count": null,
   "metadata": {},
   "outputs": [],
   "source": []
  }
 ]
}