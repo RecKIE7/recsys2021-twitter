{
 "metadata": {
  "language_info": {
   "codemirror_mode": {
    "name": "ipython",
    "version": 3
   },
   "file_extension": ".py",
   "mimetype": "text/x-python",
   "name": "python",
   "nbconvert_exporter": "python",
   "pygments_lexer": "ipython3",
   "version": "3.8.8"
  },
  "orig_nbformat": 2,
  "kernelspec": {
   "name": "python388jvsc74a57bd0ae065c56e262e6694ecb174f95b527853807b9a02b7a5d470fad054d1e0ab874",
   "display_name": "Python 3.8.8 64-bit ('recsys': conda)"
  }
 },
 "nbformat": 4,
 "nbformat_minor": 2,
 "cells": [
  {
   "cell_type": "code",
   "execution_count": 1,
   "metadata": {},
   "outputs": [],
   "source": [
    "import sys, os\n",
    "sys.path.append('..')\n",
    "\n",
    "import numpy as np\n",
    "import matplotlib.pyplot as plt\n",
    "import pandas as pd\n",
    "from tqdm import tqdm\n",
    "from sklearn import preprocessing\n",
    "from utils.evaluate import calculate_ctr, compute_rce, average_precision_score\n",
    "from sklearn.model_selection import train_test_split\n",
    "\n",
    "from utils.preprocessing import *\n",
    "\n",
    "import pickle\n",
    "import core.config as conf"
   ]
  },
  {
   "cell_type": "code",
   "execution_count": 2,
   "metadata": {},
   "outputs": [
    {
     "output_type": "stream",
     "name": "stderr",
     "text": [
      "  0%|          | 0/292 [00:00<?, ?it/s]/home/hyez/anaconda3/envs/recsys/lib/python3.8/site-packages/IPython/core/interactiveshell.py:3357: DtypeWarning: Columns (17,19) have mixed types.Specify dtype option on import or set low_memory=False.\n",
      "  if (await self.run_code(code, result,  async_=asy)):\n",
      "  7%|▋         | 21/292 [37:17<10:56:43, 145.40s/it]"
     ]
    }
   ],
   "source": [
    "file_list = sorted(os.listdir(conf.raw_lzo_path))\n",
    "\n",
    "for raw_file_name in tqdm(file_list):\n",
    "    data_path = conf.raw_lzo_path + raw_file_name\n",
    "    dict_path = '../data/unique_users.pickle'\n",
    "    df = read_data(data_path)\n",
    "    \n",
    "    unique_engagers = df['engager_id'].unique().tolist()\n",
    "    unique_creators = df['creator_id'].unique().tolist()\n",
    "    unique_users = np.unique(np.append(unique_creators, unique_engagers))\n",
    "\n",
    "    user_set = set()\n",
    "\n",
    "    if os.path.exists(dict_path):\n",
    "        with open(dict_path, 'rb') as f:\n",
    "            user_set = pickle.load(f)\n",
    "                \n",
    "    for user in unique_users:\n",
    "        user_set.add(user)\n",
    "    \n",
    "    with open(dict_path, 'wb') as f:\n",
    "        pickle.dump(user_set, f, protocol=pickle.HIGHEST_PROTOCOL)\n",
    "    \n",
    "    del user_set\n",
    "    del df\n"
   ]
  },
  {
   "cell_type": "code",
   "execution_count": 37,
   "metadata": {},
   "outputs": [],
   "source": []
  },
  {
   "cell_type": "code",
   "execution_count": 4,
   "metadata": {},
   "outputs": [],
   "source": [
    "if os.path.exists(dict_path):\n",
    "        with open(dict_path, 'rb') as f:\n",
    "            user_dict = pickle.load(f)\n",
    "                "
   ]
  },
  {
   "cell_type": "code",
   "execution_count": 5,
   "metadata": {},
   "outputs": [
    {
     "output_type": "execute_result",
     "data": {
      "text/plain": [
       "9429610"
      ]
     },
     "metadata": {},
     "execution_count": 5
    }
   ],
   "source": [
    "len(user_dict.keys())"
   ]
  },
  {
   "cell_type": "code",
   "execution_count": null,
   "metadata": {},
   "outputs": [],
   "source": []
  }
 ]
}