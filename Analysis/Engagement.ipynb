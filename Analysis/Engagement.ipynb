{
 "metadata": {
  "language_info": {
   "codemirror_mode": {
    "name": "ipython",
    "version": 3
   },
   "file_extension": ".py",
   "mimetype": "text/x-python",
   "name": "python",
   "nbconvert_exporter": "python",
   "pygments_lexer": "ipython3",
   "version": "3.7.10-final"
  },
  "orig_nbformat": 2,
  "kernelspec": {
   "name": "dask-cudf",
   "display_name": "dask-cudf",
   "language": "python"
  }
 },
 "nbformat": 4,
 "nbformat_minor": 2,
 "cells": [
  {
   "cell_type": "code",
   "execution_count": 8,
   "metadata": {},
   "outputs": [
    {
     "output_type": "execute_result",
     "data": {
      "text/plain": [
       "<dask.config.set at 0x7f69d70aec90>"
      ]
     },
     "metadata": {},
     "execution_count": 8
    }
   ],
   "source": [
    "import dask.dataframe as dd\n",
    "import dask\n",
    "from dask.distributed import Client\n",
    "import dask.multiprocessing\n",
    "dask.config.set(schedular='process')"
   ]
  },
  {
   "cell_type": "code",
   "execution_count": 10,
   "metadata": {},
   "outputs": [
    {
     "output_type": "execute_result",
     "data": {
      "text/plain": [
       "<Client: 'tcp://127.0.0.1:40243' processes=5 threads=20, memory=33.47 GB>"
      ],
      "text/html": "<table style=\"border: 2px solid white;\">\n<tr>\n<td style=\"vertical-align: top; border: 0px solid white\">\n<h3 style=\"text-align: left;\">Client</h3>\n<ul style=\"text-align: left; list-style: none; margin: 0; padding: 0;\">\n  <li><b>Scheduler: </b>tcp://127.0.0.1:40243</li>\n  <li><b>Dashboard: </b><a href='http://127.0.0.1:8787/status' target='_blank'>http://127.0.0.1:8787/status</a></li>\n</ul>\n</td>\n<td style=\"vertical-align: top; border: 0px solid white\">\n<h3 style=\"text-align: left;\">Cluster</h3>\n<ul style=\"text-align: left; list-style:none; margin: 0; padding: 0;\">\n  <li><b>Workers: </b>5</li>\n  <li><b>Cores: </b>20</li>\n  <li><b>Memory: </b>33.47 GB</li>\n</ul>\n</td>\n</tr>\n</table>"
     },
     "metadata": {},
     "execution_count": 10
    }
   ],
   "source": [
    "client = Client()\n",
    "client"
   ]
  },
  {
   "cell_type": "code",
   "execution_count": 3,
   "metadata": {
    "tags": []
   },
   "outputs": [],
   "source": [
    "all_features = [\"text_ tokens\", \"hashtags\", \"tweet_id\", \"present_media\", \"present_links\", \"present_domains\",\\\n",
    "                \"tweet_type\",\"language\", \"tweet_timestamp\", \"engaged_with_user_id\", \"engaged_with_user_follower_count\",\\\n",
    "               \"engaged_with_user_following_count\", \"engaged_with_user_is_verified\", \"engaged_with_user_account_creation\",\\\n",
    "               \"enaging_user_id\", \"enaging_user_follower_count\", \"enaging_user_following_count\", \"enaging_user_is_verified\",\\\n",
    "               \"enaging_user_account_creation\", \"engagee_follows_engager\", \"reply_timestamp\", \"retweet_timestamp\", \"retweet_with_comment_timestamp\", \"like_timestamp\"]"
   ]
  },
  {
   "cell_type": "code",
   "execution_count": 11,
   "metadata": {},
   "outputs": [],
   "source": [
    "df = dd.read_csv('/dataset/twitter/part-00000', sep='\\x01', header=None, names=all_features)#, dtype=DTYPES)\n"
   ]
  },
  {
   "cell_type": "code",
   "execution_count": 12,
   "metadata": {},
   "outputs": [
    {
     "output_type": "execute_result",
     "data": {
      "text/plain": [
       "                                        text_ tokens hashtags  \\\n",
       "0  101\\t56898\\t137\\t16925\\t10731\\t11481\\t13980\\t1...      NaN   \n",
       "1  101\\t10159\\t11322\\t58550\\t10836\\t10126\\t25900\\...      NaN   \n",
       "2  101\\t10159\\t56314\\t14364\\t10109\\t14657\\t11359\\...      NaN   \n",
       "3  101\\t56898\\t137\\t10224\\t10731\\t64194\\t41939\\t3...      NaN   \n",
       "4  101\\t7143\\t1938\\t113\\t100\\t10097\\t100\\t10097\\t...      NaN   \n",
       "\n",
       "                           tweet_id present_media  \\\n",
       "0  5DCE3020423313CB0AC2631DEF94D2F5           NaN   \n",
       "1  2B6F5C7C4F04F34543C09DD6E58C8F66           NaN   \n",
       "2  784D3AE5E6429392245BD34FF4C82B5C           NaN   \n",
       "3  CA49ACBB31921F2A0FAC1CCCC99541F6           NaN   \n",
       "4  2C95B42C651B36D84584F3653D722142         Photo   \n",
       "\n",
       "                      present_links                   present_domains  \\\n",
       "0                               NaN                               NaN   \n",
       "1  2886BC98B8B910E86A792E56681FC841  9EFF000CDB18B710CDDB43EE1D8C300B   \n",
       "2  B8FEE70DF7DA75C584F9DA8C38E99874  D56FA7843AF6F2BC53A2E192B542EA58   \n",
       "3                               NaN                               NaN   \n",
       "4                               NaN                               NaN   \n",
       "\n",
       "  tweet_type                          language  tweet_timestamp  \\\n",
       "0    Retweet  488B32D24BD4BB44172EB981C1BCA6FA       1613237034   \n",
       "1   TopLevel  B0FA488F2911701DD8EC5B1EA5E322D8       1613748600   \n",
       "2   TopLevel  B0FA488F2911701DD8EC5B1EA5E322D8       1613386238   \n",
       "3    Retweet  B0FA488F2911701DD8EC5B1EA5E322D8       1613708640   \n",
       "4   TopLevel  E7F038DE3EAD397AEC9193686C911677       1612586018   \n",
       "\n",
       "               engaged_with_user_id  ...                   enaging_user_id  \\\n",
       "0  BC9980C5385A68894C2862F41884FB27  ...  2AEB7AFFD36CA43C0C963F24F75BCCAC   \n",
       "1  C0EBA033A5C0D2AD91B4500958E2C633  ...  865C52D28FA84E5E233B530C6FDAECC2   \n",
       "2  03EA05E7440140ABF047BC216CE34917  ...  FE83E568BD4B2ACDBAF876CFBB6C7296   \n",
       "3  2700B9E175757F126C082D6A5742787D  ...  DB0201BF93E4CCA1B55932AC36923E43   \n",
       "4  B7E441F2D886830FB3F0CE29CB35CB6B  ...  04F45C4A769FE2D7C792A96C92342DC2   \n",
       "\n",
       "   enaging_user_follower_count  enaging_user_following_count  \\\n",
       "0                          169                           339   \n",
       "1                          393                          1190   \n",
       "2                          629                          1473   \n",
       "3                          123                           200   \n",
       "4                          134                           379   \n",
       "\n",
       "   enaging_user_is_verified enaging_user_account_creation  \\\n",
       "0                     False                    1520886748   \n",
       "1                     False                    1237570695   \n",
       "2                     False                    1263176351   \n",
       "3                     False                    1268276559   \n",
       "4                     False                    1483862063   \n",
       "\n",
       "   engagee_follows_engager  reply_timestamp  retweet_timestamp  \\\n",
       "0                    False              NaN                NaN   \n",
       "1                    False              NaN                NaN   \n",
       "2                    False              NaN                NaN   \n",
       "3                    False              NaN                NaN   \n",
       "4                     True              NaN                NaN   \n",
       "\n",
       "   retweet_with_comment_timestamp  like_timestamp  \n",
       "0                             NaN             NaN  \n",
       "1                             NaN             NaN  \n",
       "2                             NaN    1.613388e+09  \n",
       "3                             NaN             NaN  \n",
       "4                             NaN    1.612587e+09  \n",
       "\n",
       "[5 rows x 24 columns]"
      ],
      "text/html": "<div>\n<style scoped>\n    .dataframe tbody tr th:only-of-type {\n        vertical-align: middle;\n    }\n\n    .dataframe tbody tr th {\n        vertical-align: top;\n    }\n\n    .dataframe thead th {\n        text-align: right;\n    }\n</style>\n<table border=\"1\" class=\"dataframe\">\n  <thead>\n    <tr style=\"text-align: right;\">\n      <th></th>\n      <th>text_ tokens</th>\n      <th>hashtags</th>\n      <th>tweet_id</th>\n      <th>present_media</th>\n      <th>present_links</th>\n      <th>present_domains</th>\n      <th>tweet_type</th>\n      <th>language</th>\n      <th>tweet_timestamp</th>\n      <th>engaged_with_user_id</th>\n      <th>...</th>\n      <th>enaging_user_id</th>\n      <th>enaging_user_follower_count</th>\n      <th>enaging_user_following_count</th>\n      <th>enaging_user_is_verified</th>\n      <th>enaging_user_account_creation</th>\n      <th>engagee_follows_engager</th>\n      <th>reply_timestamp</th>\n      <th>retweet_timestamp</th>\n      <th>retweet_with_comment_timestamp</th>\n      <th>like_timestamp</th>\n    </tr>\n  </thead>\n  <tbody>\n    <tr>\n      <th>0</th>\n      <td>101\\t56898\\t137\\t16925\\t10731\\t11481\\t13980\\t1...</td>\n      <td>NaN</td>\n      <td>5DCE3020423313CB0AC2631DEF94D2F5</td>\n      <td>NaN</td>\n      <td>NaN</td>\n      <td>NaN</td>\n      <td>Retweet</td>\n      <td>488B32D24BD4BB44172EB981C1BCA6FA</td>\n      <td>1613237034</td>\n      <td>BC9980C5385A68894C2862F41884FB27</td>\n      <td>...</td>\n      <td>2AEB7AFFD36CA43C0C963F24F75BCCAC</td>\n      <td>169</td>\n      <td>339</td>\n      <td>False</td>\n      <td>1520886748</td>\n      <td>False</td>\n      <td>NaN</td>\n      <td>NaN</td>\n      <td>NaN</td>\n      <td>NaN</td>\n    </tr>\n    <tr>\n      <th>1</th>\n      <td>101\\t10159\\t11322\\t58550\\t10836\\t10126\\t25900\\...</td>\n      <td>NaN</td>\n      <td>2B6F5C7C4F04F34543C09DD6E58C8F66</td>\n      <td>NaN</td>\n      <td>2886BC98B8B910E86A792E56681FC841</td>\n      <td>9EFF000CDB18B710CDDB43EE1D8C300B</td>\n      <td>TopLevel</td>\n      <td>B0FA488F2911701DD8EC5B1EA5E322D8</td>\n      <td>1613748600</td>\n      <td>C0EBA033A5C0D2AD91B4500958E2C633</td>\n      <td>...</td>\n      <td>865C52D28FA84E5E233B530C6FDAECC2</td>\n      <td>393</td>\n      <td>1190</td>\n      <td>False</td>\n      <td>1237570695</td>\n      <td>False</td>\n      <td>NaN</td>\n      <td>NaN</td>\n      <td>NaN</td>\n      <td>NaN</td>\n    </tr>\n    <tr>\n      <th>2</th>\n      <td>101\\t10159\\t56314\\t14364\\t10109\\t14657\\t11359\\...</td>\n      <td>NaN</td>\n      <td>784D3AE5E6429392245BD34FF4C82B5C</td>\n      <td>NaN</td>\n      <td>B8FEE70DF7DA75C584F9DA8C38E99874</td>\n      <td>D56FA7843AF6F2BC53A2E192B542EA58</td>\n      <td>TopLevel</td>\n      <td>B0FA488F2911701DD8EC5B1EA5E322D8</td>\n      <td>1613386238</td>\n      <td>03EA05E7440140ABF047BC216CE34917</td>\n      <td>...</td>\n      <td>FE83E568BD4B2ACDBAF876CFBB6C7296</td>\n      <td>629</td>\n      <td>1473</td>\n      <td>False</td>\n      <td>1263176351</td>\n      <td>False</td>\n      <td>NaN</td>\n      <td>NaN</td>\n      <td>NaN</td>\n      <td>1.613388e+09</td>\n    </tr>\n    <tr>\n      <th>3</th>\n      <td>101\\t56898\\t137\\t10224\\t10731\\t64194\\t41939\\t3...</td>\n      <td>NaN</td>\n      <td>CA49ACBB31921F2A0FAC1CCCC99541F6</td>\n      <td>NaN</td>\n      <td>NaN</td>\n      <td>NaN</td>\n      <td>Retweet</td>\n      <td>B0FA488F2911701DD8EC5B1EA5E322D8</td>\n      <td>1613708640</td>\n      <td>2700B9E175757F126C082D6A5742787D</td>\n      <td>...</td>\n      <td>DB0201BF93E4CCA1B55932AC36923E43</td>\n      <td>123</td>\n      <td>200</td>\n      <td>False</td>\n      <td>1268276559</td>\n      <td>False</td>\n      <td>NaN</td>\n      <td>NaN</td>\n      <td>NaN</td>\n      <td>NaN</td>\n    </tr>\n    <tr>\n      <th>4</th>\n      <td>101\\t7143\\t1938\\t113\\t100\\t10097\\t100\\t10097\\t...</td>\n      <td>NaN</td>\n      <td>2C95B42C651B36D84584F3653D722142</td>\n      <td>Photo</td>\n      <td>NaN</td>\n      <td>NaN</td>\n      <td>TopLevel</td>\n      <td>E7F038DE3EAD397AEC9193686C911677</td>\n      <td>1612586018</td>\n      <td>B7E441F2D886830FB3F0CE29CB35CB6B</td>\n      <td>...</td>\n      <td>04F45C4A769FE2D7C792A96C92342DC2</td>\n      <td>134</td>\n      <td>379</td>\n      <td>False</td>\n      <td>1483862063</td>\n      <td>True</td>\n      <td>NaN</td>\n      <td>NaN</td>\n      <td>NaN</td>\n      <td>1.612587e+09</td>\n    </tr>\n  </tbody>\n</table>\n<p>5 rows × 24 columns</p>\n</div>"
     },
     "metadata": {},
     "execution_count": 12
    }
   ],
   "source": [
    "df.head()"
   ]
  },
  {
   "cell_type": "code",
   "execution_count": 13,
   "metadata": {},
   "outputs": [
    {
     "output_type": "execute_result",
     "data": {
      "text/plain": [
       "3033902"
      ]
     },
     "metadata": {},
     "execution_count": 13
    }
   ],
   "source": [
    "len(df)"
   ]
  },
  {
   "cell_type": "code",
   "execution_count": null,
   "metadata": {},
   "outputs": [],
   "source": []
  }
 ]
}