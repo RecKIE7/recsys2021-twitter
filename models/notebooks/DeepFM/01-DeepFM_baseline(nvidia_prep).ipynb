{
 "cells": [
  {
   "cell_type": "code",
   "execution_count": 3,
   "id": "fc2f53a6",
   "metadata": {},
   "outputs": [],
   "source": [
    "import sys\n",
    "sys.path.append('../../..')\n",
    "\n",
    "import torch\n",
    "import tqdm\n",
    "import numpy as np\n",
    "import pandas as pd\n",
    "from tensorflow.keras import optimizers\n",
    "from deepctr.models import DeepFM\n",
    "from sklearn.preprocessing import LabelEncoder, MinMaxScaler\n",
    "from sklearn.model_selection import train_test_split\n",
    "from deepctr.feature_column import SparseFeat, DenseFeat, get_feature_names\n",
    "from sklearn import preprocessing\n",
    "from utils.preprocessing import read_data\n",
    "import core.config as conf\n",
    "\n",
    "from utils.evaluate import calculate_ctr, compute_rce, average_precision_score"
   ]
  },
  {
   "cell_type": "code",
   "execution_count": 4,
   "id": "b89f599a",
   "metadata": {},
   "outputs": [],
   "source": [
    "data_path = conf.data_root + 'dask_input'\n",
    "df = pd.read_parquet(f'{data_path}/train-final-te-like-1.parquet')"
   ]
  },
  {
   "cell_type": "code",
   "execution_count": 5,
   "id": "22270134",
   "metadata": {},
   "outputs": [
    {
     "name": "stdout",
     "output_type": "stream",
     "text": [
      "Using 42 features:\n"
     ]
    },
    {
     "data": {
      "text/plain": [
       "array(['creator_follower_count', 'creator_following_count',\n",
       "       'creator_is_verified', 'engager_follower_count',\n",
       "       'engager_following_count', 'engager_follows_creator', 'reply',\n",
       "       'retweet', 'retweet_comment', 'like', 'tweet_type', 'media',\n",
       "       'len_hashtags', 'len_domains', 'len_links', 'dt_dow', 'dt_hour',\n",
       "       'count_ats', 'count_char', 'count_words', 'tw_len',\n",
       "       'TE_engager_user_id_tweet_type_language_like',\n",
       "       'TE_tw_first_word_tweet_type_language_like',\n",
       "       'TE_tw_last_word_tweet_type_language_like',\n",
       "       'TE_tw_hash0_tweet_type_language_like',\n",
       "       'TE_tw_hash1_tweet_type_language_like',\n",
       "       'TE_tw_rt_uhash_tweet_type_language_like',\n",
       "       'TE_creator_user_id_like', 'TE_engager_user_id_like',\n",
       "       'TE_tw_hash_like', 'TE_tw_freq_hash_like',\n",
       "       'TE_media_tweet_type_language_creator_is_verified_engager_is_verified_engager_follows_creator_like',\n",
       "       'TE_creator_count_combined_tweet_type_language_like',\n",
       "       'TE_creator_user_fer_count_delta_time_media_language_like',\n",
       "       'TE_creator_user_fing_count_delta_time_media_language_like',\n",
       "       'TE_creator_user_fering_count_delta_time_tweet_type_language_like',\n",
       "       'TE_creator_user_fing_count_mode_media_language_like',\n",
       "       'TE_creator_user_fer_count_mode_media_language_like',\n",
       "       'TE_creator_user_fering_count_mode_tweet_type_language_like',\n",
       "       'TE_domains_media_tweet_type_language_like',\n",
       "       'TE_links_media_tweet_type_language_like',\n",
       "       'TE_hashtags_media_tweet_type_language_like'], dtype='<U97')"
      ]
     },
     "execution_count": 5,
     "metadata": {},
     "output_type": "execute_result"
    }
   ],
   "source": [
    "DONT_USE = ['timestamp','creator_account_creation','engager_account_creation','engage_time',\n",
    "            'creator_account_creation', 'engager_account_creation',\n",
    "            'fold','tweet_id', \n",
    "            'tr','dt_day','','',\n",
    "            'engager_user_id','creator_user_id','engager_is_verified',\n",
    "            'elapsed_time',\n",
    "            'links','domains','hashtags0','hashtags1',\n",
    "            'hashtags','tweet_hash','dt_second','id',\n",
    "            'tw_hash0',\n",
    "            'tw_hash1',\n",
    "            'tw_rt_uhash',\n",
    "            'same_language', 'nan_language','language',\n",
    "            'tw_hash', 'tw_freq_hash','tw_first_word', 'tw_second_word', 'tw_last_word', 'tw_llast_word',\n",
    "            'ypred','creator_count_combined','creator_user_fer_count_delta_time','creator_user_fing_count_delta_time','creator_user_fering_count_delta_time','creator_user_fing_count_mode','creator_user_fer_count_mode','creator_user_fering_count_mode'\n",
    "           ]\n",
    "\n",
    "features = [c for c in df.columns if c not in DONT_USE]\n",
    "\n",
    "print('Using %i features:'%(len(features)))\n",
    "np.asarray(features)"
   ]
  },
  {
   "cell_type": "code",
   "execution_count": 6,
   "id": "22a78ac8",
   "metadata": {},
   "outputs": [],
   "source": [
    "df = df[features]"
   ]
  },
  {
   "cell_type": "code",
   "execution_count": 7,
   "id": "d15fdc48",
   "metadata": {},
   "outputs": [
    {
     "data": {
      "text/html": [
       "<div>\n",
       "<style scoped>\n",
       "    .dataframe tbody tr th:only-of-type {\n",
       "        vertical-align: middle;\n",
       "    }\n",
       "\n",
       "    .dataframe tbody tr th {\n",
       "        vertical-align: top;\n",
       "    }\n",
       "\n",
       "    .dataframe thead th {\n",
       "        text-align: right;\n",
       "    }\n",
       "</style>\n",
       "<table border=\"1\" class=\"dataframe\">\n",
       "  <thead>\n",
       "    <tr style=\"text-align: right;\">\n",
       "      <th></th>\n",
       "      <th>creator_follower_count</th>\n",
       "      <th>creator_following_count</th>\n",
       "      <th>creator_is_verified</th>\n",
       "      <th>engager_follower_count</th>\n",
       "      <th>engager_following_count</th>\n",
       "      <th>engager_follows_creator</th>\n",
       "      <th>reply</th>\n",
       "      <th>retweet</th>\n",
       "      <th>retweet_comment</th>\n",
       "      <th>like</th>\n",
       "      <th>...</th>\n",
       "      <th>TE_creator_count_combined_tweet_type_language_like</th>\n",
       "      <th>TE_creator_user_fer_count_delta_time_media_language_like</th>\n",
       "      <th>TE_creator_user_fing_count_delta_time_media_language_like</th>\n",
       "      <th>TE_creator_user_fering_count_delta_time_tweet_type_language_like</th>\n",
       "      <th>TE_creator_user_fing_count_mode_media_language_like</th>\n",
       "      <th>TE_creator_user_fer_count_mode_media_language_like</th>\n",
       "      <th>TE_creator_user_fering_count_mode_tweet_type_language_like</th>\n",
       "      <th>TE_domains_media_tweet_type_language_like</th>\n",
       "      <th>TE_links_media_tweet_type_language_like</th>\n",
       "      <th>TE_hashtags_media_tweet_type_language_like</th>\n",
       "    </tr>\n",
       "  </thead>\n",
       "  <tbody>\n",
       "    <tr>\n",
       "      <th>0</th>\n",
       "      <td>3885</td>\n",
       "      <td>3051</td>\n",
       "      <td>0</td>\n",
       "      <td>634</td>\n",
       "      <td>531</td>\n",
       "      <td>1</td>\n",
       "      <td>0</td>\n",
       "      <td>1</td>\n",
       "      <td>0</td>\n",
       "      <td>0</td>\n",
       "      <td>...</td>\n",
       "      <td>0.472310</td>\n",
       "      <td>0.353791</td>\n",
       "      <td>0.353791</td>\n",
       "      <td>0.472310</td>\n",
       "      <td>0.354039</td>\n",
       "      <td>0.354039</td>\n",
       "      <td>0.471939</td>\n",
       "      <td>0.435391</td>\n",
       "      <td>0.435391</td>\n",
       "      <td>0.423956</td>\n",
       "    </tr>\n",
       "    <tr>\n",
       "      <th>1</th>\n",
       "      <td>226443</td>\n",
       "      <td>0</td>\n",
       "      <td>0</td>\n",
       "      <td>633</td>\n",
       "      <td>151</td>\n",
       "      <td>0</td>\n",
       "      <td>0</td>\n",
       "      <td>1</td>\n",
       "      <td>0</td>\n",
       "      <td>1</td>\n",
       "      <td>...</td>\n",
       "      <td>0.474047</td>\n",
       "      <td>0.355000</td>\n",
       "      <td>0.355000</td>\n",
       "      <td>0.474047</td>\n",
       "      <td>0.355901</td>\n",
       "      <td>0.355901</td>\n",
       "      <td>0.473944</td>\n",
       "      <td>0.432625</td>\n",
       "      <td>0.432625</td>\n",
       "      <td>0.434331</td>\n",
       "    </tr>\n",
       "    <tr>\n",
       "      <th>2</th>\n",
       "      <td>1353309</td>\n",
       "      <td>537</td>\n",
       "      <td>1</td>\n",
       "      <td>2304</td>\n",
       "      <td>844</td>\n",
       "      <td>0</td>\n",
       "      <td>0</td>\n",
       "      <td>0</td>\n",
       "      <td>0</td>\n",
       "      <td>1</td>\n",
       "      <td>...</td>\n",
       "      <td>0.527204</td>\n",
       "      <td>0.488510</td>\n",
       "      <td>0.488510</td>\n",
       "      <td>0.527204</td>\n",
       "      <td>0.487882</td>\n",
       "      <td>0.487882</td>\n",
       "      <td>0.526625</td>\n",
       "      <td>0.597564</td>\n",
       "      <td>0.597564</td>\n",
       "      <td>0.601652</td>\n",
       "    </tr>\n",
       "    <tr>\n",
       "      <th>3</th>\n",
       "      <td>226308</td>\n",
       "      <td>9</td>\n",
       "      <td>0</td>\n",
       "      <td>85</td>\n",
       "      <td>808</td>\n",
       "      <td>0</td>\n",
       "      <td>0</td>\n",
       "      <td>0</td>\n",
       "      <td>0</td>\n",
       "      <td>1</td>\n",
       "      <td>...</td>\n",
       "      <td>0.524442</td>\n",
       "      <td>0.475492</td>\n",
       "      <td>0.475492</td>\n",
       "      <td>0.523578</td>\n",
       "      <td>0.475356</td>\n",
       "      <td>0.475356</td>\n",
       "      <td>0.524442</td>\n",
       "      <td>0.597564</td>\n",
       "      <td>0.597564</td>\n",
       "      <td>0.601652</td>\n",
       "    </tr>\n",
       "    <tr>\n",
       "      <th>4</th>\n",
       "      <td>131219</td>\n",
       "      <td>1023</td>\n",
       "      <td>0</td>\n",
       "      <td>141</td>\n",
       "      <td>340</td>\n",
       "      <td>0</td>\n",
       "      <td>0</td>\n",
       "      <td>0</td>\n",
       "      <td>0</td>\n",
       "      <td>1</td>\n",
       "      <td>...</td>\n",
       "      <td>0.000000</td>\n",
       "      <td>0.000000</td>\n",
       "      <td>0.000000</td>\n",
       "      <td>0.000000</td>\n",
       "      <td>0.000000</td>\n",
       "      <td>0.000000</td>\n",
       "      <td>0.000000</td>\n",
       "      <td>0.000000</td>\n",
       "      <td>0.000000</td>\n",
       "      <td>0.000000</td>\n",
       "    </tr>\n",
       "  </tbody>\n",
       "</table>\n",
       "<p>5 rows × 42 columns</p>\n",
       "</div>"
      ],
      "text/plain": [
       "   creator_follower_count  creator_following_count  creator_is_verified  \\\n",
       "0                    3885                     3051                    0   \n",
       "1                  226443                        0                    0   \n",
       "2                 1353309                      537                    1   \n",
       "3                  226308                        9                    0   \n",
       "4                  131219                     1023                    0   \n",
       "\n",
       "   engager_follower_count  engager_following_count  engager_follows_creator  \\\n",
       "0                     634                      531                        1   \n",
       "1                     633                      151                        0   \n",
       "2                    2304                      844                        0   \n",
       "3                      85                      808                        0   \n",
       "4                     141                      340                        0   \n",
       "\n",
       "   reply  retweet  retweet_comment  like  ...  \\\n",
       "0      0        1                0     0  ...   \n",
       "1      0        1                0     1  ...   \n",
       "2      0        0                0     1  ...   \n",
       "3      0        0                0     1  ...   \n",
       "4      0        0                0     1  ...   \n",
       "\n",
       "   TE_creator_count_combined_tweet_type_language_like  \\\n",
       "0                                           0.472310    \n",
       "1                                           0.474047    \n",
       "2                                           0.527204    \n",
       "3                                           0.524442    \n",
       "4                                           0.000000    \n",
       "\n",
       "   TE_creator_user_fer_count_delta_time_media_language_like  \\\n",
       "0                                           0.353791          \n",
       "1                                           0.355000          \n",
       "2                                           0.488510          \n",
       "3                                           0.475492          \n",
       "4                                           0.000000          \n",
       "\n",
       "   TE_creator_user_fing_count_delta_time_media_language_like  \\\n",
       "0                                           0.353791           \n",
       "1                                           0.355000           \n",
       "2                                           0.488510           \n",
       "3                                           0.475492           \n",
       "4                                           0.000000           \n",
       "\n",
       "   TE_creator_user_fering_count_delta_time_tweet_type_language_like  \\\n",
       "0                                           0.472310                  \n",
       "1                                           0.474047                  \n",
       "2                                           0.527204                  \n",
       "3                                           0.523578                  \n",
       "4                                           0.000000                  \n",
       "\n",
       "   TE_creator_user_fing_count_mode_media_language_like  \\\n",
       "0                                           0.354039     \n",
       "1                                           0.355901     \n",
       "2                                           0.487882     \n",
       "3                                           0.475356     \n",
       "4                                           0.000000     \n",
       "\n",
       "   TE_creator_user_fer_count_mode_media_language_like  \\\n",
       "0                                           0.354039    \n",
       "1                                           0.355901    \n",
       "2                                           0.487882    \n",
       "3                                           0.475356    \n",
       "4                                           0.000000    \n",
       "\n",
       "   TE_creator_user_fering_count_mode_tweet_type_language_like  \\\n",
       "0                                           0.471939            \n",
       "1                                           0.473944            \n",
       "2                                           0.526625            \n",
       "3                                           0.524442            \n",
       "4                                           0.000000            \n",
       "\n",
       "   TE_domains_media_tweet_type_language_like  \\\n",
       "0                                   0.435391   \n",
       "1                                   0.432625   \n",
       "2                                   0.597564   \n",
       "3                                   0.597564   \n",
       "4                                   0.000000   \n",
       "\n",
       "   TE_links_media_tweet_type_language_like  \\\n",
       "0                                 0.435391   \n",
       "1                                 0.432625   \n",
       "2                                 0.597564   \n",
       "3                                 0.597564   \n",
       "4                                 0.000000   \n",
       "\n",
       "   TE_hashtags_media_tweet_type_language_like  \n",
       "0                                    0.423956  \n",
       "1                                    0.434331  \n",
       "2                                    0.601652  \n",
       "3                                    0.601652  \n",
       "4                                    0.000000  \n",
       "\n",
       "[5 rows x 42 columns]"
      ]
     },
     "execution_count": 7,
     "metadata": {},
     "output_type": "execute_result"
    }
   ],
   "source": [
    "df.head()"
   ]
  },
  {
   "cell_type": "code",
   "execution_count": 21,
   "id": "e55db8d0",
   "metadata": {},
   "outputs": [],
   "source": [
    "te_features = df.columns[21:].values.tolist()"
   ]
  },
  {
   "cell_type": "code",
   "execution_count": 23,
   "id": "3caecdb6",
   "metadata": {},
   "outputs": [],
   "source": [
    "sparse_features = ['creator_is_verified', 'engager_follows_creator', 'tweet_type', 'media', 'dt_dow', 'dt_hour']\n",
    "target = ['reply', 'like', 'retweet', 'retweet_comment'] \n",
    "sparse_features += te_features\n",
    "dense_features = [feat for feat in df.columns if (feat not in sparse_features) and (feat not in target)]"
   ]
  },
  {
   "cell_type": "code",
   "execution_count": 24,
   "id": "6bc25707",
   "metadata": {},
   "outputs": [],
   "source": [
    "df[sparse_features] = df[sparse_features].fillna('-1', )\n",
    "df[dense_features] = df[dense_features].fillna(0,)"
   ]
  },
  {
   "cell_type": "code",
   "execution_count": 25,
   "id": "4253d59b",
   "metadata": {},
   "outputs": [],
   "source": [
    "df[target] = df[target].applymap(lambda x : 1 if x > 0 else 0)"
   ]
  },
  {
   "cell_type": "code",
   "execution_count": 30,
   "id": "166f3d67",
   "metadata": {},
   "outputs": [],
   "source": [
    "df[sparse_features] = df[sparse_features].astype(np.float32)"
   ]
  },
  {
   "cell_type": "code",
   "execution_count": 31,
   "id": "f867b258",
   "metadata": {},
   "outputs": [
    {
     "data": {
      "text/html": [
       "<div>\n",
       "<style scoped>\n",
       "    .dataframe tbody tr th:only-of-type {\n",
       "        vertical-align: middle;\n",
       "    }\n",
       "\n",
       "    .dataframe tbody tr th {\n",
       "        vertical-align: top;\n",
       "    }\n",
       "\n",
       "    .dataframe thead th {\n",
       "        text-align: right;\n",
       "    }\n",
       "</style>\n",
       "<table border=\"1\" class=\"dataframe\">\n",
       "  <thead>\n",
       "    <tr style=\"text-align: right;\">\n",
       "      <th></th>\n",
       "      <th>creator_follower_count</th>\n",
       "      <th>creator_following_count</th>\n",
       "      <th>creator_is_verified</th>\n",
       "      <th>engager_follower_count</th>\n",
       "      <th>engager_following_count</th>\n",
       "      <th>engager_follows_creator</th>\n",
       "      <th>reply</th>\n",
       "      <th>retweet</th>\n",
       "      <th>retweet_comment</th>\n",
       "      <th>like</th>\n",
       "      <th>...</th>\n",
       "      <th>TE_creator_count_combined_tweet_type_language_like</th>\n",
       "      <th>TE_creator_user_fer_count_delta_time_media_language_like</th>\n",
       "      <th>TE_creator_user_fing_count_delta_time_media_language_like</th>\n",
       "      <th>TE_creator_user_fering_count_delta_time_tweet_type_language_like</th>\n",
       "      <th>TE_creator_user_fing_count_mode_media_language_like</th>\n",
       "      <th>TE_creator_user_fer_count_mode_media_language_like</th>\n",
       "      <th>TE_creator_user_fering_count_mode_tweet_type_language_like</th>\n",
       "      <th>TE_domains_media_tweet_type_language_like</th>\n",
       "      <th>TE_links_media_tweet_type_language_like</th>\n",
       "      <th>TE_hashtags_media_tweet_type_language_like</th>\n",
       "    </tr>\n",
       "  </thead>\n",
       "  <tbody>\n",
       "    <tr>\n",
       "      <th>0</th>\n",
       "      <td>3885</td>\n",
       "      <td>3051</td>\n",
       "      <td>0.0</td>\n",
       "      <td>634</td>\n",
       "      <td>531</td>\n",
       "      <td>1.0</td>\n",
       "      <td>0</td>\n",
       "      <td>1</td>\n",
       "      <td>0</td>\n",
       "      <td>0</td>\n",
       "      <td>...</td>\n",
       "      <td>0.472310</td>\n",
       "      <td>0.353791</td>\n",
       "      <td>0.353791</td>\n",
       "      <td>0.472310</td>\n",
       "      <td>0.354039</td>\n",
       "      <td>0.354039</td>\n",
       "      <td>0.471939</td>\n",
       "      <td>0.435391</td>\n",
       "      <td>0.435391</td>\n",
       "      <td>0.423956</td>\n",
       "    </tr>\n",
       "    <tr>\n",
       "      <th>1</th>\n",
       "      <td>226443</td>\n",
       "      <td>0</td>\n",
       "      <td>0.0</td>\n",
       "      <td>633</td>\n",
       "      <td>151</td>\n",
       "      <td>0.0</td>\n",
       "      <td>0</td>\n",
       "      <td>1</td>\n",
       "      <td>0</td>\n",
       "      <td>1</td>\n",
       "      <td>...</td>\n",
       "      <td>0.474047</td>\n",
       "      <td>0.355000</td>\n",
       "      <td>0.355000</td>\n",
       "      <td>0.474047</td>\n",
       "      <td>0.355901</td>\n",
       "      <td>0.355901</td>\n",
       "      <td>0.473944</td>\n",
       "      <td>0.432625</td>\n",
       "      <td>0.432625</td>\n",
       "      <td>0.434331</td>\n",
       "    </tr>\n",
       "    <tr>\n",
       "      <th>2</th>\n",
       "      <td>1353309</td>\n",
       "      <td>537</td>\n",
       "      <td>1.0</td>\n",
       "      <td>2304</td>\n",
       "      <td>844</td>\n",
       "      <td>0.0</td>\n",
       "      <td>0</td>\n",
       "      <td>0</td>\n",
       "      <td>0</td>\n",
       "      <td>1</td>\n",
       "      <td>...</td>\n",
       "      <td>0.527204</td>\n",
       "      <td>0.488510</td>\n",
       "      <td>0.488510</td>\n",
       "      <td>0.527204</td>\n",
       "      <td>0.487882</td>\n",
       "      <td>0.487882</td>\n",
       "      <td>0.526625</td>\n",
       "      <td>0.597564</td>\n",
       "      <td>0.597564</td>\n",
       "      <td>0.601652</td>\n",
       "    </tr>\n",
       "    <tr>\n",
       "      <th>3</th>\n",
       "      <td>226308</td>\n",
       "      <td>9</td>\n",
       "      <td>0.0</td>\n",
       "      <td>85</td>\n",
       "      <td>808</td>\n",
       "      <td>0.0</td>\n",
       "      <td>0</td>\n",
       "      <td>0</td>\n",
       "      <td>0</td>\n",
       "      <td>1</td>\n",
       "      <td>...</td>\n",
       "      <td>0.524442</td>\n",
       "      <td>0.475492</td>\n",
       "      <td>0.475492</td>\n",
       "      <td>0.523578</td>\n",
       "      <td>0.475356</td>\n",
       "      <td>0.475356</td>\n",
       "      <td>0.524442</td>\n",
       "      <td>0.597564</td>\n",
       "      <td>0.597564</td>\n",
       "      <td>0.601652</td>\n",
       "    </tr>\n",
       "    <tr>\n",
       "      <th>4</th>\n",
       "      <td>131219</td>\n",
       "      <td>1023</td>\n",
       "      <td>0.0</td>\n",
       "      <td>141</td>\n",
       "      <td>340</td>\n",
       "      <td>0.0</td>\n",
       "      <td>0</td>\n",
       "      <td>0</td>\n",
       "      <td>0</td>\n",
       "      <td>1</td>\n",
       "      <td>...</td>\n",
       "      <td>0.000000</td>\n",
       "      <td>0.000000</td>\n",
       "      <td>0.000000</td>\n",
       "      <td>0.000000</td>\n",
       "      <td>0.000000</td>\n",
       "      <td>0.000000</td>\n",
       "      <td>0.000000</td>\n",
       "      <td>0.000000</td>\n",
       "      <td>0.000000</td>\n",
       "      <td>0.000000</td>\n",
       "    </tr>\n",
       "  </tbody>\n",
       "</table>\n",
       "<p>5 rows × 42 columns</p>\n",
       "</div>"
      ],
      "text/plain": [
       "   creator_follower_count  creator_following_count  creator_is_verified  \\\n",
       "0                    3885                     3051                  0.0   \n",
       "1                  226443                        0                  0.0   \n",
       "2                 1353309                      537                  1.0   \n",
       "3                  226308                        9                  0.0   \n",
       "4                  131219                     1023                  0.0   \n",
       "\n",
       "   engager_follower_count  engager_following_count  engager_follows_creator  \\\n",
       "0                     634                      531                      1.0   \n",
       "1                     633                      151                      0.0   \n",
       "2                    2304                      844                      0.0   \n",
       "3                      85                      808                      0.0   \n",
       "4                     141                      340                      0.0   \n",
       "\n",
       "   reply  retweet  retweet_comment  like  ...  \\\n",
       "0      0        1                0     0  ...   \n",
       "1      0        1                0     1  ...   \n",
       "2      0        0                0     1  ...   \n",
       "3      0        0                0     1  ...   \n",
       "4      0        0                0     1  ...   \n",
       "\n",
       "   TE_creator_count_combined_tweet_type_language_like  \\\n",
       "0                                           0.472310    \n",
       "1                                           0.474047    \n",
       "2                                           0.527204    \n",
       "3                                           0.524442    \n",
       "4                                           0.000000    \n",
       "\n",
       "   TE_creator_user_fer_count_delta_time_media_language_like  \\\n",
       "0                                           0.353791          \n",
       "1                                           0.355000          \n",
       "2                                           0.488510          \n",
       "3                                           0.475492          \n",
       "4                                           0.000000          \n",
       "\n",
       "   TE_creator_user_fing_count_delta_time_media_language_like  \\\n",
       "0                                           0.353791           \n",
       "1                                           0.355000           \n",
       "2                                           0.488510           \n",
       "3                                           0.475492           \n",
       "4                                           0.000000           \n",
       "\n",
       "   TE_creator_user_fering_count_delta_time_tweet_type_language_like  \\\n",
       "0                                           0.472310                  \n",
       "1                                           0.474047                  \n",
       "2                                           0.527204                  \n",
       "3                                           0.523578                  \n",
       "4                                           0.000000                  \n",
       "\n",
       "   TE_creator_user_fing_count_mode_media_language_like  \\\n",
       "0                                           0.354039     \n",
       "1                                           0.355901     \n",
       "2                                           0.487882     \n",
       "3                                           0.475356     \n",
       "4                                           0.000000     \n",
       "\n",
       "   TE_creator_user_fer_count_mode_media_language_like  \\\n",
       "0                                           0.354039    \n",
       "1                                           0.355901    \n",
       "2                                           0.487882    \n",
       "3                                           0.475356    \n",
       "4                                           0.000000    \n",
       "\n",
       "   TE_creator_user_fering_count_mode_tweet_type_language_like  \\\n",
       "0                                           0.471939            \n",
       "1                                           0.473944            \n",
       "2                                           0.526625            \n",
       "3                                           0.524442            \n",
       "4                                           0.000000            \n",
       "\n",
       "   TE_domains_media_tweet_type_language_like  \\\n",
       "0                                   0.435391   \n",
       "1                                   0.432625   \n",
       "2                                   0.597564   \n",
       "3                                   0.597564   \n",
       "4                                   0.000000   \n",
       "\n",
       "   TE_links_media_tweet_type_language_like  \\\n",
       "0                                 0.435391   \n",
       "1                                 0.432625   \n",
       "2                                 0.597564   \n",
       "3                                 0.597564   \n",
       "4                                 0.000000   \n",
       "\n",
       "   TE_hashtags_media_tweet_type_language_like  \n",
       "0                                    0.423956  \n",
       "1                                    0.434331  \n",
       "2                                    0.601652  \n",
       "3                                    0.601652  \n",
       "4                                    0.000000  \n",
       "\n",
       "[5 rows x 42 columns]"
      ]
     },
     "execution_count": 31,
     "metadata": {},
     "output_type": "execute_result"
    }
   ],
   "source": [
    "df.head()"
   ]
  },
  {
   "cell_type": "markdown",
   "id": "65fe173b",
   "metadata": {},
   "source": [
    "## Sampling"
   ]
  },
  {
   "cell_type": "code",
   "execution_count": 50,
   "id": "ff9b7c74",
   "metadata": {},
   "outputs": [],
   "source": [
    "df_positive = df[df['like']==1]\n",
    "df_negative = df[df['like']==0]"
   ]
  },
  {
   "cell_type": "code",
   "execution_count": 51,
   "id": "ae564935",
   "metadata": {},
   "outputs": [
    {
     "name": "stdout",
     "output_type": "stream",
     "text": [
      "1222441\n",
      "1857722\n"
     ]
    }
   ],
   "source": [
    "print(len(df_positive))\n",
    "print(len(df_negative))"
   ]
  },
  {
   "cell_type": "code",
   "execution_count": 52,
   "id": "47ad1645",
   "metadata": {},
   "outputs": [],
   "source": [
    "df_negative = df_negative.sample(n = len(df_positive))"
   ]
  },
  {
   "cell_type": "code",
   "execution_count": 57,
   "id": "ba0d4312",
   "metadata": {},
   "outputs": [],
   "source": [
    "df = pd.concat([df_positive, df_negative])"
   ]
  },
  {
   "cell_type": "code",
   "execution_count": 64,
   "id": "a45686f7",
   "metadata": {},
   "outputs": [],
   "source": [
    "df = df.sample(frac=1).reset_index(drop=True)"
   ]
  },
  {
   "cell_type": "markdown",
   "id": "9480f0fe",
   "metadata": {},
   "source": [
    "## Preprocessing"
   ]
  },
  {
   "cell_type": "code",
   "execution_count": 61,
   "id": "0577a7ba",
   "metadata": {},
   "outputs": [],
   "source": [
    "for feat in sparse_features :\n",
    "    lbe = LabelEncoder()\n",
    "    df[feat] = lbe.fit_transform(df[feat])"
   ]
  },
  {
   "cell_type": "code",
   "execution_count": 62,
   "id": "0b7c973a",
   "metadata": {},
   "outputs": [],
   "source": [
    "mms = MinMaxScaler(feature_range = (0, 1))\n",
    "df[dense_features] = mms.fit_transform(df[dense_features])"
   ]
  },
  {
   "cell_type": "markdown",
   "id": "21860612",
   "metadata": {},
   "source": [
    "## Generate Feature Columns"
   ]
  },
  {
   "cell_type": "code",
   "execution_count": 63,
   "id": "36e8b574",
   "metadata": {},
   "outputs": [],
   "source": [
    "fixlen_feature_columns = [SparseFeat(feat, vocabulary_size = df[feat].max() +1, embedding_dim = 4) for feat in sparse_features]  + [DenseFeat(feat, 1,) for feat in dense_features]"
   ]
  },
  {
   "cell_type": "code",
   "execution_count": 66,
   "id": "b4d4ba59",
   "metadata": {},
   "outputs": [],
   "source": [
    "dnn_feature_columns = fixlen_feature_columns\n",
    "linear_feature_columns = fixlen_feature_columns\n",
    "\n",
    "feature_names = get_feature_names(linear_feature_columns + dnn_feature_columns)"
   ]
  },
  {
   "cell_type": "markdown",
   "id": "7e8a54e0",
   "metadata": {},
   "source": [
    "## Split Dataset"
   ]
  },
  {
   "cell_type": "code",
   "execution_count": 67,
   "id": "722839b8",
   "metadata": {},
   "outputs": [],
   "source": [
    "train, test = train_test_split(df, test_size = 0.2)"
   ]
  },
  {
   "cell_type": "code",
   "execution_count": 68,
   "id": "a76b3fe0",
   "metadata": {},
   "outputs": [],
   "source": [
    "train_model_input = {name:train[name].values for name in feature_names}\n",
    "test_model_input = {name:test[name].values for name in feature_names}"
   ]
  },
  {
   "cell_type": "markdown",
   "id": "eccba6ce",
   "metadata": {},
   "source": [
    "## Modeling"
   ]
  },
  {
   "cell_type": "code",
   "execution_count": 69,
   "id": "698ba1f0",
   "metadata": {},
   "outputs": [],
   "source": [
    "model = DeepFM(linear_feature_columns, dnn_feature_columns, task = 'binary')"
   ]
  },
  {
   "cell_type": "code",
   "execution_count": 70,
   "id": "eb0cc637",
   "metadata": {},
   "outputs": [],
   "source": [
    "model.compile(\"adam\", \"binary_crossentropy\", \n",
    "             metrics = ['binary_crossentropy'])"
   ]
  },
  {
   "cell_type": "code",
   "execution_count": 71,
   "id": "e7f45815",
   "metadata": {
    "scrolled": true
   },
   "outputs": [
    {
     "name": "stdout",
     "output_type": "stream",
     "text": [
      "Epoch 1/10\n",
      "6113/6113 [==============================] - 20s 3ms/step - loss: 0.6277 - binary_crossentropy: 0.6257 - val_loss: 0.6211 - val_binary_crossentropy: 0.6166\n",
      "Epoch 2/10\n",
      "6113/6113 [==============================] - 17s 3ms/step - loss: 0.6169 - binary_crossentropy: 0.6115 - val_loss: 0.6218 - val_binary_crossentropy: 0.6158\n",
      "Epoch 3/10\n",
      "6113/6113 [==============================] - 17s 3ms/step - loss: 0.6146 - binary_crossentropy: 0.6079 - val_loss: 0.6225 - val_binary_crossentropy: 0.6158\n",
      "Epoch 4/10\n",
      "6113/6113 [==============================] - 17s 3ms/step - loss: 0.6135 - binary_crossentropy: 0.6060 - val_loss: 0.6236 - val_binary_crossentropy: 0.6162\n",
      "Epoch 5/10\n",
      "6113/6113 [==============================] - 17s 3ms/step - loss: 0.6117 - binary_crossentropy: 0.6033 - val_loss: 0.6242 - val_binary_crossentropy: 0.6158\n",
      "Epoch 6/10\n",
      "6113/6113 [==============================] - 17s 3ms/step - loss: 0.6096 - binary_crossentropy: 0.6002 - val_loss: 0.6256 - val_binary_crossentropy: 0.6164\n",
      "Epoch 7/10\n",
      "6113/6113 [==============================] - 17s 3ms/step - loss: 0.6078 - binary_crossentropy: 0.5976 - val_loss: 0.6280 - val_binary_crossentropy: 0.6180\n",
      "Epoch 8/10\n",
      "6113/6113 [==============================] - 17s 3ms/step - loss: 0.6061 - binary_crossentropy: 0.5951 - val_loss: 0.6295 - val_binary_crossentropy: 0.6188\n",
      "Epoch 9/10\n",
      "6113/6113 [==============================] - 17s 3ms/step - loss: 0.6049 - binary_crossentropy: 0.5932 - val_loss: 0.6315 - val_binary_crossentropy: 0.6200\n",
      "Epoch 10/10\n",
      "6113/6113 [==============================] - 17s 3ms/step - loss: 0.6033 - binary_crossentropy: 0.5909 - val_loss: 0.6322 - val_binary_crossentropy: 0.6201\n"
     ]
    }
   ],
   "source": [
    "history = model.fit(train_model_input, train['like'].values,\n",
    "                    batch_size = 256,\n",
    "                    epochs = 10,\n",
    "                    verbose = 1,\n",
    "                    validation_split = 0.2,)"
   ]
  },
  {
   "cell_type": "code",
   "execution_count": 73,
   "id": "90eefe82",
   "metadata": {},
   "outputs": [],
   "source": [
    "pred_ans = model.predict(test_model_input, batch_size = 256)"
   ]
  },
  {
   "cell_type": "code",
   "execution_count": 74,
   "id": "d2655d2d",
   "metadata": {},
   "outputs": [
    {
     "data": {
      "text/plain": [
       "array([[0.60559094],\n",
       "       [0.45929906],\n",
       "       [0.17932245],\n",
       "       ...,\n",
       "       [0.7346548 ],\n",
       "       [0.5597277 ],\n",
       "       [0.33927268]], dtype=float32)"
      ]
     },
     "execution_count": 74,
     "metadata": {},
     "output_type": "execute_result"
    }
   ],
   "source": [
    "pred_ans"
   ]
  },
  {
   "cell_type": "code",
   "execution_count": 75,
   "id": "846253cf",
   "metadata": {},
   "outputs": [
    {
     "data": {
      "text/plain": [
       "10.44972971976903"
      ]
     },
     "execution_count": 75,
     "metadata": {},
     "output_type": "execute_result"
    }
   ],
   "source": [
    "rce_like = compute_rce(pred_ans, test['like'])\n",
    "rce_like"
   ]
  },
  {
   "cell_type": "code",
   "execution_count": 76,
   "id": "71716da1",
   "metadata": {},
   "outputs": [
    {
     "data": {
      "text/plain": [
       "0.700036085548847"
      ]
     },
     "execution_count": 76,
     "metadata": {},
     "output_type": "execute_result"
    }
   ],
   "source": [
    "ap_like = average_precision_score(test['like'], pred_ans)\n",
    "ap_like"
   ]
  },
  {
   "cell_type": "code",
   "execution_count": null,
   "id": "3984074b",
   "metadata": {},
   "outputs": [],
   "source": []
  }
 ],
 "metadata": {
  "kernelspec": {
   "display_name": "Python 3",
   "language": "python",
   "name": "python3"
  },
  "language_info": {
   "codemirror_mode": {
    "name": "ipython",
    "version": 3
   },
   "file_extension": ".py",
   "mimetype": "text/x-python",
   "name": "python",
   "nbconvert_exporter": "python",
   "pygments_lexer": "ipython3",
   "version": "3.7.10"
  }
 },
 "nbformat": 4,
 "nbformat_minor": 5
}