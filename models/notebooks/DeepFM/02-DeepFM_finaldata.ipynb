{
 "metadata": {
  "language_info": {
   "codemirror_mode": {
    "name": "ipython",
    "version": 3
   },
   "file_extension": ".py",
   "mimetype": "text/x-python",
   "name": "python",
   "nbconvert_exporter": "python",
   "pygments_lexer": "ipython3",
   "version": "3.8.8"
  },
  "orig_nbformat": 2,
  "kernelspec": {
   "name": "recsys",
   "display_name": "Python 3.8.8 64-bit ('recsys': conda)"
  }
 },
 "nbformat": 4,
 "nbformat_minor": 2,
 "cells": [
  {
   "cell_type": "code",
   "execution_count": 2,
   "metadata": {},
   "outputs": [],
   "source": [
    "import sys\n",
    "sys.path.append('../../..')\n",
    "\n",
    "import tqdm\n",
    "import numpy as np\n",
    "import pandas as pd\n",
    "from tensorflow.keras import optimizers\n",
    "from deepctr.models import DeepFM\n",
    "from sklearn.preprocessing import LabelEncoder, MinMaxScaler\n",
    "from sklearn.model_selection import train_test_split\n",
    "from deepctr.feature_column import SparseFeat, DenseFeat, get_feature_names\n",
    "from sklearn import preprocessing\n",
    "from utils.preprocessing import read_data\n",
    "import core.config as conf\n",
    "\n",
    "from utils.evaluate import calculate_ctr, compute_rce, average_precision_score"
   ]
  },
  {
   "cell_type": "code",
   "execution_count": 3,
   "metadata": {},
   "outputs": [],
   "source": [
    "TARGET = 'like'"
   ]
  },
  {
   "cell_type": "code",
   "execution_count": 4,
   "metadata": {},
   "outputs": [],
   "source": [
    "df = pd.read_csv(f'{conf.dataset_path}/train')"
   ]
  },
  {
   "cell_type": "code",
   "execution_count": 5,
   "metadata": {},
   "outputs": [],
   "source": [
    "label_names = ['reply', 'retweet', 'comment', 'like']\n",
    "DONT_USE = ['tweet_timestamp','creator_account_creation','engager_account_creation','engage_time',\n",
    "            'creator_account_creation', 'engager_account_creation',\n",
    "            'fold','tweet_id', \n",
    "            'tr','dt_day','','',\n",
    "            'engager_id','creator_id','engager_is_verified',\n",
    "            'elapsed_time',\n",
    "            'links','domains','hashtags0','hashtags1',\n",
    "            'hashtags','tweet_hash','dt_second','id',\n",
    "            'tw_hash0',\n",
    "            'tw_hash1',\n",
    "            'tw_rt_uhash',\n",
    "            'same_language', 'nan_language','language',\n",
    "            'tw_hash', 'tw_freq_hash','tw_first_word', 'tw_second_word', 'tw_last_word', 'tw_llast_word',\n",
    "            'ypred','creator_count_combined','creator_user_fer_count_delta_time','creator_user_fing_count_delta_time','creator_user_fering_count_delta_time','creator_user_fing_count_mode','creator_user_fer_count_mode','creator_user_fering_count_mode'\n",
    "           ]\n",
    "DONT_USE += label_names\n",
    "DONT_USE += conf.labels\n",
    "RMV = [c for c in DONT_USE if c in df.columns]"
   ]
  },
  {
   "cell_type": "code",
   "execution_count": 6,
   "metadata": {},
   "outputs": [],
   "source": [
    "y_train = df[TARGET]\n",
    "X_train = df.drop(RMV, axis=1)"
   ]
  },
  {
   "source": [
    "### scaling"
   ],
   "cell_type": "markdown",
   "metadata": {}
  },
  {
   "cell_type": "code",
   "execution_count": 7,
   "metadata": {},
   "outputs": [],
   "source": [
    " scaling_columns = ['creator_following_count', 'creator_follower_count', 'engager_follower_count', \n",
    "                           'engager_following_count', 'dt_dow', 'dt_hour', 'len_domains', 'creator_main_language', 'engager_main_language',\n",
    "                           'engager_feature_number_of_previous_like_engagement',\n",
    "                           'engager_feature_number_of_previous_reply_engagement',\n",
    "                           'engager_feature_number_of_previous_retweet_engagement',\n",
    "                           'engager_feature_number_of_previous_comment_engagement',\n",
    "                           'number_of_engagements_positive',\n",
    "                        #    'creator_feature_number_of_previous_like_engagement',\n",
    "                        #    'creator_feature_number_of_previous_reply_engagement',\n",
    "                        #    'creator_feature_number_of_previous_retweet_engagement',\n",
    "                        #    'creator_feature_number_of_previous_comment_engagement',\n",
    "                        #    'creator_number_of_engagements_positive',\n",
    "                        #    'len_text_tokens',\n",
    "                        #    'len_text_tokens_unique',\n",
    "                        #    'cnt_mention',\n",
    "                            'number_of_tweet_engagements']"
   ]
  },
  {
   "cell_type": "code",
   "execution_count": 14,
   "metadata": {},
   "outputs": [],
   "source": [
    "X_train = X_train.reset_index(drop=True)\n",
    "standard_scaler = preprocessing.StandardScaler()\n",
    "standard_scaler.fit(X_train[scaling_columns])\n",
    "sc = standard_scaler.transform(X_train[scaling_columns])"
   ]
  },
  {
   "cell_type": "code",
   "execution_count": 15,
   "metadata": {},
   "outputs": [],
   "source": [
    "X_train[scaling_columns] = pd.DataFrame(sc, columns = scaling_columns)\n",
    "X_train = X_train.fillna(0)"
   ]
  },
  {
   "source": [
    "## sparse & dense features"
   ],
   "cell_type": "markdown",
   "metadata": {}
  },
  {
   "cell_type": "code",
   "execution_count": 17,
   "metadata": {},
   "outputs": [
    {
     "output_type": "execute_result",
     "data": {
      "text/plain": [
       "Index(['tweet_type', 'creator_follower_count', 'creator_following_count',\n",
       "       'engager_follower_count', 'engager_following_count', 'media', 'dt_dow',\n",
       "       'dt_hour', 'len_domains', 'creator_main_language',\n",
       "       'engager_main_language', 'creator_and_engager_have_same_main_language',\n",
       "       'is_tweet_in_creator_main_language',\n",
       "       'is_tweet_in_engager_main_language',\n",
       "       'engager_feature_number_of_previous_like_engagement',\n",
       "       'engager_feature_number_of_previous_reply_engagement',\n",
       "       'engager_feature_number_of_previous_retweet_engagement',\n",
       "       'engager_feature_number_of_previous_comment_engagement',\n",
       "       'number_of_engagements_positive', 'number_of_engagements_ratio_like',\n",
       "       'number_of_engagements_ratio_reply',\n",
       "       'number_of_engagements_ratio_retweet',\n",
       "       'number_of_engagements_ratio_comment', 'number_of_tweet_engagements'],\n",
       "      dtype='object')"
      ]
     },
     "metadata": {},
     "execution_count": 17
    }
   ],
   "source": [
    "X_train.columns"
   ]
  },
  {
   "cell_type": "code",
   "execution_count": 18,
   "metadata": {},
   "outputs": [
    {
     "output_type": "execute_result",
     "data": {
      "text/plain": [
       "   tweet_type  creator_follower_count  creator_following_count  \\\n",
       "0           0               -0.168011                -0.103682   \n",
       "1           3               -0.152424                -0.083075   \n",
       "2           3               -0.021888                -0.081112   \n",
       "3           3               -0.168009                -0.099573   \n",
       "4           3               -0.156880                -0.082370   \n",
       "\n",
       "   engager_follower_count  engager_following_count  media    dt_dow   dt_hour  \\\n",
       "0               -0.065392                -0.180827      0  0.018588  1.182860   \n",
       "1               -0.053885                -0.137149      1  0.538678 -1.182958   \n",
       "2                0.099652                 2.309918      1  0.018588  1.478588   \n",
       "3               -0.052077                -0.220191      4 -0.501503 -1.478685   \n",
       "4               -0.046323                 0.335225      0 -1.021593  1.478588   \n",
       "\n",
       "   len_domains  creator_main_language  ...  \\\n",
       "0    -0.340453              -0.058820  ...   \n",
       "1    -0.340453              -0.720478  ...   \n",
       "2    -0.340453               0.602837  ...   \n",
       "3    -0.340453              -0.803185  ...   \n",
       "4     2.558924              -0.058820  ...   \n",
       "\n",
       "   engager_feature_number_of_previous_like_engagement  \\\n",
       "0                                          -0.352543    \n",
       "1                                          -0.359098    \n",
       "2                                           3.851390    \n",
       "3                                           0.927865    \n",
       "4                                          -0.265144    \n",
       "\n",
       "   engager_feature_number_of_previous_reply_engagement  \\\n",
       "0                                          -0.252742     \n",
       "1                                          -0.209647     \n",
       "2                                          -0.166552     \n",
       "3                                          -0.080362     \n",
       "4                                          -0.080362     \n",
       "\n",
       "   engager_feature_number_of_previous_retweet_engagement  \\\n",
       "0                                          -0.216313       \n",
       "1                                          -0.216313       \n",
       "2                                          -0.123877       \n",
       "3                                          -0.189903       \n",
       "4                                          -0.156890       \n",
       "\n",
       "   engager_feature_number_of_previous_comment_engagement  \\\n",
       "0                                          -0.157483       \n",
       "1                                          -0.157483       \n",
       "2                                           0.002552       \n",
       "3                                          -0.157483       \n",
       "4                                          -0.157483       \n",
       "\n",
       "   number_of_engagements_positive  number_of_engagements_ratio_like  \\\n",
       "0                       -0.384874                          1.000000   \n",
       "1                       -0.388705                          0.800000   \n",
       "2                        3.332522                          0.991273   \n",
       "3                        0.752752                          0.986689   \n",
       "4                       -0.283369                          0.783333   \n",
       "\n",
       "   number_of_engagements_ratio_reply  number_of_engagements_ratio_retweet  \\\n",
       "0                           0.000000                             0.000000   \n",
       "1                           0.200000                             0.000000   \n",
       "2                           0.001027                             0.007187   \n",
       "3                           0.006656                             0.006656   \n",
       "4                           0.066667                             0.150000   \n",
       "\n",
       "   number_of_engagements_ratio_comment  number_of_tweet_engagements  \n",
       "0                             0.000000                    -0.118908  \n",
       "1                             0.000000                    -0.116953  \n",
       "2                             0.000513                    -0.089579  \n",
       "3                             0.000000                    -0.118908  \n",
       "4                             0.000000                    -0.097400  \n",
       "\n",
       "[5 rows x 24 columns]"
      ],
      "text/html": "<div>\n<style scoped>\n    .dataframe tbody tr th:only-of-type {\n        vertical-align: middle;\n    }\n\n    .dataframe tbody tr th {\n        vertical-align: top;\n    }\n\n    .dataframe thead th {\n        text-align: right;\n    }\n</style>\n<table border=\"1\" class=\"dataframe\">\n  <thead>\n    <tr style=\"text-align: right;\">\n      <th></th>\n      <th>tweet_type</th>\n      <th>creator_follower_count</th>\n      <th>creator_following_count</th>\n      <th>engager_follower_count</th>\n      <th>engager_following_count</th>\n      <th>media</th>\n      <th>dt_dow</th>\n      <th>dt_hour</th>\n      <th>len_domains</th>\n      <th>creator_main_language</th>\n      <th>...</th>\n      <th>engager_feature_number_of_previous_like_engagement</th>\n      <th>engager_feature_number_of_previous_reply_engagement</th>\n      <th>engager_feature_number_of_previous_retweet_engagement</th>\n      <th>engager_feature_number_of_previous_comment_engagement</th>\n      <th>number_of_engagements_positive</th>\n      <th>number_of_engagements_ratio_like</th>\n      <th>number_of_engagements_ratio_reply</th>\n      <th>number_of_engagements_ratio_retweet</th>\n      <th>number_of_engagements_ratio_comment</th>\n      <th>number_of_tweet_engagements</th>\n    </tr>\n  </thead>\n  <tbody>\n    <tr>\n      <th>0</th>\n      <td>0</td>\n      <td>-0.168011</td>\n      <td>-0.103682</td>\n      <td>-0.065392</td>\n      <td>-0.180827</td>\n      <td>0</td>\n      <td>0.018588</td>\n      <td>1.182860</td>\n      <td>-0.340453</td>\n      <td>-0.058820</td>\n      <td>...</td>\n      <td>-0.352543</td>\n      <td>-0.252742</td>\n      <td>-0.216313</td>\n      <td>-0.157483</td>\n      <td>-0.384874</td>\n      <td>1.000000</td>\n      <td>0.000000</td>\n      <td>0.000000</td>\n      <td>0.000000</td>\n      <td>-0.118908</td>\n    </tr>\n    <tr>\n      <th>1</th>\n      <td>3</td>\n      <td>-0.152424</td>\n      <td>-0.083075</td>\n      <td>-0.053885</td>\n      <td>-0.137149</td>\n      <td>1</td>\n      <td>0.538678</td>\n      <td>-1.182958</td>\n      <td>-0.340453</td>\n      <td>-0.720478</td>\n      <td>...</td>\n      <td>-0.359098</td>\n      <td>-0.209647</td>\n      <td>-0.216313</td>\n      <td>-0.157483</td>\n      <td>-0.388705</td>\n      <td>0.800000</td>\n      <td>0.200000</td>\n      <td>0.000000</td>\n      <td>0.000000</td>\n      <td>-0.116953</td>\n    </tr>\n    <tr>\n      <th>2</th>\n      <td>3</td>\n      <td>-0.021888</td>\n      <td>-0.081112</td>\n      <td>0.099652</td>\n      <td>2.309918</td>\n      <td>1</td>\n      <td>0.018588</td>\n      <td>1.478588</td>\n      <td>-0.340453</td>\n      <td>0.602837</td>\n      <td>...</td>\n      <td>3.851390</td>\n      <td>-0.166552</td>\n      <td>-0.123877</td>\n      <td>0.002552</td>\n      <td>3.332522</td>\n      <td>0.991273</td>\n      <td>0.001027</td>\n      <td>0.007187</td>\n      <td>0.000513</td>\n      <td>-0.089579</td>\n    </tr>\n    <tr>\n      <th>3</th>\n      <td>3</td>\n      <td>-0.168009</td>\n      <td>-0.099573</td>\n      <td>-0.052077</td>\n      <td>-0.220191</td>\n      <td>4</td>\n      <td>-0.501503</td>\n      <td>-1.478685</td>\n      <td>-0.340453</td>\n      <td>-0.803185</td>\n      <td>...</td>\n      <td>0.927865</td>\n      <td>-0.080362</td>\n      <td>-0.189903</td>\n      <td>-0.157483</td>\n      <td>0.752752</td>\n      <td>0.986689</td>\n      <td>0.006656</td>\n      <td>0.006656</td>\n      <td>0.000000</td>\n      <td>-0.118908</td>\n    </tr>\n    <tr>\n      <th>4</th>\n      <td>3</td>\n      <td>-0.156880</td>\n      <td>-0.082370</td>\n      <td>-0.046323</td>\n      <td>0.335225</td>\n      <td>0</td>\n      <td>-1.021593</td>\n      <td>1.478588</td>\n      <td>2.558924</td>\n      <td>-0.058820</td>\n      <td>...</td>\n      <td>-0.265144</td>\n      <td>-0.080362</td>\n      <td>-0.156890</td>\n      <td>-0.157483</td>\n      <td>-0.283369</td>\n      <td>0.783333</td>\n      <td>0.066667</td>\n      <td>0.150000</td>\n      <td>0.000000</td>\n      <td>-0.097400</td>\n    </tr>\n  </tbody>\n</table>\n<p>5 rows × 24 columns</p>\n</div>"
     },
     "metadata": {},
     "execution_count": 18
    }
   ],
   "source": [
    "X_train.head()"
   ]
  },
  {
   "cell_type": "code",
   "execution_count": 22,
   "metadata": {},
   "outputs": [],
   "source": [
    "sparse_features = ['tweet_type', 'creator_main_language', 'engager_main_language', 'media']\n",
    "target = ['reply', 'like', 'retweet', 'retweet_comment'] \n",
    "dense_features = [feat for feat in X_train.columns if (feat not in sparse_features) and (feat not in target)]"
   ]
  },
  {
   "cell_type": "code",
   "execution_count": 24,
   "metadata": {},
   "outputs": [],
   "source": [
    "X_train[sparse_features] = X_train[sparse_features].fillna('-1', )\n",
    "X_train[dense_features] = X_train[dense_features].fillna(0,)"
   ]
  },
  {
   "cell_type": "code",
   "execution_count": 25,
   "metadata": {},
   "outputs": [],
   "source": [
    "X_train[sparse_features] = X_train[sparse_features].astype(np.float32)"
   ]
  },
  {
   "cell_type": "code",
   "execution_count": 26,
   "metadata": {},
   "outputs": [
    {
     "output_type": "execute_result",
     "data": {
      "text/plain": [
       "   tweet_type  creator_follower_count  creator_following_count  \\\n",
       "0         0.0               -0.168011                -0.103682   \n",
       "1         3.0               -0.152424                -0.083075   \n",
       "2         3.0               -0.021888                -0.081112   \n",
       "3         3.0               -0.168009                -0.099573   \n",
       "4         3.0               -0.156880                -0.082370   \n",
       "\n",
       "   engager_follower_count  engager_following_count  media    dt_dow   dt_hour  \\\n",
       "0               -0.065392                -0.180827    0.0  0.018588  1.182860   \n",
       "1               -0.053885                -0.137149    1.0  0.538678 -1.182958   \n",
       "2                0.099652                 2.309918    1.0  0.018588  1.478588   \n",
       "3               -0.052077                -0.220191    4.0 -0.501503 -1.478685   \n",
       "4               -0.046323                 0.335225    0.0 -1.021593  1.478588   \n",
       "\n",
       "   len_domains  creator_main_language  ...  \\\n",
       "0    -0.340453              -0.058820  ...   \n",
       "1    -0.340453              -0.720478  ...   \n",
       "2    -0.340453               0.602837  ...   \n",
       "3    -0.340453              -0.803185  ...   \n",
       "4     2.558924              -0.058820  ...   \n",
       "\n",
       "   engager_feature_number_of_previous_like_engagement  \\\n",
       "0                                          -0.352543    \n",
       "1                                          -0.359098    \n",
       "2                                           3.851390    \n",
       "3                                           0.927865    \n",
       "4                                          -0.265144    \n",
       "\n",
       "   engager_feature_number_of_previous_reply_engagement  \\\n",
       "0                                          -0.252742     \n",
       "1                                          -0.209647     \n",
       "2                                          -0.166552     \n",
       "3                                          -0.080362     \n",
       "4                                          -0.080362     \n",
       "\n",
       "   engager_feature_number_of_previous_retweet_engagement  \\\n",
       "0                                          -0.216313       \n",
       "1                                          -0.216313       \n",
       "2                                          -0.123877       \n",
       "3                                          -0.189903       \n",
       "4                                          -0.156890       \n",
       "\n",
       "   engager_feature_number_of_previous_comment_engagement  \\\n",
       "0                                          -0.157483       \n",
       "1                                          -0.157483       \n",
       "2                                           0.002552       \n",
       "3                                          -0.157483       \n",
       "4                                          -0.157483       \n",
       "\n",
       "   number_of_engagements_positive  number_of_engagements_ratio_like  \\\n",
       "0                       -0.384874                          1.000000   \n",
       "1                       -0.388705                          0.800000   \n",
       "2                        3.332522                          0.991273   \n",
       "3                        0.752752                          0.986689   \n",
       "4                       -0.283369                          0.783333   \n",
       "\n",
       "   number_of_engagements_ratio_reply  number_of_engagements_ratio_retweet  \\\n",
       "0                           0.000000                             0.000000   \n",
       "1                           0.200000                             0.000000   \n",
       "2                           0.001027                             0.007187   \n",
       "3                           0.006656                             0.006656   \n",
       "4                           0.066667                             0.150000   \n",
       "\n",
       "   number_of_engagements_ratio_comment  number_of_tweet_engagements  \n",
       "0                             0.000000                    -0.118908  \n",
       "1                             0.000000                    -0.116953  \n",
       "2                             0.000513                    -0.089579  \n",
       "3                             0.000000                    -0.118908  \n",
       "4                             0.000000                    -0.097400  \n",
       "\n",
       "[5 rows x 24 columns]"
      ],
      "text/html": "<div>\n<style scoped>\n    .dataframe tbody tr th:only-of-type {\n        vertical-align: middle;\n    }\n\n    .dataframe tbody tr th {\n        vertical-align: top;\n    }\n\n    .dataframe thead th {\n        text-align: right;\n    }\n</style>\n<table border=\"1\" class=\"dataframe\">\n  <thead>\n    <tr style=\"text-align: right;\">\n      <th></th>\n      <th>tweet_type</th>\n      <th>creator_follower_count</th>\n      <th>creator_following_count</th>\n      <th>engager_follower_count</th>\n      <th>engager_following_count</th>\n      <th>media</th>\n      <th>dt_dow</th>\n      <th>dt_hour</th>\n      <th>len_domains</th>\n      <th>creator_main_language</th>\n      <th>...</th>\n      <th>engager_feature_number_of_previous_like_engagement</th>\n      <th>engager_feature_number_of_previous_reply_engagement</th>\n      <th>engager_feature_number_of_previous_retweet_engagement</th>\n      <th>engager_feature_number_of_previous_comment_engagement</th>\n      <th>number_of_engagements_positive</th>\n      <th>number_of_engagements_ratio_like</th>\n      <th>number_of_engagements_ratio_reply</th>\n      <th>number_of_engagements_ratio_retweet</th>\n      <th>number_of_engagements_ratio_comment</th>\n      <th>number_of_tweet_engagements</th>\n    </tr>\n  </thead>\n  <tbody>\n    <tr>\n      <th>0</th>\n      <td>0.0</td>\n      <td>-0.168011</td>\n      <td>-0.103682</td>\n      <td>-0.065392</td>\n      <td>-0.180827</td>\n      <td>0.0</td>\n      <td>0.018588</td>\n      <td>1.182860</td>\n      <td>-0.340453</td>\n      <td>-0.058820</td>\n      <td>...</td>\n      <td>-0.352543</td>\n      <td>-0.252742</td>\n      <td>-0.216313</td>\n      <td>-0.157483</td>\n      <td>-0.384874</td>\n      <td>1.000000</td>\n      <td>0.000000</td>\n      <td>0.000000</td>\n      <td>0.000000</td>\n      <td>-0.118908</td>\n    </tr>\n    <tr>\n      <th>1</th>\n      <td>3.0</td>\n      <td>-0.152424</td>\n      <td>-0.083075</td>\n      <td>-0.053885</td>\n      <td>-0.137149</td>\n      <td>1.0</td>\n      <td>0.538678</td>\n      <td>-1.182958</td>\n      <td>-0.340453</td>\n      <td>-0.720478</td>\n      <td>...</td>\n      <td>-0.359098</td>\n      <td>-0.209647</td>\n      <td>-0.216313</td>\n      <td>-0.157483</td>\n      <td>-0.388705</td>\n      <td>0.800000</td>\n      <td>0.200000</td>\n      <td>0.000000</td>\n      <td>0.000000</td>\n      <td>-0.116953</td>\n    </tr>\n    <tr>\n      <th>2</th>\n      <td>3.0</td>\n      <td>-0.021888</td>\n      <td>-0.081112</td>\n      <td>0.099652</td>\n      <td>2.309918</td>\n      <td>1.0</td>\n      <td>0.018588</td>\n      <td>1.478588</td>\n      <td>-0.340453</td>\n      <td>0.602837</td>\n      <td>...</td>\n      <td>3.851390</td>\n      <td>-0.166552</td>\n      <td>-0.123877</td>\n      <td>0.002552</td>\n      <td>3.332522</td>\n      <td>0.991273</td>\n      <td>0.001027</td>\n      <td>0.007187</td>\n      <td>0.000513</td>\n      <td>-0.089579</td>\n    </tr>\n    <tr>\n      <th>3</th>\n      <td>3.0</td>\n      <td>-0.168009</td>\n      <td>-0.099573</td>\n      <td>-0.052077</td>\n      <td>-0.220191</td>\n      <td>4.0</td>\n      <td>-0.501503</td>\n      <td>-1.478685</td>\n      <td>-0.340453</td>\n      <td>-0.803185</td>\n      <td>...</td>\n      <td>0.927865</td>\n      <td>-0.080362</td>\n      <td>-0.189903</td>\n      <td>-0.157483</td>\n      <td>0.752752</td>\n      <td>0.986689</td>\n      <td>0.006656</td>\n      <td>0.006656</td>\n      <td>0.000000</td>\n      <td>-0.118908</td>\n    </tr>\n    <tr>\n      <th>4</th>\n      <td>3.0</td>\n      <td>-0.156880</td>\n      <td>-0.082370</td>\n      <td>-0.046323</td>\n      <td>0.335225</td>\n      <td>0.0</td>\n      <td>-1.021593</td>\n      <td>1.478588</td>\n      <td>2.558924</td>\n      <td>-0.058820</td>\n      <td>...</td>\n      <td>-0.265144</td>\n      <td>-0.080362</td>\n      <td>-0.156890</td>\n      <td>-0.157483</td>\n      <td>-0.283369</td>\n      <td>0.783333</td>\n      <td>0.066667</td>\n      <td>0.150000</td>\n      <td>0.000000</td>\n      <td>-0.097400</td>\n    </tr>\n  </tbody>\n</table>\n<p>5 rows × 24 columns</p>\n</div>"
     },
     "metadata": {},
     "execution_count": 26
    }
   ],
   "source": [
    "X_train.head()"
   ]
  },
  {
   "source": [
    "## preprocessing"
   ],
   "cell_type": "markdown",
   "metadata": {}
  },
  {
   "cell_type": "code",
   "execution_count": 28,
   "metadata": {},
   "outputs": [],
   "source": [
    "for feat in sparse_features :\n",
    "    lbe = LabelEncoder()\n",
    "    X_train[feat] = lbe.fit_transform(X_train[feat])"
   ]
  },
  {
   "cell_type": "code",
   "execution_count": 29,
   "metadata": {},
   "outputs": [],
   "source": [
    "mms = MinMaxScaler(feature_range = (0, 1))\n",
    "X_train[dense_features] = mms.fit_transform(X_train[dense_features])"
   ]
  },
  {
   "cell_type": "code",
   "execution_count": 30,
   "metadata": {},
   "outputs": [],
   "source": [
    "fixlen_feature_columns = [SparseFeat(feat, vocabulary_size = X_train[feat].max() +1, embedding_dim = 4) for feat in sparse_features]  + [DenseFeat(feat, 1,) for feat in dense_features]"
   ]
  },
  {
   "cell_type": "code",
   "execution_count": 38,
   "metadata": {},
   "outputs": [],
   "source": [
    "dnn_feature_columns = fixlen_feature_columns\n",
    "linear_feature_columns = fixlen_feature_columns\n",
    "\n",
    "feature_names = get_feature_names(linear_feature_columns + dnn_feature_columns)"
   ]
  },
  {
   "cell_type": "code",
   "execution_count": null,
   "metadata": {},
   "outputs": [],
   "source": []
  },
  {
   "source": [
    "## data split"
   ],
   "cell_type": "markdown",
   "metadata": {}
  },
  {
   "cell_type": "code",
   "execution_count": 34,
   "metadata": {},
   "outputs": [],
   "source": [
    "train_size = 3000000\n",
    "valid_size = 200000 1\n",
    "X_train, X_valid, X_test = X_train[:train_size], X_train[train_size:train_size+valid_size], X_train[train_size+valid_size:]\n",
    "y_train, y_valid, y_test = y_train[:train_size], y_train[train_size:train_size+valid_size], y_train[train_size+valid_size:]"
   ]
  },
  {
   "cell_type": "code",
   "execution_count": 40,
   "metadata": {},
   "outputs": [],
   "source": [
    "train_model_input = {name:X_train[name].values for name in feature_names}\n",
    "test_model_input = {name:X_test[name].values for name in feature_names}"
   ]
  },
  {
   "source": [
    "## Model"
   ],
   "cell_type": "markdown",
   "metadata": {}
  },
  {
   "cell_type": "code",
   "execution_count": 39,
   "metadata": {},
   "outputs": [],
   "source": [
    "model = DeepFM(linear_feature_columns, dnn_feature_columns, task = 'binary')"
   ]
  },
  {
   "cell_type": "code",
   "execution_count": 41,
   "metadata": {},
   "outputs": [],
   "source": [
    "model.compile(\"adam\", \"binary_crossentropy\", \n",
    "             metrics = ['binary_crossentropy'])"
   ]
  },
  {
   "cell_type": "code",
   "execution_count": 43,
   "metadata": {},
   "outputs": [
    {
     "output_type": "error",
     "ename": "KeyError",
     "evalue": "'like'",
     "traceback": [
      "\u001b[0;31m---------------------------------------------------------------------------\u001b[0m",
      "\u001b[0;31mKeyError\u001b[0m                                  Traceback (most recent call last)",
      "\u001b[0;32m<ipython-input-43-33848cfb2b5a>\u001b[0m in \u001b[0;36m<module>\u001b[0;34m\u001b[0m\n\u001b[0;32m----> 1\u001b[0;31m history = model.fit(train_model_input, y_train['like'].values,\n\u001b[0m\u001b[1;32m      2\u001b[0m                     \u001b[0mbatch_size\u001b[0m \u001b[0;34m=\u001b[0m \u001b[0;36m256\u001b[0m\u001b[0;34m,\u001b[0m\u001b[0;34m\u001b[0m\u001b[0;34m\u001b[0m\u001b[0m\n\u001b[1;32m      3\u001b[0m                     \u001b[0mepochs\u001b[0m \u001b[0;34m=\u001b[0m \u001b[0;36m10\u001b[0m\u001b[0;34m,\u001b[0m\u001b[0;34m\u001b[0m\u001b[0;34m\u001b[0m\u001b[0m\n\u001b[1;32m      4\u001b[0m                     \u001b[0mverbose\u001b[0m \u001b[0;34m=\u001b[0m \u001b[0;36m1\u001b[0m\u001b[0;34m,\u001b[0m\u001b[0;34m\u001b[0m\u001b[0;34m\u001b[0m\u001b[0m\n\u001b[1;32m      5\u001b[0m                     validation_split = 0.2,)\n",
      "\u001b[0;32m~/anaconda3/envs/recsys/lib/python3.8/site-packages/pandas/core/series.py\u001b[0m in \u001b[0;36m__getitem__\u001b[0;34m(self, key)\u001b[0m\n\u001b[1;32m    880\u001b[0m \u001b[0;34m\u001b[0m\u001b[0m\n\u001b[1;32m    881\u001b[0m         \u001b[0;32melif\u001b[0m \u001b[0mkey_is_scalar\u001b[0m\u001b[0;34m:\u001b[0m\u001b[0;34m\u001b[0m\u001b[0;34m\u001b[0m\u001b[0m\n\u001b[0;32m--> 882\u001b[0;31m             \u001b[0;32mreturn\u001b[0m \u001b[0mself\u001b[0m\u001b[0;34m.\u001b[0m\u001b[0m_get_value\u001b[0m\u001b[0;34m(\u001b[0m\u001b[0mkey\u001b[0m\u001b[0;34m)\u001b[0m\u001b[0;34m\u001b[0m\u001b[0;34m\u001b[0m\u001b[0m\n\u001b[0m\u001b[1;32m    883\u001b[0m \u001b[0;34m\u001b[0m\u001b[0m\n\u001b[1;32m    884\u001b[0m         \u001b[0;32mif\u001b[0m \u001b[0mis_hashable\u001b[0m\u001b[0;34m(\u001b[0m\u001b[0mkey\u001b[0m\u001b[0;34m)\u001b[0m\u001b[0;34m:\u001b[0m\u001b[0;34m\u001b[0m\u001b[0;34m\u001b[0m\u001b[0m\n",
      "\u001b[0;32m~/anaconda3/envs/recsys/lib/python3.8/site-packages/pandas/core/series.py\u001b[0m in \u001b[0;36m_get_value\u001b[0;34m(self, label, takeable)\u001b[0m\n\u001b[1;32m    988\u001b[0m \u001b[0;34m\u001b[0m\u001b[0m\n\u001b[1;32m    989\u001b[0m         \u001b[0;31m# Similar to Index.get_value, but we do not fall back to positional\u001b[0m\u001b[0;34m\u001b[0m\u001b[0;34m\u001b[0m\u001b[0;34m\u001b[0m\u001b[0m\n\u001b[0;32m--> 990\u001b[0;31m         \u001b[0mloc\u001b[0m \u001b[0;34m=\u001b[0m \u001b[0mself\u001b[0m\u001b[0;34m.\u001b[0m\u001b[0mindex\u001b[0m\u001b[0;34m.\u001b[0m\u001b[0mget_loc\u001b[0m\u001b[0;34m(\u001b[0m\u001b[0mlabel\u001b[0m\u001b[0;34m)\u001b[0m\u001b[0;34m\u001b[0m\u001b[0;34m\u001b[0m\u001b[0m\n\u001b[0m\u001b[1;32m    991\u001b[0m         \u001b[0;32mreturn\u001b[0m \u001b[0mself\u001b[0m\u001b[0;34m.\u001b[0m\u001b[0mindex\u001b[0m\u001b[0;34m.\u001b[0m\u001b[0m_get_values_for_loc\u001b[0m\u001b[0;34m(\u001b[0m\u001b[0mself\u001b[0m\u001b[0;34m,\u001b[0m \u001b[0mloc\u001b[0m\u001b[0;34m,\u001b[0m \u001b[0mlabel\u001b[0m\u001b[0;34m)\u001b[0m\u001b[0;34m\u001b[0m\u001b[0;34m\u001b[0m\u001b[0m\n\u001b[1;32m    992\u001b[0m \u001b[0;34m\u001b[0m\u001b[0m\n",
      "\u001b[0;32m~/anaconda3/envs/recsys/lib/python3.8/site-packages/pandas/core/indexes/range.py\u001b[0m in \u001b[0;36mget_loc\u001b[0;34m(self, key, method, tolerance)\u001b[0m\n\u001b[1;32m    356\u001b[0m                 \u001b[0;32mexcept\u001b[0m \u001b[0mValueError\u001b[0m \u001b[0;32mas\u001b[0m \u001b[0merr\u001b[0m\u001b[0;34m:\u001b[0m\u001b[0;34m\u001b[0m\u001b[0;34m\u001b[0m\u001b[0m\n\u001b[1;32m    357\u001b[0m                     \u001b[0;32mraise\u001b[0m \u001b[0mKeyError\u001b[0m\u001b[0;34m(\u001b[0m\u001b[0mkey\u001b[0m\u001b[0;34m)\u001b[0m \u001b[0;32mfrom\u001b[0m \u001b[0merr\u001b[0m\u001b[0;34m\u001b[0m\u001b[0;34m\u001b[0m\u001b[0m\n\u001b[0;32m--> 358\u001b[0;31m             \u001b[0;32mraise\u001b[0m \u001b[0mKeyError\u001b[0m\u001b[0;34m(\u001b[0m\u001b[0mkey\u001b[0m\u001b[0;34m)\u001b[0m\u001b[0;34m\u001b[0m\u001b[0;34m\u001b[0m\u001b[0m\n\u001b[0m\u001b[1;32m    359\u001b[0m         \u001b[0;32mreturn\u001b[0m \u001b[0msuper\u001b[0m\u001b[0;34m(\u001b[0m\u001b[0;34m)\u001b[0m\u001b[0;34m.\u001b[0m\u001b[0mget_loc\u001b[0m\u001b[0;34m(\u001b[0m\u001b[0mkey\u001b[0m\u001b[0;34m,\u001b[0m \u001b[0mmethod\u001b[0m\u001b[0;34m=\u001b[0m\u001b[0mmethod\u001b[0m\u001b[0;34m,\u001b[0m \u001b[0mtolerance\u001b[0m\u001b[0;34m=\u001b[0m\u001b[0mtolerance\u001b[0m\u001b[0;34m)\u001b[0m\u001b[0;34m\u001b[0m\u001b[0;34m\u001b[0m\u001b[0m\n\u001b[1;32m    360\u001b[0m \u001b[0;34m\u001b[0m\u001b[0m\n",
      "\u001b[0;31mKeyError\u001b[0m: 'like'"
     ]
    }
   ],
   "source": [
    "history = model.fit(train_model_input, y_train.values,\n",
    "                    batch_size = 256,\n",
    "                    epochs = 10,\n",
    "                    verbose = 1,\n",
    "                    validation_split = 0.2,)"
   ]
  },
  {
   "cell_type": "code",
   "execution_count": null,
   "metadata": {},
   "outputs": [],
   "source": []
  }
 ]
}