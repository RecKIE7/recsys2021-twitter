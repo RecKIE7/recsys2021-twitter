{
 "cells": [
  {
   "cell_type": "code",
   "execution_count": 1,
   "id": "fc2f53a6",
   "metadata": {},
   "outputs": [],
   "source": [
    "import sys\n",
    "sys.path.append('../../..')\n",
    "\n",
    "import tqdm\n",
    "import pandas as pd\n",
    "from tensorflow.python.keras.models import  save_model,load_model\n",
    "from tensorflow.keras import optimizers\n",
    "from deepctr.models import DeepFM\n",
    "from sklearn.preprocessing import LabelEncoder, MinMaxScaler\n",
    "from sklearn.model_selection import train_test_split\n",
    "from deepctr.feature_column import SparseFeat, DenseFeat, get_feature_names\n",
    "from sklearn import preprocessing\n",
    "from utils.preprocessing import read_data\n",
    "import core.config as conf\n",
    "import numpy as np\n",
    "\n",
    "from utils.evaluate import calculate_ctr, compute_rce, average_precision_score"
   ]
  },
  {
   "cell_type": "code",
   "execution_count": 2,
   "id": "b89f599a",
   "metadata": {},
   "outputs": [],
   "source": [
    "data_path = conf.raw_data_path\n",
    "df = pd.read_parquet(data_path + 'part-00000')"
   ]
  },
  {
   "cell_type": "code",
   "execution_count": 3,
   "id": "22270134",
   "metadata": {},
   "outputs": [],
   "source": [
    "DONT_USE = ['text_tokens', 'hashtags', 'tweet_id', 'engaged_with_user_id', 'enaging_user_id', 'language','present_links', 'present_domains', 'id']\n",
    "features = [c for c in df.columns if c not in DONT_USE]"
   ]
  },
  {
   "cell_type": "code",
   "execution_count": 4,
   "id": "22a78ac8",
   "metadata": {},
   "outputs": [],
   "source": [
    "df = df[features]"
   ]
  },
  {
   "cell_type": "code",
   "execution_count": 5,
   "id": "d15fdc48",
   "metadata": {},
   "outputs": [
    {
     "data": {
      "text/html": [
       "<div>\n",
       "<style scoped>\n",
       "    .dataframe tbody tr th:only-of-type {\n",
       "        vertical-align: middle;\n",
       "    }\n",
       "\n",
       "    .dataframe tbody tr th {\n",
       "        vertical-align: top;\n",
       "    }\n",
       "\n",
       "    .dataframe thead th {\n",
       "        text-align: right;\n",
       "    }\n",
       "</style>\n",
       "<table border=\"1\" class=\"dataframe\">\n",
       "  <thead>\n",
       "    <tr style=\"text-align: right;\">\n",
       "      <th></th>\n",
       "      <th>text_ tokens</th>\n",
       "      <th>present_media</th>\n",
       "      <th>tweet_type</th>\n",
       "      <th>tweet_timestamp</th>\n",
       "      <th>engaged_with_user_follower_count</th>\n",
       "      <th>engaged_with_user_following_count</th>\n",
       "      <th>engaged_with_user_is_verified</th>\n",
       "      <th>engaged_with_user_account_creation</th>\n",
       "      <th>enaging_user_follower_count</th>\n",
       "      <th>enaging_user_following_count</th>\n",
       "      <th>enaging_user_is_verified</th>\n",
       "      <th>enaging_user_account_creation</th>\n",
       "      <th>engagee_follows_engager</th>\n",
       "      <th>reply_timestamp</th>\n",
       "      <th>retweet_timestamp</th>\n",
       "      <th>retweet_with_comment_timestamp</th>\n",
       "      <th>like_timestamp</th>\n",
       "    </tr>\n",
       "  </thead>\n",
       "  <tbody>\n",
       "    <tr>\n",
       "      <th>0</th>\n",
       "      <td>101\\t56898\\t137\\t16925\\t10731\\t11481\\t13980\\t1...</td>\n",
       "      <td>None</td>\n",
       "      <td>Retweet</td>\n",
       "      <td>1613237034</td>\n",
       "      <td>2473</td>\n",
       "      <td>662</td>\n",
       "      <td>False</td>\n",
       "      <td>1261859734</td>\n",
       "      <td>169</td>\n",
       "      <td>339</td>\n",
       "      <td>False</td>\n",
       "      <td>1520886748</td>\n",
       "      <td>False</td>\n",
       "      <td>0</td>\n",
       "      <td>0</td>\n",
       "      <td>0</td>\n",
       "      <td>0</td>\n",
       "    </tr>\n",
       "    <tr>\n",
       "      <th>1</th>\n",
       "      <td>101\\t10159\\t11322\\t58550\\t10836\\t10126\\t25900\\...</td>\n",
       "      <td>None</td>\n",
       "      <td>TopLevel</td>\n",
       "      <td>1613748600</td>\n",
       "      <td>4418640</td>\n",
       "      <td>228</td>\n",
       "      <td>True</td>\n",
       "      <td>1266804490</td>\n",
       "      <td>393</td>\n",
       "      <td>1190</td>\n",
       "      <td>False</td>\n",
       "      <td>1237570695</td>\n",
       "      <td>False</td>\n",
       "      <td>0</td>\n",
       "      <td>0</td>\n",
       "      <td>0</td>\n",
       "      <td>0</td>\n",
       "    </tr>\n",
       "    <tr>\n",
       "      <th>2</th>\n",
       "      <td>101\\t10159\\t56314\\t14364\\t10109\\t14657\\t11359\\...</td>\n",
       "      <td>None</td>\n",
       "      <td>TopLevel</td>\n",
       "      <td>1613386238</td>\n",
       "      <td>219715</td>\n",
       "      <td>3685</td>\n",
       "      <td>True</td>\n",
       "      <td>1202617218</td>\n",
       "      <td>629</td>\n",
       "      <td>1473</td>\n",
       "      <td>False</td>\n",
       "      <td>1263176351</td>\n",
       "      <td>False</td>\n",
       "      <td>0</td>\n",
       "      <td>0</td>\n",
       "      <td>0</td>\n",
       "      <td>1613388292</td>\n",
       "    </tr>\n",
       "    <tr>\n",
       "      <th>3</th>\n",
       "      <td>101\\t56898\\t137\\t10224\\t10731\\t64194\\t41939\\t3...</td>\n",
       "      <td>None</td>\n",
       "      <td>Retweet</td>\n",
       "      <td>1613708640</td>\n",
       "      <td>2388283</td>\n",
       "      <td>13511</td>\n",
       "      <td>True</td>\n",
       "      <td>1251645191</td>\n",
       "      <td>123</td>\n",
       "      <td>200</td>\n",
       "      <td>False</td>\n",
       "      <td>1268276559</td>\n",
       "      <td>False</td>\n",
       "      <td>0</td>\n",
       "      <td>0</td>\n",
       "      <td>0</td>\n",
       "      <td>0</td>\n",
       "    </tr>\n",
       "    <tr>\n",
       "      <th>4</th>\n",
       "      <td>101\\t7143\\t1938\\t113\\t100\\t10097\\t100\\t10097\\t...</td>\n",
       "      <td>Photo</td>\n",
       "      <td>TopLevel</td>\n",
       "      <td>1612586018</td>\n",
       "      <td>414</td>\n",
       "      <td>720</td>\n",
       "      <td>False</td>\n",
       "      <td>1578273274</td>\n",
       "      <td>134</td>\n",
       "      <td>379</td>\n",
       "      <td>False</td>\n",
       "      <td>1483862063</td>\n",
       "      <td>True</td>\n",
       "      <td>0</td>\n",
       "      <td>0</td>\n",
       "      <td>0</td>\n",
       "      <td>1612587384</td>\n",
       "    </tr>\n",
       "  </tbody>\n",
       "</table>\n",
       "</div>"
      ],
      "text/plain": [
       "                                        text_ tokens present_media tweet_type  \\\n",
       "0  101\\t56898\\t137\\t16925\\t10731\\t11481\\t13980\\t1...          None    Retweet   \n",
       "1  101\\t10159\\t11322\\t58550\\t10836\\t10126\\t25900\\...          None   TopLevel   \n",
       "2  101\\t10159\\t56314\\t14364\\t10109\\t14657\\t11359\\...          None   TopLevel   \n",
       "3  101\\t56898\\t137\\t10224\\t10731\\t64194\\t41939\\t3...          None    Retweet   \n",
       "4  101\\t7143\\t1938\\t113\\t100\\t10097\\t100\\t10097\\t...         Photo   TopLevel   \n",
       "\n",
       "   tweet_timestamp  engaged_with_user_follower_count  \\\n",
       "0       1613237034                              2473   \n",
       "1       1613748600                           4418640   \n",
       "2       1613386238                            219715   \n",
       "3       1613708640                           2388283   \n",
       "4       1612586018                               414   \n",
       "\n",
       "   engaged_with_user_following_count  engaged_with_user_is_verified  \\\n",
       "0                                662                          False   \n",
       "1                                228                           True   \n",
       "2                               3685                           True   \n",
       "3                              13511                           True   \n",
       "4                                720                          False   \n",
       "\n",
       "   engaged_with_user_account_creation  enaging_user_follower_count  \\\n",
       "0                          1261859734                          169   \n",
       "1                          1266804490                          393   \n",
       "2                          1202617218                          629   \n",
       "3                          1251645191                          123   \n",
       "4                          1578273274                          134   \n",
       "\n",
       "   enaging_user_following_count  enaging_user_is_verified  \\\n",
       "0                           339                     False   \n",
       "1                          1190                     False   \n",
       "2                          1473                     False   \n",
       "3                           200                     False   \n",
       "4                           379                     False   \n",
       "\n",
       "   enaging_user_account_creation  engagee_follows_engager  reply_timestamp  \\\n",
       "0                     1520886748                    False                0   \n",
       "1                     1237570695                    False                0   \n",
       "2                     1263176351                    False                0   \n",
       "3                     1268276559                    False                0   \n",
       "4                     1483862063                     True                0   \n",
       "\n",
       "   retweet_timestamp  retweet_with_comment_timestamp  like_timestamp  \n",
       "0                  0                               0               0  \n",
       "1                  0                               0               0  \n",
       "2                  0                               0      1613388292  \n",
       "3                  0                               0               0  \n",
       "4                  0                               0      1612587384  "
      ]
     },
     "execution_count": 5,
     "metadata": {},
     "output_type": "execute_result"
    }
   ],
   "source": [
    "df.head()"
   ]
  },
  {
   "cell_type": "code",
   "execution_count": 6,
   "id": "3caecdb6",
   "metadata": {},
   "outputs": [],
   "source": [
    "sparse_features = ['present_media', 'tweet_type', 'engaged_with_user_is_verified', 'enaging_user_is_verified', 'engagee_follows_engager']\n",
    "dense_features = ['tweet_timestamp', 'engaged_with_user_follower_count', 'engaged_with_user_following_count', 'engaged_with_user_account_creation', 'enaging_user_follower_count', 'enaging_user_following_count', 'enaging_user_account_creation']"
   ]
  },
  {
   "cell_type": "code",
   "execution_count": 7,
   "id": "2756828b",
   "metadata": {},
   "outputs": [],
   "source": [
    "target = ['like_timestamp', 'reply_timestamp', 'retweet_timestamp', 'retweet_with_comment_timestamp']"
   ]
  },
  {
   "cell_type": "code",
   "execution_count": 8,
   "id": "4253d59b",
   "metadata": {},
   "outputs": [],
   "source": [
    "df[target] = df[target].applymap(lambda x : 1 if x > 0 else 0)"
   ]
  },
  {
   "cell_type": "code",
   "execution_count": 9,
   "id": "f867b258",
   "metadata": {},
   "outputs": [
    {
     "data": {
      "text/html": [
       "<div>\n",
       "<style scoped>\n",
       "    .dataframe tbody tr th:only-of-type {\n",
       "        vertical-align: middle;\n",
       "    }\n",
       "\n",
       "    .dataframe tbody tr th {\n",
       "        vertical-align: top;\n",
       "    }\n",
       "\n",
       "    .dataframe thead th {\n",
       "        text-align: right;\n",
       "    }\n",
       "</style>\n",
       "<table border=\"1\" class=\"dataframe\">\n",
       "  <thead>\n",
       "    <tr style=\"text-align: right;\">\n",
       "      <th></th>\n",
       "      <th>text_ tokens</th>\n",
       "      <th>present_media</th>\n",
       "      <th>tweet_type</th>\n",
       "      <th>tweet_timestamp</th>\n",
       "      <th>engaged_with_user_follower_count</th>\n",
       "      <th>engaged_with_user_following_count</th>\n",
       "      <th>engaged_with_user_is_verified</th>\n",
       "      <th>engaged_with_user_account_creation</th>\n",
       "      <th>enaging_user_follower_count</th>\n",
       "      <th>enaging_user_following_count</th>\n",
       "      <th>enaging_user_is_verified</th>\n",
       "      <th>enaging_user_account_creation</th>\n",
       "      <th>engagee_follows_engager</th>\n",
       "      <th>reply_timestamp</th>\n",
       "      <th>retweet_timestamp</th>\n",
       "      <th>retweet_with_comment_timestamp</th>\n",
       "      <th>like_timestamp</th>\n",
       "    </tr>\n",
       "  </thead>\n",
       "  <tbody>\n",
       "    <tr>\n",
       "      <th>0</th>\n",
       "      <td>101\\t56898\\t137\\t16925\\t10731\\t11481\\t13980\\t1...</td>\n",
       "      <td>None</td>\n",
       "      <td>Retweet</td>\n",
       "      <td>1613237034</td>\n",
       "      <td>2473</td>\n",
       "      <td>662</td>\n",
       "      <td>False</td>\n",
       "      <td>1261859734</td>\n",
       "      <td>169</td>\n",
       "      <td>339</td>\n",
       "      <td>False</td>\n",
       "      <td>1520886748</td>\n",
       "      <td>False</td>\n",
       "      <td>0</td>\n",
       "      <td>0</td>\n",
       "      <td>0</td>\n",
       "      <td>0</td>\n",
       "    </tr>\n",
       "    <tr>\n",
       "      <th>1</th>\n",
       "      <td>101\\t10159\\t11322\\t58550\\t10836\\t10126\\t25900\\...</td>\n",
       "      <td>None</td>\n",
       "      <td>TopLevel</td>\n",
       "      <td>1613748600</td>\n",
       "      <td>4418640</td>\n",
       "      <td>228</td>\n",
       "      <td>True</td>\n",
       "      <td>1266804490</td>\n",
       "      <td>393</td>\n",
       "      <td>1190</td>\n",
       "      <td>False</td>\n",
       "      <td>1237570695</td>\n",
       "      <td>False</td>\n",
       "      <td>0</td>\n",
       "      <td>0</td>\n",
       "      <td>0</td>\n",
       "      <td>0</td>\n",
       "    </tr>\n",
       "    <tr>\n",
       "      <th>2</th>\n",
       "      <td>101\\t10159\\t56314\\t14364\\t10109\\t14657\\t11359\\...</td>\n",
       "      <td>None</td>\n",
       "      <td>TopLevel</td>\n",
       "      <td>1613386238</td>\n",
       "      <td>219715</td>\n",
       "      <td>3685</td>\n",
       "      <td>True</td>\n",
       "      <td>1202617218</td>\n",
       "      <td>629</td>\n",
       "      <td>1473</td>\n",
       "      <td>False</td>\n",
       "      <td>1263176351</td>\n",
       "      <td>False</td>\n",
       "      <td>0</td>\n",
       "      <td>0</td>\n",
       "      <td>0</td>\n",
       "      <td>1</td>\n",
       "    </tr>\n",
       "    <tr>\n",
       "      <th>3</th>\n",
       "      <td>101\\t56898\\t137\\t10224\\t10731\\t64194\\t41939\\t3...</td>\n",
       "      <td>None</td>\n",
       "      <td>Retweet</td>\n",
       "      <td>1613708640</td>\n",
       "      <td>2388283</td>\n",
       "      <td>13511</td>\n",
       "      <td>True</td>\n",
       "      <td>1251645191</td>\n",
       "      <td>123</td>\n",
       "      <td>200</td>\n",
       "      <td>False</td>\n",
       "      <td>1268276559</td>\n",
       "      <td>False</td>\n",
       "      <td>0</td>\n",
       "      <td>0</td>\n",
       "      <td>0</td>\n",
       "      <td>0</td>\n",
       "    </tr>\n",
       "    <tr>\n",
       "      <th>4</th>\n",
       "      <td>101\\t7143\\t1938\\t113\\t100\\t10097\\t100\\t10097\\t...</td>\n",
       "      <td>Photo</td>\n",
       "      <td>TopLevel</td>\n",
       "      <td>1612586018</td>\n",
       "      <td>414</td>\n",
       "      <td>720</td>\n",
       "      <td>False</td>\n",
       "      <td>1578273274</td>\n",
       "      <td>134</td>\n",
       "      <td>379</td>\n",
       "      <td>False</td>\n",
       "      <td>1483862063</td>\n",
       "      <td>True</td>\n",
       "      <td>0</td>\n",
       "      <td>0</td>\n",
       "      <td>0</td>\n",
       "      <td>1</td>\n",
       "    </tr>\n",
       "  </tbody>\n",
       "</table>\n",
       "</div>"
      ],
      "text/plain": [
       "                                        text_ tokens present_media tweet_type  \\\n",
       "0  101\\t56898\\t137\\t16925\\t10731\\t11481\\t13980\\t1...          None    Retweet   \n",
       "1  101\\t10159\\t11322\\t58550\\t10836\\t10126\\t25900\\...          None   TopLevel   \n",
       "2  101\\t10159\\t56314\\t14364\\t10109\\t14657\\t11359\\...          None   TopLevel   \n",
       "3  101\\t56898\\t137\\t10224\\t10731\\t64194\\t41939\\t3...          None    Retweet   \n",
       "4  101\\t7143\\t1938\\t113\\t100\\t10097\\t100\\t10097\\t...         Photo   TopLevel   \n",
       "\n",
       "   tweet_timestamp  engaged_with_user_follower_count  \\\n",
       "0       1613237034                              2473   \n",
       "1       1613748600                           4418640   \n",
       "2       1613386238                            219715   \n",
       "3       1613708640                           2388283   \n",
       "4       1612586018                               414   \n",
       "\n",
       "   engaged_with_user_following_count  engaged_with_user_is_verified  \\\n",
       "0                                662                          False   \n",
       "1                                228                           True   \n",
       "2                               3685                           True   \n",
       "3                              13511                           True   \n",
       "4                                720                          False   \n",
       "\n",
       "   engaged_with_user_account_creation  enaging_user_follower_count  \\\n",
       "0                          1261859734                          169   \n",
       "1                          1266804490                          393   \n",
       "2                          1202617218                          629   \n",
       "3                          1251645191                          123   \n",
       "4                          1578273274                          134   \n",
       "\n",
       "   enaging_user_following_count  enaging_user_is_verified  \\\n",
       "0                           339                     False   \n",
       "1                          1190                     False   \n",
       "2                          1473                     False   \n",
       "3                           200                     False   \n",
       "4                           379                     False   \n",
       "\n",
       "   enaging_user_account_creation  engagee_follows_engager  reply_timestamp  \\\n",
       "0                     1520886748                    False                0   \n",
       "1                     1237570695                    False                0   \n",
       "2                     1263176351                    False                0   \n",
       "3                     1268276559                    False                0   \n",
       "4                     1483862063                     True                0   \n",
       "\n",
       "   retweet_timestamp  retweet_with_comment_timestamp  like_timestamp  \n",
       "0                  0                               0               0  \n",
       "1                  0                               0               0  \n",
       "2                  0                               0               1  \n",
       "3                  0                               0               0  \n",
       "4                  0                               0               1  "
      ]
     },
     "execution_count": 9,
     "metadata": {},
     "output_type": "execute_result"
    }
   ],
   "source": [
    "df.head()"
   ]
  },
  {
   "cell_type": "markdown",
   "id": "9480f0fe",
   "metadata": {},
   "source": [
    "## Preprocessing"
   ]
  },
  {
   "cell_type": "markdown",
   "id": "cc1c1675",
   "metadata": {},
   "source": [
    "## Negative Sampling"
   ]
  },
  {
   "cell_type": "code",
   "execution_count": 12,
   "id": "41473556",
   "metadata": {},
   "outputs": [
    {
     "name": "stdout",
     "output_type": "stream",
     "text": [
      "1207588\n",
      "1826314\n"
     ]
    }
   ],
   "source": [
    "df_positive = df[df['like_timestamp']==1]\n",
    "df_negative = df[df['like_timestamp']==0]\n",
    "print(len(df_positive))\n",
    "print(len(df_negative))"
   ]
  },
  {
   "cell_type": "code",
   "execution_count": 13,
   "id": "3ef31714",
   "metadata": {},
   "outputs": [],
   "source": [
    "df_negative = df_negative.sample(n = len(df_positive), random_state=777)"
   ]
  },
  {
   "cell_type": "code",
   "execution_count": 14,
   "id": "302ded09",
   "metadata": {},
   "outputs": [],
   "source": [
    "df = pd.concat([df_positive, df_negative])"
   ]
  },
  {
   "cell_type": "code",
   "execution_count": 15,
   "id": "0b33673b",
   "metadata": {},
   "outputs": [],
   "source": [
    "df  = df.sample(frac = 1)"
   ]
  },
  {
   "cell_type": "markdown",
   "id": "1673337c",
   "metadata": {},
   "source": [
    "## Encoding and Scaling"
   ]
  },
  {
   "cell_type": "code",
   "execution_count": 16,
   "id": "0577a7ba",
   "metadata": {},
   "outputs": [],
   "source": [
    "for feat in sparse_features :\n",
    "    lbe = LabelEncoder()\n",
    "    df[feat] = lbe.fit_transform(df[feat])"
   ]
  },
  {
   "cell_type": "code",
   "execution_count": 17,
   "id": "0b7c973a",
   "metadata": {},
   "outputs": [],
   "source": [
    "mms = MinMaxScaler(feature_range = (0, 1))\n",
    "df[dense_features] = mms.fit_transform(df[dense_features])"
   ]
  },
  {
   "cell_type": "markdown",
   "id": "21860612",
   "metadata": {},
   "source": [
    "## Generate Feature Columns"
   ]
  },
  {
   "cell_type": "code",
   "execution_count": 18,
   "id": "36e8b574",
   "metadata": {},
   "outputs": [],
   "source": [
    "fixlen_feature_columns = [SparseFeat(feat, vocabulary_size = df[feat].max() +1, embedding_dim = 4) for feat in sparse_features]  + [DenseFeat(feat, 1,) for feat in dense_features]"
   ]
  },
  {
   "cell_type": "code",
   "execution_count": 19,
   "id": "b4d4ba59",
   "metadata": {},
   "outputs": [],
   "source": [
    "dnn_feature_columns = fixlen_feature_columns\n",
    "linear_feature_columns = fixlen_feature_columns\n",
    "\n",
    "feature_names = get_feature_names(linear_feature_columns + dnn_feature_columns)"
   ]
  },
  {
   "cell_type": "markdown",
   "id": "7e8a54e0",
   "metadata": {},
   "source": [
    "## Split Dataset"
   ]
  },
  {
   "cell_type": "code",
   "execution_count": 21,
   "id": "722839b8",
   "metadata": {},
   "outputs": [],
   "source": [
    "train, test = train_test_split(df, test_size = 0.2)"
   ]
  },
  {
   "cell_type": "code",
   "execution_count": 22,
   "id": "a76b3fe0",
   "metadata": {},
   "outputs": [],
   "source": [
    "train_model_input = {name:train[name].values for name in feature_names}\n",
    "test_model_input = {name:test[name].values for name in feature_names}"
   ]
  },
  {
   "cell_type": "markdown",
   "id": "eccba6ce",
   "metadata": {},
   "source": [
    "## Modeling"
   ]
  },
  {
   "cell_type": "code",
   "execution_count": 24,
   "id": "698ba1f0",
   "metadata": {},
   "outputs": [],
   "source": [
    "model = DeepFM(linear_feature_columns, dnn_feature_columns, task = 'binary')"
   ]
  },
  {
   "cell_type": "code",
   "execution_count": 25,
   "id": "47b3d4f9",
   "metadata": {},
   "outputs": [],
   "source": [
    "from tensorflow.keras import backend as K\n",
    "\n",
    "def recall(y_target, y_pred):\n",
    "    # clip(t, clip_value_min, clip_value_max) : clip_value_min~clip_value_max 이외 가장자리를 깎아 낸다\n",
    "    # round : 반올림한다\n",
    "    y_target_yn = K.round(K.clip(y_target, 0, 1)) # 실제값을 0(Negative) 또는 1(Positive)로 설정한다\n",
    "    y_pred_yn = K.round(K.clip(y_pred, 0, 1)) # 예측값을 0(Negative) 또는 1(Positive)로 설정한다\n",
    "\n",
    "    # True Positive는 실제 값과 예측 값이 모두 1(Positive)인 경우이다\n",
    "    count_true_positive = K.sum(y_target_yn * y_pred_yn) \n",
    "\n",
    "    # (True Positive + False Negative) = 실제 값이 1(Positive) 전체\n",
    "    count_true_positive_false_negative = K.sum(y_target_yn)\n",
    "\n",
    "    # Recall =  (True Positive) / (True Positive + False Negative)\n",
    "    # K.epsilon()는 'divide by zero error' 예방차원에서 작은 수를 더한다\n",
    "    recall = count_true_positive / (count_true_positive_false_negative + K.epsilon())\n",
    "\n",
    "    # return a single tensor value\n",
    "    return recall\n",
    "\n",
    "\n",
    "def precision(y_target, y_pred):\n",
    "    # clip(t, clip_value_min, clip_value_max) : clip_value_min~clip_value_max 이외 가장자리를 깎아 낸다\n",
    "    # round : 반올림한다\n",
    "    y_pred_yn = K.round(K.clip(y_pred, 0, 1)) # 예측값을 0(Negative) 또는 1(Positive)로 설정한다\n",
    "    y_target_yn = K.round(K.clip(y_target, 0, 1)) # 실제값을 0(Negative) 또는 1(Positive)로 설정한다\n",
    "\n",
    "    # True Positive는 실제 값과 예측 값이 모두 1(Positive)인 경우이다\n",
    "    count_true_positive = K.sum(y_target_yn * y_pred_yn) \n",
    "\n",
    "    # (True Positive + False Positive) = 예측 값이 1(Positive) 전체\n",
    "    count_true_positive_false_positive = K.sum(y_pred_yn)\n",
    "\n",
    "    # Precision = (True Positive) / (True Positive + False Positive)\n",
    "    # K.epsilon()는 'divide by zero error' 예방차원에서 작은 수를 더한다\n",
    "    precision = count_true_positive / (count_true_positive_false_positive + K.epsilon())\n",
    "\n",
    "    # return a single tensor value\n",
    "    return precision\n",
    "\n",
    "\n",
    "def f1score(y_target, y_pred):\n",
    "    _recall = recall(y_target, y_pred)\n",
    "    _precision = precision(y_target, y_pred)\n",
    "    # K.epsilon()는 'divide by zero error' 예방차원에서 작은 수를 더한다\n",
    "    _f1score = ( 2 * _recall * _precision) / (_recall + _precision+ K.epsilon())\n",
    "    \n",
    "    # return a single tensor value\n",
    "    return _f1score"
   ]
  },
  {
   "cell_type": "code",
   "execution_count": 26,
   "id": "f59f634d",
   "metadata": {},
   "outputs": [],
   "source": [
    "import tensorflow as tf\n",
    "\n",
    "def f1(y_true, y_pred):\n",
    "    y_pred = K.round(y_pred)\n",
    "    tp = K.sum(K.cast(y_true*y_pred, 'float'), axis=0)\n",
    "    tn = K.sum(K.cast((1-y_true)*(1-y_pred), 'float'), axis=0)\n",
    "    fp = K.sum(K.cast((1-y_true)*y_pred, 'float'), axis=0)\n",
    "    fn = K.sum(K.cast(y_true*(1-y_pred), 'float'), axis=0)\n",
    "\n",
    "    p = tp / (tp + fp + K.epsilon())\n",
    "    r = tp / (tp + fn + K.epsilon())\n",
    "\n",
    "    f1 = 2*p*r / (p+r+K.epsilon())\n",
    "    f1 = tf.where(tf.math.is_nan(f1), tf.zeros_like(f1), f1)\n",
    "    return K.mean(f1)\n",
    "\n",
    "def f1_loss(y_true, y_pred):\n",
    "    \n",
    "    tp = K.sum(K.cast(y_true*y_pred, 'float'), axis=0)\n",
    "    tn = K.sum(K.cast((1-y_true)*(1-y_pred), 'float'), axis=0)\n",
    "    fp = K.sum(K.cast((1-y_true)*y_pred, 'float'), axis=0)\n",
    "    fn = K.sum(K.cast(y_true*(1-y_pred), 'float'), axis=0)\n",
    "\n",
    "    p = tp / (tp + fp + K.epsilon())\n",
    "    r = tp / (tp + fn + K.epsilon())\n",
    "\n",
    "    f1 = 2*p*r / (p+r+K.epsilon())\n",
    "    f1 = tf.where(tf.math.is_nan(f1), tf.zeros_like(f1), f1)\n",
    "    return 1 - K.mean(f1)\n"
   ]
  },
  {
   "cell_type": "code",
   "execution_count": 27,
   "id": "eb0cc637",
   "metadata": {},
   "outputs": [],
   "source": [
    "model.compile(\"adam\", \"binary_crossentropy\", \n",
    "             metrics = ['binary_crossentropy'])\n",
    "        "
   ]
  },
  {
   "cell_type": "code",
   "execution_count": 28,
   "id": "70b8a638",
   "metadata": {},
   "outputs": [],
   "source": [
    "y_train =  train['like_timestamp'].values"
   ]
  },
  {
   "cell_type": "code",
   "execution_count": 29,
   "id": "e7f45815",
   "metadata": {
    "scrolled": true
   },
   "outputs": [
    {
     "name": "stdout",
     "output_type": "stream",
     "text": [
      "Epoch 1/30\n",
      "48304/48304 [==============================] - 39s 787us/step - loss: 0.6580 - binary_crossentropy: 0.6580 - val_loss: 0.6560 - val_binary_crossentropy: 0.6560\n",
      "Epoch 2/30\n",
      "48304/48304 [==============================] - 38s 782us/step - loss: 0.6558 - binary_crossentropy: 0.6558 - val_loss: 0.6560 - val_binary_crossentropy: 0.6560\n",
      "Epoch 3/30\n",
      "48304/48304 [==============================] - 38s 791us/step - loss: 0.6556 - binary_crossentropy: 0.6556 - val_loss: 0.6549 - val_binary_crossentropy: 0.6548\n",
      "Epoch 4/30\n",
      "48304/48304 [==============================] - 38s 787us/step - loss: 0.6546 - binary_crossentropy: 0.6546 - val_loss: 0.6550 - val_binary_crossentropy: 0.6550\n",
      "Epoch 5/30\n",
      "48304/48304 [==============================] - 38s 783us/step - loss: 0.6547 - binary_crossentropy: 0.6547 - val_loss: 0.6545 - val_binary_crossentropy: 0.6544\n",
      "Epoch 6/30\n",
      "48304/48304 [==============================] - 38s 784us/step - loss: 0.6546 - binary_crossentropy: 0.6546 - val_loss: 0.6545 - val_binary_crossentropy: 0.6545\n",
      "Epoch 7/30\n",
      "48304/48304 [==============================] - 38s 784us/step - loss: 0.6539 - binary_crossentropy: 0.6539 - val_loss: 0.6544 - val_binary_crossentropy: 0.6544\n",
      "Epoch 8/30\n",
      "48304/48304 [==============================] - 38s 781us/step - loss: 0.6543 - binary_crossentropy: 0.6542 - val_loss: 0.6550 - val_binary_crossentropy: 0.6550\n",
      "Epoch 9/30\n",
      "48304/48304 [==============================] - 38s 776us/step - loss: 0.6541 - binary_crossentropy: 0.6541 - val_loss: 0.6546 - val_binary_crossentropy: 0.6546\n",
      "Epoch 10/30\n",
      "48304/48304 [==============================] - 38s 779us/step - loss: 0.6536 - binary_crossentropy: 0.6535 - val_loss: 0.6543 - val_binary_crossentropy: 0.6542\n",
      "Epoch 11/30\n",
      "48304/48304 [==============================] - 38s 781us/step - loss: 0.6534 - binary_crossentropy: 0.6534 - val_loss: 0.6531 - val_binary_crossentropy: 0.6531\n",
      "Epoch 12/30\n",
      "48304/48304 [==============================] - 37s 770us/step - loss: 0.6535 - binary_crossentropy: 0.6535 - val_loss: 0.6536 - val_binary_crossentropy: 0.6536\n",
      "Epoch 13/30\n",
      "48304/48304 [==============================] - 37s 774us/step - loss: 0.6532 - binary_crossentropy: 0.6532 - val_loss: 0.6537 - val_binary_crossentropy: 0.6536\n",
      "Epoch 14/30\n",
      "48304/48304 [==============================] - 38s 781us/step - loss: 0.6532 - binary_crossentropy: 0.6532 - val_loss: 0.6545 - val_binary_crossentropy: 0.6545\n",
      "Epoch 15/30\n",
      "48304/48304 [==============================] - 38s 782us/step - loss: 0.6529 - binary_crossentropy: 0.6528 - val_loss: 0.6536 - val_binary_crossentropy: 0.6535\n",
      "Epoch 16/30\n",
      "48304/48304 [==============================] - 38s 777us/step - loss: 0.6528 - binary_crossentropy: 0.6528 - val_loss: 0.6532 - val_binary_crossentropy: 0.6531\n",
      "Epoch 17/30\n",
      "48304/48304 [==============================] - 37s 772us/step - loss: 0.6529 - binary_crossentropy: 0.6529 - val_loss: 0.6524 - val_binary_crossentropy: 0.6523\n",
      "Epoch 18/30\n",
      "48304/48304 [==============================] - 37s 773us/step - loss: 0.6528 - binary_crossentropy: 0.6527 - val_loss: 0.6524 - val_binary_crossentropy: 0.6524\n",
      "Epoch 19/30\n",
      "48304/48304 [==============================] - 38s 780us/step - loss: 0.6525 - binary_crossentropy: 0.6524 - val_loss: 0.6521 - val_binary_crossentropy: 0.6521\n",
      "Epoch 20/30\n",
      "48304/48304 [==============================] - 38s 777us/step - loss: 0.6527 - binary_crossentropy: 0.6527 - val_loss: 0.6520 - val_binary_crossentropy: 0.6520\n",
      "Epoch 21/30\n",
      "48304/48304 [==============================] - 37s 775us/step - loss: 0.6522 - binary_crossentropy: 0.6522 - val_loss: 0.6532 - val_binary_crossentropy: 0.6531\n",
      "Epoch 22/30\n",
      "48304/48304 [==============================] - 38s 781us/step - loss: 0.6525 - binary_crossentropy: 0.6524 - val_loss: 0.6523 - val_binary_crossentropy: 0.6523\n",
      "Epoch 23/30\n",
      "48304/48304 [==============================] - 38s 783us/step - loss: 0.6524 - binary_crossentropy: 0.6524 - val_loss: 0.6523 - val_binary_crossentropy: 0.6523\n",
      "Epoch 24/30\n",
      "48304/48304 [==============================] - 38s 782us/step - loss: 0.6521 - binary_crossentropy: 0.6520 - val_loss: 0.6529 - val_binary_crossentropy: 0.6529\n",
      "Epoch 25/30\n",
      "48304/48304 [==============================] - 38s 781us/step - loss: 0.6522 - binary_crossentropy: 0.6522 - val_loss: 0.6520 - val_binary_crossentropy: 0.6519\n",
      "Epoch 26/30\n",
      "48304/48304 [==============================] - 37s 773us/step - loss: 0.6519 - binary_crossentropy: 0.6519 - val_loss: 0.6518 - val_binary_crossentropy: 0.6517\n",
      "Epoch 27/30\n",
      "48304/48304 [==============================] - 37s 769us/step - loss: 0.6516 - binary_crossentropy: 0.6516 - val_loss: 0.6526 - val_binary_crossentropy: 0.6526\n",
      "Epoch 28/30\n",
      "48304/48304 [==============================] - 37s 774us/step - loss: 0.6520 - binary_crossentropy: 0.6519 - val_loss: 0.6551 - val_binary_crossentropy: 0.6551\n",
      "Epoch 29/30\n",
      "48304/48304 [==============================] - 38s 782us/step - loss: 0.6513 - binary_crossentropy: 0.6513 - val_loss: 0.6519 - val_binary_crossentropy: 0.6519\n",
      "Epoch 30/30\n",
      "48304/48304 [==============================] - 38s 780us/step - loss: 0.6514 - binary_crossentropy: 0.6514 - val_loss: 0.6513 - val_binary_crossentropy: 0.6513\n"
     ]
    }
   ],
   "source": [
    "history = model.fit(train_model_input, y_train,\n",
    "                    batch_size = 32,\n",
    "                    epochs = 30,\n",
    "                    verbose = 1,\n",
    "                    validation_split = 0.2,)"
   ]
  },
  {
   "cell_type": "code",
   "execution_count": 33,
   "id": "037da058",
   "metadata": {},
   "outputs": [],
   "source": [
    "y_test = test['like_timestamp']"
   ]
  },
  {
   "cell_type": "code",
   "execution_count": 37,
   "id": "90eefe82",
   "metadata": {},
   "outputs": [],
   "source": [
    "pred = model.predict(test_model_input, batch_size = 256)"
   ]
  },
  {
   "cell_type": "code",
   "execution_count": 39,
   "id": "51b3a829",
   "metadata": {},
   "outputs": [
    {
     "data": {
      "text/plain": [
       "5.980581884560099"
      ]
     },
     "execution_count": 39,
     "metadata": {},
     "output_type": "execute_result"
    }
   ],
   "source": [
    "rce_like = compute_rce(pred, y_test)\n",
    "rce_like"
   ]
  },
  {
   "cell_type": "code",
   "execution_count": 40,
   "id": "39ba6962",
   "metadata": {},
   "outputs": [
    {
     "data": {
      "text/plain": [
       "0.6397470597584911"
      ]
     },
     "execution_count": 40,
     "metadata": {},
     "output_type": "execute_result"
    }
   ],
   "source": [
    "ap_like = average_precision_score(y_test, pred)\n",
    "ap_like"
   ]
  },
  {
   "cell_type": "code",
   "execution_count": 28,
   "id": "0cb36ebf",
   "metadata": {},
   "outputs": [],
   "source": [
    "save_model(model, 'DeepFM.h5')"
   ]
  },
  {
   "cell_type": "code",
   "execution_count": 40,
   "id": "5e7ddca3",
   "metadata": {},
   "outputs": [],
   "source": [
    "import deepctr"
   ]
  },
  {
   "cell_type": "code",
   "execution_count": 41,
   "id": "e1c85c04",
   "metadata": {},
   "outputs": [
    {
     "data": {
      "text/plain": [
       "'0.8.5'"
      ]
     },
     "execution_count": 41,
     "metadata": {},
     "output_type": "execute_result"
    }
   ],
   "source": [
    "deepctr.__version__"
   ]
  },
  {
   "cell_type": "code",
   "execution_count": null,
   "id": "b43134ba",
   "metadata": {},
   "outputs": [],
   "source": []
  },
  {
   "cell_type": "code",
   "execution_count": null,
   "id": "6e3cce3a",
   "metadata": {},
   "outputs": [],
   "source": []
  }
 ],
 "metadata": {
  "kernelspec": {
   "display_name": "Python 3",
   "language": "python",
   "name": "python3"
  },
  "language_info": {
   "codemirror_mode": {
    "name": "ipython",
    "version": 3
   },
   "file_extension": ".py",
   "mimetype": "text/x-python",
   "name": "python",
   "nbconvert_exporter": "python",
   "pygments_lexer": "ipython3",
   "version": "3.7.10"
  }
 },
 "nbformat": 4,
 "nbformat_minor": 5
}
