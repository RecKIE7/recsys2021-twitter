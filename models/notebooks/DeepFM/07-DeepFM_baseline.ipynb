{
 "cells": [
  {
   "cell_type": "code",
   "execution_count": 19,
   "id": "fc2f53a6",
   "metadata": {},
   "outputs": [],
   "source": [
    "import sys\n",
    "sys.path.append('../../..')\n",
    "\n",
    "import tqdm\n",
    "import pandas as pd\n",
    "from tensorflow.python.keras.models import  save_model,load_model\n",
    "from tensorflow.keras import optimizers\n",
    "from deepctr.models import DeepFM\n",
    "from sklearn.preprocessing import LabelEncoder, MinMaxScaler\n",
    "from sklearn.model_selection import train_test_split\n",
    "from deepctr.feature_column import SparseFeat, DenseFeat, get_feature_names\n",
    "from sklearn import preprocessing\n",
    "from utils.preprocessing import read_data\n",
    "import core.config as conf\n",
    "import numpy as np\n",
    "import tensorflow as tf \n",
    "from utils.evaluate import calculate_ctr, compute_rce, average_precision_score"
   ]
  },
  {
   "cell_type": "code",
   "execution_count": 2,
   "id": "b89f599a",
   "metadata": {},
   "outputs": [],
   "source": [
    "data_path = conf.raw_data_path\n",
    "df = pd.read_parquet(data_path + 'part-00043')"
   ]
  },
  {
   "cell_type": "code",
   "execution_count": 3,
   "id": "22270134",
   "metadata": {},
   "outputs": [],
   "source": [
    "DONT_USE = ['text_ tokens', 'hashtags', 'tweet_id', 'engaged_with_user_id', 'enaging_user_id', 'language','present_links', 'present_domains', 'id']\n",
    "features = [c for c in df.columns if c not in DONT_USE]"
   ]
  },
  {
   "cell_type": "code",
   "execution_count": 4,
   "id": "22a78ac8",
   "metadata": {},
   "outputs": [],
   "source": [
    "df = df[features]"
   ]
  },
  {
   "cell_type": "code",
   "execution_count": 5,
   "id": "d15fdc48",
   "metadata": {},
   "outputs": [
    {
     "output_type": "execute_result",
     "data": {
      "text/plain": [
       "  present_media tweet_type  tweet_timestamp  engaged_with_user_follower_count  \\\n",
       "0  Photo\\tPhoto    Retweet       1612787398                               390   \n",
       "1          None   TopLevel       1614058647                             86775   \n",
       "2         Video   TopLevel       1613991576                            276517   \n",
       "3          None   TopLevel       1612602066                               330   \n",
       "4          None   TopLevel       1613303201                              1005   \n",
       "\n",
       "   engaged_with_user_following_count  engaged_with_user_is_verified  \\\n",
       "0                                322                          False   \n",
       "1                                375                          False   \n",
       "2                                230                          False   \n",
       "3                                499                          False   \n",
       "4                                543                          False   \n",
       "\n",
       "   engaged_with_user_account_creation  enaging_user_follower_count  \\\n",
       "0                          1600869556                          219   \n",
       "1                          1437682138                           42   \n",
       "2                          1562367304                          111   \n",
       "3                          1404678822                          270   \n",
       "4                          1480686845                          413   \n",
       "\n",
       "   enaging_user_following_count  enaging_user_is_verified  \\\n",
       "0                           215                     False   \n",
       "1                            53                     False   \n",
       "2                           123                     False   \n",
       "3                           241                     False   \n",
       "4                           681                     False   \n",
       "\n",
       "   enaging_user_account_creation  engagee_follows_engager  reply_timestamp  \\\n",
       "0                     1594373633                     True                0   \n",
       "1                     1517645474                    False                0   \n",
       "2                     1572527313                    False                0   \n",
       "3                     1422212371                     True                0   \n",
       "4                     1493199020                    False                0   \n",
       "\n",
       "   retweet_timestamp  retweet_with_comment_timestamp  like_timestamp  \n",
       "0                  0                               0               0  \n",
       "1                  0                               0               0  \n",
       "2                  0                               0      1614004646  \n",
       "3                  0                               0      1612606852  \n",
       "4                  0                               0               0  "
      ],
      "text/html": "<div>\n<style scoped>\n    .dataframe tbody tr th:only-of-type {\n        vertical-align: middle;\n    }\n\n    .dataframe tbody tr th {\n        vertical-align: top;\n    }\n\n    .dataframe thead th {\n        text-align: right;\n    }\n</style>\n<table border=\"1\" class=\"dataframe\">\n  <thead>\n    <tr style=\"text-align: right;\">\n      <th></th>\n      <th>present_media</th>\n      <th>tweet_type</th>\n      <th>tweet_timestamp</th>\n      <th>engaged_with_user_follower_count</th>\n      <th>engaged_with_user_following_count</th>\n      <th>engaged_with_user_is_verified</th>\n      <th>engaged_with_user_account_creation</th>\n      <th>enaging_user_follower_count</th>\n      <th>enaging_user_following_count</th>\n      <th>enaging_user_is_verified</th>\n      <th>enaging_user_account_creation</th>\n      <th>engagee_follows_engager</th>\n      <th>reply_timestamp</th>\n      <th>retweet_timestamp</th>\n      <th>retweet_with_comment_timestamp</th>\n      <th>like_timestamp</th>\n    </tr>\n  </thead>\n  <tbody>\n    <tr>\n      <th>0</th>\n      <td>Photo\\tPhoto</td>\n      <td>Retweet</td>\n      <td>1612787398</td>\n      <td>390</td>\n      <td>322</td>\n      <td>False</td>\n      <td>1600869556</td>\n      <td>219</td>\n      <td>215</td>\n      <td>False</td>\n      <td>1594373633</td>\n      <td>True</td>\n      <td>0</td>\n      <td>0</td>\n      <td>0</td>\n      <td>0</td>\n    </tr>\n    <tr>\n      <th>1</th>\n      <td>None</td>\n      <td>TopLevel</td>\n      <td>1614058647</td>\n      <td>86775</td>\n      <td>375</td>\n      <td>False</td>\n      <td>1437682138</td>\n      <td>42</td>\n      <td>53</td>\n      <td>False</td>\n      <td>1517645474</td>\n      <td>False</td>\n      <td>0</td>\n      <td>0</td>\n      <td>0</td>\n      <td>0</td>\n    </tr>\n    <tr>\n      <th>2</th>\n      <td>Video</td>\n      <td>TopLevel</td>\n      <td>1613991576</td>\n      <td>276517</td>\n      <td>230</td>\n      <td>False</td>\n      <td>1562367304</td>\n      <td>111</td>\n      <td>123</td>\n      <td>False</td>\n      <td>1572527313</td>\n      <td>False</td>\n      <td>0</td>\n      <td>0</td>\n      <td>0</td>\n      <td>1614004646</td>\n    </tr>\n    <tr>\n      <th>3</th>\n      <td>None</td>\n      <td>TopLevel</td>\n      <td>1612602066</td>\n      <td>330</td>\n      <td>499</td>\n      <td>False</td>\n      <td>1404678822</td>\n      <td>270</td>\n      <td>241</td>\n      <td>False</td>\n      <td>1422212371</td>\n      <td>True</td>\n      <td>0</td>\n      <td>0</td>\n      <td>0</td>\n      <td>1612606852</td>\n    </tr>\n    <tr>\n      <th>4</th>\n      <td>None</td>\n      <td>TopLevel</td>\n      <td>1613303201</td>\n      <td>1005</td>\n      <td>543</td>\n      <td>False</td>\n      <td>1480686845</td>\n      <td>413</td>\n      <td>681</td>\n      <td>False</td>\n      <td>1493199020</td>\n      <td>False</td>\n      <td>0</td>\n      <td>0</td>\n      <td>0</td>\n      <td>0</td>\n    </tr>\n  </tbody>\n</table>\n</div>"
     },
     "metadata": {},
     "execution_count": 5
    }
   ],
   "source": [
    "df.head()"
   ]
  },
  {
   "cell_type": "code",
   "execution_count": 6,
   "id": "3caecdb6",
   "metadata": {},
   "outputs": [],
   "source": [
    "sparse_features = ['present_media', 'tweet_type', 'engaged_with_user_is_verified', 'enaging_user_is_verified', 'engagee_follows_engager']\n",
    "dense_features = ['tweet_timestamp', 'engaged_with_user_follower_count', 'engaged_with_user_following_count', 'engaged_with_user_account_creation', 'enaging_user_follower_count', 'enaging_user_following_count', 'enaging_user_account_creation']"
   ]
  },
  {
   "cell_type": "code",
   "execution_count": 7,
   "id": "2756828b",
   "metadata": {},
   "outputs": [],
   "source": [
    "target_timestamp = ['like_timestamp', 'reply_timestamp', 'retweet_timestamp', 'retweet_with_comment_timestamp']\n",
    "target = ['like', 'reply', 'retweet', 'comment']\n"
   ]
  },
  {
   "cell_type": "code",
   "execution_count": 8,
   "id": "4253d59b",
   "metadata": {},
   "outputs": [],
   "source": [
    "df[target] = df[target_timestamp].applymap(lambda x : 1 if x > 0 else 0)"
   ]
  },
  {
   "cell_type": "code",
   "execution_count": 9,
   "id": "f867b258",
   "metadata": {},
   "outputs": [
    {
     "output_type": "execute_result",
     "data": {
      "text/plain": [
       "  present_media tweet_type  tweet_timestamp  engaged_with_user_follower_count  \\\n",
       "0  Photo\\tPhoto    Retweet       1612787398                               390   \n",
       "1          None   TopLevel       1614058647                             86775   \n",
       "2         Video   TopLevel       1613991576                            276517   \n",
       "3          None   TopLevel       1612602066                               330   \n",
       "4          None   TopLevel       1613303201                              1005   \n",
       "\n",
       "   engaged_with_user_following_count  engaged_with_user_is_verified  \\\n",
       "0                                322                          False   \n",
       "1                                375                          False   \n",
       "2                                230                          False   \n",
       "3                                499                          False   \n",
       "4                                543                          False   \n",
       "\n",
       "   engaged_with_user_account_creation  enaging_user_follower_count  \\\n",
       "0                          1600869556                          219   \n",
       "1                          1437682138                           42   \n",
       "2                          1562367304                          111   \n",
       "3                          1404678822                          270   \n",
       "4                          1480686845                          413   \n",
       "\n",
       "   enaging_user_following_count  enaging_user_is_verified  \\\n",
       "0                           215                     False   \n",
       "1                            53                     False   \n",
       "2                           123                     False   \n",
       "3                           241                     False   \n",
       "4                           681                     False   \n",
       "\n",
       "   enaging_user_account_creation  engagee_follows_engager  reply_timestamp  \\\n",
       "0                     1594373633                     True                0   \n",
       "1                     1517645474                    False                0   \n",
       "2                     1572527313                    False                0   \n",
       "3                     1422212371                     True                0   \n",
       "4                     1493199020                    False                0   \n",
       "\n",
       "   retweet_timestamp  retweet_with_comment_timestamp  like_timestamp  like  \\\n",
       "0                  0                               0               0     0   \n",
       "1                  0                               0               0     0   \n",
       "2                  0                               0      1614004646     1   \n",
       "3                  0                               0      1612606852     1   \n",
       "4                  0                               0               0     0   \n",
       "\n",
       "   reply  retweet  comment  \n",
       "0      0        0        0  \n",
       "1      0        0        0  \n",
       "2      0        0        0  \n",
       "3      0        0        0  \n",
       "4      0        0        0  "
      ],
      "text/html": "<div>\n<style scoped>\n    .dataframe tbody tr th:only-of-type {\n        vertical-align: middle;\n    }\n\n    .dataframe tbody tr th {\n        vertical-align: top;\n    }\n\n    .dataframe thead th {\n        text-align: right;\n    }\n</style>\n<table border=\"1\" class=\"dataframe\">\n  <thead>\n    <tr style=\"text-align: right;\">\n      <th></th>\n      <th>present_media</th>\n      <th>tweet_type</th>\n      <th>tweet_timestamp</th>\n      <th>engaged_with_user_follower_count</th>\n      <th>engaged_with_user_following_count</th>\n      <th>engaged_with_user_is_verified</th>\n      <th>engaged_with_user_account_creation</th>\n      <th>enaging_user_follower_count</th>\n      <th>enaging_user_following_count</th>\n      <th>enaging_user_is_verified</th>\n      <th>enaging_user_account_creation</th>\n      <th>engagee_follows_engager</th>\n      <th>reply_timestamp</th>\n      <th>retweet_timestamp</th>\n      <th>retweet_with_comment_timestamp</th>\n      <th>like_timestamp</th>\n      <th>like</th>\n      <th>reply</th>\n      <th>retweet</th>\n      <th>comment</th>\n    </tr>\n  </thead>\n  <tbody>\n    <tr>\n      <th>0</th>\n      <td>Photo\\tPhoto</td>\n      <td>Retweet</td>\n      <td>1612787398</td>\n      <td>390</td>\n      <td>322</td>\n      <td>False</td>\n      <td>1600869556</td>\n      <td>219</td>\n      <td>215</td>\n      <td>False</td>\n      <td>1594373633</td>\n      <td>True</td>\n      <td>0</td>\n      <td>0</td>\n      <td>0</td>\n      <td>0</td>\n      <td>0</td>\n      <td>0</td>\n      <td>0</td>\n      <td>0</td>\n    </tr>\n    <tr>\n      <th>1</th>\n      <td>None</td>\n      <td>TopLevel</td>\n      <td>1614058647</td>\n      <td>86775</td>\n      <td>375</td>\n      <td>False</td>\n      <td>1437682138</td>\n      <td>42</td>\n      <td>53</td>\n      <td>False</td>\n      <td>1517645474</td>\n      <td>False</td>\n      <td>0</td>\n      <td>0</td>\n      <td>0</td>\n      <td>0</td>\n      <td>0</td>\n      <td>0</td>\n      <td>0</td>\n      <td>0</td>\n    </tr>\n    <tr>\n      <th>2</th>\n      <td>Video</td>\n      <td>TopLevel</td>\n      <td>1613991576</td>\n      <td>276517</td>\n      <td>230</td>\n      <td>False</td>\n      <td>1562367304</td>\n      <td>111</td>\n      <td>123</td>\n      <td>False</td>\n      <td>1572527313</td>\n      <td>False</td>\n      <td>0</td>\n      <td>0</td>\n      <td>0</td>\n      <td>1614004646</td>\n      <td>1</td>\n      <td>0</td>\n      <td>0</td>\n      <td>0</td>\n    </tr>\n    <tr>\n      <th>3</th>\n      <td>None</td>\n      <td>TopLevel</td>\n      <td>1612602066</td>\n      <td>330</td>\n      <td>499</td>\n      <td>False</td>\n      <td>1404678822</td>\n      <td>270</td>\n      <td>241</td>\n      <td>False</td>\n      <td>1422212371</td>\n      <td>True</td>\n      <td>0</td>\n      <td>0</td>\n      <td>0</td>\n      <td>1612606852</td>\n      <td>1</td>\n      <td>0</td>\n      <td>0</td>\n      <td>0</td>\n    </tr>\n    <tr>\n      <th>4</th>\n      <td>None</td>\n      <td>TopLevel</td>\n      <td>1613303201</td>\n      <td>1005</td>\n      <td>543</td>\n      <td>False</td>\n      <td>1480686845</td>\n      <td>413</td>\n      <td>681</td>\n      <td>False</td>\n      <td>1493199020</td>\n      <td>False</td>\n      <td>0</td>\n      <td>0</td>\n      <td>0</td>\n      <td>0</td>\n      <td>0</td>\n      <td>0</td>\n      <td>0</td>\n      <td>0</td>\n    </tr>\n  </tbody>\n</table>\n</div>"
     },
     "metadata": {},
     "execution_count": 9
    }
   ],
   "source": [
    "df.head()"
   ]
  },
  {
   "cell_type": "markdown",
   "id": "9480f0fe",
   "metadata": {},
   "source": [
    "## Preprocessing"
   ]
  },
  {
   "cell_type": "code",
   "execution_count": 10,
   "id": "0577a7ba",
   "metadata": {},
   "outputs": [],
   "source": [
    "for feat in sparse_features :\n",
    "    lbe = LabelEncoder()\n",
    "    df[feat] = lbe.fit_transform(df[feat])"
   ]
  },
  {
   "cell_type": "code",
   "execution_count": 11,
   "id": "0b7c973a",
   "metadata": {},
   "outputs": [],
   "source": [
    "mms = MinMaxScaler(feature_range = (0, 1))\n",
    "df[dense_features] = mms.fit_transform(df[dense_features])"
   ]
  },
  {
   "source": [
    "## Negative Sampling "
   ],
   "cell_type": "markdown",
   "metadata": {}
  },
  {
   "cell_type": "code",
   "execution_count": 12,
   "metadata": {},
   "outputs": [
    {
     "output_type": "stream",
     "name": "stdout",
     "text": [
      "1208624\n1824917\n"
     ]
    }
   ],
   "source": [
    "df_positive = df[df['like']==1]\n",
    "df_negative = df[df['like']==0]\n",
    "print(len(df_positive))\n",
    "print(len(df_negative))\n",
    "\n",
    "df_negative = df_negative.sample(n = len(df_positive))\n",
    "df = pd.concat([df_positive, df_negative])\n",
    "df = df.sample(frac=1)\n",
    "df = df.reset_index(drop=True)"
   ]
  },
  {
   "cell_type": "markdown",
   "id": "21860612",
   "metadata": {},
   "source": [
    "## Generate Feature Columns"
   ]
  },
  {
   "cell_type": "code",
   "execution_count": 13,
   "id": "36e8b574",
   "metadata": {},
   "outputs": [],
   "source": [
    "fixlen_feature_columns = [SparseFeat(feat, vocabulary_size = df[feat].max() +1, embedding_dim = 4) for feat in sparse_features]  + [DenseFeat(feat, 1,) for feat in dense_features]"
   ]
  },
  {
   "cell_type": "code",
   "execution_count": 14,
   "id": "b4d4ba59",
   "metadata": {},
   "outputs": [],
   "source": [
    "dnn_feature_columns = fixlen_feature_columns\n",
    "linear_feature_columns = fixlen_feature_columns\n",
    "\n",
    "feature_names = get_feature_names(linear_feature_columns + dnn_feature_columns)"
   ]
  },
  {
   "cell_type": "code",
   "execution_count": 15,
   "id": "722839b8",
   "metadata": {},
   "outputs": [],
   "source": [
    "train, test = train_test_split(df, test_size = 0.2)"
   ]
  },
  {
   "cell_type": "code",
   "execution_count": 16,
   "id": "a76b3fe0",
   "metadata": {},
   "outputs": [],
   "source": [
    "train_model_input = {name:train[name].values for name in feature_names}\n",
    "test_model_input = {name:test[name].values for name in feature_names}"
   ]
  },
  {
   "cell_type": "markdown",
   "id": "eccba6ce",
   "metadata": {},
   "source": [
    "## Modeling"
   ]
  },
  {
   "cell_type": "code",
   "execution_count": 18,
   "metadata": {},
   "outputs": [],
   "source": []
  },
  {
   "cell_type": "code",
   "execution_count": 25,
   "id": "eb0cc637",
   "metadata": {},
   "outputs": [],
   "source": [
    "model = DeepFM(linear_feature_columns, dnn_feature_columns, task = 'binary')\n",
    "model.compile('adam', 'binary_crossentropy', metrics=['accuracy', 'binary_crossentropy', tf.keras.metrics.kl_divergence])\n"
   ]
  },
  {
   "cell_type": "code",
   "execution_count": 26,
   "id": "e7f45815",
   "metadata": {
    "scrolled": true
   },
   "outputs": [
    {
     "output_type": "stream",
     "name": "stdout",
     "text": [
      "Epoch 1/50\n",
      "6044/6044 [==============================] - 9s 1ms/step - loss: 0.6590 - accuracy: 0.6086 - binary_crossentropy: 0.6590 - kl_divergence: 0.3279 - val_loss: 0.6560 - val_accuracy: 0.6129 - val_binary_crossentropy: 0.6559 - val_kl_divergence: 0.3171\n",
      "Epoch 2/50\n",
      "6044/6044 [==============================] - 8s 1ms/step - loss: 0.6559 - accuracy: 0.6145 - binary_crossentropy: 0.6559 - kl_divergence: 0.3268 - val_loss: 0.6552 - val_accuracy: 0.6155 - val_binary_crossentropy: 0.6552 - val_kl_divergence: 0.3322\n",
      "Epoch 3/50\n",
      "6044/6044 [==============================] - 8s 1ms/step - loss: 0.6554 - accuracy: 0.6156 - binary_crossentropy: 0.6554 - kl_divergence: 0.3268 - val_loss: 0.6554 - val_accuracy: 0.6148 - val_binary_crossentropy: 0.6554 - val_kl_divergence: 0.3149\n",
      "Epoch 4/50\n",
      "6044/6044 [==============================] - 8s 1ms/step - loss: 0.6552 - accuracy: 0.6163 - binary_crossentropy: 0.6552 - kl_divergence: 0.3267 - val_loss: 0.6554 - val_accuracy: 0.6151 - val_binary_crossentropy: 0.6553 - val_kl_divergence: 0.3370\n",
      "Epoch 5/50\n",
      "6044/6044 [==============================] - 8s 1ms/step - loss: 0.6546 - accuracy: 0.6170 - binary_crossentropy: 0.6546 - kl_divergence: 0.3267 - val_loss: 0.6541 - val_accuracy: 0.6178 - val_binary_crossentropy: 0.6541 - val_kl_divergence: 0.3257\n",
      "Epoch 6/50\n",
      "6044/6044 [==============================] - 8s 1ms/step - loss: 0.6541 - accuracy: 0.6175 - binary_crossentropy: 0.6541 - kl_divergence: 0.3261 - val_loss: 0.6539 - val_accuracy: 0.6174 - val_binary_crossentropy: 0.6539 - val_kl_divergence: 0.3339\n",
      "Epoch 7/50\n",
      "6044/6044 [==============================] - 8s 1ms/step - loss: 0.6534 - accuracy: 0.6182 - binary_crossentropy: 0.6534 - kl_divergence: 0.3258 - val_loss: 0.6538 - val_accuracy: 0.6177 - val_binary_crossentropy: 0.6537 - val_kl_divergence: 0.3319\n",
      "Epoch 8/50\n",
      "6044/6044 [==============================] - 8s 1ms/step - loss: 0.6534 - accuracy: 0.6183 - binary_crossentropy: 0.6534 - kl_divergence: 0.3259 - val_loss: 0.6537 - val_accuracy: 0.6172 - val_binary_crossentropy: 0.6536 - val_kl_divergence: 0.3299\n",
      "Epoch 9/50\n",
      "6044/6044 [==============================] - 8s 1ms/step - loss: 0.6534 - accuracy: 0.6182 - binary_crossentropy: 0.6533 - kl_divergence: 0.3259 - val_loss: 0.6538 - val_accuracy: 0.6180 - val_binary_crossentropy: 0.6538 - val_kl_divergence: 0.3176\n",
      "Epoch 10/50\n",
      "6044/6044 [==============================] - 8s 1ms/step - loss: 0.6530 - accuracy: 0.6191 - binary_crossentropy: 0.6530 - kl_divergence: 0.3257 - val_loss: 0.6536 - val_accuracy: 0.6179 - val_binary_crossentropy: 0.6535 - val_kl_divergence: 0.3147\n",
      "Epoch 11/50\n",
      "6044/6044 [==============================] - 8s 1ms/step - loss: 0.6528 - accuracy: 0.6188 - binary_crossentropy: 0.6527 - kl_divergence: 0.3252 - val_loss: 0.6527 - val_accuracy: 0.6183 - val_binary_crossentropy: 0.6527 - val_kl_divergence: 0.3278\n",
      "Epoch 12/50\n",
      "6044/6044 [==============================] - 8s 1ms/step - loss: 0.6526 - accuracy: 0.6191 - binary_crossentropy: 0.6525 - kl_divergence: 0.3252 - val_loss: 0.6527 - val_accuracy: 0.6180 - val_binary_crossentropy: 0.6527 - val_kl_divergence: 0.3337\n",
      "Epoch 13/50\n",
      "6044/6044 [==============================] - 7s 1ms/step - loss: 0.6521 - accuracy: 0.6197 - binary_crossentropy: 0.6521 - kl_divergence: 0.3253 - val_loss: 0.6528 - val_accuracy: 0.6182 - val_binary_crossentropy: 0.6528 - val_kl_divergence: 0.3271\n",
      "Epoch 14/50\n",
      "6044/6044 [==============================] - 8s 1ms/step - loss: 0.6521 - accuracy: 0.6197 - binary_crossentropy: 0.6521 - kl_divergence: 0.3249 - val_loss: 0.6529 - val_accuracy: 0.6184 - val_binary_crossentropy: 0.6529 - val_kl_divergence: 0.3354\n",
      "Epoch 15/50\n",
      "6044/6044 [==============================] - 8s 1ms/step - loss: 0.6524 - accuracy: 0.6191 - binary_crossentropy: 0.6523 - kl_divergence: 0.3254 - val_loss: 0.6524 - val_accuracy: 0.6190 - val_binary_crossentropy: 0.6523 - val_kl_divergence: 0.3176\n",
      "Epoch 16/50\n",
      "6044/6044 [==============================] - 8s 1ms/step - loss: 0.6519 - accuracy: 0.6197 - binary_crossentropy: 0.6519 - kl_divergence: 0.3251 - val_loss: 0.6522 - val_accuracy: 0.6191 - val_binary_crossentropy: 0.6521 - val_kl_divergence: 0.3267\n",
      "Epoch 17/50\n",
      "6044/6044 [==============================] - 8s 1ms/step - loss: 0.6518 - accuracy: 0.6199 - binary_crossentropy: 0.6517 - kl_divergence: 0.3251 - val_loss: 0.6523 - val_accuracy: 0.6192 - val_binary_crossentropy: 0.6522 - val_kl_divergence: 0.3202\n",
      "Epoch 18/50\n",
      "6044/6044 [==============================] - 8s 1ms/step - loss: 0.6520 - accuracy: 0.6195 - binary_crossentropy: 0.6520 - kl_divergence: 0.3251 - val_loss: 0.6519 - val_accuracy: 0.6194 - val_binary_crossentropy: 0.6519 - val_kl_divergence: 0.3196\n",
      "Epoch 19/50\n",
      "6044/6044 [==============================] - 7s 1ms/step - loss: 0.6513 - accuracy: 0.6208 - binary_crossentropy: 0.6513 - kl_divergence: 0.3248 - val_loss: 0.6527 - val_accuracy: 0.6184 - val_binary_crossentropy: 0.6527 - val_kl_divergence: 0.3181\n",
      "Epoch 20/50\n",
      "6044/6044 [==============================] - 7s 1ms/step - loss: 0.6513 - accuracy: 0.6199 - binary_crossentropy: 0.6513 - kl_divergence: 0.3246 - val_loss: 0.6521 - val_accuracy: 0.6188 - val_binary_crossentropy: 0.6520 - val_kl_divergence: 0.3240\n",
      "Epoch 21/50\n",
      "6044/6044 [==============================] - 8s 1ms/step - loss: 0.6509 - accuracy: 0.6201 - binary_crossentropy: 0.6509 - kl_divergence: 0.3247 - val_loss: 0.6522 - val_accuracy: 0.6192 - val_binary_crossentropy: 0.6522 - val_kl_divergence: 0.3151\n",
      "Epoch 22/50\n",
      "6044/6044 [==============================] - 8s 1ms/step - loss: 0.6512 - accuracy: 0.6200 - binary_crossentropy: 0.6512 - kl_divergence: 0.3247 - val_loss: 0.6518 - val_accuracy: 0.6192 - val_binary_crossentropy: 0.6518 - val_kl_divergence: 0.3288\n",
      "Epoch 23/50\n",
      "6044/6044 [==============================] - 8s 1ms/step - loss: 0.6510 - accuracy: 0.6206 - binary_crossentropy: 0.6509 - kl_divergence: 0.3246 - val_loss: 0.6517 - val_accuracy: 0.6191 - val_binary_crossentropy: 0.6516 - val_kl_divergence: 0.3379\n",
      "Epoch 24/50\n",
      "6044/6044 [==============================] - 8s 1ms/step - loss: 0.6510 - accuracy: 0.6200 - binary_crossentropy: 0.6510 - kl_divergence: 0.3247 - val_loss: 0.6514 - val_accuracy: 0.6193 - val_binary_crossentropy: 0.6514 - val_kl_divergence: 0.3362\n",
      "Epoch 25/50\n",
      "6044/6044 [==============================] - 8s 1ms/step - loss: 0.6510 - accuracy: 0.6205 - binary_crossentropy: 0.6510 - kl_divergence: 0.3248 - val_loss: 0.6521 - val_accuracy: 0.6191 - val_binary_crossentropy: 0.6521 - val_kl_divergence: 0.3134\n",
      "Epoch 26/50\n",
      "6044/6044 [==============================] - 7s 1ms/step - loss: 0.6506 - accuracy: 0.6206 - binary_crossentropy: 0.6506 - kl_divergence: 0.3241 - val_loss: 0.6511 - val_accuracy: 0.6192 - val_binary_crossentropy: 0.6511 - val_kl_divergence: 0.3194\n",
      "Epoch 27/50\n",
      "6044/6044 [==============================] - 7s 1ms/step - loss: 0.6506 - accuracy: 0.6200 - binary_crossentropy: 0.6505 - kl_divergence: 0.3245 - val_loss: 0.6514 - val_accuracy: 0.6187 - val_binary_crossentropy: 0.6514 - val_kl_divergence: 0.3345\n",
      "Epoch 28/50\n",
      "6044/6044 [==============================] - 8s 1ms/step - loss: 0.6500 - accuracy: 0.6214 - binary_crossentropy: 0.6500 - kl_divergence: 0.3242 - val_loss: 0.6511 - val_accuracy: 0.6197 - val_binary_crossentropy: 0.6511 - val_kl_divergence: 0.3250\n",
      "Epoch 29/50\n",
      "6044/6044 [==============================] - 8s 1ms/step - loss: 0.6504 - accuracy: 0.6202 - binary_crossentropy: 0.6504 - kl_divergence: 0.3244 - val_loss: 0.6512 - val_accuracy: 0.6195 - val_binary_crossentropy: 0.6511 - val_kl_divergence: 0.3130\n",
      "Epoch 30/50\n",
      "6044/6044 [==============================] - 8s 1ms/step - loss: 0.6503 - accuracy: 0.6206 - binary_crossentropy: 0.6503 - kl_divergence: 0.3240 - val_loss: 0.6509 - val_accuracy: 0.6190 - val_binary_crossentropy: 0.6509 - val_kl_divergence: 0.3315\n",
      "Epoch 31/50\n",
      "6044/6044 [==============================] - 8s 1ms/step - loss: 0.6501 - accuracy: 0.6208 - binary_crossentropy: 0.6501 - kl_divergence: 0.3245 - val_loss: 0.6508 - val_accuracy: 0.6200 - val_binary_crossentropy: 0.6508 - val_kl_divergence: 0.3145\n",
      "Epoch 32/50\n",
      "6044/6044 [==============================] - 7s 1ms/step - loss: 0.6500 - accuracy: 0.6212 - binary_crossentropy: 0.6499 - kl_divergence: 0.3241 - val_loss: 0.6506 - val_accuracy: 0.6203 - val_binary_crossentropy: 0.6506 - val_kl_divergence: 0.3234\n",
      "Epoch 33/50\n",
      "6044/6044 [==============================] - 7s 1ms/step - loss: 0.6501 - accuracy: 0.6209 - binary_crossentropy: 0.6501 - kl_divergence: 0.3243 - val_loss: 0.6503 - val_accuracy: 0.6206 - val_binary_crossentropy: 0.6503 - val_kl_divergence: 0.3278\n",
      "Epoch 34/50\n",
      "6044/6044 [==============================] - 8s 1ms/step - loss: 0.6498 - accuracy: 0.6210 - binary_crossentropy: 0.6498 - kl_divergence: 0.3240 - val_loss: 0.6501 - val_accuracy: 0.6200 - val_binary_crossentropy: 0.6501 - val_kl_divergence: 0.3355\n",
      "Epoch 35/50\n",
      "6044/6044 [==============================] - 8s 1ms/step - loss: 0.6497 - accuracy: 0.6210 - binary_crossentropy: 0.6497 - kl_divergence: 0.3242 - val_loss: 0.6498 - val_accuracy: 0.6212 - val_binary_crossentropy: 0.6498 - val_kl_divergence: 0.3285\n",
      "Epoch 36/50\n",
      "6044/6044 [==============================] - 8s 1ms/step - loss: 0.6496 - accuracy: 0.6213 - binary_crossentropy: 0.6496 - kl_divergence: 0.3237 - val_loss: 0.6499 - val_accuracy: 0.6212 - val_binary_crossentropy: 0.6499 - val_kl_divergence: 0.3240\n",
      "Epoch 37/50\n",
      "6044/6044 [==============================] - 8s 1ms/step - loss: 0.6494 - accuracy: 0.6214 - binary_crossentropy: 0.6494 - kl_divergence: 0.3238 - val_loss: 0.6495 - val_accuracy: 0.6206 - val_binary_crossentropy: 0.6495 - val_kl_divergence: 0.3202\n",
      "Epoch 38/50\n",
      "6044/6044 [==============================] - 8s 1ms/step - loss: 0.6494 - accuracy: 0.6217 - binary_crossentropy: 0.6493 - kl_divergence: 0.3235 - val_loss: 0.6508 - val_accuracy: 0.6208 - val_binary_crossentropy: 0.6508 - val_kl_divergence: 0.3275\n",
      "Epoch 39/50\n",
      "6044/6044 [==============================] - 7s 1ms/step - loss: 0.6497 - accuracy: 0.6217 - binary_crossentropy: 0.6497 - kl_divergence: 0.3242 - val_loss: 0.6528 - val_accuracy: 0.6193 - val_binary_crossentropy: 0.6528 - val_kl_divergence: 0.3070\n",
      "Epoch 40/50\n",
      "6044/6044 [==============================] - 8s 1ms/step - loss: 0.6493 - accuracy: 0.6218 - binary_crossentropy: 0.6493 - kl_divergence: 0.3240 - val_loss: 0.6503 - val_accuracy: 0.6205 - val_binary_crossentropy: 0.6503 - val_kl_divergence: 0.3128\n",
      "Epoch 41/50\n",
      "6044/6044 [==============================] - 8s 1ms/step - loss: 0.6497 - accuracy: 0.6213 - binary_crossentropy: 0.6497 - kl_divergence: 0.3239 - val_loss: 0.6498 - val_accuracy: 0.6207 - val_binary_crossentropy: 0.6498 - val_kl_divergence: 0.3309\n",
      "Epoch 42/50\n",
      "6044/6044 [==============================] - 8s 1ms/step - loss: 0.6487 - accuracy: 0.6226 - binary_crossentropy: 0.6487 - kl_divergence: 0.3237 - val_loss: 0.6496 - val_accuracy: 0.6209 - val_binary_crossentropy: 0.6496 - val_kl_divergence: 0.3143\n",
      "Epoch 43/50\n",
      "6044/6044 [==============================] - 8s 1ms/step - loss: 0.6491 - accuracy: 0.6221 - binary_crossentropy: 0.6491 - kl_divergence: 0.3235 - val_loss: 0.6505 - val_accuracy: 0.6211 - val_binary_crossentropy: 0.6504 - val_kl_divergence: 0.3295\n",
      "Epoch 44/50\n",
      "6044/6044 [==============================] - 8s 1ms/step - loss: 0.6489 - accuracy: 0.6221 - binary_crossentropy: 0.6489 - kl_divergence: 0.3234 - val_loss: 0.6497 - val_accuracy: 0.6207 - val_binary_crossentropy: 0.6497 - val_kl_divergence: 0.3159\n",
      "Epoch 45/50\n",
      "6044/6044 [==============================] - 8s 1ms/step - loss: 0.6488 - accuracy: 0.6222 - binary_crossentropy: 0.6488 - kl_divergence: 0.3233 - val_loss: 0.6495 - val_accuracy: 0.6212 - val_binary_crossentropy: 0.6495 - val_kl_divergence: 0.3245\n",
      "Epoch 46/50\n",
      "6044/6044 [==============================] - 8s 1ms/step - loss: 0.6487 - accuracy: 0.6221 - binary_crossentropy: 0.6487 - kl_divergence: 0.3234 - val_loss: 0.6510 - val_accuracy: 0.6213 - val_binary_crossentropy: 0.6510 - val_kl_divergence: 0.3156\n",
      "Epoch 47/50\n",
      "6044/6044 [==============================] - 8s 1ms/step - loss: 0.6493 - accuracy: 0.6216 - binary_crossentropy: 0.6492 - kl_divergence: 0.3237 - val_loss: 0.6500 - val_accuracy: 0.6204 - val_binary_crossentropy: 0.6500 - val_kl_divergence: 0.3161\n",
      "Epoch 48/50\n",
      "6044/6044 [==============================] - 8s 1ms/step - loss: 0.6488 - accuracy: 0.6217 - binary_crossentropy: 0.6488 - kl_divergence: 0.3234 - val_loss: 0.6489 - val_accuracy: 0.6217 - val_binary_crossentropy: 0.6489 - val_kl_divergence: 0.3229\n",
      "Epoch 49/50\n",
      "6044/6044 [==============================] - 8s 1ms/step - loss: 0.6485 - accuracy: 0.6231 - binary_crossentropy: 0.6485 - kl_divergence: 0.3233 - val_loss: 0.6506 - val_accuracy: 0.6208 - val_binary_crossentropy: 0.6506 - val_kl_divergence: 0.3244\n",
      "Epoch 50/50\n",
      "6044/6044 [==============================] - 7s 1ms/step - loss: 0.6485 - accuracy: 0.6226 - binary_crossentropy: 0.6484 - kl_divergence: 0.3231 - val_loss: 0.6488 - val_accuracy: 0.6219 - val_binary_crossentropy: 0.6488 - val_kl_divergence: 0.3141\n"

     ]
    }
   ],
   "source": [
    "history = model.fit(train_model_input, train['like'].values.astype(np.float32),\n",
    "                    batch_size = 256,\n",
    "                    epochs = 50,\n",
    "                    verbose = 1,\n",
    "                    validation_split = 0.2,)"
   ]
  },
  {
   "cell_type": "code",
   "execution_count": 24,
   "id": "90eefe82",
   "metadata": {},
   "outputs": [],
   "source": [
    "pred_ans = model.predict(test_model_input, batch_size = 256)"
   ]
  },
  {
   "cell_type": "code",
   "execution_count": 25,
   "id": "51b3a829",
   "metadata": {},
   "outputs": [
    {
     "output_type": "execute_result",
     "data": {
      "text/plain": [
       "5.558013052157563"
      ]
     },

     "metadata": {},
     "execution_count": 25
    }
   ],
   "source": [
    "rce_like = compute_rce(pred_ans, test['like_timestamp'])\n",
    "rce_like"
   ]
  },
  {
   "cell_type": "code",
   "execution_count": 26,

   "id": "39ba6962",
   "metadata": {},
   "outputs": [
    {
     "output_type": "execute_result",
     "data": {
      "text/plain": [
       "0.5358848036096607"
      ]
     },

     "metadata": {},
     "execution_count": 26
    }
   ],
   "source": [
    "ap_like = average_precision_score(test['like_timestamp'], pred_ans)\n",
    "ap_like"
   ]
  },
  {
   "cell_type": "code",
   "execution_count": 28,
   "id": "0cb36ebf",
   "metadata": {},
   "outputs": [],
   "source": [
    "save_model(model, 'DeepFM.h5')"
   ]
  },
  {
   "cell_type": "code",
   "execution_count": 39,
   "id": "44841d90",
   "metadata": {},
   "outputs": [
    {
     "ename": "ImportError",
     "evalue": "cannot import name 'custom_objects' from 'deepctr.utils' (/home/nyongja/anaconda3/envs/dask/lib/python3.7/site-packages/deepctr/utils.py)",
     "output_type": "error",
     "traceback": [
      "\u001b[0;31m---------------------------------------------------------------------------\u001b[0m",
      "\u001b[0;31mImportError\u001b[0m                               Traceback (most recent call last)",
      "\u001b[0;32m<ipython-input-39-e699d0bfbe2d>\u001b[0m in \u001b[0;36m<module>\u001b[0;34m\u001b[0m\n\u001b[0;32m----> 1\u001b[0;31m \u001b[0;32mfrom\u001b[0m \u001b[0mdeepctr\u001b[0m\u001b[0;34m.\u001b[0m\u001b[0mutils\u001b[0m \u001b[0;32mimport\u001b[0m \u001b[0mcustom_objects\u001b[0m\u001b[0;34m\u001b[0m\u001b[0;34m\u001b[0m\u001b[0m\n\u001b[0m",
      "\u001b[0;31mImportError\u001b[0m: cannot import name 'custom_objects' from 'deepctr.utils' (/home/nyongja/anaconda3/envs/dask/lib/python3.7/site-packages/deepctr/utils.py)"
     ]
    }
   ],
   "source": [
    "from deepctr.utils import custom_objects"
   ]
  },
  {
   "cell_type": "code",
   "execution_count": 40,
   "id": "5e7ddca3",
   "metadata": {},
   "outputs": [],
   "source": [
    "import deepctr"
   ]
  },
  {
   "cell_type": "code",
   "execution_count": 41,
   "id": "e1c85c04",
   "metadata": {},
   "outputs": [
    {
     "data": {
      "text/plain": [
       "'0.8.5'"
      ]
     },
     "execution_count": 41,
     "metadata": {},
     "output_type": "execute_result"
    }
   ],
   "source": [
    "deepctr.__version__"
   ]
  },
  {
   "cell_type": "code",
   "execution_count": null,
   "id": "b43134ba",
   "metadata": {},
   "outputs": [],
   "source": []
  },
  {
   "cell_type": "code",
   "execution_count": null,
   "metadata": {},
   "outputs": [],
   "source": []
  }
 ],
 "metadata": {
  "kernelspec": {
   "name": "python3710jvsc74a57bd0c4c1a3e9c3a39a0885e9d9bd6e4723f2ede522dfea9ed13682022cc292aed1ac",
   "display_name": "Python 3.7.10 64-bit ('dask-cudf': conda)"
  },
  "language_info": {
   "codemirror_mode": {
    "name": "ipython",
    "version": 3
   },
   "file_extension": ".py",
   "mimetype": "text/x-python",
   "name": "python",
   "nbconvert_exporter": "python",
   "pygments_lexer": "ipython3",
   "version": "3.7.10"
  }
 },
 "nbformat": 4,
 "nbformat_minor": 5
}
