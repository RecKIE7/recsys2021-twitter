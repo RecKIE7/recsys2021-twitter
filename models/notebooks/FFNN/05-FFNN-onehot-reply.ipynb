{
 "cells": [
  {
   "cell_type": "code",
   "execution_count": 2,
   "id": "1ad98848",
   "metadata": {},
   "outputs": [],
   "source": [
    "import os\n",
    "import sys\n",
    "sys.path.append('../../..')\n",
    "\n",
    "import numpy as np\n",
    "import matplotlib.pyplot as plt\n",
    "import pandas as pd\n",
    "import pickle\n",
    "import joblib\n",
    "from tqdm import tqdm\n",
    "from sklearn.model_selection import train_test_split\n",
    "import tensorflow as tf\n",
    "from tensorflow import feature_column as fc\n",
    "from tensorflow.keras.models import Sequential\n",
    "from tensorflow.keras.layers import Dense\n",
    "from sklearn import preprocessing\n",
    "from sklearn.utils import shuffle\n",
    "from tensorflow.keras.models import save_model,load_model\n",
    "\n",
    "from utils.util import *\n",
    "from utils.preprocessing import *\n",
    "from utils.dataiter import Dataiter\n",
    "from utils.evaluate import calculate_ctr, compute_rce, average_precision_score\n",
    "from utils.target_encode import MTE_one_shot\n",
    "\n",
    "import tensorflow.keras.backend as K\n",
    "import core.config as conf"
   ]
  },
  {
   "cell_type": "markdown",
   "id": "c3d171de",
   "metadata": {},
   "source": [
    "## Load Data"
   ]
  },
  {
   "cell_type": "code",
   "execution_count": 3,
   "id": "4f454fd4",
   "metadata": {},
   "outputs": [],
   "source": [
    "path = f'{conf.dataset_mini_path}/train'\n",
    "train = read_data(path)\n",
    "\n",
    "path = f'{conf.dataset_mini_path}/test'\n",
    "test = read_data(path)\n",
    "\n",
    "path = f'{conf.dataset_mini_path}/valid'\n",
    "valid = read_data(path)"
   ]
  },
  {
   "cell_type": "code",
   "execution_count": 4,
   "id": "81f3202f",
   "metadata": {},
   "outputs": [],
   "source": [
    "TARGET = 'reply'"
   ]
  },
  {
   "cell_type": "markdown",
   "id": "ea98fae6",
   "metadata": {},
   "source": [
    "## Preprocessing"
   ]
  },
  {
   "cell_type": "code",
   "execution_count": 5,
   "id": "ca5e067f",
   "metadata": {},
   "outputs": [],
   "source": [
    "def set_dataframe_types(df, train):\n",
    "    df['id']   = np.arange( df.shape[0] )\n",
    "    df['id']   = df['id'].astype(np.uint32)\n",
    "\n",
    "    if train:\n",
    "        df['reply_timestamp']   = df['reply_timestamp'].fillna(0)\n",
    "        df['retweet_timestamp'] = df['retweet_timestamp'].fillna(0)\n",
    "        df['comment_timestamp'] = df['comment_timestamp'].fillna(0)\n",
    "        df['like_timestamp']    = df['like_timestamp'].fillna(0)\n",
    "\n",
    "        df['reply_timestamp']   = df['reply_timestamp'].astype(np.uint32)\n",
    "        df['retweet_timestamp'] = df['retweet_timestamp'].astype(np.uint32)\n",
    "        df['comment_timestamp'] = df['comment_timestamp'].astype(np.uint32)\n",
    "        df['like_timestamp']    = df['like_timestamp'].astype(np.uint32)\n",
    "\n",
    "    df['tweet_timestamp']         = df['tweet_timestamp'].astype( np.uint32 )\n",
    "    df['creator_follower_count']  = df['creator_follower_count'].astype( np.uint32 )\n",
    "    df['creator_following_count'] = df['creator_following_count'].astype( np.uint32 )\n",
    "    df['creator_account_creation']= df['creator_account_creation'].astype( np.uint32 )\n",
    "    df['engager_follower_count']  = df['engager_follower_count'].astype( np.uint32 )\n",
    "    df['engager_following_count'] = df['engager_following_count'].astype( np.uint32 )\n",
    "    df['engager_account_creation']= df['engager_account_creation'].astype( np.uint32 )\n",
    "\n",
    "    return df\n",
    "\n",
    "\n",
    "\n",
    "def preprocess(df, target, train):\n",
    "    df = set_dataframe_types(df, train)\n",
    "    # df = df.set_index('id')\n",
    "    # df.columns = conf.raw_features + conf.labels\n",
    "    # df = df.drop('text_tokens', axis=1)\n",
    "    \n",
    "    df = feature_extraction(df, features=conf.used_features, train=train) # extract 'used_features'\n",
    "    cols = []\n",
    "\n",
    "    return df"
   ]
  },
  {
   "cell_type": "code",
   "execution_count": 6,
   "id": "1c437b86",
   "metadata": {},
   "outputs": [],
   "source": [
    "train = preprocess(train, TARGET, True)\n",
    "valid = preprocess(valid, TARGET, True)\n",
    "test = preprocess(test, TARGET, True)"
   ]
  },
  {
   "cell_type": "markdown",
   "id": "a8b56733",
   "metadata": {},
   "source": [
    "### pickle matching"
   ]
  },
  {
   "cell_type": "markdown",
   "id": "9bb1587e",
   "metadata": {},
   "source": [
    "#### language"
   ]
  },
  {
   "cell_type": "code",
   "execution_count": 7,
   "id": "fa6fe4bc",
   "metadata": {},
   "outputs": [],
   "source": [
    "pickle_path = conf.dict_path"
   ]
  },
  {
   "cell_type": "code",
   "execution_count": 8,
   "id": "c662927c",
   "metadata": {},
   "outputs": [],
   "source": [
    "user_main_language_path = pickle_path + \"user_main_language.pkl\"\n",
    "\n",
    "if os.path.exists(user_main_language_path) :\n",
    "    with open(user_main_language_path, 'rb') as f :\n",
    "        user_main_language = pickle.load(f)"
   ]
  },
  {
   "cell_type": "code",
   "execution_count": 9,
   "id": "0a24aca5",
   "metadata": {},
   "outputs": [],
   "source": [
    "language_dict_path = pickle_path + \"language_dict.pkl\"\n",
    "\n",
    "if os.path.exists(language_dict_path ) :\n",
    "    with open(language_dict_path , 'rb') as f :\n",
    "        language_dict = pickle.load(f)"
   ]
  },
  {
   "cell_type": "code",
   "execution_count": 10,
   "id": "c3a5de04",
   "metadata": {},
   "outputs": [],
   "source": [
    "train['language'] = train.apply(lambda x : language_dict[x['language']], axis = 1)\n",
    "test['language'] = test.apply(lambda x : language_dict[x['language']], axis = 1)\n",
    "valid['language'] = valid.apply(lambda x : language_dict[x['language']], axis = 1)"
   ]
  },
  {
   "cell_type": "code",
   "execution_count": 11,
   "id": "1f7371f4",
   "metadata": {},
   "outputs": [],
   "source": [
    "del language_dict"
   ]
  },
  {
   "cell_type": "code",
   "execution_count": null,
   "metadata": {},
   "outputs": [],
   "source": []
  },
  {
   "cell_type": "code",
   "execution_count": 12,
   "id": "a4fe6e06",
   "metadata": {},
   "outputs": [],
   "source": [
    "train['creator_main_language'] = train['creator_id'].map(user_main_language)\n",
    "valid['creator_main_language'] = valid['creator_id'].map(user_main_language)\n",
    "test['creator_main_language'] = test['creator_id'].map(user_main_language)"
   ]
  },
  {
   "cell_type": "code",
   "execution_count": 13,
   "id": "d05a5326",
   "metadata": {},
   "outputs": [],
   "source": [
    "train['engager_main_language'] = train['engager_id'].map(user_main_language)\n",
    "valid['engager_main_language'] = valid['engager_id'].map(user_main_language)\n",
    "test['engager_main_language'] = test['engager_id'].map(user_main_language)"
   ]
  },
  {
   "cell_type": "code",
   "execution_count": 14,
   "id": "853f493e",
   "metadata": {},
   "outputs": [],
   "source": [
    "train['creator_and_engager_have_same_main_language'] = train.apply(lambda x : 1 if x['creator_main_language'] == x['engager_main_language'] else 0, axis = 1)\n",
    "valid['creator_and_engager_have_same_main_language'] = valid.apply(lambda x : 1 if x['creator_main_language'] == x['engager_main_language'] else 0, axis = 1)\n",
    "test['creator_and_engager_have_same_main_language'] = test.apply(lambda x : 1 if x['creator_main_language'] == x['engager_main_language'] else 0, axis = 1)"
   ]
  },
  {
   "source": [
    "train['is_tweet_in_creator_main_language'] = train.apply(lambda x : 1 if x['creator_main_language'] == x['language'] else 0, axis = 1)\n",
    "valid['is_tweet_in_creator_main_language'] = valid.apply(lambda x : 1 if x['creator_main_language'] == x['language'] else 0, axis = 1)\n",
    "test['is_tweet_in_creator_main_language'] = test.apply(lambda x : 1 if x['creator_main_language'] == x['language'] else 0, axis = 1)    "
   ],
   "cell_type": "code",
   "metadata": {},
   "execution_count": 15,
   "outputs": []
  },
  {
   "cell_type": "code",
   "execution_count": 16,
   "id": "e198e706",
   "metadata": {},
   "outputs": [],
   "source": [
    "train['is_tweet_in_engager_main_language'] = train.apply(lambda x : 1 if x['engager_main_language'] == x['language'] else 0, axis = 1)\n",
    "valid['is_tweet_in_engager_main_language'] = valid.apply(lambda x : 1 if x['engager_main_language'] == x['language'] else 0, axis = 1)\n",
    "test['is_tweet_in_engager_main_language'] = test.apply(lambda x : 1 if x['engager_main_language'] == x['language'] else 0, axis = 1)"
   ]
  },
  {
   "cell_type": "code",
   "execution_count": 17,
   "id": "956ee916",
   "metadata": {},
   "outputs": [],
   "source": [
    "del user_main_language"
   ]
  },
  {
   "cell_type": "code",
   "execution_count": 18,
   "metadata": {},
   "outputs": [
    {
     "output_type": "execute_result",
     "data": {
      "text/plain": [
       "                                         text_tokens  \\\n",
       "0  101\\t147\\t69849\\t11447\\t57277\\t63310\\t136\\t106...   \n",
       "1  101\\t56898\\t137\\t10799\\t11039\\t168\\t26978\\t131...   \n",
       "2  101\\t13304\\t179\\t14902\\t74788\\t10390\\t33993\\t1...   \n",
       "3  101\\t620\\t55399\\t17451\\t69304\\t82692\\t572\\t105...   \n",
       "4  101\\t10747\\t12723\\t10124\\t29956\\t91518\\t10142\\...   \n",
       "\n",
       "                         creator_id                        engager_id  \\\n",
       "0  F09233A58769507FD4E6FD618BCFA5B6  CFFD4D0D3AAF28B5397A98E1F4C92C77   \n",
       "1  46BEEE566BB708F18075A60FDDAA8503  E0F9A3BB331C7B613B165F32F8D273BE   \n",
       "2  83F59BF2E0778AC4078FA3F7B71F5960  58ABF7FB24D65FB94C6487915A889460   \n",
       "3  C96110509F8B6256CE08A8AE85ED75DB  76730357A84D1D04A662FDB1449F1AFF   \n",
       "4  2031F18622E7C6A30E702D33776BF2C1  9008C5AB3CB46623ADBD4C68A2A2D088   \n",
       "\n",
       "                           tweet_id  tweet_type  language  \\\n",
       "0  6238B9E15E83B6D477394E9D80B3784E           3        10   \n",
       "1  731FB90C6CFEF1B71D322106573F71DB           0         1   \n",
       "2  89276E5272498E858EE8AF691EBF0951           3         5   \n",
       "3  502FDBC0EB4E7AB157D38262817716EB           3        12   \n",
       "4  CF1F523F7D4D4139E5FD3EBD72F27D5A           3         0   \n",
       "\n",
       "   creator_account_creation  creator_follower_count  creator_following_count  \\\n",
       "0                1525021638                     560                      645   \n",
       "1                1348805977                    2591                     3690   \n",
       "2                1583939938                     174                      146   \n",
       "3                1306675315                  115852                     2124   \n",
       "4                1308377880                 1208919                     1101   \n",
       "\n",
       "   engager_follower_count  ...  like  dt_day  dt_dow  dt_hour  len_domains  \\\n",
       "0                     595  ...   0.0       9       1       15            0   \n",
       "1                     514  ...   0.0       9       1        9            0   \n",
       "2                     376  ...   1.0      18       3       15            0   \n",
       "3                   22461  ...   0.0       8       0        2            1   \n",
       "4                     388  ...   1.0      11       3       16            0   \n",
       "\n",
       "   creator_main_language  engager_main_language  \\\n",
       "0                      9                     35   \n",
       "1                      1                      1   \n",
       "2                      5                      4   \n",
       "3                     12                      1   \n",
       "4                      0                     13   \n",
       "\n",
       "   creator_and_engager_have_same_main_language  \\\n",
       "0                                            0   \n",
       "1                                            1   \n",
       "2                                            0   \n",
       "3                                            0   \n",
       "4                                            0   \n",
       "\n",
       "   is_tweet_in_creator_main_language  is_tweet_in_engager_main_language  \n",
       "0                                  0                                  0  \n",
       "1                                  1                                  1  \n",
       "2                                  1                                  0  \n",
       "3                                  1                                  0  \n",
       "4                                  1                                  0  \n",
       "\n",
       "[5 rows x 27 columns]"
      ],
      "text/html": "<div>\n<style scoped>\n    .dataframe tbody tr th:only-of-type {\n        vertical-align: middle;\n    }\n\n    .dataframe tbody tr th {\n        vertical-align: top;\n    }\n\n    .dataframe thead th {\n        text-align: right;\n    }\n</style>\n<table border=\"1\" class=\"dataframe\">\n  <thead>\n    <tr style=\"text-align: right;\">\n      <th></th>\n      <th>text_tokens</th>\n      <th>creator_id</th>\n      <th>engager_id</th>\n      <th>tweet_id</th>\n      <th>tweet_type</th>\n      <th>language</th>\n      <th>creator_account_creation</th>\n      <th>creator_follower_count</th>\n      <th>creator_following_count</th>\n      <th>engager_follower_count</th>\n      <th>...</th>\n      <th>like</th>\n      <th>dt_day</th>\n      <th>dt_dow</th>\n      <th>dt_hour</th>\n      <th>len_domains</th>\n      <th>creator_main_language</th>\n      <th>engager_main_language</th>\n      <th>creator_and_engager_have_same_main_language</th>\n      <th>is_tweet_in_creator_main_language</th>\n      <th>is_tweet_in_engager_main_language</th>\n    </tr>\n  </thead>\n  <tbody>\n    <tr>\n      <th>0</th>\n      <td>101\\t147\\t69849\\t11447\\t57277\\t63310\\t136\\t106...</td>\n      <td>F09233A58769507FD4E6FD618BCFA5B6</td>\n      <td>CFFD4D0D3AAF28B5397A98E1F4C92C77</td>\n      <td>6238B9E15E83B6D477394E9D80B3784E</td>\n      <td>3</td>\n      <td>10</td>\n      <td>1525021638</td>\n      <td>560</td>\n      <td>645</td>\n      <td>595</td>\n      <td>...</td>\n      <td>0.0</td>\n      <td>9</td>\n      <td>1</td>\n      <td>15</td>\n      <td>0</td>\n      <td>9</td>\n      <td>35</td>\n      <td>0</td>\n      <td>0</td>\n      <td>0</td>\n    </tr>\n    <tr>\n      <th>1</th>\n      <td>101\\t56898\\t137\\t10799\\t11039\\t168\\t26978\\t131...</td>\n      <td>46BEEE566BB708F18075A60FDDAA8503</td>\n      <td>E0F9A3BB331C7B613B165F32F8D273BE</td>\n      <td>731FB90C6CFEF1B71D322106573F71DB</td>\n      <td>0</td>\n      <td>1</td>\n      <td>1348805977</td>\n      <td>2591</td>\n      <td>3690</td>\n      <td>514</td>\n      <td>...</td>\n      <td>0.0</td>\n      <td>9</td>\n      <td>1</td>\n      <td>9</td>\n      <td>0</td>\n      <td>1</td>\n      <td>1</td>\n      <td>1</td>\n      <td>1</td>\n      <td>1</td>\n    </tr>\n    <tr>\n      <th>2</th>\n      <td>101\\t13304\\t179\\t14902\\t74788\\t10390\\t33993\\t1...</td>\n      <td>83F59BF2E0778AC4078FA3F7B71F5960</td>\n      <td>58ABF7FB24D65FB94C6487915A889460</td>\n      <td>89276E5272498E858EE8AF691EBF0951</td>\n      <td>3</td>\n      <td>5</td>\n      <td>1583939938</td>\n      <td>174</td>\n      <td>146</td>\n      <td>376</td>\n      <td>...</td>\n      <td>1.0</td>\n      <td>18</td>\n      <td>3</td>\n      <td>15</td>\n      <td>0</td>\n      <td>5</td>\n      <td>4</td>\n      <td>0</td>\n      <td>1</td>\n      <td>0</td>\n    </tr>\n    <tr>\n      <th>3</th>\n      <td>101\\t620\\t55399\\t17451\\t69304\\t82692\\t572\\t105...</td>\n      <td>C96110509F8B6256CE08A8AE85ED75DB</td>\n      <td>76730357A84D1D04A662FDB1449F1AFF</td>\n      <td>502FDBC0EB4E7AB157D38262817716EB</td>\n      <td>3</td>\n      <td>12</td>\n      <td>1306675315</td>\n      <td>115852</td>\n      <td>2124</td>\n      <td>22461</td>\n      <td>...</td>\n      <td>0.0</td>\n      <td>8</td>\n      <td>0</td>\n      <td>2</td>\n      <td>1</td>\n      <td>12</td>\n      <td>1</td>\n      <td>0</td>\n      <td>1</td>\n      <td>0</td>\n    </tr>\n    <tr>\n      <th>4</th>\n      <td>101\\t10747\\t12723\\t10124\\t29956\\t91518\\t10142\\...</td>\n      <td>2031F18622E7C6A30E702D33776BF2C1</td>\n      <td>9008C5AB3CB46623ADBD4C68A2A2D088</td>\n      <td>CF1F523F7D4D4139E5FD3EBD72F27D5A</td>\n      <td>3</td>\n      <td>0</td>\n      <td>1308377880</td>\n      <td>1208919</td>\n      <td>1101</td>\n      <td>388</td>\n      <td>...</td>\n      <td>1.0</td>\n      <td>11</td>\n      <td>3</td>\n      <td>16</td>\n      <td>0</td>\n      <td>0</td>\n      <td>13</td>\n      <td>0</td>\n      <td>1</td>\n      <td>0</td>\n    </tr>\n  </tbody>\n</table>\n<p>5 rows × 27 columns</p>\n</div>"
     },
     "metadata": {},
     "execution_count": 18
    }
   ],
   "source": [
    "train.head()"
   ]
  },
  {
   "cell_type": "markdown",
   "id": "ed1d1017",
   "metadata": {},
   "source": []
  },
  {
   "cell_type": "markdown",
   "id": "2a935eee",
   "metadata": {},
   "source": [
    "#### engagements"
   ]
  },
  {
   "cell_type": "code",
   "execution_count": 19,
   "id": "13f67b51",
   "metadata": {},
   "outputs": [],
   "source": [
    "engagement_like_path = pickle_path + \"engagement-like.pkl\"\n",
    "\n",
    "if os.path.exists(engagement_like_path ) :\n",
    "    with open(engagement_like_path , 'rb') as f :\n",
    "        engagement_like = pickle.load(f)"
   ]
  },
  {
   "cell_type": "code",
   "execution_count": 20,
   "metadata": {},
   "outputs": [],
   "source": [
    "train['engager_feature_number_of_previous_like_engagement'] = train.apply(lambda x : engagement_like[x['engager_id']], axis = 1)\n",
    "valid['engager_feature_number_of_previous_like_engagement'] = valid.apply(lambda x : engagement_like[x['engager_id']], axis = 1)\n",
    "test['engager_feature_number_of_previous_like_engagement'] = test.apply(lambda x : engagement_like[x['engager_id']], axis = 1)\n",
    "\n"
   ]
  },
  {
   "cell_type": "code",
   "execution_count": 21,
   "id": "2cf3d141",
   "metadata": {},
   "outputs": [],
   "source": [
    "engagement_like_path = pickle_path + \"creator-engagement-like.pkl\"\n",
    "\n",
    "if os.path.exists(engagement_like_path ) :\n",
    "    with open(engagement_like_path , 'rb') as f :\n",
    "        creator_engagement_like = pickle.load(f)\n",
    "\n",
    "train['creator_feature_number_of_previous_like_engagement'] = train.apply(lambda x : creator_engagement_like[x['creator_id']], axis = 1)\n",
    "valid['creator_feature_number_of_previous_like_engagement'] = valid.apply(lambda x : creator_engagement_like[x['creator_id']], axis = 1)\n",
    "test['creator_feature_number_of_previous_like_engagement'] = test.apply(lambda x : creator_engagement_like[x['creator_id']], axis = 1)"
   ]
  },
  {
   "cell_type": "code",
   "execution_count": 22,
   "metadata": {},
   "outputs": [],
   "source": [
    "del engagement_like\n",
    "del creator_engagement_like"
   ]
  },
  {
   "cell_type": "code",
   "execution_count": 23,
   "id": "607fc718",
   "metadata": {},
   "outputs": [],
   "source": [
    "engagement_reply_path = pickle_path + \"engagement-reply.pkl\"\n",
    "\n",
    "if os.path.exists(engagement_reply_path ) :\n",
    "    with open(engagement_reply_path , 'rb') as f :\n",
    "        engagement_reply = pickle.load(f)"
   ]
  },
  {
   "cell_type": "code",
   "execution_count": 24,
   "id": "97f54f18",
   "metadata": {},
   "outputs": [],
   "source": [
    "train['engager_feature_number_of_previous_reply_engagement'] = train.apply(lambda x : engagement_reply[x['engager_id']], axis = 1)\n",
    "valid['engager_feature_number_of_previous_reply_engagement'] = valid.apply(lambda x : engagement_reply[x['engager_id']], axis = 1)\n",
    "test['engager_feature_number_of_previous_reply_engagement'] = test.apply(lambda x : engagement_reply[x['engager_id']], axis = 1)\n"
   ]
  },
  {
   "cell_type": "code",
   "execution_count": 25,
   "metadata": {},
   "outputs": [],
   "source": [
    "engagement_reply_path = pickle_path + \"creator-engagement-reply.pkl\"\n",
    "\n",
    "if os.path.exists(engagement_reply_path ) :\n",
    "    with open(engagement_reply_path , 'rb') as f :\n",
    "        creator_engagement_reply = pickle.load(f)\n",
    "        \n",
    "train['creator_feature_number_of_previous_reply_engagement'] = train.apply(lambda x : creator_engagement_reply[x['creator_id']], axis = 1)\n",
    "valid['creator_feature_number_of_previous_reply_engagement'] = valid.apply(lambda x : creator_engagement_reply[x['creator_id']], axis = 1)\n",
    "test['creator_feature_number_of_previous_reply_engagement'] = test.apply(lambda x : creator_engagement_reply[x['creator_id']], axis = 1)"
   ]
  },
  {
   "cell_type": "code",
   "execution_count": 26,
   "metadata": {},
   "outputs": [],
   "source": [
    "del engagement_reply\n",
    "del creator_engagement_reply"
   ]
  },
  {
   "cell_type": "code",
   "execution_count": 27,
   "id": "c8334b47",
   "metadata": {},
   "outputs": [],
   "source": [
    "engagement_retweet_path = pickle_path + \"engagement-retweet.pkl\"\n",
    "\n",
    "if os.path.exists(engagement_retweet_path ) :\n",
    "    with open(engagement_retweet_path , 'rb') as f :\n",
    "        engagement_retweet = pickle.load(f)"
   ]
  },
  {
   "cell_type": "code",
   "execution_count": 28,
   "id": "f23be26b",
   "metadata": {},
   "outputs": [],
   "source": [
    "train['engager_feature_number_of_previous_retweet_engagement'] = train.apply(lambda x : engagement_retweet[x['engager_id']], axis = 1)\n",
    "valid['engager_feature_number_of_previous_retweet_engagement'] = valid.apply(lambda x : engagement_retweet[x['engager_id']], axis = 1)\n",
    "test['engager_feature_number_of_previous_retweet_engagement'] = test.apply(lambda x : engagement_retweet[x['engager_id']], axis = 1)\n"
   ]
  },
  {
   "cell_type": "code",
   "execution_count": 29,
   "metadata": {},
   "outputs": [],
   "source": [
    "engagement_retweet_path = pickle_path + \"creator-engagement-retweet.pkl\"\n",
    "\n",
    "if os.path.exists(engagement_retweet_path ) :\n",
    "    with open(engagement_retweet_path , 'rb') as f :\n",
    "        creator_engagement_retweet = pickle.load(f)\n",
    "\n",
    "train['creator_feature_number_of_previous_retweet_engagement'] = train.apply(lambda x : creator_engagement_retweet[x['creator_id']], axis = 1)\n",
    "valid['creator_feature_number_of_previous_retweet_engagement'] = valid.apply(lambda x : creator_engagement_retweet[x['creator_id']], axis = 1)\n",
    "test['creator_feature_number_of_previous_retweet_engagement'] = test.apply(lambda x : creator_engagement_retweet[x['creator_id']], axis = 1)\n"
   ]
  },
  {
   "cell_type": "code",
   "execution_count": 30,
   "metadata": {},
   "outputs": [],
   "source": [
    "del engagement_retweet\n",
    "del creator_engagement_retweet"
   ]
  },
  {
   "cell_type": "code",
   "execution_count": 31,
   "id": "1226d884",
   "metadata": {},
   "outputs": [],
   "source": [
    "engagement_comment_path = pickle_path + \"engagement-comment.pkl\"\n",
    "\n",
    "if os.path.exists(engagement_comment_path ) :\n",
    "    with open(engagement_comment_path , 'rb') as f :\n",
    "        engagement_comment = pickle.load(f)"
   ]
  },
  {
   "cell_type": "code",
   "execution_count": 32,
   "id": "8939b924",
   "metadata": {},
   "outputs": [],
   "source": [
    "train['engager_feature_number_of_previous_comment_engagement'] = train.apply(lambda x : engagement_comment[x['engager_id']], axis = 1)\n",
    "valid['engager_feature_number_of_previous_comment_engagement'] = valid.apply(lambda x : engagement_comment[x['engager_id']], axis = 1)\n",
    "test['engager_feature_number_of_previous_comment_engagement'] = test.apply(lambda x : engagement_comment[x['engager_id']], axis = 1)\n",
    "\n"
   ]
  },
  {
   "cell_type": "code",
   "execution_count": 33,
   "metadata": {},
   "outputs": [],
   "source": [
    "engagement_comment_path = pickle_path + \"creator-engagement-comment.pkl\"\n",
    "\n",
    "if os.path.exists(engagement_comment_path ) :\n",
    "    with open(engagement_comment_path , 'rb') as f :\n",
    "        creator_engagement_comment = pickle.load(f)\n",
    "\n",
    "train['creator_feature_number_of_previous_comment_engagement'] = train.apply(lambda x : creator_engagement_comment[x['creator_id']], axis = 1)\n",
    "valid['creator_feature_number_of_previous_comment_engagement'] = valid.apply(lambda x : creator_engagement_comment[x['creator_id']], axis = 1)\n",
    "test['creator_feature_number_of_previous_comment_engagement'] = test.apply(lambda x : creator_engagement_comment[x['creator_id']], axis = 1)\n"
   ]
  },
  {
   "cell_type": "code",
   "execution_count": 34,
   "metadata": {},
   "outputs": [],
   "source": [
    "del engagement_comment\n",
    "del creator_engagement_comment"
   ]
  },
  {
   "cell_type": "code",
   "execution_count": 35,
   "id": "bcec0011",
   "metadata": {},
   "outputs": [],
   "source": [
    "train['number_of_engagements_positive'] = train.apply(lambda x : x['engager_feature_number_of_previous_like_engagement'] + x['engager_feature_number_of_previous_retweet_engagement'] + x['engager_feature_number_of_previous_reply_engagement'] + x['engager_feature_number_of_previous_comment_engagement'], axis = 1)\n",
    "valid['number_of_engagements_positive'] = valid.apply(lambda x : x['engager_feature_number_of_previous_like_engagement'] + x['engager_feature_number_of_previous_retweet_engagement'] + x['engager_feature_number_of_previous_reply_engagement'] + x['engager_feature_number_of_previous_comment_engagement'], axis = 1)\n",
    "test['number_of_engagements_positive'] = test.apply(lambda x : x['engager_feature_number_of_previous_like_engagement'] + x['engager_feature_number_of_previous_retweet_engagement'] + x['engager_feature_number_of_previous_reply_engagement'] + x['engager_feature_number_of_previous_comment_engagement'], axis = 1)"
   ]
  },
  {
   "cell_type": "code",
   "execution_count": 36,
   "metadata": {},
   "outputs": [],
   "source": [
    "train['creator_number_of_engagements_positive'] = train.apply(lambda x : x['creator_feature_number_of_previous_like_engagement'] + x['creator_feature_number_of_previous_retweet_engagement'] + x['creator_feature_number_of_previous_reply_engagement'] + x['creator_feature_number_of_previous_comment_engagement'], axis = 1)\n",
    "valid['creator_number_of_engagements_positive'] = valid.apply(lambda x : x['creator_feature_number_of_previous_like_engagement'] + x['creator_feature_number_of_previous_retweet_engagement'] + x['creator_feature_number_of_previous_reply_engagement'] + x['creator_feature_number_of_previous_comment_engagement'], axis = 1)\n",
    "test['creator_number_of_engagements_positive'] = test.apply(lambda x : x['creator_feature_number_of_previous_like_engagement'] + x['creator_feature_number_of_previous_retweet_engagement'] + x['creator_feature_number_of_previous_reply_engagement'] + x['creator_feature_number_of_previous_comment_engagement'], axis = 1)"
   ]
  },
  {
   "cell_type": "code",
   "execution_count": 37,
   "id": "8facf1f0",
   "metadata": {},
   "outputs": [],
   "source": [
    "# train = train.drop('engager_feature_number_of_previous_reply_engagement', axis = 1)\n",
    "train = train.drop('engager_feature_number_of_previous_like_engagement', axis = 1)\n",
    "train = train.drop('engager_feature_number_of_previous_retweet_engagement', axis = 1)\n",
    "train = train.drop('engager_feature_number_of_previous_comment_engagement', axis = 1)"
   ]
  },
  {
   "cell_type": "code",
   "execution_count": 38,
   "metadata": {},
   "outputs": [],
   "source": [
    "# train = train.drop('engager_feature_number_of_previous_reply_engagement', axis = 1)\n",
    "train = train.drop('creator_feature_number_of_previous_like_engagement', axis = 1)\n",
    "train = train.drop('creator_feature_number_of_previous_retweet_engagement', axis = 1)\n",
    "train = train.drop('creator_feature_number_of_previous_comment_engagement', axis = 1)"
   ]
  },
  {
   "cell_type": "code",
   "execution_count": 39,
   "id": "80ec6f20",
   "metadata": {},
   "outputs": [],
   "source": [
    "# valid = valid.drop('engager_feature_number_of_previous_reply_engagement', axis = 1)\n",
    "valid = valid.drop('engager_feature_number_of_previous_like_engagement', axis = 1)\n",
    "valid = valid.drop('engager_feature_number_of_previous_retweet_engagement', axis = 1)\n",
    "valid = valid.drop('engager_feature_number_of_previous_comment_engagement', axis = 1)"
   ]
  },
  {
   "cell_type": "code",
   "execution_count": 40,
   "metadata": {},
   "outputs": [],
   "source": [
    "# valid = valid.drop('creator_feature_number_of_previous_reply_engagement', axis = 1)\n",
    "valid = valid.drop('creator_feature_number_of_previous_like_engagement', axis = 1)\n",
    "valid = valid.drop('creator_feature_number_of_previous_retweet_engagement', axis = 1)\n",
    "valid = valid.drop('creator_feature_number_of_previous_comment_engagement', axis = 1)"
   ]
  },
  {
   "cell_type": "code",
   "execution_count": 41,
   "metadata": {},
   "outputs": [],
   "source": [
    "# test = test.drop('engager_feature_number_of_previous_reply_engagement', axis = 1)\n",
    "test = test.drop('engager_feature_number_of_previous_like_engagement', axis = 1)\n",
    "test = test.drop('engager_feature_number_of_previous_retweet_engagement', axis = 1)\n",
    "test = test.drop('engager_feature_number_of_previous_comment_engagement', axis = 1)"
   ]
  },
  {
   "cell_type": "code",
   "execution_count": 42,
   "id": "3aa83e1b",
   "metadata": {},
   "outputs": [],
   "source": [
    "# test = test.drop('creator_feature_number_of_previous_reply_engagement', axis = 1)\n",
    "test = test.drop('creator_feature_number_of_previous_like_engagement', axis = 1)\n",
    "test = test.drop('creator_feature_number_of_previous_retweet_engagement', axis = 1)\n",
    "test = test.drop('creator_feature_number_of_previous_comment_engagement', axis = 1)"
   ]
  },
  {
   "cell_type": "code",
   "execution_count": 43,
   "id": "62f40b81",
   "metadata": {},
   "outputs": [],
   "source": [
    "# train['number_of_engagements_ratio_like'] = train.apply(lambda x : x['engager_feature_number_of_previous_like_engagement'] / x['number_of_engagements_positive'] if x['number_of_engagements_positive'] != 0 else 0, axis = 1)\n",
    "# valid['number_of_engagements_ratio_like'] = valid.apply(lambda x : x['engager_feature_number_of_previous_like_engagement'] / x['number_of_engagements_positive'] if x['number_of_engagements_positive'] != 0 else 0, axis = 1)\n",
    "# test['number_of_engagements_ratio_like'] = test.apply(lambda x : x['engager_feature_number_of_previous_like_engagement'] / x['number_of_engagements_positive'] if x['number_of_engagements_positive'] != 0 else 0, axis = 1)"
   ]
  },
  {
   "cell_type": "code",
   "execution_count": 44,
   "id": "56416eb0",
   "metadata": {},
   "outputs": [],
   "source": [
    "train[f'engager_number_of_engagements_ratio_{TARGET}'] = train.apply(lambda x : x[f'engager_feature_number_of_previous_{TARGET}_engagement'] / x['number_of_engagements_positive'] if x['number_of_engagements_positive'] != 0 else 0, axis = 1)\n",
    "valid[f'engager_number_of_engagements_ratio_{TARGET}'] = valid.apply(lambda x : x[f'engager_feature_number_of_previous_{TARGET}_engagement'] / x['number_of_engagements_positive'] if x['number_of_engagements_positive'] != 0 else 0, axis = 1)\n",
    "test[f'engager_number_of_engagements_ratio_{TARGET}'] = test.apply(lambda x : x[f'engager_feature_number_of_previous_{TARGET}_engagement'] / x['number_of_engagements_positive'] if x['number_of_engagements_positive'] != 0 else 0, axis = 1)"
   ]
  },
  {
   "cell_type": "code",
   "execution_count": 45,
   "metadata": {},
   "outputs": [],
   "source": [
    "train[f'creator_number_of_engagements_ratio_{TARGET}'] = train.apply(lambda x : x[f'creator_feature_number_of_previous_{TARGET}_engagement'] / x['creator_number_of_engagements_positive'] if x['creator_number_of_engagements_positive'] != 0 else 0, axis = 1)\n",
    "valid[f'creator_number_of_engagements_ratio_{TARGET}'] = valid.apply(lambda x : x[f'creator_feature_number_of_previous_{TARGET}_engagement'] / x['creator_number_of_engagements_positive'] if x['creator_number_of_engagements_positive'] != 0 else 0, axis = 1)\n",
    "test[f'creator_number_of_engagements_ratio_{TARGET}'] = test.apply(lambda x : x[f'creator_feature_number_of_previous_{TARGET}_engagement'] / x['creator_number_of_engagements_positive'] if x['creator_number_of_engagements_positive'] != 0 else 0, axis = 1)"
   ]
  },
  {
   "cell_type": "code",
   "execution_count": null,
   "id": "ff04af08",
   "metadata": {},
   "outputs": [],
   "source": []
  },
  {
   "source": [
    "## save"
   ],
   "cell_type": "markdown",
   "metadata": {}
  },
  {
   "cell_type": "code",
   "execution_count": 47,
   "metadata": {},
   "outputs": [
    {
     "output_type": "execute_result",
     "data": {
      "text/plain": [
       "Index(['text_tokens', 'creator_id', 'engager_id', 'tweet_id', 'tweet_type',\n",
       "       'language', 'creator_account_creation', 'creator_follower_count',\n",
       "       'creator_following_count', 'engager_follower_count',\n",
       "       'engager_following_count', 'domains', 'media', 'tweet_timestamp',\n",
       "       'reply', 'retweet', 'comment', 'like', 'dt_day', 'dt_dow', 'dt_hour',\n",
       "       'len_domains', 'creator_main_language', 'engager_main_language',\n",
       "       'creator_and_engager_have_same_main_language',\n",
       "       'is_tweet_in_creator_main_language',\n",
       "       'is_tweet_in_engager_main_language',\n",
       "       'engager_feature_number_of_previous_reply_engagement',\n",
       "       'creator_feature_number_of_previous_reply_engagement',\n",
       "       'number_of_engagements_positive',\n",
       "       'creator_number_of_engagements_positive',\n",
       "       'engager_number_of_engagements_ratio_reply',\n",
       "       'creator_number_of_engagements_ratio_reply'],\n",
       "      dtype='object')"
      ]
     },
     "metadata": {},
     "execution_count": 47
    }
   ],
   "source": [
    "train.columns"
   ]
  },
  {
   "cell_type": "code",
   "execution_count": 57,
   "metadata": {},
   "outputs": [],
   "source": [
    "train.to_csv('train2.csv', index=False, header=None)"
   ]
  },
  {
   "cell_type": "code",
   "execution_count": 58,
   "metadata": {},
   "outputs": [],
   "source": [
    "test.to_csv('test2.csv', index=False, header=None)"
   ]
  },
  {
   "cell_type": "code",
   "execution_count": 59,
   "metadata": {},
   "outputs": [],
   "source": [
    "valid.to_csv('valid2.csv', index=False, header=None)"
   ]
  },
  {
   "cell_type": "code",
   "execution_count": 53,
   "metadata": {},
   "outputs": [
    {
     "output_type": "stream",
     "name": "stderr",
     "text": [
      "/home/hyez/anaconda3/envs/recsys/lib/python3.8/site-packages/IPython/core/interactiveshell.py:3165: DtypeWarning: Columns (4,5,6,7,8,9,10,11,12,13,14,15,16,17,18,19,20,21,22,23,24,25,26,27,28,29,30,31,32) have mixed types.Specify dtype option on import or set low_memory=False.\n  has_raised = await self.run_ast_nodes(code_ast.body, cell_name,\n"
     ]
    }
   ],
   "source": [
    "valid = pd.read_csv('valid.csv', names=['text_tokens', 'creator_id', 'engager_id', 'tweet_id', 'tweet_type',\n",
    "       'language', 'creator_account_creation', 'creator_follower_count',\n",
    "       'creator_following_count', 'engager_follower_count',\n",
    "       'engager_following_count', 'domains', 'media', 'tweet_timestamp',\n",
    "       'reply', 'retweet', 'comment', 'like', 'dt_day', 'dt_dow', 'dt_hour',\n",
    "       'len_domains', 'creator_main_language', 'engager_main_language',\n",
    "       'creator_and_engager_have_same_main_language',\n",
    "       'is_tweet_in_creator_main_language',\n",
    "       'is_tweet_in_engager_main_language',\n",
    "       'engager_feature_number_of_previous_reply_engagement',\n",
    "       'creator_feature_number_of_previous_reply_engagement',\n",
    "       'number_of_engagements_positive',\n",
    "       'creator_number_of_engagements_positive',\n",
    "       'engager_number_of_engagements_ratio_reply',\n",
    "       'creator_number_of_engagements_ratio_reply'], header=None)"
   ]
  },
  {
   "cell_type": "code",
   "execution_count": 56,
   "metadata": {},
   "outputs": [
    {
     "output_type": "execute_result",
     "data": {
      "text/plain": [
       "                                              text_tokens  \\\n",
       "0                                             text_tokens   \n",
       "1       101\\t34532\\t107990\\t100596\\t118\\t10282\\t12271\\...   \n",
       "2       101\\t56898\\t137\\t145\\t16368\\t15797\\t131\\t14269...   \n",
       "3       101\\t14925\\t10253\\t117\\t146\\t100\\t181\\t22090\\t...   \n",
       "4       101\\t56898\\t137\\t17339\\t12871\\t25983\\t10107\\t1...   \n",
       "...                                                   ...   \n",
       "853747  101\\t149\\t11403\\t32071\\t12396\\t11259\\t14453\\t7...   \n",
       "853748  101\\t56898\\t137\\t11252\\t10371\\t168\\t14657\\t183...   \n",
       "853749  101\\t48609\\t70215\\t96862\\t10147\\t27158\\t55348\\...   \n",
       "853750  101\\t41859\\t20142\\t22659\\t22659\\t22659\\t117\\t4...   \n",
       "853751  101\\t146\\t112\\t181\\t32650\\t11008\\t16405\\t10117...   \n",
       "\n",
       "                              creator_id                        engager_id  \\\n",
       "0                             creator_id                        engager_id   \n",
       "1       B7C398B6F0148F0230EE5E846D64D391  7A2D6C23268AF42EF2621EA707960FBD   \n",
       "2       BF3A06655F61FFAB631FE17783384B8A  9A4F72D5C7BD6B9E25B46B8E2EF05AE3   \n",
       "3       A10E91C01E773E0ADD91BDAA26CB36E5  020741F0F4E619E9B0539DCCD01C0C8E   \n",
       "4       22DFD943107BE2CEA6031FE2BDC1C8C5  F637B6EDC18BA8B34312163D24B5C692   \n",
       "...                                  ...                               ...   \n",
       "853747  CF159F2764CFCA5A2380D8FBC2B2CB58  02053D8928FCB2AB0BBB9688A1672412   \n",
       "853748  3BE68A64ABCEAD0BDDE1961A76481DC5  826DF47204ABD3BDC508D12F8157812F   \n",
       "853749  B06978B316E5A0242CC28AE79E526298  E8A29D092E38C02672A348B1C00CA701   \n",
       "853750  B253D00CB1F4136E052C5FCEC8918184  FA5B494FF70FF73DFCF6FA7DAE082352   \n",
       "853751  2FF5F3623C55F1BC8E771D148B0B5DC9  9DEBD9C18B37BF4BECFDB495A977E4D6   \n",
       "\n",
       "                                tweet_id  tweet_type  language  \\\n",
       "0                               tweet_id  tweet_type  language   \n",
       "1       C003F8DE3FD66A8926110D5A33756969           3         9   \n",
       "2       440F5D999D8E6D8A3510D3F488472B9A           0        15   \n",
       "3       0E8A8968C38A06A8A0BA1BB45CD2AAC3           1         0   \n",
       "4       CE3B3753BB98CB62CDFE07BDA0B76037           0         0   \n",
       "...                                  ...         ...       ...   \n",
       "853747  B3EC4B1A17FA9C96B71062027F0B7722           3         0   \n",
       "853748  DE3FC27CF3088B0866AF6035F3100147           0         3   \n",
       "853749  B906FFEBAB0CE22764F56776D6E3B09D           3         3   \n",
       "853750  5EFA4E6F5129F6AE7EB0843099130B65           3         3   \n",
       "853751  0F9164F45435637C86CE216DFB125A15           3         0   \n",
       "\n",
       "        creator_account_creation  creator_follower_count  \\\n",
       "0       creator_account_creation  creator_follower_count   \n",
       "1                     1333451678                    4355   \n",
       "2                     1513452247                     410   \n",
       "3                     1331838371                  679542   \n",
       "4                     1376763892                    2259   \n",
       "...                          ...                     ...   \n",
       "853747                1231186007                   26095   \n",
       "853748                1437455653                     972   \n",
       "853749                1236175312                   18307   \n",
       "853750                1536594743                  422175   \n",
       "853751                1581900894                    2003   \n",
       "\n",
       "        creator_following_count  engager_follower_count  ...  \\\n",
       "0       creator_following_count  engager_follower_count  ...   \n",
       "1                          1671                    1136  ...   \n",
       "2                           694                     561  ...   \n",
       "3                          1710                      66  ...   \n",
       "4                          2004                     259  ...   \n",
       "...                         ...                     ...  ...   \n",
       "853747                       76                     613  ...   \n",
       "853748                      119                     738  ...   \n",
       "853749                     6538                     315  ...   \n",
       "853750                     1622                    1056  ...   \n",
       "853751                      193                      44  ...   \n",
       "\n",
       "        engager_main_language  creator_and_engager_have_same_main_language  \\\n",
       "0       engager_main_language  creator_and_engager_have_same_main_language   \n",
       "1                           9                                            1   \n",
       "2                           7                                            1   \n",
       "3                          26                                            0   \n",
       "4                           3                                            0   \n",
       "...                       ...                                          ...   \n",
       "853747                      0                                            0   \n",
       "853748                     35                                            0   \n",
       "853749                      9                                            0   \n",
       "853750                     24                                            0   \n",
       "853751                      1                                            1   \n",
       "\n",
       "        is_tweet_in_creator_main_language  is_tweet_in_engager_main_language  \\\n",
       "0       is_tweet_in_creator_main_language  is_tweet_in_engager_main_language   \n",
       "1                                       1                                  1   \n",
       "2                                       0                                  0   \n",
       "3                                       0                                  0   \n",
       "4                                       0                                  0   \n",
       "...                                   ...                                ...   \n",
       "853747                                  0                                  1   \n",
       "853748                                  1                                  0   \n",
       "853749                                  1                                  0   \n",
       "853750                                  0                                  0   \n",
       "853751                                  0                                  0   \n",
       "\n",
       "       engager_feature_number_of_previous_reply_engagement  \\\n",
       "0       engager_feature_number_of_previous_reply_engag...    \n",
       "1                                                       0    \n",
       "2                                                       1    \n",
       "3                                                       0    \n",
       "4                                                       0    \n",
       "...                                                   ...    \n",
       "853747                                                  0    \n",
       "853748                                                  0    \n",
       "853749                                                  3    \n",
       "853750                                                  0    \n",
       "853751                                                  0    \n",
       "\n",
       "       creator_feature_number_of_previous_reply_engagement  \\\n",
       "0       creator_feature_number_of_previous_reply_engag...    \n",
       "1                                                      82    \n",
       "2                                                       3    \n",
       "3                                                     545    \n",
       "4                                                       1    \n",
       "...                                                   ...    \n",
       "853747                                                  2    \n",
       "853748                                                  0    \n",
       "853749                                                  5    \n",
       "853750                                               1299    \n",
       "853751                                                 12    \n",
       "\n",
       "        number_of_engagements_positive  \\\n",
       "0       number_of_engagements_positive   \n",
       "1                                    3   \n",
       "2                                   44   \n",
       "3                                  487   \n",
       "4                                   58   \n",
       "...                                ...   \n",
       "853747                              36   \n",
       "853748                             365   \n",
       "853749                             182   \n",
       "853750                              72   \n",
       "853751                              34   \n",
       "\n",
       "        creator_number_of_engagements_positive  \\\n",
       "0       creator_number_of_engagements_positive   \n",
       "1                                          616   \n",
       "2                                           36   \n",
       "3                                        28802   \n",
       "4                                           17   \n",
       "...                                        ...   \n",
       "853747                                     101   \n",
       "853748                                       1   \n",
       "853749                                     200   \n",
       "853750                                   44820   \n",
       "853751                                     438   \n",
       "\n",
       "        engager_number_of_engagements_ratio_reply  \\\n",
       "0       engager_number_of_engagements_ratio_reply   \n",
       "1                                             0.0   \n",
       "2                            0.022727272727272728   \n",
       "3                                             0.0   \n",
       "4                                             0.0   \n",
       "...                                           ...   \n",
       "853747                                          0   \n",
       "853748                                          0   \n",
       "853749                                  0.0164835   \n",
       "853750                                          0   \n",
       "853751                                          0   \n",
       "\n",
       "        creator_number_of_engagements_ratio_reply  \n",
       "0       creator_number_of_engagements_ratio_reply  \n",
       "1                              0.1331168831168831  \n",
       "2                             0.08333333333333333  \n",
       "3                             0.01892229706270398  \n",
       "4                            0.058823529411764705  \n",
       "...                                           ...  \n",
       "853747                                   0.019802  \n",
       "853748                                          0  \n",
       "853749                                      0.025  \n",
       "853750                                  0.0289826  \n",
       "853751                                  0.0273973  \n",
       "\n",
       "[853752 rows x 33 columns]"
      ],
      "text/html": "<div>\n<style scoped>\n    .dataframe tbody tr th:only-of-type {\n        vertical-align: middle;\n    }\n\n    .dataframe tbody tr th {\n        vertical-align: top;\n    }\n\n    .dataframe thead th {\n        text-align: right;\n    }\n</style>\n<table border=\"1\" class=\"dataframe\">\n  <thead>\n    <tr style=\"text-align: right;\">\n      <th></th>\n      <th>text_tokens</th>\n      <th>creator_id</th>\n      <th>engager_id</th>\n      <th>tweet_id</th>\n      <th>tweet_type</th>\n      <th>language</th>\n      <th>creator_account_creation</th>\n      <th>creator_follower_count</th>\n      <th>creator_following_count</th>\n      <th>engager_follower_count</th>\n      <th>...</th>\n      <th>engager_main_language</th>\n      <th>creator_and_engager_have_same_main_language</th>\n      <th>is_tweet_in_creator_main_language</th>\n      <th>is_tweet_in_engager_main_language</th>\n      <th>engager_feature_number_of_previous_reply_engagement</th>\n      <th>creator_feature_number_of_previous_reply_engagement</th>\n      <th>number_of_engagements_positive</th>\n      <th>creator_number_of_engagements_positive</th>\n      <th>engager_number_of_engagements_ratio_reply</th>\n      <th>creator_number_of_engagements_ratio_reply</th>\n    </tr>\n  </thead>\n  <tbody>\n    <tr>\n      <th>0</th>\n      <td>text_tokens</td>\n      <td>creator_id</td>\n      <td>engager_id</td>\n      <td>tweet_id</td>\n      <td>tweet_type</td>\n      <td>language</td>\n      <td>creator_account_creation</td>\n      <td>creator_follower_count</td>\n      <td>creator_following_count</td>\n      <td>engager_follower_count</td>\n      <td>...</td>\n      <td>engager_main_language</td>\n      <td>creator_and_engager_have_same_main_language</td>\n      <td>is_tweet_in_creator_main_language</td>\n      <td>is_tweet_in_engager_main_language</td>\n      <td>engager_feature_number_of_previous_reply_engag...</td>\n      <td>creator_feature_number_of_previous_reply_engag...</td>\n      <td>number_of_engagements_positive</td>\n      <td>creator_number_of_engagements_positive</td>\n      <td>engager_number_of_engagements_ratio_reply</td>\n      <td>creator_number_of_engagements_ratio_reply</td>\n    </tr>\n    <tr>\n      <th>1</th>\n      <td>101\\t34532\\t107990\\t100596\\t118\\t10282\\t12271\\...</td>\n      <td>B7C398B6F0148F0230EE5E846D64D391</td>\n      <td>7A2D6C23268AF42EF2621EA707960FBD</td>\n      <td>C003F8DE3FD66A8926110D5A33756969</td>\n      <td>3</td>\n      <td>9</td>\n      <td>1333451678</td>\n      <td>4355</td>\n      <td>1671</td>\n      <td>1136</td>\n      <td>...</td>\n      <td>9</td>\n      <td>1</td>\n      <td>1</td>\n      <td>1</td>\n      <td>0</td>\n      <td>82</td>\n      <td>3</td>\n      <td>616</td>\n      <td>0.0</td>\n      <td>0.1331168831168831</td>\n    </tr>\n    <tr>\n      <th>2</th>\n      <td>101\\t56898\\t137\\t145\\t16368\\t15797\\t131\\t14269...</td>\n      <td>BF3A06655F61FFAB631FE17783384B8A</td>\n      <td>9A4F72D5C7BD6B9E25B46B8E2EF05AE3</td>\n      <td>440F5D999D8E6D8A3510D3F488472B9A</td>\n      <td>0</td>\n      <td>15</td>\n      <td>1513452247</td>\n      <td>410</td>\n      <td>694</td>\n      <td>561</td>\n      <td>...</td>\n      <td>7</td>\n      <td>1</td>\n      <td>0</td>\n      <td>0</td>\n      <td>1</td>\n      <td>3</td>\n      <td>44</td>\n      <td>36</td>\n      <td>0.022727272727272728</td>\n      <td>0.08333333333333333</td>\n    </tr>\n    <tr>\n      <th>3</th>\n      <td>101\\t14925\\t10253\\t117\\t146\\t100\\t181\\t22090\\t...</td>\n      <td>A10E91C01E773E0ADD91BDAA26CB36E5</td>\n      <td>020741F0F4E619E9B0539DCCD01C0C8E</td>\n      <td>0E8A8968C38A06A8A0BA1BB45CD2AAC3</td>\n      <td>1</td>\n      <td>0</td>\n      <td>1331838371</td>\n      <td>679542</td>\n      <td>1710</td>\n      <td>66</td>\n      <td>...</td>\n      <td>26</td>\n      <td>0</td>\n      <td>0</td>\n      <td>0</td>\n      <td>0</td>\n      <td>545</td>\n      <td>487</td>\n      <td>28802</td>\n      <td>0.0</td>\n      <td>0.01892229706270398</td>\n    </tr>\n    <tr>\n      <th>4</th>\n      <td>101\\t56898\\t137\\t17339\\t12871\\t25983\\t10107\\t1...</td>\n      <td>22DFD943107BE2CEA6031FE2BDC1C8C5</td>\n      <td>F637B6EDC18BA8B34312163D24B5C692</td>\n      <td>CE3B3753BB98CB62CDFE07BDA0B76037</td>\n      <td>0</td>\n      <td>0</td>\n      <td>1376763892</td>\n      <td>2259</td>\n      <td>2004</td>\n      <td>259</td>\n      <td>...</td>\n      <td>3</td>\n      <td>0</td>\n      <td>0</td>\n      <td>0</td>\n      <td>0</td>\n      <td>1</td>\n      <td>58</td>\n      <td>17</td>\n      <td>0.0</td>\n      <td>0.058823529411764705</td>\n    </tr>\n    <tr>\n      <th>...</th>\n      <td>...</td>\n      <td>...</td>\n      <td>...</td>\n      <td>...</td>\n      <td>...</td>\n      <td>...</td>\n      <td>...</td>\n      <td>...</td>\n      <td>...</td>\n      <td>...</td>\n      <td>...</td>\n      <td>...</td>\n      <td>...</td>\n      <td>...</td>\n      <td>...</td>\n      <td>...</td>\n      <td>...</td>\n      <td>...</td>\n      <td>...</td>\n      <td>...</td>\n      <td>...</td>\n    </tr>\n    <tr>\n      <th>853747</th>\n      <td>101\\t149\\t11403\\t32071\\t12396\\t11259\\t14453\\t7...</td>\n      <td>CF159F2764CFCA5A2380D8FBC2B2CB58</td>\n      <td>02053D8928FCB2AB0BBB9688A1672412</td>\n      <td>B3EC4B1A17FA9C96B71062027F0B7722</td>\n      <td>3</td>\n      <td>0</td>\n      <td>1231186007</td>\n      <td>26095</td>\n      <td>76</td>\n      <td>613</td>\n      <td>...</td>\n      <td>0</td>\n      <td>0</td>\n      <td>0</td>\n      <td>1</td>\n      <td>0</td>\n      <td>2</td>\n      <td>36</td>\n      <td>101</td>\n      <td>0</td>\n      <td>0.019802</td>\n    </tr>\n    <tr>\n      <th>853748</th>\n      <td>101\\t56898\\t137\\t11252\\t10371\\t168\\t14657\\t183...</td>\n      <td>3BE68A64ABCEAD0BDDE1961A76481DC5</td>\n      <td>826DF47204ABD3BDC508D12F8157812F</td>\n      <td>DE3FC27CF3088B0866AF6035F3100147</td>\n      <td>0</td>\n      <td>3</td>\n      <td>1437455653</td>\n      <td>972</td>\n      <td>119</td>\n      <td>738</td>\n      <td>...</td>\n      <td>35</td>\n      <td>0</td>\n      <td>1</td>\n      <td>0</td>\n      <td>0</td>\n      <td>0</td>\n      <td>365</td>\n      <td>1</td>\n      <td>0</td>\n      <td>0</td>\n    </tr>\n    <tr>\n      <th>853749</th>\n      <td>101\\t48609\\t70215\\t96862\\t10147\\t27158\\t55348\\...</td>\n      <td>B06978B316E5A0242CC28AE79E526298</td>\n      <td>E8A29D092E38C02672A348B1C00CA701</td>\n      <td>B906FFEBAB0CE22764F56776D6E3B09D</td>\n      <td>3</td>\n      <td>3</td>\n      <td>1236175312</td>\n      <td>18307</td>\n      <td>6538</td>\n      <td>315</td>\n      <td>...</td>\n      <td>9</td>\n      <td>0</td>\n      <td>1</td>\n      <td>0</td>\n      <td>3</td>\n      <td>5</td>\n      <td>182</td>\n      <td>200</td>\n      <td>0.0164835</td>\n      <td>0.025</td>\n    </tr>\n    <tr>\n      <th>853750</th>\n      <td>101\\t41859\\t20142\\t22659\\t22659\\t22659\\t117\\t4...</td>\n      <td>B253D00CB1F4136E052C5FCEC8918184</td>\n      <td>FA5B494FF70FF73DFCF6FA7DAE082352</td>\n      <td>5EFA4E6F5129F6AE7EB0843099130B65</td>\n      <td>3</td>\n      <td>3</td>\n      <td>1536594743</td>\n      <td>422175</td>\n      <td>1622</td>\n      <td>1056</td>\n      <td>...</td>\n      <td>24</td>\n      <td>0</td>\n      <td>0</td>\n      <td>0</td>\n      <td>0</td>\n      <td>1299</td>\n      <td>72</td>\n      <td>44820</td>\n      <td>0</td>\n      <td>0.0289826</td>\n    </tr>\n    <tr>\n      <th>853751</th>\n      <td>101\\t146\\t112\\t181\\t32650\\t11008\\t16405\\t10117...</td>\n      <td>2FF5F3623C55F1BC8E771D148B0B5DC9</td>\n      <td>9DEBD9C18B37BF4BECFDB495A977E4D6</td>\n      <td>0F9164F45435637C86CE216DFB125A15</td>\n      <td>3</td>\n      <td>0</td>\n      <td>1581900894</td>\n      <td>2003</td>\n      <td>193</td>\n      <td>44</td>\n      <td>...</td>\n      <td>1</td>\n      <td>1</td>\n      <td>0</td>\n      <td>0</td>\n      <td>0</td>\n      <td>12</td>\n      <td>34</td>\n      <td>438</td>\n      <td>0</td>\n      <td>0.0273973</td>\n    </tr>\n  </tbody>\n</table>\n<p>853752 rows × 33 columns</p>\n</div>"
     },
     "metadata": {},
     "execution_count": 56
    }
   ],
   "source": [
    "valid"
   ]
  },
  {
   "cell_type": "markdown",
   "id": "2c864683",
   "metadata": {},
   "source": [
    "## Split"
   ]
  },
  {
   "cell_type": "code",
   "execution_count": null,
   "metadata": {},
   "outputs": [],
   "source": []
  },
  {
   "cell_type": "code",
   "execution_count": null,
   "id": "3c7ebb57",
   "metadata": {},
   "outputs": [],
   "source": [
    "label_names = ['reply', 'retweet', 'comment', 'like']\n",
    "DONT_USE = ['tweet_timestamp','creator_account_creation','engager_account_creation','engage_time',\n",
    "            'creator_account_creation', 'engager_account_creation',\n",
    "            'fold','tweet_id', \n",
    "            'tr','dt_day','','',\n",
    "            'engager_id','creator_id','engager_is_verified',\n",
    "            'elapsed_time',\n",
    "            'links','domains','hashtags0','hashtags1',\n",
    "            'hashtags','tweet_hash','dt_second','id',\n",
    "            'tw_hash0',\n",
    "            'tw_hash1',\n",
    "            'tw_rt_uhash',\n",
    "            'same_language', 'nan_language','language',\n",
    "            'tw_hash', 'tw_freq_hash','tw_first_word', 'tw_second_word', 'tw_last_word', 'tw_llast_word',\n",
    "            'ypred','creator_count_combined','creator_user_fer_count_delta_time','creator_user_fing_count_delta_time','creator_user_fering_count_delta_time','creator_user_fing_count_mode','creator_user_fer_count_mode','creator_user_fering_count_mode'\n",
    "           ]\n",
    "DONT_USE += label_names\n",
    "DONT_USE += conf.labels"
   ]
  },
  {
   "cell_type": "code",
   "execution_count": null,
   "id": "44e7bd73",
   "metadata": {},
   "outputs": [],
   "source": [
    "RMV = [c for c in DONT_USE if c in train.columns]"
   ]
  },
  {
   "cell_type": "code",
   "execution_count": null,
   "id": "146032fb",
   "metadata": {},
   "outputs": [],
   "source": [
    "y_train = train[TARGET]\n",
    "X_train = train.drop(RMV, axis=1)"
   ]
  },
  {
   "cell_type": "code",
   "execution_count": null,
   "id": "8011e438",
   "metadata": {},
   "outputs": [],
   "source": [
    "del train"
   ]
  },
  {
   "cell_type": "code",
   "execution_count": null,
   "id": "7dbe783f",
   "metadata": {},
   "outputs": [],
   "source": [
    "y_valid = valid[TARGET]\n",
    "X_valid = valid.drop(RMV, axis=1)\n",
    "del valid"
   ]
  },
  {
   "cell_type": "code",
   "execution_count": null,
   "id": "613dbff2",
   "metadata": {},
   "outputs": [],
   "source": [
    "y_test = test[TARGET]\n",
    "X_test = test.drop(RMV, axis=1)\n",
    "del test"
   ]
  },
  {
   "cell_type": "code",
   "execution_count": null,
   "metadata": {},
   "outputs": [],
   "source": []
  },
  {
   "cell_type": "markdown",
   "id": "cdd5cb4e",
   "metadata": {},
   "source": [
    "## Scaling"
   ]
  },
  {
   "cell_type": "code",
   "execution_count": 55,
   "id": "937fbdf4",
   "metadata": {},
   "outputs": [],
   "source": [
    "X_train = X_train.reset_index(drop=True)\n",
    "X_test = X_test.reset_index(drop=True)\n",
    "X_val = X_valid.reset_index(drop=True)"
   ]
  },
  {
   "cell_type": "code",
   "execution_count": 56,
   "id": "4eea05af",
   "metadata": {},
   "outputs": [],
   "source": [
    "scaling_columns = ['creator_following_count', 'creator_follower_count', 'engager_follower_count', 'engager_following_count', f'engager_feature_number_of_previous_{TARGET}_engagement',f'creator_feature_number_of_previous_{TARGET}_engagement', 'number_of_engagements_positive', 'creator_number_of_engagements_positive', 'dt_dow', 'dt_hour', 'len_domains']"
   ]
  },
  {
   "cell_type": "code",
   "execution_count": 57,
   "id": "14760859",
   "metadata": {},
   "outputs": [
    {
     "output_type": "execute_result",
     "data": {
      "text/plain": [
       "StandardScaler()"
      ]
     },
     "metadata": {},
     "execution_count": 57
    }
   ],
   "source": [
    "standard_scaler = preprocessing.StandardScaler()\n",
    "standard_scaler.fit(X_train[scaling_columns])"
   ]
  },
  {
   "cell_type": "code",
   "execution_count": 58,
   "id": "a2013878",
   "metadata": {},
   "outputs": [],
   "source": [
    "ss = standard_scaler.transform(X_train[scaling_columns])\n",
    "X_train[scaling_columns] = pd.DataFrame(ss, columns = scaling_columns)"
   ]
  },
  {
   "cell_type": "code",
   "execution_count": 59,
   "id": "a34323b5",
   "metadata": {},
   "outputs": [],
   "source": [
    "ss = standard_scaler.transform(X_valid[scaling_columns])\n",
    "X_valid[scaling_columns] = pd.DataFrame(ss, columns = scaling_columns)"
   ]
  },
  {
   "cell_type": "code",
   "execution_count": 60,
   "id": "96ca93df",
   "metadata": {},
   "outputs": [],
   "source": [
    "ss = standard_scaler.transform(X_test[scaling_columns])\n",
    "X_test[scaling_columns] = pd.DataFrame(ss, columns = scaling_columns)"
   ]
  },
  {
   "cell_type": "code",
   "execution_count": 61,
   "id": "abf59b53",
   "metadata": {},
   "outputs": [],
   "source": [
    "X_train = X_train.fillna(X_train.mean())\n",
    "X_valid = X_valid.fillna(X_valid.mean())\n",
    "X_test = X_test.fillna(X_test.mean())"
   ]
  },
  {
   "cell_type": "code",
   "execution_count": 1,
   "id": "0692aa4b",
   "metadata": {},
   "outputs": [
    {
     "output_type": "error",
     "ename": "NameError",
     "evalue": "name 'X_train' is not defined",
     "traceback": [
      "\u001b[0;31m---------------------------------------------------------------------------\u001b[0m",
      "\u001b[0;31mNameError\u001b[0m                                 Traceback (most recent call last)",
      "\u001b[0;32m<ipython-input-1-931765772341>\u001b[0m in \u001b[0;36m<module>\u001b[0;34m\u001b[0m\n\u001b[0;32m----> 1\u001b[0;31m \u001b[0mX_train\u001b[0m\u001b[0;34m\u001b[0m\u001b[0;34m\u001b[0m\u001b[0m\n\u001b[0m",
      "\u001b[0;31mNameError\u001b[0m: name 'X_train' is not defined"
     ]
    }
   ],
   "source": [
    "X_train"
   ]
  },
  {
   "source": [],
   "cell_type": "markdown",
   "metadata": {}
  },
  {
   "source": [
    "## one-hot encoding"
   ],
   "cell_type": "markdown",
   "metadata": {}
  },
  {
   "cell_type": "code",
   "execution_count": null,
   "metadata": {},
   "outputs": [],
   "source": []
  },
  {
   "cell_type": "code",
   "execution_count": null,
   "metadata": {},
   "outputs": [],
   "source": []
  },
  {
   "cell_type": "markdown",
   "id": "c5809d22",
   "metadata": {},
   "source": [
    "## Modeling"
   ]
  },
  {
   "cell_type": "code",
   "execution_count": 75,
   "id": "b20203e6",
   "metadata": {},
   "outputs": [],
   "source": [
    "model = Sequential([\n",
    "    Dense(16, activation = 'relu', input_dim = X_train.shape[1]),\n",
    "    Dense(8, activation = 'relu'),\n",
    "    Dense(4, activation = 'relu'),\n",
    "    Dense(1, activation = 'sigmoid')\n",
    "])"
   ]
  },
  {
   "cell_type": "code",
   "execution_count": 76,
   "id": "91bd834d",
   "metadata": {},
   "outputs": [],
   "source": [
    "model.compile(\n",
    "    optimizer = 'adam',\n",
    "    loss = 'binary_crossentropy', # softmax : sparse_categorical_crossentropy, sigmoid : binary_crossentropy\n",
    "    metrics=['binary_crossentropy']) # sigmoid :binary_crossentropy"
   ]
  },
  {
   "cell_type": "code",
   "execution_count": 77,
   "id": "2730bf56",
   "metadata": {},
   "outputs": [
    {
     "output_type": "stream",
     "name": "stdout",
     "text": [
      "Epoch 1/20\n",
      "135591/135591 [==============================] - 59s 435us/step - loss: 0.1383 - binary_crossentropy: 0.1383 - val_loss: 0.1348 - val_binary_crossentropy: 0.1348\n",
      "Epoch 2/20\n",
      "135591/135591 [==============================] - 58s 430us/step - loss: 0.1332 - binary_crossentropy: 0.1332 - val_loss: 0.1348 - val_binary_crossentropy: 0.1348\n",
      "Epoch 3/20\n",
      "135591/135591 [==============================] - 57s 423us/step - loss: 0.1332 - binary_crossentropy: 0.1332 - val_loss: 0.1348 - val_binary_crossentropy: 0.1348\n",
      "Epoch 4/20\n",
      "135591/135591 [==============================] - 57s 421us/step - loss: 0.1332 - binary_crossentropy: 0.1332 - val_loss: 0.1348 - val_binary_crossentropy: 0.1348\n",
      "Epoch 5/20\n",
      "135591/135591 [==============================] - 57s 422us/step - loss: 0.1332 - binary_crossentropy: 0.1332 - val_loss: 0.1348 - val_binary_crossentropy: 0.1348\n",
      "Epoch 6/20\n",
      "135591/135591 [==============================] - 58s 425us/step - loss: 0.1332 - binary_crossentropy: 0.1332 - val_loss: 0.1348 - val_binary_crossentropy: 0.1348\n",
      "Epoch 7/20\n",
      "135591/135591 [==============================] - 58s 425us/step - loss: 0.1332 - binary_crossentropy: 0.1332 - val_loss: 0.1348 - val_binary_crossentropy: 0.1348\n",
      "Epoch 8/20\n",
      "135591/135591 [==============================] - 57s 421us/step - loss: 0.1332 - binary_crossentropy: 0.1332 - val_loss: 0.1349 - val_binary_crossentropy: 0.1349\n",
      "Epoch 9/20\n",
      "135591/135591 [==============================] - 57s 422us/step - loss: 0.1332 - binary_crossentropy: 0.1332 - val_loss: 0.1348 - val_binary_crossentropy: 0.1348\n",
      "Epoch 10/20\n",
      "135591/135591 [==============================] - 57s 422us/step - loss: 0.1332 - binary_crossentropy: 0.1332 - val_loss: 0.1348 - val_binary_crossentropy: 0.1348\n",
      "Epoch 11/20\n",
      "135591/135591 [==============================] - 58s 424us/step - loss: 0.1332 - binary_crossentropy: 0.1332 - val_loss: 0.1348 - val_binary_crossentropy: 0.1348\n",
      "Epoch 12/20\n",
      "135591/135591 [==============================] - 58s 424us/step - loss: 0.1332 - binary_crossentropy: 0.1332 - val_loss: 0.1348 - val_binary_crossentropy: 0.1348\n",
      "Epoch 13/20\n",
      "135591/135591 [==============================] - 59s 432us/step - loss: 0.1332 - binary_crossentropy: 0.1332 - val_loss: 0.1348 - val_binary_crossentropy: 0.1348\n",
      "Epoch 14/20\n",
      "135591/135591 [==============================] - 58s 428us/step - loss: 0.1332 - binary_crossentropy: 0.1332 - val_loss: 0.1348 - val_binary_crossentropy: 0.1348\n",
      "Epoch 15/20\n",
      "135591/135591 [==============================] - 59s 432us/step - loss: 0.1332 - binary_crossentropy: 0.1332 - val_loss: 0.1348 - val_binary_crossentropy: 0.1348\n",
      "Epoch 16/20\n",
      "135591/135591 [==============================] - 58s 430us/step - loss: 0.1332 - binary_crossentropy: 0.1332 - val_loss: 0.1348 - val_binary_crossentropy: 0.1348\n",
      "Epoch 17/20\n",
      "135591/135591 [==============================] - 58s 428us/step - loss: 0.1332 - binary_crossentropy: 0.1332 - val_loss: 0.1348 - val_binary_crossentropy: 0.1348\n",
      "Epoch 18/20\n",
      "135591/135591 [==============================] - 58s 430us/step - loss: 0.1332 - binary_crossentropy: 0.1332 - val_loss: 0.1348 - val_binary_crossentropy: 0.1348\n",
      "Epoch 19/20\n",
      "135591/135591 [==============================] - 58s 430us/step - loss: 0.1332 - binary_crossentropy: 0.1332 - val_loss: 0.1348 - val_binary_crossentropy: 0.1348\n",
      "Epoch 20/20\n",
      "135591/135591 [==============================] - 58s 429us/step - loss: 0.1332 - binary_crossentropy: 0.1332 - val_loss: 0.1348 - val_binary_crossentropy: 0.1348\n"
     ]
    }
   ],
   "source": [
    "result = model.fit(\n",
    "    x = X_train,\n",
    "    y = y_train,\n",
    "    validation_data=(X_valid, y_valid),\n",
    "    epochs=20,\n",
    "    batch_size=32\n",
    ")"
   ]
  },
  {
   "cell_type": "code",
   "execution_count": 79,
   "id": "fa3d0daf",
   "metadata": {},
   "outputs": [
    {
     "output_type": "display_data",
     "data": {
      "text/plain": "<Figure size 432x288 with 1 Axes>",
      "image/svg+xml": "<?xml version=\"1.0\" encoding=\"utf-8\" standalone=\"no\"?>\n<!DOCTYPE svg PUBLIC \"-//W3C//DTD SVG 1.1//EN\"\n  \"http://www.w3.org/Graphics/SVG/1.1/DTD/svg11.dtd\">\n<!-- Created with matplotlib (https://matplotlib.org/) -->\n<svg height=\"277.314375pt\" version=\"1.1\" viewBox=\"0 0 398.50625 277.314375\" width=\"398.50625pt\" xmlns=\"http://www.w3.org/2000/svg\" xmlns:xlink=\"http://www.w3.org/1999/xlink\">\n <metadata>\n  <rdf:RDF xmlns:cc=\"http://creativecommons.org/ns#\" xmlns:dc=\"http://purl.org/dc/elements/1.1/\" xmlns:rdf=\"http://www.w3.org/1999/02/22-rdf-syntax-ns#\">\n   <cc:Work>\n    <dc:type rdf:resource=\"http://purl.org/dc/dcmitype/StillImage\"/>\n    <dc:date>2021-05-31T14:14:50.428508</dc:date>\n    <dc:format>image/svg+xml</dc:format>\n    <dc:creator>\n     <cc:Agent>\n      <dc:title>Matplotlib v3.3.4, https://matplotlib.org/</dc:title>\n     </cc:Agent>\n    </dc:creator>\n   </cc:Work>\n  </rdf:RDF>\n </metadata>\n <defs>\n  <style type=\"text/css\">*{stroke-linecap:butt;stroke-linejoin:round;}</style>\n </defs>\n <g id=\"figure_1\">\n  <g id=\"patch_1\">\n   <path d=\"M 0 277.314375 \nL 398.50625 277.314375 \nL 398.50625 0 \nL 0 0 \nz\n\" style=\"fill:none;\"/>\n  </g>\n  <g id=\"axes_1\">\n   <g id=\"patch_2\">\n    <path d=\"M 56.50625 239.758125 \nL 391.30625 239.758125 \nL 391.30625 22.318125 \nL 56.50625 22.318125 \nz\n\" style=\"fill:#ffffff;\"/>\n   </g>\n   <g id=\"matplotlib.axis_1\">\n    <g id=\"xtick_1\">\n     <g id=\"line2d_1\">\n      <defs>\n       <path d=\"M 0 0 \nL 0 3.5 \n\" id=\"m5481b2dffc\" style=\"stroke:#000000;stroke-width:0.8;\"/>\n      </defs>\n      <g>\n       <use style=\"stroke:#000000;stroke-width:0.8;\" x=\"71.724432\" xlink:href=\"#m5481b2dffc\" y=\"239.758125\"/>\n      </g>\n     </g>\n     <g id=\"text_1\">\n      <!-- 0.0 -->\n      <g transform=\"translate(63.772869 254.356562)scale(0.1 -0.1)\">\n       <defs>\n        <path d=\"M 31.78125 66.40625 \nQ 24.171875 66.40625 20.328125 58.90625 \nQ 16.5 51.421875 16.5 36.375 \nQ 16.5 21.390625 20.328125 13.890625 \nQ 24.171875 6.390625 31.78125 6.390625 \nQ 39.453125 6.390625 43.28125 13.890625 \nQ 47.125 21.390625 47.125 36.375 \nQ 47.125 51.421875 43.28125 58.90625 \nQ 39.453125 66.40625 31.78125 66.40625 \nz\nM 31.78125 74.21875 \nQ 44.046875 74.21875 50.515625 64.515625 \nQ 56.984375 54.828125 56.984375 36.375 \nQ 56.984375 17.96875 50.515625 8.265625 \nQ 44.046875 -1.421875 31.78125 -1.421875 \nQ 19.53125 -1.421875 13.0625 8.265625 \nQ 6.59375 17.96875 6.59375 36.375 \nQ 6.59375 54.828125 13.0625 64.515625 \nQ 19.53125 74.21875 31.78125 74.21875 \nz\n\" id=\"DejaVuSans-48\"/>\n        <path d=\"M 10.6875 12.40625 \nL 21 12.40625 \nL 21 0 \nL 10.6875 0 \nz\n\" id=\"DejaVuSans-46\"/>\n       </defs>\n       <use xlink:href=\"#DejaVuSans-48\"/>\n       <use x=\"63.623047\" xlink:href=\"#DejaVuSans-46\"/>\n       <use x=\"95.410156\" xlink:href=\"#DejaVuSans-48\"/>\n      </g>\n     </g>\n    </g>\n    <g id=\"xtick_2\">\n     <g id=\"line2d_2\">\n      <g>\n       <use style=\"stroke:#000000;stroke-width:0.8;\" x=\"111.772279\" xlink:href=\"#m5481b2dffc\" y=\"239.758125\"/>\n      </g>\n     </g>\n     <g id=\"text_2\">\n      <!-- 2.5 -->\n      <g transform=\"translate(103.820716 254.356562)scale(0.1 -0.1)\">\n       <defs>\n        <path d=\"M 19.1875 8.296875 \nL 53.609375 8.296875 \nL 53.609375 0 \nL 7.328125 0 \nL 7.328125 8.296875 \nQ 12.9375 14.109375 22.625 23.890625 \nQ 32.328125 33.6875 34.8125 36.53125 \nQ 39.546875 41.84375 41.421875 45.53125 \nQ 43.3125 49.21875 43.3125 52.78125 \nQ 43.3125 58.59375 39.234375 62.25 \nQ 35.15625 65.921875 28.609375 65.921875 \nQ 23.96875 65.921875 18.8125 64.3125 \nQ 13.671875 62.703125 7.8125 59.421875 \nL 7.8125 69.390625 \nQ 13.765625 71.78125 18.9375 73 \nQ 24.125 74.21875 28.421875 74.21875 \nQ 39.75 74.21875 46.484375 68.546875 \nQ 53.21875 62.890625 53.21875 53.421875 \nQ 53.21875 48.921875 51.53125 44.890625 \nQ 49.859375 40.875 45.40625 35.40625 \nQ 44.1875 33.984375 37.640625 27.21875 \nQ 31.109375 20.453125 19.1875 8.296875 \nz\n\" id=\"DejaVuSans-50\"/>\n        <path d=\"M 10.796875 72.90625 \nL 49.515625 72.90625 \nL 49.515625 64.59375 \nL 19.828125 64.59375 \nL 19.828125 46.734375 \nQ 21.96875 47.46875 24.109375 47.828125 \nQ 26.265625 48.1875 28.421875 48.1875 \nQ 40.625 48.1875 47.75 41.5 \nQ 54.890625 34.8125 54.890625 23.390625 \nQ 54.890625 11.625 47.5625 5.09375 \nQ 40.234375 -1.421875 26.90625 -1.421875 \nQ 22.3125 -1.421875 17.546875 -0.640625 \nQ 12.796875 0.140625 7.71875 1.703125 \nL 7.71875 11.625 \nQ 12.109375 9.234375 16.796875 8.0625 \nQ 21.484375 6.890625 26.703125 6.890625 \nQ 35.15625 6.890625 40.078125 11.328125 \nQ 45.015625 15.765625 45.015625 23.390625 \nQ 45.015625 31 40.078125 35.4375 \nQ 35.15625 39.890625 26.703125 39.890625 \nQ 22.75 39.890625 18.8125 39.015625 \nQ 14.890625 38.140625 10.796875 36.28125 \nz\n\" id=\"DejaVuSans-53\"/>\n       </defs>\n       <use xlink:href=\"#DejaVuSans-50\"/>\n       <use x=\"63.623047\" xlink:href=\"#DejaVuSans-46\"/>\n       <use x=\"95.410156\" xlink:href=\"#DejaVuSans-53\"/>\n      </g>\n     </g>\n    </g>\n    <g id=\"xtick_3\">\n     <g id=\"line2d_3\">\n      <g>\n       <use style=\"stroke:#000000;stroke-width:0.8;\" x=\"151.820126\" xlink:href=\"#m5481b2dffc\" y=\"239.758125\"/>\n      </g>\n     </g>\n     <g id=\"text_3\">\n      <!-- 5.0 -->\n      <g transform=\"translate(143.868563 254.356562)scale(0.1 -0.1)\">\n       <use xlink:href=\"#DejaVuSans-53\"/>\n       <use x=\"63.623047\" xlink:href=\"#DejaVuSans-46\"/>\n       <use x=\"95.410156\" xlink:href=\"#DejaVuSans-48\"/>\n      </g>\n     </g>\n    </g>\n    <g id=\"xtick_4\">\n     <g id=\"line2d_4\">\n      <g>\n       <use style=\"stroke:#000000;stroke-width:0.8;\" x=\"191.867972\" xlink:href=\"#m5481b2dffc\" y=\"239.758125\"/>\n      </g>\n     </g>\n     <g id=\"text_4\">\n      <!-- 7.5 -->\n      <g transform=\"translate(183.91641 254.356562)scale(0.1 -0.1)\">\n       <defs>\n        <path d=\"M 8.203125 72.90625 \nL 55.078125 72.90625 \nL 55.078125 68.703125 \nL 28.609375 0 \nL 18.3125 0 \nL 43.21875 64.59375 \nL 8.203125 64.59375 \nz\n\" id=\"DejaVuSans-55\"/>\n       </defs>\n       <use xlink:href=\"#DejaVuSans-55\"/>\n       <use x=\"63.623047\" xlink:href=\"#DejaVuSans-46\"/>\n       <use x=\"95.410156\" xlink:href=\"#DejaVuSans-53\"/>\n      </g>\n     </g>\n    </g>\n    <g id=\"xtick_5\">\n     <g id=\"line2d_5\">\n      <g>\n       <use style=\"stroke:#000000;stroke-width:0.8;\" x=\"231.915819\" xlink:href=\"#m5481b2dffc\" y=\"239.758125\"/>\n      </g>\n     </g>\n     <g id=\"text_5\">\n      <!-- 10.0 -->\n      <g transform=\"translate(220.783007 254.356562)scale(0.1 -0.1)\">\n       <defs>\n        <path d=\"M 12.40625 8.296875 \nL 28.515625 8.296875 \nL 28.515625 63.921875 \nL 10.984375 60.40625 \nL 10.984375 69.390625 \nL 28.421875 72.90625 \nL 38.28125 72.90625 \nL 38.28125 8.296875 \nL 54.390625 8.296875 \nL 54.390625 0 \nL 12.40625 0 \nz\n\" id=\"DejaVuSans-49\"/>\n       </defs>\n       <use xlink:href=\"#DejaVuSans-49\"/>\n       <use x=\"63.623047\" xlink:href=\"#DejaVuSans-48\"/>\n       <use x=\"127.246094\" xlink:href=\"#DejaVuSans-46\"/>\n       <use x=\"159.033203\" xlink:href=\"#DejaVuSans-48\"/>\n      </g>\n     </g>\n    </g>\n    <g id=\"xtick_6\">\n     <g id=\"line2d_6\">\n      <g>\n       <use style=\"stroke:#000000;stroke-width:0.8;\" x=\"271.963666\" xlink:href=\"#m5481b2dffc\" y=\"239.758125\"/>\n      </g>\n     </g>\n     <g id=\"text_6\">\n      <!-- 12.5 -->\n      <g transform=\"translate(260.830854 254.356562)scale(0.1 -0.1)\">\n       <use xlink:href=\"#DejaVuSans-49\"/>\n       <use x=\"63.623047\" xlink:href=\"#DejaVuSans-50\"/>\n       <use x=\"127.246094\" xlink:href=\"#DejaVuSans-46\"/>\n       <use x=\"159.033203\" xlink:href=\"#DejaVuSans-53\"/>\n      </g>\n     </g>\n    </g>\n    <g id=\"xtick_7\">\n     <g id=\"line2d_7\">\n      <g>\n       <use style=\"stroke:#000000;stroke-width:0.8;\" x=\"312.011513\" xlink:href=\"#m5481b2dffc\" y=\"239.758125\"/>\n      </g>\n     </g>\n     <g id=\"text_7\">\n      <!-- 15.0 -->\n      <g transform=\"translate(300.878701 254.356562)scale(0.1 -0.1)\">\n       <use xlink:href=\"#DejaVuSans-49\"/>\n       <use x=\"63.623047\" xlink:href=\"#DejaVuSans-53\"/>\n       <use x=\"127.246094\" xlink:href=\"#DejaVuSans-46\"/>\n       <use x=\"159.033203\" xlink:href=\"#DejaVuSans-48\"/>\n      </g>\n     </g>\n    </g>\n    <g id=\"xtick_8\">\n     <g id=\"line2d_8\">\n      <g>\n       <use style=\"stroke:#000000;stroke-width:0.8;\" x=\"352.05936\" xlink:href=\"#m5481b2dffc\" y=\"239.758125\"/>\n      </g>\n     </g>\n     <g id=\"text_8\">\n      <!-- 17.5 -->\n      <g transform=\"translate(340.926548 254.356562)scale(0.1 -0.1)\">\n       <use xlink:href=\"#DejaVuSans-49\"/>\n       <use x=\"63.623047\" xlink:href=\"#DejaVuSans-55\"/>\n       <use x=\"127.246094\" xlink:href=\"#DejaVuSans-46\"/>\n       <use x=\"159.033203\" xlink:href=\"#DejaVuSans-53\"/>\n      </g>\n     </g>\n    </g>\n    <g id=\"text_9\">\n     <!-- epoch -->\n     <g transform=\"translate(208.678125 268.034687)scale(0.1 -0.1)\">\n      <defs>\n       <path d=\"M 56.203125 29.59375 \nL 56.203125 25.203125 \nL 14.890625 25.203125 \nQ 15.484375 15.921875 20.484375 11.0625 \nQ 25.484375 6.203125 34.421875 6.203125 \nQ 39.59375 6.203125 44.453125 7.46875 \nQ 49.3125 8.734375 54.109375 11.28125 \nL 54.109375 2.78125 \nQ 49.265625 0.734375 44.1875 -0.34375 \nQ 39.109375 -1.421875 33.890625 -1.421875 \nQ 20.796875 -1.421875 13.15625 6.1875 \nQ 5.515625 13.8125 5.515625 26.8125 \nQ 5.515625 40.234375 12.765625 48.109375 \nQ 20.015625 56 32.328125 56 \nQ 43.359375 56 49.78125 48.890625 \nQ 56.203125 41.796875 56.203125 29.59375 \nz\nM 47.21875 32.234375 \nQ 47.125 39.59375 43.09375 43.984375 \nQ 39.0625 48.390625 32.421875 48.390625 \nQ 24.90625 48.390625 20.390625 44.140625 \nQ 15.875 39.890625 15.1875 32.171875 \nz\n\" id=\"DejaVuSans-101\"/>\n       <path d=\"M 18.109375 8.203125 \nL 18.109375 -20.796875 \nL 9.078125 -20.796875 \nL 9.078125 54.6875 \nL 18.109375 54.6875 \nL 18.109375 46.390625 \nQ 20.953125 51.265625 25.265625 53.625 \nQ 29.59375 56 35.59375 56 \nQ 45.5625 56 51.78125 48.09375 \nQ 58.015625 40.1875 58.015625 27.296875 \nQ 58.015625 14.40625 51.78125 6.484375 \nQ 45.5625 -1.421875 35.59375 -1.421875 \nQ 29.59375 -1.421875 25.265625 0.953125 \nQ 20.953125 3.328125 18.109375 8.203125 \nz\nM 48.6875 27.296875 \nQ 48.6875 37.203125 44.609375 42.84375 \nQ 40.53125 48.484375 33.40625 48.484375 \nQ 26.265625 48.484375 22.1875 42.84375 \nQ 18.109375 37.203125 18.109375 27.296875 \nQ 18.109375 17.390625 22.1875 11.75 \nQ 26.265625 6.109375 33.40625 6.109375 \nQ 40.53125 6.109375 44.609375 11.75 \nQ 48.6875 17.390625 48.6875 27.296875 \nz\n\" id=\"DejaVuSans-112\"/>\n       <path d=\"M 30.609375 48.390625 \nQ 23.390625 48.390625 19.1875 42.75 \nQ 14.984375 37.109375 14.984375 27.296875 \nQ 14.984375 17.484375 19.15625 11.84375 \nQ 23.34375 6.203125 30.609375 6.203125 \nQ 37.796875 6.203125 41.984375 11.859375 \nQ 46.1875 17.53125 46.1875 27.296875 \nQ 46.1875 37.015625 41.984375 42.703125 \nQ 37.796875 48.390625 30.609375 48.390625 \nz\nM 30.609375 56 \nQ 42.328125 56 49.015625 48.375 \nQ 55.71875 40.765625 55.71875 27.296875 \nQ 55.71875 13.875 49.015625 6.21875 \nQ 42.328125 -1.421875 30.609375 -1.421875 \nQ 18.84375 -1.421875 12.171875 6.21875 \nQ 5.515625 13.875 5.515625 27.296875 \nQ 5.515625 40.765625 12.171875 48.375 \nQ 18.84375 56 30.609375 56 \nz\n\" id=\"DejaVuSans-111\"/>\n       <path d=\"M 48.78125 52.59375 \nL 48.78125 44.1875 \nQ 44.96875 46.296875 41.140625 47.34375 \nQ 37.3125 48.390625 33.40625 48.390625 \nQ 24.65625 48.390625 19.8125 42.84375 \nQ 14.984375 37.3125 14.984375 27.296875 \nQ 14.984375 17.28125 19.8125 11.734375 \nQ 24.65625 6.203125 33.40625 6.203125 \nQ 37.3125 6.203125 41.140625 7.25 \nQ 44.96875 8.296875 48.78125 10.40625 \nL 48.78125 2.09375 \nQ 45.015625 0.34375 40.984375 -0.53125 \nQ 36.96875 -1.421875 32.421875 -1.421875 \nQ 20.0625 -1.421875 12.78125 6.34375 \nQ 5.515625 14.109375 5.515625 27.296875 \nQ 5.515625 40.671875 12.859375 48.328125 \nQ 20.21875 56 33.015625 56 \nQ 37.15625 56 41.109375 55.140625 \nQ 45.0625 54.296875 48.78125 52.59375 \nz\n\" id=\"DejaVuSans-99\"/>\n       <path d=\"M 54.890625 33.015625 \nL 54.890625 0 \nL 45.90625 0 \nL 45.90625 32.71875 \nQ 45.90625 40.484375 42.875 44.328125 \nQ 39.84375 48.1875 33.796875 48.1875 \nQ 26.515625 48.1875 22.3125 43.546875 \nQ 18.109375 38.921875 18.109375 30.90625 \nL 18.109375 0 \nL 9.078125 0 \nL 9.078125 75.984375 \nL 18.109375 75.984375 \nL 18.109375 46.1875 \nQ 21.34375 51.125 25.703125 53.5625 \nQ 30.078125 56 35.796875 56 \nQ 45.21875 56 50.046875 50.171875 \nQ 54.890625 44.34375 54.890625 33.015625 \nz\n\" id=\"DejaVuSans-104\"/>\n      </defs>\n      <use xlink:href=\"#DejaVuSans-101\"/>\n      <use x=\"61.523438\" xlink:href=\"#DejaVuSans-112\"/>\n      <use x=\"125\" xlink:href=\"#DejaVuSans-111\"/>\n      <use x=\"186.181641\" xlink:href=\"#DejaVuSans-99\"/>\n      <use x=\"241.162109\" xlink:href=\"#DejaVuSans-104\"/>\n     </g>\n    </g>\n   </g>\n   <g id=\"matplotlib.axis_2\">\n    <g id=\"ytick_1\">\n     <g id=\"line2d_9\">\n      <defs>\n       <path d=\"M 0 0 \nL -3.5 0 \n\" id=\"m7087de772d\" style=\"stroke:#000000;stroke-width:0.8;\"/>\n      </defs>\n      <g>\n       <use style=\"stroke:#000000;stroke-width:0.8;\" x=\"56.50625\" xlink:href=\"#m7087de772d\" y=\"237.536664\"/>\n      </g>\n     </g>\n     <g id=\"text_10\">\n      <!-- 0.133 -->\n      <g transform=\"translate(20.878125 241.335883)scale(0.1 -0.1)\">\n       <defs>\n        <path d=\"M 40.578125 39.3125 \nQ 47.65625 37.796875 51.625 33 \nQ 55.609375 28.21875 55.609375 21.1875 \nQ 55.609375 10.40625 48.1875 4.484375 \nQ 40.765625 -1.421875 27.09375 -1.421875 \nQ 22.515625 -1.421875 17.65625 -0.515625 \nQ 12.796875 0.390625 7.625 2.203125 \nL 7.625 11.71875 \nQ 11.71875 9.328125 16.59375 8.109375 \nQ 21.484375 6.890625 26.8125 6.890625 \nQ 36.078125 6.890625 40.9375 10.546875 \nQ 45.796875 14.203125 45.796875 21.1875 \nQ 45.796875 27.640625 41.28125 31.265625 \nQ 36.765625 34.90625 28.71875 34.90625 \nL 20.21875 34.90625 \nL 20.21875 43.015625 \nL 29.109375 43.015625 \nQ 36.375 43.015625 40.234375 45.921875 \nQ 44.09375 48.828125 44.09375 54.296875 \nQ 44.09375 59.90625 40.109375 62.90625 \nQ 36.140625 65.921875 28.71875 65.921875 \nQ 24.65625 65.921875 20.015625 65.03125 \nQ 15.375 64.15625 9.8125 62.3125 \nL 9.8125 71.09375 \nQ 15.4375 72.65625 20.34375 73.4375 \nQ 25.25 74.21875 29.59375 74.21875 \nQ 40.828125 74.21875 47.359375 69.109375 \nQ 53.90625 64.015625 53.90625 55.328125 \nQ 53.90625 49.265625 50.4375 45.09375 \nQ 46.96875 40.921875 40.578125 39.3125 \nz\n\" id=\"DejaVuSans-51\"/>\n       </defs>\n       <use xlink:href=\"#DejaVuSans-48\"/>\n       <use x=\"63.623047\" xlink:href=\"#DejaVuSans-46\"/>\n       <use x=\"95.410156\" xlink:href=\"#DejaVuSans-49\"/>\n       <use x=\"159.033203\" xlink:href=\"#DejaVuSans-51\"/>\n       <use x=\"222.65625\" xlink:href=\"#DejaVuSans-51\"/>\n      </g>\n     </g>\n    </g>\n    <g id=\"ytick_2\">\n     <g id=\"line2d_10\">\n      <g>\n       <use style=\"stroke:#000000;stroke-width:0.8;\" x=\"56.50625\" xlink:href=\"#m7087de772d\" y=\"198.620712\"/>\n      </g>\n     </g>\n     <g id=\"text_11\">\n      <!-- 0.134 -->\n      <g transform=\"translate(20.878125 202.41993)scale(0.1 -0.1)\">\n       <defs>\n        <path d=\"M 37.796875 64.3125 \nL 12.890625 25.390625 \nL 37.796875 25.390625 \nz\nM 35.203125 72.90625 \nL 47.609375 72.90625 \nL 47.609375 25.390625 \nL 58.015625 25.390625 \nL 58.015625 17.1875 \nL 47.609375 17.1875 \nL 47.609375 0 \nL 37.796875 0 \nL 37.796875 17.1875 \nL 4.890625 17.1875 \nL 4.890625 26.703125 \nz\n\" id=\"DejaVuSans-52\"/>\n       </defs>\n       <use xlink:href=\"#DejaVuSans-48\"/>\n       <use x=\"63.623047\" xlink:href=\"#DejaVuSans-46\"/>\n       <use x=\"95.410156\" xlink:href=\"#DejaVuSans-49\"/>\n       <use x=\"159.033203\" xlink:href=\"#DejaVuSans-51\"/>\n       <use x=\"222.65625\" xlink:href=\"#DejaVuSans-52\"/>\n      </g>\n     </g>\n    </g>\n    <g id=\"ytick_3\">\n     <g id=\"line2d_11\">\n      <g>\n       <use style=\"stroke:#000000;stroke-width:0.8;\" x=\"56.50625\" xlink:href=\"#m7087de772d\" y=\"159.704759\"/>\n      </g>\n     </g>\n     <g id=\"text_12\">\n      <!-- 0.135 -->\n      <g transform=\"translate(20.878125 163.503977)scale(0.1 -0.1)\">\n       <use xlink:href=\"#DejaVuSans-48\"/>\n       <use x=\"63.623047\" xlink:href=\"#DejaVuSans-46\"/>\n       <use x=\"95.410156\" xlink:href=\"#DejaVuSans-49\"/>\n       <use x=\"159.033203\" xlink:href=\"#DejaVuSans-51\"/>\n       <use x=\"222.65625\" xlink:href=\"#DejaVuSans-53\"/>\n      </g>\n     </g>\n    </g>\n    <g id=\"ytick_4\">\n     <g id=\"line2d_12\">\n      <g>\n       <use style=\"stroke:#000000;stroke-width:0.8;\" x=\"56.50625\" xlink:href=\"#m7087de772d\" y=\"120.788806\"/>\n      </g>\n     </g>\n     <g id=\"text_13\">\n      <!-- 0.136 -->\n      <g transform=\"translate(20.878125 124.588025)scale(0.1 -0.1)\">\n       <defs>\n        <path d=\"M 33.015625 40.375 \nQ 26.375 40.375 22.484375 35.828125 \nQ 18.609375 31.296875 18.609375 23.390625 \nQ 18.609375 15.53125 22.484375 10.953125 \nQ 26.375 6.390625 33.015625 6.390625 \nQ 39.65625 6.390625 43.53125 10.953125 \nQ 47.40625 15.53125 47.40625 23.390625 \nQ 47.40625 31.296875 43.53125 35.828125 \nQ 39.65625 40.375 33.015625 40.375 \nz\nM 52.59375 71.296875 \nL 52.59375 62.3125 \nQ 48.875 64.0625 45.09375 64.984375 \nQ 41.3125 65.921875 37.59375 65.921875 \nQ 27.828125 65.921875 22.671875 59.328125 \nQ 17.53125 52.734375 16.796875 39.40625 \nQ 19.671875 43.65625 24.015625 45.921875 \nQ 28.375 48.1875 33.59375 48.1875 \nQ 44.578125 48.1875 50.953125 41.515625 \nQ 57.328125 34.859375 57.328125 23.390625 \nQ 57.328125 12.15625 50.6875 5.359375 \nQ 44.046875 -1.421875 33.015625 -1.421875 \nQ 20.359375 -1.421875 13.671875 8.265625 \nQ 6.984375 17.96875 6.984375 36.375 \nQ 6.984375 53.65625 15.1875 63.9375 \nQ 23.390625 74.21875 37.203125 74.21875 \nQ 40.921875 74.21875 44.703125 73.484375 \nQ 48.484375 72.75 52.59375 71.296875 \nz\n\" id=\"DejaVuSans-54\"/>\n       </defs>\n       <use xlink:href=\"#DejaVuSans-48\"/>\n       <use x=\"63.623047\" xlink:href=\"#DejaVuSans-46\"/>\n       <use x=\"95.410156\" xlink:href=\"#DejaVuSans-49\"/>\n       <use x=\"159.033203\" xlink:href=\"#DejaVuSans-51\"/>\n       <use x=\"222.65625\" xlink:href=\"#DejaVuSans-54\"/>\n      </g>\n     </g>\n    </g>\n    <g id=\"ytick_5\">\n     <g id=\"line2d_13\">\n      <g>\n       <use style=\"stroke:#000000;stroke-width:0.8;\" x=\"56.50625\" xlink:href=\"#m7087de772d\" y=\"81.872853\"/>\n      </g>\n     </g>\n     <g id=\"text_14\">\n      <!-- 0.137 -->\n      <g transform=\"translate(20.878125 85.672072)scale(0.1 -0.1)\">\n       <use xlink:href=\"#DejaVuSans-48\"/>\n       <use x=\"63.623047\" xlink:href=\"#DejaVuSans-46\"/>\n       <use x=\"95.410156\" xlink:href=\"#DejaVuSans-49\"/>\n       <use x=\"159.033203\" xlink:href=\"#DejaVuSans-51\"/>\n       <use x=\"222.65625\" xlink:href=\"#DejaVuSans-55\"/>\n      </g>\n     </g>\n    </g>\n    <g id=\"ytick_6\">\n     <g id=\"line2d_14\">\n      <g>\n       <use style=\"stroke:#000000;stroke-width:0.8;\" x=\"56.50625\" xlink:href=\"#m7087de772d\" y=\"42.9569\"/>\n      </g>\n     </g>\n     <g id=\"text_15\">\n      <!-- 0.138 -->\n      <g transform=\"translate(20.878125 46.756119)scale(0.1 -0.1)\">\n       <defs>\n        <path d=\"M 31.78125 34.625 \nQ 24.75 34.625 20.71875 30.859375 \nQ 16.703125 27.09375 16.703125 20.515625 \nQ 16.703125 13.921875 20.71875 10.15625 \nQ 24.75 6.390625 31.78125 6.390625 \nQ 38.8125 6.390625 42.859375 10.171875 \nQ 46.921875 13.96875 46.921875 20.515625 \nQ 46.921875 27.09375 42.890625 30.859375 \nQ 38.875 34.625 31.78125 34.625 \nz\nM 21.921875 38.8125 \nQ 15.578125 40.375 12.03125 44.71875 \nQ 8.5 49.078125 8.5 55.328125 \nQ 8.5 64.0625 14.71875 69.140625 \nQ 20.953125 74.21875 31.78125 74.21875 \nQ 42.671875 74.21875 48.875 69.140625 \nQ 55.078125 64.0625 55.078125 55.328125 \nQ 55.078125 49.078125 51.53125 44.71875 \nQ 48 40.375 41.703125 38.8125 \nQ 48.828125 37.15625 52.796875 32.3125 \nQ 56.78125 27.484375 56.78125 20.515625 \nQ 56.78125 9.90625 50.3125 4.234375 \nQ 43.84375 -1.421875 31.78125 -1.421875 \nQ 19.734375 -1.421875 13.25 4.234375 \nQ 6.78125 9.90625 6.78125 20.515625 \nQ 6.78125 27.484375 10.78125 32.3125 \nQ 14.796875 37.15625 21.921875 38.8125 \nz\nM 18.3125 54.390625 \nQ 18.3125 48.734375 21.84375 45.5625 \nQ 25.390625 42.390625 31.78125 42.390625 \nQ 38.140625 42.390625 41.71875 45.5625 \nQ 45.3125 48.734375 45.3125 54.390625 \nQ 45.3125 60.0625 41.71875 63.234375 \nQ 38.140625 66.40625 31.78125 66.40625 \nQ 25.390625 66.40625 21.84375 63.234375 \nQ 18.3125 60.0625 18.3125 54.390625 \nz\n\" id=\"DejaVuSans-56\"/>\n       </defs>\n       <use xlink:href=\"#DejaVuSans-48\"/>\n       <use x=\"63.623047\" xlink:href=\"#DejaVuSans-46\"/>\n       <use x=\"95.410156\" xlink:href=\"#DejaVuSans-49\"/>\n       <use x=\"159.033203\" xlink:href=\"#DejaVuSans-51\"/>\n       <use x=\"222.65625\" xlink:href=\"#DejaVuSans-56\"/>\n      </g>\n     </g>\n    </g>\n    <g id=\"text_16\">\n     <!-- accuracy -->\n     <g transform=\"translate(14.798437 153.5975)rotate(-90)scale(0.1 -0.1)\">\n      <defs>\n       <path d=\"M 34.28125 27.484375 \nQ 23.390625 27.484375 19.1875 25 \nQ 14.984375 22.515625 14.984375 16.5 \nQ 14.984375 11.71875 18.140625 8.90625 \nQ 21.296875 6.109375 26.703125 6.109375 \nQ 34.1875 6.109375 38.703125 11.40625 \nQ 43.21875 16.703125 43.21875 25.484375 \nL 43.21875 27.484375 \nz\nM 52.203125 31.203125 \nL 52.203125 0 \nL 43.21875 0 \nL 43.21875 8.296875 \nQ 40.140625 3.328125 35.546875 0.953125 \nQ 30.953125 -1.421875 24.3125 -1.421875 \nQ 15.921875 -1.421875 10.953125 3.296875 \nQ 6 8.015625 6 15.921875 \nQ 6 25.140625 12.171875 29.828125 \nQ 18.359375 34.515625 30.609375 34.515625 \nL 43.21875 34.515625 \nL 43.21875 35.40625 \nQ 43.21875 41.609375 39.140625 45 \nQ 35.0625 48.390625 27.6875 48.390625 \nQ 23 48.390625 18.546875 47.265625 \nQ 14.109375 46.140625 10.015625 43.890625 \nL 10.015625 52.203125 \nQ 14.9375 54.109375 19.578125 55.046875 \nQ 24.21875 56 28.609375 56 \nQ 40.484375 56 46.34375 49.84375 \nQ 52.203125 43.703125 52.203125 31.203125 \nz\n\" id=\"DejaVuSans-97\"/>\n       <path d=\"M 8.5 21.578125 \nL 8.5 54.6875 \nL 17.484375 54.6875 \nL 17.484375 21.921875 \nQ 17.484375 14.15625 20.5 10.265625 \nQ 23.53125 6.390625 29.59375 6.390625 \nQ 36.859375 6.390625 41.078125 11.03125 \nQ 45.3125 15.671875 45.3125 23.6875 \nL 45.3125 54.6875 \nL 54.296875 54.6875 \nL 54.296875 0 \nL 45.3125 0 \nL 45.3125 8.40625 \nQ 42.046875 3.421875 37.71875 1 \nQ 33.40625 -1.421875 27.6875 -1.421875 \nQ 18.265625 -1.421875 13.375 4.4375 \nQ 8.5 10.296875 8.5 21.578125 \nz\nM 31.109375 56 \nz\n\" id=\"DejaVuSans-117\"/>\n       <path d=\"M 41.109375 46.296875 \nQ 39.59375 47.171875 37.8125 47.578125 \nQ 36.03125 48 33.890625 48 \nQ 26.265625 48 22.1875 43.046875 \nQ 18.109375 38.09375 18.109375 28.8125 \nL 18.109375 0 \nL 9.078125 0 \nL 9.078125 54.6875 \nL 18.109375 54.6875 \nL 18.109375 46.1875 \nQ 20.953125 51.171875 25.484375 53.578125 \nQ 30.03125 56 36.53125 56 \nQ 37.453125 56 38.578125 55.875 \nQ 39.703125 55.765625 41.0625 55.515625 \nz\n\" id=\"DejaVuSans-114\"/>\n       <path d=\"M 32.171875 -5.078125 \nQ 28.375 -14.84375 24.75 -17.8125 \nQ 21.140625 -20.796875 15.09375 -20.796875 \nL 7.90625 -20.796875 \nL 7.90625 -13.28125 \nL 13.1875 -13.28125 \nQ 16.890625 -13.28125 18.9375 -11.515625 \nQ 21 -9.765625 23.484375 -3.21875 \nL 25.09375 0.875 \nL 2.984375 54.6875 \nL 12.5 54.6875 \nL 29.59375 11.921875 \nL 46.6875 54.6875 \nL 56.203125 54.6875 \nz\n\" id=\"DejaVuSans-121\"/>\n      </defs>\n      <use xlink:href=\"#DejaVuSans-97\"/>\n      <use x=\"61.279297\" xlink:href=\"#DejaVuSans-99\"/>\n      <use x=\"116.259766\" xlink:href=\"#DejaVuSans-99\"/>\n      <use x=\"171.240234\" xlink:href=\"#DejaVuSans-117\"/>\n      <use x=\"234.619141\" xlink:href=\"#DejaVuSans-114\"/>\n      <use x=\"275.732422\" xlink:href=\"#DejaVuSans-97\"/>\n      <use x=\"337.011719\" xlink:href=\"#DejaVuSans-99\"/>\n      <use x=\"391.992188\" xlink:href=\"#DejaVuSans-121\"/>\n     </g>\n    </g>\n   </g>\n   <g id=\"line2d_15\">\n    <path clip-path=\"url(#pf55bbf332a)\" d=\"M 71.724432 32.201761 \nL 87.743571 228.628299 \nL 103.762709 228.864315 \nL 119.781848 228.801687 \nL 135.800987 229.16296 \nL 151.820126 229.445368 \nL 167.839264 229.096272 \nL 183.858403 229.387959 \nL 199.877542 228.921725 \nL 215.896681 229.019147 \nL 231.915819 229.456386 \nL 247.934958 228.918825 \nL 263.954097 229.494659 \nL 279.973236 229.48654 \nL 295.992374 228.768633 \nL 312.011513 229.367662 \nL 328.030652 228.370826 \nL 344.049791 229.197174 \nL 360.068929 229.306194 \nL 376.088068 229.874489 \n\" style=\"fill:none;stroke:#1f77b4;stroke-linecap:square;stroke-width:1.5;\"/>\n   </g>\n   <g id=\"line2d_16\">\n    <path clip-path=\"url(#pf55bbf332a)\" d=\"M 71.724432 167.638644 \nL 87.743571 167.671118 \nL 103.762709 166.430728 \nL 119.781848 166.376797 \nL 135.800987 167.559199 \nL 151.820126 166.20341 \nL 167.839264 166.208629 \nL 183.858403 164.550135 \nL 199.877542 167.480334 \nL 215.896681 166.424929 \nL 231.915819 166.616873 \nL 247.934958 166.710816 \nL 263.954097 166.180794 \nL 279.973236 167.683296 \nL 295.992374 165.933759 \nL 312.011513 167.12022 \nL 328.030652 167.33942 \nL 344.049791 167.680977 \nL 360.068929 166.499735 \nL 376.088068 166.356501 \n\" style=\"fill:none;stroke:#ff7f0e;stroke-linecap:square;stroke-width:1.5;\"/>\n   </g>\n   <g id=\"patch_3\">\n    <path d=\"M 56.50625 239.758125 \nL 56.50625 22.318125 \n\" style=\"fill:none;stroke:#000000;stroke-linecap:square;stroke-linejoin:miter;stroke-width:0.8;\"/>\n   </g>\n   <g id=\"patch_4\">\n    <path d=\"M 391.30625 239.758125 \nL 391.30625 22.318125 \n\" style=\"fill:none;stroke:#000000;stroke-linecap:square;stroke-linejoin:miter;stroke-width:0.8;\"/>\n   </g>\n   <g id=\"patch_5\">\n    <path d=\"M 56.50625 239.758125 \nL 391.30625 239.758125 \n\" style=\"fill:none;stroke:#000000;stroke-linecap:square;stroke-linejoin:miter;stroke-width:0.8;\"/>\n   </g>\n   <g id=\"patch_6\">\n    <path d=\"M 56.50625 22.318125 \nL 391.30625 22.318125 \n\" style=\"fill:none;stroke:#000000;stroke-linecap:square;stroke-linejoin:miter;stroke-width:0.8;\"/>\n   </g>\n   <g id=\"text_17\">\n    <!-- model accuracy -->\n    <g transform=\"translate(176.244687 16.318125)scale(0.12 -0.12)\">\n     <defs>\n      <path d=\"M 52 44.1875 \nQ 55.375 50.25 60.0625 53.125 \nQ 64.75 56 71.09375 56 \nQ 79.640625 56 84.28125 50.015625 \nQ 88.921875 44.046875 88.921875 33.015625 \nL 88.921875 0 \nL 79.890625 0 \nL 79.890625 32.71875 \nQ 79.890625 40.578125 77.09375 44.375 \nQ 74.3125 48.1875 68.609375 48.1875 \nQ 61.625 48.1875 57.5625 43.546875 \nQ 53.515625 38.921875 53.515625 30.90625 \nL 53.515625 0 \nL 44.484375 0 \nL 44.484375 32.71875 \nQ 44.484375 40.625 41.703125 44.40625 \nQ 38.921875 48.1875 33.109375 48.1875 \nQ 26.21875 48.1875 22.15625 43.53125 \nQ 18.109375 38.875 18.109375 30.90625 \nL 18.109375 0 \nL 9.078125 0 \nL 9.078125 54.6875 \nL 18.109375 54.6875 \nL 18.109375 46.1875 \nQ 21.1875 51.21875 25.484375 53.609375 \nQ 29.78125 56 35.6875 56 \nQ 41.65625 56 45.828125 52.96875 \nQ 50 49.953125 52 44.1875 \nz\n\" id=\"DejaVuSans-109\"/>\n      <path d=\"M 45.40625 46.390625 \nL 45.40625 75.984375 \nL 54.390625 75.984375 \nL 54.390625 0 \nL 45.40625 0 \nL 45.40625 8.203125 \nQ 42.578125 3.328125 38.25 0.953125 \nQ 33.9375 -1.421875 27.875 -1.421875 \nQ 17.96875 -1.421875 11.734375 6.484375 \nQ 5.515625 14.40625 5.515625 27.296875 \nQ 5.515625 40.1875 11.734375 48.09375 \nQ 17.96875 56 27.875 56 \nQ 33.9375 56 38.25 53.625 \nQ 42.578125 51.265625 45.40625 46.390625 \nz\nM 14.796875 27.296875 \nQ 14.796875 17.390625 18.875 11.75 \nQ 22.953125 6.109375 30.078125 6.109375 \nQ 37.203125 6.109375 41.296875 11.75 \nQ 45.40625 17.390625 45.40625 27.296875 \nQ 45.40625 37.203125 41.296875 42.84375 \nQ 37.203125 48.484375 30.078125 48.484375 \nQ 22.953125 48.484375 18.875 42.84375 \nQ 14.796875 37.203125 14.796875 27.296875 \nz\n\" id=\"DejaVuSans-100\"/>\n      <path d=\"M 9.421875 75.984375 \nL 18.40625 75.984375 \nL 18.40625 0 \nL 9.421875 0 \nz\n\" id=\"DejaVuSans-108\"/>\n      <path id=\"DejaVuSans-32\"/>\n     </defs>\n     <use xlink:href=\"#DejaVuSans-109\"/>\n     <use x=\"97.412109\" xlink:href=\"#DejaVuSans-111\"/>\n     <use x=\"158.59375\" xlink:href=\"#DejaVuSans-100\"/>\n     <use x=\"222.070312\" xlink:href=\"#DejaVuSans-101\"/>\n     <use x=\"283.59375\" xlink:href=\"#DejaVuSans-108\"/>\n     <use x=\"311.376953\" xlink:href=\"#DejaVuSans-32\"/>\n     <use x=\"343.164062\" xlink:href=\"#DejaVuSans-97\"/>\n     <use x=\"404.443359\" xlink:href=\"#DejaVuSans-99\"/>\n     <use x=\"459.423828\" xlink:href=\"#DejaVuSans-99\"/>\n     <use x=\"514.404297\" xlink:href=\"#DejaVuSans-117\"/>\n     <use x=\"577.783203\" xlink:href=\"#DejaVuSans-114\"/>\n     <use x=\"618.896484\" xlink:href=\"#DejaVuSans-97\"/>\n     <use x=\"680.175781\" xlink:href=\"#DejaVuSans-99\"/>\n     <use x=\"735.15625\" xlink:href=\"#DejaVuSans-121\"/>\n    </g>\n   </g>\n   <g id=\"legend_1\">\n    <g id=\"patch_7\">\n     <path d=\"M 63.50625 59.674375 \nL 118.78125 59.674375 \nQ 120.78125 59.674375 120.78125 57.674375 \nL 120.78125 29.318125 \nQ 120.78125 27.318125 118.78125 27.318125 \nL 63.50625 27.318125 \nQ 61.50625 27.318125 61.50625 29.318125 \nL 61.50625 57.674375 \nQ 61.50625 59.674375 63.50625 59.674375 \nz\n\" style=\"fill:#ffffff;opacity:0.8;stroke:#cccccc;stroke-linejoin:miter;\"/>\n    </g>\n    <g id=\"line2d_17\">\n     <path d=\"M 65.50625 35.416562 \nL 85.50625 35.416562 \n\" style=\"fill:none;stroke:#1f77b4;stroke-linecap:square;stroke-width:1.5;\"/>\n    </g>\n    <g id=\"line2d_18\"/>\n    <g id=\"text_18\">\n     <!-- train -->\n     <g transform=\"translate(93.50625 38.916562)scale(0.1 -0.1)\">\n      <defs>\n       <path d=\"M 18.3125 70.21875 \nL 18.3125 54.6875 \nL 36.8125 54.6875 \nL 36.8125 47.703125 \nL 18.3125 47.703125 \nL 18.3125 18.015625 \nQ 18.3125 11.328125 20.140625 9.421875 \nQ 21.96875 7.515625 27.59375 7.515625 \nL 36.8125 7.515625 \nL 36.8125 0 \nL 27.59375 0 \nQ 17.1875 0 13.234375 3.875 \nQ 9.28125 7.765625 9.28125 18.015625 \nL 9.28125 47.703125 \nL 2.6875 47.703125 \nL 2.6875 54.6875 \nL 9.28125 54.6875 \nL 9.28125 70.21875 \nz\n\" id=\"DejaVuSans-116\"/>\n       <path d=\"M 9.421875 54.6875 \nL 18.40625 54.6875 \nL 18.40625 0 \nL 9.421875 0 \nz\nM 9.421875 75.984375 \nL 18.40625 75.984375 \nL 18.40625 64.59375 \nL 9.421875 64.59375 \nz\n\" id=\"DejaVuSans-105\"/>\n       <path d=\"M 54.890625 33.015625 \nL 54.890625 0 \nL 45.90625 0 \nL 45.90625 32.71875 \nQ 45.90625 40.484375 42.875 44.328125 \nQ 39.84375 48.1875 33.796875 48.1875 \nQ 26.515625 48.1875 22.3125 43.546875 \nQ 18.109375 38.921875 18.109375 30.90625 \nL 18.109375 0 \nL 9.078125 0 \nL 9.078125 54.6875 \nL 18.109375 54.6875 \nL 18.109375 46.1875 \nQ 21.34375 51.125 25.703125 53.5625 \nQ 30.078125 56 35.796875 56 \nQ 45.21875 56 50.046875 50.171875 \nQ 54.890625 44.34375 54.890625 33.015625 \nz\n\" id=\"DejaVuSans-110\"/>\n      </defs>\n      <use xlink:href=\"#DejaVuSans-116\"/>\n      <use x=\"39.208984\" xlink:href=\"#DejaVuSans-114\"/>\n      <use x=\"80.322266\" xlink:href=\"#DejaVuSans-97\"/>\n      <use x=\"141.601562\" xlink:href=\"#DejaVuSans-105\"/>\n      <use x=\"169.384766\" xlink:href=\"#DejaVuSans-110\"/>\n     </g>\n    </g>\n    <g id=\"line2d_19\">\n     <path d=\"M 65.50625 50.094687 \nL 85.50625 50.094687 \n\" style=\"fill:none;stroke:#ff7f0e;stroke-linecap:square;stroke-width:1.5;\"/>\n    </g>\n    <g id=\"line2d_20\"/>\n    <g id=\"text_19\">\n     <!-- val -->\n     <g transform=\"translate(93.50625 53.594687)scale(0.1 -0.1)\">\n      <defs>\n       <path d=\"M 2.984375 54.6875 \nL 12.5 54.6875 \nL 29.59375 8.796875 \nL 46.6875 54.6875 \nL 56.203125 54.6875 \nL 35.6875 0 \nL 23.484375 0 \nz\n\" id=\"DejaVuSans-118\"/>\n      </defs>\n      <use xlink:href=\"#DejaVuSans-118\"/>\n      <use x=\"59.179688\" xlink:href=\"#DejaVuSans-97\"/>\n      <use x=\"120.458984\" xlink:href=\"#DejaVuSans-108\"/>\n     </g>\n    </g>\n   </g>\n  </g>\n </g>\n <defs>\n  <clipPath id=\"pf55bbf332a\">\n   <rect height=\"217.44\" width=\"334.8\" x=\"56.50625\" y=\"22.318125\"/>\n  </clipPath>\n </defs>\n</svg>\n",
      "image/png": "[encoded data removed]"
     },
     "metadata": {
      "needs_background": "light"
     }
    }
   ],
   "source": [
    "plt.plot(result.history['binary_crossentropy'])\n",
    "plt.plot(result.history['val_binary_crossentropy'])\n",
    "plt.title('model accuracy')\n",
    "plt.ylabel('accuracy')\n",
    "plt.xlabel('epoch')\n",
    "plt.legend(['train', 'val'], loc='upper left')\n",
    "plt.show()"
   ]
  },
  {
   "cell_type": "code",
   "execution_count": 68,
   "id": "7e2fdd4e",
   "metadata": {},
   "outputs": [
    {
     "output_type": "stream",
     "name": "stdout",
     "text": [
      "27327/27327 [==============================] - 8s 291us/step - loss: 0.0865 - binary_crossentropy: 0.0865\n"
     ]
    },
    {
     "output_type": "execute_result",
     "data": {
      "text/plain": [
       "[0.08646736294031143, 0.08646736294031143]"
      ]
     },
     "metadata": {},
     "execution_count": 68
    }
   ],
   "source": [
    "model.evaluate(X_test, y_test)"
   ]
  },
  {
   "cell_type": "code",
   "execution_count": 69,
   "id": "0e82372d",
   "metadata": {},
   "outputs": [
    {
     "output_type": "stream",
     "name": "stdout",
     "text": [
      "INFO:tensorflow:Assets written to: ./saved_model/ffnn_reply/assets\n"
     ]
    }
   ],
   "source": [
    "model.save(f'./saved_model/ffnn_{TARGET}')"
   ]
  },
  {
   "cell_type": "markdown",
   "id": "d4d9941b",
   "metadata": {},
   "source": [
    "## Predict"
   ]
  },
  {
   "cell_type": "code",
   "execution_count": 70,
   "metadata": {},
   "outputs": [],
   "source": [
    "model = tf.keras.models.load_model(f'./saved_model/ffnn_{TARGET}')"
   ]
  },
  {
   "cell_type": "code",
   "execution_count": 80,
   "id": "dcbab2a9",
   "metadata": {},
   "outputs": [],
   "source": [
    "pred = model.predict(X_test)"
   ]
  },
  {
   "cell_type": "code",
   "execution_count": 81,
   "id": "4e88b826",
   "metadata": {},
   "outputs": [
    {
     "output_type": "execute_result",
     "data": {
      "text/plain": [
       "-0.00042965053279608867"
      ]
     },
     "metadata": {},
     "execution_count": 81
    }
   ],
   "source": [
    "rce = compute_rce(pred, y_test)\n",
    "rce"
   ]
  },
  {
   "cell_type": "code",
   "execution_count": 74,
   "id": "de0ff024",
   "metadata": {},
   "outputs": [
    {
     "output_type": "execute_result",
     "data": {
      "text/plain": [
       "0.42356260668620216"
      ]
     },
     "metadata": {},
     "execution_count": 74
    }
   ],
   "source": [
    "average_precision_score(y_test, pred)"
   ]
  },
  {
   "cell_type": "code",
   "execution_count": 76,
   "metadata": {},
   "outputs": [
    {
     "output_type": "execute_result",
     "data": {
      "text/plain": [
       "Index(['tweet_type', 'creator_follower_count', 'creator_following_count',\n",
       "       'engager_follower_count', 'engager_following_count', 'media', 'dt_dow',\n",
       "       'dt_hour', 'len_domains', 'creator_main_language',\n",
       "       'engager_main_language', 'creator_and_engager_have_same_main_language',\n",
       "       'is_tweet_in_creator_main_language',\n",
       "       'is_tweet_in_engager_main_language',\n",
       "       'engager_feature_number_of_previous_reply_engagement',\n",
       "       'creator_feature_number_of_previous_reply_engagement',\n",
       "       'number_of_engagements_positive',\n",
       "       'number_of_engagements_positive_creator',\n",
       "       'engager_number_of_engagements_ratio_reply',\n",
       "       'number_of_engagements_ratio_reply'],\n",
       "      dtype='object')"
      ]
     },
     "metadata": {},
     "execution_count": 76
    }
   ],
   "source": [
    "X_test.columns"
   ]
  },
  {
   "cell_type": "code",
   "execution_count": null,
   "metadata": {},
   "outputs": [],
   "source": []
  }
 ],
 "metadata": {
  "kernelspec": {
   "name": "python388jvsc74a57bd0ae065c56e262e6694ecb174f95b527853807b9a02b7a5d470fad054d1e0ab874",
   "display_name": "Python 3.8.8 64-bit ('recsys': conda)"
  },
  "language_info": {
   "codemirror_mode": {
    "name": "ipython",
    "version": 3
   },
   "file_extension": ".py",
   "mimetype": "text/x-python",
   "name": "python",
   "nbconvert_exporter": "python",
   "pygments_lexer": "ipython3",
   "version": "3.8.8"
  }
 },
 "nbformat": 4,
 "nbformat_minor": 5
}