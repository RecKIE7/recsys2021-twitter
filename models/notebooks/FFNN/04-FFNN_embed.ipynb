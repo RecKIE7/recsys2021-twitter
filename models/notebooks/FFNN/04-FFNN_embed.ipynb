{
 "metadata": {
  "language_info": {
   "codemirror_mode": {
    "name": "ipython",
    "version": 3
   },
   "file_extension": ".py",
   "mimetype": "text/x-python",
   "name": "python",
   "nbconvert_exporter": "python",
   "pygments_lexer": "ipython3",
   "version": "3.8.8"
  },
  "orig_nbformat": 2,
  "kernelspec": {
   "name": "python388jvsc74a57bd0ae065c56e262e6694ecb174f95b527853807b9a02b7a5d470fad054d1e0ab874",
   "display_name": "Python 3.8.8 64-bit ('recsys': conda)"
  }
 },
 "nbformat": 4,
 "nbformat_minor": 2,
 "cells": [
  {
   "cell_type": "code",
   "execution_count": 1,
   "metadata": {},
   "outputs": [],
   "source": [
    "import sys\n",
    "sys.path.append('../../..')\n",
    "\n",
    "import numpy as np\n",
    "import matplotlib.pyplot as plt\n",
    "import pandas as pd\n",
    "from tqdm import tqdm\n",
    "from sklearn.model_selection import train_test_split\n",
    "import tensorflow as tf\n",
    "from tensorflow import feature_column as fc\n",
    "from tensorflow.keras.models import Sequential\n",
    "from tensorflow.keras.layers import Dense\n",
    "from sklearn import preprocessing\n",
    "from tensorflow.keras.models import save_model,load_model\n",
    "from utils.preprocessing import *\n",
    "from utils.dataset import Dataset\n",
    "import pickle\n",
    "\n",
    "from utils.evaluate import calculate_ctr, compute_rce, average_precision_score\n",
    "import tensorflow.keras.backend as K\n",
    "import core.config as conf"
   ]
  },
  {
   "source": [
    "## Load Data & Preprocessing"
   ],
   "cell_type": "markdown",
   "metadata": {}
  },
  {
   "cell_type": "code",
   "execution_count": 14,
   "metadata": {},
   "outputs": [],
   "source": [
    "ds = Dataset(train=True, target_encoding=False)"
   ]
  },
  {
   "cell_type": "code",
   "execution_count": 15,
   "metadata": {},
   "outputs": [],
   "source": [
    "data_path = conf.dataset_mini_path + 'train'\n",
    "ori_df = read_data(data_path)"
   ]
  },
  {
   "cell_type": "code",
   "execution_count": 4,
   "metadata": {},
   "outputs": [
    {
     "output_type": "execute_result",
     "data": {
      "text/plain": [
       "                                         text_tokens hashtags  \\\n",
       "0  101\\t147\\t69849\\t11447\\t57277\\t63310\\t136\\t106...      NaN   \n",
       "1  101\\t56898\\t137\\t10799\\t11039\\t168\\t26978\\t131...      NaN   \n",
       "2  101\\t13304\\t179\\t14902\\t74788\\t10390\\t33993\\t1...      NaN   \n",
       "3  101\\t620\\t55399\\t17451\\t69304\\t82692\\t572\\t105...      NaN   \n",
       "4  101\\t10747\\t12723\\t10124\\t29956\\t91518\\t10142\\...      NaN   \n",
       "\n",
       "                           tweet_id         media  \\\n",
       "0  6238B9E15E83B6D477394E9D80B3784E  Photo\\tPhoto   \n",
       "1  731FB90C6CFEF1B71D322106573F71DB         Photo   \n",
       "2  89276E5272498E858EE8AF691EBF0951           NaN   \n",
       "3  502FDBC0EB4E7AB157D38262817716EB           NaN   \n",
       "4  CF1F523F7D4D4139E5FD3EBD72F27D5A           NaN   \n",
       "\n",
       "                              links                           domains  \\\n",
       "0                               NaN                               NaN   \n",
       "1                               NaN                               NaN   \n",
       "2                               NaN                               NaN   \n",
       "3  F65FE23F3E97EE91DB990B4E02FC8DFC  28F197E209F61EE2F1C97FBF9128976D   \n",
       "4                               NaN                               NaN   \n",
       "\n",
       "  tweet_type                          language  tweet_timestamp  \\\n",
       "0   TopLevel  7F4FAB1EB12CD95EDCD9DB2A6634EFCE       1612883086   \n",
       "1    Retweet  E7F038DE3EAD397AEC9193686C911677       1612864776   \n",
       "2   TopLevel  1F73BB863A39DB62B4A55B7E558DB1E8       1613661020   \n",
       "3   TopLevel  310ECD7D1E42216E3C1B31EFDDFC72A7       1612751908   \n",
       "4   TopLevel  488B32D24BD4BB44172EB981C1BCA6FA       1613060168   \n",
       "\n",
       "                         creator_id  ...                        engager_id  \\\n",
       "0  F09233A58769507FD4E6FD618BCFA5B6  ...  CFFD4D0D3AAF28B5397A98E1F4C92C77   \n",
       "1  46BEEE566BB708F18075A60FDDAA8503  ...  E0F9A3BB331C7B613B165F32F8D273BE   \n",
       "2  83F59BF2E0778AC4078FA3F7B71F5960  ...  58ABF7FB24D65FB94C6487915A889460   \n",
       "3  C96110509F8B6256CE08A8AE85ED75DB  ...  76730357A84D1D04A662FDB1449F1AFF   \n",
       "4  2031F18622E7C6A30E702D33776BF2C1  ...  9008C5AB3CB46623ADBD4C68A2A2D088   \n",
       "\n",
       "   engager_follower_count  engager_following_count  engager_is_verified  \\\n",
       "0                     595                     1424                False   \n",
       "1                     514                      416                False   \n",
       "2                     376                      311                False   \n",
       "3                   22461                    16342                False   \n",
       "4                     388                      647                False   \n",
       "\n",
       "  engager_account_creation  creator_follows_engager  reply_timestamp  \\\n",
       "0               1307991260                    False              NaN   \n",
       "1               1336861089                     True              NaN   \n",
       "2               1602935552                     True              NaN   \n",
       "3               1366022767                     True              NaN   \n",
       "4               1410270773                    False              NaN   \n",
       "\n",
       "   retweet_timestamp  comment_timestamp  like_timestamp  \n",
       "0                NaN                NaN             NaN  \n",
       "1                NaN                NaN             NaN  \n",
       "2                NaN                NaN    1.613662e+09  \n",
       "3                NaN                NaN             NaN  \n",
       "4                NaN                NaN    1.613061e+09  \n",
       "\n",
       "[5 rows x 24 columns]"
      ],
      "text/html": "<div>\n<style scoped>\n    .dataframe tbody tr th:only-of-type {\n        vertical-align: middle;\n    }\n\n    .dataframe tbody tr th {\n        vertical-align: top;\n    }\n\n    .dataframe thead th {\n        text-align: right;\n    }\n</style>\n<table border=\"1\" class=\"dataframe\">\n  <thead>\n    <tr style=\"text-align: right;\">\n      <th></th>\n      <th>text_tokens</th>\n      <th>hashtags</th>\n      <th>tweet_id</th>\n      <th>media</th>\n      <th>links</th>\n      <th>domains</th>\n      <th>tweet_type</th>\n      <th>language</th>\n      <th>tweet_timestamp</th>\n      <th>creator_id</th>\n      <th>...</th>\n      <th>engager_id</th>\n      <th>engager_follower_count</th>\n      <th>engager_following_count</th>\n      <th>engager_is_verified</th>\n      <th>engager_account_creation</th>\n      <th>creator_follows_engager</th>\n      <th>reply_timestamp</th>\n      <th>retweet_timestamp</th>\n      <th>comment_timestamp</th>\n      <th>like_timestamp</th>\n    </tr>\n  </thead>\n  <tbody>\n    <tr>\n      <th>0</th>\n      <td>101\\t147\\t69849\\t11447\\t57277\\t63310\\t136\\t106...</td>\n      <td>NaN</td>\n      <td>6238B9E15E83B6D477394E9D80B3784E</td>\n      <td>Photo\\tPhoto</td>\n      <td>NaN</td>\n      <td>NaN</td>\n      <td>TopLevel</td>\n      <td>7F4FAB1EB12CD95EDCD9DB2A6634EFCE</td>\n      <td>1612883086</td>\n      <td>F09233A58769507FD4E6FD618BCFA5B6</td>\n      <td>...</td>\n      <td>CFFD4D0D3AAF28B5397A98E1F4C92C77</td>\n      <td>595</td>\n      <td>1424</td>\n      <td>False</td>\n      <td>1307991260</td>\n      <td>False</td>\n      <td>NaN</td>\n      <td>NaN</td>\n      <td>NaN</td>\n      <td>NaN</td>\n    </tr>\n    <tr>\n      <th>1</th>\n      <td>101\\t56898\\t137\\t10799\\t11039\\t168\\t26978\\t131...</td>\n      <td>NaN</td>\n      <td>731FB90C6CFEF1B71D322106573F71DB</td>\n      <td>Photo</td>\n      <td>NaN</td>\n      <td>NaN</td>\n      <td>Retweet</td>\n      <td>E7F038DE3EAD397AEC9193686C911677</td>\n      <td>1612864776</td>\n      <td>46BEEE566BB708F18075A60FDDAA8503</td>\n      <td>...</td>\n      <td>E0F9A3BB331C7B613B165F32F8D273BE</td>\n      <td>514</td>\n      <td>416</td>\n      <td>False</td>\n      <td>1336861089</td>\n      <td>True</td>\n      <td>NaN</td>\n      <td>NaN</td>\n      <td>NaN</td>\n      <td>NaN</td>\n    </tr>\n    <tr>\n      <th>2</th>\n      <td>101\\t13304\\t179\\t14902\\t74788\\t10390\\t33993\\t1...</td>\n      <td>NaN</td>\n      <td>89276E5272498E858EE8AF691EBF0951</td>\n      <td>NaN</td>\n      <td>NaN</td>\n      <td>NaN</td>\n      <td>TopLevel</td>\n      <td>1F73BB863A39DB62B4A55B7E558DB1E8</td>\n      <td>1613661020</td>\n      <td>83F59BF2E0778AC4078FA3F7B71F5960</td>\n      <td>...</td>\n      <td>58ABF7FB24D65FB94C6487915A889460</td>\n      <td>376</td>\n      <td>311</td>\n      <td>False</td>\n      <td>1602935552</td>\n      <td>True</td>\n      <td>NaN</td>\n      <td>NaN</td>\n      <td>NaN</td>\n      <td>1.613662e+09</td>\n    </tr>\n    <tr>\n      <th>3</th>\n      <td>101\\t620\\t55399\\t17451\\t69304\\t82692\\t572\\t105...</td>\n      <td>NaN</td>\n      <td>502FDBC0EB4E7AB157D38262817716EB</td>\n      <td>NaN</td>\n      <td>F65FE23F3E97EE91DB990B4E02FC8DFC</td>\n      <td>28F197E209F61EE2F1C97FBF9128976D</td>\n      <td>TopLevel</td>\n      <td>310ECD7D1E42216E3C1B31EFDDFC72A7</td>\n      <td>1612751908</td>\n      <td>C96110509F8B6256CE08A8AE85ED75DB</td>\n      <td>...</td>\n      <td>76730357A84D1D04A662FDB1449F1AFF</td>\n      <td>22461</td>\n      <td>16342</td>\n      <td>False</td>\n      <td>1366022767</td>\n      <td>True</td>\n      <td>NaN</td>\n      <td>NaN</td>\n      <td>NaN</td>\n      <td>NaN</td>\n    </tr>\n    <tr>\n      <th>4</th>\n      <td>101\\t10747\\t12723\\t10124\\t29956\\t91518\\t10142\\...</td>\n      <td>NaN</td>\n      <td>CF1F523F7D4D4139E5FD3EBD72F27D5A</td>\n      <td>NaN</td>\n      <td>NaN</td>\n      <td>NaN</td>\n      <td>TopLevel</td>\n      <td>488B32D24BD4BB44172EB981C1BCA6FA</td>\n      <td>1613060168</td>\n      <td>2031F18622E7C6A30E702D33776BF2C1</td>\n      <td>...</td>\n      <td>9008C5AB3CB46623ADBD4C68A2A2D088</td>\n      <td>388</td>\n      <td>647</td>\n      <td>False</td>\n      <td>1410270773</td>\n      <td>False</td>\n      <td>NaN</td>\n      <td>NaN</td>\n      <td>NaN</td>\n      <td>1.613061e+09</td>\n    </tr>\n  </tbody>\n</table>\n<p>5 rows × 24 columns</p>\n</div>"
     },
     "metadata": {},
     "execution_count": 4
    }
   ],
   "source": [
    "ori_df.head()"
   ]
  },
  {
   "cell_type": "code",
   "execution_count": 16,
   "metadata": {},
   "outputs": [],
   "source": [
    "df = ds.preprocess(ori_df)"
   ]
  },
  {
   "cell_type": "code",
   "execution_count": 17,
   "metadata": {},
   "outputs": [
    {
     "output_type": "execute_result",
     "data": {
      "text/plain": [
       "         creator_follows_engager  creator_account_creation  language  \\\n",
       "0                              0                1525021638        10   \n",
       "1                              1                1348805977         1   \n",
       "2                              1                1583939938         5   \n",
       "3                              1                1306675315        12   \n",
       "4                              0                1308377880         0   \n",
       "...                          ...                       ...       ...   \n",
       "4338901                        0                1359315180         1   \n",
       "4338902                        1                1293912925         0   \n",
       "4338903                        0                1512095330         3   \n",
       "4338904                        0                1251066468         0   \n",
       "4338905                        0                1330269463         0   \n",
       "\n",
       "                               creator_id  creator_is_verified  \\\n",
       "0        F09233A58769507FD4E6FD618BCFA5B6                    0   \n",
       "1        46BEEE566BB708F18075A60FDDAA8503                    0   \n",
       "2        83F59BF2E0778AC4078FA3F7B71F5960                    0   \n",
       "3        C96110509F8B6256CE08A8AE85ED75DB                    1   \n",
       "4        2031F18622E7C6A30E702D33776BF2C1                    1   \n",
       "...                                   ...                  ...   \n",
       "4338901  968FAF2F52AACA58C2B41CE5B13A811D                    0   \n",
       "4338902  54652625625729AE0E38196970594938                    0   \n",
       "4338903  614E269F8E5D731946BDBC86E9DC4F4D                    0   \n",
       "4338904  5A5C7CCA69CDEBBD7E81C3797DE9DD7E                    0   \n",
       "4338905  87BD2290F2A144F5F52A176AE3795CBC                    1   \n",
       "\n",
       "         engager_following_count  domains  engager_is_verified  media  \\\n",
       "0                           1424        0                    0      4   \n",
       "1                            416        0                    0      1   \n",
       "2                            311        0                    0      0   \n",
       "3                          16342        1                    0      0   \n",
       "4                            647        0                    0      0   \n",
       "...                          ...      ...                  ...    ...   \n",
       "4338901                     1908        0                    0      1   \n",
       "4338902                      713        0                    0      0   \n",
       "4338903                       48        0                    0      4   \n",
       "4338904                      135        0                    0      4   \n",
       "4338905                     1068        0                    0      4   \n",
       "\n",
       "         engager_account_creation  ...                        engager_id  \\\n",
       "0                      1307991260  ...  CFFD4D0D3AAF28B5397A98E1F4C92C77   \n",
       "1                      1336861089  ...  E0F9A3BB331C7B613B165F32F8D273BE   \n",
       "2                      1602935552  ...  58ABF7FB24D65FB94C6487915A889460   \n",
       "3                      1366022767  ...  76730357A84D1D04A662FDB1449F1AFF   \n",
       "4                      1410270773  ...  9008C5AB3CB46623ADBD4C68A2A2D088   \n",
       "...                           ...  ...                               ...   \n",
       "4338901                1420785574  ...  1BC672DA2F063F2DE03DA89BA6B621C5   \n",
       "4338902                1311226875  ...  39D3029E8FDC3A18472D28436EC9E776   \n",
       "4338903                1597880960  ...  4A4E526A7390A5CC9D02ECB5CB62F377   \n",
       "4338904                1604003943  ...  D8CAFE1402CE86E007370664FC553C2B   \n",
       "4338905                1593749766  ...  D2A8A3064C0FF7EF281EF289E564F4F5   \n",
       "\n",
       "         creator_following_count  reply retweet  comment like  dt_day  dt_dow  \\\n",
       "0                            645    0.0     0.0      0.0  0.0       9       1   \n",
       "1                           3690    0.0     0.0      0.0  0.0       9       1   \n",
       "2                            146    0.0     0.0      0.0  1.0      18       3   \n",
       "3                           2124    0.0     0.0      0.0  0.0       8       0   \n",
       "4                           1101    0.0     0.0      0.0  1.0      11       3   \n",
       "...                          ...    ...     ...      ...  ...     ...     ...   \n",
       "4338901                      315    0.0     0.0      0.0  1.0       7       6   \n",
       "4338902                      937    0.0     0.0      0.0  0.0       8       0   \n",
       "4338903                      121    0.0     0.0      0.0  1.0       4       3   \n",
       "4338904                      368    0.0     0.0      0.0  1.0      10       2   \n",
       "4338905                      148    0.0     0.0      0.0  1.0      17       2   \n",
       "\n",
       "         dt_hour  len_domains  \n",
       "0             15            0  \n",
       "1              9            0  \n",
       "2             15            0  \n",
       "3              2            1  \n",
       "4             16            0  \n",
       "...          ...          ...  \n",
       "4338901        4            0  \n",
       "4338902        0            0  \n",
       "4338903        0            0  \n",
       "4338904       11            0  \n",
       "4338905       13            0  \n",
       "\n",
       "[4338906 rows x 25 columns]"
      ],
      "text/html": "<div>\n<style scoped>\n    .dataframe tbody tr th:only-of-type {\n        vertical-align: middle;\n    }\n\n    .dataframe tbody tr th {\n        vertical-align: top;\n    }\n\n    .dataframe thead th {\n        text-align: right;\n    }\n</style>\n<table border=\"1\" class=\"dataframe\">\n  <thead>\n    <tr style=\"text-align: right;\">\n      <th></th>\n      <th>creator_follows_engager</th>\n      <th>creator_account_creation</th>\n      <th>language</th>\n      <th>creator_id</th>\n      <th>creator_is_verified</th>\n      <th>engager_following_count</th>\n      <th>domains</th>\n      <th>engager_is_verified</th>\n      <th>media</th>\n      <th>engager_account_creation</th>\n      <th>...</th>\n      <th>engager_id</th>\n      <th>creator_following_count</th>\n      <th>reply</th>\n      <th>retweet</th>\n      <th>comment</th>\n      <th>like</th>\n      <th>dt_day</th>\n      <th>dt_dow</th>\n      <th>dt_hour</th>\n      <th>len_domains</th>\n    </tr>\n  </thead>\n  <tbody>\n    <tr>\n      <th>0</th>\n      <td>0</td>\n      <td>1525021638</td>\n      <td>10</td>\n      <td>F09233A58769507FD4E6FD618BCFA5B6</td>\n      <td>0</td>\n      <td>1424</td>\n      <td>0</td>\n      <td>0</td>\n      <td>4</td>\n      <td>1307991260</td>\n      <td>...</td>\n      <td>CFFD4D0D3AAF28B5397A98E1F4C92C77</td>\n      <td>645</td>\n      <td>0.0</td>\n      <td>0.0</td>\n      <td>0.0</td>\n      <td>0.0</td>\n      <td>9</td>\n      <td>1</td>\n      <td>15</td>\n      <td>0</td>\n    </tr>\n    <tr>\n      <th>1</th>\n      <td>1</td>\n      <td>1348805977</td>\n      <td>1</td>\n      <td>46BEEE566BB708F18075A60FDDAA8503</td>\n      <td>0</td>\n      <td>416</td>\n      <td>0</td>\n      <td>0</td>\n      <td>1</td>\n      <td>1336861089</td>\n      <td>...</td>\n      <td>E0F9A3BB331C7B613B165F32F8D273BE</td>\n      <td>3690</td>\n      <td>0.0</td>\n      <td>0.0</td>\n      <td>0.0</td>\n      <td>0.0</td>\n      <td>9</td>\n      <td>1</td>\n      <td>9</td>\n      <td>0</td>\n    </tr>\n    <tr>\n      <th>2</th>\n      <td>1</td>\n      <td>1583939938</td>\n      <td>5</td>\n      <td>83F59BF2E0778AC4078FA3F7B71F5960</td>\n      <td>0</td>\n      <td>311</td>\n      <td>0</td>\n      <td>0</td>\n      <td>0</td>\n      <td>1602935552</td>\n      <td>...</td>\n      <td>58ABF7FB24D65FB94C6487915A889460</td>\n      <td>146</td>\n      <td>0.0</td>\n      <td>0.0</td>\n      <td>0.0</td>\n      <td>1.0</td>\n      <td>18</td>\n      <td>3</td>\n      <td>15</td>\n      <td>0</td>\n    </tr>\n    <tr>\n      <th>3</th>\n      <td>1</td>\n      <td>1306675315</td>\n      <td>12</td>\n      <td>C96110509F8B6256CE08A8AE85ED75DB</td>\n      <td>1</td>\n      <td>16342</td>\n      <td>1</td>\n      <td>0</td>\n      <td>0</td>\n      <td>1366022767</td>\n      <td>...</td>\n      <td>76730357A84D1D04A662FDB1449F1AFF</td>\n      <td>2124</td>\n      <td>0.0</td>\n      <td>0.0</td>\n      <td>0.0</td>\n      <td>0.0</td>\n      <td>8</td>\n      <td>0</td>\n      <td>2</td>\n      <td>1</td>\n    </tr>\n    <tr>\n      <th>4</th>\n      <td>0</td>\n      <td>1308377880</td>\n      <td>0</td>\n      <td>2031F18622E7C6A30E702D33776BF2C1</td>\n      <td>1</td>\n      <td>647</td>\n      <td>0</td>\n      <td>0</td>\n      <td>0</td>\n      <td>1410270773</td>\n      <td>...</td>\n      <td>9008C5AB3CB46623ADBD4C68A2A2D088</td>\n      <td>1101</td>\n      <td>0.0</td>\n      <td>0.0</td>\n      <td>0.0</td>\n      <td>1.0</td>\n      <td>11</td>\n      <td>3</td>\n      <td>16</td>\n      <td>0</td>\n    </tr>\n    <tr>\n      <th>...</th>\n      <td>...</td>\n      <td>...</td>\n      <td>...</td>\n      <td>...</td>\n      <td>...</td>\n      <td>...</td>\n      <td>...</td>\n      <td>...</td>\n      <td>...</td>\n      <td>...</td>\n      <td>...</td>\n      <td>...</td>\n      <td>...</td>\n      <td>...</td>\n      <td>...</td>\n      <td>...</td>\n      <td>...</td>\n      <td>...</td>\n      <td>...</td>\n      <td>...</td>\n      <td>...</td>\n    </tr>\n    <tr>\n      <th>4338901</th>\n      <td>0</td>\n      <td>1359315180</td>\n      <td>1</td>\n      <td>968FAF2F52AACA58C2B41CE5B13A811D</td>\n      <td>0</td>\n      <td>1908</td>\n      <td>0</td>\n      <td>0</td>\n      <td>1</td>\n      <td>1420785574</td>\n      <td>...</td>\n      <td>1BC672DA2F063F2DE03DA89BA6B621C5</td>\n      <td>315</td>\n      <td>0.0</td>\n      <td>0.0</td>\n      <td>0.0</td>\n      <td>1.0</td>\n      <td>7</td>\n      <td>6</td>\n      <td>4</td>\n      <td>0</td>\n    </tr>\n    <tr>\n      <th>4338902</th>\n      <td>1</td>\n      <td>1293912925</td>\n      <td>0</td>\n      <td>54652625625729AE0E38196970594938</td>\n      <td>0</td>\n      <td>713</td>\n      <td>0</td>\n      <td>0</td>\n      <td>0</td>\n      <td>1311226875</td>\n      <td>...</td>\n      <td>39D3029E8FDC3A18472D28436EC9E776</td>\n      <td>937</td>\n      <td>0.0</td>\n      <td>0.0</td>\n      <td>0.0</td>\n      <td>0.0</td>\n      <td>8</td>\n      <td>0</td>\n      <td>0</td>\n      <td>0</td>\n    </tr>\n    <tr>\n      <th>4338903</th>\n      <td>0</td>\n      <td>1512095330</td>\n      <td>3</td>\n      <td>614E269F8E5D731946BDBC86E9DC4F4D</td>\n      <td>0</td>\n      <td>48</td>\n      <td>0</td>\n      <td>0</td>\n      <td>4</td>\n      <td>1597880960</td>\n      <td>...</td>\n      <td>4A4E526A7390A5CC9D02ECB5CB62F377</td>\n      <td>121</td>\n      <td>0.0</td>\n      <td>0.0</td>\n      <td>0.0</td>\n      <td>1.0</td>\n      <td>4</td>\n      <td>3</td>\n      <td>0</td>\n      <td>0</td>\n    </tr>\n    <tr>\n      <th>4338904</th>\n      <td>0</td>\n      <td>1251066468</td>\n      <td>0</td>\n      <td>5A5C7CCA69CDEBBD7E81C3797DE9DD7E</td>\n      <td>0</td>\n      <td>135</td>\n      <td>0</td>\n      <td>0</td>\n      <td>4</td>\n      <td>1604003943</td>\n      <td>...</td>\n      <td>D8CAFE1402CE86E007370664FC553C2B</td>\n      <td>368</td>\n      <td>0.0</td>\n      <td>0.0</td>\n      <td>0.0</td>\n      <td>1.0</td>\n      <td>10</td>\n      <td>2</td>\n      <td>11</td>\n      <td>0</td>\n    </tr>\n    <tr>\n      <th>4338905</th>\n      <td>0</td>\n      <td>1330269463</td>\n      <td>0</td>\n      <td>87BD2290F2A144F5F52A176AE3795CBC</td>\n      <td>1</td>\n      <td>1068</td>\n      <td>0</td>\n      <td>0</td>\n      <td>4</td>\n      <td>1593749766</td>\n      <td>...</td>\n      <td>D2A8A3064C0FF7EF281EF289E564F4F5</td>\n      <td>148</td>\n      <td>0.0</td>\n      <td>0.0</td>\n      <td>0.0</td>\n      <td>1.0</td>\n      <td>17</td>\n      <td>2</td>\n      <td>13</td>\n      <td>0</td>\n    </tr>\n  </tbody>\n</table>\n<p>4338906 rows × 25 columns</p>\n</div>"
     },
     "metadata": {},
     "execution_count": 17
    }
   ],
   "source": [
    "df"
   ]
  },
  {
   "cell_type": "code",
   "execution_count": 19,
   "metadata": {},
   "outputs": [],
   "source": [
    "pkl_path = conf.dict_path + 'user_main_language.pkl'\n",
    "with open(pkl_path, 'rb') as f:\n",
    "    user_to_main_language = pickle.load(f)"
   ]
  },
  {
   "cell_type": "code",
   "execution_count": 20,
   "metadata": {},
   "outputs": [],
   "source": [
    "df['engager_main_language'] = df['engager_id'].apply(lambda x: user_to_main_language[x])\n",
    "df['creator_main_language'] = df['creator_id'].apply(lambda x: user_to_main_language[x])"
   ]
  },
  {
   "cell_type": "code",
   "execution_count": 21,
   "metadata": {},
   "outputs": [],
   "source": [
    "df['is_same_main_language'] = df['engager_main_language'] == df['creator_main_language']"
   ]
  },
  {
   "cell_type": "code",
   "execution_count": 22,
   "metadata": {},
   "outputs": [
    {
     "output_type": "execute_result",
     "data": {
      "text/plain": [
       "         creator_follows_engager  creator_account_creation  language  \\\n",
       "0                              0                1525021638        10   \n",
       "1                              1                1348805977         1   \n",
       "2                              1                1583939938         5   \n",
       "3                              1                1306675315        12   \n",
       "4                              0                1308377880         0   \n",
       "...                          ...                       ...       ...   \n",
       "4338901                        0                1359315180         1   \n",
       "4338902                        1                1293912925         0   \n",
       "4338903                        0                1512095330         3   \n",
       "4338904                        0                1251066468         0   \n",
       "4338905                        0                1330269463         0   \n",
       "\n",
       "                               creator_id  creator_is_verified  \\\n",
       "0        F09233A58769507FD4E6FD618BCFA5B6                    0   \n",
       "1        46BEEE566BB708F18075A60FDDAA8503                    0   \n",
       "2        83F59BF2E0778AC4078FA3F7B71F5960                    0   \n",
       "3        C96110509F8B6256CE08A8AE85ED75DB                    1   \n",
       "4        2031F18622E7C6A30E702D33776BF2C1                    1   \n",
       "...                                   ...                  ...   \n",
       "4338901  968FAF2F52AACA58C2B41CE5B13A811D                    0   \n",
       "4338902  54652625625729AE0E38196970594938                    0   \n",
       "4338903  614E269F8E5D731946BDBC86E9DC4F4D                    0   \n",
       "4338904  5A5C7CCA69CDEBBD7E81C3797DE9DD7E                    0   \n",
       "4338905  87BD2290F2A144F5F52A176AE3795CBC                    1   \n",
       "\n",
       "         engager_following_count  domains  engager_is_verified  media  \\\n",
       "0                           1424        0                    0      4   \n",
       "1                            416        0                    0      1   \n",
       "2                            311        0                    0      0   \n",
       "3                          16342        1                    0      0   \n",
       "4                            647        0                    0      0   \n",
       "...                          ...      ...                  ...    ...   \n",
       "4338901                     1908        0                    0      1   \n",
       "4338902                      713        0                    0      0   \n",
       "4338903                       48        0                    0      4   \n",
       "4338904                      135        0                    0      4   \n",
       "4338905                     1068        0                    0      4   \n",
       "\n",
       "         engager_account_creation  ...  retweet  comment  like dt_day  dt_dow  \\\n",
       "0                      1307991260  ...      0.0      0.0   0.0      9       1   \n",
       "1                      1336861089  ...      0.0      0.0   0.0      9       1   \n",
       "2                      1602935552  ...      0.0      0.0   1.0     18       3   \n",
       "3                      1366022767  ...      0.0      0.0   0.0      8       0   \n",
       "4                      1410270773  ...      0.0      0.0   1.0     11       3   \n",
       "...                           ...  ...      ...      ...   ...    ...     ...   \n",
       "4338901                1420785574  ...      0.0      0.0   1.0      7       6   \n",
       "4338902                1311226875  ...      0.0      0.0   0.0      8       0   \n",
       "4338903                1597880960  ...      0.0      0.0   1.0      4       3   \n",
       "4338904                1604003943  ...      0.0      0.0   1.0     10       2   \n",
       "4338905                1593749766  ...      0.0      0.0   1.0     17       2   \n",
       "\n",
       "        dt_hour  len_domains  engager_main_language  creator_main_language  \\\n",
       "0            15            0                     35                      9   \n",
       "1             9            0                      1                      1   \n",
       "2            15            0                      4                      5   \n",
       "3             2            1                      1                     12   \n",
       "4            16            0                     13                      0   \n",
       "...         ...          ...                    ...                    ...   \n",
       "4338901       4            0                      1                      1   \n",
       "4338902       0            0                      0                      0   \n",
       "4338903       0            0                      3                     17   \n",
       "4338904      11            0                      0                      0   \n",
       "4338905      13            0                      9                      0   \n",
       "\n",
       "         is_same_main_language  \n",
       "0                        False  \n",
       "1                         True  \n",
       "2                        False  \n",
       "3                        False  \n",
       "4                        False  \n",
       "...                        ...  \n",
       "4338901                   True  \n",
       "4338902                   True  \n",
       "4338903                  False  \n",
       "4338904                   True  \n",
       "4338905                  False  \n",
       "\n",
       "[4338906 rows x 28 columns]"
      ],
      "text/html": "<div>\n<style scoped>\n    .dataframe tbody tr th:only-of-type {\n        vertical-align: middle;\n    }\n\n    .dataframe tbody tr th {\n        vertical-align: top;\n    }\n\n    .dataframe thead th {\n        text-align: right;\n    }\n</style>\n<table border=\"1\" class=\"dataframe\">\n  <thead>\n    <tr style=\"text-align: right;\">\n      <th></th>\n      <th>creator_follows_engager</th>\n      <th>creator_account_creation</th>\n      <th>language</th>\n      <th>creator_id</th>\n      <th>creator_is_verified</th>\n      <th>engager_following_count</th>\n      <th>domains</th>\n      <th>engager_is_verified</th>\n      <th>media</th>\n      <th>engager_account_creation</th>\n      <th>...</th>\n      <th>retweet</th>\n      <th>comment</th>\n      <th>like</th>\n      <th>dt_day</th>\n      <th>dt_dow</th>\n      <th>dt_hour</th>\n      <th>len_domains</th>\n      <th>engager_main_language</th>\n      <th>creator_main_language</th>\n      <th>is_same_main_language</th>\n    </tr>\n  </thead>\n  <tbody>\n    <tr>\n      <th>0</th>\n      <td>0</td>\n      <td>1525021638</td>\n      <td>10</td>\n      <td>F09233A58769507FD4E6FD618BCFA5B6</td>\n      <td>0</td>\n      <td>1424</td>\n      <td>0</td>\n      <td>0</td>\n      <td>4</td>\n      <td>1307991260</td>\n      <td>...</td>\n      <td>0.0</td>\n      <td>0.0</td>\n      <td>0.0</td>\n      <td>9</td>\n      <td>1</td>\n      <td>15</td>\n      <td>0</td>\n      <td>35</td>\n      <td>9</td>\n      <td>False</td>\n    </tr>\n    <tr>\n      <th>1</th>\n      <td>1</td>\n      <td>1348805977</td>\n      <td>1</td>\n      <td>46BEEE566BB708F18075A60FDDAA8503</td>\n      <td>0</td>\n      <td>416</td>\n      <td>0</td>\n      <td>0</td>\n      <td>1</td>\n      <td>1336861089</td>\n      <td>...</td>\n      <td>0.0</td>\n      <td>0.0</td>\n      <td>0.0</td>\n      <td>9</td>\n      <td>1</td>\n      <td>9</td>\n      <td>0</td>\n      <td>1</td>\n      <td>1</td>\n      <td>True</td>\n    </tr>\n    <tr>\n      <th>2</th>\n      <td>1</td>\n      <td>1583939938</td>\n      <td>5</td>\n      <td>83F59BF2E0778AC4078FA3F7B71F5960</td>\n      <td>0</td>\n      <td>311</td>\n      <td>0</td>\n      <td>0</td>\n      <td>0</td>\n      <td>1602935552</td>\n      <td>...</td>\n      <td>0.0</td>\n      <td>0.0</td>\n      <td>1.0</td>\n      <td>18</td>\n      <td>3</td>\n      <td>15</td>\n      <td>0</td>\n      <td>4</td>\n      <td>5</td>\n      <td>False</td>\n    </tr>\n    <tr>\n      <th>3</th>\n      <td>1</td>\n      <td>1306675315</td>\n      <td>12</td>\n      <td>C96110509F8B6256CE08A8AE85ED75DB</td>\n      <td>1</td>\n      <td>16342</td>\n      <td>1</td>\n      <td>0</td>\n      <td>0</td>\n      <td>1366022767</td>\n      <td>...</td>\n      <td>0.0</td>\n      <td>0.0</td>\n      <td>0.0</td>\n      <td>8</td>\n      <td>0</td>\n      <td>2</td>\n      <td>1</td>\n      <td>1</td>\n      <td>12</td>\n      <td>False</td>\n    </tr>\n    <tr>\n      <th>4</th>\n      <td>0</td>\n      <td>1308377880</td>\n      <td>0</td>\n      <td>2031F18622E7C6A30E702D33776BF2C1</td>\n      <td>1</td>\n      <td>647</td>\n      <td>0</td>\n      <td>0</td>\n      <td>0</td>\n      <td>1410270773</td>\n      <td>...</td>\n      <td>0.0</td>\n      <td>0.0</td>\n      <td>1.0</td>\n      <td>11</td>\n      <td>3</td>\n      <td>16</td>\n      <td>0</td>\n      <td>13</td>\n      <td>0</td>\n      <td>False</td>\n    </tr>\n    <tr>\n      <th>...</th>\n      <td>...</td>\n      <td>...</td>\n      <td>...</td>\n      <td>...</td>\n      <td>...</td>\n      <td>...</td>\n      <td>...</td>\n      <td>...</td>\n      <td>...</td>\n      <td>...</td>\n      <td>...</td>\n      <td>...</td>\n      <td>...</td>\n      <td>...</td>\n      <td>...</td>\n      <td>...</td>\n      <td>...</td>\n      <td>...</td>\n      <td>...</td>\n      <td>...</td>\n      <td>...</td>\n    </tr>\n    <tr>\n      <th>4338901</th>\n      <td>0</td>\n      <td>1359315180</td>\n      <td>1</td>\n      <td>968FAF2F52AACA58C2B41CE5B13A811D</td>\n      <td>0</td>\n      <td>1908</td>\n      <td>0</td>\n      <td>0</td>\n      <td>1</td>\n      <td>1420785574</td>\n      <td>...</td>\n      <td>0.0</td>\n      <td>0.0</td>\n      <td>1.0</td>\n      <td>7</td>\n      <td>6</td>\n      <td>4</td>\n      <td>0</td>\n      <td>1</td>\n      <td>1</td>\n      <td>True</td>\n    </tr>\n    <tr>\n      <th>4338902</th>\n      <td>1</td>\n      <td>1293912925</td>\n      <td>0</td>\n      <td>54652625625729AE0E38196970594938</td>\n      <td>0</td>\n      <td>713</td>\n      <td>0</td>\n      <td>0</td>\n      <td>0</td>\n      <td>1311226875</td>\n      <td>...</td>\n      <td>0.0</td>\n      <td>0.0</td>\n      <td>0.0</td>\n      <td>8</td>\n      <td>0</td>\n      <td>0</td>\n      <td>0</td>\n      <td>0</td>\n      <td>0</td>\n      <td>True</td>\n    </tr>\n    <tr>\n      <th>4338903</th>\n      <td>0</td>\n      <td>1512095330</td>\n      <td>3</td>\n      <td>614E269F8E5D731946BDBC86E9DC4F4D</td>\n      <td>0</td>\n      <td>48</td>\n      <td>0</td>\n      <td>0</td>\n      <td>4</td>\n      <td>1597880960</td>\n      <td>...</td>\n      <td>0.0</td>\n      <td>0.0</td>\n      <td>1.0</td>\n      <td>4</td>\n      <td>3</td>\n      <td>0</td>\n      <td>0</td>\n      <td>3</td>\n      <td>17</td>\n      <td>False</td>\n    </tr>\n    <tr>\n      <th>4338904</th>\n      <td>0</td>\n      <td>1251066468</td>\n      <td>0</td>\n      <td>5A5C7CCA69CDEBBD7E81C3797DE9DD7E</td>\n      <td>0</td>\n      <td>135</td>\n      <td>0</td>\n      <td>0</td>\n      <td>4</td>\n      <td>1604003943</td>\n      <td>...</td>\n      <td>0.0</td>\n      <td>0.0</td>\n      <td>1.0</td>\n      <td>10</td>\n      <td>2</td>\n      <td>11</td>\n      <td>0</td>\n      <td>0</td>\n      <td>0</td>\n      <td>True</td>\n    </tr>\n    <tr>\n      <th>4338905</th>\n      <td>0</td>\n      <td>1330269463</td>\n      <td>0</td>\n      <td>87BD2290F2A144F5F52A176AE3795CBC</td>\n      <td>1</td>\n      <td>1068</td>\n      <td>0</td>\n      <td>0</td>\n      <td>4</td>\n      <td>1593749766</td>\n      <td>...</td>\n      <td>0.0</td>\n      <td>0.0</td>\n      <td>1.0</td>\n      <td>17</td>\n      <td>2</td>\n      <td>13</td>\n      <td>0</td>\n      <td>9</td>\n      <td>0</td>\n      <td>False</td>\n    </tr>\n  </tbody>\n</table>\n<p>4338906 rows × 28 columns</p>\n</div>"
     },
     "metadata": {},
     "execution_count": 22
    }
   ],
   "source": [
    "df"
   ]
  },
  {
   "cell_type": "code",
   "execution_count": 23,
   "metadata": {},
   "outputs": [],
   "source": [
    "df['retweet']  = df['retweet'].astype(np.bool)\n",
    "df['like'] = df['like'].astype(np.bool)\n",
    "df['comment'] = df['comment'].astype(np.bool)\n",
    "df['reply'] = df['reply'].astype(np.bool)"
   ]
  },
  {
   "cell_type": "code",
   "execution_count": 24,
   "metadata": {},
   "outputs": [],
   "source": [
    "df['is_positive'] = df['retweet'] | df['like'] | df['comment'] | df['reply']"
   ]
  },
  {
   "cell_type": "code",
   "execution_count": 25,
   "metadata": {},
   "outputs": [],
   "source": [
    "positive = df[df['is_positive'] == True]"
   ]
  },
  {
   "cell_type": "code",
   "execution_count": 26,
   "metadata": {},
   "outputs": [
    {
     "output_type": "execute_result",
     "data": {
      "text/plain": [
       "2164208"
      ]
     },
     "metadata": {},
     "execution_count": 26
    }
   ],
   "source": [
    "len(positive)"
   ]
  },
  {
   "cell_type": "code",
   "execution_count": 27,
   "metadata": {},
   "outputs": [],
   "source": [
    "cnt_same_main_language = len(positive[positive['is_same_main_language']==True])\n",
    "cnt_different_main_language = len(positive[positive['is_same_main_language']==False])"
   ]
  },
  {
   "cell_type": "code",
   "execution_count": 28,
   "metadata": {},
   "outputs": [
    {
     "output_type": "execute_result",
     "data": {
      "text/plain": [
       "817233"
      ]
     },
     "metadata": {},
     "execution_count": 28
    }
   ],
   "source": [
    "cnt_same_main_language"
   ]
  },
  {
   "cell_type": "code",
   "execution_count": 29,
   "metadata": {},
   "outputs": [
    {
     "output_type": "execute_result",
     "data": {
      "text/plain": [
       "1346975"
      ]
     },
     "metadata": {},
     "execution_count": 29
    }
   ],
   "source": [
    "cnt_different_main_language"
   ]
  },
  {
   "cell_type": "code",
   "execution_count": null,
   "metadata": {},
   "outputs": [],
   "source": []
  },
  {
   "cell_type": "code",
   "execution_count": 32,
   "metadata": {},
   "outputs": [
    {
     "output_type": "execute_result",
     "data": {
      "text/plain": [
       "         engager_main_language  creator_main_language\n",
       "4338734                     35                     17\n",
       "4338737                      9                      3\n",
       "4338739                      2                      3\n",
       "4338741                      2                      9\n",
       "4338744                      0                      2\n",
       "4338746                     11                     24\n",
       "4338748                     35                     24\n",
       "4338751                      1                     35\n",
       "4338757                      9                     35\n",
       "4338759                      2                      1\n",
       "4338767                      3                      2\n",
       "4338772                     39                      5\n",
       "4338773                     35                     17\n",
       "4338775                      3                      9\n",
       "4338779                     35                      1\n",
       "4338780                      1                      4\n",
       "4338782                     26                      1\n",
       "4338786                      9                     35\n",
       "4338790                      3                      9\n",
       "4338791                     26                     35\n",
       "4338793                      3                     24\n",
       "4338794                      3                      9\n",
       "4338797                     26                     17\n",
       "4338801                      3                      2\n",
       "4338809                      9                      0\n",
       "4338812                      0                      9\n",
       "4338814                      1                     39\n",
       "4338816                      1                     35\n",
       "4338825                      1                     35\n",
       "4338826                      1                     35\n",
       "4338829                     26                     10\n",
       "4338830                      9                     26\n",
       "4338835                      3                     35\n",
       "4338841                     35                      3\n",
       "4338860                      9                     35\n",
       "4338863                      9                     29\n",
       "4338866                      1                     35\n",
       "4338867                      3                      9\n",
       "4338871                     29                      2\n",
       "4338872                      9                      0\n",
       "4338875                     35                      0\n",
       "4338878                     26                      3\n",
       "4338879                      3                     35\n",
       "4338880                      1                     35\n",
       "4338889                      0                      9\n",
       "4338893                      1                      9\n",
       "4338894                     35                      1\n",
       "4338898                      5                     24\n",
       "4338903                      3                     17\n",
       "4338905                      9                      0"
      ],
      "text/html": "<div>\n<style scoped>\n    .dataframe tbody tr th:only-of-type {\n        vertical-align: middle;\n    }\n\n    .dataframe tbody tr th {\n        vertical-align: top;\n    }\n\n    .dataframe thead th {\n        text-align: right;\n    }\n</style>\n<table border=\"1\" class=\"dataframe\">\n  <thead>\n    <tr style=\"text-align: right;\">\n      <th></th>\n      <th>engager_main_language</th>\n      <th>creator_main_language</th>\n    </tr>\n  </thead>\n  <tbody>\n    <tr>\n      <th>4338734</th>\n      <td>35</td>\n      <td>17</td>\n    </tr>\n    <tr>\n      <th>4338737</th>\n      <td>9</td>\n      <td>3</td>\n    </tr>\n    <tr>\n      <th>4338739</th>\n      <td>2</td>\n      <td>3</td>\n    </tr>\n    <tr>\n      <th>4338741</th>\n      <td>2</td>\n      <td>9</td>\n    </tr>\n    <tr>\n      <th>4338744</th>\n      <td>0</td>\n      <td>2</td>\n    </tr>\n    <tr>\n      <th>4338746</th>\n      <td>11</td>\n      <td>24</td>\n    </tr>\n    <tr>\n      <th>4338748</th>\n      <td>35</td>\n      <td>24</td>\n    </tr>\n    <tr>\n      <th>4338751</th>\n      <td>1</td>\n      <td>35</td>\n    </tr>\n    <tr>\n      <th>4338757</th>\n      <td>9</td>\n      <td>35</td>\n    </tr>\n    <tr>\n      <th>4338759</th>\n      <td>2</td>\n      <td>1</td>\n    </tr>\n    <tr>\n      <th>4338767</th>\n      <td>3</td>\n      <td>2</td>\n    </tr>\n    <tr>\n      <th>4338772</th>\n      <td>39</td>\n      <td>5</td>\n    </tr>\n    <tr>\n      <th>4338773</th>\n      <td>35</td>\n      <td>17</td>\n    </tr>\n    <tr>\n      <th>4338775</th>\n      <td>3</td>\n      <td>9</td>\n    </tr>\n    <tr>\n      <th>4338779</th>\n      <td>35</td>\n      <td>1</td>\n    </tr>\n    <tr>\n      <th>4338780</th>\n      <td>1</td>\n      <td>4</td>\n    </tr>\n    <tr>\n      <th>4338782</th>\n      <td>26</td>\n      <td>1</td>\n    </tr>\n    <tr>\n      <th>4338786</th>\n      <td>9</td>\n      <td>35</td>\n    </tr>\n    <tr>\n      <th>4338790</th>\n      <td>3</td>\n      <td>9</td>\n    </tr>\n    <tr>\n      <th>4338791</th>\n      <td>26</td>\n      <td>35</td>\n    </tr>\n    <tr>\n      <th>4338793</th>\n      <td>3</td>\n      <td>24</td>\n    </tr>\n    <tr>\n      <th>4338794</th>\n      <td>3</td>\n      <td>9</td>\n    </tr>\n    <tr>\n      <th>4338797</th>\n      <td>26</td>\n      <td>17</td>\n    </tr>\n    <tr>\n      <th>4338801</th>\n      <td>3</td>\n      <td>2</td>\n    </tr>\n    <tr>\n      <th>4338809</th>\n      <td>9</td>\n      <td>0</td>\n    </tr>\n    <tr>\n      <th>4338812</th>\n      <td>0</td>\n      <td>9</td>\n    </tr>\n    <tr>\n      <th>4338814</th>\n      <td>1</td>\n      <td>39</td>\n    </tr>\n    <tr>\n      <th>4338816</th>\n      <td>1</td>\n      <td>35</td>\n    </tr>\n    <tr>\n      <th>4338825</th>\n      <td>1</td>\n      <td>35</td>\n    </tr>\n    <tr>\n      <th>4338826</th>\n      <td>1</td>\n      <td>35</td>\n    </tr>\n    <tr>\n      <th>4338829</th>\n      <td>26</td>\n      <td>10</td>\n    </tr>\n    <tr>\n      <th>4338830</th>\n      <td>9</td>\n      <td>26</td>\n    </tr>\n    <tr>\n      <th>4338835</th>\n      <td>3</td>\n      <td>35</td>\n    </tr>\n    <tr>\n      <th>4338841</th>\n      <td>35</td>\n      <td>3</td>\n    </tr>\n    <tr>\n      <th>4338860</th>\n      <td>9</td>\n      <td>35</td>\n    </tr>\n    <tr>\n      <th>4338863</th>\n      <td>9</td>\n      <td>29</td>\n    </tr>\n    <tr>\n      <th>4338866</th>\n      <td>1</td>\n      <td>35</td>\n    </tr>\n    <tr>\n      <th>4338867</th>\n      <td>3</td>\n      <td>9</td>\n    </tr>\n    <tr>\n      <th>4338871</th>\n      <td>29</td>\n      <td>2</td>\n    </tr>\n    <tr>\n      <th>4338872</th>\n      <td>9</td>\n      <td>0</td>\n    </tr>\n    <tr>\n      <th>4338875</th>\n      <td>35</td>\n      <td>0</td>\n    </tr>\n    <tr>\n      <th>4338878</th>\n      <td>26</td>\n      <td>3</td>\n    </tr>\n    <tr>\n      <th>4338879</th>\n      <td>3</td>\n      <td>35</td>\n    </tr>\n    <tr>\n      <th>4338880</th>\n      <td>1</td>\n      <td>35</td>\n    </tr>\n    <tr>\n      <th>4338889</th>\n      <td>0</td>\n      <td>9</td>\n    </tr>\n    <tr>\n      <th>4338893</th>\n      <td>1</td>\n      <td>9</td>\n    </tr>\n    <tr>\n      <th>4338894</th>\n      <td>35</td>\n      <td>1</td>\n    </tr>\n    <tr>\n      <th>4338898</th>\n      <td>5</td>\n      <td>24</td>\n    </tr>\n    <tr>\n      <th>4338903</th>\n      <td>3</td>\n      <td>17</td>\n    </tr>\n    <tr>\n      <th>4338905</th>\n      <td>9</td>\n      <td>0</td>\n    </tr>\n  </tbody>\n</table>\n</div>"
     },
     "metadata": {},
     "execution_count": 32
    }
   ],
   "source": [
    "positive[positive['is_same_main_language']==False][['engager_main_language', 'creator_main_language']].tail(50)"
   ]
  },
  {
   "cell_type": "code",
   "execution_count": null,
   "metadata": {},
   "outputs": [],
   "source": []
  }
 ]
}