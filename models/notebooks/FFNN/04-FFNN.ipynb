{
 "cells": [
  {
   "cell_type": "code",
   "execution_count": 1,
   "id": "da4d22e6",
   "metadata": {},
   "outputs": [],
   "source": [
    "import sys\n",
    "sys.path.append('../../..')\n",
    "\n",
    "import numpy as np\n",
    "import matplotlib.pyplot as plt\n",
    "import pandas as pd\n",
    "from tqdm import tqdm\n",
    "from sklearn.model_selection import train_test_split\n",
    "import tensorflow as tf\n",
    "from tensorflow import feature_column as fc\n",
    "from tensorflow.keras.models import Sequential\n",
    "from tensorflow.keras.layers import Dense\n",
    "from sklearn import preprocessing\n",
    "from tensorflow.keras.models import save_model,load_model\n",
    "from utils.preprocessing import *\n",
    "from utils.gpu.cuda_cluster import *\n",
    "from utils.gpu.preprocessing import read_data, factorize_small_cardinality_with_index, df_to_tfdataset, split_join, get_media_index\n",
    "from utils.evaluate import calculate_ctr, compute_rce, average_precision_score\n",
    "import tensorflow.keras.backend as K\n",
    "import core.config as conf"
   ]
  },
  {
   "cell_type": "code",
   "execution_count": 2,
   "id": "ac9d7d79",
   "metadata": {},
   "outputs": [
    {
     "data": {
      "text/html": [
       "<table style=\"border: 2px solid white;\">\n",
       "<tr>\n",
       "<td style=\"vertical-align: top; border: 0px solid white\">\n",
       "<h3 style=\"text-align: left;\">Client</h3>\n",
       "<ul style=\"text-align: left; list-style: none; margin: 0; padding: 0;\">\n",
       "  <li><b>Scheduler: </b>tcp://127.0.0.1:40525</li>\n",
       "  <li><b>Dashboard: </b><a href='http://127.0.0.1:8787/status' target='_blank'>http://127.0.0.1:8787/status</a></li>\n",
       "</ul>\n",
       "</td>\n",
       "<td style=\"vertical-align: top; border: 0px solid white\">\n",
       "<h3 style=\"text-align: left;\">Cluster</h3>\n",
       "<ul style=\"text-align: left; list-style:none; margin: 0; padding: 0;\">\n",
       "  <li><b>Workers: </b>1</li>\n",
       "  <li><b>Cores: </b>1</li>\n",
       "  <li><b>Memory: </b>33.47 GB</li>\n",
       "</ul>\n",
       "</td>\n",
       "</tr>\n",
       "</table>"
      ],
      "text/plain": [
       "<Client: 'tcp://127.0.0.1:40525' processes=1 threads=1, memory=33.47 GB>"
      ]
     },
     "execution_count": 2,
     "metadata": {},
     "output_type": "execute_result"
    }
   ],
   "source": [
    "client"
   ]
  },
  {
   "cell_type": "markdown",
   "id": "92459096",
   "metadata": {},
   "source": [
    "## Load data"
   ]
  },
  {
   "cell_type": "code",
   "execution_count": 3,
   "id": "3396761e",
   "metadata": {},
   "outputs": [],
   "source": [
    "# data_path = conf.raw_data_path + '*' # for all dataset\n",
    "data_path = conf.raw_data_path + 'part-00000'\n",
    "ori_df = read_data(data_path)"
   ]
  },
  {
   "cell_type": "code",
   "execution_count": 4,
   "id": "c1757350",
   "metadata": {},
   "outputs": [
    {
     "data": {
      "text/html": [
       "<div><strong>Dask DataFrame Structure:</strong></div>\n",
       "<div>\n",
       "<style scoped>\n",
       "    .dataframe tbody tr th:only-of-type {\n",
       "        vertical-align: middle;\n",
       "    }\n",
       "\n",
       "    .dataframe tbody tr th {\n",
       "        vertical-align: top;\n",
       "    }\n",
       "\n",
       "    .dataframe thead th {\n",
       "        text-align: right;\n",
       "    }\n",
       "</style>\n",
       "<table border=\"1\" class=\"dataframe\">\n",
       "  <thead>\n",
       "    <tr style=\"text-align: right;\">\n",
       "      <th></th>\n",
       "      <th>text_ tokens</th>\n",
       "      <th>hashtags</th>\n",
       "      <th>tweet_id</th>\n",
       "      <th>present_media</th>\n",
       "      <th>present_links</th>\n",
       "      <th>present_domains</th>\n",
       "      <th>tweet_type</th>\n",
       "      <th>language</th>\n",
       "      <th>tweet_timestamp</th>\n",
       "      <th>engaged_with_user_id</th>\n",
       "      <th>engaged_with_user_follower_count</th>\n",
       "      <th>engaged_with_user_following_count</th>\n",
       "      <th>engaged_with_user_is_verified</th>\n",
       "      <th>engaged_with_user_account_creation</th>\n",
       "      <th>enaging_user_id</th>\n",
       "      <th>enaging_user_follower_count</th>\n",
       "      <th>enaging_user_following_count</th>\n",
       "      <th>enaging_user_is_verified</th>\n",
       "      <th>enaging_user_account_creation</th>\n",
       "      <th>engagee_follows_engager</th>\n",
       "      <th>reply_timestamp</th>\n",
       "      <th>retweet_timestamp</th>\n",
       "      <th>retweet_with_comment_timestamp</th>\n",
       "      <th>like_timestamp</th>\n",
       "    </tr>\n",
       "    <tr>\n",
       "      <th>npartitions=16</th>\n",
       "      <th></th>\n",
       "      <th></th>\n",
       "      <th></th>\n",
       "      <th></th>\n",
       "      <th></th>\n",
       "      <th></th>\n",
       "      <th></th>\n",
       "      <th></th>\n",
       "      <th></th>\n",
       "      <th></th>\n",
       "      <th></th>\n",
       "      <th></th>\n",
       "      <th></th>\n",
       "      <th></th>\n",
       "      <th></th>\n",
       "      <th></th>\n",
       "      <th></th>\n",
       "      <th></th>\n",
       "      <th></th>\n",
       "      <th></th>\n",
       "      <th></th>\n",
       "      <th></th>\n",
       "      <th></th>\n",
       "      <th></th>\n",
       "    </tr>\n",
       "  </thead>\n",
       "  <tbody>\n",
       "    <tr>\n",
       "      <th>1</th>\n",
       "      <td>object</td>\n",
       "      <td>object</td>\n",
       "      <td>object</td>\n",
       "      <td>object</td>\n",
       "      <td>object</td>\n",
       "      <td>object</td>\n",
       "      <td>object</td>\n",
       "      <td>object</td>\n",
       "      <td>int32</td>\n",
       "      <td>object</td>\n",
       "      <td>int32</td>\n",
       "      <td>int32</td>\n",
       "      <td>bool</td>\n",
       "      <td>int32</td>\n",
       "      <td>object</td>\n",
       "      <td>int32</td>\n",
       "      <td>int32</td>\n",
       "      <td>bool</td>\n",
       "      <td>int32</td>\n",
       "      <td>bool</td>\n",
       "      <td>int32</td>\n",
       "      <td>int32</td>\n",
       "      <td>int32</td>\n",
       "      <td>int32</td>\n",
       "    </tr>\n",
       "    <tr>\n",
       "      <th>273328</th>\n",
       "      <td>...</td>\n",
       "      <td>...</td>\n",
       "      <td>...</td>\n",
       "      <td>...</td>\n",
       "      <td>...</td>\n",
       "      <td>...</td>\n",
       "      <td>...</td>\n",
       "      <td>...</td>\n",
       "      <td>...</td>\n",
       "      <td>...</td>\n",
       "      <td>...</td>\n",
       "      <td>...</td>\n",
       "      <td>...</td>\n",
       "      <td>...</td>\n",
       "      <td>...</td>\n",
       "      <td>...</td>\n",
       "      <td>...</td>\n",
       "      <td>...</td>\n",
       "      <td>...</td>\n",
       "      <td>...</td>\n",
       "      <td>...</td>\n",
       "      <td>...</td>\n",
       "      <td>...</td>\n",
       "      <td>...</td>\n",
       "    </tr>\n",
       "    <tr>\n",
       "      <th>...</th>\n",
       "      <td>...</td>\n",
       "      <td>...</td>\n",
       "      <td>...</td>\n",
       "      <td>...</td>\n",
       "      <td>...</td>\n",
       "      <td>...</td>\n",
       "      <td>...</td>\n",
       "      <td>...</td>\n",
       "      <td>...</td>\n",
       "      <td>...</td>\n",
       "      <td>...</td>\n",
       "      <td>...</td>\n",
       "      <td>...</td>\n",
       "      <td>...</td>\n",
       "      <td>...</td>\n",
       "      <td>...</td>\n",
       "      <td>...</td>\n",
       "      <td>...</td>\n",
       "      <td>...</td>\n",
       "      <td>...</td>\n",
       "      <td>...</td>\n",
       "      <td>...</td>\n",
       "      <td>...</td>\n",
       "      <td>...</td>\n",
       "    </tr>\n",
       "    <tr>\n",
       "      <th>2983644</th>\n",
       "      <td>...</td>\n",
       "      <td>...</td>\n",
       "      <td>...</td>\n",
       "      <td>...</td>\n",
       "      <td>...</td>\n",
       "      <td>...</td>\n",
       "      <td>...</td>\n",
       "      <td>...</td>\n",
       "      <td>...</td>\n",
       "      <td>...</td>\n",
       "      <td>...</td>\n",
       "      <td>...</td>\n",
       "      <td>...</td>\n",
       "      <td>...</td>\n",
       "      <td>...</td>\n",
       "      <td>...</td>\n",
       "      <td>...</td>\n",
       "      <td>...</td>\n",
       "      <td>...</td>\n",
       "      <td>...</td>\n",
       "      <td>...</td>\n",
       "      <td>...</td>\n",
       "      <td>...</td>\n",
       "      <td>...</td>\n",
       "    </tr>\n",
       "    <tr>\n",
       "      <th>3033902</th>\n",
       "      <td>...</td>\n",
       "      <td>...</td>\n",
       "      <td>...</td>\n",
       "      <td>...</td>\n",
       "      <td>...</td>\n",
       "      <td>...</td>\n",
       "      <td>...</td>\n",
       "      <td>...</td>\n",
       "      <td>...</td>\n",
       "      <td>...</td>\n",
       "      <td>...</td>\n",
       "      <td>...</td>\n",
       "      <td>...</td>\n",
       "      <td>...</td>\n",
       "      <td>...</td>\n",
       "      <td>...</td>\n",
       "      <td>...</td>\n",
       "      <td>...</td>\n",
       "      <td>...</td>\n",
       "      <td>...</td>\n",
       "      <td>...</td>\n",
       "      <td>...</td>\n",
       "      <td>...</td>\n",
       "      <td>...</td>\n",
       "    </tr>\n",
       "  </tbody>\n",
       "</table>\n",
       "</div>\n",
       "<div>Dask Name: sort_index, 48 tasks</div>"
      ],
      "text/plain": [
       "<dask_cudf.DataFrame | 48 tasks | 16 npartitions>"
      ]
     },
     "execution_count": 4,
     "metadata": {},
     "output_type": "execute_result"
    }
   ],
   "source": [
    "ori_df"
   ]
  },
  {
   "cell_type": "markdown",
   "id": "396b8f20",
   "metadata": {},
   "source": [
    "- media target encoding(photo, video, gif)\n",
    "- tweet_type\n",
    "- language\n",
    "- tweet_timestamp\n",
    "- engaged_with_user_id\n",
    "- engaged_with_user_follower_count\n",
    "- engaging_user_id\n",
    "- engaging_user_following_count\n",
    "- engagee_follows_engager\n",
    "- 'reply_timestamp', 'retweet_timestamp','retweet_with_comment_timestamp', 'like_timestamp'"
   ]
  },
  {
   "cell_type": "code",
   "execution_count": 5,
   "id": "88ffbb5c",
   "metadata": {},
   "outputs": [],
   "source": [
    "df = ori_df[['present_media', 'tweet_type', #'language', 'tweet_timestamp', \n",
    "             'engaged_with_user_follower_count', \n",
    "             'enaging_user_following_count', 'engagee_follows_engager','reply_timestamp', 'retweet_timestamp','retweet_with_comment_timestamp', 'like_timestamp']]"
   ]
  },
  {
   "cell_type": "markdown",
   "id": "af6e8c0f",
   "metadata": {},
   "source": [
    "## Preprocessing"
   ]
  },
  {
   "cell_type": "code",
   "execution_count": 6,
   "id": "2b5fd2ab",
   "metadata": {},
   "outputs": [],
   "source": [
    "df['reply'] = df['reply_timestamp'].compute().applymap(lambda x: 1 if x > 0 else 0).astype(np.int32)\n",
    "df['retweet'] = df['retweet_timestamp'].compute().applymap(lambda x: 1 if x > 0 else 0).astype(np.int32)\n",
    "df['comment'] = df['retweet_with_comment_timestamp'].compute().applymap(lambda x: 1 if x > 0 else 0).astype(np.int32)\n",
    "df['like'] = df['like_timestamp'].compute().applymap(lambda x: 1 if x > 0 else 0).astype(np.int32)"
   ]
  },
  {
   "cell_type": "code",
   "execution_count": 7,
   "id": "16980fd0",
   "metadata": {},
   "outputs": [],
   "source": [
    "df = df.drop('reply_timestamp', axis=1)\n",
    "df = df.drop('retweet_timestamp', axis=1)\n",
    "df = df.drop('retweet_with_comment_timestamp', axis=1)\n",
    "df = df.drop('like_timestamp', axis=1)"
   ]
  },
  {
   "cell_type": "code",
   "execution_count": 8,
   "id": "1b29bb49",
   "metadata": {},
   "outputs": [
    {
     "data": {
      "text/html": [
       "<div>\n",
       "<style scoped>\n",
       "    .dataframe tbody tr th:only-of-type {\n",
       "        vertical-align: middle;\n",
       "    }\n",
       "\n",
       "    .dataframe tbody tr th {\n",
       "        vertical-align: top;\n",
       "    }\n",
       "\n",
       "    .dataframe thead th {\n",
       "        text-align: right;\n",
       "    }\n",
       "</style>\n",
       "<table border=\"1\" class=\"dataframe\">\n",
       "  <thead>\n",
       "    <tr style=\"text-align: right;\">\n",
       "      <th></th>\n",
       "      <th>present_media</th>\n",
       "      <th>tweet_type</th>\n",
       "      <th>engaged_with_user_follower_count</th>\n",
       "      <th>enaging_user_following_count</th>\n",
       "      <th>engagee_follows_engager</th>\n",
       "      <th>reply</th>\n",
       "      <th>retweet</th>\n",
       "      <th>comment</th>\n",
       "      <th>like</th>\n",
       "    </tr>\n",
       "    <tr>\n",
       "      <th>id</th>\n",
       "      <th></th>\n",
       "      <th></th>\n",
       "      <th></th>\n",
       "      <th></th>\n",
       "      <th></th>\n",
       "      <th></th>\n",
       "      <th></th>\n",
       "      <th></th>\n",
       "      <th></th>\n",
       "    </tr>\n",
       "  </thead>\n",
       "  <tbody>\n",
       "    <tr>\n",
       "      <th>1</th>\n",
       "      <td>&lt;NA&gt;</td>\n",
       "      <td>Retweet</td>\n",
       "      <td>2473</td>\n",
       "      <td>339</td>\n",
       "      <td>False</td>\n",
       "      <td>0</td>\n",
       "      <td>0</td>\n",
       "      <td>0</td>\n",
       "      <td>0</td>\n",
       "    </tr>\n",
       "    <tr>\n",
       "      <th>2</th>\n",
       "      <td>&lt;NA&gt;</td>\n",
       "      <td>TopLevel</td>\n",
       "      <td>4418640</td>\n",
       "      <td>1190</td>\n",
       "      <td>False</td>\n",
       "      <td>0</td>\n",
       "      <td>0</td>\n",
       "      <td>0</td>\n",
       "      <td>0</td>\n",
       "    </tr>\n",
       "    <tr>\n",
       "      <th>3</th>\n",
       "      <td>&lt;NA&gt;</td>\n",
       "      <td>TopLevel</td>\n",
       "      <td>219715</td>\n",
       "      <td>1473</td>\n",
       "      <td>False</td>\n",
       "      <td>0</td>\n",
       "      <td>0</td>\n",
       "      <td>0</td>\n",
       "      <td>1</td>\n",
       "    </tr>\n",
       "    <tr>\n",
       "      <th>4</th>\n",
       "      <td>&lt;NA&gt;</td>\n",
       "      <td>Retweet</td>\n",
       "      <td>2388283</td>\n",
       "      <td>200</td>\n",
       "      <td>False</td>\n",
       "      <td>0</td>\n",
       "      <td>0</td>\n",
       "      <td>0</td>\n",
       "      <td>0</td>\n",
       "    </tr>\n",
       "    <tr>\n",
       "      <th>5</th>\n",
       "      <td>Photo</td>\n",
       "      <td>TopLevel</td>\n",
       "      <td>414</td>\n",
       "      <td>379</td>\n",
       "      <td>True</td>\n",
       "      <td>0</td>\n",
       "      <td>0</td>\n",
       "      <td>0</td>\n",
       "      <td>1</td>\n",
       "    </tr>\n",
       "  </tbody>\n",
       "</table>\n",
       "</div>"
      ],
      "text/plain": [
       "   present_media tweet_type  engaged_with_user_follower_count  \\\n",
       "id                                                              \n",
       "1           <NA>    Retweet                              2473   \n",
       "2           <NA>   TopLevel                           4418640   \n",
       "3           <NA>   TopLevel                            219715   \n",
       "4           <NA>    Retweet                           2388283   \n",
       "5          Photo   TopLevel                               414   \n",
       "\n",
       "    enaging_user_following_count  engagee_follows_engager  reply  retweet  \\\n",
       "id                                                                          \n",
       "1                            339                    False      0        0   \n",
       "2                           1190                    False      0        0   \n",
       "3                           1473                    False      0        0   \n",
       "4                            200                    False      0        0   \n",
       "5                            379                     True      0        0   \n",
       "\n",
       "    comment  like  \n",
       "id                 \n",
       "1         0     0  \n",
       "2         0     0  \n",
       "3         0     1  \n",
       "4         0     0  \n",
       "5         0     1  "
      ]
     },
     "execution_count": 8,
     "metadata": {},
     "output_type": "execute_result"
    }
   ],
   "source": [
    "df.head()"
   ]
  },
  {
   "cell_type": "markdown",
   "id": "0616b35a",
   "metadata": {},
   "source": [
    "## Negative Sampling"
   ]
  },
  {
   "cell_type": "code",
   "execution_count": 9,
   "id": "dc272052",
   "metadata": {},
   "outputs": [
    {
     "name": "stdout",
     "output_type": "stream",
     "text": [
      "1207588\n",
      "1826314\n"
     ]
    }
   ],
   "source": [
    "df_positive = df[df['like']==1]\n",
    "df_negative = df[df['like']==0]\n",
    "print(len(df_positive))\n",
    "print(len(df_negative))"
   ]
  },
  {
   "cell_type": "code",
   "execution_count": 10,
   "id": "afe16598",
   "metadata": {},
   "outputs": [],
   "source": [
    "df_negative = df_negative.compute().sample(n = len(df_positive))"
   ]
  },
  {
   "cell_type": "code",
   "execution_count": 11,
   "id": "d8cd7339",
   "metadata": {},
   "outputs": [],
   "source": [
    "df = dask.dataframe.concat([df_positive, df_negative])"
   ]
  },
  {
   "cell_type": "code",
   "execution_count": 12,
   "id": "709150c3",
   "metadata": {},
   "outputs": [],
   "source": [
    "df = df.repartition(npartitions=1)\n",
    "df, = dask.persist(df)\n",
    "_ = wait(df)"
   ]
  },
  {
   "cell_type": "markdown",
   "id": "30bad36d",
   "metadata": {},
   "source": [
    "### Media Target Encoding"
   ]
  },
  {
   "cell_type": "code",
   "execution_count": 13,
   "id": "bfd7fb59",
   "metadata": {},
   "outputs": [
    {
     "data": {
      "text/html": [
       "<div>\n",
       "<style scoped>\n",
       "    .dataframe tbody tr th:only-of-type {\n",
       "        vertical-align: middle;\n",
       "    }\n",
       "\n",
       "    .dataframe tbody tr th {\n",
       "        vertical-align: top;\n",
       "    }\n",
       "\n",
       "    .dataframe thead th {\n",
       "        text-align: right;\n",
       "    }\n",
       "</style>\n",
       "<table border=\"1\" class=\"dataframe\">\n",
       "  <thead>\n",
       "    <tr style=\"text-align: right;\">\n",
       "      <th></th>\n",
       "      <th>present_media</th>\n",
       "      <th>tweet_type</th>\n",
       "      <th>engaged_with_user_follower_count</th>\n",
       "      <th>enaging_user_following_count</th>\n",
       "      <th>engagee_follows_engager</th>\n",
       "      <th>reply</th>\n",
       "      <th>retweet</th>\n",
       "      <th>comment</th>\n",
       "      <th>like</th>\n",
       "    </tr>\n",
       "    <tr>\n",
       "      <th>id</th>\n",
       "      <th></th>\n",
       "      <th></th>\n",
       "      <th></th>\n",
       "      <th></th>\n",
       "      <th></th>\n",
       "      <th></th>\n",
       "      <th></th>\n",
       "      <th></th>\n",
       "      <th></th>\n",
       "    </tr>\n",
       "  </thead>\n",
       "  <tbody>\n",
       "    <tr>\n",
       "      <th>3</th>\n",
       "      <td>&lt;NA&gt;</td>\n",
       "      <td>TopLevel</td>\n",
       "      <td>219715</td>\n",
       "      <td>1473</td>\n",
       "      <td>False</td>\n",
       "      <td>0</td>\n",
       "      <td>0</td>\n",
       "      <td>0</td>\n",
       "      <td>1</td>\n",
       "    </tr>\n",
       "    <tr>\n",
       "      <th>5</th>\n",
       "      <td>Photo</td>\n",
       "      <td>TopLevel</td>\n",
       "      <td>414</td>\n",
       "      <td>379</td>\n",
       "      <td>True</td>\n",
       "      <td>0</td>\n",
       "      <td>0</td>\n",
       "      <td>0</td>\n",
       "      <td>1</td>\n",
       "    </tr>\n",
       "    <tr>\n",
       "      <th>8</th>\n",
       "      <td>&lt;NA&gt;</td>\n",
       "      <td>Quote</td>\n",
       "      <td>209681</td>\n",
       "      <td>106</td>\n",
       "      <td>False</td>\n",
       "      <td>0</td>\n",
       "      <td>0</td>\n",
       "      <td>0</td>\n",
       "      <td>1</td>\n",
       "    </tr>\n",
       "    <tr>\n",
       "      <th>10</th>\n",
       "      <td>&lt;NA&gt;</td>\n",
       "      <td>TopLevel</td>\n",
       "      <td>881</td>\n",
       "      <td>650</td>\n",
       "      <td>False</td>\n",
       "      <td>0</td>\n",
       "      <td>0</td>\n",
       "      <td>0</td>\n",
       "      <td>1</td>\n",
       "    </tr>\n",
       "    <tr>\n",
       "      <th>11</th>\n",
       "      <td>&lt;NA&gt;</td>\n",
       "      <td>TopLevel</td>\n",
       "      <td>133933</td>\n",
       "      <td>265</td>\n",
       "      <td>False</td>\n",
       "      <td>0</td>\n",
       "      <td>0</td>\n",
       "      <td>0</td>\n",
       "      <td>1</td>\n",
       "    </tr>\n",
       "  </tbody>\n",
       "</table>\n",
       "</div>"
      ],
      "text/plain": [
       "   present_media tweet_type  engaged_with_user_follower_count  \\\n",
       "id                                                              \n",
       "3           <NA>   TopLevel                            219715   \n",
       "5          Photo   TopLevel                               414   \n",
       "8           <NA>      Quote                            209681   \n",
       "10          <NA>   TopLevel                               881   \n",
       "11          <NA>   TopLevel                            133933   \n",
       "\n",
       "    enaging_user_following_count  engagee_follows_engager  reply  retweet  \\\n",
       "id                                                                          \n",
       "3                           1473                    False      0        0   \n",
       "5                            379                     True      0        0   \n",
       "8                            106                    False      0        0   \n",
       "10                           650                    False      0        0   \n",
       "11                           265                    False      0        0   \n",
       "\n",
       "    comment  like  \n",
       "id                 \n",
       "3         0     1  \n",
       "5         0     1  \n",
       "8         0     1  \n",
       "10        0     1  \n",
       "11        0     1  "
      ]
     },
     "execution_count": 13,
     "metadata": {},
     "output_type": "execute_result"
    }
   ],
   "source": [
    "df.head()"
   ]
  },
  {
   "cell_type": "code",
   "execution_count": 14,
   "id": "5b71f874",
   "metadata": {},
   "outputs": [],
   "source": [
    "df['present_media'] = df['present_media'].fillna( '' )"
   ]
  },
  {
   "cell_type": "code",
   "execution_count": 15,
   "id": "666185fc",
   "metadata": {},
   "outputs": [],
   "source": [
    "df,media_index, _ = factorize_small_cardinality_with_index(df, 'present_media', 'media_type')"
   ]
  },
  {
   "cell_type": "code",
   "execution_count": 16,
   "id": "c397028f",
   "metadata": {},
   "outputs": [],
   "source": [
    "media_index = get_media_index(media_index)"
   ]
  },
  {
   "cell_type": "code",
   "execution_count": 17,
   "id": "b473b754",
   "metadata": {},
   "outputs": [],
   "source": [
    "media_index = media_index['number_of_media'].to_frame()"
   ]
  },
  {
   "cell_type": "code",
   "execution_count": 18,
   "id": "0ddffdd1",
   "metadata": {},
   "outputs": [
    {
     "data": {
      "text/html": [
       "<div>\n",
       "<style scoped>\n",
       "    .dataframe tbody tr th:only-of-type {\n",
       "        vertical-align: middle;\n",
       "    }\n",
       "\n",
       "    .dataframe tbody tr th {\n",
       "        vertical-align: top;\n",
       "    }\n",
       "\n",
       "    .dataframe thead th {\n",
       "        text-align: right;\n",
       "    }\n",
       "</style>\n",
       "<table border=\"1\" class=\"dataframe\">\n",
       "  <thead>\n",
       "    <tr style=\"text-align: right;\">\n",
       "      <th></th>\n",
       "      <th>number_of_media</th>\n",
       "    </tr>\n",
       "  </thead>\n",
       "  <tbody>\n",
       "    <tr>\n",
       "      <th>0</th>\n",
       "      <td>0</td>\n",
       "    </tr>\n",
       "    <tr>\n",
       "      <th>1</th>\n",
       "      <td>3</td>\n",
       "    </tr>\n",
       "    <tr>\n",
       "      <th>2</th>\n",
       "      <td>9</td>\n",
       "    </tr>\n",
       "    <tr>\n",
       "      <th>3</th>\n",
       "      <td>9</td>\n",
       "    </tr>\n",
       "    <tr>\n",
       "      <th>4</th>\n",
       "      <td>5</td>\n",
       "    </tr>\n",
       "    <tr>\n",
       "      <th>5</th>\n",
       "      <td>11</td>\n",
       "    </tr>\n",
       "    <tr>\n",
       "      <th>6</th>\n",
       "      <td>17</td>\n",
       "    </tr>\n",
       "    <tr>\n",
       "      <th>7</th>\n",
       "      <td>23</td>\n",
       "    </tr>\n",
       "    <tr>\n",
       "      <th>8</th>\n",
       "      <td>11</td>\n",
       "    </tr>\n",
       "    <tr>\n",
       "      <th>9</th>\n",
       "      <td>5</td>\n",
       "    </tr>\n",
       "    <tr>\n",
       "      <th>10</th>\n",
       "      <td>11</td>\n",
       "    </tr>\n",
       "    <tr>\n",
       "      <th>11</th>\n",
       "      <td>17</td>\n",
       "    </tr>\n",
       "    <tr>\n",
       "      <th>12</th>\n",
       "      <td>11</td>\n",
       "    </tr>\n",
       "    <tr>\n",
       "      <th>13</th>\n",
       "      <td>17</td>\n",
       "    </tr>\n",
       "    <tr>\n",
       "      <th>14</th>\n",
       "      <td>23</td>\n",
       "    </tr>\n",
       "  </tbody>\n",
       "</table>\n",
       "</div>"
      ],
      "text/plain": [
       "    number_of_media\n",
       "0                 0\n",
       "1                 3\n",
       "2                 9\n",
       "3                 9\n",
       "4                 5\n",
       "5                11\n",
       "6                17\n",
       "7                23\n",
       "8                11\n",
       "9                 5\n",
       "10               11\n",
       "11               17\n",
       "12               11\n",
       "13               17\n",
       "14               23"
      ]
     },
     "execution_count": 18,
     "metadata": {},
     "output_type": "execute_result"
    }
   ],
   "source": [
    "media_index"
   ]
  },
  {
   "cell_type": "code",
   "execution_count": 19,
   "id": "34c40018",
   "metadata": {},
   "outputs": [],
   "source": [
    "media_index = cudf.DataFrame(media_index)\n",
    "media_index = dask_cudf.from_cudf(media_index, npartitions=2)"
   ]
  },
  {
   "cell_type": "code",
   "execution_count": 20,
   "id": "a3553f8e",
   "metadata": {},
   "outputs": [],
   "source": [
    "df = df.merge(media_index, left_on=\"media_type\", right_index = True, how='left')"
   ]
  },
  {
   "cell_type": "code",
   "execution_count": 21,
   "id": "cdc1fca4",
   "metadata": {},
   "outputs": [],
   "source": [
    "df = df.drop('present_media', axis = 1)\n",
    "df = df.drop('media_type', axis = 1)"
   ]
  },
  {
   "cell_type": "markdown",
   "id": "7fb38808",
   "metadata": {},
   "source": [
    "### Tweet Type Encoding"
   ]
  },
  {
   "cell_type": "code",
   "execution_count": 22,
   "id": "27d8504c",
   "metadata": {},
   "outputs": [],
   "source": [
    "df, _= factorize_small_cardinality_with_index(df, 'tweet_type', 'tweet_type_encode') # how language encoding??"
   ]
  },
  {
   "cell_type": "code",
   "execution_count": 23,
   "id": "4c63ef68",
   "metadata": {},
   "outputs": [],
   "source": [
    "df = df.drop('tweet_type', axis = 1)"
   ]
  },
  {
   "cell_type": "code",
   "execution_count": 24,
   "id": "2c6726ee",
   "metadata": {},
   "outputs": [
    {
     "data": {
      "text/html": [
       "<div>\n",
       "<style scoped>\n",
       "    .dataframe tbody tr th:only-of-type {\n",
       "        vertical-align: middle;\n",
       "    }\n",
       "\n",
       "    .dataframe tbody tr th {\n",
       "        vertical-align: top;\n",
       "    }\n",
       "\n",
       "    .dataframe thead th {\n",
       "        text-align: right;\n",
       "    }\n",
       "</style>\n",
       "<table border=\"1\" class=\"dataframe\">\n",
       "  <thead>\n",
       "    <tr style=\"text-align: right;\">\n",
       "      <th></th>\n",
       "      <th>engaged_with_user_follower_count</th>\n",
       "      <th>enaging_user_following_count</th>\n",
       "      <th>engagee_follows_engager</th>\n",
       "      <th>reply</th>\n",
       "      <th>retweet</th>\n",
       "      <th>comment</th>\n",
       "      <th>like</th>\n",
       "      <th>number_of_media</th>\n",
       "      <th>tweet_type_encode</th>\n",
       "    </tr>\n",
       "  </thead>\n",
       "  <tbody>\n",
       "    <tr>\n",
       "      <th>0</th>\n",
       "      <td>228</td>\n",
       "      <td>335</td>\n",
       "      <td>True</td>\n",
       "      <td>0</td>\n",
       "      <td>0</td>\n",
       "      <td>0</td>\n",
       "      <td>1</td>\n",
       "      <td>0</td>\n",
       "      <td>2</td>\n",
       "    </tr>\n",
       "    <tr>\n",
       "      <th>1</th>\n",
       "      <td>6234</td>\n",
       "      <td>165</td>\n",
       "      <td>False</td>\n",
       "      <td>0</td>\n",
       "      <td>0</td>\n",
       "      <td>0</td>\n",
       "      <td>1</td>\n",
       "      <td>23</td>\n",
       "      <td>2</td>\n",
       "    </tr>\n",
       "    <tr>\n",
       "      <th>2</th>\n",
       "      <td>4340</td>\n",
       "      <td>298</td>\n",
       "      <td>False</td>\n",
       "      <td>0</td>\n",
       "      <td>0</td>\n",
       "      <td>0</td>\n",
       "      <td>1</td>\n",
       "      <td>23</td>\n",
       "      <td>2</td>\n",
       "    </tr>\n",
       "    <tr>\n",
       "      <th>3</th>\n",
       "      <td>5320</td>\n",
       "      <td>727</td>\n",
       "      <td>True</td>\n",
       "      <td>0</td>\n",
       "      <td>0</td>\n",
       "      <td>0</td>\n",
       "      <td>1</td>\n",
       "      <td>5</td>\n",
       "      <td>2</td>\n",
       "    </tr>\n",
       "    <tr>\n",
       "      <th>4</th>\n",
       "      <td>1890</td>\n",
       "      <td>334</td>\n",
       "      <td>True</td>\n",
       "      <td>0</td>\n",
       "      <td>0</td>\n",
       "      <td>0</td>\n",
       "      <td>1</td>\n",
       "      <td>0</td>\n",
       "      <td>2</td>\n",
       "    </tr>\n",
       "  </tbody>\n",
       "</table>\n",
       "</div>"
      ],
      "text/plain": [
       "   engaged_with_user_follower_count  enaging_user_following_count  \\\n",
       "0                               228                           335   \n",
       "1                              6234                           165   \n",
       "2                              4340                           298   \n",
       "3                              5320                           727   \n",
       "4                              1890                           334   \n",
       "\n",
       "   engagee_follows_engager  reply  retweet  comment  like  number_of_media  \\\n",
       "0                     True      0        0        0     1                0   \n",
       "1                    False      0        0        0     1               23   \n",
       "2                    False      0        0        0     1               23   \n",
       "3                     True      0        0        0     1                5   \n",
       "4                     True      0        0        0     1                0   \n",
       "\n",
       "   tweet_type_encode  \n",
       "0                  2  \n",
       "1                  2  \n",
       "2                  2  \n",
       "3                  2  \n",
       "4                  2  "
      ]
     },
     "execution_count": 24,
     "metadata": {},
     "output_type": "execute_result"
    }
   ],
   "source": [
    "df.head()"
   ]
  },
  {
   "cell_type": "code",
   "execution_count": 25,
   "id": "af99c1eb",
   "metadata": {},
   "outputs": [],
   "source": [
    "df = df.astype(np.int64)"
   ]
  },
  {
   "cell_type": "markdown",
   "id": "260b5c06",
   "metadata": {},
   "source": [
    "## Loss Function"
   ]
  },
  {
   "cell_type": "code",
   "execution_count": 26,
   "id": "293a5814",
   "metadata": {},
   "outputs": [],
   "source": [
    "def f1(y_true, y_pred):\n",
    "    y_pred = K.round(y_pred)\n",
    "    tp = K.sum(K.cast(y_true*y_pred, 'float'), axis=0)\n",
    "    tn = K.sum(K.cast((1-y_true)*(1-y_pred), 'float'), axis=0)\n",
    "    fp = K.sum(K.cast((1-y_true)*y_pred, 'float'), axis=0)\n",
    "    fn = K.sum(K.cast(y_true*(1-y_pred), 'float'), axis=0)\n",
    "\n",
    "    p = tp / (tp + fp + K.epsilon())\n",
    "    r = tp / (tp + fn + K.epsilon())\n",
    "\n",
    "    f1 = 2*p*r / (p+r+K.epsilon())\n",
    "    f1 = tf.where(tf.math.is_nan(f1), tf.zeros_like(f1), f1)\n",
    "    return K.mean(f1)\n",
    "\n",
    "def f1_loss(y_true, y_pred):\n",
    "    tp = K.sum(K.cast(y_true*y_pred, 'float'), axis=0)\n",
    "    tn = K.sum(K.cast((1-y_true)*(1-y_pred), 'float'), axis=0)\n",
    "    fp = K.sum(K.cast((1-y_true)*y_pred, 'float'), axis=0)\n",
    "    fn = K.sum(K.cast(y_true*(1-y_pred), 'float'), axis=0)\n",
    "\n",
    "    p = tp / (tp + fp + K.epsilon())\n",
    "    r = tp / (tp + fn + K.epsilon())\n",
    "\n",
    "    f1 = 2*p*r / (p+r+K.epsilon())\n",
    "    f1 = tf.where(tf.math.is_nan(f1), tf.zeros_like(f1), f1)\n",
    "    return 1 - K.mean(f1)"
   ]
  },
  {
   "cell_type": "markdown",
   "id": "6bc48084",
   "metadata": {},
   "source": [
    "## Modeling"
   ]
  },
  {
   "cell_type": "code",
   "execution_count": 27,
   "id": "7c5149bc",
   "metadata": {},
   "outputs": [],
   "source": [
    "df_y = df[['reply', 'retweet', 'comment', 'like']]\n",
    "df_x = df.drop(['reply', 'retweet', 'comment', 'like'], axis = 1)"
   ]
  },
  {
   "cell_type": "markdown",
   "id": "48c18ecc",
   "metadata": {},
   "source": [
    "#### Scaling"
   ]
  },
  {
   "cell_type": "code",
   "execution_count": 28,
   "id": "db9fd90a",
   "metadata": {},
   "outputs": [
    {
     "data": {
      "text/plain": [
       "StandardScaler()"
      ]
     },
     "execution_count": 28,
     "metadata": {},
     "output_type": "execute_result"
    }
   ],
   "source": [
    "standard_scaler = preprocessing.StandardScaler()\n",
    "standard_scaler.fit(df_x.compute().as_matrix())"
   ]
  },
  {
   "cell_type": "code",
   "execution_count": 29,
   "id": "3deb2865",
   "metadata": {},
   "outputs": [],
   "source": [
    "ss = standard_scaler.transform(df_x.compute().as_matrix())"
   ]
  },
  {
   "cell_type": "code",
   "execution_count": 30,
   "id": "7fe91f10",
   "metadata": {},
   "outputs": [],
   "source": [
    "df_x = pd.DataFrame(ss, columns = df_x.columns)"
   ]
  },
  {
   "cell_type": "code",
   "execution_count": 31,
   "id": "355ac793",
   "metadata": {},
   "outputs": [],
   "source": [
    "X_train = df_x\n",
    "y_train_like = df_y['like'].to_frame()"
   ]
  },
  {
   "cell_type": "code",
   "execution_count": 32,
   "id": "89032f07",
   "metadata": {},
   "outputs": [],
   "source": [
    "X_train, X_test, y_train, y_test = train_test_split(X_train, y_train_like.compute(), test_size=0.2)"
   ]
  },
  {
   "cell_type": "code",
   "execution_count": 33,
   "id": "c6d5b73b",
   "metadata": {},
   "outputs": [],
   "source": [
    "X_test, X_val, y_test, y_val = train_test_split(X_test, y_test, test_size=0.2)"
   ]
  },
  {
   "cell_type": "code",
   "execution_count": 34,
   "id": "e6c97906",
   "metadata": {},
   "outputs": [],
   "source": [
    "model = Sequential([\n",
    "    Dense(16, activation = 'relu', input_dim = X_test.shape[1]),\n",
    "    Dense(8, activation = 'relu'),\n",
    "    Dense(4, activation = 'relu'),\n",
    "    Dense(1, activation = 'sigmoid')\n",
    "])"
   ]
  },
  {
   "cell_type": "code",
   "execution_count": 35,
   "id": "8684147a",
   "metadata": {},
   "outputs": [],
   "source": [
    "model.compile(\n",
    "    optimizer = 'adam',\n",
    "    loss = 'binary_crossentropy', # softmax : sparse_categorical_crossentropy, sigmoid : binary_crossentropy\n",
    "    metrics=['binary_crossentropy'])"
   ]
  },
  {
   "cell_type": "code",
   "execution_count": 36,
   "id": "f0e32715",
   "metadata": {},
   "outputs": [
    {
     "name": "stdout",
     "output_type": "stream",
     "text": [
      "Model: \"sequential\"\n",
      "_________________________________________________________________\n",
      "Layer (type)                 Output Shape              Param #   \n",
      "=================================================================\n",
      "dense (Dense)                (None, 16)                96        \n",
      "_________________________________________________________________\n",
      "dense_1 (Dense)              (None, 8)                 136       \n",
      "_________________________________________________________________\n",
      "dense_2 (Dense)              (None, 4)                 36        \n",
      "_________________________________________________________________\n",
      "dense_3 (Dense)              (None, 1)                 5         \n",
      "=================================================================\n",
      "Total params: 273\n",
      "Trainable params: 273\n",
      "Non-trainable params: 0\n",
      "_________________________________________________________________\n"
     ]
    }
   ],
   "source": [
    "model.summary()"
   ]
  },
  {
   "cell_type": "code",
   "execution_count": 37,
   "id": "7c77fcd6",
   "metadata": {},
   "outputs": [],
   "source": [
    "y_train = y_train.astype(np.float32)"
   ]
  },
  {
   "cell_type": "code",
   "execution_count": 38,
   "id": "53b875a2",
   "metadata": {},
   "outputs": [],
   "source": [
    "y_val = y_val.astype(np.float32)"
   ]
  },
  {
   "cell_type": "code",
   "execution_count": 39,
   "id": "cdc3d7aa",
   "metadata": {},
   "outputs": [
    {
     "name": "stdout",
     "output_type": "stream",
     "text": [
      "Epoch 1/20\n",
      "30190/30190 [==============================] - 11s 353us/step - loss: 0.6344 - binary_crossentropy: 0.6344 - val_loss: 0.6304 - val_binary_crossentropy: 0.6304\n",
      "Epoch 2/20\n",
      "30190/30190 [==============================] - 11s 350us/step - loss: 0.6304 - binary_crossentropy: 0.6304 - val_loss: 0.6298 - val_binary_crossentropy: 0.6298\n",
      "Epoch 3/20\n",
      "30190/30190 [==============================] - 11s 348us/step - loss: 0.6301 - binary_crossentropy: 0.6301 - val_loss: 0.6299 - val_binary_crossentropy: 0.6299\n",
      "Epoch 4/20\n",
      "30190/30190 [==============================] - 11s 350us/step - loss: 0.6294 - binary_crossentropy: 0.6294 - val_loss: 0.6292 - val_binary_crossentropy: 0.6292\n",
      "Epoch 5/20\n",
      "30190/30190 [==============================] - 11s 349us/step - loss: 0.6293 - binary_crossentropy: 0.6293 - val_loss: 0.6295 - val_binary_crossentropy: 0.6295\n",
      "Epoch 6/20\n",
      "30190/30190 [==============================] - 11s 349us/step - loss: 0.6298 - binary_crossentropy: 0.6298 - val_loss: 0.6292 - val_binary_crossentropy: 0.6292\n",
      "Epoch 7/20\n",
      "30190/30190 [==============================] - 11s 349us/step - loss: 0.6292 - binary_crossentropy: 0.6292 - val_loss: 0.6292 - val_binary_crossentropy: 0.6292\n",
      "Epoch 8/20\n",
      "30190/30190 [==============================] - 11s 350us/step - loss: 0.6294 - binary_crossentropy: 0.6294 - val_loss: 0.6291 - val_binary_crossentropy: 0.6291\n",
      "Epoch 9/20\n",
      "30190/30190 [==============================] - 11s 351us/step - loss: 0.6293 - binary_crossentropy: 0.6293 - val_loss: 0.6289 - val_binary_crossentropy: 0.6289\n",
      "Epoch 10/20\n",
      "30190/30190 [==============================] - 11s 349us/step - loss: 0.6291 - binary_crossentropy: 0.6291 - val_loss: 0.6294 - val_binary_crossentropy: 0.6294\n",
      "Epoch 11/20\n",
      "30190/30190 [==============================] - 11s 351us/step - loss: 0.6294 - binary_crossentropy: 0.6294 - val_loss: 0.6290 - val_binary_crossentropy: 0.6290\n",
      "Epoch 12/20\n",
      "30190/30190 [==============================] - 11s 349us/step - loss: 0.6296 - binary_crossentropy: 0.6296 - val_loss: 0.6287 - val_binary_crossentropy: 0.6287\n",
      "Epoch 13/20\n",
      "30190/30190 [==============================] - 11s 350us/step - loss: 0.6292 - binary_crossentropy: 0.6292 - val_loss: 0.6288 - val_binary_crossentropy: 0.6288\n",
      "Epoch 14/20\n",
      "30190/30190 [==============================] - 11s 351us/step - loss: 0.6294 - binary_crossentropy: 0.6294 - val_loss: 0.6287 - val_binary_crossentropy: 0.6287\n",
      "Epoch 15/20\n",
      "30190/30190 [==============================] - 11s 349us/step - loss: 0.6293 - binary_crossentropy: 0.6293 - val_loss: 0.6286 - val_binary_crossentropy: 0.6286\n",
      "Epoch 16/20\n",
      "30190/30190 [==============================] - 11s 350us/step - loss: 0.6292 - binary_crossentropy: 0.6292 - val_loss: 0.6287 - val_binary_crossentropy: 0.6287\n",
      "Epoch 17/20\n",
      "30190/30190 [==============================] - 11s 350us/step - loss: 0.6295 - binary_crossentropy: 0.6295 - val_loss: 0.6292 - val_binary_crossentropy: 0.6292\n",
      "Epoch 18/20\n",
      "30190/30190 [==============================] - 11s 350us/step - loss: 0.6294 - binary_crossentropy: 0.6294 - val_loss: 0.6286 - val_binary_crossentropy: 0.6286\n",
      "Epoch 19/20\n",
      "30190/30190 [==============================] - 11s 352us/step - loss: 0.6286 - binary_crossentropy: 0.6286 - val_loss: 0.6287 - val_binary_crossentropy: 0.6287\n",
      "Epoch 20/20\n",
      "30190/30190 [==============================] - 11s 350us/step - loss: 0.6292 - binary_crossentropy: 0.6292 - val_loss: 0.6289 - val_binary_crossentropy: 0.6289\n"
     ]
    }
   ],
   "source": [
    "result = model.fit(\n",
    "    x = X_train,\n",
    "    y = y_train.to_pandas(),\n",
    "    validation_data=(X_val, y_val.to_pandas()),\n",
    "    epochs=20,\n",
    "    batch_size=64\n",
    ")"
   ]
  },
  {
   "cell_type": "code",
   "execution_count": 40,
   "id": "bbe93200",
   "metadata": {},
   "outputs": [
    {
     "data": {
      "image/png": "[encoded data removed]",
      "text/plain": [
       "<Figure size 432x288 with 1 Axes>"
      ]
     },
     "metadata": {
      "needs_background": "light"
     },
     "output_type": "display_data"
    }
   ],
   "source": [
    "plt.plot(result.history['binary_crossentropy'])\n",
    "plt.plot(result.history['val_binary_crossentropy'])\n",
    "plt.title('model accuracy')\n",
    "plt.ylabel('accuracy')\n",
    "plt.xlabel('epoch')\n",
    "plt.legend(['train', 'val'], loc='upper left')\n",
    "plt.show()"
   ]
  },
  {
   "cell_type": "code",
   "execution_count": 41,
   "id": "64207c4b",
   "metadata": {},
   "outputs": [],
   "source": [
    "y_test = y_test.astype(np.float32)"
   ]
  },
  {
   "cell_type": "code",
   "execution_count": 42,
   "id": "56375872",
   "metadata": {},
   "outputs": [
    {
     "name": "stdout",
     "output_type": "stream",
     "text": [
      "12076/12076 [==============================] - 3s 260us/step - loss: 0.6294 - binary_crossentropy: 0.6294\n"
     ]
    },
    {
     "data": {
      "text/plain": [
       "[0.6293880939483643, 0.6293880939483643]"
      ]
     },
     "execution_count": 42,
     "metadata": {},
     "output_type": "execute_result"
    }
   ],
   "source": [
    "model.evaluate(X_test, y_test.to_pandas())"
   ]
  },
  {
   "cell_type": "markdown",
   "id": "b61b8c69",
   "metadata": {},
   "source": [
    "## Predict"
   ]
  },
  {
   "cell_type": "code",
   "execution_count": 43,
   "id": "8d34183e",
   "metadata": {},
   "outputs": [],
   "source": [
    "pred = model.predict(X_test)"
   ]
  },
  {
   "cell_type": "code",
   "execution_count": 44,
   "id": "8df2a605",
   "metadata": {
    "scrolled": false
   },
   "outputs": [
    {
     "data": {
      "text/plain": [
       "9.198456117129117"
      ]
     },
     "execution_count": 44,
     "metadata": {},
     "output_type": "execute_result"
    }
   ],
   "source": [
    "rce = compute_rce(pred, y_test['like'].to_array())\n",
    "rce"
   ]
  },
  {
   "cell_type": "code",
   "execution_count": 45,
   "id": "897bd35f",
   "metadata": {},
   "outputs": [
    {
     "data": {
      "text/plain": [
       "0.6879138410123301"
      ]
     },
     "execution_count": 45,
     "metadata": {},
     "output_type": "execute_result"
    }
   ],
   "source": [
    "average_precision_score(y_test['like'].to_array(), pred)"
   ]
  },
  {
   "cell_type": "code",
   "execution_count": 46,
   "id": "c656b985",
   "metadata": {},
   "outputs": [],
   "source": [
    "model_path = f'/hdd/cpu_models_DNN/model-ffnn.h5'\n",
    "            \n",
    "save_model(model, model_path)"
   ]
  },
  {
   "cell_type": "code",
   "execution_count": null,
   "id": "5e8b73d7",
   "metadata": {},
   "outputs": [],
   "source": []
  }
 ],
 "metadata": {
  "kernelspec": {
   "display_name": "Python 3",
   "language": "python",
   "name": "python3"
  },
  "language_info": {
   "codemirror_mode": {
    "name": "ipython",
    "version": 3
   },
   "file_extension": ".py",
   "mimetype": "text/x-python",
   "name": "python",
   "nbconvert_exporter": "python",
   "pygments_lexer": "ipython3",
   "version": "3.7.10"
  }
 },
 "nbformat": 4,
 "nbformat_minor": 5
}
