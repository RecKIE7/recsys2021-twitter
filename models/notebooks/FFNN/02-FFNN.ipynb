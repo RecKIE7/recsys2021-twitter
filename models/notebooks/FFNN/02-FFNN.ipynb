{
 "metadata": {
  "language_info": {
   "codemirror_mode": {
    "name": "ipython",
    "version": 3
   },
   "file_extension": ".py",
   "mimetype": "text/x-python",
   "name": "python",
   "nbconvert_exporter": "python",
   "pygments_lexer": "ipython3",
   "version": "3.7.10"
  },
  "orig_nbformat": 2,
  "kernelspec": {
   "name": "python3710jvsc74a57bd0c4c1a3e9c3a39a0885e9d9bd6e4723f2ede522dfea9ed13682022cc292aed1ac",
   "display_name": "Python 3.7.10 64-bit ('dask-cudf': conda)"
  }
 },
 "nbformat": 4,
 "nbformat_minor": 2,
 "cells": [
  {
   "source": [
    "# FFNN (with raw features)"
   ],
   "cell_type": "markdown",
   "metadata": {}
  },
  {
   "cell_type": "code",
   "execution_count": 1,
   "metadata": {},
   "outputs": [],
   "source": [
    "import sys\n",
    "sys.path.append('../../..')\n",
    "\n",
    "import numpy as np\n",
    "import matplotlib.pyplot as plt\n",
    "import pandas as pd\n",
    "from tqdm import tqdm\n",
    "from sklearn.model_selection import train_test_split\n",
    "import tensorflow as tf\n",
    "from tensorflow import feature_column as fc\n",
    "from tensorflow.keras.models import Sequential\n",
    "from tensorflow.keras.layers import Dense\n",
    "from sklearn import preprocessing\n",
    "from tensorflow.keras.models import save_model,load_model\n",
    "from utils.preprocessing import *\n",
    "from utils.dataset import Dataset\n",
    "\n",
    "from utils.evaluate import calculate_ctr, compute_rce, average_precision_score\n",
    "import tensorflow.keras.backend as K\n",
    "import core.config as conf"
   ]
  },
  {
   "source": [
    "## Load Data & Preprocessing"
   ],
   "cell_type": "markdown",
   "metadata": {}
  },
  {
   "cell_type": "code",
   "execution_count": 2,
   "metadata": {},
   "outputs": [],
   "source": [
    "ds = Dataset(train=True, target_encoding=False)"
   ]
  },
  {
   "cell_type": "code",
   "execution_count": 3,
   "metadata": {},
   "outputs": [],
   "source": [
    "data_path = conf.raw_lzo_path + 'part-00000'\n",
    "ori_df = read_data(data_path)"
   ]
  },
  {
   "cell_type": "code",
   "execution_count": 4,
   "metadata": {},
   "outputs": [],
   "source": [
    "df = ds.preprocess(ori_df)"
   ]
  },
  {
   "cell_type": "code",
   "execution_count": 26,
   "metadata": {},
   "outputs": [
    {
     "output_type": "execute_result",
     "data": {
      "text/plain": [
       "Index(['language', 'creator_is_verified', 'media', 'engager_following_count',\n",
       "       'engager_is_verified', 'creator_following_count', 'tweet_timestamp',\n",
       "       'engager_account_creation', 'creator_account_creation', 'tweet_type',\n",
       "       'creator_follows_engager', 'creator_follower_count', 'domains',\n",
       "       'engager_follower_count', 'reply', 'retweet', 'comment', 'like',\n",
       "       'dt_day', 'dt_dow', 'dt_hour', 'len_domains'],\n",
       "      dtype='object')"
      ]
     },
     "metadata": {},
     "execution_count": 26
    }
   ],
   "source": [
    "df.columns"
   ]
  },
  {
   "cell_type": "code",
   "execution_count": 5,
   "metadata": {},
   "outputs": [
    {
     "output_type": "execute_result",
     "data": {
      "text/plain": [
       "                         engager_id  language  creator_is_verified  media  \\\n",
       "0  2AEB7AFFD36CA43C0C963F24F75BCCAC        19                    0      0   \n",
       "1  865C52D28FA84E5E233B530C6FDAECC2        46                    1      0   \n",
       "2  FE83E568BD4B2ACDBAF876CFBB6C7296        46                    1      0   \n",
       "3  DB0201BF93E4CCA1B55932AC36923E43        46                    1      0   \n",
       "4  04F45C4A769FE2D7C792A96C92342DC2        61                    0      5   \n",
       "\n",
       "   engager_following_count  engager_is_verified  \\\n",
       "0                      339                    0   \n",
       "1                     1190                    0   \n",
       "2                     1473                    0   \n",
       "3                      200                    0   \n",
       "4                      379                    0   \n",
       "\n",
       "                         creator_id  creator_following_count  tweet_timestamp  \\\n",
       "0  BC9980C5385A68894C2862F41884FB27                      662       1613237034   \n",
       "1  C0EBA033A5C0D2AD91B4500958E2C633                      228       1613748600   \n",
       "2  03EA05E7440140ABF047BC216CE34917                     3685       1613386238   \n",
       "3  2700B9E175757F126C082D6A5742787D                    13511       1613708640   \n",
       "4  B7E441F2D886830FB3F0CE29CB35CB6B                      720       1612586018   \n",
       "\n",
       "   engager_account_creation  ...  domains  engager_follower_count  reply  \\\n",
       "0                1520886748  ...        0                     169    0.0   \n",
       "1                1237570695  ...        1                     393    0.0   \n",
       "2                1263176351  ...        2                     629    0.0   \n",
       "3                1268276559  ...        0                     123    0.0   \n",
       "4                1483862063  ...        0                     134    0.0   \n",
       "\n",
       "  retweet  comment  like  dt_day  dt_dow  dt_hour  len_domains  \n",
       "0     0.0      0.0   0.0      13       5       17            0  \n",
       "1     0.0      0.0   0.0      19       4       15            1  \n",
       "2     0.0      0.0   1.0      15       0       10            1  \n",
       "3     0.0      0.0   0.0      19       4        4            0  \n",
       "4     0.0      0.0   1.0       6       5        4            0  \n",
       "\n",
       "[5 rows x 25 columns]"
      ],
      "text/html": "<div>\n<style scoped>\n    .dataframe tbody tr th:only-of-type {\n        vertical-align: middle;\n    }\n\n    .dataframe tbody tr th {\n        vertical-align: top;\n    }\n\n    .dataframe thead th {\n        text-align: right;\n    }\n</style>\n<table border=\"1\" class=\"dataframe\">\n  <thead>\n    <tr style=\"text-align: right;\">\n      <th></th>\n      <th>engager_id</th>\n      <th>language</th>\n      <th>creator_is_verified</th>\n      <th>media</th>\n      <th>engager_following_count</th>\n      <th>engager_is_verified</th>\n      <th>creator_id</th>\n      <th>creator_following_count</th>\n      <th>tweet_timestamp</th>\n      <th>engager_account_creation</th>\n      <th>...</th>\n      <th>domains</th>\n      <th>engager_follower_count</th>\n      <th>reply</th>\n      <th>retweet</th>\n      <th>comment</th>\n      <th>like</th>\n      <th>dt_day</th>\n      <th>dt_dow</th>\n      <th>dt_hour</th>\n      <th>len_domains</th>\n    </tr>\n  </thead>\n  <tbody>\n    <tr>\n      <th>0</th>\n      <td>2AEB7AFFD36CA43C0C963F24F75BCCAC</td>\n      <td>19</td>\n      <td>0</td>\n      <td>0</td>\n      <td>339</td>\n      <td>0</td>\n      <td>BC9980C5385A68894C2862F41884FB27</td>\n      <td>662</td>\n      <td>1613237034</td>\n      <td>1520886748</td>\n      <td>...</td>\n      <td>0</td>\n      <td>169</td>\n      <td>0.0</td>\n      <td>0.0</td>\n      <td>0.0</td>\n      <td>0.0</td>\n      <td>13</td>\n      <td>5</td>\n      <td>17</td>\n      <td>0</td>\n    </tr>\n    <tr>\n      <th>1</th>\n      <td>865C52D28FA84E5E233B530C6FDAECC2</td>\n      <td>46</td>\n      <td>1</td>\n      <td>0</td>\n      <td>1190</td>\n      <td>0</td>\n      <td>C0EBA033A5C0D2AD91B4500958E2C633</td>\n      <td>228</td>\n      <td>1613748600</td>\n      <td>1237570695</td>\n      <td>...</td>\n      <td>1</td>\n      <td>393</td>\n      <td>0.0</td>\n      <td>0.0</td>\n      <td>0.0</td>\n      <td>0.0</td>\n      <td>19</td>\n      <td>4</td>\n      <td>15</td>\n      <td>1</td>\n    </tr>\n    <tr>\n      <th>2</th>\n      <td>FE83E568BD4B2ACDBAF876CFBB6C7296</td>\n      <td>46</td>\n      <td>1</td>\n      <td>0</td>\n      <td>1473</td>\n      <td>0</td>\n      <td>03EA05E7440140ABF047BC216CE34917</td>\n      <td>3685</td>\n      <td>1613386238</td>\n      <td>1263176351</td>\n      <td>...</td>\n      <td>2</td>\n      <td>629</td>\n      <td>0.0</td>\n      <td>0.0</td>\n      <td>0.0</td>\n      <td>1.0</td>\n      <td>15</td>\n      <td>0</td>\n      <td>10</td>\n      <td>1</td>\n    </tr>\n    <tr>\n      <th>3</th>\n      <td>DB0201BF93E4CCA1B55932AC36923E43</td>\n      <td>46</td>\n      <td>1</td>\n      <td>0</td>\n      <td>200</td>\n      <td>0</td>\n      <td>2700B9E175757F126C082D6A5742787D</td>\n      <td>13511</td>\n      <td>1613708640</td>\n      <td>1268276559</td>\n      <td>...</td>\n      <td>0</td>\n      <td>123</td>\n      <td>0.0</td>\n      <td>0.0</td>\n      <td>0.0</td>\n      <td>0.0</td>\n      <td>19</td>\n      <td>4</td>\n      <td>4</td>\n      <td>0</td>\n    </tr>\n    <tr>\n      <th>4</th>\n      <td>04F45C4A769FE2D7C792A96C92342DC2</td>\n      <td>61</td>\n      <td>0</td>\n      <td>5</td>\n      <td>379</td>\n      <td>0</td>\n      <td>B7E441F2D886830FB3F0CE29CB35CB6B</td>\n      <td>720</td>\n      <td>1612586018</td>\n      <td>1483862063</td>\n      <td>...</td>\n      <td>0</td>\n      <td>134</td>\n      <td>0.0</td>\n      <td>0.0</td>\n      <td>0.0</td>\n      <td>1.0</td>\n      <td>6</td>\n      <td>5</td>\n      <td>4</td>\n      <td>0</td>\n    </tr>\n  </tbody>\n</table>\n<p>5 rows × 25 columns</p>\n</div>"
     },
     "metadata": {},
     "execution_count": 5
    }
   ],
   "source": [
    "df.head()"
   ]
  },
  {
   "cell_type": "code",
   "execution_count": 6,
   "metadata": {},
   "outputs": [],
   "source": [
    "df = df.drop('creator_id', axis=1)\n",
    "df = df.drop('engager_id', axis=1)\n",
    "df = df.drop('tweet_id', axis=1)"
   ]
  },
  {
   "source": [],
   "cell_type": "markdown",
   "metadata": {}
  },
  {
   "source": [
    "## Negative sampling"
   ],
   "cell_type": "markdown",
   "metadata": {}
  },
  {
   "cell_type": "code",
   "execution_count": 7,
   "metadata": {},
   "outputs": [
    {
     "output_type": "stream",
     "name": "stdout",
     "text": [
      "1207588\n1826314\n"
     ]
    }
   ],
   "source": [
    "df_positive = df[df['like']==1]\n",
    "df_negative = df[df['like']==0]\n",
    "print(len(df_positive))\n",
    "print(len(df_negative))"
   ]
  },
  {
   "cell_type": "code",
   "execution_count": 12,
   "metadata": {},
   "outputs": [],
   "source": [
    "df_negative = df_negative.sample(n = len(df_positive))"
   ]
  },
  {
   "cell_type": "code",
   "execution_count": 13,
   "metadata": {},
   "outputs": [],
   "source": [
    "df = pd.concat([df_positive, df_negative])"
   ]
  },
  {
   "cell_type": "code",
   "execution_count": 14,
   "metadata": {},
   "outputs": [],
   "source": [
    "df_y = df[['reply', 'retweet', 'comment', 'like']]\n",
    "df_x = df.drop(['reply', 'retweet', 'comment', 'like'], axis = 1)"
   ]
  },
  {
   "source": [
    "## Scaling"
   ],
   "cell_type": "markdown",
   "metadata": {}
  },
  {
   "cell_type": "code",
   "execution_count": 15,
   "metadata": {},
   "outputs": [
    {
     "output_type": "execute_result",
     "data": {
      "text/plain": [
       "StandardScaler()"
      ]
     },
     "metadata": {},
     "execution_count": 15
    }
   ],
   "source": [
    "standard_scaler = preprocessing.StandardScaler()\n",
    "standard_scaler.fit(df_x.values)"
   ]
  },
  {
   "cell_type": "code",
   "execution_count": 16,
   "metadata": {},
   "outputs": [],
   "source": [
    "ss = standard_scaler.transform(df_x.values)"
   ]
  },
  {
   "cell_type": "code",
   "execution_count": 17,
   "metadata": {},
   "outputs": [],
   "source": [
    "df_x = pd.DataFrame(ss, columns = df_x.columns)"
   ]
  },
  {
   "cell_type": "code",
   "execution_count": 18,
   "metadata": {},
   "outputs": [],
   "source": [
    "X_train = df_x\n",
    "y_train_like = df_y['like'].to_frame()"
   ]
  },
  {
   "source": [
    "## data split"
   ],
   "cell_type": "markdown",
   "metadata": {}
  },
  {
   "cell_type": "code",
   "execution_count": 19,
   "metadata": {},
   "outputs": [],
   "source": [
    "X_train, X_test, y_train, y_test = train_test_split(X_train, y_train_like, test_size=0.2)\n",
    "X_test, X_val, y_test, y_val = train_test_split(X_test, y_test, test_size=0.2)"
   ]
  },
  {
   "cell_type": "code",
   "execution_count": 24,
   "metadata": {},
   "outputs": [
    {
     "output_type": "execute_result",
     "data": {
      "text/plain": [
       "         language  creator_is_verified     media  engager_following_count  \\\n",
       "2294592 -1.208703            -0.465868  2.080211                -0.324858   \n",
       "553517   1.487844            -0.465868 -0.747824                -0.364726   \n",
       "1046877 -0.732842            -0.465868 -0.747824                 0.177603   \n",
       "986151  -0.732842            -0.465868 -0.747824                -0.302578   \n",
       "395592  -0.732842            -0.465868 -0.747824                -0.328375   \n",
       "...           ...                  ...       ...                      ...   \n",
       "1968847  0.747615            -0.465868 -0.747824                -0.296129   \n",
       "1855017 -0.098360            -0.465868 -0.433598                -0.340101   \n",
       "1660043 -1.208703            -0.465868 -0.433598                -0.261537   \n",
       "1006235 -0.732842             2.146529  1.451758                 0.678304   \n",
       "1252779  0.800488            -0.465868 -0.747824                -0.297301   \n",
       "\n",
       "         engager_is_verified  creator_following_count  tweet_timestamp  \\\n",
       "2294592            -0.040341                -0.100779        -0.970044   \n",
       "553517             -0.040341                -0.095221        -0.201151   \n",
       "1046877            -0.040341                -0.107280         0.248249   \n",
       "986151             -0.040341                -0.107154        -1.047288   \n",
       "395592             -0.040341                -0.092929         1.581072   \n",
       "...                      ...                      ...              ...   \n",
       "1968847            -0.040341                -0.107405         1.504761   \n",
       "1855017            -0.040341                -0.040706         1.478456   \n",
       "1660043            -0.040341                -0.067085        -0.119146   \n",
       "1006235            -0.040341                -0.085926         1.155014   \n",
       "1252779            -0.040341                -0.108442        -1.268116   \n",
       "\n",
       "         engager_account_creation  creator_account_creation  tweet_type  \\\n",
       "2294592                  0.904527                  1.223261    0.731444   \n",
       "553517                   0.990613                  1.264820    0.731444   \n",
       "1046877                 -1.020485                  1.311620   -0.831618   \n",
       "986151                  -0.076735                 -0.440403    0.731444   \n",
       "395592                   0.878991                 -0.203434   -2.394681   \n",
       "...                           ...                       ...         ...   \n",
       "1968847                  1.095003                  1.319840    0.731444   \n",
       "1855017                  0.565342                 -1.123866    0.731444   \n",
       "1660043                  0.591216                 -1.240664    0.731444   \n",
       "1006235                 -0.827900                 -0.871864    0.731444   \n",
       "1252779                  0.960883                 -1.025959    0.731444   \n",
       "\n",
       "         creator_follows_engager  creator_follower_count   domains  \\\n",
       "2294592                -0.873139               -0.143957 -0.152899   \n",
       "553517                  1.145293               -0.167145 -0.152899   \n",
       "1046877                 1.145293               -0.167260 -0.152899   \n",
       "986151                  1.145293               -0.167237 -0.152899   \n",
       "395592                  1.145293               -0.167269 -0.152899   \n",
       "...                          ...                     ...       ...   \n",
       "1968847                 1.145293               -0.167249 -0.152899   \n",
       "1855017                 1.145293               -0.166774 -0.152899   \n",
       "1660043                -0.873139               -0.151435 -0.152899   \n",
       "1006235                -0.873139               -0.133515 -0.152899   \n",
       "1252779                -0.873139               -0.093401 -0.152899   \n",
       "\n",
       "         engager_follower_count    dt_day    dt_dow   dt_hour  len_domains  \n",
       "2294592               -0.071806 -0.992162 -1.484153  0.452926    -0.326148  \n",
       "553517                -0.067189 -0.166415  1.015418 -0.727632    -0.326148  \n",
       "1046877               -0.009338  0.329032 -0.984239 -1.760619    -0.326148  \n",
       "986151                -0.065618 -0.992162 -1.484153 -1.170341    -0.326148  \n",
       "395592                -0.063261  1.650226 -0.484325 -1.465480    -0.326148  \n",
       "...                         ...       ...       ...       ...          ...  \n",
       "1968847               -0.063457  1.485077 -0.984239  0.452926    -0.326148  \n",
       "1855017               -0.067288  1.485077 -0.984239 -0.137353    -0.326148  \n",
       "1660043               -0.067975 -0.166415  1.015418  1.043204    -0.326148  \n",
       "1006235               -0.046268  1.154779  1.515333  0.010217    -0.326148  \n",
       "1252779               -0.077306 -1.322460  1.015418  1.190774    -0.326148  \n",
       "\n",
       "[1932140 rows x 18 columns]"
      ],
      "text/html": "<div>\n<style scoped>\n    .dataframe tbody tr th:only-of-type {\n        vertical-align: middle;\n    }\n\n    .dataframe tbody tr th {\n        vertical-align: top;\n    }\n\n    .dataframe thead th {\n        text-align: right;\n    }\n</style>\n<table border=\"1\" class=\"dataframe\">\n  <thead>\n    <tr style=\"text-align: right;\">\n      <th></th>\n      <th>language</th>\n      <th>creator_is_verified</th>\n      <th>media</th>\n      <th>engager_following_count</th>\n      <th>engager_is_verified</th>\n      <th>creator_following_count</th>\n      <th>tweet_timestamp</th>\n      <th>engager_account_creation</th>\n      <th>creator_account_creation</th>\n      <th>tweet_type</th>\n      <th>creator_follows_engager</th>\n      <th>creator_follower_count</th>\n      <th>domains</th>\n      <th>engager_follower_count</th>\n      <th>dt_day</th>\n      <th>dt_dow</th>\n      <th>dt_hour</th>\n      <th>len_domains</th>\n    </tr>\n  </thead>\n  <tbody>\n    <tr>\n      <th>2294592</th>\n      <td>-1.208703</td>\n      <td>-0.465868</td>\n      <td>2.080211</td>\n      <td>-0.324858</td>\n      <td>-0.040341</td>\n      <td>-0.100779</td>\n      <td>-0.970044</td>\n      <td>0.904527</td>\n      <td>1.223261</td>\n      <td>0.731444</td>\n      <td>-0.873139</td>\n      <td>-0.143957</td>\n      <td>-0.152899</td>\n      <td>-0.071806</td>\n      <td>-0.992162</td>\n      <td>-1.484153</td>\n      <td>0.452926</td>\n      <td>-0.326148</td>\n    </tr>\n    <tr>\n      <th>553517</th>\n      <td>1.487844</td>\n      <td>-0.465868</td>\n      <td>-0.747824</td>\n      <td>-0.364726</td>\n      <td>-0.040341</td>\n      <td>-0.095221</td>\n      <td>-0.201151</td>\n      <td>0.990613</td>\n      <td>1.264820</td>\n      <td>0.731444</td>\n      <td>1.145293</td>\n      <td>-0.167145</td>\n      <td>-0.152899</td>\n      <td>-0.067189</td>\n      <td>-0.166415</td>\n      <td>1.015418</td>\n      <td>-0.727632</td>\n      <td>-0.326148</td>\n    </tr>\n    <tr>\n      <th>1046877</th>\n      <td>-0.732842</td>\n      <td>-0.465868</td>\n      <td>-0.747824</td>\n      <td>0.177603</td>\n      <td>-0.040341</td>\n      <td>-0.107280</td>\n      <td>0.248249</td>\n      <td>-1.020485</td>\n      <td>1.311620</td>\n      <td>-0.831618</td>\n      <td>1.145293</td>\n      <td>-0.167260</td>\n      <td>-0.152899</td>\n      <td>-0.009338</td>\n      <td>0.329032</td>\n      <td>-0.984239</td>\n      <td>-1.760619</td>\n      <td>-0.326148</td>\n    </tr>\n    <tr>\n      <th>986151</th>\n      <td>-0.732842</td>\n      <td>-0.465868</td>\n      <td>-0.747824</td>\n      <td>-0.302578</td>\n      <td>-0.040341</td>\n      <td>-0.107154</td>\n      <td>-1.047288</td>\n      <td>-0.076735</td>\n      <td>-0.440403</td>\n      <td>0.731444</td>\n      <td>1.145293</td>\n      <td>-0.167237</td>\n      <td>-0.152899</td>\n      <td>-0.065618</td>\n      <td>-0.992162</td>\n      <td>-1.484153</td>\n      <td>-1.170341</td>\n      <td>-0.326148</td>\n    </tr>\n    <tr>\n      <th>395592</th>\n      <td>-0.732842</td>\n      <td>-0.465868</td>\n      <td>-0.747824</td>\n      <td>-0.328375</td>\n      <td>-0.040341</td>\n      <td>-0.092929</td>\n      <td>1.581072</td>\n      <td>0.878991</td>\n      <td>-0.203434</td>\n      <td>-2.394681</td>\n      <td>1.145293</td>\n      <td>-0.167269</td>\n      <td>-0.152899</td>\n      <td>-0.063261</td>\n      <td>1.650226</td>\n      <td>-0.484325</td>\n      <td>-1.465480</td>\n      <td>-0.326148</td>\n    </tr>\n    <tr>\n      <th>...</th>\n      <td>...</td>\n      <td>...</td>\n      <td>...</td>\n      <td>...</td>\n      <td>...</td>\n      <td>...</td>\n      <td>...</td>\n      <td>...</td>\n      <td>...</td>\n      <td>...</td>\n      <td>...</td>\n      <td>...</td>\n      <td>...</td>\n      <td>...</td>\n      <td>...</td>\n      <td>...</td>\n      <td>...</td>\n      <td>...</td>\n    </tr>\n    <tr>\n      <th>1968847</th>\n      <td>0.747615</td>\n      <td>-0.465868</td>\n      <td>-0.747824</td>\n      <td>-0.296129</td>\n      <td>-0.040341</td>\n      <td>-0.107405</td>\n      <td>1.504761</td>\n      <td>1.095003</td>\n      <td>1.319840</td>\n      <td>0.731444</td>\n      <td>1.145293</td>\n      <td>-0.167249</td>\n      <td>-0.152899</td>\n      <td>-0.063457</td>\n      <td>1.485077</td>\n      <td>-0.984239</td>\n      <td>0.452926</td>\n      <td>-0.326148</td>\n    </tr>\n    <tr>\n      <th>1855017</th>\n      <td>-0.098360</td>\n      <td>-0.465868</td>\n      <td>-0.433598</td>\n      <td>-0.340101</td>\n      <td>-0.040341</td>\n      <td>-0.040706</td>\n      <td>1.478456</td>\n      <td>0.565342</td>\n      <td>-1.123866</td>\n      <td>0.731444</td>\n      <td>1.145293</td>\n      <td>-0.166774</td>\n      <td>-0.152899</td>\n      <td>-0.067288</td>\n      <td>1.485077</td>\n      <td>-0.984239</td>\n      <td>-0.137353</td>\n      <td>-0.326148</td>\n    </tr>\n    <tr>\n      <th>1660043</th>\n      <td>-1.208703</td>\n      <td>-0.465868</td>\n      <td>-0.433598</td>\n      <td>-0.261537</td>\n      <td>-0.040341</td>\n      <td>-0.067085</td>\n      <td>-0.119146</td>\n      <td>0.591216</td>\n      <td>-1.240664</td>\n      <td>0.731444</td>\n      <td>-0.873139</td>\n      <td>-0.151435</td>\n      <td>-0.152899</td>\n      <td>-0.067975</td>\n      <td>-0.166415</td>\n      <td>1.015418</td>\n      <td>1.043204</td>\n      <td>-0.326148</td>\n    </tr>\n    <tr>\n      <th>1006235</th>\n      <td>-0.732842</td>\n      <td>2.146529</td>\n      <td>1.451758</td>\n      <td>0.678304</td>\n      <td>-0.040341</td>\n      <td>-0.085926</td>\n      <td>1.155014</td>\n      <td>-0.827900</td>\n      <td>-0.871864</td>\n      <td>0.731444</td>\n      <td>-0.873139</td>\n      <td>-0.133515</td>\n      <td>-0.152899</td>\n      <td>-0.046268</td>\n      <td>1.154779</td>\n      <td>1.515333</td>\n      <td>0.010217</td>\n      <td>-0.326148</td>\n    </tr>\n    <tr>\n      <th>1252779</th>\n      <td>0.800488</td>\n      <td>-0.465868</td>\n      <td>-0.747824</td>\n      <td>-0.297301</td>\n      <td>-0.040341</td>\n      <td>-0.108442</td>\n      <td>-1.268116</td>\n      <td>0.960883</td>\n      <td>-1.025959</td>\n      <td>0.731444</td>\n      <td>-0.873139</td>\n      <td>-0.093401</td>\n      <td>-0.152899</td>\n      <td>-0.077306</td>\n      <td>-1.322460</td>\n      <td>1.015418</td>\n      <td>1.190774</td>\n      <td>-0.326148</td>\n    </tr>\n  </tbody>\n</table>\n<p>1932140 rows × 18 columns</p>\n</div>"
     },
     "metadata": {},
     "execution_count": 24
    }
   ],
   "source": [
    "X_train"
   ]
  },
  {
   "source": [
    "## Model"
   ],
   "cell_type": "markdown",
   "metadata": {}
  },
  {
   "cell_type": "code",
   "execution_count": 20,
   "metadata": {},
   "outputs": [],
   "source": [
    "model = Sequential([\n",
    "    Dense(16, activation = 'relu', input_dim = X_test.shape[1]),\n",
    "    Dense(8, activation = 'relu'),\n",
    "    Dense(4, activation = 'relu'),\n",
    "    Dense(1, activation = 'sigmoid')\n",
    "])"
   ]
  },
  {
   "cell_type": "code",
   "execution_count": 37,
   "metadata": {},
   "outputs": [],
   "source": [
    "model = Sequential([\n",
    "    Dense(128, activation = 'relu', input_dim = X_test.shape[1]),\n",
    "    Dense(64, activation = 'relu'),\n",
    "    Dense(64, activation = 'relu'),\n",
    "    Dense(64, activation = 'relu'),\n",
    "    Dense(32, activation = 'relu'),\n",
    "    Dense(16, activation = 'relu'),\n",
    "    Dense(1, activation = 'sigmoid')\n",
    "])"
   ]
  },
  {
   "cell_type": "code",
   "execution_count": 42,
   "metadata": {},
   "outputs": [],
   "source": [
    "model.compile(\n",
    "    optimizer = 'adam',\n",
    "    loss = 'binary_crossentropy', # softmax : sparse_categorical_crossentropy, sigmoid : binary_crossentropy\n",
    "    metrics=['binary_crossentropy'])"
   ]
  },
  {
   "cell_type": "code",
   "execution_count": 43,
   "metadata": {},
   "outputs": [
    {
     "output_type": "stream",
     "name": "stdout",
     "text": [
      "Model: \"sequential_4\"\n_________________________________________________________________\nLayer (type)                 Output Shape              Param #   \n=================================================================\ndense_18 (Dense)             (None, 128)               2432      \n_________________________________________________________________\ndense_19 (Dense)             (None, 64)                8256      \n_________________________________________________________________\ndense_20 (Dense)             (None, 64)                4160      \n_________________________________________________________________\ndense_21 (Dense)             (None, 64)                4160      \n_________________________________________________________________\ndense_22 (Dense)             (None, 32)                2080      \n_________________________________________________________________\ndense_23 (Dense)             (None, 16)                528       \n_________________________________________________________________\ndense_24 (Dense)             (None, 1)                 17        \n=================================================================\nTotal params: 21,633\nTrainable params: 21,633\nNon-trainable params: 0\n_________________________________________________________________\n"
     ]
    }
   ],
   "source": [
    "model.summary()"
   ]
  },
  {
   "cell_type": "code",
   "execution_count": 44,
   "metadata": {},
   "outputs": [
    {
     "output_type": "stream",
     "name": "stdout",
     "text": [
      "Epoch 1/30\n",
      "60380/60380 [==============================] - 32s 526us/step - loss: 0.6341 - binary_crossentropy: 0.6341 - val_loss: 0.6364 - val_binary_crossentropy: 0.6364\n",
      "Epoch 2/30\n",
      "60380/60380 [==============================] - 32s 531us/step - loss: 0.6332 - binary_crossentropy: 0.6332 - val_loss: 0.6351 - val_binary_crossentropy: 0.6351\n",
      "Epoch 3/30\n",
      "60380/60380 [==============================] - 31s 521us/step - loss: 0.6329 - binary_crossentropy: 0.6329 - val_loss: 0.6340 - val_binary_crossentropy: 0.6340\n",
      "Epoch 4/30\n",
      "60380/60380 [==============================] - 31s 521us/step - loss: 0.6317 - binary_crossentropy: 0.6317 - val_loss: 0.6338 - val_binary_crossentropy: 0.6338\n",
      "Epoch 5/30\n",
      "60380/60380 [==============================] - 32s 528us/step - loss: 0.6318 - binary_crossentropy: 0.6318 - val_loss: 0.6325 - val_binary_crossentropy: 0.6325\n",
      "Epoch 6/30\n",
      "60380/60380 [==============================] - 32s 533us/step - loss: 0.6311 - binary_crossentropy: 0.6311 - val_loss: 0.6331 - val_binary_crossentropy: 0.6331\n",
      "Epoch 7/30\n",
      "60380/60380 [==============================] - 32s 522us/step - loss: 0.6309 - binary_crossentropy: 0.6309 - val_loss: 0.6338 - val_binary_crossentropy: 0.6338\n",
      "Epoch 8/30\n",
      "60380/60380 [==============================] - 32s 535us/step - loss: 0.6310 - binary_crossentropy: 0.6310 - val_loss: 0.6322 - val_binary_crossentropy: 0.6322\n",
      "Epoch 9/30\n",
      "60380/60380 [==============================] - 31s 517us/step - loss: 0.6301 - binary_crossentropy: 0.6301 - val_loss: 0.6318 - val_binary_crossentropy: 0.6318\n",
      "Epoch 10/30\n",
      "60380/60380 [==============================] - 31s 517us/step - loss: 0.6296 - binary_crossentropy: 0.6296 - val_loss: 0.6325 - val_binary_crossentropy: 0.6325\n",
      "Epoch 11/30\n",
      "60380/60380 [==============================] - 31s 512us/step - loss: 0.6297 - binary_crossentropy: 0.6297 - val_loss: 0.6311 - val_binary_crossentropy: 0.6311\n",
      "Epoch 12/30\n",
      "60380/60380 [==============================] - 31s 508us/step - loss: 0.6290 - binary_crossentropy: 0.6290 - val_loss: 0.6312 - val_binary_crossentropy: 0.6312\n",
      "Epoch 13/30\n",
      "60380/60380 [==============================] - 31s 514us/step - loss: 0.6293 - binary_crossentropy: 0.6293 - val_loss: 0.6311 - val_binary_crossentropy: 0.6311\n",
      "Epoch 14/30\n",
      "60380/60380 [==============================] - 32s 529us/step - loss: 0.6291 - binary_crossentropy: 0.6291 - val_loss: 0.6317 - val_binary_crossentropy: 0.6317\n",
      "Epoch 15/30\n",
      "60380/60380 [==============================] - 31s 514us/step - loss: 0.6291 - binary_crossentropy: 0.6291 - val_loss: 0.6310 - val_binary_crossentropy: 0.6310\n",
      "Epoch 16/30\n",
      "60380/60380 [==============================] - 31s 510us/step - loss: 0.6290 - binary_crossentropy: 0.6290 - val_loss: 0.6318 - val_binary_crossentropy: 0.6318\n",
      "Epoch 17/30\n",
      "60380/60380 [==============================] - 31s 516us/step - loss: 0.6284 - binary_crossentropy: 0.6284 - val_loss: 0.6318 - val_binary_crossentropy: 0.6318\n",
      "Epoch 18/30\n",
      "60380/60380 [==============================] - 31s 518us/step - loss: 0.6288 - binary_crossentropy: 0.6288 - val_loss: 0.6313 - val_binary_crossentropy: 0.6313\n",
      "Epoch 19/30\n",
      "60380/60380 [==============================] - 31s 514us/step - loss: 0.6284 - binary_crossentropy: 0.6284 - val_loss: 0.6313 - val_binary_crossentropy: 0.6313\n",
      "Epoch 20/30\n",
      "60380/60380 [==============================] - 46s 758us/step - loss: 0.6283 - binary_crossentropy: 0.6283 - val_loss: 0.6307 - val_binary_crossentropy: 0.6307\n",
      "Epoch 21/30\n",
      "60380/60380 [==============================] - 31s 515us/step - loss: 0.6279 - binary_crossentropy: 0.6279 - val_loss: 0.6319 - val_binary_crossentropy: 0.6319\n",
      "Epoch 22/30\n",
      "60380/60380 [==============================] - 32s 524us/step - loss: 0.6280 - binary_crossentropy: 0.6280 - val_loss: 0.6310 - val_binary_crossentropy: 0.6310\n",
      "Epoch 23/30\n",
      "60380/60380 [==============================] - 31s 508us/step - loss: 0.6278 - binary_crossentropy: 0.6278 - val_loss: 0.6310 - val_binary_crossentropy: 0.6310\n",
      "Epoch 24/30\n",
      "60380/60380 [==============================] - 31s 521us/step - loss: 0.6273 - binary_crossentropy: 0.6273 - val_loss: 0.6312 - val_binary_crossentropy: 0.6312\n",
      "Epoch 25/30\n",
      "60380/60380 [==============================] - 31s 506us/step - loss: 0.6280 - binary_crossentropy: 0.6280 - val_loss: 0.6305 - val_binary_crossentropy: 0.6305\n",
      "Epoch 26/30\n",
      "60380/60380 [==============================] - 31s 507us/step - loss: 0.6276 - binary_crossentropy: 0.6276 - val_loss: 0.6320 - val_binary_crossentropy: 0.6320\n",
      "Epoch 27/30\n",
      "60380/60380 [==============================] - 31s 515us/step - loss: 0.6270 - binary_crossentropy: 0.6270 - val_loss: 0.6313 - val_binary_crossentropy: 0.6313\n",
      "Epoch 28/30\n",
      "60380/60380 [==============================] - 31s 515us/step - loss: 0.6276 - binary_crossentropy: 0.6276 - val_loss: 0.6333 - val_binary_crossentropy: 0.6333\n",
      "Epoch 29/30\n",
      "60380/60380 [==============================] - 31s 512us/step - loss: 0.6275 - binary_crossentropy: 0.6275 - val_loss: 0.6308 - val_binary_crossentropy: 0.6308\n",
      "Epoch 30/30\n",
      "60380/60380 [==============================] - 31s 520us/step - loss: 0.6274 - binary_crossentropy: 0.6274 - val_loss: 0.6310 - val_binary_crossentropy: 0.6310\n"
     ]
    }
   ],
   "source": [
    "result = model.fit(\n",
    "    x = X_train,\n",
    "    y = y_train,\n",
    "    validation_data=(X_val, y_val),\n",
    "    epochs=30,\n",
    "    batch_size=32\n",
    ")"
   ]
  },
  {
   "source": [
    "## Evaluate"
   ],
   "cell_type": "markdown",
   "metadata": {}
  },
  {
   "cell_type": "code",
   "execution_count": 45,
   "metadata": {},
   "outputs": [
    {
     "output_type": "display_data",
     "data": {
      "text/plain": "<Figure size 432x288 with 1 Axes>",
      "image/svg+xml": "<?xml version=\"1.0\" encoding=\"utf-8\" standalone=\"no\"?>\n<!DOCTYPE svg PUBLIC \"-//W3C//DTD SVG 1.1//EN\"\n  \"http://www.w3.org/Graphics/SVG/1.1/DTD/svg11.dtd\">\n<!-- Created with matplotlib (https://matplotlib.org/) -->\n<svg height=\"277.314375pt\" version=\"1.1\" viewBox=\"0 0 400.145866 277.314375\" width=\"400.145866pt\" xmlns=\"http://www.w3.org/2000/svg\" xmlns:xlink=\"http://www.w3.org/1999/xlink\">\n <metadata>\n  <rdf:RDF xmlns:cc=\"http://creativecommons.org/ns#\" xmlns:dc=\"http://purl.org/dc/elements/1.1/\" xmlns:rdf=\"http://www.w3.org/1999/02/22-rdf-syntax-ns#\">\n   <cc:Work>\n    <dc:type rdf:resource=\"http://purl.org/dc/dcmitype/StillImage\"/>\n    <dc:date>2021-05-13T15:08:22.863231</dc:date>\n    <dc:format>image/svg+xml</dc:format>\n    <dc:creator>\n     <cc:Agent>\n      <dc:title>Matplotlib v3.3.4, https://matplotlib.org/</dc:title>\n     </cc:Agent>\n    </dc:creator>\n   </cc:Work>\n  </rdf:RDF>\n </metadata>\n <defs>\n  <style type=\"text/css\">*{stroke-linecap:butt;stroke-linejoin:round;}</style>\n </defs>\n <g id=\"figure_1\">\n  <g id=\"patch_1\">\n   <path d=\"M 0 277.314375 \nL 400.145866 277.314375 \nL 400.145866 0 \nL 0 0 \nz\n\" style=\"fill:none;\"/>\n  </g>\n  <g id=\"axes_1\">\n   <g id=\"patch_2\">\n    <path d=\"M 56.50625 239.758125 \nL 391.30625 239.758125 \nL 391.30625 22.318125 \nL 56.50625 22.318125 \nz\n\" style=\"fill:#ffffff;\"/>\n   </g>\n   <g id=\"matplotlib.axis_1\">\n    <g id=\"xtick_1\">\n     <g id=\"line2d_1\">\n      <defs>\n       <path d=\"M 0 0 \nL 0 3.5 \n\" id=\"mb51cc10e69\" style=\"stroke:#000000;stroke-width:0.8;\"/>\n      </defs>\n      <g>\n       <use style=\"stroke:#000000;stroke-width:0.8;\" x=\"71.724432\" xlink:href=\"#mb51cc10e69\" y=\"239.758125\"/>\n      </g>\n     </g>\n     <g id=\"text_1\">\n      <!-- 0 -->\n      <g transform=\"translate(68.543182 254.356562)scale(0.1 -0.1)\">\n       <defs>\n        <path d=\"M 31.78125 66.40625 \nQ 24.171875 66.40625 20.328125 58.90625 \nQ 16.5 51.421875 16.5 36.375 \nQ 16.5 21.390625 20.328125 13.890625 \nQ 24.171875 6.390625 31.78125 6.390625 \nQ 39.453125 6.390625 43.28125 13.890625 \nQ 47.125 21.390625 47.125 36.375 \nQ 47.125 51.421875 43.28125 58.90625 \nQ 39.453125 66.40625 31.78125 66.40625 \nz\nM 31.78125 74.21875 \nQ 44.046875 74.21875 50.515625 64.515625 \nQ 56.984375 54.828125 56.984375 36.375 \nQ 56.984375 17.96875 50.515625 8.265625 \nQ 44.046875 -1.421875 31.78125 -1.421875 \nQ 19.53125 -1.421875 13.0625 8.265625 \nQ 6.59375 17.96875 6.59375 36.375 \nQ 6.59375 54.828125 13.0625 64.515625 \nQ 19.53125 74.21875 31.78125 74.21875 \nz\n\" id=\"DejaVuSans-48\"/>\n       </defs>\n       <use xlink:href=\"#DejaVuSans-48\"/>\n      </g>\n     </g>\n    </g>\n    <g id=\"xtick_2\">\n     <g id=\"line2d_2\">\n      <g>\n       <use style=\"stroke:#000000;stroke-width:0.8;\" x=\"124.200921\" xlink:href=\"#mb51cc10e69\" y=\"239.758125\"/>\n      </g>\n     </g>\n     <g id=\"text_2\">\n      <!-- 5 -->\n      <g transform=\"translate(121.019671 254.356562)scale(0.1 -0.1)\">\n       <defs>\n        <path d=\"M 10.796875 72.90625 \nL 49.515625 72.90625 \nL 49.515625 64.59375 \nL 19.828125 64.59375 \nL 19.828125 46.734375 \nQ 21.96875 47.46875 24.109375 47.828125 \nQ 26.265625 48.1875 28.421875 48.1875 \nQ 40.625 48.1875 47.75 41.5 \nQ 54.890625 34.8125 54.890625 23.390625 \nQ 54.890625 11.625 47.5625 5.09375 \nQ 40.234375 -1.421875 26.90625 -1.421875 \nQ 22.3125 -1.421875 17.546875 -0.640625 \nQ 12.796875 0.140625 7.71875 1.703125 \nL 7.71875 11.625 \nQ 12.109375 9.234375 16.796875 8.0625 \nQ 21.484375 6.890625 26.703125 6.890625 \nQ 35.15625 6.890625 40.078125 11.328125 \nQ 45.015625 15.765625 45.015625 23.390625 \nQ 45.015625 31 40.078125 35.4375 \nQ 35.15625 39.890625 26.703125 39.890625 \nQ 22.75 39.890625 18.8125 39.015625 \nQ 14.890625 38.140625 10.796875 36.28125 \nz\n\" id=\"DejaVuSans-53\"/>\n       </defs>\n       <use xlink:href=\"#DejaVuSans-53\"/>\n      </g>\n     </g>\n    </g>\n    <g id=\"xtick_3\">\n     <g id=\"line2d_3\">\n      <g>\n       <use style=\"stroke:#000000;stroke-width:0.8;\" x=\"176.67741\" xlink:href=\"#mb51cc10e69\" y=\"239.758125\"/>\n      </g>\n     </g>\n     <g id=\"text_3\">\n      <!-- 10 -->\n      <g transform=\"translate(170.31491 254.356562)scale(0.1 -0.1)\">\n       <defs>\n        <path d=\"M 12.40625 8.296875 \nL 28.515625 8.296875 \nL 28.515625 63.921875 \nL 10.984375 60.40625 \nL 10.984375 69.390625 \nL 28.421875 72.90625 \nL 38.28125 72.90625 \nL 38.28125 8.296875 \nL 54.390625 8.296875 \nL 54.390625 0 \nL 12.40625 0 \nz\n\" id=\"DejaVuSans-49\"/>\n       </defs>\n       <use xlink:href=\"#DejaVuSans-49\"/>\n       <use x=\"63.623047\" xlink:href=\"#DejaVuSans-48\"/>\n      </g>\n     </g>\n    </g>\n    <g id=\"xtick_4\">\n     <g id=\"line2d_4\">\n      <g>\n       <use style=\"stroke:#000000;stroke-width:0.8;\" x=\"229.153899\" xlink:href=\"#mb51cc10e69\" y=\"239.758125\"/>\n      </g>\n     </g>\n     <g id=\"text_4\">\n      <!-- 15 -->\n      <g transform=\"translate(222.791399 254.356562)scale(0.1 -0.1)\">\n       <use xlink:href=\"#DejaVuSans-49\"/>\n       <use x=\"63.623047\" xlink:href=\"#DejaVuSans-53\"/>\n      </g>\n     </g>\n    </g>\n    <g id=\"xtick_5\">\n     <g id=\"line2d_5\">\n      <g>\n       <use style=\"stroke:#000000;stroke-width:0.8;\" x=\"281.630388\" xlink:href=\"#mb51cc10e69\" y=\"239.758125\"/>\n      </g>\n     </g>\n     <g id=\"text_5\">\n      <!-- 20 -->\n      <g transform=\"translate(275.267888 254.356562)scale(0.1 -0.1)\">\n       <defs>\n        <path d=\"M 19.1875 8.296875 \nL 53.609375 8.296875 \nL 53.609375 0 \nL 7.328125 0 \nL 7.328125 8.296875 \nQ 12.9375 14.109375 22.625 23.890625 \nQ 32.328125 33.6875 34.8125 36.53125 \nQ 39.546875 41.84375 41.421875 45.53125 \nQ 43.3125 49.21875 43.3125 52.78125 \nQ 43.3125 58.59375 39.234375 62.25 \nQ 35.15625 65.921875 28.609375 65.921875 \nQ 23.96875 65.921875 18.8125 64.3125 \nQ 13.671875 62.703125 7.8125 59.421875 \nL 7.8125 69.390625 \nQ 13.765625 71.78125 18.9375 73 \nQ 24.125 74.21875 28.421875 74.21875 \nQ 39.75 74.21875 46.484375 68.546875 \nQ 53.21875 62.890625 53.21875 53.421875 \nQ 53.21875 48.921875 51.53125 44.890625 \nQ 49.859375 40.875 45.40625 35.40625 \nQ 44.1875 33.984375 37.640625 27.21875 \nQ 31.109375 20.453125 19.1875 8.296875 \nz\n\" id=\"DejaVuSans-50\"/>\n       </defs>\n       <use xlink:href=\"#DejaVuSans-50\"/>\n       <use x=\"63.623047\" xlink:href=\"#DejaVuSans-48\"/>\n      </g>\n     </g>\n    </g>\n    <g id=\"xtick_6\">\n     <g id=\"line2d_6\">\n      <g>\n       <use style=\"stroke:#000000;stroke-width:0.8;\" x=\"334.106877\" xlink:href=\"#mb51cc10e69\" y=\"239.758125\"/>\n      </g>\n     </g>\n     <g id=\"text_6\">\n      <!-- 25 -->\n      <g transform=\"translate(327.744377 254.356562)scale(0.1 -0.1)\">\n       <use xlink:href=\"#DejaVuSans-50\"/>\n       <use x=\"63.623047\" xlink:href=\"#DejaVuSans-53\"/>\n      </g>\n     </g>\n    </g>\n    <g id=\"xtick_7\">\n     <g id=\"line2d_7\">\n      <g>\n       <use style=\"stroke:#000000;stroke-width:0.8;\" x=\"386.583366\" xlink:href=\"#mb51cc10e69\" y=\"239.758125\"/>\n      </g>\n     </g>\n     <g id=\"text_7\">\n      <!-- 30 -->\n      <g transform=\"translate(380.220866 254.356562)scale(0.1 -0.1)\">\n       <defs>\n        <path d=\"M 40.578125 39.3125 \nQ 47.65625 37.796875 51.625 33 \nQ 55.609375 28.21875 55.609375 21.1875 \nQ 55.609375 10.40625 48.1875 4.484375 \nQ 40.765625 -1.421875 27.09375 -1.421875 \nQ 22.515625 -1.421875 17.65625 -0.515625 \nQ 12.796875 0.390625 7.625 2.203125 \nL 7.625 11.71875 \nQ 11.71875 9.328125 16.59375 8.109375 \nQ 21.484375 6.890625 26.8125 6.890625 \nQ 36.078125 6.890625 40.9375 10.546875 \nQ 45.796875 14.203125 45.796875 21.1875 \nQ 45.796875 27.640625 41.28125 31.265625 \nQ 36.765625 34.90625 28.71875 34.90625 \nL 20.21875 34.90625 \nL 20.21875 43.015625 \nL 29.109375 43.015625 \nQ 36.375 43.015625 40.234375 45.921875 \nQ 44.09375 48.828125 44.09375 54.296875 \nQ 44.09375 59.90625 40.109375 62.90625 \nQ 36.140625 65.921875 28.71875 65.921875 \nQ 24.65625 65.921875 20.015625 65.03125 \nQ 15.375 64.15625 9.8125 62.3125 \nL 9.8125 71.09375 \nQ 15.4375 72.65625 20.34375 73.4375 \nQ 25.25 74.21875 29.59375 74.21875 \nQ 40.828125 74.21875 47.359375 69.109375 \nQ 53.90625 64.015625 53.90625 55.328125 \nQ 53.90625 49.265625 50.4375 45.09375 \nQ 46.96875 40.921875 40.578125 39.3125 \nz\n\" id=\"DejaVuSans-51\"/>\n       </defs>\n       <use xlink:href=\"#DejaVuSans-51\"/>\n       <use x=\"63.623047\" xlink:href=\"#DejaVuSans-48\"/>\n      </g>\n     </g>\n    </g>\n    <g id=\"text_8\">\n     <!-- epoch -->\n     <g transform=\"translate(208.678125 268.034687)scale(0.1 -0.1)\">\n      <defs>\n       <path d=\"M 56.203125 29.59375 \nL 56.203125 25.203125 \nL 14.890625 25.203125 \nQ 15.484375 15.921875 20.484375 11.0625 \nQ 25.484375 6.203125 34.421875 6.203125 \nQ 39.59375 6.203125 44.453125 7.46875 \nQ 49.3125 8.734375 54.109375 11.28125 \nL 54.109375 2.78125 \nQ 49.265625 0.734375 44.1875 -0.34375 \nQ 39.109375 -1.421875 33.890625 -1.421875 \nQ 20.796875 -1.421875 13.15625 6.1875 \nQ 5.515625 13.8125 5.515625 26.8125 \nQ 5.515625 40.234375 12.765625 48.109375 \nQ 20.015625 56 32.328125 56 \nQ 43.359375 56 49.78125 48.890625 \nQ 56.203125 41.796875 56.203125 29.59375 \nz\nM 47.21875 32.234375 \nQ 47.125 39.59375 43.09375 43.984375 \nQ 39.0625 48.390625 32.421875 48.390625 \nQ 24.90625 48.390625 20.390625 44.140625 \nQ 15.875 39.890625 15.1875 32.171875 \nz\n\" id=\"DejaVuSans-101\"/>\n       <path d=\"M 18.109375 8.203125 \nL 18.109375 -20.796875 \nL 9.078125 -20.796875 \nL 9.078125 54.6875 \nL 18.109375 54.6875 \nL 18.109375 46.390625 \nQ 20.953125 51.265625 25.265625 53.625 \nQ 29.59375 56 35.59375 56 \nQ 45.5625 56 51.78125 48.09375 \nQ 58.015625 40.1875 58.015625 27.296875 \nQ 58.015625 14.40625 51.78125 6.484375 \nQ 45.5625 -1.421875 35.59375 -1.421875 \nQ 29.59375 -1.421875 25.265625 0.953125 \nQ 20.953125 3.328125 18.109375 8.203125 \nz\nM 48.6875 27.296875 \nQ 48.6875 37.203125 44.609375 42.84375 \nQ 40.53125 48.484375 33.40625 48.484375 \nQ 26.265625 48.484375 22.1875 42.84375 \nQ 18.109375 37.203125 18.109375 27.296875 \nQ 18.109375 17.390625 22.1875 11.75 \nQ 26.265625 6.109375 33.40625 6.109375 \nQ 40.53125 6.109375 44.609375 11.75 \nQ 48.6875 17.390625 48.6875 27.296875 \nz\n\" id=\"DejaVuSans-112\"/>\n       <path d=\"M 30.609375 48.390625 \nQ 23.390625 48.390625 19.1875 42.75 \nQ 14.984375 37.109375 14.984375 27.296875 \nQ 14.984375 17.484375 19.15625 11.84375 \nQ 23.34375 6.203125 30.609375 6.203125 \nQ 37.796875 6.203125 41.984375 11.859375 \nQ 46.1875 17.53125 46.1875 27.296875 \nQ 46.1875 37.015625 41.984375 42.703125 \nQ 37.796875 48.390625 30.609375 48.390625 \nz\nM 30.609375 56 \nQ 42.328125 56 49.015625 48.375 \nQ 55.71875 40.765625 55.71875 27.296875 \nQ 55.71875 13.875 49.015625 6.21875 \nQ 42.328125 -1.421875 30.609375 -1.421875 \nQ 18.84375 -1.421875 12.171875 6.21875 \nQ 5.515625 13.875 5.515625 27.296875 \nQ 5.515625 40.765625 12.171875 48.375 \nQ 18.84375 56 30.609375 56 \nz\n\" id=\"DejaVuSans-111\"/>\n       <path d=\"M 48.78125 52.59375 \nL 48.78125 44.1875 \nQ 44.96875 46.296875 41.140625 47.34375 \nQ 37.3125 48.390625 33.40625 48.390625 \nQ 24.65625 48.390625 19.8125 42.84375 \nQ 14.984375 37.3125 14.984375 27.296875 \nQ 14.984375 17.28125 19.8125 11.734375 \nQ 24.65625 6.203125 33.40625 6.203125 \nQ 37.3125 6.203125 41.140625 7.25 \nQ 44.96875 8.296875 48.78125 10.40625 \nL 48.78125 2.09375 \nQ 45.015625 0.34375 40.984375 -0.53125 \nQ 36.96875 -1.421875 32.421875 -1.421875 \nQ 20.0625 -1.421875 12.78125 6.34375 \nQ 5.515625 14.109375 5.515625 27.296875 \nQ 5.515625 40.671875 12.859375 48.328125 \nQ 20.21875 56 33.015625 56 \nQ 37.15625 56 41.109375 55.140625 \nQ 45.0625 54.296875 48.78125 52.59375 \nz\n\" id=\"DejaVuSans-99\"/>\n       <path d=\"M 54.890625 33.015625 \nL 54.890625 0 \nL 45.90625 0 \nL 45.90625 32.71875 \nQ 45.90625 40.484375 42.875 44.328125 \nQ 39.84375 48.1875 33.796875 48.1875 \nQ 26.515625 48.1875 22.3125 43.546875 \nQ 18.109375 38.921875 18.109375 30.90625 \nL 18.109375 0 \nL 9.078125 0 \nL 9.078125 75.984375 \nL 18.109375 75.984375 \nL 18.109375 46.1875 \nQ 21.34375 51.125 25.703125 53.5625 \nQ 30.078125 56 35.796875 56 \nQ 45.21875 56 50.046875 50.171875 \nQ 54.890625 44.34375 54.890625 33.015625 \nz\n\" id=\"DejaVuSans-104\"/>\n      </defs>\n      <use xlink:href=\"#DejaVuSans-101\"/>\n      <use x=\"61.523438\" xlink:href=\"#DejaVuSans-112\"/>\n      <use x=\"125\" xlink:href=\"#DejaVuSans-111\"/>\n      <use x=\"186.181641\" xlink:href=\"#DejaVuSans-99\"/>\n      <use x=\"241.162109\" xlink:href=\"#DejaVuSans-104\"/>\n     </g>\n    </g>\n   </g>\n   <g id=\"matplotlib.axis_2\">\n    <g id=\"ytick_1\">\n     <g id=\"line2d_8\">\n      <defs>\n       <path d=\"M 0 0 \nL -3.5 0 \n\" id=\"m93ab7df457\" style=\"stroke:#000000;stroke-width:0.8;\"/>\n      </defs>\n      <g>\n       <use style=\"stroke:#000000;stroke-width:0.8;\" x=\"56.50625\" xlink:href=\"#m93ab7df457\" y=\"219.351402\"/>\n      </g>\n     </g>\n     <g id=\"text_9\">\n      <!-- 0.628 -->\n      <g transform=\"translate(20.878125 223.150621)scale(0.1 -0.1)\">\n       <defs>\n        <path d=\"M 10.6875 12.40625 \nL 21 12.40625 \nL 21 0 \nL 10.6875 0 \nz\n\" id=\"DejaVuSans-46\"/>\n        <path d=\"M 33.015625 40.375 \nQ 26.375 40.375 22.484375 35.828125 \nQ 18.609375 31.296875 18.609375 23.390625 \nQ 18.609375 15.53125 22.484375 10.953125 \nQ 26.375 6.390625 33.015625 6.390625 \nQ 39.65625 6.390625 43.53125 10.953125 \nQ 47.40625 15.53125 47.40625 23.390625 \nQ 47.40625 31.296875 43.53125 35.828125 \nQ 39.65625 40.375 33.015625 40.375 \nz\nM 52.59375 71.296875 \nL 52.59375 62.3125 \nQ 48.875 64.0625 45.09375 64.984375 \nQ 41.3125 65.921875 37.59375 65.921875 \nQ 27.828125 65.921875 22.671875 59.328125 \nQ 17.53125 52.734375 16.796875 39.40625 \nQ 19.671875 43.65625 24.015625 45.921875 \nQ 28.375 48.1875 33.59375 48.1875 \nQ 44.578125 48.1875 50.953125 41.515625 \nQ 57.328125 34.859375 57.328125 23.390625 \nQ 57.328125 12.15625 50.6875 5.359375 \nQ 44.046875 -1.421875 33.015625 -1.421875 \nQ 20.359375 -1.421875 13.671875 8.265625 \nQ 6.984375 17.96875 6.984375 36.375 \nQ 6.984375 53.65625 15.1875 63.9375 \nQ 23.390625 74.21875 37.203125 74.21875 \nQ 40.921875 74.21875 44.703125 73.484375 \nQ 48.484375 72.75 52.59375 71.296875 \nz\n\" id=\"DejaVuSans-54\"/>\n        <path d=\"M 31.78125 34.625 \nQ 24.75 34.625 20.71875 30.859375 \nQ 16.703125 27.09375 16.703125 20.515625 \nQ 16.703125 13.921875 20.71875 10.15625 \nQ 24.75 6.390625 31.78125 6.390625 \nQ 38.8125 6.390625 42.859375 10.171875 \nQ 46.921875 13.96875 46.921875 20.515625 \nQ 46.921875 27.09375 42.890625 30.859375 \nQ 38.875 34.625 31.78125 34.625 \nz\nM 21.921875 38.8125 \nQ 15.578125 40.375 12.03125 44.71875 \nQ 8.5 49.078125 8.5 55.328125 \nQ 8.5 64.0625 14.71875 69.140625 \nQ 20.953125 74.21875 31.78125 74.21875 \nQ 42.671875 74.21875 48.875 69.140625 \nQ 55.078125 64.0625 55.078125 55.328125 \nQ 55.078125 49.078125 51.53125 44.71875 \nQ 48 40.375 41.703125 38.8125 \nQ 48.828125 37.15625 52.796875 32.3125 \nQ 56.78125 27.484375 56.78125 20.515625 \nQ 56.78125 9.90625 50.3125 4.234375 \nQ 43.84375 -1.421875 31.78125 -1.421875 \nQ 19.734375 -1.421875 13.25 4.234375 \nQ 6.78125 9.90625 6.78125 20.515625 \nQ 6.78125 27.484375 10.78125 32.3125 \nQ 14.796875 37.15625 21.921875 38.8125 \nz\nM 18.3125 54.390625 \nQ 18.3125 48.734375 21.84375 45.5625 \nQ 25.390625 42.390625 31.78125 42.390625 \nQ 38.140625 42.390625 41.71875 45.5625 \nQ 45.3125 48.734375 45.3125 54.390625 \nQ 45.3125 60.0625 41.71875 63.234375 \nQ 38.140625 66.40625 31.78125 66.40625 \nQ 25.390625 66.40625 21.84375 63.234375 \nQ 18.3125 60.0625 18.3125 54.390625 \nz\n\" id=\"DejaVuSans-56\"/>\n       </defs>\n       <use xlink:href=\"#DejaVuSans-48\"/>\n       <use x=\"63.623047\" xlink:href=\"#DejaVuSans-46\"/>\n       <use x=\"95.410156\" xlink:href=\"#DejaVuSans-54\"/>\n       <use x=\"159.033203\" xlink:href=\"#DejaVuSans-50\"/>\n       <use x=\"222.65625\" xlink:href=\"#DejaVuSans-56\"/>\n      </g>\n     </g>\n    </g>\n    <g id=\"ytick_2\">\n     <g id=\"line2d_9\">\n      <g>\n       <use style=\"stroke:#000000;stroke-width:0.8;\" x=\"56.50625\" xlink:href=\"#m93ab7df457\" y=\"174.687612\"/>\n      </g>\n     </g>\n     <g id=\"text_10\">\n      <!-- 0.630 -->\n      <g transform=\"translate(20.878125 178.486831)scale(0.1 -0.1)\">\n       <use xlink:href=\"#DejaVuSans-48\"/>\n       <use x=\"63.623047\" xlink:href=\"#DejaVuSans-46\"/>\n       <use x=\"95.410156\" xlink:href=\"#DejaVuSans-54\"/>\n       <use x=\"159.033203\" xlink:href=\"#DejaVuSans-51\"/>\n       <use x=\"222.65625\" xlink:href=\"#DejaVuSans-48\"/>\n      </g>\n     </g>\n    </g>\n    <g id=\"ytick_3\">\n     <g id=\"line2d_10\">\n      <g>\n       <use style=\"stroke:#000000;stroke-width:0.8;\" x=\"56.50625\" xlink:href=\"#m93ab7df457\" y=\"130.023823\"/>\n      </g>\n     </g>\n     <g id=\"text_11\">\n      <!-- 0.632 -->\n      <g transform=\"translate(20.878125 133.823041)scale(0.1 -0.1)\">\n       <use xlink:href=\"#DejaVuSans-48\"/>\n       <use x=\"63.623047\" xlink:href=\"#DejaVuSans-46\"/>\n       <use x=\"95.410156\" xlink:href=\"#DejaVuSans-54\"/>\n       <use x=\"159.033203\" xlink:href=\"#DejaVuSans-51\"/>\n       <use x=\"222.65625\" xlink:href=\"#DejaVuSans-50\"/>\n      </g>\n     </g>\n    </g>\n    <g id=\"ytick_4\">\n     <g id=\"line2d_11\">\n      <g>\n       <use style=\"stroke:#000000;stroke-width:0.8;\" x=\"56.50625\" xlink:href=\"#m93ab7df457\" y=\"85.360033\"/>\n      </g>\n     </g>\n     <g id=\"text_12\">\n      <!-- 0.634 -->\n      <g transform=\"translate(20.878125 89.159252)scale(0.1 -0.1)\">\n       <defs>\n        <path d=\"M 37.796875 64.3125 \nL 12.890625 25.390625 \nL 37.796875 25.390625 \nz\nM 35.203125 72.90625 \nL 47.609375 72.90625 \nL 47.609375 25.390625 \nL 58.015625 25.390625 \nL 58.015625 17.1875 \nL 47.609375 17.1875 \nL 47.609375 0 \nL 37.796875 0 \nL 37.796875 17.1875 \nL 4.890625 17.1875 \nL 4.890625 26.703125 \nz\n\" id=\"DejaVuSans-52\"/>\n       </defs>\n       <use xlink:href=\"#DejaVuSans-48\"/>\n       <use x=\"63.623047\" xlink:href=\"#DejaVuSans-46\"/>\n       <use x=\"95.410156\" xlink:href=\"#DejaVuSans-54\"/>\n       <use x=\"159.033203\" xlink:href=\"#DejaVuSans-51\"/>\n       <use x=\"222.65625\" xlink:href=\"#DejaVuSans-52\"/>\n      </g>\n     </g>\n    </g>\n    <g id=\"ytick_5\">\n     <g id=\"line2d_12\">\n      <g>\n       <use style=\"stroke:#000000;stroke-width:0.8;\" x=\"56.50625\" xlink:href=\"#m93ab7df457\" y=\"40.696243\"/>\n      </g>\n     </g>\n     <g id=\"text_13\">\n      <!-- 0.636 -->\n      <g transform=\"translate(20.878125 44.495462)scale(0.1 -0.1)\">\n       <use xlink:href=\"#DejaVuSans-48\"/>\n       <use x=\"63.623047\" xlink:href=\"#DejaVuSans-46\"/>\n       <use x=\"95.410156\" xlink:href=\"#DejaVuSans-54\"/>\n       <use x=\"159.033203\" xlink:href=\"#DejaVuSans-51\"/>\n       <use x=\"222.65625\" xlink:href=\"#DejaVuSans-54\"/>\n      </g>\n     </g>\n    </g>\n    <g id=\"text_14\">\n     <!-- loss -->\n     <g transform=\"translate(14.798438 140.695937)rotate(-90)scale(0.1 -0.1)\">\n      <defs>\n       <path d=\"M 9.421875 75.984375 \nL 18.40625 75.984375 \nL 18.40625 0 \nL 9.421875 0 \nz\n\" id=\"DejaVuSans-108\"/>\n       <path d=\"M 44.28125 53.078125 \nL 44.28125 44.578125 \nQ 40.484375 46.53125 36.375 47.5 \nQ 32.28125 48.484375 27.875 48.484375 \nQ 21.1875 48.484375 17.84375 46.4375 \nQ 14.5 44.390625 14.5 40.28125 \nQ 14.5 37.15625 16.890625 35.375 \nQ 19.28125 33.59375 26.515625 31.984375 \nL 29.59375 31.296875 \nQ 39.15625 29.25 43.1875 25.515625 \nQ 47.21875 21.78125 47.21875 15.09375 \nQ 47.21875 7.46875 41.1875 3.015625 \nQ 35.15625 -1.421875 24.609375 -1.421875 \nQ 20.21875 -1.421875 15.453125 -0.5625 \nQ 10.6875 0.296875 5.421875 2 \nL 5.421875 11.28125 \nQ 10.40625 8.6875 15.234375 7.390625 \nQ 20.0625 6.109375 24.8125 6.109375 \nQ 31.15625 6.109375 34.5625 8.28125 \nQ 37.984375 10.453125 37.984375 14.40625 \nQ 37.984375 18.0625 35.515625 20.015625 \nQ 33.0625 21.96875 24.703125 23.78125 \nL 21.578125 24.515625 \nQ 13.234375 26.265625 9.515625 29.90625 \nQ 5.8125 33.546875 5.8125 39.890625 \nQ 5.8125 47.609375 11.28125 51.796875 \nQ 16.75 56 26.8125 56 \nQ 31.78125 56 36.171875 55.265625 \nQ 40.578125 54.546875 44.28125 53.078125 \nz\n\" id=\"DejaVuSans-115\"/>\n      </defs>\n      <use xlink:href=\"#DejaVuSans-108\"/>\n      <use x=\"27.783203\" xlink:href=\"#DejaVuSans-111\"/>\n      <use x=\"88.964844\" xlink:href=\"#DejaVuSans-115\"/>\n      <use x=\"141.064453\" xlink:href=\"#DejaVuSans-115\"/>\n     </g>\n    </g>\n   </g>\n   <g id=\"line2d_13\">\n    <path clip-path=\"url(#p5d156dd8ae)\" d=\"M 71.724432 80.202005 \nL 82.21973 99.949977 \nL 92.715027 111.831239 \nL 103.210325 126.905773 \nL 113.705623 137.684896 \nL 124.200921 145.892364 \nL 134.696219 154.954389 \nL 145.191516 159.557279 \nL 155.686814 169.630928 \nL 166.182112 175.064416 \nL 176.67741 182.05261 \nL 187.172708 185.855519 \nL 197.668005 189.357603 \nL 208.163303 192.947538 \nL 218.658601 197.285543 \nL 229.153899 200.474822 \nL 239.649197 203.045146 \nL 250.144495 203.842466 \nL 260.639792 207.650699 \nL 271.13509 210.5112 \nL 281.630388 212.726125 \nL 292.125686 214.037243 \nL 302.620984 217.589908 \nL 313.116281 222.811753 \nL 323.611579 221.576507 \nL 334.106877 224.196081 \nL 344.602175 228.544735 \nL 355.097473 227.795334 \nL 365.59277 228.274525 \nL 376.088068 229.874489 \n\" style=\"fill:none;stroke:#1f77b4;stroke-linecap:square;stroke-width:1.5;\"/>\n   </g>\n   <g id=\"line2d_14\">\n    <path clip-path=\"url(#p5d156dd8ae)\" d=\"M 71.724432 32.201761 \nL 82.21973 61.292617 \nL 92.715027 85.230843 \nL 103.210325 89.162867 \nL 113.705623 119.736551 \nL 124.200921 106.375123 \nL 134.696219 89.598132 \nL 145.191516 125.321782 \nL 155.686814 135.426046 \nL 166.182112 118.180513 \nL 176.67741 150.997074 \nL 187.172708 146.937266 \nL 197.668005 151.183426 \nL 208.163303 136.353812 \nL 218.658601 153.254593 \nL 229.153899 135.57912 \nL 239.649197 133.617102 \nL 250.144495 144.573259 \nL 260.639792 146.245102 \nL 271.13509 158.417871 \nL 281.630388 131.687029 \nL 292.125686 152.470585 \nL 302.620984 152.226996 \nL 313.116281 148.313607 \nL 323.611579 162.962194 \nL 334.106877 129.300394 \nL 344.602175 144.734321 \nL 355.097473 100.647466 \nL 365.59277 157.307746 \nL 376.088068 152.117847 \n\" style=\"fill:none;stroke:#ff7f0e;stroke-linecap:square;stroke-width:1.5;\"/>\n   </g>\n   <g id=\"patch_3\">\n    <path d=\"M 56.50625 239.758125 \nL 56.50625 22.318125 \n\" style=\"fill:none;stroke:#000000;stroke-linecap:square;stroke-linejoin:miter;stroke-width:0.8;\"/>\n   </g>\n   <g id=\"patch_4\">\n    <path d=\"M 391.30625 239.758125 \nL 391.30625 22.318125 \n\" style=\"fill:none;stroke:#000000;stroke-linecap:square;stroke-linejoin:miter;stroke-width:0.8;\"/>\n   </g>\n   <g id=\"patch_5\">\n    <path d=\"M 56.50625 239.758125 \nL 391.30625 239.758125 \n\" style=\"fill:none;stroke:#000000;stroke-linecap:square;stroke-linejoin:miter;stroke-width:0.8;\"/>\n   </g>\n   <g id=\"patch_6\">\n    <path d=\"M 56.50625 22.318125 \nL 391.30625 22.318125 \n\" style=\"fill:none;stroke:#000000;stroke-linecap:square;stroke-linejoin:miter;stroke-width:0.8;\"/>\n   </g>\n   <g id=\"text_15\">\n    <!-- model accuracy -->\n    <g transform=\"translate(176.244687 16.318125)scale(0.12 -0.12)\">\n     <defs>\n      <path d=\"M 52 44.1875 \nQ 55.375 50.25 60.0625 53.125 \nQ 64.75 56 71.09375 56 \nQ 79.640625 56 84.28125 50.015625 \nQ 88.921875 44.046875 88.921875 33.015625 \nL 88.921875 0 \nL 79.890625 0 \nL 79.890625 32.71875 \nQ 79.890625 40.578125 77.09375 44.375 \nQ 74.3125 48.1875 68.609375 48.1875 \nQ 61.625 48.1875 57.5625 43.546875 \nQ 53.515625 38.921875 53.515625 30.90625 \nL 53.515625 0 \nL 44.484375 0 \nL 44.484375 32.71875 \nQ 44.484375 40.625 41.703125 44.40625 \nQ 38.921875 48.1875 33.109375 48.1875 \nQ 26.21875 48.1875 22.15625 43.53125 \nQ 18.109375 38.875 18.109375 30.90625 \nL 18.109375 0 \nL 9.078125 0 \nL 9.078125 54.6875 \nL 18.109375 54.6875 \nL 18.109375 46.1875 \nQ 21.1875 51.21875 25.484375 53.609375 \nQ 29.78125 56 35.6875 56 \nQ 41.65625 56 45.828125 52.96875 \nQ 50 49.953125 52 44.1875 \nz\n\" id=\"DejaVuSans-109\"/>\n      <path d=\"M 45.40625 46.390625 \nL 45.40625 75.984375 \nL 54.390625 75.984375 \nL 54.390625 0 \nL 45.40625 0 \nL 45.40625 8.203125 \nQ 42.578125 3.328125 38.25 0.953125 \nQ 33.9375 -1.421875 27.875 -1.421875 \nQ 17.96875 -1.421875 11.734375 6.484375 \nQ 5.515625 14.40625 5.515625 27.296875 \nQ 5.515625 40.1875 11.734375 48.09375 \nQ 17.96875 56 27.875 56 \nQ 33.9375 56 38.25 53.625 \nQ 42.578125 51.265625 45.40625 46.390625 \nz\nM 14.796875 27.296875 \nQ 14.796875 17.390625 18.875 11.75 \nQ 22.953125 6.109375 30.078125 6.109375 \nQ 37.203125 6.109375 41.296875 11.75 \nQ 45.40625 17.390625 45.40625 27.296875 \nQ 45.40625 37.203125 41.296875 42.84375 \nQ 37.203125 48.484375 30.078125 48.484375 \nQ 22.953125 48.484375 18.875 42.84375 \nQ 14.796875 37.203125 14.796875 27.296875 \nz\n\" id=\"DejaVuSans-100\"/>\n      <path id=\"DejaVuSans-32\"/>\n      <path d=\"M 34.28125 27.484375 \nQ 23.390625 27.484375 19.1875 25 \nQ 14.984375 22.515625 14.984375 16.5 \nQ 14.984375 11.71875 18.140625 8.90625 \nQ 21.296875 6.109375 26.703125 6.109375 \nQ 34.1875 6.109375 38.703125 11.40625 \nQ 43.21875 16.703125 43.21875 25.484375 \nL 43.21875 27.484375 \nz\nM 52.203125 31.203125 \nL 52.203125 0 \nL 43.21875 0 \nL 43.21875 8.296875 \nQ 40.140625 3.328125 35.546875 0.953125 \nQ 30.953125 -1.421875 24.3125 -1.421875 \nQ 15.921875 -1.421875 10.953125 3.296875 \nQ 6 8.015625 6 15.921875 \nQ 6 25.140625 12.171875 29.828125 \nQ 18.359375 34.515625 30.609375 34.515625 \nL 43.21875 34.515625 \nL 43.21875 35.40625 \nQ 43.21875 41.609375 39.140625 45 \nQ 35.0625 48.390625 27.6875 48.390625 \nQ 23 48.390625 18.546875 47.265625 \nQ 14.109375 46.140625 10.015625 43.890625 \nL 10.015625 52.203125 \nQ 14.9375 54.109375 19.578125 55.046875 \nQ 24.21875 56 28.609375 56 \nQ 40.484375 56 46.34375 49.84375 \nQ 52.203125 43.703125 52.203125 31.203125 \nz\n\" id=\"DejaVuSans-97\"/>\n      <path d=\"M 8.5 21.578125 \nL 8.5 54.6875 \nL 17.484375 54.6875 \nL 17.484375 21.921875 \nQ 17.484375 14.15625 20.5 10.265625 \nQ 23.53125 6.390625 29.59375 6.390625 \nQ 36.859375 6.390625 41.078125 11.03125 \nQ 45.3125 15.671875 45.3125 23.6875 \nL 45.3125 54.6875 \nL 54.296875 54.6875 \nL 54.296875 0 \nL 45.3125 0 \nL 45.3125 8.40625 \nQ 42.046875 3.421875 37.71875 1 \nQ 33.40625 -1.421875 27.6875 -1.421875 \nQ 18.265625 -1.421875 13.375 4.4375 \nQ 8.5 10.296875 8.5 21.578125 \nz\nM 31.109375 56 \nz\n\" id=\"DejaVuSans-117\"/>\n      <path d=\"M 41.109375 46.296875 \nQ 39.59375 47.171875 37.8125 47.578125 \nQ 36.03125 48 33.890625 48 \nQ 26.265625 48 22.1875 43.046875 \nQ 18.109375 38.09375 18.109375 28.8125 \nL 18.109375 0 \nL 9.078125 0 \nL 9.078125 54.6875 \nL 18.109375 54.6875 \nL 18.109375 46.1875 \nQ 20.953125 51.171875 25.484375 53.578125 \nQ 30.03125 56 36.53125 56 \nQ 37.453125 56 38.578125 55.875 \nQ 39.703125 55.765625 41.0625 55.515625 \nz\n\" id=\"DejaVuSans-114\"/>\n      <path d=\"M 32.171875 -5.078125 \nQ 28.375 -14.84375 24.75 -17.8125 \nQ 21.140625 -20.796875 15.09375 -20.796875 \nL 7.90625 -20.796875 \nL 7.90625 -13.28125 \nL 13.1875 -13.28125 \nQ 16.890625 -13.28125 18.9375 -11.515625 \nQ 21 -9.765625 23.484375 -3.21875 \nL 25.09375 0.875 \nL 2.984375 54.6875 \nL 12.5 54.6875 \nL 29.59375 11.921875 \nL 46.6875 54.6875 \nL 56.203125 54.6875 \nz\n\" id=\"DejaVuSans-121\"/>\n     </defs>\n     <use xlink:href=\"#DejaVuSans-109\"/>\n     <use x=\"97.412109\" xlink:href=\"#DejaVuSans-111\"/>\n     <use x=\"158.59375\" xlink:href=\"#DejaVuSans-100\"/>\n     <use x=\"222.070312\" xlink:href=\"#DejaVuSans-101\"/>\n     <use x=\"283.59375\" xlink:href=\"#DejaVuSans-108\"/>\n     <use x=\"311.376953\" xlink:href=\"#DejaVuSans-32\"/>\n     <use x=\"343.164062\" xlink:href=\"#DejaVuSans-97\"/>\n     <use x=\"404.443359\" xlink:href=\"#DejaVuSans-99\"/>\n     <use x=\"459.423828\" xlink:href=\"#DejaVuSans-99\"/>\n     <use x=\"514.404297\" xlink:href=\"#DejaVuSans-117\"/>\n     <use x=\"577.783203\" xlink:href=\"#DejaVuSans-114\"/>\n     <use x=\"618.896484\" xlink:href=\"#DejaVuSans-97\"/>\n     <use x=\"680.175781\" xlink:href=\"#DejaVuSans-99\"/>\n     <use x=\"735.15625\" xlink:href=\"#DejaVuSans-121\"/>\n    </g>\n   </g>\n   <g id=\"legend_1\">\n    <g id=\"patch_7\">\n     <path d=\"M 63.50625 59.674375 \nL 118.78125 59.674375 \nQ 120.78125 59.674375 120.78125 57.674375 \nL 120.78125 29.318125 \nQ 120.78125 27.318125 118.78125 27.318125 \nL 63.50625 27.318125 \nQ 61.50625 27.318125 61.50625 29.318125 \nL 61.50625 57.674375 \nQ 61.50625 59.674375 63.50625 59.674375 \nz\n\" style=\"fill:#ffffff;opacity:0.8;stroke:#cccccc;stroke-linejoin:miter;\"/>\n    </g>\n    <g id=\"line2d_15\">\n     <path d=\"M 65.50625 35.416562 \nL 85.50625 35.416562 \n\" style=\"fill:none;stroke:#1f77b4;stroke-linecap:square;stroke-width:1.5;\"/>\n    </g>\n    <g id=\"line2d_16\"/>\n    <g id=\"text_16\">\n     <!-- train -->\n     <g transform=\"translate(93.50625 38.916562)scale(0.1 -0.1)\">\n      <defs>\n       <path d=\"M 18.3125 70.21875 \nL 18.3125 54.6875 \nL 36.8125 54.6875 \nL 36.8125 47.703125 \nL 18.3125 47.703125 \nL 18.3125 18.015625 \nQ 18.3125 11.328125 20.140625 9.421875 \nQ 21.96875 7.515625 27.59375 7.515625 \nL 36.8125 7.515625 \nL 36.8125 0 \nL 27.59375 0 \nQ 17.1875 0 13.234375 3.875 \nQ 9.28125 7.765625 9.28125 18.015625 \nL 9.28125 47.703125 \nL 2.6875 47.703125 \nL 2.6875 54.6875 \nL 9.28125 54.6875 \nL 9.28125 70.21875 \nz\n\" id=\"DejaVuSans-116\"/>\n       <path d=\"M 9.421875 54.6875 \nL 18.40625 54.6875 \nL 18.40625 0 \nL 9.421875 0 \nz\nM 9.421875 75.984375 \nL 18.40625 75.984375 \nL 18.40625 64.59375 \nL 9.421875 64.59375 \nz\n\" id=\"DejaVuSans-105\"/>\n       <path d=\"M 54.890625 33.015625 \nL 54.890625 0 \nL 45.90625 0 \nL 45.90625 32.71875 \nQ 45.90625 40.484375 42.875 44.328125 \nQ 39.84375 48.1875 33.796875 48.1875 \nQ 26.515625 48.1875 22.3125 43.546875 \nQ 18.109375 38.921875 18.109375 30.90625 \nL 18.109375 0 \nL 9.078125 0 \nL 9.078125 54.6875 \nL 18.109375 54.6875 \nL 18.109375 46.1875 \nQ 21.34375 51.125 25.703125 53.5625 \nQ 30.078125 56 35.796875 56 \nQ 45.21875 56 50.046875 50.171875 \nQ 54.890625 44.34375 54.890625 33.015625 \nz\n\" id=\"DejaVuSans-110\"/>\n      </defs>\n      <use xlink:href=\"#DejaVuSans-116\"/>\n      <use x=\"39.208984\" xlink:href=\"#DejaVuSans-114\"/>\n      <use x=\"80.322266\" xlink:href=\"#DejaVuSans-97\"/>\n      <use x=\"141.601562\" xlink:href=\"#DejaVuSans-105\"/>\n      <use x=\"169.384766\" xlink:href=\"#DejaVuSans-110\"/>\n     </g>\n    </g>\n    <g id=\"line2d_17\">\n     <path d=\"M 65.50625 50.094687 \nL 85.50625 50.094687 \n\" style=\"fill:none;stroke:#ff7f0e;stroke-linecap:square;stroke-width:1.5;\"/>\n    </g>\n    <g id=\"line2d_18\"/>\n    <g id=\"text_17\">\n     <!-- val -->\n     <g transform=\"translate(93.50625 53.594687)scale(0.1 -0.1)\">\n      <defs>\n       <path d=\"M 2.984375 54.6875 \nL 12.5 54.6875 \nL 29.59375 8.796875 \nL 46.6875 54.6875 \nL 56.203125 54.6875 \nL 35.6875 0 \nL 23.484375 0 \nz\n\" id=\"DejaVuSans-118\"/>\n      </defs>\n      <use xlink:href=\"#DejaVuSans-118\"/>\n      <use x=\"59.179688\" xlink:href=\"#DejaVuSans-97\"/>\n      <use x=\"120.458984\" xlink:href=\"#DejaVuSans-108\"/>\n     </g>\n    </g>\n   </g>\n  </g>\n </g>\n <defs>\n  <clipPath id=\"p5d156dd8ae\">\n   <rect height=\"217.44\" width=\"334.8\" x=\"56.50625\" y=\"22.318125\"/>\n  </clipPath>\n </defs>\n</svg>\n",
      "image/png": "[encoded data removed]"
     },
     "metadata": {
      "needs_background": "light"
     }
    }
   ],
   "source": [
    "plt.plot(result.history['binary_crossentropy'])\n",
    "plt.plot(result.history['val_binary_crossentropy'])\n",
    "plt.title('model accuracy')\n",
    "plt.ylabel('loss')\n",
    "plt.xlabel('epoch')\n",
    "plt.legend(['train', 'val'], loc='upper left')\n",
    "plt.show()"
   ]
  },
  {
   "cell_type": "code",
   "execution_count": 46,
   "metadata": {},
   "outputs": [
    {
     "output_type": "stream",
     "name": "stdout",
     "text": [
      "12076/12076 [==============================] - 6s 513us/step - loss: 0.6311 - binary_crossentropy: 0.6311\n"
     ]
    },
    {
     "output_type": "execute_result",
     "data": {
      "text/plain": [
       "[0.6310710310935974, 0.6310710310935974]"
      ]
     },
     "metadata": {},
     "execution_count": 46
    }
   ],
   "source": [
    "model.evaluate(X_test, y_test)"
   ]
  },
  {
   "cell_type": "code",
   "execution_count": 47,
   "metadata": {},
   "outputs": [],
   "source": [
    "pred = model.predict(X_test)"
   ]
  },
  {
   "cell_type": "code",
   "execution_count": 48,
   "metadata": {},
   "outputs": [
    {
     "output_type": "stream",
     "name": "stderr",
     "text": [
      "/home/hyez/anaconda3/envs/dask-cudf/lib/python3.7/site-packages/sklearn/metrics/_classification.py:2279: RuntimeWarning: divide by zero encountered in log\n  loss = -(transformed_labels * np.log(y_pred)).sum(axis=1)\n/home/hyez/anaconda3/envs/dask-cudf/lib/python3.7/site-packages/sklearn/metrics/_classification.py:2279: RuntimeWarning: invalid value encountered in multiply\n  loss = -(transformed_labels * np.log(y_pred)).sum(axis=1)\n"
     ]
    },
    {
     "output_type": "execute_result",
     "data": {
      "text/plain": [
       "nan"
      ]
     },
     "metadata": {},
     "execution_count": 48
    }
   ],
   "source": [
    "rce = compute_rce(pred, y_test['like'])\n",
    "rce"
   ]
  },
  {
   "cell_type": "code",
   "execution_count": 49,
   "metadata": {},
   "outputs": [
    {
     "output_type": "execute_result",
     "data": {
      "text/plain": [
       "0.6745239015865386"
      ]
     },
     "metadata": {},
     "execution_count": 49
    }
   ],
   "source": [
    "average_precision_score(y_test['like'], pred)"
   ]
  },
  {
   "cell_type": "code",
   "execution_count": null,
   "metadata": {},
   "outputs": [],
   "source": []
  },
  {
   "cell_type": "code",
   "execution_count": null,
   "metadata": {},
   "outputs": [],
   "source": []
  },
  {
   "cell_type": "code",
   "execution_count": null,
   "metadata": {},
   "outputs": [],
   "source": []
  }
 ]
}