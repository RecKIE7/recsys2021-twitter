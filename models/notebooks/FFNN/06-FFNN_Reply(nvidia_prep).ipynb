{
 "cells": [
  {
   "cell_type": "code",
   "execution_count": 1,
   "id": "da4d22e6",
   "metadata": {},
   "outputs": [],
   "source": [
    "import sys\n",
    "sys.path.append('../..')\n",
    "\n",
    "import numpy as np\n",
    "import matplotlib.pyplot as plt\n",
    "import pandas as pd\n",
    "from tqdm import tqdm\n",
    "from sklearn.model_selection import train_test_split\n",
    "import tensorflow as tf\n",
    "from tensorflow import feature_column as fc\n",
    "from tensorflow.keras.models import Sequential\n",
    "from tensorflow.keras.layers import Dense\n",
    "from tensorflow.keras import optimizers\n",
    "from sklearn import preprocessing\n",
    "\n",
    "from utils.cuda_cluster import *\n",
    "from utils.preprocessing import read_data, factorize_small_cardinality_with_index, df_to_tfdataset, split_join, get_media_index\n",
    "from utils.evaluate import calculate_ctr, compute_rce, average_precision_score\n",
    "import core.config as conf"
   ]
  },
  {
   "cell_type": "code",
   "execution_count": 2,
   "id": "ac9d7d79",
   "metadata": {},
   "outputs": [
    {
     "data": {
      "text/html": [
       "<table style=\"border: 2px solid white;\">\n",
       "<tr>\n",
       "<td style=\"vertical-align: top; border: 0px solid white\">\n",
       "<h3 style=\"text-align: left;\">Client</h3>\n",
       "<ul style=\"text-align: left; list-style: none; margin: 0; padding: 0;\">\n",
       "  <li><b>Scheduler: </b>tcp://127.0.0.1:35175</li>\n",
       "  <li><b>Dashboard: </b><a href='http://127.0.0.1:8787/status' target='_blank'>http://127.0.0.1:8787/status</a></li>\n",
       "</ul>\n",
       "</td>\n",
       "<td style=\"vertical-align: top; border: 0px solid white\">\n",
       "<h3 style=\"text-align: left;\">Cluster</h3>\n",
       "<ul style=\"text-align: left; list-style:none; margin: 0; padding: 0;\">\n",
       "  <li><b>Workers: </b>1</li>\n",
       "  <li><b>Cores: </b>1</li>\n",
       "  <li><b>Memory: </b>33.47 GB</li>\n",
       "</ul>\n",
       "</td>\n",
       "</tr>\n",
       "</table>"
      ],
      "text/plain": [
       "<Client: 'tcp://127.0.0.1:35175' processes=1 threads=1, memory=33.47 GB>"
      ]
     },
     "execution_count": 2,
     "metadata": {},
     "output_type": "execute_result"
    }
   ],
   "source": [
    "client"
   ]
  },
  {
   "cell_type": "markdown",
   "id": "66d6dba4",
   "metadata": {},
   "source": [
    "## Load data"
   ]
  },
  {
   "cell_type": "code",
   "execution_count": 3,
   "id": "3396761e",
   "metadata": {},
   "outputs": [],
   "source": [
    "# data_path = conf.raw_data_path + '*' # for all dataset\n",
    "data_path = conf.data_root + 'nvidia_models'\n",
    "df = dask_cudf.read_parquet(f'{data_path}/train-final-te-reply-1.parquet', index=False)"
   ]
  },
  {
   "cell_type": "markdown",
   "id": "4636c0a7",
   "metadata": {},
   "source": [
    "## Preprocessing"
   ]
  },
  {
   "cell_type": "code",
   "execution_count": 4,
   "id": "55a4b456",
   "metadata": {},
   "outputs": [
    {
     "data": {
      "text/html": [
       "<div>\n",
       "<style scoped>\n",
       "    .dataframe tbody tr th:only-of-type {\n",
       "        vertical-align: middle;\n",
       "    }\n",
       "\n",
       "    .dataframe tbody tr th {\n",
       "        vertical-align: top;\n",
       "    }\n",
       "\n",
       "    .dataframe thead th {\n",
       "        text-align: right;\n",
       "    }\n",
       "</style>\n",
       "<table border=\"1\" class=\"dataframe\">\n",
       "  <thead>\n",
       "    <tr style=\"text-align: right;\">\n",
       "      <th></th>\n",
       "      <th>timestamp</th>\n",
       "      <th>creator_follower_count</th>\n",
       "      <th>creator_following_count</th>\n",
       "      <th>creator_is_verified</th>\n",
       "      <th>creator_account_creation</th>\n",
       "      <th>engager_follower_count</th>\n",
       "      <th>engager_following_count</th>\n",
       "      <th>engager_is_verified</th>\n",
       "      <th>engager_account_creation</th>\n",
       "      <th>engager_follows_creator</th>\n",
       "      <th>...</th>\n",
       "      <th>TE_creator_count_combined_tweet_type_language_reply</th>\n",
       "      <th>TE_creator_user_fer_count_delta_time_media_language_reply</th>\n",
       "      <th>TE_creator_user_fing_count_delta_time_media_language_reply</th>\n",
       "      <th>TE_creator_user_fering_count_delta_time_tweet_type_language_reply</th>\n",
       "      <th>TE_creator_user_fing_count_mode_media_language_reply</th>\n",
       "      <th>TE_creator_user_fer_count_mode_media_language_reply</th>\n",
       "      <th>TE_creator_user_fering_count_mode_tweet_type_language_reply</th>\n",
       "      <th>TE_domains_media_tweet_type_language_reply</th>\n",
       "      <th>TE_links_media_tweet_type_language_reply</th>\n",
       "      <th>TE_hashtags_media_tweet_type_language_reply</th>\n",
       "    </tr>\n",
       "  </thead>\n",
       "  <tbody>\n",
       "    <tr>\n",
       "      <th>0</th>\n",
       "      <td>1612587832</td>\n",
       "      <td>3885</td>\n",
       "      <td>3051</td>\n",
       "      <td>0</td>\n",
       "      <td>1568428850</td>\n",
       "      <td>634</td>\n",
       "      <td>531</td>\n",
       "      <td>0</td>\n",
       "      <td>1590421816</td>\n",
       "      <td>1</td>\n",
       "      <td>...</td>\n",
       "      <td>0.041906</td>\n",
       "      <td>0.018245</td>\n",
       "      <td>0.018245</td>\n",
       "      <td>0.041906</td>\n",
       "      <td>0.018103</td>\n",
       "      <td>0.018103</td>\n",
       "      <td>0.041833</td>\n",
       "      <td>0.027013</td>\n",
       "      <td>0.027013</td>\n",
       "      <td>0.028409</td>\n",
       "    </tr>\n",
       "    <tr>\n",
       "      <th>1</th>\n",
       "      <td>1613743226</td>\n",
       "      <td>226443</td>\n",
       "      <td>0</td>\n",
       "      <td>0</td>\n",
       "      <td>1597609757</td>\n",
       "      <td>633</td>\n",
       "      <td>151</td>\n",
       "      <td>0</td>\n",
       "      <td>1541162905</td>\n",
       "      <td>0</td>\n",
       "      <td>...</td>\n",
       "      <td>0.041548</td>\n",
       "      <td>0.017228</td>\n",
       "      <td>0.017228</td>\n",
       "      <td>0.041548</td>\n",
       "      <td>0.017068</td>\n",
       "      <td>0.017068</td>\n",
       "      <td>0.041559</td>\n",
       "      <td>0.025484</td>\n",
       "      <td>0.025484</td>\n",
       "      <td>0.027091</td>\n",
       "    </tr>\n",
       "    <tr>\n",
       "      <th>2</th>\n",
       "      <td>1613369374</td>\n",
       "      <td>1353309</td>\n",
       "      <td>537</td>\n",
       "      <td>1</td>\n",
       "      <td>1299819150</td>\n",
       "      <td>2304</td>\n",
       "      <td>844</td>\n",
       "      <td>0</td>\n",
       "      <td>1278714864</td>\n",
       "      <td>0</td>\n",
       "      <td>...</td>\n",
       "      <td>0.027891</td>\n",
       "      <td>0.012100</td>\n",
       "      <td>0.012100</td>\n",
       "      <td>0.027891</td>\n",
       "      <td>0.012476</td>\n",
       "      <td>0.012476</td>\n",
       "      <td>0.028071</td>\n",
       "      <td>0.017977</td>\n",
       "      <td>0.017977</td>\n",
       "      <td>0.019290</td>\n",
       "    </tr>\n",
       "    <tr>\n",
       "      <th>3</th>\n",
       "      <td>1614038010</td>\n",
       "      <td>226308</td>\n",
       "      <td>9</td>\n",
       "      <td>0</td>\n",
       "      <td>1468552079</td>\n",
       "      <td>85</td>\n",
       "      <td>808</td>\n",
       "      <td>0</td>\n",
       "      <td>1387326144</td>\n",
       "      <td>0</td>\n",
       "      <td>...</td>\n",
       "      <td>0.029500</td>\n",
       "      <td>0.011919</td>\n",
       "      <td>0.011919</td>\n",
       "      <td>0.029697</td>\n",
       "      <td>0.011114</td>\n",
       "      <td>0.011114</td>\n",
       "      <td>0.029500</td>\n",
       "      <td>0.017977</td>\n",
       "      <td>0.017977</td>\n",
       "      <td>0.019290</td>\n",
       "    </tr>\n",
       "    <tr>\n",
       "      <th>4</th>\n",
       "      <td>1612525320</td>\n",
       "      <td>131219</td>\n",
       "      <td>1023</td>\n",
       "      <td>0</td>\n",
       "      <td>1517575079</td>\n",
       "      <td>141</td>\n",
       "      <td>340</td>\n",
       "      <td>0</td>\n",
       "      <td>1560679572</td>\n",
       "      <td>0</td>\n",
       "      <td>...</td>\n",
       "      <td>0.000000</td>\n",
       "      <td>0.000000</td>\n",
       "      <td>0.000000</td>\n",
       "      <td>0.000000</td>\n",
       "      <td>0.000000</td>\n",
       "      <td>0.000000</td>\n",
       "      <td>0.000000</td>\n",
       "      <td>0.000000</td>\n",
       "      <td>0.000000</td>\n",
       "      <td>0.000000</td>\n",
       "    </tr>\n",
       "  </tbody>\n",
       "</table>\n",
       "<p>5 rows × 72 columns</p>\n",
       "</div>"
      ],
      "text/plain": [
       "    timestamp  creator_follower_count  creator_following_count  \\\n",
       "0  1612587832                    3885                     3051   \n",
       "1  1613743226                  226443                        0   \n",
       "2  1613369374                 1353309                      537   \n",
       "3  1614038010                  226308                        9   \n",
       "4  1612525320                  131219                     1023   \n",
       "\n",
       "   creator_is_verified  creator_account_creation  engager_follower_count  \\\n",
       "0                    0                1568428850                     634   \n",
       "1                    0                1597609757                     633   \n",
       "2                    1                1299819150                    2304   \n",
       "3                    0                1468552079                      85   \n",
       "4                    0                1517575079                     141   \n",
       "\n",
       "   engager_following_count  engager_is_verified  engager_account_creation  \\\n",
       "0                      531                    0                1590421816   \n",
       "1                      151                    0                1541162905   \n",
       "2                      844                    0                1278714864   \n",
       "3                      808                    0                1387326144   \n",
       "4                      340                    0                1560679572   \n",
       "\n",
       "   engager_follows_creator  ...  \\\n",
       "0                        1  ...   \n",
       "1                        0  ...   \n",
       "2                        0  ...   \n",
       "3                        0  ...   \n",
       "4                        0  ...   \n",
       "\n",
       "   TE_creator_count_combined_tweet_type_language_reply  \\\n",
       "0                                           0.041906     \n",
       "1                                           0.041548     \n",
       "2                                           0.027891     \n",
       "3                                           0.029500     \n",
       "4                                           0.000000     \n",
       "\n",
       "   TE_creator_user_fer_count_delta_time_media_language_reply  \\\n",
       "0                                           0.018245           \n",
       "1                                           0.017228           \n",
       "2                                           0.012100           \n",
       "3                                           0.011919           \n",
       "4                                           0.000000           \n",
       "\n",
       "   TE_creator_user_fing_count_delta_time_media_language_reply  \\\n",
       "0                                           0.018245            \n",
       "1                                           0.017228            \n",
       "2                                           0.012100            \n",
       "3                                           0.011919            \n",
       "4                                           0.000000            \n",
       "\n",
       "   TE_creator_user_fering_count_delta_time_tweet_type_language_reply  \\\n",
       "0                                           0.041906                   \n",
       "1                                           0.041548                   \n",
       "2                                           0.027891                   \n",
       "3                                           0.029697                   \n",
       "4                                           0.000000                   \n",
       "\n",
       "   TE_creator_user_fing_count_mode_media_language_reply  \\\n",
       "0                                           0.018103      \n",
       "1                                           0.017068      \n",
       "2                                           0.012476      \n",
       "3                                           0.011114      \n",
       "4                                           0.000000      \n",
       "\n",
       "   TE_creator_user_fer_count_mode_media_language_reply  \\\n",
       "0                                           0.018103     \n",
       "1                                           0.017068     \n",
       "2                                           0.012476     \n",
       "3                                           0.011114     \n",
       "4                                           0.000000     \n",
       "\n",
       "   TE_creator_user_fering_count_mode_tweet_type_language_reply  \\\n",
       "0                                           0.041833             \n",
       "1                                           0.041559             \n",
       "2                                           0.028071             \n",
       "3                                           0.029500             \n",
       "4                                           0.000000             \n",
       "\n",
       "   TE_domains_media_tweet_type_language_reply  \\\n",
       "0                                    0.027013   \n",
       "1                                    0.025484   \n",
       "2                                    0.017977   \n",
       "3                                    0.017977   \n",
       "4                                    0.000000   \n",
       "\n",
       "   TE_links_media_tweet_type_language_reply  \\\n",
       "0                                  0.027013   \n",
       "1                                  0.025484   \n",
       "2                                  0.017977   \n",
       "3                                  0.017977   \n",
       "4                                  0.000000   \n",
       "\n",
       "   TE_hashtags_media_tweet_type_language_reply  \n",
       "0                                     0.028409  \n",
       "1                                     0.027091  \n",
       "2                                     0.019290  \n",
       "3                                     0.019290  \n",
       "4                                     0.000000  \n",
       "\n",
       "[5 rows x 72 columns]"
      ]
     },
     "execution_count": 4,
     "metadata": {},
     "output_type": "execute_result"
    }
   ],
   "source": [
    "df.head()"
   ]
  },
  {
   "cell_type": "code",
   "execution_count": 5,
   "id": "d3e7e769",
   "metadata": {},
   "outputs": [
    {
     "data": {
      "text/plain": [
       "timestamp                                                           0\n",
       "creator_follower_count                                              0\n",
       "creator_following_count                                             0\n",
       "creator_is_verified                                                 0\n",
       "creator_account_creation                                            0\n",
       "                                                                ...  \n",
       "TE_creator_user_fer_count_mode_media_language_reply            146676\n",
       "TE_creator_user_fering_count_mode_tweet_type_language_reply    146222\n",
       "TE_domains_media_tweet_type_language_reply                      79182\n",
       "TE_links_media_tweet_type_language_reply                       308353\n",
       "TE_hashtags_media_tweet_type_language_reply                    340310\n",
       "Length: 72, dtype: uint64"
      ]
     },
     "execution_count": 5,
     "metadata": {},
     "output_type": "execute_result"
    }
   ],
   "source": [
    "df.isnull().sum().compute()"
   ]
  },
  {
   "cell_type": "code",
   "execution_count": 6,
   "id": "b38229a5",
   "metadata": {},
   "outputs": [],
   "source": [
    "df = df.fillna(0)"
   ]
  },
  {
   "cell_type": "code",
   "execution_count": 7,
   "id": "af99c1eb",
   "metadata": {},
   "outputs": [],
   "source": [
    "df = df.astype(np.int64)"
   ]
  },
  {
   "cell_type": "markdown",
   "id": "d75858e1",
   "metadata": {},
   "source": [
    "## Sampling"
   ]
  },
  {
   "cell_type": "code",
   "execution_count": 14,
   "id": "0b149f6c",
   "metadata": {},
   "outputs": [],
   "source": [
    "df_positive = df[df['reply']==1]"
   ]
  },
  {
   "cell_type": "code",
   "execution_count": 15,
   "id": "cd278884",
   "metadata": {},
   "outputs": [],
   "source": [
    "df_negative = df[df['reply']==0]"
   ]
  },
  {
   "cell_type": "code",
   "execution_count": 16,
   "id": "dea3411c",
   "metadata": {},
   "outputs": [
    {
     "name": "stdout",
     "output_type": "stream",
     "text": [
      "90546\n",
      "2989617\n"
     ]
    }
   ],
   "source": [
    "print(len(df_positive))\n",
    "print(len(df_negative))"
   ]
  },
  {
   "cell_type": "code",
   "execution_count": 17,
   "id": "81c27b9b",
   "metadata": {},
   "outputs": [],
   "source": [
    "df_negative = df_negative.compute().sample(n = len(df_positive))"
   ]
  },
  {
   "cell_type": "code",
   "execution_count": 18,
   "id": "f07a1461",
   "metadata": {},
   "outputs": [],
   "source": [
    "df = dask.dataframe.concat([df_positive, df_negative])"
   ]
  },
  {
   "cell_type": "code",
   "execution_count": 19,
   "id": "eb51c11e",
   "metadata": {},
   "outputs": [],
   "source": [
    "df = df.sample(frac=1)"
   ]
  },
  {
   "cell_type": "code",
   "execution_count": 20,
   "id": "911d1e1c",
   "metadata": {},
   "outputs": [],
   "source": [
    "df = df.compute().reset_index(drop=True)"
   ]
  },
  {
   "cell_type": "markdown",
   "id": "3c35dcde",
   "metadata": {},
   "source": [
    "## Scaling"
   ]
  },
  {
   "cell_type": "code",
   "execution_count": 21,
   "id": "576f52eb",
   "metadata": {},
   "outputs": [],
   "source": [
    "df_y = df[['reply']]\n",
    "df_x = df.drop(['reply'], axis = 1)"
   ]
  },
  {
   "cell_type": "code",
   "execution_count": 22,
   "id": "355ac793",
   "metadata": {},
   "outputs": [],
   "source": [
    "X_train = df_x\n",
    "y_train = df_y['reply'].to_frame()"
   ]
  },
  {
   "cell_type": "code",
   "execution_count": 25,
   "id": "db9fd90a",
   "metadata": {},
   "outputs": [
    {
     "data": {
      "text/plain": [
       "StandardScaler()"
      ]
     },
     "execution_count": 25,
     "metadata": {},
     "output_type": "execute_result"
    }
   ],
   "source": [
    "standard_scaler = preprocessing.StandardScaler()\n",
    "standard_scaler.fit(X_train.as_matrix())"
   ]
  },
  {
   "cell_type": "code",
   "execution_count": 26,
   "id": "3deb2865",
   "metadata": {},
   "outputs": [],
   "source": [
    "ss = standard_scaler.transform(X_train.as_matrix())"
   ]
  },
  {
   "cell_type": "code",
   "execution_count": 27,
   "id": "ecc50afb",
   "metadata": {},
   "outputs": [],
   "source": [
    "X_train = pd.DataFrame(ss, columns = df_x.columns)"
   ]
  },
  {
   "cell_type": "markdown",
   "id": "fb20f4ce",
   "metadata": {},
   "source": [
    "## Split data"
   ]
  },
  {
   "cell_type": "code",
   "execution_count": 29,
   "id": "89032f07",
   "metadata": {},
   "outputs": [],
   "source": [
    "X_train, X_test, y_train, y_test = train_test_split(X_train, y_train, test_size=0.2)"
   ]
  },
  {
   "cell_type": "code",
   "execution_count": 30,
   "id": "c6d5b73b",
   "metadata": {},
   "outputs": [],
   "source": [
    "X_test, X_val, y_test, y_val = train_test_split(X_test, y_test, test_size=0.2)"
   ]
  },
  {
   "cell_type": "markdown",
   "id": "72b5bc29",
   "metadata": {},
   "source": [
    "## Modeling"
   ]
  },
  {
   "cell_type": "code",
   "execution_count": 40,
   "id": "e6c97906",
   "metadata": {},
   "outputs": [],
   "source": [
    "model = Sequential([\n",
    "    Dense(64, activation = 'relu', input_dim = X_test.shape[1]),\n",
    "    Dense(32, activation = 'relu'),\n",
    "    Dense(16, activation = 'relu'),\n",
    "    Dense(2, activation = 'softmax')\n",
    "])"
   ]
  },
  {
   "cell_type": "code",
   "execution_count": 41,
   "id": "8684147a",
   "metadata": {},
   "outputs": [],
   "source": [
    "model.compile(\n",
    "    optimizer = optimizers.Adam(learning_rate = 0.05),\n",
    "    loss = 'sparse_categorical_crossentropy', # softmax : sparse_categorical_crossentropy, sigmoid : binary_crossentropy\n",
    "    metrics=['accuracy']\n",
    ")"
   ]
  },
  {
   "cell_type": "code",
   "execution_count": 42,
   "id": "f0e32715",
   "metadata": {},
   "outputs": [
    {
     "name": "stdout",
     "output_type": "stream",
     "text": [
      "Model: \"sequential_1\"\n",
      "_________________________________________________________________\n",
      "Layer (type)                 Output Shape              Param #   \n",
      "=================================================================\n",
      "dense_4 (Dense)              (None, 64)                4608      \n",
      "_________________________________________________________________\n",
      "dense_5 (Dense)              (None, 32)                2080      \n",
      "_________________________________________________________________\n",
      "dense_6 (Dense)              (None, 16)                528       \n",
      "_________________________________________________________________\n",
      "dense_7 (Dense)              (None, 2)                 34        \n",
      "=================================================================\n",
      "Total params: 7,250\n",
      "Trainable params: 7,250\n",
      "Non-trainable params: 0\n",
      "_________________________________________________________________\n"
     ]
    }
   ],
   "source": [
    "model.summary()"
   ]
  },
  {
   "cell_type": "code",
   "execution_count": 43,
   "id": "cdc3d7aa",
   "metadata": {},
   "outputs": [
    {
     "name": "stdout",
     "output_type": "stream",
     "text": [
      "Epoch 1/5\n",
      "2264/2264 [==============================] - 1s 446us/step - loss: 0.3404 - accuracy: 0.8746 - val_loss: 0.4915 - val_accuracy: 0.7626\n",
      "Epoch 2/5\n",
      "2264/2264 [==============================] - 1s 406us/step - loss: 0.4551 - accuracy: 0.7706 - val_loss: 0.3905 - val_accuracy: 0.8229\n",
      "Epoch 3/5\n",
      "2264/2264 [==============================] - 1s 408us/step - loss: 0.3833 - accuracy: 0.8464 - val_loss: 0.4252 - val_accuracy: 0.9118\n",
      "Epoch 4/5\n",
      "2264/2264 [==============================] - 1s 408us/step - loss: 0.3300 - accuracy: 0.8973 - val_loss: 0.3057 - val_accuracy: 0.8817\n",
      "Epoch 5/5\n",
      "2264/2264 [==============================] - 1s 408us/step - loss: 0.4683 - accuracy: 0.7786 - val_loss: 0.3181 - val_accuracy: 0.8791\n"
     ]
    },
    {
     "data": {
      "text/plain": [
       "<tensorflow.python.keras.callbacks.History at 0x7efec85578d0>"
      ]
     },
     "execution_count": 43,
     "metadata": {},
     "output_type": "execute_result"
    }
   ],
   "source": [
    "model.fit(\n",
    "    x = X_train,\n",
    "    y = y_train.to_pandas(),\n",
    "    validation_data=(X_val, y_val.to_pandas()),\n",
    "    epochs=5,\n",
    "    batch_size=64\n",
    ")"
   ]
  },
  {
   "cell_type": "code",
   "execution_count": 44,
   "id": "56375872",
   "metadata": {},
   "outputs": [
    {
     "name": "stdout",
     "output_type": "stream",
     "text": [
      "906/906 [==============================] - 0s 264us/step - loss: 0.3145 - accuracy: 0.8812\n"
     ]
    },
    {
     "data": {
      "text/plain": [
       "[0.31451284885406494, 0.8812424540519714]"
      ]
     },
     "execution_count": 44,
     "metadata": {},
     "output_type": "execute_result"
    }
   ],
   "source": [
    "model.evaluate(X_test, y_test.to_pandas())"
   ]
  },
  {
   "cell_type": "markdown",
   "id": "f1b9e6df",
   "metadata": {},
   "source": [
    "## Predict"
   ]
  },
  {
   "cell_type": "code",
   "execution_count": 45,
   "id": "8d34183e",
   "metadata": {},
   "outputs": [],
   "source": [
    "predict_reply = model.predict(X_test)"
   ]
  },
  {
   "cell_type": "code",
   "execution_count": 46,
   "id": "ba047b37",
   "metadata": {},
   "outputs": [
    {
     "data": {
      "text/plain": [
       "array([[0.00425739, 0.9957426 ],\n",
       "       [0.801867  , 0.19813304],\n",
       "       [0.00425739, 0.9957426 ],\n",
       "       ...,\n",
       "       [0.801867  , 0.19813304],\n",
       "       [0.801867  , 0.19813304],\n",
       "       [0.801867  , 0.19813304]], dtype=float32)"
      ]
     },
     "execution_count": 46,
     "metadata": {},
     "output_type": "execute_result"
    }
   ],
   "source": [
    "predict_reply"
   ]
  },
  {
   "cell_type": "code",
   "execution_count": 47,
   "id": "e8ac014a",
   "metadata": {},
   "outputs": [],
   "source": [
    "predict_reply = list(map(lambda x: 0 if x[0] > x[1] else 1,  predict_reply))"
   ]
  },
  {
   "cell_type": "code",
   "execution_count": 48,
   "id": "4d18b3ed",
   "metadata": {},
   "outputs": [],
   "source": [
    "y_test['predict_reply'] = predict_reply"
   ]
  },
  {
   "cell_type": "code",
   "execution_count": 49,
   "id": "673a19ce",
   "metadata": {},
   "outputs": [
    {
     "data": {
      "text/html": [
       "<div>\n",
       "<style scoped>\n",
       "    .dataframe tbody tr th:only-of-type {\n",
       "        vertical-align: middle;\n",
       "    }\n",
       "\n",
       "    .dataframe tbody tr th {\n",
       "        vertical-align: top;\n",
       "    }\n",
       "\n",
       "    .dataframe thead th {\n",
       "        text-align: right;\n",
       "    }\n",
       "</style>\n",
       "<table border=\"1\" class=\"dataframe\">\n",
       "  <thead>\n",
       "    <tr style=\"text-align: right;\">\n",
       "      <th></th>\n",
       "      <th>reply</th>\n",
       "      <th>predict_reply</th>\n",
       "    </tr>\n",
       "  </thead>\n",
       "  <tbody>\n",
       "    <tr>\n",
       "      <th>61786</th>\n",
       "      <td>1</td>\n",
       "      <td>1</td>\n",
       "    </tr>\n",
       "    <tr>\n",
       "      <th>139629</th>\n",
       "      <td>0</td>\n",
       "      <td>0</td>\n",
       "    </tr>\n",
       "    <tr>\n",
       "      <th>37855</th>\n",
       "      <td>1</td>\n",
       "      <td>1</td>\n",
       "    </tr>\n",
       "    <tr>\n",
       "      <th>180446</th>\n",
       "      <td>0</td>\n",
       "      <td>0</td>\n",
       "    </tr>\n",
       "    <tr>\n",
       "      <th>60146</th>\n",
       "      <td>1</td>\n",
       "      <td>1</td>\n",
       "    </tr>\n",
       "    <tr>\n",
       "      <th>...</th>\n",
       "      <td>...</td>\n",
       "      <td>...</td>\n",
       "    </tr>\n",
       "    <tr>\n",
       "      <th>7494</th>\n",
       "      <td>1</td>\n",
       "      <td>1</td>\n",
       "    </tr>\n",
       "    <tr>\n",
       "      <th>6213</th>\n",
       "      <td>1</td>\n",
       "      <td>0</td>\n",
       "    </tr>\n",
       "    <tr>\n",
       "      <th>162286</th>\n",
       "      <td>0</td>\n",
       "      <td>0</td>\n",
       "    </tr>\n",
       "    <tr>\n",
       "      <th>128896</th>\n",
       "      <td>0</td>\n",
       "      <td>0</td>\n",
       "    </tr>\n",
       "    <tr>\n",
       "      <th>169861</th>\n",
       "      <td>0</td>\n",
       "      <td>0</td>\n",
       "    </tr>\n",
       "  </tbody>\n",
       "</table>\n",
       "<p>28975 rows × 2 columns</p>\n",
       "</div>"
      ],
      "text/plain": [
       "        reply  predict_reply\n",
       "61786       1              1\n",
       "139629      0              0\n",
       "37855       1              1\n",
       "180446      0              0\n",
       "60146       1              1\n",
       "...       ...            ...\n",
       "7494        1              1\n",
       "6213        1              0\n",
       "162286      0              0\n",
       "128896      0              0\n",
       "169861      0              0\n",
       "\n",
       "[28975 rows x 2 columns]"
      ]
     },
     "execution_count": 49,
     "metadata": {},
     "output_type": "execute_result"
    }
   ],
   "source": [
    "y_test"
   ]
  },
  {
   "cell_type": "code",
   "execution_count": 51,
   "id": "8df2a605",
   "metadata": {},
   "outputs": [
    {
     "data": {
      "text/plain": [
       "-491.7640636700276"
      ]
     },
     "execution_count": 51,
     "metadata": {},
     "output_type": "execute_result"
    }
   ],
   "source": [
    "rce_like = compute_rce(y_test['predict_reply'].to_array(), y_test['reply'].to_array())\n",
    "rce_like"
   ]
  },
  {
   "cell_type": "code",
   "execution_count": 52,
   "id": "9621c87d",
   "metadata": {},
   "outputs": [
    {
     "data": {
      "text/plain": [
       "0.7642021720851888"
      ]
     },
     "execution_count": 52,
     "metadata": {},
     "output_type": "execute_result"
    }
   ],
   "source": [
    "average_precision_score(y_test['predict_reply'].to_array(), y_test['reply'].to_array())"
   ]
  }
 ],
 "metadata": {
  "kernelspec": {
   "display_name": "Python 3",
   "language": "python",
   "name": "python3"
  },
  "language_info": {
   "codemirror_mode": {
    "name": "ipython",
    "version": 3
   },
   "file_extension": ".py",
   "mimetype": "text/x-python",
   "name": "python",
   "nbconvert_exporter": "python",
   "pygments_lexer": "ipython3",
   "version": "3.7.10"
  }
 },
 "nbformat": 4,
 "nbformat_minor": 5
}
