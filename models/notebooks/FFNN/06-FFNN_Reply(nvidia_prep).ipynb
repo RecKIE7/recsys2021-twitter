{
 "cells": [
  {
   "cell_type": "code",
   "execution_count": 25,
   "id": "da4d22e6",
   "metadata": {},
   "outputs": [],
   "source": [
    "import sys\n",
    "sys.path.append('../..')\n",
    "\n",
    "import numpy as np\n",
    "import matplotlib.pyplot as plt\n",
    "import pandas as pd\n",
    "from tqdm import tqdm\n",
    "from sklearn.model_selection import train_test_split\n",
    "import tensorflow as tf\n",
    "from tensorflow import feature_column as fc\n",
    "from tensorflow.keras.models import Sequential\n",
    "from tensorflow.keras.layers import Dense\n",
    "from tensorflow.keras import optimizers\n",
    "from sklearn import preprocessing\n",
    "from sklearn.utils import shuffle\n",
    "from utils.gpu.cuda_cluster import *\n",
    "from utils.gpu.preprocessing import read_data, factorize_small_cardinality_with_index, df_to_tfdataset, split_join, get_media_index\n",
    "from utils.evaluate import calculate_ctr, compute_rce, average_precision_score\n",
    "import core.config as conf"
   ]
  },
  {
   "cell_type": "code",
   "execution_count": 2,
   "id": "ac9d7d79",
   "metadata": {},
   "outputs": [
    {
     "data": {
      "text/html": [
       "<table style=\"border: 2px solid white;\">\n",
       "<tr>\n",
       "<td style=\"vertical-align: top; border: 0px solid white\">\n",
       "<h3 style=\"text-align: left;\">Client</h3>\n",
       "<ul style=\"text-align: left; list-style: none; margin: 0; padding: 0;\">\n",
       "  <li><b>Scheduler: </b>tcp://127.0.0.1:40897</li>\n",
       "  <li><b>Dashboard: </b><a href='http://127.0.0.1:8787/status' target='_blank'>http://127.0.0.1:8787/status</a></li>\n",
       "</ul>\n",
       "</td>\n",
       "<td style=\"vertical-align: top; border: 0px solid white\">\n",
       "<h3 style=\"text-align: left;\">Cluster</h3>\n",
       "<ul style=\"text-align: left; list-style:none; margin: 0; padding: 0;\">\n",
       "  <li><b>Workers: </b>1</li>\n",
       "  <li><b>Cores: </b>1</li>\n",
       "  <li><b>Memory: </b>33.47 GB</li>\n",
       "</ul>\n",
       "</td>\n",
       "</tr>\n",
       "</table>"
      ],
      "text/plain": [
       "<Client: 'tcp://127.0.0.1:40897' processes=1 threads=1, memory=33.47 GB>"
      ]
     },
     "execution_count": 2,
     "metadata": {},
     "output_type": "execute_result"
    }
   ],
   "source": [
    "client"
   ]
  },
  {
   "cell_type": "markdown",
   "id": "66d6dba4",
   "metadata": {},
   "source": [
    "## Load data"
   ]
  },
  {
   "cell_type": "code",
   "execution_count": 3,
   "id": "3396761e",
   "metadata": {},
   "outputs": [],
   "source": [
    "# data_path = conf.raw_data_path + '*' # for all dataset\n",
    "data_path = conf.data_root + 'nvidia_models'\n",
    "df = dask_cudf.read_parquet(f'{data_path}/train-final-te-reply-1.parquet', index=False)"
   ]
  },
  {
   "cell_type": "markdown",
   "id": "4636c0a7",
   "metadata": {},
   "source": [
    "## Preprocessing"
   ]
  },
  {
   "cell_type": "code",
   "execution_count": 4,
   "id": "55a4b456",
   "metadata": {},
   "outputs": [
    {
     "data": {
      "text/html": [
       "<div>\n",
       "<style scoped>\n",
       "    .dataframe tbody tr th:only-of-type {\n",
       "        vertical-align: middle;\n",
       "    }\n",
       "\n",
       "    .dataframe tbody tr th {\n",
       "        vertical-align: top;\n",
       "    }\n",
       "\n",
       "    .dataframe thead th {\n",
       "        text-align: right;\n",
       "    }\n",
       "</style>\n",
       "<table border=\"1\" class=\"dataframe\">\n",
       "  <thead>\n",
       "    <tr style=\"text-align: right;\">\n",
       "      <th></th>\n",
       "      <th>timestamp</th>\n",
       "      <th>creator_follower_count</th>\n",
       "      <th>creator_following_count</th>\n",
       "      <th>creator_is_verified</th>\n",
       "      <th>creator_account_creation</th>\n",
       "      <th>engager_follower_count</th>\n",
       "      <th>engager_following_count</th>\n",
       "      <th>engager_is_verified</th>\n",
       "      <th>engager_account_creation</th>\n",
       "      <th>engager_follows_creator</th>\n",
       "      <th>...</th>\n",
       "      <th>TE_creator_count_combined_tweet_type_language_reply</th>\n",
       "      <th>TE_creator_user_fer_count_delta_time_media_language_reply</th>\n",
       "      <th>TE_creator_user_fing_count_delta_time_media_language_reply</th>\n",
       "      <th>TE_creator_user_fering_count_delta_time_tweet_type_language_reply</th>\n",
       "      <th>TE_creator_user_fing_count_mode_media_language_reply</th>\n",
       "      <th>TE_creator_user_fer_count_mode_media_language_reply</th>\n",
       "      <th>TE_creator_user_fering_count_mode_tweet_type_language_reply</th>\n",
       "      <th>TE_domains_media_tweet_type_language_reply</th>\n",
       "      <th>TE_links_media_tweet_type_language_reply</th>\n",
       "      <th>TE_hashtags_media_tweet_type_language_reply</th>\n",
       "    </tr>\n",
       "  </thead>\n",
       "  <tbody>\n",
       "    <tr>\n",
       "      <th>0</th>\n",
       "      <td>1612587832</td>\n",
       "      <td>3885</td>\n",
       "      <td>3051</td>\n",
       "      <td>0</td>\n",
       "      <td>1568428850</td>\n",
       "      <td>634</td>\n",
       "      <td>531</td>\n",
       "      <td>0</td>\n",
       "      <td>1590421816</td>\n",
       "      <td>1</td>\n",
       "      <td>...</td>\n",
       "      <td>0.041906</td>\n",
       "      <td>0.018245</td>\n",
       "      <td>0.018245</td>\n",
       "      <td>0.041906</td>\n",
       "      <td>0.018103</td>\n",
       "      <td>0.018103</td>\n",
       "      <td>0.041833</td>\n",
       "      <td>0.027013</td>\n",
       "      <td>0.027013</td>\n",
       "      <td>0.028409</td>\n",
       "    </tr>\n",
       "    <tr>\n",
       "      <th>1</th>\n",
       "      <td>1613743226</td>\n",
       "      <td>226443</td>\n",
       "      <td>0</td>\n",
       "      <td>0</td>\n",
       "      <td>1597609757</td>\n",
       "      <td>633</td>\n",
       "      <td>151</td>\n",
       "      <td>0</td>\n",
       "      <td>1541162905</td>\n",
       "      <td>0</td>\n",
       "      <td>...</td>\n",
       "      <td>0.041548</td>\n",
       "      <td>0.017228</td>\n",
       "      <td>0.017228</td>\n",
       "      <td>0.041548</td>\n",
       "      <td>0.017068</td>\n",
       "      <td>0.017068</td>\n",
       "      <td>0.041559</td>\n",
       "      <td>0.025484</td>\n",
       "      <td>0.025484</td>\n",
       "      <td>0.027091</td>\n",
       "    </tr>\n",
       "    <tr>\n",
       "      <th>2</th>\n",
       "      <td>1613369374</td>\n",
       "      <td>1353309</td>\n",
       "      <td>537</td>\n",
       "      <td>1</td>\n",
       "      <td>1299819150</td>\n",
       "      <td>2304</td>\n",
       "      <td>844</td>\n",
       "      <td>0</td>\n",
       "      <td>1278714864</td>\n",
       "      <td>0</td>\n",
       "      <td>...</td>\n",
       "      <td>0.027891</td>\n",
       "      <td>0.012100</td>\n",
       "      <td>0.012100</td>\n",
       "      <td>0.027891</td>\n",
       "      <td>0.012476</td>\n",
       "      <td>0.012476</td>\n",
       "      <td>0.028071</td>\n",
       "      <td>0.017977</td>\n",
       "      <td>0.017977</td>\n",
       "      <td>0.019290</td>\n",
       "    </tr>\n",
       "    <tr>\n",
       "      <th>3</th>\n",
       "      <td>1614038010</td>\n",
       "      <td>226308</td>\n",
       "      <td>9</td>\n",
       "      <td>0</td>\n",
       "      <td>1468552079</td>\n",
       "      <td>85</td>\n",
       "      <td>808</td>\n",
       "      <td>0</td>\n",
       "      <td>1387326144</td>\n",
       "      <td>0</td>\n",
       "      <td>...</td>\n",
       "      <td>0.029500</td>\n",
       "      <td>0.011919</td>\n",
       "      <td>0.011919</td>\n",
       "      <td>0.029697</td>\n",
       "      <td>0.011114</td>\n",
       "      <td>0.011114</td>\n",
       "      <td>0.029500</td>\n",
       "      <td>0.017977</td>\n",
       "      <td>0.017977</td>\n",
       "      <td>0.019290</td>\n",
       "    </tr>\n",
       "    <tr>\n",
       "      <th>4</th>\n",
       "      <td>1612525320</td>\n",
       "      <td>131219</td>\n",
       "      <td>1023</td>\n",
       "      <td>0</td>\n",
       "      <td>1517575079</td>\n",
       "      <td>141</td>\n",
       "      <td>340</td>\n",
       "      <td>0</td>\n",
       "      <td>1560679572</td>\n",
       "      <td>0</td>\n",
       "      <td>...</td>\n",
       "      <td>0.000000</td>\n",
       "      <td>0.000000</td>\n",
       "      <td>0.000000</td>\n",
       "      <td>0.000000</td>\n",
       "      <td>0.000000</td>\n",
       "      <td>0.000000</td>\n",
       "      <td>0.000000</td>\n",
       "      <td>0.000000</td>\n",
       "      <td>0.000000</td>\n",
       "      <td>0.000000</td>\n",
       "    </tr>\n",
       "  </tbody>\n",
       "</table>\n",
       "<p>5 rows × 72 columns</p>\n",
       "</div>"
      ],
      "text/plain": [
       "    timestamp  creator_follower_count  creator_following_count  \\\n",
       "0  1612587832                    3885                     3051   \n",
       "1  1613743226                  226443                        0   \n",
       "2  1613369374                 1353309                      537   \n",
       "3  1614038010                  226308                        9   \n",
       "4  1612525320                  131219                     1023   \n",
       "\n",
       "   creator_is_verified  creator_account_creation  engager_follower_count  \\\n",
       "0                    0                1568428850                     634   \n",
       "1                    0                1597609757                     633   \n",
       "2                    1                1299819150                    2304   \n",
       "3                    0                1468552079                      85   \n",
       "4                    0                1517575079                     141   \n",
       "\n",
       "   engager_following_count  engager_is_verified  engager_account_creation  \\\n",
       "0                      531                    0                1590421816   \n",
       "1                      151                    0                1541162905   \n",
       "2                      844                    0                1278714864   \n",
       "3                      808                    0                1387326144   \n",
       "4                      340                    0                1560679572   \n",
       "\n",
       "   engager_follows_creator  ...  \\\n",
       "0                        1  ...   \n",
       "1                        0  ...   \n",
       "2                        0  ...   \n",
       "3                        0  ...   \n",
       "4                        0  ...   \n",
       "\n",
       "   TE_creator_count_combined_tweet_type_language_reply  \\\n",
       "0                                           0.041906     \n",
       "1                                           0.041548     \n",
       "2                                           0.027891     \n",
       "3                                           0.029500     \n",
       "4                                           0.000000     \n",
       "\n",
       "   TE_creator_user_fer_count_delta_time_media_language_reply  \\\n",
       "0                                           0.018245           \n",
       "1                                           0.017228           \n",
       "2                                           0.012100           \n",
       "3                                           0.011919           \n",
       "4                                           0.000000           \n",
       "\n",
       "   TE_creator_user_fing_count_delta_time_media_language_reply  \\\n",
       "0                                           0.018245            \n",
       "1                                           0.017228            \n",
       "2                                           0.012100            \n",
       "3                                           0.011919            \n",
       "4                                           0.000000            \n",
       "\n",
       "   TE_creator_user_fering_count_delta_time_tweet_type_language_reply  \\\n",
       "0                                           0.041906                   \n",
       "1                                           0.041548                   \n",
       "2                                           0.027891                   \n",
       "3                                           0.029697                   \n",
       "4                                           0.000000                   \n",
       "\n",
       "   TE_creator_user_fing_count_mode_media_language_reply  \\\n",
       "0                                           0.018103      \n",
       "1                                           0.017068      \n",
       "2                                           0.012476      \n",
       "3                                           0.011114      \n",
       "4                                           0.000000      \n",
       "\n",
       "   TE_creator_user_fer_count_mode_media_language_reply  \\\n",
       "0                                           0.018103     \n",
       "1                                           0.017068     \n",
       "2                                           0.012476     \n",
       "3                                           0.011114     \n",
       "4                                           0.000000     \n",
       "\n",
       "   TE_creator_user_fering_count_mode_tweet_type_language_reply  \\\n",
       "0                                           0.041833             \n",
       "1                                           0.041559             \n",
       "2                                           0.028071             \n",
       "3                                           0.029500             \n",
       "4                                           0.000000             \n",
       "\n",
       "   TE_domains_media_tweet_type_language_reply  \\\n",
       "0                                    0.027013   \n",
       "1                                    0.025484   \n",
       "2                                    0.017977   \n",
       "3                                    0.017977   \n",
       "4                                    0.000000   \n",
       "\n",
       "   TE_links_media_tweet_type_language_reply  \\\n",
       "0                                  0.027013   \n",
       "1                                  0.025484   \n",
       "2                                  0.017977   \n",
       "3                                  0.017977   \n",
       "4                                  0.000000   \n",
       "\n",
       "   TE_hashtags_media_tweet_type_language_reply  \n",
       "0                                     0.028409  \n",
       "1                                     0.027091  \n",
       "2                                     0.019290  \n",
       "3                                     0.019290  \n",
       "4                                     0.000000  \n",
       "\n",
       "[5 rows x 72 columns]"
      ]
     },
     "execution_count": 4,
     "metadata": {},
     "output_type": "execute_result"
    }
   ],
   "source": [
    "df.head()"
   ]
  },
  {
   "cell_type": "code",
   "execution_count": 5,
   "id": "d3e7e769",
   "metadata": {
    "scrolled": true
   },
   "outputs": [
    {
     "data": {
      "text/plain": [
       "timestamp                                                           0\n",
       "creator_follower_count                                              0\n",
       "creator_following_count                                             0\n",
       "creator_is_verified                                                 0\n",
       "creator_account_creation                                            0\n",
       "                                                                ...  \n",
       "TE_creator_user_fer_count_mode_media_language_reply            146676\n",
       "TE_creator_user_fering_count_mode_tweet_type_language_reply    146222\n",
       "TE_domains_media_tweet_type_language_reply                      79182\n",
       "TE_links_media_tweet_type_language_reply                       308353\n",
       "TE_hashtags_media_tweet_type_language_reply                    340310\n",
       "Length: 72, dtype: uint64"
      ]
     },
     "execution_count": 5,
     "metadata": {},
     "output_type": "execute_result"
    }
   ],
   "source": [
    "df.isnull().sum().compute()"
   ]
  },
  {
   "cell_type": "code",
   "execution_count": 6,
   "id": "b38229a5",
   "metadata": {},
   "outputs": [],
   "source": [
    "df = df.fillna(0)"
   ]
  },
  {
   "cell_type": "code",
   "execution_count": 7,
   "id": "af99c1eb",
   "metadata": {},
   "outputs": [],
   "source": [
    "df = df.astype(np.int64)"
   ]
  },
  {
   "cell_type": "markdown",
   "id": "d75858e1",
   "metadata": {},
   "source": [
    "## Sampling"
   ]
  },
  {
   "cell_type": "code",
   "execution_count": 8,
   "id": "0b149f6c",
   "metadata": {},
   "outputs": [],
   "source": [
    "df_positive = df[df['reply']==1]"
   ]
  },
  {
   "cell_type": "code",
   "execution_count": 9,
   "id": "cd278884",
   "metadata": {},
   "outputs": [],
   "source": [
    "df_negative = df[df['reply']==0]"
   ]
  },
  {
   "cell_type": "code",
   "execution_count": 10,
   "id": "dea3411c",
   "metadata": {},
   "outputs": [
    {
     "name": "stdout",
     "output_type": "stream",
     "text": [
      "90546\n",
      "2989617\n"
     ]
    }
   ],
   "source": [
    "print(len(df_positive))\n",
    "print(len(df_negative))"
   ]
  },
  {
   "cell_type": "code",
   "execution_count": 11,
   "id": "81c27b9b",
   "metadata": {},
   "outputs": [],
   "source": [
    "df_negative = df_negative.compute().sample(n = len(df_positive))"
   ]
  },
  {
   "cell_type": "code",
   "execution_count": 12,
   "id": "f07a1461",
   "metadata": {},
   "outputs": [],
   "source": [
    "df = dask.dataframe.concat([df_positive, df_negative])"
   ]
  },
  {
   "cell_type": "code",
   "execution_count": 27,
   "id": "8de99225",
   "metadata": {},
   "outputs": [],
   "source": [
    "df = shuffle(df)"
   ]
  },
  {
   "cell_type": "code",
   "execution_count": 30,
   "id": "911d1e1c",
   "metadata": {},
   "outputs": [],
   "source": [
    "df = df.reset_index(drop=True)"
   ]
  },
  {
   "cell_type": "markdown",
   "id": "3c35dcde",
   "metadata": {},
   "source": [
    "## Scaling"
   ]
  },
  {
   "cell_type": "code",
   "execution_count": 31,
   "id": "576f52eb",
   "metadata": {},
   "outputs": [],
   "source": [
    "df_y = df[['reply']]\n",
    "df_x = df.drop(['reply'], axis = 1)"
   ]
  },
  {
   "cell_type": "code",
   "execution_count": 32,
   "id": "355ac793",
   "metadata": {},
   "outputs": [],
   "source": [
    "X_train = df_x\n",
    "y_train = df_y['reply'].to_frame()"
   ]
  },
  {
   "cell_type": "code",
   "execution_count": 33,
   "id": "db9fd90a",
   "metadata": {},
   "outputs": [
    {
     "data": {
      "text/plain": [
       "StandardScaler()"
      ]
     },
     "execution_count": 33,
     "metadata": {},
     "output_type": "execute_result"
    }
   ],
   "source": [
    "standard_scaler = preprocessing.StandardScaler()\n",
    "standard_scaler.fit(X_train.as_matrix())"
   ]
  },
  {
   "cell_type": "code",
   "execution_count": 34,
   "id": "3deb2865",
   "metadata": {},
   "outputs": [],
   "source": [
    "ss = standard_scaler.transform(X_train.as_matrix())"
   ]
  },
  {
   "cell_type": "code",
   "execution_count": 35,
   "id": "ecc50afb",
   "metadata": {},
   "outputs": [],
   "source": [
    "X_train = pd.DataFrame(ss, columns = df_x.columns)"
   ]
  },
  {
   "cell_type": "markdown",
   "id": "fb20f4ce",
   "metadata": {},
   "source": [
    "## Split data"
   ]
  },
  {
   "cell_type": "code",
   "execution_count": 36,
   "id": "89032f07",
   "metadata": {},
   "outputs": [],
   "source": [
    "X_train, X_test, y_train, y_test = train_test_split(X_train, y_train, test_size=0.2)"
   ]
  },
  {
   "cell_type": "code",
   "execution_count": 37,
   "id": "c6d5b73b",
   "metadata": {},
   "outputs": [],
   "source": [
    "X_test, X_val, y_test, y_val = train_test_split(X_test, y_test, test_size=0.2)"
   ]
  },
  {
   "cell_type": "markdown",
   "id": "72b5bc29",
   "metadata": {},
   "source": [
    "## Modeling"
   ]
  },
  {
   "cell_type": "code",
   "execution_count": 38,
   "id": "e6c97906",
   "metadata": {},
   "outputs": [],
   "source": [
    "model = Sequential([\n",
    "    Dense(64, activation = 'relu', input_dim = X_test.shape[1]),\n",
    "    Dense(32, activation = 'relu'),\n",
    "    Dense(16, activation = 'relu'),\n",
    "    Dense(1, activation = 'sigmoid')\n",
    "])"
   ]
  },
  {
   "cell_type": "code",
   "execution_count": 39,
   "id": "8684147a",
   "metadata": {},
   "outputs": [],
   "source": [
    "model.compile(\n",
    "    optimizer = optimizers.Adam(learning_rate = 0.05),\n",
    "    loss = 'binary_crossentropy', # softmax : sparse_categorical_crossentropy, sigmoid : binary_crossentropy\n",
    "    metrics=['accuracy']\n",
    ")"
   ]
  },
  {
   "cell_type": "code",
   "execution_count": 40,
   "id": "f0e32715",
   "metadata": {},
   "outputs": [
    {
     "name": "stdout",
     "output_type": "stream",
     "text": [
      "Model: \"sequential\"\n",
      "_________________________________________________________________\n",
      "Layer (type)                 Output Shape              Param #   \n",
      "=================================================================\n",
      "dense (Dense)                (None, 64)                4608      \n",
      "_________________________________________________________________\n",
      "dense_1 (Dense)              (None, 32)                2080      \n",
      "_________________________________________________________________\n",
      "dense_2 (Dense)              (None, 16)                528       \n",
      "_________________________________________________________________\n",
      "dense_3 (Dense)              (None, 1)                 17        \n",
      "=================================================================\n",
      "Total params: 7,233\n",
      "Trainable params: 7,233\n",
      "Non-trainable params: 0\n",
      "_________________________________________________________________\n"
     ]
    }
   ],
   "source": [
    "model.summary()"
   ]
  },
  {
   "cell_type": "code",
   "execution_count": 41,
   "id": "cdc3d7aa",
   "metadata": {},
   "outputs": [
    {
     "name": "stdout",
     "output_type": "stream",
     "text": [
      "Epoch 1/4\n",
      "2264/2264 [==============================] - 1s 476us/step - loss: 0.1677 - accuracy: 0.9399 - val_loss: 0.1111 - val_accuracy: 0.9671\n",
      "Epoch 2/4\n",
      "2264/2264 [==============================] - 1s 435us/step - loss: 0.1649 - accuracy: 0.9505 - val_loss: 0.3197 - val_accuracy: 0.8650\n",
      "Epoch 3/4\n",
      "2264/2264 [==============================] - 1s 435us/step - loss: 0.3338 - accuracy: 0.8474 - val_loss: 0.3550 - val_accuracy: 0.8210\n",
      "Epoch 4/4\n",
      "2264/2264 [==============================] - 1s 437us/step - loss: 0.3391 - accuracy: 0.8291 - val_loss: 0.3371 - val_accuracy: 0.8337\n"
     ]
    },
    {
     "data": {
      "text/plain": [
       "<tensorflow.python.keras.callbacks.History at 0x7feac44530d0>"
      ]
     },
     "execution_count": 41,
     "metadata": {},
     "output_type": "execute_result"
    }
   ],
   "source": [
    "model.fit(\n",
    "    x = X_train,\n",
    "    y = y_train.to_pandas(),\n",
    "    validation_data=(X_val, y_val.to_pandas()),\n",
    "    epochs=4,\n",
    "    batch_size=64\n",
    ")"
   ]
  },
  {
   "cell_type": "code",
   "execution_count": 42,
   "id": "56375872",
   "metadata": {},
   "outputs": [
    {
     "name": "stdout",
     "output_type": "stream",
     "text": [
      "906/906 [==============================] - 0s 270us/step - loss: 0.3232 - accuracy: 0.8414\n"
     ]
    },
    {
     "data": {
      "text/plain": [
       "[0.3231922388076782, 0.8414149880409241]"
      ]
     },
     "execution_count": 42,
     "metadata": {},
     "output_type": "execute_result"
    }
   ],
   "source": [
    "model.evaluate(X_test, y_test.to_pandas())"
   ]
  },
  {
   "cell_type": "markdown",
   "id": "f1b9e6df",
   "metadata": {},
   "source": [
    "## Predict"
   ]
  },
  {
   "cell_type": "code",
   "execution_count": 43,
   "id": "8d34183e",
   "metadata": {},
   "outputs": [],
   "source": [
    "predict_reply = model.predict(X_test)"
   ]
  },
  {
   "cell_type": "code",
   "execution_count": 44,
   "id": "15311e6b",
   "metadata": {},
   "outputs": [],
   "source": [
    "y_test['predict'] = predict_reply.tolist()"
   ]
  },
  {
   "cell_type": "code",
   "execution_count": 45,
   "id": "8df2a605",
   "metadata": {},
   "outputs": [
    {
     "name": "stderr",
     "output_type": "stream",
     "text": [
      "/home/nyongja/anaconda3/envs/dask/lib/python3.7/site-packages/sklearn/metrics/_classification.py:2279: RuntimeWarning: divide by zero encountered in log\n",
      "  loss = -(transformed_labels * np.log(y_pred)).sum(axis=1)\n",
      "/home/nyongja/anaconda3/envs/dask/lib/python3.7/site-packages/sklearn/metrics/_classification.py:2279: RuntimeWarning: invalid value encountered in multiply\n",
      "  loss = -(transformed_labels * np.log(y_pred)).sum(axis=1)\n"
     ]
    },
    {
     "data": {
      "text/plain": [
       "nan"
      ]
     },
     "execution_count": 45,
     "metadata": {},
     "output_type": "execute_result"
    }
   ],
   "source": [
    "rce_like = compute_rce(predict_reply, y_test['reply'].to_array())\n",
    "rce_like"
   ]
  },
  {
   "cell_type": "code",
   "execution_count": 55,
   "id": "9621c87d",
   "metadata": {},
   "outputs": [
    {
     "data": {
      "text/plain": [
       "0.8316263203235412"
      ]
     },
     "execution_count": 55,
     "metadata": {},
     "output_type": "execute_result"
    }
   ],
   "source": [
    "average_precision_score(y_test['reply'].to_array(), predict_reply)"
   ]
  },
  {
   "cell_type": "code",
   "execution_count": null,
   "id": "e1bb2b38",
   "metadata": {},
   "outputs": [],
   "source": []
  }
 ],
 "metadata": {
  "kernelspec": {
   "display_name": "Python 3",
   "language": "python",
   "name": "python3"
  },
  "language_info": {
   "codemirror_mode": {
    "name": "ipython",
    "version": 3
   },
   "file_extension": ".py",
   "mimetype": "text/x-python",
   "name": "python",
   "nbconvert_exporter": "python",
   "pygments_lexer": "ipython3",
   "version": "3.7.10"
  }
 },
 "nbformat": 4,
 "nbformat_minor": 5
}
