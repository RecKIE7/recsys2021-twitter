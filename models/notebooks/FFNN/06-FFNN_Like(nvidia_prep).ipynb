{
 "cells": [
  {
   "cell_type": "code",
   "execution_count": 2,
   "id": "da4d22e6",
   "metadata": {},
   "outputs": [],
   "source": [
    "import sys\n",
    "sys.path.append('../../..')\n",
    "\n",
    "import numpy as np\n",
    "import matplotlib.pyplot as plt\n",
    "import pandas as pd\n",
    "from tqdm import tqdm\n",
    "from sklearn.model_selection import train_test_split\n",
    "import tensorflow as tf\n",
    "from tensorflow import feature_column as fc\n",
    "from tensorflow.keras.models import Sequential\n",
    "from tensorflow.keras.layers import Dense\n",
    "from sklearn import preprocessing\n",
    "from tensorflow.keras import optimizers\n",
    "import tensorflow.keras.backend as K\n",
    "\n",
    "from utils.gpu.cuda_cluster import *\n",
    "from utils.gpu.preprocessing import read_data, factorize_small_cardinality_with_index, df_to_tfdataset, split_join, get_media_index\n",
    "from utils.evaluate import calculate_ctr, compute_rce, average_precision_score\n",
    "import core.config as conf"
   ]
  },
  {
   "cell_type": "code",
   "execution_count": 3,
   "id": "ac9d7d79",
   "metadata": {},
   "outputs": [
    {
     "data": {
      "text/html": [
       "<table style=\"border: 2px solid white;\">\n",
       "<tr>\n",
       "<td style=\"vertical-align: top; border: 0px solid white\">\n",
       "<h3 style=\"text-align: left;\">Client</h3>\n",
       "<ul style=\"text-align: left; list-style: none; margin: 0; padding: 0;\">\n",
       "  <li><b>Scheduler: </b>tcp://127.0.0.1:32843</li>\n",
       "  <li><b>Dashboard: </b><a href='http://127.0.0.1:8787/status' target='_blank'>http://127.0.0.1:8787/status</a></li>\n",
       "</ul>\n",
       "</td>\n",
       "<td style=\"vertical-align: top; border: 0px solid white\">\n",
       "<h3 style=\"text-align: left;\">Cluster</h3>\n",
       "<ul style=\"text-align: left; list-style:none; margin: 0; padding: 0;\">\n",
       "  <li><b>Workers: </b>1</li>\n",
       "  <li><b>Cores: </b>1</li>\n",
       "  <li><b>Memory: </b>33.47 GB</li>\n",
       "</ul>\n",
       "</td>\n",
       "</tr>\n",
       "</table>"
      ],
      "text/plain": [
       "<Client: 'tcp://127.0.0.1:32843' processes=1 threads=1, memory=33.47 GB>"
      ]
     },
     "execution_count": 3,
     "metadata": {},
     "output_type": "execute_result"
    }
   ],
   "source": [
    "client"
   ]
  },
  {
   "cell_type": "markdown",
   "id": "66d6dba4",
   "metadata": {},
   "source": [
    "## Load data"
   ]
  },
  {
   "cell_type": "code",
   "execution_count": 4,
   "id": "3396761e",
   "metadata": {},
   "outputs": [],
   "source": [
    "# data_path = conf.raw_data_path + '*' # for all dataset\n",
    "data_path = conf.data_root + 'dask_input'\n",
    "df = dask_cudf.read_parquet(f'{data_path}/train-final-te-like-1.parquet', index=False)"
   ]
  },
  {
   "cell_type": "markdown",
   "id": "4636c0a7",
   "metadata": {},
   "source": [
    "## Preprocessing"
   ]
  },
  {
   "cell_type": "code",
   "execution_count": 5,
   "id": "55a4b456",
   "metadata": {},
   "outputs": [
    {
     "data": {
      "text/html": [
       "<div>\n",
       "<style scoped>\n",
       "    .dataframe tbody tr th:only-of-type {\n",
       "        vertical-align: middle;\n",
       "    }\n",
       "\n",
       "    .dataframe tbody tr th {\n",
       "        vertical-align: top;\n",
       "    }\n",
       "\n",
       "    .dataframe thead th {\n",
       "        text-align: right;\n",
       "    }\n",
       "</style>\n",
       "<table border=\"1\" class=\"dataframe\">\n",
       "  <thead>\n",
       "    <tr style=\"text-align: right;\">\n",
       "      <th></th>\n",
       "      <th>timestamp</th>\n",
       "      <th>creator_follower_count</th>\n",
       "      <th>creator_following_count</th>\n",
       "      <th>creator_is_verified</th>\n",
       "      <th>creator_account_creation</th>\n",
       "      <th>engager_follower_count</th>\n",
       "      <th>engager_following_count</th>\n",
       "      <th>engager_is_verified</th>\n",
       "      <th>engager_account_creation</th>\n",
       "      <th>engager_follows_creator</th>\n",
       "      <th>...</th>\n",
       "      <th>TE_creator_count_combined_tweet_type_language_like</th>\n",
       "      <th>TE_creator_user_fer_count_delta_time_media_language_like</th>\n",
       "      <th>TE_creator_user_fing_count_delta_time_media_language_like</th>\n",
       "      <th>TE_creator_user_fering_count_delta_time_tweet_type_language_like</th>\n",
       "      <th>TE_creator_user_fing_count_mode_media_language_like</th>\n",
       "      <th>TE_creator_user_fer_count_mode_media_language_like</th>\n",
       "      <th>TE_creator_user_fering_count_mode_tweet_type_language_like</th>\n",
       "      <th>TE_domains_media_tweet_type_language_like</th>\n",
       "      <th>TE_links_media_tweet_type_language_like</th>\n",
       "      <th>TE_hashtags_media_tweet_type_language_like</th>\n",
       "    </tr>\n",
       "  </thead>\n",
       "  <tbody>\n",
       "    <tr>\n",
       "      <th>0</th>\n",
       "      <td>1612587832</td>\n",
       "      <td>3885</td>\n",
       "      <td>3051</td>\n",
       "      <td>0</td>\n",
       "      <td>1568428850</td>\n",
       "      <td>634</td>\n",
       "      <td>531</td>\n",
       "      <td>0</td>\n",
       "      <td>1590421816</td>\n",
       "      <td>1</td>\n",
       "      <td>...</td>\n",
       "      <td>0.472310</td>\n",
       "      <td>0.353791</td>\n",
       "      <td>0.353791</td>\n",
       "      <td>0.472310</td>\n",
       "      <td>0.354039</td>\n",
       "      <td>0.354039</td>\n",
       "      <td>0.471939</td>\n",
       "      <td>0.435391</td>\n",
       "      <td>0.435391</td>\n",
       "      <td>0.423956</td>\n",
       "    </tr>\n",
       "    <tr>\n",
       "      <th>1</th>\n",
       "      <td>1613743226</td>\n",
       "      <td>226443</td>\n",
       "      <td>0</td>\n",
       "      <td>0</td>\n",
       "      <td>1597609757</td>\n",
       "      <td>633</td>\n",
       "      <td>151</td>\n",
       "      <td>0</td>\n",
       "      <td>1541162905</td>\n",
       "      <td>0</td>\n",
       "      <td>...</td>\n",
       "      <td>0.474047</td>\n",
       "      <td>0.355000</td>\n",
       "      <td>0.355000</td>\n",
       "      <td>0.474047</td>\n",
       "      <td>0.355901</td>\n",
       "      <td>0.355901</td>\n",
       "      <td>0.473944</td>\n",
       "      <td>0.432625</td>\n",
       "      <td>0.432625</td>\n",
       "      <td>0.434331</td>\n",
       "    </tr>\n",
       "    <tr>\n",
       "      <th>2</th>\n",
       "      <td>1613369374</td>\n",
       "      <td>1353309</td>\n",
       "      <td>537</td>\n",
       "      <td>1</td>\n",
       "      <td>1299819150</td>\n",
       "      <td>2304</td>\n",
       "      <td>844</td>\n",
       "      <td>0</td>\n",
       "      <td>1278714864</td>\n",
       "      <td>0</td>\n",
       "      <td>...</td>\n",
       "      <td>0.527204</td>\n",
       "      <td>0.488510</td>\n",
       "      <td>0.488510</td>\n",
       "      <td>0.527204</td>\n",
       "      <td>0.487882</td>\n",
       "      <td>0.487882</td>\n",
       "      <td>0.526625</td>\n",
       "      <td>0.597564</td>\n",
       "      <td>0.597564</td>\n",
       "      <td>0.601652</td>\n",
       "    </tr>\n",
       "    <tr>\n",
       "      <th>3</th>\n",
       "      <td>1614038010</td>\n",
       "      <td>226308</td>\n",
       "      <td>9</td>\n",
       "      <td>0</td>\n",
       "      <td>1468552079</td>\n",
       "      <td>85</td>\n",
       "      <td>808</td>\n",
       "      <td>0</td>\n",
       "      <td>1387326144</td>\n",
       "      <td>0</td>\n",
       "      <td>...</td>\n",
       "      <td>0.524442</td>\n",
       "      <td>0.475492</td>\n",
       "      <td>0.475492</td>\n",
       "      <td>0.523578</td>\n",
       "      <td>0.475356</td>\n",
       "      <td>0.475356</td>\n",
       "      <td>0.524442</td>\n",
       "      <td>0.597564</td>\n",
       "      <td>0.597564</td>\n",
       "      <td>0.601652</td>\n",
       "    </tr>\n",
       "    <tr>\n",
       "      <th>4</th>\n",
       "      <td>1612525320</td>\n",
       "      <td>131219</td>\n",
       "      <td>1023</td>\n",
       "      <td>0</td>\n",
       "      <td>1517575079</td>\n",
       "      <td>141</td>\n",
       "      <td>340</td>\n",
       "      <td>0</td>\n",
       "      <td>1560679572</td>\n",
       "      <td>0</td>\n",
       "      <td>...</td>\n",
       "      <td>0.000000</td>\n",
       "      <td>0.000000</td>\n",
       "      <td>0.000000</td>\n",
       "      <td>0.000000</td>\n",
       "      <td>0.000000</td>\n",
       "      <td>0.000000</td>\n",
       "      <td>0.000000</td>\n",
       "      <td>0.000000</td>\n",
       "      <td>0.000000</td>\n",
       "      <td>0.000000</td>\n",
       "    </tr>\n",
       "  </tbody>\n",
       "</table>\n",
       "<p>5 rows × 72 columns</p>\n",
       "</div>"
      ],
      "text/plain": [
       "    timestamp  creator_follower_count  creator_following_count  \\\n",
       "0  1612587832                    3885                     3051   \n",
       "1  1613743226                  226443                        0   \n",
       "2  1613369374                 1353309                      537   \n",
       "3  1614038010                  226308                        9   \n",
       "4  1612525320                  131219                     1023   \n",
       "\n",
       "   creator_is_verified  creator_account_creation  engager_follower_count  \\\n",
       "0                    0                1568428850                     634   \n",
       "1                    0                1597609757                     633   \n",
       "2                    1                1299819150                    2304   \n",
       "3                    0                1468552079                      85   \n",
       "4                    0                1517575079                     141   \n",
       "\n",
       "   engager_following_count  engager_is_verified  engager_account_creation  \\\n",
       "0                      531                    0                1590421816   \n",
       "1                      151                    0                1541162905   \n",
       "2                      844                    0                1278714864   \n",
       "3                      808                    0                1387326144   \n",
       "4                      340                    0                1560679572   \n",
       "\n",
       "   engager_follows_creator  ...  \\\n",
       "0                        1  ...   \n",
       "1                        0  ...   \n",
       "2                        0  ...   \n",
       "3                        0  ...   \n",
       "4                        0  ...   \n",
       "\n",
       "   TE_creator_count_combined_tweet_type_language_like  \\\n",
       "0                                           0.472310    \n",
       "1                                           0.474047    \n",
       "2                                           0.527204    \n",
       "3                                           0.524442    \n",
       "4                                           0.000000    \n",
       "\n",
       "   TE_creator_user_fer_count_delta_time_media_language_like  \\\n",
       "0                                           0.353791          \n",
       "1                                           0.355000          \n",
       "2                                           0.488510          \n",
       "3                                           0.475492          \n",
       "4                                           0.000000          \n",
       "\n",
       "   TE_creator_user_fing_count_delta_time_media_language_like  \\\n",
       "0                                           0.353791           \n",
       "1                                           0.355000           \n",
       "2                                           0.488510           \n",
       "3                                           0.475492           \n",
       "4                                           0.000000           \n",
       "\n",
       "   TE_creator_user_fering_count_delta_time_tweet_type_language_like  \\\n",
       "0                                           0.472310                  \n",
       "1                                           0.474047                  \n",
       "2                                           0.527204                  \n",
       "3                                           0.523578                  \n",
       "4                                           0.000000                  \n",
       "\n",
       "   TE_creator_user_fing_count_mode_media_language_like  \\\n",
       "0                                           0.354039     \n",
       "1                                           0.355901     \n",
       "2                                           0.487882     \n",
       "3                                           0.475356     \n",
       "4                                           0.000000     \n",
       "\n",
       "   TE_creator_user_fer_count_mode_media_language_like  \\\n",
       "0                                           0.354039    \n",
       "1                                           0.355901    \n",
       "2                                           0.487882    \n",
       "3                                           0.475356    \n",
       "4                                           0.000000    \n",
       "\n",
       "   TE_creator_user_fering_count_mode_tweet_type_language_like  \\\n",
       "0                                           0.471939            \n",
       "1                                           0.473944            \n",
       "2                                           0.526625            \n",
       "3                                           0.524442            \n",
       "4                                           0.000000            \n",
       "\n",
       "   TE_domains_media_tweet_type_language_like  \\\n",
       "0                                   0.435391   \n",
       "1                                   0.432625   \n",
       "2                                   0.597564   \n",
       "3                                   0.597564   \n",
       "4                                   0.000000   \n",
       "\n",
       "   TE_links_media_tweet_type_language_like  \\\n",
       "0                                 0.435391   \n",
       "1                                 0.432625   \n",
       "2                                 0.597564   \n",
       "3                                 0.597564   \n",
       "4                                 0.000000   \n",
       "\n",
       "   TE_hashtags_media_tweet_type_language_like  \n",
       "0                                    0.423956  \n",
       "1                                    0.434331  \n",
       "2                                    0.601652  \n",
       "3                                    0.601652  \n",
       "4                                    0.000000  \n",
       "\n",
       "[5 rows x 72 columns]"
      ]
     },
     "execution_count": 5,
     "metadata": {},
     "output_type": "execute_result"
    }
   ],
   "source": [
    "df.head()"
   ]
  },
  {
   "cell_type": "code",
   "execution_count": 6,
   "id": "d3e7e769",
   "metadata": {
    "scrolled": true
   },
   "outputs": [
    {
     "data": {
      "text/plain": [
       "timestamp                                                          0\n",
       "creator_follower_count                                             0\n",
       "creator_following_count                                            0\n",
       "creator_is_verified                                                0\n",
       "creator_account_creation                                           0\n",
       "                                                               ...  \n",
       "TE_creator_user_fer_count_mode_media_language_like            146676\n",
       "TE_creator_user_fering_count_mode_tweet_type_language_like    146222\n",
       "TE_domains_media_tweet_type_language_like                      79182\n",
       "TE_links_media_tweet_type_language_like                       308353\n",
       "TE_hashtags_media_tweet_type_language_like                    340310\n",
       "Length: 72, dtype: uint64"
      ]
     },
     "execution_count": 6,
     "metadata": {},
     "output_type": "execute_result"
    }
   ],
   "source": [
    "df.isnull().sum().compute()"
   ]
  },
  {
   "cell_type": "code",
   "execution_count": 8,
   "id": "b38229a5",
   "metadata": {},
   "outputs": [],
   "source": [
    "df = df.fillna(0)"
   ]
  },
  {
   "cell_type": "code",
   "execution_count": 9,
   "id": "af99c1eb",
   "metadata": {},
   "outputs": [],
   "source": [
    "df = df.astype(np.int64)"
   ]
  },
  {
   "cell_type": "markdown",
   "id": "772e3b36",
   "metadata": {},
   "source": [
    "## Sampling"
   ]
  },
  {
   "cell_type": "code",
   "execution_count": 1,
   "id": "845c2fa2",
   "metadata": {},
   "outputs": [
    {
     "ename": "NameError",
     "evalue": "name 'df' is not defined",
     "output_type": "error",
     "traceback": [
      "\u001b[0;31m---------------------------------------------------------------------------\u001b[0m",
      "\u001b[0;31mNameError\u001b[0m                                 Traceback (most recent call last)",
      "\u001b[0;32m<ipython-input-1-6ef29f8b8cee>\u001b[0m in \u001b[0;36m<module>\u001b[0;34m\u001b[0m\n\u001b[0;32m----> 1\u001b[0;31m \u001b[0mdf_positive\u001b[0m \u001b[0;34m=\u001b[0m \u001b[0mdf\u001b[0m\u001b[0;34m[\u001b[0m\u001b[0mdf\u001b[0m\u001b[0;34m[\u001b[0m\u001b[0;34m'reply'\u001b[0m\u001b[0;34m]\u001b[0m\u001b[0;34m==\u001b[0m\u001b[0;36m1\u001b[0m\u001b[0;34m]\u001b[0m\u001b[0;34m\u001b[0m\u001b[0;34m\u001b[0m\u001b[0m\n\u001b[0m\u001b[1;32m      2\u001b[0m \u001b[0mdf_negative\u001b[0m \u001b[0;34m=\u001b[0m \u001b[0mdf\u001b[0m\u001b[0;34m[\u001b[0m\u001b[0mdf\u001b[0m\u001b[0;34m[\u001b[0m\u001b[0;34m'reply'\u001b[0m\u001b[0;34m]\u001b[0m\u001b[0;34m==\u001b[0m\u001b[0;36m0\u001b[0m\u001b[0;34m]\u001b[0m\u001b[0;34m\u001b[0m\u001b[0;34m\u001b[0m\u001b[0m\n",
      "\u001b[0;31mNameError\u001b[0m: name 'df' is not defined"
     ]
    }
   ],
   "source": [
    "df_positive = df[df['reply']==1]\n",
    "df_negative = df[df['reply']==0]"
   ]
  },
  {
   "cell_type": "markdown",
   "id": "396fe570",
   "metadata": {},
   "source": [
    "## Loss Function"
   ]
  },
  {
   "cell_type": "code",
   "execution_count": 18,
   "id": "a80dfa48",
   "metadata": {},
   "outputs": [],
   "source": [
    "def f1(y_true, y_pred):\n",
    "    y_pred = K.round(y_pred)\n",
    "    tp = K.sum(K.cast(y_true*y_pred, 'float'), axis=0)\n",
    "    tn = K.sum(K.cast((1-y_true)*(1-y_pred), 'float'), axis=0)\n",
    "    fp = K.sum(K.cast((1-y_true)*y_pred, 'float'), axis=0)\n",
    "    fn = K.sum(K.cast(y_true*(1-y_pred), 'float'), axis=0)\n",
    "\n",
    "    p = tp / (tp + fp + K.epsilon())\n",
    "    r = tp / (tp + fn + K.epsilon())\n",
    "\n",
    "    f1 = 2*p*r / (p+r+K.epsilon())\n",
    "    f1 = tf.where(tf.math.is_nan(f1), tf.zeros_like(f1), f1)\n",
    "    return K.mean(f1)\n",
    "\n",
    "def f1_loss(y_true, y_pred):\n",
    "    tp = K.sum(K.cast(y_true*y_pred, 'float'), axis=0)\n",
    "    tn = K.sum(K.cast((1-y_true)*(1-y_pred), 'float'), axis=0)\n",
    "    fp = K.sum(K.cast((1-y_true)*y_pred, 'float'), axis=0)\n",
    "    fn = K.sum(K.cast(y_true*(1-y_pred), 'float'), axis=0)\n",
    "\n",
    "    p = tp / (tp + fp + K.epsilon())\n",
    "    r = tp / (tp + fn + K.epsilon())\n",
    "\n",
    "    f1 = 2*p*r / (p+r+K.epsilon())\n",
    "    f1 = tf.where(tf.math.is_nan(f1), tf.zeros_like(f1), f1)\n",
    "    return 1 - K.mean(f1)"
   ]
  },
  {
   "cell_type": "code",
   "execution_count": null,
   "id": "d5ba0a8a",
   "metadata": {},
   "outputs": [],
   "source": []
  },
  {
   "cell_type": "markdown",
   "id": "72b5bc29",
   "metadata": {},
   "source": [
    "## Modeling"
   ]
  },
  {
   "cell_type": "code",
   "execution_count": 20,
   "id": "576f52eb",
   "metadata": {},
   "outputs": [],
   "source": [
    "df_y = df[['like']]\n",
    "df_x = df.drop(['like'], axis = 1)"
   ]
  },
  {
   "cell_type": "code",
   "execution_count": 21,
   "id": "355ac793",
   "metadata": {},
   "outputs": [],
   "source": [
    "X_train = df_x\n",
    "y_train = df_y['like'].to_frame()"
   ]
  },
  {
   "cell_type": "markdown",
   "id": "3c35dcde",
   "metadata": {},
   "source": [
    "## Scaling"
   ]
  },
  {
   "cell_type": "code",
   "execution_count": 22,
   "id": "db9fd90a",
   "metadata": {},
   "outputs": [
    {
     "data": {
      "text/plain": [
       "StandardScaler()"
      ]
     },
     "execution_count": 22,
     "metadata": {},
     "output_type": "execute_result"
    }
   ],
   "source": [
    "standard_scaler = preprocessing.StandardScaler()\n",
    "standard_scaler.fit(X_train.compute().as_matrix())"
   ]
  },
  {
   "cell_type": "code",
   "execution_count": 23,
   "id": "3deb2865",
   "metadata": {},
   "outputs": [],
   "source": [
    "ss = standard_scaler.transform(X_train.compute().as_matrix())"
   ]
  },
  {
   "cell_type": "code",
   "execution_count": 24,
   "id": "ecc50afb",
   "metadata": {},
   "outputs": [],
   "source": [
    "X_train = pd.DataFrame(ss, columns = df_x.columns)"
   ]
  },
  {
   "cell_type": "code",
   "execution_count": 25,
   "id": "89032f07",
   "metadata": {},
   "outputs": [],
   "source": [
    "X_train, X_test, y_train, y_test = train_test_split(X_train, y_train.compute().to_pandas(), test_size=0.2)"
   ]
  },
  {
   "cell_type": "code",
   "execution_count": 26,
   "id": "c6d5b73b",
   "metadata": {},
   "outputs": [],
   "source": [
    "X_test, X_val, y_test, y_val = train_test_split(X_test, y_test, test_size=0.2)"
   ]
  },
  {
   "cell_type": "code",
   "execution_count": 27,
   "id": "e6c97906",
   "metadata": {},
   "outputs": [],
   "source": [
    "model = Sequential([\n",
    "    Dense(64, activation = 'relu', input_dim = X_test.shape[1]),\n",
    "    Dense(32, activation = 'relu'),\n",
    "    Dense(16, activation = 'relu'),\n",
    "    Dense(1, activation = 'sigmoid')\n",
    "])"
   ]
  },
  {
   "cell_type": "code",
   "execution_count": 33,
   "id": "8684147a",
   "metadata": {},
   "outputs": [],
   "source": [
    "model.compile(\n",
    "    optimizer = 'adam',\n",
    "    loss = f1_loss, # softmax : sparse_categorical_crossentropy, sigmoid : binary_crossentropy\n",
    "    metrics=['accuracy', f1])"
   ]
  },
  {
   "cell_type": "code",
   "execution_count": 34,
   "id": "f0e32715",
   "metadata": {
    "scrolled": true
   },
   "outputs": [
    {
     "name": "stdout",
     "output_type": "stream",
     "text": [
      "Model: \"sequential_1\"\n",
      "_________________________________________________________________\n",
      "Layer (type)                 Output Shape              Param #   \n",
      "=================================================================\n",
      "dense_4 (Dense)              (None, 64)                4608      \n",
      "_________________________________________________________________\n",
      "dense_5 (Dense)              (None, 32)                2080      \n",
      "_________________________________________________________________\n",
      "dense_6 (Dense)              (None, 16)                528       \n",
      "_________________________________________________________________\n",
      "dense_7 (Dense)              (None, 1)                 17        \n",
      "=================================================================\n",
      "Total params: 7,233\n",
      "Trainable params: 7,233\n",
      "Non-trainable params: 0\n",
      "_________________________________________________________________\n"
     ]
    }
   ],
   "source": [
    "model.summary()"
   ]
  },
  {
   "cell_type": "code",
   "execution_count": 35,
   "id": "ea1232ca",
   "metadata": {},
   "outputs": [],
   "source": [
    "y_train = y_train.astype(np.float32)\n",
    "y_val = y_val.astype(np.float32)"
   ]
  },
  {
   "cell_type": "code",
   "execution_count": 36,
   "id": "cdc3d7aa",
   "metadata": {},
   "outputs": [
    {
     "name": "stdout",
     "output_type": "stream",
     "text": [
      "Epoch 1/5\n",
      "38503/38503 [==============================] - 19s 489us/step - loss: 0.3899 - accuracy: 0.5847 - f1: 0.6103 - val_loss: 0.3783 - val_accuracy: 0.6166 - val_f1: 0.6220\n",
      "Epoch 2/5\n",
      "38503/38503 [==============================] - 19s 499us/step - loss: 0.3796 - accuracy: 0.6193 - f1: 0.6204 - val_loss: 0.3826 - val_accuracy: 0.6323 - val_f1: 0.6174\n",
      "Epoch 3/5\n",
      "38503/38503 [==============================] - 19s 500us/step - loss: 0.3790 - accuracy: 0.6161 - f1: 0.6210 - val_loss: 0.3780 - val_accuracy: 0.6190 - val_f1: 0.6219\n",
      "Epoch 4/5\n",
      "38503/38503 [==============================] - 19s 483us/step - loss: 0.3807 - accuracy: 0.6175 - f1: 0.6193 - val_loss: 0.3774 - val_accuracy: 0.6179 - val_f1: 0.6227\n",
      "Epoch 5/5\n",
      "38503/38503 [==============================] - 19s 493us/step - loss: 0.3801 - accuracy: 0.6128 - f1: 0.6200 - val_loss: 0.3799 - val_accuracy: 0.6148 - val_f1: 0.6200\n"
     ]
    },
    {
     "data": {
      "text/plain": [
       "<tensorflow.python.keras.callbacks.History at 0x7fab53170550>"
      ]
     },
     "execution_count": 36,
     "metadata": {},
     "output_type": "execute_result"
    }
   ],
   "source": [
    "model.fit(\n",
    "    x = X_train,\n",
    "    y = y_train,\n",
    "    validation_data=(X_val, y_val),\n",
    "    epochs=5,\n",
    "    batch_size=64\n",
    ")"
   ]
  },
  {
   "cell_type": "code",
   "execution_count": null,
   "id": "56375872",
   "metadata": {},
   "outputs": [],
   "source": [
    "model.evaluate(X_test, y_test)"
   ]
  },
  {
   "cell_type": "markdown",
   "id": "f1b9e6df",
   "metadata": {},
   "source": [
    "## Predict"
   ]
  },
  {
   "cell_type": "code",
   "execution_count": 24,
   "id": "8d34183e",
   "metadata": {},
   "outputs": [],
   "source": [
    "predict_like = model.predict(X_test)"
   ]
  },
  {
   "cell_type": "code",
   "execution_count": 21,
   "id": "016af728",
   "metadata": {},
   "outputs": [
    {
     "data": {
      "text/plain": [
       "array([[0.29271668],\n",
       "       [0.54038197],\n",
       "       [0.37923923],\n",
       "       ...,\n",
       "       [0.65456855],\n",
       "       [0.4925698 ],\n",
       "       [0.65168685]], dtype=float32)"
      ]
     },
     "execution_count": 21,
     "metadata": {},
     "output_type": "execute_result"
    }
   ],
   "source": [
    "predict_like"
   ]
  },
  {
   "cell_type": "code",
   "execution_count": 22,
   "id": "8df2a605",
   "metadata": {},
   "outputs": [
    {
     "data": {
      "text/plain": [
       "12.243130258995183"
      ]
     },
     "execution_count": 22,
     "metadata": {},
     "output_type": "execute_result"
    }
   ],
   "source": [
    "rce_like = compute_rce(predict_like, y_test['like'])\n",
    "rce_like"
   ]
  },
  {
   "cell_type": "code",
   "execution_count": 23,
   "id": "9621c87d",
   "metadata": {},
   "outputs": [
    {
     "data": {
      "text/plain": [
       "0.6245947659889121"
      ]
     },
     "execution_count": 23,
     "metadata": {},
     "output_type": "execute_result"
    }
   ],
   "source": [
    "average_precision_score(y_test['like'], predict_like)"
   ]
  },
  {
   "cell_type": "code",
   "execution_count": null,
   "id": "423756db",
   "metadata": {},
   "outputs": [],
   "source": []
  }
 ],
 "metadata": {
  "kernelspec": {
   "display_name": "Python 3",
   "language": "python",
   "name": "python3"
  },
  "language_info": {
   "codemirror_mode": {
    "name": "ipython",
    "version": 3
   },
   "file_extension": ".py",
   "mimetype": "text/x-python",
   "name": "python",
   "nbconvert_exporter": "python",
   "pygments_lexer": "ipython3",
   "version": "3.7.10"
  }
 },
 "nbformat": 4,
 "nbformat_minor": 5
}
