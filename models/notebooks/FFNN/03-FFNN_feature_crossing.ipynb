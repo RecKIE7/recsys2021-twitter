{
 "cells": [
  {
   "cell_type": "code",
   "execution_count": 2,
   "id": "da4d22e6",
   "metadata": {},
   "outputs": [],
   "source": [
    "import os\n",
    "import sys\n",
    "sys.path.append('../../..')\n",
    "\n",
    "import numpy as np\n",
    "import matplotlib.pyplot as plt\n",
    "import pandas as pd\n",
    "import pickle\n",
    "import joblib\n",
    "from tqdm import tqdm\n",
    "from sklearn.model_selection import train_test_split\n",
    "import tensorflow as tf\n",
    "from tensorflow import feature_column as fc\n",
    "from tensorflow.keras.models import Sequential\n",
    "from tensorflow.keras.layers import Dense\n",
    "from sklearn import preprocessing\n",
    "from sklearn.utils import shuffle\n",
    "from tensorflow.keras.models import save_model,load_model\n",
    "\n",
    "from utils.util import *\n",
    "from utils.preprocessing import *\n",
    "from utils.dataiter import Dataiter\n",
    "from utils.evaluate import calculate_ctr, compute_rce, average_precision_score\n",
    "from utils.target_encode import MTE_one_shot\n",
    "\n",
    "import tensorflow.keras.backend as K\n",
    "import core.config as conf"
   ]
  },
  {
   "cell_type": "markdown",
   "id": "92459096",
   "metadata": {},
   "source": [
    "## Load data"
   ]
  },
  {
   "cell_type": "code",
   "execution_count": 3,
   "id": "3396761e",
   "metadata": {},
   "outputs": [],
   "source": [
    "path = f'{conf.raw_lzo_path}/part-00000'\n",
    "train = read_data(path)\n",
    "path = f'{conf.raw_lzo_path}/part-00100'\n",
    "test = read_data(path)"
   ]
  },
  {
   "cell_type": "code",
   "execution_count": 4,
   "id": "c1757350",
   "metadata": {},
   "outputs": [],
   "source": [
    "TARGET = 'like'"
   ]
  },
  {
   "cell_type": "markdown",
   "id": "396b8f20",
   "metadata": {},
   "source": [
    "- media target encoding(photo, video, gif)\n",
    "- tweet_type\n",
    "- language\n",
    "- tweet_timestamp\n",
    "- engaged_with_user_id\n",
    "- engaged_with_user_follower_count\n",
    "- engaging_user_id\n",
    "- engaging_user_following_count\n",
    "- engagee_follows_engager\n",
    "- 'reply_timestamp', 'retweet_timestamp','retweet_with_comment_timestamp', 'like_timestamp'"
   ]
  },
  {
   "cell_type": "markdown",
   "id": "af6e8c0f",
   "metadata": {},
   "source": [
    "## Preprocessing"
   ]
  },
  {
   "cell_type": "code",
   "execution_count": 6,
   "id": "86dd9c7f",
   "metadata": {},
   "outputs": [],
   "source": [
    "def set_dataframe_types(df, train):\n",
    "    df['id']   = np.arange( df.shape[0] )\n",
    "    df['id']   = df['id'].astype(np.uint32)\n",
    "\n",
    "    if train:\n",
    "        df['reply_timestamp']   = df['reply_timestamp'].fillna(0)\n",
    "        df['retweet_timestamp'] = df['retweet_timestamp'].fillna(0)\n",
    "        df['comment_timestamp'] = df['comment_timestamp'].fillna(0)\n",
    "        df['like_timestamp']    = df['like_timestamp'].fillna(0)\n",
    "\n",
    "        df['reply_timestamp']   = df['reply_timestamp'].astype(np.uint32)\n",
    "        df['retweet_timestamp'] = df['retweet_timestamp'].astype(np.uint32)\n",
    "        df['comment_timestamp'] = df['comment_timestamp'].astype(np.uint32)\n",
    "        df['like_timestamp']    = df['like_timestamp'].astype(np.uint32)\n",
    "\n",
    "    df['tweet_timestamp']         = df['tweet_timestamp'].astype( np.uint32 )\n",
    "    df['creator_follower_count']  = df['creator_follower_count'].astype( np.uint32 )\n",
    "    df['creator_following_count'] = df['creator_following_count'].astype( np.uint32 )\n",
    "    df['creator_account_creation']= df['creator_account_creation'].astype( np.uint32 )\n",
    "    df['engager_follower_count']  = df['engager_follower_count'].astype( np.uint32 )\n",
    "    df['engager_following_count'] = df['engager_following_count'].astype( np.uint32 )\n",
    "    df['engager_account_creation']= df['engager_account_creation'].astype( np.uint32 )\n",
    "\n",
    "    return df\n",
    "\n",
    "\n",
    "def preprocess(df, target, train):\n",
    "    df = set_dataframe_types(df, train)\n",
    "    # df = df.set_index('id')\n",
    "    # df.columns = conf.raw_features + conf.labels\n",
    "    df = df.drop('text_tokens', axis=1)\n",
    "    \n",
    "    df = feature_extraction(df, features=conf.used_features, train=train) # extract 'used_features'\n",
    "    cols = []\n",
    "\n",
    "    return df"
   ]
  },
  {
   "cell_type": "code",
   "execution_count": 7,
   "id": "1b29bb49",
   "metadata": {},
   "outputs": [],
   "source": [
    "\n",
    "train = preprocess(train, TARGET, True)\n"
   ]
  },
  {
   "cell_type": "code",
   "execution_count": 8,
   "id": "23072227",
   "metadata": {},
   "outputs": [],
   "source": [
    "test = preprocess(test, TARGET, True)"
   ]
  },
  {
   "cell_type": "markdown",
   "id": "5f1dc031",
   "metadata": {},
   "source": [
    "### Negative Sampling"
   ]
  },
  {
   "cell_type": "code",
   "execution_count": 9,
   "id": "0888b713",
   "metadata": {},
   "outputs": [
    {
     "output_type": "stream",
     "name": "stdout",
     "text": [
      "1207588\n1826314\n"
     ]
    }
   ],
   "source": [
    "df_positive = train[train['like']==1]\n",
    "df_negative = train[train['like']==0]\n",
    "print(len(df_positive))\n",
    "print(len(df_negative))"
   ]
  },
  {
   "cell_type": "code",
   "execution_count": 10,
   "id": "8c9fe67d",
   "metadata": {},
   "outputs": [],
   "source": [
    "df_negative = df_negative.sample(n = len(df_positive), random_state=777)"
   ]
  },
  {
   "cell_type": "code",
   "execution_count": 11,
   "id": "63148292",
   "metadata": {},
   "outputs": [],
   "source": [
    "train = pd.concat([df_positive, df_negative])"
   ]
  },
  {
   "cell_type": "code",
   "execution_count": 12,
   "id": "0fdf0490",
   "metadata": {},
   "outputs": [],
   "source": [
    "train  = train.sample(frac = 1)"
   ]
  },
  {
   "cell_type": "code",
   "execution_count": 13,
   "id": "fdd01dcc",
   "metadata": {
    "scrolled": true
   },
   "outputs": [
    {
     "output_type": "execute_result",
     "data": {
      "text/plain": [
       "         creator_account_creation  language  domains  media  tweet_timestamp  \\\n",
       "2087016                1318812505        48        0      0       1613528200   \n",
       "916524                 1590639554        61        0      5       1614034698   \n",
       "1991420                1255467536        19    36997      5       1613460600   \n",
       "2480064                1544756582        19        0      0       1613838251   \n",
       "2499772                1600525024         5        0      0       1612687821   \n",
       "\n",
       "         creator_following_count  creator_is_verified  engager_is_verified  \\\n",
       "2087016                      980                    1                    0   \n",
       "916524                         2                    0                    0   \n",
       "1991420                     1099                    0                    0   \n",
       "2480064                     2263                    0                    0   \n",
       "2499772                     2404                    0                    0   \n",
       "\n",
       "         creator_follows_engager                        engager_id  ...  \\\n",
       "2087016                        0  7EE3FC514DCFBF06DE7B7BB57D9A5B0C  ...   \n",
       "916524                         0  624F225193E570755616B5C05F44E272  ...   \n",
       "1991420                        0  AA86569F79C74848D865AA06A4DF08C9  ...   \n",
       "2480064                        0  D013A4E43CF327A186EEA1C16B9D1026  ...   \n",
       "2499772                        1  2E1E278C17EF81300B13E5129CF84706  ...   \n",
       "\n",
       "         engager_follower_count  engager_account_creation reply retweet  \\\n",
       "2087016                     303                1546889781   0.0     0.0   \n",
       "916524                      710                1514986142   0.0     0.0   \n",
       "1991420                    1489                1312460833   0.0     0.0   \n",
       "2480064                     605                1533869513   0.0     0.0   \n",
       "2499772                     421                1604004966   0.0     0.0   \n",
       "\n",
       "         comment  like  dt_day  dt_dow  dt_hour  len_domains  \n",
       "2087016      0.0   0.0      17       2        2            0  \n",
       "916524       0.0   0.0      22       0       22            0  \n",
       "1991420      0.0   1.0      16       1        7            1  \n",
       "2480064      0.0   1.0      20       5       16            0  \n",
       "2499772      0.0   1.0       7       6        8            0  \n",
       "\n",
       "[5 rows x 25 columns]"
      ],
      "text/html": "<div>\n<style scoped>\n    .dataframe tbody tr th:only-of-type {\n        vertical-align: middle;\n    }\n\n    .dataframe tbody tr th {\n        vertical-align: top;\n    }\n\n    .dataframe thead th {\n        text-align: right;\n    }\n</style>\n<table border=\"1\" class=\"dataframe\">\n  <thead>\n    <tr style=\"text-align: right;\">\n      <th></th>\n      <th>creator_account_creation</th>\n      <th>language</th>\n      <th>domains</th>\n      <th>media</th>\n      <th>tweet_timestamp</th>\n      <th>creator_following_count</th>\n      <th>creator_is_verified</th>\n      <th>engager_is_verified</th>\n      <th>creator_follows_engager</th>\n      <th>engager_id</th>\n      <th>...</th>\n      <th>engager_follower_count</th>\n      <th>engager_account_creation</th>\n      <th>reply</th>\n      <th>retweet</th>\n      <th>comment</th>\n      <th>like</th>\n      <th>dt_day</th>\n      <th>dt_dow</th>\n      <th>dt_hour</th>\n      <th>len_domains</th>\n    </tr>\n  </thead>\n  <tbody>\n    <tr>\n      <th>2087016</th>\n      <td>1318812505</td>\n      <td>48</td>\n      <td>0</td>\n      <td>0</td>\n      <td>1613528200</td>\n      <td>980</td>\n      <td>1</td>\n      <td>0</td>\n      <td>0</td>\n      <td>7EE3FC514DCFBF06DE7B7BB57D9A5B0C</td>\n      <td>...</td>\n      <td>303</td>\n      <td>1546889781</td>\n      <td>0.0</td>\n      <td>0.0</td>\n      <td>0.0</td>\n      <td>0.0</td>\n      <td>17</td>\n      <td>2</td>\n      <td>2</td>\n      <td>0</td>\n    </tr>\n    <tr>\n      <th>916524</th>\n      <td>1590639554</td>\n      <td>61</td>\n      <td>0</td>\n      <td>5</td>\n      <td>1614034698</td>\n      <td>2</td>\n      <td>0</td>\n      <td>0</td>\n      <td>0</td>\n      <td>624F225193E570755616B5C05F44E272</td>\n      <td>...</td>\n      <td>710</td>\n      <td>1514986142</td>\n      <td>0.0</td>\n      <td>0.0</td>\n      <td>0.0</td>\n      <td>0.0</td>\n      <td>22</td>\n      <td>0</td>\n      <td>22</td>\n      <td>0</td>\n    </tr>\n    <tr>\n      <th>1991420</th>\n      <td>1255467536</td>\n      <td>19</td>\n      <td>36997</td>\n      <td>5</td>\n      <td>1613460600</td>\n      <td>1099</td>\n      <td>0</td>\n      <td>0</td>\n      <td>0</td>\n      <td>AA86569F79C74848D865AA06A4DF08C9</td>\n      <td>...</td>\n      <td>1489</td>\n      <td>1312460833</td>\n      <td>0.0</td>\n      <td>0.0</td>\n      <td>0.0</td>\n      <td>1.0</td>\n      <td>16</td>\n      <td>1</td>\n      <td>7</td>\n      <td>1</td>\n    </tr>\n    <tr>\n      <th>2480064</th>\n      <td>1544756582</td>\n      <td>19</td>\n      <td>0</td>\n      <td>0</td>\n      <td>1613838251</td>\n      <td>2263</td>\n      <td>0</td>\n      <td>0</td>\n      <td>0</td>\n      <td>D013A4E43CF327A186EEA1C16B9D1026</td>\n      <td>...</td>\n      <td>605</td>\n      <td>1533869513</td>\n      <td>0.0</td>\n      <td>0.0</td>\n      <td>0.0</td>\n      <td>1.0</td>\n      <td>20</td>\n      <td>5</td>\n      <td>16</td>\n      <td>0</td>\n    </tr>\n    <tr>\n      <th>2499772</th>\n      <td>1600525024</td>\n      <td>5</td>\n      <td>0</td>\n      <td>0</td>\n      <td>1612687821</td>\n      <td>2404</td>\n      <td>0</td>\n      <td>0</td>\n      <td>1</td>\n      <td>2E1E278C17EF81300B13E5129CF84706</td>\n      <td>...</td>\n      <td>421</td>\n      <td>1604004966</td>\n      <td>0.0</td>\n      <td>0.0</td>\n      <td>0.0</td>\n      <td>1.0</td>\n      <td>7</td>\n      <td>6</td>\n      <td>8</td>\n      <td>0</td>\n    </tr>\n  </tbody>\n</table>\n<p>5 rows × 25 columns</p>\n</div>"
     },
     "metadata": {},
     "execution_count": 13
    }
   ],
   "source": [
    "train.head()"
   ]
  },
  {
   "cell_type": "markdown",
   "id": "6bc48084",
   "metadata": {},
   "source": [
    "## Modeling"
   ]
  },
  {
   "cell_type": "code",
   "execution_count": 14,
   "id": "1aed32e5",
   "metadata": {},
   "outputs": [
    {
     "output_type": "stream",
     "name": "stdout",
     "text": [
      "<class 'pandas.core.frame.DataFrame'>\nInt64Index: 2415176 entries, 2087016 to 2202721\nData columns (total 25 columns):\n #   Column                    Dtype  \n---  ------                    -----  \n 0   creator_account_creation  int32  \n 1   language                  uint8  \n 2   domains                   int32  \n 3   media                     uint8  \n 4   tweet_timestamp           int32  \n 5   creator_following_count   int32  \n 6   creator_is_verified       int8   \n 7   engager_is_verified       int8   \n 8   creator_follows_engager   int8   \n 9   engager_id                object \n 10  engager_following_count   int32  \n 11  creator_follower_count    int32  \n 12  tweet_id                  object \n 13  creator_id                object \n 14  tweet_type                uint8  \n 15  engager_follower_count    int32  \n 16  engager_account_creation  int32  \n 17  reply                     float32\n 18  retweet                   float32\n 19  comment                   float32\n 20  like                      float32\n 21  dt_day                    int8   \n 22  dt_dow                    int8   \n 23  dt_hour                   int8   \n 24  len_domains               int64  \ndtypes: float32(4), int32(8), int64(1), int8(6), object(3), uint8(3)\nmemory usage: 223.4+ MB\n"
     ]
    }
   ],
   "source": [
    "train.info()"
   ]
  },
  {
   "cell_type": "code",
   "execution_count": 15,
   "id": "7c5149bc",
   "metadata": {},
   "outputs": [],
   "source": [
    "label_names = ['reply', 'retweet', 'comment']\n",
    "DONT_USE = ['engager_account_creation','engage_time',\n",
    "            'engager_account_creation',\n",
    "            'fold','tweet_id', \n",
    "            'tr','dt_day','','',\n",
    "            'engager_id','engager_is_verified',\n",
    "            'elapsed_time',\n",
    "            'links','domains','hashtags0','hashtags1',\n",
    "            'hashtags','tweet_hash','dt_second','id',\n",
    "            'tw_hash0',\n",
    "            'tw_hash1',\n",
    "            'tw_rt_uhash',\n",
    "            'same_language', 'nan_language',\n",
    "            'tw_hash', 'tw_freq_hash','tw_first_word', 'tw_second_word', 'tw_last_word', 'tw_llast_word',\n",
    "            'ypred','creator_count_combined','creator_user_fer_count_delta_time','creator_user_fing_count_delta_time','creator_user_fering_count_delta_time','creator_user_fing_count_mode','creator_user_fer_count_mode','creator_user_fering_count_mode'\n",
    "           ]\n",
    "DONT_USE += label_names\n",
    "DONT_USE += conf.labels\n"
   ]
  },
  {
   "cell_type": "code",
   "execution_count": 16,
   "id": "e09d4e03",
   "metadata": {},
   "outputs": [],
   "source": [
    "RMV = [c for c in DONT_USE if c in train.columns]"
   ]
  },
  {
   "cell_type": "markdown",
   "id": "5f050d21",
   "metadata": {},
   "source": [
    "### Data Split"
   ]
  },
  {
   "cell_type": "code",
   "execution_count": 17,
   "id": "cde3b3b6",
   "metadata": {},
   "outputs": [],
   "source": [
    "#y_train = train[TARGET]\n",
    "train = train.drop(RMV, axis=1)"
   ]
  },
  {
   "cell_type": "code",
   "execution_count": 18,
   "id": "025c5bbc",
   "metadata": {},
   "outputs": [],
   "source": [
    "train, val = train_test_split(train, test_size=0.2)"
   ]
  },
  {
   "cell_type": "code",
   "execution_count": 19,
   "id": "799bda52",
   "metadata": {},
   "outputs": [],
   "source": [
    "test = test.drop(RMV, axis=1)"
   ]
  },
  {
   "cell_type": "markdown",
   "id": "e02fdc47",
   "metadata": {},
   "source": [
    "### Scaling"
   ]
  },
  {
   "cell_type": "code",
   "execution_count": 21,
   "id": "4b4ba09f",
   "metadata": {},
   "outputs": [],
   "source": [
    "columns = ['tweet_timestamp', 'creator_account_creation', 'engager_follower_count', 'engager_following_count', 'creator_follower_count', 'creator_following_count']"
   ]
  },
  {
   "cell_type": "code",
   "execution_count": 22,
   "id": "791a6499",
   "metadata": {},
   "outputs": [],
   "source": [
    "train = train.reset_index(drop=True)\n",
    "test = test.reset_index(drop=True)\n",
    "val = val.reset_index(drop=True)"
   ]
  },
  {
   "cell_type": "code",
   "execution_count": 23,
   "id": "9b6bdadf",
   "metadata": {},
   "outputs": [
    {
     "output_type": "execute_result",
     "data": {
      "text/plain": [
       "StandardScaler()"
      ]
     },
     "metadata": {},
     "execution_count": 23
    }
   ],
   "source": [
    "standard_scaler = preprocessing.StandardScaler()\n",
    "standard_scaler.fit(train[columns])"
   ]
  },
  {
   "cell_type": "code",
   "execution_count": 24,
   "id": "ae4d1804",
   "metadata": {},
   "outputs": [],
   "source": [
    "ss = standard_scaler.transform(train[columns])"
   ]
  },
  {
   "cell_type": "code",
   "execution_count": 25,
   "id": "634f7510",
   "metadata": {},
   "outputs": [],
   "source": [
    "std_std = pd.DataFrame(ss, columns=columns)"
   ]
  },
  {
   "cell_type": "code",
   "execution_count": 26,
   "id": "845acabf",
   "metadata": {},
   "outputs": [],
   "source": [
    "train[columns] = std_std"
   ]
  },
  {
   "cell_type": "code",
   "execution_count": 27,
   "id": "f494a150",
   "metadata": {},
   "outputs": [],
   "source": [
    "ss = standard_scaler.transform(val[columns])\n",
    "std_val = pd.DataFrame(ss, columns = columns)"
   ]
  },
  {
   "cell_type": "code",
   "execution_count": 28,
   "id": "ffb7558b",
   "metadata": {},
   "outputs": [],
   "source": [
    "val[columns] = std_val"
   ]
  },
  {
   "cell_type": "code",
   "execution_count": 29,
   "id": "7cde1545",
   "metadata": {},
   "outputs": [],
   "source": [
    "ss = standard_scaler.transform(test[columns])\n",
    "std_test = pd.DataFrame(ss, columns = columns)"
   ]
  },
  {
   "cell_type": "code",
   "execution_count": 30,
   "id": "e1e5f4a7",
   "metadata": {},
   "outputs": [],
   "source": [
    "test[columns] = std_test"
   ]
  },
  {
   "cell_type": "code",
   "execution_count": 31,
   "id": "a8ffe516",
   "metadata": {},
   "outputs": [
    {
     "output_type": "execute_result",
     "data": {
      "text/plain": [
       "         creator_account_creation  language  media  tweet_timestamp  \\\n",
       "0                        1.090249        61      5         0.885894   \n",
       "1                       -1.056279        61      7        -0.378143   \n",
       "2                       -1.568890        19      0        -1.584100   \n",
       "3                        0.834229        10      7         1.707079   \n",
       "4                        0.748684        61      0         0.403469   \n",
       "...                           ...       ...    ...              ...   \n",
       "1932135                 -0.328824        48      0         1.710317   \n",
       "1932136                  1.314536        19      7         0.694714   \n",
       "1932137                  0.434281        19      5         1.369517   \n",
       "1932138                  0.434189        19      0        -0.026905   \n",
       "1932139                  0.903946        19      5         1.214612   \n",
       "\n",
       "         creator_following_count  creator_is_verified  \\\n",
       "0                      -0.111964                    0   \n",
       "1                      -0.060161                    1   \n",
       "2                       2.359310                    1   \n",
       "3                      -0.073973                    0   \n",
       "4                      -0.073458                    0   \n",
       "...                          ...                  ...   \n",
       "1932135                -0.089266                    0   \n",
       "1932136                -0.078996                    0   \n",
       "1932137                -0.101500                    0   \n",
       "1932138                -0.107231                    0   \n",
       "1932139                -0.107457                    0   \n",
       "\n",
       "         creator_follows_engager  engager_following_count  \\\n",
       "0                              1                -0.433049   \n",
       "1                              0                -0.250481   \n",
       "2                              0                 0.556351   \n",
       "3                              1                -0.005748   \n",
       "4                              1                -0.395750   \n",
       "...                          ...                      ...   \n",
       "1932135                        0                -0.169339   \n",
       "1932136                        1                -0.228887   \n",
       "1932137                        0                -0.351253   \n",
       "1932138                        0                -0.293669   \n",
       "1932139                        0                -0.357797   \n",
       "\n",
       "         creator_follower_count                        creator_id  tweet_type  \\\n",
       "0                     -0.166962  6492C3DB5903B3E289ECA2424D308F4E           2   \n",
       "1                      0.020252  EF632E3527BC7EBFA6E513B8A82B1443           2   \n",
       "2                     -0.013867  7BBE7EE278DE55A1005BA935C3FF56AE           2   \n",
       "3                     -0.166703  9DA5BCFE8503BEA5673746A35C306637           1   \n",
       "4                     -0.166680  6E85EEBA2D8DA6351D199AF569031FD1           2   \n",
       "...                         ...                               ...         ...   \n",
       "1932135               -0.165734  9415F3F24D609656D43D3976FA65E78B           1   \n",
       "1932136               -0.166696  93A9487860C89EF42DEEA8C1D12968AF           2   \n",
       "1932137               -0.148274  E5887DD8EB93ED0C1AE52F558F733509           2   \n",
       "1932138               -0.150842  CA5BC22E1EDF04860E88236998703C48           2   \n",
       "1932139               -0.115103  93F1FAFE3909BCE8090C2BC4EE1643E0           1   \n",
       "\n",
       "         engager_follower_count  like  dt_dow  dt_hour  len_domains  \n",
       "0                     -0.078041   1.0       4       21            0  \n",
       "1                     -0.077334   0.0       4        5            0  \n",
       "2                      0.006627   0.0       3       22            0  \n",
       "3                     -0.033787   1.0       2       20            0  \n",
       "4                     -0.068241   0.0       1       23            0  \n",
       "...                         ...   ...     ...      ...          ...  \n",
       "1932135               -0.047427   1.0       2       21            0  \n",
       "1932136               -0.040961   1.0       3       17            0  \n",
       "1932137               -0.077233   1.0       0       19            0  \n",
       "1932138               -0.077536   0.0       6        8            1  \n",
       "1932139               -0.074202   0.0       6       21            0  \n",
       "\n",
       "[1932140 rows x 16 columns]"
      ],
      "text/html": "<div>\n<style scoped>\n    .dataframe tbody tr th:only-of-type {\n        vertical-align: middle;\n    }\n\n    .dataframe tbody tr th {\n        vertical-align: top;\n    }\n\n    .dataframe thead th {\n        text-align: right;\n    }\n</style>\n<table border=\"1\" class=\"dataframe\">\n  <thead>\n    <tr style=\"text-align: right;\">\n      <th></th>\n      <th>creator_account_creation</th>\n      <th>language</th>\n      <th>media</th>\n      <th>tweet_timestamp</th>\n      <th>creator_following_count</th>\n      <th>creator_is_verified</th>\n      <th>creator_follows_engager</th>\n      <th>engager_following_count</th>\n      <th>creator_follower_count</th>\n      <th>creator_id</th>\n      <th>tweet_type</th>\n      <th>engager_follower_count</th>\n      <th>like</th>\n      <th>dt_dow</th>\n      <th>dt_hour</th>\n      <th>len_domains</th>\n    </tr>\n  </thead>\n  <tbody>\n    <tr>\n      <th>0</th>\n      <td>1.090249</td>\n      <td>61</td>\n      <td>5</td>\n      <td>0.885894</td>\n      <td>-0.111964</td>\n      <td>0</td>\n      <td>1</td>\n      <td>-0.433049</td>\n      <td>-0.166962</td>\n      <td>6492C3DB5903B3E289ECA2424D308F4E</td>\n      <td>2</td>\n      <td>-0.078041</td>\n      <td>1.0</td>\n      <td>4</td>\n      <td>21</td>\n      <td>0</td>\n    </tr>\n    <tr>\n      <th>1</th>\n      <td>-1.056279</td>\n      <td>61</td>\n      <td>7</td>\n      <td>-0.378143</td>\n      <td>-0.060161</td>\n      <td>1</td>\n      <td>0</td>\n      <td>-0.250481</td>\n      <td>0.020252</td>\n      <td>EF632E3527BC7EBFA6E513B8A82B1443</td>\n      <td>2</td>\n      <td>-0.077334</td>\n      <td>0.0</td>\n      <td>4</td>\n      <td>5</td>\n      <td>0</td>\n    </tr>\n    <tr>\n      <th>2</th>\n      <td>-1.568890</td>\n      <td>19</td>\n      <td>0</td>\n      <td>-1.584100</td>\n      <td>2.359310</td>\n      <td>1</td>\n      <td>0</td>\n      <td>0.556351</td>\n      <td>-0.013867</td>\n      <td>7BBE7EE278DE55A1005BA935C3FF56AE</td>\n      <td>2</td>\n      <td>0.006627</td>\n      <td>0.0</td>\n      <td>3</td>\n      <td>22</td>\n      <td>0</td>\n    </tr>\n    <tr>\n      <th>3</th>\n      <td>0.834229</td>\n      <td>10</td>\n      <td>7</td>\n      <td>1.707079</td>\n      <td>-0.073973</td>\n      <td>0</td>\n      <td>1</td>\n      <td>-0.005748</td>\n      <td>-0.166703</td>\n      <td>9DA5BCFE8503BEA5673746A35C306637</td>\n      <td>1</td>\n      <td>-0.033787</td>\n      <td>1.0</td>\n      <td>2</td>\n      <td>20</td>\n      <td>0</td>\n    </tr>\n    <tr>\n      <th>4</th>\n      <td>0.748684</td>\n      <td>61</td>\n      <td>0</td>\n      <td>0.403469</td>\n      <td>-0.073458</td>\n      <td>0</td>\n      <td>1</td>\n      <td>-0.395750</td>\n      <td>-0.166680</td>\n      <td>6E85EEBA2D8DA6351D199AF569031FD1</td>\n      <td>2</td>\n      <td>-0.068241</td>\n      <td>0.0</td>\n      <td>1</td>\n      <td>23</td>\n      <td>0</td>\n    </tr>\n    <tr>\n      <th>...</th>\n      <td>...</td>\n      <td>...</td>\n      <td>...</td>\n      <td>...</td>\n      <td>...</td>\n      <td>...</td>\n      <td>...</td>\n      <td>...</td>\n      <td>...</td>\n      <td>...</td>\n      <td>...</td>\n      <td>...</td>\n      <td>...</td>\n      <td>...</td>\n      <td>...</td>\n      <td>...</td>\n    </tr>\n    <tr>\n      <th>1932135</th>\n      <td>-0.328824</td>\n      <td>48</td>\n      <td>0</td>\n      <td>1.710317</td>\n      <td>-0.089266</td>\n      <td>0</td>\n      <td>0</td>\n      <td>-0.169339</td>\n      <td>-0.165734</td>\n      <td>9415F3F24D609656D43D3976FA65E78B</td>\n      <td>1</td>\n      <td>-0.047427</td>\n      <td>1.0</td>\n      <td>2</td>\n      <td>21</td>\n      <td>0</td>\n    </tr>\n    <tr>\n      <th>1932136</th>\n      <td>1.314536</td>\n      <td>19</td>\n      <td>7</td>\n      <td>0.694714</td>\n      <td>-0.078996</td>\n      <td>0</td>\n      <td>1</td>\n      <td>-0.228887</td>\n      <td>-0.166696</td>\n      <td>93A9487860C89EF42DEEA8C1D12968AF</td>\n      <td>2</td>\n      <td>-0.040961</td>\n      <td>1.0</td>\n      <td>3</td>\n      <td>17</td>\n      <td>0</td>\n    </tr>\n    <tr>\n      <th>1932137</th>\n      <td>0.434281</td>\n      <td>19</td>\n      <td>5</td>\n      <td>1.369517</td>\n      <td>-0.101500</td>\n      <td>0</td>\n      <td>0</td>\n      <td>-0.351253</td>\n      <td>-0.148274</td>\n      <td>E5887DD8EB93ED0C1AE52F558F733509</td>\n      <td>2</td>\n      <td>-0.077233</td>\n      <td>1.0</td>\n      <td>0</td>\n      <td>19</td>\n      <td>0</td>\n    </tr>\n    <tr>\n      <th>1932138</th>\n      <td>0.434189</td>\n      <td>19</td>\n      <td>0</td>\n      <td>-0.026905</td>\n      <td>-0.107231</td>\n      <td>0</td>\n      <td>0</td>\n      <td>-0.293669</td>\n      <td>-0.150842</td>\n      <td>CA5BC22E1EDF04860E88236998703C48</td>\n      <td>2</td>\n      <td>-0.077536</td>\n      <td>0.0</td>\n      <td>6</td>\n      <td>8</td>\n      <td>1</td>\n    </tr>\n    <tr>\n      <th>1932139</th>\n      <td>0.903946</td>\n      <td>19</td>\n      <td>5</td>\n      <td>1.214612</td>\n      <td>-0.107457</td>\n      <td>0</td>\n      <td>0</td>\n      <td>-0.357797</td>\n      <td>-0.115103</td>\n      <td>93F1FAFE3909BCE8090C2BC4EE1643E0</td>\n      <td>1</td>\n      <td>-0.074202</td>\n      <td>0.0</td>\n      <td>6</td>\n      <td>21</td>\n      <td>0</td>\n    </tr>\n  </tbody>\n</table>\n<p>1932140 rows × 16 columns</p>\n</div>"
     },
     "metadata": {},
     "execution_count": 31
    }
   ],
   "source": [
    "train"
   ]
  },
  {
   "cell_type": "markdown",
   "id": "6ab3e4bc",
   "metadata": {},
   "source": [
    "### Model"
   ]
  },
  {
   "cell_type": "code",
   "execution_count": 32,
   "id": "253559ea",
   "metadata": {},
   "outputs": [],
   "source": [
    "def get_quantile_based_boundaries(feature_values, num_buckets):\n",
    "    boundaries = np.arange(1.0, num_buckets) / num_buckets\n",
    "    quantiles = feature_values.quantile(boundaries)\n",
    "    return sorted([quantiles[q] for q in quantiles.keys()])"
   ]
  },
  {
   "cell_type": "code",
   "execution_count": 33,
   "id": "e53eef85",
   "metadata": {},
   "outputs": [],
   "source": [
    "def construct_feature_columns():\n",
    "    feature_columns = [] # 변형 데이터???\n",
    "    feature_layer_inputs={} # 원본 input 데이터????\n",
    "    \n",
    "    creator_follower_count = tf.feature_column.numeric_column(\"creator_follower_count\")\n",
    "    creator_account_creation = tf.feature_column.numeric_column(\"creator_account_creation\")\n",
    "    language = tf.feature_column.numeric_column(\"language\")\n",
    "    tweet_type = tf.feature_column.numeric_column(\"tweet_type\")\n",
    "    media = tf.feature_column.numeric_column(\"media\")\n",
    "    creator_is_verified = tf.feature_column.numeric_column(\"creator_is_verified\")\n",
    "    creator_follows_engager = tf.feature_column.numeric_column(\"creator_follows_engager\")\n",
    "    \n",
    "    for header in ['language', 'creator_account_creation', 'creator_following_count', 'creator_follower_count', 'engager_following_count', \n",
    "                   'engager_follower_count', 'media', 'tweet_type', 'creator_is_verified', 'creator_follows_engager', 'dt_dow', 'dt_hour', 'len_domains']:\n",
    "        feature_columns.append(tf.feature_column.numeric_column(header))\n",
    "        feature_layer_inputs[header] = tf.keras.Input(shape=(1,), name=header)\n",
    "    \n",
    "    # creator_id = tf.feature_column.embedding_column('creator_id', dimension=8)\n",
    "\n",
    "    bucketized_creator_follower_count = tf.feature_column.bucketized_column(\n",
    "        creator_follower_count, boundaries=get_quantile_based_boundaries(\n",
    "            train[\"creator_follower_count\"], 10))\n",
    "    feature_columns.append(bucketized_creator_follower_count)\n",
    "    \n",
    "    bucketized_creator_account_creation = tf.feature_column.bucketized_column(\n",
    "        creator_account_creation, boundaries=get_quantile_based_boundaries(\n",
    "            train[\"creator_account_creation\"], 10))\n",
    "    feature_columns.append(bucketized_creator_account_creation)\n",
    "    \n",
    "    creator_follower_x_account = tf.feature_column.crossed_column(\n",
    "        set([bucketized_creator_follower_count, bucketized_creator_account_creation]), hash_bucket_size=1000)\n",
    "    creator_follower_x_account = tf.feature_column.indicator_column(creator_follower_x_account)\n",
    "    feature_columns.append(creator_follower_x_account)\n",
    "    \n",
    "    language_x_tweet_type_x_media = tf.feature_column.crossed_column(\n",
    "        set([\"language\", \"tweet_type\", \"media\"]), hash_bucket_size=10000)\n",
    "    language_x_tweet_type_x_media = tf.feature_column.indicator_column(language_x_tweet_type_x_media)\n",
    "    feature_columns.append(language_x_tweet_type_x_media)\n",
    "    \n",
    "    language_x_tweet_type = tf.feature_column.crossed_column(\n",
    "        set([\"language\", \"tweet_type\"]), hash_bucket_size=1000)\n",
    "    language_x_tweet_type = tf.feature_column.indicator_column(language_x_tweet_type)\n",
    "    feature_columns.append(language_x_tweet_type)\n",
    "    \n",
    "    language_x_media = tf.feature_column.crossed_column(\n",
    "        set([\"language\", \"media\"]), hash_bucket_size=1000)\n",
    "    language_x_media = tf.feature_column.indicator_column(language_x_media)\n",
    "    feature_columns.append(language_x_media)\n",
    "    \n",
    "    language_x_media_x_tweet_type_x_creator_is_verified_x_creator_follows_engager = tf.feature_column.crossed_column(\n",
    "        set([\"language\", \"media\", \"tweet_type\", \"creator_is_verified\", 'creator_follows_engager']), hash_bucket_size=10000)\n",
    "    language_x_media_x_tweet_type_x_creator_is_verified_x_creator_follows_engager = tf.feature_column.indicator_column(language_x_media_x_tweet_type_x_creator_is_verified_x_creator_follows_engager)\n",
    "    feature_columns.append(language_x_media_x_tweet_type_x_creator_is_verified_x_creator_follows_engager)\n",
    "    \n",
    "    \n",
    "    #feature_layer_inputs['bucketized_creator_account_creation'] = tf.keras.Input(shape=(1,), name='bucketized_creator_account_creation')\n",
    "\n",
    "    #feature_layer_inputs['creator_follower_x_account'] = tf.keras.Input(shape=(1,), name='creator_follower_x_account')\n",
    "    \n",
    "    return feature_columns, feature_layer_inputs"
   ]
  },
  {
   "cell_type": "code",
   "execution_count": 34,
   "id": "a56a455f",
   "metadata": {},
   "outputs": [],
   "source": [
    "def df_to_dataset(dataframe, shuffle=True, batch_size=32):\n",
    "    dataframe = dataframe.copy()\n",
    "    labels = dataframe.pop('like')\n",
    "    ds = tf.data.Dataset.from_tensor_slices((dict(dataframe), labels))\n",
    "    if shuffle:\n",
    "        ds = ds.shuffle(buffer_size=len(dataframe))\n",
    "    ds = ds.batch(batch_size, drop_remainder=True)\n",
    "    return ds"
   ]
  },
  {
   "cell_type": "code",
   "execution_count": 35,
   "id": "94ca07fe",
   "metadata": {},
   "outputs": [],
   "source": [
    "ds_train = df_to_dataset(train)\n",
    "ds_val = df_to_dataset(val, shuffle=False)\n",
    "ds_test = df_to_dataset(test, shuffle=False)"
   ]
  },
  {
   "cell_type": "code",
   "execution_count": 36,
   "id": "5c843683",
   "metadata": {
    "scrolled": false
   },
   "outputs": [],
   "source": [
    "feature_columns, feature_layer_inputs = construct_feature_columns()"
   ]
  },
  {
   "cell_type": "code",
   "execution_count": 37,
   "id": "2c0b8567",
   "metadata": {},
   "outputs": [],
   "source": [
    "feature_layer = tf.keras.layers.DenseFeatures(feature_columns)"
   ]
  },
  {
   "cell_type": "code",
   "execution_count": 38,
   "id": "31acb2f1",
   "metadata": {},
   "outputs": [],
   "source": [
    "feature_layer_output = feature_layer(feature_layer_inputs)"
   ]
  },
  {
   "cell_type": "code",
   "execution_count": 39,
   "id": "b9924098",
   "metadata": {},
   "outputs": [],
   "source": [
    "input = [v for v in feature_layer_inputs.values()]"
   ]
  },
  {
   "cell_type": "code",
   "execution_count": 40,
   "id": "f00b2080",
   "metadata": {},
   "outputs": [],
   "source": [
    "x = Dense(16, activation=\"relu\")(feature_layer_output)\n",
    "x = Dense(8, activation=\"relu\")(x)\n",
    "x = Dense(4, activation=\"relu\")(x)\n",
    "outputs = Dense(1, activation=\"sigmoid\")(x)"
   ]
  },
  {
   "cell_type": "code",
   "execution_count": 41,
   "id": "2b8c4fd5",
   "metadata": {},
   "outputs": [],
   "source": [
    "model = tf.keras.Model(inputs=input, outputs=outputs, name=\"sequential_model\")"
   ]
  },
  {
   "cell_type": "code",
   "execution_count": 42,
   "id": "8684147a",
   "metadata": {},
   "outputs": [],
   "source": [
    "model.compile(\n",
    "    optimizer = 'adam',\n",
    "    loss = 'binary_crossentropy', # softmax : sparse_categorical_crossentropy, sigmoid : binary_crossentropy\n",
    "    metrics=['binary_crossentropy']) # sigmoid :binary_crossentropy"
   ]
  },
  {
   "cell_type": "code",
   "execution_count": 43,
   "id": "2d4ba549",
   "metadata": {},
   "outputs": [
    {
     "output_type": "execute_result",
     "data": {
      "text/plain": [
       "<BatchDataset shapes: ({creator_account_creation: (32,), language: (32,), media: (32,), tweet_timestamp: (32,), creator_following_count: (32,), creator_is_verified: (32,), creator_follows_engager: (32,), engager_following_count: (32,), creator_follower_count: (32,), creator_id: (32,), tweet_type: (32,), engager_follower_count: (32,), dt_dow: (32,), dt_hour: (32,), len_domains: (32,)}, (32,)), types: ({creator_account_creation: tf.float64, language: tf.uint8, media: tf.uint8, tweet_timestamp: tf.float64, creator_following_count: tf.float64, creator_is_verified: tf.int8, creator_follows_engager: tf.int8, engager_following_count: tf.float64, creator_follower_count: tf.float64, creator_id: tf.string, tweet_type: tf.uint8, engager_follower_count: tf.float64, dt_dow: tf.int8, dt_hour: tf.int8, len_domains: tf.int64}, tf.float32)>"
      ]
     },
     "metadata": {},
     "execution_count": 43
    }
   ],
   "source": [
    "ds_train"
   ]
  },
  {
   "cell_type": "code",
   "execution_count": 44,
   "id": "958f3aac",
   "metadata": {},
   "outputs": [
    {
     "output_type": "stream",
     "name": "stdout",
     "text": [
      "Model: \"sequential_model\"\n__________________________________________________________________________________________________\nLayer (type)                    Output Shape         Param #     Connected to                     \n==================================================================================================\ncreator_account_creation (Input [(None, 1)]          0                                            \n__________________________________________________________________________________________________\ncreator_follower_count (InputLa [(None, 1)]          0                                            \n__________________________________________________________________________________________________\ncreator_following_count (InputL [(None, 1)]          0                                            \n__________________________________________________________________________________________________\ncreator_follows_engager (InputL [(None, 1)]          0                                            \n__________________________________________________________________________________________________\ncreator_is_verified (InputLayer [(None, 1)]          0                                            \n__________________________________________________________________________________________________\ndt_dow (InputLayer)             [(None, 1)]          0                                            \n__________________________________________________________________________________________________\ndt_hour (InputLayer)            [(None, 1)]          0                                            \n__________________________________________________________________________________________________\nengager_follower_count (InputLa [(None, 1)]          0                                            \n__________________________________________________________________________________________________\nengager_following_count (InputL [(None, 1)]          0                                            \n__________________________________________________________________________________________________\nlanguage (InputLayer)           [(None, 1)]          0                                            \n__________________________________________________________________________________________________\nlen_domains (InputLayer)        [(None, 1)]          0                                            \n__________________________________________________________________________________________________\nmedia (InputLayer)              [(None, 1)]          0                                            \n__________________________________________________________________________________________________\ntweet_type (InputLayer)         [(None, 1)]          0                                            \n__________________________________________________________________________________________________\ndense_features (DenseFeatures)  (None, 23033)        0           creator_account_creation[0][0]   \n                                                                 creator_follower_count[0][0]     \n                                                                 creator_following_count[0][0]    \n                                                                 creator_follows_engager[0][0]    \n                                                                 creator_is_verified[0][0]        \n                                                                 dt_dow[0][0]                     \n                                                                 dt_hour[0][0]                    \n                                                                 engager_follower_count[0][0]     \n                                                                 engager_following_count[0][0]    \n                                                                 language[0][0]                   \n                                                                 len_domains[0][0]                \n                                                                 media[0][0]                      \n                                                                 tweet_type[0][0]                 \n__________________________________________________________________________________________________\ndense (Dense)                   (None, 16)           368544      dense_features[0][0]             \n__________________________________________________________________________________________________\ndense_1 (Dense)                 (None, 8)            136         dense[0][0]                      \n__________________________________________________________________________________________________\ndense_2 (Dense)                 (None, 4)            36          dense_1[0][0]                    \n__________________________________________________________________________________________________\ndense_3 (Dense)                 (None, 1)            5           dense_2[0][0]                    \n==================================================================================================\nTotal params: 368,721\nTrainable params: 368,721\nNon-trainable params: 0\n__________________________________________________________________________________________________\n"
     ]
    }
   ],
   "source": [
    "model.summary()"
   ]
  },
  {
   "cell_type": "code",
   "execution_count": 45,
   "id": "ad59db0c",
   "metadata": {},
   "outputs": [
    {
     "output_type": "execute_result",
     "data": {
      "text/plain": [
       "<BatchDataset shapes: ({creator_account_creation: (32,), language: (32,), media: (32,), tweet_timestamp: (32,), creator_following_count: (32,), creator_is_verified: (32,), creator_follows_engager: (32,), engager_following_count: (32,), creator_follower_count: (32,), creator_id: (32,), tweet_type: (32,), engager_follower_count: (32,), dt_dow: (32,), dt_hour: (32,), len_domains: (32,)}, (32,)), types: ({creator_account_creation: tf.float64, language: tf.uint8, media: tf.uint8, tweet_timestamp: tf.float64, creator_following_count: tf.float64, creator_is_verified: tf.int8, creator_follows_engager: tf.int8, engager_following_count: tf.float64, creator_follower_count: tf.float64, creator_id: tf.string, tweet_type: tf.uint8, engager_follower_count: tf.float64, dt_dow: tf.int8, dt_hour: tf.int8, len_domains: tf.int64}, tf.float32)>"
      ]
     },
     "metadata": {},
     "execution_count": 45
    }
   ],
   "source": [
    "ds_train"
   ]
  },
  {
   "cell_type": "code",
   "execution_count": 46,
   "id": "5269b499",
   "metadata": {},
   "outputs": [
    {
     "output_type": "stream",
     "name": "stdout",
     "text": [
      "Epoch 1/5\n",
      "/home/hyez/anaconda3/envs/dask-cudf/lib/python3.7/site-packages/tensorflow/python/keras/engine/functional.py:595: UserWarning: Input dict contained keys ['tweet_timestamp', 'creator_id'] which did not match any model input. They will be ignored by the model.\n",
      "  [n for n in tensors.keys() if n not in ref_input_names])\n",
      "60379/60379 [==============================] - 123s 2ms/step - loss: 0.6446 - binary_crossentropy: 0.6446\n",
      "Epoch 2/5\n",
      "60379/60379 [==============================] - 115s 2ms/step - loss: 0.6376 - binary_crossentropy: 0.6376\n",
      "Epoch 3/5\n",
      "60379/60379 [==============================] - 127s 2ms/step - loss: 0.6364 - binary_crossentropy: 0.6364\n",
      "Epoch 4/5\n",
      "60379/60379 [==============================] - 129s 2ms/step - loss: 0.6361 - binary_crossentropy: 0.6361\n",
      "Epoch 5/5\n",
      "60379/60379 [==============================] - 129s 2ms/step - loss: 0.6354 - binary_crossentropy: 0.6354\n"
     ]
    }
   ],
   "source": [
    "history = model.fit(ds_train, epochs=5) # batch_size=32"
   ]
  },
  {
   "cell_type": "code",
   "execution_count": 47,
   "id": "bbe93200",
   "metadata": {},
   "outputs": [
    {
     "output_type": "display_data",
     "data": {
      "text/plain": "<Figure size 432x288 with 1 Axes>",
      "image/svg+xml": "<?xml version=\"1.0\" encoding=\"utf-8\" standalone=\"no\"?>\n<!DOCTYPE svg PUBLIC \"-//W3C//DTD SVG 1.1//EN\"\n  \"http://www.w3.org/Graphics/SVG/1.1/DTD/svg11.dtd\">\n<!-- Created with matplotlib (https://matplotlib.org/) -->\n<svg height=\"277.314375pt\" version=\"1.1\" viewBox=\"0 0 398.50625 277.314375\" width=\"398.50625pt\" xmlns=\"http://www.w3.org/2000/svg\" xmlns:xlink=\"http://www.w3.org/1999/xlink\">\n <metadata>\n  <rdf:RDF xmlns:cc=\"http://creativecommons.org/ns#\" xmlns:dc=\"http://purl.org/dc/elements/1.1/\" xmlns:rdf=\"http://www.w3.org/1999/02/22-rdf-syntax-ns#\">\n   <cc:Work>\n    <dc:type rdf:resource=\"http://purl.org/dc/dcmitype/StillImage\"/>\n    <dc:date>2021-05-20T20:05:33.143946</dc:date>\n    <dc:format>image/svg+xml</dc:format>\n    <dc:creator>\n     <cc:Agent>\n      <dc:title>Matplotlib v3.3.4, https://matplotlib.org/</dc:title>\n     </cc:Agent>\n    </dc:creator>\n   </cc:Work>\n  </rdf:RDF>\n </metadata>\n <defs>\n  <style type=\"text/css\">*{stroke-linecap:butt;stroke-linejoin:round;}</style>\n </defs>\n <g id=\"figure_1\">\n  <g id=\"patch_1\">\n   <path d=\"M 0 277.314375 \nL 398.50625 277.314375 \nL 398.50625 0 \nL 0 0 \nz\n\" style=\"fill:none;\"/>\n  </g>\n  <g id=\"axes_1\">\n   <g id=\"patch_2\">\n    <path d=\"M 56.50625 239.758125 \nL 391.30625 239.758125 \nL 391.30625 22.318125 \nL 56.50625 22.318125 \nz\n\" style=\"fill:#ffffff;\"/>\n   </g>\n   <g id=\"matplotlib.axis_1\">\n    <g id=\"xtick_1\">\n     <g id=\"line2d_1\">\n      <defs>\n       <path d=\"M 0 0 \nL 0 3.5 \n\" id=\"m47e0c513b7\" style=\"stroke:#000000;stroke-width:0.8;\"/>\n      </defs>\n      <g>\n       <use style=\"stroke:#000000;stroke-width:0.8;\" x=\"71.724432\" xlink:href=\"#m47e0c513b7\" y=\"239.758125\"/>\n      </g>\n     </g>\n     <g id=\"text_1\">\n      <!-- 0.0 -->\n      <g transform=\"translate(63.772869 254.356562)scale(0.1 -0.1)\">\n       <defs>\n        <path d=\"M 31.78125 66.40625 \nQ 24.171875 66.40625 20.328125 58.90625 \nQ 16.5 51.421875 16.5 36.375 \nQ 16.5 21.390625 20.328125 13.890625 \nQ 24.171875 6.390625 31.78125 6.390625 \nQ 39.453125 6.390625 43.28125 13.890625 \nQ 47.125 21.390625 47.125 36.375 \nQ 47.125 51.421875 43.28125 58.90625 \nQ 39.453125 66.40625 31.78125 66.40625 \nz\nM 31.78125 74.21875 \nQ 44.046875 74.21875 50.515625 64.515625 \nQ 56.984375 54.828125 56.984375 36.375 \nQ 56.984375 17.96875 50.515625 8.265625 \nQ 44.046875 -1.421875 31.78125 -1.421875 \nQ 19.53125 -1.421875 13.0625 8.265625 \nQ 6.59375 17.96875 6.59375 36.375 \nQ 6.59375 54.828125 13.0625 64.515625 \nQ 19.53125 74.21875 31.78125 74.21875 \nz\n\" id=\"DejaVuSans-48\"/>\n        <path d=\"M 10.6875 12.40625 \nL 21 12.40625 \nL 21 0 \nL 10.6875 0 \nz\n\" id=\"DejaVuSans-46\"/>\n       </defs>\n       <use xlink:href=\"#DejaVuSans-48\"/>\n       <use x=\"63.623047\" xlink:href=\"#DejaVuSans-46\"/>\n       <use x=\"95.410156\" xlink:href=\"#DejaVuSans-48\"/>\n      </g>\n     </g>\n    </g>\n    <g id=\"xtick_2\">\n     <g id=\"line2d_2\">\n      <g>\n       <use style=\"stroke:#000000;stroke-width:0.8;\" x=\"109.769886\" xlink:href=\"#m47e0c513b7\" y=\"239.758125\"/>\n      </g>\n     </g>\n     <g id=\"text_2\">\n      <!-- 0.5 -->\n      <g transform=\"translate(101.818324 254.356562)scale(0.1 -0.1)\">\n       <defs>\n        <path d=\"M 10.796875 72.90625 \nL 49.515625 72.90625 \nL 49.515625 64.59375 \nL 19.828125 64.59375 \nL 19.828125 46.734375 \nQ 21.96875 47.46875 24.109375 47.828125 \nQ 26.265625 48.1875 28.421875 48.1875 \nQ 40.625 48.1875 47.75 41.5 \nQ 54.890625 34.8125 54.890625 23.390625 \nQ 54.890625 11.625 47.5625 5.09375 \nQ 40.234375 -1.421875 26.90625 -1.421875 \nQ 22.3125 -1.421875 17.546875 -0.640625 \nQ 12.796875 0.140625 7.71875 1.703125 \nL 7.71875 11.625 \nQ 12.109375 9.234375 16.796875 8.0625 \nQ 21.484375 6.890625 26.703125 6.890625 \nQ 35.15625 6.890625 40.078125 11.328125 \nQ 45.015625 15.765625 45.015625 23.390625 \nQ 45.015625 31 40.078125 35.4375 \nQ 35.15625 39.890625 26.703125 39.890625 \nQ 22.75 39.890625 18.8125 39.015625 \nQ 14.890625 38.140625 10.796875 36.28125 \nz\n\" id=\"DejaVuSans-53\"/>\n       </defs>\n       <use xlink:href=\"#DejaVuSans-48\"/>\n       <use x=\"63.623047\" xlink:href=\"#DejaVuSans-46\"/>\n       <use x=\"95.410156\" xlink:href=\"#DejaVuSans-53\"/>\n      </g>\n     </g>\n    </g>\n    <g id=\"xtick_3\">\n     <g id=\"line2d_3\">\n      <g>\n       <use style=\"stroke:#000000;stroke-width:0.8;\" x=\"147.815341\" xlink:href=\"#m47e0c513b7\" y=\"239.758125\"/>\n      </g>\n     </g>\n     <g id=\"text_3\">\n      <!-- 1.0 -->\n      <g transform=\"translate(139.863778 254.356562)scale(0.1 -0.1)\">\n       <defs>\n        <path d=\"M 12.40625 8.296875 \nL 28.515625 8.296875 \nL 28.515625 63.921875 \nL 10.984375 60.40625 \nL 10.984375 69.390625 \nL 28.421875 72.90625 \nL 38.28125 72.90625 \nL 38.28125 8.296875 \nL 54.390625 8.296875 \nL 54.390625 0 \nL 12.40625 0 \nz\n\" id=\"DejaVuSans-49\"/>\n       </defs>\n       <use xlink:href=\"#DejaVuSans-49\"/>\n       <use x=\"63.623047\" xlink:href=\"#DejaVuSans-46\"/>\n       <use x=\"95.410156\" xlink:href=\"#DejaVuSans-48\"/>\n      </g>\n     </g>\n    </g>\n    <g id=\"xtick_4\">\n     <g id=\"line2d_4\">\n      <g>\n       <use style=\"stroke:#000000;stroke-width:0.8;\" x=\"185.860795\" xlink:href=\"#m47e0c513b7\" y=\"239.758125\"/>\n      </g>\n     </g>\n     <g id=\"text_4\">\n      <!-- 1.5 -->\n      <g transform=\"translate(177.909233 254.356562)scale(0.1 -0.1)\">\n       <use xlink:href=\"#DejaVuSans-49\"/>\n       <use x=\"63.623047\" xlink:href=\"#DejaVuSans-46\"/>\n       <use x=\"95.410156\" xlink:href=\"#DejaVuSans-53\"/>\n      </g>\n     </g>\n    </g>\n    <g id=\"xtick_5\">\n     <g id=\"line2d_5\">\n      <g>\n       <use style=\"stroke:#000000;stroke-width:0.8;\" x=\"223.90625\" xlink:href=\"#m47e0c513b7\" y=\"239.758125\"/>\n      </g>\n     </g>\n     <g id=\"text_5\">\n      <!-- 2.0 -->\n      <g transform=\"translate(215.954688 254.356562)scale(0.1 -0.1)\">\n       <defs>\n        <path d=\"M 19.1875 8.296875 \nL 53.609375 8.296875 \nL 53.609375 0 \nL 7.328125 0 \nL 7.328125 8.296875 \nQ 12.9375 14.109375 22.625 23.890625 \nQ 32.328125 33.6875 34.8125 36.53125 \nQ 39.546875 41.84375 41.421875 45.53125 \nQ 43.3125 49.21875 43.3125 52.78125 \nQ 43.3125 58.59375 39.234375 62.25 \nQ 35.15625 65.921875 28.609375 65.921875 \nQ 23.96875 65.921875 18.8125 64.3125 \nQ 13.671875 62.703125 7.8125 59.421875 \nL 7.8125 69.390625 \nQ 13.765625 71.78125 18.9375 73 \nQ 24.125 74.21875 28.421875 74.21875 \nQ 39.75 74.21875 46.484375 68.546875 \nQ 53.21875 62.890625 53.21875 53.421875 \nQ 53.21875 48.921875 51.53125 44.890625 \nQ 49.859375 40.875 45.40625 35.40625 \nQ 44.1875 33.984375 37.640625 27.21875 \nQ 31.109375 20.453125 19.1875 8.296875 \nz\n\" id=\"DejaVuSans-50\"/>\n       </defs>\n       <use xlink:href=\"#DejaVuSans-50\"/>\n       <use x=\"63.623047\" xlink:href=\"#DejaVuSans-46\"/>\n       <use x=\"95.410156\" xlink:href=\"#DejaVuSans-48\"/>\n      </g>\n     </g>\n    </g>\n    <g id=\"xtick_6\">\n     <g id=\"line2d_6\">\n      <g>\n       <use style=\"stroke:#000000;stroke-width:0.8;\" x=\"261.951705\" xlink:href=\"#m47e0c513b7\" y=\"239.758125\"/>\n      </g>\n     </g>\n     <g id=\"text_6\">\n      <!-- 2.5 -->\n      <g transform=\"translate(254.000142 254.356562)scale(0.1 -0.1)\">\n       <use xlink:href=\"#DejaVuSans-50\"/>\n       <use x=\"63.623047\" xlink:href=\"#DejaVuSans-46\"/>\n       <use x=\"95.410156\" xlink:href=\"#DejaVuSans-53\"/>\n      </g>\n     </g>\n    </g>\n    <g id=\"xtick_7\">\n     <g id=\"line2d_7\">\n      <g>\n       <use style=\"stroke:#000000;stroke-width:0.8;\" x=\"299.997159\" xlink:href=\"#m47e0c513b7\" y=\"239.758125\"/>\n      </g>\n     </g>\n     <g id=\"text_7\">\n      <!-- 3.0 -->\n      <g transform=\"translate(292.045597 254.356562)scale(0.1 -0.1)\">\n       <defs>\n        <path d=\"M 40.578125 39.3125 \nQ 47.65625 37.796875 51.625 33 \nQ 55.609375 28.21875 55.609375 21.1875 \nQ 55.609375 10.40625 48.1875 4.484375 \nQ 40.765625 -1.421875 27.09375 -1.421875 \nQ 22.515625 -1.421875 17.65625 -0.515625 \nQ 12.796875 0.390625 7.625 2.203125 \nL 7.625 11.71875 \nQ 11.71875 9.328125 16.59375 8.109375 \nQ 21.484375 6.890625 26.8125 6.890625 \nQ 36.078125 6.890625 40.9375 10.546875 \nQ 45.796875 14.203125 45.796875 21.1875 \nQ 45.796875 27.640625 41.28125 31.265625 \nQ 36.765625 34.90625 28.71875 34.90625 \nL 20.21875 34.90625 \nL 20.21875 43.015625 \nL 29.109375 43.015625 \nQ 36.375 43.015625 40.234375 45.921875 \nQ 44.09375 48.828125 44.09375 54.296875 \nQ 44.09375 59.90625 40.109375 62.90625 \nQ 36.140625 65.921875 28.71875 65.921875 \nQ 24.65625 65.921875 20.015625 65.03125 \nQ 15.375 64.15625 9.8125 62.3125 \nL 9.8125 71.09375 \nQ 15.4375 72.65625 20.34375 73.4375 \nQ 25.25 74.21875 29.59375 74.21875 \nQ 40.828125 74.21875 47.359375 69.109375 \nQ 53.90625 64.015625 53.90625 55.328125 \nQ 53.90625 49.265625 50.4375 45.09375 \nQ 46.96875 40.921875 40.578125 39.3125 \nz\n\" id=\"DejaVuSans-51\"/>\n       </defs>\n       <use xlink:href=\"#DejaVuSans-51\"/>\n       <use x=\"63.623047\" xlink:href=\"#DejaVuSans-46\"/>\n       <use x=\"95.410156\" xlink:href=\"#DejaVuSans-48\"/>\n      </g>\n     </g>\n    </g>\n    <g id=\"xtick_8\">\n     <g id=\"line2d_8\">\n      <g>\n       <use style=\"stroke:#000000;stroke-width:0.8;\" x=\"338.042614\" xlink:href=\"#m47e0c513b7\" y=\"239.758125\"/>\n      </g>\n     </g>\n     <g id=\"text_8\">\n      <!-- 3.5 -->\n      <g transform=\"translate(330.091051 254.356562)scale(0.1 -0.1)\">\n       <use xlink:href=\"#DejaVuSans-51\"/>\n       <use x=\"63.623047\" xlink:href=\"#DejaVuSans-46\"/>\n       <use x=\"95.410156\" xlink:href=\"#DejaVuSans-53\"/>\n      </g>\n     </g>\n    </g>\n    <g id=\"xtick_9\">\n     <g id=\"line2d_9\">\n      <g>\n       <use style=\"stroke:#000000;stroke-width:0.8;\" x=\"376.088068\" xlink:href=\"#m47e0c513b7\" y=\"239.758125\"/>\n      </g>\n     </g>\n     <g id=\"text_9\">\n      <!-- 4.0 -->\n      <g transform=\"translate(368.136506 254.356562)scale(0.1 -0.1)\">\n       <defs>\n        <path d=\"M 37.796875 64.3125 \nL 12.890625 25.390625 \nL 37.796875 25.390625 \nz\nM 35.203125 72.90625 \nL 47.609375 72.90625 \nL 47.609375 25.390625 \nL 58.015625 25.390625 \nL 58.015625 17.1875 \nL 47.609375 17.1875 \nL 47.609375 0 \nL 37.796875 0 \nL 37.796875 17.1875 \nL 4.890625 17.1875 \nL 4.890625 26.703125 \nz\n\" id=\"DejaVuSans-52\"/>\n       </defs>\n       <use xlink:href=\"#DejaVuSans-52\"/>\n       <use x=\"63.623047\" xlink:href=\"#DejaVuSans-46\"/>\n       <use x=\"95.410156\" xlink:href=\"#DejaVuSans-48\"/>\n      </g>\n     </g>\n    </g>\n    <g id=\"text_10\">\n     <!-- epoch -->\n     <g transform=\"translate(208.678125 268.034687)scale(0.1 -0.1)\">\n      <defs>\n       <path d=\"M 56.203125 29.59375 \nL 56.203125 25.203125 \nL 14.890625 25.203125 \nQ 15.484375 15.921875 20.484375 11.0625 \nQ 25.484375 6.203125 34.421875 6.203125 \nQ 39.59375 6.203125 44.453125 7.46875 \nQ 49.3125 8.734375 54.109375 11.28125 \nL 54.109375 2.78125 \nQ 49.265625 0.734375 44.1875 -0.34375 \nQ 39.109375 -1.421875 33.890625 -1.421875 \nQ 20.796875 -1.421875 13.15625 6.1875 \nQ 5.515625 13.8125 5.515625 26.8125 \nQ 5.515625 40.234375 12.765625 48.109375 \nQ 20.015625 56 32.328125 56 \nQ 43.359375 56 49.78125 48.890625 \nQ 56.203125 41.796875 56.203125 29.59375 \nz\nM 47.21875 32.234375 \nQ 47.125 39.59375 43.09375 43.984375 \nQ 39.0625 48.390625 32.421875 48.390625 \nQ 24.90625 48.390625 20.390625 44.140625 \nQ 15.875 39.890625 15.1875 32.171875 \nz\n\" id=\"DejaVuSans-101\"/>\n       <path d=\"M 18.109375 8.203125 \nL 18.109375 -20.796875 \nL 9.078125 -20.796875 \nL 9.078125 54.6875 \nL 18.109375 54.6875 \nL 18.109375 46.390625 \nQ 20.953125 51.265625 25.265625 53.625 \nQ 29.59375 56 35.59375 56 \nQ 45.5625 56 51.78125 48.09375 \nQ 58.015625 40.1875 58.015625 27.296875 \nQ 58.015625 14.40625 51.78125 6.484375 \nQ 45.5625 -1.421875 35.59375 -1.421875 \nQ 29.59375 -1.421875 25.265625 0.953125 \nQ 20.953125 3.328125 18.109375 8.203125 \nz\nM 48.6875 27.296875 \nQ 48.6875 37.203125 44.609375 42.84375 \nQ 40.53125 48.484375 33.40625 48.484375 \nQ 26.265625 48.484375 22.1875 42.84375 \nQ 18.109375 37.203125 18.109375 27.296875 \nQ 18.109375 17.390625 22.1875 11.75 \nQ 26.265625 6.109375 33.40625 6.109375 \nQ 40.53125 6.109375 44.609375 11.75 \nQ 48.6875 17.390625 48.6875 27.296875 \nz\n\" id=\"DejaVuSans-112\"/>\n       <path d=\"M 30.609375 48.390625 \nQ 23.390625 48.390625 19.1875 42.75 \nQ 14.984375 37.109375 14.984375 27.296875 \nQ 14.984375 17.484375 19.15625 11.84375 \nQ 23.34375 6.203125 30.609375 6.203125 \nQ 37.796875 6.203125 41.984375 11.859375 \nQ 46.1875 17.53125 46.1875 27.296875 \nQ 46.1875 37.015625 41.984375 42.703125 \nQ 37.796875 48.390625 30.609375 48.390625 \nz\nM 30.609375 56 \nQ 42.328125 56 49.015625 48.375 \nQ 55.71875 40.765625 55.71875 27.296875 \nQ 55.71875 13.875 49.015625 6.21875 \nQ 42.328125 -1.421875 30.609375 -1.421875 \nQ 18.84375 -1.421875 12.171875 6.21875 \nQ 5.515625 13.875 5.515625 27.296875 \nQ 5.515625 40.765625 12.171875 48.375 \nQ 18.84375 56 30.609375 56 \nz\n\" id=\"DejaVuSans-111\"/>\n       <path d=\"M 48.78125 52.59375 \nL 48.78125 44.1875 \nQ 44.96875 46.296875 41.140625 47.34375 \nQ 37.3125 48.390625 33.40625 48.390625 \nQ 24.65625 48.390625 19.8125 42.84375 \nQ 14.984375 37.3125 14.984375 27.296875 \nQ 14.984375 17.28125 19.8125 11.734375 \nQ 24.65625 6.203125 33.40625 6.203125 \nQ 37.3125 6.203125 41.140625 7.25 \nQ 44.96875 8.296875 48.78125 10.40625 \nL 48.78125 2.09375 \nQ 45.015625 0.34375 40.984375 -0.53125 \nQ 36.96875 -1.421875 32.421875 -1.421875 \nQ 20.0625 -1.421875 12.78125 6.34375 \nQ 5.515625 14.109375 5.515625 27.296875 \nQ 5.515625 40.671875 12.859375 48.328125 \nQ 20.21875 56 33.015625 56 \nQ 37.15625 56 41.109375 55.140625 \nQ 45.0625 54.296875 48.78125 52.59375 \nz\n\" id=\"DejaVuSans-99\"/>\n       <path d=\"M 54.890625 33.015625 \nL 54.890625 0 \nL 45.90625 0 \nL 45.90625 32.71875 \nQ 45.90625 40.484375 42.875 44.328125 \nQ 39.84375 48.1875 33.796875 48.1875 \nQ 26.515625 48.1875 22.3125 43.546875 \nQ 18.109375 38.921875 18.109375 30.90625 \nL 18.109375 0 \nL 9.078125 0 \nL 9.078125 75.984375 \nL 18.109375 75.984375 \nL 18.109375 46.1875 \nQ 21.34375 51.125 25.703125 53.5625 \nQ 30.078125 56 35.796875 56 \nQ 45.21875 56 50.046875 50.171875 \nQ 54.890625 44.34375 54.890625 33.015625 \nz\n\" id=\"DejaVuSans-104\"/>\n      </defs>\n      <use xlink:href=\"#DejaVuSans-101\"/>\n      <use x=\"61.523438\" xlink:href=\"#DejaVuSans-112\"/>\n      <use x=\"125\" xlink:href=\"#DejaVuSans-111\"/>\n      <use x=\"186.181641\" xlink:href=\"#DejaVuSans-99\"/>\n      <use x=\"241.162109\" xlink:href=\"#DejaVuSans-104\"/>\n     </g>\n    </g>\n   </g>\n   <g id=\"matplotlib.axis_2\">\n    <g id=\"ytick_1\">\n     <g id=\"line2d_10\">\n      <defs>\n       <path d=\"M 0 0 \nL -3.5 0 \n\" id=\"m893a37cf35\" style=\"stroke:#000000;stroke-width:0.8;\"/>\n      </defs>\n      <g>\n       <use style=\"stroke:#000000;stroke-width:0.8;\" x=\"56.50625\" xlink:href=\"#m893a37cf35\" y=\"206.01556\"/>\n      </g>\n     </g>\n     <g id=\"text_11\">\n      <!-- 0.636 -->\n      <g transform=\"translate(20.878125 209.814779)scale(0.1 -0.1)\">\n       <defs>\n        <path d=\"M 33.015625 40.375 \nQ 26.375 40.375 22.484375 35.828125 \nQ 18.609375 31.296875 18.609375 23.390625 \nQ 18.609375 15.53125 22.484375 10.953125 \nQ 26.375 6.390625 33.015625 6.390625 \nQ 39.65625 6.390625 43.53125 10.953125 \nQ 47.40625 15.53125 47.40625 23.390625 \nQ 47.40625 31.296875 43.53125 35.828125 \nQ 39.65625 40.375 33.015625 40.375 \nz\nM 52.59375 71.296875 \nL 52.59375 62.3125 \nQ 48.875 64.0625 45.09375 64.984375 \nQ 41.3125 65.921875 37.59375 65.921875 \nQ 27.828125 65.921875 22.671875 59.328125 \nQ 17.53125 52.734375 16.796875 39.40625 \nQ 19.671875 43.65625 24.015625 45.921875 \nQ 28.375 48.1875 33.59375 48.1875 \nQ 44.578125 48.1875 50.953125 41.515625 \nQ 57.328125 34.859375 57.328125 23.390625 \nQ 57.328125 12.15625 50.6875 5.359375 \nQ 44.046875 -1.421875 33.015625 -1.421875 \nQ 20.359375 -1.421875 13.671875 8.265625 \nQ 6.984375 17.96875 6.984375 36.375 \nQ 6.984375 53.65625 15.1875 63.9375 \nQ 23.390625 74.21875 37.203125 74.21875 \nQ 40.921875 74.21875 44.703125 73.484375 \nQ 48.484375 72.75 52.59375 71.296875 \nz\n\" id=\"DejaVuSans-54\"/>\n       </defs>\n       <use xlink:href=\"#DejaVuSans-48\"/>\n       <use x=\"63.623047\" xlink:href=\"#DejaVuSans-46\"/>\n       <use x=\"95.410156\" xlink:href=\"#DejaVuSans-54\"/>\n       <use x=\"159.033203\" xlink:href=\"#DejaVuSans-51\"/>\n       <use x=\"222.65625\" xlink:href=\"#DejaVuSans-54\"/>\n      </g>\n     </g>\n    </g>\n    <g id=\"ytick_2\">\n     <g id=\"line2d_11\">\n      <g>\n       <use style=\"stroke:#000000;stroke-width:0.8;\" x=\"56.50625\" xlink:href=\"#m893a37cf35\" y=\"171.458588\"/>\n      </g>\n     </g>\n     <g id=\"text_12\">\n      <!-- 0.637 -->\n      <g transform=\"translate(20.878125 175.257807)scale(0.1 -0.1)\">\n       <defs>\n        <path d=\"M 8.203125 72.90625 \nL 55.078125 72.90625 \nL 55.078125 68.703125 \nL 28.609375 0 \nL 18.3125 0 \nL 43.21875 64.59375 \nL 8.203125 64.59375 \nz\n\" id=\"DejaVuSans-55\"/>\n       </defs>\n       <use xlink:href=\"#DejaVuSans-48\"/>\n       <use x=\"63.623047\" xlink:href=\"#DejaVuSans-46\"/>\n       <use x=\"95.410156\" xlink:href=\"#DejaVuSans-54\"/>\n       <use x=\"159.033203\" xlink:href=\"#DejaVuSans-51\"/>\n       <use x=\"222.65625\" xlink:href=\"#DejaVuSans-55\"/>\n      </g>\n     </g>\n    </g>\n    <g id=\"ytick_3\">\n     <g id=\"line2d_12\">\n      <g>\n       <use style=\"stroke:#000000;stroke-width:0.8;\" x=\"56.50625\" xlink:href=\"#m893a37cf35\" y=\"136.901616\"/>\n      </g>\n     </g>\n     <g id=\"text_13\">\n      <!-- 0.638 -->\n      <g transform=\"translate(20.878125 140.700835)scale(0.1 -0.1)\">\n       <defs>\n        <path d=\"M 31.78125 34.625 \nQ 24.75 34.625 20.71875 30.859375 \nQ 16.703125 27.09375 16.703125 20.515625 \nQ 16.703125 13.921875 20.71875 10.15625 \nQ 24.75 6.390625 31.78125 6.390625 \nQ 38.8125 6.390625 42.859375 10.171875 \nQ 46.921875 13.96875 46.921875 20.515625 \nQ 46.921875 27.09375 42.890625 30.859375 \nQ 38.875 34.625 31.78125 34.625 \nz\nM 21.921875 38.8125 \nQ 15.578125 40.375 12.03125 44.71875 \nQ 8.5 49.078125 8.5 55.328125 \nQ 8.5 64.0625 14.71875 69.140625 \nQ 20.953125 74.21875 31.78125 74.21875 \nQ 42.671875 74.21875 48.875 69.140625 \nQ 55.078125 64.0625 55.078125 55.328125 \nQ 55.078125 49.078125 51.53125 44.71875 \nQ 48 40.375 41.703125 38.8125 \nQ 48.828125 37.15625 52.796875 32.3125 \nQ 56.78125 27.484375 56.78125 20.515625 \nQ 56.78125 9.90625 50.3125 4.234375 \nQ 43.84375 -1.421875 31.78125 -1.421875 \nQ 19.734375 -1.421875 13.25 4.234375 \nQ 6.78125 9.90625 6.78125 20.515625 \nQ 6.78125 27.484375 10.78125 32.3125 \nQ 14.796875 37.15625 21.921875 38.8125 \nz\nM 18.3125 54.390625 \nQ 18.3125 48.734375 21.84375 45.5625 \nQ 25.390625 42.390625 31.78125 42.390625 \nQ 38.140625 42.390625 41.71875 45.5625 \nQ 45.3125 48.734375 45.3125 54.390625 \nQ 45.3125 60.0625 41.71875 63.234375 \nQ 38.140625 66.40625 31.78125 66.40625 \nQ 25.390625 66.40625 21.84375 63.234375 \nQ 18.3125 60.0625 18.3125 54.390625 \nz\n\" id=\"DejaVuSans-56\"/>\n       </defs>\n       <use xlink:href=\"#DejaVuSans-48\"/>\n       <use x=\"63.623047\" xlink:href=\"#DejaVuSans-46\"/>\n       <use x=\"95.410156\" xlink:href=\"#DejaVuSans-54\"/>\n       <use x=\"159.033203\" xlink:href=\"#DejaVuSans-51\"/>\n       <use x=\"222.65625\" xlink:href=\"#DejaVuSans-56\"/>\n      </g>\n     </g>\n    </g>\n    <g id=\"ytick_4\">\n     <g id=\"line2d_13\">\n      <g>\n       <use style=\"stroke:#000000;stroke-width:0.8;\" x=\"56.50625\" xlink:href=\"#m893a37cf35\" y=\"102.344644\"/>\n      </g>\n     </g>\n     <g id=\"text_14\">\n      <!-- 0.639 -->\n      <g transform=\"translate(20.878125 106.143863)scale(0.1 -0.1)\">\n       <defs>\n        <path d=\"M 10.984375 1.515625 \nL 10.984375 10.5 \nQ 14.703125 8.734375 18.5 7.8125 \nQ 22.3125 6.890625 25.984375 6.890625 \nQ 35.75 6.890625 40.890625 13.453125 \nQ 46.046875 20.015625 46.78125 33.40625 \nQ 43.953125 29.203125 39.59375 26.953125 \nQ 35.25 24.703125 29.984375 24.703125 \nQ 19.046875 24.703125 12.671875 31.3125 \nQ 6.296875 37.9375 6.296875 49.421875 \nQ 6.296875 60.640625 12.9375 67.421875 \nQ 19.578125 74.21875 30.609375 74.21875 \nQ 43.265625 74.21875 49.921875 64.515625 \nQ 56.59375 54.828125 56.59375 36.375 \nQ 56.59375 19.140625 48.40625 8.859375 \nQ 40.234375 -1.421875 26.421875 -1.421875 \nQ 22.703125 -1.421875 18.890625 -0.6875 \nQ 15.09375 0.046875 10.984375 1.515625 \nz\nM 30.609375 32.421875 \nQ 37.25 32.421875 41.125 36.953125 \nQ 45.015625 41.5 45.015625 49.421875 \nQ 45.015625 57.28125 41.125 61.84375 \nQ 37.25 66.40625 30.609375 66.40625 \nQ 23.96875 66.40625 20.09375 61.84375 \nQ 16.21875 57.28125 16.21875 49.421875 \nQ 16.21875 41.5 20.09375 36.953125 \nQ 23.96875 32.421875 30.609375 32.421875 \nz\n\" id=\"DejaVuSans-57\"/>\n       </defs>\n       <use xlink:href=\"#DejaVuSans-48\"/>\n       <use x=\"63.623047\" xlink:href=\"#DejaVuSans-46\"/>\n       <use x=\"95.410156\" xlink:href=\"#DejaVuSans-54\"/>\n       <use x=\"159.033203\" xlink:href=\"#DejaVuSans-51\"/>\n       <use x=\"222.65625\" xlink:href=\"#DejaVuSans-57\"/>\n      </g>\n     </g>\n    </g>\n    <g id=\"ytick_5\">\n     <g id=\"line2d_14\">\n      <g>\n       <use style=\"stroke:#000000;stroke-width:0.8;\" x=\"56.50625\" xlink:href=\"#m893a37cf35\" y=\"67.787672\"/>\n      </g>\n     </g>\n     <g id=\"text_15\">\n      <!-- 0.640 -->\n      <g transform=\"translate(20.878125 71.586891)scale(0.1 -0.1)\">\n       <use xlink:href=\"#DejaVuSans-48\"/>\n       <use x=\"63.623047\" xlink:href=\"#DejaVuSans-46\"/>\n       <use x=\"95.410156\" xlink:href=\"#DejaVuSans-54\"/>\n       <use x=\"159.033203\" xlink:href=\"#DejaVuSans-52\"/>\n       <use x=\"222.65625\" xlink:href=\"#DejaVuSans-48\"/>\n      </g>\n     </g>\n    </g>\n    <g id=\"ytick_6\">\n     <g id=\"line2d_15\">\n      <g>\n       <use style=\"stroke:#000000;stroke-width:0.8;\" x=\"56.50625\" xlink:href=\"#m893a37cf35\" y=\"33.2307\"/>\n      </g>\n     </g>\n     <g id=\"text_16\">\n      <!-- 0.641 -->\n      <g transform=\"translate(20.878125 37.029919)scale(0.1 -0.1)\">\n       <use xlink:href=\"#DejaVuSans-48\"/>\n       <use x=\"63.623047\" xlink:href=\"#DejaVuSans-46\"/>\n       <use x=\"95.410156\" xlink:href=\"#DejaVuSans-54\"/>\n       <use x=\"159.033203\" xlink:href=\"#DejaVuSans-52\"/>\n       <use x=\"222.65625\" xlink:href=\"#DejaVuSans-49\"/>\n      </g>\n     </g>\n    </g>\n    <g id=\"text_17\">\n     <!-- accuracy -->\n     <g transform=\"translate(14.798437 153.5975)rotate(-90)scale(0.1 -0.1)\">\n      <defs>\n       <path d=\"M 34.28125 27.484375 \nQ 23.390625 27.484375 19.1875 25 \nQ 14.984375 22.515625 14.984375 16.5 \nQ 14.984375 11.71875 18.140625 8.90625 \nQ 21.296875 6.109375 26.703125 6.109375 \nQ 34.1875 6.109375 38.703125 11.40625 \nQ 43.21875 16.703125 43.21875 25.484375 \nL 43.21875 27.484375 \nz\nM 52.203125 31.203125 \nL 52.203125 0 \nL 43.21875 0 \nL 43.21875 8.296875 \nQ 40.140625 3.328125 35.546875 0.953125 \nQ 30.953125 -1.421875 24.3125 -1.421875 \nQ 15.921875 -1.421875 10.953125 3.296875 \nQ 6 8.015625 6 15.921875 \nQ 6 25.140625 12.171875 29.828125 \nQ 18.359375 34.515625 30.609375 34.515625 \nL 43.21875 34.515625 \nL 43.21875 35.40625 \nQ 43.21875 41.609375 39.140625 45 \nQ 35.0625 48.390625 27.6875 48.390625 \nQ 23 48.390625 18.546875 47.265625 \nQ 14.109375 46.140625 10.015625 43.890625 \nL 10.015625 52.203125 \nQ 14.9375 54.109375 19.578125 55.046875 \nQ 24.21875 56 28.609375 56 \nQ 40.484375 56 46.34375 49.84375 \nQ 52.203125 43.703125 52.203125 31.203125 \nz\n\" id=\"DejaVuSans-97\"/>\n       <path d=\"M 8.5 21.578125 \nL 8.5 54.6875 \nL 17.484375 54.6875 \nL 17.484375 21.921875 \nQ 17.484375 14.15625 20.5 10.265625 \nQ 23.53125 6.390625 29.59375 6.390625 \nQ 36.859375 6.390625 41.078125 11.03125 \nQ 45.3125 15.671875 45.3125 23.6875 \nL 45.3125 54.6875 \nL 54.296875 54.6875 \nL 54.296875 0 \nL 45.3125 0 \nL 45.3125 8.40625 \nQ 42.046875 3.421875 37.71875 1 \nQ 33.40625 -1.421875 27.6875 -1.421875 \nQ 18.265625 -1.421875 13.375 4.4375 \nQ 8.5 10.296875 8.5 21.578125 \nz\nM 31.109375 56 \nz\n\" id=\"DejaVuSans-117\"/>\n       <path d=\"M 41.109375 46.296875 \nQ 39.59375 47.171875 37.8125 47.578125 \nQ 36.03125 48 33.890625 48 \nQ 26.265625 48 22.1875 43.046875 \nQ 18.109375 38.09375 18.109375 28.8125 \nL 18.109375 0 \nL 9.078125 0 \nL 9.078125 54.6875 \nL 18.109375 54.6875 \nL 18.109375 46.1875 \nQ 20.953125 51.171875 25.484375 53.578125 \nQ 30.03125 56 36.53125 56 \nQ 37.453125 56 38.578125 55.875 \nQ 39.703125 55.765625 41.0625 55.515625 \nz\n\" id=\"DejaVuSans-114\"/>\n       <path d=\"M 32.171875 -5.078125 \nQ 28.375 -14.84375 24.75 -17.8125 \nQ 21.140625 -20.796875 15.09375 -20.796875 \nL 7.90625 -20.796875 \nL 7.90625 -13.28125 \nL 13.1875 -13.28125 \nQ 16.890625 -13.28125 18.9375 -11.515625 \nQ 21 -9.765625 23.484375 -3.21875 \nL 25.09375 0.875 \nL 2.984375 54.6875 \nL 12.5 54.6875 \nL 29.59375 11.921875 \nL 46.6875 54.6875 \nL 56.203125 54.6875 \nz\n\" id=\"DejaVuSans-121\"/>\n      </defs>\n      <use xlink:href=\"#DejaVuSans-97\"/>\n      <use x=\"61.279297\" xlink:href=\"#DejaVuSans-99\"/>\n      <use x=\"116.259766\" xlink:href=\"#DejaVuSans-99\"/>\n      <use x=\"171.240234\" xlink:href=\"#DejaVuSans-117\"/>\n      <use x=\"234.619141\" xlink:href=\"#DejaVuSans-114\"/>\n      <use x=\"275.732422\" xlink:href=\"#DejaVuSans-97\"/>\n      <use x=\"337.011719\" xlink:href=\"#DejaVuSans-99\"/>\n      <use x=\"391.992188\" xlink:href=\"#DejaVuSans-121\"/>\n     </g>\n    </g>\n   </g>\n   <g id=\"line2d_16\">\n    <path clip-path=\"url(#pf08888ac77)\" d=\"M 71.724432 32.201761 \nL 147.815341 147.467769 \nL 223.90625 187.22312 \nL 299.997159 212.374801 \nL 376.088068 229.874489 \n\" style=\"fill:none;stroke:#1f77b4;stroke-linecap:square;stroke-width:1.5;\"/>\n   </g>\n   <g id=\"patch_3\">\n    <path d=\"M 56.50625 239.758125 \nL 56.50625 22.318125 \n\" style=\"fill:none;stroke:#000000;stroke-linecap:square;stroke-linejoin:miter;stroke-width:0.8;\"/>\n   </g>\n   <g id=\"patch_4\">\n    <path d=\"M 391.30625 239.758125 \nL 391.30625 22.318125 \n\" style=\"fill:none;stroke:#000000;stroke-linecap:square;stroke-linejoin:miter;stroke-width:0.8;\"/>\n   </g>\n   <g id=\"patch_5\">\n    <path d=\"M 56.50625 239.758125 \nL 391.30625 239.758125 \n\" style=\"fill:none;stroke:#000000;stroke-linecap:square;stroke-linejoin:miter;stroke-width:0.8;\"/>\n   </g>\n   <g id=\"patch_6\">\n    <path d=\"M 56.50625 22.318125 \nL 391.30625 22.318125 \n\" style=\"fill:none;stroke:#000000;stroke-linecap:square;stroke-linejoin:miter;stroke-width:0.8;\"/>\n   </g>\n   <g id=\"text_18\">\n    <!-- model accuracy -->\n    <g transform=\"translate(176.244687 16.318125)scale(0.12 -0.12)\">\n     <defs>\n      <path d=\"M 52 44.1875 \nQ 55.375 50.25 60.0625 53.125 \nQ 64.75 56 71.09375 56 \nQ 79.640625 56 84.28125 50.015625 \nQ 88.921875 44.046875 88.921875 33.015625 \nL 88.921875 0 \nL 79.890625 0 \nL 79.890625 32.71875 \nQ 79.890625 40.578125 77.09375 44.375 \nQ 74.3125 48.1875 68.609375 48.1875 \nQ 61.625 48.1875 57.5625 43.546875 \nQ 53.515625 38.921875 53.515625 30.90625 \nL 53.515625 0 \nL 44.484375 0 \nL 44.484375 32.71875 \nQ 44.484375 40.625 41.703125 44.40625 \nQ 38.921875 48.1875 33.109375 48.1875 \nQ 26.21875 48.1875 22.15625 43.53125 \nQ 18.109375 38.875 18.109375 30.90625 \nL 18.109375 0 \nL 9.078125 0 \nL 9.078125 54.6875 \nL 18.109375 54.6875 \nL 18.109375 46.1875 \nQ 21.1875 51.21875 25.484375 53.609375 \nQ 29.78125 56 35.6875 56 \nQ 41.65625 56 45.828125 52.96875 \nQ 50 49.953125 52 44.1875 \nz\n\" id=\"DejaVuSans-109\"/>\n      <path d=\"M 45.40625 46.390625 \nL 45.40625 75.984375 \nL 54.390625 75.984375 \nL 54.390625 0 \nL 45.40625 0 \nL 45.40625 8.203125 \nQ 42.578125 3.328125 38.25 0.953125 \nQ 33.9375 -1.421875 27.875 -1.421875 \nQ 17.96875 -1.421875 11.734375 6.484375 \nQ 5.515625 14.40625 5.515625 27.296875 \nQ 5.515625 40.1875 11.734375 48.09375 \nQ 17.96875 56 27.875 56 \nQ 33.9375 56 38.25 53.625 \nQ 42.578125 51.265625 45.40625 46.390625 \nz\nM 14.796875 27.296875 \nQ 14.796875 17.390625 18.875 11.75 \nQ 22.953125 6.109375 30.078125 6.109375 \nQ 37.203125 6.109375 41.296875 11.75 \nQ 45.40625 17.390625 45.40625 27.296875 \nQ 45.40625 37.203125 41.296875 42.84375 \nQ 37.203125 48.484375 30.078125 48.484375 \nQ 22.953125 48.484375 18.875 42.84375 \nQ 14.796875 37.203125 14.796875 27.296875 \nz\n\" id=\"DejaVuSans-100\"/>\n      <path d=\"M 9.421875 75.984375 \nL 18.40625 75.984375 \nL 18.40625 0 \nL 9.421875 0 \nz\n\" id=\"DejaVuSans-108\"/>\n      <path id=\"DejaVuSans-32\"/>\n     </defs>\n     <use xlink:href=\"#DejaVuSans-109\"/>\n     <use x=\"97.412109\" xlink:href=\"#DejaVuSans-111\"/>\n     <use x=\"158.59375\" xlink:href=\"#DejaVuSans-100\"/>\n     <use x=\"222.070312\" xlink:href=\"#DejaVuSans-101\"/>\n     <use x=\"283.59375\" xlink:href=\"#DejaVuSans-108\"/>\n     <use x=\"311.376953\" xlink:href=\"#DejaVuSans-32\"/>\n     <use x=\"343.164062\" xlink:href=\"#DejaVuSans-97\"/>\n     <use x=\"404.443359\" xlink:href=\"#DejaVuSans-99\"/>\n     <use x=\"459.423828\" xlink:href=\"#DejaVuSans-99\"/>\n     <use x=\"514.404297\" xlink:href=\"#DejaVuSans-117\"/>\n     <use x=\"577.783203\" xlink:href=\"#DejaVuSans-114\"/>\n     <use x=\"618.896484\" xlink:href=\"#DejaVuSans-97\"/>\n     <use x=\"680.175781\" xlink:href=\"#DejaVuSans-99\"/>\n     <use x=\"735.15625\" xlink:href=\"#DejaVuSans-121\"/>\n    </g>\n   </g>\n   <g id=\"legend_1\">\n    <g id=\"patch_7\">\n     <path d=\"M 63.50625 44.99625 \nL 118.78125 44.99625 \nQ 120.78125 44.99625 120.78125 42.99625 \nL 120.78125 29.318125 \nQ 120.78125 27.318125 118.78125 27.318125 \nL 63.50625 27.318125 \nQ 61.50625 27.318125 61.50625 29.318125 \nL 61.50625 42.99625 \nQ 61.50625 44.99625 63.50625 44.99625 \nz\n\" style=\"fill:#ffffff;opacity:0.8;stroke:#cccccc;stroke-linejoin:miter;\"/>\n    </g>\n    <g id=\"line2d_17\">\n     <path d=\"M 65.50625 35.416562 \nL 85.50625 35.416562 \n\" style=\"fill:none;stroke:#1f77b4;stroke-linecap:square;stroke-width:1.5;\"/>\n    </g>\n    <g id=\"line2d_18\"/>\n    <g id=\"text_19\">\n     <!-- train -->\n     <g transform=\"translate(93.50625 38.916562)scale(0.1 -0.1)\">\n      <defs>\n       <path d=\"M 18.3125 70.21875 \nL 18.3125 54.6875 \nL 36.8125 54.6875 \nL 36.8125 47.703125 \nL 18.3125 47.703125 \nL 18.3125 18.015625 \nQ 18.3125 11.328125 20.140625 9.421875 \nQ 21.96875 7.515625 27.59375 7.515625 \nL 36.8125 7.515625 \nL 36.8125 0 \nL 27.59375 0 \nQ 17.1875 0 13.234375 3.875 \nQ 9.28125 7.765625 9.28125 18.015625 \nL 9.28125 47.703125 \nL 2.6875 47.703125 \nL 2.6875 54.6875 \nL 9.28125 54.6875 \nL 9.28125 70.21875 \nz\n\" id=\"DejaVuSans-116\"/>\n       <path d=\"M 9.421875 54.6875 \nL 18.40625 54.6875 \nL 18.40625 0 \nL 9.421875 0 \nz\nM 9.421875 75.984375 \nL 18.40625 75.984375 \nL 18.40625 64.59375 \nL 9.421875 64.59375 \nz\n\" id=\"DejaVuSans-105\"/>\n       <path d=\"M 54.890625 33.015625 \nL 54.890625 0 \nL 45.90625 0 \nL 45.90625 32.71875 \nQ 45.90625 40.484375 42.875 44.328125 \nQ 39.84375 48.1875 33.796875 48.1875 \nQ 26.515625 48.1875 22.3125 43.546875 \nQ 18.109375 38.921875 18.109375 30.90625 \nL 18.109375 0 \nL 9.078125 0 \nL 9.078125 54.6875 \nL 18.109375 54.6875 \nL 18.109375 46.1875 \nQ 21.34375 51.125 25.703125 53.5625 \nQ 30.078125 56 35.796875 56 \nQ 45.21875 56 50.046875 50.171875 \nQ 54.890625 44.34375 54.890625 33.015625 \nz\n\" id=\"DejaVuSans-110\"/>\n      </defs>\n      <use xlink:href=\"#DejaVuSans-116\"/>\n      <use x=\"39.208984\" xlink:href=\"#DejaVuSans-114\"/>\n      <use x=\"80.322266\" xlink:href=\"#DejaVuSans-97\"/>\n      <use x=\"141.601562\" xlink:href=\"#DejaVuSans-105\"/>\n      <use x=\"169.384766\" xlink:href=\"#DejaVuSans-110\"/>\n     </g>\n    </g>\n   </g>\n  </g>\n </g>\n <defs>\n  <clipPath id=\"pf08888ac77\">\n   <rect height=\"217.44\" width=\"334.8\" x=\"56.50625\" y=\"22.318125\"/>\n  </clipPath>\n </defs>\n</svg>\n",
      "image/png": "[encoded data removed]"
     },
     "metadata": {
      "needs_background": "light"
     }
    }
   ],
   "source": [
    "plt.plot(history.history['binary_crossentropy'])\n",
    "plt.title('model accuracy')\n",
    "plt.ylabel('accuracy')\n",
    "plt.xlabel('epoch')\n",
    "plt.legend(['train', 'val'], loc='upper left')\n",
    "plt.show()"
   ]
  },
  {
   "cell_type": "code",
   "execution_count": 48,
   "id": "56375872",
   "metadata": {},
   "outputs": [
    {
     "output_type": "stream",
     "name": "stdout",
     "text": [
      "94767/94767 [==============================] - 107s 1ms/step - loss: 0.6548 - binary_crossentropy: 0.6548\n"
     ]
    },
    {
     "output_type": "execute_result",
     "data": {
      "text/plain": [
       "[0.654829740524292, 0.654829740524292]"
      ]
     },
     "metadata": {},
     "execution_count": 48
    }
   ],
   "source": [
    "model.evaluate(ds_test)"
   ]
  },
  {
   "cell_type": "markdown",
   "id": "b61b8c69",
   "metadata": {},
   "source": [
    "## Predict"
   ]
  },
  {
   "cell_type": "code",
   "execution_count": 49,
   "id": "42277d67",
   "metadata": {},
   "outputs": [],
   "source": [
    "y = np.concatenate([y for x, y in ds_test], axis=0)"
   ]
  },
  {
   "cell_type": "code",
   "execution_count": 50,
   "id": "8d34183e",
   "metadata": {},
   "outputs": [],
   "source": [
    "pred = model.predict(ds_test)"
   ]
  },
  {
   "cell_type": "code",
   "execution_count": 51,
   "id": "075e9acf",
   "metadata": {},
   "outputs": [],
   "source": [
    "pred = pred.astype(np.float64)"
   ]
  },
  {
   "cell_type": "code",
   "execution_count": 52,
   "id": "8df2a605",
   "metadata": {
    "scrolled": false
   },
   "outputs": [
    {
     "output_type": "execute_result",
     "data": {
      "text/plain": [
       "2.5876805429539185"
      ]
     },
     "metadata": {},
     "execution_count": 52
    }
   ],
   "source": [
    "rce = compute_rce(pred, y)\n",
    "rce"
   ]
  },
  {
   "cell_type": "code",
   "execution_count": 53,
   "id": "897bd35f",
   "metadata": {},
   "outputs": [
    {
     "output_type": "execute_result",
     "data": {
      "text/plain": [
       "0.5380911311609253"
      ]
     },
     "metadata": {},
     "execution_count": 53
    }
   ],
   "source": [
    "average_precision_score(y, pred)"
   ]
  },
  {
   "cell_type": "code",
   "execution_count": 51,
   "id": "bfe08a3b",
   "metadata": {},
   "outputs": [
    {
     "name": "stdout",
     "output_type": "stream",
     "text": [
      "Model: \"sequential_model\"\n",
      "__________________________________________________________________________________________________\n",
      "Layer (type)                    Output Shape         Param #     Connected to                     \n",
      "==================================================================================================\n",
      "creator_account_creation (Input [(None, 1)]          0                                            \n",
      "__________________________________________________________________________________________________\n",
      "creator_follower_count (InputLa [(None, 1)]          0                                            \n",
      "__________________________________________________________________________________________________\n",
      "creator_following_count (InputL [(None, 1)]          0                                            \n",
      "__________________________________________________________________________________________________\n",
      "creator_follows_engager (InputL [(None, 1)]          0                                            \n",
      "__________________________________________________________________________________________________\n",
      "creator_is_verified (InputLayer [(None, 1)]          0                                            \n",
      "__________________________________________________________________________________________________\n",
      "dt_dow (InputLayer)             [(None, 1)]          0                                            \n",
      "__________________________________________________________________________________________________\n",
      "dt_hour (InputLayer)            [(None, 1)]          0                                            \n",
      "__________________________________________________________________________________________________\n",
      "engager_follower_count (InputLa [(None, 1)]          0                                            \n",
      "__________________________________________________________________________________________________\n",
      "engager_following_count (InputL [(None, 1)]          0                                            \n",
      "__________________________________________________________________________________________________\n",
      "language (InputLayer)           [(None, 1)]          0                                            \n",
      "__________________________________________________________________________________________________\n",
      "len_domains (InputLayer)        [(None, 1)]          0                                            \n",
      "__________________________________________________________________________________________________\n",
      "media (InputLayer)              [(None, 1)]          0                                            \n",
      "__________________________________________________________________________________________________\n",
      "tweet_type (InputLayer)         [(None, 1)]          0                                            \n",
      "__________________________________________________________________________________________________\n",
      "dense_features (DenseFeatures)  (None, 5033)         0           creator_account_creation[0][0]   \n",
      "                                                                 creator_follower_count[0][0]     \n",
      "                                                                 creator_following_count[0][0]    \n",
      "                                                                 creator_follows_engager[0][0]    \n",
      "                                                                 creator_is_verified[0][0]        \n",
      "                                                                 dt_dow[0][0]                     \n",
      "                                                                 dt_hour[0][0]                    \n",
      "                                                                 engager_follower_count[0][0]     \n",
      "                                                                 engager_following_count[0][0]    \n",
      "                                                                 language[0][0]                   \n",
      "                                                                 len_domains[0][0]                \n",
      "                                                                 media[0][0]                      \n",
      "                                                                 tweet_type[0][0]                 \n",
      "__________________________________________________________________________________________________\n",
      "dense (Dense)                   (None, 16)           80544       dense_features[0][0]             \n",
      "__________________________________________________________________________________________________\n",
      "dense_1 (Dense)                 (None, 8)            136         dense[0][0]                      \n",
      "__________________________________________________________________________________________________\n",
      "dense_2 (Dense)                 (None, 4)            36          dense_1[0][0]                    \n",
      "__________________________________________________________________________________________________\n",
      "dense_3 (Dense)                 (None, 1)            5           dense_2[0][0]                    \n",
      "==================================================================================================\n",
      "Total params: 80,721\n",
      "Trainable params: 80,721\n",
      "Non-trainable params: 0\n",
      "__________________________________________________________________________________________________\n"
     ]
    }
   ],
   "source": [
    "model.summary()"
   ]
  },
  {
   "cell_type": "code",
   "execution_count": 52,
   "id": "c656b985",
   "metadata": {},
   "outputs": [],
   "source": [
    "model_path = f'/hdd/cpu_models_DNN/model-ffnn.h5'\n",
    "            \n",
    "save_model(model, model_path)"
   ]
  },
  {
   "cell_type": "code",
   "execution_count": null,
   "id": "5e8b73d7",
   "metadata": {},
   "outputs": [],
   "source": []
  },
  {
   "cell_type": "code",
   "execution_count": null,
   "id": "41440495",
   "metadata": {},
   "outputs": [],
   "source": []
  },
  {
   "cell_type": "code",
   "execution_count": null,
   "id": "317bf016",
   "metadata": {},
   "outputs": [],
   "source": []
  },
  {
   "cell_type": "code",
   "execution_count": null,
   "id": "303f37cf",
   "metadata": {},
   "outputs": [],
   "source": []
  }
 ],
 "metadata": {
  "kernelspec": {
   "name": "python3710jvsc74a57bd0c4c1a3e9c3a39a0885e9d9bd6e4723f2ede522dfea9ed13682022cc292aed1ac",
   "display_name": "Python 3.7.10 64-bit ('dask-cudf': conda)"
  },
  "language_info": {
   "codemirror_mode": {
    "name": "ipython",
    "version": 3
   },
   "file_extension": ".py",
   "mimetype": "text/x-python",
   "name": "python",
   "nbconvert_exporter": "python",
   "pygments_lexer": "ipython3",
   "version": "3.7.10"
  }
 },
 "nbformat": 4,
 "nbformat_minor": 5
}