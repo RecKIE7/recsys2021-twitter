{
 "cells": [
  {
   "cell_type": "code",
   "execution_count": 1,
   "id": "da4d22e6",
   "metadata": {},
   "outputs": [],
   "source": [
    "import os\n",
    "import sys\n",
    "sys.path.append('..')\n",
    "\n",
    "import numpy as np\n",
    "import matplotlib.pyplot as plt\n",
    "import pandas as pd\n",
    "import pickle\n",
    "import joblib\n",
    "from tqdm import tqdm\n",
    "from sklearn.model_selection import train_test_split\n",
    "import tensorflow as tf\n",
    "from tensorflow import feature_column as fc\n",
    "from tensorflow.keras.models import Sequential\n",
    "from tensorflow.keras.layers import Dense\n",
    "from sklearn import preprocessing\n",
    "from sklearn.utils import shuffle\n",
    "from tensorflow.keras.models import save_model,load_model\n",
    "\n",
    "from utils.util import *\n",
    "from utils.preprocessing import *\n",
    "from utils.dataiter import Dataiter\n",
    "from utils.evaluate import calculate_ctr, compute_rce, average_precision_score\n",
    "from utils.target_encode import MTE_one_shot\n",
    "\n",
    "import tensorflow.keras.backend as K\n",
    "import core.config as conf"
   ]
  },
  {
   "cell_type": "markdown",
   "id": "92459096",
   "metadata": {},
   "source": [
    "## Load data"
   ]
  },
  {
   "cell_type": "code",
   "execution_count": 2,
   "id": "3396761e",
   "metadata": {},
   "outputs": [],
   "source": [
    "path = f'{conf.raw_lzo_path}/part-00000'\n",
    "train = read_data(path)\n",
    "path = f'{conf.raw_lzo_path}/part-00100'\n",
    "test = read_data(path)"
   ]
  },
  {
   "cell_type": "code",
   "execution_count": 3,
   "id": "c1757350",
   "metadata": {},
   "outputs": [],
   "source": [
    "TARGET = 'like'"
   ]
  },
  {
   "cell_type": "markdown",
   "id": "396b8f20",
   "metadata": {},
   "source": [
    "- media target encoding(photo, video, gif)\n",
    "- tweet_type\n",
    "- language\n",
    "- tweet_timestamp\n",
    "- engaged_with_user_id\n",
    "- engaged_with_user_follower_count\n",
    "- engaging_user_id\n",
    "- engaging_user_following_count\n",
    "- engagee_follows_engager\n",
    "- 'reply_timestamp', 'retweet_timestamp','retweet_with_comment_timestamp', 'like_timestamp'"
   ]
  },
  {
   "cell_type": "markdown",
   "id": "af6e8c0f",
   "metadata": {},
   "source": [
    "## Preprocessing"
   ]
  },
  {
   "cell_type": "code",
   "execution_count": 4,
   "id": "86dd9c7f",
   "metadata": {},
   "outputs": [],
   "source": [
    "def set_dataframe_types(df, train):\n",
    "    df['id']   = np.arange( df.shape[0] )\n",
    "    df['id']   = df['id'].astype(np.uint32)\n",
    "\n",
    "    if train:\n",
    "        df['reply_timestamp']   = df['reply_timestamp'].fillna(0)\n",
    "        df['retweet_timestamp'] = df['retweet_timestamp'].fillna(0)\n",
    "        df['comment_timestamp'] = df['comment_timestamp'].fillna(0)\n",
    "        df['like_timestamp']    = df['like_timestamp'].fillna(0)\n",
    "\n",
    "        df['reply_timestamp']   = df['reply_timestamp'].astype(np.uint32)\n",
    "        df['retweet_timestamp'] = df['retweet_timestamp'].astype(np.uint32)\n",
    "        df['comment_timestamp'] = df['comment_timestamp'].astype(np.uint32)\n",
    "        df['like_timestamp']    = df['like_timestamp'].astype(np.uint32)\n",
    "\n",
    "    df['tweet_timestamp']         = df['tweet_timestamp'].astype( np.uint32 )\n",
    "    df['creator_follower_count']  = df['creator_follower_count'].astype( np.uint32 )\n",
    "    df['creator_following_count'] = df['creator_following_count'].astype( np.uint32 )\n",
    "    df['creator_account_creation']= df['creator_account_creation'].astype( np.uint32 )\n",
    "    df['engager_follower_count']  = df['engager_follower_count'].astype( np.uint32 )\n",
    "    df['engager_following_count'] = df['engager_following_count'].astype( np.uint32 )\n",
    "    df['engager_account_creation']= df['engager_account_creation'].astype( np.uint32 )\n",
    "\n",
    "    return df\n",
    "\n",
    "\n",
    "def preprocess(df, target, train):\n",
    "    df = set_dataframe_types(df, train)\n",
    "    # df = df.set_index('id')\n",
    "    # df.columns = conf.raw_features + conf.labels\n",
    "    df = df.drop('text_tokens', axis=1)\n",
    "    \n",
    "    df = feature_extraction(df, features=conf.used_features, train=train) # extract 'used_features'\n",
    "    cols = []\n",
    "\n",
    "    return df"
   ]
  },
  {
   "cell_type": "code",
   "execution_count": 5,
   "id": "1b29bb49",
   "metadata": {},
   "outputs": [],
   "source": [
    "\n",
    "train = preprocess(train, TARGET, True)\n"
   ]
  },
  {
   "cell_type": "code",
   "execution_count": 6,
   "id": "23072227",
   "metadata": {},
   "outputs": [],
   "source": [
    "test = preprocess(test, TARGET, True)"
   ]
  },
  {
   "cell_type": "markdown",
   "id": "5f1dc031",
   "metadata": {},
   "source": [
    "### Negative Sampling"
   ]
  },
  {
   "cell_type": "code",
   "execution_count": 7,
   "id": "0888b713",
   "metadata": {},
   "outputs": [
    {
     "name": "stdout",
     "output_type": "stream",
     "text": [
      "1207588\n",
      "1826314\n"
     ]
    }
   ],
   "source": [
    "df_positive = train[train['like']==1]\n",
    "df_negative = train[train['like']==0]\n",
    "print(len(df_positive))\n",
    "print(len(df_negative))"
   ]
  },
  {
   "cell_type": "code",
   "execution_count": 8,
   "id": "8c9fe67d",
   "metadata": {},
   "outputs": [],
   "source": [
    "df_negative = df_negative.sample(n = len(df_positive), random_state=777)"
   ]
  },
  {
   "cell_type": "code",
   "execution_count": 9,
   "id": "63148292",
   "metadata": {},
   "outputs": [],
   "source": [
    "train = pd.concat([df_positive, df_negative])"
   ]
  },
  {
   "cell_type": "code",
   "execution_count": 10,
   "id": "0fdf0490",
   "metadata": {},
   "outputs": [],
   "source": [
    "train  = train.sample(frac = 1)"
   ]
  },
  {
   "cell_type": "code",
   "execution_count": 11,
   "id": "fdd01dcc",
   "metadata": {
    "scrolled": true
   },
   "outputs": [
    {
     "data": {
      "text/html": [
       "<div>\n",
       "<style scoped>\n",
       "    .dataframe tbody tr th:only-of-type {\n",
       "        vertical-align: middle;\n",
       "    }\n",
       "\n",
       "    .dataframe tbody tr th {\n",
       "        vertical-align: top;\n",
       "    }\n",
       "\n",
       "    .dataframe thead th {\n",
       "        text-align: right;\n",
       "    }\n",
       "</style>\n",
       "<table border=\"1\" class=\"dataframe\">\n",
       "  <thead>\n",
       "    <tr style=\"text-align: right;\">\n",
       "      <th></th>\n",
       "      <th>language</th>\n",
       "      <th>domains</th>\n",
       "      <th>engager_account_creation</th>\n",
       "      <th>creator_account_creation</th>\n",
       "      <th>creator_following_count</th>\n",
       "      <th>tweet_id</th>\n",
       "      <th>tweet_timestamp</th>\n",
       "      <th>creator_follows_engager</th>\n",
       "      <th>creator_is_verified</th>\n",
       "      <th>tweet_type</th>\n",
       "      <th>...</th>\n",
       "      <th>engager_id</th>\n",
       "      <th>creator_follower_count</th>\n",
       "      <th>reply</th>\n",
       "      <th>retweet</th>\n",
       "      <th>comment</th>\n",
       "      <th>like</th>\n",
       "      <th>dt_day</th>\n",
       "      <th>dt_dow</th>\n",
       "      <th>dt_hour</th>\n",
       "      <th>len_domains</th>\n",
       "    </tr>\n",
       "  </thead>\n",
       "  <tbody>\n",
       "    <tr>\n",
       "      <th>840103</th>\n",
       "      <td>36</td>\n",
       "      <td>0</td>\n",
       "      <td>1486404542</td>\n",
       "      <td>1596372711</td>\n",
       "      <td>195</td>\n",
       "      <td>E68B6B9D6C8468A51296B9A386C86D4E</td>\n",
       "      <td>1614063446</td>\n",
       "      <td>1</td>\n",
       "      <td>0</td>\n",
       "      <td>1</td>\n",
       "      <td>...</td>\n",
       "      <td>1F9BE8BDED205F915510B2FFCD66B443</td>\n",
       "      <td>180</td>\n",
       "      <td>0.0</td>\n",
       "      <td>0.0</td>\n",
       "      <td>0.0</td>\n",
       "      <td>0.0</td>\n",
       "      <td>23</td>\n",
       "      <td>1</td>\n",
       "      <td>6</td>\n",
       "      <td>0</td>\n",
       "    </tr>\n",
       "    <tr>\n",
       "      <th>2521412</th>\n",
       "      <td>61</td>\n",
       "      <td>2712</td>\n",
       "      <td>1324462976</td>\n",
       "      <td>1280204751</td>\n",
       "      <td>2805</td>\n",
       "      <td>D9ADC06364750B255340D9C3A1C3AF3B</td>\n",
       "      <td>1612575857</td>\n",
       "      <td>1</td>\n",
       "      <td>0</td>\n",
       "      <td>2</td>\n",
       "      <td>...</td>\n",
       "      <td>991C4831DB837F645045A0607746BAA5</td>\n",
       "      <td>3605</td>\n",
       "      <td>0.0</td>\n",
       "      <td>0.0</td>\n",
       "      <td>0.0</td>\n",
       "      <td>0.0</td>\n",
       "      <td>6</td>\n",
       "      <td>5</td>\n",
       "      <td>1</td>\n",
       "      <td>1</td>\n",
       "    </tr>\n",
       "    <tr>\n",
       "      <th>1720505</th>\n",
       "      <td>41</td>\n",
       "      <td>0</td>\n",
       "      <td>1440703501</td>\n",
       "      <td>1586883676</td>\n",
       "      <td>3116</td>\n",
       "      <td>10F92F1825C682B8F956C1EB5A4A7F1A</td>\n",
       "      <td>1613055954</td>\n",
       "      <td>1</td>\n",
       "      <td>0</td>\n",
       "      <td>2</td>\n",
       "      <td>...</td>\n",
       "      <td>8F721DEDF189B7CFD8E44CADEDA0EF0F</td>\n",
       "      <td>3207</td>\n",
       "      <td>0.0</td>\n",
       "      <td>0.0</td>\n",
       "      <td>0.0</td>\n",
       "      <td>0.0</td>\n",
       "      <td>11</td>\n",
       "      <td>3</td>\n",
       "      <td>15</td>\n",
       "      <td>0</td>\n",
       "    </tr>\n",
       "    <tr>\n",
       "      <th>61393</th>\n",
       "      <td>46</td>\n",
       "      <td>0</td>\n",
       "      <td>1541684874</td>\n",
       "      <td>1584008712</td>\n",
       "      <td>961</td>\n",
       "      <td>47C41151C235B158751E3C54712EA2F5</td>\n",
       "      <td>1614109485</td>\n",
       "      <td>1</td>\n",
       "      <td>0</td>\n",
       "      <td>2</td>\n",
       "      <td>...</td>\n",
       "      <td>155FEFD15B42F3738EFE7C5EAA90F00E</td>\n",
       "      <td>1142</td>\n",
       "      <td>0.0</td>\n",
       "      <td>1.0</td>\n",
       "      <td>0.0</td>\n",
       "      <td>0.0</td>\n",
       "      <td>23</td>\n",
       "      <td>1</td>\n",
       "      <td>19</td>\n",
       "      <td>0</td>\n",
       "    </tr>\n",
       "    <tr>\n",
       "      <th>115225</th>\n",
       "      <td>62</td>\n",
       "      <td>0</td>\n",
       "      <td>1488035989</td>\n",
       "      <td>1555892357</td>\n",
       "      <td>1024</td>\n",
       "      <td>68FD12BB2B2357E35F31A81303846BC2</td>\n",
       "      <td>1613258501</td>\n",
       "      <td>1</td>\n",
       "      <td>0</td>\n",
       "      <td>1</td>\n",
       "      <td>...</td>\n",
       "      <td>AE3EB92C12A0F6F83DE1C65093ADA587</td>\n",
       "      <td>4127</td>\n",
       "      <td>0.0</td>\n",
       "      <td>0.0</td>\n",
       "      <td>0.0</td>\n",
       "      <td>0.0</td>\n",
       "      <td>13</td>\n",
       "      <td>5</td>\n",
       "      <td>23</td>\n",
       "      <td>0</td>\n",
       "    </tr>\n",
       "  </tbody>\n",
       "</table>\n",
       "<p>5 rows × 25 columns</p>\n",
       "</div>"
      ],
      "text/plain": [
       "         language  domains  engager_account_creation  \\\n",
       "840103         36        0                1486404542   \n",
       "2521412        61     2712                1324462976   \n",
       "1720505        41        0                1440703501   \n",
       "61393          46        0                1541684874   \n",
       "115225         62        0                1488035989   \n",
       "\n",
       "         creator_account_creation  creator_following_count  \\\n",
       "840103                 1596372711                      195   \n",
       "2521412                1280204751                     2805   \n",
       "1720505                1586883676                     3116   \n",
       "61393                  1584008712                      961   \n",
       "115225                 1555892357                     1024   \n",
       "\n",
       "                                 tweet_id  tweet_timestamp  \\\n",
       "840103   E68B6B9D6C8468A51296B9A386C86D4E       1614063446   \n",
       "2521412  D9ADC06364750B255340D9C3A1C3AF3B       1612575857   \n",
       "1720505  10F92F1825C682B8F956C1EB5A4A7F1A       1613055954   \n",
       "61393    47C41151C235B158751E3C54712EA2F5       1614109485   \n",
       "115225   68FD12BB2B2357E35F31A81303846BC2       1613258501   \n",
       "\n",
       "         creator_follows_engager  creator_is_verified  tweet_type  ...  \\\n",
       "840103                         1                    0           1  ...   \n",
       "2521412                        1                    0           2  ...   \n",
       "1720505                        1                    0           2  ...   \n",
       "61393                          1                    0           2  ...   \n",
       "115225                         1                    0           1  ...   \n",
       "\n",
       "                               engager_id  creator_follower_count  reply  \\\n",
       "840103   1F9BE8BDED205F915510B2FFCD66B443                     180    0.0   \n",
       "2521412  991C4831DB837F645045A0607746BAA5                    3605    0.0   \n",
       "1720505  8F721DEDF189B7CFD8E44CADEDA0EF0F                    3207    0.0   \n",
       "61393    155FEFD15B42F3738EFE7C5EAA90F00E                    1142    0.0   \n",
       "115225   AE3EB92C12A0F6F83DE1C65093ADA587                    4127    0.0   \n",
       "\n",
       "         retweet  comment like  dt_day  dt_dow  dt_hour  len_domains  \n",
       "840103       0.0      0.0  0.0      23       1        6            0  \n",
       "2521412      0.0      0.0  0.0       6       5        1            1  \n",
       "1720505      0.0      0.0  0.0      11       3       15            0  \n",
       "61393        1.0      0.0  0.0      23       1       19            0  \n",
       "115225       0.0      0.0  0.0      13       5       23            0  \n",
       "\n",
       "[5 rows x 25 columns]"
      ]
     },
     "execution_count": 11,
     "metadata": {},
     "output_type": "execute_result"
    }
   ],
   "source": [
    "train.head()"
   ]
  },
  {
   "cell_type": "markdown",
   "id": "6bc48084",
   "metadata": {},
   "source": [
    "## Modeling"
   ]
  },
  {
   "cell_type": "code",
   "execution_count": 12,
   "id": "1aed32e5",
   "metadata": {},
   "outputs": [
    {
     "name": "stdout",
     "output_type": "stream",
     "text": [
      "<class 'pandas.core.frame.DataFrame'>\n",
      "Int64Index: 2415176 entries, 840103 to 1234581\n",
      "Data columns (total 25 columns):\n",
      " #   Column                    Dtype  \n",
      "---  ------                    -----  \n",
      " 0   language                  uint8  \n",
      " 1   domains                   int32  \n",
      " 2   engager_account_creation  int32  \n",
      " 3   creator_account_creation  int32  \n",
      " 4   creator_following_count   int32  \n",
      " 5   tweet_id                  object \n",
      " 6   tweet_timestamp           int32  \n",
      " 7   creator_follows_engager   int8   \n",
      " 8   creator_is_verified       int8   \n",
      " 9   tweet_type                uint8  \n",
      " 10  creator_id                object \n",
      " 11  engager_follower_count    int32  \n",
      " 12  engager_following_count   int32  \n",
      " 13  media                     uint8  \n",
      " 14  engager_is_verified       int8   \n",
      " 15  engager_id                object \n",
      " 16  creator_follower_count    int32  \n",
      " 17  reply                     float32\n",
      " 18  retweet                   float32\n",
      " 19  comment                   float32\n",
      " 20  like                      float32\n",
      " 21  dt_day                    int8   \n",
      " 22  dt_dow                    int8   \n",
      " 23  dt_hour                   int8   \n",
      " 24  len_domains               int64  \n",
      "dtypes: float32(4), int32(8), int64(1), int8(6), object(3), uint8(3)\n",
      "memory usage: 223.4+ MB\n"
     ]
    }
   ],
   "source": [
    "train.info()"
   ]
  },
  {
   "cell_type": "code",
   "execution_count": 13,
   "id": "7c5149bc",
   "metadata": {},
   "outputs": [],
   "source": [
    "label_names = ['reply', 'retweet', 'comment']\n",
    "DONT_USE = ['engager_account_creation','engage_time',\n",
    "            'engager_account_creation',\n",
    "            'fold','tweet_id', \n",
    "            'tr','dt_day','','',\n",
    "            'engager_id','engager_is_verified',\n",
    "            'elapsed_time',\n",
    "            'links','domains','hashtags0','hashtags1',\n",
    "            'hashtags','tweet_hash','dt_second','id',\n",
    "            'tw_hash0',\n",
    "            'tw_hash1',\n",
    "            'tw_rt_uhash',\n",
    "            'same_language', 'nan_language',\n",
    "            'tw_hash', 'tw_freq_hash','tw_first_word', 'tw_second_word', 'tw_last_word', 'tw_llast_word',\n",
    "            'ypred','creator_count_combined','creator_user_fer_count_delta_time','creator_user_fing_count_delta_time','creator_user_fering_count_delta_time','creator_user_fing_count_mode','creator_user_fer_count_mode','creator_user_fering_count_mode'\n",
    "           ]\n",
    "DONT_USE += label_names\n",
    "DONT_USE += conf.labels\n"
   ]
  },
  {
   "cell_type": "code",
   "execution_count": 14,
   "id": "e09d4e03",
   "metadata": {},
   "outputs": [],
   "source": [
    "RMV = [c for c in DONT_USE if c in train.columns]"
   ]
  },
  {
   "cell_type": "markdown",
   "id": "5f050d21",
   "metadata": {},
   "source": [
    "### Data Split"
   ]
  },
  {
   "cell_type": "code",
   "execution_count": 15,
   "id": "cde3b3b6",
   "metadata": {},
   "outputs": [],
   "source": [
    "#y_train = train[TARGET]\n",
    "train = train.drop(RMV, axis=1)"
   ]
  },
  {
   "cell_type": "code",
   "execution_count": 16,
   "id": "025c5bbc",
   "metadata": {},
   "outputs": [],
   "source": [
    "train, val = train_test_split(train, test_size=0.2)"
   ]
  },
  {
   "cell_type": "code",
   "execution_count": 17,
   "id": "799bda52",
   "metadata": {},
   "outputs": [],
   "source": [
    "test = test.drop(RMV, axis=1)"
   ]
  },
  {
   "cell_type": "markdown",
   "id": "e02fdc47",
   "metadata": {},
   "source": [
    "### Scaling"
   ]
  },
  {
   "cell_type": "code",
   "execution_count": 18,
   "id": "4b4ba09f",
   "metadata": {},
   "outputs": [],
   "source": [
    "columns = ['tweet_timestamp', 'creator_account_creation', 'engager_follower_count', 'engager_following_count', 'creator_follower_count', 'creator_following_count']"
   ]
  },
  {
   "cell_type": "code",
   "execution_count": 19,
   "id": "791a6499",
   "metadata": {},
   "outputs": [],
   "source": [
    "train = train.reset_index(drop=True)\n",
    "test = test.reset_index(drop=True)\n",
    "val = val.reset_index(drop=True)"
   ]
  },
  {
   "cell_type": "code",
   "execution_count": 20,
   "id": "9b6bdadf",
   "metadata": {},
   "outputs": [
    {
     "data": {
      "text/plain": [
       "StandardScaler()"
      ]
     },
     "execution_count": 20,
     "metadata": {},
     "output_type": "execute_result"
    }
   ],
   "source": [
    "standard_scaler = preprocessing.StandardScaler()\n",
    "standard_scaler.fit(train[columns])"
   ]
  },
  {
   "cell_type": "code",
   "execution_count": 21,
   "id": "ae4d1804",
   "metadata": {},
   "outputs": [],
   "source": [
    "ss = standard_scaler.transform(train[columns])"
   ]
  },
  {
   "cell_type": "code",
   "execution_count": 22,
   "id": "634f7510",
   "metadata": {},
   "outputs": [],
   "source": [
    "std_std = pd.DataFrame(ss, columns=columns)"
   ]
  },
  {
   "cell_type": "code",
   "execution_count": 23,
   "id": "845acabf",
   "metadata": {},
   "outputs": [],
   "source": [
    "train[columns] = std_std"
   ]
  },
  {
   "cell_type": "code",
   "execution_count": 24,
   "id": "f494a150",
   "metadata": {},
   "outputs": [],
   "source": [
    "ss = standard_scaler.transform(val[columns])\n",
    "std_val = pd.DataFrame(ss, columns = columns)"
   ]
  },
  {
   "cell_type": "code",
   "execution_count": 25,
   "id": "ffb7558b",
   "metadata": {},
   "outputs": [],
   "source": [
    "val[columns] = std_val"
   ]
  },
  {
   "cell_type": "code",
   "execution_count": 26,
   "id": "7cde1545",
   "metadata": {},
   "outputs": [],
   "source": [
    "ss = standard_scaler.transform(test[columns])\n",
    "std_test = pd.DataFrame(ss, columns = columns)"
   ]
  },
  {
   "cell_type": "code",
   "execution_count": 27,
   "id": "e1e5f4a7",
   "metadata": {},
   "outputs": [],
   "source": [
    "test[columns] = std_test"
   ]
  },
  {
   "cell_type": "code",
   "execution_count": 28,
   "id": "a8ffe516",
   "metadata": {},
   "outputs": [
    {
     "data": {
      "text/html": [
       "<div>\n",
       "<style scoped>\n",
       "    .dataframe tbody tr th:only-of-type {\n",
       "        vertical-align: middle;\n",
       "    }\n",
       "\n",
       "    .dataframe tbody tr th {\n",
       "        vertical-align: top;\n",
       "    }\n",
       "\n",
       "    .dataframe thead th {\n",
       "        text-align: right;\n",
       "    }\n",
       "</style>\n",
       "<table border=\"1\" class=\"dataframe\">\n",
       "  <thead>\n",
       "    <tr style=\"text-align: right;\">\n",
       "      <th></th>\n",
       "      <th>language</th>\n",
       "      <th>creator_account_creation</th>\n",
       "      <th>creator_following_count</th>\n",
       "      <th>tweet_timestamp</th>\n",
       "      <th>creator_follows_engager</th>\n",
       "      <th>creator_is_verified</th>\n",
       "      <th>tweet_type</th>\n",
       "      <th>creator_id</th>\n",
       "      <th>engager_follower_count</th>\n",
       "      <th>engager_following_count</th>\n",
       "      <th>media</th>\n",
       "      <th>creator_follower_count</th>\n",
       "      <th>like</th>\n",
       "      <th>dt_dow</th>\n",
       "      <th>dt_hour</th>\n",
       "      <th>len_domains</th>\n",
       "    </tr>\n",
       "  </thead>\n",
       "  <tbody>\n",
       "    <tr>\n",
       "      <th>0</th>\n",
       "      <td>10</td>\n",
       "      <td>-0.819904</td>\n",
       "      <td>-0.004857</td>\n",
       "      <td>0.533447</td>\n",
       "      <td>1</td>\n",
       "      <td>0</td>\n",
       "      <td>1</td>\n",
       "      <td>15F44F223CAEF58E6422303C2F1AE6C5</td>\n",
       "      <td>-0.046760</td>\n",
       "      <td>-0.283809</td>\n",
       "      <td>5</td>\n",
       "      <td>-0.165509</td>\n",
       "      <td>0.0</td>\n",
       "      <td>2</td>\n",
       "      <td>18</td>\n",
       "      <td>0</td>\n",
       "    </tr>\n",
       "    <tr>\n",
       "      <th>1</th>\n",
       "      <td>19</td>\n",
       "      <td>-0.046149</td>\n",
       "      <td>-0.098361</td>\n",
       "      <td>1.711336</td>\n",
       "      <td>1</td>\n",
       "      <td>0</td>\n",
       "      <td>1</td>\n",
       "      <td>53A46339C2898D2280F892DAEE7734C2</td>\n",
       "      <td>-0.020778</td>\n",
       "      <td>0.062282</td>\n",
       "      <td>0</td>\n",
       "      <td>-0.166813</td>\n",
       "      <td>0.0</td>\n",
       "      <td>2</td>\n",
       "      <td>21</td>\n",
       "      <td>0</td>\n",
       "    </tr>\n",
       "    <tr>\n",
       "      <th>2</th>\n",
       "      <td>19</td>\n",
       "      <td>-1.367373</td>\n",
       "      <td>-0.109526</td>\n",
       "      <td>0.572595</td>\n",
       "      <td>0</td>\n",
       "      <td>0</td>\n",
       "      <td>2</td>\n",
       "      <td>1060472A90305324E68972423297CD55</td>\n",
       "      <td>-0.048934</td>\n",
       "      <td>-0.125349</td>\n",
       "      <td>0</td>\n",
       "      <td>-0.152662</td>\n",
       "      <td>0.0</td>\n",
       "      <td>2</td>\n",
       "      <td>23</td>\n",
       "      <td>0</td>\n",
       "    </tr>\n",
       "    <tr>\n",
       "      <th>3</th>\n",
       "      <td>10</td>\n",
       "      <td>0.466522</td>\n",
       "      <td>-0.094524</td>\n",
       "      <td>0.385024</td>\n",
       "      <td>0</td>\n",
       "      <td>0</td>\n",
       "      <td>1</td>\n",
       "      <td>0368E87152A9489946235DB12718D649</td>\n",
       "      <td>-0.080091</td>\n",
       "      <td>-0.430997</td>\n",
       "      <td>9</td>\n",
       "      <td>-0.165348</td>\n",
       "      <td>1.0</td>\n",
       "      <td>1</td>\n",
       "      <td>20</td>\n",
       "      <td>0</td>\n",
       "    </tr>\n",
       "    <tr>\n",
       "      <th>4</th>\n",
       "      <td>41</td>\n",
       "      <td>0.778799</td>\n",
       "      <td>-0.102758</td>\n",
       "      <td>0.651639</td>\n",
       "      <td>1</td>\n",
       "      <td>0</td>\n",
       "      <td>2</td>\n",
       "      <td>4D8C28569248FA4F53CFBABF83B3AA52</td>\n",
       "      <td>-0.067773</td>\n",
       "      <td>-0.396520</td>\n",
       "      <td>0</td>\n",
       "      <td>-0.166806</td>\n",
       "      <td>1.0</td>\n",
       "      <td>3</td>\n",
       "      <td>11</td>\n",
       "      <td>0</td>\n",
       "    </tr>\n",
       "    <tr>\n",
       "      <th>...</th>\n",
       "      <td>...</td>\n",
       "      <td>...</td>\n",
       "      <td>...</td>\n",
       "      <td>...</td>\n",
       "      <td>...</td>\n",
       "      <td>...</td>\n",
       "      <td>...</td>\n",
       "      <td>...</td>\n",
       "      <td>...</td>\n",
       "      <td>...</td>\n",
       "      <td>...</td>\n",
       "      <td>...</td>\n",
       "      <td>...</td>\n",
       "      <td>...</td>\n",
       "      <td>...</td>\n",
       "      <td>...</td>\n",
       "    </tr>\n",
       "    <tr>\n",
       "      <th>1932135</th>\n",
       "      <td>46</td>\n",
       "      <td>-1.290306</td>\n",
       "      <td>-0.081831</td>\n",
       "      <td>-0.605710</td>\n",
       "      <td>0</td>\n",
       "      <td>1</td>\n",
       "      <td>0</td>\n",
       "      <td>A7913C906C695518E7574DCEB72AE967</td>\n",
       "      <td>-0.052764</td>\n",
       "      <td>0.336768</td>\n",
       "      <td>0</td>\n",
       "      <td>-0.156844</td>\n",
       "      <td>0.0</td>\n",
       "      <td>2</td>\n",
       "      <td>20</td>\n",
       "      <td>0</td>\n",
       "    </tr>\n",
       "    <tr>\n",
       "      <th>1932136</th>\n",
       "      <td>10</td>\n",
       "      <td>0.472857</td>\n",
       "      <td>-0.103912</td>\n",
       "      <td>0.073950</td>\n",
       "      <td>0</td>\n",
       "      <td>0</td>\n",
       "      <td>2</td>\n",
       "      <td>86133EADAFCA4DB3F490ACFF6AED703B</td>\n",
       "      <td>-0.080920</td>\n",
       "      <td>-0.421052</td>\n",
       "      <td>9</td>\n",
       "      <td>-0.134665</td>\n",
       "      <td>0.0</td>\n",
       "      <td>6</td>\n",
       "      <td>23</td>\n",
       "      <td>0</td>\n",
       "    </tr>\n",
       "    <tr>\n",
       "      <th>1932137</th>\n",
       "      <td>47</td>\n",
       "      <td>-0.577101</td>\n",
       "      <td>-0.101199</td>\n",
       "      <td>-0.487242</td>\n",
       "      <td>1</td>\n",
       "      <td>0</td>\n",
       "      <td>2</td>\n",
       "      <td>5FADFB53EB4D6223307A6B616F42438B</td>\n",
       "      <td>-0.044690</td>\n",
       "      <td>-0.216845</td>\n",
       "      <td>0</td>\n",
       "      <td>-0.166719</td>\n",
       "      <td>0.0</td>\n",
       "      <td>3</td>\n",
       "      <td>13</td>\n",
       "      <td>0</td>\n",
       "    </tr>\n",
       "    <tr>\n",
       "      <th>1932138</th>\n",
       "      <td>5</td>\n",
       "      <td>-0.195090</td>\n",
       "      <td>-0.035547</td>\n",
       "      <td>0.123081</td>\n",
       "      <td>1</td>\n",
       "      <td>0</td>\n",
       "      <td>2</td>\n",
       "      <td>F36ED0E4DCA7219249DC9A27A02678C0</td>\n",
       "      <td>-0.079988</td>\n",
       "      <td>-0.454202</td>\n",
       "      <td>0</td>\n",
       "      <td>-0.166334</td>\n",
       "      <td>1.0</td>\n",
       "      <td>0</td>\n",
       "      <td>6</td>\n",
       "      <td>0</td>\n",
       "    </tr>\n",
       "    <tr>\n",
       "      <th>1932139</th>\n",
       "      <td>47</td>\n",
       "      <td>1.087297</td>\n",
       "      <td>-0.055320</td>\n",
       "      <td>-1.486870</td>\n",
       "      <td>0</td>\n",
       "      <td>0</td>\n",
       "      <td>1</td>\n",
       "      <td>F962A6A513C66D05A854383BCC696A8B</td>\n",
       "      <td>-0.010427</td>\n",
       "      <td>0.623188</td>\n",
       "      <td>5</td>\n",
       "      <td>-0.164204</td>\n",
       "      <td>1.0</td>\n",
       "      <td>4</td>\n",
       "      <td>12</td>\n",
       "      <td>0</td>\n",
       "    </tr>\n",
       "  </tbody>\n",
       "</table>\n",
       "<p>1932140 rows × 16 columns</p>\n",
       "</div>"
      ],
      "text/plain": [
       "         language  creator_account_creation  creator_following_count  \\\n",
       "0              10                 -0.819904                -0.004857   \n",
       "1              19                 -0.046149                -0.098361   \n",
       "2              19                 -1.367373                -0.109526   \n",
       "3              10                  0.466522                -0.094524   \n",
       "4              41                  0.778799                -0.102758   \n",
       "...           ...                       ...                      ...   \n",
       "1932135        46                 -1.290306                -0.081831   \n",
       "1932136        10                  0.472857                -0.103912   \n",
       "1932137        47                 -0.577101                -0.101199   \n",
       "1932138         5                 -0.195090                -0.035547   \n",
       "1932139        47                  1.087297                -0.055320   \n",
       "\n",
       "         tweet_timestamp  creator_follows_engager  creator_is_verified  \\\n",
       "0               0.533447                        1                    0   \n",
       "1               1.711336                        1                    0   \n",
       "2               0.572595                        0                    0   \n",
       "3               0.385024                        0                    0   \n",
       "4               0.651639                        1                    0   \n",
       "...                  ...                      ...                  ...   \n",
       "1932135        -0.605710                        0                    1   \n",
       "1932136         0.073950                        0                    0   \n",
       "1932137        -0.487242                        1                    0   \n",
       "1932138         0.123081                        1                    0   \n",
       "1932139        -1.486870                        0                    0   \n",
       "\n",
       "         tweet_type                        creator_id  engager_follower_count  \\\n",
       "0                 1  15F44F223CAEF58E6422303C2F1AE6C5               -0.046760   \n",
       "1                 1  53A46339C2898D2280F892DAEE7734C2               -0.020778   \n",
       "2                 2  1060472A90305324E68972423297CD55               -0.048934   \n",
       "3                 1  0368E87152A9489946235DB12718D649               -0.080091   \n",
       "4                 2  4D8C28569248FA4F53CFBABF83B3AA52               -0.067773   \n",
       "...             ...                               ...                     ...   \n",
       "1932135           0  A7913C906C695518E7574DCEB72AE967               -0.052764   \n",
       "1932136           2  86133EADAFCA4DB3F490ACFF6AED703B               -0.080920   \n",
       "1932137           2  5FADFB53EB4D6223307A6B616F42438B               -0.044690   \n",
       "1932138           2  F36ED0E4DCA7219249DC9A27A02678C0               -0.079988   \n",
       "1932139           1  F962A6A513C66D05A854383BCC696A8B               -0.010427   \n",
       "\n",
       "         engager_following_count  media  creator_follower_count  like  dt_dow  \\\n",
       "0                      -0.283809      5               -0.165509   0.0       2   \n",
       "1                       0.062282      0               -0.166813   0.0       2   \n",
       "2                      -0.125349      0               -0.152662   0.0       2   \n",
       "3                      -0.430997      9               -0.165348   1.0       1   \n",
       "4                      -0.396520      0               -0.166806   1.0       3   \n",
       "...                          ...    ...                     ...   ...     ...   \n",
       "1932135                 0.336768      0               -0.156844   0.0       2   \n",
       "1932136                -0.421052      9               -0.134665   0.0       6   \n",
       "1932137                -0.216845      0               -0.166719   0.0       3   \n",
       "1932138                -0.454202      0               -0.166334   1.0       0   \n",
       "1932139                 0.623188      5               -0.164204   1.0       4   \n",
       "\n",
       "         dt_hour  len_domains  \n",
       "0             18            0  \n",
       "1             21            0  \n",
       "2             23            0  \n",
       "3             20            0  \n",
       "4             11            0  \n",
       "...          ...          ...  \n",
       "1932135       20            0  \n",
       "1932136       23            0  \n",
       "1932137       13            0  \n",
       "1932138        6            0  \n",
       "1932139       12            0  \n",
       "\n",
       "[1932140 rows x 16 columns]"
      ]
     },
     "execution_count": 28,
     "metadata": {},
     "output_type": "execute_result"
    }
   ],
   "source": [
    "train"
   ]
  },
  {
   "cell_type": "markdown",
   "id": "6ab3e4bc",
   "metadata": {},
   "source": [
    "### Model"
   ]
  },
  {
   "cell_type": "code",
   "execution_count": 29,
   "id": "253559ea",
   "metadata": {},
   "outputs": [],
   "source": [
    "def get_quantile_based_boundaries(feature_values, num_buckets):\n",
    "    boundaries = np.arange(1.0, num_buckets) / num_buckets\n",
    "    quantiles = feature_values.quantile(boundaries)\n",
    "    return sorted([quantiles[q] for q in quantiles.keys()])"
   ]
  },
  {
   "cell_type": "code",
   "execution_count": 30,
   "id": "e53eef85",
   "metadata": {},
   "outputs": [],
   "source": [
    "def construct_feature_columns():\n",
    "    feature_columns = [] # 변형 데이터???\n",
    "    feature_layer_inputs={} # 원본 input 데이터????\n",
    "    \n",
    "    creator_follower_count = tf.feature_column.numeric_column(\"creator_follower_count\")\n",
    "    creator_account_creation = tf.feature_column.numeric_column(\"creator_account_creation\")\n",
    "    language = tf.feature_column.numeric_column(\"language\")\n",
    "    tweet_type = tf.feature_column.numeric_column(\"tweet_type\")\n",
    "    media = tf.feature_column.numeric_column(\"media\")\n",
    "    creator_is_verified = tf.feature_column.numeric_column(\"creator_is_verified\")\n",
    "    creator_follows_engager = tf.feature_column.numeric_column(\"creator_follows_engager\")\n",
    "    \n",
    "    for header in ['language', 'creator_account_creation', 'creator_following_count', 'creator_follower_count', 'engager_following_count', \n",
    "                   'engager_follower_count', 'media', 'tweet_type', 'creator_is_verified', 'creator_follows_engager', 'dt_dow', 'dt_hour', 'len_domains']:\n",
    "        feature_columns.append(tf.feature_column.numeric_column(header))\n",
    "        feature_layer_inputs[header] = tf.keras.Input(shape=(1,), name=header)\n",
    "    \n",
    "    # creator_id = tf.feature_column.embedding_column('creator_id', dimension=8)\n",
    "\n",
    "    bucketized_creator_follower_count = tf.feature_column.bucketized_column(\n",
    "        creator_follower_count, boundaries=get_quantile_based_boundaries(\n",
    "            train[\"creator_follower_count\"], 10))\n",
    "    feature_columns.append(bucketized_creator_follower_count)\n",
    "    \n",
    "    bucketized_creator_account_creation = tf.feature_column.bucketized_column(\n",
    "        creator_account_creation, boundaries=get_quantile_based_boundaries(\n",
    "            train[\"creator_account_creation\"], 10))\n",
    "    feature_columns.append(bucketized_creator_account_creation)\n",
    "    \n",
    "    creator_follower_x_account = tf.feature_column.crossed_column(\n",
    "        set([bucketized_creator_follower_count, bucketized_creator_account_creation]), hash_bucket_size=1000)\n",
    "    creator_follower_x_account = tf.feature_column.indicator_column(creator_follower_x_account)\n",
    "    feature_columns.append(creator_follower_x_account)\n",
    "    \n",
    "    language_x_tweet_type_x_media = tf.feature_column.crossed_column(\n",
    "        set([\"language\", \"tweet_type\", \"media\"]), hash_bucket_size=10000)\n",
    "    language_x_tweet_type_x_media = tf.feature_column.indicator_column(language_x_tweet_type_x_media)\n",
    "    feature_columns.append(language_x_tweet_type_x_media)\n",
    "    \n",
    "    language_x_tweet_type = tf.feature_column.crossed_column(\n",
    "        set([\"language\", \"tweet_type\"]), hash_bucket_size=1000)\n",
    "    language_x_tweet_type = tf.feature_column.indicator_column(language_x_tweet_type)\n",
    "    feature_columns.append(language_x_tweet_type)\n",
    "    \n",
    "    language_x_media = tf.feature_column.crossed_column(\n",
    "        set([\"language\", \"media\"]), hash_bucket_size=1000)\n",
    "    language_x_media = tf.feature_column.indicator_column(language_x_media)\n",
    "    feature_columns.append(language_x_media)\n",
    "    \n",
    "    language_x_media_x_tweet_type_x_creator_is_verified_x_creator_follows_engager = tf.feature_column.crossed_column(\n",
    "        set([\"language\", \"media\", \"tweet_type\", \"creator_is_verified\", 'creator_follows_engager']), hash_bucket_size=10000)\n",
    "    language_x_media_x_tweet_type_x_creator_is_verified_x_creator_follows_engager = tf.feature_column.indicator_column(language_x_media_x_tweet_type_x_creator_is_verified_x_creator_follows_engager)\n",
    "    feature_columns.append(language_x_media_x_tweet_type_x_creator_is_verified_x_creator_follows_engager)\n",
    "    \n",
    "    \n",
    "    #feature_layer_inputs['bucketized_creator_account_creation'] = tf.keras.Input(shape=(1,), name='bucketized_creator_account_creation')\n",
    "\n",
    "    #feature_layer_inputs['creator_follower_x_account'] = tf.keras.Input(shape=(1,), name='creator_follower_x_account')\n",
    "    \n",
    "    return feature_columns, feature_layer_inputs"
   ]
  },
  {
   "cell_type": "code",
   "execution_count": 31,
   "id": "a56a455f",
   "metadata": {},
   "outputs": [],
   "source": [
    "def df_to_dataset(dataframe, shuffle=True, batch_size=32):\n",
    "    dataframe = dataframe.copy()\n",
    "    labels = dataframe.pop('like')\n",
    "    ds = tf.data.Dataset.from_tensor_slices((dict(dataframe), labels))\n",
    "    if shuffle:\n",
    "        ds = ds.shuffle(buffer_size=len(dataframe))\n",
    "    ds = ds.batch(batch_size, drop_remainder=True)\n",
    "    return ds"
   ]
  },
  {
   "cell_type": "code",
   "execution_count": 32,
   "id": "94ca07fe",
   "metadata": {},
   "outputs": [],
   "source": [
    "ds_train = df_to_dataset(train)\n",
    "ds_val = df_to_dataset(val, shuffle=False)\n",
    "ds_test = df_to_dataset(test, shuffle=False)"
   ]
  },
  {
   "cell_type": "code",
   "execution_count": 33,
   "id": "5c843683",
   "metadata": {
    "scrolled": false
   },
   "outputs": [],
   "source": [
    "feature_columns, feature_layer_inputs = construct_feature_columns()"
   ]
  },
  {
   "cell_type": "code",
   "execution_count": 34,
   "id": "2c0b8567",
   "metadata": {},
   "outputs": [],
   "source": [
    "feature_layer = tf.keras.layers.DenseFeatures(feature_columns)"
   ]
  },
  {
   "cell_type": "code",
   "execution_count": 35,
   "id": "31acb2f1",
   "metadata": {},
   "outputs": [],
   "source": [
    "feature_layer_output = feature_layer(feature_layer_inputs)"
   ]
  },
  {
   "cell_type": "code",
   "execution_count": 36,
   "id": "b9924098",
   "metadata": {},
   "outputs": [],
   "source": [
    "input = [v for v in feature_layer_inputs.values()]"
   ]
  },
  {
   "cell_type": "code",
   "execution_count": 37,
   "id": "f00b2080",
   "metadata": {},
   "outputs": [],
   "source": [
    "x = Dense(16, activation=\"relu\")(feature_layer_output)\n",
    "x = Dense(8, activation=\"relu\")(x)\n",
    "x = Dense(4, activation=\"relu\")(x)\n",
    "outputs = Dense(1, activation=\"sigmoid\")(x)"
   ]
  },
  {
   "cell_type": "code",
   "execution_count": 38,
   "id": "2b8c4fd5",
   "metadata": {},
   "outputs": [],
   "source": [
    "model = tf.keras.Model(inputs=input, outputs=outputs, name=\"sequential_model\")"
   ]
  },
  {
   "cell_type": "code",
   "execution_count": 39,
   "id": "8684147a",
   "metadata": {},
   "outputs": [],
   "source": [
    "model.compile(\n",
    "    optimizer = 'adam',\n",
    "    loss = 'binary_crossentropy', # softmax : sparse_categorical_crossentropy, sigmoid : binary_crossentropy\n",
    "    metrics=['binary_crossentropy']) # sigmoid :binary_crossentropy"
   ]
  },
  {
   "cell_type": "code",
   "execution_count": 40,
   "id": "2d4ba549",
   "metadata": {},
   "outputs": [
    {
     "data": {
      "text/plain": [
       "<BatchDataset shapes: ({language: (32,), creator_account_creation: (32,), creator_following_count: (32,), tweet_timestamp: (32,), creator_follows_engager: (32,), creator_is_verified: (32,), tweet_type: (32,), creator_id: (32,), engager_follower_count: (32,), engager_following_count: (32,), media: (32,), creator_follower_count: (32,), dt_dow: (32,), dt_hour: (32,), len_domains: (32,)}, (32,)), types: ({language: tf.uint8, creator_account_creation: tf.float64, creator_following_count: tf.float64, tweet_timestamp: tf.float64, creator_follows_engager: tf.int8, creator_is_verified: tf.int8, tweet_type: tf.uint8, creator_id: tf.string, engager_follower_count: tf.float64, engager_following_count: tf.float64, media: tf.uint8, creator_follower_count: tf.float64, dt_dow: tf.int8, dt_hour: tf.int8, len_domains: tf.int64}, tf.float32)>"
      ]
     },
     "execution_count": 40,
     "metadata": {},
     "output_type": "execute_result"
    }
   ],
   "source": [
    "ds_train"
   ]
  },
  {
   "cell_type": "code",
   "execution_count": 41,
   "id": "958f3aac",
   "metadata": {},
   "outputs": [
    {
     "name": "stdout",
     "output_type": "stream",
     "text": [
      "Model: \"sequential_model\"\n",
      "__________________________________________________________________________________________________\n",
      "Layer (type)                    Output Shape         Param #     Connected to                     \n",
      "==================================================================================================\n",
      "creator_account_creation (Input [(None, 1)]          0                                            \n",
      "__________________________________________________________________________________________________\n",
      "creator_follower_count (InputLa [(None, 1)]          0                                            \n",
      "__________________________________________________________________________________________________\n",
      "creator_following_count (InputL [(None, 1)]          0                                            \n",
      "__________________________________________________________________________________________________\n",
      "creator_follows_engager (InputL [(None, 1)]          0                                            \n",
      "__________________________________________________________________________________________________\n",
      "creator_is_verified (InputLayer [(None, 1)]          0                                            \n",
      "__________________________________________________________________________________________________\n",
      "dt_dow (InputLayer)             [(None, 1)]          0                                            \n",
      "__________________________________________________________________________________________________\n",
      "dt_hour (InputLayer)            [(None, 1)]          0                                            \n",
      "__________________________________________________________________________________________________\n",
      "engager_follower_count (InputLa [(None, 1)]          0                                            \n",
      "__________________________________________________________________________________________________\n",
      "engager_following_count (InputL [(None, 1)]          0                                            \n",
      "__________________________________________________________________________________________________\n",
      "language (InputLayer)           [(None, 1)]          0                                            \n",
      "__________________________________________________________________________________________________\n",
      "len_domains (InputLayer)        [(None, 1)]          0                                            \n",
      "__________________________________________________________________________________________________\n",
      "media (InputLayer)              [(None, 1)]          0                                            \n",
      "__________________________________________________________________________________________________\n",
      "tweet_type (InputLayer)         [(None, 1)]          0                                            \n",
      "__________________________________________________________________________________________________\n",
      "dense_features (DenseFeatures)  (None, 23033)        0           creator_account_creation[0][0]   \n",
      "                                                                 creator_follower_count[0][0]     \n",
      "                                                                 creator_following_count[0][0]    \n",
      "                                                                 creator_follows_engager[0][0]    \n",
      "                                                                 creator_is_verified[0][0]        \n",
      "                                                                 dt_dow[0][0]                     \n",
      "                                                                 dt_hour[0][0]                    \n",
      "                                                                 engager_follower_count[0][0]     \n",
      "                                                                 engager_following_count[0][0]    \n",
      "                                                                 language[0][0]                   \n",
      "                                                                 len_domains[0][0]                \n",
      "                                                                 media[0][0]                      \n",
      "                                                                 tweet_type[0][0]                 \n",
      "__________________________________________________________________________________________________\n",
      "dense (Dense)                   (None, 16)           368544      dense_features[0][0]             \n",
      "__________________________________________________________________________________________________\n",
      "dense_1 (Dense)                 (None, 8)            136         dense[0][0]                      \n",
      "__________________________________________________________________________________________________\n",
      "dense_2 (Dense)                 (None, 4)            36          dense_1[0][0]                    \n",
      "__________________________________________________________________________________________________\n",
      "dense_3 (Dense)                 (None, 1)            5           dense_2[0][0]                    \n",
      "==================================================================================================\n",
      "Total params: 368,721\n",
      "Trainable params: 368,721\n",
      "Non-trainable params: 0\n",
      "__________________________________________________________________________________________________\n"
     ]
    }
   ],
   "source": [
    "model.summary()"
   ]
  },
  {
   "cell_type": "code",
   "execution_count": 42,
   "id": "ad59db0c",
   "metadata": {},
   "outputs": [
    {
     "data": {
      "text/plain": [
       "<BatchDataset shapes: ({language: (32,), creator_account_creation: (32,), creator_following_count: (32,), tweet_timestamp: (32,), creator_follows_engager: (32,), creator_is_verified: (32,), tweet_type: (32,), creator_id: (32,), engager_follower_count: (32,), engager_following_count: (32,), media: (32,), creator_follower_count: (32,), dt_dow: (32,), dt_hour: (32,), len_domains: (32,)}, (32,)), types: ({language: tf.uint8, creator_account_creation: tf.float64, creator_following_count: tf.float64, tweet_timestamp: tf.float64, creator_follows_engager: tf.int8, creator_is_verified: tf.int8, tweet_type: tf.uint8, creator_id: tf.string, engager_follower_count: tf.float64, engager_following_count: tf.float64, media: tf.uint8, creator_follower_count: tf.float64, dt_dow: tf.int8, dt_hour: tf.int8, len_domains: tf.int64}, tf.float32)>"
      ]
     },
     "execution_count": 42,
     "metadata": {},
     "output_type": "execute_result"
    }
   ],
   "source": [
    "ds_train"
   ]
  },
  {
   "cell_type": "code",
   "execution_count": 43,
   "id": "5269b499",
   "metadata": {},
   "outputs": [
    {
     "name": "stdout",
     "output_type": "stream",
     "text": [
      "Epoch 1/5\n"
     ]
    },
    {
     "name": "stderr",
     "output_type": "stream",
     "text": [
      "/home/nyongja/anaconda3/envs/dask/lib/python3.7/site-packages/tensorflow/python/keras/engine/functional.py:595: UserWarning: Input dict contained keys ['tweet_timestamp', 'creator_id'] which did not match any model input. They will be ignored by the model.\n",
      "  [n for n in tensors.keys() if n not in ref_input_names])\n"
     ]
    },
    {
     "name": "stdout",
     "output_type": "stream",
     "text": [
      "60379/60379 [==============================] - 103s 2ms/step - loss: 0.6472 - binary_crossentropy: 0.6472\n",
      "Epoch 2/5\n",
      "60379/60379 [==============================] - 97s 2ms/step - loss: 0.6380 - binary_crossentropy: 0.6380\n",
      "Epoch 3/5\n",
      "60379/60379 [==============================] - 109s 2ms/step - loss: 0.6366 - binary_crossentropy: 0.6366\n",
      "Epoch 4/5\n",
      "60379/60379 [==============================] - 121s 2ms/step - loss: 0.6356 - binary_crossentropy: 0.6356\n",
      "Epoch 5/5\n",
      "60379/60379 [==============================] - 118s 2ms/step - loss: 0.6351 - binary_crossentropy: 0.6351\n"
     ]
    }
   ],
   "source": [
    "history = model.fit(ds_train, epochs=5)"
   ]
  },
  {
   "cell_type": "code",
   "execution_count": 46,
   "id": "bbe93200",
   "metadata": {},
   "outputs": [
    {
     "data": {
      "image/png": "[encoded data removed]",
      "text/plain": [
       "<Figure size 432x288 with 1 Axes>"
      ]
     },
     "metadata": {
      "needs_background": "light"
     },
     "output_type": "display_data"
    }
   ],
   "source": [
    "plt.plot(history.history['binary_crossentropy'])\n",
    "plt.title('model accuracy')\n",
    "plt.ylabel('accuracy')\n",
    "plt.xlabel('epoch')\n",
    "plt.legend(['train', 'val'], loc='upper left')\n",
    "plt.show()"
   ]
  },
  {
   "cell_type": "code",
   "execution_count": 47,
   "id": "56375872",
   "metadata": {},
   "outputs": [
    {
     "name": "stdout",
     "output_type": "stream",
     "text": [
      "94767/94767 [==============================] - 100s 1ms/step - loss: 0.6537 - binary_crossentropy: 0.6537\n"
     ]
    },
    {
     "data": {
      "text/plain": [
       "[0.6536824107170105, 0.6536824107170105]"
      ]
     },
     "execution_count": 47,
     "metadata": {},
     "output_type": "execute_result"
    }
   ],
   "source": [
    "model.evaluate(ds_test)"
   ]
  },
  {
   "cell_type": "markdown",
   "id": "b61b8c69",
   "metadata": {},
   "source": [
    "## Predict"
   ]
  },
  {
   "cell_type": "code",
   "execution_count": 51,
   "id": "42277d67",
   "metadata": {},
   "outputs": [],
   "source": [
    "y = np.concatenate([y for x, y in ds_test], axis=0)"
   ]
  },
  {
   "cell_type": "code",
   "execution_count": 48,
   "id": "8d34183e",
   "metadata": {},
   "outputs": [],
   "source": [
    "pred = model.predict(ds_test)"
   ]
  },
  {
   "cell_type": "code",
   "execution_count": 67,
   "id": "075e9acf",
   "metadata": {},
   "outputs": [],
   "source": [
    "pred = pred.astype(np.float64)"
   ]
  },
  {
   "cell_type": "code",
   "execution_count": 68,
   "id": "8df2a605",
   "metadata": {
    "scrolled": false
   },
   "outputs": [
    {
     "data": {
      "text/plain": [
       "2.756002592739626"
      ]
     },
     "execution_count": 68,
     "metadata": {},
     "output_type": "execute_result"
    }
   ],
   "source": [
    "rce = compute_rce(pred, y)\n",
    "rce"
   ]
  },
  {
   "cell_type": "code",
   "execution_count": 53,
   "id": "897bd35f",
   "metadata": {},
   "outputs": [
    {
     "data": {
      "text/plain": [
       "0.539318548018725"
      ]
     },
     "execution_count": 53,
     "metadata": {},
     "output_type": "execute_result"
    }
   ],
   "source": [
    "average_precision_score(y, pred)"
   ]
  },
  {
   "cell_type": "code",
   "execution_count": 51,
   "id": "bfe08a3b",
   "metadata": {},
   "outputs": [
    {
     "name": "stdout",
     "output_type": "stream",
     "text": [
      "Model: \"sequential_model\"\n",
      "__________________________________________________________________________________________________\n",
      "Layer (type)                    Output Shape         Param #     Connected to                     \n",
      "==================================================================================================\n",
      "creator_account_creation (Input [(None, 1)]          0                                            \n",
      "__________________________________________________________________________________________________\n",
      "creator_follower_count (InputLa [(None, 1)]          0                                            \n",
      "__________________________________________________________________________________________________\n",
      "creator_following_count (InputL [(None, 1)]          0                                            \n",
      "__________________________________________________________________________________________________\n",
      "creator_follows_engager (InputL [(None, 1)]          0                                            \n",
      "__________________________________________________________________________________________________\n",
      "creator_is_verified (InputLayer [(None, 1)]          0                                            \n",
      "__________________________________________________________________________________________________\n",
      "dt_dow (InputLayer)             [(None, 1)]          0                                            \n",
      "__________________________________________________________________________________________________\n",
      "dt_hour (InputLayer)            [(None, 1)]          0                                            \n",
      "__________________________________________________________________________________________________\n",
      "engager_follower_count (InputLa [(None, 1)]          0                                            \n",
      "__________________________________________________________________________________________________\n",
      "engager_following_count (InputL [(None, 1)]          0                                            \n",
      "__________________________________________________________________________________________________\n",
      "language (InputLayer)           [(None, 1)]          0                                            \n",
      "__________________________________________________________________________________________________\n",
      "len_domains (InputLayer)        [(None, 1)]          0                                            \n",
      "__________________________________________________________________________________________________\n",
      "media (InputLayer)              [(None, 1)]          0                                            \n",
      "__________________________________________________________________________________________________\n",
      "tweet_type (InputLayer)         [(None, 1)]          0                                            \n",
      "__________________________________________________________________________________________________\n",
      "dense_features (DenseFeatures)  (None, 5033)         0           creator_account_creation[0][0]   \n",
      "                                                                 creator_follower_count[0][0]     \n",
      "                                                                 creator_following_count[0][0]    \n",
      "                                                                 creator_follows_engager[0][0]    \n",
      "                                                                 creator_is_verified[0][0]        \n",
      "                                                                 dt_dow[0][0]                     \n",
      "                                                                 dt_hour[0][0]                    \n",
      "                                                                 engager_follower_count[0][0]     \n",
      "                                                                 engager_following_count[0][0]    \n",
      "                                                                 language[0][0]                   \n",
      "                                                                 len_domains[0][0]                \n",
      "                                                                 media[0][0]                      \n",
      "                                                                 tweet_type[0][0]                 \n",
      "__________________________________________________________________________________________________\n",
      "dense (Dense)                   (None, 16)           80544       dense_features[0][0]             \n",
      "__________________________________________________________________________________________________\n",
      "dense_1 (Dense)                 (None, 8)            136         dense[0][0]                      \n",
      "__________________________________________________________________________________________________\n",
      "dense_2 (Dense)                 (None, 4)            36          dense_1[0][0]                    \n",
      "__________________________________________________________________________________________________\n",
      "dense_3 (Dense)                 (None, 1)            5           dense_2[0][0]                    \n",
      "==================================================================================================\n",
      "Total params: 80,721\n",
      "Trainable params: 80,721\n",
      "Non-trainable params: 0\n",
      "__________________________________________________________________________________________________\n"
     ]
    }
   ],
   "source": [
    "model.summary()"
   ]
  },
  {
   "cell_type": "code",
   "execution_count": 52,
   "id": "c656b985",
   "metadata": {},
   "outputs": [],
   "source": [
    "model_path = f'/hdd/cpu_models_DNN/model-ffnn.h5'\n",
    "            \n",
    "save_model(model, model_path)"
   ]
  },
  {
   "cell_type": "code",
   "execution_count": null,
   "id": "5e8b73d7",
   "metadata": {},
   "outputs": [],
   "source": []
  },
  {
   "cell_type": "code",
   "execution_count": null,
   "id": "41440495",
   "metadata": {},
   "outputs": [],
   "source": []
  },
  {
   "cell_type": "code",
   "execution_count": null,
   "id": "317bf016",
   "metadata": {},
   "outputs": [],
   "source": []
  },
  {
   "cell_type": "code",
   "execution_count": null,
   "id": "303f37cf",
   "metadata": {},
   "outputs": [],
   "source": []
  }
 ],
 "metadata": {
  "kernelspec": {
   "display_name": "Python 3",
   "language": "python",
   "name": "python3"
  },
  "language_info": {
   "codemirror_mode": {
    "name": "ipython",
    "version": 3
   },
   "file_extension": ".py",
   "mimetype": "text/x-python",
   "name": "python",
   "nbconvert_exporter": "python",
   "pygments_lexer": "ipython3",
   "version": "3.7.10"
  }
 },
 "nbformat": 4,
 "nbformat_minor": 5
}
