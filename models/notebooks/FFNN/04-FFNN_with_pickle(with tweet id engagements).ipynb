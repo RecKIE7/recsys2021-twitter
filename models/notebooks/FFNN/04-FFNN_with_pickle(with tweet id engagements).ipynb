{
 "cells": [
  {
   "cell_type": "code",
   "execution_count": 3,
   "id": "1ad98848",
   "metadata": {},
   "outputs": [],
   "source": [
    "import os\n",
    "import sys\n",
    "sys.path.append('../../..')\n",
    "\n",
    "import numpy as np\n",
    "import matplotlib.pyplot as plt\n",
    "import pandas as pd\n",
    "import pickle\n",
    "import joblib\n",
    "from tqdm import tqdm\n",
    "from sklearn.model_selection import train_test_split\n",
    "import tensorflow as tf\n",
    "from tensorflow import feature_column as fc\n",
    "from tensorflow.keras.models import Sequential\n",
    "from tensorflow.keras.layers import Dense\n",
    "from sklearn import preprocessing\n",
    "from sklearn.utils import shuffle\n",
    "from tensorflow.keras.models import save_model,load_model\n",
    "from collections import defaultdict\n",
    "\n",
    "from utils.util import *\n",
    "from utils.preprocessing import *\n",
    "from utils.dataiter import Dataiter\n",
    "from utils.evaluate import calculate_ctr, compute_rce, average_precision_score\n",
    "from utils.target_encode import MTE_one_shot\n",
    "\n",
    "import tensorflow.keras.backend as K\n",
    "import core.config as conf"
   ]
  },
  {
   "cell_type": "markdown",
   "id": "c3d171de",
   "metadata": {},
   "source": [
    "## Load Data"
   ]
  },
  {
   "cell_type": "code",
   "execution_count": 4,
   "id": "4f454fd4",
   "metadata": {},
   "outputs": [],
   "source": [
    "path = f'{conf.dataset_mini_path}/train'\n",
    "train = read_data(path)\n",
    "\n",
    "path = f'{conf.dataset_mini_path}/test'\n",
    "test = read_data(path)\n",
    "\n",
    "path = f'{conf.dataset_mini_path}/valid'\n",
    "valid = read_data(path)"
   ]
  },
  {
   "cell_type": "code",
   "execution_count": 5,
   "id": "81f3202f",
   "metadata": {},
   "outputs": [],
   "source": [
    "TARGET = ['like', 'reply', 'retweet', 'comment']"
   ]
  },
  {
   "cell_type": "markdown",
   "id": "ea98fae6",
   "metadata": {},
   "source": [
    "## Preprocessing"
   ]
  },
  {
   "cell_type": "code",
   "execution_count": 6,
   "id": "ca5e067f",
   "metadata": {},
   "outputs": [],
   "source": [
    "def set_dataframe_types(df, train):\n",
    "    df['id']   = np.arange( df.shape[0] )\n",
    "    df['id']   = df['id'].astype(np.uint32)\n",
    "\n",
    "    if train:\n",
    "        df['reply_timestamp']   = df['reply_timestamp'].fillna(0)\n",
    "        df['retweet_timestamp'] = df['retweet_timestamp'].fillna(0)\n",
    "        df['comment_timestamp'] = df['comment_timestamp'].fillna(0)\n",
    "        df['like_timestamp']    = df['like_timestamp'].fillna(0)\n",
    "\n",
    "        df['reply_timestamp']   = df['reply_timestamp'].astype(np.uint32)\n",
    "        df['retweet_timestamp'] = df['retweet_timestamp'].astype(np.uint32)\n",
    "        df['comment_timestamp'] = df['comment_timestamp'].astype(np.uint32)\n",
    "        df['like_timestamp']    = df['like_timestamp'].astype(np.uint32)\n",
    "\n",
    "    df['tweet_timestamp']         = df['tweet_timestamp'].astype( np.uint32 )\n",
    "    df['creator_follower_count']  = df['creator_follower_count'].astype( np.uint32 )\n",
    "    df['creator_following_count'] = df['creator_following_count'].astype( np.uint32 )\n",
    "    df['creator_account_creation']= df['creator_account_creation'].astype( np.uint32 )\n",
    "    df['engager_follower_count']  = df['engager_follower_count'].astype( np.uint32 )\n",
    "    df['engager_following_count'] = df['engager_following_count'].astype( np.uint32 )\n",
    "    df['engager_account_creation']= df['engager_account_creation'].astype( np.uint32 )\n",
    "\n",
    "    return df\n",
    "\n",
    "\n",
    "\n",
    "def preprocess(df, target, train):\n",
    "    df = set_dataframe_types(df, train)\n",
    "    # df = df.set_index('id')\n",
    "    # df.columns = conf.raw_features + conf.labels\n",
    "    df = df.drop('text_tokens', axis=1)\n",
    "    \n",
    "    df = feature_extraction(df, features=conf.used_features, train=train) # extract 'used_features'\n",
    "    cols = []\n",
    "\n",
    "    return df"
   ]
  },
  {
   "cell_type": "code",
   "execution_count": 7,
   "id": "1c437b86",
   "metadata": {},
   "outputs": [],
   "source": [
    "train = preprocess(train, TARGET, True)\n",
    "valid = preprocess(valid, TARGET, True)\n",
    "test = preprocess(test, TARGET, True)"
   ]
  },
  {
   "cell_type": "code",
   "execution_count": 8,
   "id": "ec193027",
   "metadata": {},
   "outputs": [
    {
     "output_type": "execute_result",
     "data": {
      "text/plain": [
       "                               creator_id                        engager_id  \\\n",
       "0        F09233A58769507FD4E6FD618BCFA5B6  CFFD4D0D3AAF28B5397A98E1F4C92C77   \n",
       "1        46BEEE566BB708F18075A60FDDAA8503  E0F9A3BB331C7B613B165F32F8D273BE   \n",
       "2        83F59BF2E0778AC4078FA3F7B71F5960  58ABF7FB24D65FB94C6487915A889460   \n",
       "3        C96110509F8B6256CE08A8AE85ED75DB  76730357A84D1D04A662FDB1449F1AFF   \n",
       "4        2031F18622E7C6A30E702D33776BF2C1  9008C5AB3CB46623ADBD4C68A2A2D088   \n",
       "...                                   ...                               ...   \n",
       "4338901  968FAF2F52AACA58C2B41CE5B13A811D  1BC672DA2F063F2DE03DA89BA6B621C5   \n",
       "4338902  54652625625729AE0E38196970594938  39D3029E8FDC3A18472D28436EC9E776   \n",
       "4338903  614E269F8E5D731946BDBC86E9DC4F4D  4A4E526A7390A5CC9D02ECB5CB62F377   \n",
       "4338904  5A5C7CCA69CDEBBD7E81C3797DE9DD7E  D8CAFE1402CE86E007370664FC553C2B   \n",
       "4338905  87BD2290F2A144F5F52A176AE3795CBC  D2A8A3064C0FF7EF281EF289E564F4F5   \n",
       "\n",
       "                                 tweet_id  tweet_type  \\\n",
       "0        6238B9E15E83B6D477394E9D80B3784E           3   \n",
       "1        731FB90C6CFEF1B71D322106573F71DB           0   \n",
       "2        89276E5272498E858EE8AF691EBF0951           3   \n",
       "3        502FDBC0EB4E7AB157D38262817716EB           3   \n",
       "4        CF1F523F7D4D4139E5FD3EBD72F27D5A           3   \n",
       "...                                   ...         ...   \n",
       "4338901  EE63068E74D7E293457FDC2EA3527D65           3   \n",
       "4338902  F15B4615DA12447331AFEC90FA814B4D           0   \n",
       "4338903  DA947A6368CF4414BEA9172003A639FD           3   \n",
       "4338904  730879D11261FA6700804AD49CCB59BB           3   \n",
       "4338905  D22612FC6C7E4CFAECB4CAE406DB072F           3   \n",
       "\n",
       "                                 language  \\\n",
       "0        7F4FAB1EB12CD95EDCD9DB2A6634EFCE   \n",
       "1        E7F038DE3EAD397AEC9193686C911677   \n",
       "2        1F73BB863A39DB62B4A55B7E558DB1E8   \n",
       "3        310ECD7D1E42216E3C1B31EFDDFC72A7   \n",
       "4        488B32D24BD4BB44172EB981C1BCA6FA   \n",
       "...                                   ...   \n",
       "4338901  E7F038DE3EAD397AEC9193686C911677   \n",
       "4338902  488B32D24BD4BB44172EB981C1BCA6FA   \n",
       "4338903  B8B04128918BBF54E2E178BFF1ABA833   \n",
       "4338904  488B32D24BD4BB44172EB981C1BCA6FA   \n",
       "4338905  488B32D24BD4BB44172EB981C1BCA6FA   \n",
       "\n",
       "                                                  hashtags  \\\n",
       "0                                                      NaN   \n",
       "1                                                      NaN   \n",
       "2                                                      NaN   \n",
       "3                                                      NaN   \n",
       "4                                                      NaN   \n",
       "...                                                    ...   \n",
       "4338901                                                NaN   \n",
       "4338902                                                NaN   \n",
       "4338903                   360847D5E2E14DE261D275573CFCCE34   \n",
       "4338904  80E7062116A700EBFA5E0A99EDCDBBAD\\t3AAE07FAD1D5...   \n",
       "4338905                   40110025DD66B25DE4A54644E7E2259F   \n",
       "\n",
       "         creator_account_creation  creator_follower_count  \\\n",
       "0                      1525021638                     560   \n",
       "1                      1348805977                    2591   \n",
       "2                      1583939938                     174   \n",
       "3                      1306675315                  115852   \n",
       "4                      1308377880                 1208919   \n",
       "...                           ...                     ...   \n",
       "4338901                1359315180                     248   \n",
       "4338902                1293912925                     114   \n",
       "4338903                1512095330                   56033   \n",
       "4338904                1251066468                    6745   \n",
       "4338905                1330269463                24551418   \n",
       "\n",
       "         creator_following_count  engager_follower_count  ...  media  \\\n",
       "0                            645                     595  ...      4   \n",
       "1                           3690                     514  ...      1   \n",
       "2                            146                     376  ...      0   \n",
       "3                           2124                   22461  ...      0   \n",
       "4                           1101                     388  ...      0   \n",
       "...                          ...                     ...  ...    ...   \n",
       "4338901                      315                    1785  ...      1   \n",
       "4338902                      937                     183  ...      0   \n",
       "4338903                      121                      58  ...      4   \n",
       "4338904                      368                       2  ...      4   \n",
       "4338905                      148                     126  ...      4   \n",
       "\n",
       "         tweet_timestamp  reply  retweet  comment  like  dt_day  dt_dow  \\\n",
       "0             1612883086    0.0      0.0      0.0   0.0       9       1   \n",
       "1             1612864776    0.0      0.0      0.0   0.0       9       1   \n",
       "2             1613661020    0.0      0.0      0.0   1.0      18       3   \n",
       "3             1612751908    0.0      0.0      0.0   0.0       8       0   \n",
       "4             1613060168    0.0      0.0      0.0   1.0      11       3   \n",
       "...                  ...    ...      ...      ...   ...     ...     ...   \n",
       "4338901       1612670742    0.0      0.0      0.0   1.0       7       6   \n",
       "4338902       1612744473    0.0      0.0      0.0   0.0       8       0   \n",
       "4338903       1612397867    0.0      0.0      0.0   1.0       4       3   \n",
       "4338904       1612956173    0.0      0.0      0.0   1.0      10       2   \n",
       "4338905       1613569320    0.0      0.0      0.0   1.0      17       2   \n",
       "\n",
       "         dt_hour  len_domains  \n",
       "0             15            0  \n",
       "1              9            0  \n",
       "2             15            0  \n",
       "3              2            1  \n",
       "4             16            0  \n",
       "...          ...          ...  \n",
       "4338901        4            0  \n",
       "4338902        0            0  \n",
       "4338903        0            0  \n",
       "4338904       11            0  \n",
       "4338905       13            0  \n",
       "\n",
       "[4338906 rows x 22 columns]"
      ],
      "text/html": "<div>\n<style scoped>\n    .dataframe tbody tr th:only-of-type {\n        vertical-align: middle;\n    }\n\n    .dataframe tbody tr th {\n        vertical-align: top;\n    }\n\n    .dataframe thead th {\n        text-align: right;\n    }\n</style>\n<table border=\"1\" class=\"dataframe\">\n  <thead>\n    <tr style=\"text-align: right;\">\n      <th></th>\n      <th>creator_id</th>\n      <th>engager_id</th>\n      <th>tweet_id</th>\n      <th>tweet_type</th>\n      <th>language</th>\n      <th>hashtags</th>\n      <th>creator_account_creation</th>\n      <th>creator_follower_count</th>\n      <th>creator_following_count</th>\n      <th>engager_follower_count</th>\n      <th>...</th>\n      <th>media</th>\n      <th>tweet_timestamp</th>\n      <th>reply</th>\n      <th>retweet</th>\n      <th>comment</th>\n      <th>like</th>\n      <th>dt_day</th>\n      <th>dt_dow</th>\n      <th>dt_hour</th>\n      <th>len_domains</th>\n    </tr>\n  </thead>\n  <tbody>\n    <tr>\n      <th>0</th>\n      <td>F09233A58769507FD4E6FD618BCFA5B6</td>\n      <td>CFFD4D0D3AAF28B5397A98E1F4C92C77</td>\n      <td>6238B9E15E83B6D477394E9D80B3784E</td>\n      <td>3</td>\n      <td>7F4FAB1EB12CD95EDCD9DB2A6634EFCE</td>\n      <td>NaN</td>\n      <td>1525021638</td>\n      <td>560</td>\n      <td>645</td>\n      <td>595</td>\n      <td>...</td>\n      <td>4</td>\n      <td>1612883086</td>\n      <td>0.0</td>\n      <td>0.0</td>\n      <td>0.0</td>\n      <td>0.0</td>\n      <td>9</td>\n      <td>1</td>\n      <td>15</td>\n      <td>0</td>\n    </tr>\n    <tr>\n      <th>1</th>\n      <td>46BEEE566BB708F18075A60FDDAA8503</td>\n      <td>E0F9A3BB331C7B613B165F32F8D273BE</td>\n      <td>731FB90C6CFEF1B71D322106573F71DB</td>\n      <td>0</td>\n      <td>E7F038DE3EAD397AEC9193686C911677</td>\n      <td>NaN</td>\n      <td>1348805977</td>\n      <td>2591</td>\n      <td>3690</td>\n      <td>514</td>\n      <td>...</td>\n      <td>1</td>\n      <td>1612864776</td>\n      <td>0.0</td>\n      <td>0.0</td>\n      <td>0.0</td>\n      <td>0.0</td>\n      <td>9</td>\n      <td>1</td>\n      <td>9</td>\n      <td>0</td>\n    </tr>\n    <tr>\n      <th>2</th>\n      <td>83F59BF2E0778AC4078FA3F7B71F5960</td>\n      <td>58ABF7FB24D65FB94C6487915A889460</td>\n      <td>89276E5272498E858EE8AF691EBF0951</td>\n      <td>3</td>\n      <td>1F73BB863A39DB62B4A55B7E558DB1E8</td>\n      <td>NaN</td>\n      <td>1583939938</td>\n      <td>174</td>\n      <td>146</td>\n      <td>376</td>\n      <td>...</td>\n      <td>0</td>\n      <td>1613661020</td>\n      <td>0.0</td>\n      <td>0.0</td>\n      <td>0.0</td>\n      <td>1.0</td>\n      <td>18</td>\n      <td>3</td>\n      <td>15</td>\n      <td>0</td>\n    </tr>\n    <tr>\n      <th>3</th>\n      <td>C96110509F8B6256CE08A8AE85ED75DB</td>\n      <td>76730357A84D1D04A662FDB1449F1AFF</td>\n      <td>502FDBC0EB4E7AB157D38262817716EB</td>\n      <td>3</td>\n      <td>310ECD7D1E42216E3C1B31EFDDFC72A7</td>\n      <td>NaN</td>\n      <td>1306675315</td>\n      <td>115852</td>\n      <td>2124</td>\n      <td>22461</td>\n      <td>...</td>\n      <td>0</td>\n      <td>1612751908</td>\n      <td>0.0</td>\n      <td>0.0</td>\n      <td>0.0</td>\n      <td>0.0</td>\n      <td>8</td>\n      <td>0</td>\n      <td>2</td>\n      <td>1</td>\n    </tr>\n    <tr>\n      <th>4</th>\n      <td>2031F18622E7C6A30E702D33776BF2C1</td>\n      <td>9008C5AB3CB46623ADBD4C68A2A2D088</td>\n      <td>CF1F523F7D4D4139E5FD3EBD72F27D5A</td>\n      <td>3</td>\n      <td>488B32D24BD4BB44172EB981C1BCA6FA</td>\n      <td>NaN</td>\n      <td>1308377880</td>\n      <td>1208919</td>\n      <td>1101</td>\n      <td>388</td>\n      <td>...</td>\n      <td>0</td>\n      <td>1613060168</td>\n      <td>0.0</td>\n      <td>0.0</td>\n      <td>0.0</td>\n      <td>1.0</td>\n      <td>11</td>\n      <td>3</td>\n      <td>16</td>\n      <td>0</td>\n    </tr>\n    <tr>\n      <th>...</th>\n      <td>...</td>\n      <td>...</td>\n      <td>...</td>\n      <td>...</td>\n      <td>...</td>\n      <td>...</td>\n      <td>...</td>\n      <td>...</td>\n      <td>...</td>\n      <td>...</td>\n      <td>...</td>\n      <td>...</td>\n      <td>...</td>\n      <td>...</td>\n      <td>...</td>\n      <td>...</td>\n      <td>...</td>\n      <td>...</td>\n      <td>...</td>\n      <td>...</td>\n      <td>...</td>\n    </tr>\n    <tr>\n      <th>4338901</th>\n      <td>968FAF2F52AACA58C2B41CE5B13A811D</td>\n      <td>1BC672DA2F063F2DE03DA89BA6B621C5</td>\n      <td>EE63068E74D7E293457FDC2EA3527D65</td>\n      <td>3</td>\n      <td>E7F038DE3EAD397AEC9193686C911677</td>\n      <td>NaN</td>\n      <td>1359315180</td>\n      <td>248</td>\n      <td>315</td>\n      <td>1785</td>\n      <td>...</td>\n      <td>1</td>\n      <td>1612670742</td>\n      <td>0.0</td>\n      <td>0.0</td>\n      <td>0.0</td>\n      <td>1.0</td>\n      <td>7</td>\n      <td>6</td>\n      <td>4</td>\n      <td>0</td>\n    </tr>\n    <tr>\n      <th>4338902</th>\n      <td>54652625625729AE0E38196970594938</td>\n      <td>39D3029E8FDC3A18472D28436EC9E776</td>\n      <td>F15B4615DA12447331AFEC90FA814B4D</td>\n      <td>0</td>\n      <td>488B32D24BD4BB44172EB981C1BCA6FA</td>\n      <td>NaN</td>\n      <td>1293912925</td>\n      <td>114</td>\n      <td>937</td>\n      <td>183</td>\n      <td>...</td>\n      <td>0</td>\n      <td>1612744473</td>\n      <td>0.0</td>\n      <td>0.0</td>\n      <td>0.0</td>\n      <td>0.0</td>\n      <td>8</td>\n      <td>0</td>\n      <td>0</td>\n      <td>0</td>\n    </tr>\n    <tr>\n      <th>4338903</th>\n      <td>614E269F8E5D731946BDBC86E9DC4F4D</td>\n      <td>4A4E526A7390A5CC9D02ECB5CB62F377</td>\n      <td>DA947A6368CF4414BEA9172003A639FD</td>\n      <td>3</td>\n      <td>B8B04128918BBF54E2E178BFF1ABA833</td>\n      <td>360847D5E2E14DE261D275573CFCCE34</td>\n      <td>1512095330</td>\n      <td>56033</td>\n      <td>121</td>\n      <td>58</td>\n      <td>...</td>\n      <td>4</td>\n      <td>1612397867</td>\n      <td>0.0</td>\n      <td>0.0</td>\n      <td>0.0</td>\n      <td>1.0</td>\n      <td>4</td>\n      <td>3</td>\n      <td>0</td>\n      <td>0</td>\n    </tr>\n    <tr>\n      <th>4338904</th>\n      <td>5A5C7CCA69CDEBBD7E81C3797DE9DD7E</td>\n      <td>D8CAFE1402CE86E007370664FC553C2B</td>\n      <td>730879D11261FA6700804AD49CCB59BB</td>\n      <td>3</td>\n      <td>488B32D24BD4BB44172EB981C1BCA6FA</td>\n      <td>80E7062116A700EBFA5E0A99EDCDBBAD\\t3AAE07FAD1D5...</td>\n      <td>1251066468</td>\n      <td>6745</td>\n      <td>368</td>\n      <td>2</td>\n      <td>...</td>\n      <td>4</td>\n      <td>1612956173</td>\n      <td>0.0</td>\n      <td>0.0</td>\n      <td>0.0</td>\n      <td>1.0</td>\n      <td>10</td>\n      <td>2</td>\n      <td>11</td>\n      <td>0</td>\n    </tr>\n    <tr>\n      <th>4338905</th>\n      <td>87BD2290F2A144F5F52A176AE3795CBC</td>\n      <td>D2A8A3064C0FF7EF281EF289E564F4F5</td>\n      <td>D22612FC6C7E4CFAECB4CAE406DB072F</td>\n      <td>3</td>\n      <td>488B32D24BD4BB44172EB981C1BCA6FA</td>\n      <td>40110025DD66B25DE4A54644E7E2259F</td>\n      <td>1330269463</td>\n      <td>24551418</td>\n      <td>148</td>\n      <td>126</td>\n      <td>...</td>\n      <td>4</td>\n      <td>1613569320</td>\n      <td>0.0</td>\n      <td>0.0</td>\n      <td>0.0</td>\n      <td>1.0</td>\n      <td>17</td>\n      <td>2</td>\n      <td>13</td>\n      <td>0</td>\n    </tr>\n  </tbody>\n</table>\n<p>4338906 rows × 22 columns</p>\n</div>"
     },
     "metadata": {},
     "execution_count": 8
    }
   ],
   "source": [
    "train"
   ]
  },
  {
   "cell_type": "markdown",
   "id": "a8b56733",
   "metadata": {},
   "source": [
    "### pickle matching"
   ]
  },
  {
   "cell_type": "markdown",
   "id": "9bb1587e",
   "metadata": {},
   "source": [
    "#### language"
   ]
  },
  {
   "cell_type": "code",
   "execution_count": 9,
   "id": "fa6fe4bc",
   "metadata": {},
   "outputs": [],
   "source": [
    "pickle_path = conf.dict_path"
   ]
  },
  {
   "cell_type": "code",
   "execution_count": 10,
   "id": "c662927c",
   "metadata": {},
   "outputs": [],
   "source": [
    "user_main_language_path = pickle_path + \"user_main_language.pkl\"\n",
    "\n",
    "if os.path.exists(user_main_language_path) :\n",
    "    with open(user_main_language_path, 'rb') as f :\n",
    "        user_main_language = pickle.load(f)"
   ]
  },
  {
   "cell_type": "code",
   "execution_count": 11,
   "id": "0a24aca5",
   "metadata": {},
   "outputs": [],
   "source": [
    "language_dict_path = pickle_path + \"language_dict.pkl\"\n",
    "\n",
    "if os.path.exists(language_dict_path ) :\n",
    "    with open(language_dict_path , 'rb') as f :\n",
    "        language_dict = pickle.load(f)"
   ]
  },
  {
   "cell_type": "code",
   "execution_count": 12,
   "id": "c3a5de04",
   "metadata": {},
   "outputs": [],
   "source": [
    "train['language'] = train.apply(lambda x : language_dict[x['language']], axis = 1)\n",
    "test['language'] = test.apply(lambda x : language_dict[x['language']], axis = 1)\n",
    "valid['language'] = valid.apply(lambda x : language_dict[x['language']], axis = 1)"
   ]
  },
  {
   "cell_type": "code",
   "execution_count": 13,
   "id": "1f7371f4",
   "metadata": {},
   "outputs": [],
   "source": [
    "del language_dict"
   ]
  },
  {
   "cell_type": "code",
   "execution_count": null,
   "id": "4d4b1161",
   "metadata": {},
   "outputs": [],
   "source": []
  },
  {
   "cell_type": "code",
   "execution_count": 14,
   "id": "a4fe6e06",
   "metadata": {},
   "outputs": [],
   "source": [
    "train['creator_main_language'] = train['creator_id'].map(user_main_language)\n",
    "valid['creator_main_language'] = valid['creator_id'].map(user_main_language)\n",
    "test['creator_main_language'] = test['creator_id'].map(user_main_language)"
   ]
  },
  {
   "cell_type": "code",
   "execution_count": 15,
   "id": "d05a5326",
   "metadata": {},
   "outputs": [],
   "source": [
    "train['engager_main_language'] = train['engager_id'].map(user_main_language)\n",
    "valid['engager_main_language'] = valid['engager_id'].map(user_main_language)\n",
    "test['engager_main_language'] = test['engager_id'].map(user_main_language)"
   ]
  },
  {
   "cell_type": "code",
   "execution_count": 16,
   "id": "853f493e",
   "metadata": {},
   "outputs": [],
   "source": [
    "train['creator_and_engager_have_same_main_language'] = train.apply(lambda x : 1 if x['creator_main_language'] == x['engager_main_language'] else 0, axis = 1)\n",
    "valid['creator_and_engager_have_same_main_language'] = valid.apply(lambda x : 1 if x['creator_main_language'] == x['engager_main_language'] else 0, axis = 1)\n",
    "test['creator_and_engager_have_same_main_language'] = test.apply(lambda x : 1 if x['creator_main_language'] == x['engager_main_language'] else 0, axis = 1)"
   ]
  },
  {
   "cell_type": "code",
   "execution_count": 17,
   "id": "512fcf6b",
   "metadata": {},
   "outputs": [],
   "source": [
    "train['is_tweet_in_creator_main_language'] = train.apply(lambda x : 1 if x['creator_main_language'] == x['language'] else 0, axis = 1)\n",
    "valid['is_tweet_in_creator_main_language'] = valid.apply(lambda x : 1 if x['creator_main_language'] == x['language'] else 0, axis = 1)\n",
    "test['is_tweet_in_creator_main_language'] = test.apply(lambda x : 1 if x['creator_main_language'] == x['language'] else 0, axis = 1)"
   ]
  },
  {
   "cell_type": "code",
   "execution_count": 18,
   "id": "e198e706",
   "metadata": {},
   "outputs": [],
   "source": [
    "train['is_tweet_in_engager_main_language'] = train.apply(lambda x : 1 if x['engager_main_language'] == x['language'] else 0, axis = 1)\n",
    "valid['is_tweet_in_engager_main_language'] = valid.apply(lambda x : 1 if x['engager_main_language'] == x['language'] else 0, axis = 1)\n",
    "test['is_tweet_in_engager_main_language'] = test.apply(lambda x : 1 if x['engager_main_language'] == x['language'] else 0, axis = 1)"
   ]
  },
  {
   "cell_type": "code",
   "execution_count": 19,
   "id": "956ee916",
   "metadata": {},
   "outputs": [],
   "source": [
    "del user_main_language"
   ]
  },
  {
   "cell_type": "code",
   "execution_count": 20,
   "id": "c058ab48",
   "metadata": {},
   "outputs": [
    {
     "output_type": "execute_result",
     "data": {
      "text/plain": [
       "                         creator_id                        engager_id  \\\n",
       "0  F09233A58769507FD4E6FD618BCFA5B6  CFFD4D0D3AAF28B5397A98E1F4C92C77   \n",
       "1  46BEEE566BB708F18075A60FDDAA8503  E0F9A3BB331C7B613B165F32F8D273BE   \n",
       "2  83F59BF2E0778AC4078FA3F7B71F5960  58ABF7FB24D65FB94C6487915A889460   \n",
       "3  C96110509F8B6256CE08A8AE85ED75DB  76730357A84D1D04A662FDB1449F1AFF   \n",
       "4  2031F18622E7C6A30E702D33776BF2C1  9008C5AB3CB46623ADBD4C68A2A2D088   \n",
       "\n",
       "                           tweet_id  tweet_type  language hashtags  \\\n",
       "0  6238B9E15E83B6D477394E9D80B3784E           3        10      NaN   \n",
       "1  731FB90C6CFEF1B71D322106573F71DB           0         1      NaN   \n",
       "2  89276E5272498E858EE8AF691EBF0951           3         5      NaN   \n",
       "3  502FDBC0EB4E7AB157D38262817716EB           3        12      NaN   \n",
       "4  CF1F523F7D4D4139E5FD3EBD72F27D5A           3         0      NaN   \n",
       "\n",
       "   creator_account_creation  creator_follower_count  creator_following_count  \\\n",
       "0                1525021638                     560                      645   \n",
       "1                1348805977                    2591                     3690   \n",
       "2                1583939938                     174                      146   \n",
       "3                1306675315                  115852                     2124   \n",
       "4                1308377880                 1208919                     1101   \n",
       "\n",
       "   engager_follower_count  ...  like  dt_day  dt_dow  dt_hour  len_domains  \\\n",
       "0                     595  ...   0.0       9       1       15            0   \n",
       "1                     514  ...   0.0       9       1        9            0   \n",
       "2                     376  ...   1.0      18       3       15            0   \n",
       "3                   22461  ...   0.0       8       0        2            1   \n",
       "4                     388  ...   1.0      11       3       16            0   \n",
       "\n",
       "   creator_main_language  engager_main_language  \\\n",
       "0                      9                     35   \n",
       "1                      1                      1   \n",
       "2                      5                      4   \n",
       "3                     12                      1   \n",
       "4                      0                     13   \n",
       "\n",
       "   creator_and_engager_have_same_main_language  \\\n",
       "0                                            0   \n",
       "1                                            1   \n",
       "2                                            0   \n",
       "3                                            0   \n",
       "4                                            0   \n",
       "\n",
       "   is_tweet_in_creator_main_language  is_tweet_in_engager_main_language  \n",
       "0                                  0                                  0  \n",
       "1                                  1                                  1  \n",
       "2                                  1                                  0  \n",
       "3                                  1                                  0  \n",
       "4                                  1                                  0  \n",
       "\n",
       "[5 rows x 27 columns]"
      ],
      "text/html": "<div>\n<style scoped>\n    .dataframe tbody tr th:only-of-type {\n        vertical-align: middle;\n    }\n\n    .dataframe tbody tr th {\n        vertical-align: top;\n    }\n\n    .dataframe thead th {\n        text-align: right;\n    }\n</style>\n<table border=\"1\" class=\"dataframe\">\n  <thead>\n    <tr style=\"text-align: right;\">\n      <th></th>\n      <th>creator_id</th>\n      <th>engager_id</th>\n      <th>tweet_id</th>\n      <th>tweet_type</th>\n      <th>language</th>\n      <th>hashtags</th>\n      <th>creator_account_creation</th>\n      <th>creator_follower_count</th>\n      <th>creator_following_count</th>\n      <th>engager_follower_count</th>\n      <th>...</th>\n      <th>like</th>\n      <th>dt_day</th>\n      <th>dt_dow</th>\n      <th>dt_hour</th>\n      <th>len_domains</th>\n      <th>creator_main_language</th>\n      <th>engager_main_language</th>\n      <th>creator_and_engager_have_same_main_language</th>\n      <th>is_tweet_in_creator_main_language</th>\n      <th>is_tweet_in_engager_main_language</th>\n    </tr>\n  </thead>\n  <tbody>\n    <tr>\n      <th>0</th>\n      <td>F09233A58769507FD4E6FD618BCFA5B6</td>\n      <td>CFFD4D0D3AAF28B5397A98E1F4C92C77</td>\n      <td>6238B9E15E83B6D477394E9D80B3784E</td>\n      <td>3</td>\n      <td>10</td>\n      <td>NaN</td>\n      <td>1525021638</td>\n      <td>560</td>\n      <td>645</td>\n      <td>595</td>\n      <td>...</td>\n      <td>0.0</td>\n      <td>9</td>\n      <td>1</td>\n      <td>15</td>\n      <td>0</td>\n      <td>9</td>\n      <td>35</td>\n      <td>0</td>\n      <td>0</td>\n      <td>0</td>\n    </tr>\n    <tr>\n      <th>1</th>\n      <td>46BEEE566BB708F18075A60FDDAA8503</td>\n      <td>E0F9A3BB331C7B613B165F32F8D273BE</td>\n      <td>731FB90C6CFEF1B71D322106573F71DB</td>\n      <td>0</td>\n      <td>1</td>\n      <td>NaN</td>\n      <td>1348805977</td>\n      <td>2591</td>\n      <td>3690</td>\n      <td>514</td>\n      <td>...</td>\n      <td>0.0</td>\n      <td>9</td>\n      <td>1</td>\n      <td>9</td>\n      <td>0</td>\n      <td>1</td>\n      <td>1</td>\n      <td>1</td>\n      <td>1</td>\n      <td>1</td>\n    </tr>\n    <tr>\n      <th>2</th>\n      <td>83F59BF2E0778AC4078FA3F7B71F5960</td>\n      <td>58ABF7FB24D65FB94C6487915A889460</td>\n      <td>89276E5272498E858EE8AF691EBF0951</td>\n      <td>3</td>\n      <td>5</td>\n      <td>NaN</td>\n      <td>1583939938</td>\n      <td>174</td>\n      <td>146</td>\n      <td>376</td>\n      <td>...</td>\n      <td>1.0</td>\n      <td>18</td>\n      <td>3</td>\n      <td>15</td>\n      <td>0</td>\n      <td>5</td>\n      <td>4</td>\n      <td>0</td>\n      <td>1</td>\n      <td>0</td>\n    </tr>\n    <tr>\n      <th>3</th>\n      <td>C96110509F8B6256CE08A8AE85ED75DB</td>\n      <td>76730357A84D1D04A662FDB1449F1AFF</td>\n      <td>502FDBC0EB4E7AB157D38262817716EB</td>\n      <td>3</td>\n      <td>12</td>\n      <td>NaN</td>\n      <td>1306675315</td>\n      <td>115852</td>\n      <td>2124</td>\n      <td>22461</td>\n      <td>...</td>\n      <td>0.0</td>\n      <td>8</td>\n      <td>0</td>\n      <td>2</td>\n      <td>1</td>\n      <td>12</td>\n      <td>1</td>\n      <td>0</td>\n      <td>1</td>\n      <td>0</td>\n    </tr>\n    <tr>\n      <th>4</th>\n      <td>2031F18622E7C6A30E702D33776BF2C1</td>\n      <td>9008C5AB3CB46623ADBD4C68A2A2D088</td>\n      <td>CF1F523F7D4D4139E5FD3EBD72F27D5A</td>\n      <td>3</td>\n      <td>0</td>\n      <td>NaN</td>\n      <td>1308377880</td>\n      <td>1208919</td>\n      <td>1101</td>\n      <td>388</td>\n      <td>...</td>\n      <td>1.0</td>\n      <td>11</td>\n      <td>3</td>\n      <td>16</td>\n      <td>0</td>\n      <td>0</td>\n      <td>13</td>\n      <td>0</td>\n      <td>1</td>\n      <td>0</td>\n    </tr>\n  </tbody>\n</table>\n<p>5 rows × 27 columns</p>\n</div>"
     },
     "metadata": {},
     "execution_count": 20
    }
   ],
   "source": [
    "train.head()"
   ]
  },
  {
   "cell_type": "markdown",
   "id": "ed1d1017",
   "metadata": {},
   "source": []
  },
  {
   "cell_type": "markdown",
   "id": "2a935eee",
   "metadata": {},
   "source": [
    "#### engagements"
   ]
  },
  {
   "cell_type": "code",
   "execution_count": 21,
   "id": "13f67b51",
   "metadata": {},
   "outputs": [],
   "source": [
    "engagement_like_path = pickle_path + \"engagement-like.pkl\"\n",
    "\n",
    "if os.path.exists(engagement_like_path ) :\n",
    "    with open(engagement_like_path , 'rb') as f :\n",
    "        engagement_like = pickle.load(f)"
   ]
  },
  {
   "cell_type": "code",
   "execution_count": 22,
   "id": "e9440f64",
   "metadata": {},
   "outputs": [],
   "source": [
    "train['engager_feature_number_of_previous_like_engagement'] = train.apply(lambda x : engagement_like[x['engager_id']], axis = 1)\n",
    "valid['engager_feature_number_of_previous_like_engagement'] = valid.apply(lambda x : engagement_like[x['engager_id']], axis = 1)\n",
    "test['engager_feature_number_of_previous_like_engagement'] = test.apply(lambda x : engagement_like[x['engager_id']], axis = 1)\n",
    "del engagement_like"
   ]
  },
  {
   "cell_type": "code",
   "execution_count": 23,
   "id": "607fc718",
   "metadata": {},
   "outputs": [],
   "source": [
    "engagement_reply_path = pickle_path + \"engagement-reply.pkl\"\n",
    "\n",
    "if os.path.exists(engagement_reply_path ) :\n",
    "    with open(engagement_reply_path , 'rb') as f :\n",
    "        engagement_reply = pickle.load(f)"
   ]
  },
  {
   "cell_type": "code",
   "execution_count": 24,
   "id": "97f54f18",
   "metadata": {},
   "outputs": [],
   "source": [
    "train['engager_feature_number_of_previous_reply_engagement'] = train.apply(lambda x : engagement_reply[x['engager_id']], axis = 1)\n",
    "valid['engager_feature_number_of_previous_reply_engagement'] = valid.apply(lambda x : engagement_reply[x['engager_id']], axis = 1)\n",
    "test['engager_feature_number_of_previous_reply_engagement'] = test.apply(lambda x : engagement_reply[x['engager_id']], axis = 1)\n",
    "del engagement_reply"
   ]
  },
  {
   "cell_type": "code",
   "execution_count": 25,
   "id": "c8334b47",
   "metadata": {},
   "outputs": [],
   "source": [
    "engagement_retweet_path = pickle_path + \"engagement-retweet.pkl\"\n",
    "\n",
    "if os.path.exists(engagement_retweet_path ) :\n",
    "    with open(engagement_retweet_path , 'rb') as f :\n",
    "        engagement_retweet = pickle.load(f)"
   ]
  },
  {
   "cell_type": "code",
   "execution_count": 26,
   "id": "f23be26b",
   "metadata": {},
   "outputs": [],
   "source": [
    "train['engager_feature_number_of_previous_retweet_engagement'] = train.apply(lambda x : engagement_retweet[x['engager_id']], axis = 1)\n",
    "valid['engager_feature_number_of_previous_retweet_engagement'] = valid.apply(lambda x : engagement_retweet[x['engager_id']], axis = 1)\n",
    "test['engager_feature_number_of_previous_retweet_engagement'] = test.apply(lambda x : engagement_retweet[x['engager_id']], axis = 1)\n",
    "del engagement_retweet"
   ]
  },
  {
   "cell_type": "code",
   "execution_count": 27,
   "id": "1226d884",
   "metadata": {},
   "outputs": [],
   "source": [
    "engagement_comment_path = pickle_path + \"engagement-comment.pkl\"\n",
    "\n",
    "if os.path.exists(engagement_comment_path ) :\n",
    "    with open(engagement_comment_path , 'rb') as f :\n",
    "        engagement_comment = pickle.load(f)"
   ]
  },
  {
   "cell_type": "code",
   "execution_count": 28,
   "id": "8939b924",
   "metadata": {},
   "outputs": [],
   "source": [
    "train['engager_feature_number_of_previous_comment_engagement'] = train.apply(lambda x : engagement_comment[x['engager_id']], axis = 1)\n",
    "valid['engager_feature_number_of_previous_comment_engagement'] = valid.apply(lambda x : engagement_comment[x['engager_id']], axis = 1)\n",
    "test['engager_feature_number_of_previous_comment_engagement'] = test.apply(lambda x : engagement_comment[x['engager_id']], axis = 1)\n",
    "del engagement_comment"
   ]
  },
  {
   "cell_type": "code",
   "execution_count": 29,
   "id": "7657b552",
   "metadata": {},
   "outputs": [],
   "source": [
    "train['number_of_engagements_positive'] = train.apply(lambda x : x['engager_feature_number_of_previous_like_engagement'] + x['engager_feature_number_of_previous_retweet_engagement'] + x['engager_feature_number_of_previous_reply_engagement'] + x['engager_feature_number_of_previous_comment_engagement'], axis = 1)\n",
    "valid['number_of_engagements_positive'] = valid.apply(lambda x : x['engager_feature_number_of_previous_like_engagement'] + x['engager_feature_number_of_previous_retweet_engagement'] + x['engager_feature_number_of_previous_reply_engagement'] + x['engager_feature_number_of_previous_comment_engagement'], axis = 1)\n",
    "test['number_of_engagements_positive'] = test.apply(lambda x : x['engager_feature_number_of_previous_like_engagement'] + x['engager_feature_number_of_previous_retweet_engagement'] + x['engager_feature_number_of_previous_reply_engagement'] + x['engager_feature_number_of_previous_comment_engagement'], axis = 1)"
   ]
  },
  {
   "cell_type": "markdown",
   "id": "87d59736",
   "metadata": {},
   "source": [
    "### Tweet Engagements"
   ]
  },
  {
   "cell_type": "code",
   "execution_count": 30,
   "id": "2493ed57",
   "metadata": {},
   "outputs": [],
   "source": [
    "tweet_engagement_path = pickle_path + \"tweet_id_engagement_1.pkl\"\n",
    "\n",
    "if os.path.exists(tweet_engagement_path ) :\n",
    "    with open(tweet_engagement_path, 'rb') as f :\n",
    "        tweet_engagements = pickle.load(f)\n",
    "        tweet_engagements = defaultdict(lambda : -1, tweet_engagements)"
   ]
  },
  {
   "cell_type": "code",
   "execution_count": 31,
   "id": "260f947b",
   "metadata": {},
   "outputs": [],
   "source": [
    "train['number_of_tweet_engagements'] = train.apply(lambda x : tweet_engagements[x['tweet_id']], axis = 1)\n",
    "valid['number_of_tweet_engagements'] = valid.apply(lambda x : tweet_engagements[x['tweet_id']], axis = 1)\n",
    "test['number_of_tweet_engagements'] = test.apply(lambda x : tweet_engagements[x['tweet_id']], axis = 1)\n",
    "\n",
    "del tweet_engagements"
   ]
  },
  {
   "cell_type": "code",
   "execution_count": 32,
   "id": "e44224b6",
   "metadata": {},
   "outputs": [],
   "source": [
    "train1 = train[train['number_of_tweet_engagements'] != -1]\n",
    "train = train[train['number_of_tweet_engagements'] == -1]\n",
    "\n",
    "valid1 = valid[valid['number_of_tweet_engagements'] != -1]\n",
    "valid = valid[valid['number_of_tweet_engagements'] == -1]\n",
    "\n",
    "test1 = test[test['number_of_tweet_engagements'] != -1]\n",
    "test = test[test['number_of_tweet_engagements'] == -1]"
   ]
  },
  {
   "cell_type": "code",
   "execution_count": 33,
   "id": "c9a19e29",
   "metadata": {},
   "outputs": [],
   "source": [
    "tweet_engagement_path = pickle_path + \"tweet_id_engagement_2.pkl\"\n",
    "\n",
    "if os.path.exists(tweet_engagement_path ) :\n",
    "    with open(tweet_engagement_path, 'rb') as f :\n",
    "        tweet_engagements = pickle.load(f)\n",
    "        tweet_engagements = defaultdict(lambda : -1, tweet_engagements)"
   ]
  },
  {
   "cell_type": "code",
   "execution_count": 34,
   "id": "4ea394d3",
   "metadata": {},
   "outputs": [
    {
     "output_type": "stream",
     "name": "stderr",
     "text": [
      "<ipython-input-34-e69b0d0f7952>:1: SettingWithCopyWarning: \nA value is trying to be set on a copy of a slice from a DataFrame.\nTry using .loc[row_indexer,col_indexer] = value instead\n\nSee the caveats in the documentation: https://pandas.pydata.org/pandas-docs/stable/user_guide/indexing.html#returning-a-view-versus-a-copy\n  train['number_of_tweet_engagements'] = train.apply(lambda x : tweet_engagements[x['tweet_id']], axis = 1)\n"
     ]
    }
   ],
   "source": [
    "train['number_of_tweet_engagements'] = train.apply(lambda x : tweet_engagements[x['tweet_id']], axis = 1)\n",
    "valid['number_of_tweet_engagements'] = valid.apply(lambda x : tweet_engagements[x['tweet_id']], axis = 1)\n",
    "test['number_of_tweet_engagements'] = test.apply(lambda x : tweet_engagements[x['tweet_id']], axis = 1)\n",
    "\n",
    "del tweet_engagements"
   ]
  },
  {
   "cell_type": "code",
   "execution_count": 35,
   "id": "8cba1bc8",
   "metadata": {},
   "outputs": [],
   "source": [
    "train2 = train[train['number_of_tweet_engagements'] != -1]\n",
    "train = train[train['number_of_tweet_engagements'] == -1]\n",
    "\n",
    "valid2 = valid[valid['number_of_tweet_engagements'] != -1]\n",
    "valid = valid[valid['number_of_tweet_engagements'] == -1]\n",
    "\n",
    "test2 = test[test['number_of_tweet_engagements'] != -1]\n",
    "test = test[test['number_of_tweet_engagements'] == -1]"
   ]
  },
  {
   "cell_type": "code",
   "execution_count": 36,
   "id": "6c439845",
   "metadata": {},
   "outputs": [],
   "source": [
    "tweet_engagement_path = pickle_path + \"tweet_id_engagement_3.pkl\"\n",
    "\n",
    "if os.path.exists(tweet_engagement_path ) :\n",
    "    with open(tweet_engagement_path, 'rb') as f :\n",
    "        tweet_engagements = pickle.load(f)\n",
    "        tweet_engagements = defaultdict(lambda : -1, tweet_engagements)"
   ]
  },
  {
   "cell_type": "code",
   "execution_count": 37,
   "id": "b6277fbd",
   "metadata": {
    "scrolled": true
   },
   "outputs": [],
   "source": [
    "train['number_of_tweet_engagements'] = train.apply(lambda x : tweet_engagements[x['tweet_id']], axis = 1)\n",
    "valid['number_of_tweet_engagements'] = valid.apply(lambda x : tweet_engagements[x['tweet_id']], axis = 1)\n",
    "test['number_of_tweet_engagements'] = test.apply(lambda x : tweet_engagements[x['tweet_id']], axis = 1)\n",
    "\n",
    "del tweet_engagements"
   ]
  },
  {
   "cell_type": "code",
   "execution_count": 38,
   "id": "71165522",
   "metadata": {},
   "outputs": [],
   "source": [
    "train = pd.concat([train1, train2, train])\n",
    "valid = pd.concat([valid1, valid2, valid])\n",
    "test = pd.concat([test1, test2, test])"
   ]
  },
  {
   "cell_type": "code",
   "execution_count": 39,
   "id": "a23bfe0d",
   "metadata": {},
   "outputs": [
    {
     "output_type": "execute_result",
     "data": {
      "text/plain": [
       "                               creator_id                        engager_id  \\\n",
       "4        2031F18622E7C6A30E702D33776BF2C1  9008C5AB3CB46623ADBD4C68A2A2D088   \n",
       "5        E635FEB5FB18AD533DB0BCFBF5D282D4  DE8666E51DCE2C1283ABB839BE93B138   \n",
       "11       D9DDAB4650AF4698E43957129DFD688B  7266858CC14AAC698059210C8F216CAB   \n",
       "12       A263318E15A75B5172099E3A89C9D681  07503AC54FA0F90CA15AB939466D39B6   \n",
       "15       BDACD289C81A1E5CF9C8C46E45359CFD  D26C6FD85AC7806B83F04C566809A374   \n",
       "...                                   ...                               ...   \n",
       "4338895  99D35C25426FAB752F692681736605BD  CFDD22904537A94060ECF63B57DC184F   \n",
       "4338896  C94AA894021C4146748AC0E3FB60892B  AAF58C6D95BA08E7B011DC1C5EBDC980   \n",
       "4338897  1D646CD2BBB18189535E3DBAA620A4B1  0D5280E2D8DA57CD6A54FC8B646B98C4   \n",
       "4338900  CA3F814C971D755DAB914085BF060BBC  89F204AB7127382E125775849E16CC53   \n",
       "4338902  54652625625729AE0E38196970594938  39D3029E8FDC3A18472D28436EC9E776   \n",
       "\n",
       "                                 tweet_id  tweet_type  language  \\\n",
       "4        CF1F523F7D4D4139E5FD3EBD72F27D5A           3         0   \n",
       "5        992EA1A4BF5D0461366C2EF61B607FEB           1         0   \n",
       "11       EAC5C4AE66125CEE9D8E1BC1CF85E102           3         1   \n",
       "12       6397F22E018B27C6310CB52A5B3E0EB1           3         0   \n",
       "15       E02FC5C475C27A42A4B25D1FE82A4D49           3         1   \n",
       "...                                   ...         ...       ...   \n",
       "4338895  7440BCEE030969DEA06301AFF01AD343           3         0   \n",
       "4338896  3A386B2ABC1FA51E3126022730EC4DAC           0        11   \n",
       "4338897  89DE8539210EA474300B269AD3872965           0         0   \n",
       "4338900  5F4DE2AC282FD1D0366421A2AF9332EC           3         3   \n",
       "4338902  F15B4615DA12447331AFEC90FA814B4D           0         0   \n",
       "\n",
       "                                 hashtags  creator_account_creation  \\\n",
       "4                                     NaN                1308377880   \n",
       "5                                     NaN                1520111621   \n",
       "11                                    NaN                1481526142   \n",
       "12                                    NaN                1369520342   \n",
       "15       003A97EF57478B89DE8B8AF402327F72                1396727500   \n",
       "...                                   ...                       ...   \n",
       "4338895                               NaN                1533061095   \n",
       "4338896                               NaN                1519531801   \n",
       "4338897                               NaN                1370985337   \n",
       "4338900                               NaN                1520966834   \n",
       "4338902                               NaN                1293912925   \n",
       "\n",
       "         creator_follower_count  creator_following_count  \\\n",
       "4                       1208919                     1101   \n",
       "5                         35225                     9532   \n",
       "11                        30195                      144   \n",
       "12                      2299846                     4459   \n",
       "15                       219305                      398   \n",
       "...                         ...                      ...   \n",
       "4338895                     725                     1329   \n",
       "4338896                    1717                     1994   \n",
       "4338897                     516                      281   \n",
       "4338900                    1016                      702   \n",
       "4338902                     114                      937   \n",
       "\n",
       "         engager_follower_count  ...  engager_main_language  \\\n",
       "4                           388  ...                     13   \n",
       "5                           339  ...                      2   \n",
       "11                           11  ...                      1   \n",
       "12                          516  ...                      0   \n",
       "15                           34  ...                      1   \n",
       "...                         ...  ...                    ...   \n",
       "4338895                     127  ...                      2   \n",
       "4338896                     585  ...                     11   \n",
       "4338897                     465  ...                      0   \n",
       "4338900                     257  ...                      3   \n",
       "4338902                     183  ...                      0   \n",
       "\n",
       "         creator_and_engager_have_same_main_language  \\\n",
       "4                                                  0   \n",
       "5                                                  0   \n",
       "11                                                 1   \n",
       "12                                                 0   \n",
       "15                                                 1   \n",
       "...                                              ...   \n",
       "4338895                                            0   \n",
       "4338896                                            1   \n",
       "4338897                                            1   \n",
       "4338900                                            1   \n",
       "4338902                                            1   \n",
       "\n",
       "         is_tweet_in_creator_main_language  is_tweet_in_engager_main_language  \\\n",
       "4                                        1                                  0   \n",
       "5                                        0                                  0   \n",
       "11                                       1                                  1   \n",
       "12                                       0                                  1   \n",
       "15                                       1                                  1   \n",
       "...                                    ...                                ...   \n",
       "4338895                                  0                                  0   \n",
       "4338896                                  1                                  1   \n",
       "4338897                                  1                                  1   \n",
       "4338900                                  1                                  1   \n",
       "4338902                                  1                                  1   \n",
       "\n",
       "         engager_feature_number_of_previous_like_engagement  \\\n",
       "4                                                       27    \n",
       "5                                                      246    \n",
       "11                                                     134    \n",
       "12                                                       6    \n",
       "15                                                     954    \n",
       "...                                                    ...    \n",
       "4338895                                                132    \n",
       "4338896                                                 17    \n",
       "4338897                                                  8    \n",
       "4338900                                                109    \n",
       "4338902                                                 67    \n",
       "\n",
       "         engager_feature_number_of_previous_reply_engagement  \\\n",
       "4                                                        4     \n",
       "5                                                        3     \n",
       "11                                                       1     \n",
       "12                                                       0     \n",
       "15                                                       2     \n",
       "...                                                    ...     \n",
       "4338895                                                  0     \n",
       "4338896                                                  0     \n",
       "4338897                                                  1     \n",
       "4338900                                                  2     \n",
       "4338902                                                  1     \n",
       "\n",
       "         engager_feature_number_of_previous_retweet_engagement  \\\n",
       "4                                                        4       \n",
       "5                                                       42       \n",
       "11                                                       0       \n",
       "12                                                       1       \n",
       "15                                                     110       \n",
       "...                                                    ...       \n",
       "4338895                                                 64       \n",
       "4338896                                                  5       \n",
       "4338897                                                  2       \n",
       "4338900                                                 40       \n",
       "4338902                                                  1       \n",
       "\n",
       "         engager_feature_number_of_previous_comment_engagement  \\\n",
       "4                                                        0       \n",
       "5                                                        3       \n",
       "11                                                       0       \n",
       "12                                                       0       \n",
       "15                                                       1       \n",
       "...                                                    ...       \n",
       "4338895                                                  3       \n",
       "4338896                                                  0       \n",
       "4338897                                                  0       \n",
       "4338900                                                  1       \n",
       "4338902                                                  0       \n",
       "\n",
       "         number_of_engagements_positive  number_of_tweet_engagements  \n",
       "4                                    35                          254  \n",
       "5                                   294                           18  \n",
       "11                                  135                           25  \n",
       "12                                    7                           34  \n",
       "15                                 1067                           22  \n",
       "...                                 ...                          ...  \n",
       "4338895                             199                           -1  \n",
       "4338896                              22                            1  \n",
       "4338897                              11                            1  \n",
       "4338900                             152                           -1  \n",
       "4338902                              69                           -1  \n",
       "\n",
       "[4338906 rows x 33 columns]"
      ],
      "text/html": "<div>\n<style scoped>\n    .dataframe tbody tr th:only-of-type {\n        vertical-align: middle;\n    }\n\n    .dataframe tbody tr th {\n        vertical-align: top;\n    }\n\n    .dataframe thead th {\n        text-align: right;\n    }\n</style>\n<table border=\"1\" class=\"dataframe\">\n  <thead>\n    <tr style=\"text-align: right;\">\n      <th></th>\n      <th>creator_id</th>\n      <th>engager_id</th>\n      <th>tweet_id</th>\n      <th>tweet_type</th>\n      <th>language</th>\n      <th>hashtags</th>\n      <th>creator_account_creation</th>\n      <th>creator_follower_count</th>\n      <th>creator_following_count</th>\n      <th>engager_follower_count</th>\n      <th>...</th>\n      <th>engager_main_language</th>\n      <th>creator_and_engager_have_same_main_language</th>\n      <th>is_tweet_in_creator_main_language</th>\n      <th>is_tweet_in_engager_main_language</th>\n      <th>engager_feature_number_of_previous_like_engagement</th>\n      <th>engager_feature_number_of_previous_reply_engagement</th>\n      <th>engager_feature_number_of_previous_retweet_engagement</th>\n      <th>engager_feature_number_of_previous_comment_engagement</th>\n      <th>number_of_engagements_positive</th>\n      <th>number_of_tweet_engagements</th>\n    </tr>\n  </thead>\n  <tbody>\n    <tr>\n      <th>4</th>\n      <td>2031F18622E7C6A30E702D33776BF2C1</td>\n      <td>9008C5AB3CB46623ADBD4C68A2A2D088</td>\n      <td>CF1F523F7D4D4139E5FD3EBD72F27D5A</td>\n      <td>3</td>\n      <td>0</td>\n      <td>NaN</td>\n      <td>1308377880</td>\n      <td>1208919</td>\n      <td>1101</td>\n      <td>388</td>\n      <td>...</td>\n      <td>13</td>\n      <td>0</td>\n      <td>1</td>\n      <td>0</td>\n      <td>27</td>\n      <td>4</td>\n      <td>4</td>\n      <td>0</td>\n      <td>35</td>\n      <td>254</td>\n    </tr>\n    <tr>\n      <th>5</th>\n      <td>E635FEB5FB18AD533DB0BCFBF5D282D4</td>\n      <td>DE8666E51DCE2C1283ABB839BE93B138</td>\n      <td>992EA1A4BF5D0461366C2EF61B607FEB</td>\n      <td>1</td>\n      <td>0</td>\n      <td>NaN</td>\n      <td>1520111621</td>\n      <td>35225</td>\n      <td>9532</td>\n      <td>339</td>\n      <td>...</td>\n      <td>2</td>\n      <td>0</td>\n      <td>0</td>\n      <td>0</td>\n      <td>246</td>\n      <td>3</td>\n      <td>42</td>\n      <td>3</td>\n      <td>294</td>\n      <td>18</td>\n    </tr>\n    <tr>\n      <th>11</th>\n      <td>D9DDAB4650AF4698E43957129DFD688B</td>\n      <td>7266858CC14AAC698059210C8F216CAB</td>\n      <td>EAC5C4AE66125CEE9D8E1BC1CF85E102</td>\n      <td>3</td>\n      <td>1</td>\n      <td>NaN</td>\n      <td>1481526142</td>\n      <td>30195</td>\n      <td>144</td>\n      <td>11</td>\n      <td>...</td>\n      <td>1</td>\n      <td>1</td>\n      <td>1</td>\n      <td>1</td>\n      <td>134</td>\n      <td>1</td>\n      <td>0</td>\n      <td>0</td>\n      <td>135</td>\n      <td>25</td>\n    </tr>\n    <tr>\n      <th>12</th>\n      <td>A263318E15A75B5172099E3A89C9D681</td>\n      <td>07503AC54FA0F90CA15AB939466D39B6</td>\n      <td>6397F22E018B27C6310CB52A5B3E0EB1</td>\n      <td>3</td>\n      <td>0</td>\n      <td>NaN</td>\n      <td>1369520342</td>\n      <td>2299846</td>\n      <td>4459</td>\n      <td>516</td>\n      <td>...</td>\n      <td>0</td>\n      <td>0</td>\n      <td>0</td>\n      <td>1</td>\n      <td>6</td>\n      <td>0</td>\n      <td>1</td>\n      <td>0</td>\n      <td>7</td>\n      <td>34</td>\n    </tr>\n    <tr>\n      <th>15</th>\n      <td>BDACD289C81A1E5CF9C8C46E45359CFD</td>\n      <td>D26C6FD85AC7806B83F04C566809A374</td>\n      <td>E02FC5C475C27A42A4B25D1FE82A4D49</td>\n      <td>3</td>\n      <td>1</td>\n      <td>003A97EF57478B89DE8B8AF402327F72</td>\n      <td>1396727500</td>\n      <td>219305</td>\n      <td>398</td>\n      <td>34</td>\n      <td>...</td>\n      <td>1</td>\n      <td>1</td>\n      <td>1</td>\n      <td>1</td>\n      <td>954</td>\n      <td>2</td>\n      <td>110</td>\n      <td>1</td>\n      <td>1067</td>\n      <td>22</td>\n    </tr>\n    <tr>\n      <th>...</th>\n      <td>...</td>\n      <td>...</td>\n      <td>...</td>\n      <td>...</td>\n      <td>...</td>\n      <td>...</td>\n      <td>...</td>\n      <td>...</td>\n      <td>...</td>\n      <td>...</td>\n      <td>...</td>\n      <td>...</td>\n      <td>...</td>\n      <td>...</td>\n      <td>...</td>\n      <td>...</td>\n      <td>...</td>\n      <td>...</td>\n      <td>...</td>\n      <td>...</td>\n      <td>...</td>\n    </tr>\n    <tr>\n      <th>4338895</th>\n      <td>99D35C25426FAB752F692681736605BD</td>\n      <td>CFDD22904537A94060ECF63B57DC184F</td>\n      <td>7440BCEE030969DEA06301AFF01AD343</td>\n      <td>3</td>\n      <td>0</td>\n      <td>NaN</td>\n      <td>1533061095</td>\n      <td>725</td>\n      <td>1329</td>\n      <td>127</td>\n      <td>...</td>\n      <td>2</td>\n      <td>0</td>\n      <td>0</td>\n      <td>0</td>\n      <td>132</td>\n      <td>0</td>\n      <td>64</td>\n      <td>3</td>\n      <td>199</td>\n      <td>-1</td>\n    </tr>\n    <tr>\n      <th>4338896</th>\n      <td>C94AA894021C4146748AC0E3FB60892B</td>\n      <td>AAF58C6D95BA08E7B011DC1C5EBDC980</td>\n      <td>3A386B2ABC1FA51E3126022730EC4DAC</td>\n      <td>0</td>\n      <td>11</td>\n      <td>NaN</td>\n      <td>1519531801</td>\n      <td>1717</td>\n      <td>1994</td>\n      <td>585</td>\n      <td>...</td>\n      <td>11</td>\n      <td>1</td>\n      <td>1</td>\n      <td>1</td>\n      <td>17</td>\n      <td>0</td>\n      <td>5</td>\n      <td>0</td>\n      <td>22</td>\n      <td>1</td>\n    </tr>\n    <tr>\n      <th>4338897</th>\n      <td>1D646CD2BBB18189535E3DBAA620A4B1</td>\n      <td>0D5280E2D8DA57CD6A54FC8B646B98C4</td>\n      <td>89DE8539210EA474300B269AD3872965</td>\n      <td>0</td>\n      <td>0</td>\n      <td>NaN</td>\n      <td>1370985337</td>\n      <td>516</td>\n      <td>281</td>\n      <td>465</td>\n      <td>...</td>\n      <td>0</td>\n      <td>1</td>\n      <td>1</td>\n      <td>1</td>\n      <td>8</td>\n      <td>1</td>\n      <td>2</td>\n      <td>0</td>\n      <td>11</td>\n      <td>1</td>\n    </tr>\n    <tr>\n      <th>4338900</th>\n      <td>CA3F814C971D755DAB914085BF060BBC</td>\n      <td>89F204AB7127382E125775849E16CC53</td>\n      <td>5F4DE2AC282FD1D0366421A2AF9332EC</td>\n      <td>3</td>\n      <td>3</td>\n      <td>NaN</td>\n      <td>1520966834</td>\n      <td>1016</td>\n      <td>702</td>\n      <td>257</td>\n      <td>...</td>\n      <td>3</td>\n      <td>1</td>\n      <td>1</td>\n      <td>1</td>\n      <td>109</td>\n      <td>2</td>\n      <td>40</td>\n      <td>1</td>\n      <td>152</td>\n      <td>-1</td>\n    </tr>\n    <tr>\n      <th>4338902</th>\n      <td>54652625625729AE0E38196970594938</td>\n      <td>39D3029E8FDC3A18472D28436EC9E776</td>\n      <td>F15B4615DA12447331AFEC90FA814B4D</td>\n      <td>0</td>\n      <td>0</td>\n      <td>NaN</td>\n      <td>1293912925</td>\n      <td>114</td>\n      <td>937</td>\n      <td>183</td>\n      <td>...</td>\n      <td>0</td>\n      <td>1</td>\n      <td>1</td>\n      <td>1</td>\n      <td>67</td>\n      <td>1</td>\n      <td>1</td>\n      <td>0</td>\n      <td>69</td>\n      <td>-1</td>\n    </tr>\n  </tbody>\n</table>\n<p>4338906 rows × 33 columns</p>\n</div>"
     },
     "metadata": {},
     "execution_count": 39
    }
   ],
   "source": [
    "train"
   ]
  },
  {
   "cell_type": "code",
   "execution_count": 40,
   "id": "f9e1061b",
   "metadata": {},
   "outputs": [],
   "source": [
    "del train1, train2, valid1, valid2, test1, test2"
   ]
  },
  {
   "cell_type": "code",
   "execution_count": 41,
   "id": "9428dcd9",
   "metadata": {},
   "outputs": [],
   "source": [
    "train = train.reset_index(drop=True)\n",
    "valid = valid.reset_index(drop=True)\n",
    "test = test.reset_index(drop=True)"
   ]
  },
  {
   "cell_type": "code",
   "execution_count": 42,
   "id": "62f40b81",
   "metadata": {},
   "outputs": [],
   "source": [
    "train['number_of_engagements_ratio_like'] = train.apply(lambda x : x['engager_feature_number_of_previous_like_engagement'] / x['number_of_engagements_positive'] if x['number_of_engagements_positive'] != 0 else 0, axis = 1)\n",
    "valid['number_of_engagements_ratio_like'] = valid.apply(lambda x : x['engager_feature_number_of_previous_like_engagement'] / x['number_of_engagements_positive'] if x['number_of_engagements_positive'] != 0 else 0, axis = 1)\n",
    "test['number_of_engagements_ratio_like'] = test.apply(lambda x : x['engager_feature_number_of_previous_like_engagement'] / x['number_of_engagements_positive'] if x['number_of_engagements_positive'] != 0 else 0, axis = 1)"
   ]
  },
  {
   "cell_type": "code",
   "execution_count": 43,
   "id": "56416eb0",
   "metadata": {},
   "outputs": [],
   "source": [
    "train['number_of_engagements_ratio_reply'] = train.apply(lambda x : x['engager_feature_number_of_previous_reply_engagement'] / x['number_of_engagements_positive'] if x['number_of_engagements_positive'] != 0 else 0, axis = 1)\n",
    "valid['number_of_engagements_ratio_reply'] = valid.apply(lambda x : x['engager_feature_number_of_previous_reply_engagement'] / x['number_of_engagements_positive'] if x['number_of_engagements_positive'] != 0 else 0, axis = 1)\n",
    "test['number_of_engagements_ratio_reply'] = test.apply(lambda x : x['engager_feature_number_of_previous_reply_engagement'] / x['number_of_engagements_positive'] if x['number_of_engagements_positive'] != 0 else 0, axis = 1)"
   ]
  },
  {
   "cell_type": "code",
   "execution_count": 44,
   "id": "44dc44a8",
   "metadata": {},
   "outputs": [],
   "source": [
    "train['number_of_engagements_ratio_retweet'] = train.apply(lambda x : x['engager_feature_number_of_previous_retweet_engagement'] / x['number_of_engagements_positive'] if x['number_of_engagements_positive'] != 0 else 0, axis = 1)\n",
    "valid['number_of_engagements_ratio_retweet'] = valid.apply(lambda x : x['engager_feature_number_of_previous_retweet_engagement'] / x['number_of_engagements_positive'] if x['number_of_engagements_positive'] != 0 else 0, axis = 1)\n",
    "test['number_of_engagements_ratio_retweet'] = test.apply(lambda x : x['engager_feature_number_of_previous_retweet_engagement'] / x['number_of_engagements_positive'] if x['number_of_engagements_positive'] != 0 else 0, axis = 1)"
   ]
  },
  {
   "cell_type": "code",
   "execution_count": 45,
   "id": "3ca68dff",
   "metadata": {},
   "outputs": [],
   "source": [
    "train['number_of_engagements_ratio_comment'] = train.apply(lambda x : x['engager_feature_number_of_previous_comment_engagement'] / x['number_of_engagements_positive'] if x['number_of_engagements_positive'] != 0 else 0, axis = 1)\n",
    "valid['number_of_engagements_ratio_comment'] = valid.apply(lambda x : x['engager_feature_number_of_previous_comment_engagement'] / x['number_of_engagements_positive'] if x['number_of_engagements_positive'] != 0 else 0, axis = 1)\n",
    "test['number_of_engagements_ratio_comment'] = test.apply(lambda x : x['engager_feature_number_of_previous_comment_engagement'] / x['number_of_engagements_positive'] if x['number_of_engagements_positive'] != 0 else 0, axis = 1)"
   ]
  },
  {
   "cell_type": "code",
   "execution_count": null,
   "id": "ff04af08",
   "metadata": {},
   "outputs": [],
   "source": []
  },
  {
   "cell_type": "markdown",
   "id": "2c864683",
   "metadata": {},
   "source": [
    "## Split"
   ]
  },
  {
   "cell_type": "code",
   "execution_count": 46,
   "id": "3c7ebb57",
   "metadata": {},
   "outputs": [],
   "source": [
    "label_names = ['reply', 'retweet', 'comment', 'like']\n",
    "DONT_USE = ['tweet_timestamp','creator_account_creation','engager_account_creation','engage_time',\n",
    "            'creator_account_creation', 'engager_account_creation',\n",
    "            'fold','tweet_id', \n",
    "            'tr','dt_day','','',\n",
    "            'engager_id','creator_id','engager_is_verified',\n",
    "            'elapsed_time',\n",
    "            'links','domains','hashtags0','hashtags1',\n",
    "            'hashtags','tweet_hash','dt_second','id',\n",
    "            'tw_hash0',\n",
    "            'tw_hash1',\n",
    "            'tw_rt_uhash',\n",
    "            'same_language', 'nan_language','language',\n",
    "            'tw_hash', 'tw_freq_hash','tw_first_word', 'tw_second_word', 'tw_last_word', 'tw_llast_word',\n",
    "            'ypred','creator_count_combined','creator_user_fer_count_delta_time','creator_user_fing_count_delta_time','creator_user_fering_count_delta_time','creator_user_fing_count_mode','creator_user_fer_count_mode','creator_user_fering_count_mode'\n",
    "           ]\n",
    "DONT_USE += label_names\n",
    "DONT_USE += conf.labels"
   ]
  },
  {
   "cell_type": "code",
   "execution_count": 47,
   "id": "44e7bd73",
   "metadata": {},
   "outputs": [],
   "source": [
    "RMV = [c for c in DONT_USE if c in train.columns]"
   ]
  },
  {
   "cell_type": "code",
   "execution_count": 48,
   "id": "146032fb",
   "metadata": {},
   "outputs": [],
   "source": [
    "yt_train = train[TARGET]\n",
    "Xt_train = train.drop(RMV, axis=1)"
   ]
  },
  {
   "cell_type": "code",
   "execution_count": 49,
   "id": "7dbe783f",
   "metadata": {},
   "outputs": [],
   "source": [
    "yt_valid = valid[TARGET]\n",
    "Xt_valid = valid.drop(RMV, axis=1)\n",
    "del valid"
   ]
  },
  {
   "cell_type": "code",
   "execution_count": 50,
   "id": "613dbff2",
   "metadata": {},
   "outputs": [],
   "source": [
    "yt_test = test[TARGET]\n",
    "Xt_test = test.drop(RMV, axis=1)\n",
    "del test"
   ]
  },
  {
   "cell_type": "markdown",
   "id": "cdd5cb4e",
   "metadata": {},
   "source": [
    "## Scaling"
   ]
  },
  {
   "cell_type": "code",
   "execution_count": 51,
   "id": "937fbdf4",
   "metadata": {},
   "outputs": [],
   "source": [
    "Xt_train = Xt_train.reset_index(drop=True)\n",
    "Xt_test = Xt_test.reset_index(drop=True)\n",
    "Xt_val = Xt_valid.reset_index(drop=True)"
   ]
  },
  {
   "cell_type": "code",
   "execution_count": 52,
   "id": "4eea05af",
   "metadata": {},
   "outputs": [],
   "source": [
    "scaling_columns = ['creator_following_count', 'creator_follower_count', 'engager_follower_count', \n",
    "                   'engager_following_count', 'dt_dow', 'dt_hour', 'len_domains', 'creator_main_language', 'engager_main_language',\n",
    "                   'engager_feature_number_of_previous_like_engagement',\n",
    "                   'engager_feature_number_of_previous_reply_engagement',\n",
    "                   'engager_feature_number_of_previous_retweet_engagement',\n",
    "                   'engager_feature_number_of_previous_comment_engagement',\n",
    "                   'number_of_engagements_positive',\n",
    "                   'number_of_tweet_engagements']"
   ]
  },
  {
   "cell_type": "code",
   "execution_count": 53,
   "id": "14760859",
   "metadata": {},
   "outputs": [
    {
     "output_type": "execute_result",
     "data": {
      "text/plain": [
       "StandardScaler()"
      ]
     },
     "metadata": {},
     "execution_count": 53
    }
   ],
   "source": [
    "standard_scaler = preprocessing.StandardScaler()\n",
    "standard_scaler.fit(Xt_train[scaling_columns])"
   ]
  },
  {
   "cell_type": "code",
   "execution_count": 54,
   "id": "a2013878",
   "metadata": {},
   "outputs": [],
   "source": [
    "ss = standard_scaler.transform(Xt_train[scaling_columns])\n",
    "Xt_train[scaling_columns] = pd.DataFrame(ss, columns = scaling_columns)"
   ]
  },
  {
   "cell_type": "code",
   "execution_count": 55,
   "id": "a34323b5",
   "metadata": {},
   "outputs": [],
   "source": [
    "ss = standard_scaler.transform(Xt_valid[scaling_columns])\n",
    "Xt_valid[scaling_columns] = pd.DataFrame(ss, columns = scaling_columns)"
   ]
  },
  {
   "cell_type": "code",
   "execution_count": 56,
   "id": "96ca93df",
   "metadata": {},
   "outputs": [],
   "source": [
    "ss = standard_scaler.transform(Xt_test[scaling_columns])\n",
    "Xt_test[scaling_columns] = pd.DataFrame(ss, columns = scaling_columns)"
   ]
  },
  {
   "cell_type": "code",
   "execution_count": 57,
   "id": "abf59b53",
   "metadata": {},
   "outputs": [],
   "source": [
    "Xt_train = Xt_train.fillna(Xt_train.mean())\n",
    "Xt_valid = Xt_valid.fillna(Xt_valid.mean())\n",
    "Xt_test = Xt_test.fillna(Xt_test.mean())"
   ]
  },
  {
   "cell_type": "code",
   "execution_count": null,
   "id": "b5e3fb96",
   "metadata": {},
   "outputs": [],
   "source": []
  },
  {
   "cell_type": "markdown",
   "id": "c5809d22",
   "metadata": {},
   "source": [
    "## Modeling"
   ]
  },
  {
   "cell_type": "code",
   "execution_count": 58,
   "id": "adb1116e",
   "metadata": {},
   "outputs": [],
   "source": [
    "# target_to_idx = {'reply':0, 'retweet':1, 'comment':2, 'like':3, 'all' : 4}"
   ]
  },
  {
   "cell_type": "code",
   "execution_count": 59,
   "id": "a223891f",
   "metadata": {},
   "outputs": [],
   "source": [
    "target = 'comment'\n",
    "idx = conf.target_to_idx[target]"
   ]
  },
  {
   "cell_type": "code",
   "execution_count": 60,
   "id": "5296dfc5",
   "metadata": {},
   "outputs": [],
   "source": [
    "X_train = Xt_train.drop(conf.drop_features[idx], axis = 1)\n",
    "y_train = yt_train[target]"
   ]
  },
  {
   "cell_type": "code",
   "execution_count": 61,
   "id": "8ecc0ed9",
   "metadata": {},
   "outputs": [],
   "source": [
    "X_test = Xt_test.drop(conf.drop_features[idx], axis = 1)\n",
    "y_test = yt_test[target]"
   ]
  },
  {
   "cell_type": "code",
   "execution_count": 62,
   "id": "bae83a1e",
   "metadata": {},
   "outputs": [],
   "source": [
    "X_valid = Xt_valid.drop(conf.drop_features[idx], axis = 1)\n",
    "y_valid = yt_valid[target]"
   ]
  },
  {
   "cell_type": "code",
   "execution_count": 63,
   "id": "b20203e6",
   "metadata": {},
   "outputs": [],
   "source": [
    "model = Sequential([\n",
    "    Dense(16, activation = 'relu', input_dim = X_train.shape[1]),\n",
    "    Dense(8, activation = 'relu'),\n",
    "    Dense(4, activation = 'relu'),\n",
    "    Dense(1, activation = 'sigmoid')\n",
    "])"
   ]
  },
  {
   "cell_type": "code",
   "execution_count": 64,
   "id": "91bd834d",
   "metadata": {},
   "outputs": [],
   "source": [
    "model.compile(\n",
    "    optimizer = 'adam',\n",
    "    loss = 'binary_crossentropy', # softmax : sparse_categorical_crossentropy, sigmoid : binary_crossentropy\n",
    "    metrics=['binary_crossentropy']) # sigmoid :binary_crossentropy"
   ]
  },
  {
   "cell_type": "code",
   "execution_count": 65,
   "id": "2730bf56",
   "metadata": {},
   "outputs": [
    {
     "output_type": "stream",
     "name": "stdout",
     "text": [
      "Epoch 1/3\n",
      "135591/135591 [==============================] - 62s 454us/step - loss: 0.0324 - binary_crossentropy: 0.0324 - val_loss: 0.0312 - val_binary_crossentropy: 0.0312\n",
      "Epoch 2/3\n",
      "135591/135591 [==============================] - 62s 456us/step - loss: 0.0315 - binary_crossentropy: 0.0315 - val_loss: 0.0311 - val_binary_crossentropy: 0.0311\n",
      "Epoch 3/3\n",
      "135591/135591 [==============================] - 62s 456us/step - loss: 0.0314 - binary_crossentropy: 0.0314 - val_loss: 0.0311 - val_binary_crossentropy: 0.0311\n"
     ]
    }
   ],
   "source": [
    "result = model.fit(\n",
    "    x = X_train,\n",
    "    y = y_train,\n",
    "    validation_data=(X_valid, y_valid),\n",
    "    epochs=3,\n",
    "    batch_size=32\n",
    ")"
   ]
  },
  {
   "cell_type": "code",
   "execution_count": 68,
   "id": "fa3d0daf",
   "metadata": {},
   "outputs": [
    {
     "output_type": "display_data",
     "data": {
      "text/plain": "<Figure size 432x288 with 1 Axes>",
      "image/svg+xml": "<?xml version=\"1.0\" encoding=\"utf-8\" standalone=\"no\"?>\n<!DOCTYPE svg PUBLIC \"-//W3C//DTD SVG 1.1//EN\"\n  \"http://www.w3.org/Graphics/SVG/1.1/DTD/svg11.dtd\">\n<!-- Created with matplotlib (https://matplotlib.org/) -->\n<svg height=\"277.314375pt\" version=\"1.1\" viewBox=\"0 0 404.86875 277.314375\" width=\"404.86875pt\" xmlns=\"http://www.w3.org/2000/svg\" xmlns:xlink=\"http://www.w3.org/1999/xlink\">\n <metadata>\n  <rdf:RDF xmlns:cc=\"http://creativecommons.org/ns#\" xmlns:dc=\"http://purl.org/dc/elements/1.1/\" xmlns:rdf=\"http://www.w3.org/1999/02/22-rdf-syntax-ns#\">\n   <cc:Work>\n    <dc:type rdf:resource=\"http://purl.org/dc/dcmitype/StillImage\"/>\n    <dc:date>2021-06-04T11:44:53.962186</dc:date>\n    <dc:format>image/svg+xml</dc:format>\n    <dc:creator>\n     <cc:Agent>\n      <dc:title>Matplotlib v3.3.4, https://matplotlib.org/</dc:title>\n     </cc:Agent>\n    </dc:creator>\n   </cc:Work>\n  </rdf:RDF>\n </metadata>\n <defs>\n  <style type=\"text/css\">*{stroke-linecap:butt;stroke-linejoin:round;}</style>\n </defs>\n <g id=\"figure_1\">\n  <g id=\"patch_1\">\n   <path d=\"M 0 277.314375 \nL 404.86875 277.314375 \nL 404.86875 0 \nL 0 0 \nz\n\" style=\"fill:none;\"/>\n  </g>\n  <g id=\"axes_1\">\n   <g id=\"patch_2\">\n    <path d=\"M 62.86875 239.758125 \nL 397.66875 239.758125 \nL 397.66875 22.318125 \nL 62.86875 22.318125 \nz\n\" style=\"fill:#ffffff;\"/>\n   </g>\n   <g id=\"matplotlib.axis_1\">\n    <g id=\"xtick_1\">\n     <g id=\"line2d_1\">\n      <defs>\n       <path d=\"M 0 0 \nL 0 3.5 \n\" id=\"m6474611558\" style=\"stroke:#000000;stroke-width:0.8;\"/>\n      </defs>\n      <g>\n       <use style=\"stroke:#000000;stroke-width:0.8;\" x=\"78.086932\" xlink:href=\"#m6474611558\" y=\"239.758125\"/>\n      </g>\n     </g>\n     <g id=\"text_1\">\n      <!-- 0.00 -->\n      <g transform=\"translate(66.954119 254.356562)scale(0.1 -0.1)\">\n       <defs>\n        <path d=\"M 31.78125 66.40625 \nQ 24.171875 66.40625 20.328125 58.90625 \nQ 16.5 51.421875 16.5 36.375 \nQ 16.5 21.390625 20.328125 13.890625 \nQ 24.171875 6.390625 31.78125 6.390625 \nQ 39.453125 6.390625 43.28125 13.890625 \nQ 47.125 21.390625 47.125 36.375 \nQ 47.125 51.421875 43.28125 58.90625 \nQ 39.453125 66.40625 31.78125 66.40625 \nz\nM 31.78125 74.21875 \nQ 44.046875 74.21875 50.515625 64.515625 \nQ 56.984375 54.828125 56.984375 36.375 \nQ 56.984375 17.96875 50.515625 8.265625 \nQ 44.046875 -1.421875 31.78125 -1.421875 \nQ 19.53125 -1.421875 13.0625 8.265625 \nQ 6.59375 17.96875 6.59375 36.375 \nQ 6.59375 54.828125 13.0625 64.515625 \nQ 19.53125 74.21875 31.78125 74.21875 \nz\n\" id=\"DejaVuSans-48\"/>\n        <path d=\"M 10.6875 12.40625 \nL 21 12.40625 \nL 21 0 \nL 10.6875 0 \nz\n\" id=\"DejaVuSans-46\"/>\n       </defs>\n       <use xlink:href=\"#DejaVuSans-48\"/>\n       <use x=\"63.623047\" xlink:href=\"#DejaVuSans-46\"/>\n       <use x=\"95.410156\" xlink:href=\"#DejaVuSans-48\"/>\n       <use x=\"159.033203\" xlink:href=\"#DejaVuSans-48\"/>\n      </g>\n     </g>\n    </g>\n    <g id=\"xtick_2\">\n     <g id=\"line2d_2\">\n      <g>\n       <use style=\"stroke:#000000;stroke-width:0.8;\" x=\"116.132386\" xlink:href=\"#m6474611558\" y=\"239.758125\"/>\n      </g>\n     </g>\n     <g id=\"text_2\">\n      <!-- 0.25 -->\n      <g transform=\"translate(104.999574 254.356562)scale(0.1 -0.1)\">\n       <defs>\n        <path d=\"M 19.1875 8.296875 \nL 53.609375 8.296875 \nL 53.609375 0 \nL 7.328125 0 \nL 7.328125 8.296875 \nQ 12.9375 14.109375 22.625 23.890625 \nQ 32.328125 33.6875 34.8125 36.53125 \nQ 39.546875 41.84375 41.421875 45.53125 \nQ 43.3125 49.21875 43.3125 52.78125 \nQ 43.3125 58.59375 39.234375 62.25 \nQ 35.15625 65.921875 28.609375 65.921875 \nQ 23.96875 65.921875 18.8125 64.3125 \nQ 13.671875 62.703125 7.8125 59.421875 \nL 7.8125 69.390625 \nQ 13.765625 71.78125 18.9375 73 \nQ 24.125 74.21875 28.421875 74.21875 \nQ 39.75 74.21875 46.484375 68.546875 \nQ 53.21875 62.890625 53.21875 53.421875 \nQ 53.21875 48.921875 51.53125 44.890625 \nQ 49.859375 40.875 45.40625 35.40625 \nQ 44.1875 33.984375 37.640625 27.21875 \nQ 31.109375 20.453125 19.1875 8.296875 \nz\n\" id=\"DejaVuSans-50\"/>\n        <path d=\"M 10.796875 72.90625 \nL 49.515625 72.90625 \nL 49.515625 64.59375 \nL 19.828125 64.59375 \nL 19.828125 46.734375 \nQ 21.96875 47.46875 24.109375 47.828125 \nQ 26.265625 48.1875 28.421875 48.1875 \nQ 40.625 48.1875 47.75 41.5 \nQ 54.890625 34.8125 54.890625 23.390625 \nQ 54.890625 11.625 47.5625 5.09375 \nQ 40.234375 -1.421875 26.90625 -1.421875 \nQ 22.3125 -1.421875 17.546875 -0.640625 \nQ 12.796875 0.140625 7.71875 1.703125 \nL 7.71875 11.625 \nQ 12.109375 9.234375 16.796875 8.0625 \nQ 21.484375 6.890625 26.703125 6.890625 \nQ 35.15625 6.890625 40.078125 11.328125 \nQ 45.015625 15.765625 45.015625 23.390625 \nQ 45.015625 31 40.078125 35.4375 \nQ 35.15625 39.890625 26.703125 39.890625 \nQ 22.75 39.890625 18.8125 39.015625 \nQ 14.890625 38.140625 10.796875 36.28125 \nz\n\" id=\"DejaVuSans-53\"/>\n       </defs>\n       <use xlink:href=\"#DejaVuSans-48\"/>\n       <use x=\"63.623047\" xlink:href=\"#DejaVuSans-46\"/>\n       <use x=\"95.410156\" xlink:href=\"#DejaVuSans-50\"/>\n       <use x=\"159.033203\" xlink:href=\"#DejaVuSans-53\"/>\n      </g>\n     </g>\n    </g>\n    <g id=\"xtick_3\">\n     <g id=\"line2d_3\">\n      <g>\n       <use style=\"stroke:#000000;stroke-width:0.8;\" x=\"154.177841\" xlink:href=\"#m6474611558\" y=\"239.758125\"/>\n      </g>\n     </g>\n     <g id=\"text_3\">\n      <!-- 0.50 -->\n      <g transform=\"translate(143.045028 254.356562)scale(0.1 -0.1)\">\n       <use xlink:href=\"#DejaVuSans-48\"/>\n       <use x=\"63.623047\" xlink:href=\"#DejaVuSans-46\"/>\n       <use x=\"95.410156\" xlink:href=\"#DejaVuSans-53\"/>\n       <use x=\"159.033203\" xlink:href=\"#DejaVuSans-48\"/>\n      </g>\n     </g>\n    </g>\n    <g id=\"xtick_4\">\n     <g id=\"line2d_4\">\n      <g>\n       <use style=\"stroke:#000000;stroke-width:0.8;\" x=\"192.223295\" xlink:href=\"#m6474611558\" y=\"239.758125\"/>\n      </g>\n     </g>\n     <g id=\"text_4\">\n      <!-- 0.75 -->\n      <g transform=\"translate(181.090483 254.356562)scale(0.1 -0.1)\">\n       <defs>\n        <path d=\"M 8.203125 72.90625 \nL 55.078125 72.90625 \nL 55.078125 68.703125 \nL 28.609375 0 \nL 18.3125 0 \nL 43.21875 64.59375 \nL 8.203125 64.59375 \nz\n\" id=\"DejaVuSans-55\"/>\n       </defs>\n       <use xlink:href=\"#DejaVuSans-48\"/>\n       <use x=\"63.623047\" xlink:href=\"#DejaVuSans-46\"/>\n       <use x=\"95.410156\" xlink:href=\"#DejaVuSans-55\"/>\n       <use x=\"159.033203\" xlink:href=\"#DejaVuSans-53\"/>\n      </g>\n     </g>\n    </g>\n    <g id=\"xtick_5\">\n     <g id=\"line2d_5\">\n      <g>\n       <use style=\"stroke:#000000;stroke-width:0.8;\" x=\"230.26875\" xlink:href=\"#m6474611558\" y=\"239.758125\"/>\n      </g>\n     </g>\n     <g id=\"text_5\">\n      <!-- 1.00 -->\n      <g transform=\"translate(219.135938 254.356562)scale(0.1 -0.1)\">\n       <defs>\n        <path d=\"M 12.40625 8.296875 \nL 28.515625 8.296875 \nL 28.515625 63.921875 \nL 10.984375 60.40625 \nL 10.984375 69.390625 \nL 28.421875 72.90625 \nL 38.28125 72.90625 \nL 38.28125 8.296875 \nL 54.390625 8.296875 \nL 54.390625 0 \nL 12.40625 0 \nz\n\" id=\"DejaVuSans-49\"/>\n       </defs>\n       <use xlink:href=\"#DejaVuSans-49\"/>\n       <use x=\"63.623047\" xlink:href=\"#DejaVuSans-46\"/>\n       <use x=\"95.410156\" xlink:href=\"#DejaVuSans-48\"/>\n       <use x=\"159.033203\" xlink:href=\"#DejaVuSans-48\"/>\n      </g>\n     </g>\n    </g>\n    <g id=\"xtick_6\">\n     <g id=\"line2d_6\">\n      <g>\n       <use style=\"stroke:#000000;stroke-width:0.8;\" x=\"268.314205\" xlink:href=\"#m6474611558\" y=\"239.758125\"/>\n      </g>\n     </g>\n     <g id=\"text_6\">\n      <!-- 1.25 -->\n      <g transform=\"translate(257.181392 254.356562)scale(0.1 -0.1)\">\n       <use xlink:href=\"#DejaVuSans-49\"/>\n       <use x=\"63.623047\" xlink:href=\"#DejaVuSans-46\"/>\n       <use x=\"95.410156\" xlink:href=\"#DejaVuSans-50\"/>\n       <use x=\"159.033203\" xlink:href=\"#DejaVuSans-53\"/>\n      </g>\n     </g>\n    </g>\n    <g id=\"xtick_7\">\n     <g id=\"line2d_7\">\n      <g>\n       <use style=\"stroke:#000000;stroke-width:0.8;\" x=\"306.359659\" xlink:href=\"#m6474611558\" y=\"239.758125\"/>\n      </g>\n     </g>\n     <g id=\"text_7\">\n      <!-- 1.50 -->\n      <g transform=\"translate(295.226847 254.356562)scale(0.1 -0.1)\">\n       <use xlink:href=\"#DejaVuSans-49\"/>\n       <use x=\"63.623047\" xlink:href=\"#DejaVuSans-46\"/>\n       <use x=\"95.410156\" xlink:href=\"#DejaVuSans-53\"/>\n       <use x=\"159.033203\" xlink:href=\"#DejaVuSans-48\"/>\n      </g>\n     </g>\n    </g>\n    <g id=\"xtick_8\">\n     <g id=\"line2d_8\">\n      <g>\n       <use style=\"stroke:#000000;stroke-width:0.8;\" x=\"344.405114\" xlink:href=\"#m6474611558\" y=\"239.758125\"/>\n      </g>\n     </g>\n     <g id=\"text_8\">\n      <!-- 1.75 -->\n      <g transform=\"translate(333.272301 254.356562)scale(0.1 -0.1)\">\n       <use xlink:href=\"#DejaVuSans-49\"/>\n       <use x=\"63.623047\" xlink:href=\"#DejaVuSans-46\"/>\n       <use x=\"95.410156\" xlink:href=\"#DejaVuSans-55\"/>\n       <use x=\"159.033203\" xlink:href=\"#DejaVuSans-53\"/>\n      </g>\n     </g>\n    </g>\n    <g id=\"xtick_9\">\n     <g id=\"line2d_9\">\n      <g>\n       <use style=\"stroke:#000000;stroke-width:0.8;\" x=\"382.450568\" xlink:href=\"#m6474611558\" y=\"239.758125\"/>\n      </g>\n     </g>\n     <g id=\"text_9\">\n      <!-- 2.00 -->\n      <g transform=\"translate(371.317756 254.356562)scale(0.1 -0.1)\">\n       <use xlink:href=\"#DejaVuSans-50\"/>\n       <use x=\"63.623047\" xlink:href=\"#DejaVuSans-46\"/>\n       <use x=\"95.410156\" xlink:href=\"#DejaVuSans-48\"/>\n       <use x=\"159.033203\" xlink:href=\"#DejaVuSans-48\"/>\n      </g>\n     </g>\n    </g>\n    <g id=\"text_10\">\n     <!-- epoch -->\n     <g transform=\"translate(215.040625 268.034687)scale(0.1 -0.1)\">\n      <defs>\n       <path d=\"M 56.203125 29.59375 \nL 56.203125 25.203125 \nL 14.890625 25.203125 \nQ 15.484375 15.921875 20.484375 11.0625 \nQ 25.484375 6.203125 34.421875 6.203125 \nQ 39.59375 6.203125 44.453125 7.46875 \nQ 49.3125 8.734375 54.109375 11.28125 \nL 54.109375 2.78125 \nQ 49.265625 0.734375 44.1875 -0.34375 \nQ 39.109375 -1.421875 33.890625 -1.421875 \nQ 20.796875 -1.421875 13.15625 6.1875 \nQ 5.515625 13.8125 5.515625 26.8125 \nQ 5.515625 40.234375 12.765625 48.109375 \nQ 20.015625 56 32.328125 56 \nQ 43.359375 56 49.78125 48.890625 \nQ 56.203125 41.796875 56.203125 29.59375 \nz\nM 47.21875 32.234375 \nQ 47.125 39.59375 43.09375 43.984375 \nQ 39.0625 48.390625 32.421875 48.390625 \nQ 24.90625 48.390625 20.390625 44.140625 \nQ 15.875 39.890625 15.1875 32.171875 \nz\n\" id=\"DejaVuSans-101\"/>\n       <path d=\"M 18.109375 8.203125 \nL 18.109375 -20.796875 \nL 9.078125 -20.796875 \nL 9.078125 54.6875 \nL 18.109375 54.6875 \nL 18.109375 46.390625 \nQ 20.953125 51.265625 25.265625 53.625 \nQ 29.59375 56 35.59375 56 \nQ 45.5625 56 51.78125 48.09375 \nQ 58.015625 40.1875 58.015625 27.296875 \nQ 58.015625 14.40625 51.78125 6.484375 \nQ 45.5625 -1.421875 35.59375 -1.421875 \nQ 29.59375 -1.421875 25.265625 0.953125 \nQ 20.953125 3.328125 18.109375 8.203125 \nz\nM 48.6875 27.296875 \nQ 48.6875 37.203125 44.609375 42.84375 \nQ 40.53125 48.484375 33.40625 48.484375 \nQ 26.265625 48.484375 22.1875 42.84375 \nQ 18.109375 37.203125 18.109375 27.296875 \nQ 18.109375 17.390625 22.1875 11.75 \nQ 26.265625 6.109375 33.40625 6.109375 \nQ 40.53125 6.109375 44.609375 11.75 \nQ 48.6875 17.390625 48.6875 27.296875 \nz\n\" id=\"DejaVuSans-112\"/>\n       <path d=\"M 30.609375 48.390625 \nQ 23.390625 48.390625 19.1875 42.75 \nQ 14.984375 37.109375 14.984375 27.296875 \nQ 14.984375 17.484375 19.15625 11.84375 \nQ 23.34375 6.203125 30.609375 6.203125 \nQ 37.796875 6.203125 41.984375 11.859375 \nQ 46.1875 17.53125 46.1875 27.296875 \nQ 46.1875 37.015625 41.984375 42.703125 \nQ 37.796875 48.390625 30.609375 48.390625 \nz\nM 30.609375 56 \nQ 42.328125 56 49.015625 48.375 \nQ 55.71875 40.765625 55.71875 27.296875 \nQ 55.71875 13.875 49.015625 6.21875 \nQ 42.328125 -1.421875 30.609375 -1.421875 \nQ 18.84375 -1.421875 12.171875 6.21875 \nQ 5.515625 13.875 5.515625 27.296875 \nQ 5.515625 40.765625 12.171875 48.375 \nQ 18.84375 56 30.609375 56 \nz\n\" id=\"DejaVuSans-111\"/>\n       <path d=\"M 48.78125 52.59375 \nL 48.78125 44.1875 \nQ 44.96875 46.296875 41.140625 47.34375 \nQ 37.3125 48.390625 33.40625 48.390625 \nQ 24.65625 48.390625 19.8125 42.84375 \nQ 14.984375 37.3125 14.984375 27.296875 \nQ 14.984375 17.28125 19.8125 11.734375 \nQ 24.65625 6.203125 33.40625 6.203125 \nQ 37.3125 6.203125 41.140625 7.25 \nQ 44.96875 8.296875 48.78125 10.40625 \nL 48.78125 2.09375 \nQ 45.015625 0.34375 40.984375 -0.53125 \nQ 36.96875 -1.421875 32.421875 -1.421875 \nQ 20.0625 -1.421875 12.78125 6.34375 \nQ 5.515625 14.109375 5.515625 27.296875 \nQ 5.515625 40.671875 12.859375 48.328125 \nQ 20.21875 56 33.015625 56 \nQ 37.15625 56 41.109375 55.140625 \nQ 45.0625 54.296875 48.78125 52.59375 \nz\n\" id=\"DejaVuSans-99\"/>\n       <path d=\"M 54.890625 33.015625 \nL 54.890625 0 \nL 45.90625 0 \nL 45.90625 32.71875 \nQ 45.90625 40.484375 42.875 44.328125 \nQ 39.84375 48.1875 33.796875 48.1875 \nQ 26.515625 48.1875 22.3125 43.546875 \nQ 18.109375 38.921875 18.109375 30.90625 \nL 18.109375 0 \nL 9.078125 0 \nL 9.078125 75.984375 \nL 18.109375 75.984375 \nL 18.109375 46.1875 \nQ 21.34375 51.125 25.703125 53.5625 \nQ 30.078125 56 35.796875 56 \nQ 45.21875 56 50.046875 50.171875 \nQ 54.890625 44.34375 54.890625 33.015625 \nz\n\" id=\"DejaVuSans-104\"/>\n      </defs>\n      <use xlink:href=\"#DejaVuSans-101\"/>\n      <use x=\"61.523438\" xlink:href=\"#DejaVuSans-112\"/>\n      <use x=\"125\" xlink:href=\"#DejaVuSans-111\"/>\n      <use x=\"186.181641\" xlink:href=\"#DejaVuSans-99\"/>\n      <use x=\"241.162109\" xlink:href=\"#DejaVuSans-104\"/>\n     </g>\n    </g>\n   </g>\n   <g id=\"matplotlib.axis_2\">\n    <g id=\"ytick_1\">\n     <g id=\"line2d_10\">\n      <defs>\n       <path d=\"M 0 0 \nL -3.5 0 \n\" id=\"m0a634a2334\" style=\"stroke:#000000;stroke-width:0.8;\"/>\n      </defs>\n      <g>\n       <use style=\"stroke:#000000;stroke-width:0.8;\" x=\"62.86875\" xlink:href=\"#m0a634a2334\" y=\"237.646023\"/>\n      </g>\n     </g>\n     <g id=\"text_11\">\n      <!-- 0.0310 -->\n      <g transform=\"translate(20.878125 241.445242)scale(0.1 -0.1)\">\n       <defs>\n        <path d=\"M 40.578125 39.3125 \nQ 47.65625 37.796875 51.625 33 \nQ 55.609375 28.21875 55.609375 21.1875 \nQ 55.609375 10.40625 48.1875 4.484375 \nQ 40.765625 -1.421875 27.09375 -1.421875 \nQ 22.515625 -1.421875 17.65625 -0.515625 \nQ 12.796875 0.390625 7.625 2.203125 \nL 7.625 11.71875 \nQ 11.71875 9.328125 16.59375 8.109375 \nQ 21.484375 6.890625 26.8125 6.890625 \nQ 36.078125 6.890625 40.9375 10.546875 \nQ 45.796875 14.203125 45.796875 21.1875 \nQ 45.796875 27.640625 41.28125 31.265625 \nQ 36.765625 34.90625 28.71875 34.90625 \nL 20.21875 34.90625 \nL 20.21875 43.015625 \nL 29.109375 43.015625 \nQ 36.375 43.015625 40.234375 45.921875 \nQ 44.09375 48.828125 44.09375 54.296875 \nQ 44.09375 59.90625 40.109375 62.90625 \nQ 36.140625 65.921875 28.71875 65.921875 \nQ 24.65625 65.921875 20.015625 65.03125 \nQ 15.375 64.15625 9.8125 62.3125 \nL 9.8125 71.09375 \nQ 15.4375 72.65625 20.34375 73.4375 \nQ 25.25 74.21875 29.59375 74.21875 \nQ 40.828125 74.21875 47.359375 69.109375 \nQ 53.90625 64.015625 53.90625 55.328125 \nQ 53.90625 49.265625 50.4375 45.09375 \nQ 46.96875 40.921875 40.578125 39.3125 \nz\n\" id=\"DejaVuSans-51\"/>\n       </defs>\n       <use xlink:href=\"#DejaVuSans-48\"/>\n       <use x=\"63.623047\" xlink:href=\"#DejaVuSans-46\"/>\n       <use x=\"95.410156\" xlink:href=\"#DejaVuSans-48\"/>\n       <use x=\"159.033203\" xlink:href=\"#DejaVuSans-51\"/>\n       <use x=\"222.65625\" xlink:href=\"#DejaVuSans-49\"/>\n       <use x=\"286.279297\" xlink:href=\"#DejaVuSans-48\"/>\n      </g>\n     </g>\n    </g>\n    <g id=\"ytick_2\">\n     <g id=\"line2d_11\">\n      <g>\n       <use style=\"stroke:#000000;stroke-width:0.8;\" x=\"62.86875\" xlink:href=\"#m0a634a2334\" y=\"208.275681\"/>\n      </g>\n     </g>\n     <g id=\"text_12\">\n      <!-- 0.0312 -->\n      <g transform=\"translate(20.878125 212.0749)scale(0.1 -0.1)\">\n       <use xlink:href=\"#DejaVuSans-48\"/>\n       <use x=\"63.623047\" xlink:href=\"#DejaVuSans-46\"/>\n       <use x=\"95.410156\" xlink:href=\"#DejaVuSans-48\"/>\n       <use x=\"159.033203\" xlink:href=\"#DejaVuSans-51\"/>\n       <use x=\"222.65625\" xlink:href=\"#DejaVuSans-49\"/>\n       <use x=\"286.279297\" xlink:href=\"#DejaVuSans-50\"/>\n      </g>\n     </g>\n    </g>\n    <g id=\"ytick_3\">\n     <g id=\"line2d_12\">\n      <g>\n       <use style=\"stroke:#000000;stroke-width:0.8;\" x=\"62.86875\" xlink:href=\"#m0a634a2334\" y=\"178.905339\"/>\n      </g>\n     </g>\n     <g id=\"text_13\">\n      <!-- 0.0314 -->\n      <g transform=\"translate(20.878125 182.704558)scale(0.1 -0.1)\">\n       <defs>\n        <path d=\"M 37.796875 64.3125 \nL 12.890625 25.390625 \nL 37.796875 25.390625 \nz\nM 35.203125 72.90625 \nL 47.609375 72.90625 \nL 47.609375 25.390625 \nL 58.015625 25.390625 \nL 58.015625 17.1875 \nL 47.609375 17.1875 \nL 47.609375 0 \nL 37.796875 0 \nL 37.796875 17.1875 \nL 4.890625 17.1875 \nL 4.890625 26.703125 \nz\n\" id=\"DejaVuSans-52\"/>\n       </defs>\n       <use xlink:href=\"#DejaVuSans-48\"/>\n       <use x=\"63.623047\" xlink:href=\"#DejaVuSans-46\"/>\n       <use x=\"95.410156\" xlink:href=\"#DejaVuSans-48\"/>\n       <use x=\"159.033203\" xlink:href=\"#DejaVuSans-51\"/>\n       <use x=\"222.65625\" xlink:href=\"#DejaVuSans-49\"/>\n       <use x=\"286.279297\" xlink:href=\"#DejaVuSans-52\"/>\n      </g>\n     </g>\n    </g>\n    <g id=\"ytick_4\">\n     <g id=\"line2d_13\">\n      <g>\n       <use style=\"stroke:#000000;stroke-width:0.8;\" x=\"62.86875\" xlink:href=\"#m0a634a2334\" y=\"149.534998\"/>\n      </g>\n     </g>\n     <g id=\"text_14\">\n      <!-- 0.0316 -->\n      <g transform=\"translate(20.878125 153.334216)scale(0.1 -0.1)\">\n       <defs>\n        <path d=\"M 33.015625 40.375 \nQ 26.375 40.375 22.484375 35.828125 \nQ 18.609375 31.296875 18.609375 23.390625 \nQ 18.609375 15.53125 22.484375 10.953125 \nQ 26.375 6.390625 33.015625 6.390625 \nQ 39.65625 6.390625 43.53125 10.953125 \nQ 47.40625 15.53125 47.40625 23.390625 \nQ 47.40625 31.296875 43.53125 35.828125 \nQ 39.65625 40.375 33.015625 40.375 \nz\nM 52.59375 71.296875 \nL 52.59375 62.3125 \nQ 48.875 64.0625 45.09375 64.984375 \nQ 41.3125 65.921875 37.59375 65.921875 \nQ 27.828125 65.921875 22.671875 59.328125 \nQ 17.53125 52.734375 16.796875 39.40625 \nQ 19.671875 43.65625 24.015625 45.921875 \nQ 28.375 48.1875 33.59375 48.1875 \nQ 44.578125 48.1875 50.953125 41.515625 \nQ 57.328125 34.859375 57.328125 23.390625 \nQ 57.328125 12.15625 50.6875 5.359375 \nQ 44.046875 -1.421875 33.015625 -1.421875 \nQ 20.359375 -1.421875 13.671875 8.265625 \nQ 6.984375 17.96875 6.984375 36.375 \nQ 6.984375 53.65625 15.1875 63.9375 \nQ 23.390625 74.21875 37.203125 74.21875 \nQ 40.921875 74.21875 44.703125 73.484375 \nQ 48.484375 72.75 52.59375 71.296875 \nz\n\" id=\"DejaVuSans-54\"/>\n       </defs>\n       <use xlink:href=\"#DejaVuSans-48\"/>\n       <use x=\"63.623047\" xlink:href=\"#DejaVuSans-46\"/>\n       <use x=\"95.410156\" xlink:href=\"#DejaVuSans-48\"/>\n       <use x=\"159.033203\" xlink:href=\"#DejaVuSans-51\"/>\n       <use x=\"222.65625\" xlink:href=\"#DejaVuSans-49\"/>\n       <use x=\"286.279297\" xlink:href=\"#DejaVuSans-54\"/>\n      </g>\n     </g>\n    </g>\n    <g id=\"ytick_5\">\n     <g id=\"line2d_14\">\n      <g>\n       <use style=\"stroke:#000000;stroke-width:0.8;\" x=\"62.86875\" xlink:href=\"#m0a634a2334\" y=\"120.164656\"/>\n      </g>\n     </g>\n     <g id=\"text_15\">\n      <!-- 0.0318 -->\n      <g transform=\"translate(20.878125 123.963874)scale(0.1 -0.1)\">\n       <defs>\n        <path d=\"M 31.78125 34.625 \nQ 24.75 34.625 20.71875 30.859375 \nQ 16.703125 27.09375 16.703125 20.515625 \nQ 16.703125 13.921875 20.71875 10.15625 \nQ 24.75 6.390625 31.78125 6.390625 \nQ 38.8125 6.390625 42.859375 10.171875 \nQ 46.921875 13.96875 46.921875 20.515625 \nQ 46.921875 27.09375 42.890625 30.859375 \nQ 38.875 34.625 31.78125 34.625 \nz\nM 21.921875 38.8125 \nQ 15.578125 40.375 12.03125 44.71875 \nQ 8.5 49.078125 8.5 55.328125 \nQ 8.5 64.0625 14.71875 69.140625 \nQ 20.953125 74.21875 31.78125 74.21875 \nQ 42.671875 74.21875 48.875 69.140625 \nQ 55.078125 64.0625 55.078125 55.328125 \nQ 55.078125 49.078125 51.53125 44.71875 \nQ 48 40.375 41.703125 38.8125 \nQ 48.828125 37.15625 52.796875 32.3125 \nQ 56.78125 27.484375 56.78125 20.515625 \nQ 56.78125 9.90625 50.3125 4.234375 \nQ 43.84375 -1.421875 31.78125 -1.421875 \nQ 19.734375 -1.421875 13.25 4.234375 \nQ 6.78125 9.90625 6.78125 20.515625 \nQ 6.78125 27.484375 10.78125 32.3125 \nQ 14.796875 37.15625 21.921875 38.8125 \nz\nM 18.3125 54.390625 \nQ 18.3125 48.734375 21.84375 45.5625 \nQ 25.390625 42.390625 31.78125 42.390625 \nQ 38.140625 42.390625 41.71875 45.5625 \nQ 45.3125 48.734375 45.3125 54.390625 \nQ 45.3125 60.0625 41.71875 63.234375 \nQ 38.140625 66.40625 31.78125 66.40625 \nQ 25.390625 66.40625 21.84375 63.234375 \nQ 18.3125 60.0625 18.3125 54.390625 \nz\n\" id=\"DejaVuSans-56\"/>\n       </defs>\n       <use xlink:href=\"#DejaVuSans-48\"/>\n       <use x=\"63.623047\" xlink:href=\"#DejaVuSans-46\"/>\n       <use x=\"95.410156\" xlink:href=\"#DejaVuSans-48\"/>\n       <use x=\"159.033203\" xlink:href=\"#DejaVuSans-51\"/>\n       <use x=\"222.65625\" xlink:href=\"#DejaVuSans-49\"/>\n       <use x=\"286.279297\" xlink:href=\"#DejaVuSans-56\"/>\n      </g>\n     </g>\n    </g>\n    <g id=\"ytick_6\">\n     <g id=\"line2d_15\">\n      <g>\n       <use style=\"stroke:#000000;stroke-width:0.8;\" x=\"62.86875\" xlink:href=\"#m0a634a2334\" y=\"90.794314\"/>\n      </g>\n     </g>\n     <g id=\"text_16\">\n      <!-- 0.0320 -->\n      <g transform=\"translate(20.878125 94.593533)scale(0.1 -0.1)\">\n       <use xlink:href=\"#DejaVuSans-48\"/>\n       <use x=\"63.623047\" xlink:href=\"#DejaVuSans-46\"/>\n       <use x=\"95.410156\" xlink:href=\"#DejaVuSans-48\"/>\n       <use x=\"159.033203\" xlink:href=\"#DejaVuSans-51\"/>\n       <use x=\"222.65625\" xlink:href=\"#DejaVuSans-50\"/>\n       <use x=\"286.279297\" xlink:href=\"#DejaVuSans-48\"/>\n      </g>\n     </g>\n    </g>\n    <g id=\"ytick_7\">\n     <g id=\"line2d_16\">\n      <g>\n       <use style=\"stroke:#000000;stroke-width:0.8;\" x=\"62.86875\" xlink:href=\"#m0a634a2334\" y=\"61.423972\"/>\n      </g>\n     </g>\n     <g id=\"text_17\">\n      <!-- 0.0322 -->\n      <g transform=\"translate(20.878125 65.223191)scale(0.1 -0.1)\">\n       <use xlink:href=\"#DejaVuSans-48\"/>\n       <use x=\"63.623047\" xlink:href=\"#DejaVuSans-46\"/>\n       <use x=\"95.410156\" xlink:href=\"#DejaVuSans-48\"/>\n       <use x=\"159.033203\" xlink:href=\"#DejaVuSans-51\"/>\n       <use x=\"222.65625\" xlink:href=\"#DejaVuSans-50\"/>\n       <use x=\"286.279297\" xlink:href=\"#DejaVuSans-50\"/>\n      </g>\n     </g>\n    </g>\n    <g id=\"ytick_8\">\n     <g id=\"line2d_17\">\n      <g>\n       <use style=\"stroke:#000000;stroke-width:0.8;\" x=\"62.86875\" xlink:href=\"#m0a634a2334\" y=\"32.05363\"/>\n      </g>\n     </g>\n     <g id=\"text_18\">\n      <!-- 0.0324 -->\n      <g transform=\"translate(20.878125 35.852849)scale(0.1 -0.1)\">\n       <use xlink:href=\"#DejaVuSans-48\"/>\n       <use x=\"63.623047\" xlink:href=\"#DejaVuSans-46\"/>\n       <use x=\"95.410156\" xlink:href=\"#DejaVuSans-48\"/>\n       <use x=\"159.033203\" xlink:href=\"#DejaVuSans-51\"/>\n       <use x=\"222.65625\" xlink:href=\"#DejaVuSans-50\"/>\n       <use x=\"286.279297\" xlink:href=\"#DejaVuSans-52\"/>\n      </g>\n     </g>\n    </g>\n    <g id=\"text_19\">\n     <!-- accuracy -->\n     <g transform=\"translate(14.798438 153.5975)rotate(-90)scale(0.1 -0.1)\">\n      <defs>\n       <path d=\"M 34.28125 27.484375 \nQ 23.390625 27.484375 19.1875 25 \nQ 14.984375 22.515625 14.984375 16.5 \nQ 14.984375 11.71875 18.140625 8.90625 \nQ 21.296875 6.109375 26.703125 6.109375 \nQ 34.1875 6.109375 38.703125 11.40625 \nQ 43.21875 16.703125 43.21875 25.484375 \nL 43.21875 27.484375 \nz\nM 52.203125 31.203125 \nL 52.203125 0 \nL 43.21875 0 \nL 43.21875 8.296875 \nQ 40.140625 3.328125 35.546875 0.953125 \nQ 30.953125 -1.421875 24.3125 -1.421875 \nQ 15.921875 -1.421875 10.953125 3.296875 \nQ 6 8.015625 6 15.921875 \nQ 6 25.140625 12.171875 29.828125 \nQ 18.359375 34.515625 30.609375 34.515625 \nL 43.21875 34.515625 \nL 43.21875 35.40625 \nQ 43.21875 41.609375 39.140625 45 \nQ 35.0625 48.390625 27.6875 48.390625 \nQ 23 48.390625 18.546875 47.265625 \nQ 14.109375 46.140625 10.015625 43.890625 \nL 10.015625 52.203125 \nQ 14.9375 54.109375 19.578125 55.046875 \nQ 24.21875 56 28.609375 56 \nQ 40.484375 56 46.34375 49.84375 \nQ 52.203125 43.703125 52.203125 31.203125 \nz\n\" id=\"DejaVuSans-97\"/>\n       <path d=\"M 8.5 21.578125 \nL 8.5 54.6875 \nL 17.484375 54.6875 \nL 17.484375 21.921875 \nQ 17.484375 14.15625 20.5 10.265625 \nQ 23.53125 6.390625 29.59375 6.390625 \nQ 36.859375 6.390625 41.078125 11.03125 \nQ 45.3125 15.671875 45.3125 23.6875 \nL 45.3125 54.6875 \nL 54.296875 54.6875 \nL 54.296875 0 \nL 45.3125 0 \nL 45.3125 8.40625 \nQ 42.046875 3.421875 37.71875 1 \nQ 33.40625 -1.421875 27.6875 -1.421875 \nQ 18.265625 -1.421875 13.375 4.4375 \nQ 8.5 10.296875 8.5 21.578125 \nz\nM 31.109375 56 \nz\n\" id=\"DejaVuSans-117\"/>\n       <path d=\"M 41.109375 46.296875 \nQ 39.59375 47.171875 37.8125 47.578125 \nQ 36.03125 48 33.890625 48 \nQ 26.265625 48 22.1875 43.046875 \nQ 18.109375 38.09375 18.109375 28.8125 \nL 18.109375 0 \nL 9.078125 0 \nL 9.078125 54.6875 \nL 18.109375 54.6875 \nL 18.109375 46.1875 \nQ 20.953125 51.171875 25.484375 53.578125 \nQ 30.03125 56 36.53125 56 \nQ 37.453125 56 38.578125 55.875 \nQ 39.703125 55.765625 41.0625 55.515625 \nz\n\" id=\"DejaVuSans-114\"/>\n       <path d=\"M 32.171875 -5.078125 \nQ 28.375 -14.84375 24.75 -17.8125 \nQ 21.140625 -20.796875 15.09375 -20.796875 \nL 7.90625 -20.796875 \nL 7.90625 -13.28125 \nL 13.1875 -13.28125 \nQ 16.890625 -13.28125 18.9375 -11.515625 \nQ 21 -9.765625 23.484375 -3.21875 \nL 25.09375 0.875 \nL 2.984375 54.6875 \nL 12.5 54.6875 \nL 29.59375 11.921875 \nL 46.6875 54.6875 \nL 56.203125 54.6875 \nz\n\" id=\"DejaVuSans-121\"/>\n      </defs>\n      <use xlink:href=\"#DejaVuSans-97\"/>\n      <use x=\"61.279297\" xlink:href=\"#DejaVuSans-99\"/>\n      <use x=\"116.259766\" xlink:href=\"#DejaVuSans-99\"/>\n      <use x=\"171.240234\" xlink:href=\"#DejaVuSans-117\"/>\n      <use x=\"234.619141\" xlink:href=\"#DejaVuSans-114\"/>\n      <use x=\"275.732422\" xlink:href=\"#DejaVuSans-97\"/>\n      <use x=\"337.011719\" xlink:href=\"#DejaVuSans-99\"/>\n      <use x=\"391.992188\" xlink:href=\"#DejaVuSans-121\"/>\n     </g>\n    </g>\n   </g>\n   <g id=\"line2d_18\">\n    <path clip-path=\"url(#p54d7b872ef)\" d=\"M 78.086932 32.201761 \nL 230.26875 160.161417 \nL 382.450568 175.80256 \n\" style=\"fill:none;stroke:#1f77b4;stroke-linecap:square;stroke-width:1.5;\"/>\n   </g>\n   <g id=\"line2d_19\">\n    <path clip-path=\"url(#p54d7b872ef)\" d=\"M 78.086932 204.405045 \nL 230.26875 226.05187 \nL 382.450568 229.874489 \n\" style=\"fill:none;stroke:#ff7f0e;stroke-linecap:square;stroke-width:1.5;\"/>\n   </g>\n   <g id=\"patch_3\">\n    <path d=\"M 62.86875 239.758125 \nL 62.86875 22.318125 \n\" style=\"fill:none;stroke:#000000;stroke-linecap:square;stroke-linejoin:miter;stroke-width:0.8;\"/>\n   </g>\n   <g id=\"patch_4\">\n    <path d=\"M 397.66875 239.758125 \nL 397.66875 22.318125 \n\" style=\"fill:none;stroke:#000000;stroke-linecap:square;stroke-linejoin:miter;stroke-width:0.8;\"/>\n   </g>\n   <g id=\"patch_5\">\n    <path d=\"M 62.86875 239.758125 \nL 397.66875 239.758125 \n\" style=\"fill:none;stroke:#000000;stroke-linecap:square;stroke-linejoin:miter;stroke-width:0.8;\"/>\n   </g>\n   <g id=\"patch_6\">\n    <path d=\"M 62.86875 22.318125 \nL 397.66875 22.318125 \n\" style=\"fill:none;stroke:#000000;stroke-linecap:square;stroke-linejoin:miter;stroke-width:0.8;\"/>\n   </g>\n   <g id=\"text_20\">\n    <!-- model accuracy -->\n    <g transform=\"translate(182.607188 16.318125)scale(0.12 -0.12)\">\n     <defs>\n      <path d=\"M 52 44.1875 \nQ 55.375 50.25 60.0625 53.125 \nQ 64.75 56 71.09375 56 \nQ 79.640625 56 84.28125 50.015625 \nQ 88.921875 44.046875 88.921875 33.015625 \nL 88.921875 0 \nL 79.890625 0 \nL 79.890625 32.71875 \nQ 79.890625 40.578125 77.09375 44.375 \nQ 74.3125 48.1875 68.609375 48.1875 \nQ 61.625 48.1875 57.5625 43.546875 \nQ 53.515625 38.921875 53.515625 30.90625 \nL 53.515625 0 \nL 44.484375 0 \nL 44.484375 32.71875 \nQ 44.484375 40.625 41.703125 44.40625 \nQ 38.921875 48.1875 33.109375 48.1875 \nQ 26.21875 48.1875 22.15625 43.53125 \nQ 18.109375 38.875 18.109375 30.90625 \nL 18.109375 0 \nL 9.078125 0 \nL 9.078125 54.6875 \nL 18.109375 54.6875 \nL 18.109375 46.1875 \nQ 21.1875 51.21875 25.484375 53.609375 \nQ 29.78125 56 35.6875 56 \nQ 41.65625 56 45.828125 52.96875 \nQ 50 49.953125 52 44.1875 \nz\n\" id=\"DejaVuSans-109\"/>\n      <path d=\"M 45.40625 46.390625 \nL 45.40625 75.984375 \nL 54.390625 75.984375 \nL 54.390625 0 \nL 45.40625 0 \nL 45.40625 8.203125 \nQ 42.578125 3.328125 38.25 0.953125 \nQ 33.9375 -1.421875 27.875 -1.421875 \nQ 17.96875 -1.421875 11.734375 6.484375 \nQ 5.515625 14.40625 5.515625 27.296875 \nQ 5.515625 40.1875 11.734375 48.09375 \nQ 17.96875 56 27.875 56 \nQ 33.9375 56 38.25 53.625 \nQ 42.578125 51.265625 45.40625 46.390625 \nz\nM 14.796875 27.296875 \nQ 14.796875 17.390625 18.875 11.75 \nQ 22.953125 6.109375 30.078125 6.109375 \nQ 37.203125 6.109375 41.296875 11.75 \nQ 45.40625 17.390625 45.40625 27.296875 \nQ 45.40625 37.203125 41.296875 42.84375 \nQ 37.203125 48.484375 30.078125 48.484375 \nQ 22.953125 48.484375 18.875 42.84375 \nQ 14.796875 37.203125 14.796875 27.296875 \nz\n\" id=\"DejaVuSans-100\"/>\n      <path d=\"M 9.421875 75.984375 \nL 18.40625 75.984375 \nL 18.40625 0 \nL 9.421875 0 \nz\n\" id=\"DejaVuSans-108\"/>\n      <path id=\"DejaVuSans-32\"/>\n     </defs>\n     <use xlink:href=\"#DejaVuSans-109\"/>\n     <use x=\"97.412109\" xlink:href=\"#DejaVuSans-111\"/>\n     <use x=\"158.59375\" xlink:href=\"#DejaVuSans-100\"/>\n     <use x=\"222.070312\" xlink:href=\"#DejaVuSans-101\"/>\n     <use x=\"283.59375\" xlink:href=\"#DejaVuSans-108\"/>\n     <use x=\"311.376953\" xlink:href=\"#DejaVuSans-32\"/>\n     <use x=\"343.164062\" xlink:href=\"#DejaVuSans-97\"/>\n     <use x=\"404.443359\" xlink:href=\"#DejaVuSans-99\"/>\n     <use x=\"459.423828\" xlink:href=\"#DejaVuSans-99\"/>\n     <use x=\"514.404297\" xlink:href=\"#DejaVuSans-117\"/>\n     <use x=\"577.783203\" xlink:href=\"#DejaVuSans-114\"/>\n     <use x=\"618.896484\" xlink:href=\"#DejaVuSans-97\"/>\n     <use x=\"680.175781\" xlink:href=\"#DejaVuSans-99\"/>\n     <use x=\"735.15625\" xlink:href=\"#DejaVuSans-121\"/>\n    </g>\n   </g>\n   <g id=\"legend_1\">\n    <g id=\"patch_7\">\n     <path d=\"M 69.86875 59.674375 \nL 125.14375 59.674375 \nQ 127.14375 59.674375 127.14375 57.674375 \nL 127.14375 29.318125 \nQ 127.14375 27.318125 125.14375 27.318125 \nL 69.86875 27.318125 \nQ 67.86875 27.318125 67.86875 29.318125 \nL 67.86875 57.674375 \nQ 67.86875 59.674375 69.86875 59.674375 \nz\n\" style=\"fill:#ffffff;opacity:0.8;stroke:#cccccc;stroke-linejoin:miter;\"/>\n    </g>\n    <g id=\"line2d_20\">\n     <path d=\"M 71.86875 35.416562 \nL 91.86875 35.416562 \n\" style=\"fill:none;stroke:#1f77b4;stroke-linecap:square;stroke-width:1.5;\"/>\n    </g>\n    <g id=\"line2d_21\"/>\n    <g id=\"text_21\">\n     <!-- train -->\n     <g transform=\"translate(99.86875 38.916562)scale(0.1 -0.1)\">\n      <defs>\n       <path d=\"M 18.3125 70.21875 \nL 18.3125 54.6875 \nL 36.8125 54.6875 \nL 36.8125 47.703125 \nL 18.3125 47.703125 \nL 18.3125 18.015625 \nQ 18.3125 11.328125 20.140625 9.421875 \nQ 21.96875 7.515625 27.59375 7.515625 \nL 36.8125 7.515625 \nL 36.8125 0 \nL 27.59375 0 \nQ 17.1875 0 13.234375 3.875 \nQ 9.28125 7.765625 9.28125 18.015625 \nL 9.28125 47.703125 \nL 2.6875 47.703125 \nL 2.6875 54.6875 \nL 9.28125 54.6875 \nL 9.28125 70.21875 \nz\n\" id=\"DejaVuSans-116\"/>\n       <path d=\"M 9.421875 54.6875 \nL 18.40625 54.6875 \nL 18.40625 0 \nL 9.421875 0 \nz\nM 9.421875 75.984375 \nL 18.40625 75.984375 \nL 18.40625 64.59375 \nL 9.421875 64.59375 \nz\n\" id=\"DejaVuSans-105\"/>\n       <path d=\"M 54.890625 33.015625 \nL 54.890625 0 \nL 45.90625 0 \nL 45.90625 32.71875 \nQ 45.90625 40.484375 42.875 44.328125 \nQ 39.84375 48.1875 33.796875 48.1875 \nQ 26.515625 48.1875 22.3125 43.546875 \nQ 18.109375 38.921875 18.109375 30.90625 \nL 18.109375 0 \nL 9.078125 0 \nL 9.078125 54.6875 \nL 18.109375 54.6875 \nL 18.109375 46.1875 \nQ 21.34375 51.125 25.703125 53.5625 \nQ 30.078125 56 35.796875 56 \nQ 45.21875 56 50.046875 50.171875 \nQ 54.890625 44.34375 54.890625 33.015625 \nz\n\" id=\"DejaVuSans-110\"/>\n      </defs>\n      <use xlink:href=\"#DejaVuSans-116\"/>\n      <use x=\"39.208984\" xlink:href=\"#DejaVuSans-114\"/>\n      <use x=\"80.322266\" xlink:href=\"#DejaVuSans-97\"/>\n      <use x=\"141.601562\" xlink:href=\"#DejaVuSans-105\"/>\n      <use x=\"169.384766\" xlink:href=\"#DejaVuSans-110\"/>\n     </g>\n    </g>\n    <g id=\"line2d_22\">\n     <path d=\"M 71.86875 50.094687 \nL 91.86875 50.094687 \n\" style=\"fill:none;stroke:#ff7f0e;stroke-linecap:square;stroke-width:1.5;\"/>\n    </g>\n    <g id=\"line2d_23\"/>\n    <g id=\"text_22\">\n     <!-- val -->\n     <g transform=\"translate(99.86875 53.594687)scale(0.1 -0.1)\">\n      <defs>\n       <path d=\"M 2.984375 54.6875 \nL 12.5 54.6875 \nL 29.59375 8.796875 \nL 46.6875 54.6875 \nL 56.203125 54.6875 \nL 35.6875 0 \nL 23.484375 0 \nz\n\" id=\"DejaVuSans-118\"/>\n      </defs>\n      <use xlink:href=\"#DejaVuSans-118\"/>\n      <use x=\"59.179688\" xlink:href=\"#DejaVuSans-97\"/>\n      <use x=\"120.458984\" xlink:href=\"#DejaVuSans-108\"/>\n     </g>\n    </g>\n   </g>\n  </g>\n </g>\n <defs>\n  <clipPath id=\"p54d7b872ef\">\n   <rect height=\"217.44\" width=\"334.8\" x=\"62.86875\" y=\"22.318125\"/>\n  </clipPath>\n </defs>\n</svg>\n",
      "image/png": "[encoded data removed]"
     },
     "metadata": {
      "needs_background": "light"
     }
    }
   ],
   "source": [
    "plt.plot(result.history['binary_crossentropy'])\n",
    "plt.plot(result.history['val_binary_crossentropy'])\n",
    "plt.title('model accuracy')\n",
    "plt.ylabel('accuracy')\n",
    "plt.xlabel('epoch')\n",
    "plt.legend(['train', 'val'], loc='upper left')\n",
    "plt.show()"
   ]
  },
  {
   "cell_type": "code",
   "execution_count": 67,
   "id": "7e2fdd4e",
   "metadata": {},
   "outputs": [
    {
     "output_type": "stream",
     "name": "stdout",
     "text": [
      "27327/27327 [==============================] - 8s 288us/step - loss: 0.0318 - binary_crossentropy: 0.0318\n"
     ]
    },
    {
     "output_type": "execute_result",
     "data": {
      "text/plain": [
       "[0.03180576488375664, 0.03180576488375664]"
      ]
     },
     "metadata": {},
     "execution_count": 67
    }
   ],
   "source": [
    "model.evaluate(X_test, y_test)"
   ]
  },
  {
   "cell_type": "code",
   "execution_count": 56,
   "id": "0e82372d",
   "metadata": {},
   "outputs": [
    {
     "name": "stdout",
     "output_type": "stream",
     "text": [
      "INFO:tensorflow:Assets written to: ./saved_model/ffnn_like/assets\n"
     ]
    }
   ],
   "source": [
    "model.save('./saved_model/ffnn_like')"
   ]
  },
  {
   "cell_type": "markdown",
   "id": "d4d9941b",
   "metadata": {},
   "source": [
    "## Predict"
   ]
  },
  {
   "cell_type": "code",
   "execution_count": 57,
   "id": "2e30da1e",
   "metadata": {},
   "outputs": [],
   "source": [
    "model = tf.keras.models.load_model('./saved_model/ffnn_like')"
   ]
  },
  {
   "cell_type": "code",
   "execution_count": 69,
   "id": "dcbab2a9",
   "metadata": {},
   "outputs": [],
   "source": [
    "pred = model.predict(X_test)"
   ]
  },
  {
   "cell_type": "code",
   "execution_count": 70,
   "id": "4e88b826",
   "metadata": {},
   "outputs": [
    {
     "output_type": "execute_result",
     "data": {
      "text/plain": [
       "25.191294313062308"
      ]
     },
     "metadata": {},
     "execution_count": 70
    }
   ],
   "source": [
    "rce = compute_rce(pred, y_test)\n",
    "rce"
   ]
  },
  {
   "cell_type": "code",
   "execution_count": 71,
   "id": "de0ff024",
   "metadata": {},
   "outputs": [
    {
     "output_type": "execute_result",
     "data": {
      "text/plain": [
       "0.14164184339984318"
      ]
     },
     "metadata": {},
     "execution_count": 71
    }
   ],
   "source": [
    "average_precision_score(y_test, pred)"
   ]
  },
  {
   "cell_type": "code",
   "execution_count": null,
   "id": "d3a077a1",
   "metadata": {},
   "outputs": [],
   "source": []
  },
  {
   "cell_type": "code",
   "execution_count": null,
   "id": "18a4c050",
   "metadata": {},
   "outputs": [],
   "source": []
  }
 ],
 "metadata": {
  "kernelspec": {
   "name": "python388jvsc74a57bd0ae065c56e262e6694ecb174f95b527853807b9a02b7a5d470fad054d1e0ab874",
   "display_name": "Python 3.8.8 64-bit ('recsys': conda)"
  },
  "language_info": {
   "codemirror_mode": {
    "name": "ipython",
    "version": 3
   },
   "file_extension": ".py",
   "mimetype": "text/x-python",
   "name": "python",
   "nbconvert_exporter": "python",
   "pygments_lexer": "ipython3",
   "version": "3.8.8"
  }
 },
 "nbformat": 4,
 "nbformat_minor": 5
}