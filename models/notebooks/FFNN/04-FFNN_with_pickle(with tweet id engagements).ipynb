{
 "cells": [
  {
   "cell_type": "code",
   "execution_count": 1,
   "id": "1ad98848",
   "metadata": {},
   "outputs": [],
   "source": [
    "import os\n",
    "import sys\n",
    "sys.path.append('..')\n",
    "\n",
    "import numpy as np\n",
    "import matplotlib.pyplot as plt\n",
    "import pandas as pd\n",
    "import pickle\n",
    "import joblib\n",
    "from tqdm import tqdm\n",
    "from sklearn.model_selection import train_test_split\n",
    "import tensorflow as tf\n",
    "from tensorflow import feature_column as fc\n",
    "from tensorflow.keras.models import Sequential\n",
    "from tensorflow.keras.layers import Dense\n",
    "from sklearn import preprocessing\n",
    "from sklearn.utils import shuffle\n",
    "from tensorflow.keras.models import save_model,load_model\n",
    "from collections import defaultdict\n",
    "\n",
    "from utils.util import *\n",
    "from utils.preprocessing import *\n",
    "from utils.dataiter import Dataiter\n",
    "from utils.evaluate import calculate_ctr, compute_rce, average_precision_score\n",
    "from utils.target_encode import MTE_one_shot\n",
    "\n",
    "import tensorflow.keras.backend as K\n",
    "import core.config as conf"
   ]
  },
  {
   "cell_type": "markdown",
   "id": "c3d171de",
   "metadata": {},
   "source": [
    "## Load Data"
   ]
  },
  {
   "cell_type": "code",
   "execution_count": 2,
   "id": "4f454fd4",
   "metadata": {},
   "outputs": [],
   "source": [
    "path = f'{conf.dataset_mini_path}/train'\n",
    "train = read_data(path)\n",
    "\n",
    "path = f'{conf.dataset_mini_path}/test'\n",
    "test = read_data(path)\n",
    "\n",
    "path = f'{conf.dataset_mini_path}/valid'\n",
    "valid = read_data(path)"
   ]
  },
  {
   "cell_type": "code",
   "execution_count": 3,
   "id": "81f3202f",
   "metadata": {},
   "outputs": [],
   "source": [
    "TARGET = ['like', 'reply', 'retweet', 'comment']"
   ]
  },
  {
   "cell_type": "markdown",
   "id": "ea98fae6",
   "metadata": {},
   "source": [
    "## Preprocessing"
   ]
  },
  {
   "cell_type": "code",
   "execution_count": 4,
   "id": "ca5e067f",
   "metadata": {},
   "outputs": [],
   "source": [
    "def set_dataframe_types(df, train):\n",
    "    df['id']   = np.arange( df.shape[0] )\n",
    "    df['id']   = df['id'].astype(np.uint32)\n",
    "\n",
    "    if train:\n",
    "        df['reply_timestamp']   = df['reply_timestamp'].fillna(0)\n",
    "        df['retweet_timestamp'] = df['retweet_timestamp'].fillna(0)\n",
    "        df['comment_timestamp'] = df['comment_timestamp'].fillna(0)\n",
    "        df['like_timestamp']    = df['like_timestamp'].fillna(0)\n",
    "\n",
    "        df['reply_timestamp']   = df['reply_timestamp'].astype(np.uint32)\n",
    "        df['retweet_timestamp'] = df['retweet_timestamp'].astype(np.uint32)\n",
    "        df['comment_timestamp'] = df['comment_timestamp'].astype(np.uint32)\n",
    "        df['like_timestamp']    = df['like_timestamp'].astype(np.uint32)\n",
    "\n",
    "    df['tweet_timestamp']         = df['tweet_timestamp'].astype( np.uint32 )\n",
    "    df['creator_follower_count']  = df['creator_follower_count'].astype( np.uint32 )\n",
    "    df['creator_following_count'] = df['creator_following_count'].astype( np.uint32 )\n",
    "    df['creator_account_creation']= df['creator_account_creation'].astype( np.uint32 )\n",
    "    df['engager_follower_count']  = df['engager_follower_count'].astype( np.uint32 )\n",
    "    df['engager_following_count'] = df['engager_following_count'].astype( np.uint32 )\n",
    "    df['engager_account_creation']= df['engager_account_creation'].astype( np.uint32 )\n",
    "\n",
    "    return df\n",
    "\n",
    "\n",
    "\n",
    "def preprocess(df, target, train):\n",
    "    df = set_dataframe_types(df, train)\n",
    "    # df = df.set_index('id')\n",
    "    # df.columns = conf.raw_features + conf.labels\n",
    "    df = df.drop('text_tokens', axis=1)\n",
    "    \n",
    "    df = feature_extraction(df, features=conf.used_features, train=train) # extract 'used_features'\n",
    "    cols = []\n",
    "\n",
    "    return df"
   ]
  },
  {
   "cell_type": "code",
   "execution_count": null,
   "id": "1c437b86",
   "metadata": {},
   "outputs": [],
   "source": [
    "train = preprocess(train, TARGET, True)\n",
    "valid = preprocess(valid, TARGET, True)\n",
    "test = preprocess(test, TARGET, True)"
   ]
  },
  {
   "cell_type": "code",
   "execution_count": null,
   "id": "ec193027",
   "metadata": {},
   "outputs": [],
   "source": [
    "train"
   ]
  },
  {
   "cell_type": "markdown",
   "id": "a8b56733",
   "metadata": {},
   "source": [
    "### pickle matching"
   ]
  },
  {
   "cell_type": "markdown",
   "id": "9bb1587e",
   "metadata": {},
   "source": [
    "#### language"
   ]
  },
  {
   "cell_type": "code",
   "execution_count": null,
   "id": "fa6fe4bc",
   "metadata": {},
   "outputs": [],
   "source": [
    "pickle_path = conf.dict_path"
   ]
  },
  {
   "cell_type": "code",
   "execution_count": null,
   "id": "c662927c",
   "metadata": {},
   "outputs": [],
   "source": [
    "user_main_language_path = pickle_path + \"user_main_language.pkl\"\n",
    "\n",
    "if os.path.exists(user_main_language_path) :\n",
    "    with open(user_main_language_path, 'rb') as f :\n",
    "        user_main_language = pickle.load(f)"
   ]
  },
  {
   "cell_type": "code",
   "execution_count": null,
   "id": "0a24aca5",
   "metadata": {},
   "outputs": [],
   "source": [
    "language_dict_path = pickle_path + \"language_dict.pkl\"\n",
    "\n",
    "if os.path.exists(language_dict_path ) :\n",
    "    with open(language_dict_path , 'rb') as f :\n",
    "        language_dict = pickle.load(f)"
   ]
  },
  {
   "cell_type": "code",
   "execution_count": null,
   "id": "c3a5de04",
   "metadata": {},
   "outputs": [],
   "source": [
    "train['language'] = train.apply(lambda x : language_dict[x['language']], axis = 1)\n",
    "test['language'] = test.apply(lambda x : language_dict[x['language']], axis = 1)\n",
    "valid['language'] = valid.apply(lambda x : language_dict[x['language']], axis = 1)"
   ]
  },
  {
   "cell_type": "code",
   "execution_count": null,
   "id": "1f7371f4",
   "metadata": {},
   "outputs": [],
   "source": [
    "del language_dict"
   ]
  },
  {
   "cell_type": "code",
   "execution_count": null,
   "id": "4d4b1161",
   "metadata": {},
   "outputs": [],
   "source": []
  },
  {
   "cell_type": "code",
   "execution_count": null,
   "id": "a4fe6e06",
   "metadata": {},
   "outputs": [],
   "source": [
    "train['creator_main_language'] = train['creator_id'].map(user_main_language)\n",
    "valid['creator_main_language'] = valid['creator_id'].map(user_main_language)\n",
    "test['creator_main_language'] = test['creator_id'].map(user_main_language)"
   ]
  },
  {
   "cell_type": "code",
   "execution_count": null,
   "id": "d05a5326",
   "metadata": {},
   "outputs": [],
   "source": [
    "train['engager_main_language'] = train['engager_id'].map(user_main_language)\n",
    "valid['engager_main_language'] = valid['engager_id'].map(user_main_language)\n",
    "test['engager_main_language'] = test['engager_id'].map(user_main_language)"
   ]
  },
  {
   "cell_type": "code",
   "execution_count": null,
   "id": "853f493e",
   "metadata": {},
   "outputs": [],
   "source": [
    "train['creator_and_engager_have_same_main_language'] = train.apply(lambda x : 1 if x['creator_main_language'] == x['engager_main_language'] else 0, axis = 1)\n",
    "valid['creator_and_engager_have_same_main_language'] = valid.apply(lambda x : 1 if x['creator_main_language'] == x['engager_main_language'] else 0, axis = 1)\n",
    "test['creator_and_engager_have_same_main_language'] = test.apply(lambda x : 1 if x['creator_main_language'] == x['engager_main_language'] else 0, axis = 1)"
   ]
  },
  {
   "cell_type": "code",
   "execution_count": null,
   "id": "512fcf6b",
   "metadata": {},
   "outputs": [],
   "source": [
    "train['is_tweet_in_creator_main_language'] = train.apply(lambda x : 1 if x['creator_main_language'] == x['language'] else 0, axis = 1)\n",
    "valid['is_tweet_in_creator_main_language'] = valid.apply(lambda x : 1 if x['creator_main_language'] == x['language'] else 0, axis = 1)\n",
    "test['is_tweet_in_creator_main_language'] = test.apply(lambda x : 1 if x['creator_main_language'] == x['language'] else 0, axis = 1)"
   ]
  },
  {
   "cell_type": "code",
   "execution_count": null,
   "id": "e198e706",
   "metadata": {},
   "outputs": [],
   "source": [
    "train['is_tweet_in_engager_main_language'] = train.apply(lambda x : 1 if x['engager_main_language'] == x['language'] else 0, axis = 1)\n",
    "valid['is_tweet_in_engager_main_language'] = valid.apply(lambda x : 1 if x['engager_main_language'] == x['language'] else 0, axis = 1)\n",
    "test['is_tweet_in_engager_main_language'] = test.apply(lambda x : 1 if x['engager_main_language'] == x['language'] else 0, axis = 1)"
   ]
  },
  {
   "cell_type": "code",
   "execution_count": null,
   "id": "956ee916",
   "metadata": {},
   "outputs": [],
   "source": [
    "del user_main_language"
   ]
  },
  {
   "cell_type": "code",
   "execution_count": null,
   "id": "c058ab48",
   "metadata": {},
   "outputs": [],
   "source": [
    "train.head()"
   ]
  },
  {
   "cell_type": "markdown",
   "id": "ed1d1017",
   "metadata": {},
   "source": []
  },
  {
   "cell_type": "markdown",
   "id": "2a935eee",
   "metadata": {},
   "source": [
    "#### engagements"
   ]
  },
  {
   "cell_type": "code",
   "execution_count": null,
   "id": "13f67b51",
   "metadata": {},
   "outputs": [],
   "source": [
    "engagement_like_path = pickle_path + \"engagement-like.pkl\"\n",
    "\n",
    "if os.path.exists(engagement_like_path ) :\n",
    "    with open(engagement_like_path , 'rb') as f :\n",
    "        engagement_like = pickle.load(f)"
   ]
  },
  {
   "cell_type": "code",
   "execution_count": null,
   "id": "e9440f64",
   "metadata": {},
   "outputs": [],
   "source": [
    "train['engager_feature_number_of_previous_like_engagement'] = train.apply(lambda x : engagement_like[x['engager_id']], axis = 1)\n",
    "valid['engager_feature_number_of_previous_like_engagement'] = valid.apply(lambda x : engagement_like[x['engager_id']], axis = 1)\n",
    "test['engager_feature_number_of_previous_like_engagement'] = test.apply(lambda x : engagement_like[x['engager_id']], axis = 1)\n",
    "del engagement_like"
   ]
  },
  {
   "cell_type": "code",
   "execution_count": null,
   "id": "607fc718",
   "metadata": {},
   "outputs": [],
   "source": [
    "engagement_reply_path = pickle_path + \"engagement-reply.pkl\"\n",
    "\n",
    "if os.path.exists(engagement_reply_path ) :\n",
    "    with open(engagement_reply_path , 'rb') as f :\n",
    "        engagement_reply = pickle.load(f)"
   ]
  },
  {
   "cell_type": "code",
   "execution_count": null,
   "id": "97f54f18",
   "metadata": {},
   "outputs": [],
   "source": [
    "train['engager_feature_number_of_previous_reply_engagement'] = train.apply(lambda x : engagement_reply[x['engager_id']], axis = 1)\n",
    "valid['engager_feature_number_of_previous_reply_engagement'] = valid.apply(lambda x : engagement_reply[x['engager_id']], axis = 1)\n",
    "test['engager_feature_number_of_previous_reply_engagement'] = test.apply(lambda x : engagement_reply[x['engager_id']], axis = 1)\n",
    "del engagement_reply"
   ]
  },
  {
   "cell_type": "code",
   "execution_count": null,
   "id": "c8334b47",
   "metadata": {},
   "outputs": [],
   "source": [
    "engagement_retweet_path = pickle_path + \"engagement-retweet.pkl\"\n",
    "\n",
    "if os.path.exists(engagement_retweet_path ) :\n",
    "    with open(engagement_retweet_path , 'rb') as f :\n",
    "        engagement_retweet = pickle.load(f)"
   ]
  },
  {
   "cell_type": "code",
   "execution_count": null,
   "id": "f23be26b",
   "metadata": {},
   "outputs": [],
   "source": [
    "train['engager_feature_number_of_previous_retweet_engagement'] = train.apply(lambda x : engagement_retweet[x['engager_id']], axis = 1)\n",
    "valid['engager_feature_number_of_previous_retweet_engagement'] = valid.apply(lambda x : engagement_retweet[x['engager_id']], axis = 1)\n",
    "test['engager_feature_number_of_previous_retweet_engagement'] = test.apply(lambda x : engagement_retweet[x['engager_id']], axis = 1)\n",
    "del engagement_retweet"
   ]
  },
  {
   "cell_type": "code",
   "execution_count": null,
   "id": "1226d884",
   "metadata": {},
   "outputs": [],
   "source": [
    "engagement_comment_path = pickle_path + \"engagement-comment.pkl\"\n",
    "\n",
    "if os.path.exists(engagement_comment_path ) :\n",
    "    with open(engagement_comment_path , 'rb') as f :\n",
    "        engagement_comment = pickle.load(f)"
   ]
  },
  {
   "cell_type": "code",
   "execution_count": null,
   "id": "8939b924",
   "metadata": {},
   "outputs": [],
   "source": [
    "train['engager_feature_number_of_previous_comment_engagement'] = train.apply(lambda x : engagement_comment[x['engager_id']], axis = 1)\n",
    "valid['engager_feature_number_of_previous_comment_engagement'] = valid.apply(lambda x : engagement_comment[x['engager_id']], axis = 1)\n",
    "test['engager_feature_number_of_previous_comment_engagement'] = test.apply(lambda x : engagement_comment[x['engager_id']], axis = 1)\n",
    "del engagement_comment"
   ]
  },
  {
   "cell_type": "code",
   "execution_count": null,
   "id": "7657b552",
   "metadata": {},
   "outputs": [],
   "source": [
    "train['number_of_engagements_positive'] = train.apply(lambda x : x['engager_feature_number_of_previous_like_engagement'] + x['engager_feature_number_of_previous_retweet_engagement'] + x['engager_feature_number_of_previous_reply_engagement'] + x['engager_feature_number_of_previous_comment_engagement'], axis = 1)\n",
    "valid['number_of_engagements_positive'] = valid.apply(lambda x : x['engager_feature_number_of_previous_like_engagement'] + x['engager_feature_number_of_previous_retweet_engagement'] + x['engager_feature_number_of_previous_reply_engagement'] + x['engager_feature_number_of_previous_comment_engagement'], axis = 1)\n",
    "test['number_of_engagements_positive'] = test.apply(lambda x : x['engager_feature_number_of_previous_like_engagement'] + x['engager_feature_number_of_previous_retweet_engagement'] + x['engager_feature_number_of_previous_reply_engagement'] + x['engager_feature_number_of_previous_comment_engagement'], axis = 1)"
   ]
  },
  {
   "cell_type": "markdown",
   "id": "87d59736",
   "metadata": {},
   "source": [
    "### Tweet Engagements"
   ]
  },
  {
   "cell_type": "code",
   "execution_count": 29,
   "id": "2493ed57",
   "metadata": {},
   "outputs": [],
   "source": [
    "tweet_engagement_path = pickle_path + \"tweet_id_engagement_1.pkl\"\n",
    "\n",
    "if os.path.exists(tweet_engagement_path ) :\n",
    "    with open(tweet_engagement_path, 'rb') as f :\n",
    "        tweet_engagements = pickle.load(f)\n",
    "        tweet_engagements = defaultdict(lambda : -1, tweet_engagements)"
   ]
  },
  {
   "cell_type": "code",
   "execution_count": 30,
   "id": "260f947b",
   "metadata": {},
   "outputs": [],
   "source": [
    "train['number_of_tweet_engagements'] = train.apply(lambda x : tweet_engagements[x['tweet_id']], axis = 1)\n",
    "valid['number_of_tweet_engagements'] = valid.apply(lambda x : tweet_engagements[x['tweet_id']], axis = 1)\n",
    "test['number_of_tweet_engagements'] = test.apply(lambda x : tweet_engagements[x['tweet_id']], axis = 1)\n",
    "\n",
    "del tweet_engagements"
   ]
  },
  {
   "cell_type": "code",
   "execution_count": 31,
   "id": "e44224b6",
   "metadata": {},
   "outputs": [],
   "source": [
    "train1 = train[train['number_of_tweet_engagements'] != -1]\n",
    "train = train[train['number_of_tweet_engagements'] == -1]\n",
    "\n",
    "valid1 = valid[valid['number_of_tweet_engagements'] != -1]\n",
    "valid = valid[valid['number_of_tweet_engagements'] == -1]\n",
    "\n",
    "test1 = test[test['number_of_tweet_engagements'] != -1]\n",
    "test = test[test['number_of_tweet_engagements'] == -1]"
   ]
  },
  {
   "cell_type": "code",
   "execution_count": 32,
   "id": "c9a19e29",
   "metadata": {},
   "outputs": [],
   "source": [
    "tweet_engagement_path = pickle_path + \"tweet_id_engagement_2.pkl\"\n",
    "\n",
    "if os.path.exists(tweet_engagement_path ) :\n",
    "    with open(tweet_engagement_path, 'rb') as f :\n",
    "        tweet_engagements = pickle.load(f)\n",
    "        tweet_engagements = defaultdict(lambda : -1, tweet_engagements)"
   ]
  },
  {
   "cell_type": "code",
   "execution_count": 33,
   "id": "4ea394d3",
   "metadata": {},
   "outputs": [
    {
     "name": "stderr",
     "output_type": "stream",
     "text": [
      "/home/nyongja/anaconda3/envs/dask/lib/python3.7/site-packages/ipykernel_launcher.py:1: SettingWithCopyWarning: \n",
      "A value is trying to be set on a copy of a slice from a DataFrame.\n",
      "Try using .loc[row_indexer,col_indexer] = value instead\n",
      "\n",
      "See the caveats in the documentation: https://pandas.pydata.org/pandas-docs/stable/user_guide/indexing.html#returning-a-view-versus-a-copy\n",
      "  \"\"\"Entry point for launching an IPython kernel.\n"
     ]
    }
   ],
   "source": [
    "train['number_of_tweet_engagements'] = train.apply(lambda x : tweet_engagements[x['tweet_id']], axis = 1)\n",
    "valid['number_of_tweet_engagements'] = valid.apply(lambda x : tweet_engagements[x['tweet_id']], axis = 1)\n",
    "test['number_of_tweet_engagements'] = test.apply(lambda x : tweet_engagements[x['tweet_id']], axis = 1)\n",
    "\n",
    "del tweet_engagements"
   ]
  },
  {
   "cell_type": "code",
   "execution_count": 34,
   "id": "8cba1bc8",
   "metadata": {},
   "outputs": [],
   "source": [
    "train2 = train[train['number_of_tweet_engagements'] != -1]\n",
    "train = train[train['number_of_tweet_engagements'] == -1]\n",
    "\n",
    "valid2 = valid[valid['number_of_tweet_engagements'] != -1]\n",
    "valid = valid[valid['number_of_tweet_engagements'] == -1]\n",
    "\n",
    "test2 = test[test['number_of_tweet_engagements'] != -1]\n",
    "test = test[test['number_of_tweet_engagements'] == -1]"
   ]
  },
  {
   "cell_type": "code",
   "execution_count": 35,
   "id": "6c439845",
   "metadata": {},
   "outputs": [],
   "source": [
    "tweet_engagement_path = pickle_path + \"tweet_id_engagement_3.pkl\"\n",
    "\n",
    "if os.path.exists(tweet_engagement_path ) :\n",
    "    with open(tweet_engagement_path, 'rb') as f :\n",
    "        tweet_engagements = pickle.load(f)\n",
    "        tweet_engagements = defaultdict(lambda : -1, tweet_engagements)"
   ]
  },
  {
   "cell_type": "code",
   "execution_count": 36,
   "id": "b6277fbd",
   "metadata": {
    "scrolled": true
   },
   "outputs": [],
   "source": [
    "train['number_of_tweet_engagements'] = train.apply(lambda x : tweet_engagements[x['tweet_id']], axis = 1)\n",
    "valid['number_of_tweet_engagements'] = valid.apply(lambda x : tweet_engagements[x['tweet_id']], axis = 1)\n",
    "test['number_of_tweet_engagements'] = test.apply(lambda x : tweet_engagements[x['tweet_id']], axis = 1)\n",
    "\n",
    "del tweet_engagements"
   ]
  },
  {
   "cell_type": "code",
   "execution_count": 37,
   "id": "71165522",
   "metadata": {},
   "outputs": [],
   "source": [
    "train = pd.concat([train1, train2, train])\n",
    "valid = pd.concat([valid1, valid2, valid])\n",
    "test = pd.concat([test1, test2, test])"
   ]
  },
  {
   "cell_type": "code",
   "execution_count": 38,
   "id": "a23bfe0d",
   "metadata": {},
   "outputs": [
    {
     "data": {
      "text/html": [
       "<div>\n",
       "<style scoped>\n",
       "    .dataframe tbody tr th:only-of-type {\n",
       "        vertical-align: middle;\n",
       "    }\n",
       "\n",
       "    .dataframe tbody tr th {\n",
       "        vertical-align: top;\n",
       "    }\n",
       "\n",
       "    .dataframe thead th {\n",
       "        text-align: right;\n",
       "    }\n",
       "</style>\n",
       "<table border=\"1\" class=\"dataframe\">\n",
       "  <thead>\n",
       "    <tr style=\"text-align: right;\">\n",
       "      <th></th>\n",
       "      <th>creator_id</th>\n",
       "      <th>engager_id</th>\n",
       "      <th>tweet_id</th>\n",
       "      <th>tweet_type</th>\n",
       "      <th>language</th>\n",
       "      <th>creator_account_creation</th>\n",
       "      <th>creator_follower_count</th>\n",
       "      <th>creator_following_count</th>\n",
       "      <th>engager_follower_count</th>\n",
       "      <th>engager_following_count</th>\n",
       "      <th>...</th>\n",
       "      <th>engager_main_language</th>\n",
       "      <th>creator_and_engager_have_same_main_language</th>\n",
       "      <th>is_tweet_in_creator_main_language</th>\n",
       "      <th>is_tweet_in_engager_main_language</th>\n",
       "      <th>engager_feature_number_of_previous_like_engagement</th>\n",
       "      <th>engager_feature_number_of_previous_reply_engagement</th>\n",
       "      <th>engager_feature_number_of_previous_retweet_engagement</th>\n",
       "      <th>engager_feature_number_of_previous_comment_engagement</th>\n",
       "      <th>number_of_engagements_positive</th>\n",
       "      <th>number_of_tweet_engagements</th>\n",
       "    </tr>\n",
       "  </thead>\n",
       "  <tbody>\n",
       "    <tr>\n",
       "      <th>3</th>\n",
       "      <td>3DB2C8C5DA1F0F9E40712524932C95C5</td>\n",
       "      <td>160F86BDD5CEDCE0F0391E0EB794E448</td>\n",
       "      <td>D0E35D4B8325AF28CAF6822DBB1A02DA</td>\n",
       "      <td>0</td>\n",
       "      <td>9</td>\n",
       "      <td>1549145471</td>\n",
       "      <td>1002</td>\n",
       "      <td>299</td>\n",
       "      <td>17</td>\n",
       "      <td>374</td>\n",
       "      <td>...</td>\n",
       "      <td>9</td>\n",
       "      <td>1</td>\n",
       "      <td>1</td>\n",
       "      <td>1</td>\n",
       "      <td>7</td>\n",
       "      <td>0</td>\n",
       "      <td>0</td>\n",
       "      <td>0</td>\n",
       "      <td>7</td>\n",
       "      <td>2</td>\n",
       "    </tr>\n",
       "    <tr>\n",
       "      <th>5</th>\n",
       "      <td>5BAAB8EFB3527D3B85A79B4DD021BCD7</td>\n",
       "      <td>BE7C5648CF48AAB3C2DF2231D1891F53</td>\n",
       "      <td>303F13C6B37571DDDA99C92A87CA4722</td>\n",
       "      <td>3</td>\n",
       "      <td>0</td>\n",
       "      <td>1299272390</td>\n",
       "      <td>70634</td>\n",
       "      <td>971</td>\n",
       "      <td>157</td>\n",
       "      <td>455</td>\n",
       "      <td>...</td>\n",
       "      <td>50</td>\n",
       "      <td>0</td>\n",
       "      <td>0</td>\n",
       "      <td>0</td>\n",
       "      <td>4</td>\n",
       "      <td>1</td>\n",
       "      <td>0</td>\n",
       "      <td>0</td>\n",
       "      <td>5</td>\n",
       "      <td>3</td>\n",
       "    </tr>\n",
       "    <tr>\n",
       "      <th>8</th>\n",
       "      <td>9849B8D6C600141A552EED836D9A6E2C</td>\n",
       "      <td>536369322F2833A49A65C0D30D62D92A</td>\n",
       "      <td>54C6F73875DD56105AC03122FA0CE0AB</td>\n",
       "      <td>3</td>\n",
       "      <td>0</td>\n",
       "      <td>1252853336</td>\n",
       "      <td>653781</td>\n",
       "      <td>1035</td>\n",
       "      <td>2025</td>\n",
       "      <td>4993</td>\n",
       "      <td>...</td>\n",
       "      <td>35</td>\n",
       "      <td>0</td>\n",
       "      <td>0</td>\n",
       "      <td>0</td>\n",
       "      <td>1931</td>\n",
       "      <td>2</td>\n",
       "      <td>14</td>\n",
       "      <td>1</td>\n",
       "      <td>1948</td>\n",
       "      <td>17</td>\n",
       "    </tr>\n",
       "    <tr>\n",
       "      <th>11</th>\n",
       "      <td>8A13B01569121AE75CD0ED564B68FC32</td>\n",
       "      <td>B50BBB9C1D05E0319E82B92A40B76925</td>\n",
       "      <td>2B54ED41B11D53506EF62A7FD38282D6</td>\n",
       "      <td>3</td>\n",
       "      <td>4</td>\n",
       "      <td>1532109466</td>\n",
       "      <td>1011</td>\n",
       "      <td>433</td>\n",
       "      <td>179</td>\n",
       "      <td>301</td>\n",
       "      <td>...</td>\n",
       "      <td>26</td>\n",
       "      <td>0</td>\n",
       "      <td>0</td>\n",
       "      <td>0</td>\n",
       "      <td>593</td>\n",
       "      <td>4</td>\n",
       "      <td>4</td>\n",
       "      <td>0</td>\n",
       "      <td>601</td>\n",
       "      <td>2</td>\n",
       "    </tr>\n",
       "    <tr>\n",
       "      <th>12</th>\n",
       "      <td>A914DECD0A9FB42C88DEE037E1BA8C93</td>\n",
       "      <td>076B87349C2D5421CBF059F325BCF143</td>\n",
       "      <td>3FA1E842019E2495FF4231BA9702CA7B</td>\n",
       "      <td>3</td>\n",
       "      <td>0</td>\n",
       "      <td>1305569686</td>\n",
       "      <td>50726</td>\n",
       "      <td>994</td>\n",
       "      <td>249</td>\n",
       "      <td>1331</td>\n",
       "      <td>...</td>\n",
       "      <td>1</td>\n",
       "      <td>0</td>\n",
       "      <td>0</td>\n",
       "      <td>0</td>\n",
       "      <td>47</td>\n",
       "      <td>4</td>\n",
       "      <td>9</td>\n",
       "      <td>0</td>\n",
       "      <td>60</td>\n",
       "      <td>13</td>\n",
       "    </tr>\n",
       "    <tr>\n",
       "      <th>...</th>\n",
       "      <td>...</td>\n",
       "      <td>...</td>\n",
       "      <td>...</td>\n",
       "      <td>...</td>\n",
       "      <td>...</td>\n",
       "      <td>...</td>\n",
       "      <td>...</td>\n",
       "      <td>...</td>\n",
       "      <td>...</td>\n",
       "      <td>...</td>\n",
       "      <td>...</td>\n",
       "      <td>...</td>\n",
       "      <td>...</td>\n",
       "      <td>...</td>\n",
       "      <td>...</td>\n",
       "      <td>...</td>\n",
       "      <td>...</td>\n",
       "      <td>...</td>\n",
       "      <td>...</td>\n",
       "      <td>...</td>\n",
       "      <td>...</td>\n",
       "    </tr>\n",
       "    <tr>\n",
       "      <th>4335982</th>\n",
       "      <td>B24DCCA0711C0032E545499F79E9D7E3</td>\n",
       "      <td>2E67B44E36ED9373B6028BBD50F8329D</td>\n",
       "      <td>ADC9D74EF67242D66BFB324A0EA81DF1</td>\n",
       "      <td>1</td>\n",
       "      <td>1</td>\n",
       "      <td>1595003944</td>\n",
       "      <td>3164</td>\n",
       "      <td>305</td>\n",
       "      <td>43</td>\n",
       "      <td>187</td>\n",
       "      <td>...</td>\n",
       "      <td>1</td>\n",
       "      <td>1</td>\n",
       "      <td>1</td>\n",
       "      <td>1</td>\n",
       "      <td>7</td>\n",
       "      <td>4</td>\n",
       "      <td>0</td>\n",
       "      <td>0</td>\n",
       "      <td>11</td>\n",
       "      <td>-1</td>\n",
       "    </tr>\n",
       "    <tr>\n",
       "      <th>4335984</th>\n",
       "      <td>A41D78C67644C7D277E36D21F39FC28D</td>\n",
       "      <td>514612AD1358B9C2189D9E4549AE0DC0</td>\n",
       "      <td>F75EC786EC69E4086710192C90B7786C</td>\n",
       "      <td>1</td>\n",
       "      <td>1</td>\n",
       "      <td>1581258442</td>\n",
       "      <td>609</td>\n",
       "      <td>56</td>\n",
       "      <td>372</td>\n",
       "      <td>217</td>\n",
       "      <td>...</td>\n",
       "      <td>1</td>\n",
       "      <td>1</td>\n",
       "      <td>1</td>\n",
       "      <td>1</td>\n",
       "      <td>70</td>\n",
       "      <td>0</td>\n",
       "      <td>0</td>\n",
       "      <td>0</td>\n",
       "      <td>70</td>\n",
       "      <td>-1</td>\n",
       "    </tr>\n",
       "    <tr>\n",
       "      <th>4335986</th>\n",
       "      <td>0030221A0711AD177C7DE58B2F4A72D8</td>\n",
       "      <td>4DEDD0D2EA4F5CF16745D7745E6E13D9</td>\n",
       "      <td>84903D8F29BF798754A8957C6C671256</td>\n",
       "      <td>3</td>\n",
       "      <td>2</td>\n",
       "      <td>1507843240</td>\n",
       "      <td>103313</td>\n",
       "      <td>519</td>\n",
       "      <td>17</td>\n",
       "      <td>290</td>\n",
       "      <td>...</td>\n",
       "      <td>17</td>\n",
       "      <td>0</td>\n",
       "      <td>0</td>\n",
       "      <td>0</td>\n",
       "      <td>2</td>\n",
       "      <td>0</td>\n",
       "      <td>0</td>\n",
       "      <td>0</td>\n",
       "      <td>2</td>\n",
       "      <td>-1</td>\n",
       "    </tr>\n",
       "    <tr>\n",
       "      <th>4335991</th>\n",
       "      <td>CD24D977DEC6E15AEE2019AA807162F5</td>\n",
       "      <td>25E7B9F7E3CA28389E94E38847E42097</td>\n",
       "      <td>6B04D9EF425FE4610BA42FB59D8FE1AB</td>\n",
       "      <td>0</td>\n",
       "      <td>4</td>\n",
       "      <td>1580191320</td>\n",
       "      <td>8520</td>\n",
       "      <td>274</td>\n",
       "      <td>161</td>\n",
       "      <td>505</td>\n",
       "      <td>...</td>\n",
       "      <td>24</td>\n",
       "      <td>0</td>\n",
       "      <td>0</td>\n",
       "      <td>0</td>\n",
       "      <td>8</td>\n",
       "      <td>4</td>\n",
       "      <td>12</td>\n",
       "      <td>0</td>\n",
       "      <td>24</td>\n",
       "      <td>1</td>\n",
       "    </tr>\n",
       "    <tr>\n",
       "      <th>4336000</th>\n",
       "      <td>F26F82CA608F3799A4F8006C5D70B150</td>\n",
       "      <td>5685DDE09A7241959A89359C5476223A</td>\n",
       "      <td>A71E0B6FE6811F548830B7062DC2EC4E</td>\n",
       "      <td>3</td>\n",
       "      <td>15</td>\n",
       "      <td>1592643335</td>\n",
       "      <td>2724</td>\n",
       "      <td>2812</td>\n",
       "      <td>331</td>\n",
       "      <td>454</td>\n",
       "      <td>...</td>\n",
       "      <td>7</td>\n",
       "      <td>1</td>\n",
       "      <td>0</td>\n",
       "      <td>0</td>\n",
       "      <td>19</td>\n",
       "      <td>3</td>\n",
       "      <td>0</td>\n",
       "      <td>0</td>\n",
       "      <td>22</td>\n",
       "      <td>-1</td>\n",
       "    </tr>\n",
       "  </tbody>\n",
       "</table>\n",
       "<p>4336002 rows × 32 columns</p>\n",
       "</div>"
      ],
      "text/plain": [
       "                               creator_id                        engager_id  \\\n",
       "3        3DB2C8C5DA1F0F9E40712524932C95C5  160F86BDD5CEDCE0F0391E0EB794E448   \n",
       "5        5BAAB8EFB3527D3B85A79B4DD021BCD7  BE7C5648CF48AAB3C2DF2231D1891F53   \n",
       "8        9849B8D6C600141A552EED836D9A6E2C  536369322F2833A49A65C0D30D62D92A   \n",
       "11       8A13B01569121AE75CD0ED564B68FC32  B50BBB9C1D05E0319E82B92A40B76925   \n",
       "12       A914DECD0A9FB42C88DEE037E1BA8C93  076B87349C2D5421CBF059F325BCF143   \n",
       "...                                   ...                               ...   \n",
       "4335982  B24DCCA0711C0032E545499F79E9D7E3  2E67B44E36ED9373B6028BBD50F8329D   \n",
       "4335984  A41D78C67644C7D277E36D21F39FC28D  514612AD1358B9C2189D9E4549AE0DC0   \n",
       "4335986  0030221A0711AD177C7DE58B2F4A72D8  4DEDD0D2EA4F5CF16745D7745E6E13D9   \n",
       "4335991  CD24D977DEC6E15AEE2019AA807162F5  25E7B9F7E3CA28389E94E38847E42097   \n",
       "4336000  F26F82CA608F3799A4F8006C5D70B150  5685DDE09A7241959A89359C5476223A   \n",
       "\n",
       "                                 tweet_id  tweet_type  language  \\\n",
       "3        D0E35D4B8325AF28CAF6822DBB1A02DA           0         9   \n",
       "5        303F13C6B37571DDDA99C92A87CA4722           3         0   \n",
       "8        54C6F73875DD56105AC03122FA0CE0AB           3         0   \n",
       "11       2B54ED41B11D53506EF62A7FD38282D6           3         4   \n",
       "12       3FA1E842019E2495FF4231BA9702CA7B           3         0   \n",
       "...                                   ...         ...       ...   \n",
       "4335982  ADC9D74EF67242D66BFB324A0EA81DF1           1         1   \n",
       "4335984  F75EC786EC69E4086710192C90B7786C           1         1   \n",
       "4335986  84903D8F29BF798754A8957C6C671256           3         2   \n",
       "4335991  6B04D9EF425FE4610BA42FB59D8FE1AB           0         4   \n",
       "4336000  A71E0B6FE6811F548830B7062DC2EC4E           3        15   \n",
       "\n",
       "         creator_account_creation  creator_follower_count  \\\n",
       "3                      1549145471                    1002   \n",
       "5                      1299272390                   70634   \n",
       "8                      1252853336                  653781   \n",
       "11                     1532109466                    1011   \n",
       "12                     1305569686                   50726   \n",
       "...                           ...                     ...   \n",
       "4335982                1595003944                    3164   \n",
       "4335984                1581258442                     609   \n",
       "4335986                1507843240                  103313   \n",
       "4335991                1580191320                    8520   \n",
       "4336000                1592643335                    2724   \n",
       "\n",
       "         creator_following_count  engager_follower_count  \\\n",
       "3                            299                      17   \n",
       "5                            971                     157   \n",
       "8                           1035                    2025   \n",
       "11                           433                     179   \n",
       "12                           994                     249   \n",
       "...                          ...                     ...   \n",
       "4335982                      305                      43   \n",
       "4335984                       56                     372   \n",
       "4335986                      519                      17   \n",
       "4335991                      274                     161   \n",
       "4336000                     2812                     331   \n",
       "\n",
       "         engager_following_count  ...  engager_main_language  \\\n",
       "3                            374  ...                      9   \n",
       "5                            455  ...                     50   \n",
       "8                           4993  ...                     35   \n",
       "11                           301  ...                     26   \n",
       "12                          1331  ...                      1   \n",
       "...                          ...  ...                    ...   \n",
       "4335982                      187  ...                      1   \n",
       "4335984                      217  ...                      1   \n",
       "4335986                      290  ...                     17   \n",
       "4335991                      505  ...                     24   \n",
       "4336000                      454  ...                      7   \n",
       "\n",
       "         creator_and_engager_have_same_main_language  \\\n",
       "3                                                  1   \n",
       "5                                                  0   \n",
       "8                                                  0   \n",
       "11                                                 0   \n",
       "12                                                 0   \n",
       "...                                              ...   \n",
       "4335982                                            1   \n",
       "4335984                                            1   \n",
       "4335986                                            0   \n",
       "4335991                                            0   \n",
       "4336000                                            1   \n",
       "\n",
       "         is_tweet_in_creator_main_language  is_tweet_in_engager_main_language  \\\n",
       "3                                        1                                  1   \n",
       "5                                        0                                  0   \n",
       "8                                        0                                  0   \n",
       "11                                       0                                  0   \n",
       "12                                       0                                  0   \n",
       "...                                    ...                                ...   \n",
       "4335982                                  1                                  1   \n",
       "4335984                                  1                                  1   \n",
       "4335986                                  0                                  0   \n",
       "4335991                                  0                                  0   \n",
       "4336000                                  0                                  0   \n",
       "\n",
       "         engager_feature_number_of_previous_like_engagement  \\\n",
       "3                                                        7    \n",
       "5                                                        4    \n",
       "8                                                     1931    \n",
       "11                                                     593    \n",
       "12                                                      47    \n",
       "...                                                    ...    \n",
       "4335982                                                  7    \n",
       "4335984                                                 70    \n",
       "4335986                                                  2    \n",
       "4335991                                                  8    \n",
       "4336000                                                 19    \n",
       "\n",
       "         engager_feature_number_of_previous_reply_engagement  \\\n",
       "3                                                        0     \n",
       "5                                                        1     \n",
       "8                                                        2     \n",
       "11                                                       4     \n",
       "12                                                       4     \n",
       "...                                                    ...     \n",
       "4335982                                                  4     \n",
       "4335984                                                  0     \n",
       "4335986                                                  0     \n",
       "4335991                                                  4     \n",
       "4336000                                                  3     \n",
       "\n",
       "         engager_feature_number_of_previous_retweet_engagement  \\\n",
       "3                                                        0       \n",
       "5                                                        0       \n",
       "8                                                       14       \n",
       "11                                                       4       \n",
       "12                                                       9       \n",
       "...                                                    ...       \n",
       "4335982                                                  0       \n",
       "4335984                                                  0       \n",
       "4335986                                                  0       \n",
       "4335991                                                 12       \n",
       "4336000                                                  0       \n",
       "\n",
       "         engager_feature_number_of_previous_comment_engagement  \\\n",
       "3                                                        0       \n",
       "5                                                        0       \n",
       "8                                                        1       \n",
       "11                                                       0       \n",
       "12                                                       0       \n",
       "...                                                    ...       \n",
       "4335982                                                  0       \n",
       "4335984                                                  0       \n",
       "4335986                                                  0       \n",
       "4335991                                                  0       \n",
       "4336000                                                  0       \n",
       "\n",
       "         number_of_engagements_positive  number_of_tweet_engagements  \n",
       "3                                     7                            2  \n",
       "5                                     5                            3  \n",
       "8                                  1948                           17  \n",
       "11                                  601                            2  \n",
       "12                                   60                           13  \n",
       "...                                 ...                          ...  \n",
       "4335982                              11                           -1  \n",
       "4335984                              70                           -1  \n",
       "4335986                               2                           -1  \n",
       "4335991                              24                            1  \n",
       "4336000                              22                           -1  \n",
       "\n",
       "[4336002 rows x 32 columns]"
      ]
     },
     "execution_count": 38,
     "metadata": {},
     "output_type": "execute_result"
    }
   ],
   "source": [
    "train"
   ]
  },
  {
   "cell_type": "code",
   "execution_count": 39,
   "id": "f9e1061b",
   "metadata": {},
   "outputs": [],
   "source": [
    "del train1, train2, valid1, valid2, test1, test2"
   ]
  },
  {
   "cell_type": "code",
   "execution_count": null,
   "id": "9428dcd9",
   "metadata": {},
   "outputs": [],
   "source": [
    "train = train.reset_index(drop=True)\n",
    "valid = valid.reset_index(drop=True)\n",
    "test = test.reset_index(drop=True)"
   ]
  },
  {
   "cell_type": "code",
   "execution_count": null,
   "id": "62f40b81",
   "metadata": {},
   "outputs": [],
   "source": [
    "train['number_of_engagements_ratio_like'] = train.apply(lambda x : x['engager_feature_number_of_previous_like_engagement'] / x['number_of_engagements_positive'] if x['number_of_engagements_positive'] != 0 else 0, axis = 1)\n",
    "valid['number_of_engagements_ratio_like'] = valid.apply(lambda x : x['engager_feature_number_of_previous_like_engagement'] / x['number_of_engagements_positive'] if x['number_of_engagements_positive'] != 0 else 0, axis = 1)\n",
    "test['number_of_engagements_ratio_like'] = test.apply(lambda x : x['engager_feature_number_of_previous_like_engagement'] / x['number_of_engagements_positive'] if x['number_of_engagements_positive'] != 0 else 0, axis = 1)"
   ]
  },
  {
   "cell_type": "code",
   "execution_count": null,
   "id": "56416eb0",
   "metadata": {},
   "outputs": [],
   "source": [
    "train['number_of_engagements_ratio_reply'] = train.apply(lambda x : x['engager_feature_number_of_previous_reply_engagement'] / x['number_of_engagements_positive'] if x['number_of_engagements_positive'] != 0 else 0, axis = 1)\n",
    "valid['number_of_engagements_ratio_reply'] = valid.apply(lambda x : x['engager_feature_number_of_previous_reply_engagement'] / x['number_of_engagements_positive'] if x['number_of_engagements_positive'] != 0 else 0, axis = 1)\n",
    "test['number_of_engagements_ratio_reply'] = test.apply(lambda x : x['engager_feature_number_of_previous_reply_engagement'] / x['number_of_engagements_positive'] if x['number_of_engagements_positive'] != 0 else 0, axis = 1)"
   ]
  },
  {
   "cell_type": "code",
   "execution_count": null,
   "id": "44dc44a8",
   "metadata": {},
   "outputs": [],
   "source": [
    "train['number_of_engagements_ratio_retweet'] = train.apply(lambda x : x['engager_feature_number_of_previous_retweet_engagement'] / x['number_of_engagements_positive'] if x['number_of_engagements_positive'] != 0 else 0, axis = 1)\n",
    "valid['number_of_engagements_ratio_retweet'] = valid.apply(lambda x : x['engager_feature_number_of_previous_retweet_engagement'] / x['number_of_engagements_positive'] if x['number_of_engagements_positive'] != 0 else 0, axis = 1)\n",
    "test['number_of_engagements_ratio_retweet'] = test.apply(lambda x : x['engager_feature_number_of_previous_retweet_engagement'] / x['number_of_engagements_positive'] if x['number_of_engagements_positive'] != 0 else 0, axis = 1)"
   ]
  },
  {
   "cell_type": "code",
   "execution_count": null,
   "id": "3ca68dff",
   "metadata": {},
   "outputs": [],
   "source": [
    "train['number_of_engagements_ratio_comment'] = train.apply(lambda x : x['engager_feature_number_of_previous_comment_engagement'] / x['number_of_engagements_positive'] if x['number_of_engagements_positive'] != 0 else 0, axis = 1)\n",
    "valid['number_of_engagements_ratio_comment'] = valid.apply(lambda x : x['engager_feature_number_of_previous_comment_engagement'] / x['number_of_engagements_positive'] if x['number_of_engagements_positive'] != 0 else 0, axis = 1)\n",
    "test['number_of_engagements_ratio_comment'] = test.apply(lambda x : x['engager_feature_number_of_previous_comment_engagement'] / x['number_of_engagements_positive'] if x['number_of_engagements_positive'] != 0 else 0, axis = 1)"
   ]
  },
  {
   "cell_type": "code",
   "execution_count": null,
   "id": "ff04af08",
   "metadata": {},
   "outputs": [],
   "source": []
  },
  {
   "cell_type": "markdown",
   "id": "2c864683",
   "metadata": {},
   "source": [
    "## Split"
   ]
  },
  {
   "cell_type": "code",
   "execution_count": 45,
   "id": "3c7ebb57",
   "metadata": {},
   "outputs": [],
   "source": [
    "label_names = ['reply', 'retweet', 'comment', 'like']\n",
    "DONT_USE = ['tweet_timestamp','creator_account_creation','engager_account_creation','engage_time',\n",
    "            'creator_account_creation', 'engager_account_creation',\n",
    "            'fold','tweet_id', \n",
    "            'tr','dt_day','','',\n",
    "            'engager_id','creator_id','engager_is_verified',\n",
    "            'elapsed_time',\n",
    "            'links','domains','hashtags0','hashtags1',\n",
    "            'hashtags','tweet_hash','dt_second','id',\n",
    "            'tw_hash0',\n",
    "            'tw_hash1',\n",
    "            'tw_rt_uhash',\n",
    "            'same_language', 'nan_language','language',\n",
    "            'tw_hash', 'tw_freq_hash','tw_first_word', 'tw_second_word', 'tw_last_word', 'tw_llast_word',\n",
    "            'ypred','creator_count_combined','creator_user_fer_count_delta_time','creator_user_fing_count_delta_time','creator_user_fering_count_delta_time','creator_user_fing_count_mode','creator_user_fer_count_mode','creator_user_fering_count_mode'\n",
    "           ]\n",
    "DONT_USE += label_names\n",
    "DONT_USE += conf.labels"
   ]
  },
  {
   "cell_type": "code",
   "execution_count": 46,
   "id": "44e7bd73",
   "metadata": {},
   "outputs": [],
   "source": [
    "RMV = [c for c in DONT_USE if c in train.columns]"
   ]
  },
  {
   "cell_type": "code",
   "execution_count": 52,
   "id": "146032fb",
   "metadata": {},
   "outputs": [],
   "source": [
    "yt_train = train[TARGET]\n",
    "Xt_train = train.drop(RMV, axis=1)"
   ]
  },
  {
   "cell_type": "code",
   "execution_count": 53,
   "id": "7dbe783f",
   "metadata": {},
   "outputs": [],
   "source": [
    "yt_valid = valid[TARGET]\n",
    "Xt_valid = valid.drop(RMV, axis=1)\n",
    "del valid"
   ]
  },
  {
   "cell_type": "code",
   "execution_count": 54,
   "id": "613dbff2",
   "metadata": {},
   "outputs": [],
   "source": [
    "yt_test = test[TARGET]\n",
    "Xt_test = test.drop(RMV, axis=1)\n",
    "del test"
   ]
  },
  {
   "cell_type": "markdown",
   "id": "cdd5cb4e",
   "metadata": {},
   "source": [
    "## Scaling"
   ]
  },
  {
   "cell_type": "code",
   "execution_count": 55,
   "id": "937fbdf4",
   "metadata": {},
   "outputs": [],
   "source": [
    "Xt_train = Xt_train.reset_index(drop=True)\n",
    "Xt_test = Xt_test.reset_index(drop=True)\n",
    "Xt_val = Xt_valid.reset_index(drop=True)"
   ]
  },
  {
   "cell_type": "code",
   "execution_count": 56,
   "id": "4eea05af",
   "metadata": {},
   "outputs": [],
   "source": [
    "scaling_columns = ['creator_following_count', 'creator_follower_count', 'engager_follower_count', \n",
    "                   'engager_following_count', 'dt_dow', 'dt_hour', 'len_domains', 'creator_main_language', 'engager_main_language',\n",
    "                   'engager_feature_number_of_previous_like_engagement',\n",
    "                   'engager_feature_number_of_previous_reply_engagement',\n",
    "                   'engager_feature_number_of_previous_retweet_engagement',\n",
    "                   'engager_feature_number_of_previous_comment_engagement',\n",
    "                   'number_of_engagements_positive',\n",
    "                   'number_of_tweet_engagements']"
   ]
  },
  {
   "cell_type": "code",
   "execution_count": 57,
   "id": "14760859",
   "metadata": {},
   "outputs": [
    {
     "data": {
      "text/plain": [
       "StandardScaler()"
      ]
     },
     "execution_count": 57,
     "metadata": {},
     "output_type": "execute_result"
    }
   ],
   "source": [
    "standard_scaler = preprocessing.StandardScaler()\n",
    "standard_scaler.fit(Xt_train[scaling_columns])"
   ]
  },
  {
   "cell_type": "code",
   "execution_count": 58,
   "id": "a2013878",
   "metadata": {},
   "outputs": [],
   "source": [
    "ss = standard_scaler.transform(Xt_train[scaling_columns])\n",
    "Xt_train[scaling_columns] = pd.DataFrame(ss, columns = scaling_columns)"
   ]
  },
  {
   "cell_type": "code",
   "execution_count": 59,
   "id": "a34323b5",
   "metadata": {},
   "outputs": [],
   "source": [
    "ss = standard_scaler.transform(Xt_valid[scaling_columns])\n",
    "Xt_valid[scaling_columns] = pd.DataFrame(ss, columns = scaling_columns)"
   ]
  },
  {
   "cell_type": "code",
   "execution_count": 60,
   "id": "96ca93df",
   "metadata": {},
   "outputs": [],
   "source": [
    "ss = standard_scaler.transform(Xt_test[scaling_columns])\n",
    "Xt_test[scaling_columns] = pd.DataFrame(ss, columns = scaling_columns)"
   ]
  },
  {
   "cell_type": "code",
   "execution_count": 61,
   "id": "abf59b53",
   "metadata": {},
   "outputs": [],
   "source": [
    "Xt_train = Xt_train.fillna(Xt_train.mean())\n",
    "Xt_valid = Xt_valid.fillna(Xt_valid.mean())\n",
    "Xt_test = Xt_test.fillna(Xt_test.mean())"
   ]
  },
  {
   "cell_type": "code",
   "execution_count": null,
   "id": "b5e3fb96",
   "metadata": {},
   "outputs": [],
   "source": []
  },
  {
   "cell_type": "markdown",
   "id": "c5809d22",
   "metadata": {},
   "source": [
    "## Modeling"
   ]
  },
  {
   "cell_type": "code",
   "execution_count": 62,
   "id": "adb1116e",
   "metadata": {},
   "outputs": [],
   "source": [
    "# target_to_idx = {'reply':0, 'retweet':1, 'comment':2, 'like':3, 'all' : 4}"
   ]
  },
  {
   "cell_type": "code",
   "execution_count": 115,
   "id": "a223891f",
   "metadata": {},
   "outputs": [],
   "source": [
    "target = 'comment'\n",
    "idx = conf.target_to_idx[target]"
   ]
  },
  {
   "cell_type": "code",
   "execution_count": 116,
   "id": "5296dfc5",
   "metadata": {},
   "outputs": [],
   "source": [
    "X_train = Xt_train.drop(conf.drop_features[idx], axis = 1)\n",
    "y_train = yt_train[target]"
   ]
  },
  {
   "cell_type": "code",
   "execution_count": 117,
   "id": "8ecc0ed9",
   "metadata": {},
   "outputs": [],
   "source": [
    "X_test = Xt_test.drop(conf.drop_features[idx], axis = 1)\n",
    "y_test = yt_test[target]"
   ]
  },
  {
   "cell_type": "code",
   "execution_count": 118,
   "id": "bae83a1e",
   "metadata": {},
   "outputs": [],
   "source": [
    "X_valid = Xt_valid.drop(conf.drop_features[idx], axis = 1)\n",
    "y_valid = yt_valid[target]"
   ]
  },
  {
   "cell_type": "code",
   "execution_count": 119,
   "id": "b20203e6",
   "metadata": {},
   "outputs": [],
   "source": [
    "model = Sequential([\n",
    "    Dense(16, activation = 'relu', input_dim = X_train.shape[1]),\n",
    "    Dense(8, activation = 'relu'),\n",
    "    Dense(4, activation = 'relu'),\n",
    "    Dense(1, activation = 'sigmoid')\n",
    "])"
   ]
  },
  {
   "cell_type": "code",
   "execution_count": 120,
   "id": "91bd834d",
   "metadata": {},
   "outputs": [],
   "source": [
    "model.compile(\n",
    "    optimizer = 'adam',\n",
    "    loss = 'binary_crossentropy', # softmax : sparse_categorical_crossentropy, sigmoid : binary_crossentropy\n",
    "    metrics=['binary_crossentropy']) # sigmoid :binary_crossentropy"
   ]
  },
  {
   "cell_type": "code",
   "execution_count": 121,
   "id": "2730bf56",
   "metadata": {},
   "outputs": [
    {
     "name": "stdout",
     "output_type": "stream",
     "text": [
      "Epoch 1/3\n",
      "135501/135501 [==============================] - 52s 383us/step - loss: 0.0364 - binary_crossentropy: 0.0364 - val_loss: 0.0317 - val_binary_crossentropy: 0.0317\n",
      "Epoch 2/3\n",
      "135501/135501 [==============================] - 52s 382us/step - loss: 0.0317 - binary_crossentropy: 0.0317 - val_loss: 0.0318 - val_binary_crossentropy: 0.0318\n",
      "Epoch 3/3\n",
      "135501/135501 [==============================] - 52s 382us/step - loss: 0.0315 - binary_crossentropy: 0.0315 - val_loss: 0.0315 - val_binary_crossentropy: 0.0315\n"
     ]
    }
   ],
   "source": [
    "result = model.fit(\n",
    "    x = X_train,\n",
    "    y = y_train,\n",
    "    validation_data=(X_valid, y_valid),\n",
    "    epochs=3,\n",
    "    batch_size=32\n",
    ")"
   ]
  },
  {
   "cell_type": "code",
   "execution_count": 122,
   "id": "fa3d0daf",
   "metadata": {},
   "outputs": [
    {
     "data": {
      "image/png": "[encoded data removed]",
      "text/plain": [
       "<Figure size 432x288 with 1 Axes>"
      ]
     },
     "metadata": {
      "needs_background": "light"
     },
     "output_type": "display_data"
    }
   ],
   "source": [
    "plt.plot(result.history['binary_crossentropy'])\n",
    "plt.plot(result.history['val_binary_crossentropy'])\n",
    "plt.title('model accuracy')\n",
    "plt.ylabel('accuracy')\n",
    "plt.xlabel('epoch')\n",
    "plt.legend(['train', 'val'], loc='upper left')\n",
    "plt.show()"
   ]
  },
  {
   "cell_type": "code",
   "execution_count": null,
   "id": "7e2fdd4e",
   "metadata": {},
   "outputs": [],
   "source": [
    "model.evaluate(X_test, y_test)"
   ]
  },
  {
   "cell_type": "code",
   "execution_count": 56,
   "id": "0e82372d",
   "metadata": {},
   "outputs": [
    {
     "name": "stdout",
     "output_type": "stream",
     "text": [
      "INFO:tensorflow:Assets written to: ./saved_model/ffnn_like/assets\n"
     ]
    }
   ],
   "source": [
    "model.save('./saved_model/ffnn_like')"
   ]
  },
  {
   "cell_type": "markdown",
   "id": "d4d9941b",
   "metadata": {},
   "source": [
    "## Predict"
   ]
  },
  {
   "cell_type": "code",
   "execution_count": 57,
   "id": "2e30da1e",
   "metadata": {},
   "outputs": [],
   "source": [
    "model = tf.keras.models.load_model('./saved_model/ffnn_like')"
   ]
  },
  {
   "cell_type": "code",
   "execution_count": 123,
   "id": "dcbab2a9",
   "metadata": {},
   "outputs": [],
   "source": [
    "pred = model.predict(X_test)"
   ]
  },
  {
   "cell_type": "code",
   "execution_count": 124,
   "id": "4e88b826",
   "metadata": {},
   "outputs": [
    {
     "data": {
      "text/plain": [
       "24.784726570633666"
      ]
     },
     "execution_count": 124,
     "metadata": {},
     "output_type": "execute_result"
    }
   ],
   "source": [
    "rce = compute_rce(pred, y_test)\n",
    "rce"
   ]
  },
  {
   "cell_type": "code",
   "execution_count": 125,
   "id": "de0ff024",
   "metadata": {},
   "outputs": [
    {
     "data": {
      "text/plain": [
       "0.1389807855425786"
      ]
     },
     "execution_count": 125,
     "metadata": {},
     "output_type": "execute_result"
    }
   ],
   "source": [
    "average_precision_score(y_test, pred)"
   ]
  },
  {
   "cell_type": "code",
   "execution_count": null,
   "id": "d3a077a1",
   "metadata": {},
   "outputs": [],
   "source": []
  },
  {
   "cell_type": "code",
   "execution_count": null,
   "id": "18a4c050",
   "metadata": {},
   "outputs": [],
   "source": []
  }
 ],
 "metadata": {
  "kernelspec": {
   "display_name": "Python 3",
   "language": "python",
   "name": "python3"
  },
  "language_info": {
   "codemirror_mode": {
    "name": "ipython",
    "version": 3
   },
   "file_extension": ".py",
   "mimetype": "text/x-python",
   "name": "python",
   "nbconvert_exporter": "python",
   "pygments_lexer": "ipython3",
   "version": "3.7.10"
  }
 },
 "nbformat": 4,
 "nbformat_minor": 5
}
