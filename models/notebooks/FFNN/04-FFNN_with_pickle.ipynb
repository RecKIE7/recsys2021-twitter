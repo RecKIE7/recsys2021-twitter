{
 "cells": [
  {
   "cell_type": "code",
   "execution_count": 1,
   "id": "1ad98848",
   "metadata": {},
   "outputs": [],
   "source": [
    "import os\n",
    "import sys\n",
    "sys.path.append('..')\n",
    "\n",
    "import numpy as np\n",
    "import matplotlib.pyplot as plt\n",
    "import pandas as pd\n",
    "import pickle\n",
    "import joblib\n",
    "from tqdm import tqdm\n",
    "from sklearn.model_selection import train_test_split\n",
    "import tensorflow as tf\n",
    "from tensorflow import feature_column as fc\n",
    "from tensorflow.keras.models import Sequential\n",
    "from tensorflow.keras.layers import Dense\n",
    "from sklearn import preprocessing\n",
    "from sklearn.utils import shuffle\n",
    "from tensorflow.keras.models import save_model,load_model\n",
    "\n",
    "from utils.util import *\n",
    "from utils.preprocessing import *\n",
    "from utils.dataiter import Dataiter\n",
    "from utils.evaluate import calculate_ctr, compute_rce, average_precision_score\n",
    "from utils.target_encode import MTE_one_shot\n",
    "\n",
    "import tensorflow.keras.backend as K\n",
    "import core.config as conf"
   ]
  },
  {
   "cell_type": "markdown",
   "id": "c3d171de",
   "metadata": {},
   "source": [
    "## Load Data"
   ]
  },
  {
   "cell_type": "code",
   "execution_count": 2,
   "id": "4f454fd4",
   "metadata": {},
   "outputs": [],
   "source": [
    "path = f'{conf.dataset_mini_path}/train'\n",
    "train = read_data(path)\n",
    "\n",
    "path = f'{conf.dataset_mini_path}/test'\n",
    "test = read_data(path)\n",
    "\n",
    "path = f'{conf.dataset_mini_path}/valid'\n",
    "valid = read_data(path)"
   ]
  },
  {
   "cell_type": "code",
   "execution_count": 3,
   "id": "81f3202f",
   "metadata": {},
   "outputs": [],
   "source": [
    "TARGET = 'like'"
   ]
  },
  {
   "cell_type": "markdown",
   "id": "ea98fae6",
   "metadata": {},
   "source": [
    "## Preprocessing"
   ]
  },
  {
   "cell_type": "code",
   "execution_count": 4,
   "id": "ca5e067f",
   "metadata": {},
   "outputs": [],
   "source": [
    "def set_dataframe_types(df, train):\n",
    "    df['id']   = np.arange( df.shape[0] )\n",
    "    df['id']   = df['id'].astype(np.uint32)\n",
    "\n",
    "    if train:\n",
    "        df['reply_timestamp']   = df['reply_timestamp'].fillna(0)\n",
    "        df['retweet_timestamp'] = df['retweet_timestamp'].fillna(0)\n",
    "        df['comment_timestamp'] = df['comment_timestamp'].fillna(0)\n",
    "        df['like_timestamp']    = df['like_timestamp'].fillna(0)\n",
    "\n",
    "        df['reply_timestamp']   = df['reply_timestamp'].astype(np.uint32)\n",
    "        df['retweet_timestamp'] = df['retweet_timestamp'].astype(np.uint32)\n",
    "        df['comment_timestamp'] = df['comment_timestamp'].astype(np.uint32)\n",
    "        df['like_timestamp']    = df['like_timestamp'].astype(np.uint32)\n",
    "\n",
    "    df['tweet_timestamp']         = df['tweet_timestamp'].astype( np.uint32 )\n",
    "    df['creator_follower_count']  = df['creator_follower_count'].astype( np.uint32 )\n",
    "    df['creator_following_count'] = df['creator_following_count'].astype( np.uint32 )\n",
    "    df['creator_account_creation']= df['creator_account_creation'].astype( np.uint32 )\n",
    "    df['engager_follower_count']  = df['engager_follower_count'].astype( np.uint32 )\n",
    "    df['engager_following_count'] = df['engager_following_count'].astype( np.uint32 )\n",
    "    df['engager_account_creation']= df['engager_account_creation'].astype( np.uint32 )\n",
    "\n",
    "    return df\n",
    "\n",
    "\n",
    "\n",
    "def preprocess(df, target, train):\n",
    "    df = set_dataframe_types(df, train)\n",
    "    # df = df.set_index('id')\n",
    "    # df.columns = conf.raw_features + conf.labels\n",
    "    df = df.drop('text_tokens', axis=1)\n",
    "    \n",
    "    df = feature_extraction(df, features=conf.used_features, train=train) # extract 'used_features'\n",
    "    cols = []\n",
    "\n",
    "    return df"
   ]
  },
  {
   "cell_type": "code",
   "execution_count": 5,
   "id": "1c437b86",
   "metadata": {},
   "outputs": [],
   "source": [
    "\n",
    "train = preprocess(train, TARGET, True)\n"
   ]
  },
  {
   "cell_type": "code",
   "execution_count": 6,
   "id": "5666d319",
   "metadata": {},
   "outputs": [],
   "source": [
    "valid = preprocess(valid, TARGET, True)"
   ]
  },
  {
   "cell_type": "code",
   "execution_count": 7,
   "id": "faee18ca",
   "metadata": {},
   "outputs": [],
   "source": [
    "test = preprocess(test, TARGET, True)"
   ]
  },
  {
   "cell_type": "code",
   "execution_count": 8,
   "id": "ec193027",
   "metadata": {},
   "outputs": [
    {
     "data": {
      "text/html": [
       "<div>\n",
       "<style scoped>\n",
       "    .dataframe tbody tr th:only-of-type {\n",
       "        vertical-align: middle;\n",
       "    }\n",
       "\n",
       "    .dataframe tbody tr th {\n",
       "        vertical-align: top;\n",
       "    }\n",
       "\n",
       "    .dataframe thead th {\n",
       "        text-align: right;\n",
       "    }\n",
       "</style>\n",
       "<table border=\"1\" class=\"dataframe\">\n",
       "  <thead>\n",
       "    <tr style=\"text-align: right;\">\n",
       "      <th></th>\n",
       "      <th>tweet_type</th>\n",
       "      <th>creator_following_count</th>\n",
       "      <th>creator_id</th>\n",
       "      <th>creator_is_verified</th>\n",
       "      <th>engager_follower_count</th>\n",
       "      <th>tweet_id</th>\n",
       "      <th>engager_following_count</th>\n",
       "      <th>engager_is_verified</th>\n",
       "      <th>language</th>\n",
       "      <th>creator_follower_count</th>\n",
       "      <th>...</th>\n",
       "      <th>domains</th>\n",
       "      <th>tweet_timestamp</th>\n",
       "      <th>reply</th>\n",
       "      <th>retweet</th>\n",
       "      <th>comment</th>\n",
       "      <th>like</th>\n",
       "      <th>dt_day</th>\n",
       "      <th>dt_dow</th>\n",
       "      <th>dt_hour</th>\n",
       "      <th>len_domains</th>\n",
       "    </tr>\n",
       "  </thead>\n",
       "  <tbody>\n",
       "    <tr>\n",
       "      <th>0</th>\n",
       "      <td>1</td>\n",
       "      <td>222</td>\n",
       "      <td>8BA045EC91DE8ACC72165F5661139CAA</td>\n",
       "      <td>0</td>\n",
       "      <td>508</td>\n",
       "      <td>E7AE334F8FB1FB935BCCC3A52636419C</td>\n",
       "      <td>698</td>\n",
       "      <td>0</td>\n",
       "      <td>E7F038DE3EAD397AEC9193686C911677</td>\n",
       "      <td>524</td>\n",
       "      <td>...</td>\n",
       "      <td>0</td>\n",
       "      <td>1612622726</td>\n",
       "      <td>0.0</td>\n",
       "      <td>0.0</td>\n",
       "      <td>0.0</td>\n",
       "      <td>1.0</td>\n",
       "      <td>6</td>\n",
       "      <td>5</td>\n",
       "      <td>14</td>\n",
       "      <td>0</td>\n",
       "    </tr>\n",
       "    <tr>\n",
       "      <th>1</th>\n",
       "      <td>2</td>\n",
       "      <td>111</td>\n",
       "      <td>50B492B0B2BAE3559F80172D0D95A817</td>\n",
       "      <td>0</td>\n",
       "      <td>60</td>\n",
       "      <td>CC75432178C0902CBF96B8751856D8E5</td>\n",
       "      <td>120</td>\n",
       "      <td>0</td>\n",
       "      <td>8729EBF694C3DAF61208A209C2A542C8</td>\n",
       "      <td>75</td>\n",
       "      <td>...</td>\n",
       "      <td>0</td>\n",
       "      <td>1613150808</td>\n",
       "      <td>0.0</td>\n",
       "      <td>0.0</td>\n",
       "      <td>0.0</td>\n",
       "      <td>0.0</td>\n",
       "      <td>12</td>\n",
       "      <td>4</td>\n",
       "      <td>17</td>\n",
       "      <td>0</td>\n",
       "    </tr>\n",
       "    <tr>\n",
       "      <th>2</th>\n",
       "      <td>2</td>\n",
       "      <td>484</td>\n",
       "      <td>BDA025A58F06EECB5CB48AAD476A2B69</td>\n",
       "      <td>0</td>\n",
       "      <td>125</td>\n",
       "      <td>61C9DD9B29573CACBEDF69638F807B3D</td>\n",
       "      <td>280</td>\n",
       "      <td>0</td>\n",
       "      <td>488B32D24BD4BB44172EB981C1BCA6FA</td>\n",
       "      <td>983</td>\n",
       "      <td>...</td>\n",
       "      <td>0</td>\n",
       "      <td>1613135858</td>\n",
       "      <td>0.0</td>\n",
       "      <td>0.0</td>\n",
       "      <td>0.0</td>\n",
       "      <td>1.0</td>\n",
       "      <td>12</td>\n",
       "      <td>4</td>\n",
       "      <td>13</td>\n",
       "      <td>0</td>\n",
       "    </tr>\n",
       "    <tr>\n",
       "      <th>3</th>\n",
       "      <td>1</td>\n",
       "      <td>299</td>\n",
       "      <td>3DB2C8C5DA1F0F9E40712524932C95C5</td>\n",
       "      <td>0</td>\n",
       "      <td>17</td>\n",
       "      <td>D0E35D4B8325AF28CAF6822DBB1A02DA</td>\n",
       "      <td>374</td>\n",
       "      <td>0</td>\n",
       "      <td>E6936751CBF4F921F7DE1AEF33A16ED0</td>\n",
       "      <td>1002</td>\n",
       "      <td>...</td>\n",
       "      <td>0</td>\n",
       "      <td>1613076979</td>\n",
       "      <td>0.0</td>\n",
       "      <td>0.0</td>\n",
       "      <td>0.0</td>\n",
       "      <td>1.0</td>\n",
       "      <td>11</td>\n",
       "      <td>3</td>\n",
       "      <td>20</td>\n",
       "      <td>0</td>\n",
       "    </tr>\n",
       "    <tr>\n",
       "      <th>4</th>\n",
       "      <td>0</td>\n",
       "      <td>504</td>\n",
       "      <td>39A62D9629B5890B007ABE943CBAB593</td>\n",
       "      <td>0</td>\n",
       "      <td>311</td>\n",
       "      <td>AF5F24C671A0ABF84E1E5A8224C83889</td>\n",
       "      <td>115</td>\n",
       "      <td>0</td>\n",
       "      <td>313ECD3A1E5BB07406E4249475C2D6D6</td>\n",
       "      <td>580</td>\n",
       "      <td>...</td>\n",
       "      <td>0</td>\n",
       "      <td>1612734793</td>\n",
       "      <td>0.0</td>\n",
       "      <td>0.0</td>\n",
       "      <td>0.0</td>\n",
       "      <td>0.0</td>\n",
       "      <td>7</td>\n",
       "      <td>6</td>\n",
       "      <td>21</td>\n",
       "      <td>0</td>\n",
       "    </tr>\n",
       "    <tr>\n",
       "      <th>...</th>\n",
       "      <td>...</td>\n",
       "      <td>...</td>\n",
       "      <td>...</td>\n",
       "      <td>...</td>\n",
       "      <td>...</td>\n",
       "      <td>...</td>\n",
       "      <td>...</td>\n",
       "      <td>...</td>\n",
       "      <td>...</td>\n",
       "      <td>...</td>\n",
       "      <td>...</td>\n",
       "      <td>...</td>\n",
       "      <td>...</td>\n",
       "      <td>...</td>\n",
       "      <td>...</td>\n",
       "      <td>...</td>\n",
       "      <td>...</td>\n",
       "      <td>...</td>\n",
       "      <td>...</td>\n",
       "      <td>...</td>\n",
       "      <td>...</td>\n",
       "    </tr>\n",
       "    <tr>\n",
       "      <th>4335997</th>\n",
       "      <td>0</td>\n",
       "      <td>916</td>\n",
       "      <td>8BA7E5B6F42893CE6142486058878F75</td>\n",
       "      <td>0</td>\n",
       "      <td>150</td>\n",
       "      <td>DCBFF35C152603753CD22DA6E7558C15</td>\n",
       "      <td>263</td>\n",
       "      <td>0</td>\n",
       "      <td>488B32D24BD4BB44172EB981C1BCA6FA</td>\n",
       "      <td>177724</td>\n",
       "      <td>...</td>\n",
       "      <td>0</td>\n",
       "      <td>1613597136</td>\n",
       "      <td>0.0</td>\n",
       "      <td>0.0</td>\n",
       "      <td>0.0</td>\n",
       "      <td>0.0</td>\n",
       "      <td>17</td>\n",
       "      <td>2</td>\n",
       "      <td>21</td>\n",
       "      <td>0</td>\n",
       "    </tr>\n",
       "    <tr>\n",
       "      <th>4335998</th>\n",
       "      <td>2</td>\n",
       "      <td>329</td>\n",
       "      <td>F463340984DAF9238B8FB259D856E6B6</td>\n",
       "      <td>1</td>\n",
       "      <td>61</td>\n",
       "      <td>9EBC2FE324065D698C1647C91DE03BD1</td>\n",
       "      <td>556</td>\n",
       "      <td>0</td>\n",
       "      <td>B8B04128918BBF54E2E178BFF1ABA833</td>\n",
       "      <td>6995156</td>\n",
       "      <td>...</td>\n",
       "      <td>3</td>\n",
       "      <td>1613012400</td>\n",
       "      <td>0.0</td>\n",
       "      <td>0.0</td>\n",
       "      <td>0.0</td>\n",
       "      <td>1.0</td>\n",
       "      <td>11</td>\n",
       "      <td>3</td>\n",
       "      <td>3</td>\n",
       "      <td>1</td>\n",
       "    </tr>\n",
       "    <tr>\n",
       "      <th>4335999</th>\n",
       "      <td>0</td>\n",
       "      <td>129</td>\n",
       "      <td>177E91F3C0B8701717EEC1FA1D642835</td>\n",
       "      <td>0</td>\n",
       "      <td>61</td>\n",
       "      <td>5F3BB434D10ECA6B2B3E07595FB88221</td>\n",
       "      <td>211</td>\n",
       "      <td>0</td>\n",
       "      <td>5A0759FB938B1D9B1E08B7A3A14F1042</td>\n",
       "      <td>135</td>\n",
       "      <td>...</td>\n",
       "      <td>0</td>\n",
       "      <td>1613067894</td>\n",
       "      <td>0.0</td>\n",
       "      <td>0.0</td>\n",
       "      <td>0.0</td>\n",
       "      <td>1.0</td>\n",
       "      <td>11</td>\n",
       "      <td>3</td>\n",
       "      <td>18</td>\n",
       "      <td>0</td>\n",
       "    </tr>\n",
       "    <tr>\n",
       "      <th>4336000</th>\n",
       "      <td>2</td>\n",
       "      <td>2812</td>\n",
       "      <td>F26F82CA608F3799A4F8006C5D70B150</td>\n",
       "      <td>0</td>\n",
       "      <td>331</td>\n",
       "      <td>A71E0B6FE6811F548830B7062DC2EC4E</td>\n",
       "      <td>454</td>\n",
       "      <td>0</td>\n",
       "      <td>5B6973BEB05212E396F3F2DC6A31B71C</td>\n",
       "      <td>2724</td>\n",
       "      <td>...</td>\n",
       "      <td>0</td>\n",
       "      <td>1612590342</td>\n",
       "      <td>0.0</td>\n",
       "      <td>0.0</td>\n",
       "      <td>0.0</td>\n",
       "      <td>0.0</td>\n",
       "      <td>6</td>\n",
       "      <td>5</td>\n",
       "      <td>5</td>\n",
       "      <td>0</td>\n",
       "    </tr>\n",
       "    <tr>\n",
       "      <th>4336001</th>\n",
       "      <td>2</td>\n",
       "      <td>272</td>\n",
       "      <td>1E56ABFE560AFA83BD4C8206A21C39D4</td>\n",
       "      <td>0</td>\n",
       "      <td>138</td>\n",
       "      <td>09D60DD641236E0E7E6A0CF0EEDAE835</td>\n",
       "      <td>135</td>\n",
       "      <td>0</td>\n",
       "      <td>B8B04128918BBF54E2E178BFF1ABA833</td>\n",
       "      <td>981</td>\n",
       "      <td>...</td>\n",
       "      <td>0</td>\n",
       "      <td>1612547145</td>\n",
       "      <td>0.0</td>\n",
       "      <td>1.0</td>\n",
       "      <td>0.0</td>\n",
       "      <td>0.0</td>\n",
       "      <td>5</td>\n",
       "      <td>4</td>\n",
       "      <td>17</td>\n",
       "      <td>0</td>\n",
       "    </tr>\n",
       "  </tbody>\n",
       "</table>\n",
       "<p>4336002 rows × 25 columns</p>\n",
       "</div>"
      ],
      "text/plain": [
       "         tweet_type  creator_following_count  \\\n",
       "0                 1                      222   \n",
       "1                 2                      111   \n",
       "2                 2                      484   \n",
       "3                 1                      299   \n",
       "4                 0                      504   \n",
       "...             ...                      ...   \n",
       "4335997           0                      916   \n",
       "4335998           2                      329   \n",
       "4335999           0                      129   \n",
       "4336000           2                     2812   \n",
       "4336001           2                      272   \n",
       "\n",
       "                               creator_id  creator_is_verified  \\\n",
       "0        8BA045EC91DE8ACC72165F5661139CAA                    0   \n",
       "1        50B492B0B2BAE3559F80172D0D95A817                    0   \n",
       "2        BDA025A58F06EECB5CB48AAD476A2B69                    0   \n",
       "3        3DB2C8C5DA1F0F9E40712524932C95C5                    0   \n",
       "4        39A62D9629B5890B007ABE943CBAB593                    0   \n",
       "...                                   ...                  ...   \n",
       "4335997  8BA7E5B6F42893CE6142486058878F75                    0   \n",
       "4335998  F463340984DAF9238B8FB259D856E6B6                    1   \n",
       "4335999  177E91F3C0B8701717EEC1FA1D642835                    0   \n",
       "4336000  F26F82CA608F3799A4F8006C5D70B150                    0   \n",
       "4336001  1E56ABFE560AFA83BD4C8206A21C39D4                    0   \n",
       "\n",
       "         engager_follower_count                          tweet_id  \\\n",
       "0                           508  E7AE334F8FB1FB935BCCC3A52636419C   \n",
       "1                            60  CC75432178C0902CBF96B8751856D8E5   \n",
       "2                           125  61C9DD9B29573CACBEDF69638F807B3D   \n",
       "3                            17  D0E35D4B8325AF28CAF6822DBB1A02DA   \n",
       "4                           311  AF5F24C671A0ABF84E1E5A8224C83889   \n",
       "...                         ...                               ...   \n",
       "4335997                     150  DCBFF35C152603753CD22DA6E7558C15   \n",
       "4335998                      61  9EBC2FE324065D698C1647C91DE03BD1   \n",
       "4335999                      61  5F3BB434D10ECA6B2B3E07595FB88221   \n",
       "4336000                     331  A71E0B6FE6811F548830B7062DC2EC4E   \n",
       "4336001                     138  09D60DD641236E0E7E6A0CF0EEDAE835   \n",
       "\n",
       "         engager_following_count  engager_is_verified  \\\n",
       "0                            698                    0   \n",
       "1                            120                    0   \n",
       "2                            280                    0   \n",
       "3                            374                    0   \n",
       "4                            115                    0   \n",
       "...                          ...                  ...   \n",
       "4335997                      263                    0   \n",
       "4335998                      556                    0   \n",
       "4335999                      211                    0   \n",
       "4336000                      454                    0   \n",
       "4336001                      135                    0   \n",
       "\n",
       "                                 language  creator_follower_count  ...  \\\n",
       "0        E7F038DE3EAD397AEC9193686C911677                     524  ...   \n",
       "1        8729EBF694C3DAF61208A209C2A542C8                      75  ...   \n",
       "2        488B32D24BD4BB44172EB981C1BCA6FA                     983  ...   \n",
       "3        E6936751CBF4F921F7DE1AEF33A16ED0                    1002  ...   \n",
       "4        313ECD3A1E5BB07406E4249475C2D6D6                     580  ...   \n",
       "...                                   ...                     ...  ...   \n",
       "4335997  488B32D24BD4BB44172EB981C1BCA6FA                  177724  ...   \n",
       "4335998  B8B04128918BBF54E2E178BFF1ABA833                 6995156  ...   \n",
       "4335999  5A0759FB938B1D9B1E08B7A3A14F1042                     135  ...   \n",
       "4336000  5B6973BEB05212E396F3F2DC6A31B71C                    2724  ...   \n",
       "4336001  B8B04128918BBF54E2E178BFF1ABA833                     981  ...   \n",
       "\n",
       "         domains  tweet_timestamp  reply  retweet comment  like  dt_day  \\\n",
       "0              0       1612622726    0.0      0.0     0.0   1.0       6   \n",
       "1              0       1613150808    0.0      0.0     0.0   0.0      12   \n",
       "2              0       1613135858    0.0      0.0     0.0   1.0      12   \n",
       "3              0       1613076979    0.0      0.0     0.0   1.0      11   \n",
       "4              0       1612734793    0.0      0.0     0.0   0.0       7   \n",
       "...          ...              ...    ...      ...     ...   ...     ...   \n",
       "4335997        0       1613597136    0.0      0.0     0.0   0.0      17   \n",
       "4335998        3       1613012400    0.0      0.0     0.0   1.0      11   \n",
       "4335999        0       1613067894    0.0      0.0     0.0   1.0      11   \n",
       "4336000        0       1612590342    0.0      0.0     0.0   0.0       6   \n",
       "4336001        0       1612547145    0.0      1.0     0.0   0.0       5   \n",
       "\n",
       "         dt_dow  dt_hour  len_domains  \n",
       "0             5       14            0  \n",
       "1             4       17            0  \n",
       "2             4       13            0  \n",
       "3             3       20            0  \n",
       "4             6       21            0  \n",
       "...         ...      ...          ...  \n",
       "4335997       2       21            0  \n",
       "4335998       3        3            1  \n",
       "4335999       3       18            0  \n",
       "4336000       5        5            0  \n",
       "4336001       4       17            0  \n",
       "\n",
       "[4336002 rows x 25 columns]"
      ]
     },
     "execution_count": 8,
     "metadata": {},
     "output_type": "execute_result"
    }
   ],
   "source": [
    "train"
   ]
  },
  {
   "cell_type": "markdown",
   "id": "a8b56733",
   "metadata": {},
   "source": [
    "### pickle matching"
   ]
  },
  {
   "cell_type": "markdown",
   "id": "9bb1587e",
   "metadata": {},
   "source": [
    "#### language"
   ]
  },
  {
   "cell_type": "code",
   "execution_count": 9,
   "id": "fa6fe4bc",
   "metadata": {},
   "outputs": [],
   "source": [
    "pickle_path = conf.pickle_data"
   ]
  },
  {
   "cell_type": "code",
   "execution_count": 10,
   "id": "c662927c",
   "metadata": {},
   "outputs": [],
   "source": [
    "user_main_language_path = pickle_path + \"user_main_language.pkl\"\n",
    "\n",
    "if os.path.exists(user_main_language_path) :\n",
    "    with open(user_main_language_path, 'rb') as f :\n",
    "        user_main_language = pickle.load(f)"
   ]
  },
  {
   "cell_type": "code",
   "execution_count": 11,
   "id": "0a24aca5",
   "metadata": {},
   "outputs": [],
   "source": [
    "language_dict_path = pickle_path + \"language_dict.pkl\"\n",
    "\n",
    "if os.path.exists(language_dict_path ) :\n",
    "    with open(language_dict_path , 'rb') as f :\n",
    "        language_dict = pickle.load(f)"
   ]
  },
  {
   "cell_type": "code",
   "execution_count": 12,
   "id": "c3a5de04",
   "metadata": {},
   "outputs": [],
   "source": [
    "train['language'] = train.apply(lambda x : language_dict[x['language']], axis = 1)\n",
    "test['language'] = test.apply(lambda x : language_dict[x['language']], axis = 1)\n",
    "valid['language'] = valid.apply(lambda x : language_dict[x['language']], axis = 1)"
   ]
  },
  {
   "cell_type": "code",
   "execution_count": 13,
   "id": "1f7371f4",
   "metadata": {},
   "outputs": [],
   "source": [
    "del language_dict"
   ]
  },
  {
   "cell_type": "code",
   "execution_count": 14,
   "id": "a4fe6e06",
   "metadata": {},
   "outputs": [],
   "source": [
    "train['creator_main_language'] = train['creator_id'].map(user_main_language)\n",
    "valid['creator_main_language'] = valid['creator_id'].map(user_main_language)\n",
    "test['creator_main_language'] = test['creator_id'].map(user_main_language)"
   ]
  },
  {
   "cell_type": "code",
   "execution_count": 15,
   "id": "d05a5326",
   "metadata": {},
   "outputs": [],
   "source": [
    "train['engager_main_language'] = train['engager_id'].map(user_main_language)\n",
    "valid['engager_main_language'] = valid['engager_id'].map(user_main_language)\n",
    "test['engager_main_language'] = test['engager_id'].map(user_main_language)"
   ]
  },
  {
   "cell_type": "code",
   "execution_count": 16,
   "id": "853f493e",
   "metadata": {},
   "outputs": [],
   "source": [
    "train['creator_and_engager_have_same_main_language'] = train.apply(lambda x : 1 if x['creator_main_language'] == x['engager_main_language'] else 0, axis = 1)\n",
    "valid['creator_and_engager_have_same_main_language'] = valid.apply(lambda x : 1 if x['creator_main_language'] == x['engager_main_language'] else 0, axis = 1)\n",
    "test['creator_and_engager_have_same_main_language'] = test.apply(lambda x : 1 if x['creator_main_language'] == x['engager_main_language'] else 0, axis = 1)"
   ]
  },
  {
   "cell_type": "code",
   "execution_count": 17,
   "id": "512fcf6b",
   "metadata": {},
   "outputs": [],
   "source": [
    "train['is_tweet_in_creator_main_language'] = train.apply(lambda x : 1 if x['creator_main_language'] == x['language'] else 0, axis = 1)\n",
    "valid['is_tweet_in_creator_main_language'] = valid.apply(lambda x : 1 if x['creator_main_language'] == x['language'] else 0, axis = 1)\n",
    "test['is_tweet_in_creator_main_language'] = test.apply(lambda x : 1 if x['creator_main_language'] == x['language'] else 0, axis = 1)"
   ]
  },
  {
   "cell_type": "code",
   "execution_count": 18,
   "id": "e198e706",
   "metadata": {},
   "outputs": [],
   "source": [
    "train['is_tweet_in_engager_main_language'] = train.apply(lambda x : 1 if x['engager_main_language'] == x['language'] else 0, axis = 1)\n",
    "valid['is_tweet_in_engager_main_language'] = valid.apply(lambda x : 1 if x['engager_main_language'] == x['language'] else 0, axis = 1)\n",
    "test['is_tweet_in_engager_main_language'] = test.apply(lambda x : 1 if x['engager_main_language'] == x['language'] else 0, axis = 1)"
   ]
  },
  {
   "cell_type": "code",
   "execution_count": 19,
   "id": "956ee916",
   "metadata": {},
   "outputs": [],
   "source": [
    "del user_main_language"
   ]
  },
  {
   "cell_type": "markdown",
   "id": "ed1d1017",
   "metadata": {},
   "source": []
  },
  {
   "cell_type": "markdown",
   "id": "2a935eee",
   "metadata": {},
   "source": [
    "#### engagements"
   ]
  },
  {
   "cell_type": "code",
   "execution_count": 20,
   "id": "13f67b51",
   "metadata": {},
   "outputs": [],
   "source": [
    "engagement_like_path = pickle_path + \"engagement-like.pkl\"\n",
    "\n",
    "if os.path.exists(engagement_like_path ) :\n",
    "    with open(engagement_like_path , 'rb') as f :\n",
    "        engagement_like = pickle.load(f)"
   ]
  },
  {
   "cell_type": "code",
   "execution_count": 21,
   "id": "2cf3d141",
   "metadata": {},
   "outputs": [],
   "source": [
    "train['engager_feature_number_of_previous_like_engagement'] = train.apply(lambda x : engagement_like[x['engager_id']], axis = 1)\n",
    "valid['engager_feature_number_of_previous_like_engagement'] = valid.apply(lambda x : engagement_like[x['engager_id']], axis = 1)\n",
    "test['engager_feature_number_of_previous_like_engagement'] = test.apply(lambda x : engagement_like[x['engager_id']], axis = 1)\n",
    "del engagement_like"
   ]
  },
  {
   "cell_type": "code",
   "execution_count": 22,
   "id": "607fc718",
   "metadata": {},
   "outputs": [],
   "source": [
    "engagement_reply_path = pickle_path + \"engagement-reply.pkl\"\n",
    "\n",
    "if os.path.exists(engagement_reply_path ) :\n",
    "    with open(engagement_reply_path , 'rb') as f :\n",
    "        engagement_reply = pickle.load(f)"
   ]
  },
  {
   "cell_type": "code",
   "execution_count": 23,
   "id": "97f54f18",
   "metadata": {},
   "outputs": [],
   "source": [
    "train['engager_feature_number_of_previous_reply_engagement'] = train.apply(lambda x : engagement_reply[x['engager_id']], axis = 1)\n",
    "valid['engager_feature_number_of_previous_reply_engagement'] = valid.apply(lambda x : engagement_reply[x['engager_id']], axis = 1)\n",
    "test['engager_feature_number_of_previous_reply_engagement'] = test.apply(lambda x : engagement_reply[x['engager_id']], axis = 1)\n",
    "del engagement_reply"
   ]
  },
  {
   "cell_type": "code",
   "execution_count": 24,
   "id": "c8334b47",
   "metadata": {},
   "outputs": [],
   "source": [
    "engagement_retweet_path = pickle_path + \"engagement-retweet.pkl\"\n",
    "\n",
    "if os.path.exists(engagement_retweet_path ) :\n",
    "    with open(engagement_retweet_path , 'rb') as f :\n",
    "        engagement_retweet = pickle.load(f)"
   ]
  },
  {
   "cell_type": "code",
   "execution_count": 25,
   "id": "f23be26b",
   "metadata": {},
   "outputs": [],
   "source": [
    "train['engager_feature_number_of_previous_retweet_engagement'] = train.apply(lambda x : engagement_retweet[x['engager_id']], axis = 1)\n",
    "valid['engager_feature_number_of_previous_retweet_engagement'] = valid.apply(lambda x : engagement_retweet[x['engager_id']], axis = 1)\n",
    "test['engager_feature_number_of_previous_retweet_engagement'] = test.apply(lambda x : engagement_retweet[x['engager_id']], axis = 1)\n",
    "del engagement_retweet"
   ]
  },
  {
   "cell_type": "code",
   "execution_count": 26,
   "id": "1226d884",
   "metadata": {},
   "outputs": [],
   "source": [
    "engagement_comment_path = pickle_path + \"engagement-comment.pkl\"\n",
    "\n",
    "if os.path.exists(engagement_comment_path ) :\n",
    "    with open(engagement_comment_path , 'rb') as f :\n",
    "        engagement_comment = pickle.load(f)"
   ]
  },
  {
   "cell_type": "code",
   "execution_count": 27,
   "id": "8939b924",
   "metadata": {},
   "outputs": [],
   "source": [
    "train['engager_feature_number_of_previous_comment_engagement'] = train.apply(lambda x : engagement_comment[x['engager_id']], axis = 1)\n",
    "valid['engager_feature_number_of_previous_comment_engagement'] = valid.apply(lambda x : engagement_comment[x['engager_id']], axis = 1)\n",
    "test['engager_feature_number_of_previous_comment_engagement'] = test.apply(lambda x : engagement_comment[x['engager_id']], axis = 1)\n",
    "del engagement_comment"
   ]
  },
  {
   "cell_type": "code",
   "execution_count": 28,
   "id": "bcec0011",
   "metadata": {},
   "outputs": [],
   "source": [
    "train['number_of_engagements_positive'] = train.apply(lambda x : x['engager_feature_number_of_previous_like_engagement'] + x['engager_feature_number_of_previous_retweet_engagement'] + x['engager_feature_number_of_previous_reply_engagement'] + x['engager_feature_number_of_previous_comment_engagement'], axis = 1)\n",
    "valid['number_of_engagements_positive'] = valid.apply(lambda x : x['engager_feature_number_of_previous_like_engagement'] + x['engager_feature_number_of_previous_retweet_engagement'] + x['engager_feature_number_of_previous_reply_engagement'] + x['engager_feature_number_of_previous_comment_engagement'], axis = 1)\n",
    "test['number_of_engagements_positive'] = test.apply(lambda x : x['engager_feature_number_of_previous_like_engagement'] + x['engager_feature_number_of_previous_retweet_engagement'] + x['engager_feature_number_of_previous_reply_engagement'] + x['engager_feature_number_of_previous_comment_engagement'], axis = 1)"
   ]
  },
  {
   "cell_type": "code",
   "execution_count": 29,
   "id": "8facf1f0",
   "metadata": {},
   "outputs": [],
   "source": [
    "train = train.drop('engager_feature_number_of_previous_reply_engagement', axis = 1)\n",
    "train = train.drop('engager_feature_number_of_previous_retweet_engagement', axis = 1)\n",
    "train = train.drop('engager_feature_number_of_previous_comment_engagement', axis = 1)"
   ]
  },
  {
   "cell_type": "code",
   "execution_count": 30,
   "id": "80ec6f20",
   "metadata": {},
   "outputs": [],
   "source": [
    "valid = valid.drop('engager_feature_number_of_previous_reply_engagement', axis = 1)\n",
    "valid = valid.drop('engager_feature_number_of_previous_retweet_engagement', axis = 1)\n",
    "valid = valid.drop('engager_feature_number_of_previous_comment_engagement', axis = 1)"
   ]
  },
  {
   "cell_type": "code",
   "execution_count": 31,
   "id": "3aa83e1b",
   "metadata": {},
   "outputs": [],
   "source": [
    "test = test.drop('engager_feature_number_of_previous_reply_engagement', axis = 1)\n",
    "test = test.drop('engager_feature_number_of_previous_retweet_engagement', axis = 1)\n",
    "test = test.drop('engager_feature_number_of_previous_comment_engagement', axis = 1)"
   ]
  },
  {
   "cell_type": "code",
   "execution_count": 32,
   "id": "62f40b81",
   "metadata": {},
   "outputs": [],
   "source": [
    "train['number_of_engagements_ratio_like'] = train.apply(lambda x : x['engager_feature_number_of_previous_like_engagement'] / x['number_of_engagements_positive'] if x['number_of_engagements_positive'] != 0 else 0, axis = 1)\n",
    "valid['number_of_engagements_ratio_like'] = valid.apply(lambda x : x['engager_feature_number_of_previous_like_engagement'] / x['number_of_engagements_positive'] if x['number_of_engagements_positive'] != 0 else 0, axis = 1)\n",
    "test['number_of_engagements_ratio_like'] = test.apply(lambda x : x['engager_feature_number_of_previous_like_engagement'] / x['number_of_engagements_positive'] if x['number_of_engagements_positive'] != 0 else 0, axis = 1)"
   ]
  },
  {
   "cell_type": "code",
   "execution_count": null,
   "id": "56416eb0",
   "metadata": {},
   "outputs": [],
   "source": []
  },
  {
   "cell_type": "markdown",
   "id": "c9714cd9",
   "metadata": {},
   "source": [
    "## Sampling"
   ]
  },
  {
   "cell_type": "code",
   "execution_count": 33,
   "id": "a1b6be64",
   "metadata": {},
   "outputs": [
    {
     "name": "stdout",
     "output_type": "stream",
     "text": [
      "1724988\n",
      "2611014\n"
     ]
    }
   ],
   "source": [
    "df_positive = train[train['like']==1]\n",
    "df_negative = train[train['like']==0]\n",
    "print(len(df_positive))\n",
    "print(len(df_negative))"
   ]
  },
  {
   "cell_type": "code",
   "execution_count": 34,
   "id": "ad428a10",
   "metadata": {},
   "outputs": [],
   "source": [
    "df_negative = df_negative.sample(n = len(df_positive), random_state=777)"
   ]
  },
  {
   "cell_type": "code",
   "execution_count": 35,
   "id": "1b0a6241",
   "metadata": {},
   "outputs": [],
   "source": [
    "train = pd.concat([df_positive, df_negative])"
   ]
  },
  {
   "cell_type": "code",
   "execution_count": 36,
   "id": "60fcf0e9",
   "metadata": {},
   "outputs": [],
   "source": [
    "train  = train.sample(frac = 1)"
   ]
  },
  {
   "cell_type": "code",
   "execution_count": 37,
   "id": "6284cc1b",
   "metadata": {},
   "outputs": [],
   "source": [
    "del df_positive\n",
    "del df_negative"
   ]
  },
  {
   "cell_type": "code",
   "execution_count": null,
   "id": "ff04af08",
   "metadata": {},
   "outputs": [],
   "source": []
  },
  {
   "cell_type": "markdown",
   "id": "2c864683",
   "metadata": {},
   "source": [
    "## Split"
   ]
  },
  {
   "cell_type": "code",
   "execution_count": 38,
   "id": "3c7ebb57",
   "metadata": {},
   "outputs": [],
   "source": [
    "label_names = ['reply', 'retweet', 'comment', 'like']\n",
    "DONT_USE = ['tweet_timestamp','creator_account_creation','engager_account_creation','engage_time',\n",
    "            'creator_account_creation', 'engager_account_creation',\n",
    "            'fold','tweet_id', \n",
    "            'tr','dt_day','','',\n",
    "            'engager_id','creator_id','engager_is_verified',\n",
    "            'elapsed_time',\n",
    "            'links','domains','hashtags0','hashtags1',\n",
    "            'hashtags','tweet_hash','dt_second','id',\n",
    "            'tw_hash0',\n",
    "            'tw_hash1',\n",
    "            'tw_rt_uhash',\n",
    "            'same_language', 'nan_language','language',\n",
    "            'tw_hash', 'tw_freq_hash','tw_first_word', 'tw_second_word', 'tw_last_word', 'tw_llast_word',\n",
    "            'ypred','creator_count_combined','creator_user_fer_count_delta_time','creator_user_fing_count_delta_time','creator_user_fering_count_delta_time','creator_user_fing_count_mode','creator_user_fer_count_mode','creator_user_fering_count_mode'\n",
    "           ]\n",
    "DONT_USE += label_names\n",
    "DONT_USE += conf.labels"
   ]
  },
  {
   "cell_type": "code",
   "execution_count": 39,
   "id": "44e7bd73",
   "metadata": {},
   "outputs": [],
   "source": [
    "RMV = [c for c in DONT_USE if c in train.columns]"
   ]
  },
  {
   "cell_type": "code",
   "execution_count": 40,
   "id": "146032fb",
   "metadata": {},
   "outputs": [],
   "source": [
    "y_train = train[TARGET]\n",
    "X_train = train.drop(RMV, axis=1)"
   ]
  },
  {
   "cell_type": "code",
   "execution_count": 41,
   "id": "8011e438",
   "metadata": {},
   "outputs": [],
   "source": [
    "del train"
   ]
  },
  {
   "cell_type": "code",
   "execution_count": 42,
   "id": "7dbe783f",
   "metadata": {},
   "outputs": [],
   "source": [
    "y_valid = valid[TARGET]\n",
    "X_valid = valid.drop(RMV, axis=1)\n",
    "del valid"
   ]
  },
  {
   "cell_type": "code",
   "execution_count": 43,
   "id": "613dbff2",
   "metadata": {},
   "outputs": [],
   "source": [
    "y_test = test[TARGET]\n",
    "X_test = test.drop(RMV, axis=1)\n",
    "del test"
   ]
  },
  {
   "cell_type": "markdown",
   "id": "cdd5cb4e",
   "metadata": {},
   "source": [
    "## Scaling"
   ]
  },
  {
   "cell_type": "code",
   "execution_count": 44,
   "id": "937fbdf4",
   "metadata": {},
   "outputs": [],
   "source": [
    "X_train = X_train.reset_index(drop=True)\n",
    "X_test = X_test.reset_index(drop=True)\n",
    "X_val = X_valid.reset_index(drop=True)"
   ]
  },
  {
   "cell_type": "code",
   "execution_count": 45,
   "id": "4eea05af",
   "metadata": {},
   "outputs": [],
   "source": [
    "scaling_columns = ['creator_following_count', 'creator_follower_count', 'engager_follower_count', 'engager_following_count']"
   ]
  },
  {
   "cell_type": "code",
   "execution_count": 46,
   "id": "14760859",
   "metadata": {},
   "outputs": [
    {
     "data": {
      "text/plain": [
       "StandardScaler()"
      ]
     },
     "execution_count": 46,
     "metadata": {},
     "output_type": "execute_result"
    }
   ],
   "source": [
    "standard_scaler = preprocessing.StandardScaler()\n",
    "standard_scaler.fit(X_train[scaling_columns])"
   ]
  },
  {
   "cell_type": "code",
   "execution_count": 47,
   "id": "a2013878",
   "metadata": {},
   "outputs": [],
   "source": [
    "ss = standard_scaler.transform(X_train[scaling_columns])\n",
    "X_train[scaling_columns] = pd.DataFrame(ss, columns = scaling_columns)"
   ]
  },
  {
   "cell_type": "code",
   "execution_count": 48,
   "id": "a34323b5",
   "metadata": {},
   "outputs": [],
   "source": [
    "ss = standard_scaler.transform(X_valid[scaling_columns])\n",
    "X_valid[scaling_columns] = pd.DataFrame(ss, columns = scaling_columns)"
   ]
  },
  {
   "cell_type": "code",
   "execution_count": 49,
   "id": "96ca93df",
   "metadata": {},
   "outputs": [],
   "source": [
    "ss = standard_scaler.transform(X_test[scaling_columns])\n",
    "X_test[scaling_columns] = pd.DataFrame(ss, columns = scaling_columns)"
   ]
  },
  {
   "cell_type": "code",
   "execution_count": 50,
   "id": "abf59b53",
   "metadata": {},
   "outputs": [],
   "source": [
    "X_train = X_train.fillna(X_train.mean())\n",
    "X_valid = X_valid.fillna(X_valid.mean())\n",
    "X_test = X_test.fillna(X_test.mean())"
   ]
  },
  {
   "cell_type": "code",
   "execution_count": 51,
   "id": "0692aa4b",
   "metadata": {},
   "outputs": [
    {
     "data": {
      "text/html": [
       "<div>\n",
       "<style scoped>\n",
       "    .dataframe tbody tr th:only-of-type {\n",
       "        vertical-align: middle;\n",
       "    }\n",
       "\n",
       "    .dataframe tbody tr th {\n",
       "        vertical-align: top;\n",
       "    }\n",
       "\n",
       "    .dataframe thead th {\n",
       "        text-align: right;\n",
       "    }\n",
       "</style>\n",
       "<table border=\"1\" class=\"dataframe\">\n",
       "  <thead>\n",
       "    <tr style=\"text-align: right;\">\n",
       "      <th></th>\n",
       "      <th>tweet_type</th>\n",
       "      <th>creator_following_count</th>\n",
       "      <th>creator_is_verified</th>\n",
       "      <th>engager_follower_count</th>\n",
       "      <th>engager_following_count</th>\n",
       "      <th>creator_follower_count</th>\n",
       "      <th>creator_follows_engager</th>\n",
       "      <th>media</th>\n",
       "      <th>dt_dow</th>\n",
       "      <th>dt_hour</th>\n",
       "      <th>len_domains</th>\n",
       "      <th>creator_main_language</th>\n",
       "      <th>engager_main_language</th>\n",
       "      <th>creator_and_engager_have_same_main_language</th>\n",
       "      <th>is_tweet_in_creator_main_language</th>\n",
       "      <th>is_tweet_in_engager_main_language</th>\n",
       "      <th>engager_feature_number_of_previous_like_engagement</th>\n",
       "      <th>number_of_engagements_positive</th>\n",
       "      <th>number_of_engagements_ratio_like</th>\n",
       "    </tr>\n",
       "  </thead>\n",
       "  <tbody>\n",
       "    <tr>\n",
       "      <th>0</th>\n",
       "      <td>2</td>\n",
       "      <td>-0.088413</td>\n",
       "      <td>0</td>\n",
       "      <td>-0.000773</td>\n",
       "      <td>0.029227</td>\n",
       "      <td>-0.166279</td>\n",
       "      <td>1</td>\n",
       "      <td>5</td>\n",
       "      <td>2</td>\n",
       "      <td>1</td>\n",
       "      <td>0</td>\n",
       "      <td>1</td>\n",
       "      <td>1</td>\n",
       "      <td>1</td>\n",
       "      <td>1</td>\n",
       "      <td>1</td>\n",
       "      <td>488</td>\n",
       "      <td>493</td>\n",
       "      <td>0.989858</td>\n",
       "    </tr>\n",
       "    <tr>\n",
       "      <th>1</th>\n",
       "      <td>1</td>\n",
       "      <td>-0.105725</td>\n",
       "      <td>1</td>\n",
       "      <td>-0.002285</td>\n",
       "      <td>-0.070505</td>\n",
       "      <td>0.204872</td>\n",
       "      <td>0</td>\n",
       "      <td>9</td>\n",
       "      <td>1</td>\n",
       "      <td>12</td>\n",
       "      <td>0</td>\n",
       "      <td>9</td>\n",
       "      <td>11</td>\n",
       "      <td>0</td>\n",
       "      <td>0</td>\n",
       "      <td>1</td>\n",
       "      <td>7</td>\n",
       "      <td>7</td>\n",
       "      <td>1.000000</td>\n",
       "    </tr>\n",
       "    <tr>\n",
       "      <th>2</th>\n",
       "      <td>0</td>\n",
       "      <td>-0.085032</td>\n",
       "      <td>1</td>\n",
       "      <td>-0.044225</td>\n",
       "      <td>0.257644</td>\n",
       "      <td>-0.165046</td>\n",
       "      <td>0</td>\n",
       "      <td>0</td>\n",
       "      <td>6</td>\n",
       "      <td>20</td>\n",
       "      <td>0</td>\n",
       "      <td>13</td>\n",
       "      <td>2</td>\n",
       "      <td>0</td>\n",
       "      <td>0</td>\n",
       "      <td>0</td>\n",
       "      <td>25</td>\n",
       "      <td>28</td>\n",
       "      <td>0.892857</td>\n",
       "    </tr>\n",
       "    <tr>\n",
       "      <th>3</th>\n",
       "      <td>2</td>\n",
       "      <td>-0.105537</td>\n",
       "      <td>0</td>\n",
       "      <td>-0.053298</td>\n",
       "      <td>-0.272648</td>\n",
       "      <td>-0.157184</td>\n",
       "      <td>0</td>\n",
       "      <td>1</td>\n",
       "      <td>6</td>\n",
       "      <td>18</td>\n",
       "      <td>1</td>\n",
       "      <td>8</td>\n",
       "      <td>26</td>\n",
       "      <td>0</td>\n",
       "      <td>0</td>\n",
       "      <td>0</td>\n",
       "      <td>734</td>\n",
       "      <td>770</td>\n",
       "      <td>0.953247</td>\n",
       "    </tr>\n",
       "    <tr>\n",
       "      <th>4</th>\n",
       "      <td>2</td>\n",
       "      <td>-0.088006</td>\n",
       "      <td>1</td>\n",
       "      <td>-0.044225</td>\n",
       "      <td>0.094106</td>\n",
       "      <td>-0.041220</td>\n",
       "      <td>0</td>\n",
       "      <td>0</td>\n",
       "      <td>2</td>\n",
       "      <td>15</td>\n",
       "      <td>1</td>\n",
       "      <td>2</td>\n",
       "      <td>9</td>\n",
       "      <td>0</td>\n",
       "      <td>1</td>\n",
       "      <td>0</td>\n",
       "      <td>23</td>\n",
       "      <td>25</td>\n",
       "      <td>0.920000</td>\n",
       "    </tr>\n",
       "    <tr>\n",
       "      <th>...</th>\n",
       "      <td>...</td>\n",
       "      <td>...</td>\n",
       "      <td>...</td>\n",
       "      <td>...</td>\n",
       "      <td>...</td>\n",
       "      <td>...</td>\n",
       "      <td>...</td>\n",
       "      <td>...</td>\n",
       "      <td>...</td>\n",
       "      <td>...</td>\n",
       "      <td>...</td>\n",
       "      <td>...</td>\n",
       "      <td>...</td>\n",
       "      <td>...</td>\n",
       "      <td>...</td>\n",
       "      <td>...</td>\n",
       "      <td>...</td>\n",
       "      <td>...</td>\n",
       "      <td>...</td>\n",
       "    </tr>\n",
       "    <tr>\n",
       "      <th>3449971</th>\n",
       "      <td>1</td>\n",
       "      <td>-0.077111</td>\n",
       "      <td>0</td>\n",
       "      <td>-0.038654</td>\n",
       "      <td>-0.210987</td>\n",
       "      <td>-0.166409</td>\n",
       "      <td>1</td>\n",
       "      <td>0</td>\n",
       "      <td>0</td>\n",
       "      <td>14</td>\n",
       "      <td>0</td>\n",
       "      <td>35</td>\n",
       "      <td>9</td>\n",
       "      <td>0</td>\n",
       "      <td>0</td>\n",
       "      <td>0</td>\n",
       "      <td>388</td>\n",
       "      <td>430</td>\n",
       "      <td>0.902326</td>\n",
       "    </tr>\n",
       "    <tr>\n",
       "      <th>3449972</th>\n",
       "      <td>2</td>\n",
       "      <td>-0.087599</td>\n",
       "      <td>0</td>\n",
       "      <td>-0.057117</td>\n",
       "      <td>-0.242622</td>\n",
       "      <td>-0.166092</td>\n",
       "      <td>1</td>\n",
       "      <td>0</td>\n",
       "      <td>0</td>\n",
       "      <td>8</td>\n",
       "      <td>0</td>\n",
       "      <td>0</td>\n",
       "      <td>0</td>\n",
       "      <td>1</td>\n",
       "      <td>1</td>\n",
       "      <td>1</td>\n",
       "      <td>0</td>\n",
       "      <td>1</td>\n",
       "      <td>0.000000</td>\n",
       "    </tr>\n",
       "    <tr>\n",
       "      <th>3449973</th>\n",
       "      <td>2</td>\n",
       "      <td>-0.073198</td>\n",
       "      <td>0</td>\n",
       "      <td>0.005514</td>\n",
       "      <td>0.926809</td>\n",
       "      <td>-0.166063</td>\n",
       "      <td>1</td>\n",
       "      <td>0</td>\n",
       "      <td>6</td>\n",
       "      <td>0</td>\n",
       "      <td>0</td>\n",
       "      <td>1</td>\n",
       "      <td>1</td>\n",
       "      <td>1</td>\n",
       "      <td>1</td>\n",
       "      <td>1</td>\n",
       "      <td>95</td>\n",
       "      <td>95</td>\n",
       "      <td>1.000000</td>\n",
       "    </tr>\n",
       "    <tr>\n",
       "      <th>3449974</th>\n",
       "      <td>2</td>\n",
       "      <td>-0.038918</td>\n",
       "      <td>1</td>\n",
       "      <td>-0.063166</td>\n",
       "      <td>-0.331093</td>\n",
       "      <td>-0.038310</td>\n",
       "      <td>0</td>\n",
       "      <td>0</td>\n",
       "      <td>6</td>\n",
       "      <td>6</td>\n",
       "      <td>0</td>\n",
       "      <td>9</td>\n",
       "      <td>0</td>\n",
       "      <td>0</td>\n",
       "      <td>0</td>\n",
       "      <td>1</td>\n",
       "      <td>43</td>\n",
       "      <td>57</td>\n",
       "      <td>0.754386</td>\n",
       "    </tr>\n",
       "    <tr>\n",
       "      <th>3449975</th>\n",
       "      <td>1</td>\n",
       "      <td>-0.103909</td>\n",
       "      <td>0</td>\n",
       "      <td>0.043554</td>\n",
       "      <td>0.364345</td>\n",
       "      <td>-0.166359</td>\n",
       "      <td>0</td>\n",
       "      <td>5</td>\n",
       "      <td>6</td>\n",
       "      <td>9</td>\n",
       "      <td>0</td>\n",
       "      <td>2</td>\n",
       "      <td>1</td>\n",
       "      <td>0</td>\n",
       "      <td>0</td>\n",
       "      <td>0</td>\n",
       "      <td>85</td>\n",
       "      <td>87</td>\n",
       "      <td>0.977011</td>\n",
       "    </tr>\n",
       "  </tbody>\n",
       "</table>\n",
       "<p>3449976 rows × 19 columns</p>\n",
       "</div>"
      ],
      "text/plain": [
       "         tweet_type  creator_following_count  creator_is_verified  \\\n",
       "0                 2                -0.088413                    0   \n",
       "1                 1                -0.105725                    1   \n",
       "2                 0                -0.085032                    1   \n",
       "3                 2                -0.105537                    0   \n",
       "4                 2                -0.088006                    1   \n",
       "...             ...                      ...                  ...   \n",
       "3449971           1                -0.077111                    0   \n",
       "3449972           2                -0.087599                    0   \n",
       "3449973           2                -0.073198                    0   \n",
       "3449974           2                -0.038918                    1   \n",
       "3449975           1                -0.103909                    0   \n",
       "\n",
       "         engager_follower_count  engager_following_count  \\\n",
       "0                     -0.000773                 0.029227   \n",
       "1                     -0.002285                -0.070505   \n",
       "2                     -0.044225                 0.257644   \n",
       "3                     -0.053298                -0.272648   \n",
       "4                     -0.044225                 0.094106   \n",
       "...                         ...                      ...   \n",
       "3449971               -0.038654                -0.210987   \n",
       "3449972               -0.057117                -0.242622   \n",
       "3449973                0.005514                 0.926809   \n",
       "3449974               -0.063166                -0.331093   \n",
       "3449975                0.043554                 0.364345   \n",
       "\n",
       "         creator_follower_count  creator_follows_engager  media  dt_dow  \\\n",
       "0                     -0.166279                        1      5       2   \n",
       "1                      0.204872                        0      9       1   \n",
       "2                     -0.165046                        0      0       6   \n",
       "3                     -0.157184                        0      1       6   \n",
       "4                     -0.041220                        0      0       2   \n",
       "...                         ...                      ...    ...     ...   \n",
       "3449971               -0.166409                        1      0       0   \n",
       "3449972               -0.166092                        1      0       0   \n",
       "3449973               -0.166063                        1      0       6   \n",
       "3449974               -0.038310                        0      0       6   \n",
       "3449975               -0.166359                        0      5       6   \n",
       "\n",
       "         dt_hour  len_domains  creator_main_language  engager_main_language  \\\n",
       "0              1            0                      1                      1   \n",
       "1             12            0                      9                     11   \n",
       "2             20            0                     13                      2   \n",
       "3             18            1                      8                     26   \n",
       "4             15            1                      2                      9   \n",
       "...          ...          ...                    ...                    ...   \n",
       "3449971       14            0                     35                      9   \n",
       "3449972        8            0                      0                      0   \n",
       "3449973        0            0                      1                      1   \n",
       "3449974        6            0                      9                      0   \n",
       "3449975        9            0                      2                      1   \n",
       "\n",
       "         creator_and_engager_have_same_main_language  \\\n",
       "0                                                  1   \n",
       "1                                                  0   \n",
       "2                                                  0   \n",
       "3                                                  0   \n",
       "4                                                  0   \n",
       "...                                              ...   \n",
       "3449971                                            0   \n",
       "3449972                                            1   \n",
       "3449973                                            1   \n",
       "3449974                                            0   \n",
       "3449975                                            0   \n",
       "\n",
       "         is_tweet_in_creator_main_language  is_tweet_in_engager_main_language  \\\n",
       "0                                        1                                  1   \n",
       "1                                        0                                  1   \n",
       "2                                        0                                  0   \n",
       "3                                        0                                  0   \n",
       "4                                        1                                  0   \n",
       "...                                    ...                                ...   \n",
       "3449971                                  0                                  0   \n",
       "3449972                                  1                                  1   \n",
       "3449973                                  1                                  1   \n",
       "3449974                                  0                                  1   \n",
       "3449975                                  0                                  0   \n",
       "\n",
       "         engager_feature_number_of_previous_like_engagement  \\\n",
       "0                                                      488    \n",
       "1                                                        7    \n",
       "2                                                       25    \n",
       "3                                                      734    \n",
       "4                                                       23    \n",
       "...                                                    ...    \n",
       "3449971                                                388    \n",
       "3449972                                                  0    \n",
       "3449973                                                 95    \n",
       "3449974                                                 43    \n",
       "3449975                                                 85    \n",
       "\n",
       "         number_of_engagements_positive  number_of_engagements_ratio_like  \n",
       "0                                   493                          0.989858  \n",
       "1                                     7                          1.000000  \n",
       "2                                    28                          0.892857  \n",
       "3                                   770                          0.953247  \n",
       "4                                    25                          0.920000  \n",
       "...                                 ...                               ...  \n",
       "3449971                             430                          0.902326  \n",
       "3449972                               1                          0.000000  \n",
       "3449973                              95                          1.000000  \n",
       "3449974                              57                          0.754386  \n",
       "3449975                              87                          0.977011  \n",
       "\n",
       "[3449976 rows x 19 columns]"
      ]
     },
     "execution_count": 51,
     "metadata": {},
     "output_type": "execute_result"
    }
   ],
   "source": [
    "X_train"
   ]
  },
  {
   "cell_type": "markdown",
   "id": "c5809d22",
   "metadata": {},
   "source": [
    "## Modeling"
   ]
  },
  {
   "cell_type": "code",
   "execution_count": 52,
   "id": "b20203e6",
   "metadata": {},
   "outputs": [],
   "source": [
    "model = Sequential([\n",
    "    Dense(16, activation = 'relu', input_dim = X_train.shape[1]),\n",
    "    Dense(8, activation = 'relu'),\n",
    "    Dense(4, activation = 'relu'),\n",
    "    Dense(1, activation = 'sigmoid')\n",
    "])"
   ]
  },
  {
   "cell_type": "code",
   "execution_count": 53,
   "id": "91bd834d",
   "metadata": {},
   "outputs": [],
   "source": [
    "model.compile(\n",
    "    optimizer = 'adam',\n",
    "    loss = 'binary_crossentropy', # softmax : sparse_categorical_crossentropy, sigmoid : binary_crossentropy\n",
    "    metrics=['binary_crossentropy']) # sigmoid :binary_crossentropy"
   ]
  },
  {
   "cell_type": "code",
   "execution_count": 54,
   "id": "2730bf56",
   "metadata": {},
   "outputs": [
    {
     "name": "stdout",
     "output_type": "stream",
     "text": [
      "Epoch 1/5\n",
      "107812/107812 [==============================] - 42s 391us/step - loss: 0.6351 - binary_crossentropy: 0.6351 - val_loss: 0.5899 - val_binary_crossentropy: 0.5899\n",
      "Epoch 2/5\n",
      "107812/107812 [==============================] - 42s 388us/step - loss: 0.5936 - binary_crossentropy: 0.5936 - val_loss: 0.5897 - val_binary_crossentropy: 0.5897\n",
      "Epoch 3/5\n",
      "107812/107812 [==============================] - 42s 387us/step - loss: 0.5915 - binary_crossentropy: 0.5915 - val_loss: 0.5992 - val_binary_crossentropy: 0.5992\n",
      "Epoch 4/5\n",
      "107812/107812 [==============================] - 42s 387us/step - loss: 0.5898 - binary_crossentropy: 0.5898 - val_loss: 0.5845 - val_binary_crossentropy: 0.5845\n",
      "Epoch 5/5\n",
      "107812/107812 [==============================] - 42s 390us/step - loss: 0.5896 - binary_crossentropy: 0.5896 - val_loss: 0.5858 - val_binary_crossentropy: 0.5858\n"
     ]
    }
   ],
   "source": [
    "result = model.fit(\n",
    "    x = X_train,\n",
    "    y = y_train,\n",
    "    validation_data=(X_valid, y_valid),\n",
    "    epochs=5,\n",
    "    batch_size=32\n",
    ")"
   ]
  },
  {
   "cell_type": "code",
   "execution_count": 55,
   "id": "fa3d0daf",
   "metadata": {},
   "outputs": [
    {
     "data": {
      "image/png": "[encoded data removed]",
      "text/plain": [
       "<Figure size 432x288 with 1 Axes>"
      ]
     },
     "metadata": {
      "needs_background": "light"
     },
     "output_type": "display_data"
    }
   ],
   "source": [
    "plt.plot(result.history['binary_crossentropy'])\n",
    "plt.plot(result.history['val_binary_crossentropy'])\n",
    "plt.title('model accuracy')\n",
    "plt.ylabel('accuracy')\n",
    "plt.xlabel('epoch')\n",
    "plt.legend(['train', 'val'], loc='upper left')\n",
    "plt.show()"
   ]
  },
  {
   "cell_type": "code",
   "execution_count": 56,
   "id": "7e2fdd4e",
   "metadata": {},
   "outputs": [
    {
     "name": "stdout",
     "output_type": "stream",
     "text": [
      "27381/27381 [==============================] - 7s 260us/step - loss: 0.5825 - binary_crossentropy: 0.5825\n"
     ]
    },
    {
     "data": {
      "text/plain": [
       "[0.5824695825576782, 0.5824695825576782]"
      ]
     },
     "execution_count": 56,
     "metadata": {},
     "output_type": "execute_result"
    }
   ],
   "source": [
    "model.evaluate(X_test, y_test)"
   ]
  },
  {
   "cell_type": "code",
   "execution_count": null,
   "id": "0e82372d",
   "metadata": {},
   "outputs": [],
   "source": []
  },
  {
   "cell_type": "markdown",
   "id": "d4d9941b",
   "metadata": {},
   "source": [
    "## Predict"
   ]
  },
  {
   "cell_type": "code",
   "execution_count": 57,
   "id": "dcbab2a9",
   "metadata": {},
   "outputs": [],
   "source": [
    "pred = model.predict(X_test)"
   ]
  },
  {
   "cell_type": "code",
   "execution_count": 58,
   "id": "4e88b826",
   "metadata": {},
   "outputs": [
    {
     "data": {
      "text/plain": [
       "12.854675250748782"
      ]
     },
     "execution_count": 58,
     "metadata": {},
     "output_type": "execute_result"
    }
   ],
   "source": [
    "rce = compute_rce(pred, y_test)\n",
    "rce"
   ]
  },
  {
   "cell_type": "code",
   "execution_count": 59,
   "id": "de0ff024",
   "metadata": {},
   "outputs": [
    {
     "data": {
      "text/plain": [
       "0.6381115519822768"
      ]
     },
     "execution_count": 59,
     "metadata": {},
     "output_type": "execute_result"
    }
   ],
   "source": [
    "average_precision_score(y_test, pred)"
   ]
  },
  {
   "cell_type": "code",
   "execution_count": null,
   "id": "26d06464",
   "metadata": {},
   "outputs": [],
   "source": []
  }
 ],
 "metadata": {
  "kernelspec": {
   "display_name": "Python 3",
   "language": "python",
   "name": "python3"
  },
  "language_info": {
   "codemirror_mode": {
    "name": "ipython",
    "version": 3
   },
   "file_extension": ".py",
   "mimetype": "text/x-python",
   "name": "python",
   "nbconvert_exporter": "python",
   "pygments_lexer": "ipython3",
   "version": "3.7.10"
  }
 },
 "nbformat": 4,
 "nbformat_minor": 5
}
