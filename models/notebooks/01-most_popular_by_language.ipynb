{
 "metadata": {
  "language_info": {
   "codemirror_mode": {
    "name": "ipython",
    "version": 3
   },
   "file_extension": ".py",
   "mimetype": "text/x-python",
   "name": "python",
   "nbconvert_exporter": "python",
   "pygments_lexer": "ipython3",
   "version": "3.7.10-final"
  },
  "orig_nbformat": 2,
  "kernelspec": {
   "name": "dask-cudf",
   "display_name": "dask-cudf",
   "language": "python"
  }
 },
 "nbformat": 4,
 "nbformat_minor": 2,
 "cells": [
  {
   "source": [
    "# Baseline - Extract most popular tweet for each langugage"
   ],
   "cell_type": "markdown",
   "metadata": {}
  },
  {
   "cell_type": "code",
   "execution_count": 1,
   "metadata": {},
   "outputs": [],
   "source": [
    "import sys\n",
    "sys.path.append('../..')\n",
    "\n",
    "import numpy as np\n",
    "import matplotlib.pyplot as plt\n",
    "import pandas as pd\n",
    "from tqdm import tqdm\n",
    "\n",
    "from utils.cuda_cluster import *\n",
    "from utils.dataset import read_data, factorize_small_cardinality\n",
    "\n",
    "import core.config as conf\n"
   ]
  },
  {
   "cell_type": "code",
   "execution_count": 2,
   "metadata": {},
   "outputs": [
    {
     "output_type": "execute_result",
     "data": {
      "text/plain": [
       "<Client: 'tcp://127.0.0.1:45387' processes=1 threads=1, memory=33.47 GB>"
      ],
      "text/html": "<table style=\"border: 2px solid white;\">\n<tr>\n<td style=\"vertical-align: top; border: 0px solid white\">\n<h3 style=\"text-align: left;\">Client</h3>\n<ul style=\"text-align: left; list-style: none; margin: 0; padding: 0;\">\n  <li><b>Scheduler: </b>tcp://127.0.0.1:45387</li>\n  <li><b>Dashboard: </b><a href='http://127.0.0.1:8787/status' target='_blank'>http://127.0.0.1:8787/status</a></li>\n</ul>\n</td>\n<td style=\"vertical-align: top; border: 0px solid white\">\n<h3 style=\"text-align: left;\">Cluster</h3>\n<ul style=\"text-align: left; list-style:none; margin: 0; padding: 0;\">\n  <li><b>Workers: </b>1</li>\n  <li><b>Cores: </b>1</li>\n  <li><b>Memory: </b>33.47 GB</li>\n</ul>\n</td>\n</tr>\n</table>"
     },
     "metadata": {},
     "execution_count": 2
    }
   ],
   "source": [
    "client"
   ]
  },
  {
   "source": [
    "## 1. Load data & preprocessing"
   ],
   "cell_type": "markdown",
   "metadata": {}
  },
  {
   "cell_type": "code",
   "execution_count": 3,
   "metadata": {},
   "outputs": [
    {
     "output_type": "stream",
     "name": "stdout",
     "text": [
      "number of rows: 3033347\n"
     ]
    }
   ],
   "source": [
    "# data_path = conf.raw_data_path + '*' # for all dataset\n",
    "data_path = conf.raw_data_path + 'part-00175'\n",
    "ori_df = read_data(data_path)"
   ]
  },
  {
   "cell_type": "code",
   "execution_count": 4,
   "metadata": {},
   "outputs": [],
   "source": [
    "df = ori_df[['enaging_user_id', 'language', 'tweet_id', 'reply_timestamp', 'retweet_timestamp','retweet_with_comment_timestamp', 'like_timestamp']]"
   ]
  },
  {
   "cell_type": "code",
   "execution_count": 5,
   "metadata": {},
   "outputs": [],
   "source": [
    "df['is_reply'] = df['reply_timestamp'].compute().applymap(lambda x: 1 if x > 0 else 0).astype(np.int32)\n",
    "df['is_retweet'] = df['retweet_timestamp'].compute().applymap(lambda x: 1 if x > 0 else 0).astype(np.int32)\n",
    "df['is_comment'] = df['retweet_with_comment_timestamp'].compute().applymap(lambda x: 1 if x > 0 else 0).astype(np.int32)\n",
    "df['is_like'] = df['like_timestamp'].compute().applymap(lambda x: 1 if x > 0 else 0).astype(np.int32)\n",
    "\n",
    "df['is_positive'] = df[['is_like', 'is_retweet', 'is_reply', 'is_comment']].sum(axis=1).astype(np.uint8)\n",
    "df['is_negative'] =  df['is_positive'].compute().applymap(lambda x: 1 if x == 0 else 0).astype(np.int32)\n",
    "\n",
    "df = df.drop('reply_timestamp', axis=1)\n",
    "df = df.drop('retweet_timestamp', axis=1)\n",
    "df = df.drop('retweet_with_comment_timestamp', axis=1)\n",
    "df = df.drop('like_timestamp', axis=1)"
   ]
  },
  {
   "cell_type": "code",
   "execution_count": 6,
   "metadata": {},
   "outputs": [],
   "source": [
    "df, idx_to_tweet = factorize_small_cardinality(df, 'tweet_id')\n",
    "df, idx_to_language = factorize_small_cardinality(df, 'language')"
   ]
  },
  {
   "cell_type": "code",
   "execution_count": 7,
   "metadata": {},
   "outputs": [
    {
     "output_type": "execute_result",
     "data": {
      "text/plain": [
       "                     enaging_user_id                          language  \\\n",
       "id                                                                       \n",
       "1   411C3FA9B6AB5CA95192D875CDC22823  B8B04128918BBF54E2E178BFF1ABA833   \n",
       "2   E764026AB0E38A5C2FF19921D73B6C18  9FCF19233EAD65EA6E32C2E6DC03A444   \n",
       "3   455134BAAD3EAC4093393EC233FBAEF9  B0FA488F2911701DD8EC5B1EA5E322D8   \n",
       "4   92D70497B86CAFBA5C51E331084462AD  1F73BB863A39DB62B4A55B7E558DB1E8   \n",
       "5   DC1C8A9412B9E266A4C3D4CAF6DB06CB  E7F038DE3EAD397AEC9193686C911677   \n",
       "\n",
       "                            tweet_id  is_reply  is_retweet  is_comment  \\\n",
       "id                                                                       \n",
       "1   C8F345CF8BC7A86E34572072ECFBBEC4         0           0           0   \n",
       "2   C1E31636C343B780BA776E4B73147028         0           0           0   \n",
       "3   B436C84E80C2430BA9DE41FDF04C73BF         1           0           0   \n",
       "4   033FFA42C8AD502057AE96C8B4B812BE         0           0           0   \n",
       "5   84F2E902BA3CF3B34B8D056F6F78D488         0           0           0   \n",
       "\n",
       "    is_like  is_positive  is_negative  tweet_id_encode  language_encode  \n",
       "id                                                                       \n",
       "1         1            1            0          2214622               48  \n",
       "2         0            0            1          2136815               43  \n",
       "3         0            1            0          1986297               46  \n",
       "4         1            1            0            35685                5  \n",
       "5         0            0            1          1465500               61  "
      ],
      "text/html": "<div>\n<style scoped>\n    .dataframe tbody tr th:only-of-type {\n        vertical-align: middle;\n    }\n\n    .dataframe tbody tr th {\n        vertical-align: top;\n    }\n\n    .dataframe thead th {\n        text-align: right;\n    }\n</style>\n<table border=\"1\" class=\"dataframe\">\n  <thead>\n    <tr style=\"text-align: right;\">\n      <th></th>\n      <th>enaging_user_id</th>\n      <th>language</th>\n      <th>tweet_id</th>\n      <th>is_reply</th>\n      <th>is_retweet</th>\n      <th>is_comment</th>\n      <th>is_like</th>\n      <th>is_positive</th>\n      <th>is_negative</th>\n      <th>tweet_id_encode</th>\n      <th>language_encode</th>\n    </tr>\n    <tr>\n      <th>id</th>\n      <th></th>\n      <th></th>\n      <th></th>\n      <th></th>\n      <th></th>\n      <th></th>\n      <th></th>\n      <th></th>\n      <th></th>\n      <th></th>\n      <th></th>\n    </tr>\n  </thead>\n  <tbody>\n    <tr>\n      <th>1</th>\n      <td>411C3FA9B6AB5CA95192D875CDC22823</td>\n      <td>B8B04128918BBF54E2E178BFF1ABA833</td>\n      <td>C8F345CF8BC7A86E34572072ECFBBEC4</td>\n      <td>0</td>\n      <td>0</td>\n      <td>0</td>\n      <td>1</td>\n      <td>1</td>\n      <td>0</td>\n      <td>2214622</td>\n      <td>48</td>\n    </tr>\n    <tr>\n      <th>2</th>\n      <td>E764026AB0E38A5C2FF19921D73B6C18</td>\n      <td>9FCF19233EAD65EA6E32C2E6DC03A444</td>\n      <td>C1E31636C343B780BA776E4B73147028</td>\n      <td>0</td>\n      <td>0</td>\n      <td>0</td>\n      <td>0</td>\n      <td>0</td>\n      <td>1</td>\n      <td>2136815</td>\n      <td>43</td>\n    </tr>\n    <tr>\n      <th>3</th>\n      <td>455134BAAD3EAC4093393EC233FBAEF9</td>\n      <td>B0FA488F2911701DD8EC5B1EA5E322D8</td>\n      <td>B436C84E80C2430BA9DE41FDF04C73BF</td>\n      <td>1</td>\n      <td>0</td>\n      <td>0</td>\n      <td>0</td>\n      <td>1</td>\n      <td>0</td>\n      <td>1986297</td>\n      <td>46</td>\n    </tr>\n    <tr>\n      <th>4</th>\n      <td>92D70497B86CAFBA5C51E331084462AD</td>\n      <td>1F73BB863A39DB62B4A55B7E558DB1E8</td>\n      <td>033FFA42C8AD502057AE96C8B4B812BE</td>\n      <td>0</td>\n      <td>0</td>\n      <td>0</td>\n      <td>1</td>\n      <td>1</td>\n      <td>0</td>\n      <td>35685</td>\n      <td>5</td>\n    </tr>\n    <tr>\n      <th>5</th>\n      <td>DC1C8A9412B9E266A4C3D4CAF6DB06CB</td>\n      <td>E7F038DE3EAD397AEC9193686C911677</td>\n      <td>84F2E902BA3CF3B34B8D056F6F78D488</td>\n      <td>0</td>\n      <td>0</td>\n      <td>0</td>\n      <td>0</td>\n      <td>0</td>\n      <td>1</td>\n      <td>1465500</td>\n      <td>61</td>\n    </tr>\n  </tbody>\n</table>\n</div>"
     },
     "metadata": {},
     "execution_count": 7
    }
   ],
   "source": [
    "df.head()"
   ]
  },
  {
   "cell_type": "code",
   "execution_count": 29,
   "metadata": {},
   "outputs": [],
   "source": [
    "engagements = df.groupby(['language_encode', 'tweet_id_encode'])[['is_reply',\t'is_retweet',\t'is_comment',\t'is_like',\t'is_positive',\t'is_negative']].sum()\n",
    "engagements = engagements.reset_index()\n",
    "engagements = engagements.set_index('language_encode', drop=True)\n",
    "\n",
    "# engagements.loc[23].head()"
   ]
  },
  {
   "cell_type": "code",
   "execution_count": 21,
   "metadata": {},
   "outputs": [
    {
     "output_type": "stream",
     "name": "stderr",
     "text": [
      "100%|██████████| 66/66 [00:23<00:00,  2.84it/s]\n"
     ]
    }
   ],
   "source": [
    "n_languages = 66\n",
    "language_engagements = [[] for _ in range(n_languages)]\n",
    "\n",
    "for i in tqdm(range(n_languages)):\n",
    "    try:\n",
    "        tmp = engagements.loc[i]\n",
    "        tmp = tmp.compute().sort_values('is_positive', ascending=False).reset_index()\n",
    "        language_engagements[i] = tmp\n",
    "    except:\n",
    "        print('There is no data on language ', str(i))"
   ]
  },
  {
   "source": [],
   "cell_type": "markdown",
   "metadata": {}
  },
  {
   "cell_type": "code",
   "execution_count": 28,
   "metadata": {},
   "outputs": [
    {
     "output_type": "stream",
     "name": "stdout",
     "text": [
      "# the largest value among positive engagements for each language\n",
      "language 0 :  7\n",
      "language 1 :  1\n",
      "language 2 :  4\n",
      "language 3 :  9\n",
      "language 4 :  5\n",
      "language 5 :  27\n",
      "language 6 :  14\n",
      "language 7 :  11\n",
      "language 8 :  22\n",
      "language 9 :  13\n",
      "language 10 :  110\n",
      "language 11 :  6\n",
      "language 12 :  2\n",
      "language 13 :  6\n",
      "language 14 :  4\n",
      "language 15 :  3\n",
      "language 16 :  12\n",
      "language 17 :  2\n",
      "language 18 :  3\n",
      "language 19 :  90\n",
      "language 20 :  5\n",
      "language 21 :  9\n",
      "language 22 :  7\n",
      "language 23 :  7\n",
      "language 24 :  2\n",
      "language 25 :  5\n",
      "language 26 :  0\n",
      "language 27 :  3\n",
      "language 28 :  3\n",
      "language 29 :  7\n",
      "language 30 :  1\n",
      "language 31 :  6\n",
      "language 32 :  9\n",
      "language 33 :  12\n",
      "language 34 :  0\n",
      "language 35 :  9\n",
      "language 36 :  98\n",
      "language 37 :  5\n",
      "language 38 :  0\n",
      "language 39 :  2\n",
      "language 40 :  15\n",
      "language 41 :  13\n",
      "language 42 :  1\n",
      "language 43 :  27\n",
      "language 44 :  2\n",
      "language 45 :  23\n",
      "language 46 :  28\n",
      "language 47 :  12\n",
      "language 48 :  39\n",
      "language 49 :  6\n",
      "language 50 :  3\n",
      "language 51 :  8\n",
      "language 52 :  2\n",
      "language 53 :  1\n",
      "language 54 :  5\n",
      "language 55 :  18\n",
      "language 56 :  11\n",
      "language 57 :  10\n",
      "language 58 :  2\n",
      "language 59 :  10\n",
      "language 60 :  14\n",
      "language 61 :  32\n",
      "language 62 :  48\n",
      "language 63 :  3\n",
      "language 64 :  6\n",
      "language 65 :  2\n"
     ]
    }
   ],
   "source": [
    "print('# the largest value among positive engagements for each language')\n",
    "\n",
    "for i in range(n_languages):\n",
    "    print(f'language {i} : ', language_engagements[i].loc[0]['is_positive'])\n"
   ]
  },
  {
   "cell_type": "code",
   "execution_count": 42,
   "metadata": {},
   "outputs": [
    {
     "output_type": "stream",
     "name": "stdout",
     "text": [
      "# the number of rows for each language\nlanguage 0\n - all rows :  7820 ,  positive rows :  4195\nlanguage 1\n - all rows :  38 ,  positive rows :  21\nlanguage 2\n - all rows :  998 ,  positive rows :  678\nlanguage 3\n - all rows :  1208 ,  positive rows :  649\nlanguage 4\n - all rows :  3303 ,  positive rows :  1728\nlanguage 5\n - all rows :  123095 ,  positive rows :  66302\nlanguage 6\n - all rows :  6810 ,  positive rows :  3163\nlanguage 7\n - all rows :  17362 ,  positive rows :  8795\nlanguage 8\n - all rows :  20096 ,  positive rows :  10624\nlanguage 9\n - all rows :  26365 ,  positive rows :  14440\nlanguage 10\n - all rows :  180123 ,  positive rows :  87963\nlanguage 11\n - all rows :  1607 ,  positive rows :  842\nlanguage 12\n - all rows :  92 ,  positive rows :  57\nlanguage 13\n - all rows :  660 ,  positive rows :  322\nlanguage 14\n - all rows :  761 ,  positive rows :  370\nlanguage 15\n - all rows :  142 ,  positive rows :  85\nlanguage 16\n - all rows :  1374 ,  positive rows :  616\nlanguage 17\n - all rows :  591 ,  positive rows :  361\nlanguage 18\n - all rows :  1457 ,  positive rows :  726\nlanguage 19\n - all rows :  995278 ,  positive rows :  466941\nlanguage 20\n - all rows :  2662 ,  positive rows :  1458\nlanguage 21\n - all rows :  1752 ,  positive rows :  901\nlanguage 22\n - all rows :  803 ,  positive rows :  408\nlanguage 23\n - all rows :  24084 ,  positive rows :  12569\nlanguage 24\n - all rows :  247 ,  positive rows :  157\nlanguage 25\n - all rows :  19470 ,  positive rows :  10910\nlanguage 26\n - all rows :  3 ,  positive rows :  0\nlanguage 27\n - all rows :  1230 ,  positive rows :  858\nlanguage 28\n - all rows :  563 ,  positive rows :  313\nlanguage 29\n - all rows :  2762 ,  positive rows :  1465\nlanguage 30\n - all rows :  45 ,  positive rows :  27\nlanguage 31\n - all rows :  7325 ,  positive rows :  3673\nlanguage 32\n - all rows :  415 ,  positive rows :  204\nlanguage 33\n - all rows :  48631 ,  positive rows :  23454\nlanguage 34\n - all rows :  3 ,  positive rows :  0\nlanguage 35\n - all rows :  4487 ,  positive rows :  2524\nlanguage 36\n - all rows :  65070 ,  positive rows :  30010\nlanguage 37\n - all rows :  1199 ,  positive rows :  555\nlanguage 38\n - all rows :  1 ,  positive rows :  0\nlanguage 39\n - all rows :  292 ,  positive rows :  144\nlanguage 40\n - all rows :  4294 ,  positive rows :  2216\nlanguage 41\n - all rows :  74676 ,  positive rows :  38906\nlanguage 42\n - all rows :  23 ,  positive rows :  16\nlanguage 43\n - all rows :  89949 ,  positive rows :  49925\nlanguage 44\n - all rows :  476 ,  positive rows :  244\nlanguage 45\n - all rows :  6274 ,  positive rows :  3339\nlanguage 46\n - all rows :  241614 ,  positive rows :  116786\nlanguage 47\n - all rows :  32261 ,  positive rows :  17573\nlanguage 48\n - all rows :  221750 ,  positive rows :  110492\nlanguage 49\n - all rows :  2408 ,  positive rows :  1209\nlanguage 50\n - all rows :  891 ,  positive rows :  498\nlanguage 51\n - all rows :  1345 ,  positive rows :  715\nlanguage 52\n - all rows :  459 ,  positive rows :  307\nlanguage 53\n - all rows :  34 ,  positive rows :  24\nlanguage 54\n - all rows :  839 ,  positive rows :  452\nlanguage 55\n - all rows :  1532 ,  positive rows :  915\nlanguage 56\n - all rows :  3491 ,  positive rows :  1736\nlanguage 57\n - all rows :  10042 ,  positive rows :  5166\nlanguage 58\n - all rows :  138 ,  positive rows :  86\nlanguage 59\n - all rows :  954 ,  positive rows :  531\nlanguage 60\n - all rows :  55577 ,  positive rows :  27085\nlanguage 61\n - all rows :  497792 ,  positive rows :  238168\nlanguage 62\n - all rows :  2572 ,  positive rows :  1330\nlanguage 63\n - all rows :  177 ,  positive rows :  109\nlanguage 64\n - all rows :  1259 ,  positive rows :  572\nlanguage 65\n - all rows :  263 ,  positive rows :  160\n"
     ]
    }
   ],
   "source": [
    "print('# the number of rows for each language')\n",
    "\n",
    "for i in range(n_languages):\n",
    "    print(f'language {i}')\n",
    "    print(' - all rows : ', len(language_engagements[i]),  ',  positive rows : ', len(language_engagements[i].loc[language_engagements[i]['is_negative'] == 0]))\n"
   ]
  },
  {
   "cell_type": "code",
   "execution_count": null,
   "metadata": {},
   "outputs": [],
   "source": []
  },
  {
   "source": [
    "## 2. Get the popular tweets for each language"
   ],
   "cell_type": "markdown",
   "metadata": {}
  },
  {
   "cell_type": "code",
   "execution_count": 45,
   "metadata": {},
   "outputs": [],
   "source": [
    "topn = 100\n",
    "recommend_list_by_language = [[] for _ in range(n_languages)]"
   ]
  },
  {
   "cell_type": "code",
   "execution_count": 49,
   "metadata": {},
   "outputs": [],
   "source": [
    "for i in range(n_languages):\n",
    "    recommend_list_by_language[i] = language_engagements[i].loc[:topn-1]"
   ]
  },
  {
   "cell_type": "code",
   "execution_count": 57,
   "metadata": {},
   "outputs": [
    {
     "output_type": "execute_result",
     "data": {
      "text/plain": [
       "    language_encode  tweet_id_encode  is_reply  is_retweet  is_comment  \\\n",
       "0                55          1466612         0           2           0   \n",
       "1                55          1405052         1           2           0   \n",
       "2                55          2047256         0           0           0   \n",
       "3                55          1930836         0           2           0   \n",
       "4                55           408391         0           2           0   \n",
       "..              ...              ...       ...         ...         ...   \n",
       "95               55          1962891         0           0           0   \n",
       "96               55          2550317         0           1           0   \n",
       "97               55           930894         0           0           0   \n",
       "98               55          2554815         0           1           0   \n",
       "99               55          1001105         0           0           0   \n",
       "\n",
       "    is_like  is_positive  is_negative  \n",
       "0        16           18            0  \n",
       "1         2            5            0  \n",
       "2         5            5            0  \n",
       "3         2            4            0  \n",
       "4         1            3            0  \n",
       "..      ...          ...          ...  \n",
       "95        1            1            0  \n",
       "96        0            1            0  \n",
       "97        1            1            0  \n",
       "98        0            1            0  \n",
       "99        1            1            0  \n",
       "\n",
       "[100 rows x 8 columns]"
      ],
      "text/html": "<div>\n<style scoped>\n    .dataframe tbody tr th:only-of-type {\n        vertical-align: middle;\n    }\n\n    .dataframe tbody tr th {\n        vertical-align: top;\n    }\n\n    .dataframe thead th {\n        text-align: right;\n    }\n</style>\n<table border=\"1\" class=\"dataframe\">\n  <thead>\n    <tr style=\"text-align: right;\">\n      <th></th>\n      <th>language_encode</th>\n      <th>tweet_id_encode</th>\n      <th>is_reply</th>\n      <th>is_retweet</th>\n      <th>is_comment</th>\n      <th>is_like</th>\n      <th>is_positive</th>\n      <th>is_negative</th>\n    </tr>\n  </thead>\n  <tbody>\n    <tr>\n      <th>0</th>\n      <td>55</td>\n      <td>1466612</td>\n      <td>0</td>\n      <td>2</td>\n      <td>0</td>\n      <td>16</td>\n      <td>18</td>\n      <td>0</td>\n    </tr>\n    <tr>\n      <th>1</th>\n      <td>55</td>\n      <td>1405052</td>\n      <td>1</td>\n      <td>2</td>\n      <td>0</td>\n      <td>2</td>\n      <td>5</td>\n      <td>0</td>\n    </tr>\n    <tr>\n      <th>2</th>\n      <td>55</td>\n      <td>2047256</td>\n      <td>0</td>\n      <td>0</td>\n      <td>0</td>\n      <td>5</td>\n      <td>5</td>\n      <td>0</td>\n    </tr>\n    <tr>\n      <th>3</th>\n      <td>55</td>\n      <td>1930836</td>\n      <td>0</td>\n      <td>2</td>\n      <td>0</td>\n      <td>2</td>\n      <td>4</td>\n      <td>0</td>\n    </tr>\n    <tr>\n      <th>4</th>\n      <td>55</td>\n      <td>408391</td>\n      <td>0</td>\n      <td>2</td>\n      <td>0</td>\n      <td>1</td>\n      <td>3</td>\n      <td>0</td>\n    </tr>\n    <tr>\n      <th>...</th>\n      <td>...</td>\n      <td>...</td>\n      <td>...</td>\n      <td>...</td>\n      <td>...</td>\n      <td>...</td>\n      <td>...</td>\n      <td>...</td>\n    </tr>\n    <tr>\n      <th>95</th>\n      <td>55</td>\n      <td>1962891</td>\n      <td>0</td>\n      <td>0</td>\n      <td>0</td>\n      <td>1</td>\n      <td>1</td>\n      <td>0</td>\n    </tr>\n    <tr>\n      <th>96</th>\n      <td>55</td>\n      <td>2550317</td>\n      <td>0</td>\n      <td>1</td>\n      <td>0</td>\n      <td>0</td>\n      <td>1</td>\n      <td>0</td>\n    </tr>\n    <tr>\n      <th>97</th>\n      <td>55</td>\n      <td>930894</td>\n      <td>0</td>\n      <td>0</td>\n      <td>0</td>\n      <td>1</td>\n      <td>1</td>\n      <td>0</td>\n    </tr>\n    <tr>\n      <th>98</th>\n      <td>55</td>\n      <td>2554815</td>\n      <td>0</td>\n      <td>1</td>\n      <td>0</td>\n      <td>0</td>\n      <td>1</td>\n      <td>0</td>\n    </tr>\n    <tr>\n      <th>99</th>\n      <td>55</td>\n      <td>1001105</td>\n      <td>0</td>\n      <td>0</td>\n      <td>0</td>\n      <td>1</td>\n      <td>1</td>\n      <td>0</td>\n    </tr>\n  </tbody>\n</table>\n<p>100 rows × 8 columns</p>\n</div>"
     },
     "metadata": {},
     "execution_count": 57
    }
   ],
   "source": [
    "recommend_list_by_language[55]"
   ]
  },
  {
   "cell_type": "code",
   "execution_count": null,
   "metadata": {},
   "outputs": [],
   "source": []
  }
 ]
}