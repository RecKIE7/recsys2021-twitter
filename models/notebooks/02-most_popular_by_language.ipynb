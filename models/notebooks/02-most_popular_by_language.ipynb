{
 "metadata": {
  "language_info": {
   "codemirror_mode": {
    "name": "ipython",
    "version": 3
   },
   "file_extension": ".py",
   "mimetype": "text/x-python",
   "name": "python",
   "nbconvert_exporter": "python",
   "pygments_lexer": "ipython3",
   "version": "3.7.10-final"
  },
  "orig_nbformat": 2,
  "kernelspec": {
   "name": "dask-cudf",
   "display_name": "dask-cudf",
   "language": "python"
  }
 },
 "nbformat": 4,
 "nbformat_minor": 2,
 "cells": [
  {
   "source": [
    "# Baseline - Extract most popular tweet for each langugage"
   ],
   "cell_type": "markdown",
   "metadata": {}
  },
  {
   "cell_type": "code",
   "execution_count": 9,
   "metadata": {},
   "outputs": [],
   "source": [
    "import sys\n",
    "sys.path.append('../..')\n",
    "\n",
    "import numpy as np\n",
    "import matplotlib.pyplot as plt\n",
    "import pandas as pd\n",
    "from tqdm import tqdm\n",
    "from sklearn.model_selection import train_test_split\n",
    "\n",
    "from utils.cuda_cluster import *\n",
    "from utils.dataset import read_data, factorize_small_cardinality\n",
    "\n",
    "import core.config as conf\n"
   ]
  },
  {
   "cell_type": "code",
   "execution_count": 2,
   "metadata": {},
   "outputs": [
    {
     "output_type": "execute_result",
     "data": {
      "text/plain": [
       "<Client: 'tcp://127.0.0.1:33671' processes=1 threads=1, memory=33.47 GB>"
      ],
      "text/html": "<table style=\"border: 2px solid white;\">\n<tr>\n<td style=\"vertical-align: top; border: 0px solid white\">\n<h3 style=\"text-align: left;\">Client</h3>\n<ul style=\"text-align: left; list-style: none; margin: 0; padding: 0;\">\n  <li><b>Scheduler: </b>tcp://127.0.0.1:33671</li>\n  <li><b>Dashboard: </b><a href='http://127.0.0.1:8787/status' target='_blank'>http://127.0.0.1:8787/status</a></li>\n</ul>\n</td>\n<td style=\"vertical-align: top; border: 0px solid white\">\n<h3 style=\"text-align: left;\">Cluster</h3>\n<ul style=\"text-align: left; list-style:none; margin: 0; padding: 0;\">\n  <li><b>Workers: </b>1</li>\n  <li><b>Cores: </b>1</li>\n  <li><b>Memory: </b>33.47 GB</li>\n</ul>\n</td>\n</tr>\n</table>"
     },
     "metadata": {},
     "execution_count": 2
    }
   ],
   "source": [
    "client"
   ]
  },
  {
   "source": [
    "## 1. Load data & preprocessing"
   ],
   "cell_type": "markdown",
   "metadata": {}
  },
  {
   "cell_type": "code",
   "execution_count": 3,
   "metadata": {},
   "outputs": [
    {
     "output_type": "stream",
     "name": "stdout",
     "text": [
      "number of rows: 3033347\n"
     ]
    }
   ],
   "source": [
    "# data_path = conf.raw_data_path + '*' # for all dataset\n",
    "data_path = conf.raw_data_path + 'part-00175'\n",
    "ori_df = read_data(data_path)"
   ]
  },
  {
   "cell_type": "code",
   "execution_count": 18,
   "metadata": {},
   "outputs": [],
   "source": [
    "df = ori_df[['enaging_user_id', 'tweet_timestamp', 'language', 'tweet_id', 'reply_timestamp', 'retweet_timestamp','retweet_with_comment_timestamp', 'like_timestamp']]"
   ]
  },
  {
   "cell_type": "code",
   "execution_count": 19,
   "metadata": {},
   "outputs": [],
   "source": [
    "df['is_reply'] = df['reply_timestamp'].compute().applymap(lambda x: 1 if x > 0 else 0).astype(np.int32)\n",
    "df['is_retweet'] = df['retweet_timestamp'].compute().applymap(lambda x: 1 if x > 0 else 0).astype(np.int32)\n",
    "df['is_comment'] = df['retweet_with_comment_timestamp'].compute().applymap(lambda x: 1 if x > 0 else 0).astype(np.int32)\n",
    "df['is_like'] = df['like_timestamp'].compute().applymap(lambda x: 1 if x > 0 else 0).astype(np.int32)\n",
    "\n",
    "df['positive_cnt'] = df[['is_like', 'is_retweet', 'is_reply', 'is_comment']].sum(axis=1).astype(np.uint8)\n",
    "\n",
    "df = df.drop('reply_timestamp', axis=1)\n",
    "df = df.drop('retweet_timestamp', axis=1)\n",
    "df = df.drop('retweet_with_comment_timestamp', axis=1)\n",
    "df = df.drop('like_timestamp', axis=1)"
   ]
  },
  {
   "cell_type": "code",
   "execution_count": 20,
   "metadata": {},
   "outputs": [],
   "source": [
    "df, idx_to_tweet = factorize_small_cardinality(df, 'tweet_id')\n",
    "df, idx_to_language = factorize_small_cardinality(df, 'language')"
   ]
  },
  {
   "cell_type": "code",
   "execution_count": 21,
   "metadata": {},
   "outputs": [
    {
     "output_type": "execute_result",
     "data": {
      "text/plain": [
       "                     enaging_user_id  tweet_timestamp  \\\n",
       "id                                                      \n",
       "1   411C3FA9B6AB5CA95192D875CDC22823       1612993854   \n",
       "2   E764026AB0E38A5C2FF19921D73B6C18       1612886900   \n",
       "3   455134BAAD3EAC4093393EC233FBAEF9       1614019237   \n",
       "4   92D70497B86CAFBA5C51E331084462AD       1612779567   \n",
       "5   DC1C8A9412B9E266A4C3D4CAF6DB06CB       1613822114   \n",
       "\n",
       "                            language                          tweet_id  \\\n",
       "id                                                                       \n",
       "1   B8B04128918BBF54E2E178BFF1ABA833  C8F345CF8BC7A86E34572072ECFBBEC4   \n",
       "2   9FCF19233EAD65EA6E32C2E6DC03A444  C1E31636C343B780BA776E4B73147028   \n",
       "3   B0FA488F2911701DD8EC5B1EA5E322D8  B436C84E80C2430BA9DE41FDF04C73BF   \n",
       "4   1F73BB863A39DB62B4A55B7E558DB1E8  033FFA42C8AD502057AE96C8B4B812BE   \n",
       "5   E7F038DE3EAD397AEC9193686C911677  84F2E902BA3CF3B34B8D056F6F78D488   \n",
       "\n",
       "    is_reply  is_retweet  is_comment  is_like  positive_cnt  tweet_id_encode  \\\n",
       "id                                                                             \n",
       "1          0           0           0        1             1          2214622   \n",
       "2          0           0           0        0             0          2136815   \n",
       "3          1           0           0        0             1          1986297   \n",
       "4          0           0           0        1             1            35685   \n",
       "5          0           0           0        0             0          1465500   \n",
       "\n",
       "    language_encode  \n",
       "id                   \n",
       "1                48  \n",
       "2                43  \n",
       "3                46  \n",
       "4                 5  \n",
       "5                61  "
      ],
      "text/html": "<div>\n<style scoped>\n    .dataframe tbody tr th:only-of-type {\n        vertical-align: middle;\n    }\n\n    .dataframe tbody tr th {\n        vertical-align: top;\n    }\n\n    .dataframe thead th {\n        text-align: right;\n    }\n</style>\n<table border=\"1\" class=\"dataframe\">\n  <thead>\n    <tr style=\"text-align: right;\">\n      <th></th>\n      <th>enaging_user_id</th>\n      <th>tweet_timestamp</th>\n      <th>language</th>\n      <th>tweet_id</th>\n      <th>is_reply</th>\n      <th>is_retweet</th>\n      <th>is_comment</th>\n      <th>is_like</th>\n      <th>positive_cnt</th>\n      <th>tweet_id_encode</th>\n      <th>language_encode</th>\n    </tr>\n    <tr>\n      <th>id</th>\n      <th></th>\n      <th></th>\n      <th></th>\n      <th></th>\n      <th></th>\n      <th></th>\n      <th></th>\n      <th></th>\n      <th></th>\n      <th></th>\n      <th></th>\n    </tr>\n  </thead>\n  <tbody>\n    <tr>\n      <th>1</th>\n      <td>411C3FA9B6AB5CA95192D875CDC22823</td>\n      <td>1612993854</td>\n      <td>B8B04128918BBF54E2E178BFF1ABA833</td>\n      <td>C8F345CF8BC7A86E34572072ECFBBEC4</td>\n      <td>0</td>\n      <td>0</td>\n      <td>0</td>\n      <td>1</td>\n      <td>1</td>\n      <td>2214622</td>\n      <td>48</td>\n    </tr>\n    <tr>\n      <th>2</th>\n      <td>E764026AB0E38A5C2FF19921D73B6C18</td>\n      <td>1612886900</td>\n      <td>9FCF19233EAD65EA6E32C2E6DC03A444</td>\n      <td>C1E31636C343B780BA776E4B73147028</td>\n      <td>0</td>\n      <td>0</td>\n      <td>0</td>\n      <td>0</td>\n      <td>0</td>\n      <td>2136815</td>\n      <td>43</td>\n    </tr>\n    <tr>\n      <th>3</th>\n      <td>455134BAAD3EAC4093393EC233FBAEF9</td>\n      <td>1614019237</td>\n      <td>B0FA488F2911701DD8EC5B1EA5E322D8</td>\n      <td>B436C84E80C2430BA9DE41FDF04C73BF</td>\n      <td>1</td>\n      <td>0</td>\n      <td>0</td>\n      <td>0</td>\n      <td>1</td>\n      <td>1986297</td>\n      <td>46</td>\n    </tr>\n    <tr>\n      <th>4</th>\n      <td>92D70497B86CAFBA5C51E331084462AD</td>\n      <td>1612779567</td>\n      <td>1F73BB863A39DB62B4A55B7E558DB1E8</td>\n      <td>033FFA42C8AD502057AE96C8B4B812BE</td>\n      <td>0</td>\n      <td>0</td>\n      <td>0</td>\n      <td>1</td>\n      <td>1</td>\n      <td>35685</td>\n      <td>5</td>\n    </tr>\n    <tr>\n      <th>5</th>\n      <td>DC1C8A9412B9E266A4C3D4CAF6DB06CB</td>\n      <td>1613822114</td>\n      <td>E7F038DE3EAD397AEC9193686C911677</td>\n      <td>84F2E902BA3CF3B34B8D056F6F78D488</td>\n      <td>0</td>\n      <td>0</td>\n      <td>0</td>\n      <td>0</td>\n      <td>0</td>\n      <td>1465500</td>\n      <td>61</td>\n    </tr>\n  </tbody>\n</table>\n</div>"
     },
     "metadata": {},
     "execution_count": 21
    }
   ],
   "source": [
    "df.head()"
   ]
  },
  {
   "source": [
    "### train, valid data split"
   ],
   "cell_type": "markdown",
   "metadata": {}
  },
  {
   "cell_type": "code",
   "execution_count": 22,
   "metadata": {},
   "outputs": [],
   "source": [
    "train_df, val_df = train_test_split(df.compute(), test_size=0.5, random_state=777, shuffle=False)"
   ]
  },
  {
   "source": [
    "### Group by language"
   ],
   "cell_type": "markdown",
   "metadata": {}
  },
  {
   "cell_type": "code",
   "execution_count": 23,
   "metadata": {},
   "outputs": [],
   "source": [
    "engagements = train_df.groupby(['language_encode', 'tweet_id_encode'])[['is_reply',\t'is_retweet',\t'is_comment',\t'is_like',\t'positive_cnt']].sum()\n",
    "engagements = engagements.reset_index()\n",
    "engagements = engagements.set_index('language_encode', drop=True)\n",
    "\n",
    "# engagements.loc[23].head()"
   ]
  },
  {
   "cell_type": "code",
   "execution_count": 27,
   "metadata": {},
   "outputs": [
    {
     "output_type": "stream",
     "name": "stderr",
     "text": [
      " 74%|███████▍  | 49/66 [00:00<00:00, 118.73it/s]There is no data on language  26\n",
      "There is no data on language  34\n",
      "There is no data on language  38\n",
      "100%|██████████| 66/66 [00:00<00:00, 117.45it/s]\n"
     ]
    }
   ],
   "source": [
    "n_languages = 66\n",
    "language_engagements = [[] for _ in range(n_languages)]\n",
    "\n",
    "for i in tqdm(range(n_languages)):\n",
    "    try:\n",
    "        tmp = engagements.loc[i]\n",
    "        tmp = tmp.sort_values('positive_cnt', ascending=False).reset_index()\n",
    "        language_engagements[i] = tmp\n",
    "    except:\n",
    "        print('There is no data on language ', str(i))"
   ]
  },
  {
   "source": [],
   "cell_type": "markdown",
   "metadata": {}
  },
  {
   "cell_type": "code",
   "execution_count": 29,
   "metadata": {},
   "outputs": [
    {
     "output_type": "stream",
     "name": "stdout",
     "text": [
      "# the largest value among positive engagements for each language\n",
      "language 0 :  5\n",
      "language 1 :  1\n",
      "language 2 :  3\n",
      "language 3 :  4\n",
      "language 4 :  4\n",
      "language 5 :  15\n",
      "language 6 :  6\n",
      "language 7 :  5\n",
      "language 8 :  14\n",
      "language 9 :  7\n",
      "language 10 :  53\n",
      "language 11 :  4\n",
      "language 12 :  2\n",
      "language 13 :  2\n",
      "language 14 :  2\n",
      "language 15 :  3\n",
      "language 16 :  4\n",
      "language 17 :  2\n",
      "language 18 :  3\n",
      "language 19 :  47\n",
      "language 20 :  3\n",
      "language 21 :  5\n",
      "language 22 :  4\n",
      "language 23 :  4\n",
      "language 24 :  2\n",
      "language 25 :  3\n",
      "There is no data on language  26\n",
      "language 27 :  2\n",
      "language 28 :  3\n",
      "language 29 :  5\n",
      "language 30 :  1\n",
      "language 31 :  5\n",
      "language 32 :  6\n",
      "language 33 :  8\n",
      "There is no data on language  34\n",
      "language 35 :  4\n",
      "language 36 :  54\n",
      "language 37 :  3\n",
      "There is no data on language  38\n",
      "language 39 :  2\n",
      "language 40 :  11\n",
      "language 41 :  6\n",
      "language 42 :  1\n",
      "language 43 :  11\n",
      "language 44 :  2\n",
      "language 45 :  15\n",
      "language 46 :  12\n",
      "language 47 :  9\n",
      "language 48 :  17\n",
      "language 49 :  3\n",
      "language 50 :  2\n",
      "language 51 :  5\n",
      "language 52 :  2\n",
      "language 53 :  1\n",
      "language 54 :  4\n",
      "language 55 :  10\n",
      "language 56 :  7\n",
      "language 57 :  6\n",
      "language 58 :  2\n",
      "language 59 :  6\n",
      "language 60 :  6\n",
      "language 61 :  16\n",
      "language 62 :  27\n",
      "language 63 :  2\n",
      "language 64 :  4\n",
      "language 65 :  2\n"
     ]
    }
   ],
   "source": [
    "print('# the largest value among positive engagements for each language')\n",
    "\n",
    "for i in range(n_languages):\n",
    "    try:\n",
    "        print(f'language {i} : ', language_engagements[i].loc[0]['positive_cnt'])\n",
    "    except:\n",
    "        print('There is no data on language ', str(i))\n"
   ]
  },
  {
   "cell_type": "code",
   "execution_count": 30,
   "metadata": {},
   "outputs": [
    {
     "output_type": "stream",
     "name": "stdout",
     "text": [
      "# the number of rows for each language\n",
      "language 0\n",
      " - all rows :  4116 ,  positive rows :  2227\n",
      "language 1\n",
      " - all rows :  26 ,  positive rows :  14\n",
      "language 2\n",
      " - all rows :  502 ,  positive rows :  344\n",
      "language 3\n",
      " - all rows :  639 ,  positive rows :  348\n",
      "language 4\n",
      " - all rows :  1635 ,  positive rows :  866\n",
      "language 5\n",
      " - all rows :  63395 ,  positive rows :  35008\n",
      "language 6\n",
      " - all rows :  3534 ,  positive rows :  1644\n",
      "language 7\n",
      " - all rows :  8762 ,  positive rows :  4483\n",
      "language 8\n",
      " - all rows :  10224 ,  positive rows :  5483\n",
      "language 9\n",
      " - all rows :  13310 ,  positive rows :  7369\n",
      "language 10\n",
      " - all rows :  93032 ,  positive rows :  46947\n",
      "language 11\n",
      " - all rows :  835 ,  positive rows :  445\n",
      "language 12\n",
      " - all rows :  45 ,  positive rows :  27\n",
      "language 13\n",
      " - all rows :  309 ,  positive rows :  156\n",
      "language 14\n",
      " - all rows :  378 ,  positive rows :  189\n",
      "language 15\n",
      " - all rows :  70 ,  positive rows :  40\n",
      "language 16\n",
      " - all rows :  744 ,  positive rows :  353\n",
      "language 17\n",
      " - all rows :  293 ,  positive rows :  186\n",
      "language 18\n",
      " - all rows :  713 ,  positive rows :  349\n",
      "language 19\n",
      " - all rows :  514320 ,  positive rows :  248447\n",
      "language 20\n",
      " - all rows :  1366 ,  positive rows :  774\n",
      "language 21\n",
      " - all rows :  837 ,  positive rows :  441\n",
      "language 22\n",
      " - all rows :  387 ,  positive rows :  198\n",
      "language 23\n",
      " - all rows :  12235 ,  positive rows :  6417\n",
      "language 24\n",
      " - all rows :  123 ,  positive rows :  81\n",
      "language 25\n",
      " - all rows :  9793 ,  positive rows :  5559\n",
      "language 26\n",
      "There is no data on language  26\n",
      "language 27\n",
      " - all rows :  586 ,  positive rows :  427\n",
      "language 28\n",
      " - all rows :  283 ,  positive rows :  164\n",
      "language 29\n",
      " - all rows :  1412 ,  positive rows :  746\n",
      "language 30\n",
      " - all rows :  20 ,  positive rows :  10\n",
      "language 31\n",
      " - all rows :  3763 ,  positive rows :  1893\n",
      "language 32\n",
      " - all rows :  231 ,  positive rows :  111\n",
      "language 33\n",
      " - all rows :  24999 ,  positive rows :  12377\n",
      "language 34\n",
      "There is no data on language  34\n",
      "language 35\n",
      " - all rows :  2283 ,  positive rows :  1285\n",
      "language 36\n",
      " - all rows :  33489 ,  positive rows :  16309\n",
      "language 37\n",
      " - all rows :  600 ,  positive rows :  275\n",
      "language 38\n",
      "There is no data on language  38\n",
      "language 39\n",
      " - all rows :  157 ,  positive rows :  71\n",
      "language 40\n",
      " - all rows :  2233 ,  positive rows :  1149\n",
      "language 41\n",
      " - all rows :  37559 ,  positive rows :  19782\n",
      "language 42\n",
      " - all rows :  16 ,  positive rows :  11\n",
      "language 43\n",
      " - all rows :  45415 ,  positive rows :  25304\n",
      "language 44\n",
      " - all rows :  225 ,  positive rows :  125\n",
      "language 45\n",
      " - all rows :  3113 ,  positive rows :  1668\n",
      "language 46\n",
      " - all rows :  123410 ,  positive rows :  60696\n",
      "language 47\n",
      " - all rows :  16854 ,  positive rows :  9422\n",
      "language 48\n",
      " - all rows :  114392 ,  positive rows :  58758\n",
      "language 49\n",
      " - all rows :  1203 ,  positive rows :  613\n",
      "language 50\n",
      " - all rows :  433 ,  positive rows :  247\n",
      "language 51\n",
      " - all rows :  693 ,  positive rows :  379\n",
      "language 52\n",
      " - all rows :  220 ,  positive rows :  148\n",
      "language 53\n",
      " - all rows :  19 ,  positive rows :  15\n",
      "language 54\n",
      " - all rows :  418 ,  positive rows :  231\n",
      "language 55\n",
      " - all rows :  790 ,  positive rows :  484\n",
      "language 56\n",
      " - all rows :  1752 ,  positive rows :  909\n",
      "language 57\n",
      " - all rows :  5069 ,  positive rows :  2589\n",
      "language 58\n",
      " - all rows :  75 ,  positive rows :  48\n",
      "language 59\n",
      " - all rows :  486 ,  positive rows :  263\n",
      "language 60\n",
      " - all rows :  28358 ,  positive rows :  14185\n",
      "language 61\n",
      " - all rows :  253767 ,  positive rows :  123879\n",
      "language 62\n",
      " - all rows :  1309 ,  positive rows :  666\n",
      "language 63\n",
      " - all rows :  95 ,  positive rows :  60\n",
      "language 64\n",
      " - all rows :  660 ,  positive rows :  317\n",
      "language 65\n",
      " - all rows :  122 ,  positive rows :  74\n"
     ]
    }
   ],
   "source": [
    "print('# the number of rows for each language')\n",
    "\n",
    "for i in range(n_languages):\n",
    "    try:\n",
    "        print(f'language {i}')\n",
    "        print(' - all rows : ', len(language_engagements[i]),  ',  positive rows : ', len(language_engagements[i].loc[language_engagements[i]['positive_cnt'] != 0]))\n",
    "    except:\n",
    "        print('There is no data on language ', str(i))\n",
    "    \n"
   ]
  },
  {
   "cell_type": "code",
   "execution_count": null,
   "metadata": {},
   "outputs": [],
   "source": []
  },
  {
   "source": [
    "## 2. Get the popular tweets for each language"
   ],
   "cell_type": "markdown",
   "metadata": {}
  },
  {
   "cell_type": "code",
   "execution_count": 16,
   "metadata": {},
   "outputs": [],
   "source": [
    "topn = 200\n",
    "recommend_list_by_language = [[] for _ in range(n_languages)]"
   ]
  },
  {
   "cell_type": "code",
   "execution_count": 17,
   "metadata": {},
   "outputs": [],
   "source": [
    "for i in range(n_languages):\n",
    "    recommend_list_by_language[i] = language_engagements[i].loc[:topn-1]"
   ]
  },
  {
   "cell_type": "code",
   "execution_count": 18,
   "metadata": {},
   "outputs": [],
   "source": [
    "# tweet_id_encode => real tweet_id\n",
    "for i in range(n_languages):\n",
    "    tmp = recommend_list_by_language[i][['tweet_id_encode']].to_pandas()\n",
    "    tmp['tweet_id'] = tmp['tweet_id_encode'].apply(lambda x: idx_to_tweet[x])\n",
    "    recommend_list_by_language[i]['tweet_id'] = tmp['tweet_id']"
   ]
  },
  {
   "cell_type": "code",
   "execution_count": 19,
   "metadata": {},
   "outputs": [
    {
     "output_type": "execute_result",
     "data": {
      "text/plain": [
       "     language_encode  tweet_id_encode  is_reply  is_retweet  is_comment  \\\n",
       "0                 22          2575606         0           2           0   \n",
       "1                 22          2560206         0           0           0   \n",
       "2                 22              798         0           0           0   \n",
       "3                 22          2545866         0           0           0   \n",
       "4                 22          2292236         0           1           0   \n",
       "..               ...              ...       ...         ...         ...   \n",
       "195               22           886076         0           0           0   \n",
       "196               22           484416         0           0           0   \n",
       "197               22           552421         0           0           0   \n",
       "198               22           649875         0           0           0   \n",
       "199               22          1383656         1           0           0   \n",
       "\n",
       "     is_like  is_positive  is_negative                          tweet_id  \n",
       "0          5            7            2  E9BD6189EA764CB96A4875C3B613C198  \n",
       "1          5            5            2  E8555B4FDAAE52E504D7EC17EECF4D1B  \n",
       "2          5            5            1  0012C486BAFE57C59953F9633D7881B5  \n",
       "3          3            3            0  E70999C8DB54BC7A94CB9872530ADBB3  \n",
       "4          2            3            1  D003AD3DF74E2E001B80E3A1584818AF  \n",
       "..       ...          ...          ...                               ...  \n",
       "195        1            1            0  50609560E326D5627A57D2D8445F93E6  \n",
       "196        1            1            0  2BF6A6CCD6335115F6C2923DE01DF8FC  \n",
       "197        1            1            0  321D9CBA3EFB36D9804AD40FE61E1ABA  \n",
       "198        1            1            0  3AF37332E120516B424A85608BB972B5  \n",
       "199        0            1            0  7D8406A65F08672D66B710C60F70318C  \n",
       "\n",
       "[200 rows x 9 columns]"
      ],
      "text/html": "<div>\n<style scoped>\n    .dataframe tbody tr th:only-of-type {\n        vertical-align: middle;\n    }\n\n    .dataframe tbody tr th {\n        vertical-align: top;\n    }\n\n    .dataframe thead th {\n        text-align: right;\n    }\n</style>\n<table border=\"1\" class=\"dataframe\">\n  <thead>\n    <tr style=\"text-align: right;\">\n      <th></th>\n      <th>language_encode</th>\n      <th>tweet_id_encode</th>\n      <th>is_reply</th>\n      <th>is_retweet</th>\n      <th>is_comment</th>\n      <th>is_like</th>\n      <th>is_positive</th>\n      <th>is_negative</th>\n      <th>tweet_id</th>\n    </tr>\n  </thead>\n  <tbody>\n    <tr>\n      <th>0</th>\n      <td>22</td>\n      <td>2575606</td>\n      <td>0</td>\n      <td>2</td>\n      <td>0</td>\n      <td>5</td>\n      <td>7</td>\n      <td>2</td>\n      <td>E9BD6189EA764CB96A4875C3B613C198</td>\n    </tr>\n    <tr>\n      <th>1</th>\n      <td>22</td>\n      <td>2560206</td>\n      <td>0</td>\n      <td>0</td>\n      <td>0</td>\n      <td>5</td>\n      <td>5</td>\n      <td>2</td>\n      <td>E8555B4FDAAE52E504D7EC17EECF4D1B</td>\n    </tr>\n    <tr>\n      <th>2</th>\n      <td>22</td>\n      <td>798</td>\n      <td>0</td>\n      <td>0</td>\n      <td>0</td>\n      <td>5</td>\n      <td>5</td>\n      <td>1</td>\n      <td>0012C486BAFE57C59953F9633D7881B5</td>\n    </tr>\n    <tr>\n      <th>3</th>\n      <td>22</td>\n      <td>2545866</td>\n      <td>0</td>\n      <td>0</td>\n      <td>0</td>\n      <td>3</td>\n      <td>3</td>\n      <td>0</td>\n      <td>E70999C8DB54BC7A94CB9872530ADBB3</td>\n    </tr>\n    <tr>\n      <th>4</th>\n      <td>22</td>\n      <td>2292236</td>\n      <td>0</td>\n      <td>1</td>\n      <td>0</td>\n      <td>2</td>\n      <td>3</td>\n      <td>1</td>\n      <td>D003AD3DF74E2E001B80E3A1584818AF</td>\n    </tr>\n    <tr>\n      <th>...</th>\n      <td>...</td>\n      <td>...</td>\n      <td>...</td>\n      <td>...</td>\n      <td>...</td>\n      <td>...</td>\n      <td>...</td>\n      <td>...</td>\n      <td>...</td>\n    </tr>\n    <tr>\n      <th>195</th>\n      <td>22</td>\n      <td>886076</td>\n      <td>0</td>\n      <td>0</td>\n      <td>0</td>\n      <td>1</td>\n      <td>1</td>\n      <td>0</td>\n      <td>50609560E326D5627A57D2D8445F93E6</td>\n    </tr>\n    <tr>\n      <th>196</th>\n      <td>22</td>\n      <td>484416</td>\n      <td>0</td>\n      <td>0</td>\n      <td>0</td>\n      <td>1</td>\n      <td>1</td>\n      <td>0</td>\n      <td>2BF6A6CCD6335115F6C2923DE01DF8FC</td>\n    </tr>\n    <tr>\n      <th>197</th>\n      <td>22</td>\n      <td>552421</td>\n      <td>0</td>\n      <td>0</td>\n      <td>0</td>\n      <td>1</td>\n      <td>1</td>\n      <td>0</td>\n      <td>321D9CBA3EFB36D9804AD40FE61E1ABA</td>\n    </tr>\n    <tr>\n      <th>198</th>\n      <td>22</td>\n      <td>649875</td>\n      <td>0</td>\n      <td>0</td>\n      <td>0</td>\n      <td>1</td>\n      <td>1</td>\n      <td>0</td>\n      <td>3AF37332E120516B424A85608BB972B5</td>\n    </tr>\n    <tr>\n      <th>199</th>\n      <td>22</td>\n      <td>1383656</td>\n      <td>1</td>\n      <td>0</td>\n      <td>0</td>\n      <td>0</td>\n      <td>1</td>\n      <td>0</td>\n      <td>7D8406A65F08672D66B710C60F70318C</td>\n    </tr>\n  </tbody>\n</table>\n<p>200 rows × 9 columns</p>\n</div>"
     },
     "metadata": {},
     "execution_count": 19
    }
   ],
   "source": [
    "recommend_list_by_language[22]"
   ]
  },
  {
   "source": [
    "## 3. Get user's language"
   ],
   "cell_type": "markdown",
   "metadata": {}
  },
  {
   "cell_type": "code",
   "execution_count": null,
   "metadata": {},
   "outputs": [],
   "source": []
  },
  {
   "source": [
    "## 4.  Predict engagements for each user\n"
   ],
   "cell_type": "markdown",
   "metadata": {}
  },
  {
   "cell_type": "code",
   "execution_count": null,
   "metadata": {},
   "outputs": [],
   "source": []
  }
 ]
}