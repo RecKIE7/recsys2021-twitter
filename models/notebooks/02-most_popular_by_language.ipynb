{
 "metadata": {
  "language_info": {
   "codemirror_mode": {
    "name": "ipython",
    "version": 3
   },
   "file_extension": ".py",
   "mimetype": "text/x-python",
   "name": "python",
   "nbconvert_exporter": "python",
   "pygments_lexer": "ipython3",
   "version": "3.7.10-final"
  },
  "orig_nbformat": 2,
  "kernelspec": {
   "name": "dask-cudf",
   "display_name": "dask-cudf",
   "language": "python"
  }
 },
 "nbformat": 4,
 "nbformat_minor": 2,
 "cells": [
  {
   "source": [
    "# Baseline - Extract most popular tweet for each langugage"
   ],
   "cell_type": "markdown",
   "metadata": {}
  },
  {
   "cell_type": "code",
   "execution_count": 1,
   "metadata": {},
   "outputs": [],
   "source": [
    "import sys\n",
    "sys.path.append('../..')\n",
    "\n",
    "import numpy as np\n",
    "import matplotlib.pyplot as plt\n",
    "import pandas as pd\n",
    "from tqdm import tqdm\n",
    "\n",
    "from utils.cuda_cluster import *\n",
    "from utils.dataset import read_data, factorize_small_cardinality\n",
    "\n",
    "import core.config as conf\n"
   ]
  },
  {
   "cell_type": "code",
   "execution_count": 2,
   "metadata": {},
   "outputs": [
    {
     "output_type": "execute_result",
     "data": {
      "text/plain": [
       "<Client: 'tcp://127.0.0.1:46507' processes=1 threads=1, memory=33.47 GB>"
      ],
      "text/html": "<table style=\"border: 2px solid white;\">\n<tr>\n<td style=\"vertical-align: top; border: 0px solid white\">\n<h3 style=\"text-align: left;\">Client</h3>\n<ul style=\"text-align: left; list-style: none; margin: 0; padding: 0;\">\n  <li><b>Scheduler: </b>tcp://127.0.0.1:46507</li>\n  <li><b>Dashboard: </b><a href='http://127.0.0.1:8787/status' target='_blank'>http://127.0.0.1:8787/status</a></li>\n</ul>\n</td>\n<td style=\"vertical-align: top; border: 0px solid white\">\n<h3 style=\"text-align: left;\">Cluster</h3>\n<ul style=\"text-align: left; list-style:none; margin: 0; padding: 0;\">\n  <li><b>Workers: </b>1</li>\n  <li><b>Cores: </b>1</li>\n  <li><b>Memory: </b>33.47 GB</li>\n</ul>\n</td>\n</tr>\n</table>"
     },
     "metadata": {},
     "execution_count": 2
    }
   ],
   "source": [
    "client"
   ]
  },
  {
   "source": [
    "## 1. Load data & preprocessing"
   ],
   "cell_type": "markdown",
   "metadata": {}
  },
  {
   "cell_type": "code",
   "execution_count": 3,
   "metadata": {},
   "outputs": [
    {
     "output_type": "stream",
     "name": "stdout",
     "text": [
      "number of rows: 3033347\n"
     ]
    }
   ],
   "source": [
    "# data_path = conf.raw_data_path + '*' # for all dataset\n",
    "data_path = conf.raw_data_path + 'part-00175'\n",
    "ori_df = read_data(data_path)"
   ]
  },
  {
   "cell_type": "code",
   "execution_count": 4,
   "metadata": {},
   "outputs": [],
   "source": [
    "df = ori_df[['enaging_user_id', 'language', 'tweet_id', 'reply_timestamp', 'retweet_timestamp','retweet_with_comment_timestamp', 'like_timestamp']]"
   ]
  },
  {
   "cell_type": "code",
   "execution_count": 5,
   "metadata": {},
   "outputs": [],
   "source": [
    "df['is_reply'] = df['reply_timestamp'].compute().applymap(lambda x: 1 if x > 0 else 0).astype(np.int32)\n",
    "df['is_retweet'] = df['retweet_timestamp'].compute().applymap(lambda x: 1 if x > 0 else 0).astype(np.int32)\n",
    "df['is_comment'] = df['retweet_with_comment_timestamp'].compute().applymap(lambda x: 1 if x > 0 else 0).astype(np.int32)\n",
    "df['is_like'] = df['like_timestamp'].compute().applymap(lambda x: 1 if x > 0 else 0).astype(np.int32)\n",
    "\n",
    "df['is_positive'] = df[['is_like', 'is_retweet', 'is_reply', 'is_comment']].sum(axis=1).astype(np.uint8)\n",
    "df['is_negative'] =  df['is_positive'].compute().applymap(lambda x: 1 if x == 0 else 0).astype(np.int32)\n",
    "\n",
    "df = df.drop('reply_timestamp', axis=1)\n",
    "df = df.drop('retweet_timestamp', axis=1)\n",
    "df = df.drop('retweet_with_comment_timestamp', axis=1)\n",
    "df = df.drop('like_timestamp', axis=1)"
   ]
  },
  {
   "cell_type": "code",
   "execution_count": 6,
   "metadata": {},
   "outputs": [],
   "source": [
    "df, idx_to_tweet = factorize_small_cardinality(df, 'tweet_id')\n",
    "df, idx_to_language = factorize_small_cardinality(df, 'language')"
   ]
  },
  {
   "cell_type": "code",
   "execution_count": 7,
   "metadata": {},
   "outputs": [
    {
     "output_type": "execute_result",
     "data": {
      "text/plain": [
       "                     enaging_user_id                          language  \\\n",
       "id                                                                       \n",
       "1   411C3FA9B6AB5CA95192D875CDC22823  B8B04128918BBF54E2E178BFF1ABA833   \n",
       "2   E764026AB0E38A5C2FF19921D73B6C18  9FCF19233EAD65EA6E32C2E6DC03A444   \n",
       "3   455134BAAD3EAC4093393EC233FBAEF9  B0FA488F2911701DD8EC5B1EA5E322D8   \n",
       "4   92D70497B86CAFBA5C51E331084462AD  1F73BB863A39DB62B4A55B7E558DB1E8   \n",
       "5   DC1C8A9412B9E266A4C3D4CAF6DB06CB  E7F038DE3EAD397AEC9193686C911677   \n",
       "\n",
       "                            tweet_id  is_reply  is_retweet  is_comment  \\\n",
       "id                                                                       \n",
       "1   C8F345CF8BC7A86E34572072ECFBBEC4         0           0           0   \n",
       "2   C1E31636C343B780BA776E4B73147028         0           0           0   \n",
       "3   B436C84E80C2430BA9DE41FDF04C73BF         1           0           0   \n",
       "4   033FFA42C8AD502057AE96C8B4B812BE         0           0           0   \n",
       "5   84F2E902BA3CF3B34B8D056F6F78D488         0           0           0   \n",
       "\n",
       "    is_like  is_positive  is_negative  tweet_id_encode  language_encode  \n",
       "id                                                                       \n",
       "1         1            1            0          2214622               48  \n",
       "2         0            0            1          2136815               43  \n",
       "3         0            1            0          1986297               46  \n",
       "4         1            1            0            35685                5  \n",
       "5         0            0            1          1465500               61  "
      ],
      "text/html": "<div>\n<style scoped>\n    .dataframe tbody tr th:only-of-type {\n        vertical-align: middle;\n    }\n\n    .dataframe tbody tr th {\n        vertical-align: top;\n    }\n\n    .dataframe thead th {\n        text-align: right;\n    }\n</style>\n<table border=\"1\" class=\"dataframe\">\n  <thead>\n    <tr style=\"text-align: right;\">\n      <th></th>\n      <th>enaging_user_id</th>\n      <th>language</th>\n      <th>tweet_id</th>\n      <th>is_reply</th>\n      <th>is_retweet</th>\n      <th>is_comment</th>\n      <th>is_like</th>\n      <th>is_positive</th>\n      <th>is_negative</th>\n      <th>tweet_id_encode</th>\n      <th>language_encode</th>\n    </tr>\n    <tr>\n      <th>id</th>\n      <th></th>\n      <th></th>\n      <th></th>\n      <th></th>\n      <th></th>\n      <th></th>\n      <th></th>\n      <th></th>\n      <th></th>\n      <th></th>\n      <th></th>\n    </tr>\n  </thead>\n  <tbody>\n    <tr>\n      <th>1</th>\n      <td>411C3FA9B6AB5CA95192D875CDC22823</td>\n      <td>B8B04128918BBF54E2E178BFF1ABA833</td>\n      <td>C8F345CF8BC7A86E34572072ECFBBEC4</td>\n      <td>0</td>\n      <td>0</td>\n      <td>0</td>\n      <td>1</td>\n      <td>1</td>\n      <td>0</td>\n      <td>2214622</td>\n      <td>48</td>\n    </tr>\n    <tr>\n      <th>2</th>\n      <td>E764026AB0E38A5C2FF19921D73B6C18</td>\n      <td>9FCF19233EAD65EA6E32C2E6DC03A444</td>\n      <td>C1E31636C343B780BA776E4B73147028</td>\n      <td>0</td>\n      <td>0</td>\n      <td>0</td>\n      <td>0</td>\n      <td>0</td>\n      <td>1</td>\n      <td>2136815</td>\n      <td>43</td>\n    </tr>\n    <tr>\n      <th>3</th>\n      <td>455134BAAD3EAC4093393EC233FBAEF9</td>\n      <td>B0FA488F2911701DD8EC5B1EA5E322D8</td>\n      <td>B436C84E80C2430BA9DE41FDF04C73BF</td>\n      <td>1</td>\n      <td>0</td>\n      <td>0</td>\n      <td>0</td>\n      <td>1</td>\n      <td>0</td>\n      <td>1986297</td>\n      <td>46</td>\n    </tr>\n    <tr>\n      <th>4</th>\n      <td>92D70497B86CAFBA5C51E331084462AD</td>\n      <td>1F73BB863A39DB62B4A55B7E558DB1E8</td>\n      <td>033FFA42C8AD502057AE96C8B4B812BE</td>\n      <td>0</td>\n      <td>0</td>\n      <td>0</td>\n      <td>1</td>\n      <td>1</td>\n      <td>0</td>\n      <td>35685</td>\n      <td>5</td>\n    </tr>\n    <tr>\n      <th>5</th>\n      <td>DC1C8A9412B9E266A4C3D4CAF6DB06CB</td>\n      <td>E7F038DE3EAD397AEC9193686C911677</td>\n      <td>84F2E902BA3CF3B34B8D056F6F78D488</td>\n      <td>0</td>\n      <td>0</td>\n      <td>0</td>\n      <td>0</td>\n      <td>0</td>\n      <td>1</td>\n      <td>1465500</td>\n      <td>61</td>\n    </tr>\n  </tbody>\n</table>\n</div>"
     },
     "metadata": {},
     "execution_count": 7
    }
   ],
   "source": [
    "df.head()"
   ]
  },
  {
   "cell_type": "code",
   "execution_count": 8,
   "metadata": {},
   "outputs": [],
   "source": [
    "engagements = df.groupby(['language_encode', 'tweet_id_encode'])[['is_reply',\t'is_retweet',\t'is_comment',\t'is_like',\t'is_positive',\t'is_negative']].sum()\n",
    "engagements = engagements.reset_index()\n",
    "engagements = engagements.set_index('language_encode', drop=True)\n",
    "\n",
    "# engagements.loc[23].head()"
   ]
  },
  {
   "cell_type": "code",
   "execution_count": 9,
   "metadata": {},
   "outputs": [
    {
     "output_type": "stream",
     "name": "stderr",
     "text": [
      "100%|██████████| 66/66 [00:23<00:00,  2.82it/s]\n"
     ]
    }
   ],
   "source": [
    "n_languages = 66\n",
    "language_engagements = [[] for _ in range(n_languages)]\n",
    "\n",
    "for i in tqdm(range(n_languages)):\n",
    "    try:\n",
    "        tmp = engagements.loc[i]\n",
    "        tmp = tmp.compute().sort_values('is_positive', ascending=False).reset_index()\n",
    "        language_engagements[i] = tmp\n",
    "    except:\n",
    "        print('There is no data on language ', str(i))"
   ]
  },
  {
   "source": [],
   "cell_type": "markdown",
   "metadata": {}
  },
  {
   "cell_type": "code",
   "execution_count": 10,
   "metadata": {},
   "outputs": [
    {
     "output_type": "stream",
     "name": "stdout",
     "text": [
      "# the largest value among positive engagements for each language\n",
      "language 0 :  7\n",
      "language 1 :  1\n",
      "language 2 :  4\n",
      "language 3 :  9\n",
      "language 4 :  5\n",
      "language 5 :  27\n",
      "language 6 :  14\n",
      "language 7 :  11\n",
      "language 8 :  22\n",
      "language 9 :  13\n",
      "language 10 :  110\n",
      "language 11 :  6\n",
      "language 12 :  2\n",
      "language 13 :  6\n",
      "language 14 :  4\n",
      "language 15 :  3\n",
      "language 16 :  12\n",
      "language 17 :  2\n",
      "language 18 :  3\n",
      "language 19 :  90\n",
      "language 20 :  5\n",
      "language 21 :  9\n",
      "language 22 :  7\n",
      "language 23 :  7\n",
      "language 24 :  2\n",
      "language 25 :  5\n",
      "language 26 :  0\n",
      "language 27 :  3\n",
      "language 28 :  3\n",
      "language 29 :  7\n",
      "language 30 :  1\n",
      "language 31 :  6\n",
      "language 32 :  9\n",
      "language 33 :  12\n",
      "language 34 :  0\n",
      "language 35 :  9\n",
      "language 36 :  98\n",
      "language 37 :  5\n",
      "language 38 :  0\n",
      "language 39 :  2\n",
      "language 40 :  15\n",
      "language 41 :  13\n",
      "language 42 :  1\n",
      "language 43 :  27\n",
      "language 44 :  2\n",
      "language 45 :  23\n",
      "language 46 :  28\n",
      "language 47 :  12\n",
      "language 48 :  39\n",
      "language 49 :  6\n",
      "language 50 :  3\n",
      "language 51 :  8\n",
      "language 52 :  2\n",
      "language 53 :  1\n",
      "language 54 :  5\n",
      "language 55 :  18\n",
      "language 56 :  11\n",
      "language 57 :  10\n",
      "language 58 :  2\n",
      "language 59 :  10\n",
      "language 60 :  14\n",
      "language 61 :  32\n",
      "language 62 :  48\n",
      "language 63 :  3\n",
      "language 64 :  6\n",
      "language 65 :  2\n"
     ]
    }
   ],
   "source": [
    "print('# the largest value among positive engagements for each language')\n",
    "\n",
    "for i in range(n_languages):\n",
    "    print(f'language {i} : ', language_engagements[i].loc[0]['is_positive'])\n"
   ]
  },
  {
   "cell_type": "code",
   "execution_count": 11,
   "metadata": {},
   "outputs": [
    {
     "output_type": "stream",
     "name": "stdout",
     "text": [
      "# the number of rows for each language\n",
      "language 0\n",
      " - all rows :  7820 ,  positive rows :  4195\n",
      "language 1\n",
      " - all rows :  38 ,  positive rows :  21\n",
      "language 2\n",
      " - all rows :  998 ,  positive rows :  678\n",
      "language 3\n",
      " - all rows :  1208 ,  positive rows :  649\n",
      "language 4\n",
      " - all rows :  3303 ,  positive rows :  1728\n",
      "language 5\n",
      " - all rows :  123095 ,  positive rows :  66302\n",
      "language 6\n",
      " - all rows :  6810 ,  positive rows :  3163\n",
      "language 7\n",
      " - all rows :  17362 ,  positive rows :  8795\n",
      "language 8\n",
      " - all rows :  20096 ,  positive rows :  10624\n",
      "language 9\n",
      " - all rows :  26365 ,  positive rows :  14440\n",
      "language 10\n",
      " - all rows :  180123 ,  positive rows :  87963\n",
      "language 11\n",
      " - all rows :  1607 ,  positive rows :  842\n",
      "language 12\n",
      " - all rows :  92 ,  positive rows :  57\n",
      "language 13\n",
      " - all rows :  660 ,  positive rows :  322\n",
      "language 14\n",
      " - all rows :  761 ,  positive rows :  370\n",
      "language 15\n",
      " - all rows :  142 ,  positive rows :  85\n",
      "language 16\n",
      " - all rows :  1374 ,  positive rows :  616\n",
      "language 17\n",
      " - all rows :  591 ,  positive rows :  361\n",
      "language 18\n",
      " - all rows :  1457 ,  positive rows :  726\n",
      "language 19\n",
      " - all rows :  995278 ,  positive rows :  466941\n",
      "language 20\n",
      " - all rows :  2662 ,  positive rows :  1458\n",
      "language 21\n",
      " - all rows :  1752 ,  positive rows :  901\n",
      "language 22\n",
      " - all rows :  803 ,  positive rows :  408\n",
      "language 23\n",
      " - all rows :  24084 ,  positive rows :  12569\n",
      "language 24\n",
      " - all rows :  247 ,  positive rows :  157\n",
      "language 25\n",
      " - all rows :  19470 ,  positive rows :  10910\n",
      "language 26\n",
      " - all rows :  3 ,  positive rows :  0\n",
      "language 27\n",
      " - all rows :  1230 ,  positive rows :  858\n",
      "language 28\n",
      " - all rows :  563 ,  positive rows :  313\n",
      "language 29\n",
      " - all rows :  2762 ,  positive rows :  1465\n",
      "language 30\n",
      " - all rows :  45 ,  positive rows :  27\n",
      "language 31\n",
      " - all rows :  7325 ,  positive rows :  3673\n",
      "language 32\n",
      " - all rows :  415 ,  positive rows :  204\n",
      "language 33\n",
      " - all rows :  48631 ,  positive rows :  23454\n",
      "language 34\n",
      " - all rows :  3 ,  positive rows :  0\n",
      "language 35\n",
      " - all rows :  4487 ,  positive rows :  2524\n",
      "language 36\n",
      " - all rows :  65070 ,  positive rows :  30010\n",
      "language 37\n",
      " - all rows :  1199 ,  positive rows :  555\n",
      "language 38\n",
      " - all rows :  1 ,  positive rows :  0\n",
      "language 39\n",
      " - all rows :  292 ,  positive rows :  144\n",
      "language 40\n",
      " - all rows :  4294 ,  positive rows :  2216\n",
      "language 41\n",
      " - all rows :  74676 ,  positive rows :  38906\n",
      "language 42\n",
      " - all rows :  23 ,  positive rows :  16\n",
      "language 43\n",
      " - all rows :  89949 ,  positive rows :  49925\n",
      "language 44\n",
      " - all rows :  476 ,  positive rows :  244\n",
      "language 45\n",
      " - all rows :  6274 ,  positive rows :  3339\n",
      "language 46\n",
      " - all rows :  241614 ,  positive rows :  116786\n",
      "language 47\n",
      " - all rows :  32261 ,  positive rows :  17573\n",
      "language 48\n",
      " - all rows :  221750 ,  positive rows :  110492\n",
      "language 49\n",
      " - all rows :  2408 ,  positive rows :  1209\n",
      "language 50\n",
      " - all rows :  891 ,  positive rows :  498\n",
      "language 51\n",
      " - all rows :  1345 ,  positive rows :  715\n",
      "language 52\n",
      " - all rows :  459 ,  positive rows :  307\n",
      "language 53\n",
      " - all rows :  34 ,  positive rows :  24\n",
      "language 54\n",
      " - all rows :  839 ,  positive rows :  452\n",
      "language 55\n",
      " - all rows :  1532 ,  positive rows :  915\n",
      "language 56\n",
      " - all rows :  3491 ,  positive rows :  1736\n",
      "language 57\n",
      " - all rows :  10042 ,  positive rows :  5166\n",
      "language 58\n",
      " - all rows :  138 ,  positive rows :  86\n",
      "language 59\n",
      " - all rows :  954 ,  positive rows :  531\n",
      "language 60\n",
      " - all rows :  55577 ,  positive rows :  27085\n",
      "language 61\n",
      " - all rows :  497792 ,  positive rows :  238168\n",
      "language 62\n",
      " - all rows :  2572 ,  positive rows :  1330\n",
      "language 63\n",
      " - all rows :  177 ,  positive rows :  109\n",
      "language 64\n",
      " - all rows :  1259 ,  positive rows :  572\n",
      "language 65\n",
      " - all rows :  263 ,  positive rows :  160\n"
     ]
    }
   ],
   "source": [
    "print('# the number of rows for each language')\n",
    "\n",
    "for i in range(n_languages):\n",
    "    print(f'language {i}')\n",
    "    print(' - all rows : ', len(language_engagements[i]),  ',  positive rows : ', len(language_engagements[i].loc[language_engagements[i]['is_negative'] == 0]))\n"
   ]
  },
  {
   "cell_type": "code",
   "execution_count": null,
   "metadata": {},
   "outputs": [],
   "source": []
  },
  {
   "source": [
    "## 2. Get the popular tweets for each language"
   ],
   "cell_type": "markdown",
   "metadata": {}
  },
  {
   "cell_type": "code",
   "execution_count": 16,
   "metadata": {},
   "outputs": [],
   "source": [
    "topn = 200\n",
    "recommend_list_by_language = [[] for _ in range(n_languages)]"
   ]
  },
  {
   "cell_type": "code",
   "execution_count": 17,
   "metadata": {},
   "outputs": [],
   "source": [
    "for i in range(n_languages):\n",
    "    recommend_list_by_language[i] = language_engagements[i].loc[:topn-1]"
   ]
  },
  {
   "cell_type": "code",
   "execution_count": 18,
   "metadata": {},
   "outputs": [],
   "source": [
    "# tweet_id_encode => real tweet_id\n",
    "for i in range(n_languages):\n",
    "    tmp = recommend_list_by_language[i][['tweet_id_encode']].to_pandas()\n",
    "    tmp['tweet_id'] = tmp['tweet_id_encode'].apply(lambda x: idx_to_tweet[x])\n",
    "    recommend_list_by_language[i]['tweet_id'] = tmp['tweet_id']"
   ]
  },
  {
   "cell_type": "code",
   "execution_count": 19,
   "metadata": {},
   "outputs": [
    {
     "output_type": "execute_result",
     "data": {
      "text/plain": [
       "     language_encode  tweet_id_encode  is_reply  is_retweet  is_comment  \\\n",
       "0                 22          2575606         0           2           0   \n",
       "1                 22          2560206         0           0           0   \n",
       "2                 22              798         0           0           0   \n",
       "3                 22          2545866         0           0           0   \n",
       "4                 22          2292236         0           1           0   \n",
       "..               ...              ...       ...         ...         ...   \n",
       "195               22           886076         0           0           0   \n",
       "196               22           484416         0           0           0   \n",
       "197               22           552421         0           0           0   \n",
       "198               22           649875         0           0           0   \n",
       "199               22          1383656         1           0           0   \n",
       "\n",
       "     is_like  is_positive  is_negative                          tweet_id  \n",
       "0          5            7            2  E9BD6189EA764CB96A4875C3B613C198  \n",
       "1          5            5            2  E8555B4FDAAE52E504D7EC17EECF4D1B  \n",
       "2          5            5            1  0012C486BAFE57C59953F9633D7881B5  \n",
       "3          3            3            0  E70999C8DB54BC7A94CB9872530ADBB3  \n",
       "4          2            3            1  D003AD3DF74E2E001B80E3A1584818AF  \n",
       "..       ...          ...          ...                               ...  \n",
       "195        1            1            0  50609560E326D5627A57D2D8445F93E6  \n",
       "196        1            1            0  2BF6A6CCD6335115F6C2923DE01DF8FC  \n",
       "197        1            1            0  321D9CBA3EFB36D9804AD40FE61E1ABA  \n",
       "198        1            1            0  3AF37332E120516B424A85608BB972B5  \n",
       "199        0            1            0  7D8406A65F08672D66B710C60F70318C  \n",
       "\n",
       "[200 rows x 9 columns]"
      ],
      "text/html": "<div>\n<style scoped>\n    .dataframe tbody tr th:only-of-type {\n        vertical-align: middle;\n    }\n\n    .dataframe tbody tr th {\n        vertical-align: top;\n    }\n\n    .dataframe thead th {\n        text-align: right;\n    }\n</style>\n<table border=\"1\" class=\"dataframe\">\n  <thead>\n    <tr style=\"text-align: right;\">\n      <th></th>\n      <th>language_encode</th>\n      <th>tweet_id_encode</th>\n      <th>is_reply</th>\n      <th>is_retweet</th>\n      <th>is_comment</th>\n      <th>is_like</th>\n      <th>is_positive</th>\n      <th>is_negative</th>\n      <th>tweet_id</th>\n    </tr>\n  </thead>\n  <tbody>\n    <tr>\n      <th>0</th>\n      <td>22</td>\n      <td>2575606</td>\n      <td>0</td>\n      <td>2</td>\n      <td>0</td>\n      <td>5</td>\n      <td>7</td>\n      <td>2</td>\n      <td>E9BD6189EA764CB96A4875C3B613C198</td>\n    </tr>\n    <tr>\n      <th>1</th>\n      <td>22</td>\n      <td>2560206</td>\n      <td>0</td>\n      <td>0</td>\n      <td>0</td>\n      <td>5</td>\n      <td>5</td>\n      <td>2</td>\n      <td>E8555B4FDAAE52E504D7EC17EECF4D1B</td>\n    </tr>\n    <tr>\n      <th>2</th>\n      <td>22</td>\n      <td>798</td>\n      <td>0</td>\n      <td>0</td>\n      <td>0</td>\n      <td>5</td>\n      <td>5</td>\n      <td>1</td>\n      <td>0012C486BAFE57C59953F9633D7881B5</td>\n    </tr>\n    <tr>\n      <th>3</th>\n      <td>22</td>\n      <td>2545866</td>\n      <td>0</td>\n      <td>0</td>\n      <td>0</td>\n      <td>3</td>\n      <td>3</td>\n      <td>0</td>\n      <td>E70999C8DB54BC7A94CB9872530ADBB3</td>\n    </tr>\n    <tr>\n      <th>4</th>\n      <td>22</td>\n      <td>2292236</td>\n      <td>0</td>\n      <td>1</td>\n      <td>0</td>\n      <td>2</td>\n      <td>3</td>\n      <td>1</td>\n      <td>D003AD3DF74E2E001B80E3A1584818AF</td>\n    </tr>\n    <tr>\n      <th>...</th>\n      <td>...</td>\n      <td>...</td>\n      <td>...</td>\n      <td>...</td>\n      <td>...</td>\n      <td>...</td>\n      <td>...</td>\n      <td>...</td>\n      <td>...</td>\n    </tr>\n    <tr>\n      <th>195</th>\n      <td>22</td>\n      <td>886076</td>\n      <td>0</td>\n      <td>0</td>\n      <td>0</td>\n      <td>1</td>\n      <td>1</td>\n      <td>0</td>\n      <td>50609560E326D5627A57D2D8445F93E6</td>\n    </tr>\n    <tr>\n      <th>196</th>\n      <td>22</td>\n      <td>484416</td>\n      <td>0</td>\n      <td>0</td>\n      <td>0</td>\n      <td>1</td>\n      <td>1</td>\n      <td>0</td>\n      <td>2BF6A6CCD6335115F6C2923DE01DF8FC</td>\n    </tr>\n    <tr>\n      <th>197</th>\n      <td>22</td>\n      <td>552421</td>\n      <td>0</td>\n      <td>0</td>\n      <td>0</td>\n      <td>1</td>\n      <td>1</td>\n      <td>0</td>\n      <td>321D9CBA3EFB36D9804AD40FE61E1ABA</td>\n    </tr>\n    <tr>\n      <th>198</th>\n      <td>22</td>\n      <td>649875</td>\n      <td>0</td>\n      <td>0</td>\n      <td>0</td>\n      <td>1</td>\n      <td>1</td>\n      <td>0</td>\n      <td>3AF37332E120516B424A85608BB972B5</td>\n    </tr>\n    <tr>\n      <th>199</th>\n      <td>22</td>\n      <td>1383656</td>\n      <td>1</td>\n      <td>0</td>\n      <td>0</td>\n      <td>0</td>\n      <td>1</td>\n      <td>0</td>\n      <td>7D8406A65F08672D66B710C60F70318C</td>\n    </tr>\n  </tbody>\n</table>\n<p>200 rows × 9 columns</p>\n</div>"
     },
     "metadata": {},
     "execution_count": 19
    }
   ],
   "source": [
    "recommend_list_by_language[22]"
   ]
  },
  {
   "source": [
    "## 3. Get user's language"
   ],
   "cell_type": "markdown",
   "metadata": {}
  },
  {
   "cell_type": "code",
   "execution_count": null,
   "metadata": {},
   "outputs": [],
   "source": []
  },
  {
   "source": [
    "## 4.  Recommend tweets to each user\n",
    "- 1) Remove the tweets that already read by user.\n",
    "- 2) Get the popular tweets (reagardless of the language) if there is no enough tweets to recommend."
   ],
   "cell_type": "markdown",
   "metadata": {}
  },
  {
   "cell_type": "code",
   "execution_count": null,
   "metadata": {},
   "outputs": [],
   "source": []
  }
 ]
}