{
 "cells": [
  {
   "cell_type": "code",
   "execution_count": 1,
   "id": "da4d22e6",
   "metadata": {},
   "outputs": [
    {
     "name": "stderr",
     "output_type": "stream",
     "text": [
      "/home/nyongja/anaconda3/envs/dask/lib/python3.7/site-packages/distributed/node.py:155: UserWarning: Port 8787 is already in use.\n",
      "Perhaps you already have a cluster running?\n",
      "Hosting the HTTP server on port 45937 instead\n",
      "  http_address[\"port\"], self.http_server.port\n"
     ]
    }
   ],
   "source": [
    "import sys\n",
    "sys.path.append('../..')\n",
    "\n",
    "import numpy as np\n",
    "import matplotlib.pyplot as plt\n",
    "import pandas as pd\n",
    "from tqdm import tqdm\n",
    "from sklearn.model_selection import train_test_split\n",
    "import tensorflow as tf\n",
    "from tensorflow import feature_column as fc\n",
    "from tensorflow.keras.models import Sequential\n",
    "from tensorflow.keras.layers import Dense\n",
    "from sklearn import preprocessing\n",
    "\n",
    "from utils.cuda_cluster import *\n",
    "from utils.preprocessing import read_data, factorize_small_cardinality_with_index, df_to_tfdataset, split_join, get_media_index\n",
    "from utils.evaluate import calculate_ctr, compute_rce, average_precision_score\n",
    "import core.config as conf"
   ]
  },
  {
   "cell_type": "code",
   "execution_count": 2,
   "id": "ac9d7d79",
   "metadata": {},
   "outputs": [
    {
     "data": {
      "text/html": [
       "<table style=\"border: 2px solid white;\">\n",
       "<tr>\n",
       "<td style=\"vertical-align: top; border: 0px solid white\">\n",
       "<h3 style=\"text-align: left;\">Client</h3>\n",
       "<ul style=\"text-align: left; list-style: none; margin: 0; padding: 0;\">\n",
       "  <li><b>Scheduler: </b>tcp://127.0.0.1:46743</li>\n",
       "  <li><b>Dashboard: </b><a href='http://127.0.0.1:45937/status' target='_blank'>http://127.0.0.1:45937/status</a></li>\n",
       "</ul>\n",
       "</td>\n",
       "<td style=\"vertical-align: top; border: 0px solid white\">\n",
       "<h3 style=\"text-align: left;\">Cluster</h3>\n",
       "<ul style=\"text-align: left; list-style:none; margin: 0; padding: 0;\">\n",
       "  <li><b>Workers: </b>1</li>\n",
       "  <li><b>Cores: </b>1</li>\n",
       "  <li><b>Memory: </b>33.47 GB</li>\n",
       "</ul>\n",
       "</td>\n",
       "</tr>\n",
       "</table>"
      ],
      "text/plain": [
       "<Client: 'tcp://127.0.0.1:46743' processes=1 threads=1, memory=33.47 GB>"
      ]
     },
     "execution_count": 2,
     "metadata": {},
     "output_type": "execute_result"
    }
   ],
   "source": [
    "client"
   ]
  },
  {
   "cell_type": "markdown",
   "id": "66d6dba4",
   "metadata": {},
   "source": [
    "## Load data"
   ]
  },
  {
   "cell_type": "code",
   "execution_count": 3,
   "id": "3396761e",
   "metadata": {},
   "outputs": [],
   "source": [
    "# data_path = conf.raw_data_path + '*' # for all dataset\n",
    "data_path = conf.data_root + 'dask_input'\n",
    "df = dask_cudf.read_parquet(f'{data_path}/train-final-te-like-1.parquet', index=False)"
   ]
  },
  {
   "cell_type": "markdown",
   "id": "4636c0a7",
   "metadata": {},
   "source": [
    "## Preprocessing"
   ]
  },
  {
   "cell_type": "code",
   "execution_count": 4,
   "id": "55a4b456",
   "metadata": {},
   "outputs": [
    {
     "data": {
      "text/html": [
       "<div>\n",
       "<style scoped>\n",
       "    .dataframe tbody tr th:only-of-type {\n",
       "        vertical-align: middle;\n",
       "    }\n",
       "\n",
       "    .dataframe tbody tr th {\n",
       "        vertical-align: top;\n",
       "    }\n",
       "\n",
       "    .dataframe thead th {\n",
       "        text-align: right;\n",
       "    }\n",
       "</style>\n",
       "<table border=\"1\" class=\"dataframe\">\n",
       "  <thead>\n",
       "    <tr style=\"text-align: right;\">\n",
       "      <th></th>\n",
       "      <th>timestamp</th>\n",
       "      <th>creator_follower_count</th>\n",
       "      <th>creator_following_count</th>\n",
       "      <th>creator_is_verified</th>\n",
       "      <th>creator_account_creation</th>\n",
       "      <th>engager_follower_count</th>\n",
       "      <th>engager_following_count</th>\n",
       "      <th>engager_is_verified</th>\n",
       "      <th>engager_account_creation</th>\n",
       "      <th>engager_follows_creator</th>\n",
       "      <th>...</th>\n",
       "      <th>TE_creator_count_combined_tweet_type_language_like</th>\n",
       "      <th>TE_creator_user_fer_count_delta_time_media_language_like</th>\n",
       "      <th>TE_creator_user_fing_count_delta_time_media_language_like</th>\n",
       "      <th>TE_creator_user_fering_count_delta_time_tweet_type_language_like</th>\n",
       "      <th>TE_creator_user_fing_count_mode_media_language_like</th>\n",
       "      <th>TE_creator_user_fer_count_mode_media_language_like</th>\n",
       "      <th>TE_creator_user_fering_count_mode_tweet_type_language_like</th>\n",
       "      <th>TE_domains_media_tweet_type_language_like</th>\n",
       "      <th>TE_links_media_tweet_type_language_like</th>\n",
       "      <th>TE_hashtags_media_tweet_type_language_like</th>\n",
       "    </tr>\n",
       "  </thead>\n",
       "  <tbody>\n",
       "    <tr>\n",
       "      <th>0</th>\n",
       "      <td>1612587832</td>\n",
       "      <td>3885</td>\n",
       "      <td>3051</td>\n",
       "      <td>0</td>\n",
       "      <td>1568428850</td>\n",
       "      <td>634</td>\n",
       "      <td>531</td>\n",
       "      <td>0</td>\n",
       "      <td>1590421816</td>\n",
       "      <td>1</td>\n",
       "      <td>...</td>\n",
       "      <td>0.472310</td>\n",
       "      <td>0.353791</td>\n",
       "      <td>0.353791</td>\n",
       "      <td>0.472310</td>\n",
       "      <td>0.354039</td>\n",
       "      <td>0.354039</td>\n",
       "      <td>0.471939</td>\n",
       "      <td>0.435391</td>\n",
       "      <td>0.435391</td>\n",
       "      <td>0.423956</td>\n",
       "    </tr>\n",
       "    <tr>\n",
       "      <th>1</th>\n",
       "      <td>1613743226</td>\n",
       "      <td>226443</td>\n",
       "      <td>0</td>\n",
       "      <td>0</td>\n",
       "      <td>1597609757</td>\n",
       "      <td>633</td>\n",
       "      <td>151</td>\n",
       "      <td>0</td>\n",
       "      <td>1541162905</td>\n",
       "      <td>0</td>\n",
       "      <td>...</td>\n",
       "      <td>0.474047</td>\n",
       "      <td>0.355000</td>\n",
       "      <td>0.355000</td>\n",
       "      <td>0.474047</td>\n",
       "      <td>0.355901</td>\n",
       "      <td>0.355901</td>\n",
       "      <td>0.473944</td>\n",
       "      <td>0.432625</td>\n",
       "      <td>0.432625</td>\n",
       "      <td>0.434331</td>\n",
       "    </tr>\n",
       "    <tr>\n",
       "      <th>2</th>\n",
       "      <td>1613369374</td>\n",
       "      <td>1353309</td>\n",
       "      <td>537</td>\n",
       "      <td>1</td>\n",
       "      <td>1299819150</td>\n",
       "      <td>2304</td>\n",
       "      <td>844</td>\n",
       "      <td>0</td>\n",
       "      <td>1278714864</td>\n",
       "      <td>0</td>\n",
       "      <td>...</td>\n",
       "      <td>0.527204</td>\n",
       "      <td>0.488510</td>\n",
       "      <td>0.488510</td>\n",
       "      <td>0.527204</td>\n",
       "      <td>0.487882</td>\n",
       "      <td>0.487882</td>\n",
       "      <td>0.526625</td>\n",
       "      <td>0.597564</td>\n",
       "      <td>0.597564</td>\n",
       "      <td>0.601652</td>\n",
       "    </tr>\n",
       "    <tr>\n",
       "      <th>3</th>\n",
       "      <td>1614038010</td>\n",
       "      <td>226308</td>\n",
       "      <td>9</td>\n",
       "      <td>0</td>\n",
       "      <td>1468552079</td>\n",
       "      <td>85</td>\n",
       "      <td>808</td>\n",
       "      <td>0</td>\n",
       "      <td>1387326144</td>\n",
       "      <td>0</td>\n",
       "      <td>...</td>\n",
       "      <td>0.524442</td>\n",
       "      <td>0.475492</td>\n",
       "      <td>0.475492</td>\n",
       "      <td>0.523578</td>\n",
       "      <td>0.475356</td>\n",
       "      <td>0.475356</td>\n",
       "      <td>0.524442</td>\n",
       "      <td>0.597564</td>\n",
       "      <td>0.597564</td>\n",
       "      <td>0.601652</td>\n",
       "    </tr>\n",
       "    <tr>\n",
       "      <th>4</th>\n",
       "      <td>1612525320</td>\n",
       "      <td>131219</td>\n",
       "      <td>1023</td>\n",
       "      <td>0</td>\n",
       "      <td>1517575079</td>\n",
       "      <td>141</td>\n",
       "      <td>340</td>\n",
       "      <td>0</td>\n",
       "      <td>1560679572</td>\n",
       "      <td>0</td>\n",
       "      <td>...</td>\n",
       "      <td>0.000000</td>\n",
       "      <td>0.000000</td>\n",
       "      <td>0.000000</td>\n",
       "      <td>0.000000</td>\n",
       "      <td>0.000000</td>\n",
       "      <td>0.000000</td>\n",
       "      <td>0.000000</td>\n",
       "      <td>0.000000</td>\n",
       "      <td>0.000000</td>\n",
       "      <td>0.000000</td>\n",
       "    </tr>\n",
       "  </tbody>\n",
       "</table>\n",
       "<p>5 rows × 72 columns</p>\n",
       "</div>"
      ],
      "text/plain": [
       "    timestamp  creator_follower_count  creator_following_count  \\\n",
       "0  1612587832                    3885                     3051   \n",
       "1  1613743226                  226443                        0   \n",
       "2  1613369374                 1353309                      537   \n",
       "3  1614038010                  226308                        9   \n",
       "4  1612525320                  131219                     1023   \n",
       "\n",
       "   creator_is_verified  creator_account_creation  engager_follower_count  \\\n",
       "0                    0                1568428850                     634   \n",
       "1                    0                1597609757                     633   \n",
       "2                    1                1299819150                    2304   \n",
       "3                    0                1468552079                      85   \n",
       "4                    0                1517575079                     141   \n",
       "\n",
       "   engager_following_count  engager_is_verified  engager_account_creation  \\\n",
       "0                      531                    0                1590421816   \n",
       "1                      151                    0                1541162905   \n",
       "2                      844                    0                1278714864   \n",
       "3                      808                    0                1387326144   \n",
       "4                      340                    0                1560679572   \n",
       "\n",
       "   engager_follows_creator  ...  \\\n",
       "0                        1  ...   \n",
       "1                        0  ...   \n",
       "2                        0  ...   \n",
       "3                        0  ...   \n",
       "4                        0  ...   \n",
       "\n",
       "   TE_creator_count_combined_tweet_type_language_like  \\\n",
       "0                                           0.472310    \n",
       "1                                           0.474047    \n",
       "2                                           0.527204    \n",
       "3                                           0.524442    \n",
       "4                                           0.000000    \n",
       "\n",
       "   TE_creator_user_fer_count_delta_time_media_language_like  \\\n",
       "0                                           0.353791          \n",
       "1                                           0.355000          \n",
       "2                                           0.488510          \n",
       "3                                           0.475492          \n",
       "4                                           0.000000          \n",
       "\n",
       "   TE_creator_user_fing_count_delta_time_media_language_like  \\\n",
       "0                                           0.353791           \n",
       "1                                           0.355000           \n",
       "2                                           0.488510           \n",
       "3                                           0.475492           \n",
       "4                                           0.000000           \n",
       "\n",
       "   TE_creator_user_fering_count_delta_time_tweet_type_language_like  \\\n",
       "0                                           0.472310                  \n",
       "1                                           0.474047                  \n",
       "2                                           0.527204                  \n",
       "3                                           0.523578                  \n",
       "4                                           0.000000                  \n",
       "\n",
       "   TE_creator_user_fing_count_mode_media_language_like  \\\n",
       "0                                           0.354039     \n",
       "1                                           0.355901     \n",
       "2                                           0.487882     \n",
       "3                                           0.475356     \n",
       "4                                           0.000000     \n",
       "\n",
       "   TE_creator_user_fer_count_mode_media_language_like  \\\n",
       "0                                           0.354039    \n",
       "1                                           0.355901    \n",
       "2                                           0.487882    \n",
       "3                                           0.475356    \n",
       "4                                           0.000000    \n",
       "\n",
       "   TE_creator_user_fering_count_mode_tweet_type_language_like  \\\n",
       "0                                           0.471939            \n",
       "1                                           0.473944            \n",
       "2                                           0.526625            \n",
       "3                                           0.524442            \n",
       "4                                           0.000000            \n",
       "\n",
       "   TE_domains_media_tweet_type_language_like  \\\n",
       "0                                   0.435391   \n",
       "1                                   0.432625   \n",
       "2                                   0.597564   \n",
       "3                                   0.597564   \n",
       "4                                   0.000000   \n",
       "\n",
       "   TE_links_media_tweet_type_language_like  \\\n",
       "0                                 0.435391   \n",
       "1                                 0.432625   \n",
       "2                                 0.597564   \n",
       "3                                 0.597564   \n",
       "4                                 0.000000   \n",
       "\n",
       "   TE_hashtags_media_tweet_type_language_like  \n",
       "0                                    0.423956  \n",
       "1                                    0.434331  \n",
       "2                                    0.601652  \n",
       "3                                    0.601652  \n",
       "4                                    0.000000  \n",
       "\n",
       "[5 rows x 72 columns]"
      ]
     },
     "execution_count": 4,
     "metadata": {},
     "output_type": "execute_result"
    }
   ],
   "source": [
    "df.head()"
   ]
  },
  {
   "cell_type": "code",
   "execution_count": 5,
   "id": "d3e7e769",
   "metadata": {},
   "outputs": [
    {
     "data": {
      "text/plain": [
       "timestamp                                                          0\n",
       "creator_follower_count                                             0\n",
       "creator_following_count                                            0\n",
       "creator_is_verified                                                0\n",
       "creator_account_creation                                           0\n",
       "                                                               ...  \n",
       "TE_creator_user_fer_count_mode_media_language_like            146676\n",
       "TE_creator_user_fering_count_mode_tweet_type_language_like    146222\n",
       "TE_domains_media_tweet_type_language_like                      79182\n",
       "TE_links_media_tweet_type_language_like                       308353\n",
       "TE_hashtags_media_tweet_type_language_like                    340310\n",
       "Length: 72, dtype: uint64"
      ]
     },
     "execution_count": 5,
     "metadata": {},
     "output_type": "execute_result"
    }
   ],
   "source": [
    "df.isnull().sum().compute()"
   ]
  },
  {
   "cell_type": "code",
   "execution_count": 6,
   "id": "b38229a5",
   "metadata": {},
   "outputs": [],
   "source": [
    "df = df.fillna(0)"
   ]
  },
  {
   "cell_type": "code",
   "execution_count": 7,
   "id": "af99c1eb",
   "metadata": {},
   "outputs": [],
   "source": [
    "df = df.astype(np.int64)"
   ]
  },
  {
   "cell_type": "markdown",
   "id": "72b5bc29",
   "metadata": {},
   "source": [
    "## Modeling"
   ]
  },
  {
   "cell_type": "code",
   "execution_count": 8,
   "id": "576f52eb",
   "metadata": {},
   "outputs": [],
   "source": [
    "df_y = df[['like']]\n",
    "df_x = df.drop(['like'], axis = 1)"
   ]
  },
  {
   "cell_type": "code",
   "execution_count": 9,
   "id": "355ac793",
   "metadata": {},
   "outputs": [],
   "source": [
    "X_train = df_x\n",
    "y_train = df_y['like'].to_frame()"
   ]
  },
  {
   "cell_type": "markdown",
   "id": "3c35dcde",
   "metadata": {},
   "source": [
    "## Scaling"
   ]
  },
  {
   "cell_type": "code",
   "execution_count": 10,
   "id": "db9fd90a",
   "metadata": {},
   "outputs": [
    {
     "data": {
      "text/plain": [
       "StandardScaler()"
      ]
     },
     "execution_count": 10,
     "metadata": {},
     "output_type": "execute_result"
    }
   ],
   "source": [
    "standard_scaler = preprocessing.StandardScaler()\n",
    "standard_scaler.fit(X_train.compute().as_matrix())"
   ]
  },
  {
   "cell_type": "code",
   "execution_count": 11,
   "id": "3deb2865",
   "metadata": {},
   "outputs": [],
   "source": [
    "ss = standard_scaler.transform(X_train.compute().as_matrix())"
   ]
  },
  {
   "cell_type": "code",
   "execution_count": 12,
   "id": "ecc50afb",
   "metadata": {},
   "outputs": [],
   "source": [
    "X_train = pd.DataFrame(ss, columns = df_x.columns)"
   ]
  },
  {
   "cell_type": "code",
   "execution_count": 14,
   "id": "89032f07",
   "metadata": {},
   "outputs": [],
   "source": [
    "X_train, X_test, y_train, y_test = train_test_split(X_train, y_train.compute().to_pandas(), test_size=0.2)"
   ]
  },
  {
   "cell_type": "code",
   "execution_count": 15,
   "id": "c6d5b73b",
   "metadata": {},
   "outputs": [],
   "source": [
    "X_test, X_val, y_test, y_val = train_test_split(X_test, y_test, test_size=0.2)"
   ]
  },
  {
   "cell_type": "code",
   "execution_count": 16,
   "id": "e6c97906",
   "metadata": {},
   "outputs": [],
   "source": [
    "model = Sequential([\n",
    "    Dense(64, activation = 'relu', input_dim = X_test.shape[1]),\n",
    "    Dense(32, activation = 'relu'),\n",
    "    Dense(16, activation = 'relu'),\n",
    "    Dense(2, activation = 'softmax')\n",
    "])"
   ]
  },
  {
   "cell_type": "code",
   "execution_count": 17,
   "id": "8684147a",
   "metadata": {},
   "outputs": [],
   "source": [
    "model.compile(\n",
    "    optimizer = 'adam',\n",
    "    loss = 'sparse_categorical_crossentropy', # softmax : sparse_categorical_crossentropy, sigmoid : binary_crossentropy\n",
    "    metrics=['accuracy'])"
   ]
  },
  {
   "cell_type": "code",
   "execution_count": 18,
   "id": "f0e32715",
   "metadata": {},
   "outputs": [
    {
     "name": "stdout",
     "output_type": "stream",
     "text": [
      "Model: \"sequential\"\n",
      "_________________________________________________________________\n",
      "Layer (type)                 Output Shape              Param #   \n",
      "=================================================================\n",
      "dense (Dense)                (None, 64)                4608      \n",
      "_________________________________________________________________\n",
      "dense_1 (Dense)              (None, 32)                2080      \n",
      "_________________________________________________________________\n",
      "dense_2 (Dense)              (None, 16)                528       \n",
      "_________________________________________________________________\n",
      "dense_3 (Dense)              (None, 2)                 34        \n",
      "=================================================================\n",
      "Total params: 7,250\n",
      "Trainable params: 7,250\n",
      "Non-trainable params: 0\n",
      "_________________________________________________________________\n"
     ]
    }
   ],
   "source": [
    "model.summary()"
   ]
  },
  {
   "cell_type": "code",
   "execution_count": 20,
   "id": "cdc3d7aa",
   "metadata": {},
   "outputs": [
    {
     "name": "stdout",
     "output_type": "stream",
     "text": [
      "Epoch 1/5\n",
      "38503/38503 [==============================] - 16s 407us/step - loss: 0.6072 - accuracy: 0.6721 - val_loss: 0.5966 - val_accuracy: 0.6818\n",
      "Epoch 2/5\n",
      "38503/38503 [==============================] - 16s 405us/step - loss: 0.5971 - accuracy: 0.6790 - val_loss: 0.5925 - val_accuracy: 0.6838\n",
      "Epoch 3/5\n",
      "38503/38503 [==============================] - 16s 403us/step - loss: 0.5939 - accuracy: 0.6810 - val_loss: 0.5908 - val_accuracy: 0.6852\n",
      "Epoch 4/5\n",
      "38503/38503 [==============================] - 15s 399us/step - loss: 0.5914 - accuracy: 0.6833 - val_loss: 0.5895 - val_accuracy: 0.6838\n",
      "Epoch 5/5\n",
      "38503/38503 [==============================] - 16s 403us/step - loss: 0.5901 - accuracy: 0.6841 - val_loss: 0.5883 - val_accuracy: 0.6863\n"
     ]
    },
    {
     "data": {
      "text/plain": [
       "<tensorflow.python.keras.callbacks.History at 0x7f74f82a6190>"
      ]
     },
     "execution_count": 20,
     "metadata": {},
     "output_type": "execute_result"
    }
   ],
   "source": [
    "model.fit(\n",
    "    x = X_train,\n",
    "    y = y_train,\n",
    "    validation_data=(X_val, y_val),\n",
    "    epochs=5,\n",
    "    batch_size=64\n",
    ")"
   ]
  },
  {
   "cell_type": "code",
   "execution_count": 21,
   "id": "56375872",
   "metadata": {},
   "outputs": [
    {
     "name": "stdout",
     "output_type": "stream",
     "text": [
      "15401/15401 [==============================] - 4s 264us/step - loss: 0.5902 - accuracy: 0.6843\n"
     ]
    },
    {
     "data": {
      "text/plain": [
       "[0.5901522636413574, 0.6842719316482544]"
      ]
     },
     "execution_count": 21,
     "metadata": {},
     "output_type": "execute_result"
    }
   ],
   "source": [
    "model.evaluate(X_test, y_test)"
   ]
  },
  {
   "cell_type": "markdown",
   "id": "f1b9e6df",
   "metadata": {},
   "source": [
    "## Predict"
   ]
  },
  {
   "cell_type": "code",
   "execution_count": 22,
   "id": "8d34183e",
   "metadata": {},
   "outputs": [],
   "source": [
    "predict_like = model.predict(X_test)"
   ]
  },
  {
   "cell_type": "code",
   "execution_count": 23,
   "id": "ba047b37",
   "metadata": {},
   "outputs": [
    {
     "data": {
      "text/plain": [
       "array([[0.50866526, 0.49133483],\n",
       "       [0.6966353 , 0.3033647 ],\n",
       "       [0.75899947, 0.24100056],\n",
       "       ...,\n",
       "       [0.38811415, 0.61188585],\n",
       "       [0.67156655, 0.3284335 ],\n",
       "       [0.66411144, 0.33588853]], dtype=float32)"
      ]
     },
     "execution_count": 23,
     "metadata": {},
     "output_type": "execute_result"
    }
   ],
   "source": [
    "predict_like"
   ]
  },
  {
   "cell_type": "code",
   "execution_count": 24,
   "id": "e8ac014a",
   "metadata": {},
   "outputs": [],
   "source": [
    "predict_like = list(map(lambda x: 0 if x[0] > x[1] else 1,  predict_like))"
   ]
  },
  {
   "cell_type": "code",
   "execution_count": 25,
   "id": "4d18b3ed",
   "metadata": {},
   "outputs": [],
   "source": [
    "y_test['predict_like'] = predict_like"
   ]
  },
  {
   "cell_type": "code",
   "execution_count": 26,
   "id": "8df2a605",
   "metadata": {},
   "outputs": [
    {
     "data": {
      "text/plain": [
       "-1523.3029648909544"
      ]
     },
     "execution_count": 26,
     "metadata": {},
     "output_type": "execute_result"
    }
   ],
   "source": [
    "rce_like = compute_rce(y_test['predict_like'], y_test['like'])\n",
    "rce_like"
   ]
  },
  {
   "cell_type": "code",
   "execution_count": 27,
   "id": "9621c87d",
   "metadata": {},
   "outputs": [
    {
     "data": {
      "text/plain": [
       "0.47035601549592054"
      ]
     },
     "execution_count": 27,
     "metadata": {},
     "output_type": "execute_result"
    }
   ],
   "source": [
    "average_precision_score(y_test['predict_like'], y_test['like'])"
   ]
  }
 ],
 "metadata": {
  "kernelspec": {
   "display_name": "Python 3",
   "language": "python",
   "name": "python3"
  },
  "language_info": {
   "codemirror_mode": {
    "name": "ipython",
    "version": 3
   },
   "file_extension": ".py",
   "mimetype": "text/x-python",
   "name": "python",
   "nbconvert_exporter": "python",
   "pygments_lexer": "ipython3",
   "version": "3.7.10"
  }
 },
 "nbformat": 4,
 "nbformat_minor": 5
}
