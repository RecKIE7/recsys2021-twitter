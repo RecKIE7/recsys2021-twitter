{
 "metadata": {
  "language_info": {
   "codemirror_mode": {
    "name": "ipython",
    "version": 3
   },
   "file_extension": ".py",
   "mimetype": "text/x-python",
   "name": "python",
   "nbconvert_exporter": "python",
   "pygments_lexer": "ipython3",
   "version": "3.8.8"
  },
  "orig_nbformat": 2,
  "kernelspec": {
   "name": "python388jvsc74a57bd0ae065c56e262e6694ecb174f95b527853807b9a02b7a5d470fad054d1e0ab874",
   "display_name": "Python 3.8.8 64-bit ('recsys': conda)"
  }
 },
 "nbformat": 4,
 "nbformat_minor": 2,
 "cells": [
  {
   "cell_type": "code",
   "execution_count": 2,
   "metadata": {},
   "outputs": [],
   "source": [
    "import sys\n",
    "sys.path.append('../../..')\n",
    "\n",
    "import numpy as np\n",
    "import matplotlib.pyplot as plt\n",
    "import pandas as pd\n",
    "from tqdm import tqdm\n",
    "from sklearn.model_selection import train_test_split\n",
    "import tensorflow as tf\n",
    "from tensorflow import feature_column as fc\n",
    "from tensorflow.keras.models import Sequential\n",
    "from tensorflow.keras.layers import Dense\n",
    "from sklearn import preprocessing\n",
    "from tensorflow.keras.models import save_model,load_model\n",
    "from utils.preprocessing import *\n",
    "from utils.dataset import Dataset\n",
    "import pickle\n",
    "\n",
    " \n",
    "import tensorflow_datasets as tfds\n",
    "import tensorflow_recommenders as tfrs\n",
    "\n",
    "\n",
    "from utils.evaluate import calculate_ctr, compute_rce, average_precision_score\n",
    "import tensorflow.keras.backend as K\n",
    "import core.config as conf"
   ]
  },
  {
   "source": [
    "## Load Data & Preprocessing"
   ],
   "cell_type": "markdown",
   "metadata": {}
  },
  {
   "cell_type": "code",
   "execution_count": 3,
   "metadata": {},
   "outputs": [],
   "source": [
    "ds = Dataset(train=True, target_encoding=False)"
   ]
  },
  {
   "cell_type": "code",
   "execution_count": 4,
   "metadata": {},
   "outputs": [],
   "source": [
    "data_path = conf.dataset_mini_path + 'train'\n",
    "df = read_data(data_path)\n",
    "df = ds.preprocess(df)"
   ]
  },
  {
   "cell_type": "code",
   "execution_count": 5,
   "metadata": {},
   "outputs": [],
   "source": [
    "data_path = conf.dataset_mini_path + 'valid'\n",
    "val_df = read_data(data_path)\n",
    "val_df = ds.preprocess(val_df)"
   ]
  },
  {
   "cell_type": "code",
   "execution_count": 6,
   "metadata": {},
   "outputs": [],
   "source": [
    "data_path = conf.dataset_mini_path + 'test'\n",
    "test_df = read_data(data_path)\n",
    "test_df = ds.preprocess(test_df)"
   ]
  },
  {
   "cell_type": "code",
   "execution_count": 7,
   "metadata": {},
   "outputs": [
    {
     "output_type": "execute_result",
     "data": {
      "text/plain": [
       "Index(['creator_follows_engager', 'engager_follower_count',\n",
       "       'creator_account_creation', 'engager_following_count',\n",
       "       'creator_is_verified', 'language', 'tweet_id', 'tweet_type',\n",
       "       'creator_follower_count', 'engager_id', 'domains', 'media',\n",
       "       'tweet_timestamp', 'engager_is_verified', 'creator_id',\n",
       "       'creator_following_count', 'engager_account_creation', 'reply',\n",
       "       'retweet', 'comment', 'like', 'dt_day', 'dt_dow', 'dt_hour',\n",
       "       'len_domains'],\n",
       "      dtype='object')"
      ]
     },
     "metadata": {},
     "execution_count": 7
    }
   ],
   "source": [
    "df.columns"
   ]
  },
  {
   "cell_type": "code",
   "execution_count": 8,
   "metadata": {},
   "outputs": [],
   "source": [
    "pkl_path = conf.dict_path + 'user_main_language.pkl'\n",
    "with open(pkl_path, 'rb') as f:\n",
    "    user_to_main_language = pickle.load(f)"
   ]
  },
  {
   "cell_type": "code",
   "execution_count": 9,
   "metadata": {},
   "outputs": [],
   "source": [
    "users = user_to_main_language.keys()"
   ]
  },
  {
   "cell_type": "code",
   "execution_count": 10,
   "metadata": {},
   "outputs": [],
   "source": [
    "used_features = ['engager_follower_count', \n",
    "                'engager_following_count', \n",
    "                'engager_is_verified', \n",
    "                'engager_account_creation', \n",
    "                'creator_follower_count', \n",
    "                'creator_following_count', \n",
    "                'creator_is_verified', \n",
    "                'creator_account_creation',\n",
    "                'media',\n",
    "                'domains',\n",
    "                'language',\n",
    "                'dt_day', \n",
    "                'dt_dow', \n",
    "                'dt_hour', \n",
    "                'len_domains']"
   ]
  },
  {
   "cell_type": "code",
   "execution_count": 11,
   "metadata": {},
   "outputs": [],
   "source": [
    "X_train = df[used_features]\n",
    "Y_train = df['like']\n",
    "\n",
    "X_val = val_df[used_features]\n",
    "Y_val = val_df['like']\n",
    "\n",
    "X_test = test_df[used_features]\n",
    "Y_test = test_df['like']"
   ]
  },
  {
   "cell_type": "code",
   "execution_count": 13,
   "metadata": {},
   "outputs": [],
   "source": [
    "df['engager_main_language'] = df['engager_id'].apply(lambda x: user_to_main_language[x])\n",
    "df['creator_main_language'] = df['creator_id'].apply(lambda x: user_to_main_language[x])\n",
    "df['is_same_main_language'] = df['engager_main_language'] == df['creator_main_language']"
   ]
  },
  {
   "cell_type": "code",
   "execution_count": 14,
   "metadata": {},
   "outputs": [
    {
     "output_type": "execute_result",
     "data": {
      "text/plain": [
       "   creator_follows_engager  engager_follower_count  creator_account_creation  \\\n",
       "0                        0                     595                1525021638   \n",
       "1                        1                     514                1348805977   \n",
       "2                        1                     376                1583939938   \n",
       "3                        1                   22461                1306675315   \n",
       "4                        0                     388                1308377880   \n",
       "\n",
       "   engager_following_count  creator_is_verified  language  \\\n",
       "0                     1424                    0        10   \n",
       "1                      416                    0         1   \n",
       "2                      311                    0         5   \n",
       "3                    16342                    1        12   \n",
       "4                      647                    1         0   \n",
       "\n",
       "                           tweet_id  tweet_type  creator_follower_count  \\\n",
       "0  6238B9E15E83B6D477394E9D80B3784E           3                     560   \n",
       "1  731FB90C6CFEF1B71D322106573F71DB           0                    2591   \n",
       "2  89276E5272498E858EE8AF691EBF0951           3                     174   \n",
       "3  502FDBC0EB4E7AB157D38262817716EB           3                  115852   \n",
       "4  CF1F523F7D4D4139E5FD3EBD72F27D5A           3                 1208919   \n",
       "\n",
       "                         engager_id  ...  retweet  comment  like  dt_day  \\\n",
       "0  CFFD4D0D3AAF28B5397A98E1F4C92C77  ...      0.0      0.0   0.0       9   \n",
       "1  E0F9A3BB331C7B613B165F32F8D273BE  ...      0.0      0.0   0.0       9   \n",
       "2  58ABF7FB24D65FB94C6487915A889460  ...      0.0      0.0   1.0      18   \n",
       "3  76730357A84D1D04A662FDB1449F1AFF  ...      0.0      0.0   0.0       8   \n",
       "4  9008C5AB3CB46623ADBD4C68A2A2D088  ...      0.0      0.0   1.0      11   \n",
       "\n",
       "  dt_dow  dt_hour  len_domains  engager_main_language  creator_main_language  \\\n",
       "0      1       15            0                     35                      9   \n",
       "1      1        9            0                      1                      1   \n",
       "2      3       15            0                      4                      5   \n",
       "3      0        2            1                      1                     12   \n",
       "4      3       16            0                     13                      0   \n",
       "\n",
       "   is_same_main_language  \n",
       "0                  False  \n",
       "1                   True  \n",
       "2                  False  \n",
       "3                  False  \n",
       "4                  False  \n",
       "\n",
       "[5 rows x 28 columns]"
      ],
      "text/html": "<div>\n<style scoped>\n    .dataframe tbody tr th:only-of-type {\n        vertical-align: middle;\n    }\n\n    .dataframe tbody tr th {\n        vertical-align: top;\n    }\n\n    .dataframe thead th {\n        text-align: right;\n    }\n</style>\n<table border=\"1\" class=\"dataframe\">\n  <thead>\n    <tr style=\"text-align: right;\">\n      <th></th>\n      <th>creator_follows_engager</th>\n      <th>engager_follower_count</th>\n      <th>creator_account_creation</th>\n      <th>engager_following_count</th>\n      <th>creator_is_verified</th>\n      <th>language</th>\n      <th>tweet_id</th>\n      <th>tweet_type</th>\n      <th>creator_follower_count</th>\n      <th>engager_id</th>\n      <th>...</th>\n      <th>retweet</th>\n      <th>comment</th>\n      <th>like</th>\n      <th>dt_day</th>\n      <th>dt_dow</th>\n      <th>dt_hour</th>\n      <th>len_domains</th>\n      <th>engager_main_language</th>\n      <th>creator_main_language</th>\n      <th>is_same_main_language</th>\n    </tr>\n  </thead>\n  <tbody>\n    <tr>\n      <th>0</th>\n      <td>0</td>\n      <td>595</td>\n      <td>1525021638</td>\n      <td>1424</td>\n      <td>0</td>\n      <td>10</td>\n      <td>6238B9E15E83B6D477394E9D80B3784E</td>\n      <td>3</td>\n      <td>560</td>\n      <td>CFFD4D0D3AAF28B5397A98E1F4C92C77</td>\n      <td>...</td>\n      <td>0.0</td>\n      <td>0.0</td>\n      <td>0.0</td>\n      <td>9</td>\n      <td>1</td>\n      <td>15</td>\n      <td>0</td>\n      <td>35</td>\n      <td>9</td>\n      <td>False</td>\n    </tr>\n    <tr>\n      <th>1</th>\n      <td>1</td>\n      <td>514</td>\n      <td>1348805977</td>\n      <td>416</td>\n      <td>0</td>\n      <td>1</td>\n      <td>731FB90C6CFEF1B71D322106573F71DB</td>\n      <td>0</td>\n      <td>2591</td>\n      <td>E0F9A3BB331C7B613B165F32F8D273BE</td>\n      <td>...</td>\n      <td>0.0</td>\n      <td>0.0</td>\n      <td>0.0</td>\n      <td>9</td>\n      <td>1</td>\n      <td>9</td>\n      <td>0</td>\n      <td>1</td>\n      <td>1</td>\n      <td>True</td>\n    </tr>\n    <tr>\n      <th>2</th>\n      <td>1</td>\n      <td>376</td>\n      <td>1583939938</td>\n      <td>311</td>\n      <td>0</td>\n      <td>5</td>\n      <td>89276E5272498E858EE8AF691EBF0951</td>\n      <td>3</td>\n      <td>174</td>\n      <td>58ABF7FB24D65FB94C6487915A889460</td>\n      <td>...</td>\n      <td>0.0</td>\n      <td>0.0</td>\n      <td>1.0</td>\n      <td>18</td>\n      <td>3</td>\n      <td>15</td>\n      <td>0</td>\n      <td>4</td>\n      <td>5</td>\n      <td>False</td>\n    </tr>\n    <tr>\n      <th>3</th>\n      <td>1</td>\n      <td>22461</td>\n      <td>1306675315</td>\n      <td>16342</td>\n      <td>1</td>\n      <td>12</td>\n      <td>502FDBC0EB4E7AB157D38262817716EB</td>\n      <td>3</td>\n      <td>115852</td>\n      <td>76730357A84D1D04A662FDB1449F1AFF</td>\n      <td>...</td>\n      <td>0.0</td>\n      <td>0.0</td>\n      <td>0.0</td>\n      <td>8</td>\n      <td>0</td>\n      <td>2</td>\n      <td>1</td>\n      <td>1</td>\n      <td>12</td>\n      <td>False</td>\n    </tr>\n    <tr>\n      <th>4</th>\n      <td>0</td>\n      <td>388</td>\n      <td>1308377880</td>\n      <td>647</td>\n      <td>1</td>\n      <td>0</td>\n      <td>CF1F523F7D4D4139E5FD3EBD72F27D5A</td>\n      <td>3</td>\n      <td>1208919</td>\n      <td>9008C5AB3CB46623ADBD4C68A2A2D088</td>\n      <td>...</td>\n      <td>0.0</td>\n      <td>0.0</td>\n      <td>1.0</td>\n      <td>11</td>\n      <td>3</td>\n      <td>16</td>\n      <td>0</td>\n      <td>13</td>\n      <td>0</td>\n      <td>False</td>\n    </tr>\n  </tbody>\n</table>\n<p>5 rows × 28 columns</p>\n</div>"
     },
     "metadata": {},
     "execution_count": 14
    }
   ],
   "source": [
    "df.head()\n"
   ]
  },
  {
   "cell_type": "code",
   "execution_count": null,
   "metadata": {},
   "outputs": [],
   "source": []
  }
 ]
}