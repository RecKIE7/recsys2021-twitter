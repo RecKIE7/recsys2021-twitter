{
 "metadata": {
  "language_info": {
   "codemirror_mode": {
    "name": "ipython",
    "version": 3
   },
   "file_extension": ".py",
   "mimetype": "text/x-python",
   "name": "python",
   "nbconvert_exporter": "python",
   "pygments_lexer": "ipython3",
   "version": "3.8.8"
  },
  "orig_nbformat": 2,
  "kernelspec": {
   "name": "python388jvsc74a57bd0ae065c56e262e6694ecb174f95b527853807b9a02b7a5d470fad054d1e0ab874",
   "display_name": "Python 3.8.8 64-bit ('recsys': conda)"
  }
 },
 "nbformat": 4,
 "nbformat_minor": 2,
 "cells": [
  {
   "cell_type": "code",
   "execution_count": 1,
   "metadata": {},
   "outputs": [],
   "source": [
    "import sys\n",
    "sys.path.append('../../..')\n",
    "\n",
    "import numpy as np\n",
    "import matplotlib.pyplot as plt\n",
    "import pandas as pd\n",
    "from tqdm import tqdm\n",
    "import tensorflow as tf\n",
    "from sklearn import preprocessing\n",
    "from utils.evaluate import calculate_ctr, compute_rce, average_precision_score\n",
    "from sklearn.model_selection import train_test_split\n",
    "from utils.dataset import Dataset\n",
    "\n",
    "\n",
    "from utils.preprocessing import *\n",
    "import core.config as conf"
   ]
  },
  {
   "source": [
    "## Load data "
   ],
   "cell_type": "markdown",
   "metadata": {}
  },
  {
   "cell_type": "code",
   "execution_count": 2,
   "metadata": {},
   "outputs": [],
   "source": [
    "# train_data_path = conf.dataset_path + 'part-210204-2'\n",
    "train_data_path = conf.raw_lzo_path + 'part-00000'\n",
    "train_df = read_data(train_data_path)"
   ]
  },
  {
   "cell_type": "code",
   "execution_count": 5,
   "metadata": {},
   "outputs": [
    {
     "output_type": "execute_result",
     "data": {
      "text/plain": [
       "                                         text_tokens hashtags  \\\n",
       "0  101\\t56898\\t137\\t16925\\t10731\\t11481\\t13980\\t1...      NaN   \n",
       "1  101\\t10159\\t11322\\t58550\\t10836\\t10126\\t25900\\...      NaN   \n",
       "2  101\\t10159\\t56314\\t14364\\t10109\\t14657\\t11359\\...      NaN   \n",
       "3  101\\t56898\\t137\\t10224\\t10731\\t64194\\t41939\\t3...      NaN   \n",
       "4  101\\t7143\\t1938\\t113\\t100\\t10097\\t100\\t10097\\t...      NaN   \n",
       "\n",
       "                           tweet_id  media                             links  \\\n",
       "0  5DCE3020423313CB0AC2631DEF94D2F5    NaN                               NaN   \n",
       "1  2B6F5C7C4F04F34543C09DD6E58C8F66    NaN  2886BC98B8B910E86A792E56681FC841   \n",
       "2  784D3AE5E6429392245BD34FF4C82B5C    NaN  B8FEE70DF7DA75C584F9DA8C38E99874   \n",
       "3  CA49ACBB31921F2A0FAC1CCCC99541F6    NaN                               NaN   \n",
       "4  2C95B42C651B36D84584F3653D722142  Photo                               NaN   \n",
       "\n",
       "                            domains tweet_type  \\\n",
       "0                               NaN    Retweet   \n",
       "1  9EFF000CDB18B710CDDB43EE1D8C300B   TopLevel   \n",
       "2  D56FA7843AF6F2BC53A2E192B542EA58   TopLevel   \n",
       "3                               NaN    Retweet   \n",
       "4                               NaN   TopLevel   \n",
       "\n",
       "                           language  tweet_timestamp  \\\n",
       "0  488B32D24BD4BB44172EB981C1BCA6FA       1613237034   \n",
       "1  B0FA488F2911701DD8EC5B1EA5E322D8       1613748600   \n",
       "2  B0FA488F2911701DD8EC5B1EA5E322D8       1613386238   \n",
       "3  B0FA488F2911701DD8EC5B1EA5E322D8       1613708640   \n",
       "4  E7F038DE3EAD397AEC9193686C911677       1612586018   \n",
       "\n",
       "                         creator_id  ...                        engager_id  \\\n",
       "0  BC9980C5385A68894C2862F41884FB27  ...  2AEB7AFFD36CA43C0C963F24F75BCCAC   \n",
       "1  C0EBA033A5C0D2AD91B4500958E2C633  ...  865C52D28FA84E5E233B530C6FDAECC2   \n",
       "2  03EA05E7440140ABF047BC216CE34917  ...  FE83E568BD4B2ACDBAF876CFBB6C7296   \n",
       "3  2700B9E175757F126C082D6A5742787D  ...  DB0201BF93E4CCA1B55932AC36923E43   \n",
       "4  B7E441F2D886830FB3F0CE29CB35CB6B  ...  04F45C4A769FE2D7C792A96C92342DC2   \n",
       "\n",
       "   engager_follower_count  engager_following_count  engager_is_verified  \\\n",
       "0                     169                      339                False   \n",
       "1                     393                     1190                False   \n",
       "2                     629                     1473                False   \n",
       "3                     123                      200                False   \n",
       "4                     134                      379                False   \n",
       "\n",
       "  engager_account_creation  creator_follows_engager  reply_timestamp  \\\n",
       "0               1520886748                    False              NaN   \n",
       "1               1237570695                    False              NaN   \n",
       "2               1263176351                    False              NaN   \n",
       "3               1268276559                    False              NaN   \n",
       "4               1483862063                     True              NaN   \n",
       "\n",
       "   retweet_timestamp  comment_timestamp  like_timestamp  \n",
       "0                NaN                NaN             NaN  \n",
       "1                NaN                NaN             NaN  \n",
       "2                NaN                NaN    1.613388e+09  \n",
       "3                NaN                NaN             NaN  \n",
       "4                NaN                NaN    1.612587e+09  \n",
       "\n",
       "[5 rows x 24 columns]"
      ],
      "text/html": "<div>\n<style scoped>\n    .dataframe tbody tr th:only-of-type {\n        vertical-align: middle;\n    }\n\n    .dataframe tbody tr th {\n        vertical-align: top;\n    }\n\n    .dataframe thead th {\n        text-align: right;\n    }\n</style>\n<table border=\"1\" class=\"dataframe\">\n  <thead>\n    <tr style=\"text-align: right;\">\n      <th></th>\n      <th>text_tokens</th>\n      <th>hashtags</th>\n      <th>tweet_id</th>\n      <th>media</th>\n      <th>links</th>\n      <th>domains</th>\n      <th>tweet_type</th>\n      <th>language</th>\n      <th>tweet_timestamp</th>\n      <th>creator_id</th>\n      <th>...</th>\n      <th>engager_id</th>\n      <th>engager_follower_count</th>\n      <th>engager_following_count</th>\n      <th>engager_is_verified</th>\n      <th>engager_account_creation</th>\n      <th>creator_follows_engager</th>\n      <th>reply_timestamp</th>\n      <th>retweet_timestamp</th>\n      <th>comment_timestamp</th>\n      <th>like_timestamp</th>\n    </tr>\n  </thead>\n  <tbody>\n    <tr>\n      <th>0</th>\n      <td>101\\t56898\\t137\\t16925\\t10731\\t11481\\t13980\\t1...</td>\n      <td>NaN</td>\n      <td>5DCE3020423313CB0AC2631DEF94D2F5</td>\n      <td>NaN</td>\n      <td>NaN</td>\n      <td>NaN</td>\n      <td>Retweet</td>\n      <td>488B32D24BD4BB44172EB981C1BCA6FA</td>\n      <td>1613237034</td>\n      <td>BC9980C5385A68894C2862F41884FB27</td>\n      <td>...</td>\n      <td>2AEB7AFFD36CA43C0C963F24F75BCCAC</td>\n      <td>169</td>\n      <td>339</td>\n      <td>False</td>\n      <td>1520886748</td>\n      <td>False</td>\n      <td>NaN</td>\n      <td>NaN</td>\n      <td>NaN</td>\n      <td>NaN</td>\n    </tr>\n    <tr>\n      <th>1</th>\n      <td>101\\t10159\\t11322\\t58550\\t10836\\t10126\\t25900\\...</td>\n      <td>NaN</td>\n      <td>2B6F5C7C4F04F34543C09DD6E58C8F66</td>\n      <td>NaN</td>\n      <td>2886BC98B8B910E86A792E56681FC841</td>\n      <td>9EFF000CDB18B710CDDB43EE1D8C300B</td>\n      <td>TopLevel</td>\n      <td>B0FA488F2911701DD8EC5B1EA5E322D8</td>\n      <td>1613748600</td>\n      <td>C0EBA033A5C0D2AD91B4500958E2C633</td>\n      <td>...</td>\n      <td>865C52D28FA84E5E233B530C6FDAECC2</td>\n      <td>393</td>\n      <td>1190</td>\n      <td>False</td>\n      <td>1237570695</td>\n      <td>False</td>\n      <td>NaN</td>\n      <td>NaN</td>\n      <td>NaN</td>\n      <td>NaN</td>\n    </tr>\n    <tr>\n      <th>2</th>\n      <td>101\\t10159\\t56314\\t14364\\t10109\\t14657\\t11359\\...</td>\n      <td>NaN</td>\n      <td>784D3AE5E6429392245BD34FF4C82B5C</td>\n      <td>NaN</td>\n      <td>B8FEE70DF7DA75C584F9DA8C38E99874</td>\n      <td>D56FA7843AF6F2BC53A2E192B542EA58</td>\n      <td>TopLevel</td>\n      <td>B0FA488F2911701DD8EC5B1EA5E322D8</td>\n      <td>1613386238</td>\n      <td>03EA05E7440140ABF047BC216CE34917</td>\n      <td>...</td>\n      <td>FE83E568BD4B2ACDBAF876CFBB6C7296</td>\n      <td>629</td>\n      <td>1473</td>\n      <td>False</td>\n      <td>1263176351</td>\n      <td>False</td>\n      <td>NaN</td>\n      <td>NaN</td>\n      <td>NaN</td>\n      <td>1.613388e+09</td>\n    </tr>\n    <tr>\n      <th>3</th>\n      <td>101\\t56898\\t137\\t10224\\t10731\\t64194\\t41939\\t3...</td>\n      <td>NaN</td>\n      <td>CA49ACBB31921F2A0FAC1CCCC99541F6</td>\n      <td>NaN</td>\n      <td>NaN</td>\n      <td>NaN</td>\n      <td>Retweet</td>\n      <td>B0FA488F2911701DD8EC5B1EA5E322D8</td>\n      <td>1613708640</td>\n      <td>2700B9E175757F126C082D6A5742787D</td>\n      <td>...</td>\n      <td>DB0201BF93E4CCA1B55932AC36923E43</td>\n      <td>123</td>\n      <td>200</td>\n      <td>False</td>\n      <td>1268276559</td>\n      <td>False</td>\n      <td>NaN</td>\n      <td>NaN</td>\n      <td>NaN</td>\n      <td>NaN</td>\n    </tr>\n    <tr>\n      <th>4</th>\n      <td>101\\t7143\\t1938\\t113\\t100\\t10097\\t100\\t10097\\t...</td>\n      <td>NaN</td>\n      <td>2C95B42C651B36D84584F3653D722142</td>\n      <td>Photo</td>\n      <td>NaN</td>\n      <td>NaN</td>\n      <td>TopLevel</td>\n      <td>E7F038DE3EAD397AEC9193686C911677</td>\n      <td>1612586018</td>\n      <td>B7E441F2D886830FB3F0CE29CB35CB6B</td>\n      <td>...</td>\n      <td>04F45C4A769FE2D7C792A96C92342DC2</td>\n      <td>134</td>\n      <td>379</td>\n      <td>False</td>\n      <td>1483862063</td>\n      <td>True</td>\n      <td>NaN</td>\n      <td>NaN</td>\n      <td>NaN</td>\n      <td>1.612587e+09</td>\n    </tr>\n  </tbody>\n</table>\n<p>5 rows × 24 columns</p>\n</div>"
     },
     "metadata": {},
     "execution_count": 5
    }
   ],
   "source": [
    "train_df.head()"
   ]
  },
  {
   "cell_type": "code",
   "execution_count": 3,
   "metadata": {},
   "outputs": [],
   "source": [
    "# val_data_path = conf.dataset_path + 'part-210205-2'\n",
    "val_data_path = conf.raw_lzo_path + 'part-00001'\n",
    "val_df = read_data(val_data_path)"
   ]
  },
  {
   "cell_type": "code",
   "execution_count": 4,
   "metadata": {},
   "outputs": [
    {
     "output_type": "execute_result",
     "data": {
      "text/plain": [
       "Index(['text_tokens', 'hashtags', 'tweet_id', 'media', 'links', 'domains',\n",
       "       'tweet_type', 'language', 'tweet_timestamp', 'creator_id',\n",
       "       'creator_follower_count', 'creator_following_count',\n",
       "       'creator_is_verified', 'creator_account_creation', 'engager_id',\n",
       "       'engager_follower_count', 'engager_following_count',\n",
       "       'engager_is_verified', 'engager_account_creation',\n",
       "       'creator_follows_engager', 'reply_timestamp', 'retweet_timestamp',\n",
       "       'comment_timestamp', 'like_timestamp'],\n",
       "      dtype='object')"
      ]
     },
     "metadata": {},
     "execution_count": 4
    }
   ],
   "source": [
    "train_df.columns"
   ]
  },
  {
   "source": [
    "## Parameters"
   ],
   "cell_type": "markdown",
   "metadata": {}
  },
  {
   "cell_type": "code",
   "execution_count": 5,
   "metadata": {},
   "outputs": [],
   "source": [
    "MODEL_NAME = 'autoencoder_test'\n",
    "BATCH_SIZE = 2\n",
    "MAX_SEQUENCE = 25\n",
    "EPOCH = 30\n",
    "UNITS = 1024\n",
    "EMBEDDING_DIM = 256\n",
    "VALIDATION_SPLIT = 0.1 "
   ]
  },
  {
   "source": [
    "## Preprocessing"
   ],
   "cell_type": "markdown",
   "metadata": {}
  },
  {
   "source": [
    "### dataset preprocess"
   ],
   "cell_type": "markdown",
   "metadata": {}
  },
  {
   "cell_type": "code",
   "execution_count": 6,
   "metadata": {},
   "outputs": [],
   "source": [
    "ds = Dataset(train=True, target_encoding=False)\n",
    "train_df = ds.preprocess(train_df)\n",
    "val_df = ds.preprocess(val_df)"
   ]
  },
  {
   "source": [
    "### negative samping"
   ],
   "cell_type": "markdown",
   "metadata": {}
  },
  {
   "cell_type": "code",
   "execution_count": 11,
   "metadata": {},
   "outputs": [
    {
     "output_type": "execute_result",
     "data": {
      "text/plain": [
       "         engager_is_verified  media  creator_follows_engager  \\\n",
       "0                          0      0                        0   \n",
       "1                          0      0                        0   \n",
       "2                          0      0                        0   \n",
       "3                          0      0                        0   \n",
       "4                          0      5                        1   \n",
       "...                      ...    ...                      ...   \n",
       "3033897                    0      0                        1   \n",
       "3033898                    0      9                        0   \n",
       "3033899                    0      0                        1   \n",
       "3033900                    0      0                        0   \n",
       "3033901                    0      0                        1   \n",
       "\n",
       "                               creator_id  engager_account_creation  \\\n",
       "0        BC9980C5385A68894C2862F41884FB27                1520886748   \n",
       "1        C0EBA033A5C0D2AD91B4500958E2C633                1237570695   \n",
       "2        03EA05E7440140ABF047BC216CE34917                1263176351   \n",
       "3        2700B9E175757F126C082D6A5742787D                1268276559   \n",
       "4        B7E441F2D886830FB3F0CE29CB35CB6B                1483862063   \n",
       "...                                   ...                       ...   \n",
       "3033897  D61350A37DDC6E19AD5B1D44C607FF7D                1505241576   \n",
       "3033898  9009A33FB64F15F71D689C46FD40DA0E                1587168543   \n",
       "3033899  57F1EBC5767EA3F7CE3EEDB6EAE9B097                1336720553   \n",
       "3033900  D3D9F1F6F4CCFA079891511B0818FF03                1540658011   \n",
       "3033901  79E0210EA9B5D9CD0A6950A1DCEBD9CA                1337620805   \n",
       "\n",
       "         creator_follower_count                        engager_id  language  \\\n",
       "0                          2473  2AEB7AFFD36CA43C0C963F24F75BCCAC        19   \n",
       "1                       4418640  865C52D28FA84E5E233B530C6FDAECC2        46   \n",
       "2                        219715  FE83E568BD4B2ACDBAF876CFBB6C7296        46   \n",
       "3                       2388283  DB0201BF93E4CCA1B55932AC36923E43        46   \n",
       "4                           414  04F45C4A769FE2D7C792A96C92342DC2        61   \n",
       "...                         ...                               ...       ...   \n",
       "3033897                    2230  AB51B05ACD422823A8567E51D106FBCF        48   \n",
       "3033898                   90842  2F0B0497A2C1F6DBF120782E915B1F63        19   \n",
       "3033899                     608  5FFAD564CE93396A11C7951AA07D019E        19   \n",
       "3033900                 6777417  1C3C0C32D7AEBCA253DC54EC85084951        46   \n",
       "3033901                    2334  F1383136D37D9DE0A8EF9C6DB973DCC1        19   \n",
       "\n",
       "         creator_following_count                          tweet_id  ...  \\\n",
       "0                            662  5DCE3020423313CB0AC2631DEF94D2F5  ...   \n",
       "1                            228  2B6F5C7C4F04F34543C09DD6E58C8F66  ...   \n",
       "2                           3685  784D3AE5E6429392245BD34FF4C82B5C  ...   \n",
       "3                          13511  CA49ACBB31921F2A0FAC1CCCC99541F6  ...   \n",
       "4                            720  2C95B42C651B36D84584F3653D722142  ...   \n",
       "...                          ...                               ...  ...   \n",
       "3033897                     2332  25B1D557E6B6D7298CA3888C72F9F7B5  ...   \n",
       "3033898                      687  3A656480D09FCCBA39B0E28FBFA64B72  ...   \n",
       "3033899                      328  E236B2359B119B2A7668FA83AC5E750B  ...   \n",
       "3033900                      888  B42CB5B47ABCCA8700686CD8F32696B6  ...   \n",
       "3033901                      746  0A3692BBC4209238759F79D392C225C8  ...   \n",
       "\n",
       "         tweet_type  tweet_timestamp  reply  retweet  comment  like  dt_day  \\\n",
       "0                 1       1613237034    0.0      0.0      0.0   0.0      13   \n",
       "1                 2       1613748600    0.0      0.0      0.0   0.0      19   \n",
       "2                 2       1613386238    0.0      0.0      0.0   1.0      15   \n",
       "3                 1       1613708640    0.0      0.0      0.0   0.0      19   \n",
       "4                 2       1612586018    0.0      0.0      0.0   1.0       6   \n",
       "...             ...              ...    ...      ...      ...   ...     ...   \n",
       "3033897           1       1612804061    0.0      0.0      0.0   0.0       8   \n",
       "3033898           2       1613964078    1.0      0.0      0.0   0.0      22   \n",
       "3033899           1       1614124187    0.0      0.0      0.0   0.0      23   \n",
       "3033900           2       1613329929    0.0      0.0      0.0   1.0      14   \n",
       "3033901           1       1612602313    0.0      1.0      0.0   0.0       6   \n",
       "\n",
       "         dt_dow  dt_hour  len_domains  \n",
       "0             5       17            0  \n",
       "1             4       15            1  \n",
       "2             0       10            1  \n",
       "3             4        4            0  \n",
       "4             5        4            0  \n",
       "...         ...      ...          ...  \n",
       "3033897       0       17            0  \n",
       "3033898       0        3            0  \n",
       "3033899       1       23            0  \n",
       "3033900       6       19            0  \n",
       "3033901       5        9            0  \n",
       "\n",
       "[3033902 rows x 25 columns]"
      ],
      "text/html": "<div>\n<style scoped>\n    .dataframe tbody tr th:only-of-type {\n        vertical-align: middle;\n    }\n\n    .dataframe tbody tr th {\n        vertical-align: top;\n    }\n\n    .dataframe thead th {\n        text-align: right;\n    }\n</style>\n<table border=\"1\" class=\"dataframe\">\n  <thead>\n    <tr style=\"text-align: right;\">\n      <th></th>\n      <th>engager_is_verified</th>\n      <th>media</th>\n      <th>creator_follows_engager</th>\n      <th>creator_id</th>\n      <th>engager_account_creation</th>\n      <th>creator_follower_count</th>\n      <th>engager_id</th>\n      <th>language</th>\n      <th>creator_following_count</th>\n      <th>tweet_id</th>\n      <th>...</th>\n      <th>tweet_type</th>\n      <th>tweet_timestamp</th>\n      <th>reply</th>\n      <th>retweet</th>\n      <th>comment</th>\n      <th>like</th>\n      <th>dt_day</th>\n      <th>dt_dow</th>\n      <th>dt_hour</th>\n      <th>len_domains</th>\n    </tr>\n  </thead>\n  <tbody>\n    <tr>\n      <th>0</th>\n      <td>0</td>\n      <td>0</td>\n      <td>0</td>\n      <td>BC9980C5385A68894C2862F41884FB27</td>\n      <td>1520886748</td>\n      <td>2473</td>\n      <td>2AEB7AFFD36CA43C0C963F24F75BCCAC</td>\n      <td>19</td>\n      <td>662</td>\n      <td>5DCE3020423313CB0AC2631DEF94D2F5</td>\n      <td>...</td>\n      <td>1</td>\n      <td>1613237034</td>\n      <td>0.0</td>\n      <td>0.0</td>\n      <td>0.0</td>\n      <td>0.0</td>\n      <td>13</td>\n      <td>5</td>\n      <td>17</td>\n      <td>0</td>\n    </tr>\n    <tr>\n      <th>1</th>\n      <td>0</td>\n      <td>0</td>\n      <td>0</td>\n      <td>C0EBA033A5C0D2AD91B4500958E2C633</td>\n      <td>1237570695</td>\n      <td>4418640</td>\n      <td>865C52D28FA84E5E233B530C6FDAECC2</td>\n      <td>46</td>\n      <td>228</td>\n      <td>2B6F5C7C4F04F34543C09DD6E58C8F66</td>\n      <td>...</td>\n      <td>2</td>\n      <td>1613748600</td>\n      <td>0.0</td>\n      <td>0.0</td>\n      <td>0.0</td>\n      <td>0.0</td>\n      <td>19</td>\n      <td>4</td>\n      <td>15</td>\n      <td>1</td>\n    </tr>\n    <tr>\n      <th>2</th>\n      <td>0</td>\n      <td>0</td>\n      <td>0</td>\n      <td>03EA05E7440140ABF047BC216CE34917</td>\n      <td>1263176351</td>\n      <td>219715</td>\n      <td>FE83E568BD4B2ACDBAF876CFBB6C7296</td>\n      <td>46</td>\n      <td>3685</td>\n      <td>784D3AE5E6429392245BD34FF4C82B5C</td>\n      <td>...</td>\n      <td>2</td>\n      <td>1613386238</td>\n      <td>0.0</td>\n      <td>0.0</td>\n      <td>0.0</td>\n      <td>1.0</td>\n      <td>15</td>\n      <td>0</td>\n      <td>10</td>\n      <td>1</td>\n    </tr>\n    <tr>\n      <th>3</th>\n      <td>0</td>\n      <td>0</td>\n      <td>0</td>\n      <td>2700B9E175757F126C082D6A5742787D</td>\n      <td>1268276559</td>\n      <td>2388283</td>\n      <td>DB0201BF93E4CCA1B55932AC36923E43</td>\n      <td>46</td>\n      <td>13511</td>\n      <td>CA49ACBB31921F2A0FAC1CCCC99541F6</td>\n      <td>...</td>\n      <td>1</td>\n      <td>1613708640</td>\n      <td>0.0</td>\n      <td>0.0</td>\n      <td>0.0</td>\n      <td>0.0</td>\n      <td>19</td>\n      <td>4</td>\n      <td>4</td>\n      <td>0</td>\n    </tr>\n    <tr>\n      <th>4</th>\n      <td>0</td>\n      <td>5</td>\n      <td>1</td>\n      <td>B7E441F2D886830FB3F0CE29CB35CB6B</td>\n      <td>1483862063</td>\n      <td>414</td>\n      <td>04F45C4A769FE2D7C792A96C92342DC2</td>\n      <td>61</td>\n      <td>720</td>\n      <td>2C95B42C651B36D84584F3653D722142</td>\n      <td>...</td>\n      <td>2</td>\n      <td>1612586018</td>\n      <td>0.0</td>\n      <td>0.0</td>\n      <td>0.0</td>\n      <td>1.0</td>\n      <td>6</td>\n      <td>5</td>\n      <td>4</td>\n      <td>0</td>\n    </tr>\n    <tr>\n      <th>...</th>\n      <td>...</td>\n      <td>...</td>\n      <td>...</td>\n      <td>...</td>\n      <td>...</td>\n      <td>...</td>\n      <td>...</td>\n      <td>...</td>\n      <td>...</td>\n      <td>...</td>\n      <td>...</td>\n      <td>...</td>\n      <td>...</td>\n      <td>...</td>\n      <td>...</td>\n      <td>...</td>\n      <td>...</td>\n      <td>...</td>\n      <td>...</td>\n      <td>...</td>\n      <td>...</td>\n    </tr>\n    <tr>\n      <th>3033897</th>\n      <td>0</td>\n      <td>0</td>\n      <td>1</td>\n      <td>D61350A37DDC6E19AD5B1D44C607FF7D</td>\n      <td>1505241576</td>\n      <td>2230</td>\n      <td>AB51B05ACD422823A8567E51D106FBCF</td>\n      <td>48</td>\n      <td>2332</td>\n      <td>25B1D557E6B6D7298CA3888C72F9F7B5</td>\n      <td>...</td>\n      <td>1</td>\n      <td>1612804061</td>\n      <td>0.0</td>\n      <td>0.0</td>\n      <td>0.0</td>\n      <td>0.0</td>\n      <td>8</td>\n      <td>0</td>\n      <td>17</td>\n      <td>0</td>\n    </tr>\n    <tr>\n      <th>3033898</th>\n      <td>0</td>\n      <td>9</td>\n      <td>0</td>\n      <td>9009A33FB64F15F71D689C46FD40DA0E</td>\n      <td>1587168543</td>\n      <td>90842</td>\n      <td>2F0B0497A2C1F6DBF120782E915B1F63</td>\n      <td>19</td>\n      <td>687</td>\n      <td>3A656480D09FCCBA39B0E28FBFA64B72</td>\n      <td>...</td>\n      <td>2</td>\n      <td>1613964078</td>\n      <td>1.0</td>\n      <td>0.0</td>\n      <td>0.0</td>\n      <td>0.0</td>\n      <td>22</td>\n      <td>0</td>\n      <td>3</td>\n      <td>0</td>\n    </tr>\n    <tr>\n      <th>3033899</th>\n      <td>0</td>\n      <td>0</td>\n      <td>1</td>\n      <td>57F1EBC5767EA3F7CE3EEDB6EAE9B097</td>\n      <td>1336720553</td>\n      <td>608</td>\n      <td>5FFAD564CE93396A11C7951AA07D019E</td>\n      <td>19</td>\n      <td>328</td>\n      <td>E236B2359B119B2A7668FA83AC5E750B</td>\n      <td>...</td>\n      <td>1</td>\n      <td>1614124187</td>\n      <td>0.0</td>\n      <td>0.0</td>\n      <td>0.0</td>\n      <td>0.0</td>\n      <td>23</td>\n      <td>1</td>\n      <td>23</td>\n      <td>0</td>\n    </tr>\n    <tr>\n      <th>3033900</th>\n      <td>0</td>\n      <td>0</td>\n      <td>0</td>\n      <td>D3D9F1F6F4CCFA079891511B0818FF03</td>\n      <td>1540658011</td>\n      <td>6777417</td>\n      <td>1C3C0C32D7AEBCA253DC54EC85084951</td>\n      <td>46</td>\n      <td>888</td>\n      <td>B42CB5B47ABCCA8700686CD8F32696B6</td>\n      <td>...</td>\n      <td>2</td>\n      <td>1613329929</td>\n      <td>0.0</td>\n      <td>0.0</td>\n      <td>0.0</td>\n      <td>1.0</td>\n      <td>14</td>\n      <td>6</td>\n      <td>19</td>\n      <td>0</td>\n    </tr>\n    <tr>\n      <th>3033901</th>\n      <td>0</td>\n      <td>0</td>\n      <td>1</td>\n      <td>79E0210EA9B5D9CD0A6950A1DCEBD9CA</td>\n      <td>1337620805</td>\n      <td>2334</td>\n      <td>F1383136D37D9DE0A8EF9C6DB973DCC1</td>\n      <td>19</td>\n      <td>746</td>\n      <td>0A3692BBC4209238759F79D392C225C8</td>\n      <td>...</td>\n      <td>1</td>\n      <td>1612602313</td>\n      <td>0.0</td>\n      <td>1.0</td>\n      <td>0.0</td>\n      <td>0.0</td>\n      <td>6</td>\n      <td>5</td>\n      <td>9</td>\n      <td>0</td>\n    </tr>\n  </tbody>\n</table>\n<p>3033902 rows × 25 columns</p>\n</div>"
     },
     "metadata": {},
     "execution_count": 11
    }
   ],
   "source": [
    "train_df"
   ]
  },
  {
   "cell_type": "code",
   "execution_count": 12,
   "metadata": {},
   "outputs": [
    {
     "output_type": "stream",
     "name": "stdout",
     "text": [
      "1207588\n1826314\n"
     ]
    }
   ],
   "source": [
    "train_df_positive = train_df[train_df['like']==1]\n",
    "train_df_negative = train_df[train_df['like']==0]\n",
    "print(len(train_df_positive))\n",
    "print(len(train_df_negative))\n",
    "\n",
    "# train_df_positive = train_df_positive.sample(n = len(train_df_negative))\n",
    "train_df_negative = train_df_negative.sample(n = len(train_df_positive))\n",
    "train_df = pd.concat([train_df_positive, train_df_negative])"
   ]
  },
  {
   "cell_type": "code",
   "execution_count": null,
   "metadata": {},
   "outputs": [],
   "source": []
  },
  {
   "cell_type": "code",
   "execution_count": 7,
   "metadata": {},
   "outputs": [
    {
     "output_type": "execute_result",
     "data": {
      "text/plain": [
       "   creator_follows_engager  creator_following_count  language  \\\n",
       "0                        0                      662        19   \n",
       "1                        0                      228        46   \n",
       "2                        0                     3685        46   \n",
       "3                        0                    13511        46   \n",
       "4                        1                      720        61   \n",
       "\n",
       "   creator_is_verified  creator_follower_count  media  \\\n",
       "0                    0                    2473      0   \n",
       "1                    1                 4418640      0   \n",
       "2                    1                  219715      0   \n",
       "3                    1                 2388283      0   \n",
       "4                    0                     414      5   \n",
       "\n",
       "   creator_account_creation  domains  tweet_timestamp  engager_follower_count  \\\n",
       "0                1261859734        0       1613237034                     169   \n",
       "1                1266804490        1       1613748600                     393   \n",
       "2                1202617218        2       1613386238                     629   \n",
       "3                1251645191        0       1613708640                     123   \n",
       "4                1578273274        0       1612586018                     134   \n",
       "\n",
       "   ...                        engager_id engager_account_creation reply  \\\n",
       "0  ...  2AEB7AFFD36CA43C0C963F24F75BCCAC               1520886748   0.0   \n",
       "1  ...  865C52D28FA84E5E233B530C6FDAECC2               1237570695   0.0   \n",
       "2  ...  FE83E568BD4B2ACDBAF876CFBB6C7296               1263176351   0.0   \n",
       "3  ...  DB0201BF93E4CCA1B55932AC36923E43               1268276559   0.0   \n",
       "4  ...  04F45C4A769FE2D7C792A96C92342DC2               1483862063   0.0   \n",
       "\n",
       "   retweet  comment like  dt_day  dt_dow  dt_hour  len_domains  \n",
       "0      0.0      0.0  0.0      13       5       17            0  \n",
       "1      0.0      0.0  0.0      19       4       15            1  \n",
       "2      0.0      0.0  1.0      15       0       10            1  \n",
       "3      0.0      0.0  0.0      19       4        4            0  \n",
       "4      0.0      0.0  1.0       6       5        4            0  \n",
       "\n",
       "[5 rows x 25 columns]"
      ],
      "text/html": "<div>\n<style scoped>\n    .dataframe tbody tr th:only-of-type {\n        vertical-align: middle;\n    }\n\n    .dataframe tbody tr th {\n        vertical-align: top;\n    }\n\n    .dataframe thead th {\n        text-align: right;\n    }\n</style>\n<table border=\"1\" class=\"dataframe\">\n  <thead>\n    <tr style=\"text-align: right;\">\n      <th></th>\n      <th>creator_follows_engager</th>\n      <th>creator_following_count</th>\n      <th>language</th>\n      <th>creator_is_verified</th>\n      <th>creator_follower_count</th>\n      <th>media</th>\n      <th>creator_account_creation</th>\n      <th>domains</th>\n      <th>tweet_timestamp</th>\n      <th>engager_follower_count</th>\n      <th>...</th>\n      <th>engager_id</th>\n      <th>engager_account_creation</th>\n      <th>reply</th>\n      <th>retweet</th>\n      <th>comment</th>\n      <th>like</th>\n      <th>dt_day</th>\n      <th>dt_dow</th>\n      <th>dt_hour</th>\n      <th>len_domains</th>\n    </tr>\n  </thead>\n  <tbody>\n    <tr>\n      <th>0</th>\n      <td>0</td>\n      <td>662</td>\n      <td>19</td>\n      <td>0</td>\n      <td>2473</td>\n      <td>0</td>\n      <td>1261859734</td>\n      <td>0</td>\n      <td>1613237034</td>\n      <td>169</td>\n      <td>...</td>\n      <td>2AEB7AFFD36CA43C0C963F24F75BCCAC</td>\n      <td>1520886748</td>\n      <td>0.0</td>\n      <td>0.0</td>\n      <td>0.0</td>\n      <td>0.0</td>\n      <td>13</td>\n      <td>5</td>\n      <td>17</td>\n      <td>0</td>\n    </tr>\n    <tr>\n      <th>1</th>\n      <td>0</td>\n      <td>228</td>\n      <td>46</td>\n      <td>1</td>\n      <td>4418640</td>\n      <td>0</td>\n      <td>1266804490</td>\n      <td>1</td>\n      <td>1613748600</td>\n      <td>393</td>\n      <td>...</td>\n      <td>865C52D28FA84E5E233B530C6FDAECC2</td>\n      <td>1237570695</td>\n      <td>0.0</td>\n      <td>0.0</td>\n      <td>0.0</td>\n      <td>0.0</td>\n      <td>19</td>\n      <td>4</td>\n      <td>15</td>\n      <td>1</td>\n    </tr>\n    <tr>\n      <th>2</th>\n      <td>0</td>\n      <td>3685</td>\n      <td>46</td>\n      <td>1</td>\n      <td>219715</td>\n      <td>0</td>\n      <td>1202617218</td>\n      <td>2</td>\n      <td>1613386238</td>\n      <td>629</td>\n      <td>...</td>\n      <td>FE83E568BD4B2ACDBAF876CFBB6C7296</td>\n      <td>1263176351</td>\n      <td>0.0</td>\n      <td>0.0</td>\n      <td>0.0</td>\n      <td>1.0</td>\n      <td>15</td>\n      <td>0</td>\n      <td>10</td>\n      <td>1</td>\n    </tr>\n    <tr>\n      <th>3</th>\n      <td>0</td>\n      <td>13511</td>\n      <td>46</td>\n      <td>1</td>\n      <td>2388283</td>\n      <td>0</td>\n      <td>1251645191</td>\n      <td>0</td>\n      <td>1613708640</td>\n      <td>123</td>\n      <td>...</td>\n      <td>DB0201BF93E4CCA1B55932AC36923E43</td>\n      <td>1268276559</td>\n      <td>0.0</td>\n      <td>0.0</td>\n      <td>0.0</td>\n      <td>0.0</td>\n      <td>19</td>\n      <td>4</td>\n      <td>4</td>\n      <td>0</td>\n    </tr>\n    <tr>\n      <th>4</th>\n      <td>1</td>\n      <td>720</td>\n      <td>61</td>\n      <td>0</td>\n      <td>414</td>\n      <td>5</td>\n      <td>1578273274</td>\n      <td>0</td>\n      <td>1612586018</td>\n      <td>134</td>\n      <td>...</td>\n      <td>04F45C4A769FE2D7C792A96C92342DC2</td>\n      <td>1483862063</td>\n      <td>0.0</td>\n      <td>0.0</td>\n      <td>0.0</td>\n      <td>1.0</td>\n      <td>6</td>\n      <td>5</td>\n      <td>4</td>\n      <td>0</td>\n    </tr>\n  </tbody>\n</table>\n<p>5 rows × 25 columns</p>\n</div>"
     },
     "metadata": {},
     "execution_count": 7
    }
   ],
   "source": [
    "train_df.head()\n"
   ]
  },
  {
   "cell_type": "code",
   "execution_count": 8,
   "metadata": {},
   "outputs": [
    {
     "output_type": "execute_result",
     "data": {
      "text/plain": [
       "Index(['creator_follows_engager', 'creator_following_count', 'language',\n",
       "       'creator_is_verified', 'creator_follower_count', 'media',\n",
       "       'creator_account_creation', 'domains', 'tweet_timestamp',\n",
       "       'engager_follower_count', 'engager_following_count', 'creator_id',\n",
       "       'tweet_id', 'tweet_type', 'engager_is_verified', 'engager_id',\n",
       "       'engager_account_creation', 'reply', 'retweet', 'comment', 'like',\n",
       "       'dt_day', 'dt_dow', 'dt_hour', 'len_domains'],\n",
       "      dtype='object')"
      ]
     },
     "metadata": {},
     "execution_count": 8
    }
   ],
   "source": [
    "train_df.columns"
   ]
  },
  {
   "cell_type": "code",
   "execution_count": 9,
   "metadata": {},
   "outputs": [
    {
     "output_type": "execute_result",
     "data": {
      "text/plain": [
       "['reply', 'retweet', 'comment', 'like']"
      ]
     },
     "metadata": {},
     "execution_count": 9
    }
   ],
   "source": [
    "conf.target"
   ]
  },
  {
   "cell_type": "code",
   "execution_count": 10,
   "metadata": {},
   "outputs": [],
   "source": [
    "used_features = ['engager_follower_count', \n",
    "                'engager_following_count', \n",
    "                'engager_is_verified', \n",
    "                'engager_account_creation', \n",
    "                'creator_follower_count', \n",
    "                'creator_following_count', \n",
    "                'creator_is_verified', \n",
    "                'creator_account_creation',\n",
    "                'media',\n",
    "                'domains',\n",
    "                'language',\n",
    "                'dt_day', \n",
    "                'dt_dow', \n",
    "                'dt_hour', \n",
    "                'len_domains']"
   ]
  },
  {
   "cell_type": "code",
   "execution_count": 11,
   "metadata": {},
   "outputs": [],
   "source": [
    "X_train = train_df[used_features]\n",
    "# Y_train = train_df['like_timestamp'].fillna(0).apply(lambda x: 1 if x > 0 else 0)\n",
    "Y_train = train_df['like']"
   ]
  },
  {
   "cell_type": "code",
   "execution_count": 12,
   "metadata": {},
   "outputs": [],
   "source": [
    "X_val = val_df[used_features]\n",
    "# Y_val = val_df['like_timestamp'].fillna(0).apply(lambda x: 1 if x > 0 else 0) \n",
    "Y_val = val_df['like']"
   ]
  },
  {
   "cell_type": "code",
   "execution_count": 13,
   "metadata": {},
   "outputs": [],
   "source": [
    "X_val, X_test, Y_val, Y_test = train_test_split(X_val, Y_val, test_size=0.5)\n"
   ]
  },
  {
   "source": [
    "### scaling\n"
   ],
   "cell_type": "markdown",
   "metadata": {}
  },
  {
   "cell_type": "code",
   "execution_count": 14,
   "metadata": {},
   "outputs": [],
   "source": [
    "def scaling(df_x):\n",
    "    standard_scaler = preprocessing.StandardScaler()\n",
    "    standard_scaler.fit(df_x.values)\n",
    "    ss = standard_scaler.transform(df_x.values)\n",
    "    df_x = pd.DataFrame(ss, columns = df_x.columns)\n",
    "    return df_x"
   ]
  },
  {
   "cell_type": "code",
   "execution_count": 15,
   "metadata": {},
   "outputs": [],
   "source": [
    "X_train = scaling(X_train)\n",
    "X_val = scaling(X_val)\n",
    "X_test = scaling(X_test)"
   ]
  },
  {
   "cell_type": "code",
   "execution_count": 16,
   "metadata": {},
   "outputs": [
    {
     "output_type": "execute_result",
     "data": {
      "text/plain": [
       "         engager_follower_count  engager_following_count  engager_is_verified  \\\n",
       "0                     -0.064095                -0.219199            -0.040756   \n",
       "1                     -0.041385                 0.289623            -0.040756   \n",
       "2                     -0.017458                 0.458831            -0.040756   \n",
       "3                     -0.068758                -0.302309            -0.040756   \n",
       "4                     -0.067643                -0.195283            -0.040756   \n",
       "...                         ...                      ...                  ...   \n",
       "3033897               -0.055477                -0.217405            -0.040756   \n",
       "3033898               -0.057099                -0.116358            -0.040756   \n",
       "3033899                0.001298                 0.058231            -0.040756   \n",
       "3033900               -0.078491                -0.372264            -0.040756   \n",
       "3033901               -0.046353                -0.040424            -0.040756   \n",
       "\n",
       "         engager_account_creation  creator_follower_count  \\\n",
       "0                        0.367779               -0.168589   \n",
       "1                       -2.145428                0.823654   \n",
       "2                       -1.918288               -0.119778   \n",
       "3                       -1.873046                0.367465   \n",
       "4                        0.039344               -0.169051   \n",
       "...                           ...                     ...   \n",
       "3033897                  0.228995               -0.168643   \n",
       "3033898                  0.955743               -0.148734   \n",
       "3033899                 -1.265901               -0.169008   \n",
       "3033900                  0.543163                1.353634   \n",
       "3033901                 -1.257915               -0.168620   \n",
       "\n",
       "         creator_following_count  creator_is_verified  \\\n",
       "0                      -0.089206            -0.473566   \n",
       "1                      -0.102284             2.111640   \n",
       "2                       0.001890             2.111640   \n",
       "3                       0.297992             2.111640   \n",
       "4                      -0.087458            -0.473566   \n",
       "...                          ...                  ...   \n",
       "3033897                -0.038882            -0.473566   \n",
       "3033898                -0.088453            -0.473566   \n",
       "3033899                -0.099271            -0.473566   \n",
       "3033900                -0.082396             2.111640   \n",
       "3033901                -0.086675            -0.473566   \n",
       "\n",
       "         creator_account_creation     media   domains  language    dt_day  \\\n",
       "0                       -1.348970 -0.735590 -0.158524 -0.738195 -0.166146   \n",
       "1                       -1.310229 -0.735590 -0.158272  0.695442  0.823981   \n",
       "2                       -1.813128 -0.735590 -0.158021  0.695442  0.163896   \n",
       "3                       -1.429000 -0.735590 -0.158524  0.695442  0.823981   \n",
       "4                        1.130091  0.838429 -0.158524  1.491906 -1.321293   \n",
       "...                           ...       ...       ...       ...       ...   \n",
       "3033897                  1.007225 -0.735590 -0.158524  0.801637 -0.991251   \n",
       "3033898                  1.236818  2.097645 -0.158524 -0.738195  1.319044   \n",
       "3033899                 -0.724812 -0.735590 -0.158524 -0.738195  1.484065   \n",
       "3033900                 -1.333880 -0.735590 -0.158524  0.695442 -0.001125   \n",
       "3033901                 -1.226918 -0.735590 -0.158524 -0.738195 -1.321293   \n",
       "\n",
       "           dt_dow   dt_hour  len_domains  \n",
       "0        1.018298  0.748638    -0.338471  \n",
       "1        0.517806  0.453273     2.577894  \n",
       "2       -1.484162 -0.285140     2.577894  \n",
       "3        0.517806 -1.171236    -0.338471  \n",
       "4        1.018298 -1.171236    -0.338471  \n",
       "...           ...       ...          ...  \n",
       "3033897 -1.484162  0.748638    -0.338471  \n",
       "3033898 -1.484162 -1.318919    -0.338471  \n",
       "3033899 -0.983670  1.634733    -0.338471  \n",
       "3033900  1.518790  1.044003    -0.338471  \n",
       "3033901  1.018298 -0.432823    -0.338471  \n",
       "\n",
       "[3033902 rows x 15 columns]"
      ],
      "text/html": "<div>\n<style scoped>\n    .dataframe tbody tr th:only-of-type {\n        vertical-align: middle;\n    }\n\n    .dataframe tbody tr th {\n        vertical-align: top;\n    }\n\n    .dataframe thead th {\n        text-align: right;\n    }\n</style>\n<table border=\"1\" class=\"dataframe\">\n  <thead>\n    <tr style=\"text-align: right;\">\n      <th></th>\n      <th>engager_follower_count</th>\n      <th>engager_following_count</th>\n      <th>engager_is_verified</th>\n      <th>engager_account_creation</th>\n      <th>creator_follower_count</th>\n      <th>creator_following_count</th>\n      <th>creator_is_verified</th>\n      <th>creator_account_creation</th>\n      <th>media</th>\n      <th>domains</th>\n      <th>language</th>\n      <th>dt_day</th>\n      <th>dt_dow</th>\n      <th>dt_hour</th>\n      <th>len_domains</th>\n    </tr>\n  </thead>\n  <tbody>\n    <tr>\n      <th>0</th>\n      <td>-0.064095</td>\n      <td>-0.219199</td>\n      <td>-0.040756</td>\n      <td>0.367779</td>\n      <td>-0.168589</td>\n      <td>-0.089206</td>\n      <td>-0.473566</td>\n      <td>-1.348970</td>\n      <td>-0.735590</td>\n      <td>-0.158524</td>\n      <td>-0.738195</td>\n      <td>-0.166146</td>\n      <td>1.018298</td>\n      <td>0.748638</td>\n      <td>-0.338471</td>\n    </tr>\n    <tr>\n      <th>1</th>\n      <td>-0.041385</td>\n      <td>0.289623</td>\n      <td>-0.040756</td>\n      <td>-2.145428</td>\n      <td>0.823654</td>\n      <td>-0.102284</td>\n      <td>2.111640</td>\n      <td>-1.310229</td>\n      <td>-0.735590</td>\n      <td>-0.158272</td>\n      <td>0.695442</td>\n      <td>0.823981</td>\n      <td>0.517806</td>\n      <td>0.453273</td>\n      <td>2.577894</td>\n    </tr>\n    <tr>\n      <th>2</th>\n      <td>-0.017458</td>\n      <td>0.458831</td>\n      <td>-0.040756</td>\n      <td>-1.918288</td>\n      <td>-0.119778</td>\n      <td>0.001890</td>\n      <td>2.111640</td>\n      <td>-1.813128</td>\n      <td>-0.735590</td>\n      <td>-0.158021</td>\n      <td>0.695442</td>\n      <td>0.163896</td>\n      <td>-1.484162</td>\n      <td>-0.285140</td>\n      <td>2.577894</td>\n    </tr>\n    <tr>\n      <th>3</th>\n      <td>-0.068758</td>\n      <td>-0.302309</td>\n      <td>-0.040756</td>\n      <td>-1.873046</td>\n      <td>0.367465</td>\n      <td>0.297992</td>\n      <td>2.111640</td>\n      <td>-1.429000</td>\n      <td>-0.735590</td>\n      <td>-0.158524</td>\n      <td>0.695442</td>\n      <td>0.823981</td>\n      <td>0.517806</td>\n      <td>-1.171236</td>\n      <td>-0.338471</td>\n    </tr>\n    <tr>\n      <th>4</th>\n      <td>-0.067643</td>\n      <td>-0.195283</td>\n      <td>-0.040756</td>\n      <td>0.039344</td>\n      <td>-0.169051</td>\n      <td>-0.087458</td>\n      <td>-0.473566</td>\n      <td>1.130091</td>\n      <td>0.838429</td>\n      <td>-0.158524</td>\n      <td>1.491906</td>\n      <td>-1.321293</td>\n      <td>1.018298</td>\n      <td>-1.171236</td>\n      <td>-0.338471</td>\n    </tr>\n    <tr>\n      <th>...</th>\n      <td>...</td>\n      <td>...</td>\n      <td>...</td>\n      <td>...</td>\n      <td>...</td>\n      <td>...</td>\n      <td>...</td>\n      <td>...</td>\n      <td>...</td>\n      <td>...</td>\n      <td>...</td>\n      <td>...</td>\n      <td>...</td>\n      <td>...</td>\n      <td>...</td>\n    </tr>\n    <tr>\n      <th>3033897</th>\n      <td>-0.055477</td>\n      <td>-0.217405</td>\n      <td>-0.040756</td>\n      <td>0.228995</td>\n      <td>-0.168643</td>\n      <td>-0.038882</td>\n      <td>-0.473566</td>\n      <td>1.007225</td>\n      <td>-0.735590</td>\n      <td>-0.158524</td>\n      <td>0.801637</td>\n      <td>-0.991251</td>\n      <td>-1.484162</td>\n      <td>0.748638</td>\n      <td>-0.338471</td>\n    </tr>\n    <tr>\n      <th>3033898</th>\n      <td>-0.057099</td>\n      <td>-0.116358</td>\n      <td>-0.040756</td>\n      <td>0.955743</td>\n      <td>-0.148734</td>\n      <td>-0.088453</td>\n      <td>-0.473566</td>\n      <td>1.236818</td>\n      <td>2.097645</td>\n      <td>-0.158524</td>\n      <td>-0.738195</td>\n      <td>1.319044</td>\n      <td>-1.484162</td>\n      <td>-1.318919</td>\n      <td>-0.338471</td>\n    </tr>\n    <tr>\n      <th>3033899</th>\n      <td>0.001298</td>\n      <td>0.058231</td>\n      <td>-0.040756</td>\n      <td>-1.265901</td>\n      <td>-0.169008</td>\n      <td>-0.099271</td>\n      <td>-0.473566</td>\n      <td>-0.724812</td>\n      <td>-0.735590</td>\n      <td>-0.158524</td>\n      <td>-0.738195</td>\n      <td>1.484065</td>\n      <td>-0.983670</td>\n      <td>1.634733</td>\n      <td>-0.338471</td>\n    </tr>\n    <tr>\n      <th>3033900</th>\n      <td>-0.078491</td>\n      <td>-0.372264</td>\n      <td>-0.040756</td>\n      <td>0.543163</td>\n      <td>1.353634</td>\n      <td>-0.082396</td>\n      <td>2.111640</td>\n      <td>-1.333880</td>\n      <td>-0.735590</td>\n      <td>-0.158524</td>\n      <td>0.695442</td>\n      <td>-0.001125</td>\n      <td>1.518790</td>\n      <td>1.044003</td>\n      <td>-0.338471</td>\n    </tr>\n    <tr>\n      <th>3033901</th>\n      <td>-0.046353</td>\n      <td>-0.040424</td>\n      <td>-0.040756</td>\n      <td>-1.257915</td>\n      <td>-0.168620</td>\n      <td>-0.086675</td>\n      <td>-0.473566</td>\n      <td>-1.226918</td>\n      <td>-0.735590</td>\n      <td>-0.158524</td>\n      <td>-0.738195</td>\n      <td>-1.321293</td>\n      <td>1.018298</td>\n      <td>-0.432823</td>\n      <td>-0.338471</td>\n    </tr>\n  </tbody>\n</table>\n<p>3033902 rows × 15 columns</p>\n</div>"
     },
     "metadata": {},
     "execution_count": 16
    }
   ],
   "source": [
    "X_train"
   ]
  },
  {
   "source": [
    "## Model"
   ],
   "cell_type": "markdown",
   "metadata": {}
  },
  {
   "cell_type": "code",
   "execution_count": 107,
   "metadata": {},
   "outputs": [],
   "source": [
    "\n",
    "kargs = {\n",
    "    'model_name': 'auto_encoder',\n",
    "    'input_dim' : X_train.shape[1],\n",
    "    # 'input_dim': 100000,\n",
    "    'engager_dim' : 4,\n",
    "    'creator_dim' : 4,\n",
    "    'embedding_dim': 4,\n",
    "    'encoder_dim': 64,\n",
    "    'decoder_dim': 1\n",
    "    \n",
    "}\n"
   ]
  },
  {
   "cell_type": "code",
   "execution_count": 122,
   "metadata": {},
   "outputs": [],
   "source": [
    "class AutoEncoder(tf.keras.models.Model):\n",
    "    def __init__(self, **kargs):\n",
    "        super(AutoEncoder, self).__init__()\n",
    "        \n",
    "        self.input_dim = kargs['input_dim']\n",
    "        self.engager_dim = kargs['engager_dim']\n",
    "        self.creator_dim = kargs['creator_dim']\n",
    "        self.embedding_dim = kargs['embedding_dim']\n",
    "        self.encoder_dim = kargs['encoder_dim']\n",
    "        self.decoder_dim = kargs['decoder_dim']\n",
    "        \n",
    "        self.engager_embedding = tf.keras.layers.Embedding(input_dim=self.engager_dim, output_dim=self.embedding_dim)\n",
    "        self.creator_embedding = tf.keras.layers.Embedding(input_dim=self.creator_dim, output_dim=self.embedding_dim)\n",
    "        self.engager_encoder = tf.keras.layers.Dense(16, activation = 'relu')\n",
    "        self.creator_encoder = tf.keras.layers.Dense(16, activation = 'relu')\n",
    "        self.tweet_encoder = tf.keras.layers.Dense(16, activation = 'relu')\n",
    "        self.encoder = tf.keras.layers.Dense(8, activation = 'relu')\n",
    "        # self.encoder2 = tf.keras.layers.Dense(4, activation = 'relu')\n",
    "        self.decoder = tf.keras.layers.Dense(1, activation = 'relu')\n",
    "    \n",
    "    def call(self, x):\n",
    "        # x1 = self.engager_embedding(x[:,:4])\n",
    "        # x2 = self.creator_embedding(x[:,4:])\n",
    "        x1 = self.engager_encoder(x[:,:4])\n",
    "        x2 = self.creator_encoder(x[:,4:8])\n",
    "\n",
    "\n",
    "        x3 = self.tweet_encoder(x[:,8:])\n",
    "        x = tf.concat([x1, x2, x3], 1)\n",
    "        x = self.encoder(x)\n",
    "        # x = tf.concat([x, x3], 1)\n",
    "        # x = self.encoder2(x)\n",
    "        x = self.decoder(x)\n",
    "        return x\n",
    "\n",
    "    def summary(self):\n",
    "        inputs = tf.keras.layers.Input((self.input_dim))\n",
    "        tf.keras.models.Model(inputs, self.call(inputs)).summary()\n",
    "    "
   ]
  },
  {
   "cell_type": "code",
   "execution_count": 123,
   "metadata": {},
   "outputs": [],
   "source": [
    "model = AutoEncoder(**kargs)\n"
   ]
  },
  {
   "cell_type": "code",
   "execution_count": 124,
   "metadata": {},
   "outputs": [
    {
     "output_type": "stream",
     "name": "stdout",
     "text": [
      "Model: \"model_10\"\n__________________________________________________________________________________________________\nLayer (type)                    Output Shape         Param #     Connected to                     \n==================================================================================================\ninput_24 (InputLayer)           [(None, 15)]         0                                            \n__________________________________________________________________________________________________\ntf.__operators__.getitem_86 (Sl (None, 4)            0           input_24[0][0]                   \n__________________________________________________________________________________________________\ntf.__operators__.getitem_87 (Sl (None, 4)            0           input_24[0][0]                   \n__________________________________________________________________________________________________\ntf.__operators__.getitem_88 (Sl (None, 7)            0           input_24[0][0]                   \n__________________________________________________________________________________________________\ndense_113 (Dense)               (None, 16)           80          tf.__operators__.getitem_86[0][0]\n__________________________________________________________________________________________________\ndense_114 (Dense)               (None, 16)           80          tf.__operators__.getitem_87[0][0]\n__________________________________________________________________________________________________\ndense_115 (Dense)               (None, 16)           128         tf.__operators__.getitem_88[0][0]\n__________________________________________________________________________________________________\ntf.concat_17 (TFOpLambda)       (None, 48)           0           dense_113[0][0]                  \n                                                                 dense_114[0][0]                  \n                                                                 dense_115[0][0]                  \n__________________________________________________________________________________________________\ndense_116 (Dense)               (None, 8)            392         tf.concat_17[0][0]               \n__________________________________________________________________________________________________\ndense_117 (Dense)               (None, 1)            9           dense_116[0][0]                  \n==================================================================================================\nTotal params: 689\nTrainable params: 689\nNon-trainable params: 0\n__________________________________________________________________________________________________\n"
     ]
    }
   ],
   "source": [
    "model.summary()\n",
    "# opt = tf.keras.optimizers.Adam(learning_rate=0.01)\n",
    "model.compile(\n",
    "    optimizer = 'adam', # adam\n",
    "    loss = 'binary_crossentropy', # softmax : sparse_categorical_crossentropy, sigmoid : binary_crossentropy\n",
    "    metrics=['binary_crossentropy'])"
   ]
  },
  {
   "cell_type": "code",
   "execution_count": null,
   "metadata": {},
   "outputs": [],
   "source": []
  },
  {
   "cell_type": "code",
   "execution_count": 125,
   "metadata": {},
   "outputs": [
    {
     "output_type": "stream",
     "name": "stdout",
     "text": [
      "Epoch 1/10\n",
      " 4476/94810 [>.............................] - ETA: 33s - loss: 0.8580 - binary_crossentropy: 0.8580"
     ]
    },
    {
     "output_type": "error",
     "ename": "KeyboardInterrupt",
     "evalue": "",
     "traceback": [
      "\u001b[0;31m---------------------------------------------------------------------------\u001b[0m",
      "\u001b[0;31mKeyboardInterrupt\u001b[0m                         Traceback (most recent call last)",
      "\u001b[0;32m<ipython-input-125-91d28cd72c52>\u001b[0m in \u001b[0;36m<module>\u001b[0;34m\u001b[0m\n\u001b[0;32m----> 1\u001b[0;31m result = model.fit(\n\u001b[0m\u001b[1;32m      2\u001b[0m     \u001b[0mx\u001b[0m \u001b[0;34m=\u001b[0m \u001b[0mX_train\u001b[0m\u001b[0;34m.\u001b[0m\u001b[0mto_numpy\u001b[0m\u001b[0;34m(\u001b[0m\u001b[0;34m)\u001b[0m\u001b[0;34m,\u001b[0m\u001b[0;34m\u001b[0m\u001b[0;34m\u001b[0m\u001b[0m\n\u001b[1;32m      3\u001b[0m     \u001b[0my\u001b[0m \u001b[0;34m=\u001b[0m \u001b[0mY_train\u001b[0m\u001b[0;34m.\u001b[0m\u001b[0mto_numpy\u001b[0m\u001b[0;34m(\u001b[0m\u001b[0;34m)\u001b[0m\u001b[0;34m,\u001b[0m\u001b[0;34m\u001b[0m\u001b[0;34m\u001b[0m\u001b[0m\n\u001b[1;32m      4\u001b[0m     \u001b[0mvalidation_data\u001b[0m\u001b[0;34m=\u001b[0m\u001b[0;34m(\u001b[0m\u001b[0mX_val\u001b[0m\u001b[0;34m.\u001b[0m\u001b[0mto_numpy\u001b[0m\u001b[0;34m(\u001b[0m\u001b[0;34m)\u001b[0m\u001b[0;34m,\u001b[0m \u001b[0mY_val\u001b[0m\u001b[0;34m.\u001b[0m\u001b[0mto_numpy\u001b[0m\u001b[0;34m(\u001b[0m\u001b[0;34m)\u001b[0m\u001b[0;34m)\u001b[0m\u001b[0;34m,\u001b[0m\u001b[0;34m\u001b[0m\u001b[0;34m\u001b[0m\u001b[0m\n\u001b[1;32m      5\u001b[0m     \u001b[0mepochs\u001b[0m\u001b[0;34m=\u001b[0m\u001b[0;36m10\u001b[0m\u001b[0;34m,\u001b[0m\u001b[0;34m\u001b[0m\u001b[0;34m\u001b[0m\u001b[0m\n",
      "\u001b[0;32m~/anaconda3/envs/recsys/lib/python3.8/site-packages/tensorflow/python/keras/engine/training.py\u001b[0m in \u001b[0;36mfit\u001b[0;34m(self, x, y, batch_size, epochs, verbose, callbacks, validation_split, validation_data, shuffle, class_weight, sample_weight, initial_epoch, steps_per_epoch, validation_steps, validation_batch_size, validation_freq, max_queue_size, workers, use_multiprocessing)\u001b[0m\n\u001b[1;32m   1103\u001b[0m               \u001b[0mlogs\u001b[0m \u001b[0;34m=\u001b[0m \u001b[0mtmp_logs\u001b[0m  \u001b[0;31m# No error, now safe to assign to logs.\u001b[0m\u001b[0;34m\u001b[0m\u001b[0;34m\u001b[0m\u001b[0m\n\u001b[1;32m   1104\u001b[0m               \u001b[0mend_step\u001b[0m \u001b[0;34m=\u001b[0m \u001b[0mstep\u001b[0m \u001b[0;34m+\u001b[0m \u001b[0mdata_handler\u001b[0m\u001b[0;34m.\u001b[0m\u001b[0mstep_increment\u001b[0m\u001b[0;34m\u001b[0m\u001b[0;34m\u001b[0m\u001b[0m\n\u001b[0;32m-> 1105\u001b[0;31m               \u001b[0mcallbacks\u001b[0m\u001b[0;34m.\u001b[0m\u001b[0mon_train_batch_end\u001b[0m\u001b[0;34m(\u001b[0m\u001b[0mend_step\u001b[0m\u001b[0;34m,\u001b[0m \u001b[0mlogs\u001b[0m\u001b[0;34m)\u001b[0m\u001b[0;34m\u001b[0m\u001b[0;34m\u001b[0m\u001b[0m\n\u001b[0m\u001b[1;32m   1106\u001b[0m               \u001b[0;32mif\u001b[0m \u001b[0mself\u001b[0m\u001b[0;34m.\u001b[0m\u001b[0mstop_training\u001b[0m\u001b[0;34m:\u001b[0m\u001b[0;34m\u001b[0m\u001b[0;34m\u001b[0m\u001b[0m\n\u001b[1;32m   1107\u001b[0m                 \u001b[0;32mbreak\u001b[0m\u001b[0;34m\u001b[0m\u001b[0;34m\u001b[0m\u001b[0m\n",
      "\u001b[0;32m~/anaconda3/envs/recsys/lib/python3.8/site-packages/tensorflow/python/keras/callbacks.py\u001b[0m in \u001b[0;36mon_train_batch_end\u001b[0;34m(self, batch, logs)\u001b[0m\n\u001b[1;32m    452\u001b[0m     \"\"\"\n\u001b[1;32m    453\u001b[0m     \u001b[0;32mif\u001b[0m \u001b[0mself\u001b[0m\u001b[0;34m.\u001b[0m\u001b[0m_should_call_train_batch_hooks\u001b[0m\u001b[0;34m:\u001b[0m\u001b[0;34m\u001b[0m\u001b[0;34m\u001b[0m\u001b[0m\n\u001b[0;32m--> 454\u001b[0;31m       \u001b[0mself\u001b[0m\u001b[0;34m.\u001b[0m\u001b[0m_call_batch_hook\u001b[0m\u001b[0;34m(\u001b[0m\u001b[0mModeKeys\u001b[0m\u001b[0;34m.\u001b[0m\u001b[0mTRAIN\u001b[0m\u001b[0;34m,\u001b[0m \u001b[0;34m'end'\u001b[0m\u001b[0;34m,\u001b[0m \u001b[0mbatch\u001b[0m\u001b[0;34m,\u001b[0m \u001b[0mlogs\u001b[0m\u001b[0;34m=\u001b[0m\u001b[0mlogs\u001b[0m\u001b[0;34m)\u001b[0m\u001b[0;34m\u001b[0m\u001b[0;34m\u001b[0m\u001b[0m\n\u001b[0m\u001b[1;32m    455\u001b[0m \u001b[0;34m\u001b[0m\u001b[0m\n\u001b[1;32m    456\u001b[0m   \u001b[0;32mdef\u001b[0m \u001b[0mon_test_batch_begin\u001b[0m\u001b[0;34m(\u001b[0m\u001b[0mself\u001b[0m\u001b[0;34m,\u001b[0m \u001b[0mbatch\u001b[0m\u001b[0;34m,\u001b[0m \u001b[0mlogs\u001b[0m\u001b[0;34m=\u001b[0m\u001b[0;32mNone\u001b[0m\u001b[0;34m)\u001b[0m\u001b[0;34m:\u001b[0m\u001b[0;34m\u001b[0m\u001b[0;34m\u001b[0m\u001b[0m\n",
      "\u001b[0;32m~/anaconda3/envs/recsys/lib/python3.8/site-packages/tensorflow/python/keras/callbacks.py\u001b[0m in \u001b[0;36m_call_batch_hook\u001b[0;34m(self, mode, hook, batch, logs)\u001b[0m\n\u001b[1;32m    294\u001b[0m       \u001b[0mself\u001b[0m\u001b[0;34m.\u001b[0m\u001b[0m_call_batch_begin_hook\u001b[0m\u001b[0;34m(\u001b[0m\u001b[0mmode\u001b[0m\u001b[0;34m,\u001b[0m \u001b[0mbatch\u001b[0m\u001b[0;34m,\u001b[0m \u001b[0mlogs\u001b[0m\u001b[0;34m)\u001b[0m\u001b[0;34m\u001b[0m\u001b[0;34m\u001b[0m\u001b[0m\n\u001b[1;32m    295\u001b[0m     \u001b[0;32melif\u001b[0m \u001b[0mhook\u001b[0m \u001b[0;34m==\u001b[0m \u001b[0;34m'end'\u001b[0m\u001b[0;34m:\u001b[0m\u001b[0;34m\u001b[0m\u001b[0;34m\u001b[0m\u001b[0m\n\u001b[0;32m--> 296\u001b[0;31m       \u001b[0mself\u001b[0m\u001b[0;34m.\u001b[0m\u001b[0m_call_batch_end_hook\u001b[0m\u001b[0;34m(\u001b[0m\u001b[0mmode\u001b[0m\u001b[0;34m,\u001b[0m \u001b[0mbatch\u001b[0m\u001b[0;34m,\u001b[0m \u001b[0mlogs\u001b[0m\u001b[0;34m)\u001b[0m\u001b[0;34m\u001b[0m\u001b[0;34m\u001b[0m\u001b[0m\n\u001b[0m\u001b[1;32m    297\u001b[0m     \u001b[0;32melse\u001b[0m\u001b[0;34m:\u001b[0m\u001b[0;34m\u001b[0m\u001b[0;34m\u001b[0m\u001b[0m\n\u001b[1;32m    298\u001b[0m       \u001b[0;32mraise\u001b[0m \u001b[0mValueError\u001b[0m\u001b[0;34m(\u001b[0m\u001b[0;34m'Unrecognized hook: {}'\u001b[0m\u001b[0;34m.\u001b[0m\u001b[0mformat\u001b[0m\u001b[0;34m(\u001b[0m\u001b[0mhook\u001b[0m\u001b[0;34m)\u001b[0m\u001b[0;34m)\u001b[0m\u001b[0;34m\u001b[0m\u001b[0;34m\u001b[0m\u001b[0m\n",
      "\u001b[0;32m~/anaconda3/envs/recsys/lib/python3.8/site-packages/tensorflow/python/keras/callbacks.py\u001b[0m in \u001b[0;36m_call_batch_end_hook\u001b[0;34m(self, mode, batch, logs)\u001b[0m\n\u001b[1;32m    314\u001b[0m       \u001b[0mself\u001b[0m\u001b[0;34m.\u001b[0m\u001b[0m_batch_times\u001b[0m\u001b[0;34m.\u001b[0m\u001b[0mappend\u001b[0m\u001b[0;34m(\u001b[0m\u001b[0mbatch_time\u001b[0m\u001b[0;34m)\u001b[0m\u001b[0;34m\u001b[0m\u001b[0;34m\u001b[0m\u001b[0m\n\u001b[1;32m    315\u001b[0m \u001b[0;34m\u001b[0m\u001b[0m\n\u001b[0;32m--> 316\u001b[0;31m     \u001b[0mself\u001b[0m\u001b[0;34m.\u001b[0m\u001b[0m_call_batch_hook_helper\u001b[0m\u001b[0;34m(\u001b[0m\u001b[0mhook_name\u001b[0m\u001b[0;34m,\u001b[0m \u001b[0mbatch\u001b[0m\u001b[0;34m,\u001b[0m \u001b[0mlogs\u001b[0m\u001b[0;34m)\u001b[0m\u001b[0;34m\u001b[0m\u001b[0;34m\u001b[0m\u001b[0m\n\u001b[0m\u001b[1;32m    317\u001b[0m \u001b[0;34m\u001b[0m\u001b[0m\n\u001b[1;32m    318\u001b[0m     \u001b[0;32mif\u001b[0m \u001b[0mlen\u001b[0m\u001b[0;34m(\u001b[0m\u001b[0mself\u001b[0m\u001b[0;34m.\u001b[0m\u001b[0m_batch_times\u001b[0m\u001b[0;34m)\u001b[0m \u001b[0;34m>=\u001b[0m \u001b[0mself\u001b[0m\u001b[0;34m.\u001b[0m\u001b[0m_num_batches_for_timing_check\u001b[0m\u001b[0;34m:\u001b[0m\u001b[0;34m\u001b[0m\u001b[0;34m\u001b[0m\u001b[0m\n",
      "\u001b[0;32m~/anaconda3/envs/recsys/lib/python3.8/site-packages/tensorflow/python/keras/callbacks.py\u001b[0m in \u001b[0;36m_call_batch_hook_helper\u001b[0;34m(self, hook_name, batch, logs)\u001b[0m\n\u001b[1;32m    354\u001b[0m       \u001b[0mhook\u001b[0m \u001b[0;34m=\u001b[0m \u001b[0mgetattr\u001b[0m\u001b[0;34m(\u001b[0m\u001b[0mcallback\u001b[0m\u001b[0;34m,\u001b[0m \u001b[0mhook_name\u001b[0m\u001b[0;34m)\u001b[0m\u001b[0;34m\u001b[0m\u001b[0;34m\u001b[0m\u001b[0m\n\u001b[1;32m    355\u001b[0m       \u001b[0;32mif\u001b[0m \u001b[0mgetattr\u001b[0m\u001b[0;34m(\u001b[0m\u001b[0mcallback\u001b[0m\u001b[0;34m,\u001b[0m \u001b[0;34m'_supports_tf_logs'\u001b[0m\u001b[0;34m,\u001b[0m \u001b[0;32mFalse\u001b[0m\u001b[0;34m)\u001b[0m\u001b[0;34m:\u001b[0m\u001b[0;34m\u001b[0m\u001b[0;34m\u001b[0m\u001b[0m\n\u001b[0;32m--> 356\u001b[0;31m         \u001b[0mhook\u001b[0m\u001b[0;34m(\u001b[0m\u001b[0mbatch\u001b[0m\u001b[0;34m,\u001b[0m \u001b[0mlogs\u001b[0m\u001b[0;34m)\u001b[0m\u001b[0;34m\u001b[0m\u001b[0;34m\u001b[0m\u001b[0m\n\u001b[0m\u001b[1;32m    357\u001b[0m       \u001b[0;32melse\u001b[0m\u001b[0;34m:\u001b[0m\u001b[0;34m\u001b[0m\u001b[0;34m\u001b[0m\u001b[0m\n\u001b[1;32m    358\u001b[0m         \u001b[0;32mif\u001b[0m \u001b[0mnumpy_logs\u001b[0m \u001b[0;32mis\u001b[0m \u001b[0;32mNone\u001b[0m\u001b[0;34m:\u001b[0m  \u001b[0;31m# Only convert once.\u001b[0m\u001b[0;34m\u001b[0m\u001b[0;34m\u001b[0m\u001b[0m\n",
      "\u001b[0;32m~/anaconda3/envs/recsys/lib/python3.8/site-packages/tensorflow/python/keras/callbacks.py\u001b[0m in \u001b[0;36mon_train_batch_end\u001b[0;34m(self, batch, logs)\u001b[0m\n\u001b[1;32m   1018\u001b[0m \u001b[0;34m\u001b[0m\u001b[0m\n\u001b[1;32m   1019\u001b[0m   \u001b[0;32mdef\u001b[0m \u001b[0mon_train_batch_end\u001b[0m\u001b[0;34m(\u001b[0m\u001b[0mself\u001b[0m\u001b[0;34m,\u001b[0m \u001b[0mbatch\u001b[0m\u001b[0;34m,\u001b[0m \u001b[0mlogs\u001b[0m\u001b[0;34m=\u001b[0m\u001b[0;32mNone\u001b[0m\u001b[0;34m)\u001b[0m\u001b[0;34m:\u001b[0m\u001b[0;34m\u001b[0m\u001b[0;34m\u001b[0m\u001b[0m\n\u001b[0;32m-> 1020\u001b[0;31m     \u001b[0mself\u001b[0m\u001b[0;34m.\u001b[0m\u001b[0m_batch_update_progbar\u001b[0m\u001b[0;34m(\u001b[0m\u001b[0mbatch\u001b[0m\u001b[0;34m,\u001b[0m \u001b[0mlogs\u001b[0m\u001b[0;34m)\u001b[0m\u001b[0;34m\u001b[0m\u001b[0;34m\u001b[0m\u001b[0m\n\u001b[0m\u001b[1;32m   1021\u001b[0m \u001b[0;34m\u001b[0m\u001b[0m\n\u001b[1;32m   1022\u001b[0m   \u001b[0;32mdef\u001b[0m \u001b[0mon_test_batch_end\u001b[0m\u001b[0;34m(\u001b[0m\u001b[0mself\u001b[0m\u001b[0;34m,\u001b[0m \u001b[0mbatch\u001b[0m\u001b[0;34m,\u001b[0m \u001b[0mlogs\u001b[0m\u001b[0;34m=\u001b[0m\u001b[0;32mNone\u001b[0m\u001b[0;34m)\u001b[0m\u001b[0;34m:\u001b[0m\u001b[0;34m\u001b[0m\u001b[0;34m\u001b[0m\u001b[0m\n",
      "\u001b[0;32m~/anaconda3/envs/recsys/lib/python3.8/site-packages/tensorflow/python/keras/callbacks.py\u001b[0m in \u001b[0;36m_batch_update_progbar\u001b[0;34m(self, batch, logs)\u001b[0m\n\u001b[1;32m   1082\u001b[0m     \u001b[0;32mif\u001b[0m \u001b[0mself\u001b[0m\u001b[0;34m.\u001b[0m\u001b[0mverbose\u001b[0m \u001b[0;34m==\u001b[0m \u001b[0;36m1\u001b[0m\u001b[0;34m:\u001b[0m\u001b[0;34m\u001b[0m\u001b[0;34m\u001b[0m\u001b[0m\n\u001b[1;32m   1083\u001b[0m       \u001b[0;31m# Only block async when verbose = 1.\u001b[0m\u001b[0;34m\u001b[0m\u001b[0;34m\u001b[0m\u001b[0;34m\u001b[0m\u001b[0m\n\u001b[0;32m-> 1084\u001b[0;31m       \u001b[0mlogs\u001b[0m \u001b[0;34m=\u001b[0m \u001b[0mtf_utils\u001b[0m\u001b[0;34m.\u001b[0m\u001b[0mto_numpy_or_python_type\u001b[0m\u001b[0;34m(\u001b[0m\u001b[0mlogs\u001b[0m\u001b[0;34m)\u001b[0m\u001b[0;34m\u001b[0m\u001b[0;34m\u001b[0m\u001b[0m\n\u001b[0m\u001b[1;32m   1085\u001b[0m       \u001b[0mself\u001b[0m\u001b[0;34m.\u001b[0m\u001b[0mprogbar\u001b[0m\u001b[0;34m.\u001b[0m\u001b[0mupdate\u001b[0m\u001b[0;34m(\u001b[0m\u001b[0mself\u001b[0m\u001b[0;34m.\u001b[0m\u001b[0mseen\u001b[0m\u001b[0;34m,\u001b[0m \u001b[0mlist\u001b[0m\u001b[0;34m(\u001b[0m\u001b[0mlogs\u001b[0m\u001b[0;34m.\u001b[0m\u001b[0mitems\u001b[0m\u001b[0;34m(\u001b[0m\u001b[0;34m)\u001b[0m\u001b[0;34m)\u001b[0m\u001b[0;34m,\u001b[0m \u001b[0mfinalize\u001b[0m\u001b[0;34m=\u001b[0m\u001b[0;32mFalse\u001b[0m\u001b[0;34m)\u001b[0m\u001b[0;34m\u001b[0m\u001b[0;34m\u001b[0m\u001b[0m\n\u001b[1;32m   1086\u001b[0m \u001b[0;34m\u001b[0m\u001b[0m\n",
      "\u001b[0;32m~/anaconda3/envs/recsys/lib/python3.8/site-packages/tensorflow/python/keras/utils/tf_utils.py\u001b[0m in \u001b[0;36mto_numpy_or_python_type\u001b[0;34m(tensors)\u001b[0m\n\u001b[1;32m    512\u001b[0m     \u001b[0;32mreturn\u001b[0m \u001b[0mt\u001b[0m  \u001b[0;31m# Don't turn ragged or sparse tensors to NumPy.\u001b[0m\u001b[0;34m\u001b[0m\u001b[0;34m\u001b[0m\u001b[0m\n\u001b[1;32m    513\u001b[0m \u001b[0;34m\u001b[0m\u001b[0m\n\u001b[0;32m--> 514\u001b[0;31m   \u001b[0;32mreturn\u001b[0m \u001b[0mnest\u001b[0m\u001b[0;34m.\u001b[0m\u001b[0mmap_structure\u001b[0m\u001b[0;34m(\u001b[0m\u001b[0m_to_single_numpy_or_python_type\u001b[0m\u001b[0;34m,\u001b[0m \u001b[0mtensors\u001b[0m\u001b[0;34m)\u001b[0m\u001b[0;34m\u001b[0m\u001b[0;34m\u001b[0m\u001b[0m\n\u001b[0m\u001b[1;32m    515\u001b[0m \u001b[0;34m\u001b[0m\u001b[0m\n\u001b[1;32m    516\u001b[0m \u001b[0;34m\u001b[0m\u001b[0m\n",
      "\u001b[0;32m~/anaconda3/envs/recsys/lib/python3.8/site-packages/tensorflow/python/util/nest.py\u001b[0m in \u001b[0;36mmap_structure\u001b[0;34m(func, *structure, **kwargs)\u001b[0m\n\u001b[1;32m    656\u001b[0m   \u001b[0mentries\u001b[0m \u001b[0;34m=\u001b[0m \u001b[0mzip\u001b[0m\u001b[0;34m(\u001b[0m\u001b[0;34m*\u001b[0m\u001b[0mflat_structure\u001b[0m\u001b[0;34m)\u001b[0m\u001b[0;34m\u001b[0m\u001b[0;34m\u001b[0m\u001b[0m\n\u001b[1;32m    657\u001b[0m \u001b[0;34m\u001b[0m\u001b[0m\n\u001b[0;32m--> 658\u001b[0;31m   return pack_sequence_as(\n\u001b[0m\u001b[1;32m    659\u001b[0m       \u001b[0mstructure\u001b[0m\u001b[0;34m[\u001b[0m\u001b[0;36m0\u001b[0m\u001b[0;34m]\u001b[0m\u001b[0;34m,\u001b[0m \u001b[0;34m[\u001b[0m\u001b[0mfunc\u001b[0m\u001b[0;34m(\u001b[0m\u001b[0;34m*\u001b[0m\u001b[0mx\u001b[0m\u001b[0;34m)\u001b[0m \u001b[0;32mfor\u001b[0m \u001b[0mx\u001b[0m \u001b[0;32min\u001b[0m \u001b[0mentries\u001b[0m\u001b[0;34m]\u001b[0m\u001b[0;34m,\u001b[0m\u001b[0;34m\u001b[0m\u001b[0;34m\u001b[0m\u001b[0m\n\u001b[1;32m    660\u001b[0m       expand_composites=expand_composites)\n",
      "\u001b[0;32m~/anaconda3/envs/recsys/lib/python3.8/site-packages/tensorflow/python/util/nest.py\u001b[0m in \u001b[0;36mpack_sequence_as\u001b[0;34m(structure, flat_sequence, expand_composites)\u001b[0m\n\u001b[1;32m    577\u001b[0m     \u001b[0mTypeError\u001b[0m\u001b[0;34m:\u001b[0m\u001b[0;31m \u001b[0m\u001b[0;31m`\u001b[0m\u001b[0mstructure\u001b[0m\u001b[0;31m`\u001b[0m \u001b[0;32mis\u001b[0m \u001b[0;32mor\u001b[0m \u001b[0mcontains\u001b[0m \u001b[0ma\u001b[0m \u001b[0mdict\u001b[0m \u001b[0;32mwith\u001b[0m \u001b[0mnon\u001b[0m\u001b[0;34m-\u001b[0m\u001b[0msortable\u001b[0m \u001b[0mkeys\u001b[0m\u001b[0;34m.\u001b[0m\u001b[0;34m\u001b[0m\u001b[0;34m\u001b[0m\u001b[0m\n\u001b[1;32m    578\u001b[0m   \"\"\"\n\u001b[0;32m--> 579\u001b[0;31m   \u001b[0;32mreturn\u001b[0m \u001b[0m_pack_sequence_as\u001b[0m\u001b[0;34m(\u001b[0m\u001b[0mstructure\u001b[0m\u001b[0;34m,\u001b[0m \u001b[0mflat_sequence\u001b[0m\u001b[0;34m,\u001b[0m \u001b[0mexpand_composites\u001b[0m\u001b[0;34m)\u001b[0m\u001b[0;34m\u001b[0m\u001b[0;34m\u001b[0m\u001b[0m\n\u001b[0m\u001b[1;32m    580\u001b[0m \u001b[0;34m\u001b[0m\u001b[0m\n\u001b[1;32m    581\u001b[0m \u001b[0;34m\u001b[0m\u001b[0m\n",
      "\u001b[0;31mKeyboardInterrupt\u001b[0m: "
     ]
    }
   ],
   "source": [
    "result = model.fit(\n",
    "    x = X_train.to_numpy(),\n",
    "    y = Y_train.to_numpy(),\n",
    "    validation_data=(X_val.to_numpy(), Y_val.to_numpy()),\n",
    "    epochs=10,\n",
    "    batch_size=32\n",
    ")"
   ]
  },
  {
   "source": [
    "## Evaluate"
   ],
   "cell_type": "markdown",
   "metadata": {}
  },
  {
   "cell_type": "code",
   "execution_count": 46,
   "metadata": {},
   "outputs": [
    {
     "output_type": "display_data",
     "data": {
      "text/plain": "<Figure size 432x288 with 1 Axes>",
      "image/svg+xml": "<?xml version=\"1.0\" encoding=\"utf-8\" standalone=\"no\"?>\n<!DOCTYPE svg PUBLIC \"-//W3C//DTD SVG 1.1//EN\"\n  \"http://www.w3.org/Graphics/SVG/1.1/DTD/svg11.dtd\">\n<!-- Created with matplotlib (https://matplotlib.org/) -->\n<svg height=\"277.314375pt\" version=\"1.1\" viewBox=\"0 0 411.23125 277.314375\" width=\"411.23125pt\" xmlns=\"http://www.w3.org/2000/svg\" xmlns:xlink=\"http://www.w3.org/1999/xlink\">\n <metadata>\n  <rdf:RDF xmlns:cc=\"http://creativecommons.org/ns#\" xmlns:dc=\"http://purl.org/dc/elements/1.1/\" xmlns:rdf=\"http://www.w3.org/1999/02/22-rdf-syntax-ns#\">\n   <cc:Work>\n    <dc:type rdf:resource=\"http://purl.org/dc/dcmitype/StillImage\"/>\n    <dc:date>2021-05-20T19:01:59.299981</dc:date>\n    <dc:format>image/svg+xml</dc:format>\n    <dc:creator>\n     <cc:Agent>\n      <dc:title>Matplotlib v3.3.4, https://matplotlib.org/</dc:title>\n     </cc:Agent>\n    </dc:creator>\n   </cc:Work>\n  </rdf:RDF>\n </metadata>\n <defs>\n  <style type=\"text/css\">*{stroke-linecap:butt;stroke-linejoin:round;}</style>\n </defs>\n <g id=\"figure_1\">\n  <g id=\"patch_1\">\n   <path d=\"M -0 277.314375 \nL 411.23125 277.314375 \nL 411.23125 0 \nL -0 0 \nz\n\" style=\"fill:none;\"/>\n  </g>\n  <g id=\"axes_1\">\n   <g id=\"patch_2\">\n    <path d=\"M 69.23125 239.758125 \nL 404.03125 239.758125 \nL 404.03125 22.318125 \nL 69.23125 22.318125 \nz\n\" style=\"fill:#ffffff;\"/>\n   </g>\n   <g id=\"matplotlib.axis_1\">\n    <g id=\"xtick_1\">\n     <g id=\"line2d_1\">\n      <defs>\n       <path d=\"M 0 0 \nL 0 3.5 \n\" id=\"mfd255a72d1\" style=\"stroke:#000000;stroke-width:0.8;\"/>\n      </defs>\n      <g>\n       <use style=\"stroke:#000000;stroke-width:0.8;\" x=\"84.449432\" xlink:href=\"#mfd255a72d1\" y=\"239.758125\"/>\n      </g>\n     </g>\n     <g id=\"text_1\">\n      <!-- 0 -->\n      <g transform=\"translate(81.268182 254.356562)scale(0.1 -0.1)\">\n       <defs>\n        <path d=\"M 31.78125 66.40625 \nQ 24.171875 66.40625 20.328125 58.90625 \nQ 16.5 51.421875 16.5 36.375 \nQ 16.5 21.390625 20.328125 13.890625 \nQ 24.171875 6.390625 31.78125 6.390625 \nQ 39.453125 6.390625 43.28125 13.890625 \nQ 47.125 21.390625 47.125 36.375 \nQ 47.125 51.421875 43.28125 58.90625 \nQ 39.453125 66.40625 31.78125 66.40625 \nz\nM 31.78125 74.21875 \nQ 44.046875 74.21875 50.515625 64.515625 \nQ 56.984375 54.828125 56.984375 36.375 \nQ 56.984375 17.96875 50.515625 8.265625 \nQ 44.046875 -1.421875 31.78125 -1.421875 \nQ 19.53125 -1.421875 13.0625 8.265625 \nQ 6.59375 17.96875 6.59375 36.375 \nQ 6.59375 54.828125 13.0625 64.515625 \nQ 19.53125 74.21875 31.78125 74.21875 \nz\n\" id=\"DejaVuSans-48\"/>\n       </defs>\n       <use xlink:href=\"#DejaVuSans-48\"/>\n      </g>\n     </g>\n    </g>\n    <g id=\"xtick_2\">\n     <g id=\"line2d_2\">\n      <g>\n       <use style=\"stroke:#000000;stroke-width:0.8;\" x=\"152.085795\" xlink:href=\"#mfd255a72d1\" y=\"239.758125\"/>\n      </g>\n     </g>\n     <g id=\"text_2\">\n      <!-- 2 -->\n      <g transform=\"translate(148.904545 254.356562)scale(0.1 -0.1)\">\n       <defs>\n        <path d=\"M 19.1875 8.296875 \nL 53.609375 8.296875 \nL 53.609375 0 \nL 7.328125 0 \nL 7.328125 8.296875 \nQ 12.9375 14.109375 22.625 23.890625 \nQ 32.328125 33.6875 34.8125 36.53125 \nQ 39.546875 41.84375 41.421875 45.53125 \nQ 43.3125 49.21875 43.3125 52.78125 \nQ 43.3125 58.59375 39.234375 62.25 \nQ 35.15625 65.921875 28.609375 65.921875 \nQ 23.96875 65.921875 18.8125 64.3125 \nQ 13.671875 62.703125 7.8125 59.421875 \nL 7.8125 69.390625 \nQ 13.765625 71.78125 18.9375 73 \nQ 24.125 74.21875 28.421875 74.21875 \nQ 39.75 74.21875 46.484375 68.546875 \nQ 53.21875 62.890625 53.21875 53.421875 \nQ 53.21875 48.921875 51.53125 44.890625 \nQ 49.859375 40.875 45.40625 35.40625 \nQ 44.1875 33.984375 37.640625 27.21875 \nQ 31.109375 20.453125 19.1875 8.296875 \nz\n\" id=\"DejaVuSans-50\"/>\n       </defs>\n       <use xlink:href=\"#DejaVuSans-50\"/>\n      </g>\n     </g>\n    </g>\n    <g id=\"xtick_3\">\n     <g id=\"line2d_3\">\n      <g>\n       <use style=\"stroke:#000000;stroke-width:0.8;\" x=\"219.722159\" xlink:href=\"#mfd255a72d1\" y=\"239.758125\"/>\n      </g>\n     </g>\n     <g id=\"text_3\">\n      <!-- 4 -->\n      <g transform=\"translate(216.540909 254.356562)scale(0.1 -0.1)\">\n       <defs>\n        <path d=\"M 37.796875 64.3125 \nL 12.890625 25.390625 \nL 37.796875 25.390625 \nz\nM 35.203125 72.90625 \nL 47.609375 72.90625 \nL 47.609375 25.390625 \nL 58.015625 25.390625 \nL 58.015625 17.1875 \nL 47.609375 17.1875 \nL 47.609375 0 \nL 37.796875 0 \nL 37.796875 17.1875 \nL 4.890625 17.1875 \nL 4.890625 26.703125 \nz\n\" id=\"DejaVuSans-52\"/>\n       </defs>\n       <use xlink:href=\"#DejaVuSans-52\"/>\n      </g>\n     </g>\n    </g>\n    <g id=\"xtick_4\">\n     <g id=\"line2d_4\">\n      <g>\n       <use style=\"stroke:#000000;stroke-width:0.8;\" x=\"287.358523\" xlink:href=\"#mfd255a72d1\" y=\"239.758125\"/>\n      </g>\n     </g>\n     <g id=\"text_4\">\n      <!-- 6 -->\n      <g transform=\"translate(284.177273 254.356562)scale(0.1 -0.1)\">\n       <defs>\n        <path d=\"M 33.015625 40.375 \nQ 26.375 40.375 22.484375 35.828125 \nQ 18.609375 31.296875 18.609375 23.390625 \nQ 18.609375 15.53125 22.484375 10.953125 \nQ 26.375 6.390625 33.015625 6.390625 \nQ 39.65625 6.390625 43.53125 10.953125 \nQ 47.40625 15.53125 47.40625 23.390625 \nQ 47.40625 31.296875 43.53125 35.828125 \nQ 39.65625 40.375 33.015625 40.375 \nz\nM 52.59375 71.296875 \nL 52.59375 62.3125 \nQ 48.875 64.0625 45.09375 64.984375 \nQ 41.3125 65.921875 37.59375 65.921875 \nQ 27.828125 65.921875 22.671875 59.328125 \nQ 17.53125 52.734375 16.796875 39.40625 \nQ 19.671875 43.65625 24.015625 45.921875 \nQ 28.375 48.1875 33.59375 48.1875 \nQ 44.578125 48.1875 50.953125 41.515625 \nQ 57.328125 34.859375 57.328125 23.390625 \nQ 57.328125 12.15625 50.6875 5.359375 \nQ 44.046875 -1.421875 33.015625 -1.421875 \nQ 20.359375 -1.421875 13.671875 8.265625 \nQ 6.984375 17.96875 6.984375 36.375 \nQ 6.984375 53.65625 15.1875 63.9375 \nQ 23.390625 74.21875 37.203125 74.21875 \nQ 40.921875 74.21875 44.703125 73.484375 \nQ 48.484375 72.75 52.59375 71.296875 \nz\n\" id=\"DejaVuSans-54\"/>\n       </defs>\n       <use xlink:href=\"#DejaVuSans-54\"/>\n      </g>\n     </g>\n    </g>\n    <g id=\"xtick_5\">\n     <g id=\"line2d_5\">\n      <g>\n       <use style=\"stroke:#000000;stroke-width:0.8;\" x=\"354.994886\" xlink:href=\"#mfd255a72d1\" y=\"239.758125\"/>\n      </g>\n     </g>\n     <g id=\"text_5\">\n      <!-- 8 -->\n      <g transform=\"translate(351.813636 254.356562)scale(0.1 -0.1)\">\n       <defs>\n        <path d=\"M 31.78125 34.625 \nQ 24.75 34.625 20.71875 30.859375 \nQ 16.703125 27.09375 16.703125 20.515625 \nQ 16.703125 13.921875 20.71875 10.15625 \nQ 24.75 6.390625 31.78125 6.390625 \nQ 38.8125 6.390625 42.859375 10.171875 \nQ 46.921875 13.96875 46.921875 20.515625 \nQ 46.921875 27.09375 42.890625 30.859375 \nQ 38.875 34.625 31.78125 34.625 \nz\nM 21.921875 38.8125 \nQ 15.578125 40.375 12.03125 44.71875 \nQ 8.5 49.078125 8.5 55.328125 \nQ 8.5 64.0625 14.71875 69.140625 \nQ 20.953125 74.21875 31.78125 74.21875 \nQ 42.671875 74.21875 48.875 69.140625 \nQ 55.078125 64.0625 55.078125 55.328125 \nQ 55.078125 49.078125 51.53125 44.71875 \nQ 48 40.375 41.703125 38.8125 \nQ 48.828125 37.15625 52.796875 32.3125 \nQ 56.78125 27.484375 56.78125 20.515625 \nQ 56.78125 9.90625 50.3125 4.234375 \nQ 43.84375 -1.421875 31.78125 -1.421875 \nQ 19.734375 -1.421875 13.25 4.234375 \nQ 6.78125 9.90625 6.78125 20.515625 \nQ 6.78125 27.484375 10.78125 32.3125 \nQ 14.796875 37.15625 21.921875 38.8125 \nz\nM 18.3125 54.390625 \nQ 18.3125 48.734375 21.84375 45.5625 \nQ 25.390625 42.390625 31.78125 42.390625 \nQ 38.140625 42.390625 41.71875 45.5625 \nQ 45.3125 48.734375 45.3125 54.390625 \nQ 45.3125 60.0625 41.71875 63.234375 \nQ 38.140625 66.40625 31.78125 66.40625 \nQ 25.390625 66.40625 21.84375 63.234375 \nQ 18.3125 60.0625 18.3125 54.390625 \nz\n\" id=\"DejaVuSans-56\"/>\n       </defs>\n       <use xlink:href=\"#DejaVuSans-56\"/>\n      </g>\n     </g>\n    </g>\n    <g id=\"text_6\">\n     <!-- epoch -->\n     <g transform=\"translate(221.403125 268.034687)scale(0.1 -0.1)\">\n      <defs>\n       <path d=\"M 56.203125 29.59375 \nL 56.203125 25.203125 \nL 14.890625 25.203125 \nQ 15.484375 15.921875 20.484375 11.0625 \nQ 25.484375 6.203125 34.421875 6.203125 \nQ 39.59375 6.203125 44.453125 7.46875 \nQ 49.3125 8.734375 54.109375 11.28125 \nL 54.109375 2.78125 \nQ 49.265625 0.734375 44.1875 -0.34375 \nQ 39.109375 -1.421875 33.890625 -1.421875 \nQ 20.796875 -1.421875 13.15625 6.1875 \nQ 5.515625 13.8125 5.515625 26.8125 \nQ 5.515625 40.234375 12.765625 48.109375 \nQ 20.015625 56 32.328125 56 \nQ 43.359375 56 49.78125 48.890625 \nQ 56.203125 41.796875 56.203125 29.59375 \nz\nM 47.21875 32.234375 \nQ 47.125 39.59375 43.09375 43.984375 \nQ 39.0625 48.390625 32.421875 48.390625 \nQ 24.90625 48.390625 20.390625 44.140625 \nQ 15.875 39.890625 15.1875 32.171875 \nz\n\" id=\"DejaVuSans-101\"/>\n       <path d=\"M 18.109375 8.203125 \nL 18.109375 -20.796875 \nL 9.078125 -20.796875 \nL 9.078125 54.6875 \nL 18.109375 54.6875 \nL 18.109375 46.390625 \nQ 20.953125 51.265625 25.265625 53.625 \nQ 29.59375 56 35.59375 56 \nQ 45.5625 56 51.78125 48.09375 \nQ 58.015625 40.1875 58.015625 27.296875 \nQ 58.015625 14.40625 51.78125 6.484375 \nQ 45.5625 -1.421875 35.59375 -1.421875 \nQ 29.59375 -1.421875 25.265625 0.953125 \nQ 20.953125 3.328125 18.109375 8.203125 \nz\nM 48.6875 27.296875 \nQ 48.6875 37.203125 44.609375 42.84375 \nQ 40.53125 48.484375 33.40625 48.484375 \nQ 26.265625 48.484375 22.1875 42.84375 \nQ 18.109375 37.203125 18.109375 27.296875 \nQ 18.109375 17.390625 22.1875 11.75 \nQ 26.265625 6.109375 33.40625 6.109375 \nQ 40.53125 6.109375 44.609375 11.75 \nQ 48.6875 17.390625 48.6875 27.296875 \nz\n\" id=\"DejaVuSans-112\"/>\n       <path d=\"M 30.609375 48.390625 \nQ 23.390625 48.390625 19.1875 42.75 \nQ 14.984375 37.109375 14.984375 27.296875 \nQ 14.984375 17.484375 19.15625 11.84375 \nQ 23.34375 6.203125 30.609375 6.203125 \nQ 37.796875 6.203125 41.984375 11.859375 \nQ 46.1875 17.53125 46.1875 27.296875 \nQ 46.1875 37.015625 41.984375 42.703125 \nQ 37.796875 48.390625 30.609375 48.390625 \nz\nM 30.609375 56 \nQ 42.328125 56 49.015625 48.375 \nQ 55.71875 40.765625 55.71875 27.296875 \nQ 55.71875 13.875 49.015625 6.21875 \nQ 42.328125 -1.421875 30.609375 -1.421875 \nQ 18.84375 -1.421875 12.171875 6.21875 \nQ 5.515625 13.875 5.515625 27.296875 \nQ 5.515625 40.765625 12.171875 48.375 \nQ 18.84375 56 30.609375 56 \nz\n\" id=\"DejaVuSans-111\"/>\n       <path d=\"M 48.78125 52.59375 \nL 48.78125 44.1875 \nQ 44.96875 46.296875 41.140625 47.34375 \nQ 37.3125 48.390625 33.40625 48.390625 \nQ 24.65625 48.390625 19.8125 42.84375 \nQ 14.984375 37.3125 14.984375 27.296875 \nQ 14.984375 17.28125 19.8125 11.734375 \nQ 24.65625 6.203125 33.40625 6.203125 \nQ 37.3125 6.203125 41.140625 7.25 \nQ 44.96875 8.296875 48.78125 10.40625 \nL 48.78125 2.09375 \nQ 45.015625 0.34375 40.984375 -0.53125 \nQ 36.96875 -1.421875 32.421875 -1.421875 \nQ 20.0625 -1.421875 12.78125 6.34375 \nQ 5.515625 14.109375 5.515625 27.296875 \nQ 5.515625 40.671875 12.859375 48.328125 \nQ 20.21875 56 33.015625 56 \nQ 37.15625 56 41.109375 55.140625 \nQ 45.0625 54.296875 48.78125 52.59375 \nz\n\" id=\"DejaVuSans-99\"/>\n       <path d=\"M 54.890625 33.015625 \nL 54.890625 0 \nL 45.90625 0 \nL 45.90625 32.71875 \nQ 45.90625 40.484375 42.875 44.328125 \nQ 39.84375 48.1875 33.796875 48.1875 \nQ 26.515625 48.1875 22.3125 43.546875 \nQ 18.109375 38.921875 18.109375 30.90625 \nL 18.109375 0 \nL 9.078125 0 \nL 9.078125 75.984375 \nL 18.109375 75.984375 \nL 18.109375 46.1875 \nQ 21.34375 51.125 25.703125 53.5625 \nQ 30.078125 56 35.796875 56 \nQ 45.21875 56 50.046875 50.171875 \nQ 54.890625 44.34375 54.890625 33.015625 \nz\n\" id=\"DejaVuSans-104\"/>\n      </defs>\n      <use xlink:href=\"#DejaVuSans-101\"/>\n      <use x=\"61.523438\" xlink:href=\"#DejaVuSans-112\"/>\n      <use x=\"125\" xlink:href=\"#DejaVuSans-111\"/>\n      <use x=\"186.181641\" xlink:href=\"#DejaVuSans-99\"/>\n      <use x=\"241.162109\" xlink:href=\"#DejaVuSans-104\"/>\n     </g>\n    </g>\n   </g>\n   <g id=\"matplotlib.axis_2\">\n    <g id=\"ytick_1\">\n     <g id=\"line2d_6\">\n      <defs>\n       <path d=\"M 0 0 \nL -3.5 0 \n\" id=\"m301515c95d\" style=\"stroke:#000000;stroke-width:0.8;\"/>\n      </defs>\n      <g>\n       <use style=\"stroke:#000000;stroke-width:0.8;\" x=\"69.23125\" xlink:href=\"#m301515c95d\" y=\"237.328102\"/>\n      </g>\n     </g>\n     <g id=\"text_7\">\n      <!-- 0.65600 -->\n      <g transform=\"translate(20.878125 241.127321)scale(0.1 -0.1)\">\n       <defs>\n        <path d=\"M 10.6875 12.40625 \nL 21 12.40625 \nL 21 0 \nL 10.6875 0 \nz\n\" id=\"DejaVuSans-46\"/>\n        <path d=\"M 10.796875 72.90625 \nL 49.515625 72.90625 \nL 49.515625 64.59375 \nL 19.828125 64.59375 \nL 19.828125 46.734375 \nQ 21.96875 47.46875 24.109375 47.828125 \nQ 26.265625 48.1875 28.421875 48.1875 \nQ 40.625 48.1875 47.75 41.5 \nQ 54.890625 34.8125 54.890625 23.390625 \nQ 54.890625 11.625 47.5625 5.09375 \nQ 40.234375 -1.421875 26.90625 -1.421875 \nQ 22.3125 -1.421875 17.546875 -0.640625 \nQ 12.796875 0.140625 7.71875 1.703125 \nL 7.71875 11.625 \nQ 12.109375 9.234375 16.796875 8.0625 \nQ 21.484375 6.890625 26.703125 6.890625 \nQ 35.15625 6.890625 40.078125 11.328125 \nQ 45.015625 15.765625 45.015625 23.390625 \nQ 45.015625 31 40.078125 35.4375 \nQ 35.15625 39.890625 26.703125 39.890625 \nQ 22.75 39.890625 18.8125 39.015625 \nQ 14.890625 38.140625 10.796875 36.28125 \nz\n\" id=\"DejaVuSans-53\"/>\n       </defs>\n       <use xlink:href=\"#DejaVuSans-48\"/>\n       <use x=\"63.623047\" xlink:href=\"#DejaVuSans-46\"/>\n       <use x=\"95.410156\" xlink:href=\"#DejaVuSans-54\"/>\n       <use x=\"159.033203\" xlink:href=\"#DejaVuSans-53\"/>\n       <use x=\"222.65625\" xlink:href=\"#DejaVuSans-54\"/>\n       <use x=\"286.279297\" xlink:href=\"#DejaVuSans-48\"/>\n       <use x=\"349.902344\" xlink:href=\"#DejaVuSans-48\"/>\n      </g>\n     </g>\n    </g>\n    <g id=\"ytick_2\">\n     <g id=\"line2d_7\">\n      <g>\n       <use style=\"stroke:#000000;stroke-width:0.8;\" x=\"69.23125\" xlink:href=\"#m301515c95d\" y=\"210.705763\"/>\n      </g>\n     </g>\n     <g id=\"text_8\">\n      <!-- 0.65625 -->\n      <g transform=\"translate(20.878125 214.504981)scale(0.1 -0.1)\">\n       <use xlink:href=\"#DejaVuSans-48\"/>\n       <use x=\"63.623047\" xlink:href=\"#DejaVuSans-46\"/>\n       <use x=\"95.410156\" xlink:href=\"#DejaVuSans-54\"/>\n       <use x=\"159.033203\" xlink:href=\"#DejaVuSans-53\"/>\n       <use x=\"222.65625\" xlink:href=\"#DejaVuSans-54\"/>\n       <use x=\"286.279297\" xlink:href=\"#DejaVuSans-50\"/>\n       <use x=\"349.902344\" xlink:href=\"#DejaVuSans-53\"/>\n      </g>\n     </g>\n    </g>\n    <g id=\"ytick_3\">\n     <g id=\"line2d_8\">\n      <g>\n       <use style=\"stroke:#000000;stroke-width:0.8;\" x=\"69.23125\" xlink:href=\"#m301515c95d\" y=\"184.083423\"/>\n      </g>\n     </g>\n     <g id=\"text_9\">\n      <!-- 0.65650 -->\n      <g transform=\"translate(20.878125 187.882642)scale(0.1 -0.1)\">\n       <use xlink:href=\"#DejaVuSans-48\"/>\n       <use x=\"63.623047\" xlink:href=\"#DejaVuSans-46\"/>\n       <use x=\"95.410156\" xlink:href=\"#DejaVuSans-54\"/>\n       <use x=\"159.033203\" xlink:href=\"#DejaVuSans-53\"/>\n       <use x=\"222.65625\" xlink:href=\"#DejaVuSans-54\"/>\n       <use x=\"286.279297\" xlink:href=\"#DejaVuSans-53\"/>\n       <use x=\"349.902344\" xlink:href=\"#DejaVuSans-48\"/>\n      </g>\n     </g>\n    </g>\n    <g id=\"ytick_4\">\n     <g id=\"line2d_9\">\n      <g>\n       <use style=\"stroke:#000000;stroke-width:0.8;\" x=\"69.23125\" xlink:href=\"#m301515c95d\" y=\"157.461084\"/>\n      </g>\n     </g>\n     <g id=\"text_10\">\n      <!-- 0.65675 -->\n      <g transform=\"translate(20.878125 161.260303)scale(0.1 -0.1)\">\n       <defs>\n        <path d=\"M 8.203125 72.90625 \nL 55.078125 72.90625 \nL 55.078125 68.703125 \nL 28.609375 0 \nL 18.3125 0 \nL 43.21875 64.59375 \nL 8.203125 64.59375 \nz\n\" id=\"DejaVuSans-55\"/>\n       </defs>\n       <use xlink:href=\"#DejaVuSans-48\"/>\n       <use x=\"63.623047\" xlink:href=\"#DejaVuSans-46\"/>\n       <use x=\"95.410156\" xlink:href=\"#DejaVuSans-54\"/>\n       <use x=\"159.033203\" xlink:href=\"#DejaVuSans-53\"/>\n       <use x=\"222.65625\" xlink:href=\"#DejaVuSans-54\"/>\n       <use x=\"286.279297\" xlink:href=\"#DejaVuSans-55\"/>\n       <use x=\"349.902344\" xlink:href=\"#DejaVuSans-53\"/>\n      </g>\n     </g>\n    </g>\n    <g id=\"ytick_5\">\n     <g id=\"line2d_10\">\n      <g>\n       <use style=\"stroke:#000000;stroke-width:0.8;\" x=\"69.23125\" xlink:href=\"#m301515c95d\" y=\"130.838745\"/>\n      </g>\n     </g>\n     <g id=\"text_11\">\n      <!-- 0.65700 -->\n      <g transform=\"translate(20.878125 134.637964)scale(0.1 -0.1)\">\n       <use xlink:href=\"#DejaVuSans-48\"/>\n       <use x=\"63.623047\" xlink:href=\"#DejaVuSans-46\"/>\n       <use x=\"95.410156\" xlink:href=\"#DejaVuSans-54\"/>\n       <use x=\"159.033203\" xlink:href=\"#DejaVuSans-53\"/>\n       <use x=\"222.65625\" xlink:href=\"#DejaVuSans-55\"/>\n       <use x=\"286.279297\" xlink:href=\"#DejaVuSans-48\"/>\n       <use x=\"349.902344\" xlink:href=\"#DejaVuSans-48\"/>\n      </g>\n     </g>\n    </g>\n    <g id=\"ytick_6\">\n     <g id=\"line2d_11\">\n      <g>\n       <use style=\"stroke:#000000;stroke-width:0.8;\" x=\"69.23125\" xlink:href=\"#m301515c95d\" y=\"104.216406\"/>\n      </g>\n     </g>\n     <g id=\"text_12\">\n      <!-- 0.65725 -->\n      <g transform=\"translate(20.878125 108.015624)scale(0.1 -0.1)\">\n       <use xlink:href=\"#DejaVuSans-48\"/>\n       <use x=\"63.623047\" xlink:href=\"#DejaVuSans-46\"/>\n       <use x=\"95.410156\" xlink:href=\"#DejaVuSans-54\"/>\n       <use x=\"159.033203\" xlink:href=\"#DejaVuSans-53\"/>\n       <use x=\"222.65625\" xlink:href=\"#DejaVuSans-55\"/>\n       <use x=\"286.279297\" xlink:href=\"#DejaVuSans-50\"/>\n       <use x=\"349.902344\" xlink:href=\"#DejaVuSans-53\"/>\n      </g>\n     </g>\n    </g>\n    <g id=\"ytick_7\">\n     <g id=\"line2d_12\">\n      <g>\n       <use style=\"stroke:#000000;stroke-width:0.8;\" x=\"69.23125\" xlink:href=\"#m301515c95d\" y=\"77.594066\"/>\n      </g>\n     </g>\n     <g id=\"text_13\">\n      <!-- 0.65750 -->\n      <g transform=\"translate(20.878125 81.393285)scale(0.1 -0.1)\">\n       <use xlink:href=\"#DejaVuSans-48\"/>\n       <use x=\"63.623047\" xlink:href=\"#DejaVuSans-46\"/>\n       <use x=\"95.410156\" xlink:href=\"#DejaVuSans-54\"/>\n       <use x=\"159.033203\" xlink:href=\"#DejaVuSans-53\"/>\n       <use x=\"222.65625\" xlink:href=\"#DejaVuSans-55\"/>\n       <use x=\"286.279297\" xlink:href=\"#DejaVuSans-53\"/>\n       <use x=\"349.902344\" xlink:href=\"#DejaVuSans-48\"/>\n      </g>\n     </g>\n    </g>\n    <g id=\"ytick_8\">\n     <g id=\"line2d_13\">\n      <g>\n       <use style=\"stroke:#000000;stroke-width:0.8;\" x=\"69.23125\" xlink:href=\"#m301515c95d\" y=\"50.971727\"/>\n      </g>\n     </g>\n     <g id=\"text_14\">\n      <!-- 0.65775 -->\n      <g transform=\"translate(20.878125 54.770946)scale(0.1 -0.1)\">\n       <use xlink:href=\"#DejaVuSans-48\"/>\n       <use x=\"63.623047\" xlink:href=\"#DejaVuSans-46\"/>\n       <use x=\"95.410156\" xlink:href=\"#DejaVuSans-54\"/>\n       <use x=\"159.033203\" xlink:href=\"#DejaVuSans-53\"/>\n       <use x=\"222.65625\" xlink:href=\"#DejaVuSans-55\"/>\n       <use x=\"286.279297\" xlink:href=\"#DejaVuSans-55\"/>\n       <use x=\"349.902344\" xlink:href=\"#DejaVuSans-53\"/>\n      </g>\n     </g>\n    </g>\n    <g id=\"ytick_9\">\n     <g id=\"line2d_14\">\n      <g>\n       <use style=\"stroke:#000000;stroke-width:0.8;\" x=\"69.23125\" xlink:href=\"#m301515c95d\" y=\"24.349388\"/>\n      </g>\n     </g>\n     <g id=\"text_15\">\n      <!-- 0.65800 -->\n      <g transform=\"translate(20.878125 28.148607)scale(0.1 -0.1)\">\n       <use xlink:href=\"#DejaVuSans-48\"/>\n       <use x=\"63.623047\" xlink:href=\"#DejaVuSans-46\"/>\n       <use x=\"95.410156\" xlink:href=\"#DejaVuSans-54\"/>\n       <use x=\"159.033203\" xlink:href=\"#DejaVuSans-53\"/>\n       <use x=\"222.65625\" xlink:href=\"#DejaVuSans-56\"/>\n       <use x=\"286.279297\" xlink:href=\"#DejaVuSans-48\"/>\n       <use x=\"349.902344\" xlink:href=\"#DejaVuSans-48\"/>\n      </g>\n     </g>\n    </g>\n    <g id=\"text_16\">\n     <!-- loss -->\n     <g transform=\"translate(14.798437 140.695937)rotate(-90)scale(0.1 -0.1)\">\n      <defs>\n       <path d=\"M 9.421875 75.984375 \nL 18.40625 75.984375 \nL 18.40625 0 \nL 9.421875 0 \nz\n\" id=\"DejaVuSans-108\"/>\n       <path d=\"M 44.28125 53.078125 \nL 44.28125 44.578125 \nQ 40.484375 46.53125 36.375 47.5 \nQ 32.28125 48.484375 27.875 48.484375 \nQ 21.1875 48.484375 17.84375 46.4375 \nQ 14.5 44.390625 14.5 40.28125 \nQ 14.5 37.15625 16.890625 35.375 \nQ 19.28125 33.59375 26.515625 31.984375 \nL 29.59375 31.296875 \nQ 39.15625 29.25 43.1875 25.515625 \nQ 47.21875 21.78125 47.21875 15.09375 \nQ 47.21875 7.46875 41.1875 3.015625 \nQ 35.15625 -1.421875 24.609375 -1.421875 \nQ 20.21875 -1.421875 15.453125 -0.5625 \nQ 10.6875 0.296875 5.421875 2 \nL 5.421875 11.28125 \nQ 10.40625 8.6875 15.234375 7.390625 \nQ 20.0625 6.109375 24.8125 6.109375 \nQ 31.15625 6.109375 34.5625 8.28125 \nQ 37.984375 10.453125 37.984375 14.40625 \nQ 37.984375 18.0625 35.515625 20.015625 \nQ 33.0625 21.96875 24.703125 23.78125 \nL 21.578125 24.515625 \nQ 13.234375 26.265625 9.515625 29.90625 \nQ 5.8125 33.546875 5.8125 39.890625 \nQ 5.8125 47.609375 11.28125 51.796875 \nQ 16.75 56 26.8125 56 \nQ 31.78125 56 36.171875 55.265625 \nQ 40.578125 54.546875 44.28125 53.078125 \nz\n\" id=\"DejaVuSans-115\"/>\n      </defs>\n      <use xlink:href=\"#DejaVuSans-108\"/>\n      <use x=\"27.783203\" xlink:href=\"#DejaVuSans-111\"/>\n      <use x=\"88.964844\" xlink:href=\"#DejaVuSans-115\"/>\n      <use x=\"141.064453\" xlink:href=\"#DejaVuSans-115\"/>\n     </g>\n    </g>\n   </g>\n   <g id=\"line2d_15\">\n    <path clip-path=\"url(#p1a43b2e646)\" d=\"M 84.449432 32.201761 \nL 118.267614 134.665584 \nL 152.085795 161.120965 \nL 185.903977 179.147184 \nL 219.722159 175.580024 \nL 253.540341 190.11525 \nL 287.358523 199.210874 \nL 321.176705 209.410921 \nL 354.994886 218.043195 \nL 388.813068 226.154994 \n\" style=\"fill:none;stroke:#1f77b4;stroke-linecap:square;stroke-width:1.5;\"/>\n   </g>\n   <g id=\"line2d_16\">\n    <path clip-path=\"url(#p1a43b2e646)\" d=\"M 84.449432 129.581429 \nL 118.267614 79.62849 \nL 152.085795 148.572432 \nL 185.903977 112.13281 \nL 219.722159 52.735148 \nL 253.540341 171.644723 \nL 287.358523 37.298611 \nL 321.176705 229.874489 \nL 354.994886 221.889635 \nL 388.813068 213.7461 \n\" style=\"fill:none;stroke:#ff7f0e;stroke-linecap:square;stroke-width:1.5;\"/>\n   </g>\n   <g id=\"patch_3\">\n    <path d=\"M 69.23125 239.758125 \nL 69.23125 22.318125 \n\" style=\"fill:none;stroke:#000000;stroke-linecap:square;stroke-linejoin:miter;stroke-width:0.8;\"/>\n   </g>\n   <g id=\"patch_4\">\n    <path d=\"M 404.03125 239.758125 \nL 404.03125 22.318125 \n\" style=\"fill:none;stroke:#000000;stroke-linecap:square;stroke-linejoin:miter;stroke-width:0.8;\"/>\n   </g>\n   <g id=\"patch_5\">\n    <path d=\"M 69.23125 239.758125 \nL 404.03125 239.758125 \n\" style=\"fill:none;stroke:#000000;stroke-linecap:square;stroke-linejoin:miter;stroke-width:0.8;\"/>\n   </g>\n   <g id=\"patch_6\">\n    <path d=\"M 69.23125 22.318125 \nL 404.03125 22.318125 \n\" style=\"fill:none;stroke:#000000;stroke-linecap:square;stroke-linejoin:miter;stroke-width:0.8;\"/>\n   </g>\n   <g id=\"text_17\">\n    <!-- model accuracy -->\n    <g transform=\"translate(188.969688 16.318125)scale(0.12 -0.12)\">\n     <defs>\n      <path d=\"M 52 44.1875 \nQ 55.375 50.25 60.0625 53.125 \nQ 64.75 56 71.09375 56 \nQ 79.640625 56 84.28125 50.015625 \nQ 88.921875 44.046875 88.921875 33.015625 \nL 88.921875 0 \nL 79.890625 0 \nL 79.890625 32.71875 \nQ 79.890625 40.578125 77.09375 44.375 \nQ 74.3125 48.1875 68.609375 48.1875 \nQ 61.625 48.1875 57.5625 43.546875 \nQ 53.515625 38.921875 53.515625 30.90625 \nL 53.515625 0 \nL 44.484375 0 \nL 44.484375 32.71875 \nQ 44.484375 40.625 41.703125 44.40625 \nQ 38.921875 48.1875 33.109375 48.1875 \nQ 26.21875 48.1875 22.15625 43.53125 \nQ 18.109375 38.875 18.109375 30.90625 \nL 18.109375 0 \nL 9.078125 0 \nL 9.078125 54.6875 \nL 18.109375 54.6875 \nL 18.109375 46.1875 \nQ 21.1875 51.21875 25.484375 53.609375 \nQ 29.78125 56 35.6875 56 \nQ 41.65625 56 45.828125 52.96875 \nQ 50 49.953125 52 44.1875 \nz\n\" id=\"DejaVuSans-109\"/>\n      <path d=\"M 45.40625 46.390625 \nL 45.40625 75.984375 \nL 54.390625 75.984375 \nL 54.390625 0 \nL 45.40625 0 \nL 45.40625 8.203125 \nQ 42.578125 3.328125 38.25 0.953125 \nQ 33.9375 -1.421875 27.875 -1.421875 \nQ 17.96875 -1.421875 11.734375 6.484375 \nQ 5.515625 14.40625 5.515625 27.296875 \nQ 5.515625 40.1875 11.734375 48.09375 \nQ 17.96875 56 27.875 56 \nQ 33.9375 56 38.25 53.625 \nQ 42.578125 51.265625 45.40625 46.390625 \nz\nM 14.796875 27.296875 \nQ 14.796875 17.390625 18.875 11.75 \nQ 22.953125 6.109375 30.078125 6.109375 \nQ 37.203125 6.109375 41.296875 11.75 \nQ 45.40625 17.390625 45.40625 27.296875 \nQ 45.40625 37.203125 41.296875 42.84375 \nQ 37.203125 48.484375 30.078125 48.484375 \nQ 22.953125 48.484375 18.875 42.84375 \nQ 14.796875 37.203125 14.796875 27.296875 \nz\n\" id=\"DejaVuSans-100\"/>\n      <path id=\"DejaVuSans-32\"/>\n      <path d=\"M 34.28125 27.484375 \nQ 23.390625 27.484375 19.1875 25 \nQ 14.984375 22.515625 14.984375 16.5 \nQ 14.984375 11.71875 18.140625 8.90625 \nQ 21.296875 6.109375 26.703125 6.109375 \nQ 34.1875 6.109375 38.703125 11.40625 \nQ 43.21875 16.703125 43.21875 25.484375 \nL 43.21875 27.484375 \nz\nM 52.203125 31.203125 \nL 52.203125 0 \nL 43.21875 0 \nL 43.21875 8.296875 \nQ 40.140625 3.328125 35.546875 0.953125 \nQ 30.953125 -1.421875 24.3125 -1.421875 \nQ 15.921875 -1.421875 10.953125 3.296875 \nQ 6 8.015625 6 15.921875 \nQ 6 25.140625 12.171875 29.828125 \nQ 18.359375 34.515625 30.609375 34.515625 \nL 43.21875 34.515625 \nL 43.21875 35.40625 \nQ 43.21875 41.609375 39.140625 45 \nQ 35.0625 48.390625 27.6875 48.390625 \nQ 23 48.390625 18.546875 47.265625 \nQ 14.109375 46.140625 10.015625 43.890625 \nL 10.015625 52.203125 \nQ 14.9375 54.109375 19.578125 55.046875 \nQ 24.21875 56 28.609375 56 \nQ 40.484375 56 46.34375 49.84375 \nQ 52.203125 43.703125 52.203125 31.203125 \nz\n\" id=\"DejaVuSans-97\"/>\n      <path d=\"M 8.5 21.578125 \nL 8.5 54.6875 \nL 17.484375 54.6875 \nL 17.484375 21.921875 \nQ 17.484375 14.15625 20.5 10.265625 \nQ 23.53125 6.390625 29.59375 6.390625 \nQ 36.859375 6.390625 41.078125 11.03125 \nQ 45.3125 15.671875 45.3125 23.6875 \nL 45.3125 54.6875 \nL 54.296875 54.6875 \nL 54.296875 0 \nL 45.3125 0 \nL 45.3125 8.40625 \nQ 42.046875 3.421875 37.71875 1 \nQ 33.40625 -1.421875 27.6875 -1.421875 \nQ 18.265625 -1.421875 13.375 4.4375 \nQ 8.5 10.296875 8.5 21.578125 \nz\nM 31.109375 56 \nz\n\" id=\"DejaVuSans-117\"/>\n      <path d=\"M 41.109375 46.296875 \nQ 39.59375 47.171875 37.8125 47.578125 \nQ 36.03125 48 33.890625 48 \nQ 26.265625 48 22.1875 43.046875 \nQ 18.109375 38.09375 18.109375 28.8125 \nL 18.109375 0 \nL 9.078125 0 \nL 9.078125 54.6875 \nL 18.109375 54.6875 \nL 18.109375 46.1875 \nQ 20.953125 51.171875 25.484375 53.578125 \nQ 30.03125 56 36.53125 56 \nQ 37.453125 56 38.578125 55.875 \nQ 39.703125 55.765625 41.0625 55.515625 \nz\n\" id=\"DejaVuSans-114\"/>\n      <path d=\"M 32.171875 -5.078125 \nQ 28.375 -14.84375 24.75 -17.8125 \nQ 21.140625 -20.796875 15.09375 -20.796875 \nL 7.90625 -20.796875 \nL 7.90625 -13.28125 \nL 13.1875 -13.28125 \nQ 16.890625 -13.28125 18.9375 -11.515625 \nQ 21 -9.765625 23.484375 -3.21875 \nL 25.09375 0.875 \nL 2.984375 54.6875 \nL 12.5 54.6875 \nL 29.59375 11.921875 \nL 46.6875 54.6875 \nL 56.203125 54.6875 \nz\n\" id=\"DejaVuSans-121\"/>\n     </defs>\n     <use xlink:href=\"#DejaVuSans-109\"/>\n     <use x=\"97.412109\" xlink:href=\"#DejaVuSans-111\"/>\n     <use x=\"158.59375\" xlink:href=\"#DejaVuSans-100\"/>\n     <use x=\"222.070312\" xlink:href=\"#DejaVuSans-101\"/>\n     <use x=\"283.59375\" xlink:href=\"#DejaVuSans-108\"/>\n     <use x=\"311.376953\" xlink:href=\"#DejaVuSans-32\"/>\n     <use x=\"343.164062\" xlink:href=\"#DejaVuSans-97\"/>\n     <use x=\"404.443359\" xlink:href=\"#DejaVuSans-99\"/>\n     <use x=\"459.423828\" xlink:href=\"#DejaVuSans-99\"/>\n     <use x=\"514.404297\" xlink:href=\"#DejaVuSans-117\"/>\n     <use x=\"577.783203\" xlink:href=\"#DejaVuSans-114\"/>\n     <use x=\"618.896484\" xlink:href=\"#DejaVuSans-97\"/>\n     <use x=\"680.175781\" xlink:href=\"#DejaVuSans-99\"/>\n     <use x=\"735.15625\" xlink:href=\"#DejaVuSans-121\"/>\n    </g>\n   </g>\n   <g id=\"legend_1\">\n    <g id=\"patch_7\">\n     <path d=\"M 76.23125 59.674375 \nL 131.50625 59.674375 \nQ 133.50625 59.674375 133.50625 57.674375 \nL 133.50625 29.318125 \nQ 133.50625 27.318125 131.50625 27.318125 \nL 76.23125 27.318125 \nQ 74.23125 27.318125 74.23125 29.318125 \nL 74.23125 57.674375 \nQ 74.23125 59.674375 76.23125 59.674375 \nz\n\" style=\"fill:#ffffff;opacity:0.8;stroke:#cccccc;stroke-linejoin:miter;\"/>\n    </g>\n    <g id=\"line2d_17\">\n     <path d=\"M 78.23125 35.416562 \nL 98.23125 35.416562 \n\" style=\"fill:none;stroke:#1f77b4;stroke-linecap:square;stroke-width:1.5;\"/>\n    </g>\n    <g id=\"line2d_18\"/>\n    <g id=\"text_18\">\n     <!-- train -->\n     <g transform=\"translate(106.23125 38.916562)scale(0.1 -0.1)\">\n      <defs>\n       <path d=\"M 18.3125 70.21875 \nL 18.3125 54.6875 \nL 36.8125 54.6875 \nL 36.8125 47.703125 \nL 18.3125 47.703125 \nL 18.3125 18.015625 \nQ 18.3125 11.328125 20.140625 9.421875 \nQ 21.96875 7.515625 27.59375 7.515625 \nL 36.8125 7.515625 \nL 36.8125 0 \nL 27.59375 0 \nQ 17.1875 0 13.234375 3.875 \nQ 9.28125 7.765625 9.28125 18.015625 \nL 9.28125 47.703125 \nL 2.6875 47.703125 \nL 2.6875 54.6875 \nL 9.28125 54.6875 \nL 9.28125 70.21875 \nz\n\" id=\"DejaVuSans-116\"/>\n       <path d=\"M 9.421875 54.6875 \nL 18.40625 54.6875 \nL 18.40625 0 \nL 9.421875 0 \nz\nM 9.421875 75.984375 \nL 18.40625 75.984375 \nL 18.40625 64.59375 \nL 9.421875 64.59375 \nz\n\" id=\"DejaVuSans-105\"/>\n       <path d=\"M 54.890625 33.015625 \nL 54.890625 0 \nL 45.90625 0 \nL 45.90625 32.71875 \nQ 45.90625 40.484375 42.875 44.328125 \nQ 39.84375 48.1875 33.796875 48.1875 \nQ 26.515625 48.1875 22.3125 43.546875 \nQ 18.109375 38.921875 18.109375 30.90625 \nL 18.109375 0 \nL 9.078125 0 \nL 9.078125 54.6875 \nL 18.109375 54.6875 \nL 18.109375 46.1875 \nQ 21.34375 51.125 25.703125 53.5625 \nQ 30.078125 56 35.796875 56 \nQ 45.21875 56 50.046875 50.171875 \nQ 54.890625 44.34375 54.890625 33.015625 \nz\n\" id=\"DejaVuSans-110\"/>\n      </defs>\n      <use xlink:href=\"#DejaVuSans-116\"/>\n      <use x=\"39.208984\" xlink:href=\"#DejaVuSans-114\"/>\n      <use x=\"80.322266\" xlink:href=\"#DejaVuSans-97\"/>\n      <use x=\"141.601562\" xlink:href=\"#DejaVuSans-105\"/>\n      <use x=\"169.384766\" xlink:href=\"#DejaVuSans-110\"/>\n     </g>\n    </g>\n    <g id=\"line2d_19\">\n     <path d=\"M 78.23125 50.094687 \nL 98.23125 50.094687 \n\" style=\"fill:none;stroke:#ff7f0e;stroke-linecap:square;stroke-width:1.5;\"/>\n    </g>\n    <g id=\"line2d_20\"/>\n    <g id=\"text_19\">\n     <!-- val -->\n     <g transform=\"translate(106.23125 53.594687)scale(0.1 -0.1)\">\n      <defs>\n       <path d=\"M 2.984375 54.6875 \nL 12.5 54.6875 \nL 29.59375 8.796875 \nL 46.6875 54.6875 \nL 56.203125 54.6875 \nL 35.6875 0 \nL 23.484375 0 \nz\n\" id=\"DejaVuSans-118\"/>\n      </defs>\n      <use xlink:href=\"#DejaVuSans-118\"/>\n      <use x=\"59.179688\" xlink:href=\"#DejaVuSans-97\"/>\n      <use x=\"120.458984\" xlink:href=\"#DejaVuSans-108\"/>\n     </g>\n    </g>\n   </g>\n  </g>\n </g>\n <defs>\n  <clipPath id=\"p1a43b2e646\">\n   <rect height=\"217.44\" width=\"334.8\" x=\"69.23125\" y=\"22.318125\"/>\n  </clipPath>\n </defs>\n</svg>\n",
      "image/png": "[encoded data removed]"
     },
     "metadata": {
      "needs_background": "light"
     }
    }
   ],
   "source": [
    "plt.plot(result.history['binary_crossentropy'])\n",
    "plt.plot(result.history['val_binary_crossentropy'])\n",
    "plt.title('model accuracy')\n",
    "plt.ylabel('loss')\n",
    "plt.xlabel('epoch')\n",
    "plt.legend(['train', 'val'], loc='upper left')\n",
    "plt.show()\n"
   ]
  },
  {
   "cell_type": "code",
   "execution_count": 47,
   "metadata": {},
   "outputs": [],
   "source": [
    "pred = model.predict(X_test)"
   ]
  },
  {
   "cell_type": "code",
   "execution_count": 26,
   "metadata": {},
   "outputs": [
    {
     "output_type": "execute_result",
     "data": {
      "text/plain": [
       "array([0.3435491 , 0.18260452, 0.5140403 , ..., 0.41026342, 0.34507674,\n",
       "       0.39101815], dtype=float32)"
      ]
     },
     "metadata": {},
     "execution_count": 26
    }
   ],
   "source": [
    "pred.reshape(-1)"
   ]
  },
  {
   "cell_type": "code",
   "execution_count": 48,
   "metadata": {},
   "outputs": [
    {
     "output_type": "execute_result",
     "data": {
      "text/plain": [
       "2.397426021654314"
      ]
     },
     "metadata": {},
     "execution_count": 48
    }
   ],
   "source": [
    "rce = compute_rce(pred.astype(np.float64), Y_test.astype(np.float64))\n",
    "rce"
   ]
  },
  {
   "cell_type": "code",
   "execution_count": 28,
   "metadata": {},
   "outputs": [
    {
     "output_type": "execute_result",
     "data": {
      "text/plain": [
       "0.5039735929674103"
      ]
     },
     "metadata": {},
     "execution_count": 28
    }
   ],
   "source": [
    "average_precision_score(Y_test, pred)"
   ]
  },
  {
   "cell_type": "code",
   "execution_count": null,
   "metadata": {},
   "outputs": [],
   "source": []
  }
 ]
}