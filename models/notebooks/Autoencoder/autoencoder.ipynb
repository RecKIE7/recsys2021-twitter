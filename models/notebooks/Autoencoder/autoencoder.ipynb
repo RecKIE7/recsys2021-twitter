{
 "metadata": {
  "language_info": {
   "codemirror_mode": {
    "name": "ipython",
    "version": 3
   },
   "file_extension": ".py",
   "mimetype": "text/x-python",
   "name": "python",
   "nbconvert_exporter": "python",
   "pygments_lexer": "ipython3",
   "version": "3.7.10"
  },
  "orig_nbformat": 2,
  "kernelspec": {
   "name": "python3710jvsc74a57bd0c4c1a3e9c3a39a0885e9d9bd6e4723f2ede522dfea9ed13682022cc292aed1ac",
   "display_name": "Python 3.7.10 64-bit ('dask-cudf': conda)"
  }
 },
 "nbformat": 4,
 "nbformat_minor": 2,
 "cells": [
  {
   "cell_type": "code",
   "execution_count": 1,
   "metadata": {},
   "outputs": [],
   "source": [
    "import sys\n",
    "sys.path.append('../../..')\n",
    "\n",
    "import numpy as np\n",
    "import matplotlib.pyplot as plt\n",
    "import pandas as pd\n",
    "from tqdm import tqdm\n",
    "import tensorflow as tf\n",
    "from sklearn import preprocessing\n",
    "\n",
    "from utils.preprocessing import *\n",
    "import core.config as conf"
   ]
  },
  {
   "source": [
    "## Load data "
   ],
   "cell_type": "markdown",
   "metadata": {}
  },
  {
   "cell_type": "code",
   "execution_count": 2,
   "metadata": {},
   "outputs": [],
   "source": [
    "data_path = conf.raw_lzo_path + 'part-00000'\n",
    "data = read_data(data_path)"
   ]
  },
  {
   "cell_type": "code",
   "execution_count": 3,
   "metadata": {},
   "outputs": [],
   "source": [
    "engager_df = data[['engager_follower_count', 'engager_following_count', 'engager_is_verified', 'engager_account_creation']]"
   ]
  },
  {
   "cell_type": "code",
   "execution_count": 4,
   "metadata": {},
   "outputs": [],
   "source": [
    "label = data['like_timestamp'].fillna(0).apply(lambda x: 1 if x > 0 else 0)"
   ]
  },
  {
   "source": [
    "## Parameters"
   ],
   "cell_type": "markdown",
   "metadata": {}
  },
  {
   "cell_type": "code",
   "execution_count": 5,
   "metadata": {},
   "outputs": [],
   "source": [
    "MODEL_NAME = 'autoencoder_test'\n",
    "BATCH_SIZE = 2\n",
    "MAX_SEQUENCE = 25\n",
    "EPOCH = 30\n",
    "UNITS = 1024\n",
    "EMBEDDING_DIM = 256\n",
    "VALIDATION_SPLIT = 0.1 "
   ]
  },
  {
   "cell_type": "code",
   "execution_count": null,
   "metadata": {},
   "outputs": [],
   "source": []
  },
  {
   "source": [
    "## Preprocessing"
   ],
   "cell_type": "markdown",
   "metadata": {}
  },
  {
   "cell_type": "code",
   "execution_count": 6,
   "metadata": {},
   "outputs": [],
   "source": [
    "def scaling(df_x):\n",
    "    standard_scaler = preprocessing.StandardScaler()\n",
    "    standard_scaler.fit(df_x.values)\n",
    "    ss = standard_scaler.transform(df_x.values)\n",
    "    df_x = pd.DataFrame(ss, columns = df_x.columns)\n",
    "    return df_x"
   ]
  },
  {
   "cell_type": "code",
   "execution_count": 7,
   "metadata": {},
   "outputs": [],
   "source": [
    "engager_df = scaling(engager_df)"
   ]
  },
  {
   "cell_type": "code",
   "execution_count": 8,
   "metadata": {},
   "outputs": [
    {
     "output_type": "execute_result",
     "data": {
      "text/plain": [
       "         engager_follower_count  engager_following_count  engager_is_verified  \\\n",
       "0                     -0.064095                -0.219199            -0.040756   \n",
       "1                     -0.041385                 0.289623            -0.040756   \n",
       "2                     -0.017458                 0.458831            -0.040756   \n",
       "3                     -0.068758                -0.302309            -0.040756   \n",
       "4                     -0.067643                -0.195283            -0.040756   \n",
       "...                         ...                      ...                  ...   \n",
       "3033897               -0.055477                -0.217405            -0.040756   \n",
       "3033898               -0.057099                -0.116358            -0.040756   \n",
       "3033899                0.001298                 0.058231            -0.040756   \n",
       "3033900               -0.078491                -0.372264            -0.040756   \n",
       "3033901               -0.046353                -0.040424            -0.040756   \n",
       "\n",
       "         engager_account_creation  \n",
       "0                        0.367779  \n",
       "1                       -2.145428  \n",
       "2                       -1.918288  \n",
       "3                       -1.873046  \n",
       "4                        0.039344  \n",
       "...                           ...  \n",
       "3033897                  0.228995  \n",
       "3033898                  0.955743  \n",
       "3033899                 -1.265901  \n",
       "3033900                  0.543163  \n",
       "3033901                 -1.257915  \n",
       "\n",
       "[3033902 rows x 4 columns]"
      ],
      "text/html": "<div>\n<style scoped>\n    .dataframe tbody tr th:only-of-type {\n        vertical-align: middle;\n    }\n\n    .dataframe tbody tr th {\n        vertical-align: top;\n    }\n\n    .dataframe thead th {\n        text-align: right;\n    }\n</style>\n<table border=\"1\" class=\"dataframe\">\n  <thead>\n    <tr style=\"text-align: right;\">\n      <th></th>\n      <th>engager_follower_count</th>\n      <th>engager_following_count</th>\n      <th>engager_is_verified</th>\n      <th>engager_account_creation</th>\n    </tr>\n  </thead>\n  <tbody>\n    <tr>\n      <th>0</th>\n      <td>-0.064095</td>\n      <td>-0.219199</td>\n      <td>-0.040756</td>\n      <td>0.367779</td>\n    </tr>\n    <tr>\n      <th>1</th>\n      <td>-0.041385</td>\n      <td>0.289623</td>\n      <td>-0.040756</td>\n      <td>-2.145428</td>\n    </tr>\n    <tr>\n      <th>2</th>\n      <td>-0.017458</td>\n      <td>0.458831</td>\n      <td>-0.040756</td>\n      <td>-1.918288</td>\n    </tr>\n    <tr>\n      <th>3</th>\n      <td>-0.068758</td>\n      <td>-0.302309</td>\n      <td>-0.040756</td>\n      <td>-1.873046</td>\n    </tr>\n    <tr>\n      <th>4</th>\n      <td>-0.067643</td>\n      <td>-0.195283</td>\n      <td>-0.040756</td>\n      <td>0.039344</td>\n    </tr>\n    <tr>\n      <th>...</th>\n      <td>...</td>\n      <td>...</td>\n      <td>...</td>\n      <td>...</td>\n    </tr>\n    <tr>\n      <th>3033897</th>\n      <td>-0.055477</td>\n      <td>-0.217405</td>\n      <td>-0.040756</td>\n      <td>0.228995</td>\n    </tr>\n    <tr>\n      <th>3033898</th>\n      <td>-0.057099</td>\n      <td>-0.116358</td>\n      <td>-0.040756</td>\n      <td>0.955743</td>\n    </tr>\n    <tr>\n      <th>3033899</th>\n      <td>0.001298</td>\n      <td>0.058231</td>\n      <td>-0.040756</td>\n      <td>-1.265901</td>\n    </tr>\n    <tr>\n      <th>3033900</th>\n      <td>-0.078491</td>\n      <td>-0.372264</td>\n      <td>-0.040756</td>\n      <td>0.543163</td>\n    </tr>\n    <tr>\n      <th>3033901</th>\n      <td>-0.046353</td>\n      <td>-0.040424</td>\n      <td>-0.040756</td>\n      <td>-1.257915</td>\n    </tr>\n  </tbody>\n</table>\n<p>3033902 rows × 4 columns</p>\n</div>"
     },
     "metadata": {},
     "execution_count": 8
    }
   ],
   "source": [
    "engager_df"
   ]
  },
  {
   "source": [
    "## Model"
   ],
   "cell_type": "markdown",
   "metadata": {}
  },
  {
   "source": [
    "### Encoder Layer"
   ],
   "cell_type": "markdown",
   "metadata": {}
  },
  {
   "cell_type": "code",
   "execution_count": 50,
   "metadata": {},
   "outputs": [],
   "source": [
    "class Encoder(tf.keras.models.Model):\n",
    "    def __init__(self, encoder_dim):\n",
    "        super(Encoder, self).__init__()\n",
    "        self.encoder_dim = encoder_dim\n",
    "        self.dense1 = tf.keras.layers.Dense(16, activation = 'relu', input_dim=encoder_dim)\n",
    "        self.dense2 = tf.keras.layers.Dense(8)\n",
    "        self.dense3 = tf.keras.layers.Dense(4)\n",
    "        self.dense4 = tf.keras.layers.Dense(1)\n",
    "    \n",
    "    def call(self, x):\n",
    "        x = self.dense1(x)\n",
    "        x = self.dense2(x)\n",
    "        x = self.dense3(x)\n",
    "        x = self.dense4(x)\n",
    "        return x\n",
    "\n",
    "    def summary(self):\n",
    "        inputs = tf.keras.layers.Input((self.encoder_dim))\n",
    "        tf.keras.models.Model(inputs, self.call(inputs)).summary()\n",
    "    "
   ]
  },
  {
   "cell_type": "code",
   "execution_count": 51,
   "metadata": {},
   "outputs": [],
   "source": [
    "model = Encoder(engager_df.shape[1])\n"
   ]
  },
  {
   "cell_type": "code",
   "execution_count": 52,
   "metadata": {},
   "outputs": [
    {
     "output_type": "stream",
     "name": "stdout",
     "text": [
      "Model: \"model_6\"\n_________________________________________________________________\nLayer (type)                 Output Shape              Param #   \n=================================================================\ninput_10 (InputLayer)        [(None, 4)]               0         \n_________________________________________________________________\ndense_16 (Dense)             (None, 16)                80        \n_________________________________________________________________\ndense_17 (Dense)             (None, 8)                 136       \n_________________________________________________________________\ndense_18 (Dense)             (None, 4)                 36        \n_________________________________________________________________\ndense_19 (Dense)             (None, 1)                 5         \n=================================================================\nTotal params: 257\nTrainable params: 257\nNon-trainable params: 0\n_________________________________________________________________\n"
     ]
    }
   ],
   "source": [
    "model.summary()\n",
    "# model.compile(loss='sparse_categorical_crossentropy', optimizer='adam', metrics=['accuracy'])\n",
    "model.compile(\n",
    "    optimizer = 'adam',\n",
    "    loss = 'binary_crossentropy', # softmax : sparse_categorical_crossentropy, sigmoid : binary_crossentropy\n",
    "    metrics=['binary_crossentropy', 'accuracy'])"
   ]
  },
  {
   "cell_type": "code",
   "execution_count": 53,
   "metadata": {},
   "outputs": [
    {
     "output_type": "stream",
     "name": "stdout",
     "text": [
      "Epoch 1/30\n",
      "62500/62500 [==============================] - 29s 467us/step - loss: 0.6926 - binary_crossentropy: 0.6926 - accuracy: 0.6002 - val_loss: 0.6755 - val_binary_crossentropy: 0.6755 - val_accuracy: 0.6090\n",
      "Epoch 2/30\n",
      "62500/62500 [==============================] - 29s 468us/step - loss: 0.6768 - binary_crossentropy: 0.6768 - accuracy: 0.6069 - val_loss: 0.6761 - val_binary_crossentropy: 0.6761 - val_accuracy: 0.6093\n",
      "Epoch 3/30\n",
      "62500/62500 [==============================] - 29s 465us/step - loss: 0.6759 - binary_crossentropy: 0.6759 - accuracy: 0.6071 - val_loss: 0.6756 - val_binary_crossentropy: 0.6756 - val_accuracy: 0.6076\n",
      "Epoch 4/30\n",
      "62500/62500 [==============================] - 29s 469us/step - loss: 0.6758 - binary_crossentropy: 0.6758 - accuracy: 0.6076 - val_loss: 0.6760 - val_binary_crossentropy: 0.6760 - val_accuracy: 0.6067\n",
      "Epoch 5/30\n",
      "62500/62500 [==============================] - 29s 464us/step - loss: 0.6766 - binary_crossentropy: 0.6766 - accuracy: 0.6066 - val_loss: 0.6761 - val_binary_crossentropy: 0.6761 - val_accuracy: 0.6048\n",
      "Epoch 6/30\n",
      "62500/62500 [==============================] - 29s 463us/step - loss: 0.6761 - binary_crossentropy: 0.6761 - accuracy: 0.6077 - val_loss: 0.6755 - val_binary_crossentropy: 0.6755 - val_accuracy: 0.6059\n",
      "Epoch 7/30\n",
      "62500/62500 [==============================] - 29s 465us/step - loss: 0.6758 - binary_crossentropy: 0.6758 - accuracy: 0.6072 - val_loss: 0.6754 - val_binary_crossentropy: 0.6754 - val_accuracy: 0.6079\n",
      "Epoch 8/30\n",
      "62500/62500 [==============================] - 28s 456us/step - loss: 0.6759 - binary_crossentropy: 0.6759 - accuracy: 0.6075 - val_loss: 0.6767 - val_binary_crossentropy: 0.6767 - val_accuracy: 0.6020\n",
      "Epoch 9/30\n",
      "62500/62500 [==============================] - 28s 456us/step - loss: 0.6763 - binary_crossentropy: 0.6763 - accuracy: 0.6071 - val_loss: 0.6759 - val_binary_crossentropy: 0.6759 - val_accuracy: 0.6054\n",
      "Epoch 10/30\n",
      "62500/62500 [==============================] - 28s 453us/step - loss: 0.6761 - binary_crossentropy: 0.6761 - accuracy: 0.6075 - val_loss: 0.6760 - val_binary_crossentropy: 0.6760 - val_accuracy: 0.6108\n",
      "Epoch 11/30\n",
      "62500/62500 [==============================] - 28s 454us/step - loss: 0.6760 - binary_crossentropy: 0.6760 - accuracy: 0.6081 - val_loss: 0.6754 - val_binary_crossentropy: 0.6754 - val_accuracy: 0.6072\n",
      "Epoch 12/30\n",
      "62500/62500 [==============================] - 28s 454us/step - loss: 0.6761 - binary_crossentropy: 0.6761 - accuracy: 0.6076 - val_loss: 0.6757 - val_binary_crossentropy: 0.6757 - val_accuracy: 0.6060\n",
      "Epoch 13/30\n",
      "62500/62500 [==============================] - 28s 454us/step - loss: 0.6757 - binary_crossentropy: 0.6757 - accuracy: 0.6076 - val_loss: 0.6759 - val_binary_crossentropy: 0.6759 - val_accuracy: 0.6083\n",
      "Epoch 14/30\n",
      "62500/62500 [==============================] - 28s 454us/step - loss: 0.6765 - binary_crossentropy: 0.6765 - accuracy: 0.6076 - val_loss: 0.6762 - val_binary_crossentropy: 0.6762 - val_accuracy: 0.6072\n",
      "Epoch 15/30\n",
      "62500/62500 [==============================] - 28s 454us/step - loss: 0.6759 - binary_crossentropy: 0.6759 - accuracy: 0.6078 - val_loss: 0.6756 - val_binary_crossentropy: 0.6756 - val_accuracy: 0.6056\n",
      "Epoch 16/30\n",
      "62500/62500 [==============================] - 28s 456us/step - loss: 0.6766 - binary_crossentropy: 0.6766 - accuracy: 0.6074 - val_loss: 0.6755 - val_binary_crossentropy: 0.6755 - val_accuracy: 0.6064\n",
      "Epoch 17/30\n",
      "62500/62500 [==============================] - 28s 455us/step - loss: 0.6760 - binary_crossentropy: 0.6760 - accuracy: 0.6076 - val_loss: 0.6754 - val_binary_crossentropy: 0.6754 - val_accuracy: 0.6092\n",
      "Epoch 18/30\n",
      "62500/62500 [==============================] - 28s 455us/step - loss: 0.6759 - binary_crossentropy: 0.6759 - accuracy: 0.6075 - val_loss: 0.6757 - val_binary_crossentropy: 0.6757 - val_accuracy: 0.6066\n",
      "Epoch 19/30\n",
      "62500/62500 [==============================] - 28s 454us/step - loss: 0.6762 - binary_crossentropy: 0.6762 - accuracy: 0.6077 - val_loss: 0.6757 - val_binary_crossentropy: 0.6757 - val_accuracy: 0.6055\n",
      "Epoch 20/30\n",
      "62500/62500 [==============================] - 28s 454us/step - loss: 0.6762 - binary_crossentropy: 0.6762 - accuracy: 0.6079 - val_loss: 0.6754 - val_binary_crossentropy: 0.6754 - val_accuracy: 0.6075\n",
      "Epoch 21/30\n",
      "62500/62500 [==============================] - 29s 459us/step - loss: 0.6761 - binary_crossentropy: 0.6761 - accuracy: 0.6080 - val_loss: 0.6754 - val_binary_crossentropy: 0.6754 - val_accuracy: 0.6088\n",
      "Epoch 22/30\n",
      "62500/62500 [==============================] - 28s 455us/step - loss: 0.6760 - binary_crossentropy: 0.6760 - accuracy: 0.6078 - val_loss: 0.6758 - val_binary_crossentropy: 0.6758 - val_accuracy: 0.6052\n",
      "Epoch 23/30\n",
      "62500/62500 [==============================] - 28s 455us/step - loss: 0.6762 - binary_crossentropy: 0.6762 - accuracy: 0.6082 - val_loss: 0.6754 - val_binary_crossentropy: 0.6754 - val_accuracy: 0.6093\n",
      "Epoch 24/30\n",
      "62500/62500 [==============================] - 28s 454us/step - loss: 0.6764 - binary_crossentropy: 0.6764 - accuracy: 0.6072 - val_loss: 0.6753 - val_binary_crossentropy: 0.6753 - val_accuracy: 0.6088\n",
      "Epoch 25/30\n",
      "62500/62500 [==============================] - 29s 456us/step - loss: 0.6759 - binary_crossentropy: 0.6759 - accuracy: 0.6074 - val_loss: 0.6756 - val_binary_crossentropy: 0.6756 - val_accuracy: 0.6056\n",
      "Epoch 26/30\n",
      "62500/62500 [==============================] - 28s 455us/step - loss: 0.6760 - binary_crossentropy: 0.6760 - accuracy: 0.6079 - val_loss: 0.6755 - val_binary_crossentropy: 0.6755 - val_accuracy: 0.6070\n",
      "Epoch 27/30\n",
      "62500/62500 [==============================] - 28s 455us/step - loss: 0.6762 - binary_crossentropy: 0.6762 - accuracy: 0.6076 - val_loss: 0.6754 - val_binary_crossentropy: 0.6754 - val_accuracy: 0.6064\n",
      "Epoch 28/30\n",
      "62500/62500 [==============================] - 28s 454us/step - loss: 0.6763 - binary_crossentropy: 0.6763 - accuracy: 0.6077 - val_loss: 0.6756 - val_binary_crossentropy: 0.6756 - val_accuracy: 0.6067\n",
      "Epoch 29/30\n",
      "62500/62500 [==============================] - 28s 454us/step - loss: 0.6758 - binary_crossentropy: 0.6758 - accuracy: 0.6077 - val_loss: 0.6753 - val_binary_crossentropy: 0.6753 - val_accuracy: 0.6080\n",
      "Epoch 30/30\n",
      "62500/62500 [==============================] - 28s 454us/step - loss: 0.6763 - binary_crossentropy: 0.6763 - accuracy: 0.6075 - val_loss: 0.6755 - val_binary_crossentropy: 0.6755 - val_accuracy: 0.6069\n"
     ]
    }
   ],
   "source": [
    "result = model.fit(\n",
    "    x = engager_df[:2000000],\n",
    "    y = label[:2000000],\n",
    "    validation_data=(engager_df[2000000:], label[2000000:]),\n",
    "    epochs=30,\n",
    "    batch_size=32\n",
    ")"
   ]
  },
  {
   "cell_type": "code",
   "execution_count": null,
   "metadata": {},
   "outputs": [],
   "source": []
  }
 ]
}