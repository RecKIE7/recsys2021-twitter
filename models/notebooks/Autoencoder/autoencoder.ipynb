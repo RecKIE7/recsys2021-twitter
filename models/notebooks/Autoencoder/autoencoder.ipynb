{
 "metadata": {
  "language_info": {
   "codemirror_mode": {
    "name": "ipython",
    "version": 3
   },
   "file_extension": ".py",
   "mimetype": "text/x-python",
   "name": "python",
   "nbconvert_exporter": "python",
   "pygments_lexer": "ipython3",
   "version": "3.8.8"
  },
  "orig_nbformat": 2,
  "kernelspec": {
   "name": "python388jvsc74a57bd0ae065c56e262e6694ecb174f95b527853807b9a02b7a5d470fad054d1e0ab874",
   "display_name": "Python 3.8.8 64-bit ('recsys': conda)"
  }
 },
 "nbformat": 4,
 "nbformat_minor": 2,
 "cells": [
  {
   "cell_type": "code",
   "execution_count": 2,
   "metadata": {},
   "outputs": [],
   "source": [
    "import sys\n",
    "sys.path.append('../../..')\n",
    "\n",
    "import numpy as np\n",
    "import matplotlib.pyplot as plt\n",
    "import pandas as pd\n",
    "from tqdm import tqdm\n",
    "import tensorflow as tf\n",
    "from sklearn import preprocessing\n",
    "from utils.evaluate import calculate_ctr, compute_rce, average_precision_score\n",
    "from sklearn.model_selection import train_test_split\n",
    "from utils.dataset import Dataset\n",
    "\n",
    "\n",
    "from utils.preprocessing import *\n",
    "import core.config as conf"
   ]
  },
  {
   "source": [
    "## Load data "
   ],
   "cell_type": "markdown",
   "metadata": {}
  },
  {
   "cell_type": "code",
   "execution_count": 4,
   "metadata": {},
   "outputs": [],
   "source": [
    "# train_data_path = conf.dataset_path + 'part-210204-2'\n",
    "train_data_path = conf.raw_lzo_path + 'part-00000'\n",
    "train_df = read_data(train_data_path)"
   ]
  },
  {
   "cell_type": "code",
   "execution_count": 5,
   "metadata": {},
   "outputs": [
    {
     "output_type": "execute_result",
     "data": {
      "text/plain": [
       "                                         text_tokens hashtags  \\\n",
       "0  101\\t56898\\t137\\t16925\\t10731\\t11481\\t13980\\t1...      NaN   \n",
       "1  101\\t10159\\t11322\\t58550\\t10836\\t10126\\t25900\\...      NaN   \n",
       "2  101\\t10159\\t56314\\t14364\\t10109\\t14657\\t11359\\...      NaN   \n",
       "3  101\\t56898\\t137\\t10224\\t10731\\t64194\\t41939\\t3...      NaN   \n",
       "4  101\\t7143\\t1938\\t113\\t100\\t10097\\t100\\t10097\\t...      NaN   \n",
       "\n",
       "                           tweet_id  media                             links  \\\n",
       "0  5DCE3020423313CB0AC2631DEF94D2F5    NaN                               NaN   \n",
       "1  2B6F5C7C4F04F34543C09DD6E58C8F66    NaN  2886BC98B8B910E86A792E56681FC841   \n",
       "2  784D3AE5E6429392245BD34FF4C82B5C    NaN  B8FEE70DF7DA75C584F9DA8C38E99874   \n",
       "3  CA49ACBB31921F2A0FAC1CCCC99541F6    NaN                               NaN   \n",
       "4  2C95B42C651B36D84584F3653D722142  Photo                               NaN   \n",
       "\n",
       "                            domains tweet_type  \\\n",
       "0                               NaN    Retweet   \n",
       "1  9EFF000CDB18B710CDDB43EE1D8C300B   TopLevel   \n",
       "2  D56FA7843AF6F2BC53A2E192B542EA58   TopLevel   \n",
       "3                               NaN    Retweet   \n",
       "4                               NaN   TopLevel   \n",
       "\n",
       "                           language  tweet_timestamp  \\\n",
       "0  488B32D24BD4BB44172EB981C1BCA6FA       1613237034   \n",
       "1  B0FA488F2911701DD8EC5B1EA5E322D8       1613748600   \n",
       "2  B0FA488F2911701DD8EC5B1EA5E322D8       1613386238   \n",
       "3  B0FA488F2911701DD8EC5B1EA5E322D8       1613708640   \n",
       "4  E7F038DE3EAD397AEC9193686C911677       1612586018   \n",
       "\n",
       "                         creator_id  ...                        engager_id  \\\n",
       "0  BC9980C5385A68894C2862F41884FB27  ...  2AEB7AFFD36CA43C0C963F24F75BCCAC   \n",
       "1  C0EBA033A5C0D2AD91B4500958E2C633  ...  865C52D28FA84E5E233B530C6FDAECC2   \n",
       "2  03EA05E7440140ABF047BC216CE34917  ...  FE83E568BD4B2ACDBAF876CFBB6C7296   \n",
       "3  2700B9E175757F126C082D6A5742787D  ...  DB0201BF93E4CCA1B55932AC36923E43   \n",
       "4  B7E441F2D886830FB3F0CE29CB35CB6B  ...  04F45C4A769FE2D7C792A96C92342DC2   \n",
       "\n",
       "   engager_follower_count  engager_following_count  engager_is_verified  \\\n",
       "0                     169                      339                False   \n",
       "1                     393                     1190                False   \n",
       "2                     629                     1473                False   \n",
       "3                     123                      200                False   \n",
       "4                     134                      379                False   \n",
       "\n",
       "  engager_account_creation  creator_follows_engager  reply_timestamp  \\\n",
       "0               1520886748                    False              NaN   \n",
       "1               1237570695                    False              NaN   \n",
       "2               1263176351                    False              NaN   \n",
       "3               1268276559                    False              NaN   \n",
       "4               1483862063                     True              NaN   \n",
       "\n",
       "   retweet_timestamp  comment_timestamp  like_timestamp  \n",
       "0                NaN                NaN             NaN  \n",
       "1                NaN                NaN             NaN  \n",
       "2                NaN                NaN    1.613388e+09  \n",
       "3                NaN                NaN             NaN  \n",
       "4                NaN                NaN    1.612587e+09  \n",
       "\n",
       "[5 rows x 24 columns]"
      ],
      "text/html": "<div>\n<style scoped>\n    .dataframe tbody tr th:only-of-type {\n        vertical-align: middle;\n    }\n\n    .dataframe tbody tr th {\n        vertical-align: top;\n    }\n\n    .dataframe thead th {\n        text-align: right;\n    }\n</style>\n<table border=\"1\" class=\"dataframe\">\n  <thead>\n    <tr style=\"text-align: right;\">\n      <th></th>\n      <th>text_tokens</th>\n      <th>hashtags</th>\n      <th>tweet_id</th>\n      <th>media</th>\n      <th>links</th>\n      <th>domains</th>\n      <th>tweet_type</th>\n      <th>language</th>\n      <th>tweet_timestamp</th>\n      <th>creator_id</th>\n      <th>...</th>\n      <th>engager_id</th>\n      <th>engager_follower_count</th>\n      <th>engager_following_count</th>\n      <th>engager_is_verified</th>\n      <th>engager_account_creation</th>\n      <th>creator_follows_engager</th>\n      <th>reply_timestamp</th>\n      <th>retweet_timestamp</th>\n      <th>comment_timestamp</th>\n      <th>like_timestamp</th>\n    </tr>\n  </thead>\n  <tbody>\n    <tr>\n      <th>0</th>\n      <td>101\\t56898\\t137\\t16925\\t10731\\t11481\\t13980\\t1...</td>\n      <td>NaN</td>\n      <td>5DCE3020423313CB0AC2631DEF94D2F5</td>\n      <td>NaN</td>\n      <td>NaN</td>\n      <td>NaN</td>\n      <td>Retweet</td>\n      <td>488B32D24BD4BB44172EB981C1BCA6FA</td>\n      <td>1613237034</td>\n      <td>BC9980C5385A68894C2862F41884FB27</td>\n      <td>...</td>\n      <td>2AEB7AFFD36CA43C0C963F24F75BCCAC</td>\n      <td>169</td>\n      <td>339</td>\n      <td>False</td>\n      <td>1520886748</td>\n      <td>False</td>\n      <td>NaN</td>\n      <td>NaN</td>\n      <td>NaN</td>\n      <td>NaN</td>\n    </tr>\n    <tr>\n      <th>1</th>\n      <td>101\\t10159\\t11322\\t58550\\t10836\\t10126\\t25900\\...</td>\n      <td>NaN</td>\n      <td>2B6F5C7C4F04F34543C09DD6E58C8F66</td>\n      <td>NaN</td>\n      <td>2886BC98B8B910E86A792E56681FC841</td>\n      <td>9EFF000CDB18B710CDDB43EE1D8C300B</td>\n      <td>TopLevel</td>\n      <td>B0FA488F2911701DD8EC5B1EA5E322D8</td>\n      <td>1613748600</td>\n      <td>C0EBA033A5C0D2AD91B4500958E2C633</td>\n      <td>...</td>\n      <td>865C52D28FA84E5E233B530C6FDAECC2</td>\n      <td>393</td>\n      <td>1190</td>\n      <td>False</td>\n      <td>1237570695</td>\n      <td>False</td>\n      <td>NaN</td>\n      <td>NaN</td>\n      <td>NaN</td>\n      <td>NaN</td>\n    </tr>\n    <tr>\n      <th>2</th>\n      <td>101\\t10159\\t56314\\t14364\\t10109\\t14657\\t11359\\...</td>\n      <td>NaN</td>\n      <td>784D3AE5E6429392245BD34FF4C82B5C</td>\n      <td>NaN</td>\n      <td>B8FEE70DF7DA75C584F9DA8C38E99874</td>\n      <td>D56FA7843AF6F2BC53A2E192B542EA58</td>\n      <td>TopLevel</td>\n      <td>B0FA488F2911701DD8EC5B1EA5E322D8</td>\n      <td>1613386238</td>\n      <td>03EA05E7440140ABF047BC216CE34917</td>\n      <td>...</td>\n      <td>FE83E568BD4B2ACDBAF876CFBB6C7296</td>\n      <td>629</td>\n      <td>1473</td>\n      <td>False</td>\n      <td>1263176351</td>\n      <td>False</td>\n      <td>NaN</td>\n      <td>NaN</td>\n      <td>NaN</td>\n      <td>1.613388e+09</td>\n    </tr>\n    <tr>\n      <th>3</th>\n      <td>101\\t56898\\t137\\t10224\\t10731\\t64194\\t41939\\t3...</td>\n      <td>NaN</td>\n      <td>CA49ACBB31921F2A0FAC1CCCC99541F6</td>\n      <td>NaN</td>\n      <td>NaN</td>\n      <td>NaN</td>\n      <td>Retweet</td>\n      <td>B0FA488F2911701DD8EC5B1EA5E322D8</td>\n      <td>1613708640</td>\n      <td>2700B9E175757F126C082D6A5742787D</td>\n      <td>...</td>\n      <td>DB0201BF93E4CCA1B55932AC36923E43</td>\n      <td>123</td>\n      <td>200</td>\n      <td>False</td>\n      <td>1268276559</td>\n      <td>False</td>\n      <td>NaN</td>\n      <td>NaN</td>\n      <td>NaN</td>\n      <td>NaN</td>\n    </tr>\n    <tr>\n      <th>4</th>\n      <td>101\\t7143\\t1938\\t113\\t100\\t10097\\t100\\t10097\\t...</td>\n      <td>NaN</td>\n      <td>2C95B42C651B36D84584F3653D722142</td>\n      <td>Photo</td>\n      <td>NaN</td>\n      <td>NaN</td>\n      <td>TopLevel</td>\n      <td>E7F038DE3EAD397AEC9193686C911677</td>\n      <td>1612586018</td>\n      <td>B7E441F2D886830FB3F0CE29CB35CB6B</td>\n      <td>...</td>\n      <td>04F45C4A769FE2D7C792A96C92342DC2</td>\n      <td>134</td>\n      <td>379</td>\n      <td>False</td>\n      <td>1483862063</td>\n      <td>True</td>\n      <td>NaN</td>\n      <td>NaN</td>\n      <td>NaN</td>\n      <td>1.612587e+09</td>\n    </tr>\n  </tbody>\n</table>\n<p>5 rows × 24 columns</p>\n</div>"
     },
     "metadata": {},
     "execution_count": 5
    }
   ],
   "source": [
    "train_df.head()"
   ]
  },
  {
   "cell_type": "code",
   "execution_count": 7,
   "metadata": {},
   "outputs": [],
   "source": [
    "# val_data_path = conf.dataset_path + 'part-210205-2'\n",
    "val_data_path = conf.raw_lzo_path + 'part-00001'\n",
    "val_df = read_data(val_data_path)"
   ]
  },
  {
   "cell_type": "code",
   "execution_count": 8,
   "metadata": {},
   "outputs": [
    {
     "output_type": "execute_result",
     "data": {
      "text/plain": [
       "Index(['text_tokens', 'hashtags', 'tweet_id', 'media', 'links', 'domains',\n",
       "       'tweet_type', 'language', 'tweet_timestamp', 'creator_id',\n",
       "       'creator_follower_count', 'creator_following_count',\n",
       "       'creator_is_verified', 'creator_account_creation', 'engager_id',\n",
       "       'engager_follower_count', 'engager_following_count',\n",
       "       'engager_is_verified', 'engager_account_creation',\n",
       "       'creator_follows_engager', 'reply_timestamp', 'retweet_timestamp',\n",
       "       'comment_timestamp', 'like_timestamp'],\n",
       "      dtype='object')"
      ]
     },
     "metadata": {},
     "execution_count": 8
    }
   ],
   "source": [
    "train_df.columns"
   ]
  },
  {
   "source": [
    "## Parameters"
   ],
   "cell_type": "markdown",
   "metadata": {}
  },
  {
   "cell_type": "code",
   "execution_count": 9,
   "metadata": {},
   "outputs": [],
   "source": [
    "MODEL_NAME = 'autoencoder_test'\n",
    "BATCH_SIZE = 2\n",
    "MAX_SEQUENCE = 25\n",
    "EPOCH = 30\n",
    "UNITS = 1024\n",
    "EMBEDDING_DIM = 256\n",
    "VALIDATION_SPLIT = 0.1 "
   ]
  },
  {
   "source": [
    "## Preprocessing"
   ],
   "cell_type": "markdown",
   "metadata": {}
  },
  {
   "source": [
    "### dataset preprocess"
   ],
   "cell_type": "markdown",
   "metadata": {}
  },
  {
   "cell_type": "code",
   "execution_count": 10,
   "metadata": {},
   "outputs": [],
   "source": [
    "ds = Dataset(train=True, target_encoding=False)\n",
    "train_df = ds.preprocess(train_df)\n",
    "val_df = ds.preprocess(val_df)"
   ]
  },
  {
   "source": [
    "### negative samping"
   ],
   "cell_type": "markdown",
   "metadata": {}
  },
  {
   "cell_type": "code",
   "execution_count": 11,
   "metadata": {},
   "outputs": [
    {
     "output_type": "execute_result",
     "data": {
      "text/plain": [
       "         engager_is_verified  media  creator_follows_engager  \\\n",
       "0                          0      0                        0   \n",
       "1                          0      0                        0   \n",
       "2                          0      0                        0   \n",
       "3                          0      0                        0   \n",
       "4                          0      5                        1   \n",
       "...                      ...    ...                      ...   \n",
       "3033897                    0      0                        1   \n",
       "3033898                    0      9                        0   \n",
       "3033899                    0      0                        1   \n",
       "3033900                    0      0                        0   \n",
       "3033901                    0      0                        1   \n",
       "\n",
       "                               creator_id  engager_account_creation  \\\n",
       "0        BC9980C5385A68894C2862F41884FB27                1520886748   \n",
       "1        C0EBA033A5C0D2AD91B4500958E2C633                1237570695   \n",
       "2        03EA05E7440140ABF047BC216CE34917                1263176351   \n",
       "3        2700B9E175757F126C082D6A5742787D                1268276559   \n",
       "4        B7E441F2D886830FB3F0CE29CB35CB6B                1483862063   \n",
       "...                                   ...                       ...   \n",
       "3033897  D61350A37DDC6E19AD5B1D44C607FF7D                1505241576   \n",
       "3033898  9009A33FB64F15F71D689C46FD40DA0E                1587168543   \n",
       "3033899  57F1EBC5767EA3F7CE3EEDB6EAE9B097                1336720553   \n",
       "3033900  D3D9F1F6F4CCFA079891511B0818FF03                1540658011   \n",
       "3033901  79E0210EA9B5D9CD0A6950A1DCEBD9CA                1337620805   \n",
       "\n",
       "         creator_follower_count                        engager_id  language  \\\n",
       "0                          2473  2AEB7AFFD36CA43C0C963F24F75BCCAC        19   \n",
       "1                       4418640  865C52D28FA84E5E233B530C6FDAECC2        46   \n",
       "2                        219715  FE83E568BD4B2ACDBAF876CFBB6C7296        46   \n",
       "3                       2388283  DB0201BF93E4CCA1B55932AC36923E43        46   \n",
       "4                           414  04F45C4A769FE2D7C792A96C92342DC2        61   \n",
       "...                         ...                               ...       ...   \n",
       "3033897                    2230  AB51B05ACD422823A8567E51D106FBCF        48   \n",
       "3033898                   90842  2F0B0497A2C1F6DBF120782E915B1F63        19   \n",
       "3033899                     608  5FFAD564CE93396A11C7951AA07D019E        19   \n",
       "3033900                 6777417  1C3C0C32D7AEBCA253DC54EC85084951        46   \n",
       "3033901                    2334  F1383136D37D9DE0A8EF9C6DB973DCC1        19   \n",
       "\n",
       "         creator_following_count                          tweet_id  ...  \\\n",
       "0                            662  5DCE3020423313CB0AC2631DEF94D2F5  ...   \n",
       "1                            228  2B6F5C7C4F04F34543C09DD6E58C8F66  ...   \n",
       "2                           3685  784D3AE5E6429392245BD34FF4C82B5C  ...   \n",
       "3                          13511  CA49ACBB31921F2A0FAC1CCCC99541F6  ...   \n",
       "4                            720  2C95B42C651B36D84584F3653D722142  ...   \n",
       "...                          ...                               ...  ...   \n",
       "3033897                     2332  25B1D557E6B6D7298CA3888C72F9F7B5  ...   \n",
       "3033898                      687  3A656480D09FCCBA39B0E28FBFA64B72  ...   \n",
       "3033899                      328  E236B2359B119B2A7668FA83AC5E750B  ...   \n",
       "3033900                      888  B42CB5B47ABCCA8700686CD8F32696B6  ...   \n",
       "3033901                      746  0A3692BBC4209238759F79D392C225C8  ...   \n",
       "\n",
       "         tweet_type  tweet_timestamp  reply  retweet  comment  like  dt_day  \\\n",
       "0                 1       1613237034    0.0      0.0      0.0   0.0      13   \n",
       "1                 2       1613748600    0.0      0.0      0.0   0.0      19   \n",
       "2                 2       1613386238    0.0      0.0      0.0   1.0      15   \n",
       "3                 1       1613708640    0.0      0.0      0.0   0.0      19   \n",
       "4                 2       1612586018    0.0      0.0      0.0   1.0       6   \n",
       "...             ...              ...    ...      ...      ...   ...     ...   \n",
       "3033897           1       1612804061    0.0      0.0      0.0   0.0       8   \n",
       "3033898           2       1613964078    1.0      0.0      0.0   0.0      22   \n",
       "3033899           1       1614124187    0.0      0.0      0.0   0.0      23   \n",
       "3033900           2       1613329929    0.0      0.0      0.0   1.0      14   \n",
       "3033901           1       1612602313    0.0      1.0      0.0   0.0       6   \n",
       "\n",
       "         dt_dow  dt_hour  len_domains  \n",
       "0             5       17            0  \n",
       "1             4       15            1  \n",
       "2             0       10            1  \n",
       "3             4        4            0  \n",
       "4             5        4            0  \n",
       "...         ...      ...          ...  \n",
       "3033897       0       17            0  \n",
       "3033898       0        3            0  \n",
       "3033899       1       23            0  \n",
       "3033900       6       19            0  \n",
       "3033901       5        9            0  \n",
       "\n",
       "[3033902 rows x 25 columns]"
      ],
      "text/html": "<div>\n<style scoped>\n    .dataframe tbody tr th:only-of-type {\n        vertical-align: middle;\n    }\n\n    .dataframe tbody tr th {\n        vertical-align: top;\n    }\n\n    .dataframe thead th {\n        text-align: right;\n    }\n</style>\n<table border=\"1\" class=\"dataframe\">\n  <thead>\n    <tr style=\"text-align: right;\">\n      <th></th>\n      <th>engager_is_verified</th>\n      <th>media</th>\n      <th>creator_follows_engager</th>\n      <th>creator_id</th>\n      <th>engager_account_creation</th>\n      <th>creator_follower_count</th>\n      <th>engager_id</th>\n      <th>language</th>\n      <th>creator_following_count</th>\n      <th>tweet_id</th>\n      <th>...</th>\n      <th>tweet_type</th>\n      <th>tweet_timestamp</th>\n      <th>reply</th>\n      <th>retweet</th>\n      <th>comment</th>\n      <th>like</th>\n      <th>dt_day</th>\n      <th>dt_dow</th>\n      <th>dt_hour</th>\n      <th>len_domains</th>\n    </tr>\n  </thead>\n  <tbody>\n    <tr>\n      <th>0</th>\n      <td>0</td>\n      <td>0</td>\n      <td>0</td>\n      <td>BC9980C5385A68894C2862F41884FB27</td>\n      <td>1520886748</td>\n      <td>2473</td>\n      <td>2AEB7AFFD36CA43C0C963F24F75BCCAC</td>\n      <td>19</td>\n      <td>662</td>\n      <td>5DCE3020423313CB0AC2631DEF94D2F5</td>\n      <td>...</td>\n      <td>1</td>\n      <td>1613237034</td>\n      <td>0.0</td>\n      <td>0.0</td>\n      <td>0.0</td>\n      <td>0.0</td>\n      <td>13</td>\n      <td>5</td>\n      <td>17</td>\n      <td>0</td>\n    </tr>\n    <tr>\n      <th>1</th>\n      <td>0</td>\n      <td>0</td>\n      <td>0</td>\n      <td>C0EBA033A5C0D2AD91B4500958E2C633</td>\n      <td>1237570695</td>\n      <td>4418640</td>\n      <td>865C52D28FA84E5E233B530C6FDAECC2</td>\n      <td>46</td>\n      <td>228</td>\n      <td>2B6F5C7C4F04F34543C09DD6E58C8F66</td>\n      <td>...</td>\n      <td>2</td>\n      <td>1613748600</td>\n      <td>0.0</td>\n      <td>0.0</td>\n      <td>0.0</td>\n      <td>0.0</td>\n      <td>19</td>\n      <td>4</td>\n      <td>15</td>\n      <td>1</td>\n    </tr>\n    <tr>\n      <th>2</th>\n      <td>0</td>\n      <td>0</td>\n      <td>0</td>\n      <td>03EA05E7440140ABF047BC216CE34917</td>\n      <td>1263176351</td>\n      <td>219715</td>\n      <td>FE83E568BD4B2ACDBAF876CFBB6C7296</td>\n      <td>46</td>\n      <td>3685</td>\n      <td>784D3AE5E6429392245BD34FF4C82B5C</td>\n      <td>...</td>\n      <td>2</td>\n      <td>1613386238</td>\n      <td>0.0</td>\n      <td>0.0</td>\n      <td>0.0</td>\n      <td>1.0</td>\n      <td>15</td>\n      <td>0</td>\n      <td>10</td>\n      <td>1</td>\n    </tr>\n    <tr>\n      <th>3</th>\n      <td>0</td>\n      <td>0</td>\n      <td>0</td>\n      <td>2700B9E175757F126C082D6A5742787D</td>\n      <td>1268276559</td>\n      <td>2388283</td>\n      <td>DB0201BF93E4CCA1B55932AC36923E43</td>\n      <td>46</td>\n      <td>13511</td>\n      <td>CA49ACBB31921F2A0FAC1CCCC99541F6</td>\n      <td>...</td>\n      <td>1</td>\n      <td>1613708640</td>\n      <td>0.0</td>\n      <td>0.0</td>\n      <td>0.0</td>\n      <td>0.0</td>\n      <td>19</td>\n      <td>4</td>\n      <td>4</td>\n      <td>0</td>\n    </tr>\n    <tr>\n      <th>4</th>\n      <td>0</td>\n      <td>5</td>\n      <td>1</td>\n      <td>B7E441F2D886830FB3F0CE29CB35CB6B</td>\n      <td>1483862063</td>\n      <td>414</td>\n      <td>04F45C4A769FE2D7C792A96C92342DC2</td>\n      <td>61</td>\n      <td>720</td>\n      <td>2C95B42C651B36D84584F3653D722142</td>\n      <td>...</td>\n      <td>2</td>\n      <td>1612586018</td>\n      <td>0.0</td>\n      <td>0.0</td>\n      <td>0.0</td>\n      <td>1.0</td>\n      <td>6</td>\n      <td>5</td>\n      <td>4</td>\n      <td>0</td>\n    </tr>\n    <tr>\n      <th>...</th>\n      <td>...</td>\n      <td>...</td>\n      <td>...</td>\n      <td>...</td>\n      <td>...</td>\n      <td>...</td>\n      <td>...</td>\n      <td>...</td>\n      <td>...</td>\n      <td>...</td>\n      <td>...</td>\n      <td>...</td>\n      <td>...</td>\n      <td>...</td>\n      <td>...</td>\n      <td>...</td>\n      <td>...</td>\n      <td>...</td>\n      <td>...</td>\n      <td>...</td>\n      <td>...</td>\n    </tr>\n    <tr>\n      <th>3033897</th>\n      <td>0</td>\n      <td>0</td>\n      <td>1</td>\n      <td>D61350A37DDC6E19AD5B1D44C607FF7D</td>\n      <td>1505241576</td>\n      <td>2230</td>\n      <td>AB51B05ACD422823A8567E51D106FBCF</td>\n      <td>48</td>\n      <td>2332</td>\n      <td>25B1D557E6B6D7298CA3888C72F9F7B5</td>\n      <td>...</td>\n      <td>1</td>\n      <td>1612804061</td>\n      <td>0.0</td>\n      <td>0.0</td>\n      <td>0.0</td>\n      <td>0.0</td>\n      <td>8</td>\n      <td>0</td>\n      <td>17</td>\n      <td>0</td>\n    </tr>\n    <tr>\n      <th>3033898</th>\n      <td>0</td>\n      <td>9</td>\n      <td>0</td>\n      <td>9009A33FB64F15F71D689C46FD40DA0E</td>\n      <td>1587168543</td>\n      <td>90842</td>\n      <td>2F0B0497A2C1F6DBF120782E915B1F63</td>\n      <td>19</td>\n      <td>687</td>\n      <td>3A656480D09FCCBA39B0E28FBFA64B72</td>\n      <td>...</td>\n      <td>2</td>\n      <td>1613964078</td>\n      <td>1.0</td>\n      <td>0.0</td>\n      <td>0.0</td>\n      <td>0.0</td>\n      <td>22</td>\n      <td>0</td>\n      <td>3</td>\n      <td>0</td>\n    </tr>\n    <tr>\n      <th>3033899</th>\n      <td>0</td>\n      <td>0</td>\n      <td>1</td>\n      <td>57F1EBC5767EA3F7CE3EEDB6EAE9B097</td>\n      <td>1336720553</td>\n      <td>608</td>\n      <td>5FFAD564CE93396A11C7951AA07D019E</td>\n      <td>19</td>\n      <td>328</td>\n      <td>E236B2359B119B2A7668FA83AC5E750B</td>\n      <td>...</td>\n      <td>1</td>\n      <td>1614124187</td>\n      <td>0.0</td>\n      <td>0.0</td>\n      <td>0.0</td>\n      <td>0.0</td>\n      <td>23</td>\n      <td>1</td>\n      <td>23</td>\n      <td>0</td>\n    </tr>\n    <tr>\n      <th>3033900</th>\n      <td>0</td>\n      <td>0</td>\n      <td>0</td>\n      <td>D3D9F1F6F4CCFA079891511B0818FF03</td>\n      <td>1540658011</td>\n      <td>6777417</td>\n      <td>1C3C0C32D7AEBCA253DC54EC85084951</td>\n      <td>46</td>\n      <td>888</td>\n      <td>B42CB5B47ABCCA8700686CD8F32696B6</td>\n      <td>...</td>\n      <td>2</td>\n      <td>1613329929</td>\n      <td>0.0</td>\n      <td>0.0</td>\n      <td>0.0</td>\n      <td>1.0</td>\n      <td>14</td>\n      <td>6</td>\n      <td>19</td>\n      <td>0</td>\n    </tr>\n    <tr>\n      <th>3033901</th>\n      <td>0</td>\n      <td>0</td>\n      <td>1</td>\n      <td>79E0210EA9B5D9CD0A6950A1DCEBD9CA</td>\n      <td>1337620805</td>\n      <td>2334</td>\n      <td>F1383136D37D9DE0A8EF9C6DB973DCC1</td>\n      <td>19</td>\n      <td>746</td>\n      <td>0A3692BBC4209238759F79D392C225C8</td>\n      <td>...</td>\n      <td>1</td>\n      <td>1612602313</td>\n      <td>0.0</td>\n      <td>1.0</td>\n      <td>0.0</td>\n      <td>0.0</td>\n      <td>6</td>\n      <td>5</td>\n      <td>9</td>\n      <td>0</td>\n    </tr>\n  </tbody>\n</table>\n<p>3033902 rows × 25 columns</p>\n</div>"
     },
     "metadata": {},
     "execution_count": 11
    }
   ],
   "source": [
    "train_df"
   ]
  },
  {
   "cell_type": "code",
   "execution_count": 12,
   "metadata": {},
   "outputs": [
    {
     "output_type": "stream",
     "name": "stdout",
     "text": [
      "1207588\n1826314\n"
     ]
    }
   ],
   "source": [
    "train_df_positive = train_df[train_df['like']==1]\n",
    "train_df_negative = train_df[train_df['like']==0]\n",
    "print(len(train_df_positive))\n",
    "print(len(train_df_negative))\n",
    "\n",
    "# train_df_positive = train_df_positive.sample(n = len(train_df_negative))\n",
    "train_df_negative = train_df_negative.sample(n = len(train_df_positive))\n",
    "train_df = pd.concat([train_df_positive, train_df_negative])"
   ]
  },
  {
   "cell_type": "code",
   "execution_count": null,
   "metadata": {},
   "outputs": [],
   "source": []
  },
  {
   "cell_type": "code",
   "execution_count": 13,
   "metadata": {},
   "outputs": [
    {
     "output_type": "execute_result",
     "data": {
      "text/plain": [
       "    engager_is_verified  media  creator_follows_engager  \\\n",
       "2                     0      0                        0   \n",
       "4                     0      5                        1   \n",
       "7                     0      0                        0   \n",
       "9                     0      0                        0   \n",
       "10                    0      0                        0   \n",
       "\n",
       "                          creator_id  engager_account_creation  \\\n",
       "2   03EA05E7440140ABF047BC216CE34917                1263176351   \n",
       "4   B7E441F2D886830FB3F0CE29CB35CB6B                1483862063   \n",
       "7   223797E039AFAC669C3A24A43B59CD5E                1581377629   \n",
       "9   02EA65880A80121A394AB9CD652D7AD6                1589197420   \n",
       "10  0A114052FE4DD3F5F7D2589673EC5ED8                1539973632   \n",
       "\n",
       "    creator_follower_count                        engager_id  language  \\\n",
       "2                   219715  FE83E568BD4B2ACDBAF876CFBB6C7296        46   \n",
       "4                      414  04F45C4A769FE2D7C792A96C92342DC2        61   \n",
       "7                   209681  0F7B9515737C440274E43E09E01FF8CF        19   \n",
       "9                      881  D3DE61AA5DFB88CEFBC2C9E675F40723        61   \n",
       "10                  133933  0D07725F473577EE50C4EE831FC66D99        19   \n",
       "\n",
       "    creator_following_count                          tweet_id  ...  \\\n",
       "2                      3685  784D3AE5E6429392245BD34FF4C82B5C  ...   \n",
       "4                       720  2C95B42C651B36D84584F3653D722142  ...   \n",
       "7                       141  787DEDA041736D0B55A0C15E993682C1  ...   \n",
       "9                       583  91DCD61A9D3BFD40D6B4D90786A62A58  ...   \n",
       "10                     5371  C677F56B097FEBDEE580BF2CE4CBEB7C  ...   \n",
       "\n",
       "    tweet_type  tweet_timestamp  reply  retweet  comment  like  dt_day  \\\n",
       "2            2       1613386238    0.0      0.0      0.0   1.0      15   \n",
       "4            2       1612586018    0.0      0.0      0.0   1.0       6   \n",
       "7            0       1614132656    0.0      0.0      0.0   1.0      24   \n",
       "9            2       1614172373    0.0      0.0      0.0   1.0      24   \n",
       "10           2       1614027813    0.0      0.0      0.0   1.0      22   \n",
       "\n",
       "    dt_dow  dt_hour  len_domains  \n",
       "2        0       10            1  \n",
       "4        5        4            0  \n",
       "7        2        2            0  \n",
       "9        2       13            1  \n",
       "10       0       21            0  \n",
       "\n",
       "[5 rows x 25 columns]"
      ],
      "text/html": "<div>\n<style scoped>\n    .dataframe tbody tr th:only-of-type {\n        vertical-align: middle;\n    }\n\n    .dataframe tbody tr th {\n        vertical-align: top;\n    }\n\n    .dataframe thead th {\n        text-align: right;\n    }\n</style>\n<table border=\"1\" class=\"dataframe\">\n  <thead>\n    <tr style=\"text-align: right;\">\n      <th></th>\n      <th>engager_is_verified</th>\n      <th>media</th>\n      <th>creator_follows_engager</th>\n      <th>creator_id</th>\n      <th>engager_account_creation</th>\n      <th>creator_follower_count</th>\n      <th>engager_id</th>\n      <th>language</th>\n      <th>creator_following_count</th>\n      <th>tweet_id</th>\n      <th>...</th>\n      <th>tweet_type</th>\n      <th>tweet_timestamp</th>\n      <th>reply</th>\n      <th>retweet</th>\n      <th>comment</th>\n      <th>like</th>\n      <th>dt_day</th>\n      <th>dt_dow</th>\n      <th>dt_hour</th>\n      <th>len_domains</th>\n    </tr>\n  </thead>\n  <tbody>\n    <tr>\n      <th>2</th>\n      <td>0</td>\n      <td>0</td>\n      <td>0</td>\n      <td>03EA05E7440140ABF047BC216CE34917</td>\n      <td>1263176351</td>\n      <td>219715</td>\n      <td>FE83E568BD4B2ACDBAF876CFBB6C7296</td>\n      <td>46</td>\n      <td>3685</td>\n      <td>784D3AE5E6429392245BD34FF4C82B5C</td>\n      <td>...</td>\n      <td>2</td>\n      <td>1613386238</td>\n      <td>0.0</td>\n      <td>0.0</td>\n      <td>0.0</td>\n      <td>1.0</td>\n      <td>15</td>\n      <td>0</td>\n      <td>10</td>\n      <td>1</td>\n    </tr>\n    <tr>\n      <th>4</th>\n      <td>0</td>\n      <td>5</td>\n      <td>1</td>\n      <td>B7E441F2D886830FB3F0CE29CB35CB6B</td>\n      <td>1483862063</td>\n      <td>414</td>\n      <td>04F45C4A769FE2D7C792A96C92342DC2</td>\n      <td>61</td>\n      <td>720</td>\n      <td>2C95B42C651B36D84584F3653D722142</td>\n      <td>...</td>\n      <td>2</td>\n      <td>1612586018</td>\n      <td>0.0</td>\n      <td>0.0</td>\n      <td>0.0</td>\n      <td>1.0</td>\n      <td>6</td>\n      <td>5</td>\n      <td>4</td>\n      <td>0</td>\n    </tr>\n    <tr>\n      <th>7</th>\n      <td>0</td>\n      <td>0</td>\n      <td>0</td>\n      <td>223797E039AFAC669C3A24A43B59CD5E</td>\n      <td>1581377629</td>\n      <td>209681</td>\n      <td>0F7B9515737C440274E43E09E01FF8CF</td>\n      <td>19</td>\n      <td>141</td>\n      <td>787DEDA041736D0B55A0C15E993682C1</td>\n      <td>...</td>\n      <td>0</td>\n      <td>1614132656</td>\n      <td>0.0</td>\n      <td>0.0</td>\n      <td>0.0</td>\n      <td>1.0</td>\n      <td>24</td>\n      <td>2</td>\n      <td>2</td>\n      <td>0</td>\n    </tr>\n    <tr>\n      <th>9</th>\n      <td>0</td>\n      <td>0</td>\n      <td>0</td>\n      <td>02EA65880A80121A394AB9CD652D7AD6</td>\n      <td>1589197420</td>\n      <td>881</td>\n      <td>D3DE61AA5DFB88CEFBC2C9E675F40723</td>\n      <td>61</td>\n      <td>583</td>\n      <td>91DCD61A9D3BFD40D6B4D90786A62A58</td>\n      <td>...</td>\n      <td>2</td>\n      <td>1614172373</td>\n      <td>0.0</td>\n      <td>0.0</td>\n      <td>0.0</td>\n      <td>1.0</td>\n      <td>24</td>\n      <td>2</td>\n      <td>13</td>\n      <td>1</td>\n    </tr>\n    <tr>\n      <th>10</th>\n      <td>0</td>\n      <td>0</td>\n      <td>0</td>\n      <td>0A114052FE4DD3F5F7D2589673EC5ED8</td>\n      <td>1539973632</td>\n      <td>133933</td>\n      <td>0D07725F473577EE50C4EE831FC66D99</td>\n      <td>19</td>\n      <td>5371</td>\n      <td>C677F56B097FEBDEE580BF2CE4CBEB7C</td>\n      <td>...</td>\n      <td>2</td>\n      <td>1614027813</td>\n      <td>0.0</td>\n      <td>0.0</td>\n      <td>0.0</td>\n      <td>1.0</td>\n      <td>22</td>\n      <td>0</td>\n      <td>21</td>\n      <td>0</td>\n    </tr>\n  </tbody>\n</table>\n<p>5 rows × 25 columns</p>\n</div>"
     },
     "metadata": {},
     "execution_count": 13
    }
   ],
   "source": [
    "train_df.head()"
   ]
  },
  {
   "cell_type": "code",
   "execution_count": 14,
   "metadata": {},
   "outputs": [
    {
     "output_type": "execute_result",
     "data": {
      "text/plain": [
       "Index(['engager_is_verified', 'media', 'creator_follows_engager', 'creator_id',\n",
       "       'engager_account_creation', 'creator_follower_count', 'engager_id',\n",
       "       'language', 'creator_following_count', 'tweet_id',\n",
       "       'engager_following_count', 'engager_follower_count',\n",
       "       'creator_is_verified', 'creator_account_creation', 'domains',\n",
       "       'tweet_type', 'tweet_timestamp', 'reply', 'retweet', 'comment', 'like',\n",
       "       'dt_day', 'dt_dow', 'dt_hour', 'len_domains'],\n",
       "      dtype='object')"
      ]
     },
     "metadata": {},
     "execution_count": 14
    }
   ],
   "source": [
    "train_df.columns"
   ]
  },
  {
   "cell_type": "code",
   "execution_count": 15,
   "metadata": {},
   "outputs": [
    {
     "output_type": "execute_result",
     "data": {
      "text/plain": [
       "['reply', 'retweet', 'comment', 'like']"
      ]
     },
     "metadata": {},
     "execution_count": 15
    }
   ],
   "source": [
    "conf.target"
   ]
  },
  {
   "cell_type": "code",
   "execution_count": 16,
   "metadata": {},
   "outputs": [],
   "source": [
    "used_features = ['engager_follower_count', \n",
    "                'engager_following_count', \n",
    "                'engager_is_verified', \n",
    "                'engager_account_creation', \n",
    "                'creator_follower_count', \n",
    "                'creator_following_count', \n",
    "                'creator_is_verified', \n",
    "                'creator_account_creation',\n",
    "                'media',\n",
    "                'domains',\n",
    "                'language',\n",
    "                'dt_day', \n",
    "                'dt_dow', \n",
    "                'dt_hour', \n",
    "                'len_domains']"
   ]
  },
  {
   "cell_type": "code",
   "execution_count": 17,
   "metadata": {},
   "outputs": [],
   "source": [
    "X_train = train_df[used_features]\n",
    "# Y_train = train_df['like_timestamp'].fillna(0).apply(lambda x: 1 if x > 0 else 0)\n",
    "Y_train = train_df['like']"
   ]
  },
  {
   "cell_type": "code",
   "execution_count": 18,
   "metadata": {},
   "outputs": [],
   "source": [
    "X_val = val_df[used_features]\n",
    "# Y_val = val_df['like_timestamp'].fillna(0).apply(lambda x: 1 if x > 0 else 0) \n",
    "Y_val = val_df['like']"
   ]
  },
  {
   "cell_type": "code",
   "execution_count": 19,
   "metadata": {},
   "outputs": [],
   "source": [
    "X_val, X_test, Y_val, Y_test = train_test_split(X_val, Y_val, test_size=0.5)\n"
   ]
  },
  {
   "source": [
    "### scaling\n"
   ],
   "cell_type": "markdown",
   "metadata": {}
  },
  {
   "cell_type": "code",
   "execution_count": 20,
   "metadata": {},
   "outputs": [],
   "source": [
    "def scaling(df_x):\n",
    "    standard_scaler = preprocessing.StandardScaler()\n",
    "    standard_scaler.fit(df_x.values)\n",
    "    ss = standard_scaler.transform(df_x.values)\n",
    "    df_x = pd.DataFrame(ss, columns = df_x.columns)\n",
    "    return df_x"
   ]
  },
  {
   "cell_type": "code",
   "execution_count": 21,
   "metadata": {},
   "outputs": [],
   "source": [
    "X_train = scaling(X_train)\n",
    "X_val = scaling(X_val)\n",
    "X_test = scaling(X_test)"
   ]
  },
  {
   "cell_type": "code",
   "execution_count": 22,
   "metadata": {},
   "outputs": [
    {
     "output_type": "execute_result",
     "data": {
      "text/plain": [
       "         engager_follower_count  engager_following_count  engager_is_verified  \\\n",
       "0                     -0.016188                 0.451959            -0.040119   \n",
       "1                     -0.066643                -0.189439            -0.040119   \n",
       "2                     -0.076733                -0.349495            -0.040119   \n",
       "3                     -0.044116                -0.030555            -0.040119   \n",
       "4                     -0.071841                -0.256275            -0.040119   \n",
       "...                         ...                      ...                  ...   \n",
       "2415171               -0.061954                -0.088597            -0.040119   \n",
       "2415172               -0.029541                -0.242791            -0.040119   \n",
       "2415173                0.022952                 0.201615            -0.040119   \n",
       "2415174               -0.046767                 0.096670            -0.040119   \n",
       "2415175               -0.050028                -0.187680            -0.040119   \n",
       "\n",
       "         engager_account_creation  creator_follower_count  \\\n",
       "0                       -1.933324               -0.117299   \n",
       "1                        0.027970               -0.167253   \n",
       "2                        0.894618               -0.119585   \n",
       "3                        0.964114               -0.167146   \n",
       "4                        0.526649               -0.136839   \n",
       "...                           ...                     ...   \n",
       "2415171                 -2.107799               -0.164754   \n",
       "2415172                 -0.915667               -0.166091   \n",
       "2415173                  0.968742               -0.166958   \n",
       "2415174                 -0.729357               -0.091097   \n",
       "2415175                 -0.457406               -0.167242   \n",
       "\n",
       "         creator_following_count  creator_is_verified  \\\n",
       "0                       0.004564             2.146180   \n",
       "1                      -0.087572            -0.465944   \n",
       "2                      -0.105564            -0.465944   \n",
       "3                      -0.091829            -0.465944   \n",
       "4                       0.056956            -0.465944   \n",
       "...                          ...                  ...   \n",
       "2415171                -0.102674             2.146180   \n",
       "2415172                -0.099567            -0.465944   \n",
       "2415173                -0.053701            -0.465944   \n",
       "2415174                -0.096801            -0.465944   \n",
       "2415175                -0.095278            -0.465944   \n",
       "\n",
       "         creator_account_creation     media   domains  language    dt_day  \\\n",
       "0                       -1.833245 -0.747940 -0.152439  0.694954  0.163908   \n",
       "1                        1.117240  0.822908 -0.152960  1.488208 -1.322572   \n",
       "2                        0.630757 -0.747940 -0.152960 -0.732903  1.650388   \n",
       "3                       -1.422337 -0.747940 -0.152179  1.488208  1.650388   \n",
       "4                        0.805560 -0.747940 -0.152960 -0.732903  1.320059   \n",
       "...                           ...       ...       ...       ...       ...   \n",
       "2415171                  0.059618  1.451248 -0.152960 -0.732903  1.154894   \n",
       "2415172                 -0.136592 -0.747940 -0.152960  0.536303 -0.827079   \n",
       "2415173                  1.224800 -0.747940 -0.152960  0.007467  0.329072   \n",
       "2415174                 -0.684020  0.822908 -0.152960  0.694954  1.485223   \n",
       "2415175                  0.332166 -0.747940 -0.152960 -0.732903 -0.166421   \n",
       "\n",
       "           dt_dow   dt_hour  len_domains  \n",
       "0       -1.483688 -0.284583     2.677122  \n",
       "1        1.015460 -1.169794    -0.325842  \n",
       "2       -0.484028 -1.464865    -0.325842  \n",
       "3       -0.484028  0.158023     2.677122  \n",
       "4       -1.483688  1.338306    -0.325842  \n",
       "...           ...       ...          ...  \n",
       "2415171  1.515290  0.600629    -0.325842  \n",
       "2415172 -0.983858 -0.579653    -0.325842  \n",
       "2415173 -0.983858 -0.579653    -0.325842  \n",
       "2415174 -0.983858  1.043235    -0.325842  \n",
       "2415175  1.015460  0.895700    -0.325842  \n",
       "\n",
       "[2415176 rows x 15 columns]"
      ],
      "text/html": "<div>\n<style scoped>\n    .dataframe tbody tr th:only-of-type {\n        vertical-align: middle;\n    }\n\n    .dataframe tbody tr th {\n        vertical-align: top;\n    }\n\n    .dataframe thead th {\n        text-align: right;\n    }\n</style>\n<table border=\"1\" class=\"dataframe\">\n  <thead>\n    <tr style=\"text-align: right;\">\n      <th></th>\n      <th>engager_follower_count</th>\n      <th>engager_following_count</th>\n      <th>engager_is_verified</th>\n      <th>engager_account_creation</th>\n      <th>creator_follower_count</th>\n      <th>creator_following_count</th>\n      <th>creator_is_verified</th>\n      <th>creator_account_creation</th>\n      <th>media</th>\n      <th>domains</th>\n      <th>language</th>\n      <th>dt_day</th>\n      <th>dt_dow</th>\n      <th>dt_hour</th>\n      <th>len_domains</th>\n    </tr>\n  </thead>\n  <tbody>\n    <tr>\n      <th>0</th>\n      <td>-0.016188</td>\n      <td>0.451959</td>\n      <td>-0.040119</td>\n      <td>-1.933324</td>\n      <td>-0.117299</td>\n      <td>0.004564</td>\n      <td>2.146180</td>\n      <td>-1.833245</td>\n      <td>-0.747940</td>\n      <td>-0.152439</td>\n      <td>0.694954</td>\n      <td>0.163908</td>\n      <td>-1.483688</td>\n      <td>-0.284583</td>\n      <td>2.677122</td>\n    </tr>\n    <tr>\n      <th>1</th>\n      <td>-0.066643</td>\n      <td>-0.189439</td>\n      <td>-0.040119</td>\n      <td>0.027970</td>\n      <td>-0.167253</td>\n      <td>-0.087572</td>\n      <td>-0.465944</td>\n      <td>1.117240</td>\n      <td>0.822908</td>\n      <td>-0.152960</td>\n      <td>1.488208</td>\n      <td>-1.322572</td>\n      <td>1.015460</td>\n      <td>-1.169794</td>\n      <td>-0.325842</td>\n    </tr>\n    <tr>\n      <th>2</th>\n      <td>-0.076733</td>\n      <td>-0.349495</td>\n      <td>-0.040119</td>\n      <td>0.894618</td>\n      <td>-0.119585</td>\n      <td>-0.105564</td>\n      <td>-0.465944</td>\n      <td>0.630757</td>\n      <td>-0.747940</td>\n      <td>-0.152960</td>\n      <td>-0.732903</td>\n      <td>1.650388</td>\n      <td>-0.484028</td>\n      <td>-1.464865</td>\n      <td>-0.325842</td>\n    </tr>\n    <tr>\n      <th>3</th>\n      <td>-0.044116</td>\n      <td>-0.030555</td>\n      <td>-0.040119</td>\n      <td>0.964114</td>\n      <td>-0.167146</td>\n      <td>-0.091829</td>\n      <td>-0.465944</td>\n      <td>-1.422337</td>\n      <td>-0.747940</td>\n      <td>-0.152179</td>\n      <td>1.488208</td>\n      <td>1.650388</td>\n      <td>-0.484028</td>\n      <td>0.158023</td>\n      <td>2.677122</td>\n    </tr>\n    <tr>\n      <th>4</th>\n      <td>-0.071841</td>\n      <td>-0.256275</td>\n      <td>-0.040119</td>\n      <td>0.526649</td>\n      <td>-0.136839</td>\n      <td>0.056956</td>\n      <td>-0.465944</td>\n      <td>0.805560</td>\n      <td>-0.747940</td>\n      <td>-0.152960</td>\n      <td>-0.732903</td>\n      <td>1.320059</td>\n      <td>-1.483688</td>\n      <td>1.338306</td>\n      <td>-0.325842</td>\n    </tr>\n    <tr>\n      <th>...</th>\n      <td>...</td>\n      <td>...</td>\n      <td>...</td>\n      <td>...</td>\n      <td>...</td>\n      <td>...</td>\n      <td>...</td>\n      <td>...</td>\n      <td>...</td>\n      <td>...</td>\n      <td>...</td>\n      <td>...</td>\n      <td>...</td>\n      <td>...</td>\n      <td>...</td>\n    </tr>\n    <tr>\n      <th>2415171</th>\n      <td>-0.061954</td>\n      <td>-0.088597</td>\n      <td>-0.040119</td>\n      <td>-2.107799</td>\n      <td>-0.164754</td>\n      <td>-0.102674</td>\n      <td>2.146180</td>\n      <td>0.059618</td>\n      <td>1.451248</td>\n      <td>-0.152960</td>\n      <td>-0.732903</td>\n      <td>1.154894</td>\n      <td>1.515290</td>\n      <td>0.600629</td>\n      <td>-0.325842</td>\n    </tr>\n    <tr>\n      <th>2415172</th>\n      <td>-0.029541</td>\n      <td>-0.242791</td>\n      <td>-0.040119</td>\n      <td>-0.915667</td>\n      <td>-0.166091</td>\n      <td>-0.099567</td>\n      <td>-0.465944</td>\n      <td>-0.136592</td>\n      <td>-0.747940</td>\n      <td>-0.152960</td>\n      <td>0.536303</td>\n      <td>-0.827079</td>\n      <td>-0.983858</td>\n      <td>-0.579653</td>\n      <td>-0.325842</td>\n    </tr>\n    <tr>\n      <th>2415173</th>\n      <td>0.022952</td>\n      <td>0.201615</td>\n      <td>-0.040119</td>\n      <td>0.968742</td>\n      <td>-0.166958</td>\n      <td>-0.053701</td>\n      <td>-0.465944</td>\n      <td>1.224800</td>\n      <td>-0.747940</td>\n      <td>-0.152960</td>\n      <td>0.007467</td>\n      <td>0.329072</td>\n      <td>-0.983858</td>\n      <td>-0.579653</td>\n      <td>-0.325842</td>\n    </tr>\n    <tr>\n      <th>2415174</th>\n      <td>-0.046767</td>\n      <td>0.096670</td>\n      <td>-0.040119</td>\n      <td>-0.729357</td>\n      <td>-0.091097</td>\n      <td>-0.096801</td>\n      <td>-0.465944</td>\n      <td>-0.684020</td>\n      <td>0.822908</td>\n      <td>-0.152960</td>\n      <td>0.694954</td>\n      <td>1.485223</td>\n      <td>-0.983858</td>\n      <td>1.043235</td>\n      <td>-0.325842</td>\n    </tr>\n    <tr>\n      <th>2415175</th>\n      <td>-0.050028</td>\n      <td>-0.187680</td>\n      <td>-0.040119</td>\n      <td>-0.457406</td>\n      <td>-0.167242</td>\n      <td>-0.095278</td>\n      <td>-0.465944</td>\n      <td>0.332166</td>\n      <td>-0.747940</td>\n      <td>-0.152960</td>\n      <td>-0.732903</td>\n      <td>-0.166421</td>\n      <td>1.015460</td>\n      <td>0.895700</td>\n      <td>-0.325842</td>\n    </tr>\n  </tbody>\n</table>\n<p>2415176 rows × 15 columns</p>\n</div>"
     },
     "metadata": {},
     "execution_count": 22
    }
   ],
   "source": [
    "X_train"
   ]
  },
  {
   "source": [
    "## Model"
   ],
   "cell_type": "markdown",
   "metadata": {}
  },
  {
   "source": [
    "### Encoder Layer"
   ],
   "cell_type": "markdown",
   "metadata": {}
  },
  {
   "cell_type": "code",
   "execution_count": 23,
   "metadata": {},
   "outputs": [],
   "source": [
    "\n",
    "kargs = {\n",
    "    'model_name': 'auto_encoder',\n",
    "    'input_dim' : X_train.shape[1],\n",
    "    'engager_dim' : 4,\n",
    "    'creator_dim' : 4,\n",
    "    'embedding_dim': 32,\n",
    "    'encoder_dim': 64,\n",
    "    'decoder_dim': 1\n",
    "    \n",
    "}\n"
   ]
  },
  {
   "cell_type": "code",
   "execution_count": 28,
   "metadata": {},
   "outputs": [],
   "source": [
    "class AutoEncoder(tf.keras.models.Model):\n",
    "    def __init__(self, **kargs):\n",
    "        super(AutoEncoder, self).__init__()\n",
    "        \n",
    "        self.input_dim = kargs['input_dim']\n",
    "        self.engager_dim = kargs['engager_dim']\n",
    "        self.creator_dim = kargs['creator_dim']\n",
    "        self.embedding_dim = kargs['embedding_dim']\n",
    "        self.encoder_dim = kargs['encoder_dim']\n",
    "        self.decoder_dim = kargs['decoder_dim']\n",
    "        \n",
    "        # self.engager_embedding = tf.keras.layers.Embedding(input_dim=self.engager_dim, output_dim=self.embedding_dim)\n",
    "        # self.creator_embedding = tf.keras.layers.Embedding(input_dim=self.creator_dim, output_dim=self.embedding_dim)\n",
    "    se(16, activation = 'relu')\n",
    "        self.creator_encoder = tf.keras.layers.Dense(16, activation = 'relu')\n",
    "        self.tweet_encoder = tf.keras.layers.Dense(16, activation = 'relu')\n",
    "        self.encoder = tf.keras.layers.Dense(8, activation = 'relu')\n",
    "        # self.encoder2 = tf.keras.layers.Dense(4, activation = 'relu')\n",
    "        self.decoder = tf.keras.layers.Dense(1, activation = 'relu')\n",
    "    \n",
    "    def call(self, x):\n",
    "        # x1 = self.engager_embedding(x[:,:4])\n",
    "        # x2 = self.creator_embedding(x[:,4:])\n",
    "        \n",
    "        x1 = self.engager_encoder(x[:,:4])\n",
    "        x2 = self.creator_encoder(x[:,4:8])\n",
    "        x3 = self.tweet_encoder(x[:,8:])\n",
    "        x = tf.concat([x1, x2, x3], 1)\n",
    "        x = self.encoder(x)\n",
    "        # x = tf.concat([x, x3], 1)\n",
    "        # x = self.encoder2(x)\n",
    "        x = self.decoder(x)\n",
    "        return x\n",
    "\n",
    "    def summary(self):\n",
    "        inputs = tf.keras.layers.Input((self.input_dim))\n",
    "        tf.keras.models.Model(inputs, self.call(inputs)).summary()\n",
    "    "
   ]
  },
  {
   "cell_type": "code",
   "execution_count": 29,
   "metadata": {},
   "outputs": [],
   "source": [
    "model = AutoEncoder(**kargs)\n"
   ]
  },
  {
   "cell_type": "code",
   "execution_count": 30,
   "metadata": {},
   "outputs": [
    {
     "output_type": "stream",
     "name": "stdout",
     "text": [
      "Model: \"model_1\"\n__________________________________________________________________________________________________\nLayer (type)                    Output Shape         Param #     Connected to                     \n==================================================================================================\ninput_2 (InputLayer)            [(None, 15)]         0                                            \n__________________________________________________________________________________________________\ntf.__operators__.getitem_3 (Sli (None, 4)            0           input_2[0][0]                    \n__________________________________________________________________________________________________\ntf.__operators__.getitem_4 (Sli (None, 4)            0           input_2[0][0]                    \n__________________________________________________________________________________________________\ntf.__operators__.getitem_5 (Sli (None, 7)            0           input_2[0][0]                    \n__________________________________________________________________________________________________\ndense_5 (Dense)                 (None, 16)           80          tf.__operators__.getitem_3[0][0] \n__________________________________________________________________________________________________\ndense_6 (Dense)                 (None, 16)           80          tf.__operators__.getitem_4[0][0] \n__________________________________________________________________________________________________\ndense_7 (Dense)                 (None, 16)           128         tf.__operators__.getitem_5[0][0] \n__________________________________________________________________________________________________\ntf.concat_1 (TFOpLambda)        (None, 48)           0           dense_5[0][0]                    \n                                                                 dense_6[0][0]                    \n                                                                 dense_7[0][0]                    \n__________________________________________________________________________________________________\ndense_8 (Dense)                 (None, 8)            392         tf.concat_1[0][0]                \n__________________________________________________________________________________________________\ndense_9 (Dense)                 (None, 1)            9           dense_8[0][0]                    \n==================================================================================================\nTotal params: 689\nTrainable params: 689\nNon-trainable params: 0\n__________________________________________________________________________________________________\n"
     ]
    }
   ],
   "source": [
    "model.summary()\n",
    "# opt = tf.keras.optimizers.Adam(learning_rate=0.01)\n",
    "model.compile(\n",
    "    optimizer = 'adam', # adam\n",
    "    loss = 'binary_crossentropy', # softmax : sparse_categorical_crossentropy, sigmoid : binary_crossentropy\n",
    "    metrics=['binary_crossentropy'])"
   ]
  },
  {
   "cell_type": "code",
   "execution_count": null,
   "metadata": {},
   "outputs": [],
   "source": []
  },
  {
   "cell_type": "code",
   "execution_count": 31,
   "metadata": {},
   "outputs": [
    {
     "output_type": "stream",
     "name": "stdout",
     "text": [
      "Epoch 1/100\n",
      "75475/75475 [==============================] - 39s 510us/step - loss: 0.7025 - binary_crossentropy: 0.7025 - val_loss: 0.6742 - val_binary_crossentropy: 0.6742\n",
      "Epoch 2/100\n",
      "75475/75475 [==============================] - 38s 508us/step - loss: 0.6741 - binary_crossentropy: 0.6741 - val_loss: 0.6731 - val_binary_crossentropy: 0.6731\n",
      "Epoch 3/100\n",
      "75475/75475 [==============================] - 38s 507us/step - loss: 0.6725 - binary_crossentropy: 0.6725 - val_loss: 0.6685 - val_binary_crossentropy: 0.6685\n",
      "Epoch 4/100\n",
      "75475/75475 [==============================] - 38s 509us/step - loss: 0.6719 - binary_crossentropy: 0.6719 - val_loss: 0.6707 - val_binary_crossentropy: 0.6707\n",
      "Epoch 5/100\n",
      "75475/75475 [==============================] - 38s 509us/step - loss: 0.6711 - binary_crossentropy: 0.6711 - val_loss: 0.6655 - val_binary_crossentropy: 0.6655\n",
      "Epoch 6/100\n",
      "75475/75475 [==============================] - 38s 509us/step - loss: 0.6702 - binary_crossentropy: 0.6702 - val_loss: 0.6791 - val_binary_crossentropy: 0.6791\n",
      "Epoch 7/100\n",
      "75475/75475 [==============================] - 38s 509us/step - loss: 0.6692 - binary_crossentropy: 0.6692 - val_loss: 0.6705 - val_binary_crossentropy: 0.6705\n",
      "Epoch 8/100\n",
      "75475/75475 [==============================] - 38s 508us/step - loss: 0.6690 - binary_crossentropy: 0.6690 - val_loss: 0.6637 - val_binary_crossentropy: 0.6637\n",
      "Epoch 9/100\n",
      "75475/75475 [==============================] - 38s 509us/step - loss: 0.6689 - binary_crossentropy: 0.6689 - val_loss: 0.6634 - val_binary_crossentropy: 0.6634\n",
      "Epoch 10/100\n",
      "75475/75475 [==============================] - 38s 508us/step - loss: 0.6683 - binary_crossentropy: 0.6683 - val_loss: 0.6651 - val_binary_crossentropy: 0.6651\n",
      "Epoch 11/100\n",
      "75475/75475 [==============================] - 39s 510us/step - loss: 0.6684 - binary_crossentropy: 0.6684 - val_loss: 0.6581 - val_binary_crossentropy: 0.6581\n",
      "Epoch 12/100\n",
      "75475/75475 [==============================] - 38s 509us/step - loss: 0.6679 - binary_crossentropy: 0.6679 - val_loss: 0.6631 - val_binary_crossentropy: 0.6631\n",
      "Epoch 13/100\n",
      "75475/75475 [==============================] - 38s 510us/step - loss: 0.6681 - binary_crossentropy: 0.6681 - val_loss: 0.6715 - val_binary_crossentropy: 0.6715\n",
      "Epoch 14/100\n",
      "75475/75475 [==============================] - 38s 510us/step - loss: 0.6680 - binary_crossentropy: 0.6680 - val_loss: 0.6749 - val_binary_crossentropy: 0.6749\n",
      "Epoch 15/100\n",
      "75475/75475 [==============================] - 38s 508us/step - loss: 0.6677 - binary_crossentropy: 0.6677 - val_loss: 0.6673 - val_binary_crossentropy: 0.6673\n",
      "Epoch 16/100\n",
      "75475/75475 [==============================] - 38s 508us/step - loss: 0.6681 - binary_crossentropy: 0.6681 - val_loss: 0.6701 - val_binary_crossentropy: 0.6701\n",
      "Epoch 17/100\n",
      "75475/75475 [==============================] - 38s 506us/step - loss: 0.6680 - binary_crossentropy: 0.6680 - val_loss: 0.6647 - val_binary_crossentropy: 0.6647\n",
      "Epoch 18/100\n",
      "75475/75475 [==============================] - 38s 509us/step - loss: 0.6679 - binary_crossentropy: 0.6679 - val_loss: 0.6642 - val_binary_crossentropy: 0.6642\n",
      "Epoch 19/100\n",
      "75475/75475 [==============================] - 38s 508us/step - loss: 0.6682 - binary_crossentropy: 0.6682 - val_loss: 0.6679 - val_binary_crossentropy: 0.6679\n",
      "Epoch 20/100\n",
      "75475/75475 [==============================] - 39s 512us/step - loss: 0.6675 - binary_crossentropy: 0.6675 - val_loss: 0.6737 - val_binary_crossentropy: 0.6737\n",
      "Epoch 21/100\n",
      "75475/75475 [==============================] - 38s 509us/step - loss: 0.6676 - binary_crossentropy: 0.6676 - val_loss: 0.6630 - val_binary_crossentropy: 0.6630\n",
      "Epoch 22/100\n",
      "75475/75475 [==============================] - 38s 510us/step - loss: 0.6676 - binary_crossentropy: 0.6676 - val_loss: 0.6557 - val_binary_crossentropy: 0.6557\n",
      "Epoch 23/100\n",
      "75475/75475 [==============================] - 39s 511us/step - loss: 0.6680 - binary_crossentropy: 0.6680 - val_loss: 0.6641 - val_binary_crossentropy: 0.6641\n",
      "Epoch 24/100\n",
      "75475/75475 [==============================] - 38s 510us/step - loss: 0.6676 - binary_crossentropy: 0.6676 - val_loss: 0.6650 - val_binary_crossentropy: 0.6650\n",
      "Epoch 25/100\n",
      "75475/75475 [==============================] - 38s 508us/step - loss: 0.6680 - binary_crossentropy: 0.6680 - val_loss: 0.6654 - val_binary_crossentropy: 0.6654\n",
      "Epoch 26/100\n",
      "75475/75475 [==============================] - 38s 507us/step - loss: 0.6674 - binary_crossentropy: 0.6674 - val_loss: 0.6753 - val_binary_crossentropy: 0.6753\n",
      "Epoch 27/100\n",
      "75475/75475 [==============================] - 38s 506us/step - loss: 0.6676 - binary_crossentropy: 0.6676 - val_loss: 0.6628 - val_binary_crossentropy: 0.6628\n",
      "Epoch 28/100\n",
      "75475/75475 [==============================] - 38s 508us/step - loss: 0.6672 - binary_crossentropy: 0.6672 - val_loss: 0.6613 - val_binary_crossentropy: 0.6613\n",
      "Epoch 29/100\n",
      "75475/75475 [==============================] - 38s 508us/step - loss: 0.6673 - binary_crossentropy: 0.6673 - val_loss: 0.6662 - val_binary_crossentropy: 0.6662\n",
      "Epoch 30/100\n",
      "75475/75475 [==============================] - 38s 509us/step - loss: 0.6672 - binary_crossentropy: 0.6672 - val_loss: 0.6647 - val_binary_crossentropy: 0.6647\n",
      "Epoch 31/100\n",
      "75475/75475 [==============================] - 39s 511us/step - loss: 0.6676 - binary_crossentropy: 0.6676 - val_loss: 0.6626 - val_binary_crossentropy: 0.6626\n",
      "Epoch 32/100\n",
      "75475/75475 [==============================] - 38s 509us/step - loss: 0.6678 - binary_crossentropy: 0.6678 - val_loss: 0.6653 - val_binary_crossentropy: 0.6653\n",
      "Epoch 33/100\n",
      "75475/75475 [==============================] - 39s 511us/step - loss: 0.6672 - binary_crossentropy: 0.6672 - val_loss: 0.6674 - val_binary_crossentropy: 0.6674\n",
      "Epoch 34/100\n",
      "75475/75475 [==============================] - 39s 511us/step - loss: 0.6671 - binary_crossentropy: 0.6671 - val_loss: 0.6672 - val_binary_crossentropy: 0.6672\n",
      "Epoch 35/100\n",
      "75475/75475 [==============================] - 38s 508us/step - loss: 0.6676 - binary_crossentropy: 0.6676 - val_loss: 0.6676 - val_binary_crossentropy: 0.6676\n",
      "Epoch 36/100\n",
      "75475/75475 [==============================] - 38s 509us/step - loss: 0.6675 - binary_crossentropy: 0.6675 - val_loss: 0.6707 - val_binary_crossentropy: 0.6707\n",
      "Epoch 37/100\n",
      "75475/75475 [==============================] - 38s 508us/step - loss: 0.6682 - binary_crossentropy: 0.6682 - val_loss: 0.6622 - val_binary_crossentropy: 0.6622\n",
      "Epoch 38/100\n",
      "75475/75475 [==============================] - 38s 509us/step - loss: 0.6676 - binary_crossentropy: 0.6676 - val_loss: 0.6616 - val_binary_crossentropy: 0.6616\n",
      "Epoch 39/100\n",
      "75475/75475 [==============================] - 38s 508us/step - loss: 0.6670 - binary_crossentropy: 0.6670 - val_loss: 0.6627 - val_binary_crossentropy: 0.6627\n",
      "Epoch 40/100\n",
      "75475/75475 [==============================] - 39s 511us/step - loss: 0.6672 - binary_crossentropy: 0.6672 - val_loss: 0.6643 - val_binary_crossentropy: 0.6643\n",
      "Epoch 41/100\n",
      "75475/75475 [==============================] - 38s 509us/step - loss: 0.6687 - binary_crossentropy: 0.6687 - val_loss: 0.6668 - val_binary_crossentropy: 0.6668\n",
      "Epoch 42/100\n",
      "75475/75475 [==============================] - 38s 509us/step - loss: 0.6717 - binary_crossentropy: 0.6717 - val_loss: 0.6857 - val_binary_crossentropy: 0.6857\n",
      "Epoch 43/100\n",
      "75475/75475 [==============================] - 38s 510us/step - loss: 0.6681 - binary_crossentropy: 0.6681 - val_loss: 0.6547 - val_binary_crossentropy: 0.6547\n",
      "Epoch 44/100\n",
      "75475/75475 [==============================] - 38s 509us/step - loss: 0.6670 - binary_crossentropy: 0.6670 - val_loss: 0.6704 - val_binary_crossentropy: 0.6704\n",
      "Epoch 45/100\n",
      "75475/75475 [==============================] - 38s 510us/step - loss: 0.6674 - binary_crossentropy: 0.6674 - val_loss: 0.6670 - val_binary_crossentropy: 0.6670\n",
      "Epoch 46/100\n",
      "75475/75475 [==============================] - 38s 508us/step - loss: 0.6672 - binary_crossentropy: 0.6672 - val_loss: 0.6675 - val_binary_crossentropy: 0.6675\n",
      "Epoch 47/100\n",
      "75475/75475 [==============================] - 38s 507us/step - loss: 0.6676 - binary_crossentropy: 0.6676 - val_loss: 0.6635 - val_binary_crossentropy: 0.6635\n",
      "Epoch 48/100\n",
      "75475/75475 [==============================] - 38s 508us/step - loss: 0.6674 - binary_crossentropy: 0.6674 - val_loss: 0.6637 - val_binary_crossentropy: 0.6637\n",
      "Epoch 49/100\n",
      "75475/75475 [==============================] - 38s 509us/step - loss: 0.6676 - binary_crossentropy: 0.6676 - val_loss: 0.6689 - val_binary_crossentropy: 0.6689\n",
      "Epoch 50/100\n",
      "75475/75475 [==============================] - 38s 510us/step - loss: 0.6677 - binary_crossentropy: 0.6677 - val_loss: 0.6710 - val_binary_crossentropy: 0.6710\n",
      "Epoch 51/100\n",
      "75475/75475 [==============================] - 38s 510us/step - loss: 0.6676 - binary_crossentropy: 0.6676 - val_loss: 0.6690 - val_binary_crossentropy: 0.6690\n",
      "Epoch 52/100\n",
      "75475/75475 [==============================] - 38s 510us/step - loss: 0.6677 - binary_crossentropy: 0.6677 - val_loss: 0.6689 - val_binary_crossentropy: 0.6689\n",
      "Epoch 53/100\n",
      "75475/75475 [==============================] - 38s 510us/step - loss: 0.6674 - binary_crossentropy: 0.6674 - val_loss: 0.6640 - val_binary_crossentropy: 0.6640\n",
      "Epoch 54/100\n",
      "75475/75475 [==============================] - 39s 511us/step - loss: 0.6677 - binary_crossentropy: 0.6677 - val_loss: 0.6607 - val_binary_crossentropy: 0.6607\n",
      "Epoch 55/100\n",
      "75475/75475 [==============================] - 39s 510us/step - loss: 0.6673 - binary_crossentropy: 0.6673 - val_loss: 0.6695 - val_binary_crossentropy: 0.6695\n",
      "Epoch 56/100\n",
      "75475/75475 [==============================] - 39s 510us/step - loss: 0.6671 - binary_crossentropy: 0.6671 - val_loss: 0.6629 - val_binary_crossentropy: 0.6629\n",
      "Epoch 57/100\n",
      "75475/75475 [==============================] - 38s 506us/step - loss: 0.6672 - binary_crossentropy: 0.6672 - val_loss: 0.6654 - val_binary_crossentropy: 0.6654\n",
      "Epoch 58/100\n",
      "75475/75475 [==============================] - 38s 508us/step - loss: 0.6675 - binary_crossentropy: 0.6675 - val_loss: 0.6631 - val_binary_crossentropy: 0.6631\n",
      "Epoch 59/100\n",
      "75475/75475 [==============================] - 38s 508us/step - loss: 0.6681 - binary_crossentropy: 0.6681 - val_loss: 0.6729 - val_binary_crossentropy: 0.6729\n",
      "Epoch 60/100\n",
      "75475/75475 [==============================] - 38s 509us/step - loss: 0.6682 - binary_crossentropy: 0.6682 - val_loss: 0.6717 - val_binary_crossentropy: 0.6717\n",
      "Epoch 61/100\n",
      "75475/75475 [==============================] - 39s 510us/step - loss: 0.6673 - binary_crossentropy: 0.6673 - val_loss: 0.6675 - val_binary_crossentropy: 0.6675\n",
      "Epoch 62/100\n",
      "75475/75475 [==============================] - 38s 508us/step - loss: 0.6677 - binary_crossentropy: 0.6677 - val_loss: 0.6679 - val_binary_crossentropy: 0.6679\n",
      "Epoch 63/100\n",
      "75475/75475 [==============================] - 38s 509us/step - loss: 0.6681 - binary_crossentropy: 0.6681 - val_loss: 0.6609 - val_binary_crossentropy: 0.6609\n",
      "Epoch 64/100\n",
      "75475/75475 [==============================] - 38s 508us/step - loss: 0.6696 - binary_crossentropy: 0.6696 - val_loss: 0.6619 - val_binary_crossentropy: 0.6619\n",
      "Epoch 65/100\n",
      "75475/75475 [==============================] - 39s 511us/step - loss: 0.6677 - binary_crossentropy: 0.6677 - val_loss: 0.6694 - val_binary_crossentropy: 0.6694\n",
      "Epoch 66/100\n",
      "75475/75475 [==============================] - 38s 509us/step - loss: 0.6684 - binary_crossentropy: 0.6684 - val_loss: 0.6667 - val_binary_crossentropy: 0.6667\n",
      "Epoch 67/100\n",
      "75475/75475 [==============================] - 38s 507us/step - loss: 0.6674 - binary_crossentropy: 0.6674 - val_loss: 0.6659 - val_binary_crossentropy: 0.6659\n",
      "Epoch 68/100\n",
      "75475/75475 [==============================] - 38s 507us/step - loss: 0.6678 - binary_crossentropy: 0.6678 - val_loss: 0.6766 - val_binary_crossentropy: 0.6766\n",
      "Epoch 69/100\n",
      "75475/75475 [==============================] - 39s 512us/step - loss: 0.6676 - binary_crossentropy: 0.6676 - val_loss: 0.6622 - val_binary_crossentropy: 0.6622\n",
      "Epoch 70/100\n",
      "75475/75475 [==============================] - 39s 511us/step - loss: 0.6676 - binary_crossentropy: 0.6676 - val_loss: 0.6551 - val_binary_crossentropy: 0.6551\n",
      "Epoch 71/100\n",
      "75475/75475 [==============================] - 38s 510us/step - loss: 0.6674 - binary_crossentropy: 0.6674 - val_loss: 0.6690 - val_binary_crossentropy: 0.6690\n",
      "Epoch 72/100\n",
      "75475/75475 [==============================] - 38s 510us/step - loss: 0.6684 - binary_crossentropy: 0.6684 - val_loss: 0.6654 - val_binary_crossentropy: 0.6654\n",
      "Epoch 73/100\n",
      "75475/75475 [==============================] - 39s 511us/step - loss: 0.6678 - binary_crossentropy: 0.6678 - val_loss: 0.6678 - val_binary_crossentropy: 0.6678\n",
      "Epoch 74/100\n",
      "75475/75475 [==============================] - 38s 510us/step - loss: 0.6676 - binary_crossentropy: 0.6676 - val_loss: 0.6629 - val_binary_crossentropy: 0.6629\n",
      "Epoch 75/100\n",
      "75475/75475 [==============================] - 38s 510us/step - loss: 0.6677 - binary_crossentropy: 0.6677 - val_loss: 0.6736 - val_binary_crossentropy: 0.6736\n",
      "Epoch 76/100\n",
      "75475/75475 [==============================] - 38s 508us/step - loss: 0.6675 - binary_crossentropy: 0.6675 - val_loss: 0.6695 - val_binary_crossentropy: 0.6695\n",
      "Epoch 77/100\n",
      "75475/75475 [==============================] - 38s 508us/step - loss: 0.6676 - binary_crossentropy: 0.6676 - val_loss: 0.6614 - val_binary_crossentropy: 0.6614\n",
      "Epoch 78/100\n",
      "75475/75475 [==============================] - 38s 509us/step - loss: 0.6675 - binary_crossentropy: 0.6675 - val_loss: 0.6709 - val_binary_crossentropy: 0.6709\n",
      "Epoch 79/100\n",
      "75475/75475 [==============================] - 38s 509us/step - loss: 0.6670 - binary_crossentropy: 0.6670 - val_loss: 0.6632 - val_binary_crossentropy: 0.6632\n",
      "Epoch 80/100\n",
      "75475/75475 [==============================] - 38s 510us/step - loss: 0.6676 - binary_crossentropy: 0.6676 - val_loss: 0.6667 - val_binary_crossentropy: 0.6667\n",
      "Epoch 81/100\n",
      "75475/75475 [==============================] - 38s 509us/step - loss: 0.6675 - binary_crossentropy: 0.6675 - val_loss: 0.6545 - val_binary_crossentropy: 0.6545\n",
      "Epoch 82/100\n",
      "75475/75475 [==============================] - 38s 508us/step - loss: 0.6677 - binary_crossentropy: 0.6677 - val_loss: 0.6601 - val_binary_crossentropy: 0.6601\n",
      "Epoch 83/100\n",
      "75475/75475 [==============================] - 38s 509us/step - loss: 0.6677 - binary_crossentropy: 0.6677 - val_loss: 0.6754 - val_binary_crossentropy: 0.6754\n",
      "Epoch 84/100\n",
      "75475/75475 [==============================] - 38s 509us/step - loss: 0.6675 - binary_crossentropy: 0.6675 - val_loss: 0.6684 - val_binary_crossentropy: 0.6684\n",
      "Epoch 85/100\n",
      "75475/75475 [==============================] - 39s 510us/step - loss: 0.6675 - binary_crossentropy: 0.6675 - val_loss: 0.6616 - val_binary_crossentropy: 0.6616\n",
      "Epoch 86/100\n",
      "75475/75475 [==============================] - 38s 509us/step - loss: 0.6673 - binary_crossentropy: 0.6673 - val_loss: 0.6684 - val_binary_crossentropy: 0.6684\n",
      "Epoch 87/100\n",
      "75475/75475 [==============================] - 38s 507us/step - loss: 0.6669 - binary_crossentropy: 0.6669 - val_loss: 0.6673 - val_binary_crossentropy: 0.6673\n",
      "Epoch 88/100\n",
      "75475/75475 [==============================] - 38s 508us/step - loss: 0.6672 - binary_crossentropy: 0.6672 - val_loss: 0.6629 - val_binary_crossentropy: 0.6629\n",
      "Epoch 89/100\n",
      "75475/75475 [==============================] - 38s 506us/step - loss: 0.6666 - binary_crossentropy: 0.6666 - val_loss: 0.6659 - val_binary_crossentropy: 0.6659\n",
      "Epoch 90/100\n",
      "75475/75475 [==============================] - 39s 517us/step - loss: 0.6678 - binary_crossentropy: 0.6678 - val_loss: 0.6646 - val_binary_crossentropy: 0.6646\n",
      "Epoch 91/100\n",
      "75475/75475 [==============================] - 39s 510us/step - loss: 0.6674 - binary_crossentropy: 0.6674 - val_loss: 0.6734 - val_binary_crossentropy: 0.6734\n",
      "Epoch 92/100\n",
      "75475/75475 [==============================] - 38s 502us/step - loss: 0.6677 - binary_crossentropy: 0.6677 - val_loss: 0.6749 - val_binary_crossentropy: 0.6749\n",
      "Epoch 93/100\n",
      "75475/75475 [==============================] - 38s 504us/step - loss: 0.6673 - binary_crossentropy: 0.6673 - val_loss: 0.6619 - val_binary_crossentropy: 0.6619\n",
      "Epoch 94/100\n",
      "75475/75475 [==============================] - 38s 509us/step - loss: 0.6678 - binary_crossentropy: 0.6678 - val_loss: 0.6706 - val_binary_crossentropy: 0.6706\n",
      "Epoch 95/100\n",
      "75475/75475 [==============================] - 38s 504us/step - loss: 0.6670 - binary_crossentropy: 0.6670 - val_loss: 0.6627 - val_binary_crossentropy: 0.6627\n",
      "Epoch 96/100\n",
      "75475/75475 [==============================] - 38s 503us/step - loss: 0.6674 - binary_crossentropy: 0.6674 - val_loss: 0.6728 - val_binary_crossentropy: 0.6728\n",
      "Epoch 97/100\n",
      "75475/75475 [==============================] - 38s 501us/step - loss: 0.6677 - binary_crossentropy: 0.6677 - val_loss: 0.6686 - val_binary_crossentropy: 0.6686\n",
      "Epoch 98/100\n",
      "75475/75475 [==============================] - 38s 501us/step - loss: 0.6671 - binary_crossentropy: 0.6671 - val_loss: 0.6704 - val_binary_crossentropy: 0.6704\n",
      "Epoch 99/100\n",
      "75475/75475 [==============================] - 38s 502us/step - loss: 0.6672 - binary_crossentropy: 0.6672 - val_loss: 0.6582 - val_binary_crossentropy: 0.6582\n",
      "Epoch 100/100\n",
      "75475/75475 [==============================] - 38s 502us/step - loss: 0.6669 - binary_crossentropy: 0.6669 - val_loss: 0.6714 - val_binary_crossentropy: 0.6714\n"
     ]
    }
   ],
   "source": [
    "result = model.fit(\n",
    "    x = X_train.to_numpy(),\n",
    "    y = Y_train.to_numpy(),\n",
    "    validation_data=(X_val.to_numpy(), Y_val.to_numpy()),\n",
    "    epochs=100,\n",
    "    batch_size=32\n",
    ")"
   ]
  },
  {
   "source": [
    "## Evaluate"
   ],
   "cell_type": "markdown",
   "metadata": {}
  },
  {
   "cell_type": "code",
   "execution_count": 32,
   "metadata": {},
   "outputs": [
    {
     "output_type": "display_data",
     "data": {
      "text/plain": "<Figure size 432x288 with 1 Axes>",
      "image/svg+xml": "<?xml version=\"1.0\" encoding=\"utf-8\" standalone=\"no\"?>\n<!DOCTYPE svg PUBLIC \"-//W3C//DTD SVG 1.1//EN\"\n  \"http://www.w3.org/Graphics/SVG/1.1/DTD/svg11.dtd\">\n<!-- Created with matplotlib (https://matplotlib.org/) -->\n<svg height=\"277.314375pt\" version=\"1.1\" viewBox=\"0 0 398.50625 277.314375\" width=\"398.50625pt\" xmlns=\"http://www.w3.org/2000/svg\" xmlns:xlink=\"http://www.w3.org/1999/xlink\">\n <metadata>\n  <rdf:RDF xmlns:cc=\"http://creativecommons.org/ns#\" xmlns:dc=\"http://purl.org/dc/elements/1.1/\" xmlns:rdf=\"http://www.w3.org/1999/02/22-rdf-syntax-ns#\">\n   <cc:Work>\n    <dc:type rdf:resource=\"http://purl.org/dc/dcmitype/StillImage\"/>\n    <dc:date>2021-05-20T16:33:17.906040</dc:date>\n    <dc:format>image/svg+xml</dc:format>\n    <dc:creator>\n     <cc:Agent>\n      <dc:title>Matplotlib v3.3.4, https://matplotlib.org/</dc:title>\n     </cc:Agent>\n    </dc:creator>\n   </cc:Work>\n  </rdf:RDF>\n </metadata>\n <defs>\n  <style type=\"text/css\">*{stroke-linecap:butt;stroke-linejoin:round;}</style>\n </defs>\n <g id=\"figure_1\">\n  <g id=\"patch_1\">\n   <path d=\"M 0 277.314375 \nL 398.50625 277.314375 \nL 398.50625 0 \nL 0 0 \nz\n\" style=\"fill:none;\"/>\n  </g>\n  <g id=\"axes_1\">\n   <g id=\"patch_2\">\n    <path d=\"M 56.50625 239.758125 \nL 391.30625 239.758125 \nL 391.30625 22.318125 \nL 56.50625 22.318125 \nz\n\" style=\"fill:#ffffff;\"/>\n   </g>\n   <g id=\"matplotlib.axis_1\">\n    <g id=\"xtick_1\">\n     <g id=\"line2d_1\">\n      <defs>\n       <path d=\"M 0 0 \nL 0 3.5 \n\" id=\"m25c77a7df0\" style=\"stroke:#000000;stroke-width:0.8;\"/>\n      </defs>\n      <g>\n       <use style=\"stroke:#000000;stroke-width:0.8;\" x=\"71.724432\" xlink:href=\"#m25c77a7df0\" y=\"239.758125\"/>\n      </g>\n     </g>\n     <g id=\"text_1\">\n      <!-- 0 -->\n      <g transform=\"translate(68.543182 254.356562)scale(0.1 -0.1)\">\n       <defs>\n        <path d=\"M 31.78125 66.40625 \nQ 24.171875 66.40625 20.328125 58.90625 \nQ 16.5 51.421875 16.5 36.375 \nQ 16.5 21.390625 20.328125 13.890625 \nQ 24.171875 6.390625 31.78125 6.390625 \nQ 39.453125 6.390625 43.28125 13.890625 \nQ 47.125 21.390625 47.125 36.375 \nQ 47.125 51.421875 43.28125 58.90625 \nQ 39.453125 66.40625 31.78125 66.40625 \nz\nM 31.78125 74.21875 \nQ 44.046875 74.21875 50.515625 64.515625 \nQ 56.984375 54.828125 56.984375 36.375 \nQ 56.984375 17.96875 50.515625 8.265625 \nQ 44.046875 -1.421875 31.78125 -1.421875 \nQ 19.53125 -1.421875 13.0625 8.265625 \nQ 6.59375 17.96875 6.59375 36.375 \nQ 6.59375 54.828125 13.0625 64.515625 \nQ 19.53125 74.21875 31.78125 74.21875 \nz\n\" id=\"DejaVuSans-48\"/>\n       </defs>\n       <use xlink:href=\"#DejaVuSans-48\"/>\n      </g>\n     </g>\n    </g>\n    <g id=\"xtick_2\">\n     <g id=\"line2d_2\">\n      <g>\n       <use style=\"stroke:#000000;stroke-width:0.8;\" x=\"133.212035\" xlink:href=\"#m25c77a7df0\" y=\"239.758125\"/>\n      </g>\n     </g>\n     <g id=\"text_2\">\n      <!-- 20 -->\n      <g transform=\"translate(126.849535 254.356562)scale(0.1 -0.1)\">\n       <defs>\n        <path d=\"M 19.1875 8.296875 \nL 53.609375 8.296875 \nL 53.609375 0 \nL 7.328125 0 \nL 7.328125 8.296875 \nQ 12.9375 14.109375 22.625 23.890625 \nQ 32.328125 33.6875 34.8125 36.53125 \nQ 39.546875 41.84375 41.421875 45.53125 \nQ 43.3125 49.21875 43.3125 52.78125 \nQ 43.3125 58.59375 39.234375 62.25 \nQ 35.15625 65.921875 28.609375 65.921875 \nQ 23.96875 65.921875 18.8125 64.3125 \nQ 13.671875 62.703125 7.8125 59.421875 \nL 7.8125 69.390625 \nQ 13.765625 71.78125 18.9375 73 \nQ 24.125 74.21875 28.421875 74.21875 \nQ 39.75 74.21875 46.484375 68.546875 \nQ 53.21875 62.890625 53.21875 53.421875 \nQ 53.21875 48.921875 51.53125 44.890625 \nQ 49.859375 40.875 45.40625 35.40625 \nQ 44.1875 33.984375 37.640625 27.21875 \nQ 31.109375 20.453125 19.1875 8.296875 \nz\n\" id=\"DejaVuSans-50\"/>\n       </defs>\n       <use xlink:href=\"#DejaVuSans-50\"/>\n       <use x=\"63.623047\" xlink:href=\"#DejaVuSans-48\"/>\n      </g>\n     </g>\n    </g>\n    <g id=\"xtick_3\">\n     <g id=\"line2d_3\">\n      <g>\n       <use style=\"stroke:#000000;stroke-width:0.8;\" x=\"194.699638\" xlink:href=\"#m25c77a7df0\" y=\"239.758125\"/>\n      </g>\n     </g>\n     <g id=\"text_3\">\n      <!-- 40 -->\n      <g transform=\"translate(188.337138 254.356562)scale(0.1 -0.1)\">\n       <defs>\n        <path d=\"M 37.796875 64.3125 \nL 12.890625 25.390625 \nL 37.796875 25.390625 \nz\nM 35.203125 72.90625 \nL 47.609375 72.90625 \nL 47.609375 25.390625 \nL 58.015625 25.390625 \nL 58.015625 17.1875 \nL 47.609375 17.1875 \nL 47.609375 0 \nL 37.796875 0 \nL 37.796875 17.1875 \nL 4.890625 17.1875 \nL 4.890625 26.703125 \nz\n\" id=\"DejaVuSans-52\"/>\n       </defs>\n       <use xlink:href=\"#DejaVuSans-52\"/>\n       <use x=\"63.623047\" xlink:href=\"#DejaVuSans-48\"/>\n      </g>\n     </g>\n    </g>\n    <g id=\"xtick_4\">\n     <g id=\"line2d_4\">\n      <g>\n       <use style=\"stroke:#000000;stroke-width:0.8;\" x=\"256.187242\" xlink:href=\"#m25c77a7df0\" y=\"239.758125\"/>\n      </g>\n     </g>\n     <g id=\"text_4\">\n      <!-- 60 -->\n      <g transform=\"translate(249.824742 254.356562)scale(0.1 -0.1)\">\n       <defs>\n        <path d=\"M 33.015625 40.375 \nQ 26.375 40.375 22.484375 35.828125 \nQ 18.609375 31.296875 18.609375 23.390625 \nQ 18.609375 15.53125 22.484375 10.953125 \nQ 26.375 6.390625 33.015625 6.390625 \nQ 39.65625 6.390625 43.53125 10.953125 \nQ 47.40625 15.53125 47.40625 23.390625 \nQ 47.40625 31.296875 43.53125 35.828125 \nQ 39.65625 40.375 33.015625 40.375 \nz\nM 52.59375 71.296875 \nL 52.59375 62.3125 \nQ 48.875 64.0625 45.09375 64.984375 \nQ 41.3125 65.921875 37.59375 65.921875 \nQ 27.828125 65.921875 22.671875 59.328125 \nQ 17.53125 52.734375 16.796875 39.40625 \nQ 19.671875 43.65625 24.015625 45.921875 \nQ 28.375 48.1875 33.59375 48.1875 \nQ 44.578125 48.1875 50.953125 41.515625 \nQ 57.328125 34.859375 57.328125 23.390625 \nQ 57.328125 12.15625 50.6875 5.359375 \nQ 44.046875 -1.421875 33.015625 -1.421875 \nQ 20.359375 -1.421875 13.671875 8.265625 \nQ 6.984375 17.96875 6.984375 36.375 \nQ 6.984375 53.65625 15.1875 63.9375 \nQ 23.390625 74.21875 37.203125 74.21875 \nQ 40.921875 74.21875 44.703125 73.484375 \nQ 48.484375 72.75 52.59375 71.296875 \nz\n\" id=\"DejaVuSans-54\"/>\n       </defs>\n       <use xlink:href=\"#DejaVuSans-54\"/>\n       <use x=\"63.623047\" xlink:href=\"#DejaVuSans-48\"/>\n      </g>\n     </g>\n    </g>\n    <g id=\"xtick_5\">\n     <g id=\"line2d_5\">\n      <g>\n       <use style=\"stroke:#000000;stroke-width:0.8;\" x=\"317.674845\" xlink:href=\"#m25c77a7df0\" y=\"239.758125\"/>\n      </g>\n     </g>\n     <g id=\"text_5\">\n      <!-- 80 -->\n      <g transform=\"translate(311.312345 254.356562)scale(0.1 -0.1)\">\n       <defs>\n        <path d=\"M 31.78125 34.625 \nQ 24.75 34.625 20.71875 30.859375 \nQ 16.703125 27.09375 16.703125 20.515625 \nQ 16.703125 13.921875 20.71875 10.15625 \nQ 24.75 6.390625 31.78125 6.390625 \nQ 38.8125 6.390625 42.859375 10.171875 \nQ 46.921875 13.96875 46.921875 20.515625 \nQ 46.921875 27.09375 42.890625 30.859375 \nQ 38.875 34.625 31.78125 34.625 \nz\nM 21.921875 38.8125 \nQ 15.578125 40.375 12.03125 44.71875 \nQ 8.5 49.078125 8.5 55.328125 \nQ 8.5 64.0625 14.71875 69.140625 \nQ 20.953125 74.21875 31.78125 74.21875 \nQ 42.671875 74.21875 48.875 69.140625 \nQ 55.078125 64.0625 55.078125 55.328125 \nQ 55.078125 49.078125 51.53125 44.71875 \nQ 48 40.375 41.703125 38.8125 \nQ 48.828125 37.15625 52.796875 32.3125 \nQ 56.78125 27.484375 56.78125 20.515625 \nQ 56.78125 9.90625 50.3125 4.234375 \nQ 43.84375 -1.421875 31.78125 -1.421875 \nQ 19.734375 -1.421875 13.25 4.234375 \nQ 6.78125 9.90625 6.78125 20.515625 \nQ 6.78125 27.484375 10.78125 32.3125 \nQ 14.796875 37.15625 21.921875 38.8125 \nz\nM 18.3125 54.390625 \nQ 18.3125 48.734375 21.84375 45.5625 \nQ 25.390625 42.390625 31.78125 42.390625 \nQ 38.140625 42.390625 41.71875 45.5625 \nQ 45.3125 48.734375 45.3125 54.390625 \nQ 45.3125 60.0625 41.71875 63.234375 \nQ 38.140625 66.40625 31.78125 66.40625 \nQ 25.390625 66.40625 21.84375 63.234375 \nQ 18.3125 60.0625 18.3125 54.390625 \nz\n\" id=\"DejaVuSans-56\"/>\n       </defs>\n       <use xlink:href=\"#DejaVuSans-56\"/>\n       <use x=\"63.623047\" xlink:href=\"#DejaVuSans-48\"/>\n      </g>\n     </g>\n    </g>\n    <g id=\"xtick_6\">\n     <g id=\"line2d_6\">\n      <g>\n       <use style=\"stroke:#000000;stroke-width:0.8;\" x=\"379.162448\" xlink:href=\"#m25c77a7df0\" y=\"239.758125\"/>\n      </g>\n     </g>\n     <g id=\"text_6\">\n      <!-- 100 -->\n      <g transform=\"translate(369.618698 254.356562)scale(0.1 -0.1)\">\n       <defs>\n        <path d=\"M 12.40625 8.296875 \nL 28.515625 8.296875 \nL 28.515625 63.921875 \nL 10.984375 60.40625 \nL 10.984375 69.390625 \nL 28.421875 72.90625 \nL 38.28125 72.90625 \nL 38.28125 8.296875 \nL 54.390625 8.296875 \nL 54.390625 0 \nL 12.40625 0 \nz\n\" id=\"DejaVuSans-49\"/>\n       </defs>\n       <use xlink:href=\"#DejaVuSans-49\"/>\n       <use x=\"63.623047\" xlink:href=\"#DejaVuSans-48\"/>\n       <use x=\"127.246094\" xlink:href=\"#DejaVuSans-48\"/>\n      </g>\n     </g>\n    </g>\n    <g id=\"text_7\">\n     <!-- epoch -->\n     <g transform=\"translate(208.678125 268.034687)scale(0.1 -0.1)\">\n      <defs>\n       <path d=\"M 56.203125 29.59375 \nL 56.203125 25.203125 \nL 14.890625 25.203125 \nQ 15.484375 15.921875 20.484375 11.0625 \nQ 25.484375 6.203125 34.421875 6.203125 \nQ 39.59375 6.203125 44.453125 7.46875 \nQ 49.3125 8.734375 54.109375 11.28125 \nL 54.109375 2.78125 \nQ 49.265625 0.734375 44.1875 -0.34375 \nQ 39.109375 -1.421875 33.890625 -1.421875 \nQ 20.796875 -1.421875 13.15625 6.1875 \nQ 5.515625 13.8125 5.515625 26.8125 \nQ 5.515625 40.234375 12.765625 48.109375 \nQ 20.015625 56 32.328125 56 \nQ 43.359375 56 49.78125 48.890625 \nQ 56.203125 41.796875 56.203125 29.59375 \nz\nM 47.21875 32.234375 \nQ 47.125 39.59375 43.09375 43.984375 \nQ 39.0625 48.390625 32.421875 48.390625 \nQ 24.90625 48.390625 20.390625 44.140625 \nQ 15.875 39.890625 15.1875 32.171875 \nz\n\" id=\"DejaVuSans-101\"/>\n       <path d=\"M 18.109375 8.203125 \nL 18.109375 -20.796875 \nL 9.078125 -20.796875 \nL 9.078125 54.6875 \nL 18.109375 54.6875 \nL 18.109375 46.390625 \nQ 20.953125 51.265625 25.265625 53.625 \nQ 29.59375 56 35.59375 56 \nQ 45.5625 56 51.78125 48.09375 \nQ 58.015625 40.1875 58.015625 27.296875 \nQ 58.015625 14.40625 51.78125 6.484375 \nQ 45.5625 -1.421875 35.59375 -1.421875 \nQ 29.59375 -1.421875 25.265625 0.953125 \nQ 20.953125 3.328125 18.109375 8.203125 \nz\nM 48.6875 27.296875 \nQ 48.6875 37.203125 44.609375 42.84375 \nQ 40.53125 48.484375 33.40625 48.484375 \nQ 26.265625 48.484375 22.1875 42.84375 \nQ 18.109375 37.203125 18.109375 27.296875 \nQ 18.109375 17.390625 22.1875 11.75 \nQ 26.265625 6.109375 33.40625 6.109375 \nQ 40.53125 6.109375 44.609375 11.75 \nQ 48.6875 17.390625 48.6875 27.296875 \nz\n\" id=\"DejaVuSans-112\"/>\n       <path d=\"M 30.609375 48.390625 \nQ 23.390625 48.390625 19.1875 42.75 \nQ 14.984375 37.109375 14.984375 27.296875 \nQ 14.984375 17.484375 19.15625 11.84375 \nQ 23.34375 6.203125 30.609375 6.203125 \nQ 37.796875 6.203125 41.984375 11.859375 \nQ 46.1875 17.53125 46.1875 27.296875 \nQ 46.1875 37.015625 41.984375 42.703125 \nQ 37.796875 48.390625 30.609375 48.390625 \nz\nM 30.609375 56 \nQ 42.328125 56 49.015625 48.375 \nQ 55.71875 40.765625 55.71875 27.296875 \nQ 55.71875 13.875 49.015625 6.21875 \nQ 42.328125 -1.421875 30.609375 -1.421875 \nQ 18.84375 -1.421875 12.171875 6.21875 \nQ 5.515625 13.875 5.515625 27.296875 \nQ 5.515625 40.765625 12.171875 48.375 \nQ 18.84375 56 30.609375 56 \nz\n\" id=\"DejaVuSans-111\"/>\n       <path d=\"M 48.78125 52.59375 \nL 48.78125 44.1875 \nQ 44.96875 46.296875 41.140625 47.34375 \nQ 37.3125 48.390625 33.40625 48.390625 \nQ 24.65625 48.390625 19.8125 42.84375 \nQ 14.984375 37.3125 14.984375 27.296875 \nQ 14.984375 17.28125 19.8125 11.734375 \nQ 24.65625 6.203125 33.40625 6.203125 \nQ 37.3125 6.203125 41.140625 7.25 \nQ 44.96875 8.296875 48.78125 10.40625 \nL 48.78125 2.09375 \nQ 45.015625 0.34375 40.984375 -0.53125 \nQ 36.96875 -1.421875 32.421875 -1.421875 \nQ 20.0625 -1.421875 12.78125 6.34375 \nQ 5.515625 14.109375 5.515625 27.296875 \nQ 5.515625 40.671875 12.859375 48.328125 \nQ 20.21875 56 33.015625 56 \nQ 37.15625 56 41.109375 55.140625 \nQ 45.0625 54.296875 48.78125 52.59375 \nz\n\" id=\"DejaVuSans-99\"/>\n       <path d=\"M 54.890625 33.015625 \nL 54.890625 0 \nL 45.90625 0 \nL 45.90625 32.71875 \nQ 45.90625 40.484375 42.875 44.328125 \nQ 39.84375 48.1875 33.796875 48.1875 \nQ 26.515625 48.1875 22.3125 43.546875 \nQ 18.109375 38.921875 18.109375 30.90625 \nL 18.109375 0 \nL 9.078125 0 \nL 9.078125 75.984375 \nL 18.109375 75.984375 \nL 18.109375 46.1875 \nQ 21.34375 51.125 25.703125 53.5625 \nQ 30.078125 56 35.796875 56 \nQ 45.21875 56 50.046875 50.171875 \nQ 54.890625 44.34375 54.890625 33.015625 \nz\n\" id=\"DejaVuSans-104\"/>\n      </defs>\n      <use xlink:href=\"#DejaVuSans-101\"/>\n      <use x=\"61.523438\" xlink:href=\"#DejaVuSans-112\"/>\n      <use x=\"125\" xlink:href=\"#DejaVuSans-111\"/>\n      <use x=\"186.181641\" xlink:href=\"#DejaVuSans-99\"/>\n      <use x=\"241.162109\" xlink:href=\"#DejaVuSans-104\"/>\n     </g>\n    </g>\n   </g>\n   <g id=\"matplotlib.axis_2\">\n    <g id=\"ytick_1\">\n     <g id=\"line2d_7\">\n      <defs>\n       <path d=\"M 0 0 \nL -3.5 0 \n\" id=\"m281adf2fa5\" style=\"stroke:#000000;stroke-width:0.8;\"/>\n      </defs>\n      <g>\n       <use style=\"stroke:#000000;stroke-width:0.8;\" x=\"56.50625\" xlink:href=\"#m281adf2fa5\" y=\"226.975944\"/>\n      </g>\n     </g>\n     <g id=\"text_8\">\n      <!-- 0.655 -->\n      <g transform=\"translate(20.878125 230.775163)scale(0.1 -0.1)\">\n       <defs>\n        <path d=\"M 10.6875 12.40625 \nL 21 12.40625 \nL 21 0 \nL 10.6875 0 \nz\n\" id=\"DejaVuSans-46\"/>\n        <path d=\"M 10.796875 72.90625 \nL 49.515625 72.90625 \nL 49.515625 64.59375 \nL 19.828125 64.59375 \nL 19.828125 46.734375 \nQ 21.96875 47.46875 24.109375 47.828125 \nQ 26.265625 48.1875 28.421875 48.1875 \nQ 40.625 48.1875 47.75 41.5 \nQ 54.890625 34.8125 54.890625 23.390625 \nQ 54.890625 11.625 47.5625 5.09375 \nQ 40.234375 -1.421875 26.90625 -1.421875 \nQ 22.3125 -1.421875 17.546875 -0.640625 \nQ 12.796875 0.140625 7.71875 1.703125 \nL 7.71875 11.625 \nQ 12.109375 9.234375 16.796875 8.0625 \nQ 21.484375 6.890625 26.703125 6.890625 \nQ 35.15625 6.890625 40.078125 11.328125 \nQ 45.015625 15.765625 45.015625 23.390625 \nQ 45.015625 31 40.078125 35.4375 \nQ 35.15625 39.890625 26.703125 39.890625 \nQ 22.75 39.890625 18.8125 39.015625 \nQ 14.890625 38.140625 10.796875 36.28125 \nz\n\" id=\"DejaVuSans-53\"/>\n       </defs>\n       <use xlink:href=\"#DejaVuSans-48\"/>\n       <use x=\"63.623047\" xlink:href=\"#DejaVuSans-46\"/>\n       <use x=\"95.410156\" xlink:href=\"#DejaVuSans-54\"/>\n       <use x=\"159.033203\" xlink:href=\"#DejaVuSans-53\"/>\n       <use x=\"222.65625\" xlink:href=\"#DejaVuSans-53\"/>\n      </g>\n     </g>\n    </g>\n    <g id=\"ytick_2\">\n     <g id=\"line2d_8\">\n      <g>\n       <use style=\"stroke:#000000;stroke-width:0.8;\" x=\"56.50625\" xlink:href=\"#m281adf2fa5\" y=\"195.223001\"/>\n      </g>\n     </g>\n     <g id=\"text_9\">\n      <!-- 0.660 -->\n      <g transform=\"translate(20.878125 199.02222)scale(0.1 -0.1)\">\n       <use xlink:href=\"#DejaVuSans-48\"/>\n       <use x=\"63.623047\" xlink:href=\"#DejaVuSans-46\"/>\n       <use x=\"95.410156\" xlink:href=\"#DejaVuSans-54\"/>\n       <use x=\"159.033203\" xlink:href=\"#DejaVuSans-54\"/>\n       <use x=\"222.65625\" xlink:href=\"#DejaVuSans-48\"/>\n      </g>\n     </g>\n    </g>\n    <g id=\"ytick_3\">\n     <g id=\"line2d_9\">\n      <g>\n       <use style=\"stroke:#000000;stroke-width:0.8;\" x=\"56.50625\" xlink:href=\"#m281adf2fa5\" y=\"163.470058\"/>\n      </g>\n     </g>\n     <g id=\"text_10\">\n      <!-- 0.665 -->\n      <g transform=\"translate(20.878125 167.269277)scale(0.1 -0.1)\">\n       <use xlink:href=\"#DejaVuSans-48\"/>\n       <use x=\"63.623047\" xlink:href=\"#DejaVuSans-46\"/>\n       <use x=\"95.410156\" xlink:href=\"#DejaVuSans-54\"/>\n       <use x=\"159.033203\" xlink:href=\"#DejaVuSans-54\"/>\n       <use x=\"222.65625\" xlink:href=\"#DejaVuSans-53\"/>\n      </g>\n     </g>\n    </g>\n    <g id=\"ytick_4\">\n     <g id=\"line2d_10\">\n      <g>\n       <use style=\"stroke:#000000;stroke-width:0.8;\" x=\"56.50625\" xlink:href=\"#m281adf2fa5\" y=\"131.717115\"/>\n      </g>\n     </g>\n     <g id=\"text_11\">\n      <!-- 0.670 -->\n      <g transform=\"translate(20.878125 135.516334)scale(0.1 -0.1)\">\n       <defs>\n        <path d=\"M 8.203125 72.90625 \nL 55.078125 72.90625 \nL 55.078125 68.703125 \nL 28.609375 0 \nL 18.3125 0 \nL 43.21875 64.59375 \nL 8.203125 64.59375 \nz\n\" id=\"DejaVuSans-55\"/>\n       </defs>\n       <use xlink:href=\"#DejaVuSans-48\"/>\n       <use x=\"63.623047\" xlink:href=\"#DejaVuSans-46\"/>\n       <use x=\"95.410156\" xlink:href=\"#DejaVuSans-54\"/>\n       <use x=\"159.033203\" xlink:href=\"#DejaVuSans-55\"/>\n       <use x=\"222.65625\" xlink:href=\"#DejaVuSans-48\"/>\n      </g>\n     </g>\n    </g>\n    <g id=\"ytick_5\">\n     <g id=\"line2d_11\">\n      <g>\n       <use style=\"stroke:#000000;stroke-width:0.8;\" x=\"56.50625\" xlink:href=\"#m281adf2fa5\" y=\"99.964172\"/>\n      </g>\n     </g>\n     <g id=\"text_12\">\n      <!-- 0.675 -->\n      <g transform=\"translate(20.878125 103.76339)scale(0.1 -0.1)\">\n       <use xlink:href=\"#DejaVuSans-48\"/>\n       <use x=\"63.623047\" xlink:href=\"#DejaVuSans-46\"/>\n       <use x=\"95.410156\" xlink:href=\"#DejaVuSans-54\"/>\n       <use x=\"159.033203\" xlink:href=\"#DejaVuSans-55\"/>\n       <use x=\"222.65625\" xlink:href=\"#DejaVuSans-53\"/>\n      </g>\n     </g>\n    </g>\n    <g id=\"ytick_6\">\n     <g id=\"line2d_12\">\n      <g>\n       <use style=\"stroke:#000000;stroke-width:0.8;\" x=\"56.50625\" xlink:href=\"#m281adf2fa5\" y=\"68.211229\"/>\n      </g>\n     </g>\n     <g id=\"text_13\">\n      <!-- 0.680 -->\n      <g transform=\"translate(20.878125 72.010447)scale(0.1 -0.1)\">\n       <use xlink:href=\"#DejaVuSans-48\"/>\n       <use x=\"63.623047\" xlink:href=\"#DejaVuSans-46\"/>\n       <use x=\"95.410156\" xlink:href=\"#DejaVuSans-54\"/>\n       <use x=\"159.033203\" xlink:href=\"#DejaVuSans-56\"/>\n       <use x=\"222.65625\" xlink:href=\"#DejaVuSans-48\"/>\n      </g>\n     </g>\n    </g>\n    <g id=\"ytick_7\">\n     <g id=\"line2d_13\">\n      <g>\n       <use style=\"stroke:#000000;stroke-width:0.8;\" x=\"56.50625\" xlink:href=\"#m281adf2fa5\" y=\"36.458285\"/>\n      </g>\n     </g>\n     <g id=\"text_14\">\n      <!-- 0.685 -->\n      <g transform=\"translate(20.878125 40.257504)scale(0.1 -0.1)\">\n       <use xlink:href=\"#DejaVuSans-48\"/>\n       <use x=\"63.623047\" xlink:href=\"#DejaVuSans-46\"/>\n       <use x=\"95.410156\" xlink:href=\"#DejaVuSans-54\"/>\n       <use x=\"159.033203\" xlink:href=\"#DejaVuSans-56\"/>\n       <use x=\"222.65625\" xlink:href=\"#DejaVuSans-53\"/>\n      </g>\n     </g>\n    </g>\n    <g id=\"text_15\">\n     <!-- loss -->\n     <g transform=\"translate(14.798438 140.695937)rotate(-90)scale(0.1 -0.1)\">\n      <defs>\n       <path d=\"M 9.421875 75.984375 \nL 18.40625 75.984375 \nL 18.40625 0 \nL 9.421875 0 \nz\n\" id=\"DejaVuSans-108\"/>\n       <path d=\"M 44.28125 53.078125 \nL 44.28125 44.578125 \nQ 40.484375 46.53125 36.375 47.5 \nQ 32.28125 48.484375 27.875 48.484375 \nQ 21.1875 48.484375 17.84375 46.4375 \nQ 14.5 44.390625 14.5 40.28125 \nQ 14.5 37.15625 16.890625 35.375 \nQ 19.28125 33.59375 26.515625 31.984375 \nL 29.59375 31.296875 \nQ 39.15625 29.25 43.1875 25.515625 \nQ 47.21875 21.78125 47.21875 15.09375 \nQ 47.21875 7.46875 41.1875 3.015625 \nQ 35.15625 -1.421875 24.609375 -1.421875 \nQ 20.21875 -1.421875 15.453125 -0.5625 \nQ 10.6875 0.296875 5.421875 2 \nL 5.421875 11.28125 \nQ 10.40625 8.6875 15.234375 7.390625 \nQ 20.0625 6.109375 24.8125 6.109375 \nQ 31.15625 6.109375 34.5625 8.28125 \nQ 37.984375 10.453125 37.984375 14.40625 \nQ 37.984375 18.0625 35.515625 20.015625 \nQ 33.0625 21.96875 24.703125 23.78125 \nL 21.578125 24.515625 \nQ 13.234375 26.265625 9.515625 29.90625 \nQ 5.8125 33.546875 5.8125 39.890625 \nQ 5.8125 47.609375 11.28125 51.796875 \nQ 16.75 56 26.8125 56 \nQ 31.78125 56 36.171875 55.265625 \nQ 40.578125 54.546875 44.28125 53.078125 \nz\n\" id=\"DejaVuSans-115\"/>\n      </defs>\n      <use xlink:href=\"#DejaVuSans-108\"/>\n      <use x=\"27.783203\" xlink:href=\"#DejaVuSans-111\"/>\n      <use x=\"88.964844\" xlink:href=\"#DejaVuSans-115\"/>\n      <use x=\"141.064453\" xlink:href=\"#DejaVuSans-115\"/>\n     </g>\n    </g>\n   </g>\n   <g id=\"line2d_14\">\n    <path clip-path=\"url(#p5966e26995)\" d=\"M 71.724432 49.576797 \nL 74.798812 109.88144 \nL 77.873192 117.894048 \nL 80.947572 122.139958 \nL 84.021952 124.978136 \nL 87.096333 131.60648 \nL 90.170713 135.376963 \nL 93.245093 138.342325 \nL 96.319473 141.114639 \nL 99.393853 142.563631 \nL 102.468233 141.077165 \nL 105.542614 144.792005 \nL 108.616994 143.613658 \nL 111.691374 143.359289 \nL 114.765754 145.352978 \nL 117.840134 144.381306 \nL 120.914514 145.372283 \nL 123.988895 146.205794 \nL 127.063275 145.994956 \nL 130.137655 146.465841 \nL 133.212035 145.687973 \nL 136.286415 145.201947 \nL 139.360795 147.376949 \nL 142.435176 146.005176 \nL 145.509556 147.119552 \nL 148.583936 148.063971 \nL 151.658316 149.00839 \nL 154.732696 148.181314 \nL 157.807076 148.097281 \nL 160.881457 146.800078 \nL 163.955837 148.540912 \nL 167.030217 147.241816 \nL 170.104597 150.141693 \nL 173.178977 149.372531 \nL 176.253357 146.964736 \nL 179.327738 145.21406 \nL 182.402118 142.25589 \nL 185.476498 149.342627 \nL 188.550878 150.01413 \nL 191.625258 149.40357 \nL 194.699638 126.057309 \nL 197.774019 136.397844 \nL 200.848399 144.410074 \nL 203.922779 147.842534 \nL 206.997159 148.315312 \nL 210.071539 148.909974 \nL 213.145919 148.311148 \nL 216.2203 146.08883 \nL 219.29468 149.034508 \nL 222.36906 147.575296 \nL 225.44344 146.282256 \nL 228.51782 147.054825 \nL 231.5922 146.025238 \nL 234.666581 148.185856 \nL 237.740961 148.470507 \nL 240.815341 148.674153 \nL 243.889721 148.289193 \nL 246.964101 147.78992 \nL 250.038481 142.929664 \nL 253.112862 146.403763 \nL 256.187242 146.9636 \nL 259.261622 145.720526 \nL 262.336002 138.997551 \nL 265.410382 139.896925 \nL 268.484762 145.541862 \nL 271.559143 140.51127 \nL 274.633523 147.440163 \nL 277.707903 144.839699 \nL 280.782283 145.526343 \nL 283.856663 146.346227 \nL 286.931043 147.450383 \nL 290.005424 140.532468 \nL 293.079804 145.97338 \nL 296.154184 146.756169 \nL 299.228564 147.123338 \nL 302.302944 148.423948 \nL 305.377324 146.351905 \nL 308.451705 145.938934 \nL 311.526085 149.11097 \nL 314.600465 145.696679 \nL 317.674845 148.449688 \nL 320.749225 144.933573 \nL 323.823605 147.224782 \nL 326.897986 147.539715 \nL 329.972366 148.171851 \nL 333.046746 149.627656 \nL 336.121126 150.285532 \nL 339.195506 149.412276 \nL 342.269886 152.259159 \nL 345.344267 146.279228 \nL 348.418647 146.885246 \nL 351.493027 146.789479 \nL 354.567407 149.052678 \nL 357.641787 148.094632 \nL 360.716167 149.359282 \nL 363.790548 148.684752 \nL 366.864928 146.915906 \nL 369.939308 148.440982 \nL 373.013688 146.831117 \nL 376.088068 149.01861 \n\" style=\"fill:none;stroke:#1f77b4;stroke-linecap:square;stroke-width:1.5;\"/>\n   </g>\n   <g id=\"line2d_15\">\n    <path clip-path=\"url(#p5966e26995)\" d=\"M 71.724432 104.934124 \nL 74.798812 112.194604 \nL 77.873192 141.046504 \nL 80.947572 127.441574 \nL 84.021952 160.50191 \nL 87.096333 73.851199 \nL 90.170713 128.390913 \nL 93.245093 171.867868 \nL 96.319473 173.88654 \nL 99.393853 162.676913 \nL 102.468233 207.044536 \nL 105.542614 175.748881 \nL 108.616994 121.917765 \nL 111.691374 100.878233 \nL 114.765754 148.957289 \nL 117.840134 131.300632 \nL 120.914514 165.527203 \nL 123.988895 168.703781 \nL 127.063275 144.810931 \nL 130.137655 107.976704 \nL 133.212035 176.153902 \nL 136.286415 222.453514 \nL 139.360795 169.204569 \nL 142.435176 163.418821 \nL 145.509556 161.205209 \nL 148.583936 98.347417 \nL 151.658316 177.483659 \nL 154.732696 187.018314 \nL 157.807076 155.664745 \nL 160.881457 165.535909 \nL 163.955837 178.618475 \nL 167.030217 161.525062 \nL 170.104597 148.459908 \nL 173.178977 149.659074 \nL 176.253357 146.65586 \nL 179.327738 126.95517 \nL 182.402118 181.096297 \nL 185.476498 185.348264 \nL 188.550878 178.080592 \nL 191.625258 167.966037 \nL 194.699638 152.011226 \nL 197.774019 32.201761 \nL 200.848399 228.86837 \nL 203.922779 128.99466 \nL 206.997159 151.06605 \nL 210.071539 147.694531 \nL 213.145919 172.874365 \nL 216.2203 171.580946 \nL 219.29468 138.548242 \nL 222.36906 125.627684 \nL 225.44344 138.351031 \nL 228.51782 138.532344 \nL 231.5922 169.847682 \nL 234.666581 190.933394 \nL 237.740961 134.858384 \nL 240.815341 176.721689 \nL 243.889721 160.71237 \nL 246.964101 175.757965 \nL 250.038481 113.133345 \nL 253.112862 120.658792 \nL 256.187242 147.847077 \nL 259.261622 144.854461 \nL 262.336002 189.670636 \nL 265.410382 183.351168 \nL 268.484762 135.233124 \nL 271.559143 152.579391 \nL 274.633523 157.6414 \nL 277.707903 90.110723 \nL 280.782283 181.381326 \nL 283.856663 226.524168 \nL 286.931043 137.846457 \nL 290.005424 160.776719 \nL 293.079804 145.791688 \nL 296.154184 176.546432 \nL 299.228564 109.138396 \nL 302.302944 134.731579 \nL 305.377324 186.055726 \nL 308.451705 126.115981 \nL 311.526085 175.21289 \nL 314.600465 152.803099 \nL 317.674845 229.874489 \nL 320.749225 194.55436 \nL 323.823605 97.621786 \nL 326.897986 141.876987 \nL 329.972366 184.858075 \nL 333.046746 141.945121 \nL 336.121126 149.075768 \nL 339.195506 177.045327 \nL 342.269886 157.848832 \nL 345.344267 166.034804 \nL 348.418647 110.268671 \nL 351.493027 100.335807 \nL 354.567407 183.368959 \nL 357.641787 128.092636 \nL 360.716167 178.278182 \nL 363.790548 114.105017 \nL 366.864928 140.720973 \nL 369.939308 128.99201 \nL 373.013688 206.919623 \nL 376.088068 122.812975 \n\" style=\"fill:none;stroke:#ff7f0e;stroke-linecap:square;stroke-width:1.5;\"/>\n   </g>\n   <g id=\"patch_3\">\n    <path d=\"M 56.50625 239.758125 \nL 56.50625 22.318125 \n\" style=\"fill:none;stroke:#000000;stroke-linecap:square;stroke-linejoin:miter;stroke-width:0.8;\"/>\n   </g>\n   <g id=\"patch_4\">\n    <path d=\"M 391.30625 239.758125 \nL 391.30625 22.318125 \n\" style=\"fill:none;stroke:#000000;stroke-linecap:square;stroke-linejoin:miter;stroke-width:0.8;\"/>\n   </g>\n   <g id=\"patch_5\">\n    <path d=\"M 56.50625 239.758125 \nL 391.30625 239.758125 \n\" style=\"fill:none;stroke:#000000;stroke-linecap:square;stroke-linejoin:miter;stroke-width:0.8;\"/>\n   </g>\n   <g id=\"patch_6\">\n    <path d=\"M 56.50625 22.318125 \nL 391.30625 22.318125 \n\" style=\"fill:none;stroke:#000000;stroke-linecap:square;stroke-linejoin:miter;stroke-width:0.8;\"/>\n   </g>\n   <g id=\"text_16\">\n    <!-- model accuracy -->\n    <g transform=\"translate(176.244687 16.318125)scale(0.12 -0.12)\">\n     <defs>\n      <path d=\"M 52 44.1875 \nQ 55.375 50.25 60.0625 53.125 \nQ 64.75 56 71.09375 56 \nQ 79.640625 56 84.28125 50.015625 \nQ 88.921875 44.046875 88.921875 33.015625 \nL 88.921875 0 \nL 79.890625 0 \nL 79.890625 32.71875 \nQ 79.890625 40.578125 77.09375 44.375 \nQ 74.3125 48.1875 68.609375 48.1875 \nQ 61.625 48.1875 57.5625 43.546875 \nQ 53.515625 38.921875 53.515625 30.90625 \nL 53.515625 0 \nL 44.484375 0 \nL 44.484375 32.71875 \nQ 44.484375 40.625 41.703125 44.40625 \nQ 38.921875 48.1875 33.109375 48.1875 \nQ 26.21875 48.1875 22.15625 43.53125 \nQ 18.109375 38.875 18.109375 30.90625 \nL 18.109375 0 \nL 9.078125 0 \nL 9.078125 54.6875 \nL 18.109375 54.6875 \nL 18.109375 46.1875 \nQ 21.1875 51.21875 25.484375 53.609375 \nQ 29.78125 56 35.6875 56 \nQ 41.65625 56 45.828125 52.96875 \nQ 50 49.953125 52 44.1875 \nz\n\" id=\"DejaVuSans-109\"/>\n      <path d=\"M 45.40625 46.390625 \nL 45.40625 75.984375 \nL 54.390625 75.984375 \nL 54.390625 0 \nL 45.40625 0 \nL 45.40625 8.203125 \nQ 42.578125 3.328125 38.25 0.953125 \nQ 33.9375 -1.421875 27.875 -1.421875 \nQ 17.96875 -1.421875 11.734375 6.484375 \nQ 5.515625 14.40625 5.515625 27.296875 \nQ 5.515625 40.1875 11.734375 48.09375 \nQ 17.96875 56 27.875 56 \nQ 33.9375 56 38.25 53.625 \nQ 42.578125 51.265625 45.40625 46.390625 \nz\nM 14.796875 27.296875 \nQ 14.796875 17.390625 18.875 11.75 \nQ 22.953125 6.109375 30.078125 6.109375 \nQ 37.203125 6.109375 41.296875 11.75 \nQ 45.40625 17.390625 45.40625 27.296875 \nQ 45.40625 37.203125 41.296875 42.84375 \nQ 37.203125 48.484375 30.078125 48.484375 \nQ 22.953125 48.484375 18.875 42.84375 \nQ 14.796875 37.203125 14.796875 27.296875 \nz\n\" id=\"DejaVuSans-100\"/>\n      <path id=\"DejaVuSans-32\"/>\n      <path d=\"M 34.28125 27.484375 \nQ 23.390625 27.484375 19.1875 25 \nQ 14.984375 22.515625 14.984375 16.5 \nQ 14.984375 11.71875 18.140625 8.90625 \nQ 21.296875 6.109375 26.703125 6.109375 \nQ 34.1875 6.109375 38.703125 11.40625 \nQ 43.21875 16.703125 43.21875 25.484375 \nL 43.21875 27.484375 \nz\nM 52.203125 31.203125 \nL 52.203125 0 \nL 43.21875 0 \nL 43.21875 8.296875 \nQ 40.140625 3.328125 35.546875 0.953125 \nQ 30.953125 -1.421875 24.3125 -1.421875 \nQ 15.921875 -1.421875 10.953125 3.296875 \nQ 6 8.015625 6 15.921875 \nQ 6 25.140625 12.171875 29.828125 \nQ 18.359375 34.515625 30.609375 34.515625 \nL 43.21875 34.515625 \nL 43.21875 35.40625 \nQ 43.21875 41.609375 39.140625 45 \nQ 35.0625 48.390625 27.6875 48.390625 \nQ 23 48.390625 18.546875 47.265625 \nQ 14.109375 46.140625 10.015625 43.890625 \nL 10.015625 52.203125 \nQ 14.9375 54.109375 19.578125 55.046875 \nQ 24.21875 56 28.609375 56 \nQ 40.484375 56 46.34375 49.84375 \nQ 52.203125 43.703125 52.203125 31.203125 \nz\n\" id=\"DejaVuSans-97\"/>\n      <path d=\"M 8.5 21.578125 \nL 8.5 54.6875 \nL 17.484375 54.6875 \nL 17.484375 21.921875 \nQ 17.484375 14.15625 20.5 10.265625 \nQ 23.53125 6.390625 29.59375 6.390625 \nQ 36.859375 6.390625 41.078125 11.03125 \nQ 45.3125 15.671875 45.3125 23.6875 \nL 45.3125 54.6875 \nL 54.296875 54.6875 \nL 54.296875 0 \nL 45.3125 0 \nL 45.3125 8.40625 \nQ 42.046875 3.421875 37.71875 1 \nQ 33.40625 -1.421875 27.6875 -1.421875 \nQ 18.265625 -1.421875 13.375 4.4375 \nQ 8.5 10.296875 8.5 21.578125 \nz\nM 31.109375 56 \nz\n\" id=\"DejaVuSans-117\"/>\n      <path d=\"M 41.109375 46.296875 \nQ 39.59375 47.171875 37.8125 47.578125 \nQ 36.03125 48 33.890625 48 \nQ 26.265625 48 22.1875 43.046875 \nQ 18.109375 38.09375 18.109375 28.8125 \nL 18.109375 0 \nL 9.078125 0 \nL 9.078125 54.6875 \nL 18.109375 54.6875 \nL 18.109375 46.1875 \nQ 20.953125 51.171875 25.484375 53.578125 \nQ 30.03125 56 36.53125 56 \nQ 37.453125 56 38.578125 55.875 \nQ 39.703125 55.765625 41.0625 55.515625 \nz\n\" id=\"DejaVuSans-114\"/>\n      <path d=\"M 32.171875 -5.078125 \nQ 28.375 -14.84375 24.75 -17.8125 \nQ 21.140625 -20.796875 15.09375 -20.796875 \nL 7.90625 -20.796875 \nL 7.90625 -13.28125 \nL 13.1875 -13.28125 \nQ 16.890625 -13.28125 18.9375 -11.515625 \nQ 21 -9.765625 23.484375 -3.21875 \nL 25.09375 0.875 \nL 2.984375 54.6875 \nL 12.5 54.6875 \nL 29.59375 11.921875 \nL 46.6875 54.6875 \nL 56.203125 54.6875 \nz\n\" id=\"DejaVuSans-121\"/>\n     </defs>\n     <use xlink:href=\"#DejaVuSans-109\"/>\n     <use x=\"97.412109\" xlink:href=\"#DejaVuSans-111\"/>\n     <use x=\"158.59375\" xlink:href=\"#DejaVuSans-100\"/>\n     <use x=\"222.070312\" xlink:href=\"#DejaVuSans-101\"/>\n     <use x=\"283.59375\" xlink:href=\"#DejaVuSans-108\"/>\n     <use x=\"311.376953\" xlink:href=\"#DejaVuSans-32\"/>\n     <use x=\"343.164062\" xlink:href=\"#DejaVuSans-97\"/>\n     <use x=\"404.443359\" xlink:href=\"#DejaVuSans-99\"/>\n     <use x=\"459.423828\" xlink:href=\"#DejaVuSans-99\"/>\n     <use x=\"514.404297\" xlink:href=\"#DejaVuSans-117\"/>\n     <use x=\"577.783203\" xlink:href=\"#DejaVuSans-114\"/>\n     <use x=\"618.896484\" xlink:href=\"#DejaVuSans-97\"/>\n     <use x=\"680.175781\" xlink:href=\"#DejaVuSans-99\"/>\n     <use x=\"735.15625\" xlink:href=\"#DejaVuSans-121\"/>\n    </g>\n   </g>\n   <g id=\"legend_1\">\n    <g id=\"patch_7\">\n     <path d=\"M 63.50625 59.674375 \nL 118.78125 59.674375 \nQ 120.78125 59.674375 120.78125 57.674375 \nL 120.78125 29.318125 \nQ 120.78125 27.318125 118.78125 27.318125 \nL 63.50625 27.318125 \nQ 61.50625 27.318125 61.50625 29.318125 \nL 61.50625 57.674375 \nQ 61.50625 59.674375 63.50625 59.674375 \nz\n\" style=\"fill:#ffffff;opacity:0.8;stroke:#cccccc;stroke-linejoin:miter;\"/>\n    </g>\n    <g id=\"line2d_16\">\n     <path d=\"M 65.50625 35.416562 \nL 85.50625 35.416562 \n\" style=\"fill:none;stroke:#1f77b4;stroke-linecap:square;stroke-width:1.5;\"/>\n    </g>\n    <g id=\"line2d_17\"/>\n    <g id=\"text_17\">\n     <!-- train -->\n     <g transform=\"translate(93.50625 38.916562)scale(0.1 -0.1)\">\n      <defs>\n       <path d=\"M 18.3125 70.21875 \nL 18.3125 54.6875 \nL 36.8125 54.6875 \nL 36.8125 47.703125 \nL 18.3125 47.703125 \nL 18.3125 18.015625 \nQ 18.3125 11.328125 20.140625 9.421875 \nQ 21.96875 7.515625 27.59375 7.515625 \nL 36.8125 7.515625 \nL 36.8125 0 \nL 27.59375 0 \nQ 17.1875 0 13.234375 3.875 \nQ 9.28125 7.765625 9.28125 18.015625 \nL 9.28125 47.703125 \nL 2.6875 47.703125 \nL 2.6875 54.6875 \nL 9.28125 54.6875 \nL 9.28125 70.21875 \nz\n\" id=\"DejaVuSans-116\"/>\n       <path d=\"M 9.421875 54.6875 \nL 18.40625 54.6875 \nL 18.40625 0 \nL 9.421875 0 \nz\nM 9.421875 75.984375 \nL 18.40625 75.984375 \nL 18.40625 64.59375 \nL 9.421875 64.59375 \nz\n\" id=\"DejaVuSans-105\"/>\n       <path d=\"M 54.890625 33.015625 \nL 54.890625 0 \nL 45.90625 0 \nL 45.90625 32.71875 \nQ 45.90625 40.484375 42.875 44.328125 \nQ 39.84375 48.1875 33.796875 48.1875 \nQ 26.515625 48.1875 22.3125 43.546875 \nQ 18.109375 38.921875 18.109375 30.90625 \nL 18.109375 0 \nL 9.078125 0 \nL 9.078125 54.6875 \nL 18.109375 54.6875 \nL 18.109375 46.1875 \nQ 21.34375 51.125 25.703125 53.5625 \nQ 30.078125 56 35.796875 56 \nQ 45.21875 56 50.046875 50.171875 \nQ 54.890625 44.34375 54.890625 33.015625 \nz\n\" id=\"DejaVuSans-110\"/>\n      </defs>\n      <use xlink:href=\"#DejaVuSans-116\"/>\n      <use x=\"39.208984\" xlink:href=\"#DejaVuSans-114\"/>\n      <use x=\"80.322266\" xlink:href=\"#DejaVuSans-97\"/>\n      <use x=\"141.601562\" xlink:href=\"#DejaVuSans-105\"/>\n      <use x=\"169.384766\" xlink:href=\"#DejaVuSans-110\"/>\n     </g>\n    </g>\n    <g id=\"line2d_18\">\n     <path d=\"M 65.50625 50.094687 \nL 85.50625 50.094687 \n\" style=\"fill:none;stroke:#ff7f0e;stroke-linecap:square;stroke-width:1.5;\"/>\n    </g>\n    <g id=\"line2d_19\"/>\n    <g id=\"text_18\">\n     <!-- val -->\n     <g transform=\"translate(93.50625 53.594687)scale(0.1 -0.1)\">\n      <defs>\n       <path d=\"M 2.984375 54.6875 \nL 12.5 54.6875 \nL 29.59375 8.796875 \nL 46.6875 54.6875 \nL 56.203125 54.6875 \nL 35.6875 0 \nL 23.484375 0 \nz\n\" id=\"DejaVuSans-118\"/>\n      </defs>\n      <use xlink:href=\"#DejaVuSans-118\"/>\n      <use x=\"59.179688\" xlink:href=\"#DejaVuSans-97\"/>\n      <use x=\"120.458984\" xlink:href=\"#DejaVuSans-108\"/>\n     </g>\n    </g>\n   </g>\n  </g>\n </g>\n <defs>\n  <clipPath id=\"p5966e26995\">\n   <rect height=\"217.44\" width=\"334.8\" x=\"56.50625\" y=\"22.318125\"/>\n  </clipPath>\n </defs>\n</svg>\n",
      "image/png": "[encoded data removed]"
     },
     "metadata": {
      "needs_background": "light"
     }
    }
   ],
   "source": [
    "plt.plot(result.history['binary_crossentropy'])\n",
    "plt.plot(result.history['val_binary_crossentropy'])\n",
    "plt.title('model accuracy')\n",
    "plt.ylabel('loss')\n",
    "plt.xlabel('epoch')\n",
    "plt.legend(['train', 'val'], loc='upper left')\n",
    "plt.show()\n"
   ]
  },
  {
   "cell_type": "code",
   "execution_count": 33,
   "metadata": {},
   "outputs": [],
   "source": [
    "pred = model.predict(X_test)"
   ]
  },
  {
   "cell_type": "code",
   "execution_count": 34,
   "metadata": {},
   "outputs": [
    {
     "output_type": "execute_result",
     "data": {
      "text/plain": [
       "array([0.2746909 , 0.7501384 , 0.49416184, ..., 0.5209321 , 0.12342066,\n",
       "       0.48787028], dtype=float32)"
      ]
     },
     "metadata": {},
     "execution_count": 34
    }
   ],
   "source": [
    "pred.reshape(-1)"
   ]
  },
  {
   "cell_type": "code",
   "execution_count": 35,
   "metadata": {},
   "outputs": [
    {
     "output_type": "execute_result",
     "data": {
      "text/plain": [
       "-0.737607555765929"
      ]
     },
     "metadata": {},
     "execution_count": 35
    }
   ],
   "source": [
    "rce = compute_rce(pred.astype(np.float64), Y_test.astype(np.float64))\n",
    "rce"
   ]
  },
  {
   "cell_type": "code",
   "execution_count": 36,
   "metadata": {},
   "outputs": [
    {
     "output_type": "execute_result",
     "data": {
      "text/plain": [
       "0.5110658509405345"
      ]
     },
     "metadata": {},
     "execution_count": 36
    }
   ],
   "source": [
    "average_precision_score(Y_test, pred)"
   ]
  },
  {
   "cell_type": "code",
   "execution_count": null,
   "metadata": {},
   "outputs": [],
   "source": []
  }
 ]
}