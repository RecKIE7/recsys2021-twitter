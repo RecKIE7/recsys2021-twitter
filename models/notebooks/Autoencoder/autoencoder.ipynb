{
 "metadata": {
  "language_info": {
   "codemirror_mode": {
    "name": "ipython",
    "version": 3
   },
   "file_extension": ".py",
   "mimetype": "text/x-python",
   "name": "python",
   "nbconvert_exporter": "python",
   "pygments_lexer": "ipython3",
   "version": "3.8.8"
  },
  "orig_nbformat": 2,
  "kernelspec": {
   "name": "python388jvsc74a57bd0ae065c56e262e6694ecb174f95b527853807b9a02b7a5d470fad054d1e0ab874",
   "display_name": "Python 3.8.8 64-bit ('recsys': conda)"
  }
 },
 "nbformat": 4,
 "nbformat_minor": 2,
 "cells": [
  {
   "cell_type": "code",
   "execution_count": 8,
   "metadata": {},
   "outputs": [],
   "source": [
    "import sys\n",
    "sys.path.append('../../..')\n",
    "\n",
    "import numpy as np\n",
    "import matplotlib.pyplot as plt\n",
    "import pandas as pd\n",
    "from tqdm import tqdm\n",
    "import tensorflow as tf\n",
    "from sklearn import preprocessing\n",
    "from utils.evaluate import calculate_ctr, compute_rce, average_precision_score\n",
    "from sklearn.model_selection import train_test_split\n",
    "from utils.dataset import Dataset\n",
    "\n",
    "\n",
    "from utils.preprocessing import *\n",
    "import core.config as conf"
   ]
  },
  {
   "source": [
    "## Load data "
   ],
   "cell_type": "markdown",
   "metadata": {}
  },
  {
   "cell_type": "code",
   "execution_count": 9,
   "metadata": {},
   "outputs": [],
   "source": [
    "train_data_path = conf.dataset_path + 'part-210204-2'\n",
    "train_df = read_data(train_data_path)"
   ]
  },
  {
   "cell_type": "code",
   "execution_count": 10,
   "metadata": {},
   "outputs": [
    {
     "output_type": "execute_result",
     "data": {
      "text/plain": [
       "                                         text_tokens  \\\n",
       "0  101\\t56898\\t137\\t146\\t92317\\t80092\\t10341\\t101...   \n",
       "1  101\\t14120\\t131\\t120\\t120\\t188\\t119\\t11170\\t12...   \n",
       "2  101\\t56898\\t137\\t147\\t92161\\t32792\\t44026\\t381...   \n",
       "3  101\\t10117\\t108\\t10339\\t20799\\t10943\\t60036\\t1...   \n",
       "4  101\\t56898\\t137\\t19556\\t10237\\t11355\\t19986\\t1...   \n",
       "\n",
       "                                            hashtags  \\\n",
       "0  43A368EE393CD9AFD640D8E9D97F9117\\tF7DAF7DDB9A9...   \n",
       "1                                                NaN   \n",
       "2                                                NaN   \n",
       "3                   0ED93216A8842FECE9F5ADA917FC159A   \n",
       "4                                                NaN   \n",
       "\n",
       "                           tweet_id                       media links domains  \\\n",
       "0  A7EAACD487F59B850B49F6F694261887                       Video   NaN     NaN   \n",
       "1  9F128BDCF151A483EF11EB319473BE44                Photo\\tPhoto   NaN     NaN   \n",
       "2  F8AB716F01EF3B2E3D07A62A30347B5C                         NaN   NaN     NaN   \n",
       "3  784A93DE671CA4D15286A09C8124C6AB  Photo\\tPhoto\\tPhoto\\tPhoto   NaN     NaN   \n",
       "4  D0C06B49E844FBD9C64F938759A2E5FF                         NaN   NaN     NaN   \n",
       "\n",
       "  tweet_type                          language  tweet_timestamp  \\\n",
       "0    Retweet  488B32D24BD4BB44172EB981C1BCA6FA       1612451187   \n",
       "1   TopLevel  313ECD3A1E5BB07406E4249475C2D6D6       1612443885   \n",
       "2    Retweet  9FCF19233EAD65EA6E32C2E6DC03A444       1612427814   \n",
       "3   TopLevel  488B32D24BD4BB44172EB981C1BCA6FA       1612412744   \n",
       "4    Retweet  488B32D24BD4BB44172EB981C1BCA6FA       1612482791   \n",
       "\n",
       "                         creator_id  ...                        engager_id  \\\n",
       "0  375D72BD560D848C2D5425130DD35CD2  ...  9F191E0EF45CC3491FC7AD1C29D203B9   \n",
       "1  C02B819378BD51A39B6341E4017FF481  ...  82FBB3B5150270FBFC4AC0EAAA6A541E   \n",
       "2  E68E0C6533173D179FF4E867027AF68D  ...  04FCA727D001288BAD09B48C80EC4F77   \n",
       "3  9C7E5A54E672CC8278B25F1FBF4F910B  ...  181F3FE296817603354FF850B885EEF8   \n",
       "4  EC601AB42FE914EDE8EC092714AAE38B  ...  72063E9607EE7B14CCB24CBCF0B1FE90   \n",
       "\n",
       "   engager_follower_count  engager_following_count  engager_is_verified  \\\n",
       "0                     128                      450                False   \n",
       "1                      10                      646                False   \n",
       "2                     132                      226                False   \n",
       "3                      75                      193                False   \n",
       "4                     958                      196                False   \n",
       "\n",
       "  engager_account_creation  creator_follows_engager  reply_timestamp  \\\n",
       "0               1425269499                     True              NaN   \n",
       "1               1544363412                    False              NaN   \n",
       "2               1549597072                    False              NaN   \n",
       "3               1570785840                    False              NaN   \n",
       "4               1585271012                     True              NaN   \n",
       "\n",
       "   retweet_timestamp  comment_timestamp  like_timestamp  \n",
       "0       1.612454e+09                NaN    1.612454e+09  \n",
       "1                NaN                NaN             NaN  \n",
       "2       1.612428e+09                NaN             NaN  \n",
       "3                NaN                NaN    1.612417e+09  \n",
       "4                NaN                NaN             NaN  \n",
       "\n",
       "[5 rows x 24 columns]"
      ],
      "text/html": "<div>\n<style scoped>\n    .dataframe tbody tr th:only-of-type {\n        vertical-align: middle;\n    }\n\n    .dataframe tbody tr th {\n        vertical-align: top;\n    }\n\n    .dataframe thead th {\n        text-align: right;\n    }\n</style>\n<table border=\"1\" class=\"dataframe\">\n  <thead>\n    <tr style=\"text-align: right;\">\n      <th></th>\n      <th>text_tokens</th>\n      <th>hashtags</th>\n      <th>tweet_id</th>\n      <th>media</th>\n      <th>links</th>\n      <th>domains</th>\n      <th>tweet_type</th>\n      <th>language</th>\n      <th>tweet_timestamp</th>\n      <th>creator_id</th>\n      <th>...</th>\n      <th>engager_id</th>\n      <th>engager_follower_count</th>\n      <th>engager_following_count</th>\n      <th>engager_is_verified</th>\n      <th>engager_account_creation</th>\n      <th>creator_follows_engager</th>\n      <th>reply_timestamp</th>\n      <th>retweet_timestamp</th>\n      <th>comment_timestamp</th>\n      <th>like_timestamp</th>\n    </tr>\n  </thead>\n  <tbody>\n    <tr>\n      <th>0</th>\n      <td>101\\t56898\\t137\\t146\\t92317\\t80092\\t10341\\t101...</td>\n      <td>43A368EE393CD9AFD640D8E9D97F9117\\tF7DAF7DDB9A9...</td>\n      <td>A7EAACD487F59B850B49F6F694261887</td>\n      <td>Video</td>\n      <td>NaN</td>\n      <td>NaN</td>\n      <td>Retweet</td>\n      <td>488B32D24BD4BB44172EB981C1BCA6FA</td>\n      <td>1612451187</td>\n      <td>375D72BD560D848C2D5425130DD35CD2</td>\n      <td>...</td>\n      <td>9F191E0EF45CC3491FC7AD1C29D203B9</td>\n      <td>128</td>\n      <td>450</td>\n      <td>False</td>\n      <td>1425269499</td>\n      <td>True</td>\n      <td>NaN</td>\n      <td>1.612454e+09</td>\n      <td>NaN</td>\n      <td>1.612454e+09</td>\n    </tr>\n    <tr>\n      <th>1</th>\n      <td>101\\t14120\\t131\\t120\\t120\\t188\\t119\\t11170\\t12...</td>\n      <td>NaN</td>\n      <td>9F128BDCF151A483EF11EB319473BE44</td>\n      <td>Photo\\tPhoto</td>\n      <td>NaN</td>\n      <td>NaN</td>\n      <td>TopLevel</td>\n      <td>313ECD3A1E5BB07406E4249475C2D6D6</td>\n      <td>1612443885</td>\n      <td>C02B819378BD51A39B6341E4017FF481</td>\n      <td>...</td>\n      <td>82FBB3B5150270FBFC4AC0EAAA6A541E</td>\n      <td>10</td>\n      <td>646</td>\n      <td>False</td>\n      <td>1544363412</td>\n      <td>False</td>\n      <td>NaN</td>\n      <td>NaN</td>\n      <td>NaN</td>\n      <td>NaN</td>\n    </tr>\n    <tr>\n      <th>2</th>\n      <td>101\\t56898\\t137\\t147\\t92161\\t32792\\t44026\\t381...</td>\n      <td>NaN</td>\n      <td>F8AB716F01EF3B2E3D07A62A30347B5C</td>\n      <td>NaN</td>\n      <td>NaN</td>\n      <td>NaN</td>\n      <td>Retweet</td>\n      <td>9FCF19233EAD65EA6E32C2E6DC03A444</td>\n      <td>1612427814</td>\n      <td>E68E0C6533173D179FF4E867027AF68D</td>\n      <td>...</td>\n      <td>04FCA727D001288BAD09B48C80EC4F77</td>\n      <td>132</td>\n      <td>226</td>\n      <td>False</td>\n      <td>1549597072</td>\n      <td>False</td>\n      <td>NaN</td>\n      <td>1.612428e+09</td>\n      <td>NaN</td>\n      <td>NaN</td>\n    </tr>\n    <tr>\n      <th>3</th>\n      <td>101\\t10117\\t108\\t10339\\t20799\\t10943\\t60036\\t1...</td>\n      <td>0ED93216A8842FECE9F5ADA917FC159A</td>\n      <td>784A93DE671CA4D15286A09C8124C6AB</td>\n      <td>Photo\\tPhoto\\tPhoto\\tPhoto</td>\n      <td>NaN</td>\n      <td>NaN</td>\n      <td>TopLevel</td>\n      <td>488B32D24BD4BB44172EB981C1BCA6FA</td>\n      <td>1612412744</td>\n      <td>9C7E5A54E672CC8278B25F1FBF4F910B</td>\n      <td>...</td>\n      <td>181F3FE296817603354FF850B885EEF8</td>\n      <td>75</td>\n      <td>193</td>\n      <td>False</td>\n      <td>1570785840</td>\n      <td>False</td>\n      <td>NaN</td>\n      <td>NaN</td>\n      <td>NaN</td>\n      <td>1.612417e+09</td>\n    </tr>\n    <tr>\n      <th>4</th>\n      <td>101\\t56898\\t137\\t19556\\t10237\\t11355\\t19986\\t1...</td>\n      <td>NaN</td>\n      <td>D0C06B49E844FBD9C64F938759A2E5FF</td>\n      <td>NaN</td>\n      <td>NaN</td>\n      <td>NaN</td>\n      <td>Retweet</td>\n      <td>488B32D24BD4BB44172EB981C1BCA6FA</td>\n      <td>1612482791</td>\n      <td>EC601AB42FE914EDE8EC092714AAE38B</td>\n      <td>...</td>\n      <td>72063E9607EE7B14CCB24CBCF0B1FE90</td>\n      <td>958</td>\n      <td>196</td>\n      <td>False</td>\n      <td>1585271012</td>\n      <td>True</td>\n      <td>NaN</td>\n      <td>NaN</td>\n      <td>NaN</td>\n      <td>NaN</td>\n    </tr>\n  </tbody>\n</table>\n<p>5 rows × 24 columns</p>\n</div>"
     },
     "metadata": {},
     "execution_count": 10
    }
   ],
   "source": [
    "train_df.head()"
   ]
  },
  {
   "cell_type": "code",
   "execution_count": 11,
   "metadata": {},
   "outputs": [],
   "source": [
    "val_data_path = conf.dataset_path + 'part-210205-2'\n",
    "val_df = read_data(val_data_path)"
   ]
  },
  {
   "cell_type": "code",
   "execution_count": 12,
   "metadata": {},
   "outputs": [
    {
     "output_type": "execute_result",
     "data": {
      "text/plain": [
       "Index(['text_tokens', 'hashtags', 'tweet_id', 'media', 'links', 'domains',\n",
       "       'tweet_type', 'language', 'tweet_timestamp', 'creator_id',\n",
       "       'creator_follower_count', 'creator_following_count',\n",
       "       'creator_is_verified', 'creator_account_creation', 'engager_id',\n",
       "       'engager_follower_count', 'engager_following_count',\n",
       "       'engager_is_verified', 'engager_account_creation',\n",
       "       'creator_follows_engager', 'reply_timestamp', 'retweet_timestamp',\n",
       "       'comment_timestamp', 'like_timestamp'],\n",
       "      dtype='object')"
      ]
     },
     "metadata": {},
     "execution_count": 12
    }
   ],
   "source": [
    "train_df.columns"
   ]
  },
  {
   "source": [
    "## Parameters"
   ],
   "cell_type": "markdown",
   "metadata": {}
  },
  {
   "cell_type": "code",
   "execution_count": 13,
   "metadata": {},
   "outputs": [],
   "source": [
    "MODEL_NAME = 'autoencoder_test'\n",
    "BATCH_SIZE = 2\n",
    "MAX_SEQUENCE = 25\n",
    "EPOCH = 30\n",
    "UNITS = 1024\n",
    "EMBEDDING_DIM = 256\n",
    "VALIDATION_SPLIT = 0.1 "
   ]
  },
  {
   "source": [
    "## Preprocessing"
   ],
   "cell_type": "markdown",
   "metadata": {}
  },
  {
   "source": [
    "### dataset preprocess"
   ],
   "cell_type": "markdown",
   "metadata": {}
  },
  {
   "cell_type": "code",
   "execution_count": 15,
   "metadata": {},
   "outputs": [],
   "source": [
    "ds = Dataset(train=True, target_encoding=False)\n",
    "train_df = ds.preprocess(train_df)\n",
    "val_df = ds.preprocess(val_df)"
   ]
  },
  {
   "source": [
    "### negative samping"
   ],
   "cell_type": "markdown",
   "metadata": {}
  },
  {
   "cell_type": "code",
   "execution_count": 17,
   "metadata": {},
   "outputs": [
    {
     "output_type": "stream",
     "name": "stdout",
     "text": [
      "3522117\n3522117\n"
     ]
    }
   ],
   "source": [
    "train_df_positive = train_df[train_df['like']==1]\n",
    "train_df_negative = train_df[train_df['like']==0]\n",
    "print(len(train_df_positive))\n",
    "print(len(train_df_negative))\n",
    "\n",
    "train_df_positive = train_df_positive.sample(n = len(train_df_negative))\n",
    "train_df_negative = train_df_negative.sample(n = len(train_df_positive))\n",
    "train_df = pd.concat([train_df_positive, train_df_negative])"
   ]
  },
  {
   "cell_type": "code",
   "execution_count": 22,
   "metadata": {},
   "outputs": [
    {
     "output_type": "execute_result",
     "data": {
      "text/plain": [
       "         creator_follower_count  media  creator_following_count  \\\n",
       "2729889                     339      9                      334   \n",
       "7695415                    4933      0                     3468   \n",
       "1793599                   22628      5                      357   \n",
       "9022062                   43588      0                     1089   \n",
       "1136448                      60      7                       71   \n",
       "\n",
       "         engager_follower_count                        creator_id  tweet_type  \\\n",
       "2729889                    1542  CBC6939677FAF0D1231AB4641B06869D           2   \n",
       "7695415                       8  E9C9A7632EAC6E3FA3374F45064BE80A           1   \n",
       "1793599                     255  02E7DD47A0223EB26FA0E4B13A4ACC84           2   \n",
       "9022062                     264  774DB6D0B20AB9AB498030D8386CFF10           2   \n",
       "1136448                      53  9E3D6450D1F1E656ACF77B97794162D6           2   \n",
       "\n",
       "                               engager_id  engager_is_verified  \\\n",
       "2729889  EFDE91C119FDA263F2785C0A13772DB2                    0   \n",
       "7695415  D5430B3F39025A0BEC4948F12AB2836C                    0   \n",
       "1793599  26AFC4E0C59BEE0483A0A132B8F9D17B                    0   \n",
       "9022062  55311D4A7E7CCA0D29C0358C753E2C83                    0   \n",
       "1136448  2F463D93E8E36DBF50905663D0EC9E14                    0   \n",
       "\n",
       "         creator_follows_engager  tweet_timestamp  ...  creator_is_verified  \\\n",
       "2729889                        1       1612440067  ...                    0   \n",
       "7695415                        0       1612415200  ...                    0   \n",
       "1793599                        0       1612449813  ...                    0   \n",
       "9022062                        0       1612425724  ...                    0   \n",
       "1136448                        1       1612432362  ...                    0   \n",
       "\n",
       "         language reply  retweet  comment  like  dt_day  dt_dow  dt_hour  \\\n",
       "2729889        19   0.0      0.0      0.0   1.0       4       3       12   \n",
       "7695415        19   0.0      0.0      0.0   1.0       4       3        5   \n",
       "1793599        19   0.0      0.0      0.0   1.0       4       3       14   \n",
       "9022062        41   0.0      0.0      0.0   1.0       4       3        8   \n",
       "1136448        61   0.0      0.0      0.0   1.0       4       3        9   \n",
       "\n",
       "         len_domains  \n",
       "2729889            0  \n",
       "7695415            0  \n",
       "1793599            0  \n",
       "9022062            0  \n",
       "1136448            0  \n",
       "\n",
       "[5 rows x 25 columns]"
      ],
      "text/html": "<div>\n<style scoped>\n    .dataframe tbody tr th:only-of-type {\n        vertical-align: middle;\n    }\n\n    .dataframe tbody tr th {\n        vertical-align: top;\n    }\n\n    .dataframe thead th {\n        text-align: right;\n    }\n</style>\n<table border=\"1\" class=\"dataframe\">\n  <thead>\n    <tr style=\"text-align: right;\">\n      <th></th>\n      <th>creator_follower_count</th>\n      <th>media</th>\n      <th>creator_following_count</th>\n      <th>engager_follower_count</th>\n      <th>creator_id</th>\n      <th>tweet_type</th>\n      <th>engager_id</th>\n      <th>engager_is_verified</th>\n      <th>creator_follows_engager</th>\n      <th>tweet_timestamp</th>\n      <th>...</th>\n      <th>creator_is_verified</th>\n      <th>language</th>\n      <th>reply</th>\n      <th>retweet</th>\n      <th>comment</th>\n      <th>like</th>\n      <th>dt_day</th>\n      <th>dt_dow</th>\n      <th>dt_hour</th>\n      <th>len_domains</th>\n    </tr>\n  </thead>\n  <tbody>\n    <tr>\n      <th>2729889</th>\n      <td>339</td>\n      <td>9</td>\n      <td>334</td>\n      <td>1542</td>\n      <td>CBC6939677FAF0D1231AB4641B06869D</td>\n      <td>2</td>\n      <td>EFDE91C119FDA263F2785C0A13772DB2</td>\n      <td>0</td>\n      <td>1</td>\n      <td>1612440067</td>\n      <td>...</td>\n      <td>0</td>\n      <td>19</td>\n      <td>0.0</td>\n      <td>0.0</td>\n      <td>0.0</td>\n      <td>1.0</td>\n      <td>4</td>\n      <td>3</td>\n      <td>12</td>\n      <td>0</td>\n    </tr>\n    <tr>\n      <th>7695415</th>\n      <td>4933</td>\n      <td>0</td>\n      <td>3468</td>\n      <td>8</td>\n      <td>E9C9A7632EAC6E3FA3374F45064BE80A</td>\n      <td>1</td>\n      <td>D5430B3F39025A0BEC4948F12AB2836C</td>\n      <td>0</td>\n      <td>0</td>\n      <td>1612415200</td>\n      <td>...</td>\n      <td>0</td>\n      <td>19</td>\n      <td>0.0</td>\n      <td>0.0</td>\n      <td>0.0</td>\n      <td>1.0</td>\n      <td>4</td>\n      <td>3</td>\n      <td>5</td>\n      <td>0</td>\n    </tr>\n    <tr>\n      <th>1793599</th>\n      <td>22628</td>\n      <td>5</td>\n      <td>357</td>\n      <td>255</td>\n      <td>02E7DD47A0223EB26FA0E4B13A4ACC84</td>\n      <td>2</td>\n      <td>26AFC4E0C59BEE0483A0A132B8F9D17B</td>\n      <td>0</td>\n      <td>0</td>\n      <td>1612449813</td>\n      <td>...</td>\n      <td>0</td>\n      <td>19</td>\n      <td>0.0</td>\n      <td>0.0</td>\n      <td>0.0</td>\n      <td>1.0</td>\n      <td>4</td>\n      <td>3</td>\n      <td>14</td>\n      <td>0</td>\n    </tr>\n    <tr>\n      <th>9022062</th>\n      <td>43588</td>\n      <td>0</td>\n      <td>1089</td>\n      <td>264</td>\n      <td>774DB6D0B20AB9AB498030D8386CFF10</td>\n      <td>2</td>\n      <td>55311D4A7E7CCA0D29C0358C753E2C83</td>\n      <td>0</td>\n      <td>0</td>\n      <td>1612425724</td>\n      <td>...</td>\n      <td>0</td>\n      <td>41</td>\n      <td>0.0</td>\n      <td>0.0</td>\n      <td>0.0</td>\n      <td>1.0</td>\n      <td>4</td>\n      <td>3</td>\n      <td>8</td>\n      <td>0</td>\n    </tr>\n    <tr>\n      <th>1136448</th>\n      <td>60</td>\n      <td>7</td>\n      <td>71</td>\n      <td>53</td>\n      <td>9E3D6450D1F1E656ACF77B97794162D6</td>\n      <td>2</td>\n      <td>2F463D93E8E36DBF50905663D0EC9E14</td>\n      <td>0</td>\n      <td>1</td>\n      <td>1612432362</td>\n      <td>...</td>\n      <td>0</td>\n      <td>61</td>\n      <td>0.0</td>\n      <td>0.0</td>\n      <td>0.0</td>\n      <td>1.0</td>\n      <td>4</td>\n      <td>3</td>\n      <td>9</td>\n      <td>0</td>\n    </tr>\n  </tbody>\n</table>\n<p>5 rows × 25 columns</p>\n</div>"
     },
     "metadata": {},
     "execution_count": 22
    }
   ],
   "source": [
    "train_df.head()"
   ]
  },
  {
   "cell_type": "code",
   "execution_count": 20,
   "metadata": {},
   "outputs": [
    {
     "output_type": "execute_result",
     "data": {
      "text/plain": [
       "Index(['creator_follower_count', 'media', 'creator_following_count',\n",
       "       'engager_follower_count', 'creator_id', 'tweet_type', 'engager_id',\n",
       "       'engager_is_verified', 'creator_follows_engager', 'tweet_timestamp',\n",
       "       'creator_account_creation', 'domains', 'tweet_id',\n",
       "       'engager_following_count', 'engager_account_creation',\n",
       "       'creator_is_verified', 'language', 'reply', 'retweet', 'comment',\n",
       "       'like', 'dt_day', 'dt_dow', 'dt_hour', 'len_domains'],\n",
       "      dtype='object')"
      ]
     },
     "metadata": {},
     "execution_count": 20
    }
   ],
   "source": [
    "train_df.columns"
   ]
  },
  {
   "cell_type": "code",
   "execution_count": 21,
   "metadata": {},
   "outputs": [
    {
     "output_type": "execute_result",
     "data": {
      "text/plain": [
       "['reply', 'retweet', 'comment', 'like']"
      ]
     },
     "metadata": {},
     "execution_count": 21
    }
   ],
   "source": [
    "conf.target"
   ]
  },
  {
   "cell_type": "code",
   "execution_count": 24,
   "metadata": {},
   "outputs": [],
   "source": [
    "used_features = ['engager_follower_count', \n",
    "                'engager_following_count', \n",
    "                'engager_is_verified', \n",
    "                'engager_account_creation', \n",
    "                'creator_follower_count', \n",
    "                'creator_following_count', \n",
    "                'creator_is_verified', \n",
    "                'creator_account_creation',\n",
    "                'media',\n",
    "                'domains',\n",
    "                'language',\n",
    "                'dt_day', \n",
    "                'dt_dow', \n",
    "                'dt_hour', \n",
    "                'len_domains']"
   ]
  },
  {
   "cell_type": "code",
   "execution_count": 55,
   "metadata": {},
   "outputs": [],
   "source": [
    "X_train = train_df[used_features]\n",
    "# Y_train = train_df['like_timestamp'].fillna(0).apply(lambda x: 1 if x > 0 else 0)\n",
    "Y_train = train_df['like']"
   ]
  },
  {
   "cell_type": "code",
   "execution_count": 54,
   "metadata": {},
   "outputs": [],
   "source": [
    "X_val = val_df[used_features]\n",
    "# Y_val = val_df['like_timestamp'].fillna(0).apply(lambda x: 1 if x > 0 else 0) \n",
    "Y_val = val_df['like']"
   ]
  },
  {
   "cell_type": "code",
   "execution_count": 58,
   "metadata": {},
   "outputs": [],
   "source": [
    "X_val, X_test, Y_val, Y_test = train_test_split(X_val, Y_val, test_size=0.5)\n"
   ]
  },
  {
   "source": [
    "### scaling\n"
   ],
   "cell_type": "markdown",
   "metadata": {}
  },
  {
   "cell_type": "code",
   "execution_count": 59,
   "metadata": {},
   "outputs": [],
   "source": [
    "def scaling(df_x):\n",
    "    standard_scaler = preprocessing.StandardScaler()\n",
    "    standard_scaler.fit(df_x.values)\n",
    "    ss = standard_scaler.transform(df_x.values)\n",
    "    df_x = pd.DataFrame(ss, columns = df_x.columns)\n",
    "    return df_x"
   ]
  },
  {
   "cell_type": "code",
   "execution_count": 60,
   "metadata": {},
   "outputs": [],
   "source": [
    "X_train = scaling(X_train)\n",
    "X_val = scaling(X_val)\n",
    "X_test = scaling(X_test)"
   ]
  },
  {
   "cell_type": "code",
   "execution_count": 61,
   "metadata": {},
   "outputs": [
    {
     "output_type": "execute_result",
     "data": {
      "text/plain": [
       "         engager_follower_count  engager_following_count  engager_is_verified  \\\n",
       "0                      0.065438                 0.250054            -0.042751   \n",
       "1                     -0.072417                -0.382735            -0.042751   \n",
       "2                     -0.050220                -0.327063            -0.042751   \n",
       "3                     -0.049411                -0.243830            -0.042751   \n",
       "4                     -0.068373                -0.370609            -0.042751   \n",
       "...                         ...                      ...                  ...   \n",
       "7044229               -0.072058                -0.306668            -0.042751   \n",
       "7044230               -0.070799                -0.285171            -0.042751   \n",
       "7044231               -0.059027                -0.165559            -0.042751   \n",
       "7044232               -0.056511                -0.376121            -0.042751   \n",
       "7044233               -0.053455                -0.166661            -0.042751   \n",
       "\n",
       "         engager_account_creation  creator_follower_count  \\\n",
       "0                        1.117690               -0.160558   \n",
       "1                       -0.321297               -0.159629   \n",
       "2                       -1.789442               -0.156054   \n",
       "3                        0.409202               -0.151818   \n",
       "4                        1.088461               -0.160614   \n",
       "...                           ...                     ...   \n",
       "7044229                  0.864684               -0.158436   \n",
       "7044230                  0.683346               -0.137245   \n",
       "7044231                 -0.300933               -0.160384   \n",
       "7044232                  0.491265               -0.160368   \n",
       "7044233                 -0.717869                0.006736   \n",
       "\n",
       "         creator_following_count  creator_is_verified  \\\n",
       "0                      -0.104612            -0.485825   \n",
       "1                      -0.021338            -0.485825   \n",
       "2                      -0.104001            -0.485825   \n",
       "3                      -0.084551            -0.485825   \n",
       "4                      -0.111601            -0.485825   \n",
       "...                          ...                  ...   \n",
       "7044229                -0.113115            -0.485825   \n",
       "7044230                -0.112876            -0.485825   \n",
       "7044231                -0.102752            -0.485825   \n",
       "7044232                -0.090078            -0.485825   \n",
       "7044233                -0.072621            -0.485825   \n",
       "\n",
       "         creator_account_creation     media   domains  language  dt_day  \\\n",
       "0                        1.302187  2.083948 -0.137477 -0.701192     0.0   \n",
       "1                        0.353989 -0.751913 -0.137477 -0.701192     0.0   \n",
       "2                       -1.602844  0.823566 -0.137477 -0.701192     0.0   \n",
       "3                       -0.900066 -0.751913 -0.137477  0.476125     0.0   \n",
       "4                        1.236772  1.453757 -0.137477  1.546412     0.0   \n",
       "...                           ...       ...       ...       ...     ...   \n",
       "7044229                  1.243058  0.823566 -0.137477 -1.236336     0.0   \n",
       "7044230                  0.995523  0.823566 -0.137477 -1.182822     0.0   \n",
       "7044231                  0.083358 -0.436817 -0.137477 -0.701192     0.0   \n",
       "7044232                 -1.484033  0.823566 -0.137477 -0.701192     0.0   \n",
       "7044233                 -1.421064 -0.751913 -0.137477  0.583153     0.0   \n",
       "\n",
       "         dt_dow   dt_hour  len_domains  \n",
       "0           0.0 -0.001614       -0.335  \n",
       "1           0.0 -1.024722       -0.335  \n",
       "2           0.0  0.290702       -0.335  \n",
       "3           0.0 -0.586247       -0.335  \n",
       "4           0.0 -0.440089       -0.335  \n",
       "...         ...       ...          ...  \n",
       "7044229     0.0  0.290702       -0.335  \n",
       "7044230     0.0 -1.463197       -0.335  \n",
       "7044231     0.0 -1.024722       -0.335  \n",
       "7044232     0.0  0.729177       -0.335  \n",
       "7044233     0.0  1.313811       -0.335  \n",
       "\n",
       "[7044234 rows x 15 columns]"
      ],
      "text/html": "<div>\n<style scoped>\n    .dataframe tbody tr th:only-of-type {\n        vertical-align: middle;\n    }\n\n    .dataframe tbody tr th {\n        vertical-align: top;\n    }\n\n    .dataframe thead th {\n        text-align: right;\n    }\n</style>\n<table border=\"1\" class=\"dataframe\">\n  <thead>\n    <tr style=\"text-align: right;\">\n      <th></th>\n      <th>engager_follower_count</th>\n      <th>engager_following_count</th>\n      <th>engager_is_verified</th>\n      <th>engager_account_creation</th>\n      <th>creator_follower_count</th>\n      <th>creator_following_count</th>\n      <th>creator_is_verified</th>\n      <th>creator_account_creation</th>\n      <th>media</th>\n      <th>domains</th>\n      <th>language</th>\n      <th>dt_day</th>\n      <th>dt_dow</th>\n      <th>dt_hour</th>\n      <th>len_domains</th>\n    </tr>\n  </thead>\n  <tbody>\n    <tr>\n      <th>0</th>\n      <td>0.065438</td>\n      <td>0.250054</td>\n      <td>-0.042751</td>\n      <td>1.117690</td>\n      <td>-0.160558</td>\n      <td>-0.104612</td>\n      <td>-0.485825</td>\n      <td>1.302187</td>\n      <td>2.083948</td>\n      <td>-0.137477</td>\n      <td>-0.701192</td>\n      <td>0.0</td>\n      <td>0.0</td>\n      <td>-0.001614</td>\n      <td>-0.335</td>\n    </tr>\n    <tr>\n      <th>1</th>\n      <td>-0.072417</td>\n      <td>-0.382735</td>\n      <td>-0.042751</td>\n      <td>-0.321297</td>\n      <td>-0.159629</td>\n      <td>-0.021338</td>\n      <td>-0.485825</td>\n      <td>0.353989</td>\n      <td>-0.751913</td>\n      <td>-0.137477</td>\n      <td>-0.701192</td>\n      <td>0.0</td>\n      <td>0.0</td>\n      <td>-1.024722</td>\n      <td>-0.335</td>\n    </tr>\n    <tr>\n      <th>2</th>\n      <td>-0.050220</td>\n      <td>-0.327063</td>\n      <td>-0.042751</td>\n      <td>-1.789442</td>\n      <td>-0.156054</td>\n      <td>-0.104001</td>\n      <td>-0.485825</td>\n      <td>-1.602844</td>\n      <td>0.823566</td>\n      <td>-0.137477</td>\n      <td>-0.701192</td>\n      <td>0.0</td>\n      <td>0.0</td>\n      <td>0.290702</td>\n      <td>-0.335</td>\n    </tr>\n    <tr>\n      <th>3</th>\n      <td>-0.049411</td>\n      <td>-0.243830</td>\n      <td>-0.042751</td>\n      <td>0.409202</td>\n      <td>-0.151818</td>\n      <td>-0.084551</td>\n      <td>-0.485825</td>\n      <td>-0.900066</td>\n      <td>-0.751913</td>\n      <td>-0.137477</td>\n      <td>0.476125</td>\n      <td>0.0</td>\n      <td>0.0</td>\n      <td>-0.586247</td>\n      <td>-0.335</td>\n    </tr>\n    <tr>\n      <th>4</th>\n      <td>-0.068373</td>\n      <td>-0.370609</td>\n      <td>-0.042751</td>\n      <td>1.088461</td>\n      <td>-0.160614</td>\n      <td>-0.111601</td>\n      <td>-0.485825</td>\n      <td>1.236772</td>\n      <td>1.453757</td>\n      <td>-0.137477</td>\n      <td>1.546412</td>\n      <td>0.0</td>\n      <td>0.0</td>\n      <td>-0.440089</td>\n      <td>-0.335</td>\n    </tr>\n    <tr>\n      <th>...</th>\n      <td>...</td>\n      <td>...</td>\n      <td>...</td>\n      <td>...</td>\n      <td>...</td>\n      <td>...</td>\n      <td>...</td>\n      <td>...</td>\n      <td>...</td>\n      <td>...</td>\n      <td>...</td>\n      <td>...</td>\n      <td>...</td>\n      <td>...</td>\n      <td>...</td>\n    </tr>\n    <tr>\n      <th>7044229</th>\n      <td>-0.072058</td>\n      <td>-0.306668</td>\n      <td>-0.042751</td>\n      <td>0.864684</td>\n      <td>-0.158436</td>\n      <td>-0.113115</td>\n      <td>-0.485825</td>\n      <td>1.243058</td>\n      <td>0.823566</td>\n      <td>-0.137477</td>\n      <td>-1.236336</td>\n      <td>0.0</td>\n      <td>0.0</td>\n      <td>0.290702</td>\n      <td>-0.335</td>\n    </tr>\n    <tr>\n      <th>7044230</th>\n      <td>-0.070799</td>\n      <td>-0.285171</td>\n      <td>-0.042751</td>\n      <td>0.683346</td>\n      <td>-0.137245</td>\n      <td>-0.112876</td>\n      <td>-0.485825</td>\n      <td>0.995523</td>\n      <td>0.823566</td>\n      <td>-0.137477</td>\n      <td>-1.182822</td>\n      <td>0.0</td>\n      <td>0.0</td>\n      <td>-1.463197</td>\n      <td>-0.335</td>\n    </tr>\n    <tr>\n      <th>7044231</th>\n      <td>-0.059027</td>\n      <td>-0.165559</td>\n      <td>-0.042751</td>\n      <td>-0.300933</td>\n      <td>-0.160384</td>\n      <td>-0.102752</td>\n      <td>-0.485825</td>\n      <td>0.083358</td>\n      <td>-0.436817</td>\n      <td>-0.137477</td>\n      <td>-0.701192</td>\n      <td>0.0</td>\n      <td>0.0</td>\n      <td>-1.024722</td>\n      <td>-0.335</td>\n    </tr>\n    <tr>\n      <th>7044232</th>\n      <td>-0.056511</td>\n      <td>-0.376121</td>\n      <td>-0.042751</td>\n      <td>0.491265</td>\n      <td>-0.160368</td>\n      <td>-0.090078</td>\n      <td>-0.485825</td>\n      <td>-1.484033</td>\n      <td>0.823566</td>\n      <td>-0.137477</td>\n      <td>-0.701192</td>\n      <td>0.0</td>\n      <td>0.0</td>\n      <td>0.729177</td>\n      <td>-0.335</td>\n    </tr>\n    <tr>\n      <th>7044233</th>\n      <td>-0.053455</td>\n      <td>-0.166661</td>\n      <td>-0.042751</td>\n      <td>-0.717869</td>\n      <td>0.006736</td>\n      <td>-0.072621</td>\n      <td>-0.485825</td>\n      <td>-1.421064</td>\n      <td>-0.751913</td>\n      <td>-0.137477</td>\n      <td>0.583153</td>\n      <td>0.0</td>\n      <td>0.0</td>\n      <td>1.313811</td>\n      <td>-0.335</td>\n    </tr>\n  </tbody>\n</table>\n<p>7044234 rows × 15 columns</p>\n</div>"
     },
     "metadata": {},
     "execution_count": 61
    }
   ],
   "source": [
    "X_train"
   ]
  },
  {
   "source": [
    "## Model"
   ],
   "cell_type": "markdown",
   "metadata": {}
  },
  {
   "source": [
    "### Encoder Layer"
   ],
   "cell_type": "markdown",
   "metadata": {}
  },
  {
   "cell_type": "code",
   "execution_count": 62,
   "metadata": {},
   "outputs": [],
   "source": [
    "\n",
    "kargs = {\n",
    "    'model_name': 'auto_encoder',\n",
    "    'input_dim' : X_train.shape[1],\n",
    "    'engager_dim' : 4,\n",
    "    'creator_dim' : 4,\n",
    "    'embedding_dim': 32,\n",
    "    'encoder_dim': 64,\n",
    "    'decoder_dim': 1\n",
    "    \n",
    "}\n"
   ]
  },
  {
   "cell_type": "code",
   "execution_count": 63,
   "metadata": {},
   "outputs": [],
   "source": [
    "class AutoEncoder(tf.keras.models.Model):\n",
    "    def __init__(self, **kargs):\n",
    "        super(AutoEncoder, self).__init__()\n",
    "        \n",
    "        self.input_dim = kargs['input_dim']\n",
    "        self.engager_dim = kargs['engager_dim']\n",
    "        self.creator_dim = kargs['creator_dim']\n",
    "        self.embedding_dim = kargs['embedding_dim']\n",
    "        self.encoder_dim = kargs['encoder_dim']\n",
    "        self.decoder_dim = kargs['decoder_dim']\n",
    "        \n",
    "        # self.engager_embedding = tf.keras.layers.Embedding(input_dim=self.engager_dim, output_dim=self.embedding_dim)\n",
    "        # self.creator_embedding = tf.keras.layers.Embedding(input_dim=self.creator_dim, output_dim=self.embedding_dim)\n",
    "    \n",
    "        self.engager_encoder = tf.keras.layers.Dense(16, activation = 'relu')\n",
    "        self.creator_encoder = tf.keras.layers.Dense(16, activation = 'relu')\n",
    "        self.tweet_encoder = tf.keras.layers.Dense(16, activation = 'relu')\n",
    "        self.encoder1 = tf.keras.layers.Dense(8, activation = 'relu')\n",
    "        self.encoder2 = tf.keras.layers.Dense(4, activation = 'relu')\n",
    "        self.decoder = tf.keras.layers.Dense(1, activation = 'relu')\n",
    "    \n",
    "    def call(self, x):\n",
    "        # x1 = self.engager_embedding(x[:,:4])\n",
    "        # x2 = self.creator_embedding(x[:,4:])\n",
    "        # input1 = tf.dtypes.cast(x[:, :4], tf.float32) \n",
    "        # input2 = tf.dtypes.cast(x[:, 4:], tf.float32) \n",
    "        # x = tf.concat([x1, x2], 1)\n",
    "        x1 = self.engager_encoder(x[:,:4])\n",
    "        x2 = self.creator_encoder(x[:,4:8])\n",
    "        x3 = self.tweet_encoder(x[:,8:])\n",
    "        x = tf.concat([x1, x2], 1)\n",
    "        x = self.encoder1(x)\n",
    "        x = tf.concat([x, x3], 1)\n",
    "        x = self.encoder2(x)\n",
    "        x = self.decoder(x)\n",
    "        return x\n",
    "\n",
    "    def summary(self):\n",
    "        inputs = tf.keras.layers.Input((self.input_dim))\n",
    "        tf.keras.models.Model(inputs, self.call(inputs)).summary()\n",
    "    "
   ]
  },
  {
   "cell_type": "code",
   "execution_count": 64,
   "metadata": {},
   "outputs": [],
   "source": [
    "model = AutoEncoder(**kargs)\n"
   ]
  },
  {
   "cell_type": "code",
   "execution_count": 65,
   "metadata": {},
   "outputs": [
    {
     "output_type": "stream",
     "name": "stdout",
     "text": [
      "Model: \"model_1\"\n__________________________________________________________________________________________________\nLayer (type)                    Output Shape         Param #     Connected to                     \n==================================================================================================\ninput_2 (InputLayer)            [(None, 15)]         0                                            \n__________________________________________________________________________________________________\ntf.__operators__.getitem_3 (Sli (None, 4)            0           input_2[0][0]                    \n__________________________________________________________________________________________________\ntf.__operators__.getitem_4 (Sli (None, 4)            0           input_2[0][0]                    \n__________________________________________________________________________________________________\ndense_6 (Dense)                 (None, 16)           80          tf.__operators__.getitem_3[0][0] \n__________________________________________________________________________________________________\ndense_7 (Dense)                 (None, 16)           80          tf.__operators__.getitem_4[0][0] \n__________________________________________________________________________________________________\ntf.concat_2 (TFOpLambda)        (None, 32)           0           dense_6[0][0]                    \n                                                                 dense_7[0][0]                    \n__________________________________________________________________________________________________\ntf.__operators__.getitem_5 (Sli (None, 7)            0           input_2[0][0]                    \n__________________________________________________________________________________________________\ndense_9 (Dense)                 (None, 8)            264         tf.concat_2[0][0]                \n__________________________________________________________________________________________________\ndense_8 (Dense)                 (None, 16)           128         tf.__operators__.getitem_5[0][0] \n__________________________________________________________________________________________________\ntf.concat_3 (TFOpLambda)        (None, 24)           0           dense_9[0][0]                    \n                                                                 dense_8[0][0]                    \n__________________________________________________________________________________________________\ndense_10 (Dense)                (None, 4)            100         tf.concat_3[0][0]                \n__________________________________________________________________________________________________\ndense_11 (Dense)                (None, 1)            5           dense_10[0][0]                   \n==================================================================================================\nTotal params: 657\nTrainable params: 657\nNon-trainable params: 0\n__________________________________________________________________________________________________\n"
     ]
    }
   ],
   "source": [
    "model.summary()\n",
    "# model.compile(loss='sparse_categorical_crossentropy', optimizer='adam', metrics=['accuracy'])\n",
    "model.compile(\n",
    "    optimizer = 'adam',\n",
    "    loss = 'binary_crossentropy', # softmax : sparse_categorical_crossentropy, sigmoid : binary_crossentropy\n",
    "    metrics=['binary_crossentropy', 'accuracy'])"
   ]
  },
  {
   "cell_type": "code",
   "execution_count": 36,
   "metadata": {},
   "outputs": [
    {
     "output_type": "stream",
     "name": "stdout",
     "text": [
      "Epoch 1/5\n",
      "55034/55034 [==============================] - 33s 596us/step - loss: 0.6944 - binary_crossentropy: 0.6944 - accuracy: 0.5623 - val_loss: 0.6769 - val_binary_crossentropy: 0.6769 - val_accuracy: 0.5489\n",
      "Epoch 2/5\n",
      "55034/55034 [==============================] - 32s 588us/step - loss: 0.6716 - binary_crossentropy: 0.6716 - accuracy: 0.5780 - val_loss: 0.6770 - val_binary_crossentropy: 0.6770 - val_accuracy: 0.5512\n",
      "Epoch 3/5\n",
      "55034/55034 [==============================] - 32s 589us/step - loss: 0.6706 - binary_crossentropy: 0.6706 - accuracy: 0.5805 - val_loss: 0.6742 - val_binary_crossentropy: 0.6742 - val_accuracy: 0.5636\n",
      "Epoch 4/5\n",
      "55034/55034 [==============================] - 32s 587us/step - loss: 0.6703 - binary_crossentropy: 0.6703 - accuracy: 0.5808 - val_loss: 0.6736 - val_binary_crossentropy: 0.6736 - val_accuracy: 0.5682\n",
      "Epoch 5/5\n",
      "55034/55034 [==============================] - 33s 592us/step - loss: 0.6692 - binary_crossentropy: 0.6692 - accuracy: 0.5829 - val_loss: 0.6656 - val_binary_crossentropy: 0.6656 - val_accuracy: 0.5882\n"
     ]
    }
   ],
   "source": [
    "result = model.fit(\n",
    "    x = X_train.to_numpy(),\n",
    "    y = Y_train.to_numpy(),\n",
    "    validation_data=(X_val.to_numpy(), Y_val.to_numpy()),\n",
    "    epochs=10,\n",
    "    batch_size=32\n",
    ")"
   ]
  },
  {
   "source": [
    "## Evaluate"
   ],
   "cell_type": "markdown",
   "metadata": {}
  },
  {
   "cell_type": "code",
   "execution_count": 37,
   "metadata": {},
   "outputs": [
    {
     "output_type": "display_data",
     "data": {
      "text/plain": "<Figure size 432x288 with 1 Axes>",
      "image/svg+xml": "<?xml version=\"1.0\" encoding=\"utf-8\" standalone=\"no\"?>\n<!DOCTYPE svg PUBLIC \"-//W3C//DTD SVG 1.1//EN\"\n  \"http://www.w3.org/Graphics/SVG/1.1/DTD/svg11.dtd\">\n<!-- Created with matplotlib (https://matplotlib.org/) -->\n<svg height=\"277.314375pt\" version=\"1.1\" viewBox=\"0 0 398.50625 277.314375\" width=\"398.50625pt\" xmlns=\"http://www.w3.org/2000/svg\" xmlns:xlink=\"http://www.w3.org/1999/xlink\">\n <metadata>\n  <rdf:RDF xmlns:cc=\"http://creativecommons.org/ns#\" xmlns:dc=\"http://purl.org/dc/elements/1.1/\" xmlns:rdf=\"http://www.w3.org/1999/02/22-rdf-syntax-ns#\">\n   <cc:Work>\n    <dc:type rdf:resource=\"http://purl.org/dc/dcmitype/StillImage\"/>\n    <dc:date>2021-05-17T15:03:28.522200</dc:date>\n    <dc:format>image/svg+xml</dc:format>\n    <dc:creator>\n     <cc:Agent>\n      <dc:title>Matplotlib v3.3.4, https://matplotlib.org/</dc:title>\n     </cc:Agent>\n    </dc:creator>\n   </cc:Work>\n  </rdf:RDF>\n </metadata>\n <defs>\n  <style type=\"text/css\">*{stroke-linecap:butt;stroke-linejoin:round;}</style>\n </defs>\n <g id=\"figure_1\">\n  <g id=\"patch_1\">\n   <path d=\"M 0 277.314375 \nL 398.50625 277.314375 \nL 398.50625 0 \nL 0 0 \nz\n\" style=\"fill:none;\"/>\n  </g>\n  <g id=\"axes_1\">\n   <g id=\"patch_2\">\n    <path d=\"M 56.50625 239.758125 \nL 391.30625 239.758125 \nL 391.30625 22.318125 \nL 56.50625 22.318125 \nz\n\" style=\"fill:#ffffff;\"/>\n   </g>\n   <g id=\"matplotlib.axis_1\">\n    <g id=\"xtick_1\">\n     <g id=\"line2d_1\">\n      <defs>\n       <path d=\"M 0 0 \nL 0 3.5 \n\" id=\"m91645a95d5\" style=\"stroke:#000000;stroke-width:0.8;\"/>\n      </defs>\n      <g>\n       <use style=\"stroke:#000000;stroke-width:0.8;\" x=\"71.724432\" xlink:href=\"#m91645a95d5\" y=\"239.758125\"/>\n      </g>\n     </g>\n     <g id=\"text_1\">\n      <!-- 0.0 -->\n      <g transform=\"translate(63.772869 254.356562)scale(0.1 -0.1)\">\n       <defs>\n        <path d=\"M 31.78125 66.40625 \nQ 24.171875 66.40625 20.328125 58.90625 \nQ 16.5 51.421875 16.5 36.375 \nQ 16.5 21.390625 20.328125 13.890625 \nQ 24.171875 6.390625 31.78125 6.390625 \nQ 39.453125 6.390625 43.28125 13.890625 \nQ 47.125 21.390625 47.125 36.375 \nQ 47.125 51.421875 43.28125 58.90625 \nQ 39.453125 66.40625 31.78125 66.40625 \nz\nM 31.78125 74.21875 \nQ 44.046875 74.21875 50.515625 64.515625 \nQ 56.984375 54.828125 56.984375 36.375 \nQ 56.984375 17.96875 50.515625 8.265625 \nQ 44.046875 -1.421875 31.78125 -1.421875 \nQ 19.53125 -1.421875 13.0625 8.265625 \nQ 6.59375 17.96875 6.59375 36.375 \nQ 6.59375 54.828125 13.0625 64.515625 \nQ 19.53125 74.21875 31.78125 74.21875 \nz\n\" id=\"DejaVuSans-48\"/>\n        <path d=\"M 10.6875 12.40625 \nL 21 12.40625 \nL 21 0 \nL 10.6875 0 \nz\n\" id=\"DejaVuSans-46\"/>\n       </defs>\n       <use xlink:href=\"#DejaVuSans-48\"/>\n       <use x=\"63.623047\" xlink:href=\"#DejaVuSans-46\"/>\n       <use x=\"95.410156\" xlink:href=\"#DejaVuSans-48\"/>\n      </g>\n     </g>\n    </g>\n    <g id=\"xtick_2\">\n     <g id=\"line2d_2\">\n      <g>\n       <use style=\"stroke:#000000;stroke-width:0.8;\" x=\"109.769886\" xlink:href=\"#m91645a95d5\" y=\"239.758125\"/>\n      </g>\n     </g>\n     <g id=\"text_2\">\n      <!-- 0.5 -->\n      <g transform=\"translate(101.818324 254.356562)scale(0.1 -0.1)\">\n       <defs>\n        <path d=\"M 10.796875 72.90625 \nL 49.515625 72.90625 \nL 49.515625 64.59375 \nL 19.828125 64.59375 \nL 19.828125 46.734375 \nQ 21.96875 47.46875 24.109375 47.828125 \nQ 26.265625 48.1875 28.421875 48.1875 \nQ 40.625 48.1875 47.75 41.5 \nQ 54.890625 34.8125 54.890625 23.390625 \nQ 54.890625 11.625 47.5625 5.09375 \nQ 40.234375 -1.421875 26.90625 -1.421875 \nQ 22.3125 -1.421875 17.546875 -0.640625 \nQ 12.796875 0.140625 7.71875 1.703125 \nL 7.71875 11.625 \nQ 12.109375 9.234375 16.796875 8.0625 \nQ 21.484375 6.890625 26.703125 6.890625 \nQ 35.15625 6.890625 40.078125 11.328125 \nQ 45.015625 15.765625 45.015625 23.390625 \nQ 45.015625 31 40.078125 35.4375 \nQ 35.15625 39.890625 26.703125 39.890625 \nQ 22.75 39.890625 18.8125 39.015625 \nQ 14.890625 38.140625 10.796875 36.28125 \nz\n\" id=\"DejaVuSans-53\"/>\n       </defs>\n       <use xlink:href=\"#DejaVuSans-48\"/>\n       <use x=\"63.623047\" xlink:href=\"#DejaVuSans-46\"/>\n       <use x=\"95.410156\" xlink:href=\"#DejaVuSans-53\"/>\n      </g>\n     </g>\n    </g>\n    <g id=\"xtick_3\">\n     <g id=\"line2d_3\">\n      <g>\n       <use style=\"stroke:#000000;stroke-width:0.8;\" x=\"147.815341\" xlink:href=\"#m91645a95d5\" y=\"239.758125\"/>\n      </g>\n     </g>\n     <g id=\"text_3\">\n      <!-- 1.0 -->\n      <g transform=\"translate(139.863778 254.356562)scale(0.1 -0.1)\">\n       <defs>\n        <path d=\"M 12.40625 8.296875 \nL 28.515625 8.296875 \nL 28.515625 63.921875 \nL 10.984375 60.40625 \nL 10.984375 69.390625 \nL 28.421875 72.90625 \nL 38.28125 72.90625 \nL 38.28125 8.296875 \nL 54.390625 8.296875 \nL 54.390625 0 \nL 12.40625 0 \nz\n\" id=\"DejaVuSans-49\"/>\n       </defs>\n       <use xlink:href=\"#DejaVuSans-49\"/>\n       <use x=\"63.623047\" xlink:href=\"#DejaVuSans-46\"/>\n       <use x=\"95.410156\" xlink:href=\"#DejaVuSans-48\"/>\n      </g>\n     </g>\n    </g>\n    <g id=\"xtick_4\">\n     <g id=\"line2d_4\">\n      <g>\n       <use style=\"stroke:#000000;stroke-width:0.8;\" x=\"185.860795\" xlink:href=\"#m91645a95d5\" y=\"239.758125\"/>\n      </g>\n     </g>\n     <g id=\"text_4\">\n      <!-- 1.5 -->\n      <g transform=\"translate(177.909233 254.356562)scale(0.1 -0.1)\">\n       <use xlink:href=\"#DejaVuSans-49\"/>\n       <use x=\"63.623047\" xlink:href=\"#DejaVuSans-46\"/>\n       <use x=\"95.410156\" xlink:href=\"#DejaVuSans-53\"/>\n      </g>\n     </g>\n    </g>\n    <g id=\"xtick_5\">\n     <g id=\"line2d_5\">\n      <g>\n       <use style=\"stroke:#000000;stroke-width:0.8;\" x=\"223.90625\" xlink:href=\"#m91645a95d5\" y=\"239.758125\"/>\n      </g>\n     </g>\n     <g id=\"text_5\">\n      <!-- 2.0 -->\n      <g transform=\"translate(215.954688 254.356562)scale(0.1 -0.1)\">\n       <defs>\n        <path d=\"M 19.1875 8.296875 \nL 53.609375 8.296875 \nL 53.609375 0 \nL 7.328125 0 \nL 7.328125 8.296875 \nQ 12.9375 14.109375 22.625 23.890625 \nQ 32.328125 33.6875 34.8125 36.53125 \nQ 39.546875 41.84375 41.421875 45.53125 \nQ 43.3125 49.21875 43.3125 52.78125 \nQ 43.3125 58.59375 39.234375 62.25 \nQ 35.15625 65.921875 28.609375 65.921875 \nQ 23.96875 65.921875 18.8125 64.3125 \nQ 13.671875 62.703125 7.8125 59.421875 \nL 7.8125 69.390625 \nQ 13.765625 71.78125 18.9375 73 \nQ 24.125 74.21875 28.421875 74.21875 \nQ 39.75 74.21875 46.484375 68.546875 \nQ 53.21875 62.890625 53.21875 53.421875 \nQ 53.21875 48.921875 51.53125 44.890625 \nQ 49.859375 40.875 45.40625 35.40625 \nQ 44.1875 33.984375 37.640625 27.21875 \nQ 31.109375 20.453125 19.1875 8.296875 \nz\n\" id=\"DejaVuSans-50\"/>\n       </defs>\n       <use xlink:href=\"#DejaVuSans-50\"/>\n       <use x=\"63.623047\" xlink:href=\"#DejaVuSans-46\"/>\n       <use x=\"95.410156\" xlink:href=\"#DejaVuSans-48\"/>\n      </g>\n     </g>\n    </g>\n    <g id=\"xtick_6\">\n     <g id=\"line2d_6\">\n      <g>\n       <use style=\"stroke:#000000;stroke-width:0.8;\" x=\"261.951705\" xlink:href=\"#m91645a95d5\" y=\"239.758125\"/>\n      </g>\n     </g>\n     <g id=\"text_6\">\n      <!-- 2.5 -->\n      <g transform=\"translate(254.000142 254.356562)scale(0.1 -0.1)\">\n       <use xlink:href=\"#DejaVuSans-50\"/>\n       <use x=\"63.623047\" xlink:href=\"#DejaVuSans-46\"/>\n       <use x=\"95.410156\" xlink:href=\"#DejaVuSans-53\"/>\n      </g>\n     </g>\n    </g>\n    <g id=\"xtick_7\">\n     <g id=\"line2d_7\">\n      <g>\n       <use style=\"stroke:#000000;stroke-width:0.8;\" x=\"299.997159\" xlink:href=\"#m91645a95d5\" y=\"239.758125\"/>\n      </g>\n     </g>\n     <g id=\"text_7\">\n      <!-- 3.0 -->\n      <g transform=\"translate(292.045597 254.356562)scale(0.1 -0.1)\">\n       <defs>\n        <path d=\"M 40.578125 39.3125 \nQ 47.65625 37.796875 51.625 33 \nQ 55.609375 28.21875 55.609375 21.1875 \nQ 55.609375 10.40625 48.1875 4.484375 \nQ 40.765625 -1.421875 27.09375 -1.421875 \nQ 22.515625 -1.421875 17.65625 -0.515625 \nQ 12.796875 0.390625 7.625 2.203125 \nL 7.625 11.71875 \nQ 11.71875 9.328125 16.59375 8.109375 \nQ 21.484375 6.890625 26.8125 6.890625 \nQ 36.078125 6.890625 40.9375 10.546875 \nQ 45.796875 14.203125 45.796875 21.1875 \nQ 45.796875 27.640625 41.28125 31.265625 \nQ 36.765625 34.90625 28.71875 34.90625 \nL 20.21875 34.90625 \nL 20.21875 43.015625 \nL 29.109375 43.015625 \nQ 36.375 43.015625 40.234375 45.921875 \nQ 44.09375 48.828125 44.09375 54.296875 \nQ 44.09375 59.90625 40.109375 62.90625 \nQ 36.140625 65.921875 28.71875 65.921875 \nQ 24.65625 65.921875 20.015625 65.03125 \nQ 15.375 64.15625 9.8125 62.3125 \nL 9.8125 71.09375 \nQ 15.4375 72.65625 20.34375 73.4375 \nQ 25.25 74.21875 29.59375 74.21875 \nQ 40.828125 74.21875 47.359375 69.109375 \nQ 53.90625 64.015625 53.90625 55.328125 \nQ 53.90625 49.265625 50.4375 45.09375 \nQ 46.96875 40.921875 40.578125 39.3125 \nz\n\" id=\"DejaVuSans-51\"/>\n       </defs>\n       <use xlink:href=\"#DejaVuSans-51\"/>\n       <use x=\"63.623047\" xlink:href=\"#DejaVuSans-46\"/>\n       <use x=\"95.410156\" xlink:href=\"#DejaVuSans-48\"/>\n      </g>\n     </g>\n    </g>\n    <g id=\"xtick_8\">\n     <g id=\"line2d_8\">\n      <g>\n       <use style=\"stroke:#000000;stroke-width:0.8;\" x=\"338.042614\" xlink:href=\"#m91645a95d5\" y=\"239.758125\"/>\n      </g>\n     </g>\n     <g id=\"text_8\">\n      <!-- 3.5 -->\n      <g transform=\"translate(330.091051 254.356562)scale(0.1 -0.1)\">\n       <use xlink:href=\"#DejaVuSans-51\"/>\n       <use x=\"63.623047\" xlink:href=\"#DejaVuSans-46\"/>\n       <use x=\"95.410156\" xlink:href=\"#DejaVuSans-53\"/>\n      </g>\n     </g>\n    </g>\n    <g id=\"xtick_9\">\n     <g id=\"line2d_9\">\n      <g>\n       <use style=\"stroke:#000000;stroke-width:0.8;\" x=\"376.088068\" xlink:href=\"#m91645a95d5\" y=\"239.758125\"/>\n      </g>\n     </g>\n     <g id=\"text_9\">\n      <!-- 4.0 -->\n      <g transform=\"translate(368.136506 254.356562)scale(0.1 -0.1)\">\n       <defs>\n        <path d=\"M 37.796875 64.3125 \nL 12.890625 25.390625 \nL 37.796875 25.390625 \nz\nM 35.203125 72.90625 \nL 47.609375 72.90625 \nL 47.609375 25.390625 \nL 58.015625 25.390625 \nL 58.015625 17.1875 \nL 47.609375 17.1875 \nL 47.609375 0 \nL 37.796875 0 \nL 37.796875 17.1875 \nL 4.890625 17.1875 \nL 4.890625 26.703125 \nz\n\" id=\"DejaVuSans-52\"/>\n       </defs>\n       <use xlink:href=\"#DejaVuSans-52\"/>\n       <use x=\"63.623047\" xlink:href=\"#DejaVuSans-46\"/>\n       <use x=\"95.410156\" xlink:href=\"#DejaVuSans-48\"/>\n      </g>\n     </g>\n    </g>\n    <g id=\"text_10\">\n     <!-- epoch -->\n     <g transform=\"translate(208.678125 268.034687)scale(0.1 -0.1)\">\n      <defs>\n       <path d=\"M 56.203125 29.59375 \nL 56.203125 25.203125 \nL 14.890625 25.203125 \nQ 15.484375 15.921875 20.484375 11.0625 \nQ 25.484375 6.203125 34.421875 6.203125 \nQ 39.59375 6.203125 44.453125 7.46875 \nQ 49.3125 8.734375 54.109375 11.28125 \nL 54.109375 2.78125 \nQ 49.265625 0.734375 44.1875 -0.34375 \nQ 39.109375 -1.421875 33.890625 -1.421875 \nQ 20.796875 -1.421875 13.15625 6.1875 \nQ 5.515625 13.8125 5.515625 26.8125 \nQ 5.515625 40.234375 12.765625 48.109375 \nQ 20.015625 56 32.328125 56 \nQ 43.359375 56 49.78125 48.890625 \nQ 56.203125 41.796875 56.203125 29.59375 \nz\nM 47.21875 32.234375 \nQ 47.125 39.59375 43.09375 43.984375 \nQ 39.0625 48.390625 32.421875 48.390625 \nQ 24.90625 48.390625 20.390625 44.140625 \nQ 15.875 39.890625 15.1875 32.171875 \nz\n\" id=\"DejaVuSans-101\"/>\n       <path d=\"M 18.109375 8.203125 \nL 18.109375 -20.796875 \nL 9.078125 -20.796875 \nL 9.078125 54.6875 \nL 18.109375 54.6875 \nL 18.109375 46.390625 \nQ 20.953125 51.265625 25.265625 53.625 \nQ 29.59375 56 35.59375 56 \nQ 45.5625 56 51.78125 48.09375 \nQ 58.015625 40.1875 58.015625 27.296875 \nQ 58.015625 14.40625 51.78125 6.484375 \nQ 45.5625 -1.421875 35.59375 -1.421875 \nQ 29.59375 -1.421875 25.265625 0.953125 \nQ 20.953125 3.328125 18.109375 8.203125 \nz\nM 48.6875 27.296875 \nQ 48.6875 37.203125 44.609375 42.84375 \nQ 40.53125 48.484375 33.40625 48.484375 \nQ 26.265625 48.484375 22.1875 42.84375 \nQ 18.109375 37.203125 18.109375 27.296875 \nQ 18.109375 17.390625 22.1875 11.75 \nQ 26.265625 6.109375 33.40625 6.109375 \nQ 40.53125 6.109375 44.609375 11.75 \nQ 48.6875 17.390625 48.6875 27.296875 \nz\n\" id=\"DejaVuSans-112\"/>\n       <path d=\"M 30.609375 48.390625 \nQ 23.390625 48.390625 19.1875 42.75 \nQ 14.984375 37.109375 14.984375 27.296875 \nQ 14.984375 17.484375 19.15625 11.84375 \nQ 23.34375 6.203125 30.609375 6.203125 \nQ 37.796875 6.203125 41.984375 11.859375 \nQ 46.1875 17.53125 46.1875 27.296875 \nQ 46.1875 37.015625 41.984375 42.703125 \nQ 37.796875 48.390625 30.609375 48.390625 \nz\nM 30.609375 56 \nQ 42.328125 56 49.015625 48.375 \nQ 55.71875 40.765625 55.71875 27.296875 \nQ 55.71875 13.875 49.015625 6.21875 \nQ 42.328125 -1.421875 30.609375 -1.421875 \nQ 18.84375 -1.421875 12.171875 6.21875 \nQ 5.515625 13.875 5.515625 27.296875 \nQ 5.515625 40.765625 12.171875 48.375 \nQ 18.84375 56 30.609375 56 \nz\n\" id=\"DejaVuSans-111\"/>\n       <path d=\"M 48.78125 52.59375 \nL 48.78125 44.1875 \nQ 44.96875 46.296875 41.140625 47.34375 \nQ 37.3125 48.390625 33.40625 48.390625 \nQ 24.65625 48.390625 19.8125 42.84375 \nQ 14.984375 37.3125 14.984375 27.296875 \nQ 14.984375 17.28125 19.8125 11.734375 \nQ 24.65625 6.203125 33.40625 6.203125 \nQ 37.3125 6.203125 41.140625 7.25 \nQ 44.96875 8.296875 48.78125 10.40625 \nL 48.78125 2.09375 \nQ 45.015625 0.34375 40.984375 -0.53125 \nQ 36.96875 -1.421875 32.421875 -1.421875 \nQ 20.0625 -1.421875 12.78125 6.34375 \nQ 5.515625 14.109375 5.515625 27.296875 \nQ 5.515625 40.671875 12.859375 48.328125 \nQ 20.21875 56 33.015625 56 \nQ 37.15625 56 41.109375 55.140625 \nQ 45.0625 54.296875 48.78125 52.59375 \nz\n\" id=\"DejaVuSans-99\"/>\n       <path d=\"M 54.890625 33.015625 \nL 54.890625 0 \nL 45.90625 0 \nL 45.90625 32.71875 \nQ 45.90625 40.484375 42.875 44.328125 \nQ 39.84375 48.1875 33.796875 48.1875 \nQ 26.515625 48.1875 22.3125 43.546875 \nQ 18.109375 38.921875 18.109375 30.90625 \nL 18.109375 0 \nL 9.078125 0 \nL 9.078125 75.984375 \nL 18.109375 75.984375 \nL 18.109375 46.1875 \nQ 21.34375 51.125 25.703125 53.5625 \nQ 30.078125 56 35.796875 56 \nQ 45.21875 56 50.046875 50.171875 \nQ 54.890625 44.34375 54.890625 33.015625 \nz\n\" id=\"DejaVuSans-104\"/>\n      </defs>\n      <use xlink:href=\"#DejaVuSans-101\"/>\n      <use x=\"61.523438\" xlink:href=\"#DejaVuSans-112\"/>\n      <use x=\"125\" xlink:href=\"#DejaVuSans-111\"/>\n      <use x=\"186.181641\" xlink:href=\"#DejaVuSans-99\"/>\n      <use x=\"241.162109\" xlink:href=\"#DejaVuSans-104\"/>\n     </g>\n    </g>\n   </g>\n   <g id=\"matplotlib.axis_2\">\n    <g id=\"ytick_1\">\n     <g id=\"line2d_10\">\n      <defs>\n       <path d=\"M 0 0 \nL -3.5 0 \n\" id=\"m5a362f42eb\" style=\"stroke:#000000;stroke-width:0.8;\"/>\n      </defs>\n      <g>\n       <use style=\"stroke:#000000;stroke-width:0.8;\" x=\"56.50625\" xlink:href=\"#m5a362f42eb\" y=\"223.696094\"/>\n      </g>\n     </g>\n     <g id=\"text_11\">\n      <!-- 0.666 -->\n      <g transform=\"translate(20.878125 227.495312)scale(0.1 -0.1)\">\n       <defs>\n        <path d=\"M 33.015625 40.375 \nQ 26.375 40.375 22.484375 35.828125 \nQ 18.609375 31.296875 18.609375 23.390625 \nQ 18.609375 15.53125 22.484375 10.953125 \nQ 26.375 6.390625 33.015625 6.390625 \nQ 39.65625 6.390625 43.53125 10.953125 \nQ 47.40625 15.53125 47.40625 23.390625 \nQ 47.40625 31.296875 43.53125 35.828125 \nQ 39.65625 40.375 33.015625 40.375 \nz\nM 52.59375 71.296875 \nL 52.59375 62.3125 \nQ 48.875 64.0625 45.09375 64.984375 \nQ 41.3125 65.921875 37.59375 65.921875 \nQ 27.828125 65.921875 22.671875 59.328125 \nQ 17.53125 52.734375 16.796875 39.40625 \nQ 19.671875 43.65625 24.015625 45.921875 \nQ 28.375 48.1875 33.59375 48.1875 \nQ 44.578125 48.1875 50.953125 41.515625 \nQ 57.328125 34.859375 57.328125 23.390625 \nQ 57.328125 12.15625 50.6875 5.359375 \nQ 44.046875 -1.421875 33.015625 -1.421875 \nQ 20.359375 -1.421875 13.671875 8.265625 \nQ 6.984375 17.96875 6.984375 36.375 \nQ 6.984375 53.65625 15.1875 63.9375 \nQ 23.390625 74.21875 37.203125 74.21875 \nQ 40.921875 74.21875 44.703125 73.484375 \nQ 48.484375 72.75 52.59375 71.296875 \nz\n\" id=\"DejaVuSans-54\"/>\n       </defs>\n       <use xlink:href=\"#DejaVuSans-48\"/>\n       <use x=\"63.623047\" xlink:href=\"#DejaVuSans-46\"/>\n       <use x=\"95.410156\" xlink:href=\"#DejaVuSans-54\"/>\n       <use x=\"159.033203\" xlink:href=\"#DejaVuSans-54\"/>\n       <use x=\"222.65625\" xlink:href=\"#DejaVuSans-54\"/>\n      </g>\n     </g>\n    </g>\n    <g id=\"ytick_2\">\n     <g id=\"line2d_11\">\n      <g>\n       <use style=\"stroke:#000000;stroke-width:0.8;\" x=\"56.50625\" xlink:href=\"#m5a362f42eb\" y=\"192.308197\"/>\n      </g>\n     </g>\n     <g id=\"text_12\">\n      <!-- 0.668 -->\n      <g transform=\"translate(20.878125 196.107416)scale(0.1 -0.1)\">\n       <defs>\n        <path d=\"M 31.78125 34.625 \nQ 24.75 34.625 20.71875 30.859375 \nQ 16.703125 27.09375 16.703125 20.515625 \nQ 16.703125 13.921875 20.71875 10.15625 \nQ 24.75 6.390625 31.78125 6.390625 \nQ 38.8125 6.390625 42.859375 10.171875 \nQ 46.921875 13.96875 46.921875 20.515625 \nQ 46.921875 27.09375 42.890625 30.859375 \nQ 38.875 34.625 31.78125 34.625 \nz\nM 21.921875 38.8125 \nQ 15.578125 40.375 12.03125 44.71875 \nQ 8.5 49.078125 8.5 55.328125 \nQ 8.5 64.0625 14.71875 69.140625 \nQ 20.953125 74.21875 31.78125 74.21875 \nQ 42.671875 74.21875 48.875 69.140625 \nQ 55.078125 64.0625 55.078125 55.328125 \nQ 55.078125 49.078125 51.53125 44.71875 \nQ 48 40.375 41.703125 38.8125 \nQ 48.828125 37.15625 52.796875 32.3125 \nQ 56.78125 27.484375 56.78125 20.515625 \nQ 56.78125 9.90625 50.3125 4.234375 \nQ 43.84375 -1.421875 31.78125 -1.421875 \nQ 19.734375 -1.421875 13.25 4.234375 \nQ 6.78125 9.90625 6.78125 20.515625 \nQ 6.78125 27.484375 10.78125 32.3125 \nQ 14.796875 37.15625 21.921875 38.8125 \nz\nM 18.3125 54.390625 \nQ 18.3125 48.734375 21.84375 45.5625 \nQ 25.390625 42.390625 31.78125 42.390625 \nQ 38.140625 42.390625 41.71875 45.5625 \nQ 45.3125 48.734375 45.3125 54.390625 \nQ 45.3125 60.0625 41.71875 63.234375 \nQ 38.140625 66.40625 31.78125 66.40625 \nQ 25.390625 66.40625 21.84375 63.234375 \nQ 18.3125 60.0625 18.3125 54.390625 \nz\n\" id=\"DejaVuSans-56\"/>\n       </defs>\n       <use xlink:href=\"#DejaVuSans-48\"/>\n       <use x=\"63.623047\" xlink:href=\"#DejaVuSans-46\"/>\n       <use x=\"95.410156\" xlink:href=\"#DejaVuSans-54\"/>\n       <use x=\"159.033203\" xlink:href=\"#DejaVuSans-54\"/>\n       <use x=\"222.65625\" xlink:href=\"#DejaVuSans-56\"/>\n      </g>\n     </g>\n    </g>\n    <g id=\"ytick_3\">\n     <g id=\"line2d_12\">\n      <g>\n       <use style=\"stroke:#000000;stroke-width:0.8;\" x=\"56.50625\" xlink:href=\"#m5a362f42eb\" y=\"160.920301\"/>\n      </g>\n     </g>\n     <g id=\"text_13\">\n      <!-- 0.670 -->\n      <g transform=\"translate(20.878125 164.71952)scale(0.1 -0.1)\">\n       <defs>\n        <path d=\"M 8.203125 72.90625 \nL 55.078125 72.90625 \nL 55.078125 68.703125 \nL 28.609375 0 \nL 18.3125 0 \nL 43.21875 64.59375 \nL 8.203125 64.59375 \nz\n\" id=\"DejaVuSans-55\"/>\n       </defs>\n       <use xlink:href=\"#DejaVuSans-48\"/>\n       <use x=\"63.623047\" xlink:href=\"#DejaVuSans-46\"/>\n       <use x=\"95.410156\" xlink:href=\"#DejaVuSans-54\"/>\n       <use x=\"159.033203\" xlink:href=\"#DejaVuSans-55\"/>\n       <use x=\"222.65625\" xlink:href=\"#DejaVuSans-48\"/>\n      </g>\n     </g>\n    </g>\n    <g id=\"ytick_4\">\n     <g id=\"line2d_13\">\n      <g>\n       <use style=\"stroke:#000000;stroke-width:0.8;\" x=\"56.50625\" xlink:href=\"#m5a362f42eb\" y=\"129.532405\"/>\n      </g>\n     </g>\n     <g id=\"text_14\">\n      <!-- 0.672 -->\n      <g transform=\"translate(20.878125 133.331623)scale(0.1 -0.1)\">\n       <use xlink:href=\"#DejaVuSans-48\"/>\n       <use x=\"63.623047\" xlink:href=\"#DejaVuSans-46\"/>\n       <use x=\"95.410156\" xlink:href=\"#DejaVuSans-54\"/>\n       <use x=\"159.033203\" xlink:href=\"#DejaVuSans-55\"/>\n       <use x=\"222.65625\" xlink:href=\"#DejaVuSans-50\"/>\n      </g>\n     </g>\n    </g>\n    <g id=\"ytick_5\">\n     <g id=\"line2d_14\">\n      <g>\n       <use style=\"stroke:#000000;stroke-width:0.8;\" x=\"56.50625\" xlink:href=\"#m5a362f42eb\" y=\"98.144508\"/>\n      </g>\n     </g>\n     <g id=\"text_15\">\n      <!-- 0.674 -->\n      <g transform=\"translate(20.878125 101.943727)scale(0.1 -0.1)\">\n       <use xlink:href=\"#DejaVuSans-48\"/>\n       <use x=\"63.623047\" xlink:href=\"#DejaVuSans-46\"/>\n       <use x=\"95.410156\" xlink:href=\"#DejaVuSans-54\"/>\n       <use x=\"159.033203\" xlink:href=\"#DejaVuSans-55\"/>\n       <use x=\"222.65625\" xlink:href=\"#DejaVuSans-52\"/>\n      </g>\n     </g>\n    </g>\n    <g id=\"ytick_6\">\n     <g id=\"line2d_15\">\n      <g>\n       <use style=\"stroke:#000000;stroke-width:0.8;\" x=\"56.50625\" xlink:href=\"#m5a362f42eb\" y=\"66.756612\"/>\n      </g>\n     </g>\n     <g id=\"text_16\">\n      <!-- 0.676 -->\n      <g transform=\"translate(20.878125 70.555831)scale(0.1 -0.1)\">\n       <use xlink:href=\"#DejaVuSans-48\"/>\n       <use x=\"63.623047\" xlink:href=\"#DejaVuSans-46\"/>\n       <use x=\"95.410156\" xlink:href=\"#DejaVuSans-54\"/>\n       <use x=\"159.033203\" xlink:href=\"#DejaVuSans-55\"/>\n       <use x=\"222.65625\" xlink:href=\"#DejaVuSans-54\"/>\n      </g>\n     </g>\n    </g>\n    <g id=\"ytick_7\">\n     <g id=\"line2d_16\">\n      <g>\n       <use style=\"stroke:#000000;stroke-width:0.8;\" x=\"56.50625\" xlink:href=\"#m5a362f42eb\" y=\"35.368716\"/>\n      </g>\n     </g>\n     <g id=\"text_17\">\n      <!-- 0.678 -->\n      <g transform=\"translate(20.878125 39.167934)scale(0.1 -0.1)\">\n       <use xlink:href=\"#DejaVuSans-48\"/>\n       <use x=\"63.623047\" xlink:href=\"#DejaVuSans-46\"/>\n       <use x=\"95.410156\" xlink:href=\"#DejaVuSans-54\"/>\n       <use x=\"159.033203\" xlink:href=\"#DejaVuSans-55\"/>\n       <use x=\"222.65625\" xlink:href=\"#DejaVuSans-56\"/>\n      </g>\n     </g>\n    </g>\n    <g id=\"text_18\">\n     <!-- loss -->\n     <g transform=\"translate(14.798438 140.695937)rotate(-90)scale(0.1 -0.1)\">\n      <defs>\n       <path d=\"M 9.421875 75.984375 \nL 18.40625 75.984375 \nL 18.40625 0 \nL 9.421875 0 \nz\n\" id=\"DejaVuSans-108\"/>\n       <path d=\"M 44.28125 53.078125 \nL 44.28125 44.578125 \nQ 40.484375 46.53125 36.375 47.5 \nQ 32.28125 48.484375 27.875 48.484375 \nQ 21.1875 48.484375 17.84375 46.4375 \nQ 14.5 44.390625 14.5 40.28125 \nQ 14.5 37.15625 16.890625 35.375 \nQ 19.28125 33.59375 26.515625 31.984375 \nL 29.59375 31.296875 \nQ 39.15625 29.25 43.1875 25.515625 \nQ 47.21875 21.78125 47.21875 15.09375 \nQ 47.21875 7.46875 41.1875 3.015625 \nQ 35.15625 -1.421875 24.609375 -1.421875 \nQ 20.21875 -1.421875 15.453125 -0.5625 \nQ 10.6875 0.296875 5.421875 2 \nL 5.421875 11.28125 \nQ 10.40625 8.6875 15.234375 7.390625 \nQ 20.0625 6.109375 24.8125 6.109375 \nQ 31.15625 6.109375 34.5625 8.28125 \nQ 37.984375 10.453125 37.984375 14.40625 \nQ 37.984375 18.0625 35.515625 20.015625 \nQ 33.0625 21.96875 24.703125 23.78125 \nL 21.578125 24.515625 \nQ 13.234375 26.265625 9.515625 29.90625 \nQ 5.8125 33.546875 5.8125 39.890625 \nQ 5.8125 47.609375 11.28125 51.796875 \nQ 16.75 56 26.8125 56 \nQ 31.78125 56 36.171875 55.265625 \nQ 40.578125 54.546875 44.28125 53.078125 \nz\n\" id=\"DejaVuSans-115\"/>\n      </defs>\n      <use xlink:href=\"#DejaVuSans-108\"/>\n      <use x=\"27.783203\" xlink:href=\"#DejaVuSans-111\"/>\n      <use x=\"88.964844\" xlink:href=\"#DejaVuSans-115\"/>\n      <use x=\"141.064453\" xlink:href=\"#DejaVuSans-115\"/>\n     </g>\n    </g>\n   </g>\n   <g id=\"line2d_17\">\n    <path clip-path=\"url(#pa3b1bb4ec9)\" d=\"M 71.724432 32.201761 \nL 147.815341 141.531336 \nL 223.90625 156.319583 \nL 299.997159 163.388645 \nL 376.088068 177.279813 \n\" style=\"fill:none;stroke:#1f77b4;stroke-linecap:square;stroke-width:1.5;\"/>\n   </g>\n   <g id=\"line2d_18\">\n    <path clip-path=\"url(#pa3b1bb4ec9)\" d=\"M 71.724432 53.333175 \nL 147.815341 50.29302 \nL 223.90625 94.831754 \nL 299.997159 104.800655 \nL 376.088068 229.874489 \n\" style=\"fill:none;stroke:#ff7f0e;stroke-linecap:square;stroke-width:1.5;\"/>\n   </g>\n   <g id=\"patch_3\">\n    <path d=\"M 56.50625 239.758125 \nL 56.50625 22.318125 \n\" style=\"fill:none;stroke:#000000;stroke-linecap:square;stroke-linejoin:miter;stroke-width:0.8;\"/>\n   </g>\n   <g id=\"patch_4\">\n    <path d=\"M 391.30625 239.758125 \nL 391.30625 22.318125 \n\" style=\"fill:none;stroke:#000000;stroke-linecap:square;stroke-linejoin:miter;stroke-width:0.8;\"/>\n   </g>\n   <g id=\"patch_5\">\n    <path d=\"M 56.50625 239.758125 \nL 391.30625 239.758125 \n\" style=\"fill:none;stroke:#000000;stroke-linecap:square;stroke-linejoin:miter;stroke-width:0.8;\"/>\n   </g>\n   <g id=\"patch_6\">\n    <path d=\"M 56.50625 22.318125 \nL 391.30625 22.318125 \n\" style=\"fill:none;stroke:#000000;stroke-linecap:square;stroke-linejoin:miter;stroke-width:0.8;\"/>\n   </g>\n   <g id=\"text_19\">\n    <!-- model accuracy -->\n    <g transform=\"translate(176.244687 16.318125)scale(0.12 -0.12)\">\n     <defs>\n      <path d=\"M 52 44.1875 \nQ 55.375 50.25 60.0625 53.125 \nQ 64.75 56 71.09375 56 \nQ 79.640625 56 84.28125 50.015625 \nQ 88.921875 44.046875 88.921875 33.015625 \nL 88.921875 0 \nL 79.890625 0 \nL 79.890625 32.71875 \nQ 79.890625 40.578125 77.09375 44.375 \nQ 74.3125 48.1875 68.609375 48.1875 \nQ 61.625 48.1875 57.5625 43.546875 \nQ 53.515625 38.921875 53.515625 30.90625 \nL 53.515625 0 \nL 44.484375 0 \nL 44.484375 32.71875 \nQ 44.484375 40.625 41.703125 44.40625 \nQ 38.921875 48.1875 33.109375 48.1875 \nQ 26.21875 48.1875 22.15625 43.53125 \nQ 18.109375 38.875 18.109375 30.90625 \nL 18.109375 0 \nL 9.078125 0 \nL 9.078125 54.6875 \nL 18.109375 54.6875 \nL 18.109375 46.1875 \nQ 21.1875 51.21875 25.484375 53.609375 \nQ 29.78125 56 35.6875 56 \nQ 41.65625 56 45.828125 52.96875 \nQ 50 49.953125 52 44.1875 \nz\n\" id=\"DejaVuSans-109\"/>\n      <path d=\"M 45.40625 46.390625 \nL 45.40625 75.984375 \nL 54.390625 75.984375 \nL 54.390625 0 \nL 45.40625 0 \nL 45.40625 8.203125 \nQ 42.578125 3.328125 38.25 0.953125 \nQ 33.9375 -1.421875 27.875 -1.421875 \nQ 17.96875 -1.421875 11.734375 6.484375 \nQ 5.515625 14.40625 5.515625 27.296875 \nQ 5.515625 40.1875 11.734375 48.09375 \nQ 17.96875 56 27.875 56 \nQ 33.9375 56 38.25 53.625 \nQ 42.578125 51.265625 45.40625 46.390625 \nz\nM 14.796875 27.296875 \nQ 14.796875 17.390625 18.875 11.75 \nQ 22.953125 6.109375 30.078125 6.109375 \nQ 37.203125 6.109375 41.296875 11.75 \nQ 45.40625 17.390625 45.40625 27.296875 \nQ 45.40625 37.203125 41.296875 42.84375 \nQ 37.203125 48.484375 30.078125 48.484375 \nQ 22.953125 48.484375 18.875 42.84375 \nQ 14.796875 37.203125 14.796875 27.296875 \nz\n\" id=\"DejaVuSans-100\"/>\n      <path id=\"DejaVuSans-32\"/>\n      <path d=\"M 34.28125 27.484375 \nQ 23.390625 27.484375 19.1875 25 \nQ 14.984375 22.515625 14.984375 16.5 \nQ 14.984375 11.71875 18.140625 8.90625 \nQ 21.296875 6.109375 26.703125 6.109375 \nQ 34.1875 6.109375 38.703125 11.40625 \nQ 43.21875 16.703125 43.21875 25.484375 \nL 43.21875 27.484375 \nz\nM 52.203125 31.203125 \nL 52.203125 0 \nL 43.21875 0 \nL 43.21875 8.296875 \nQ 40.140625 3.328125 35.546875 0.953125 \nQ 30.953125 -1.421875 24.3125 -1.421875 \nQ 15.921875 -1.421875 10.953125 3.296875 \nQ 6 8.015625 6 15.921875 \nQ 6 25.140625 12.171875 29.828125 \nQ 18.359375 34.515625 30.609375 34.515625 \nL 43.21875 34.515625 \nL 43.21875 35.40625 \nQ 43.21875 41.609375 39.140625 45 \nQ 35.0625 48.390625 27.6875 48.390625 \nQ 23 48.390625 18.546875 47.265625 \nQ 14.109375 46.140625 10.015625 43.890625 \nL 10.015625 52.203125 \nQ 14.9375 54.109375 19.578125 55.046875 \nQ 24.21875 56 28.609375 56 \nQ 40.484375 56 46.34375 49.84375 \nQ 52.203125 43.703125 52.203125 31.203125 \nz\n\" id=\"DejaVuSans-97\"/>\n      <path d=\"M 8.5 21.578125 \nL 8.5 54.6875 \nL 17.484375 54.6875 \nL 17.484375 21.921875 \nQ 17.484375 14.15625 20.5 10.265625 \nQ 23.53125 6.390625 29.59375 6.390625 \nQ 36.859375 6.390625 41.078125 11.03125 \nQ 45.3125 15.671875 45.3125 23.6875 \nL 45.3125 54.6875 \nL 54.296875 54.6875 \nL 54.296875 0 \nL 45.3125 0 \nL 45.3125 8.40625 \nQ 42.046875 3.421875 37.71875 1 \nQ 33.40625 -1.421875 27.6875 -1.421875 \nQ 18.265625 -1.421875 13.375 4.4375 \nQ 8.5 10.296875 8.5 21.578125 \nz\nM 31.109375 56 \nz\n\" id=\"DejaVuSans-117\"/>\n      <path d=\"M 41.109375 46.296875 \nQ 39.59375 47.171875 37.8125 47.578125 \nQ 36.03125 48 33.890625 48 \nQ 26.265625 48 22.1875 43.046875 \nQ 18.109375 38.09375 18.109375 28.8125 \nL 18.109375 0 \nL 9.078125 0 \nL 9.078125 54.6875 \nL 18.109375 54.6875 \nL 18.109375 46.1875 \nQ 20.953125 51.171875 25.484375 53.578125 \nQ 30.03125 56 36.53125 56 \nQ 37.453125 56 38.578125 55.875 \nQ 39.703125 55.765625 41.0625 55.515625 \nz\n\" id=\"DejaVuSans-114\"/>\n      <path d=\"M 32.171875 -5.078125 \nQ 28.375 -14.84375 24.75 -17.8125 \nQ 21.140625 -20.796875 15.09375 -20.796875 \nL 7.90625 -20.796875 \nL 7.90625 -13.28125 \nL 13.1875 -13.28125 \nQ 16.890625 -13.28125 18.9375 -11.515625 \nQ 21 -9.765625 23.484375 -3.21875 \nL 25.09375 0.875 \nL 2.984375 54.6875 \nL 12.5 54.6875 \nL 29.59375 11.921875 \nL 46.6875 54.6875 \nL 56.203125 54.6875 \nz\n\" id=\"DejaVuSans-121\"/>\n     </defs>\n     <use xlink:href=\"#DejaVuSans-109\"/>\n     <use x=\"97.412109\" xlink:href=\"#DejaVuSans-111\"/>\n     <use x=\"158.59375\" xlink:href=\"#DejaVuSans-100\"/>\n     <use x=\"222.070312\" xlink:href=\"#DejaVuSans-101\"/>\n     <use x=\"283.59375\" xlink:href=\"#DejaVuSans-108\"/>\n     <use x=\"311.376953\" xlink:href=\"#DejaVuSans-32\"/>\n     <use x=\"343.164062\" xlink:href=\"#DejaVuSans-97\"/>\n     <use x=\"404.443359\" xlink:href=\"#DejaVuSans-99\"/>\n     <use x=\"459.423828\" xlink:href=\"#DejaVuSans-99\"/>\n     <use x=\"514.404297\" xlink:href=\"#DejaVuSans-117\"/>\n     <use x=\"577.783203\" xlink:href=\"#DejaVuSans-114\"/>\n     <use x=\"618.896484\" xlink:href=\"#DejaVuSans-97\"/>\n     <use x=\"680.175781\" xlink:href=\"#DejaVuSans-99\"/>\n     <use x=\"735.15625\" xlink:href=\"#DejaVuSans-121\"/>\n    </g>\n   </g>\n   <g id=\"legend_1\">\n    <g id=\"patch_7\">\n     <path d=\"M 63.50625 59.674375 \nL 118.78125 59.674375 \nQ 120.78125 59.674375 120.78125 57.674375 \nL 120.78125 29.318125 \nQ 120.78125 27.318125 118.78125 27.318125 \nL 63.50625 27.318125 \nQ 61.50625 27.318125 61.50625 29.318125 \nL 61.50625 57.674375 \nQ 61.50625 59.674375 63.50625 59.674375 \nz\n\" style=\"fill:#ffffff;opacity:0.8;stroke:#cccccc;stroke-linejoin:miter;\"/>\n    </g>\n    <g id=\"line2d_19\">\n     <path d=\"M 65.50625 35.416562 \nL 85.50625 35.416562 \n\" style=\"fill:none;stroke:#1f77b4;stroke-linecap:square;stroke-width:1.5;\"/>\n    </g>\n    <g id=\"line2d_20\"/>\n    <g id=\"text_20\">\n     <!-- train -->\n     <g transform=\"translate(93.50625 38.916562)scale(0.1 -0.1)\">\n      <defs>\n       <path d=\"M 18.3125 70.21875 \nL 18.3125 54.6875 \nL 36.8125 54.6875 \nL 36.8125 47.703125 \nL 18.3125 47.703125 \nL 18.3125 18.015625 \nQ 18.3125 11.328125 20.140625 9.421875 \nQ 21.96875 7.515625 27.59375 7.515625 \nL 36.8125 7.515625 \nL 36.8125 0 \nL 27.59375 0 \nQ 17.1875 0 13.234375 3.875 \nQ 9.28125 7.765625 9.28125 18.015625 \nL 9.28125 47.703125 \nL 2.6875 47.703125 \nL 2.6875 54.6875 \nL 9.28125 54.6875 \nL 9.28125 70.21875 \nz\n\" id=\"DejaVuSans-116\"/>\n       <path d=\"M 9.421875 54.6875 \nL 18.40625 54.6875 \nL 18.40625 0 \nL 9.421875 0 \nz\nM 9.421875 75.984375 \nL 18.40625 75.984375 \nL 18.40625 64.59375 \nL 9.421875 64.59375 \nz\n\" id=\"DejaVuSans-105\"/>\n       <path d=\"M 54.890625 33.015625 \nL 54.890625 0 \nL 45.90625 0 \nL 45.90625 32.71875 \nQ 45.90625 40.484375 42.875 44.328125 \nQ 39.84375 48.1875 33.796875 48.1875 \nQ 26.515625 48.1875 22.3125 43.546875 \nQ 18.109375 38.921875 18.109375 30.90625 \nL 18.109375 0 \nL 9.078125 0 \nL 9.078125 54.6875 \nL 18.109375 54.6875 \nL 18.109375 46.1875 \nQ 21.34375 51.125 25.703125 53.5625 \nQ 30.078125 56 35.796875 56 \nQ 45.21875 56 50.046875 50.171875 \nQ 54.890625 44.34375 54.890625 33.015625 \nz\n\" id=\"DejaVuSans-110\"/>\n      </defs>\n      <use xlink:href=\"#DejaVuSans-116\"/>\n      <use x=\"39.208984\" xlink:href=\"#DejaVuSans-114\"/>\n      <use x=\"80.322266\" xlink:href=\"#DejaVuSans-97\"/>\n      <use x=\"141.601562\" xlink:href=\"#DejaVuSans-105\"/>\n      <use x=\"169.384766\" xlink:href=\"#DejaVuSans-110\"/>\n     </g>\n    </g>\n    <g id=\"line2d_21\">\n     <path d=\"M 65.50625 50.094687 \nL 85.50625 50.094687 \n\" style=\"fill:none;stroke:#ff7f0e;stroke-linecap:square;stroke-width:1.5;\"/>\n    </g>\n    <g id=\"line2d_22\"/>\n    <g id=\"text_21\">\n     <!-- val -->\n     <g transform=\"translate(93.50625 53.594687)scale(0.1 -0.1)\">\n      <defs>\n       <path d=\"M 2.984375 54.6875 \nL 12.5 54.6875 \nL 29.59375 8.796875 \nL 46.6875 54.6875 \nL 56.203125 54.6875 \nL 35.6875 0 \nL 23.484375 0 \nz\n\" id=\"DejaVuSans-118\"/>\n      </defs>\n      <use xlink:href=\"#DejaVuSans-118\"/>\n      <use x=\"59.179688\" xlink:href=\"#DejaVuSans-97\"/>\n      <use x=\"120.458984\" xlink:href=\"#DejaVuSans-108\"/>\n     </g>\n    </g>\n   </g>\n  </g>\n </g>\n <defs>\n  <clipPath id=\"pa3b1bb4ec9\">\n   <rect height=\"217.44\" width=\"334.8\" x=\"56.50625\" y=\"22.318125\"/>\n  </clipPath>\n </defs>\n</svg>\n",
      "image/png": "[encoded data removed]"
     },
     "metadata": {
      "needs_background": "light"
     }
    }
   ],
   "source": [
    "plt.plot(result.history['binary_crossentropy'])\n",
    "plt.plot(result.history['val_binary_crossentropy'])\n",
    "plt.title('model accuracy')\n",
    "plt.ylabel('loss')\n",
    "plt.xlabel('epoch')\n",
    "plt.legend(['train', 'val'], loc='upper left')\n",
    "plt.show()"
   ]
  },
  {
   "cell_type": "code",
   "execution_count": 38,
   "metadata": {},
   "outputs": [],
   "source": [
    "pred = model.predict(X_test)"
   ]
  },
  {
   "cell_type": "code",
   "execution_count": 39,
   "metadata": {},
   "outputs": [
    {
     "output_type": "execute_result",
     "data": {
      "text/plain": [
       "array([0.5074967 , 0.51459104, 0.56019574, ..., 0.37304753, 0.55572414,\n",
       "       0.37603962], dtype=float32)"
      ]
     },
     "metadata": {},
     "execution_count": 39
    }
   ],
   "source": [
    "pred.reshape(-1)"
   ]
  },
  {
   "cell_type": "code",
   "execution_count": 46,
   "metadata": {},
   "outputs": [
    {
     "output_type": "execute_result",
     "data": {
      "text/plain": [
       "(array([[0.5074967 ],\n",
       "        [0.51459104],\n",
       "        [0.56019574],\n",
       "        ...,\n",
       "        [0.37304753],\n",
       "        [0.55572414],\n",
       "        [0.37603962]], dtype=float32),\n",
       "          like\n",
       " 5442468   1.0\n",
       " 1475424   0.0\n",
       " 7563845   1.0\n",
       " 1790141   0.0\n",
       " 56857     1.0\n",
       " ...       ...\n",
       " 4454309   0.0\n",
       " 6365802   1.0\n",
       " 7950770   0.0\n",
       " 8662216   0.0\n",
       " 8597333   0.0\n",
       " \n",
       " [4343097 rows x 1 columns])"
      ]
     },
     "metadata": {},
     "execution_count": 46
    }
   ],
   "source": [
    "pred, Y_test"
   ]
  },
  {
   "cell_type": "code",
   "execution_count": 51,
   "metadata": {},
   "outputs": [
    {
     "output_type": "execute_result",
     "data": {
      "text/plain": [
       "5442468    1.0\n",
       "1475424    0.0\n",
       "7563845    1.0\n",
       "1790141    0.0\n",
       "56857      1.0\n",
       "          ... \n",
       "4454309    0.0\n",
       "6365802    1.0\n",
       "7950770    0.0\n",
       "8662216    0.0\n",
       "8597333    0.0\n",
       "Name: like, Length: 4343097, dtype: float64"
      ]
     },
     "metadata": {},
     "execution_count": 51
    }
   ],
   "source": [
    "Y_test['like'].astype(np.float64)"
   ]
  },
  {
   "cell_type": "code",
   "execution_count": 53,
   "metadata": {},
   "outputs": [
    {
     "output_type": "execute_result",
     "data": {
      "text/plain": [
       "0.7514130577736422"
      ]
     },
     "metadata": {},
     "execution_count": 53
    }
   ],
   "source": [
    "rce = compute_rce(pred.astype(np.float64), Y_test['like'].astype(np.float64))\n",
    "rce"
   ]
  },
  {
   "cell_type": "code",
   "execution_count": 44,
   "metadata": {},
   "outputs": [
    {
     "output_type": "execute_result",
     "data": {
      "text/plain": [
       "0.4858346180148363"
      ]
     },
     "metadata": {},
     "execution_count": 44
    }
   ],
   "source": [
    "average_precision_score(Y_test, pred)"
   ]
  },
  {
   "cell_type": "code",
   "execution_count": null,
   "metadata": {},
   "outputs": [],
   "source": []
  }
 ]
}