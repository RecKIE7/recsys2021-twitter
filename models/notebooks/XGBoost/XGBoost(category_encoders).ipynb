{
<<<<<<< HEAD
=======
 "metadata": {
  "language_info": {
   "codemirror_mode": {
    "name": "ipython",
    "version": 3
   },
   "file_extension": ".py",
   "mimetype": "text/x-python",
   "name": "python",
   "nbconvert_exporter": "python",
   "pygments_lexer": "ipython3",
   "version": "3.7.10"
  },
  "orig_nbformat": 2,
  "kernelspec": {
   "name": "python3710jvsc74a57bd0c4c1a3e9c3a39a0885e9d9bd6e4723f2ede522dfea9ed13682022cc292aed1ac",
   "display_name": "Python 3.7.10 64-bit ('dask-cudf': conda)"
  }
 },
 "nbformat": 4,
 "nbformat_minor": 2,
>>>>>>> f99bf1341d8f56c72cf1437f53db84723617da63
 "cells": [
  {
   "cell_type": "code",
   "execution_count": 1,
   "metadata": {},
   "outputs": [],
   "source": [
    "import os\n",
    "import sys\n",
    "sys.path.append('../../..')\n",
    "\n",
    "import numpy as np\n",
    "from datetime import datetime\n",
    "import matplotlib.pyplot as plt\n",
    "import pandas as pd, numpy as np, gc\n",
    "from tqdm import tqdm\n",
    "import joblib\n",
    "import xgboost as xgb\n",
    "import pickle\n",
    "pd.set_option('display.max_columns', 500)\n",
    "\n",
    "\n",
    "from utils.util import *\n",
    "from utils.evaluate import calculate_ctr, compute_rce, average_precision_score\n",
    "from utils.dataiter import Dataiter\n",
    "from utils.preprocessing import *\n",
    "from utils.target_encode import MTE_one_shot\n",
    "\n",
    "import core.config as conf"
   ]
  },
  {
   "cell_type": "code",
   "execution_count": 2,
   "metadata": {},
   "outputs": [],
   "source": [
    "path = f'{conf.raw_lzo_path}part-00000'\n",
    "train = read_data(path)\n",
    "path = f'{conf.raw_lzo_path}part-00001'\n",
    "train2 = read_data(path)\n",
    "path = f'{conf.raw_lzo_path}part-00002'\n",
    "valid = read_data(path)\n",
    "gc.collect()\n",
    "save_memory( train )"
   ]
  },
  {
   "cell_type": "code",
   "execution_count": 6,
   "metadata": {},
   "outputs": [],
   "source": [
    "TARGET = 'like'\n",
    "# ypred['like'] = valid[[TARGET+'_timestamp']].applymap(lambda x : 1 if x > 0 else 0)"
   ]
  },
  {
   "cell_type": "code",
   "execution_count": 7,
   "metadata": {},
   "outputs": [],
   "source": [
    "import numpy as np\n",
    "class MTE_one_shot:\n",
    "    \n",
    "    def __init__(self, folds, smooth, seed=42):\n",
    "        self.folds = folds\n",
    "        self.seed = seed\n",
    "        self.smooth = smooth\n",
    "        # self.agg_all = pd.DataFrame()\n",
    "        \n",
    "    def fit_transform(self, train, x_col, y_col, y_mean=None, out_col = None, out_dtype=None):\n",
    "        \n",
    "        self.y_col = y_col\n",
    "        np.random.seed(self.seed)\n",
    "        \n",
    "        if 'fold' not in train.columns:\n",
    "            fsize = len(train)//self.folds\n",
    "            train['fold'] = 1\n",
    "            train['fold'] = train['fold'].cumsum()\n",
    "            train['fold'] = train['fold']//fsize\n",
    "            train['fold'] = train['fold']%self.folds\n",
    "        \n",
    "        if out_col is None:\n",
    "            tag = x_col if isinstance(x_col,str) else '_'.join(x_col)\n",
    "            out_col = f'TE_{tag}_{self.y_col}'\n",
    "        \n",
    "        if y_mean is None:\n",
    "            y_mean = train[y_col].mean()#.compute().astype('float32')\n",
    "        self.mean = y_mean # mean도 누적해서 바꿔주면 좋을듯\n",
    "        \n",
    "        cols = ['fold',x_col] if isinstance(x_col,str) else ['fold']+x_col\n",
    "        \n",
    "        agg_each_fold = train.groupby(cols).agg({y_col:['count','sum']}).reset_index()\n",
    "        agg_each_fold.columns = cols + ['count_y','sum_y']\n",
    "        \n",
    "        agg_all = agg_each_fold.groupby(x_col).agg({'count_y':'sum','sum_y':'sum'}).reset_index()\n",
    "        cols = [x_col] if isinstance(x_col,str) else x_col\n",
    "        agg_all.columns = cols + ['count_y_all','sum_y_all']\n",
    "        \n",
    "        agg_each_fold = agg_each_fold.merge(agg_all,on=x_col,how='left')\n",
    "        agg_each_fold['count_y_all'] = agg_each_fold['count_y_all'] - agg_each_fold['count_y']\n",
    "        agg_each_fold['sum_y_all'] = agg_each_fold['sum_y_all'] - agg_each_fold['sum_y']\n",
    "        agg_each_fold[out_col] = (agg_each_fold['sum_y_all']+self.smooth*self.mean)/(agg_each_fold['count_y_all']+self.smooth)\n",
    "        agg_each_fold = agg_each_fold.drop(['count_y_all','count_y','sum_y_all','sum_y'],axis=1)\n",
    "        \n",
    "        agg_all[out_col] = (agg_all['sum_y_all']+self.smooth*self.mean)/(agg_all['count_y_all']+self.smooth)\n",
    "        agg_all = agg_all.drop(['count_y_all','sum_y_all'],axis=1)\n",
    "        \n",
    "        if hasattr(self, 'agg_all'):\n",
    "            print('train2')\n",
    "            self.agg_all = pd.concat([self.agg_all, agg_all])\n",
    "            \n",
    "        else:\n",
    "            print('train1')\n",
    "            self.agg_all = agg_all\n",
    "        \n",
    "        self.agg_all = self.agg_all.drop_duplicates(x_col, keep='last')\n",
    "        agg_all.to_csv('agg_all.csv', index=False)\n",
    "\n",
    "        train.columns\n",
    "        cols = ['fold',x_col] if isinstance(x_col,str) else ['fold']+x_col\n",
    "        train = train.merge(agg_each_fold,on=cols,how='left')\n",
    "        del agg_each_fold\n",
    "        #self.agg_each_fold = agg_each_fold\n",
    "        #train[out_col] = train.map_partitions(lambda cudf_df: cudf_df[out_col].nans_to_nulls())\n",
    "        train[out_col] = train[out_col].fillna(self.mean)\n",
    "        \n",
    "        if out_dtype is not None:\n",
    "            train[out_col] = train[out_col].astype(out_dtype)\n",
    "        return train\n",
    "    \n",
    "    def transform(self, test, x_col, out_col = None, out_dtype=None):\n",
    "        \n",
    "        # self.agg_all = pd.read_csv('agg_all.csv')\n",
    "        print(len(self.agg_all))\n",
    "        \n",
    "        if out_col is None:\n",
    "            tag = x_col if isinstance(x_col,str) else '_'.join(x_col)\n",
    "            out_col = f'TE_{tag}_{self.y_col}'\n",
    "        test = test.merge(self.agg_all,on=x_col,how='left')\n",
    "        test[out_col] = test[out_col].fillna(self.mean)\n",
    "        # test[out_col] = test[out_col].fillna(0)\n",
    "        if out_dtype is not None:\n",
    "            test[out_col] = test[out_col].astype(out_dtype)\n",
    "        return test"
   ]
  },
  {
   "cell_type": "code",
   "execution_count": 12,
   "metadata": {},
   "outputs": [],
   "source": [
    "def set_dataframe_types(df, train):\n",
    "    df['id']   = np.arange( df.shape[0] )\n",
    "    df['id']   = df['id'].astype(np.uint32)\n",
    "\n",
    "    if train:\n",
    "        df['reply_timestamp']   = df['reply_timestamp'].fillna(0)\n",
    "        df['retweet_timestamp'] = df['retweet_timestamp'].fillna(0)\n",
    "        df['comment_timestamp'] = df['comment_timestamp'].fillna(0)\n",
    "        df['like_timestamp']    = df['like_timestamp'].fillna(0)\n",
    "\n",
    "        df['reply_timestamp']   = df['reply_timestamp'].astype(np.uint32)\n",
    "        df['retweet_timestamp'] = df['retweet_timestamp'].astype(np.uint32)\n",
    "        df['comment_timestamp'] = df['comment_timestamp'].astype(np.uint32)\n",
    "        df['like_timestamp']    = df['like_timestamp'].astype(np.uint32)\n",
    "\n",
    "    df['tweet_timestamp']         = df['tweet_timestamp'].astype( np.uint32 )\n",
    "    df['creator_follower_count']  = df['creator_follower_count'].astype( np.uint32 )\n",
    "    df['creator_following_count'] = df['creator_following_count'].astype( np.uint32 )\n",
    "    df['creator_account_creation']= df['creator_account_creation'].astype( np.uint32 )\n",
    "    df['engager_follower_count']  = df['engager_follower_count'].astype( np.uint32 )\n",
    "    df['engager_following_count'] = df['engager_following_count'].astype( np.uint32 )\n",
    "    df['engager_account_creation']= df['engager_account_creation'].astype( np.uint32 )\n",
    "\n",
    "    return df\n",
    "\n",
    "\n",
    "\n",
    "def preprocess(df, target, train):\n",
    "    df = set_dataframe_types(df, train)\n",
    "    # df = df.set_index('id')\n",
    "    # df.columns = conf.raw_features + conf.labels\n",
    "    df = df.drop('text_tokens', axis=1)\n",
    "    \n",
    "    df = feature_extraction(df, features=conf.used_features, train=train) # extract 'used_features'\n",
    "    cols = []\n",
    "    print('target_encode')\n",
    "    for c in tqdm([\n",
    "        ['engager_id'],\n",
    "        ['engager_id','tweet_type','language'],\n",
    "        ['creator_id'],\n",
    "        ['domains','media','tweet_type','language']\n",
    "        ]):\n",
    "        out_col = 'TE_'+'_'.join(c)+'_'+target\n",
<<<<<<< HEAD
    "        if os.path.exists(f'./{out_col}_encoder.pkl'):\n",
    "            with open(f'./{out_col}_encoder.pkl', 'rb') as f:\n",
=======
    "        encoder_path = f'{out_col}.pkl'\n",
    "        if os.path.exists(encoder_path):\n",
    "            with open(encoder_path, 'rb') as f:\n",
>>>>>>> f99bf1341d8f56c72cf1437f53db84723617da63
    "                encoder = pickle.load(f)\n",
    "        else:\n",
    "            encoder = MTE_one_shot(folds=5,smooth=20)\n",
    "\n",
    "        if train:\n",
    "            \n",
    "            df = encoder.fit_transform(df, c, target, out_col=out_col, out_dtype='float32')\n",
<<<<<<< HEAD
    "            with open(f'./{out_col}_encoder.pkl', 'wb') as f:\n",
=======
    "            with open(encoder_path, 'wb') as f:\n",
>>>>>>> f99bf1341d8f56c72cf1437f53db84723617da63
    "                pickle.dump(encoder, f)\n",
    "        else:\n",
    "                df = encoder.transform(df, c, out_col=out_col, out_dtype='float32')\n",
    "\n",
    "        cols.append(out_col)\n",
    "        del encoder\n",
    "\n",
    "\n",
    "    return df"
   ]
  },
  {
   "cell_type": "code",
   "execution_count": 13,
   "metadata": {},
   "outputs": [
    {
     "name": "stderr",
     "output_type": "stream",
     "text": [
      "\r",
      "  0%|          | 0/4 [00:00<?, ?it/s]"
     ]
    },
    {
     "name": "stdout",
     "output_type": "stream",
     "text": [
      "target_encode\n",
      "train1\n"
     ]
    },
    {
     "name": "stderr",
     "output_type": "stream",
     "text": [
<<<<<<< HEAD
      "\r",
      " 25%|██▌       | 1/4 [00:18<00:54, 18.33s/it]"
     ]
    },
    {
     "name": "stdout",
     "output_type": "stream",
     "text": [
      "train1\n"
     ]
    },
    {
     "name": "stderr",
     "output_type": "stream",
     "text": [
      "\r",
      " 50%|█████     | 2/4 [00:38<00:39, 19.58s/it]"
     ]
    },
    {
     "name": "stdout",
     "output_type": "stream",
     "text": [
      "train1\n"
     ]
    },
    {
     "name": "stderr",
     "output_type": "stream",
     "text": [
      "\r",
      " 75%|███████▌  | 3/4 [00:51<00:16, 16.42s/it]"
     ]
    },
    {
     "name": "stdout",
     "output_type": "stream",
     "text": [
      "train1\n"
     ]
    },
    {
     "name": "stderr",
     "output_type": "stream",
     "text": [
      "100%|██████████| 4/4 [00:52<00:00, 13.08s/it]\n"
=======
      "  0%|          | 0/1 [00:00<?, ?it/s]target_encode\n",
      "train1\n",
      "100%|██████████| 1/1 [00:16<00:00, 16.12s/it]\n"
>>>>>>> f99bf1341d8f56c72cf1437f53db84723617da63
     ]
    }
   ],
   "source": [
    "\n",
    "train = preprocess(train, TARGET, True)\n"
   ]
  },
  {
   "cell_type": "code",
<<<<<<< HEAD
   "execution_count": 7,
   "metadata": {},
   "outputs": [
    {
     "data": {
      "text/html": [
       "<div>\n",
       "<style scoped>\n",
       "    .dataframe tbody tr th:only-of-type {\n",
       "        vertical-align: middle;\n",
       "    }\n",
       "\n",
       "    .dataframe tbody tr th {\n",
       "        vertical-align: top;\n",
       "    }\n",
       "\n",
       "    .dataframe thead th {\n",
       "        text-align: right;\n",
       "    }\n",
       "</style>\n",
       "<table border=\"1\" class=\"dataframe\">\n",
       "  <thead>\n",
       "    <tr style=\"text-align: right;\">\n",
       "      <th></th>\n",
       "      <th>creator_id</th>\n",
       "      <th>engager_id</th>\n",
       "      <th>tweet_id</th>\n",
       "      <th>tweet_type</th>\n",
       "      <th>language</th>\n",
       "      <th>creator_follower_count</th>\n",
       "      <th>creator_following_count</th>\n",
       "      <th>domains</th>\n",
       "      <th>media</th>\n",
       "      <th>tweet_timestamp</th>\n",
       "      <th>reply</th>\n",
       "      <th>retweet</th>\n",
       "      <th>comment</th>\n",
       "      <th>like</th>\n",
       "      <th>dt_day</th>\n",
       "      <th>dt_dow</th>\n",
       "      <th>dt_hour</th>\n",
       "      <th>len_domains</th>\n",
       "      <th>fold</th>\n",
       "      <th>TE_engager_id_like</th>\n",
       "      <th>TE_engager_id_tweet_type_language_like</th>\n",
       "      <th>TE_creator_id_like</th>\n",
       "      <th>TE_domains_media_tweet_type_language_like</th>\n",
       "    </tr>\n",
       "  </thead>\n",
       "  <tbody>\n",
       "    <tr>\n",
       "      <th>0</th>\n",
       "      <td>BC9980C5385A68894C2862F41884FB27</td>\n",
       "      <td>2AEB7AFFD36CA43C0C963F24F75BCCAC</td>\n",
       "      <td>5DCE3020423313CB0AC2631DEF94D2F5</td>\n",
       "      <td>1</td>\n",
       "      <td>19</td>\n",
       "      <td>2473</td>\n",
       "      <td>662</td>\n",
       "      <td>0</td>\n",
       "      <td>0</td>\n",
       "      <td>1613237034</td>\n",
       "      <td>0.0</td>\n",
       "      <td>0.0</td>\n",
       "      <td>0.0</td>\n",
       "      <td>0.0</td>\n",
       "      <td>13</td>\n",
       "      <td>5</td>\n",
       "      <td>17</td>\n",
       "      <td>0</td>\n",
       "      <td>0</td>\n",
       "      <td>0.452756</td>\n",
       "      <td>0.398031</td>\n",
       "      <td>0.398031</td>\n",
       "      <td>0.243307</td>\n",
       "    </tr>\n",
       "    <tr>\n",
       "      <th>1</th>\n",
       "      <td>C0EBA033A5C0D2AD91B4500958E2C633</td>\n",
       "      <td>865C52D28FA84E5E233B530C6FDAECC2</td>\n",
       "      <td>2B6F5C7C4F04F34543C09DD6E58C8F66</td>\n",
       "      <td>2</td>\n",
       "      <td>46</td>\n",
       "      <td>4418640</td>\n",
       "      <td>228</td>\n",
       "      <td>1</td>\n",
       "      <td>0</td>\n",
       "      <td>1613748600</td>\n",
       "      <td>0.0</td>\n",
       "      <td>0.0</td>\n",
       "      <td>0.0</td>\n",
       "      <td>0.0</td>\n",
       "      <td>19</td>\n",
       "      <td>4</td>\n",
       "      <td>15</td>\n",
       "      <td>1</td>\n",
       "      <td>0</td>\n",
       "      <td>0.407301</td>\n",
       "      <td>0.426697</td>\n",
       "      <td>0.237158</td>\n",
       "      <td>0.159076</td>\n",
       "    </tr>\n",
       "    <tr>\n",
       "      <th>2</th>\n",
       "      <td>03EA05E7440140ABF047BC216CE34917</td>\n",
       "      <td>FE83E568BD4B2ACDBAF876CFBB6C7296</td>\n",
       "      <td>784D3AE5E6429392245BD34FF4C82B5C</td>\n",
       "      <td>2</td>\n",
       "      <td>46</td>\n",
       "      <td>219715</td>\n",
       "      <td>3685</td>\n",
       "      <td>2</td>\n",
       "      <td>0</td>\n",
       "      <td>1613386238</td>\n",
       "      <td>0.0</td>\n",
       "      <td>0.0</td>\n",
       "      <td>0.0</td>\n",
       "      <td>1.0</td>\n",
       "      <td>15</td>\n",
       "      <td>0</td>\n",
       "      <td>10</td>\n",
       "      <td>1</td>\n",
       "      <td>0</td>\n",
       "      <td>0.398031</td>\n",
       "      <td>0.398031</td>\n",
       "      <td>0.734715</td>\n",
       "      <td>0.460005</td>\n",
       "    </tr>\n",
       "    <tr>\n",
       "      <th>3</th>\n",
       "      <td>2700B9E175757F126C082D6A5742787D</td>\n",
       "      <td>DB0201BF93E4CCA1B55932AC36923E43</td>\n",
       "      <td>CA49ACBB31921F2A0FAC1CCCC99541F6</td>\n",
       "      <td>1</td>\n",
       "      <td>46</td>\n",
       "      <td>2388283</td>\n",
       "      <td>13511</td>\n",
       "      <td>0</td>\n",
       "      <td>0</td>\n",
       "      <td>1613708640</td>\n",
       "      <td>0.0</td>\n",
       "      <td>0.0</td>\n",
       "      <td>0.0</td>\n",
       "      <td>0.0</td>\n",
       "      <td>19</td>\n",
       "      <td>4</td>\n",
       "      <td>4</td>\n",
       "      <td>0</td>\n",
       "      <td>0</td>\n",
       "      <td>0.398031</td>\n",
       "      <td>0.398031</td>\n",
       "      <td>0.184456</td>\n",
       "      <td>0.220533</td>\n",
       "    </tr>\n",
       "    <tr>\n",
       "      <th>4</th>\n",
       "      <td>B7E441F2D886830FB3F0CE29CB35CB6B</td>\n",
       "      <td>04F45C4A769FE2D7C792A96C92342DC2</td>\n",
       "      <td>2C95B42C651B36D84584F3653D722142</td>\n",
       "      <td>2</td>\n",
       "      <td>61</td>\n",
       "      <td>414</td>\n",
       "      <td>720</td>\n",
       "      <td>0</td>\n",
       "      <td>5</td>\n",
       "      <td>1612586018</td>\n",
       "      <td>0.0</td>\n",
       "      <td>0.0</td>\n",
       "      <td>0.0</td>\n",
       "      <td>1.0</td>\n",
       "      <td>6</td>\n",
       "      <td>5</td>\n",
       "      <td>4</td>\n",
       "      <td>0</td>\n",
       "      <td>0</td>\n",
       "      <td>0.379077</td>\n",
       "      <td>0.379077</td>\n",
       "      <td>0.398031</td>\n",
       "      <td>0.610387</td>\n",
       "    </tr>\n",
       "    <tr>\n",
       "      <th>...</th>\n",
       "      <td>...</td>\n",
       "      <td>...</td>\n",
       "      <td>...</td>\n",
       "      <td>...</td>\n",
       "      <td>...</td>\n",
       "      <td>...</td>\n",
       "      <td>...</td>\n",
       "      <td>...</td>\n",
       "      <td>...</td>\n",
       "      <td>...</td>\n",
       "      <td>...</td>\n",
       "      <td>...</td>\n",
       "      <td>...</td>\n",
       "      <td>...</td>\n",
       "      <td>...</td>\n",
       "      <td>...</td>\n",
       "      <td>...</td>\n",
       "      <td>...</td>\n",
       "      <td>...</td>\n",
       "      <td>...</td>\n",
       "      <td>...</td>\n",
       "      <td>...</td>\n",
       "      <td>...</td>\n",
       "    </tr>\n",
       "    <tr>\n",
       "      <th>3033897</th>\n",
       "      <td>D61350A37DDC6E19AD5B1D44C607FF7D</td>\n",
       "      <td>AB51B05ACD422823A8567E51D106FBCF</td>\n",
       "      <td>25B1D557E6B6D7298CA3888C72F9F7B5</td>\n",
       "      <td>1</td>\n",
       "      <td>48</td>\n",
       "      <td>2230</td>\n",
       "      <td>2332</td>\n",
       "      <td>0</td>\n",
       "      <td>0</td>\n",
       "      <td>1612804061</td>\n",
       "      <td>0.0</td>\n",
       "      <td>0.0</td>\n",
       "      <td>0.0</td>\n",
       "      <td>0.0</td>\n",
       "      <td>8</td>\n",
       "      <td>0</td>\n",
       "      <td>17</td>\n",
       "      <td>0</td>\n",
       "      <td>4</td>\n",
       "      <td>0.398031</td>\n",
       "      <td>0.398031</td>\n",
       "      <td>0.398031</td>\n",
       "      <td>0.289877</td>\n",
       "    </tr>\n",
       "    <tr>\n",
       "      <th>3033898</th>\n",
       "      <td>9009A33FB64F15F71D689C46FD40DA0E</td>\n",
       "      <td>2F0B0497A2C1F6DBF120782E915B1F63</td>\n",
       "      <td>3A656480D09FCCBA39B0E28FBFA64B72</td>\n",
       "      <td>2</td>\n",
       "      <td>19</td>\n",
       "      <td>90842</td>\n",
       "      <td>687</td>\n",
       "      <td>0</td>\n",
       "      <td>9</td>\n",
       "      <td>1613964078</td>\n",
       "      <td>1.0</td>\n",
       "      <td>0.0</td>\n",
       "      <td>0.0</td>\n",
       "      <td>0.0</td>\n",
       "      <td>22</td>\n",
       "      <td>0</td>\n",
       "      <td>3</td>\n",
       "      <td>0</td>\n",
       "      <td>4</td>\n",
       "      <td>0.398031</td>\n",
       "      <td>0.398031</td>\n",
       "      <td>0.592553</td>\n",
       "      <td>0.433427</td>\n",
       "    </tr>\n",
       "    <tr>\n",
       "      <th>3033899</th>\n",
       "      <td>57F1EBC5767EA3F7CE3EEDB6EAE9B097</td>\n",
       "      <td>5FFAD564CE93396A11C7951AA07D019E</td>\n",
       "      <td>E236B2359B119B2A7668FA83AC5E750B</td>\n",
       "      <td>1</td>\n",
       "      <td>19</td>\n",
       "      <td>608</td>\n",
       "      <td>328</td>\n",
       "      <td>0</td>\n",
       "      <td>0</td>\n",
       "      <td>1614124187</td>\n",
       "      <td>0.0</td>\n",
       "      <td>0.0</td>\n",
       "      <td>0.0</td>\n",
       "      <td>0.0</td>\n",
       "      <td>23</td>\n",
       "      <td>1</td>\n",
       "      <td>23</td>\n",
       "      <td>0</td>\n",
       "      <td>0</td>\n",
       "      <td>0.398031</td>\n",
       "      <td>0.398031</td>\n",
       "      <td>0.398031</td>\n",
       "      <td>0.243307</td>\n",
       "    </tr>\n",
       "    <tr>\n",
       "      <th>3033900</th>\n",
       "      <td>D3D9F1F6F4CCFA079891511B0818FF03</td>\n",
       "      <td>1C3C0C32D7AEBCA253DC54EC85084951</td>\n",
       "      <td>B42CB5B47ABCCA8700686CD8F32696B6</td>\n",
       "      <td>2</td>\n",
       "      <td>46</td>\n",
       "      <td>6777417</td>\n",
       "      <td>888</td>\n",
       "      <td>0</td>\n",
       "      <td>0</td>\n",
       "      <td>1613329929</td>\n",
       "      <td>0.0</td>\n",
       "      <td>0.0</td>\n",
       "      <td>0.0</td>\n",
       "      <td>1.0</td>\n",
       "      <td>14</td>\n",
       "      <td>6</td>\n",
       "      <td>19</td>\n",
       "      <td>0</td>\n",
       "      <td>0</td>\n",
       "      <td>0.398031</td>\n",
       "      <td>0.398031</td>\n",
       "      <td>0.360007</td>\n",
       "      <td>0.512831</td>\n",
       "    </tr>\n",
       "    <tr>\n",
       "      <th>3033901</th>\n",
       "      <td>79E0210EA9B5D9CD0A6950A1DCEBD9CA</td>\n",
       "      <td>F1383136D37D9DE0A8EF9C6DB973DCC1</td>\n",
       "      <td>0A3692BBC4209238759F79D392C225C8</td>\n",
       "      <td>1</td>\n",
       "      <td>19</td>\n",
       "      <td>2334</td>\n",
       "      <td>746</td>\n",
       "      <td>0</td>\n",
       "      <td>0</td>\n",
       "      <td>1612602313</td>\n",
       "      <td>0.0</td>\n",
       "      <td>1.0</td>\n",
       "      <td>0.0</td>\n",
       "      <td>0.0</td>\n",
       "      <td>6</td>\n",
       "      <td>5</td>\n",
       "      <td>9</td>\n",
       "      <td>0</td>\n",
       "      <td>0</td>\n",
       "      <td>0.398031</td>\n",
       "      <td>0.398031</td>\n",
       "      <td>0.398031</td>\n",
       "      <td>0.243307</td>\n",
       "    </tr>\n",
       "  </tbody>\n",
       "</table>\n",
       "<p>3033902 rows × 23 columns</p>\n",
       "</div>"
      ],
      "text/plain": [
       "                               creator_id                        engager_id  \\\n",
       "0        BC9980C5385A68894C2862F41884FB27  2AEB7AFFD36CA43C0C963F24F75BCCAC   \n",
       "1        C0EBA033A5C0D2AD91B4500958E2C633  865C52D28FA84E5E233B530C6FDAECC2   \n",
       "2        03EA05E7440140ABF047BC216CE34917  FE83E568BD4B2ACDBAF876CFBB6C7296   \n",
       "3        2700B9E175757F126C082D6A5742787D  DB0201BF93E4CCA1B55932AC36923E43   \n",
       "4        B7E441F2D886830FB3F0CE29CB35CB6B  04F45C4A769FE2D7C792A96C92342DC2   \n",
       "...                                   ...                               ...   \n",
       "3033897  D61350A37DDC6E19AD5B1D44C607FF7D  AB51B05ACD422823A8567E51D106FBCF   \n",
       "3033898  9009A33FB64F15F71D689C46FD40DA0E  2F0B0497A2C1F6DBF120782E915B1F63   \n",
       "3033899  57F1EBC5767EA3F7CE3EEDB6EAE9B097  5FFAD564CE93396A11C7951AA07D019E   \n",
       "3033900  D3D9F1F6F4CCFA079891511B0818FF03  1C3C0C32D7AEBCA253DC54EC85084951   \n",
       "3033901  79E0210EA9B5D9CD0A6950A1DCEBD9CA  F1383136D37D9DE0A8EF9C6DB973DCC1   \n",
       "\n",
       "                                 tweet_id  tweet_type  language  \\\n",
       "0        5DCE3020423313CB0AC2631DEF94D2F5           1        19   \n",
       "1        2B6F5C7C4F04F34543C09DD6E58C8F66           2        46   \n",
       "2        784D3AE5E6429392245BD34FF4C82B5C           2        46   \n",
       "3        CA49ACBB31921F2A0FAC1CCCC99541F6           1        46   \n",
       "4        2C95B42C651B36D84584F3653D722142           2        61   \n",
       "...                                   ...         ...       ...   \n",
       "3033897  25B1D557E6B6D7298CA3888C72F9F7B5           1        48   \n",
       "3033898  3A656480D09FCCBA39B0E28FBFA64B72           2        19   \n",
       "3033899  E236B2359B119B2A7668FA83AC5E750B           1        19   \n",
       "3033900  B42CB5B47ABCCA8700686CD8F32696B6           2        46   \n",
       "3033901  0A3692BBC4209238759F79D392C225C8           1        19   \n",
       "\n",
       "         creator_follower_count  creator_following_count  domains  media  \\\n",
       "0                          2473                      662        0      0   \n",
       "1                       4418640                      228        1      0   \n",
       "2                        219715                     3685        2      0   \n",
       "3                       2388283                    13511        0      0   \n",
       "4                           414                      720        0      5   \n",
       "...                         ...                      ...      ...    ...   \n",
       "3033897                    2230                     2332        0      0   \n",
       "3033898                   90842                      687        0      9   \n",
       "3033899                     608                      328        0      0   \n",
       "3033900                 6777417                      888        0      0   \n",
       "3033901                    2334                      746        0      0   \n",
       "\n",
       "         tweet_timestamp  reply  retweet  comment  like  dt_day  dt_dow  \\\n",
       "0             1613237034    0.0      0.0      0.0   0.0      13       5   \n",
       "1             1613748600    0.0      0.0      0.0   0.0      19       4   \n",
       "2             1613386238    0.0      0.0      0.0   1.0      15       0   \n",
       "3             1613708640    0.0      0.0      0.0   0.0      19       4   \n",
       "4             1612586018    0.0      0.0      0.0   1.0       6       5   \n",
       "...                  ...    ...      ...      ...   ...     ...     ...   \n",
       "3033897       1612804061    0.0      0.0      0.0   0.0       8       0   \n",
       "3033898       1613964078    1.0      0.0      0.0   0.0      22       0   \n",
       "3033899       1614124187    0.0      0.0      0.0   0.0      23       1   \n",
       "3033900       1613329929    0.0      0.0      0.0   1.0      14       6   \n",
       "3033901       1612602313    0.0      1.0      0.0   0.0       6       5   \n",
       "\n",
       "         dt_hour  len_domains  fold  TE_engager_id_like  \\\n",
       "0             17            0     0            0.452756   \n",
       "1             15            1     0            0.407301   \n",
       "2             10            1     0            0.398031   \n",
       "3              4            0     0            0.398031   \n",
       "4              4            0     0            0.379077   \n",
       "...          ...          ...   ...                 ...   \n",
       "3033897       17            0     4            0.398031   \n",
       "3033898        3            0     4            0.398031   \n",
       "3033899       23            0     0            0.398031   \n",
       "3033900       19            0     0            0.398031   \n",
       "3033901        9            0     0            0.398031   \n",
       "\n",
       "         TE_engager_id_tweet_type_language_like  TE_creator_id_like  \\\n",
       "0                                      0.398031            0.398031   \n",
       "1                                      0.426697            0.237158   \n",
       "2                                      0.398031            0.734715   \n",
       "3                                      0.398031            0.184456   \n",
       "4                                      0.379077            0.398031   \n",
       "...                                         ...                 ...   \n",
       "3033897                                0.398031            0.398031   \n",
       "3033898                                0.398031            0.592553   \n",
       "3033899                                0.398031            0.398031   \n",
       "3033900                                0.398031            0.360007   \n",
       "3033901                                0.398031            0.398031   \n",
       "\n",
       "         TE_domains_media_tweet_type_language_like  \n",
       "0                                         0.243307  \n",
       "1                                         0.159076  \n",
       "2                                         0.460005  \n",
       "3                                         0.220533  \n",
       "4                                         0.610387  \n",
       "...                                            ...  \n",
       "3033897                                   0.289877  \n",
       "3033898                                   0.433427  \n",
       "3033899                                   0.243307  \n",
       "3033900                                   0.512831  \n",
       "3033901                                   0.243307  \n",
       "\n",
       "[3033902 rows x 23 columns]"
      ]
     },
     "execution_count": 7,
     "metadata": {},
     "output_type": "execute_result"
    }
   ],
   "source": [
    "train"
   ]
  },
  {
   "cell_type": "code",
   "execution_count": 6,
=======
   "execution_count": 15,
>>>>>>> f99bf1341d8f56c72cf1437f53db84723617da63
   "metadata": {},
   "outputs": [],
   "source": [
    "agg_all = pd.read_csv('agg_all.csv')"
   ]
  },
  {
   "cell_type": "code",
   "execution_count": 7,
   "metadata": {},
   "outputs": [
    {
     "data": {
      "text/html": [
       "<div>\n",
       "<style scoped>\n",
       "    .dataframe tbody tr th:only-of-type {\n",
       "        vertical-align: middle;\n",
       "    }\n",
       "\n",
       "    .dataframe tbody tr th {\n",
       "        vertical-align: top;\n",
       "    }\n",
       "\n",
       "    .dataframe thead th {\n",
       "        text-align: right;\n",
       "    }\n",
       "</style>\n",
       "<table border=\"1\" class=\"dataframe\">\n",
       "  <thead>\n",
       "    <tr style=\"text-align: right;\">\n",
       "      <th></th>\n",
       "      <th>engager_id</th>\n",
       "      <th>tweet_type</th>\n",
       "      <th>language</th>\n",
       "      <th>TE_engager_id_tweet_type_language_like</th>\n",
       "    </tr>\n",
       "  </thead>\n",
       "  <tbody>\n",
       "    <tr>\n",
       "      <th>0</th>\n",
       "      <td>0000030E0DCCFDF9DBF2DDC031E6DA58</td>\n",
       "      <td>1</td>\n",
       "      <td>19</td>\n",
       "      <td>0.379077</td>\n",
       "    </tr>\n",
       "    <tr>\n",
       "      <th>1</th>\n",
       "      <td>0000055BD24EE1ED318EAC7970A78849</td>\n",
       "      <td>1</td>\n",
       "      <td>10</td>\n",
       "      <td>0.379077</td>\n",
       "    </tr>\n",
       "    <tr>\n",
       "      <th>2</th>\n",
       "      <td>000005BCF00DCCEABCF7F82BDCFB3543</td>\n",
       "      <td>1</td>\n",
       "      <td>10</td>\n",
       "      <td>0.379077</td>\n",
       "    </tr>\n",
       "    <tr>\n",
       "      <th>3</th>\n",
       "      <td>000013136E63BA1782731FA3E59F7A30</td>\n",
       "      <td>2</td>\n",
       "      <td>19</td>\n",
       "      <td>0.426697</td>\n",
       "    </tr>\n",
       "    <tr>\n",
       "      <th>4</th>\n",
       "      <td>00001353EE2339E074323A06CCC5D89E</td>\n",
       "      <td>2</td>\n",
       "      <td>61</td>\n",
       "      <td>0.426697</td>\n",
       "    </tr>\n",
       "    <tr>\n",
       "      <th>...</th>\n",
       "      <td>...</td>\n",
       "      <td>...</td>\n",
       "      <td>...</td>\n",
       "      <td>...</td>\n",
       "    </tr>\n",
       "    <tr>\n",
       "      <th>2593956</th>\n",
       "      <td>FFFFE27E2E0BDCCDC5D8E1BF1A50E5B2</td>\n",
       "      <td>1</td>\n",
       "      <td>61</td>\n",
       "      <td>0.379077</td>\n",
       "    </tr>\n",
       "    <tr>\n",
       "      <th>2593957</th>\n",
       "      <td>FFFFE6F4A73D42C558AB2BB375109AC5</td>\n",
       "      <td>2</td>\n",
       "      <td>46</td>\n",
       "      <td>0.426697</td>\n",
       "    </tr>\n",
       "    <tr>\n",
       "      <th>2593958</th>\n",
       "      <td>FFFFE7D1852F5FC078F31004CDC344D6</td>\n",
       "      <td>2</td>\n",
       "      <td>48</td>\n",
       "      <td>0.426697</td>\n",
       "    </tr>\n",
       "    <tr>\n",
       "      <th>2593959</th>\n",
       "      <td>FFFFED3C5DFF871BFE0C8FF745396A7D</td>\n",
       "      <td>1</td>\n",
       "      <td>61</td>\n",
       "      <td>0.379077</td>\n",
       "    </tr>\n",
       "    <tr>\n",
       "      <th>2593960</th>\n",
       "      <td>FFFFF50BA9D4FF3225576C8996BE8BAC</td>\n",
       "      <td>1</td>\n",
       "      <td>19</td>\n",
       "      <td>0.426697</td>\n",
       "    </tr>\n",
       "  </tbody>\n",
       "</table>\n",
       "<p>2593961 rows × 4 columns</p>\n",
       "</div>"
      ],
      "text/plain": [
       "                               engager_id  tweet_type  language  \\\n",
       "0        0000030E0DCCFDF9DBF2DDC031E6DA58           1        19   \n",
       "1        0000055BD24EE1ED318EAC7970A78849           1        10   \n",
       "2        000005BCF00DCCEABCF7F82BDCFB3543           1        10   \n",
       "3        000013136E63BA1782731FA3E59F7A30           2        19   \n",
       "4        00001353EE2339E074323A06CCC5D89E           2        61   \n",
       "...                                   ...         ...       ...   \n",
       "2593956  FFFFE27E2E0BDCCDC5D8E1BF1A50E5B2           1        61   \n",
       "2593957  FFFFE6F4A73D42C558AB2BB375109AC5           2        46   \n",
       "2593958  FFFFE7D1852F5FC078F31004CDC344D6           2        48   \n",
       "2593959  FFFFED3C5DFF871BFE0C8FF745396A7D           1        61   \n",
       "2593960  FFFFF50BA9D4FF3225576C8996BE8BAC           1        19   \n",
       "\n",
       "         TE_engager_id_tweet_type_language_like  \n",
       "0                                      0.379077  \n",
       "1                                      0.379077  \n",
       "2                                      0.379077  \n",
       "3                                      0.426697  \n",
       "4                                      0.426697  \n",
       "...                                         ...  \n",
       "2593956                                0.379077  \n",
       "2593957                                0.426697  \n",
       "2593958                                0.426697  \n",
       "2593959                                0.379077  \n",
       "2593960                                0.426697  \n",
       "\n",
       "[2593961 rows x 4 columns]"
      ]
     },
     "execution_count": 7,
     "metadata": {},
     "output_type": "execute_result"
    }
   ],
   "source": [
    "agg_all"
   ]
  },
  {
   "cell_type": "code",
   "execution_count": 8,
   "metadata": {},
   "outputs": [
    {
     "name": "stderr",
     "output_type": "stream",
     "text": [
      "\r",
      "  0%|          | 0/4 [00:00<?, ?it/s]"
     ]
    },
    {
     "name": "stdout",
     "output_type": "stream",
     "text": [
      "target_encode\n",
      "train2\n"
     ]
    },
    {
     "name": "stderr",
     "output_type": "stream",
     "text": [
      "\r",
      " 25%|██▌       | 1/4 [00:19<00:59, 19.81s/it]"
     ]
    },
    {
     "name": "stdout",
     "output_type": "stream",
     "text": [
      "train2\n"
     ]
    },
    {
     "name": "stderr",
     "output_type": "stream",
     "text": [
      "\r",
      " 50%|█████     | 2/4 [00:42<00:42, 21.38s/it]"
     ]
    },
    {
     "name": "stdout",
     "output_type": "stream",
     "text": [
      "train2\n"
     ]
    },
    {
     "name": "stderr",
     "output_type": "stream",
     "text": [
      "\r",
      " 75%|███████▌  | 3/4 [00:55<00:17, 17.71s/it]"
     ]
    },
    {
     "name": "stdout",
     "output_type": "stream",
     "text": [
      "train2\n"
     ]
    },
    {
     "name": "stderr",
     "output_type": "stream",
     "text": [
<<<<<<< HEAD
      "100%|██████████| 4/4 [00:56<00:00, 14.13s/it]\n"
=======
      "  0%|          | 0/1 [00:00<?, ?it/s]target_encode\n",
      "train2\n",
      "100%|██████████| 1/1 [00:19<00:00, 19.08s/it]\n"
>>>>>>> f99bf1341d8f56c72cf1437f53db84723617da63
     ]
    }
   ],
   "source": [
    "train2 = preprocess(train2, TARGET, True)"
   ]
  },
  {
   "cell_type": "code",
<<<<<<< HEAD
   "execution_count": 9,
=======
   "execution_count": 16,
>>>>>>> f99bf1341d8f56c72cf1437f53db84723617da63
   "metadata": {},
   "outputs": [
    {
     "name": "stderr",
     "output_type": "stream",
     "text": [
      "\r",
      "  0%|          | 0/4 [00:00<?, ?it/s]"
     ]
    },
    {
     "name": "stdout",
     "output_type": "stream",
     "text": [
      "target_encode\n",
      "3700109\n"
     ]
    },
    {
     "name": "stderr",
     "output_type": "stream",
     "text": [
      "\r",
      " 25%|██▌       | 1/4 [00:03<00:09,  3.13s/it]"
     ]
    },
    {
     "name": "stdout",
     "output_type": "stream",
     "text": [
      "4740024\n"
     ]
    },
    {
     "name": "stderr",
     "output_type": "stream",
     "text": [
<<<<<<< HEAD
      "\r",
      " 50%|█████     | 2/4 [00:07<00:07,  3.71s/it]"
     ]
    },
    {
     "name": "stdout",
     "output_type": "stream",
     "text": [
      "2615536\n"
     ]
    },
    {
     "name": "stderr",
     "output_type": "stream",
     "text": [
      "\r",
      " 75%|███████▌  | 3/4 [00:09<00:03,  3.23s/it]"
     ]
    },
    {
     "name": "stdout",
     "output_type": "stream",
     "text": [
      "141183\n"
     ]
    },
    {
     "name": "stderr",
     "output_type": "stream",
     "text": [
      "100%|██████████| 4/4 [00:10<00:00,  2.59s/it]\n"
=======
      "  0%|          | 0/1 [00:00<?, ?it/s]target_encode\n",
      "4740024\n",
      "100%|██████████| 1/1 [00:04<00:00,  4.65s/it]\n"
>>>>>>> f99bf1341d8f56c72cf1437f53db84723617da63
     ]
    }
   ],
   "source": [
    "valid = preprocess(valid, TARGET, False)\n"
   ]
  },
  {
   "cell_type": "code",
<<<<<<< HEAD
   "execution_count": 10,
=======
   "execution_count": 17,
>>>>>>> f99bf1341d8f56c72cf1437f53db84723617da63
   "metadata": {},
   "outputs": [],
   "source": [
    "label_names = ['reply', 'retweet', 'comment', 'like']\n",
    "DONT_USE = ['timestamp','creator_account_creation','engager_account_creation','engage_time',\n",
    "            'creator_account_creation', 'engager_account_creation',\n",
    "            'fold','tweet_id', \n",
    "            'tr','dt_day','','ypred',\n",
    "            'engager_id','creator_id','engager_is_verified',\n",
    "            'elapsed_time',\n",
    "            'links','domains','hashtags0','hashtags1',\n",
    "            'hashtags','tweet_hash','dt_second','id',\n",
    "            'tw_hash0',\n",
    "            'tw_hash1',\n",
    "            'tw_rt_uhash',\n",
    "            'same_language', 'nan_language','language',\n",
    "            'tw_hash', 'tw_freq_hash','tw_first_word', 'tw_second_word', 'tw_last_word', 'tw_llast_word',\n",
    "            'ypred','creator_count_combined','creator_user_fer_count_delta_time','creator_user_fing_count_delta_time','creator_user_fering_count_delta_time','creator_user_fing_count_mode','creator_user_fer_count_mode','creator_user_fering_count_mode'\n",
    "            'reply', 'retweet', 'comment', 'like', 'pred'\n",
    "            \n",
    "           ]\n",
    "DONT_USE += label_names\n",
    "DONT_USE += conf.labels\n"
   ]
  },
  {
   "cell_type": "code",
<<<<<<< HEAD
   "execution_count": 11,
=======
   "execution_count": 18,
>>>>>>> f99bf1341d8f56c72cf1437f53db84723617da63
   "metadata": {},
   "outputs": [],
   "source": [
    "xgb_parms = { \n",
    "                'max_depth':8, \n",
    "                'learning_rate':0.025, \n",
    "                'subsample':0.85,\n",
    "                'colsample_bytree':0.35, \n",
    "                'eval_metric':'logloss',\n",
    "                'objective':'binary:logistic',\n",
    "                'tree_method':'gpu_hist',\n",
    "                #'predictor': 'gpu_predictor',\n",
    "                'seed': 1,\n",
    "            }\n",
    "LR = [0.05,0.03,0.07,0.01]\n",
    "xgb_parms['learning_rate'] = LR[3]\n",
    "RMV = [c for c in DONT_USE if c in train.columns]\n",
    "dtrain = xgb.DMatrix(data=train.drop(RMV, axis=1) ,label=train[TARGET].values)\n",
    "model = xgb.train(xgb_parms, \n",
    "                        dtrain=dtrain,\n",
    "                        num_boost_round=500,\n",
    "                        ) "
   ]
  },
  {
   "cell_type": "code",
<<<<<<< HEAD
   "execution_count": 12,
=======
   "execution_count": 19,
>>>>>>> f99bf1341d8f56c72cf1437f53db84723617da63
   "metadata": {},
   "outputs": [
    {
     "data": {
      "text/plain": [
       "Index(['tweet_type', 'creator_follower_count', 'creator_following_count',\n",
       "       'media', 'tweet_timestamp', 'dt_dow', 'dt_hour', 'len_domains',\n",
       "       'TE_engager_id_like', 'TE_engager_id_tweet_type_language_like',\n",
       "       'TE_creator_id_like', 'TE_domains_media_tweet_type_language_like'],\n",
       "      dtype='object')"
      ]
     },
     "execution_count": 12,
     "metadata": {},
<<<<<<< HEAD
     "output_type": "execute_result"
=======
     "execution_count": 19
>>>>>>> f99bf1341d8f56c72cf1437f53db84723617da63
    }
   ],
   "source": [
    "train.drop(RMV, axis=1).columns"
   ]
  },
  {
   "cell_type": "code",
<<<<<<< HEAD
   "execution_count": 13,
=======
   "execution_count": 24,
>>>>>>> f99bf1341d8f56c72cf1437f53db84723617da63
   "metadata": {},
   "outputs": [],
   "source": [
    "RMV = [c for c in DONT_USE if c in valid.columns]\n",
    "dvalid = xgb.DMatrix(data=valid.drop(RMV, axis=1) )\n",
    "valid['pred'] = model.predict(dvalid)"
   ]
  },
  {
   "cell_type": "code",
<<<<<<< HEAD
   "execution_count": 21,
=======
   "execution_count": 25,
>>>>>>> f99bf1341d8f56c72cf1437f53db84723617da63
   "metadata": {},
   "outputs": [
    {
     "data": {
      "text/plain": [
       "Index(['creator_id', 'engager_id', 'tweet_id', 'tweet_type', 'language',\n",
       "       'creator_follower_count', 'creator_following_count', 'domains', 'media',\n",
       "       'tweet_timestamp', 'dt_day', 'dt_dow', 'dt_hour', 'len_domains',\n",
<<<<<<< HEAD
       "       'TE_engager_id_like', 'TE_engager_id_tweet_type_language_like',\n",
       "       'TE_creator_id_like', 'TE_domains_media_tweet_type_language_like',\n",
       "       'pred'],\n",
=======
       "       'TE_engager_id_tweet_type_language_like', 'pred'],\n",
>>>>>>> f99bf1341d8f56c72cf1437f53db84723617da63
       "      dtype='object')"
      ]
     },
     "execution_count": 21,
     "metadata": {},
<<<<<<< HEAD
     "output_type": "execute_result"
=======
     "execution_count": 25
>>>>>>> f99bf1341d8f56c72cf1437f53db84723617da63
    }
   ],
   "source": [
    "valid.columns"
   ]
  },
  {
   "cell_type": "code",
<<<<<<< HEAD
   "execution_count": 15,
   "metadata": {
    "scrolled": true
   },
=======
   "execution_count": 30,
   "metadata": {},
   "outputs": [
    {
     "output_type": "execute_result",
     "data": {
      "text/plain": [
       "                               creator_id                        engager_id  \\\n",
       "0        18F85439674B688B152D2BA381F6CD2B  B912AC07692898D015B1FBCF3FF08080   \n",
       "1        F9E2F9F8D850C98B63DC03ADF94372F7  F9D6ADEACCFB63EB768F8A6443EB96F7   \n",
       "2        8609DF70010D0A970086BCB52439E28D  BFB6BBBCBCCF70AB06BA8B06CB4F4B03   \n",
       "3        C550F2FE483F4EBB60CEF1D0CE9BF4FF  725752EB0066B1A563A5BEB3F1688BFE   \n",
       "4        CD19DCDDF4F32347D88C9F439A87FB0E  3D4AC79A1ADF2DF38C50929265D19CAA   \n",
       "...                                   ...                               ...   \n",
       "3032652  0543370735E7090F7B2B3071C6A2E91D  D23C8834E8856155EA2513DC3FBB2D5A   \n",
       "3032653  35BC2642DA0FE690E66EB8801E67823A  128D0813732451D6D0B09EBBE3E34AFF   \n",
       "3032654  B0CFCE419E235CE73DD1E1BAA9A661B2  BBB6E4448B96147F5D213C557C17E005   \n",
       "3032655  CBF323E1A477EA353DB78916F6AB00A8  0CF299C831ECAC9A21A9AF2B140E5B6A   \n",
       "3032656  6DEE58040ABEB0C7CAF3CC885BC43020  8B785E885B9A7E8657AB283B7938CAC4   \n",
       "\n",
       "                                 tweet_id  tweet_type  language  \\\n",
       "0        C6EA8E85E46040F39438B2E21BCEBA48           2        46   \n",
       "1        03D901586D1F6C79EA722026DCCF2491           2        19   \n",
       "2        1A66CE8117EA397B635ED5B476B4712F           0        48   \n",
       "3        2C16025ED6BF3893D656161E94D044ED           2        61   \n",
       "4        D8CDCC2D06BEFC1FED6E6A5BA0F87A5F           2        46   \n",
       "...                                   ...         ...       ...   \n",
       "3032652  BF71A491B5539752927DC8C8ACE8C2D1           2        19   \n",
       "3032653  A42D80B94CC64BD9996BD45A939A276F           2        19   \n",
       "3032654  EDF8B1C5C00A8A3166E9AF1B483EC6A0           2        19   \n",
       "3032655  B0DCB3AF2DBAFD78A22D113B1EEAB4DE           0        19   \n",
       "3032656  718AC2B89D0F3790B9838848132767F5           1        48   \n",
       "\n",
       "         creator_follower_count  creator_following_count  domains  media  \\\n",
       "0                          1139                      634        0      5   \n",
       "1                         11350                      195        0      5   \n",
       "2                          2083                      538        0      0   \n",
       "3                          2231                     2980        0      0   \n",
       "4                         19732                     9500        0      5   \n",
       "...                         ...                      ...      ...    ...   \n",
       "3032652                   11710                      166        0      0   \n",
       "3032653                   57866                    48415        0      5   \n",
       "3032654                  129632                      360      519      9   \n",
       "3032655                      93                       90        0      0   \n",
       "3032656                     147                      232    49287      0   \n",
       "\n",
       "         tweet_timestamp  dt_day  dt_dow  dt_hour  len_domains  \\\n",
       "0             1613046306      11       3       12            0   \n",
       "1             1613133850      12       4       12            0   \n",
       "2             1613221565      13       5       13            0   \n",
       "3             1612804536       8       0       17            0   \n",
       "4             1613047958      11       3       12            0   \n",
       "...                  ...     ...     ...      ...          ...   \n",
       "3032652       1614091454      23       1       14            0   \n",
       "3032653       1613103596      12       4        4            0   \n",
       "3032654       1613417226      15       0       19            1   \n",
       "3032655       1612996196      10       2       22            0   \n",
       "3032656       1613947469      21       6       22            1   \n",
       "\n",
       "         TE_engager_id_tweet_type_language_like      pred  \n",
       "0                                      0.426697  0.615871  \n",
       "1                                      0.398207  0.498268  \n",
       "2                                      0.398207  0.363982  \n",
       "3                                      0.398207  0.429048  \n",
       "4                                      0.398207  0.470106  \n",
       "...                                         ...       ...  \n",
       "3032652                                0.379244  0.423858  \n",
       "3032653                                0.398207  0.409211  \n",
       "3032654                                0.398207  0.272296  \n",
       "3032655                                0.398207  0.439516  \n",
       "3032656                                0.407301  0.296145  \n",
       "\n",
       "[3032657 rows x 16 columns]"
      ],
      "text/html": "<div>\n<style scoped>\n    .dataframe tbody tr th:only-of-type {\n        vertical-align: middle;\n    }\n\n    .dataframe tbody tr th {\n        vertical-align: top;\n    }\n\n    .dataframe thead th {\n        text-align: right;\n    }\n</style>\n<table border=\"1\" class=\"dataframe\">\n  <thead>\n    <tr style=\"text-align: right;\">\n      <th></th>\n      <th>creator_id</th>\n      <th>engager_id</th>\n      <th>tweet_id</th>\n      <th>tweet_type</th>\n      <th>language</th>\n      <th>creator_follower_count</th>\n      <th>creator_following_count</th>\n      <th>domains</th>\n      <th>media</th>\n      <th>tweet_timestamp</th>\n      <th>dt_day</th>\n      <th>dt_dow</th>\n      <th>dt_hour</th>\n      <th>len_domains</th>\n      <th>TE_engager_id_tweet_type_language_like</th>\n      <th>pred</th>\n    </tr>\n  </thead>\n  <tbody>\n    <tr>\n      <th>0</th>\n      <td>18F85439674B688B152D2BA381F6CD2B</td>\n      <td>B912AC07692898D015B1FBCF3FF08080</td>\n      <td>C6EA8E85E46040F39438B2E21BCEBA48</td>\n      <td>2</td>\n      <td>46</td>\n      <td>1139</td>\n      <td>634</td>\n      <td>0</td>\n      <td>5</td>\n      <td>1613046306</td>\n      <td>11</td>\n      <td>3</td>\n      <td>12</td>\n      <td>0</td>\n      <td>0.426697</td>\n      <td>0.615871</td>\n    </tr>\n    <tr>\n      <th>1</th>\n      <td>F9E2F9F8D850C98B63DC03ADF94372F7</td>\n      <td>F9D6ADEACCFB63EB768F8A6443EB96F7</td>\n      <td>03D901586D1F6C79EA722026DCCF2491</td>\n      <td>2</td>\n      <td>19</td>\n      <td>11350</td>\n      <td>195</td>\n      <td>0</td>\n      <td>5</td>\n      <td>1613133850</td>\n      <td>12</td>\n      <td>4</td>\n      <td>12</td>\n      <td>0</td>\n      <td>0.398207</td>\n      <td>0.498268</td>\n    </tr>\n    <tr>\n      <th>2</th>\n      <td>8609DF70010D0A970086BCB52439E28D</td>\n      <td>BFB6BBBCBCCF70AB06BA8B06CB4F4B03</td>\n      <td>1A66CE8117EA397B635ED5B476B4712F</td>\n      <td>0</td>\n      <td>48</td>\n      <td>2083</td>\n      <td>538</td>\n      <td>0</td>\n      <td>0</td>\n      <td>1613221565</td>\n      <td>13</td>\n      <td>5</td>\n      <td>13</td>\n      <td>0</td>\n      <td>0.398207</td>\n      <td>0.363982</td>\n    </tr>\n    <tr>\n      <th>3</th>\n      <td>C550F2FE483F4EBB60CEF1D0CE9BF4FF</td>\n      <td>725752EB0066B1A563A5BEB3F1688BFE</td>\n      <td>2C16025ED6BF3893D656161E94D044ED</td>\n      <td>2</td>\n      <td>61</td>\n      <td>2231</td>\n      <td>2980</td>\n      <td>0</td>\n      <td>0</td>\n      <td>1612804536</td>\n      <td>8</td>\n      <td>0</td>\n      <td>17</td>\n      <td>0</td>\n      <td>0.398207</td>\n      <td>0.429048</td>\n    </tr>\n    <tr>\n      <th>4</th>\n      <td>CD19DCDDF4F32347D88C9F439A87FB0E</td>\n      <td>3D4AC79A1ADF2DF38C50929265D19CAA</td>\n      <td>D8CDCC2D06BEFC1FED6E6A5BA0F87A5F</td>\n      <td>2</td>\n      <td>46</td>\n      <td>19732</td>\n      <td>9500</td>\n      <td>0</td>\n      <td>5</td>\n      <td>1613047958</td>\n      <td>11</td>\n      <td>3</td>\n      <td>12</td>\n      <td>0</td>\n      <td>0.398207</td>\n      <td>0.470106</td>\n    </tr>\n    <tr>\n      <th>...</th>\n      <td>...</td>\n      <td>...</td>\n      <td>...</td>\n      <td>...</td>\n      <td>...</td>\n      <td>...</td>\n      <td>...</td>\n      <td>...</td>\n      <td>...</td>\n      <td>...</td>\n      <td>...</td>\n      <td>...</td>\n      <td>...</td>\n      <td>...</td>\n      <td>...</td>\n      <td>...</td>\n    </tr>\n    <tr>\n      <th>3032652</th>\n      <td>0543370735E7090F7B2B3071C6A2E91D</td>\n      <td>D23C8834E8856155EA2513DC3FBB2D5A</td>\n      <td>BF71A491B5539752927DC8C8ACE8C2D1</td>\n      <td>2</td>\n      <td>19</td>\n      <td>11710</td>\n      <td>166</td>\n      <td>0</td>\n      <td>0</td>\n      <td>1614091454</td>\n      <td>23</td>\n      <td>1</td>\n      <td>14</td>\n      <td>0</td>\n      <td>0.379244</td>\n      <td>0.423858</td>\n    </tr>\n    <tr>\n      <th>3032653</th>\n      <td>35BC2642DA0FE690E66EB8801E67823A</td>\n      <td>128D0813732451D6D0B09EBBE3E34AFF</td>\n      <td>A42D80B94CC64BD9996BD45A939A276F</td>\n      <td>2</td>\n      <td>19</td>\n      <td>57866</td>\n      <td>48415</td>\n      <td>0</td>\n      <td>5</td>\n      <td>1613103596</td>\n      <td>12</td>\n      <td>4</td>\n      <td>4</td>\n      <td>0</td>\n      <td>0.398207</td>\n      <td>0.409211</td>\n    </tr>\n    <tr>\n      <th>3032654</th>\n      <td>B0CFCE419E235CE73DD1E1BAA9A661B2</td>\n      <td>BBB6E4448B96147F5D213C557C17E005</td>\n      <td>EDF8B1C5C00A8A3166E9AF1B483EC6A0</td>\n      <td>2</td>\n      <td>19</td>\n      <td>129632</td>\n      <td>360</td>\n      <td>519</td>\n      <td>9</td>\n      <td>1613417226</td>\n      <td>15</td>\n      <td>0</td>\n      <td>19</td>\n      <td>1</td>\n      <td>0.398207</td>\n      <td>0.272296</td>\n    </tr>\n    <tr>\n      <th>3032655</th>\n      <td>CBF323E1A477EA353DB78916F6AB00A8</td>\n      <td>0CF299C831ECAC9A21A9AF2B140E5B6A</td>\n      <td>B0DCB3AF2DBAFD78A22D113B1EEAB4DE</td>\n      <td>0</td>\n      <td>19</td>\n      <td>93</td>\n      <td>90</td>\n      <td>0</td>\n      <td>0</td>\n      <td>1612996196</td>\n      <td>10</td>\n      <td>2</td>\n      <td>22</td>\n      <td>0</td>\n      <td>0.398207</td>\n      <td>0.439516</td>\n    </tr>\n    <tr>\n      <th>3032656</th>\n      <td>6DEE58040ABEB0C7CAF3CC885BC43020</td>\n      <td>8B785E885B9A7E8657AB283B7938CAC4</td>\n      <td>718AC2B89D0F3790B9838848132767F5</td>\n      <td>1</td>\n      <td>48</td>\n      <td>147</td>\n      <td>232</td>\n      <td>49287</td>\n      <td>0</td>\n      <td>1613947469</td>\n      <td>21</td>\n      <td>6</td>\n      <td>22</td>\n      <td>1</td>\n      <td>0.407301</td>\n      <td>0.296145</td>\n    </tr>\n  </tbody>\n</table>\n<p>3032657 rows × 16 columns</p>\n</div>"
     },
     "metadata": {},
     "execution_count": 30
    }
   ],
   "source": [
    "valid"
   ]
  },
  {
   "cell_type": "code",
   "execution_count": 31,
   "metadata": {},
>>>>>>> f99bf1341d8f56c72cf1437f53db84723617da63
   "outputs": [
    {
     "data": {
      "text/plain": [
<<<<<<< HEAD
       "0          0.696419\n",
       "1          0.485383\n",
       "2          0.353825\n",
       "3          0.408892\n",
       "4          0.471808\n",
       "             ...   \n",
       "3032652    0.517530\n",
       "3032653    0.414803\n",
       "3032654    0.292877\n",
       "3032655    0.459600\n",
       "3032656    0.499386\n",
=======
       "0          0.615871\n",
       "1          0.498268\n",
       "2          0.363982\n",
       "3          0.429048\n",
       "4          0.470106\n",
       "             ...   \n",
       "3032652    0.423858\n",
       "3032653    0.409211\n",
       "3032654    0.272296\n",
       "3032655    0.439516\n",
       "3032656    0.296145\n",
>>>>>>> f99bf1341d8f56c72cf1437f53db84723617da63
       "Name: pred, Length: 3032657, dtype: float32"
      ]
     },
     "execution_count": 15,
     "metadata": {},
<<<<<<< HEAD
     "output_type": "execute_result"
=======
     "execution_count": 31
>>>>>>> f99bf1341d8f56c72cf1437f53db84723617da63
    }
   ],
   "source": [
    "valid['pred']"
   ]
  },
  {
   "cell_type": "code",
<<<<<<< HEAD
   "execution_count": 19,
   "metadata": {},
   "outputs": [
    {
     "ename": "AttributeError",
     "evalue": "'Series' object has no attribute 'to_array'",
     "output_type": "error",
     "traceback": [
      "\u001b[0;31m---------------------------------------------------------------------------\u001b[0m",
      "\u001b[0;31mAttributeError\u001b[0m                            Traceback (most recent call last)",
      "\u001b[0;32m<ipython-input-19-5a9272a143c7>\u001b[0m in \u001b[0;36m<module>\u001b[0;34m\u001b[0m\n\u001b[0;32m----> 1\u001b[0;31m \u001b[0mrce_like\u001b[0m \u001b[0;34m=\u001b[0m \u001b[0mcompute_rce\u001b[0m\u001b[0;34m(\u001b[0m\u001b[0mvalid\u001b[0m\u001b[0;34m[\u001b[0m\u001b[0;34m'pred'\u001b[0m\u001b[0;34m]\u001b[0m\u001b[0;34m.\u001b[0m\u001b[0mto_array\u001b[0m\u001b[0;34m(\u001b[0m\u001b[0;34m)\u001b[0m\u001b[0;34m,\u001b[0m \u001b[0mvalid\u001b[0m\u001b[0;34m[\u001b[0m\u001b[0;34m'like'\u001b[0m\u001b[0;34m]\u001b[0m\u001b[0;34m.\u001b[0m\u001b[0mto_array\u001b[0m\u001b[0;34m(\u001b[0m\u001b[0;34m)\u001b[0m\u001b[0;34m)\u001b[0m\u001b[0;34m\u001b[0m\u001b[0;34m\u001b[0m\u001b[0m\n\u001b[0m\u001b[1;32m      2\u001b[0m \u001b[0mrce_like\u001b[0m\u001b[0;34m\u001b[0m\u001b[0;34m\u001b[0m\u001b[0m\n",
      "\u001b[0;32m~/anaconda3/envs/dask/lib/python3.7/site-packages/pandas/core/generic.py\u001b[0m in \u001b[0;36m__getattr__\u001b[0;34m(self, name)\u001b[0m\n\u001b[1;32m   5139\u001b[0m             \u001b[0;32mif\u001b[0m \u001b[0mself\u001b[0m\u001b[0;34m.\u001b[0m\u001b[0m_info_axis\u001b[0m\u001b[0;34m.\u001b[0m\u001b[0m_can_hold_identifiers_and_holds_name\u001b[0m\u001b[0;34m(\u001b[0m\u001b[0mname\u001b[0m\u001b[0;34m)\u001b[0m\u001b[0;34m:\u001b[0m\u001b[0;34m\u001b[0m\u001b[0;34m\u001b[0m\u001b[0m\n\u001b[1;32m   5140\u001b[0m                 \u001b[0;32mreturn\u001b[0m \u001b[0mself\u001b[0m\u001b[0;34m[\u001b[0m\u001b[0mname\u001b[0m\u001b[0;34m]\u001b[0m\u001b[0;34m\u001b[0m\u001b[0;34m\u001b[0m\u001b[0m\n\u001b[0;32m-> 5141\u001b[0;31m             \u001b[0;32mreturn\u001b[0m \u001b[0mobject\u001b[0m\u001b[0;34m.\u001b[0m\u001b[0m__getattribute__\u001b[0m\u001b[0;34m(\u001b[0m\u001b[0mself\u001b[0m\u001b[0;34m,\u001b[0m \u001b[0mname\u001b[0m\u001b[0;34m)\u001b[0m\u001b[0;34m\u001b[0m\u001b[0;34m\u001b[0m\u001b[0m\n\u001b[0m\u001b[1;32m   5142\u001b[0m \u001b[0;34m\u001b[0m\u001b[0m\n\u001b[1;32m   5143\u001b[0m     \u001b[0;32mdef\u001b[0m \u001b[0m__setattr__\u001b[0m\u001b[0;34m(\u001b[0m\u001b[0mself\u001b[0m\u001b[0;34m,\u001b[0m \u001b[0mname\u001b[0m\u001b[0;34m:\u001b[0m \u001b[0mstr\u001b[0m\u001b[0;34m,\u001b[0m \u001b[0mvalue\u001b[0m\u001b[0;34m)\u001b[0m \u001b[0;34m->\u001b[0m \u001b[0;32mNone\u001b[0m\u001b[0;34m:\u001b[0m\u001b[0;34m\u001b[0m\u001b[0;34m\u001b[0m\u001b[0m\n",
      "\u001b[0;31mAttributeError\u001b[0m: 'Series' object has no attribute 'to_array'"
     ]
    }
   ],
   "source": [
    "rce_like = compute_rce(valid['pred'].to_array(), valid['like'].to_array())\n",
=======
   "execution_count": 40,
   "metadata": {},
   "outputs": [
    {
     "output_type": "execute_result",
     "data": {
      "text/plain": [
       "7.965242661748306"
      ]
     },
     "metadata": {},
     "execution_count": 40
    }
   ],
   "source": [
    "rce_like = compute_rce(valid['pred'], ypred['like'])\n",
>>>>>>> f99bf1341d8f56c72cf1437f53db84723617da63
    "rce_like"
   ]
  },
  {
   "cell_type": "code",
<<<<<<< HEAD
=======
   "execution_count": 39,
   "metadata": {},
   "outputs": [
    {
     "output_type": "execute_result",
     "data": {
      "text/plain": [
       "0.5835477414410601"
      ]
     },
     "metadata": {},
     "execution_count": 39
    }
   ],
   "source": [
    "ap_like = average_precision_score(ypred['like'], valid['pred'])\n",
    "ap_like"
   ]
  },
  {
   "cell_type": "code",
>>>>>>> f99bf1341d8f56c72cf1437f53db84723617da63
   "execution_count": null,
   "metadata": {},
   "outputs": [],
   "source": []
<<<<<<< HEAD
  }
 ],
 "metadata": {
  "kernelspec": {
   "display_name": "Python 3",
   "language": "python",
   "name": "python3"
  },
  "language_info": {
   "codemirror_mode": {
    "name": "ipython",
    "version": 3
   },
   "file_extension": ".py",
   "mimetype": "text/x-python",
   "name": "python",
   "nbconvert_exporter": "python",
   "pygments_lexer": "ipython3",
   "version": "3.7.10"
=======
>>>>>>> f99bf1341d8f56c72cf1437f53db84723617da63
  }
 },
 "nbformat": 4,
 "nbformat_minor": 2
}
