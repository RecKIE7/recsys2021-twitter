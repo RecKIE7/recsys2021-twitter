{
 "metadata": {
  "language_info": {
   "codemirror_mode": {
    "name": "ipython",
    "version": 3
   },
   "file_extension": ".py",
   "mimetype": "text/x-python",
   "name": "python",
   "nbconvert_exporter": "python",
   "pygments_lexer": "ipython3",
   "version": "3.7.10"
  },
  "orig_nbformat": 2,
  "kernelspec": {
   "name": "python3710jvsc74a57bd0c4c1a3e9c3a39a0885e9d9bd6e4723f2ede522dfea9ed13682022cc292aed1ac",
   "display_name": "Python 3.7.10 64-bit ('dask-cudf': conda)"
  }
 },
 "nbformat": 4,
 "nbformat_minor": 2,
 "cells": [
  {
   "cell_type": "code",
   "execution_count": 2,
   "metadata": {},
   "outputs": [],
   "source": [
    "import sys\n",
    "sys.path.append('../../..')\n",
    "\n",
    "import numpy as np\n",
    "from datetime import datetime\n",
    "import matplotlib.pyplot as plt\n",
    "import pandas as pd, numpy as np, gc\n",
    "from tqdm import tqdm\n",
    "import joblib\n",
    "import xgboost as xgb\n",
    "import pickle\n",
    "pd.set_option('display.max_columns', 500)\n",
    "\n",
    "\n",
    "from utils.util import *\n",
    "from utils.evaluate import calculate_ctr, compute_rce, average_precision_score\n",
    "from utils.dataiter import Dataiter\n",
    "from utils.preprocessing import *\n",
    "from utils.target_encode import MTE_one_shot\n",
    "\n",
    "import core.config as conf"
   ]
  },
  {
   "cell_type": "code",
   "execution_count": 17,
   "metadata": {},
   "outputs": [],
   "source": [
    "path = f'{conf.raw_lzo_path}/part-00000'\n",
    "train = read_data(path)\n",
    "path = f'{conf.raw_lzo_path}/part-00001'\n",
    "train2 = read_data(path)\n",
    "path = f'{conf.raw_lzo_path}/part-00002'\n",
    "valid = read_data(path)\n",
    "gc.collect()\n",
    "save_memory( train )"
   ]
  },
  {
   "cell_type": "code",
   "execution_count": null,
   "metadata": {},
   "outputs": [],
   "source": [
    "TARGET = 'like'\n",
    "ypred = valid[TARGET]"
   ]
  },
  {
   "cell_type": "code",
   "execution_count": 4,
   "metadata": {},
   "outputs": [],
   "source": [
    "import numpy as np\n",
    "class MTE_one_shot:\n",
    "    \n",
    "    def __init__(self, folds, smooth, seed=42):\n",
    "        self.folds = folds\n",
    "        self.seed = seed\n",
    "        self.smooth = smooth\n",
    "        # self.agg_all = pd.DataFrame()\n",
    "        \n",
    "    def fit_transform(self, train, x_col, y_col, y_mean=None, out_col = None, out_dtype=None):\n",
    "        \n",
    "        self.y_col = y_col\n",
    "        np.random.seed(self.seed)\n",
    "        \n",
    "        if 'fold' not in train.columns:\n",
    "            fsize = len(train)//self.folds\n",
    "            train['fold'] = 1\n",
    "            train['fold'] = train['fold'].cumsum()\n",
    "            train['fold'] = train['fold']//fsize\n",
    "            train['fold'] = train['fold']%self.folds\n",
    "        \n",
    "        if out_col is None:\n",
    "            tag = x_col if isinstance(x_col,str) else '_'.join(x_col)\n",
    "            out_col = f'TE_{tag}_{self.y_col}'\n",
    "        \n",
    "        if y_mean is None:\n",
    "            y_mean = train[y_col].mean()#.compute().astype('float32')\n",
    "        self.mean = y_mean # mean도 누적해서 바꿔주면 좋을듯\n",
    "        \n",
    "        cols = ['fold',x_col] if isinstance(x_col,str) else ['fold']+x_col\n",
    "        \n",
    "        agg_each_fold = train.groupby(cols).agg({y_col:['count','sum']}).reset_index()\n",
    "        agg_each_fold.columns = cols + ['count_y','sum_y']\n",
    "        \n",
    "        agg_all = agg_each_fold.groupby(x_col).agg({'count_y':'sum','sum_y':'sum'}).reset_index()\n",
    "        cols = [x_col] if isinstance(x_col,str) else x_col\n",
    "        agg_all.columns = cols + ['count_y_all','sum_y_all']\n",
    "        \n",
    "        agg_each_fold = agg_each_fold.merge(agg_all,on=x_col,how='left')\n",
    "        agg_each_fold['count_y_all'] = agg_each_fold['count_y_all'] - agg_each_fold['count_y']\n",
    "        agg_each_fold['sum_y_all'] = agg_each_fold['sum_y_all'] - agg_each_fold['sum_y']\n",
    "        agg_each_fold[out_col] = (agg_each_fold['sum_y_all']+self.smooth*self.mean)/(agg_each_fold['count_y_all']+self.smooth)\n",
    "        agg_each_fold = agg_each_fold.drop(['count_y_all','count_y','sum_y_all','sum_y'],axis=1)\n",
    "        \n",
    "        agg_all[out_col] = (agg_all['sum_y_all']+self.smooth*self.mean)/(agg_all['count_y_all']+self.smooth)\n",
    "        agg_all = agg_all.drop(['count_y_all','sum_y_all'],axis=1)\n",
    "        \n",
    "        if hasattr(self, 'agg_all'):\n",
    "            print('train2')\n",
    "            self.agg_all = pd.concat([self.agg_all, agg_all])\n",
    "            \n",
    "        else:\n",
    "            print('train1')\n",
    "            self.agg_all = agg_all\n",
    "        \n",
    "        self.agg_all = self.agg_all.drop_duplicates(x_col, keep='last')\n",
    "        # agg_all.to_csv('agg_all.csv', index=False)\n",
    "\n",
    "        train.columns\n",
    "        cols = ['fold',x_col] if isinstance(x_col,str) else ['fold']+x_col\n",
    "        train = train.merge(agg_each_fold,on=cols,how='left')\n",
    "        del agg_each_fold\n",
    "        #self.agg_each_fold = agg_each_fold\n",
    "        #train[out_col] = train.map_partitions(lambda cudf_df: cudf_df[out_col].nans_to_nulls())\n",
    "        train[out_col] = train[out_col].fillna(self.mean)\n",
    "        \n",
    "        if out_dtype is not None:\n",
    "            train[out_col] = train[out_col].astype(out_dtype)\n",
    "        return train\n",
    "    \n",
    "    def transform(self, test, x_col, out_col = None, out_dtype=None):\n",
    "        \n",
    "        # self.agg_all = pd.read_csv('agg_all.csv')\n",
    "        print(len(self.agg_all))\n",
    "        \n",
    "        if out_col is None:\n",
    "            tag = x_col if isinstance(x_col,str) else '_'.join(x_col)\n",
    "            out_col = f'TE_{tag}_{self.y_col}'\n",
    "        test = test.merge(self.agg_all,on=x_col,how='left')\n",
    "        test[out_col] = test[out_col].fillna(self.mean)\n",
    "        # test[out_col] = test[out_col].fillna(0)\n",
    "        if out_dtype is not None:\n",
    "            test[out_col] = test[out_col].astype(out_dtype)\n",
    "        return test"
   ]
  },
  {
   "cell_type": "code",
   "execution_count": 5,
   "metadata": {},
   "outputs": [],
   "source": [
    "def set_dataframe_types(df, train):\n",
    "    df['id']   = np.arange( df.shape[0] )\n",
    "    df['id']   = df['id'].astype(np.uint32)\n",
    "\n",
    "    if train:\n",
    "        df['reply_timestamp']   = df['reply_timestamp'].fillna(0)\n",
    "        df['retweet_timestamp'] = df['retweet_timestamp'].fillna(0)\n",
    "        df['comment_timestamp'] = df['comment_timestamp'].fillna(0)\n",
    "        df['like_timestamp']    = df['like_timestamp'].fillna(0)\n",
    "\n",
    "        df['reply_timestamp']   = df['reply_timestamp'].astype(np.uint32)\n",
    "        df['retweet_timestamp'] = df['retweet_timestamp'].astype(np.uint32)\n",
    "        df['comment_timestamp'] = df['comment_timestamp'].astype(np.uint32)\n",
    "        df['like_timestamp']    = df['like_timestamp'].astype(np.uint32)\n",
    "\n",
    "    df['tweet_timestamp']         = df['tweet_timestamp'].astype( np.uint32 )\n",
    "    df['creator_follower_count']  = df['creator_follower_count'].astype( np.uint32 )\n",
    "    df['creator_following_count'] = df['creator_following_count'].astype( np.uint32 )\n",
    "    df['creator_account_creation']= df['creator_account_creation'].astype( np.uint32 )\n",
    "    df['engager_follower_count']  = df['engager_follower_count'].astype( np.uint32 )\n",
    "    df['engager_following_count'] = df['engager_following_count'].astype( np.uint32 )\n",
    "    df['engager_account_creation']= df['engager_account_creation'].astype( np.uint32 )\n",
    "\n",
    "    return df\n",
    "\n",
    "\n",
    "\n",
    "def preprocess(df, target, train):\n",
    "    df = set_dataframe_types(df, train)\n",
    "    # df = df.set_index('id')\n",
    "    # df.columns = conf.raw_features + conf.labels\n",
    "    df = df.drop('text_tokens', axis=1)\n",
    "    \n",
    "    df = feature_extraction(df, features=conf.used_features, train=train) # extract 'used_features'\n",
    "    cols = []\n",
    "    print('target_encode')\n",
    "    for c in tqdm([\n",
    "        # ['engager_id'],\n",
    "        ['engager_id','tweet_type','language'],\n",
    "        # ['creator_id'],\n",
    "        # ['domains','media','tweet_type','language']\n",
    "        ]):\n",
    "        out_col = 'TE_'+'_'.join(c)+'_'+target\n",
    "        if os.path.exists('./encoder.pkl'):\n",
    "            with open('./encoder.pkl', 'rb') as f:\n",
    "                encoder = pickle.load(f)\n",
    "        else:\n",
    "            encoder = MTE_one_shot(folds=5,smooth=20)\n",
    "\n",
    "        if train:\n",
    "            \n",
    "            df = encoder.fit_transform(df, c, target, out_col=out_col, out_dtype='float32')\n",
    "            with open('encoder.pkl', 'wb') as f:\n",
    "                pickle.dump(encoder, f)\n",
    "        else:\n",
    "                df = encoder.transform(df, c, out_col=out_col, out_dtype='float32')\n",
    "        \n",
    "\n",
    "        cols.append(out_col)\n",
    "        del encoder\n",
    "\n",
    "\n",
    "    return df"
   ]
  },
  {
   "cell_type": "code",
   "execution_count": 6,
   "metadata": {},
   "outputs": [
    {
     "output_type": "stream",
     "name": "stderr",
     "text": [
      "  0%|          | 0/1 [00:00<?, ?it/s]target_encode\n",
      "train1\n",
      "100%|██████████| 1/1 [00:18<00:00, 18.20s/it]\n"
     ]
    }
   ],
   "source": [
    "\n",
    "train = preprocess(train, TARGET, True)\n"
   ]
  },
  {
   "cell_type": "code",
   "execution_count": 6,
   "metadata": {},
   "outputs": [
    {
     "output_type": "stream",
     "name": "stderr",
     "text": [
      "  0%|          | 0/1 [00:00<?, ?it/s]target_encode\n",
      "train2\n",
      "100%|██████████| 1/1 [00:19<00:00, 19.42s/it]\n"
     ]
    }
   ],
   "source": [
    "train2 = preprocess(train2, TARGET, True)\n"
   ]
  },
  {
   "cell_type": "code",
   "execution_count": 11,
   "metadata": {},
   "outputs": [
    {
     "output_type": "stream",
     "name": "stderr",
     "text": [
      "  0%|          | 0/1 [00:00<?, ?it/s]target_encode\n",
      "2593961\n",
      "100%|██████████| 1/1 [00:03<00:00,  3.72s/it]\n"
     ]
    }
   ],
   "source": [
    "valid = preprocess(valid, TARGET, False)\n"
   ]
  },
  {
   "cell_type": "code",
   "execution_count": 7,
   "metadata": {},
   "outputs": [],
   "source": [
    "label_names = ['reply', 'retweet', 'comment', 'like']\n",
    "DONT_USE = ['timestamp','creator_account_creation','engager_account_creation','engage_time',\n",
    "            'creator_account_creation', 'engager_account_creation',\n",
    "            'fold','tweet_id', \n",
    "            'tr','dt_day','','ypred',\n",
    "            'engager_id','creator_id','engager_is_verified',\n",
    "            'elapsed_time',\n",
    "            'links','domains','hashtags0','hashtags1',\n",
    "            'hashtags','tweet_hash','dt_second','id',\n",
    "            'tw_hash0',\n",
    "            'tw_hash1',\n",
    "            'tw_rt_uhash',\n",
    "            'same_language', 'nan_language','language',\n",
    "            'tw_hash', 'tw_freq_hash','tw_first_word', 'tw_second_word', 'tw_last_word', 'tw_llast_word',\n",
    "            'ypred','creator_count_combined','creator_user_fer_count_delta_time','creator_user_fing_count_delta_time','creator_user_fering_count_delta_time','creator_user_fing_count_mode','creator_user_fer_count_mode','creator_user_fering_count_mode'\n",
    "            'reply', 'retweet', 'comment', 'like', 'pred'\n",
    "            \n",
    "           ]\n",
    "DONT_USE += label_names\n",
    "DONT_USE += conf.labels\n"
   ]
  },
  {
   "cell_type": "code",
   "execution_count": 8,
   "metadata": {},
   "outputs": [],
   "source": [
    "xgb_parms = { \n",
    "                'max_depth':8, \n",
    "                'learning_rate':0.025, \n",
    "                'subsample':0.85,\n",
    "                'colsample_bytree':0.35, \n",
    "                'eval_metric':'logloss',\n",
    "                'objective':'binary:logistic',\n",
    "                'tree_method':'gpu_hist',\n",
    "                #'predictor': 'gpu_predictor',\n",
    "                'seed': 1,\n",
    "            }\n",
    "LR = [0.05,0.03,0.07,0.01]\n",
    "xgb_parms['learning_rate'] = LR[3]\n",
    "RMV = [c for c in DONT_USE if c in train.columns]\n",
    "dtrain = xgb.DMatrix(data=train.drop(RMV, axis=1) ,label=train[TARGET].values)\n",
    "model = xgb.train(xgb_parms, \n",
    "                        dtrain=dtrain,\n",
    "                        num_boost_round=500,\n",
    "                        ) "
   ]
  },
  {
   "cell_type": "code",
   "execution_count": 9,
   "metadata": {},
   "outputs": [
    {
     "output_type": "execute_result",
     "data": {
      "text/plain": [
       "Index(['creator_is_verified', 'media', 'creator_follows_engager', 'tweet_type',\n",
       "       'engager_following_count', 'engager_follower_count',\n",
       "       'creator_following_count', 'creator_follower_count', 'tweet_timestamp',\n",
       "       'dt_dow', 'dt_hour', 'len_domains',\n",
       "       'TE_engager_id_tweet_type_language_like'],\n",
       "      dtype='object')"
      ]
     },
     "metadata": {},
     "execution_count": 9
    }
   ],
   "source": [
    "train.drop(RMV, axis=1).columns"
   ]
  },
  {
   "cell_type": "code",
   "execution_count": 12,
   "metadata": {},
   "outputs": [],
   "source": [
    "RMV = [c for c in DONT_USE if c in valid.columns]\n",
    "dvalid = xgb.DMatrix(data=valid.drop(RMV, axis=1) )\n",
    "valid['pred'] = model.predict(dvalid)"
   ]
  },
  {
   "cell_type": "code",
   "execution_count": 24,
   "metadata": {},
   "outputs": [
    {
     "output_type": "execute_result",
     "data": {
      "text/plain": [
       "Index(['creator_id', 'engager_id', 'tweet_id', 'tweet_type', 'language',\n",
       "       'creator_follower_count', 'creator_following_count', 'domains', 'media',\n",
       "       'tweet_timestamp', 'dt_day', 'dt_dow', 'dt_hour', 'len_domains',\n",
       "       'TE_engager_id_like', 'pred'],\n",
       "      dtype='object')"
      ]
     },
     "metadata": {},
     "execution_count": 24
    }
   ],
   "source": [
    "valid.columns"
   ]
  },
  {
   "cell_type": "code",
   "execution_count": 14,
   "metadata": {},
   "outputs": [
    {
     "output_type": "execute_result",
     "data": {
      "text/plain": [
       "         engager_is_verified  creator_is_verified  media  \\\n",
       "0                          0                    0      5   \n",
       "1                          0                    0      5   \n",
       "2                          0                    0      0   \n",
       "3                          0                    0      0   \n",
       "4                          0                    0      5   \n",
       "...                      ...                  ...    ...   \n",
       "3032652                    0                    0      0   \n",
       "3032653                    0                    0      5   \n",
       "3032654                    0                    0      9   \n",
       "3032655                    0                    0      0   \n",
       "3032656                    0                    0      0   \n",
       "\n",
       "         creator_follows_engager                        creator_id  \\\n",
       "0                              0  18F85439674B688B152D2BA381F6CD2B   \n",
       "1                              0  F9E2F9F8D850C98B63DC03ADF94372F7   \n",
       "2                              1  8609DF70010D0A970086BCB52439E28D   \n",
       "3                              1  C550F2FE483F4EBB60CEF1D0CE9BF4FF   \n",
       "4                              0  CD19DCDDF4F32347D88C9F439A87FB0E   \n",
       "...                          ...                               ...   \n",
       "3032652                        1  0543370735E7090F7B2B3071C6A2E91D   \n",
       "3032653                        1  35BC2642DA0FE690E66EB8801E67823A   \n",
       "3032654                        0  B0CFCE419E235CE73DD1E1BAA9A661B2   \n",
       "3032655                        1  CBF323E1A477EA353DB78916F6AB00A8   \n",
       "3032656                        1  6DEE58040ABEB0C7CAF3CC885BC43020   \n",
       "\n",
       "                                 tweet_id  tweet_type  \\\n",
       "0        C6EA8E85E46040F39438B2E21BCEBA48           2   \n",
       "1        03D901586D1F6C79EA722026DCCF2491           2   \n",
       "2        1A66CE8117EA397B635ED5B476B4712F           0   \n",
       "3        2C16025ED6BF3893D656161E94D044ED           2   \n",
       "4        D8CDCC2D06BEFC1FED6E6A5BA0F87A5F           2   \n",
       "...                                   ...         ...   \n",
       "3032652  BF71A491B5539752927DC8C8ACE8C2D1           2   \n",
       "3032653  A42D80B94CC64BD9996BD45A939A276F           2   \n",
       "3032654  EDF8B1C5C00A8A3166E9AF1B483EC6A0           2   \n",
       "3032655  B0DCB3AF2DBAFD78A22D113B1EEAB4DE           0   \n",
       "3032656  718AC2B89D0F3790B9838848132767F5           1   \n",
       "\n",
       "         engager_following_count                        engager_id  \\\n",
       "0                           1001  B912AC07692898D015B1FBCF3FF08080   \n",
       "1                             99  F9D6ADEACCFB63EB768F8A6443EB96F7   \n",
       "2                            457  BFB6BBBCBCCF70AB06BA8B06CB4F4B03   \n",
       "3                            702  725752EB0066B1A563A5BEB3F1688BFE   \n",
       "4                            238  3D4AC79A1ADF2DF38C50929265D19CAA   \n",
       "...                          ...                               ...   \n",
       "3032652                      979  D23C8834E8856155EA2513DC3FBB2D5A   \n",
       "3032653                      453  128D0813732451D6D0B09EBBE3E34AFF   \n",
       "3032654                      110  BBB6E4448B96147F5D213C557C17E005   \n",
       "3032655                     1262  0CF299C831ECAC9A21A9AF2B140E5B6A   \n",
       "3032656                      851  8B785E885B9A7E8657AB283B7938CAC4   \n",
       "\n",
       "         creator_account_creation  engager_account_creation  \\\n",
       "0                      1397663961                1557391734   \n",
       "1                      1510497623                1551829125   \n",
       "2                      1260295065                1304440112   \n",
       "3                      1426660722                1268904239   \n",
       "4                      1365510198                1441048098   \n",
       "...                           ...                       ...   \n",
       "3032652                1301498503                1291415354   \n",
       "3032653                1340866699                1355187055   \n",
       "3032654                1555217219                1579596907   \n",
       "3032655                1593450840                1422456135   \n",
       "3032656                1578902623                1272234970   \n",
       "\n",
       "         engager_follower_count  creator_following_count  domains  language  \\\n",
       "0                           860                      634        0        46   \n",
       "1                            19                      195        0        19   \n",
       "2                           450                      538        0        48   \n",
       "3                          2124                     2980        0        61   \n",
       "4                            78                     9500        0        46   \n",
       "...                         ...                      ...      ...       ...   \n",
       "3032652                    2171                      166        0        19   \n",
       "3032653                    1174                    48415        0        19   \n",
       "3032654                      47                      360      519        19   \n",
       "3032655                    2042                       90        0        19   \n",
       "3032656                    1218                      232    49287        48   \n",
       "\n",
       "         creator_follower_count  tweet_timestamp  dt_day  dt_dow  dt_hour  \\\n",
       "0                          1139       1613046306      11       3       12   \n",
       "1                         11350       1613133850      12       4       12   \n",
       "2                          2083       1613221565      13       5       13   \n",
       "3                          2231       1612804536       8       0       17   \n",
       "4                         19732       1613047958      11       3       12   \n",
       "...                         ...              ...     ...     ...      ...   \n",
       "3032652                   11710       1614091454      23       1       14   \n",
       "3032653                   57866       1613103596      12       4        4   \n",
       "3032654                  129632       1613417226      15       0       19   \n",
       "3032655                      93       1612996196      10       2       22   \n",
       "3032656                     147       1613947469      21       6       22   \n",
       "\n",
       "         len_domains  TE_engager_id_tweet_type_language_like      pred  \n",
       "0                  0                                0.426697  0.589728  \n",
       "1                  0                                0.398031  0.492213  \n",
       "2                  0                                0.398031  0.372992  \n",
       "3                  0                                0.398031  0.406478  \n",
       "4                  0                                0.398031  0.463938  \n",
       "...              ...                                     ...       ...  \n",
       "3032652            0                                0.452756  0.637230  \n",
       "3032653            0                                0.398031  0.399072  \n",
       "3032654            1                                0.398031  0.309446  \n",
       "3032655            0                                0.398031  0.434891  \n",
       "3032656            1                                0.407301  0.284279  \n",
       "\n",
       "[3032657 rows x 23 columns]"
      ],
      "text/html": "<div>\n<style scoped>\n    .dataframe tbody tr th:only-of-type {\n        vertical-align: middle;\n    }\n\n    .dataframe tbody tr th {\n        vertical-align: top;\n    }\n\n    .dataframe thead th {\n        text-align: right;\n    }\n</style>\n<table border=\"1\" class=\"dataframe\">\n  <thead>\n    <tr style=\"text-align: right;\">\n      <th></th>\n      <th>engager_is_verified</th>\n      <th>creator_is_verified</th>\n      <th>media</th>\n      <th>creator_follows_engager</th>\n      <th>creator_id</th>\n      <th>tweet_id</th>\n      <th>tweet_type</th>\n      <th>engager_following_count</th>\n      <th>engager_id</th>\n      <th>creator_account_creation</th>\n      <th>engager_account_creation</th>\n      <th>engager_follower_count</th>\n      <th>creator_following_count</th>\n      <th>domains</th>\n      <th>language</th>\n      <th>creator_follower_count</th>\n      <th>tweet_timestamp</th>\n      <th>dt_day</th>\n      <th>dt_dow</th>\n      <th>dt_hour</th>\n      <th>len_domains</th>\n      <th>TE_engager_id_tweet_type_language_like</th>\n      <th>pred</th>\n    </tr>\n  </thead>\n  <tbody>\n    <tr>\n      <th>0</th>\n      <td>0</td>\n      <td>0</td>\n      <td>5</td>\n      <td>0</td>\n      <td>18F85439674B688B152D2BA381F6CD2B</td>\n      <td>C6EA8E85E46040F39438B2E21BCEBA48</td>\n      <td>2</td>\n      <td>1001</td>\n      <td>B912AC07692898D015B1FBCF3FF08080</td>\n      <td>1397663961</td>\n      <td>1557391734</td>\n      <td>860</td>\n      <td>634</td>\n      <td>0</td>\n      <td>46</td>\n      <td>1139</td>\n      <td>1613046306</td>\n      <td>11</td>\n      <td>3</td>\n      <td>12</td>\n      <td>0</td>\n      <td>0.426697</td>\n      <td>0.589728</td>\n    </tr>\n    <tr>\n      <th>1</th>\n      <td>0</td>\n      <td>0</td>\n      <td>5</td>\n      <td>0</td>\n      <td>F9E2F9F8D850C98B63DC03ADF94372F7</td>\n      <td>03D901586D1F6C79EA722026DCCF2491</td>\n      <td>2</td>\n      <td>99</td>\n      <td>F9D6ADEACCFB63EB768F8A6443EB96F7</td>\n      <td>1510497623</td>\n      <td>1551829125</td>\n      <td>19</td>\n      <td>195</td>\n      <td>0</td>\n      <td>19</td>\n      <td>11350</td>\n      <td>1613133850</td>\n      <td>12</td>\n      <td>4</td>\n      <td>12</td>\n      <td>0</td>\n      <td>0.398031</td>\n      <td>0.492213</td>\n    </tr>\n    <tr>\n      <th>2</th>\n      <td>0</td>\n      <td>0</td>\n      <td>0</td>\n      <td>1</td>\n      <td>8609DF70010D0A970086BCB52439E28D</td>\n      <td>1A66CE8117EA397B635ED5B476B4712F</td>\n      <td>0</td>\n      <td>457</td>\n      <td>BFB6BBBCBCCF70AB06BA8B06CB4F4B03</td>\n      <td>1260295065</td>\n      <td>1304440112</td>\n      <td>450</td>\n      <td>538</td>\n      <td>0</td>\n      <td>48</td>\n      <td>2083</td>\n      <td>1613221565</td>\n      <td>13</td>\n      <td>5</td>\n      <td>13</td>\n      <td>0</td>\n      <td>0.398031</td>\n      <td>0.372992</td>\n    </tr>\n    <tr>\n      <th>3</th>\n      <td>0</td>\n      <td>0</td>\n      <td>0</td>\n      <td>1</td>\n      <td>C550F2FE483F4EBB60CEF1D0CE9BF4FF</td>\n      <td>2C16025ED6BF3893D656161E94D044ED</td>\n      <td>2</td>\n      <td>702</td>\n      <td>725752EB0066B1A563A5BEB3F1688BFE</td>\n      <td>1426660722</td>\n      <td>1268904239</td>\n      <td>2124</td>\n      <td>2980</td>\n      <td>0</td>\n      <td>61</td>\n      <td>2231</td>\n      <td>1612804536</td>\n      <td>8</td>\n      <td>0</td>\n      <td>17</td>\n      <td>0</td>\n      <td>0.398031</td>\n      <td>0.406478</td>\n    </tr>\n    <tr>\n      <th>4</th>\n      <td>0</td>\n      <td>0</td>\n      <td>5</td>\n      <td>0</td>\n      <td>CD19DCDDF4F32347D88C9F439A87FB0E</td>\n      <td>D8CDCC2D06BEFC1FED6E6A5BA0F87A5F</td>\n      <td>2</td>\n      <td>238</td>\n      <td>3D4AC79A1ADF2DF38C50929265D19CAA</td>\n      <td>1365510198</td>\n      <td>1441048098</td>\n      <td>78</td>\n      <td>9500</td>\n      <td>0</td>\n      <td>46</td>\n      <td>19732</td>\n      <td>1613047958</td>\n      <td>11</td>\n      <td>3</td>\n      <td>12</td>\n      <td>0</td>\n      <td>0.398031</td>\n      <td>0.463938</td>\n    </tr>\n    <tr>\n      <th>...</th>\n      <td>...</td>\n      <td>...</td>\n      <td>...</td>\n      <td>...</td>\n      <td>...</td>\n      <td>...</td>\n      <td>...</td>\n      <td>...</td>\n      <td>...</td>\n      <td>...</td>\n      <td>...</td>\n      <td>...</td>\n      <td>...</td>\n      <td>...</td>\n      <td>...</td>\n      <td>...</td>\n      <td>...</td>\n      <td>...</td>\n      <td>...</td>\n      <td>...</td>\n      <td>...</td>\n      <td>...</td>\n      <td>...</td>\n    </tr>\n    <tr>\n      <th>3032652</th>\n      <td>0</td>\n      <td>0</td>\n      <td>0</td>\n      <td>1</td>\n      <td>0543370735E7090F7B2B3071C6A2E91D</td>\n      <td>BF71A491B5539752927DC8C8ACE8C2D1</td>\n      <td>2</td>\n      <td>979</td>\n      <td>D23C8834E8856155EA2513DC3FBB2D5A</td>\n      <td>1301498503</td>\n      <td>1291415354</td>\n      <td>2171</td>\n      <td>166</td>\n      <td>0</td>\n      <td>19</td>\n      <td>11710</td>\n      <td>1614091454</td>\n      <td>23</td>\n      <td>1</td>\n      <td>14</td>\n      <td>0</td>\n      <td>0.452756</td>\n      <td>0.637230</td>\n    </tr>\n    <tr>\n      <th>3032653</th>\n      <td>0</td>\n      <td>0</td>\n      <td>5</td>\n      <td>1</td>\n      <td>35BC2642DA0FE690E66EB8801E67823A</td>\n      <td>A42D80B94CC64BD9996BD45A939A276F</td>\n      <td>2</td>\n      <td>453</td>\n      <td>128D0813732451D6D0B09EBBE3E34AFF</td>\n      <td>1340866699</td>\n      <td>1355187055</td>\n      <td>1174</td>\n      <td>48415</td>\n      <td>0</td>\n      <td>19</td>\n      <td>57866</td>\n      <td>1613103596</td>\n      <td>12</td>\n      <td>4</td>\n      <td>4</td>\n      <td>0</td>\n      <td>0.398031</td>\n      <td>0.399072</td>\n    </tr>\n    <tr>\n      <th>3032654</th>\n      <td>0</td>\n      <td>0</td>\n      <td>9</td>\n      <td>0</td>\n      <td>B0CFCE419E235CE73DD1E1BAA9A661B2</td>\n      <td>EDF8B1C5C00A8A3166E9AF1B483EC6A0</td>\n      <td>2</td>\n      <td>110</td>\n      <td>BBB6E4448B96147F5D213C557C17E005</td>\n      <td>1555217219</td>\n      <td>1579596907</td>\n      <td>47</td>\n      <td>360</td>\n      <td>519</td>\n      <td>19</td>\n      <td>129632</td>\n      <td>1613417226</td>\n      <td>15</td>\n      <td>0</td>\n      <td>19</td>\n      <td>1</td>\n      <td>0.398031</td>\n      <td>0.309446</td>\n    </tr>\n    <tr>\n      <th>3032655</th>\n      <td>0</td>\n      <td>0</td>\n      <td>0</td>\n      <td>1</td>\n      <td>CBF323E1A477EA353DB78916F6AB00A8</td>\n      <td>B0DCB3AF2DBAFD78A22D113B1EEAB4DE</td>\n      <td>0</td>\n      <td>1262</td>\n      <td>0CF299C831ECAC9A21A9AF2B140E5B6A</td>\n      <td>1593450840</td>\n      <td>1422456135</td>\n      <td>2042</td>\n      <td>90</td>\n      <td>0</td>\n      <td>19</td>\n      <td>93</td>\n      <td>1612996196</td>\n      <td>10</td>\n      <td>2</td>\n      <td>22</td>\n      <td>0</td>\n      <td>0.398031</td>\n      <td>0.434891</td>\n    </tr>\n    <tr>\n      <th>3032656</th>\n      <td>0</td>\n      <td>0</td>\n      <td>0</td>\n      <td>1</td>\n      <td>6DEE58040ABEB0C7CAF3CC885BC43020</td>\n      <td>718AC2B89D0F3790B9838848132767F5</td>\n      <td>1</td>\n      <td>851</td>\n      <td>8B785E885B9A7E8657AB283B7938CAC4</td>\n      <td>1578902623</td>\n      <td>1272234970</td>\n      <td>1218</td>\n      <td>232</td>\n      <td>49287</td>\n      <td>48</td>\n      <td>147</td>\n      <td>1613947469</td>\n      <td>21</td>\n      <td>6</td>\n      <td>22</td>\n      <td>1</td>\n      <td>0.407301</td>\n      <td>0.284279</td>\n    </tr>\n  </tbody>\n</table>\n<p>3032657 rows × 23 columns</p>\n</div>"
     },
     "metadata": {},
     "execution_count": 14
    }
   ],
   "source": [
    "valid"
   ]
  },
  {
   "cell_type": "code",
   "execution_count": 13,
   "metadata": {},
   "outputs": [
    {
     "output_type": "execute_result",
     "data": {
      "text/plain": [
       "0          0.589728\n",
       "1          0.492213\n",
       "2          0.372992\n",
       "3          0.406478\n",
       "4          0.463938\n",
       "             ...   \n",
       "3032652    0.637230\n",
       "3032653    0.399072\n",
       "3032654    0.309446\n",
       "3032655    0.434891\n",
       "3032656    0.284279\n",
       "Name: pred, Length: 3032657, dtype: float32"
      ]
     },
     "metadata": {},
     "execution_count": 13
    }
   ],
   "source": [
    "valid['pred']"
   ]
  },
  {
   "cell_type": "code",
   "execution_count": 16,
   "metadata": {},
   "outputs": [
    {
     "output_type": "error",
     "ename": "ValueError",
     "evalue": "Found input variables with inconsistent numbers of samples: [3032657, 3033902]",
     "traceback": [
      "\u001b[0;31m---------------------------------------------------------------------------\u001b[0m",
      "\u001b[0;31mValueError\u001b[0m                                Traceback (most recent call last)",
      "\u001b[0;32m<ipython-input-16-01b676b63fe3>\u001b[0m in \u001b[0;36m<module>\u001b[0;34m\u001b[0m\n\u001b[0;32m----> 1\u001b[0;31m \u001b[0mrce_like\u001b[0m \u001b[0;34m=\u001b[0m \u001b[0mcompute_rce\u001b[0m\u001b[0;34m(\u001b[0m\u001b[0mvalid\u001b[0m\u001b[0;34m[\u001b[0m\u001b[0;34m'pred'\u001b[0m\u001b[0;34m]\u001b[0m\u001b[0;34m,\u001b[0m \u001b[0mtrain\u001b[0m\u001b[0;34m[\u001b[0m\u001b[0;34m'like'\u001b[0m\u001b[0;34m]\u001b[0m\u001b[0;34m)\u001b[0m\u001b[0;34m\u001b[0m\u001b[0;34m\u001b[0m\u001b[0m\n\u001b[0m\u001b[1;32m      2\u001b[0m \u001b[0mrce_like\u001b[0m\u001b[0;34m\u001b[0m\u001b[0;34m\u001b[0m\u001b[0m\n",
      "\u001b[0;32m~/kie/recsys2021-twitter/utils/evaluate.py\u001b[0m in \u001b[0;36mcompute_rce\u001b[0;34m(pred, gt)\u001b[0m\n\u001b[1;32m      7\u001b[0m \u001b[0;34m\u001b[0m\u001b[0m\n\u001b[1;32m      8\u001b[0m \u001b[0;32mdef\u001b[0m \u001b[0mcompute_rce\u001b[0m\u001b[0;34m(\u001b[0m\u001b[0mpred\u001b[0m\u001b[0;34m,\u001b[0m \u001b[0mgt\u001b[0m\u001b[0;34m)\u001b[0m\u001b[0;34m:\u001b[0m\u001b[0;34m\u001b[0m\u001b[0;34m\u001b[0m\u001b[0m\n\u001b[0;32m----> 9\u001b[0;31m     \u001b[0mcross_entropy\u001b[0m \u001b[0;34m=\u001b[0m \u001b[0mlog_loss\u001b[0m\u001b[0;34m(\u001b[0m\u001b[0mgt\u001b[0m\u001b[0;34m,\u001b[0m \u001b[0mpred\u001b[0m\u001b[0;34m)\u001b[0m\u001b[0;34m\u001b[0m\u001b[0;34m\u001b[0m\u001b[0m\n\u001b[0m\u001b[1;32m     10\u001b[0m     \u001b[0mdata_ctr\u001b[0m \u001b[0;34m=\u001b[0m \u001b[0mcalculate_ctr\u001b[0m\u001b[0;34m(\u001b[0m\u001b[0mgt\u001b[0m\u001b[0;34m)\u001b[0m\u001b[0;34m\u001b[0m\u001b[0;34m\u001b[0m\u001b[0m\n\u001b[1;32m     11\u001b[0m     \u001b[0mstrawman_cross_entropy\u001b[0m \u001b[0;34m=\u001b[0m \u001b[0mlog_loss\u001b[0m\u001b[0;34m(\u001b[0m\u001b[0mgt\u001b[0m\u001b[0;34m,\u001b[0m \u001b[0;34m[\u001b[0m\u001b[0mdata_ctr\u001b[0m \u001b[0;32mfor\u001b[0m \u001b[0m_\u001b[0m \u001b[0;32min\u001b[0m \u001b[0mrange\u001b[0m\u001b[0;34m(\u001b[0m\u001b[0mlen\u001b[0m\u001b[0;34m(\u001b[0m\u001b[0mgt\u001b[0m\u001b[0;34m)\u001b[0m\u001b[0;34m)\u001b[0m\u001b[0;34m]\u001b[0m\u001b[0;34m)\u001b[0m\u001b[0;34m\u001b[0m\u001b[0;34m\u001b[0m\u001b[0m\n",
      "\u001b[0;32m~/anaconda3/envs/dask-cudf/lib/python3.7/site-packages/sklearn/utils/validation.py\u001b[0m in \u001b[0;36minner_f\u001b[0;34m(*args, **kwargs)\u001b[0m\n\u001b[1;32m     61\u001b[0m             \u001b[0mextra_args\u001b[0m \u001b[0;34m=\u001b[0m \u001b[0mlen\u001b[0m\u001b[0;34m(\u001b[0m\u001b[0margs\u001b[0m\u001b[0;34m)\u001b[0m \u001b[0;34m-\u001b[0m \u001b[0mlen\u001b[0m\u001b[0;34m(\u001b[0m\u001b[0mall_args\u001b[0m\u001b[0;34m)\u001b[0m\u001b[0;34m\u001b[0m\u001b[0;34m\u001b[0m\u001b[0m\n\u001b[1;32m     62\u001b[0m             \u001b[0;32mif\u001b[0m \u001b[0mextra_args\u001b[0m \u001b[0;34m<=\u001b[0m \u001b[0;36m0\u001b[0m\u001b[0;34m:\u001b[0m\u001b[0;34m\u001b[0m\u001b[0;34m\u001b[0m\u001b[0m\n\u001b[0;32m---> 63\u001b[0;31m                 \u001b[0;32mreturn\u001b[0m \u001b[0mf\u001b[0m\u001b[0;34m(\u001b[0m\u001b[0;34m*\u001b[0m\u001b[0margs\u001b[0m\u001b[0;34m,\u001b[0m \u001b[0;34m**\u001b[0m\u001b[0mkwargs\u001b[0m\u001b[0;34m)\u001b[0m\u001b[0;34m\u001b[0m\u001b[0;34m\u001b[0m\u001b[0m\n\u001b[0m\u001b[1;32m     64\u001b[0m \u001b[0;34m\u001b[0m\u001b[0m\n\u001b[1;32m     65\u001b[0m             \u001b[0;31m# extra_args > 0\u001b[0m\u001b[0;34m\u001b[0m\u001b[0;34m\u001b[0m\u001b[0;34m\u001b[0m\u001b[0m\n",
      "\u001b[0;32m~/anaconda3/envs/dask-cudf/lib/python3.7/site-packages/sklearn/metrics/_classification.py\u001b[0m in \u001b[0;36mlog_loss\u001b[0;34m(y_true, y_pred, eps, normalize, sample_weight, labels)\u001b[0m\n\u001b[1;32m   2224\u001b[0m     \"\"\"\n\u001b[1;32m   2225\u001b[0m     \u001b[0my_pred\u001b[0m \u001b[0;34m=\u001b[0m \u001b[0mcheck_array\u001b[0m\u001b[0;34m(\u001b[0m\u001b[0my_pred\u001b[0m\u001b[0;34m,\u001b[0m \u001b[0mensure_2d\u001b[0m\u001b[0;34m=\u001b[0m\u001b[0;32mFalse\u001b[0m\u001b[0;34m)\u001b[0m\u001b[0;34m\u001b[0m\u001b[0;34m\u001b[0m\u001b[0m\n\u001b[0;32m-> 2226\u001b[0;31m     \u001b[0mcheck_consistent_length\u001b[0m\u001b[0;34m(\u001b[0m\u001b[0my_pred\u001b[0m\u001b[0;34m,\u001b[0m \u001b[0my_true\u001b[0m\u001b[0;34m,\u001b[0m \u001b[0msample_weight\u001b[0m\u001b[0;34m)\u001b[0m\u001b[0;34m\u001b[0m\u001b[0;34m\u001b[0m\u001b[0m\n\u001b[0m\u001b[1;32m   2227\u001b[0m \u001b[0;34m\u001b[0m\u001b[0m\n\u001b[1;32m   2228\u001b[0m     \u001b[0mlb\u001b[0m \u001b[0;34m=\u001b[0m \u001b[0mLabelBinarizer\u001b[0m\u001b[0;34m(\u001b[0m\u001b[0;34m)\u001b[0m\u001b[0;34m\u001b[0m\u001b[0;34m\u001b[0m\u001b[0m\n",
      "\u001b[0;32m~/anaconda3/envs/dask-cudf/lib/python3.7/site-packages/sklearn/utils/validation.py\u001b[0m in \u001b[0;36mcheck_consistent_length\u001b[0;34m(*arrays)\u001b[0m\n\u001b[1;32m    261\u001b[0m     \u001b[0;32mif\u001b[0m \u001b[0mlen\u001b[0m\u001b[0;34m(\u001b[0m\u001b[0muniques\u001b[0m\u001b[0;34m)\u001b[0m \u001b[0;34m>\u001b[0m \u001b[0;36m1\u001b[0m\u001b[0;34m:\u001b[0m\u001b[0;34m\u001b[0m\u001b[0;34m\u001b[0m\u001b[0m\n\u001b[1;32m    262\u001b[0m         raise ValueError(\"Found input variables with inconsistent numbers of\"\n\u001b[0;32m--> 263\u001b[0;31m                          \" samples: %r\" % [int(l) for l in lengths])\n\u001b[0m\u001b[1;32m    264\u001b[0m \u001b[0;34m\u001b[0m\u001b[0m\n\u001b[1;32m    265\u001b[0m \u001b[0;34m\u001b[0m\u001b[0m\n",
      "\u001b[0;31mValueError\u001b[0m: Found input variables with inconsistent numbers of samples: [3032657, 3033902]"
     ]
    }
   ],
   "source": [
    "rce_like = compute_rce(valid['pred'], valid ['like'])\n",
    "rce_like"
   ]
  },
  {
   "cell_type": "code",
   "execution_count": null,
   "metadata": {},
   "outputs": [],
   "source": []
  }
 ]
}