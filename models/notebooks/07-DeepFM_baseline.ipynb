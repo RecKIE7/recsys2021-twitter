{
 "cells": [
  {
   "cell_type": "code",
   "execution_count": 27,
   "id": "fc2f53a6",
   "metadata": {},
   "outputs": [],
   "source": [
    "import sys\n",
    "sys.path.append('../..')\n",
    "\n",
    "import tqdm\n",
    "import pandas as pd\n",
    "from tensorflow.python.keras.models import  save_model,load_model\n",
    "from tensorflow.keras import optimizers\n",
    "from deepctr.models import DeepFM\n",
    "from sklearn.preprocessing import LabelEncoder, MinMaxScaler\n",
    "from sklearn.model_selection import train_test_split\n",
    "from deepctr.feature_column import SparseFeat, DenseFeat, get_feature_names\n",
    "from sklearn import preprocessing\n",
    "from utils.preprocessing import read_data\n",
    "import core.config as conf\n",
    "\n",
    "from utils.evaluate import calculate_ctr, compute_rce, average_precision_score"
   ]
  },
  {
   "cell_type": "code",
   "execution_count": 2,
   "id": "b89f599a",
   "metadata": {},
   "outputs": [],
   "source": [
    "data_path = conf.raw_data_path\n",
    "df = pd.read_parquet(data_path + 'part-00000')"
   ]
  },
  {
   "cell_type": "code",
   "execution_count": 3,
   "id": "22270134",
   "metadata": {},
   "outputs": [],
   "source": [
    "DONT_USE = ['text_ tokens', 'hashtags', 'tweet_id', 'engaged_with_user_id', 'enaging_user_id', 'language','present_links', 'present_domains', 'id']\n",
    "features = [c for c in df.columns if c not in DONT_USE]"
   ]
  },
  {
   "cell_type": "code",
   "execution_count": 4,
   "id": "22a78ac8",
   "metadata": {},
   "outputs": [],
   "source": [
    "df = df[features]"
   ]
  },
  {
   "cell_type": "code",
   "execution_count": 5,
   "id": "d15fdc48",
   "metadata": {},
   "outputs": [
    {
     "data": {
      "text/html": [
       "<div>\n",
       "<style scoped>\n",
       "    .dataframe tbody tr th:only-of-type {\n",
       "        vertical-align: middle;\n",
       "    }\n",
       "\n",
       "    .dataframe tbody tr th {\n",
       "        vertical-align: top;\n",
       "    }\n",
       "\n",
       "    .dataframe thead th {\n",
       "        text-align: right;\n",
       "    }\n",
       "</style>\n",
       "<table border=\"1\" class=\"dataframe\">\n",
       "  <thead>\n",
       "    <tr style=\"text-align: right;\">\n",
       "      <th></th>\n",
       "      <th>present_media</th>\n",
       "      <th>tweet_type</th>\n",
       "      <th>tweet_timestamp</th>\n",
       "      <th>engaged_with_user_follower_count</th>\n",
       "      <th>engaged_with_user_following_count</th>\n",
       "      <th>engaged_with_user_is_verified</th>\n",
       "      <th>engaged_with_user_account_creation</th>\n",
       "      <th>enaging_user_follower_count</th>\n",
       "      <th>enaging_user_following_count</th>\n",
       "      <th>enaging_user_is_verified</th>\n",
       "      <th>enaging_user_account_creation</th>\n",
       "      <th>engagee_follows_engager</th>\n",
       "      <th>reply_timestamp</th>\n",
       "      <th>retweet_timestamp</th>\n",
       "      <th>retweet_with_comment_timestamp</th>\n",
       "      <th>like_timestamp</th>\n",
       "    </tr>\n",
       "  </thead>\n",
       "  <tbody>\n",
       "    <tr>\n",
       "      <th>0</th>\n",
       "      <td>None</td>\n",
       "      <td>Retweet</td>\n",
       "      <td>1613237034</td>\n",
       "      <td>2473</td>\n",
       "      <td>662</td>\n",
       "      <td>False</td>\n",
       "      <td>1261859734</td>\n",
       "      <td>169</td>\n",
       "      <td>339</td>\n",
       "      <td>False</td>\n",
       "      <td>1520886748</td>\n",
       "      <td>False</td>\n",
       "      <td>0</td>\n",
       "      <td>0</td>\n",
       "      <td>0</td>\n",
       "      <td>0</td>\n",
       "    </tr>\n",
       "    <tr>\n",
       "      <th>1</th>\n",
       "      <td>None</td>\n",
       "      <td>TopLevel</td>\n",
       "      <td>1613748600</td>\n",
       "      <td>4418640</td>\n",
       "      <td>228</td>\n",
       "      <td>True</td>\n",
       "      <td>1266804490</td>\n",
       "      <td>393</td>\n",
       "      <td>1190</td>\n",
       "      <td>False</td>\n",
       "      <td>1237570695</td>\n",
       "      <td>False</td>\n",
       "      <td>0</td>\n",
       "      <td>0</td>\n",
       "      <td>0</td>\n",
       "      <td>0</td>\n",
       "    </tr>\n",
       "    <tr>\n",
       "      <th>2</th>\n",
       "      <td>None</td>\n",
       "      <td>TopLevel</td>\n",
       "      <td>1613386238</td>\n",
       "      <td>219715</td>\n",
       "      <td>3685</td>\n",
       "      <td>True</td>\n",
       "      <td>1202617218</td>\n",
       "      <td>629</td>\n",
       "      <td>1473</td>\n",
       "      <td>False</td>\n",
       "      <td>1263176351</td>\n",
       "      <td>False</td>\n",
       "      <td>0</td>\n",
       "      <td>0</td>\n",
       "      <td>0</td>\n",
       "      <td>1613388292</td>\n",
       "    </tr>\n",
       "    <tr>\n",
       "      <th>3</th>\n",
       "      <td>None</td>\n",
       "      <td>Retweet</td>\n",
       "      <td>1613708640</td>\n",
       "      <td>2388283</td>\n",
       "      <td>13511</td>\n",
       "      <td>True</td>\n",
       "      <td>1251645191</td>\n",
       "      <td>123</td>\n",
       "      <td>200</td>\n",
       "      <td>False</td>\n",
       "      <td>1268276559</td>\n",
       "      <td>False</td>\n",
       "      <td>0</td>\n",
       "      <td>0</td>\n",
       "      <td>0</td>\n",
       "      <td>0</td>\n",
       "    </tr>\n",
       "    <tr>\n",
       "      <th>4</th>\n",
       "      <td>Photo</td>\n",
       "      <td>TopLevel</td>\n",
       "      <td>1612586018</td>\n",
       "      <td>414</td>\n",
       "      <td>720</td>\n",
       "      <td>False</td>\n",
       "      <td>1578273274</td>\n",
       "      <td>134</td>\n",
       "      <td>379</td>\n",
       "      <td>False</td>\n",
       "      <td>1483862063</td>\n",
       "      <td>True</td>\n",
       "      <td>0</td>\n",
       "      <td>0</td>\n",
       "      <td>0</td>\n",
       "      <td>1612587384</td>\n",
       "    </tr>\n",
       "  </tbody>\n",
       "</table>\n",
       "</div>"
      ],
      "text/plain": [
       "  present_media tweet_type  tweet_timestamp  engaged_with_user_follower_count  \\\n",
       "0          None    Retweet       1613237034                              2473   \n",
       "1          None   TopLevel       1613748600                           4418640   \n",
       "2          None   TopLevel       1613386238                            219715   \n",
       "3          None    Retweet       1613708640                           2388283   \n",
       "4         Photo   TopLevel       1612586018                               414   \n",
       "\n",
       "   engaged_with_user_following_count  engaged_with_user_is_verified  \\\n",
       "0                                662                          False   \n",
       "1                                228                           True   \n",
       "2                               3685                           True   \n",
       "3                              13511                           True   \n",
       "4                                720                          False   \n",
       "\n",
       "   engaged_with_user_account_creation  enaging_user_follower_count  \\\n",
       "0                          1261859734                          169   \n",
       "1                          1266804490                          393   \n",
       "2                          1202617218                          629   \n",
       "3                          1251645191                          123   \n",
       "4                          1578273274                          134   \n",
       "\n",
       "   enaging_user_following_count  enaging_user_is_verified  \\\n",
       "0                           339                     False   \n",
       "1                          1190                     False   \n",
       "2                          1473                     False   \n",
       "3                           200                     False   \n",
       "4                           379                     False   \n",
       "\n",
       "   enaging_user_account_creation  engagee_follows_engager  reply_timestamp  \\\n",
       "0                     1520886748                    False                0   \n",
       "1                     1237570695                    False                0   \n",
       "2                     1263176351                    False                0   \n",
       "3                     1268276559                    False                0   \n",
       "4                     1483862063                     True                0   \n",
       "\n",
       "   retweet_timestamp  retweet_with_comment_timestamp  like_timestamp  \n",
       "0                  0                               0               0  \n",
       "1                  0                               0               0  \n",
       "2                  0                               0      1613388292  \n",
       "3                  0                               0               0  \n",
       "4                  0                               0      1612587384  "
      ]
     },
     "execution_count": 5,
     "metadata": {},
     "output_type": "execute_result"
    }
   ],
   "source": [
    "df.head()"
   ]
  },
  {
   "cell_type": "code",
   "execution_count": 6,
   "id": "3caecdb6",
   "metadata": {},
   "outputs": [],
   "source": [
    "sparse_features = ['present_media', 'tweet_type', 'engaged_with_user_is_verified', 'enaging_user_is_verified', 'engagee_follows_engager']\n",
    "dense_features = ['tweet_timestamp', 'engaged_with_user_follower_count', 'engaged_with_user_following_count', 'engaged_with_user_account_creation', 'enaging_user_follower_count', 'enaging_user_following_count', 'enaging_user_account_creation']"
   ]
  },
  {
   "cell_type": "code",
   "execution_count": 7,
   "id": "2756828b",
   "metadata": {},
   "outputs": [],
   "source": [
    "target = ['like_timestamp', 'reply_timestamp', 'retweet_timestamp', 'retweet_with_comment_timestamp']"
   ]
  },
  {
   "cell_type": "code",
   "execution_count": 8,
   "id": "4253d59b",
   "metadata": {},
   "outputs": [],
   "source": [
    "df[target] = df[target].applymap(lambda x : 1 if x > 0 else 0)"
   ]
  },
  {
   "cell_type": "code",
   "execution_count": 9,
   "id": "f867b258",
   "metadata": {},
   "outputs": [
    {
     "data": {
      "text/html": [
       "<div>\n",
       "<style scoped>\n",
       "    .dataframe tbody tr th:only-of-type {\n",
       "        vertical-align: middle;\n",
       "    }\n",
       "\n",
       "    .dataframe tbody tr th {\n",
       "        vertical-align: top;\n",
       "    }\n",
       "\n",
       "    .dataframe thead th {\n",
       "        text-align: right;\n",
       "    }\n",
       "</style>\n",
       "<table border=\"1\" class=\"dataframe\">\n",
       "  <thead>\n",
       "    <tr style=\"text-align: right;\">\n",
       "      <th></th>\n",
       "      <th>present_media</th>\n",
       "      <th>tweet_type</th>\n",
       "      <th>tweet_timestamp</th>\n",
       "      <th>engaged_with_user_follower_count</th>\n",
       "      <th>engaged_with_user_following_count</th>\n",
       "      <th>engaged_with_user_is_verified</th>\n",
       "      <th>engaged_with_user_account_creation</th>\n",
       "      <th>enaging_user_follower_count</th>\n",
       "      <th>enaging_user_following_count</th>\n",
       "      <th>enaging_user_is_verified</th>\n",
       "      <th>enaging_user_account_creation</th>\n",
       "      <th>engagee_follows_engager</th>\n",
       "      <th>reply_timestamp</th>\n",
       "      <th>retweet_timestamp</th>\n",
       "      <th>retweet_with_comment_timestamp</th>\n",
       "      <th>like_timestamp</th>\n",
       "    </tr>\n",
       "  </thead>\n",
       "  <tbody>\n",
       "    <tr>\n",
       "      <th>0</th>\n",
       "      <td>None</td>\n",
       "      <td>Retweet</td>\n",
       "      <td>1613237034</td>\n",
       "      <td>2473</td>\n",
       "      <td>662</td>\n",
       "      <td>False</td>\n",
       "      <td>1261859734</td>\n",
       "      <td>169</td>\n",
       "      <td>339</td>\n",
       "      <td>False</td>\n",
       "      <td>1520886748</td>\n",
       "      <td>False</td>\n",
       "      <td>0</td>\n",
       "      <td>0</td>\n",
       "      <td>0</td>\n",
       "      <td>0</td>\n",
       "    </tr>\n",
       "    <tr>\n",
       "      <th>1</th>\n",
       "      <td>None</td>\n",
       "      <td>TopLevel</td>\n",
       "      <td>1613748600</td>\n",
       "      <td>4418640</td>\n",
       "      <td>228</td>\n",
       "      <td>True</td>\n",
       "      <td>1266804490</td>\n",
       "      <td>393</td>\n",
       "      <td>1190</td>\n",
       "      <td>False</td>\n",
       "      <td>1237570695</td>\n",
       "      <td>False</td>\n",
       "      <td>0</td>\n",
       "      <td>0</td>\n",
       "      <td>0</td>\n",
       "      <td>0</td>\n",
       "    </tr>\n",
       "    <tr>\n",
       "      <th>2</th>\n",
       "      <td>None</td>\n",
       "      <td>TopLevel</td>\n",
       "      <td>1613386238</td>\n",
       "      <td>219715</td>\n",
       "      <td>3685</td>\n",
       "      <td>True</td>\n",
       "      <td>1202617218</td>\n",
       "      <td>629</td>\n",
       "      <td>1473</td>\n",
       "      <td>False</td>\n",
       "      <td>1263176351</td>\n",
       "      <td>False</td>\n",
       "      <td>0</td>\n",
       "      <td>0</td>\n",
       "      <td>0</td>\n",
       "      <td>1</td>\n",
       "    </tr>\n",
       "    <tr>\n",
       "      <th>3</th>\n",
       "      <td>None</td>\n",
       "      <td>Retweet</td>\n",
       "      <td>1613708640</td>\n",
       "      <td>2388283</td>\n",
       "      <td>13511</td>\n",
       "      <td>True</td>\n",
       "      <td>1251645191</td>\n",
       "      <td>123</td>\n",
       "      <td>200</td>\n",
       "      <td>False</td>\n",
       "      <td>1268276559</td>\n",
       "      <td>False</td>\n",
       "      <td>0</td>\n",
       "      <td>0</td>\n",
       "      <td>0</td>\n",
       "      <td>0</td>\n",
       "    </tr>\n",
       "    <tr>\n",
       "      <th>4</th>\n",
       "      <td>Photo</td>\n",
       "      <td>TopLevel</td>\n",
       "      <td>1612586018</td>\n",
       "      <td>414</td>\n",
       "      <td>720</td>\n",
       "      <td>False</td>\n",
       "      <td>1578273274</td>\n",
       "      <td>134</td>\n",
       "      <td>379</td>\n",
       "      <td>False</td>\n",
       "      <td>1483862063</td>\n",
       "      <td>True</td>\n",
       "      <td>0</td>\n",
       "      <td>0</td>\n",
       "      <td>0</td>\n",
       "      <td>1</td>\n",
       "    </tr>\n",
       "  </tbody>\n",
       "</table>\n",
       "</div>"
      ],
      "text/plain": [
       "  present_media tweet_type  tweet_timestamp  engaged_with_user_follower_count  \\\n",
       "0          None    Retweet       1613237034                              2473   \n",
       "1          None   TopLevel       1613748600                           4418640   \n",
       "2          None   TopLevel       1613386238                            219715   \n",
       "3          None    Retweet       1613708640                           2388283   \n",
       "4         Photo   TopLevel       1612586018                               414   \n",
       "\n",
       "   engaged_with_user_following_count  engaged_with_user_is_verified  \\\n",
       "0                                662                          False   \n",
       "1                                228                           True   \n",
       "2                               3685                           True   \n",
       "3                              13511                           True   \n",
       "4                                720                          False   \n",
       "\n",
       "   engaged_with_user_account_creation  enaging_user_follower_count  \\\n",
       "0                          1261859734                          169   \n",
       "1                          1266804490                          393   \n",
       "2                          1202617218                          629   \n",
       "3                          1251645191                          123   \n",
       "4                          1578273274                          134   \n",
       "\n",
       "   enaging_user_following_count  enaging_user_is_verified  \\\n",
       "0                           339                     False   \n",
       "1                          1190                     False   \n",
       "2                          1473                     False   \n",
       "3                           200                     False   \n",
       "4                           379                     False   \n",
       "\n",
       "   enaging_user_account_creation  engagee_follows_engager  reply_timestamp  \\\n",
       "0                     1520886748                    False                0   \n",
       "1                     1237570695                    False                0   \n",
       "2                     1263176351                    False                0   \n",
       "3                     1268276559                    False                0   \n",
       "4                     1483862063                     True                0   \n",
       "\n",
       "   retweet_timestamp  retweet_with_comment_timestamp  like_timestamp  \n",
       "0                  0                               0               0  \n",
       "1                  0                               0               0  \n",
       "2                  0                               0               1  \n",
       "3                  0                               0               0  \n",
       "4                  0                               0               1  "
      ]
     },
     "execution_count": 9,
     "metadata": {},
     "output_type": "execute_result"
    }
   ],
   "source": [
    "df.head()"
   ]
  },
  {
   "cell_type": "markdown",
   "id": "9480f0fe",
   "metadata": {},
   "source": [
    "## Preprocessing"
   ]
  },
  {
   "cell_type": "code",
   "execution_count": 10,
   "id": "0577a7ba",
   "metadata": {},
   "outputs": [],
   "source": [
    "for feat in sparse_features :\n",
    "    lbe = LabelEncoder()\n",
    "    df[feat] = lbe.fit_transform(df[feat])"
   ]
  },
  {
   "cell_type": "code",
   "execution_count": 11,
   "id": "0b7c973a",
   "metadata": {},
   "outputs": [],
   "source": [
    "mms = MinMaxScaler(feature_range = (0, 1))\n",
    "df[dense_features] = mms.fit_transform(df[dense_features])"
   ]
  },
  {
   "cell_type": "markdown",
   "id": "21860612",
   "metadata": {},
   "source": [
    "## Generate Feature Columns"
   ]
  },
  {
   "cell_type": "code",
   "execution_count": 12,
   "id": "36e8b574",
   "metadata": {},
   "outputs": [],
   "source": [
    "fixlen_feature_columns = [SparseFeat(feat, vocabulary_size = df[feat].max() +1, embedding_dim = 4) for feat in sparse_features]  + [DenseFeat(feat, 1,) for feat in dense_features]"
   ]
  },
  {
   "cell_type": "code",
   "execution_count": 13,
   "id": "b4d4ba59",
   "metadata": {},
   "outputs": [],
   "source": [
    "dnn_feature_columns = fixlen_feature_columns\n",
    "linear_feature_columns = fixlen_feature_columns\n",
    "\n",
    "feature_names = get_feature_names(linear_feature_columns + dnn_feature_columns)"
   ]
  },
  {
   "cell_type": "markdown",
   "id": "7e8a54e0",
   "metadata": {},
   "source": [
    "## Split Dataset"
   ]
  },
  {
   "cell_type": "code",
   "execution_count": 14,
   "id": "722839b8",
   "metadata": {},
   "outputs": [],
   "source": [
    "train, test = train_test_split(df, test_size = 0.2)"
   ]
  },
  {
   "cell_type": "code",
   "execution_count": 15,
   "id": "a76b3fe0",
   "metadata": {},
   "outputs": [],
   "source": [
    "train_model_input = {name:train[name].values for name in feature_names}\n",
    "test_model_input = {name:test[name].values for name in feature_names}"
   ]
  },
  {
   "cell_type": "markdown",
   "id": "eccba6ce",
   "metadata": {},
   "source": [
    "## Modeling"
   ]
  },
  {
   "cell_type": "code",
   "execution_count": 16,
   "id": "698ba1f0",
   "metadata": {},
   "outputs": [],
   "source": [
    "model = DeepFM(linear_feature_columns, dnn_feature_columns, task = 'binary')"
   ]
  },
  {
   "cell_type": "code",
   "execution_count": 17,
   "id": "eb0cc637",
   "metadata": {},
   "outputs": [],
   "source": [
    "model.compile(\"adam\", \"binary_crossentropy\", \n",
    "             metrics = ['binary_crossentropy'])"
   ]
  },
  {
   "cell_type": "code",
   "execution_count": 18,
   "id": "e7f45815",
   "metadata": {
    "scrolled": true
   },
   "outputs": [
    {
     "name": "stdout",
     "output_type": "stream",
     "text": [
      "Epoch 1/5\n",
      "7585/7585 [==============================] - 10s 1ms/step - loss: 0.6402 - binary_crossentropy: 0.6402 - val_loss: 0.6376 - val_binary_crossentropy: 0.6376\n",
      "Epoch 2/5\n",
      "7585/7585 [==============================] - 9s 1ms/step - loss: 0.6369 - binary_crossentropy: 0.6369 - val_loss: 0.6360 - val_binary_crossentropy: 0.6360\n",
      "Epoch 3/5\n",
      "7585/7585 [==============================] - 9s 1ms/step - loss: 0.6362 - binary_crossentropy: 0.6362 - val_loss: 0.6352 - val_binary_crossentropy: 0.6351\n",
      "Epoch 4/5\n",
      "7585/7585 [==============================] - 9s 1ms/step - loss: 0.6361 - binary_crossentropy: 0.6361 - val_loss: 0.6348 - val_binary_crossentropy: 0.6348\n",
      "Epoch 5/5\n",
      "7585/7585 [==============================] - 9s 1ms/step - loss: 0.6353 - binary_crossentropy: 0.6353 - val_loss: 0.6355 - val_binary_crossentropy: 0.6355\n"
     ]
    }
   ],
   "source": [
    "history = model.fit(train_model_input, train['like_timestamp'].values,\n",
    "                    batch_size = 256,\n",
    "                    epochs = 5,\n",
    "                    verbose = 1,\n",
    "                    validation_split = 0.2,)"
   ]
  },
  {
   "cell_type": "code",
   "execution_count": 19,
   "id": "90eefe82",
   "metadata": {},
   "outputs": [],
   "source": [
    "pred_ans = model.predict(test_model_input, batch_size = 256)"
   ]
  },
  {
   "cell_type": "code",
   "execution_count": 20,
   "id": "51b3a829",
   "metadata": {},
   "outputs": [
    {
     "data": {
      "text/plain": [
       "5.45389187849592"
      ]
     },
     "execution_count": 20,
     "metadata": {},
     "output_type": "execute_result"
    }
   ],
   "source": [
    "rce_like = compute_rce(pred_ans, test['like_timestamp'])\n",
    "rce_like"
   ]
  },
  {
   "cell_type": "code",
   "execution_count": 21,
   "id": "39ba6962",
   "metadata": {},
   "outputs": [
    {
     "data": {
      "text/plain": [
       "0.5341913966290482"
      ]
     },
     "execution_count": 21,
     "metadata": {},
     "output_type": "execute_result"
    }
   ],
   "source": [
    "ap_like = average_precision_score(test['like_timestamp'], pred_ans)\n",
    "ap_like"
   ]
  },
  {
   "cell_type": "code",
   "execution_count": 28,
   "id": "0cb36ebf",
   "metadata": {},
   "outputs": [],
   "source": [
    "save_model(model, 'DeepFM.h5')"
   ]
  },
  {
   "cell_type": "code",
   "execution_count": 39,
   "id": "44841d90",
   "metadata": {},
   "outputs": [
    {
     "ename": "ImportError",
     "evalue": "cannot import name 'custom_objects' from 'deepctr.utils' (/home/nyongja/anaconda3/envs/dask/lib/python3.7/site-packages/deepctr/utils.py)",
     "output_type": "error",
     "traceback": [
      "\u001b[0;31m---------------------------------------------------------------------------\u001b[0m",
      "\u001b[0;31mImportError\u001b[0m                               Traceback (most recent call last)",
      "\u001b[0;32m<ipython-input-39-e699d0bfbe2d>\u001b[0m in \u001b[0;36m<module>\u001b[0;34m\u001b[0m\n\u001b[0;32m----> 1\u001b[0;31m \u001b[0;32mfrom\u001b[0m \u001b[0mdeepctr\u001b[0m\u001b[0;34m.\u001b[0m\u001b[0mutils\u001b[0m \u001b[0;32mimport\u001b[0m \u001b[0mcustom_objects\u001b[0m\u001b[0;34m\u001b[0m\u001b[0;34m\u001b[0m\u001b[0m\n\u001b[0m",
      "\u001b[0;31mImportError\u001b[0m: cannot import name 'custom_objects' from 'deepctr.utils' (/home/nyongja/anaconda3/envs/dask/lib/python3.7/site-packages/deepctr/utils.py)"
     ]
    }
   ],
   "source": [
    "from deepctr.utils import custom_objects"
   ]
  },
  {
   "cell_type": "code",
   "execution_count": 40,
   "id": "5e7ddca3",
   "metadata": {},
   "outputs": [],
   "source": [
    "import deepctr"
   ]
  },
  {
   "cell_type": "code",
   "execution_count": 41,
   "id": "e1c85c04",
   "metadata": {},
   "outputs": [
    {
     "data": {
      "text/plain": [
       "'0.8.5'"
      ]
     },
     "execution_count": 41,
     "metadata": {},
     "output_type": "execute_result"
    }
   ],
   "source": [
    "deepctr.__version__"
   ]
  },
  {
   "cell_type": "code",
   "execution_count": null,
   "id": "b43134ba",
   "metadata": {},
   "outputs": [],
   "source": []
  }
 ],
 "metadata": {
  "kernelspec": {
   "display_name": "Python 3",
   "language": "python",
   "name": "python3"
  },
  "language_info": {
   "codemirror_mode": {
    "name": "ipython",
    "version": 3
   },
   "file_extension": ".py",
   "mimetype": "text/x-python",
   "name": "python",
   "nbconvert_exporter": "python",
   "pygments_lexer": "ipython3",
   "version": "3.7.10"
  }
 },
 "nbformat": 4,
 "nbformat_minor": 5
}
