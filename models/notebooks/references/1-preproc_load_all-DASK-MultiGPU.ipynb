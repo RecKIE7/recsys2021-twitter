{
 "cells": [
  {
   "cell_type": "markdown",
   "metadata": {},
   "source": [
    "Copyright (c) 2020, NVIDIA CORPORATION.\n",
    "Licensed under the Apache License, Version 2.0 (the \"License\");\n",
    "you may not use this file except in compliance with the License.\n",
    "You may obtain a copy of the License at\n",
    "    http://www.apache.org/licenses/LICENSE-2.0\n",
    "Unless required by applicable law or agreed to in writing, software\n",
    "distributed under the License is distributed on an \"AS IS\" BASIS,\n",
    "WITHOUT WARRANTIES OR CONDITIONS OF ANY KIND, either express or implied.\n",
    "See the License for the specific language governing permissions and\n",
    "limitations under the License."
   ]
  },
  {
   "cell_type": "markdown",
   "metadata": {},
   "source": [
    "#### ~~Tweet_id is encoded using approximate hashing which caused hashing collisions. Exact encoding of tweet_id is blocked by a bug in cudf. All other columns are using exact encoding.~~ \n",
    "Fixed"
   ]
  },
  {
   "cell_type": "code",
   "execution_count": 1,
   "metadata": {},
   "outputs": [],
   "source": [
    "import sys\n",
    "sys.path.append('../../..')\n",
    "\n",
    "import numpy as np\n",
    "from datetime import datetime\n",
    "import matplotlib.pyplot as plt\n",
    "import pandas as pd\n",
    "from tqdm import tqdm\n",
    "from sklearn.model_selection import train_test_split\n",
    "import subprocess\n",
    "\n",
    "import dask.multiprocessing\n",
    "dask.config.set(schedular='process')\n",
    "\n",
    "from utils.cuda_cluster import *\n",
    "from utils.dataset import read_data, factorize_small_cardinality\n",
    "\n",
    "\n",
    "import core.config as conf\n"
   ]
  },
  {
   "cell_type": "code",
   "execution_count": 2,
   "metadata": {},
   "outputs": [
    {
     "output_type": "stream",
     "name": "stderr",
     "text": [
      "/home/hyez/anaconda3/envs/dask-cudf/lib/python3.7/site-packages/distributed/node.py:155: UserWarning: Port 8787 is already in use.\nPerhaps you already have a cluster running?\nHosting the HTTP server on port 40083 instead\n  http_address[\"port\"], self.http_server.port\n"
     ]
    },
    {
     "output_type": "execute_result",
     "data": {
      "text/plain": [
       "<Client: 'tcp://127.0.0.1:33247' processes=5 threads=20, memory=33.47 GB>"
      ],
      "text/html": "<table style=\"border: 2px solid white;\">\n<tr>\n<td style=\"vertical-align: top; border: 0px solid white\">\n<h3 style=\"text-align: left;\">Client</h3>\n<ul style=\"text-align: left; list-style: none; margin: 0; padding: 0;\">\n  <li><b>Scheduler: </b>tcp://127.0.0.1:33247</li>\n  <li><b>Dashboard: </b><a href='http://127.0.0.1:40083/status' target='_blank'>http://127.0.0.1:40083/status</a></li>\n</ul>\n</td>\n<td style=\"vertical-align: top; border: 0px solid white\">\n<h3 style=\"text-align: left;\">Cluster</h3>\n<ul style=\"text-align: left; list-style:none; margin: 0; padding: 0;\">\n  <li><b>Workers: </b>5</li>\n  <li><b>Cores: </b>20</li>\n  <li><b>Memory: </b>33.47 GB</li>\n</ul>\n</td>\n</tr>\n</table>"
     },
     "metadata": {},
     "execution_count": 2
    }
   ],
   "source": [
    "client = Client()\n",
    "client"
   ]
  },
  {
   "cell_type": "code",
   "execution_count": 3,
   "metadata": {},
   "outputs": [
    {
     "output_type": "stream",
     "name": "stdout",
     "text": [
      "number of rows: 3033347\n"
     ]
    },
    {
     "output_type": "execute_result",
     "data": {
      "text/plain": [
       "                                             hashtags  \\\n",
       "id                                                      \n",
       "1                                                <NA>   \n",
       "2   E48B050ADC7D0DE54FA50374F4C9A063\\tCF4C782EBE1C...   \n",
       "3                                                <NA>   \n",
       "4                                                <NA>   \n",
       "5                                                <NA>   \n",
       "\n",
       "                            tweet_id         media links domains tweet_type  \\\n",
       "id                                                                            \n",
       "1   C8F345CF8BC7A86E34572072ECFBBEC4  Photo\\tPhoto  <NA>    <NA>   TopLevel   \n",
       "2   C1E31636C343B780BA776E4B73147028          <NA>  <NA>    <NA>    Retweet   \n",
       "3   B436C84E80C2430BA9DE41FDF04C73BF          <NA>  <NA>    <NA>   TopLevel   \n",
       "4   033FFA42C8AD502057AE96C8B4B812BE          <NA>  <NA>    <NA>   TopLevel   \n",
       "5   84F2E902BA3CF3B34B8D056F6F78D488          <NA>  <NA>    <NA>    Retweet   \n",
       "\n",
       "                            language   timestamp  \\\n",
       "id                                                 \n",
       "1   B8B04128918BBF54E2E178BFF1ABA833  1612993854   \n",
       "2   9FCF19233EAD65EA6E32C2E6DC03A444  1612886900   \n",
       "3   B0FA488F2911701DD8EC5B1EA5E322D8  1614019237   \n",
       "4   1F73BB863A39DB62B4A55B7E558DB1E8  1612779567   \n",
       "5   E7F038DE3EAD397AEC9193686C911677  1613822114   \n",
       "\n",
       "                     creator_user_id  creator_follower_count  ...  \\\n",
       "id                                                            ...   \n",
       "1   BC99C936FE4C2A1FDB0CD09295CAA53C                    4753  ...   \n",
       "2   F4ADB8DEADF1980D0B5C2B796C108F78                  110643  ...   \n",
       "3   59EBFE44ABE4C5E31528340304F529C3                    4480  ...   \n",
       "4   DF6A02AB1731A91FA46A2259F398F57B                     461  ...   \n",
       "5   A656845C3239DB662CFD45D64F2B94F5                    1308  ...   \n",
       "\n",
       "                     engager_user_id engager_follower_count  \\\n",
       "id                                                            \n",
       "1   411C3FA9B6AB5CA95192D875CDC22823                     76   \n",
       "2   E764026AB0E38A5C2FF19921D73B6C18                    260   \n",
       "3   455134BAAD3EAC4093393EC233FBAEF9                   1259   \n",
       "4   92D70497B86CAFBA5C51E331084462AD                    437   \n",
       "5   DC1C8A9412B9E266A4C3D4CAF6DB06CB                    247   \n",
       "\n",
       "    engager_following_count  engager_is_verified  engager_account_creation  \\\n",
       "id                                                                           \n",
       "1                       189                False                1435892882   \n",
       "2                       379                False                1393057295   \n",
       "3                       868                False                1587102370   \n",
       "4                       597                False                1419347918   \n",
       "5                       404                False                1507470713   \n",
       "\n",
       "    engager_follows_creator       reply  retweet  retweet_comment        like  \n",
       "id                                                                             \n",
       "1                      True           0        0                0  1613048460  \n",
       "2                     False           0        0                0           0  \n",
       "3                      True  1614019431        0                0           0  \n",
       "4                      True           0        0                0  1612780118  \n",
       "5                      True           0        0                0           0  \n",
       "\n",
       "[5 rows x 23 columns]"
      ],
      "text/html": "<div>\n<style scoped>\n    .dataframe tbody tr th:only-of-type {\n        vertical-align: middle;\n    }\n\n    .dataframe tbody tr th {\n        vertical-align: top;\n    }\n\n    .dataframe thead th {\n        text-align: right;\n    }\n</style>\n<table border=\"1\" class=\"dataframe\">\n  <thead>\n    <tr style=\"text-align: right;\">\n      <th></th>\n      <th>hashtags</th>\n      <th>tweet_id</th>\n      <th>media</th>\n      <th>links</th>\n      <th>domains</th>\n      <th>tweet_type</th>\n      <th>language</th>\n      <th>timestamp</th>\n      <th>creator_user_id</th>\n      <th>creator_follower_count</th>\n      <th>...</th>\n      <th>engager_user_id</th>\n      <th>engager_follower_count</th>\n      <th>engager_following_count</th>\n      <th>engager_is_verified</th>\n      <th>engager_account_creation</th>\n      <th>engager_follows_creator</th>\n      <th>reply</th>\n      <th>retweet</th>\n      <th>retweet_comment</th>\n      <th>like</th>\n    </tr>\n    <tr>\n      <th>id</th>\n      <th></th>\n      <th></th>\n      <th></th>\n      <th></th>\n      <th></th>\n      <th></th>\n      <th></th>\n      <th></th>\n      <th></th>\n      <th></th>\n      <th></th>\n      <th></th>\n      <th></th>\n      <th></th>\n      <th></th>\n      <th></th>\n      <th></th>\n      <th></th>\n      <th></th>\n      <th></th>\n      <th></th>\n    </tr>\n  </thead>\n  <tbody>\n    <tr>\n      <th>1</th>\n      <td>&lt;NA&gt;</td>\n      <td>C8F345CF8BC7A86E34572072ECFBBEC4</td>\n      <td>Photo\\tPhoto</td>\n      <td>&lt;NA&gt;</td>\n      <td>&lt;NA&gt;</td>\n      <td>TopLevel</td>\n      <td>B8B04128918BBF54E2E178BFF1ABA833</td>\n      <td>1612993854</td>\n      <td>BC99C936FE4C2A1FDB0CD09295CAA53C</td>\n      <td>4753</td>\n      <td>...</td>\n      <td>411C3FA9B6AB5CA95192D875CDC22823</td>\n      <td>76</td>\n      <td>189</td>\n      <td>False</td>\n      <td>1435892882</td>\n      <td>True</td>\n      <td>0</td>\n      <td>0</td>\n      <td>0</td>\n      <td>1613048460</td>\n    </tr>\n    <tr>\n      <th>2</th>\n      <td>E48B050ADC7D0DE54FA50374F4C9A063\\tCF4C782EBE1C...</td>\n      <td>C1E31636C343B780BA776E4B73147028</td>\n      <td>&lt;NA&gt;</td>\n      <td>&lt;NA&gt;</td>\n      <td>&lt;NA&gt;</td>\n      <td>Retweet</td>\n      <td>9FCF19233EAD65EA6E32C2E6DC03A444</td>\n      <td>1612886900</td>\n      <td>F4ADB8DEADF1980D0B5C2B796C108F78</td>\n      <td>110643</td>\n      <td>...</td>\n      <td>E764026AB0E38A5C2FF19921D73B6C18</td>\n      <td>260</td>\n      <td>379</td>\n      <td>False</td>\n      <td>1393057295</td>\n      <td>False</td>\n      <td>0</td>\n      <td>0</td>\n      <td>0</td>\n      <td>0</td>\n    </tr>\n    <tr>\n      <th>3</th>\n      <td>&lt;NA&gt;</td>\n      <td>B436C84E80C2430BA9DE41FDF04C73BF</td>\n      <td>&lt;NA&gt;</td>\n      <td>&lt;NA&gt;</td>\n      <td>&lt;NA&gt;</td>\n      <td>TopLevel</td>\n      <td>B0FA488F2911701DD8EC5B1EA5E322D8</td>\n      <td>1614019237</td>\n      <td>59EBFE44ABE4C5E31528340304F529C3</td>\n      <td>4480</td>\n      <td>...</td>\n      <td>455134BAAD3EAC4093393EC233FBAEF9</td>\n      <td>1259</td>\n      <td>868</td>\n      <td>False</td>\n      <td>1587102370</td>\n      <td>True</td>\n      <td>1614019431</td>\n      <td>0</td>\n      <td>0</td>\n      <td>0</td>\n    </tr>\n    <tr>\n      <th>4</th>\n      <td>&lt;NA&gt;</td>\n      <td>033FFA42C8AD502057AE96C8B4B812BE</td>\n      <td>&lt;NA&gt;</td>\n      <td>&lt;NA&gt;</td>\n      <td>&lt;NA&gt;</td>\n      <td>TopLevel</td>\n      <td>1F73BB863A39DB62B4A55B7E558DB1E8</td>\n      <td>1612779567</td>\n      <td>DF6A02AB1731A91FA46A2259F398F57B</td>\n      <td>461</td>\n      <td>...</td>\n      <td>92D70497B86CAFBA5C51E331084462AD</td>\n      <td>437</td>\n      <td>597</td>\n      <td>False</td>\n      <td>1419347918</td>\n      <td>True</td>\n      <td>0</td>\n      <td>0</td>\n      <td>0</td>\n      <td>1612780118</td>\n    </tr>\n    <tr>\n      <th>5</th>\n      <td>&lt;NA&gt;</td>\n      <td>84F2E902BA3CF3B34B8D056F6F78D488</td>\n      <td>&lt;NA&gt;</td>\n      <td>&lt;NA&gt;</td>\n      <td>&lt;NA&gt;</td>\n      <td>Retweet</td>\n      <td>E7F038DE3EAD397AEC9193686C911677</td>\n      <td>1613822114</td>\n      <td>A656845C3239DB662CFD45D64F2B94F5</td>\n      <td>1308</td>\n      <td>...</td>\n      <td>DC1C8A9412B9E266A4C3D4CAF6DB06CB</td>\n      <td>247</td>\n      <td>404</td>\n      <td>False</td>\n      <td>1507470713</td>\n      <td>True</td>\n      <td>0</td>\n      <td>0</td>\n      <td>0</td>\n      <td>0</td>\n    </tr>\n  </tbody>\n</table>\n<p>5 rows × 23 columns</p>\n</div>"
     },
     "metadata": {},
     "execution_count": 3
    }
   ],
   "source": [
    "data_path = conf.raw_data_path + 'part-00175'\n",
    "df = read_data(data_path, n_partitions=conf.n_partitions)\n",
    "features = [\n",
    "    'text_tokens',    ###############\n",
    "    'hashtags',       #Tweet Features\n",
    "    'tweet_id',       #\n",
    "    'media',          #\n",
    "    'links',          #\n",
    "    'domains',        #\n",
    "    'tweet_type',     #\n",
    "    'language',       #\n",
    "    'timestamp',      ###############\n",
    "    'creator_user_id',              ###########################\n",
    "    'creator_follower_count',       #Engaged With User Features\n",
    "    'creator_following_count',      #\n",
    "    'creator_is_verified',          #\n",
    "    'creator_account_creation',     ###########################\n",
    "    'engager_user_id',              #######################\n",
    "    'engager_follower_count',       #Engaging User Features\n",
    "    'engager_following_count',      #\n",
    "    'engager_is_verified',          #\n",
    "    'engager_account_creation',     #######################\n",
    "    'engager_follows_creator',    #################### Engagement Features\n",
    "    'reply',          #Target Reply\n",
    "    'retweet',        #Target Retweet    \n",
    "    'retweet_comment',#Target Retweet with comment\n",
    "    'like',           #Target Like\n",
    "                      ####################\n",
    "]\n",
    "\n",
    "df.columns = features\n",
    "\n",
    "df = df.drop('text_tokens', axis=1)\n",
    "df, = dask.persist(df)\n",
    "_ = wait(df)\n",
    "\n",
    "df.head()"
   ]
  },
  {
   "cell_type": "code",
   "execution_count": 4,
   "metadata": {},
   "outputs": [
    {
     "output_type": "execute_result",
     "data": {
      "text/plain": [
       "hashtags                    object\n",
       "tweet_id                    object\n",
       "media                       object\n",
       "links                       object\n",
       "domains                     object\n",
       "tweet_type                  object\n",
       "language                    object\n",
       "timestamp                    int32\n",
       "creator_user_id             object\n",
       "creator_follower_count       int32\n",
       "creator_following_count      int32\n",
       "creator_is_verified           bool\n",
       "creator_account_creation     int32\n",
       "engager_user_id             object\n",
       "engager_follower_count       int32\n",
       "engager_following_count      int32\n",
       "engager_is_verified           bool\n",
       "engager_account_creation     int32\n",
       "engager_follows_creator       bool\n",
       "reply                        int32\n",
       "retweet                      int32\n",
       "retweet_comment              int32\n",
       "like                         int32\n",
       "dtype: object"
      ]
     },
     "metadata": {},
     "execution_count": 4
    }
   ],
   "source": [
    "df.dtypes"
   ]
  },
  {
   "cell_type": "code",
   "execution_count": 5,
   "metadata": {},
   "outputs": [
    {
     "output_type": "stream",
     "name": "stdout",
     "text": [
      "CPU times: user 664 ms, sys: 36.7 ms, total: 701 ms\nWall time: 2.06 s\n"
     ]
    }
   ],
   "source": [
    "\n",
    "%%time\n",
    "df['id']   = 1\n",
    "df['id']   = df['id'].cumsum()\n",
    "df['id'] = df['id'].astype('int32')\n",
    "\n",
    "df['reply']   = df['reply'].fillna(0)\n",
    "df['retweet'] = df['retweet'].fillna(0)\n",
    "df['retweet_comment'] = df['retweet_comment'].fillna(0)\n",
    "df['like']    = df['like'].fillna(0)\n",
    "\n",
    "df['reply']   = df['reply'].astype('int32')\n",
    "df['retweet'] = df['retweet'].astype('int32')\n",
    "df['retweet_comment'] = df['retweet_comment'].astype('int32')\n",
    "df['like']    = df['like'].astype('int32')\n",
    "df, = dask.persist(df)\n",
    "_ = wait(df)"
   ]
  },
  {
   "cell_type": "code",
   "execution_count": 6,
   "metadata": {},
   "outputs": [
    {
     "output_type": "stream",
     "name": "stdout",
     "text": [
      "CPU times: user 236 ms, sys: 5.07 ms, total: 241 ms\nWall time: 817 ms\n"
     ]
    },
    {
     "output_type": "execute_result",
     "data": {
      "text/plain": [
       "                                             hashtags  \\\n",
       "id                                                      \n",
       "1                                                <NA>   \n",
       "2   E48B050ADC7D0DE54FA50374F4C9A063\\tCF4C782EBE1C...   \n",
       "3                                                <NA>   \n",
       "4                                                <NA>   \n",
       "5                                                <NA>   \n",
       "\n",
       "                            tweet_id         media links domains tweet_type  \\\n",
       "id                                                                            \n",
       "1   C8F345CF8BC7A86E34572072ECFBBEC4  Photo\\tPhoto  <NA>    <NA>   TopLevel   \n",
       "2   C1E31636C343B780BA776E4B73147028          <NA>  <NA>    <NA>    Retweet   \n",
       "3   B436C84E80C2430BA9DE41FDF04C73BF          <NA>  <NA>    <NA>   TopLevel   \n",
       "4   033FFA42C8AD502057AE96C8B4B812BE          <NA>  <NA>    <NA>   TopLevel   \n",
       "5   84F2E902BA3CF3B34B8D056F6F78D488          <NA>  <NA>    <NA>    Retweet   \n",
       "\n",
       "                            language   timestamp  \\\n",
       "id                                                 \n",
       "1   B8B04128918BBF54E2E178BFF1ABA833  1612993854   \n",
       "2   9FCF19233EAD65EA6E32C2E6DC03A444  1612886900   \n",
       "3   B0FA488F2911701DD8EC5B1EA5E322D8  1614019237   \n",
       "4   1F73BB863A39DB62B4A55B7E558DB1E8  1612779567   \n",
       "5   E7F038DE3EAD397AEC9193686C911677  1613822114   \n",
       "\n",
       "                     creator_user_id  creator_follower_count  ...  \\\n",
       "id                                                            ...   \n",
       "1   BC99C936FE4C2A1FDB0CD09295CAA53C                    4753  ...   \n",
       "2   F4ADB8DEADF1980D0B5C2B796C108F78                  110643  ...   \n",
       "3   59EBFE44ABE4C5E31528340304F529C3                    4480  ...   \n",
       "4   DF6A02AB1731A91FA46A2259F398F57B                     461  ...   \n",
       "5   A656845C3239DB662CFD45D64F2B94F5                    1308  ...   \n",
       "\n",
       "    engager_follower_count  engager_following_count  engager_is_verified  \\\n",
       "id                                                                         \n",
       "1                       76                      189                False   \n",
       "2                      260                      379                False   \n",
       "3                     1259                      868                False   \n",
       "4                      437                      597                False   \n",
       "5                      247                      404                False   \n",
       "\n",
       "    engager_account_creation  engager_follows_creator       reply  retweet  \\\n",
       "id                                                                           \n",
       "1                 1435892882                     True           0        0   \n",
       "2                 1393057295                    False           0        0   \n",
       "3                 1587102370                     True  1614019431        0   \n",
       "4                 1419347918                     True           0        0   \n",
       "5                 1507470713                     True           0        0   \n",
       "\n",
       "    retweet_comment        like  id  \n",
       "id                                   \n",
       "1                 0  1613048460   1  \n",
       "2                 0           0   2  \n",
       "3                 0           0   3  \n",
       "4                 0  1612780118   4  \n",
       "5                 0           0   5  \n",
       "\n",
       "[5 rows x 24 columns]"
      ],
      "text/html": "<div>\n<style scoped>\n    .dataframe tbody tr th:only-of-type {\n        vertical-align: middle;\n    }\n\n    .dataframe tbody tr th {\n        vertical-align: top;\n    }\n\n    .dataframe thead th {\n        text-align: right;\n    }\n</style>\n<table border=\"1\" class=\"dataframe\">\n  <thead>\n    <tr style=\"text-align: right;\">\n      <th></th>\n      <th>hashtags</th>\n      <th>tweet_id</th>\n      <th>media</th>\n      <th>links</th>\n      <th>domains</th>\n      <th>tweet_type</th>\n      <th>language</th>\n      <th>timestamp</th>\n      <th>creator_user_id</th>\n      <th>creator_follower_count</th>\n      <th>...</th>\n      <th>engager_follower_count</th>\n      <th>engager_following_count</th>\n      <th>engager_is_verified</th>\n      <th>engager_account_creation</th>\n      <th>engager_follows_creator</th>\n      <th>reply</th>\n      <th>retweet</th>\n      <th>retweet_comment</th>\n      <th>like</th>\n      <th>id</th>\n    </tr>\n    <tr>\n      <th>id</th>\n      <th></th>\n      <th></th>\n      <th></th>\n      <th></th>\n      <th></th>\n      <th></th>\n      <th></th>\n      <th></th>\n      <th></th>\n      <th></th>\n      <th></th>\n      <th></th>\n      <th></th>\n      <th></th>\n      <th></th>\n      <th></th>\n      <th></th>\n      <th></th>\n      <th></th>\n      <th></th>\n      <th></th>\n    </tr>\n  </thead>\n  <tbody>\n    <tr>\n      <th>1</th>\n      <td>&lt;NA&gt;</td>\n      <td>C8F345CF8BC7A86E34572072ECFBBEC4</td>\n      <td>Photo\\tPhoto</td>\n      <td>&lt;NA&gt;</td>\n      <td>&lt;NA&gt;</td>\n      <td>TopLevel</td>\n      <td>B8B04128918BBF54E2E178BFF1ABA833</td>\n      <td>1612993854</td>\n      <td>BC99C936FE4C2A1FDB0CD09295CAA53C</td>\n      <td>4753</td>\n      <td>...</td>\n      <td>76</td>\n      <td>189</td>\n      <td>False</td>\n      <td>1435892882</td>\n      <td>True</td>\n      <td>0</td>\n      <td>0</td>\n      <td>0</td>\n      <td>1613048460</td>\n      <td>1</td>\n    </tr>\n    <tr>\n      <th>2</th>\n      <td>E48B050ADC7D0DE54FA50374F4C9A063\\tCF4C782EBE1C...</td>\n      <td>C1E31636C343B780BA776E4B73147028</td>\n      <td>&lt;NA&gt;</td>\n      <td>&lt;NA&gt;</td>\n      <td>&lt;NA&gt;</td>\n      <td>Retweet</td>\n      <td>9FCF19233EAD65EA6E32C2E6DC03A444</td>\n      <td>1612886900</td>\n      <td>F4ADB8DEADF1980D0B5C2B796C108F78</td>\n      <td>110643</td>\n      <td>...</td>\n      <td>260</td>\n      <td>379</td>\n      <td>False</td>\n      <td>1393057295</td>\n      <td>False</td>\n      <td>0</td>\n      <td>0</td>\n      <td>0</td>\n      <td>0</td>\n      <td>2</td>\n    </tr>\n    <tr>\n      <th>3</th>\n      <td>&lt;NA&gt;</td>\n      <td>B436C84E80C2430BA9DE41FDF04C73BF</td>\n      <td>&lt;NA&gt;</td>\n      <td>&lt;NA&gt;</td>\n      <td>&lt;NA&gt;</td>\n      <td>TopLevel</td>\n      <td>B0FA488F2911701DD8EC5B1EA5E322D8</td>\n      <td>1614019237</td>\n      <td>59EBFE44ABE4C5E31528340304F529C3</td>\n      <td>4480</td>\n      <td>...</td>\n      <td>1259</td>\n      <td>868</td>\n      <td>False</td>\n      <td>1587102370</td>\n      <td>True</td>\n      <td>1614019431</td>\n      <td>0</td>\n      <td>0</td>\n      <td>0</td>\n      <td>3</td>\n    </tr>\n    <tr>\n      <th>4</th>\n      <td>&lt;NA&gt;</td>\n      <td>033FFA42C8AD502057AE96C8B4B812BE</td>\n      <td>&lt;NA&gt;</td>\n      <td>&lt;NA&gt;</td>\n      <td>&lt;NA&gt;</td>\n      <td>TopLevel</td>\n      <td>1F73BB863A39DB62B4A55B7E558DB1E8</td>\n      <td>1612779567</td>\n      <td>DF6A02AB1731A91FA46A2259F398F57B</td>\n      <td>461</td>\n      <td>...</td>\n      <td>437</td>\n      <td>597</td>\n      <td>False</td>\n      <td>1419347918</td>\n      <td>True</td>\n      <td>0</td>\n      <td>0</td>\n      <td>0</td>\n      <td>1612780118</td>\n      <td>4</td>\n    </tr>\n    <tr>\n      <th>5</th>\n      <td>&lt;NA&gt;</td>\n      <td>84F2E902BA3CF3B34B8D056F6F78D488</td>\n      <td>&lt;NA&gt;</td>\n      <td>&lt;NA&gt;</td>\n      <td>&lt;NA&gt;</td>\n      <td>Retweet</td>\n      <td>E7F038DE3EAD397AEC9193686C911677</td>\n      <td>1613822114</td>\n      <td>A656845C3239DB662CFD45D64F2B94F5</td>\n      <td>1308</td>\n      <td>...</td>\n      <td>247</td>\n      <td>404</td>\n      <td>False</td>\n      <td>1507470713</td>\n      <td>True</td>\n      <td>0</td>\n      <td>0</td>\n      <td>0</td>\n      <td>0</td>\n      <td>5</td>\n    </tr>\n  </tbody>\n</table>\n<p>5 rows × 24 columns</p>\n</div>"
     },
     "metadata": {},
     "execution_count": 6
    }
   ],
   "source": [
    "%%time\n",
    "\n",
    "df['timestamp']         = df['timestamp'].astype( np.int32 )\n",
    "df['creator_follower_count']  = df['creator_follower_count'].astype( np.int32 )\n",
    "df['creator_following_count'] = df['creator_following_count'].astype( np.int32 )\n",
    "df['creator_account_creation']= df['creator_account_creation'].astype( np.int32 )\n",
    "df['engager_follower_count']  = df['engager_follower_count'].astype( np.int32 )\n",
    "df['engager_following_count'] = df['engager_following_count'].astype( np.int32 )\n",
    "df['engager_account_creation']= df['engager_account_creation'].astype( np.int32 )\n",
    "\n",
    "df, = dask.persist(df)\n",
    "_ = wait(df)\n",
    "df.head()\n"
   ]
  },
  {
   "cell_type": "code",
   "execution_count": 7,
   "metadata": {},
   "outputs": [
    {
     "output_type": "execute_result",
     "data": {
      "text/plain": [
       "hashtags                    object\n",
       "tweet_id                    object\n",
       "media                       object\n",
       "links                       object\n",
       "domains                     object\n",
       "tweet_type                  object\n",
       "language                    object\n",
       "timestamp                    int32\n",
       "creator_user_id             object\n",
       "creator_follower_count       int32\n",
       "creator_following_count      int32\n",
       "creator_is_verified           bool\n",
       "creator_account_creation     int32\n",
       "engager_user_id             object\n",
       "engager_follower_count       int32\n",
       "engager_following_count      int32\n",
       "engager_is_verified           bool\n",
       "engager_account_creation     int32\n",
       "engager_follows_creator       bool\n",
       "reply                        int32\n",
       "retweet                      int32\n",
       "retweet_comment              int32\n",
       "like                         int32\n",
       "id                           int32\n",
       "dtype: object"
      ]
     },
     "metadata": {},
     "execution_count": 7
    }
   ],
   "source": [
    "df.dtypes"
   ]
  },
  {
   "cell_type": "code",
   "execution_count": 8,
   "metadata": {},
   "outputs": [],
   "source": [
    "train_size = len(df)#.shape[0]"
   ]
  },
  {
   "cell_type": "code",
   "execution_count": 9,
   "metadata": {},
   "outputs": [
    {
     "output_type": "execute_result",
     "data": {
      "text/plain": [
       "id\n",
       "1    B8B04128918BBF54E2E178BFF1ABA833\n",
       "2    9FCF19233EAD65EA6E32C2E6DC03A444\n",
       "3    B0FA488F2911701DD8EC5B1EA5E322D8\n",
       "4    1F73BB863A39DB62B4A55B7E558DB1E8\n",
       "5    E7F038DE3EAD397AEC9193686C911677\n",
       "Name: language, dtype: object"
      ]
     },
     "metadata": {},
     "execution_count": 9
    }
   ],
   "source": [
    "df.head()['language']"
   ]
  },
  {
   "cell_type": "code",
   "execution_count": 10,
   "metadata": {},
   "outputs": [
    {
     "output_type": "stream",
     "name": "stdout",
     "text": [
      "<class 'dask_cudf.core.DataFrame'>\nColumns: 24 entries, hashtags to id\ndtypes: object(9), bool(3), int32(12)"
     ]
    }
   ],
   "source": [
    "df.info()"
   ]
  },
  {
   "cell_type": "code",
   "execution_count": 11,
   "metadata": {},
   "outputs": [
    {
     "output_type": "stream",
     "name": "stdout",
     "text": [
      "16 3033347\n"
     ]
    }
   ],
   "source": [
    "print(df.npartitions,len(df))"
   ]
  },
  {
   "cell_type": "code",
   "execution_count": 13,
   "metadata": {},
   "outputs": [
    {
     "output_type": "execute_result",
     "data": {
      "text/plain": [
       "                                             hashtags  \\\n",
       "id                                                      \n",
       "1                                                <NA>   \n",
       "2   E48B050ADC7D0DE54FA50374F4C9A063\\tCF4C782EBE1C...   \n",
       "3                                                <NA>   \n",
       "4                                                <NA>   \n",
       "5                                                <NA>   \n",
       "\n",
       "                            tweet_id        media links domains tweet_type  \\\n",
       "id                                                                           \n",
       "1   C8F345CF8BC7A86E34572072ECFBBEC4  Photo_Photo  <NA>    <NA>   TopLevel   \n",
       "2   C1E31636C343B780BA776E4B73147028               <NA>    <NA>    Retweet   \n",
       "3   B436C84E80C2430BA9DE41FDF04C73BF               <NA>    <NA>   TopLevel   \n",
       "4   033FFA42C8AD502057AE96C8B4B812BE               <NA>    <NA>   TopLevel   \n",
       "5   84F2E902BA3CF3B34B8D056F6F78D488               <NA>    <NA>    Retweet   \n",
       "\n",
       "                            language   timestamp  \\\n",
       "id                                                 \n",
       "1   B8B04128918BBF54E2E178BFF1ABA833  1612993854   \n",
       "2   9FCF19233EAD65EA6E32C2E6DC03A444  1612886900   \n",
       "3   B0FA488F2911701DD8EC5B1EA5E322D8  1614019237   \n",
       "4   1F73BB863A39DB62B4A55B7E558DB1E8  1612779567   \n",
       "5   E7F038DE3EAD397AEC9193686C911677  1613822114   \n",
       "\n",
       "                     creator_user_id  creator_follower_count  ...  \\\n",
       "id                                                            ...   \n",
       "1   BC99C936FE4C2A1FDB0CD09295CAA53C                    4753  ...   \n",
       "2   F4ADB8DEADF1980D0B5C2B796C108F78                  110643  ...   \n",
       "3   59EBFE44ABE4C5E31528340304F529C3                    4480  ...   \n",
       "4   DF6A02AB1731A91FA46A2259F398F57B                     461  ...   \n",
       "5   A656845C3239DB662CFD45D64F2B94F5                    1308  ...   \n",
       "\n",
       "    engager_follower_count  engager_following_count  engager_is_verified  \\\n",
       "id                                                                         \n",
       "1                       76                      189                False   \n",
       "2                      260                      379                False   \n",
       "3                     1259                      868                False   \n",
       "4                      437                      597                False   \n",
       "5                      247                      404                False   \n",
       "\n",
       "    engager_account_creation  engager_follows_creator       reply  retweet  \\\n",
       "id                                                                           \n",
       "1                 1435892882                     True           0        0   \n",
       "2                 1393057295                    False           0        0   \n",
       "3                 1587102370                     True  1614019431        0   \n",
       "4                 1419347918                     True           0        0   \n",
       "5                 1507470713                     True           0        0   \n",
       "\n",
       "    retweet_comment        like  id  \n",
       "id                                   \n",
       "1                 0  1613048460   1  \n",
       "2                 0           0   2  \n",
       "3                 0           0   3  \n",
       "4                 0  1612780118   4  \n",
       "5                 0           0   5  \n",
       "\n",
       "[5 rows x 24 columns]"
      ],
      "text/html": "<div>\n<style scoped>\n    .dataframe tbody tr th:only-of-type {\n        vertical-align: middle;\n    }\n\n    .dataframe tbody tr th {\n        vertical-align: top;\n    }\n\n    .dataframe thead th {\n        text-align: right;\n    }\n</style>\n<table border=\"1\" class=\"dataframe\">\n  <thead>\n    <tr style=\"text-align: right;\">\n      <th></th>\n      <th>hashtags</th>\n      <th>tweet_id</th>\n      <th>media</th>\n      <th>links</th>\n      <th>domains</th>\n      <th>tweet_type</th>\n      <th>language</th>\n      <th>timestamp</th>\n      <th>creator_user_id</th>\n      <th>creator_follower_count</th>\n      <th>...</th>\n      <th>engager_follower_count</th>\n      <th>engager_following_count</th>\n      <th>engager_is_verified</th>\n      <th>engager_account_creation</th>\n      <th>engager_follows_creator</th>\n      <th>reply</th>\n      <th>retweet</th>\n      <th>retweet_comment</th>\n      <th>like</th>\n      <th>id</th>\n    </tr>\n    <tr>\n      <th>id</th>\n      <th></th>\n      <th></th>\n      <th></th>\n      <th></th>\n      <th></th>\n      <th></th>\n      <th></th>\n      <th></th>\n      <th></th>\n      <th></th>\n      <th></th>\n      <th></th>\n      <th></th>\n      <th></th>\n      <th></th>\n      <th></th>\n      <th></th>\n      <th></th>\n      <th></th>\n      <th></th>\n      <th></th>\n    </tr>\n  </thead>\n  <tbody>\n    <tr>\n      <th>1</th>\n      <td>&lt;NA&gt;</td>\n      <td>C8F345CF8BC7A86E34572072ECFBBEC4</td>\n      <td>Photo_Photo</td>\n      <td>&lt;NA&gt;</td>\n      <td>&lt;NA&gt;</td>\n      <td>TopLevel</td>\n      <td>B8B04128918BBF54E2E178BFF1ABA833</td>\n      <td>1612993854</td>\n      <td>BC99C936FE4C2A1FDB0CD09295CAA53C</td>\n      <td>4753</td>\n      <td>...</td>\n      <td>76</td>\n      <td>189</td>\n      <td>False</td>\n      <td>1435892882</td>\n      <td>True</td>\n      <td>0</td>\n      <td>0</td>\n      <td>0</td>\n      <td>1613048460</td>\n      <td>1</td>\n    </tr>\n    <tr>\n      <th>2</th>\n      <td>E48B050ADC7D0DE54FA50374F4C9A063\\tCF4C782EBE1C...</td>\n      <td>C1E31636C343B780BA776E4B73147028</td>\n      <td></td>\n      <td>&lt;NA&gt;</td>\n      <td>&lt;NA&gt;</td>\n      <td>Retweet</td>\n      <td>9FCF19233EAD65EA6E32C2E6DC03A444</td>\n      <td>1612886900</td>\n      <td>F4ADB8DEADF1980D0B5C2B796C108F78</td>\n      <td>110643</td>\n      <td>...</td>\n      <td>260</td>\n      <td>379</td>\n      <td>False</td>\n      <td>1393057295</td>\n      <td>False</td>\n      <td>0</td>\n      <td>0</td>\n      <td>0</td>\n      <td>0</td>\n      <td>2</td>\n    </tr>\n    <tr>\n      <th>3</th>\n      <td>&lt;NA&gt;</td>\n      <td>B436C84E80C2430BA9DE41FDF04C73BF</td>\n      <td></td>\n      <td>&lt;NA&gt;</td>\n      <td>&lt;NA&gt;</td>\n      <td>TopLevel</td>\n      <td>B0FA488F2911701DD8EC5B1EA5E322D8</td>\n      <td>1614019237</td>\n      <td>59EBFE44ABE4C5E31528340304F529C3</td>\n      <td>4480</td>\n      <td>...</td>\n      <td>1259</td>\n      <td>868</td>\n      <td>False</td>\n      <td>1587102370</td>\n      <td>True</td>\n      <td>1614019431</td>\n      <td>0</td>\n      <td>0</td>\n      <td>0</td>\n      <td>3</td>\n    </tr>\n    <tr>\n      <th>4</th>\n      <td>&lt;NA&gt;</td>\n      <td>033FFA42C8AD502057AE96C8B4B812BE</td>\n      <td></td>\n      <td>&lt;NA&gt;</td>\n      <td>&lt;NA&gt;</td>\n      <td>TopLevel</td>\n      <td>1F73BB863A39DB62B4A55B7E558DB1E8</td>\n      <td>1612779567</td>\n      <td>DF6A02AB1731A91FA46A2259F398F57B</td>\n      <td>461</td>\n      <td>...</td>\n      <td>437</td>\n      <td>597</td>\n      <td>False</td>\n      <td>1419347918</td>\n      <td>True</td>\n      <td>0</td>\n      <td>0</td>\n      <td>0</td>\n      <td>1612780118</td>\n      <td>4</td>\n    </tr>\n    <tr>\n      <th>5</th>\n      <td>&lt;NA&gt;</td>\n      <td>84F2E902BA3CF3B34B8D056F6F78D488</td>\n      <td></td>\n      <td>&lt;NA&gt;</td>\n      <td>&lt;NA&gt;</td>\n      <td>Retweet</td>\n      <td>E7F038DE3EAD397AEC9193686C911677</td>\n      <td>1613822114</td>\n      <td>A656845C3239DB662CFD45D64F2B94F5</td>\n      <td>1308</td>\n      <td>...</td>\n      <td>247</td>\n      <td>404</td>\n      <td>False</td>\n      <td>1507470713</td>\n      <td>True</td>\n      <td>0</td>\n      <td>0</td>\n      <td>0</td>\n      <td>0</td>\n      <td>5</td>\n    </tr>\n  </tbody>\n</table>\n<p>5 rows × 24 columns</p>\n</div>"
     },
     "metadata": {},
     "execution_count": 13
    }
   ],
   "source": [
    "df['media'] = df['media'].fillna('')\n",
    "def split_join(ds, sep):\n",
    "    return ds.str.replace('\\t', '_')\n",
    "df['media'] = df['media'].map_partitions( lambda x:  split_join(x,'\\t'), meta=('O'))\n",
    "\n",
    "df.head()"
   ]
  },
  {
   "cell_type": "code",
   "execution_count": 15,
   "metadata": {},
   "outputs": [
    {
     "output_type": "stream",
     "name": "stdout",
     "text": [
      "CPU times: user 888 ms, sys: 35.1 ms, total: 924 ms\nWall time: 3.45 s\n"
     ]
    }
   ],
   "source": [
    "%%time\n",
    "for col in ['language','tweet_type','media']:\n",
    "    df,_ = factorize_small_cardinality(df,col)"
   ]
  },
  {
   "cell_type": "code",
   "execution_count": 30,
   "metadata": {},
   "outputs": [],
   "source": [
    "df = df.drop('language', axis=1)\n",
    "df = df.drop('tweet_type', axis=1)\n",
    "df = df.drop('media', axis=1)\n",
    "df = df.rename(columns = {'language_encode':'language'})\n",
    "df = df.rename(columns = {'tweet_type_encode':'tweet_type'})\n",
    "df = df.rename(columns = {'media_encode':'media'})"
   ]
  },
  {
   "cell_type": "code",
   "execution_count": 31,
   "metadata": {},
   "outputs": [
    {
     "output_type": "execute_result",
     "data": {
      "text/plain": [
       "  hashtags links domains   timestamp  creator_follower_count  \\\n",
       "0     <NA>  <NA>    <NA>  1613273040                   93498   \n",
       "1     <NA>  <NA>    <NA>  1613825197                    3191   \n",
       "2     <NA>  <NA>    <NA>  1612769501                     159   \n",
       "3     <NA>  <NA>    <NA>  1612736658                    2594   \n",
       "4     <NA>  <NA>    <NA>  1614142340                    1866   \n",
       "\n",
       "   creator_following_count  creator_is_verified  creator_account_creation  \\\n",
       "0                     1536                 True                1278252855   \n",
       "1                      478                False                1240809025   \n",
       "2                      161                False                1598884793   \n",
       "3                      913                False                1329253936   \n",
       "4                     4982                False                1258936374   \n",
       "\n",
       "   engager_follower_count  engager_following_count  ...       reply  retweet  \\\n",
       "0                     669                      740  ...           0        0   \n",
       "1                     144                      203  ...           0        0   \n",
       "2                     295                      395  ...           0        0   \n",
       "3                     746                      661  ...  1612737594        0   \n",
       "4                     422                      507  ...           0        0   \n",
       "\n",
       "   retweet_comment        like  language  tweet_type  media  tweet_id  \\\n",
       "0                0  1613277907        19           0      0   1552126   \n",
       "1                0  1613825437        61           2      0    551482   \n",
       "2                0           0        57           2      4   1372003   \n",
       "3                0  1612737594        46           2      0    742026   \n",
       "4                0  1614162137        61           2      4   1586000   \n",
       "\n",
       "   creator_user_id  engager_user_id  \n",
       "0           347802           189330  \n",
       "1           387049            88035  \n",
       "2           404851            56471  \n",
       "3           423015           187313  \n",
       "4           421298           158258  \n",
       "\n",
       "[5 rows x 23 columns]"
      ],
      "text/html": "<div>\n<style scoped>\n    .dataframe tbody tr th:only-of-type {\n        vertical-align: middle;\n    }\n\n    .dataframe tbody tr th {\n        vertical-align: top;\n    }\n\n    .dataframe thead th {\n        text-align: right;\n    }\n</style>\n<table border=\"1\" class=\"dataframe\">\n  <thead>\n    <tr style=\"text-align: right;\">\n      <th></th>\n      <th>hashtags</th>\n      <th>links</th>\n      <th>domains</th>\n      <th>timestamp</th>\n      <th>creator_follower_count</th>\n      <th>creator_following_count</th>\n      <th>creator_is_verified</th>\n      <th>creator_account_creation</th>\n      <th>engager_follower_count</th>\n      <th>engager_following_count</th>\n      <th>...</th>\n      <th>reply</th>\n      <th>retweet</th>\n      <th>retweet_comment</th>\n      <th>like</th>\n      <th>language</th>\n      <th>tweet_type</th>\n      <th>media</th>\n      <th>tweet_id</th>\n      <th>creator_user_id</th>\n      <th>engager_user_id</th>\n    </tr>\n  </thead>\n  <tbody>\n    <tr>\n      <th>0</th>\n      <td>&lt;NA&gt;</td>\n      <td>&lt;NA&gt;</td>\n      <td>&lt;NA&gt;</td>\n      <td>1613273040</td>\n      <td>93498</td>\n      <td>1536</td>\n      <td>True</td>\n      <td>1278252855</td>\n      <td>669</td>\n      <td>740</td>\n      <td>...</td>\n      <td>0</td>\n      <td>0</td>\n      <td>0</td>\n      <td>1613277907</td>\n      <td>19</td>\n      <td>0</td>\n      <td>0</td>\n      <td>1552126</td>\n      <td>347802</td>\n      <td>189330</td>\n    </tr>\n    <tr>\n      <th>1</th>\n      <td>&lt;NA&gt;</td>\n      <td>&lt;NA&gt;</td>\n      <td>&lt;NA&gt;</td>\n      <td>1613825197</td>\n      <td>3191</td>\n      <td>478</td>\n      <td>False</td>\n      <td>1240809025</td>\n      <td>144</td>\n      <td>203</td>\n      <td>...</td>\n      <td>0</td>\n      <td>0</td>\n      <td>0</td>\n      <td>1613825437</td>\n      <td>61</td>\n      <td>2</td>\n      <td>0</td>\n      <td>551482</td>\n      <td>387049</td>\n      <td>88035</td>\n    </tr>\n    <tr>\n      <th>2</th>\n      <td>&lt;NA&gt;</td>\n      <td>&lt;NA&gt;</td>\n      <td>&lt;NA&gt;</td>\n      <td>1612769501</td>\n      <td>159</td>\n      <td>161</td>\n      <td>False</td>\n      <td>1598884793</td>\n      <td>295</td>\n      <td>395</td>\n      <td>...</td>\n      <td>0</td>\n      <td>0</td>\n      <td>0</td>\n      <td>0</td>\n      <td>57</td>\n      <td>2</td>\n      <td>4</td>\n      <td>1372003</td>\n      <td>404851</td>\n      <td>56471</td>\n    </tr>\n    <tr>\n      <th>3</th>\n      <td>&lt;NA&gt;</td>\n      <td>&lt;NA&gt;</td>\n      <td>&lt;NA&gt;</td>\n      <td>1612736658</td>\n      <td>2594</td>\n      <td>913</td>\n      <td>False</td>\n      <td>1329253936</td>\n      <td>746</td>\n      <td>661</td>\n      <td>...</td>\n      <td>1612737594</td>\n      <td>0</td>\n      <td>0</td>\n      <td>1612737594</td>\n      <td>46</td>\n      <td>2</td>\n      <td>0</td>\n      <td>742026</td>\n      <td>423015</td>\n      <td>187313</td>\n    </tr>\n    <tr>\n      <th>4</th>\n      <td>&lt;NA&gt;</td>\n      <td>&lt;NA&gt;</td>\n      <td>&lt;NA&gt;</td>\n      <td>1614142340</td>\n      <td>1866</td>\n      <td>4982</td>\n      <td>False</td>\n      <td>1258936374</td>\n      <td>422</td>\n      <td>507</td>\n      <td>...</td>\n      <td>0</td>\n      <td>0</td>\n      <td>0</td>\n      <td>1614162137</td>\n      <td>61</td>\n      <td>2</td>\n      <td>4</td>\n      <td>1586000</td>\n      <td>421298</td>\n      <td>158258</td>\n    </tr>\n  </tbody>\n</table>\n<p>5 rows × 23 columns</p>\n</div>"
     },
     "metadata": {},
     "execution_count": 31
    }
   ],
   "source": [
    "df.head()"
   ]
  },
  {
   "cell_type": "code",
   "execution_count": 32,
   "metadata": {},
   "outputs": [
    {
     "output_type": "stream",
     "name": "stdout",
     "text": [
      "CPU times: user 238 ms, sys: 12.1 ms, total: 251 ms\nWall time: 639 ms\n"
     ]
    },
    {
     "output_type": "execute_result",
     "data": {
      "text/plain": [
       "        tweet_id  tweet_encode\n",
       "42225          5             1\n",
       "136360         9             2\n",
       "140315        11             3\n",
       "85412         54             4\n",
       "111714        92             5"
      ],
      "text/html": "<div>\n<style scoped>\n    .dataframe tbody tr th:only-of-type {\n        vertical-align: middle;\n    }\n\n    .dataframe tbody tr th {\n        vertical-align: top;\n    }\n\n    .dataframe thead th {\n        text-align: right;\n    }\n</style>\n<table border=\"1\" class=\"dataframe\">\n  <thead>\n    <tr style=\"text-align: right;\">\n      <th></th>\n      <th>tweet_id</th>\n      <th>tweet_encode</th>\n    </tr>\n  </thead>\n  <tbody>\n    <tr>\n      <th>42225</th>\n      <td>5</td>\n      <td>1</td>\n    </tr>\n    <tr>\n      <th>136360</th>\n      <td>9</td>\n      <td>2</td>\n    </tr>\n    <tr>\n      <th>140315</th>\n      <td>11</td>\n      <td>3</td>\n    </tr>\n    <tr>\n      <th>85412</th>\n      <td>54</td>\n      <td>4</td>\n    </tr>\n    <tr>\n      <th>111714</th>\n      <td>92</td>\n      <td>5</td>\n    </tr>\n  </tbody>\n</table>\n</div>"
     },
     "metadata": {},
     "execution_count": 32
    }
   ],
   "source": [
    "%%time\n",
    "tweet = df[['tweet_id']]\n",
    "tweet = tweet.drop_duplicates(split_out=16)\n",
    "tweet['tweet_encode'] = 1\n",
    "tweet['tweet_encode'] = tweet['tweet_encode'].cumsum()\n",
    "tweet, = dask.persist(tweet)\n",
    "_ = wait(tweet)\n",
    "tweet.head()"
   ]
  },
  {
   "cell_type": "code",
   "execution_count": 33,
   "metadata": {},
   "outputs": [
    {
     "output_type": "stream",
     "name": "stdout",
     "text": [
      "CPU times: user 369 ms, sys: 17 ms, total: 386 ms\nWall time: 1.87 s\n"
     ]
    },
    {
     "output_type": "execute_result",
     "data": {
      "text/plain": [
       "                           hashtags links domains   timestamp  \\\n",
       "0  AAD42DFA66FF0130153B64969FEB3EF8  <NA>    <NA>  1613440158   \n",
       "1  881AF0B899BA9B790DA2A4B3E643A9AF  <NA>    <NA>  1612655251   \n",
       "2                              <NA>  <NA>    <NA>  1613764985   \n",
       "3                              <NA>  <NA>    <NA>  1612552142   \n",
       "4                              <NA>  <NA>    <NA>  1612939269   \n",
       "\n",
       "   creator_follower_count  creator_following_count  creator_is_verified  \\\n",
       "0                 7305441                       91                 True   \n",
       "1                   14749                      985                False   \n",
       "2                   79726                      321                False   \n",
       "3                     356                      640                False   \n",
       "4                 1316508                      535                 True   \n",
       "\n",
       "   creator_account_creation  engager_follower_count  engager_following_count  \\\n",
       "0                1243718342                      44                      127   \n",
       "1                1306644632                     117                      883   \n",
       "2                1318537465                     435                      515   \n",
       "3                1362098882                     282                      318   \n",
       "4                1341922272                    5768                     4505   \n",
       "\n",
       "   ...  reply     retweet  retweet_comment        like  language  tweet_type  \\\n",
       "0  ...      0           0                0           0        48           2   \n",
       "1  ...      0           0                0  1612667012        61           1   \n",
       "2  ...      0           0                0           0        41           1   \n",
       "3  ...      0           0                0           0        10           1   \n",
       "4  ...      0  1612960208                0           0        47           2   \n",
       "\n",
       "   media  creator_user_id  engager_user_id  tweet_id  \n",
       "0      5          2399561            69204      2473  \n",
       "1      0          1676003            80459    144178  \n",
       "2      0          1509450            29236     99914  \n",
       "3      4          2156228            65255    149369  \n",
       "4      4          2097365            67615     70884  \n",
       "\n",
       "[5 rows x 23 columns]"
      ],
      "text/html": "<div>\n<style scoped>\n    .dataframe tbody tr th:only-of-type {\n        vertical-align: middle;\n    }\n\n    .dataframe tbody tr th {\n        vertical-align: top;\n    }\n\n    .dataframe thead th {\n        text-align: right;\n    }\n</style>\n<table border=\"1\" class=\"dataframe\">\n  <thead>\n    <tr style=\"text-align: right;\">\n      <th></th>\n      <th>hashtags</th>\n      <th>links</th>\n      <th>domains</th>\n      <th>timestamp</th>\n      <th>creator_follower_count</th>\n      <th>creator_following_count</th>\n      <th>creator_is_verified</th>\n      <th>creator_account_creation</th>\n      <th>engager_follower_count</th>\n      <th>engager_following_count</th>\n      <th>...</th>\n      <th>reply</th>\n      <th>retweet</th>\n      <th>retweet_comment</th>\n      <th>like</th>\n      <th>language</th>\n      <th>tweet_type</th>\n      <th>media</th>\n      <th>creator_user_id</th>\n      <th>engager_user_id</th>\n      <th>tweet_id</th>\n    </tr>\n  </thead>\n  <tbody>\n    <tr>\n      <th>0</th>\n      <td>AAD42DFA66FF0130153B64969FEB3EF8</td>\n      <td>&lt;NA&gt;</td>\n      <td>&lt;NA&gt;</td>\n      <td>1613440158</td>\n      <td>7305441</td>\n      <td>91</td>\n      <td>True</td>\n      <td>1243718342</td>\n      <td>44</td>\n      <td>127</td>\n      <td>...</td>\n      <td>0</td>\n      <td>0</td>\n      <td>0</td>\n      <td>0</td>\n      <td>48</td>\n      <td>2</td>\n      <td>5</td>\n      <td>2399561</td>\n      <td>69204</td>\n      <td>2473</td>\n    </tr>\n    <tr>\n      <th>1</th>\n      <td>881AF0B899BA9B790DA2A4B3E643A9AF</td>\n      <td>&lt;NA&gt;</td>\n      <td>&lt;NA&gt;</td>\n      <td>1612655251</td>\n      <td>14749</td>\n      <td>985</td>\n      <td>False</td>\n      <td>1306644632</td>\n      <td>117</td>\n      <td>883</td>\n      <td>...</td>\n      <td>0</td>\n      <td>0</td>\n      <td>0</td>\n      <td>1612667012</td>\n      <td>61</td>\n      <td>1</td>\n      <td>0</td>\n      <td>1676003</td>\n      <td>80459</td>\n      <td>144178</td>\n    </tr>\n    <tr>\n      <th>2</th>\n      <td>&lt;NA&gt;</td>\n      <td>&lt;NA&gt;</td>\n      <td>&lt;NA&gt;</td>\n      <td>1613764985</td>\n      <td>79726</td>\n      <td>321</td>\n      <td>False</td>\n      <td>1318537465</td>\n      <td>435</td>\n      <td>515</td>\n      <td>...</td>\n      <td>0</td>\n      <td>0</td>\n      <td>0</td>\n      <td>0</td>\n      <td>41</td>\n      <td>1</td>\n      <td>0</td>\n      <td>1509450</td>\n      <td>29236</td>\n      <td>99914</td>\n    </tr>\n    <tr>\n      <th>3</th>\n      <td>&lt;NA&gt;</td>\n      <td>&lt;NA&gt;</td>\n      <td>&lt;NA&gt;</td>\n      <td>1612552142</td>\n      <td>356</td>\n      <td>640</td>\n      <td>False</td>\n      <td>1362098882</td>\n      <td>282</td>\n      <td>318</td>\n      <td>...</td>\n      <td>0</td>\n      <td>0</td>\n      <td>0</td>\n      <td>0</td>\n      <td>10</td>\n      <td>1</td>\n      <td>4</td>\n      <td>2156228</td>\n      <td>65255</td>\n      <td>149369</td>\n    </tr>\n    <tr>\n      <th>4</th>\n      <td>&lt;NA&gt;</td>\n      <td>&lt;NA&gt;</td>\n      <td>&lt;NA&gt;</td>\n      <td>1612939269</td>\n      <td>1316508</td>\n      <td>535</td>\n      <td>True</td>\n      <td>1341922272</td>\n      <td>5768</td>\n      <td>4505</td>\n      <td>...</td>\n      <td>0</td>\n      <td>1612960208</td>\n      <td>0</td>\n      <td>0</td>\n      <td>47</td>\n      <td>2</td>\n      <td>4</td>\n      <td>2097365</td>\n      <td>67615</td>\n      <td>70884</td>\n    </tr>\n  </tbody>\n</table>\n<p>5 rows × 23 columns</p>\n</div>"
     },
     "metadata": {},
     "execution_count": 33
    }
   ],
   "source": [
    "%%time\n",
    "df = df.merge(tweet,on='tweet_id',how='left')\n",
    "df = df.drop('tweet_id',axis=1)\n",
    "df.columns = [i if i!='tweet_encode' else 'tweet_id' for i in df.columns]\n",
    "df, = dask.persist(df)\n",
    "wait(df)\n",
    "del tweet\n",
    "df.head()"
   ]
  },
  {
   "cell_type": "code",
   "execution_count": 34,
   "metadata": {},
   "outputs": [
    {
     "output_type": "stream",
     "name": "stdout",
     "text": [
      "1558866 2175376 3033347\n",
      "3511090 2175376 3033347\n",
      "CPU times: user 588 ms, sys: 22.2 ms, total: 610 ms\n",
      "Wall time: 1.19 s\n"
     ]
    }
   ],
   "source": [
    "%%time\n",
    "user_a = df[['creator_user_id']].drop_duplicates(split_out=16)\n",
    "user_a, = dask.persist(user_a)\n",
    "_ = wait(user_a)\n",
    "user_b = df[['engager_user_id']].drop_duplicates(split_out=16)\n",
    "user_b, = dask.persist(user_b)\n",
    "wait(user_b)\n",
    "print(len(user_a),len(user_b),len(df))\n",
    "\n",
    "user_a.columns = ['user_id']\n",
    "user_b.columns = ['user_id']\n",
    "user_b['dummy'] = 1\n",
    "user_a = user_a.merge(user_b,on='user_id',how='outer')\n",
    "user_a = user_a.drop('dummy',axis=1)\n",
    "user_a, = dask.persist(user_a)\n",
    "wait(user_a)\n",
    "print(len(user_a),len(user_b),len(df))\n",
    "del user_b\n",
    "\n",
    "user_a['user_encode'] = 1\n",
    "user_a['user_encode'] = user_a['user_encode'].cumsum()\n",
    "user_a, = dask.persist(user_a)\n",
    "_ = wait(user_a)"
   ]
  },
  {
   "cell_type": "code",
   "execution_count": 35,
   "metadata": {},
   "outputs": [
    {
     "output_type": "stream",
     "name": "stdout",
     "text": [
      "CPU times: user 325 ms, sys: 19.8 ms, total: 345 ms\nWall time: 1.88 s\n"
     ]
    }
   ],
   "source": [
    "%%time\n",
    "df = df.merge(user_a,left_on='creator_user_id',right_on='user_id',how='left')\n",
    "df = df.drop(['creator_user_id','user_id'],axis=1)\n",
    "df.columns = [i if i!='user_encode' else 'creator_user_id' for i in df.columns]\n",
    "df, = dask.persist(df)\n",
    "_ = wait(df)"
   ]
  },
  {
   "cell_type": "code",
   "execution_count": 36,
   "metadata": {},
   "outputs": [
    {
     "output_type": "stream",
     "name": "stdout",
     "text": [
      "CPU times: user 320 ms, sys: 0 ns, total: 320 ms\nWall time: 1.8 s\n"
     ]
    },
    {
     "output_type": "execute_result",
     "data": {
      "text/plain": [
       "                                            hashtags  \\\n",
       "0                                               <NA>   \n",
       "1                                               <NA>   \n",
       "2                                               <NA>   \n",
       "3                   1C807AD6102295FB10E404BA57DDD31D   \n",
       "4  524054DA1796A0FC7A09EDD25634E7E7\\tEFF74E1B549B...   \n",
       "\n",
       "                              links                           domains  \\\n",
       "0                              <NA>                              <NA>   \n",
       "1                              <NA>                              <NA>   \n",
       "2                              <NA>                              <NA>   \n",
       "3  F3CB8E1E77A8FE91EB294D7A8EB7CC94  E8AD4213C8D8247BC233D37CFFBBEE96   \n",
       "4  6E72F518EAFE47705C9D239D45F2B112  244B6C5815741C40EB100AB72FF93F7C   \n",
       "\n",
       "    timestamp  creator_follower_count  creator_following_count  \\\n",
       "0  1613889799                    4699                      273   \n",
       "1  1613873373                 9720780                     9283   \n",
       "2  1613232366                    2052                      485   \n",
       "3  1612812188                  327944                     1903   \n",
       "4  1612826291                  174160                        0   \n",
       "\n",
       "   creator_is_verified  creator_account_creation  engager_follower_count  \\\n",
       "0                False                1560832031                     187   \n",
       "1                 True                1380227131                     275   \n",
       "2                False                1495190063                     471   \n",
       "3                 True                1212794544                     523   \n",
       "4                 True                1517540495                     299   \n",
       "\n",
       "   engager_following_count  ...  reply     retweet  retweet_comment  \\\n",
       "0                      529  ...      0           0                0   \n",
       "1                      259  ...      0           0                0   \n",
       "2                      381  ...      0  1613239338                0   \n",
       "3                     2267  ...      0           0                0   \n",
       "4                      267  ...      0           0                0   \n",
       "\n",
       "         like  language  tweet_type  media  tweet_id  creator_user_id  \\\n",
       "0  1613892434        61           2     10   1627164           135209   \n",
       "1           0        48           2      0   1306403           204811   \n",
       "2           0        10           2      4   1438881           185342   \n",
       "3           0        19           2      0   1115580           192746   \n",
       "4  1612831482        61           2      4   1252560           170438   \n",
       "\n",
       "   engager_user_id  \n",
       "0           107473  \n",
       "1            55210  \n",
       "2            50889  \n",
       "3            48968  \n",
       "4            64951  \n",
       "\n",
       "[5 rows x 23 columns]"
      ],
      "text/html": "<div>\n<style scoped>\n    .dataframe tbody tr th:only-of-type {\n        vertical-align: middle;\n    }\n\n    .dataframe tbody tr th {\n        vertical-align: top;\n    }\n\n    .dataframe thead th {\n        text-align: right;\n    }\n</style>\n<table border=\"1\" class=\"dataframe\">\n  <thead>\n    <tr style=\"text-align: right;\">\n      <th></th>\n      <th>hashtags</th>\n      <th>links</th>\n      <th>domains</th>\n      <th>timestamp</th>\n      <th>creator_follower_count</th>\n      <th>creator_following_count</th>\n      <th>creator_is_verified</th>\n      <th>creator_account_creation</th>\n      <th>engager_follower_count</th>\n      <th>engager_following_count</th>\n      <th>...</th>\n      <th>reply</th>\n      <th>retweet</th>\n      <th>retweet_comment</th>\n      <th>like</th>\n      <th>language</th>\n      <th>tweet_type</th>\n      <th>media</th>\n      <th>tweet_id</th>\n      <th>creator_user_id</th>\n      <th>engager_user_id</th>\n    </tr>\n  </thead>\n  <tbody>\n    <tr>\n      <th>0</th>\n      <td>&lt;NA&gt;</td>\n      <td>&lt;NA&gt;</td>\n      <td>&lt;NA&gt;</td>\n      <td>1613889799</td>\n      <td>4699</td>\n      <td>273</td>\n      <td>False</td>\n      <td>1560832031</td>\n      <td>187</td>\n      <td>529</td>\n      <td>...</td>\n      <td>0</td>\n      <td>0</td>\n      <td>0</td>\n      <td>1613892434</td>\n      <td>61</td>\n      <td>2</td>\n      <td>10</td>\n      <td>1627164</td>\n      <td>135209</td>\n      <td>107473</td>\n    </tr>\n    <tr>\n      <th>1</th>\n      <td>&lt;NA&gt;</td>\n      <td>&lt;NA&gt;</td>\n      <td>&lt;NA&gt;</td>\n      <td>1613873373</td>\n      <td>9720780</td>\n      <td>9283</td>\n      <td>True</td>\n      <td>1380227131</td>\n      <td>275</td>\n      <td>259</td>\n      <td>...</td>\n      <td>0</td>\n      <td>0</td>\n      <td>0</td>\n      <td>0</td>\n      <td>48</td>\n      <td>2</td>\n      <td>0</td>\n      <td>1306403</td>\n      <td>204811</td>\n      <td>55210</td>\n    </tr>\n    <tr>\n      <th>2</th>\n      <td>&lt;NA&gt;</td>\n      <td>&lt;NA&gt;</td>\n      <td>&lt;NA&gt;</td>\n      <td>1613232366</td>\n      <td>2052</td>\n      <td>485</td>\n      <td>False</td>\n      <td>1495190063</td>\n      <td>471</td>\n      <td>381</td>\n      <td>...</td>\n      <td>0</td>\n      <td>1613239338</td>\n      <td>0</td>\n      <td>0</td>\n      <td>10</td>\n      <td>2</td>\n      <td>4</td>\n      <td>1438881</td>\n      <td>185342</td>\n      <td>50889</td>\n    </tr>\n    <tr>\n      <th>3</th>\n      <td>1C807AD6102295FB10E404BA57DDD31D</td>\n      <td>F3CB8E1E77A8FE91EB294D7A8EB7CC94</td>\n      <td>E8AD4213C8D8247BC233D37CFFBBEE96</td>\n      <td>1612812188</td>\n      <td>327944</td>\n      <td>1903</td>\n      <td>True</td>\n      <td>1212794544</td>\n      <td>523</td>\n      <td>2267</td>\n      <td>...</td>\n      <td>0</td>\n      <td>0</td>\n      <td>0</td>\n      <td>0</td>\n      <td>19</td>\n      <td>2</td>\n      <td>0</td>\n      <td>1115580</td>\n      <td>192746</td>\n      <td>48968</td>\n    </tr>\n    <tr>\n      <th>4</th>\n      <td>524054DA1796A0FC7A09EDD25634E7E7\\tEFF74E1B549B...</td>\n      <td>6E72F518EAFE47705C9D239D45F2B112</td>\n      <td>244B6C5815741C40EB100AB72FF93F7C</td>\n      <td>1612826291</td>\n      <td>174160</td>\n      <td>0</td>\n      <td>True</td>\n      <td>1517540495</td>\n      <td>299</td>\n      <td>267</td>\n      <td>...</td>\n      <td>0</td>\n      <td>0</td>\n      <td>0</td>\n      <td>1612831482</td>\n      <td>61</td>\n      <td>2</td>\n      <td>4</td>\n      <td>1252560</td>\n      <td>170438</td>\n      <td>64951</td>\n    </tr>\n  </tbody>\n</table>\n<p>5 rows × 23 columns</p>\n</div>"
     },
     "metadata": {},
     "execution_count": 36
    }
   ],
   "source": [
    "%%time\n",
    "df = df.merge(user_a,left_on='engager_user_id',right_on='user_id',how='left')\n",
    "df = df.drop(['engager_user_id','user_id'],axis=1)\n",
    "df.columns = [i if i!='user_encode' else 'engager_user_id' for i in df.columns]\n",
    "df, = dask.persist(df)\n",
    "wait(df)\n",
    "del user_a\n",
    "df.head()"
   ]
  },
  {
   "cell_type": "code",
   "execution_count": 37,
   "metadata": {},
   "outputs": [
    {
     "output_type": "stream",
     "name": "stdout",
     "text": [
      "CPU times: user 0 ns, sys: 5.06 ms, total: 5.06 ms\nWall time: 4.52 ms\n"
     ]
    }
   ],
   "source": [
    "%%time\n",
    "df = df.repartition(npartitions=conf.n_partitions)\n",
    "df, = dask.persist(df)\n",
    "_ = wait(df)"
   ]
  },
  {
   "cell_type": "code",
   "execution_count": 38,
   "metadata": {},
   "outputs": [
    {
     "output_type": "stream",
     "name": "stdout",
     "text": [
      "CPU times: user 39.3 ms, sys: 15.3 ms, total: 54.6 ms\nWall time: 440 ms\n"
     ]
    }
   ],
   "source": [
    "%%time\n",
    "df.to_parquet(f'{conf.data_root}/dask_input/step1_output',write_index=False)"
   ]
  },
  {
   "cell_type": "code",
   "execution_count": 39,
   "metadata": {},
   "outputs": [
    {
     "output_type": "execute_result",
     "data": {
      "text/plain": [
       "                                            hashtags  \\\n",
       "0                                               <NA>   \n",
       "1                                               <NA>   \n",
       "2                                               <NA>   \n",
       "3                   1C807AD6102295FB10E404BA57DDD31D   \n",
       "4  524054DA1796A0FC7A09EDD25634E7E7\\tEFF74E1B549B...   \n",
       "\n",
       "                              links                           domains  \\\n",
       "0                              <NA>                              <NA>   \n",
       "1                              <NA>                              <NA>   \n",
       "2                              <NA>                              <NA>   \n",
       "3  F3CB8E1E77A8FE91EB294D7A8EB7CC94  E8AD4213C8D8247BC233D37CFFBBEE96   \n",
       "4  6E72F518EAFE47705C9D239D45F2B112  244B6C5815741C40EB100AB72FF93F7C   \n",
       "\n",
       "    timestamp  creator_follower_count  creator_following_count  \\\n",
       "0  1613889799                    4699                      273   \n",
       "1  1613873373                 9720780                     9283   \n",
       "2  1613232366                    2052                      485   \n",
       "3  1612812188                  327944                     1903   \n",
       "4  1612826291                  174160                        0   \n",
       "\n",
       "   creator_is_verified  creator_account_creation  engager_follower_count  \\\n",
       "0                False                1560832031                     187   \n",
       "1                 True                1380227131                     275   \n",
       "2                False                1495190063                     471   \n",
       "3                 True                1212794544                     523   \n",
       "4                 True                1517540495                     299   \n",
       "\n",
       "   engager_following_count  ...  reply     retweet  retweet_comment  \\\n",
       "0                      529  ...      0           0                0   \n",
       "1                      259  ...      0           0                0   \n",
       "2                      381  ...      0  1613239338                0   \n",
       "3                     2267  ...      0           0                0   \n",
       "4                      267  ...      0           0                0   \n",
       "\n",
       "         like  language  tweet_type  media  tweet_id  creator_user_id  \\\n",
       "0  1613892434        61           2     10   1627164           135209   \n",
       "1           0        48           2      0   1306403           204811   \n",
       "2           0        10           2      4   1438881           185342   \n",
       "3           0        19           2      0   1115580           192746   \n",
       "4  1612831482        61           2      4   1252560           170438   \n",
       "\n",
       "   engager_user_id  \n",
       "0           107473  \n",
       "1            55210  \n",
       "2            50889  \n",
       "3            48968  \n",
       "4            64951  \n",
       "\n",
       "[5 rows x 23 columns]"
      ],
      "text/html": "<div>\n<style scoped>\n    .dataframe tbody tr th:only-of-type {\n        vertical-align: middle;\n    }\n\n    .dataframe tbody tr th {\n        vertical-align: top;\n    }\n\n    .dataframe thead th {\n        text-align: right;\n    }\n</style>\n<table border=\"1\" class=\"dataframe\">\n  <thead>\n    <tr style=\"text-align: right;\">\n      <th></th>\n      <th>hashtags</th>\n      <th>links</th>\n      <th>domains</th>\n      <th>timestamp</th>\n      <th>creator_follower_count</th>\n      <th>creator_following_count</th>\n      <th>creator_is_verified</th>\n      <th>creator_account_creation</th>\n      <th>engager_follower_count</th>\n      <th>engager_following_count</th>\n      <th>...</th>\n      <th>reply</th>\n      <th>retweet</th>\n      <th>retweet_comment</th>\n      <th>like</th>\n      <th>language</th>\n      <th>tweet_type</th>\n      <th>media</th>\n      <th>tweet_id</th>\n      <th>creator_user_id</th>\n      <th>engager_user_id</th>\n    </tr>\n  </thead>\n  <tbody>\n    <tr>\n      <th>0</th>\n      <td>&lt;NA&gt;</td>\n      <td>&lt;NA&gt;</td>\n      <td>&lt;NA&gt;</td>\n      <td>1613889799</td>\n      <td>4699</td>\n      <td>273</td>\n      <td>False</td>\n      <td>1560832031</td>\n      <td>187</td>\n      <td>529</td>\n      <td>...</td>\n      <td>0</td>\n      <td>0</td>\n      <td>0</td>\n      <td>1613892434</td>\n      <td>61</td>\n      <td>2</td>\n      <td>10</td>\n      <td>1627164</td>\n      <td>135209</td>\n      <td>107473</td>\n    </tr>\n    <tr>\n      <th>1</th>\n      <td>&lt;NA&gt;</td>\n      <td>&lt;NA&gt;</td>\n      <td>&lt;NA&gt;</td>\n      <td>1613873373</td>\n      <td>9720780</td>\n      <td>9283</td>\n      <td>True</td>\n      <td>1380227131</td>\n      <td>275</td>\n      <td>259</td>\n      <td>...</td>\n      <td>0</td>\n      <td>0</td>\n      <td>0</td>\n      <td>0</td>\n      <td>48</td>\n      <td>2</td>\n      <td>0</td>\n      <td>1306403</td>\n      <td>204811</td>\n      <td>55210</td>\n    </tr>\n    <tr>\n      <th>2</th>\n      <td>&lt;NA&gt;</td>\n      <td>&lt;NA&gt;</td>\n      <td>&lt;NA&gt;</td>\n      <td>1613232366</td>\n      <td>2052</td>\n      <td>485</td>\n      <td>False</td>\n      <td>1495190063</td>\n      <td>471</td>\n      <td>381</td>\n      <td>...</td>\n      <td>0</td>\n      <td>1613239338</td>\n      <td>0</td>\n      <td>0</td>\n      <td>10</td>\n      <td>2</td>\n      <td>4</td>\n      <td>1438881</td>\n      <td>185342</td>\n      <td>50889</td>\n    </tr>\n    <tr>\n      <th>3</th>\n      <td>1C807AD6102295FB10E404BA57DDD31D</td>\n      <td>F3CB8E1E77A8FE91EB294D7A8EB7CC94</td>\n      <td>E8AD4213C8D8247BC233D37CFFBBEE96</td>\n      <td>1612812188</td>\n      <td>327944</td>\n      <td>1903</td>\n      <td>True</td>\n      <td>1212794544</td>\n      <td>523</td>\n      <td>2267</td>\n      <td>...</td>\n      <td>0</td>\n      <td>0</td>\n      <td>0</td>\n      <td>0</td>\n      <td>19</td>\n      <td>2</td>\n      <td>0</td>\n      <td>1115580</td>\n      <td>192746</td>\n      <td>48968</td>\n    </tr>\n    <tr>\n      <th>4</th>\n      <td>524054DA1796A0FC7A09EDD25634E7E7\\tEFF74E1B549B...</td>\n      <td>6E72F518EAFE47705C9D239D45F2B112</td>\n      <td>244B6C5815741C40EB100AB72FF93F7C</td>\n      <td>1612826291</td>\n      <td>174160</td>\n      <td>0</td>\n      <td>True</td>\n      <td>1517540495</td>\n      <td>299</td>\n      <td>267</td>\n      <td>...</td>\n      <td>0</td>\n      <td>0</td>\n      <td>0</td>\n      <td>1612831482</td>\n      <td>61</td>\n      <td>2</td>\n      <td>4</td>\n      <td>1252560</td>\n      <td>170438</td>\n      <td>64951</td>\n    </tr>\n  </tbody>\n</table>\n<p>5 rows × 23 columns</p>\n</div>"
     },
     "metadata": {},
     "execution_count": 39
    }
   ],
   "source": [
    "df.head()"
   ]
  },
  {
   "cell_type": "code",
   "execution_count": null,
   "metadata": {},
   "outputs": [],
   "source": []
  }
 ],
 "metadata": {
  "kernelspec": {
   "display_name": "dask-cudf",
   "language": "python",
   "name": "dask-cudf"
  },
  "language_info": {
   "codemirror_mode": {
    "name": "ipython",
    "version": 3
   },
   "file_extension": ".py",
   "mimetype": "text/x-python",
   "name": "python",
   "nbconvert_exporter": "python",
   "pygments_lexer": "ipython3",
   "version": "3.7.10-final"
  }
 },
 "nbformat": 4,
 "nbformat_minor": 4
}