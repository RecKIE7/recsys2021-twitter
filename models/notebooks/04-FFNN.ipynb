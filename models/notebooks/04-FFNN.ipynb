{
 "cells": [
  {
   "cell_type": "code",
   "execution_count": 10,
   "id": "da4d22e6",
   "metadata": {},
   "outputs": [],
   "source": [
    "import sys\n",
    "sys.path.append('../..')\n",
    "\n",
    "import numpy as np\n",
    "import matplotlib.pyplot as plt\n",
    "import pandas as pd\n",
    "from tqdm import tqdm\n",
    "from sklearn.model_selection import train_test_split\n",
    "import tensorflow as tf\n",
    "from tensorflow import feature_column as fc\n",
    "from tensorflow.keras.models import Sequential\n",
    "from tensorflow.keras.layers import Dense\n",
    "from sklearn import preprocessing\n",
    "from tensorflow.keras.models import save_model,load_model\n",
    "from utils.preprocessing import *\n",
    "from utils.gpu.cuda_cluster import *\n",
    "from utils.gpu.preprocessing import read_data, factorize_small_cardinality_with_index, df_to_tfdataset, split_join, get_media_index\n",
    "from utils.evaluate import calculate_ctr, compute_rce, average_precision_score\n",
    "import core.config as conf"
   ]
  },
  {
   "cell_type": "code",
   "execution_count": 2,
   "id": "ac9d7d79",
   "metadata": {},
   "outputs": [
    {
     "data": {
      "text/html": [
       "<table style=\"border: 2px solid white;\">\n",
       "<tr>\n",
       "<td style=\"vertical-align: top; border: 0px solid white\">\n",
       "<h3 style=\"text-align: left;\">Client</h3>\n",
       "<ul style=\"text-align: left; list-style: none; margin: 0; padding: 0;\">\n",
       "  <li><b>Scheduler: </b>tcp://127.0.0.1:35425</li>\n",
       "  <li><b>Dashboard: </b><a href='http://127.0.0.1:8787/status' target='_blank'>http://127.0.0.1:8787/status</a></li>\n",
       "</ul>\n",
       "</td>\n",
       "<td style=\"vertical-align: top; border: 0px solid white\">\n",
       "<h3 style=\"text-align: left;\">Cluster</h3>\n",
       "<ul style=\"text-align: left; list-style:none; margin: 0; padding: 0;\">\n",
       "  <li><b>Workers: </b>1</li>\n",
       "  <li><b>Cores: </b>1</li>\n",
       "  <li><b>Memory: </b>33.47 GB</li>\n",
       "</ul>\n",
       "</td>\n",
       "</tr>\n",
       "</table>"
      ],
      "text/plain": [
       "<Client: 'tcp://127.0.0.1:35425' processes=1 threads=1, memory=33.47 GB>"
      ]
     },
     "execution_count": 2,
     "metadata": {},
     "output_type": "execute_result"
    }
   ],
   "source": [
    "client"
   ]
  },
  {
   "cell_type": "markdown",
   "id": "92459096",
   "metadata": {},
   "source": [
    "## Load data"
   ]
  },
  {
   "cell_type": "code",
   "execution_count": 27,
   "id": "3396761e",
   "metadata": {},
   "outputs": [],
   "source": [
    "# data_path = conf.raw_data_path + '*' # for all dataset\n",
    "data_path = conf.raw_data_path + 'part-00000'\n",
    "ori_df = read_data(data_path)"
   ]
  },
  {
   "cell_type": "code",
   "execution_count": 21,
   "id": "c1757350",
   "metadata": {},
   "outputs": [
    {
     "data": {
      "text/html": [
       "<div>\n",
       "<style scoped>\n",
       "    .dataframe tbody tr th:only-of-type {\n",
       "        vertical-align: middle;\n",
       "    }\n",
       "\n",
       "    .dataframe tbody tr th {\n",
       "        vertical-align: top;\n",
       "    }\n",
       "\n",
       "    .dataframe thead th {\n",
       "        text-align: right;\n",
       "    }\n",
       "</style>\n",
       "<table border=\"1\" class=\"dataframe\">\n",
       "  <thead>\n",
       "    <tr style=\"text-align: right;\">\n",
       "      <th></th>\n",
       "      <th>text_tokens</th>\n",
       "      <th>hashtags</th>\n",
       "      <th>tweet_id</th>\n",
       "      <th>media</th>\n",
       "      <th>links</th>\n",
       "      <th>domains</th>\n",
       "      <th>tweet_type</th>\n",
       "      <th>language</th>\n",
       "      <th>tweet_timestamp</th>\n",
       "      <th>creator_id</th>\n",
       "      <th>...</th>\n",
       "      <th>engager_id</th>\n",
       "      <th>engager_follower_count</th>\n",
       "      <th>engager_following_count</th>\n",
       "      <th>engager_is_verified</th>\n",
       "      <th>engager_account_creation</th>\n",
       "      <th>creator_follows_engager</th>\n",
       "      <th>reply_timestamp</th>\n",
       "      <th>retweet_timestamp</th>\n",
       "      <th>retweet_with_comment_timestamp</th>\n",
       "      <th>like_timestamp</th>\n",
       "    </tr>\n",
       "  </thead>\n",
       "  <tbody>\n",
       "    <tr>\n",
       "      <th>0</th>\n",
       "      <td>101\\t11723\\t10301\\t10551\\t19164\\t10108\\t11426\\...</td>\n",
       "      <td>NaN</td>\n",
       "      <td>D1E2319B8D01AA3DFCB1CA8640CBBF6E</td>\n",
       "      <td>NaN</td>\n",
       "      <td>NaN</td>\n",
       "      <td>NaN</td>\n",
       "      <td>TopLevel</td>\n",
       "      <td>488B32D24BD4BB44172EB981C1BCA6FA</td>\n",
       "      <td>1612986571</td>\n",
       "      <td>DA33978388D1B0847E5C3AC9EE647956</td>\n",
       "      <td>...</td>\n",
       "      <td>11BDF72F20D572CE1072F59D13BF6992</td>\n",
       "      <td>488</td>\n",
       "      <td>481</td>\n",
       "      <td>False</td>\n",
       "      <td>1309127975</td>\n",
       "      <td>True</td>\n",
       "      <td>NaN</td>\n",
       "      <td>NaN</td>\n",
       "      <td>NaN</td>\n",
       "      <td>NaN</td>\n",
       "    </tr>\n",
       "    <tr>\n",
       "      <th>1</th>\n",
       "      <td>101\\t56898\\t137\\t152\\t10320\\t11403\\t66618\\t110...</td>\n",
       "      <td>NaN</td>\n",
       "      <td>3019F01025450ACE341309284EE6CD7B</td>\n",
       "      <td>NaN</td>\n",
       "      <td>NaN</td>\n",
       "      <td>NaN</td>\n",
       "      <td>Retweet</td>\n",
       "      <td>E7F038DE3EAD397AEC9193686C911677</td>\n",
       "      <td>1613649035</td>\n",
       "      <td>14D3668064C3ABD969097FEFEF0A79DA</td>\n",
       "      <td>...</td>\n",
       "      <td>5EF7AB46348ED999090B31ACB6DAC4A0</td>\n",
       "      <td>104</td>\n",
       "      <td>218</td>\n",
       "      <td>False</td>\n",
       "      <td>1491993346</td>\n",
       "      <td>True</td>\n",
       "      <td>NaN</td>\n",
       "      <td>NaN</td>\n",
       "      <td>NaN</td>\n",
       "      <td>NaN</td>\n",
       "    </tr>\n",
       "    <tr>\n",
       "      <th>2</th>\n",
       "      <td>101\\t76893\\t10157\\t27420\\t17928\\t112\\t10143\\t4...</td>\n",
       "      <td>NaN</td>\n",
       "      <td>4BC86D2C1CF043F002AEEB4D3471039A</td>\n",
       "      <td>Photo\\tPhoto</td>\n",
       "      <td>NaN</td>\n",
       "      <td>NaN</td>\n",
       "      <td>TopLevel</td>\n",
       "      <td>1F73BB863A39DB62B4A55B7E558DB1E8</td>\n",
       "      <td>1613124768</td>\n",
       "      <td>9A76E367C6FD100AE658FDB49F924018</td>\n",
       "      <td>...</td>\n",
       "      <td>89F6C949731FF6DF62BFDBF5C8144F5A</td>\n",
       "      <td>197</td>\n",
       "      <td>1488</td>\n",
       "      <td>False</td>\n",
       "      <td>1480110724</td>\n",
       "      <td>False</td>\n",
       "      <td>NaN</td>\n",
       "      <td>1.613237e+09</td>\n",
       "      <td>NaN</td>\n",
       "      <td>NaN</td>\n",
       "    </tr>\n",
       "    <tr>\n",
       "      <th>3</th>\n",
       "      <td>101\\t56898\\t137\\t11135\\t75225\\t16994\\t10129\\t1...</td>\n",
       "      <td>NaN</td>\n",
       "      <td>701DF7EB9F9B88FA39CC815DBA83E708</td>\n",
       "      <td>NaN</td>\n",
       "      <td>NaN</td>\n",
       "      <td>NaN</td>\n",
       "      <td>Retweet</td>\n",
       "      <td>488B32D24BD4BB44172EB981C1BCA6FA</td>\n",
       "      <td>1612541935</td>\n",
       "      <td>06150E2090A0BD24CA71952E4CDBD7E9</td>\n",
       "      <td>...</td>\n",
       "      <td>EB8AA255E602F40979F3BB0387B61374</td>\n",
       "      <td>99</td>\n",
       "      <td>103</td>\n",
       "      <td>False</td>\n",
       "      <td>1574979736</td>\n",
       "      <td>True</td>\n",
       "      <td>NaN</td>\n",
       "      <td>NaN</td>\n",
       "      <td>NaN</td>\n",
       "      <td>NaN</td>\n",
       "    </tr>\n",
       "    <tr>\n",
       "      <th>4</th>\n",
       "      <td>101\\t56898\\t137\\t71020\\t12022\\t105512\\t168\\t13...</td>\n",
       "      <td>NaN</td>\n",
       "      <td>32C41E80C6FB39C1E9DE84FBE7A1F20B</td>\n",
       "      <td>NaN</td>\n",
       "      <td>NaN</td>\n",
       "      <td>NaN</td>\n",
       "      <td>Retweet</td>\n",
       "      <td>B8B04128918BBF54E2E178BFF1ABA833</td>\n",
       "      <td>1612572329</td>\n",
       "      <td>5C8CBD9E6C9B6C248B7F5F3535AB321A</td>\n",
       "      <td>...</td>\n",
       "      <td>C15FF2A3FF6FAE1E51691B46400C3F20</td>\n",
       "      <td>589</td>\n",
       "      <td>661</td>\n",
       "      <td>False</td>\n",
       "      <td>1380642693</td>\n",
       "      <td>True</td>\n",
       "      <td>NaN</td>\n",
       "      <td>NaN</td>\n",
       "      <td>NaN</td>\n",
       "      <td>NaN</td>\n",
       "    </tr>\n",
       "    <tr>\n",
       "      <th>...</th>\n",
       "      <td>...</td>\n",
       "      <td>...</td>\n",
       "      <td>...</td>\n",
       "      <td>...</td>\n",
       "      <td>...</td>\n",
       "      <td>...</td>\n",
       "      <td>...</td>\n",
       "      <td>...</td>\n",
       "      <td>...</td>\n",
       "      <td>...</td>\n",
       "      <td>...</td>\n",
       "      <td>...</td>\n",
       "      <td>...</td>\n",
       "      <td>...</td>\n",
       "      <td>...</td>\n",
       "      <td>...</td>\n",
       "      <td>...</td>\n",
       "      <td>...</td>\n",
       "      <td>...</td>\n",
       "      <td>...</td>\n",
       "      <td>...</td>\n",
       "    </tr>\n",
       "    <tr>\n",
       "      <th>3033048</th>\n",
       "      <td>101\\t56898\\t137\\t30186\\t31185\\t131\\t59730\\t131...</td>\n",
       "      <td>NaN</td>\n",
       "      <td>6793435ABF7C38895792C5F38602D3D2</td>\n",
       "      <td>Photo</td>\n",
       "      <td>NaN</td>\n",
       "      <td>NaN</td>\n",
       "      <td>Retweet</td>\n",
       "      <td>488B32D24BD4BB44172EB981C1BCA6FA</td>\n",
       "      <td>1612742965</td>\n",
       "      <td>D5EA09ABDF828F5C84405E7E2F3ED186</td>\n",
       "      <td>...</td>\n",
       "      <td>3A208338A26A17422851A66DE1BC4102</td>\n",
       "      <td>190</td>\n",
       "      <td>251</td>\n",
       "      <td>False</td>\n",
       "      <td>1505171126</td>\n",
       "      <td>True</td>\n",
       "      <td>NaN</td>\n",
       "      <td>NaN</td>\n",
       "      <td>NaN</td>\n",
       "      <td>1.612743e+09</td>\n",
       "    </tr>\n",
       "    <tr>\n",
       "      <th>3033049</th>\n",
       "      <td>101\\t56898\\t137\\t10435\\t32009\\t71772\\t40762\\t1...</td>\n",
       "      <td>NaN</td>\n",
       "      <td>AFE949F8D1825217E730DF8D742A96E0</td>\n",
       "      <td>Photo</td>\n",
       "      <td>NaN</td>\n",
       "      <td>NaN</td>\n",
       "      <td>Retweet</td>\n",
       "      <td>488B32D24BD4BB44172EB981C1BCA6FA</td>\n",
       "      <td>1612755638</td>\n",
       "      <td>C5062142C780A56CEB438E48F24D8E14</td>\n",
       "      <td>...</td>\n",
       "      <td>42A82659E35547E58441CF4D890F8126</td>\n",
       "      <td>541</td>\n",
       "      <td>422</td>\n",
       "      <td>False</td>\n",
       "      <td>1391538247</td>\n",
       "      <td>True</td>\n",
       "      <td>NaN</td>\n",
       "      <td>1.612756e+09</td>\n",
       "      <td>NaN</td>\n",
       "      <td>NaN</td>\n",
       "    </tr>\n",
       "    <tr>\n",
       "      <th>3033050</th>\n",
       "      <td>101\\t100\\t15582\\t100\\t216\\t4458\\t7697\\t12014\\t...</td>\n",
       "      <td>NaN</td>\n",
       "      <td>E0817531FB3490875A2154CCEF2349C8</td>\n",
       "      <td>Photo</td>\n",
       "      <td>NaN</td>\n",
       "      <td>NaN</td>\n",
       "      <td>TopLevel</td>\n",
       "      <td>E7F038DE3EAD397AEC9193686C911677</td>\n",
       "      <td>1613683148</td>\n",
       "      <td>13CC8D799979E6A547F633986F79F1FB</td>\n",
       "      <td>...</td>\n",
       "      <td>CF3EF27445C68D8C403A2B99B0B08419</td>\n",
       "      <td>68</td>\n",
       "      <td>93</td>\n",
       "      <td>False</td>\n",
       "      <td>1602937670</td>\n",
       "      <td>True</td>\n",
       "      <td>NaN</td>\n",
       "      <td>NaN</td>\n",
       "      <td>NaN</td>\n",
       "      <td>1.613685e+09</td>\n",
       "    </tr>\n",
       "    <tr>\n",
       "      <th>3033051</th>\n",
       "      <td>101\\t108\\t18720\\t131\\t14117\\t35127\\t11453\\t130...</td>\n",
       "      <td>6028E959994E0EE130FE3C1F768B96E0\\t36BC0EDEC3E6...</td>\n",
       "      <td>96CB1CE2ADD248C77E4B73FC8FC93632</td>\n",
       "      <td>Photo</td>\n",
       "      <td>NaN</td>\n",
       "      <td>NaN</td>\n",
       "      <td>TopLevel</td>\n",
       "      <td>B4DC2F82961F1263E90DF7A942CCE0B2</td>\n",
       "      <td>1612955368</td>\n",
       "      <td>6B55DBAB9BE3A0818B33A71F858C18F7</td>\n",
       "      <td>...</td>\n",
       "      <td>C023B406AF5330FBD58B48E71F52E251</td>\n",
       "      <td>125</td>\n",
       "      <td>98</td>\n",
       "      <td>False</td>\n",
       "      <td>1420182520</td>\n",
       "      <td>False</td>\n",
       "      <td>NaN</td>\n",
       "      <td>NaN</td>\n",
       "      <td>NaN</td>\n",
       "      <td>1.612969e+09</td>\n",
       "    </tr>\n",
       "    <tr>\n",
       "      <th>3033052</th>\n",
       "      <td>101\\t9429\\t119341\\t10530\\t9251\\t16985\\t23811\\t...</td>\n",
       "      <td>NaN</td>\n",
       "      <td>7852AC9ECD6C3B43915C9C3F464564BF</td>\n",
       "      <td>NaN</td>\n",
       "      <td>NaN</td>\n",
       "      <td>NaN</td>\n",
       "      <td>TopLevel</td>\n",
       "      <td>8729EBF694C3DAF61208A209C2A542C8</td>\n",
       "      <td>1613908291</td>\n",
       "      <td>157AACBE898A7438E6ECBCCA416617BC</td>\n",
       "      <td>...</td>\n",
       "      <td>AC14D60C9A8B4D5723AE2C95058263FA</td>\n",
       "      <td>26</td>\n",
       "      <td>21</td>\n",
       "      <td>False</td>\n",
       "      <td>1489111996</td>\n",
       "      <td>True</td>\n",
       "      <td>1.613908e+09</td>\n",
       "      <td>NaN</td>\n",
       "      <td>NaN</td>\n",
       "      <td>NaN</td>\n",
       "    </tr>\n",
       "  </tbody>\n",
       "</table>\n",
       "<p>3033053 rows × 24 columns</p>\n",
       "</div>"
      ],
      "text/plain": [
       "                                               text_tokens  \\\n",
       "0        101\\t11723\\t10301\\t10551\\t19164\\t10108\\t11426\\...   \n",
       "1        101\\t56898\\t137\\t152\\t10320\\t11403\\t66618\\t110...   \n",
       "2        101\\t76893\\t10157\\t27420\\t17928\\t112\\t10143\\t4...   \n",
       "3        101\\t56898\\t137\\t11135\\t75225\\t16994\\t10129\\t1...   \n",
       "4        101\\t56898\\t137\\t71020\\t12022\\t105512\\t168\\t13...   \n",
       "...                                                    ...   \n",
       "3033048  101\\t56898\\t137\\t30186\\t31185\\t131\\t59730\\t131...   \n",
       "3033049  101\\t56898\\t137\\t10435\\t32009\\t71772\\t40762\\t1...   \n",
       "3033050  101\\t100\\t15582\\t100\\t216\\t4458\\t7697\\t12014\\t...   \n",
       "3033051  101\\t108\\t18720\\t131\\t14117\\t35127\\t11453\\t130...   \n",
       "3033052  101\\t9429\\t119341\\t10530\\t9251\\t16985\\t23811\\t...   \n",
       "\n",
       "                                                  hashtags  \\\n",
       "0                                                      NaN   \n",
       "1                                                      NaN   \n",
       "2                                                      NaN   \n",
       "3                                                      NaN   \n",
       "4                                                      NaN   \n",
       "...                                                    ...   \n",
       "3033048                                                NaN   \n",
       "3033049                                                NaN   \n",
       "3033050                                                NaN   \n",
       "3033051  6028E959994E0EE130FE3C1F768B96E0\\t36BC0EDEC3E6...   \n",
       "3033052                                                NaN   \n",
       "\n",
       "                                 tweet_id         media links domains  \\\n",
       "0        D1E2319B8D01AA3DFCB1CA8640CBBF6E           NaN   NaN     NaN   \n",
       "1        3019F01025450ACE341309284EE6CD7B           NaN   NaN     NaN   \n",
       "2        4BC86D2C1CF043F002AEEB4D3471039A  Photo\\tPhoto   NaN     NaN   \n",
       "3        701DF7EB9F9B88FA39CC815DBA83E708           NaN   NaN     NaN   \n",
       "4        32C41E80C6FB39C1E9DE84FBE7A1F20B           NaN   NaN     NaN   \n",
       "...                                   ...           ...   ...     ...   \n",
       "3033048  6793435ABF7C38895792C5F38602D3D2         Photo   NaN     NaN   \n",
       "3033049  AFE949F8D1825217E730DF8D742A96E0         Photo   NaN     NaN   \n",
       "3033050  E0817531FB3490875A2154CCEF2349C8         Photo   NaN     NaN   \n",
       "3033051  96CB1CE2ADD248C77E4B73FC8FC93632         Photo   NaN     NaN   \n",
       "3033052  7852AC9ECD6C3B43915C9C3F464564BF           NaN   NaN     NaN   \n",
       "\n",
       "        tweet_type                          language  tweet_timestamp  \\\n",
       "0         TopLevel  488B32D24BD4BB44172EB981C1BCA6FA       1612986571   \n",
       "1          Retweet  E7F038DE3EAD397AEC9193686C911677       1613649035   \n",
       "2         TopLevel  1F73BB863A39DB62B4A55B7E558DB1E8       1613124768   \n",
       "3          Retweet  488B32D24BD4BB44172EB981C1BCA6FA       1612541935   \n",
       "4          Retweet  B8B04128918BBF54E2E178BFF1ABA833       1612572329   \n",
       "...            ...                               ...              ...   \n",
       "3033048    Retweet  488B32D24BD4BB44172EB981C1BCA6FA       1612742965   \n",
       "3033049    Retweet  488B32D24BD4BB44172EB981C1BCA6FA       1612755638   \n",
       "3033050   TopLevel  E7F038DE3EAD397AEC9193686C911677       1613683148   \n",
       "3033051   TopLevel  B4DC2F82961F1263E90DF7A942CCE0B2       1612955368   \n",
       "3033052   TopLevel  8729EBF694C3DAF61208A209C2A542C8       1613908291   \n",
       "\n",
       "                               creator_id  ...  \\\n",
       "0        DA33978388D1B0847E5C3AC9EE647956  ...   \n",
       "1        14D3668064C3ABD969097FEFEF0A79DA  ...   \n",
       "2        9A76E367C6FD100AE658FDB49F924018  ...   \n",
       "3        06150E2090A0BD24CA71952E4CDBD7E9  ...   \n",
       "4        5C8CBD9E6C9B6C248B7F5F3535AB321A  ...   \n",
       "...                                   ...  ...   \n",
       "3033048  D5EA09ABDF828F5C84405E7E2F3ED186  ...   \n",
       "3033049  C5062142C780A56CEB438E48F24D8E14  ...   \n",
       "3033050  13CC8D799979E6A547F633986F79F1FB  ...   \n",
       "3033051  6B55DBAB9BE3A0818B33A71F858C18F7  ...   \n",
       "3033052  157AACBE898A7438E6ECBCCA416617BC  ...   \n",
       "\n",
       "                               engager_id  engager_follower_count  \\\n",
       "0        11BDF72F20D572CE1072F59D13BF6992                     488   \n",
       "1        5EF7AB46348ED999090B31ACB6DAC4A0                     104   \n",
       "2        89F6C949731FF6DF62BFDBF5C8144F5A                     197   \n",
       "3        EB8AA255E602F40979F3BB0387B61374                      99   \n",
       "4        C15FF2A3FF6FAE1E51691B46400C3F20                     589   \n",
       "...                                   ...                     ...   \n",
       "3033048  3A208338A26A17422851A66DE1BC4102                     190   \n",
       "3033049  42A82659E35547E58441CF4D890F8126                     541   \n",
       "3033050  CF3EF27445C68D8C403A2B99B0B08419                      68   \n",
       "3033051  C023B406AF5330FBD58B48E71F52E251                     125   \n",
       "3033052  AC14D60C9A8B4D5723AE2C95058263FA                      26   \n",
       "\n",
       "         engager_following_count  engager_is_verified  \\\n",
       "0                            481                False   \n",
       "1                            218                False   \n",
       "2                           1488                False   \n",
       "3                            103                False   \n",
       "4                            661                False   \n",
       "...                          ...                  ...   \n",
       "3033048                      251                False   \n",
       "3033049                      422                False   \n",
       "3033050                       93                False   \n",
       "3033051                       98                False   \n",
       "3033052                       21                False   \n",
       "\n",
       "        engager_account_creation  creator_follows_engager  reply_timestamp  \\\n",
       "0                     1309127975                     True              NaN   \n",
       "1                     1491993346                     True              NaN   \n",
       "2                     1480110724                    False              NaN   \n",
       "3                     1574979736                     True              NaN   \n",
       "4                     1380642693                     True              NaN   \n",
       "...                          ...                      ...              ...   \n",
       "3033048               1505171126                     True              NaN   \n",
       "3033049               1391538247                     True              NaN   \n",
       "3033050               1602937670                     True              NaN   \n",
       "3033051               1420182520                    False              NaN   \n",
       "3033052               1489111996                     True     1.613908e+09   \n",
       "\n",
       "         retweet_timestamp  retweet_with_comment_timestamp  like_timestamp  \n",
       "0                      NaN                             NaN             NaN  \n",
       "1                      NaN                             NaN             NaN  \n",
       "2             1.613237e+09                             NaN             NaN  \n",
       "3                      NaN                             NaN             NaN  \n",
       "4                      NaN                             NaN             NaN  \n",
       "...                    ...                             ...             ...  \n",
       "3033048                NaN                             NaN    1.612743e+09  \n",
       "3033049       1.612756e+09                             NaN             NaN  \n",
       "3033050                NaN                             NaN    1.613685e+09  \n",
       "3033051                NaN                             NaN    1.612969e+09  \n",
       "3033052                NaN                             NaN             NaN  \n",
       "\n",
       "[3033053 rows x 24 columns]"
      ]
     },
     "execution_count": 21,
     "metadata": {},
     "output_type": "execute_result"
    }
   ],
   "source": [
    "ori_df"
   ]
  },
  {
   "cell_type": "markdown",
   "id": "396b8f20",
   "metadata": {},
   "source": [
    "- media target encoding(photo, video, gif)\n",
    "- tweet_type\n",
    "- language\n",
    "- tweet_timestamp\n",
    "- engaged_with_user_id\n",
    "- engaged_with_user_follower_count\n",
    "- engaging_user_id\n",
    "- engaging_user_following_count\n",
    "- engagee_follows_engager\n",
    "- 'reply_timestamp', 'retweet_timestamp','retweet_with_comment_timestamp', 'like_timestamp'"
   ]
  },
  {
   "cell_type": "code",
   "execution_count": 34,
   "id": "88ffbb5c",
   "metadata": {},
   "outputs": [],
   "source": [
    "df = ori_df[['present_media', 'tweet_type', #'language', 'tweet_timestamp', \n",
    "             'engaged_with_user_follower_count', \n",
    "             'enaging_user_following_count', 'engagee_follows_engager','reply_timestamp', 'retweet_timestamp','retweet_with_comment_timestamp', 'like_timestamp']]"
   ]
  },
  {
   "cell_type": "markdown",
   "id": "af6e8c0f",
   "metadata": {},
   "source": [
    "## Preprocessing"
   ]
  },
  {
   "cell_type": "code",
   "execution_count": 35,
   "id": "2b5fd2ab",
   "metadata": {},
   "outputs": [],
   "source": [
    "df['is_reply'] = df['reply_timestamp'].compute().applymap(lambda x: 1 if x > 0 else 0).astype(np.int32)\n",
    "df['is_retweet'] = df['retweet_timestamp'].compute().applymap(lambda x: 1 if x > 0 else 0).astype(np.int32)\n",
    "df['is_comment'] = df['retweet_with_comment_timestamp'].compute().applymap(lambda x: 1 if x > 0 else 0).astype(np.int32)\n",
    "df['is_like'] = df['like_timestamp'].compute().applymap(lambda x: 1 if x > 0 else 0).astype(np.int32)"
   ]
  },
  {
   "cell_type": "code",
   "execution_count": 36,
   "id": "16980fd0",
   "metadata": {},
   "outputs": [],
   "source": [
    "df = df.drop('reply_timestamp', axis=1)\n",
    "df = df.drop('retweet_timestamp', axis=1)\n",
    "df = df.drop('retweet_with_comment_timestamp', axis=1)\n",
    "df = df.drop('like_timestamp', axis=1)"
   ]
  },
  {
   "cell_type": "code",
   "execution_count": 37,
   "id": "1b29bb49",
   "metadata": {},
   "outputs": [
    {
     "data": {
      "text/html": [
       "<div>\n",
       "<style scoped>\n",
       "    .dataframe tbody tr th:only-of-type {\n",
       "        vertical-align: middle;\n",
       "    }\n",
       "\n",
       "    .dataframe tbody tr th {\n",
       "        vertical-align: top;\n",
       "    }\n",
       "\n",
       "    .dataframe thead th {\n",
       "        text-align: right;\n",
       "    }\n",
       "</style>\n",
       "<table border=\"1\" class=\"dataframe\">\n",
       "  <thead>\n",
       "    <tr style=\"text-align: right;\">\n",
       "      <th></th>\n",
       "      <th>present_media</th>\n",
       "      <th>tweet_type</th>\n",
       "      <th>engaged_with_user_follower_count</th>\n",
       "      <th>enaging_user_following_count</th>\n",
       "      <th>engagee_follows_engager</th>\n",
       "      <th>is_reply</th>\n",
       "      <th>is_retweet</th>\n",
       "      <th>is_comment</th>\n",
       "      <th>is_like</th>\n",
       "    </tr>\n",
       "    <tr>\n",
       "      <th>id</th>\n",
       "      <th></th>\n",
       "      <th></th>\n",
       "      <th></th>\n",
       "      <th></th>\n",
       "      <th></th>\n",
       "      <th></th>\n",
       "      <th></th>\n",
       "      <th></th>\n",
       "      <th></th>\n",
       "    </tr>\n",
       "  </thead>\n",
       "  <tbody>\n",
       "    <tr>\n",
       "      <th>1</th>\n",
       "      <td>&lt;NA&gt;</td>\n",
       "      <td>Retweet</td>\n",
       "      <td>2473</td>\n",
       "      <td>339</td>\n",
       "      <td>False</td>\n",
       "      <td>0</td>\n",
       "      <td>0</td>\n",
       "      <td>0</td>\n",
       "      <td>0</td>\n",
       "    </tr>\n",
       "    <tr>\n",
       "      <th>2</th>\n",
       "      <td>&lt;NA&gt;</td>\n",
       "      <td>TopLevel</td>\n",
       "      <td>4418640</td>\n",
       "      <td>1190</td>\n",
       "      <td>False</td>\n",
       "      <td>0</td>\n",
       "      <td>0</td>\n",
       "      <td>0</td>\n",
       "      <td>0</td>\n",
       "    </tr>\n",
       "    <tr>\n",
       "      <th>3</th>\n",
       "      <td>&lt;NA&gt;</td>\n",
       "      <td>TopLevel</td>\n",
       "      <td>219715</td>\n",
       "      <td>1473</td>\n",
       "      <td>False</td>\n",
       "      <td>0</td>\n",
       "      <td>0</td>\n",
       "      <td>0</td>\n",
       "      <td>1</td>\n",
       "    </tr>\n",
       "    <tr>\n",
       "      <th>4</th>\n",
       "      <td>&lt;NA&gt;</td>\n",
       "      <td>Retweet</td>\n",
       "      <td>2388283</td>\n",
       "      <td>200</td>\n",
       "      <td>False</td>\n",
       "      <td>0</td>\n",
       "      <td>0</td>\n",
       "      <td>0</td>\n",
       "      <td>0</td>\n",
       "    </tr>\n",
       "    <tr>\n",
       "      <th>5</th>\n",
       "      <td>Photo</td>\n",
       "      <td>TopLevel</td>\n",
       "      <td>414</td>\n",
       "      <td>379</td>\n",
       "      <td>True</td>\n",
       "      <td>0</td>\n",
       "      <td>0</td>\n",
       "      <td>0</td>\n",
       "      <td>1</td>\n",
       "    </tr>\n",
       "  </tbody>\n",
       "</table>\n",
       "</div>"
      ],
      "text/plain": [
       "   present_media tweet_type  engaged_with_user_follower_count  \\\n",
       "id                                                              \n",
       "1           <NA>    Retweet                              2473   \n",
       "2           <NA>   TopLevel                           4418640   \n",
       "3           <NA>   TopLevel                            219715   \n",
       "4           <NA>    Retweet                           2388283   \n",
       "5          Photo   TopLevel                               414   \n",
       "\n",
       "    enaging_user_following_count  engagee_follows_engager  is_reply  \\\n",
       "id                                                                    \n",
       "1                            339                    False         0   \n",
       "2                           1190                    False         0   \n",
       "3                           1473                    False         0   \n",
       "4                            200                    False         0   \n",
       "5                            379                     True         0   \n",
       "\n",
       "    is_retweet  is_comment  is_like  \n",
       "id                                   \n",
       "1            0           0        0  \n",
       "2            0           0        0  \n",
       "3            0           0        1  \n",
       "4            0           0        0  \n",
       "5            0           0        1  "
      ]
     },
     "execution_count": 37,
     "metadata": {},
     "output_type": "execute_result"
    }
   ],
   "source": [
    "df.head()"
   ]
  },
  {
   "cell_type": "markdown",
   "id": "30bad36d",
   "metadata": {},
   "source": [
    "### Media Target Encoding"
   ]
  },
  {
   "cell_type": "code",
   "execution_count": 38,
   "id": "5b71f874",
   "metadata": {},
   "outputs": [],
   "source": [
    "df['present_media'] = df['present_media'].fillna( '' )"
   ]
  },
  {
   "cell_type": "code",
   "execution_count": 39,
   "id": "666185fc",
   "metadata": {},
   "outputs": [],
   "source": [
    "df,media_index, _ = factorize_small_cardinality_with_index(df, 'present_media', 'media_type')"
   ]
  },
  {
   "cell_type": "code",
   "execution_count": 40,
   "id": "c397028f",
   "metadata": {},
   "outputs": [],
   "source": [
    "media_index = get_media_index(media_index)"
   ]
  },
  {
   "cell_type": "code",
   "execution_count": 41,
   "id": "b473b754",
   "metadata": {},
   "outputs": [],
   "source": [
    "media_index = media_index['number_of_media'].to_frame()"
   ]
  },
  {
   "cell_type": "code",
   "execution_count": 42,
   "id": "0ddffdd1",
   "metadata": {},
   "outputs": [
    {
     "data": {
      "text/html": [
       "<div>\n",
       "<style scoped>\n",
       "    .dataframe tbody tr th:only-of-type {\n",
       "        vertical-align: middle;\n",
       "    }\n",
       "\n",
       "    .dataframe tbody tr th {\n",
       "        vertical-align: top;\n",
       "    }\n",
       "\n",
       "    .dataframe thead th {\n",
       "        text-align: right;\n",
       "    }\n",
       "</style>\n",
       "<table border=\"1\" class=\"dataframe\">\n",
       "  <thead>\n",
       "    <tr style=\"text-align: right;\">\n",
       "      <th></th>\n",
       "      <th>number_of_media</th>\n",
       "    </tr>\n",
       "  </thead>\n",
       "  <tbody>\n",
       "    <tr>\n",
       "      <th>0</th>\n",
       "      <td>0</td>\n",
       "    </tr>\n",
       "    <tr>\n",
       "      <th>1</th>\n",
       "      <td>3</td>\n",
       "    </tr>\n",
       "    <tr>\n",
       "      <th>2</th>\n",
       "      <td>7</td>\n",
       "    </tr>\n",
       "    <tr>\n",
       "      <th>3</th>\n",
       "      <td>11</td>\n",
       "    </tr>\n",
       "    <tr>\n",
       "      <th>4</th>\n",
       "      <td>9</td>\n",
       "    </tr>\n",
       "    <tr>\n",
       "      <th>5</th>\n",
       "      <td>9</td>\n",
       "    </tr>\n",
       "    <tr>\n",
       "      <th>6</th>\n",
       "      <td>5</td>\n",
       "    </tr>\n",
       "    <tr>\n",
       "      <th>7</th>\n",
       "      <td>9</td>\n",
       "    </tr>\n",
       "    <tr>\n",
       "      <th>8</th>\n",
       "      <td>11</td>\n",
       "    </tr>\n",
       "    <tr>\n",
       "      <th>9</th>\n",
       "      <td>17</td>\n",
       "    </tr>\n",
       "    <tr>\n",
       "      <th>10</th>\n",
       "      <td>23</td>\n",
       "    </tr>\n",
       "    <tr>\n",
       "      <th>11</th>\n",
       "      <td>11</td>\n",
       "    </tr>\n",
       "    <tr>\n",
       "      <th>12</th>\n",
       "      <td>5</td>\n",
       "    </tr>\n",
       "    <tr>\n",
       "      <th>13</th>\n",
       "      <td>11</td>\n",
       "    </tr>\n",
       "    <tr>\n",
       "      <th>14</th>\n",
       "      <td>17</td>\n",
       "    </tr>\n",
       "    <tr>\n",
       "      <th>15</th>\n",
       "      <td>11</td>\n",
       "    </tr>\n",
       "    <tr>\n",
       "      <th>16</th>\n",
       "      <td>17</td>\n",
       "    </tr>\n",
       "    <tr>\n",
       "      <th>17</th>\n",
       "      <td>23</td>\n",
       "    </tr>\n",
       "  </tbody>\n",
       "</table>\n",
       "</div>"
      ],
      "text/plain": [
       "    number_of_media\n",
       "0                 0\n",
       "1                 3\n",
       "2                 7\n",
       "3                11\n",
       "4                 9\n",
       "5                 9\n",
       "6                 5\n",
       "7                 9\n",
       "8                11\n",
       "9                17\n",
       "10               23\n",
       "11               11\n",
       "12                5\n",
       "13               11\n",
       "14               17\n",
       "15               11\n",
       "16               17\n",
       "17               23"
      ]
     },
     "execution_count": 42,
     "metadata": {},
     "output_type": "execute_result"
    }
   ],
   "source": [
    "media_index"
   ]
  },
  {
   "cell_type": "code",
   "execution_count": 43,
   "id": "34c40018",
   "metadata": {},
   "outputs": [],
   "source": [
    "media_index = cudf.DataFrame(media_index)\n",
    "media_index = dask_cudf.from_cudf(media_index, npartitions=2)"
   ]
  },
  {
   "cell_type": "code",
   "execution_count": 44,
   "id": "a3553f8e",
   "metadata": {},
   "outputs": [],
   "source": [
    "df = df.merge(media_index, left_on=\"media_type\", right_index = True, how='left')"
   ]
  },
  {
   "cell_type": "code",
   "execution_count": 45,
   "id": "cdc1fca4",
   "metadata": {},
   "outputs": [],
   "source": [
    "df = df.drop('present_media', axis = 1)\n",
    "df = df.drop('media_type', axis = 1)"
   ]
  },
  {
   "cell_type": "markdown",
   "id": "b95f96c2",
   "metadata": {},
   "source": [
    "### Language Encoding"
   ]
  },
  {
   "cell_type": "code",
   "execution_count": 18,
   "id": "824997d1",
   "metadata": {},
   "outputs": [],
   "source": [
    "#df, idx_to_language, _ = factorize_small_cardinality_with_index(df, 'language', 'language_encode') # how language encoding??"
   ]
  },
  {
   "cell_type": "code",
   "execution_count": 19,
   "id": "31838f5d",
   "metadata": {},
   "outputs": [],
   "source": [
    "#df = df.drop('language', axis = 1)"
   ]
  },
  {
   "cell_type": "code",
   "execution_count": 20,
   "id": "e2761129",
   "metadata": {},
   "outputs": [],
   "source": [
    "#df.head()"
   ]
  },
  {
   "cell_type": "markdown",
   "id": "7fb38808",
   "metadata": {},
   "source": [
    "### Tweet Type Encoding"
   ]
  },
  {
   "cell_type": "code",
   "execution_count": 46,
   "id": "27d8504c",
   "metadata": {},
   "outputs": [],
   "source": [
    "df, _= factorize_small_cardinality_with_index(df, 'tweet_type', 'tweet_type_encode') # how language encoding??"
   ]
  },
  {
   "cell_type": "code",
   "execution_count": 47,
   "id": "4c63ef68",
   "metadata": {},
   "outputs": [],
   "source": [
    "df = df.drop('tweet_type', axis = 1)"
   ]
  },
  {
   "cell_type": "code",
   "execution_count": 48,
   "id": "2c6726ee",
   "metadata": {},
   "outputs": [
    {
     "data": {
      "text/html": [
       "<div>\n",
       "<style scoped>\n",
       "    .dataframe tbody tr th:only-of-type {\n",
       "        vertical-align: middle;\n",
       "    }\n",
       "\n",
       "    .dataframe tbody tr th {\n",
       "        vertical-align: top;\n",
       "    }\n",
       "\n",
       "    .dataframe thead th {\n",
       "        text-align: right;\n",
       "    }\n",
       "</style>\n",
       "<table border=\"1\" class=\"dataframe\">\n",
       "  <thead>\n",
       "    <tr style=\"text-align: right;\">\n",
       "      <th></th>\n",
       "      <th>engaged_with_user_follower_count</th>\n",
       "      <th>enaging_user_following_count</th>\n",
       "      <th>engagee_follows_engager</th>\n",
       "      <th>is_reply</th>\n",
       "      <th>is_retweet</th>\n",
       "      <th>is_comment</th>\n",
       "      <th>is_like</th>\n",
       "      <th>number_of_media</th>\n",
       "      <th>tweet_type_encode</th>\n",
       "    </tr>\n",
       "  </thead>\n",
       "  <tbody>\n",
       "    <tr>\n",
       "      <th>0</th>\n",
       "      <td>322</td>\n",
       "      <td>104</td>\n",
       "      <td>True</td>\n",
       "      <td>0</td>\n",
       "      <td>0</td>\n",
       "      <td>0</td>\n",
       "      <td>0</td>\n",
       "      <td>0</td>\n",
       "      <td>1</td>\n",
       "    </tr>\n",
       "    <tr>\n",
       "      <th>1</th>\n",
       "      <td>1236</td>\n",
       "      <td>357</td>\n",
       "      <td>False</td>\n",
       "      <td>0</td>\n",
       "      <td>0</td>\n",
       "      <td>0</td>\n",
       "      <td>0</td>\n",
       "      <td>0</td>\n",
       "      <td>2</td>\n",
       "    </tr>\n",
       "    <tr>\n",
       "      <th>2</th>\n",
       "      <td>3910</td>\n",
       "      <td>440</td>\n",
       "      <td>False</td>\n",
       "      <td>0</td>\n",
       "      <td>0</td>\n",
       "      <td>0</td>\n",
       "      <td>0</td>\n",
       "      <td>0</td>\n",
       "      <td>1</td>\n",
       "    </tr>\n",
       "    <tr>\n",
       "      <th>3</th>\n",
       "      <td>17009348</td>\n",
       "      <td>133</td>\n",
       "      <td>False</td>\n",
       "      <td>0</td>\n",
       "      <td>0</td>\n",
       "      <td>0</td>\n",
       "      <td>0</td>\n",
       "      <td>0</td>\n",
       "      <td>0</td>\n",
       "    </tr>\n",
       "    <tr>\n",
       "      <th>4</th>\n",
       "      <td>29</td>\n",
       "      <td>86</td>\n",
       "      <td>False</td>\n",
       "      <td>0</td>\n",
       "      <td>0</td>\n",
       "      <td>0</td>\n",
       "      <td>0</td>\n",
       "      <td>0</td>\n",
       "      <td>1</td>\n",
       "    </tr>\n",
       "  </tbody>\n",
       "</table>\n",
       "</div>"
      ],
      "text/plain": [
       "   engaged_with_user_follower_count  enaging_user_following_count  \\\n",
       "0                               322                           104   \n",
       "1                              1236                           357   \n",
       "2                              3910                           440   \n",
       "3                          17009348                           133   \n",
       "4                                29                            86   \n",
       "\n",
       "   engagee_follows_engager  is_reply  is_retweet  is_comment  is_like  \\\n",
       "0                     True         0           0           0        0   \n",
       "1                    False         0           0           0        0   \n",
       "2                    False         0           0           0        0   \n",
       "3                    False         0           0           0        0   \n",
       "4                    False         0           0           0        0   \n",
       "\n",
       "   number_of_media  tweet_type_encode  \n",
       "0                0                  1  \n",
       "1                0                  2  \n",
       "2                0                  1  \n",
       "3                0                  0  \n",
       "4                0                  1  "
      ]
     },
     "execution_count": 48,
     "metadata": {},
     "output_type": "execute_result"
    }
   ],
   "source": [
    "df.head()"
   ]
  },
  {
   "cell_type": "code",
   "execution_count": 49,
   "id": "af99c1eb",
   "metadata": {},
   "outputs": [],
   "source": [
    "df = df.astype(np.int64)"
   ]
  },
  {
   "cell_type": "code",
   "execution_count": 50,
   "id": "bfd9abaa",
   "metadata": {},
   "outputs": [],
   "source": [
    "df.to_parquet(conf.data_root + \"preprocessing/ffnn_prep.parquet\")"
   ]
  },
  {
   "cell_type": "markdown",
   "id": "6bc48084",
   "metadata": {},
   "source": [
    "## Modeling"
   ]
  },
  {
   "cell_type": "markdown",
   "id": "bf67932c",
   "metadata": {},
   "source": [
    "### Like"
   ]
  },
  {
   "cell_type": "code",
   "execution_count": 51,
   "id": "7c5149bc",
   "metadata": {},
   "outputs": [],
   "source": [
    "df_y = df[['is_reply', 'is_retweet', 'is_comment', 'is_like']]\n",
    "df_x = df.drop(['is_reply', 'is_retweet', 'is_comment', 'is_like'], axis = 1)"
   ]
  },
  {
   "cell_type": "markdown",
   "id": "48c18ecc",
   "metadata": {},
   "source": [
    "#### Scaling"
   ]
  },
  {
   "cell_type": "code",
   "execution_count": 52,
   "id": "db9fd90a",
   "metadata": {},
   "outputs": [
    {
     "data": {
      "text/plain": [
       "StandardScaler()"
      ]
     },
     "execution_count": 52,
     "metadata": {},
     "output_type": "execute_result"
    }
   ],
   "source": [
    "standard_scaler = preprocessing.StandardScaler()\n",
    "standard_scaler.fit(df_x.compute().as_matrix())"
   ]
  },
  {
   "cell_type": "code",
   "execution_count": 53,
   "id": "3deb2865",
   "metadata": {},
   "outputs": [],
   "source": [
    "ss = standard_scaler.transform(df_x.compute().as_matrix())"
   ]
  },
  {
   "cell_type": "code",
   "execution_count": 54,
   "id": "7fe91f10",
   "metadata": {},
   "outputs": [],
   "source": [
    "df_x = pd.DataFrame(ss, columns = df_x.columns)"
   ]
  },
  {
   "cell_type": "code",
   "execution_count": 55,
   "id": "355ac793",
   "metadata": {},
   "outputs": [],
   "source": [
    "X_train = df_x\n",
    "y_train_like = df_y['is_like'].to_frame()"
   ]
  },
  {
   "cell_type": "code",
   "execution_count": 56,
   "id": "89032f07",
   "metadata": {},
   "outputs": [],
   "source": [
    "X_train, X_test, y_train, y_test = train_test_split(X_train, y_train_like.compute(), test_size=0.2)"
   ]
  },
  {
   "cell_type": "code",
   "execution_count": 57,
   "id": "c6d5b73b",
   "metadata": {},
   "outputs": [],
   "source": [
    "X_test, X_val, y_test, y_val = train_test_split(X_test, y_test, test_size=0.2)"
   ]
  },
  {
   "cell_type": "code",
   "execution_count": 58,
   "id": "e6c97906",
   "metadata": {},
   "outputs": [],
   "source": [
    "model = Sequential([\n",
    "    Dense(16, activation = 'relu', input_dim = X_test.shape[1]),\n",
    "    Dense(8, activation = 'relu'),\n",
    "    Dense(4, activation = 'relu'),\n",
    "    Dense(1, activation = 'sigmoid')\n",
    "])"
   ]
  },
  {
   "cell_type": "code",
   "execution_count": 59,
   "id": "8684147a",
   "metadata": {},
   "outputs": [],
   "source": [
    "model.compile(\n",
    "    optimizer = 'adam',\n",
    "    loss = 'binary_crossentropy', # softmax : sparse_categorical_crossentropy, sigmoid : binary_crossentropy\n",
    "    metrics=['accuracy'])"
   ]
  },
  {
   "cell_type": "code",
   "execution_count": 60,
   "id": "f0e32715",
   "metadata": {},
   "outputs": [
    {
     "name": "stdout",
     "output_type": "stream",
     "text": [
      "Model: \"sequential\"\n",
      "_________________________________________________________________\n",
      "Layer (type)                 Output Shape              Param #   \n",
      "=================================================================\n",
      "dense (Dense)                (None, 16)                96        \n",
      "_________________________________________________________________\n",
      "dense_1 (Dense)              (None, 8)                 136       \n",
      "_________________________________________________________________\n",
      "dense_2 (Dense)              (None, 4)                 36        \n",
      "_________________________________________________________________\n",
      "dense_3 (Dense)              (None, 1)                 5         \n",
      "=================================================================\n",
      "Total params: 273\n",
      "Trainable params: 273\n",
      "Non-trainable params: 0\n",
      "_________________________________________________________________\n"
     ]
    }
   ],
   "source": [
    "model.summary()"
   ]
  },
  {
   "cell_type": "code",
   "execution_count": 61,
   "id": "cdc3d7aa",
   "metadata": {},
   "outputs": [
    {
     "name": "stdout",
     "output_type": "stream",
     "text": [
      "Epoch 1/5\n",
      "37924/37924 [==============================] - 14s 354us/step - loss: 0.6448 - accuracy: 0.6214 - val_loss: 0.6385 - val_accuracy: 0.6220\n",
      "Epoch 2/5\n",
      "37924/37924 [==============================] - 13s 354us/step - loss: 0.6385 - accuracy: 0.6232 - val_loss: 0.6372 - val_accuracy: 0.6244\n",
      "Epoch 3/5\n",
      "37924/37924 [==============================] - 13s 351us/step - loss: 0.6390 - accuracy: 0.6226 - val_loss: 0.6379 - val_accuracy: 0.6224\n",
      "Epoch 4/5\n",
      "37924/37924 [==============================] - 13s 351us/step - loss: 0.6383 - accuracy: 0.6237 - val_loss: 0.6369 - val_accuracy: 0.6237\n",
      "Epoch 5/5\n",
      "37924/37924 [==============================] - 13s 351us/step - loss: 0.6383 - accuracy: 0.6232 - val_loss: 0.6367 - val_accuracy: 0.6237\n"
     ]
    },
    {
     "data": {
      "text/plain": [
       "<tensorflow.python.keras.callbacks.History at 0x7f19c4aeb1d0>"
      ]
     },
     "execution_count": 61,
     "metadata": {},
     "output_type": "execute_result"
    }
   ],
   "source": [
    "model.fit(\n",
    "    x = X_train,\n",
    "    y = y_train.to_pandas(),\n",
    "    validation_data=(X_val, y_val.to_pandas()),\n",
    "    epochs=5,\n",
    "    batch_size=64\n",
    ")"
   ]
  },
  {
   "cell_type": "code",
   "execution_count": 62,
   "id": "56375872",
   "metadata": {},
   "outputs": [
    {
     "name": "stdout",
     "output_type": "stream",
     "text": [
      "15170/15170 [==============================] - 4s 256us/step - loss: 0.6380 - accuracy: 0.6246\n"
     ]
    },
    {
     "data": {
      "text/plain": [
       "[0.6380455493927002, 0.6246436238288879]"
      ]
     },
     "execution_count": 62,
     "metadata": {},
     "output_type": "execute_result"
    }
   ],
   "source": [
    "model.evaluate(X_test, y_test.to_pandas())"
   ]
  },
  {
   "cell_type": "markdown",
   "id": "b61b8c69",
   "metadata": {},
   "source": [
    "## Predict"
   ]
  },
  {
   "cell_type": "code",
   "execution_count": 63,
   "id": "8d34183e",
   "metadata": {},
   "outputs": [],
   "source": [
    "predict_like = model.predict(X_test)"
   ]
  },
  {
   "cell_type": "code",
   "execution_count": 64,
   "id": "ba047b37",
   "metadata": {},
   "outputs": [
    {
     "data": {
      "text/plain": [
       "array([[0.33925655],\n",
       "       [0.44314694],\n",
       "       [0.3525195 ],\n",
       "       ...,\n",
       "       [0.36671707],\n",
       "       [0.49829656],\n",
       "       [0.4206782 ]], dtype=float32)"
      ]
     },
     "execution_count": 64,
     "metadata": {},
     "output_type": "execute_result"
    }
   ],
   "source": [
    "predict_like"
   ]
  },
  {
   "cell_type": "code",
   "execution_count": 65,
   "id": "8df2a605",
   "metadata": {
    "scrolled": false
   },
   "outputs": [
    {
     "data": {
      "text/plain": [
       "5.104127337482045"
      ]
     },
     "execution_count": 65,
     "metadata": {},
     "output_type": "execute_result"
    }
   ],
   "source": [
    "rce_like = compute_rce(predict_like, y_test['is_like'].to_array())\n",
    "rce_like"
   ]
  },
  {
   "cell_type": "code",
   "execution_count": 66,
   "id": "897bd35f",
   "metadata": {},
   "outputs": [
    {
     "data": {
      "text/plain": [
       "0.5266803760580637"
      ]
     },
     "execution_count": 66,
     "metadata": {},
     "output_type": "execute_result"
    }
   ],
   "source": [
    "average_precision_score(y_test['is_like'].to_array(), predict_like)"
   ]
  },
  {
   "cell_type": "code",
   "execution_count": 68,
   "id": "c656b985",
   "metadata": {},
   "outputs": [],
   "source": [
    "model_path = f'/hdd/cpu_models_DNN/model-ffnn.h5'\n",
    "            \n",
    "save_model(model, model_path)"
   ]
  },
  {
   "cell_type": "code",
   "execution_count": null,
   "id": "5e8b73d7",
   "metadata": {},
   "outputs": [],
   "source": []
  }
 ],
 "metadata": {
  "kernelspec": {
   "display_name": "Python 3",
   "language": "python",
   "name": "python3"
  },
  "language_info": {
   "codemirror_mode": {
    "name": "ipython",
    "version": 3
   },
   "file_extension": ".py",
   "mimetype": "text/x-python",
   "name": "python",
   "nbconvert_exporter": "python",
   "pygments_lexer": "ipython3",
   "version": "3.7.10"
  }
 },
 "nbformat": 4,
 "nbformat_minor": 5
}
