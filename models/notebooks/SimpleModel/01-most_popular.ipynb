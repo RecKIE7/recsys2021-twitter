{
 "metadata": {
  "language_info": {
   "codemirror_mode": {
    "name": "ipython",
    "version": 3
   },
   "file_extension": ".py",
   "mimetype": "text/x-python",
   "name": "python",
   "nbconvert_exporter": "python",
   "pygments_lexer": "ipython3",
   "version": "3.7.10-final"
  },
  "orig_nbformat": 2,
  "kernelspec": {
   "name": "dask-cudf",
   "display_name": "dask-cudf",
   "language": "python"
  }
 },
 "nbformat": 4,
 "nbformat_minor": 2,
 "cells": [
  {
   "source": [
    "# Baseline - Most popular"
   ],
   "cell_type": "markdown",
   "metadata": {}
  },
  {
   "cell_type": "code",
   "execution_count": 8,
   "metadata": {},
   "outputs": [],
   "source": [
    "import sys\n",
    "sys.path.append('../..')\n",
    "\n",
    "import numpy as np\n",
    "import matplotlib.pyplot as plt\n",
    "import pandas as pd\n",
    "from tqdm import tqdm\n",
    "from sklearn.model_selection import train_test_split\n",
    "\n",
    "from utils.cuda_cluster import *\n",
    "from utils.dataset import read_data, factorize_small_cardinality\n",
    "\n",
    "\n",
    "import core.config as conf\n"
   ]
  },
  {
   "cell_type": "code",
   "execution_count": 3,
   "metadata": {},
   "outputs": [
    {
     "output_type": "execute_result",
     "data": {
      "text/plain": [
       "<Client: 'tcp://127.0.0.1:35589' processes=1 threads=1, memory=33.47 GB>"
      ],
      "text/html": "<table style=\"border: 2px solid white;\">\n<tr>\n<td style=\"vertical-align: top; border: 0px solid white\">\n<h3 style=\"text-align: left;\">Client</h3>\n<ul style=\"text-align: left; list-style: none; margin: 0; padding: 0;\">\n  <li><b>Scheduler: </b>tcp://127.0.0.1:35589</li>\n  <li><b>Dashboard: </b><a href='http://127.0.0.1:8787/status' target='_blank'>http://127.0.0.1:8787/status</a></li>\n</ul>\n</td>\n<td style=\"vertical-align: top; border: 0px solid white\">\n<h3 style=\"text-align: left;\">Cluster</h3>\n<ul style=\"text-align: left; list-style:none; margin: 0; padding: 0;\">\n  <li><b>Workers: </b>1</li>\n  <li><b>Cores: </b>1</li>\n  <li><b>Memory: </b>33.47 GB</li>\n</ul>\n</td>\n</tr>\n</table>"
     },
     "metadata": {},
     "execution_count": 3
    }
   ],
   "source": [
    "client"
   ]
  },
  {
   "source": [
    "## 1. Load data & preprocessing"
   ],
   "cell_type": "markdown",
   "metadata": {}
  },
  {
   "cell_type": "code",
   "execution_count": 4,
   "metadata": {},
   "outputs": [
    {
     "output_type": "stream",
     "name": "stdout",
     "text": [
      "number of rows: 3033347\n"
     ]
    }
   ],
   "source": [
    "# data_path = conf.raw_data_path + '*' # for all dataset\n",
    "data_path = conf.raw_data_path + 'part-00175'\n",
    "ori_df = read_data(data_path)"
   ]
  },
  {
   "cell_type": "code",
   "execution_count": 59,
   "metadata": {},
   "outputs": [],
   "source": [
    "df = ori_df[['enaging_user_id', 'tweet_id', 'tweet_timestamp', 'reply_timestamp', 'retweet_timestamp','retweet_with_comment_timestamp', 'like_timestamp']]"
   ]
  },
  {
   "cell_type": "code",
   "execution_count": 60,
   "metadata": {},
   "outputs": [],
   "source": [
    "df['is_reply'] = df['reply_timestamp'].compute().applymap(lambda x: 1 if x > 0 else 0).astype(np.int32)\n",
    "df['is_retweet'] = df['retweet_timestamp'].compute().applymap(lambda x: 1 if x > 0 else 0).astype(np.int32)\n",
    "df['is_comment'] = df['retweet_with_comment_timestamp'].compute().applymap(lambda x: 1 if x > 0 else 0).astype(np.int32)\n",
    "df['is_like'] = df['like_timestamp'].compute().applymap(lambda x: 1 if x > 0 else 0).astype(np.int32)\n",
    "\n",
    "df['positive_cnt'] = df[['is_like', 'is_retweet', 'is_reply', 'is_comment']].sum(axis=1).astype(np.uint8)\n",
    "\n",
    "df = df.drop('reply_timestamp', axis=1)\n",
    "df = df.drop('retweet_timestamp', axis=1)\n",
    "df = df.drop('retweet_with_comment_timestamp', axis=1)\n",
    "df = df.drop('like_timestamp', axis=1)"
   ]
  },
  {
   "cell_type": "code",
   "execution_count": 61,
   "metadata": {},
   "outputs": [],
   "source": [
    "df, idx_to_tweet = factorize_small_cardinality(df, 'tweet_id')"
   ]
  },
  {
   "cell_type": "code",
   "execution_count": 62,
   "metadata": {},
   "outputs": [],
   "source": [
    "df = df.sort_values('tweet_timestamp').reset_index(drop=True)"
   ]
  },
  {
   "cell_type": "code",
   "execution_count": 63,
   "metadata": {},
   "outputs": [
    {
     "output_type": "execute_result",
     "data": {
      "text/plain": [
       "                    enaging_user_id                          tweet_id  \\\n",
       "0  5A3E44D22DD65BA91B89A9DF7702FAC0  999FE9855F9D871EB681E165C53BD207   \n",
       "1  F1F47A3206C362427B10F2CD35C04DF0  9FB702509229B111C50CE2D116E35048   \n",
       "2  208C0F895C2C868C5D99642D6E201B62  5407073F17BCE73FD8F5F8C72537F19B   \n",
       "3  41193E811F3CF1915FB56BB976D85425  9B6E6F7013196B780FB034D92DC6D518   \n",
       "4  F9B8B3C7FA390E9D8D5475F07B6D6F73  A3A2E7B7E2F1ADFA87506C8213CD754E   \n",
       "\n",
       "   tweet_timestamp  is_reply  is_retweet  is_comment  is_like  positive_cnt  \\\n",
       "0       1612396800         0           0           0        0             0   \n",
       "1       1612396800         0           0           0        0             0   \n",
       "2       1612396800         0           0           0        0             0   \n",
       "3       1612396800         0           0           0        1             1   \n",
       "4       1612396800         0           0           0        1             1   \n",
       "\n",
       "   tweet_id_encode  \n",
       "0          1693166  \n",
       "1          1760290  \n",
       "2           926365  \n",
       "3          1713181  \n",
       "4          1803744  "
      ],
      "text/html": "<div>\n<style scoped>\n    .dataframe tbody tr th:only-of-type {\n        vertical-align: middle;\n    }\n\n    .dataframe tbody tr th {\n        vertical-align: top;\n    }\n\n    .dataframe thead th {\n        text-align: right;\n    }\n</style>\n<table border=\"1\" class=\"dataframe\">\n  <thead>\n    <tr style=\"text-align: right;\">\n      <th></th>\n      <th>enaging_user_id</th>\n      <th>tweet_id</th>\n      <th>tweet_timestamp</th>\n      <th>is_reply</th>\n      <th>is_retweet</th>\n      <th>is_comment</th>\n      <th>is_like</th>\n      <th>positive_cnt</th>\n      <th>tweet_id_encode</th>\n    </tr>\n  </thead>\n  <tbody>\n    <tr>\n      <th>0</th>\n      <td>5A3E44D22DD65BA91B89A9DF7702FAC0</td>\n      <td>999FE9855F9D871EB681E165C53BD207</td>\n      <td>1612396800</td>\n      <td>0</td>\n      <td>0</td>\n      <td>0</td>\n      <td>0</td>\n      <td>0</td>\n      <td>1693166</td>\n    </tr>\n    <tr>\n      <th>1</th>\n      <td>F1F47A3206C362427B10F2CD35C04DF0</td>\n      <td>9FB702509229B111C50CE2D116E35048</td>\n      <td>1612396800</td>\n      <td>0</td>\n      <td>0</td>\n      <td>0</td>\n      <td>0</td>\n      <td>0</td>\n      <td>1760290</td>\n    </tr>\n    <tr>\n      <th>2</th>\n      <td>208C0F895C2C868C5D99642D6E201B62</td>\n      <td>5407073F17BCE73FD8F5F8C72537F19B</td>\n      <td>1612396800</td>\n      <td>0</td>\n      <td>0</td>\n      <td>0</td>\n      <td>0</td>\n      <td>0</td>\n      <td>926365</td>\n    </tr>\n    <tr>\n      <th>3</th>\n      <td>41193E811F3CF1915FB56BB976D85425</td>\n      <td>9B6E6F7013196B780FB034D92DC6D518</td>\n      <td>1612396800</td>\n      <td>0</td>\n      <td>0</td>\n      <td>0</td>\n      <td>1</td>\n      <td>1</td>\n      <td>1713181</td>\n    </tr>\n    <tr>\n      <th>4</th>\n      <td>F9B8B3C7FA390E9D8D5475F07B6D6F73</td>\n      <td>A3A2E7B7E2F1ADFA87506C8213CD754E</td>\n      <td>1612396800</td>\n      <td>0</td>\n      <td>0</td>\n      <td>0</td>\n      <td>1</td>\n      <td>1</td>\n      <td>1803744</td>\n    </tr>\n  </tbody>\n</table>\n</div>"
     },
     "metadata": {},
     "execution_count": 63
    }
   ],
   "source": [
    "df.head()"
   ]
  },
  {
   "source": [
    "### train, validation data split"
   ],
   "cell_type": "markdown",
   "metadata": {}
  },
  {
   "cell_type": "code",
   "execution_count": 195,
   "metadata": {},
   "outputs": [],
   "source": [
    "train_df, val_df = train_test_split(df.compute(), test_size=0.5, random_state=777, shuffle=False)"
   ]
  },
  {
   "source": [
    "## 2. Get popular tweets in training data\n",
    "- recommend tweets received more than 'threshold' positive engagements"
   ],
   "cell_type": "markdown",
   "metadata": {}
  },
  {
   "cell_type": "code",
   "execution_count": 252,
   "metadata": {},
   "outputs": [],
   "source": [
    "threshold = 5"
   ]
  },
  {
   "cell_type": "code",
   "execution_count": 253,
   "metadata": {},
   "outputs": [
    {
     "output_type": "execute_result",
     "data": {
      "text/plain": [
       "       is_reply  is_retweet  is_comment  is_like  positive_cnt\n",
       "count   1411541     1411541     1411541  1411541       1411541\n",
       "mean          0           0           0        0             0\n",
       "std           0           0           0        0             0\n",
       "min           0           0           0        0             0\n",
       "25%           0           0           0        0             0\n",
       "50%           0           0           0        0             0\n",
       "75%           0           0           0        1             1\n",
       "max           7          25           9       73           110"
      ],
      "text/html": "<div>\n<style scoped>\n    .dataframe tbody tr th:only-of-type {\n        vertical-align: middle;\n    }\n\n    .dataframe tbody tr th {\n        vertical-align: top;\n    }\n\n    .dataframe thead th {\n        text-align: right;\n    }\n</style>\n<table border=\"1\" class=\"dataframe\">\n  <thead>\n    <tr style=\"text-align: right;\">\n      <th></th>\n      <th>is_reply</th>\n      <th>is_retweet</th>\n      <th>is_comment</th>\n      <th>is_like</th>\n      <th>positive_cnt</th>\n    </tr>\n  </thead>\n  <tbody>\n    <tr>\n      <th>count</th>\n      <td>1411541</td>\n      <td>1411541</td>\n      <td>1411541</td>\n      <td>1411541</td>\n      <td>1411541</td>\n    </tr>\n    <tr>\n      <th>mean</th>\n      <td>0</td>\n      <td>0</td>\n      <td>0</td>\n      <td>0</td>\n      <td>0</td>\n    </tr>\n    <tr>\n      <th>std</th>\n      <td>0</td>\n      <td>0</td>\n      <td>0</td>\n      <td>0</td>\n      <td>0</td>\n    </tr>\n    <tr>\n      <th>min</th>\n      <td>0</td>\n      <td>0</td>\n      <td>0</td>\n      <td>0</td>\n      <td>0</td>\n    </tr>\n    <tr>\n      <th>25%</th>\n      <td>0</td>\n      <td>0</td>\n      <td>0</td>\n      <td>0</td>\n      <td>0</td>\n    </tr>\n    <tr>\n      <th>50%</th>\n      <td>0</td>\n      <td>0</td>\n      <td>0</td>\n      <td>0</td>\n      <td>0</td>\n    </tr>\n    <tr>\n      <th>75%</th>\n      <td>0</td>\n      <td>0</td>\n      <td>0</td>\n      <td>1</td>\n      <td>1</td>\n    </tr>\n    <tr>\n      <th>max</th>\n      <td>7</td>\n      <td>25</td>\n      <td>9</td>\n      <td>73</td>\n      <td>110</td>\n    </tr>\n  </tbody>\n</table>\n</div>"
     },
     "metadata": {},
     "execution_count": 253
    }
   ],
   "source": [
    "engagements = train_df.groupby(['tweet_id_encode'])[['is_reply',\t'is_retweet',\t'is_comment',\t'is_like',\t'positive_cnt']].sum()\n",
    "engagements.describe().astype(np.int32)"
   ]
  },
  {
   "cell_type": "code",
   "execution_count": 254,
   "metadata": {},
   "outputs": [
    {
     "output_type": "stream",
     "name": "stdout",
     "text": [
      "2584 [1922240 2455226 2083101 1834183  960782]\n"
     ]
    }
   ],
   "source": [
    "# sort by positive_cnt\n",
    "\n",
    "positive_engagements = engagements.sort_values('positive_cnt', ascending=False)\n",
    "positive_engagements = positive_engagements.reset_index()\n",
    "recommend_df = positive_engagements[positive_engagements['positive_cnt'] >= threshold].to_pandas()\n",
    "recommend_df['tweet_id'] = recommend_df['tweet_id_encode'].apply(lambda x: idx_to_tweet[x])\n",
    "recommend_list = recommend_df['tweet_id_encode'].to_numpy()\n",
    "\n",
    "print(len(recommend_list), recommend_list[:5])"
   ]
  },
  {
   "cell_type": "code",
   "execution_count": null,
   "metadata": {},
   "outputs": [],
   "source": []
  },
  {
   "source": [
    "## 3. Predict each engagement"
   ],
   "cell_type": "markdown",
   "metadata": {}
  },
  {
   "source": [
    "predict_df = val_df[['enaging_user_id', 'tweet_id','tweet_id_encode']].to_pandas()\n",
    "predict_df['predict_positive'] = 0"
   ],
   "cell_type": "code",
   "metadata": {},
   "execution_count": 255,
   "outputs": []
  },
  {
   "cell_type": "code",
   "execution_count": 256,
   "metadata": {},
   "outputs": [
    {
     "output_type": "execute_result",
     "data": {
      "text/plain": [
       "Empty DataFrame\n",
       "Columns: [enaging_user_id, tweet_id, tweet_id_encode, predict_positive]\n",
       "Index: []"
      ],
      "text/html": "<div>\n<style scoped>\n    .dataframe tbody tr th:only-of-type {\n        vertical-align: middle;\n    }\n\n    .dataframe tbody tr th {\n        vertical-align: top;\n    }\n\n    .dataframe thead th {\n        text-align: right;\n    }\n</style>\n<table border=\"1\" class=\"dataframe\">\n  <thead>\n    <tr style=\"text-align: right;\">\n      <th></th>\n      <th>enaging_user_id</th>\n      <th>tweet_id</th>\n      <th>tweet_id_encode</th>\n      <th>predict_positive</th>\n    </tr>\n  </thead>\n  <tbody>\n  </tbody>\n</table>\n</div>"
     },
     "metadata": {},
     "execution_count": 256
    }
   ],
   "source": [
    "predict_df[predict_df['tweet_id'].isin(recommend_list) == True]"
   ]
  },
  {
   "cell_type": "code",
   "execution_count": null,
   "metadata": {},
   "outputs": [],
   "source": []
  },
  {
   "cell_type": "code",
   "execution_count": null,
   "metadata": {},
   "outputs": [],
   "source": []
  },
  {
   "cell_type": "code",
   "execution_count": null,
   "metadata": {},
   "outputs": [],
   "source": []
  }
 ]
}