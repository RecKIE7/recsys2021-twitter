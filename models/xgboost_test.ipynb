{
 "metadata": {
  "language_info": {
   "codemirror_mode": {
    "name": "ipython",
    "version": 3
   },
   "file_extension": ".py",
   "mimetype": "text/x-python",
   "name": "python",
   "nbconvert_exporter": "python",
   "pygments_lexer": "ipython3",
   "version": "3.7.10-final"
  },
  "orig_nbformat": 2,
  "kernelspec": {
   "name": "dask-cudf",
   "display_name": "Python 3.7.10 64-bit ('dask-cudf': conda)"
  }
 },
 "nbformat": 4,
 "nbformat_minor": 2,
 "cells": [
  {
   "cell_type": "code",
   "execution_count": 1,
   "metadata": {},
   "outputs": [
    {
     "output_type": "stream",
     "name": "stderr",
     "text": [
      "/home/hyez/anaconda3/envs/dask-cudf/lib/python3.7/site-packages/distributed/node.py:155: UserWarning: Port 8787 is already in use.\nPerhaps you already have a cluster running?\nHosting the HTTP server on port 45975 instead\n  http_address[\"port\"], self.http_server.port\n"
     ]
    }
   ],
   "source": [
    "import sys\n",
    "sys.path.append('..')\n",
    "\n",
    "import numpy as np\n",
    "from datetime import datetime\n",
    "import matplotlib.pyplot as plt\n",
    "import pandas as pd, numpy as np, gc\n",
    "from tqdm import tqdm\n",
    "import joblib\n",
    "import dask.multiprocessing\n",
    "import cudf, cupy, time\n",
    "from numba import jit, njit, prange\n",
    "from sklearn.metrics import precision_recall_curve, auc, log_loss\n",
    "# from sklearn.model_selection import train_test_split\n",
    "from dask_ml.model_selection import train_test_split\n",
    "\n",
    "dask.config.set(schedular='process')\n",
    "pd.set_option('display.max_columns', 500)\n",
    "\n",
    "from utils.cuda_cluster import *\n",
    "from utils.preprocessing import read_data, factorize_small_cardinality\n",
    "from utils.util import *\n",
    "\n",
    "\n",
    "import core.config as conf"
   ]
  },
  {
   "cell_type": "code",
   "execution_count": 2,
   "metadata": {},
   "outputs": [],
   "source": [
    "path = f'{conf.preproc_path}/train/part-00001.parquet'\n",
    "train = read_data(path)\n",
    "gc.collect()\n",
    "save_memory( train )"
   ]
  },
  {
   "cell_type": "code",
   "execution_count": 3,
   "metadata": {},
   "outputs": [
    {
     "output_type": "stream",
     "name": "stdout",
     "text": [
      "Using 11 features:\n"
     ]
    },
    {
     "output_type": "execute_result",
     "data": {
      "text/plain": [
       "array(['creator_follower_count', 'creator_following_count',\n",
       "       'tweet_timestamp', 'dt_dow', 'dt_hour', 'tweet_type', 'media',\n",
       "       'TE_engager_id_like', 'TE_engager_id_tweet_type_language_like',\n",
       "       'TE_creator_id_like', 'TE_domains_media_tweet_type_language_like'],\n",
       "      dtype='<U41')"
      ]
     },
     "metadata": {},
     "execution_count": 3
    }
   ],
   "source": [
    "label_names = ['reply', 'retweet', 'retweet_comment', 'like']\n",
    "DONT_USE = ['timestamp','creator_account_creation','engager_account_creation','engage_time',\n",
    "            'creator_account_creation', 'engager_account_creation',\n",
    "            'fold','tweet_id', \n",
    "            'tr','dt_day','','',\n",
    "            'engager_id','creator_id','engager_is_verified',\n",
    "            'elapsed_time',\n",
    "            'links','domains','hashtags0','hashtags1',\n",
    "            'hashtags','tweet_hash','dt_second','id',\n",
    "            'tw_hash0',\n",
    "            'tw_hash1',\n",
    "            'tw_rt_uhash',\n",
    "            'same_language', 'nan_language','language',\n",
    "            'tw_hash', 'tw_freq_hash','tw_first_word', 'tw_second_word', 'tw_last_word', 'tw_llast_word',\n",
    "            'ypred','creator_count_combined','creator_user_fer_count_delta_time','creator_user_fing_count_delta_time','creator_user_fering_count_delta_time','creator_user_fing_count_mode','creator_user_fer_count_mode','creator_user_fering_count_mode'\n",
    "            \n",
    "           ]\n",
    "DONT_USE += label_names\n",
    "features = [c for c in train.columns if c not in DONT_USE]\n",
    "\n",
    "print('Using %i features:'%(len(features)))\n",
    "np.asarray(features)"
   ]
  },
  {
   "cell_type": "code",
   "execution_count": 4,
   "metadata": {},
   "outputs": [],
   "source": [
    "train0, test = train_test_split(train, test_size=0.2, random_state=777, shuffle=False)\n",
    "train, valid = train_test_split(train0, test_size=0.2, random_state=777, shuffle=False)\n",
    "test0, test1 = train_test_split(test, test_size=0.5, random_state=777, shuffle=False)"
   ]
  },
  {
   "cell_type": "code",
   "execution_count": 5,
   "metadata": {},
   "outputs": [
    {
     "output_type": "execute_result",
     "data": {
      "text/plain": [
       "(1940351, 485929, 303895, 304028)"
      ]
     },
     "metadata": {},
     "execution_count": 5
    }
   ],
   "source": [
    "len(train), len(valid), len(test0), len(test1)"
   ]
  },
  {
   "cell_type": "code",
   "execution_count": 6,
   "metadata": {},
   "outputs": [
    {
     "output_type": "stream",
     "name": "stdout",
     "text": [
      "XGB Version 1.3.3\n"
     ]
    }
   ],
   "source": [
    "xgb_parms = { \n",
    "    'max_depth':8, \n",
    "    'learning_rate':0.025, \n",
    "    'subsample':0.85,\n",
    "    'colsample_bytree':0.35, \n",
    "    'eval_metric':'logloss',\n",
    "    'objective':'binary:logistic',\n",
    "    'tree_method':'gpu_hist',\n",
    "    #'predictor': 'gpu_predictor',\n",
    "    'seed': 1,\n",
    "}\n",
    "\n",
    "import xgboost as xgb\n",
    "print('XGB Version',xgb.__version__)"
   ]
  },
  {
   "cell_type": "code",
   "execution_count": 7,
   "metadata": {},
   "outputs": [],
   "source": [
    "# CREATE TRAIN AND VALIDATION SETS\n",
    "RMV = [c for c in DONT_USE if c in train.columns]"
   ]
  },
  {
   "cell_type": "code",
   "execution_count": 8,
   "metadata": {},
   "outputs": [
    {
     "output_type": "stream",
     "name": "stdout",
     "text": [
      "#########################\n### like\n#########################\n"
     ]
    },
    {
     "output_type": "execute_result",
     "data": {
      "text/plain": [
       "9"
      ]
     },
     "metadata": {},
     "execution_count": 8
    }
   ],
   "source": [
    "#LEarning rates for 'reply', 'retweet', 'retweet_comment', 'like'\n",
    "LR = [0.05,0.03,0.07,0.01]\n",
    "\n",
    "#Like\n",
    "xgb_parms['learning_rate'] = LR[3]\n",
    "TARGET = 'like'\n",
    "print('#'*25);print('###',TARGET);print('#'*25)\n",
    "\n",
    "dtrain = xgb.DMatrix(data=train.drop(RMV, axis=1).compute().to_pandas() ,label=train[TARGET].compute().values)\n",
    "gc.collect()\n",
    "\n",
    "model = xgb.train(xgb_parms, \n",
    "                  dtrain=dtrain,\n",
    "                  num_boost_round=500,\n",
    "                 ) \n",
    "\n",
    "del dtrain\n",
    "gc.collect()  \n",
    "\n",
    "#save model\n",
    "path = f'/hdd/models'\n",
    "joblib.dump(model, f'{path}/model-'+TARGET+'-1.xgb' ) \n",
    "del model\n",
    "gc.collect()  "
   ]
  },
  {
   "cell_type": "code",
   "execution_count": 29,
   "metadata": {},
   "outputs": [],
   "source": [
    "model = joblib.load( f'{path}/model-'+TARGET+'-1.xgb' )\n",
    "dtrain = xgb.DMatrix(data=train.drop(RMV, axis=1).compute().to_pandas() ,label=train[TARGET].compute().values)\n",
    "train = train.compute()\n",
    "train['ypred'] = model.predict(dtrain)\n",
    "del dtrain, model\n",
    "_=gc.collect()"
   ]
  },
  {
   "cell_type": "code",
   "execution_count": 30,
   "metadata": {},
   "outputs": [],
   "source": [
    "model = joblib.load( f'{path}/model-'+TARGET+'-1.xgb' )\n",
    "dvalid = xgb.DMatrix(data=valid.drop(RMV, axis=1).compute().to_pandas() ,label=valid[TARGET].compute().values)\n",
    "valid = valid.compute()\n",
    "valid['ypred'] = model.predict(dvalid)\n",
    "del dvalid, model\n",
    "_=gc.collect()"
   ]
  },
  {
   "cell_type": "code",
   "execution_count": 31,
   "metadata": {},
   "outputs": [
    {
     "output_type": "execute_result",
     "data": {
      "text/plain": [
       "                          creator_id                        engager_id  \\\n",
       "id                                                                       \n",
       "1   593795B66A046F366FA0812684BD7797  C4201D76A9C681C58837CC0D9B93DFF8   \n",
       "2   59151EC83753ED66049FD5EBA0597731  5623390A5651756A88F4E2681D0E589D   \n",
       "3   FD2A37001BC20B84288116E892EC593B  E2EE3768D846F7045F045A5346722548   \n",
       "4   C191DA726786A709A48B6EB9ED71A8EA  CA88FAA145122A84ECBDE8DEEE9D7ECC   \n",
       "5   849A4D7C233104080FDDE88F820B525B  4BB0CE94D9D0FCA8F899C776CEF15E75   \n",
       "\n",
       "                            tweet_id  creator_follower_count  \\\n",
       "id                                                             \n",
       "1   343B08D03026C52C85F5E12C7F68F1EE                     465   \n",
       "2   7D823366B3EE108A110A8ED2192E5822                   78985   \n",
       "3   4E19116D1DF976844E4A97EF817C007F                    5222   \n",
       "4   36247CA39A0FD3F0C21961F58BA76B5E                    4229   \n",
       "5   5FDCCAB4E74417FAA4F9D59778557665                    2268   \n",
       "\n",
       "    creator_following_count  tweet_timestamp  reply  retweet  like  dt_day  \\\n",
       "id                                                                           \n",
       "1                       589       1613359840      0        0     0      15   \n",
       "2                       818       1612532416      0        0     0       5   \n",
       "3                      4422       1613930163      0        0     0      21   \n",
       "4                       652       1613482520      0        0     0      16   \n",
       "5                      2162       1614086539      0        0     0      23   \n",
       "\n",
       "    dt_dow  dt_hour  language  tweet_type  media  domains TE_engager_id_like  \\\n",
       "id                                                                             \n",
       "1        0        3        48           1      0        0               <NA>   \n",
       "2        4       13        48           2      0        0                0.0   \n",
       "3        6       17        48           2      0        0               <NA>   \n",
       "4        1       13        60           2      0    41351               <NA>   \n",
       "5        1       13        19           1      3        0               <NA>   \n",
       "\n",
       "   TE_engager_id_tweet_type_language_like TE_creator_id_like  \\\n",
       "id                                                             \n",
       "1                                    <NA>               <NA>   \n",
       "2                                     0.0                0.0   \n",
       "3                                    <NA>               <NA>   \n",
       "4                                    <NA>               <NA>   \n",
       "5                                    <NA>        0.375318944   \n",
       "\n",
       "    TE_domains_media_tweet_type_language_like     ypred  \n",
       "id                                                       \n",
       "1                                    0.250149  0.297264  \n",
       "2                                    0.000000  0.405553  \n",
       "3                                    0.458571  0.380323  \n",
       "4                                    0.328404  0.307032  \n",
       "5                                    0.344966  0.294962  "
      ],
      "text/html": "<div>\n<style scoped>\n    .dataframe tbody tr th:only-of-type {\n        vertical-align: middle;\n    }\n\n    .dataframe tbody tr th {\n        vertical-align: top;\n    }\n\n    .dataframe thead th {\n        text-align: right;\n    }\n</style>\n<table border=\"1\" class=\"dataframe\">\n  <thead>\n    <tr style=\"text-align: right;\">\n      <th></th>\n      <th>creator_id</th>\n      <th>engager_id</th>\n      <th>tweet_id</th>\n      <th>creator_follower_count</th>\n      <th>creator_following_count</th>\n      <th>tweet_timestamp</th>\n      <th>reply</th>\n      <th>retweet</th>\n      <th>like</th>\n      <th>dt_day</th>\n      <th>dt_dow</th>\n      <th>dt_hour</th>\n      <th>language</th>\n      <th>tweet_type</th>\n      <th>media</th>\n      <th>domains</th>\n      <th>TE_engager_id_like</th>\n      <th>TE_engager_id_tweet_type_language_like</th>\n      <th>TE_creator_id_like</th>\n      <th>TE_domains_media_tweet_type_language_like</th>\n      <th>ypred</th>\n    </tr>\n    <tr>\n      <th>id</th>\n      <th></th>\n      <th></th>\n      <th></th>\n      <th></th>\n      <th></th>\n      <th></th>\n      <th></th>\n      <th></th>\n      <th></th>\n      <th></th>\n      <th></th>\n      <th></th>\n      <th></th>\n      <th></th>\n      <th></th>\n      <th></th>\n      <th></th>\n      <th></th>\n      <th></th>\n      <th></th>\n      <th></th>\n    </tr>\n  </thead>\n  <tbody>\n    <tr>\n      <th>1</th>\n      <td>593795B66A046F366FA0812684BD7797</td>\n      <td>C4201D76A9C681C58837CC0D9B93DFF8</td>\n      <td>343B08D03026C52C85F5E12C7F68F1EE</td>\n      <td>465</td>\n      <td>589</td>\n      <td>1613359840</td>\n      <td>0</td>\n      <td>0</td>\n      <td>0</td>\n      <td>15</td>\n      <td>0</td>\n      <td>3</td>\n      <td>48</td>\n      <td>1</td>\n      <td>0</td>\n      <td>0</td>\n      <td>&lt;NA&gt;</td>\n      <td>&lt;NA&gt;</td>\n      <td>&lt;NA&gt;</td>\n      <td>0.250149</td>\n      <td>0.297264</td>\n    </tr>\n    <tr>\n      <th>2</th>\n      <td>59151EC83753ED66049FD5EBA0597731</td>\n      <td>5623390A5651756A88F4E2681D0E589D</td>\n      <td>7D823366B3EE108A110A8ED2192E5822</td>\n      <td>78985</td>\n      <td>818</td>\n      <td>1612532416</td>\n      <td>0</td>\n      <td>0</td>\n      <td>0</td>\n      <td>5</td>\n      <td>4</td>\n      <td>13</td>\n      <td>48</td>\n      <td>2</td>\n      <td>0</td>\n      <td>0</td>\n      <td>0.0</td>\n      <td>0.0</td>\n      <td>0.0</td>\n      <td>0.000000</td>\n      <td>0.405553</td>\n    </tr>\n    <tr>\n      <th>3</th>\n      <td>FD2A37001BC20B84288116E892EC593B</td>\n      <td>E2EE3768D846F7045F045A5346722548</td>\n      <td>4E19116D1DF976844E4A97EF817C007F</td>\n      <td>5222</td>\n      <td>4422</td>\n      <td>1613930163</td>\n      <td>0</td>\n      <td>0</td>\n      <td>0</td>\n      <td>21</td>\n      <td>6</td>\n      <td>17</td>\n      <td>48</td>\n      <td>2</td>\n      <td>0</td>\n      <td>0</td>\n      <td>&lt;NA&gt;</td>\n      <td>&lt;NA&gt;</td>\n      <td>&lt;NA&gt;</td>\n      <td>0.458571</td>\n      <td>0.380323</td>\n    </tr>\n    <tr>\n      <th>4</th>\n      <td>C191DA726786A709A48B6EB9ED71A8EA</td>\n      <td>CA88FAA145122A84ECBDE8DEEE9D7ECC</td>\n      <td>36247CA39A0FD3F0C21961F58BA76B5E</td>\n      <td>4229</td>\n      <td>652</td>\n      <td>1613482520</td>\n      <td>0</td>\n      <td>0</td>\n      <td>0</td>\n      <td>16</td>\n      <td>1</td>\n      <td>13</td>\n      <td>60</td>\n      <td>2</td>\n      <td>0</td>\n      <td>41351</td>\n      <td>&lt;NA&gt;</td>\n      <td>&lt;NA&gt;</td>\n      <td>&lt;NA&gt;</td>\n      <td>0.328404</td>\n      <td>0.307032</td>\n    </tr>\n    <tr>\n      <th>5</th>\n      <td>849A4D7C233104080FDDE88F820B525B</td>\n      <td>4BB0CE94D9D0FCA8F899C776CEF15E75</td>\n      <td>5FDCCAB4E74417FAA4F9D59778557665</td>\n      <td>2268</td>\n      <td>2162</td>\n      <td>1614086539</td>\n      <td>0</td>\n      <td>0</td>\n      <td>0</td>\n      <td>23</td>\n      <td>1</td>\n      <td>13</td>\n      <td>19</td>\n      <td>1</td>\n      <td>3</td>\n      <td>0</td>\n      <td>&lt;NA&gt;</td>\n      <td>&lt;NA&gt;</td>\n      <td>0.375318944</td>\n      <td>0.344966</td>\n      <td>0.294962</td>\n    </tr>\n  </tbody>\n</table>\n</div>"
     },
     "metadata": {},
     "execution_count": 31
    }
   ],
   "source": [
    "train.head()"
   ]
  },
  {
   "cell_type": "code",
   "execution_count": 34,
   "metadata": {},
   "outputs": [
    {
     "output_type": "execute_result",
     "data": {
      "text/plain": [
       "                          creator_id                        engager_id  \\\n",
       "id                                                                       \n",
       "10  AF83173A15D2CB7A968708B89EE89ED3  6A47A33F79CE79D962D908217FF33878   \n",
       "15  43013DD2B145D0EBEC2B9990D05FEDF6  E206C2C68241177AABA2A1F757FB4F76   \n",
       "16  CC7614BB76345F063453D794FC5BD969  041120B3ACF628C9F85E455C224A8EB8   \n",
       "23  B3242AE2DC6B4D3F14A1117CF9F05F60  97B5B9279A004524C5B183FB91969F36   \n",
       "34  8B56E208B2DC7DDA9017DCF943154239  51B01A412B9AD25CAFA58972C0851032   \n",
       "\n",
       "                            tweet_id  creator_follower_count  \\\n",
       "id                                                             \n",
       "10  D060B363AD934A8B1B7C63DE3C628B73                   96302   \n",
       "15  A997714FA24C892AACBCCEFA9E68A0E5                  528754   \n",
       "16  F0C2C4472D1AE3E912EC184B69E79395                    2157   \n",
       "23  9E73D94E0157F4DB17FEF8676E427268                  864351   \n",
       "34  DBAF8BCD9697F4CDA46AA6538B8329D8                 3377649   \n",
       "\n",
       "    creator_following_count  tweet_timestamp  reply  retweet  like  dt_day  \\\n",
       "id                                                                           \n",
       "10                      397       1613893756      0        0     0      21   \n",
       "15                      498       1613842251      0        0     1      20   \n",
       "16                      451       1612516261      0        0     0       5   \n",
       "23                      260       1613080942      0        0     0      11   \n",
       "34                        1       1613133609      0        0     1      12   \n",
       "\n",
       "    dt_dow  dt_hour  language  tweet_type  media  domains TE_engager_id_like  \\\n",
       "id                                                                             \n",
       "10       6        7        19           0      0        0        0.358258992   \n",
       "15       5       17        19           2      0        0               <NA>   \n",
       "16       4        9        62           0      0        0                0.0   \n",
       "23       3       22        19           1      0        0               <NA>   \n",
       "34       4       12        61           2      7    11446               <NA>   \n",
       "\n",
       "   TE_engager_id_tweet_type_language_like  TE_creator_id_like  \\\n",
       "id                                                              \n",
       "10                            0.375318944            0.375319   \n",
       "15                                   <NA>            0.227736   \n",
       "16                                    0.0            0.000000   \n",
       "23                                   <NA>            0.282695   \n",
       "34                                   <NA>            0.435421   \n",
       "\n",
       "    TE_domains_media_tweet_type_language_like     ypred  \n",
       "id                                                       \n",
       "10                                   0.371144  0.305395  \n",
       "15                                   0.522969  0.307298  \n",
       "16                                   0.000000  0.362040  \n",
       "23                                   0.250346  0.128103  \n",
       "34                                   0.410217  0.433228  "
      ],
      "text/html": "<div>\n<style scoped>\n    .dataframe tbody tr th:only-of-type {\n        vertical-align: middle;\n    }\n\n    .dataframe tbody tr th {\n        vertical-align: top;\n    }\n\n    .dataframe thead th {\n        text-align: right;\n    }\n</style>\n<table border=\"1\" class=\"dataframe\">\n  <thead>\n    <tr style=\"text-align: right;\">\n      <th></th>\n      <th>creator_id</th>\n      <th>engager_id</th>\n      <th>tweet_id</th>\n      <th>creator_follower_count</th>\n      <th>creator_following_count</th>\n      <th>tweet_timestamp</th>\n      <th>reply</th>\n      <th>retweet</th>\n      <th>like</th>\n      <th>dt_day</th>\n      <th>dt_dow</th>\n      <th>dt_hour</th>\n      <th>language</th>\n      <th>tweet_type</th>\n      <th>media</th>\n      <th>domains</th>\n      <th>TE_engager_id_like</th>\n      <th>TE_engager_id_tweet_type_language_like</th>\n      <th>TE_creator_id_like</th>\n      <th>TE_domains_media_tweet_type_language_like</th>\n      <th>ypred</th>\n    </tr>\n    <tr>\n      <th>id</th>\n      <th></th>\n      <th></th>\n      <th></th>\n      <th></th>\n      <th></th>\n      <th></th>\n      <th></th>\n      <th></th>\n      <th></th>\n      <th></th>\n      <th></th>\n      <th></th>\n      <th></th>\n      <th></th>\n      <th></th>\n      <th></th>\n      <th></th>\n      <th></th>\n      <th></th>\n      <th></th>\n      <th></th>\n    </tr>\n  </thead>\n  <tbody>\n    <tr>\n      <th>10</th>\n      <td>AF83173A15D2CB7A968708B89EE89ED3</td>\n      <td>6A47A33F79CE79D962D908217FF33878</td>\n      <td>D060B363AD934A8B1B7C63DE3C628B73</td>\n      <td>96302</td>\n      <td>397</td>\n      <td>1613893756</td>\n      <td>0</td>\n      <td>0</td>\n      <td>0</td>\n      <td>21</td>\n      <td>6</td>\n      <td>7</td>\n      <td>19</td>\n      <td>0</td>\n      <td>0</td>\n      <td>0</td>\n      <td>0.358258992</td>\n      <td>0.375318944</td>\n      <td>0.375319</td>\n      <td>0.371144</td>\n      <td>0.305395</td>\n    </tr>\n    <tr>\n      <th>15</th>\n      <td>43013DD2B145D0EBEC2B9990D05FEDF6</td>\n      <td>E206C2C68241177AABA2A1F757FB4F76</td>\n      <td>A997714FA24C892AACBCCEFA9E68A0E5</td>\n      <td>528754</td>\n      <td>498</td>\n      <td>1613842251</td>\n      <td>0</td>\n      <td>0</td>\n      <td>1</td>\n      <td>20</td>\n      <td>5</td>\n      <td>17</td>\n      <td>19</td>\n      <td>2</td>\n      <td>0</td>\n      <td>0</td>\n      <td>&lt;NA&gt;</td>\n      <td>&lt;NA&gt;</td>\n      <td>0.227736</td>\n      <td>0.522969</td>\n      <td>0.307298</td>\n    </tr>\n    <tr>\n      <th>16</th>\n      <td>CC7614BB76345F063453D794FC5BD969</td>\n      <td>041120B3ACF628C9F85E455C224A8EB8</td>\n      <td>F0C2C4472D1AE3E912EC184B69E79395</td>\n      <td>2157</td>\n      <td>451</td>\n      <td>1612516261</td>\n      <td>0</td>\n      <td>0</td>\n      <td>0</td>\n      <td>5</td>\n      <td>4</td>\n      <td>9</td>\n      <td>62</td>\n      <td>0</td>\n      <td>0</td>\n      <td>0</td>\n      <td>0.0</td>\n      <td>0.0</td>\n      <td>0.000000</td>\n      <td>0.000000</td>\n      <td>0.362040</td>\n    </tr>\n    <tr>\n      <th>23</th>\n      <td>B3242AE2DC6B4D3F14A1117CF9F05F60</td>\n      <td>97B5B9279A004524C5B183FB91969F36</td>\n      <td>9E73D94E0157F4DB17FEF8676E427268</td>\n      <td>864351</td>\n      <td>260</td>\n      <td>1613080942</td>\n      <td>0</td>\n      <td>0</td>\n      <td>0</td>\n      <td>11</td>\n      <td>3</td>\n      <td>22</td>\n      <td>19</td>\n      <td>1</td>\n      <td>0</td>\n      <td>0</td>\n      <td>&lt;NA&gt;</td>\n      <td>&lt;NA&gt;</td>\n      <td>0.282695</td>\n      <td>0.250346</td>\n      <td>0.128103</td>\n    </tr>\n    <tr>\n      <th>34</th>\n      <td>8B56E208B2DC7DDA9017DCF943154239</td>\n      <td>51B01A412B9AD25CAFA58972C0851032</td>\n      <td>DBAF8BCD9697F4CDA46AA6538B8329D8</td>\n      <td>3377649</td>\n      <td>1</td>\n      <td>1613133609</td>\n      <td>0</td>\n      <td>0</td>\n      <td>1</td>\n      <td>12</td>\n      <td>4</td>\n      <td>12</td>\n      <td>61</td>\n      <td>2</td>\n      <td>7</td>\n      <td>11446</td>\n      <td>&lt;NA&gt;</td>\n      <td>&lt;NA&gt;</td>\n      <td>0.435421</td>\n      <td>0.410217</td>\n      <td>0.433228</td>\n    </tr>\n  </tbody>\n</table>\n</div>"
     },
     "metadata": {},
     "execution_count": 34
    }
   ],
   "source": [
    "valid.head()"
   ]
  },
  {
   "cell_type": "code",
   "execution_count": 35,
   "metadata": {},
   "outputs": [
    {
     "output_type": "execute_result",
     "data": {
      "text/plain": [
       "         like     ypred\n",
       "id                     \n",
       "10          0  0.305395\n",
       "15          1  0.307298\n",
       "16          0  0.362040\n",
       "23          0  0.128103\n",
       "34          1  0.433228\n",
       "...       ...       ...\n",
       "3033640     1  0.354002\n",
       "3033643     0  0.511311\n",
       "3033647     0  0.446225\n",
       "3033652     1  0.342373\n",
       "3033662     1  0.252036\n",
       "\n",
       "[485929 rows x 2 columns]"
      ],
      "text/html": "<div>\n<style scoped>\n    .dataframe tbody tr th:only-of-type {\n        vertical-align: middle;\n    }\n\n    .dataframe tbody tr th {\n        vertical-align: top;\n    }\n\n    .dataframe thead th {\n        text-align: right;\n    }\n</style>\n<table border=\"1\" class=\"dataframe\">\n  <thead>\n    <tr style=\"text-align: right;\">\n      <th></th>\n      <th>like</th>\n      <th>ypred</th>\n    </tr>\n    <tr>\n      <th>id</th>\n      <th></th>\n      <th></th>\n    </tr>\n  </thead>\n  <tbody>\n    <tr>\n      <th>10</th>\n      <td>0</td>\n      <td>0.305395</td>\n    </tr>\n    <tr>\n      <th>15</th>\n      <td>1</td>\n      <td>0.307298</td>\n    </tr>\n    <tr>\n      <th>16</th>\n      <td>0</td>\n      <td>0.362040</td>\n    </tr>\n    <tr>\n      <th>23</th>\n      <td>0</td>\n      <td>0.128103</td>\n    </tr>\n    <tr>\n      <th>34</th>\n      <td>1</td>\n      <td>0.433228</td>\n    </tr>\n    <tr>\n      <th>...</th>\n      <td>...</td>\n      <td>...</td>\n    </tr>\n    <tr>\n      <th>3033640</th>\n      <td>1</td>\n      <td>0.354002</td>\n    </tr>\n    <tr>\n      <th>3033643</th>\n      <td>0</td>\n      <td>0.511311</td>\n    </tr>\n    <tr>\n      <th>3033647</th>\n      <td>0</td>\n      <td>0.446225</td>\n    </tr>\n    <tr>\n      <th>3033652</th>\n      <td>1</td>\n      <td>0.342373</td>\n    </tr>\n    <tr>\n      <th>3033662</th>\n      <td>1</td>\n      <td>0.252036</td>\n    </tr>\n  </tbody>\n</table>\n<p>485929 rows × 2 columns</p>\n</div>"
     },
     "metadata": {},
     "execution_count": 35
    }
   ],
   "source": [
    "valid[['like', 'ypred']]"
   ]
  },
  {
   "cell_type": "code",
   "execution_count": 38,
   "metadata": {},
   "outputs": [
    {
     "output_type": "execute_result",
     "data": {
      "text/plain": [
       "10.787183698752855"
      ]
     },
     "metadata": {},
     "execution_count": 38
    }
   ],
   "source": [
    "rce_like = compute_rce(valid['ypred'].to_array(), valid['like'].to_array())\n",
    "rce_like"
   ]
  },
  {
   "cell_type": "code",
   "execution_count": 48,
   "metadata": {},
   "outputs": [
    {
     "output_type": "execute_result",
     "data": {
      "text/plain": [
       "0.5964026708238265"
      ]
     },
     "metadata": {},
     "execution_count": 48
    }
   ],
   "source": [
    "pred = valid['ypred'].to_array()\n",
    "pred = list(map(lambda x: 1 if x > 0.5 else 0,  pred))\n",
    "valid['ypred'] = pred\n",
    "ap_like = average_precision_score(valid['ypred'].to_array(), valid['like'].to_array())\n",
    "ap_like"
   ]
  },
  {
   "cell_type": "code",
   "execution_count": null,
   "metadata": {},
   "outputs": [],
   "source": []
  }
 ]
}