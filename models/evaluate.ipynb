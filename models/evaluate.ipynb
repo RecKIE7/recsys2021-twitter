{
 "metadata": {
  "language_info": {
   "codemirror_mode": {
    "name": "ipython",
    "version": 3
   },
   "file_extension": ".py",
   "mimetype": "text/x-python",
   "name": "python",
   "nbconvert_exporter": "python",
   "pygments_lexer": "ipython3",
   "version": "3.7.10-final"
  },
  "orig_nbformat": 2,
  "kernelspec": {
   "name": "dask-cudf",
   "display_name": "Python 3.7.10 64-bit ('dask-cudf': conda)"
  }
 },
 "nbformat": 4,
 "nbformat_minor": 2,
 "cells": [
  {
   "cell_type": "code",
   "execution_count": 1,
   "metadata": {},
   "outputs": [
    {
     "output_type": "stream",
     "name": "stderr",
     "text": [
      "/home/hyez/anaconda3/envs/dask-cudf/lib/python3.7/site-packages/distributed/node.py:155: UserWarning: Port 8787 is already in use.\nPerhaps you already have a cluster running?\nHosting the HTTP server on port 35725 instead\n  http_address[\"port\"], self.http_server.port\n"
     ]
    }
   ],
   "source": [
    "import sys\n",
    "sys.path.append('..')\n",
    "\n",
    "import numpy as np\n",
    "from datetime import datetime\n",
    "import matplotlib.pyplot as plt\n",
    "import pandas as pd, numpy as np, gc\n",
    "from tqdm import tqdm\n",
    "import joblib\n",
    "import dask.multiprocessing\n",
    "import cudf, cupy, time\n",
    "from numba import jit, njit, prange\n",
    "from sklearn.metrics import precision_recall_curve, auc, log_loss\n",
    "# from sklearn.model_selection import train_test_split\n",
    "from dask_ml.model_selection import train_test_split\n",
    "import xgboost as xgb\n",
    "\n",
    "dask.config.set(schedular='process')\n",
    "pd.set_option('display.max_columns', 500)\n",
    "\n",
    "from utils.cuda_cluster import *\n",
    "from utils.preprocessing import read_data, factorize_small_cardinality\n",
    "from utils.util import *\n",
    "from utils.evaluate import calculate_ctr, compute_rce, average_precision_score\n",
    "\n",
    "\n",
    "import core.config as conf"
   ]
  },
  {
   "cell_type": "code",
   "execution_count": 2,
   "metadata": {},
   "outputs": [],
   "source": [
    "path = f'{conf.preproc_path}/train/part-00050.parquet'\n",
    "valid = read_data(path)\n",
    "gc.collect()\n",
    "save_memory( valid )"
   ]
  },
  {
   "cell_type": "code",
   "execution_count": 3,
   "metadata": {},
   "outputs": [
    {
     "output_type": "stream",
     "name": "stdout",
     "text": [
      "Using 9 features:\n"
     ]
    },
    {
     "output_type": "execute_result",
     "data": {
      "text/plain": [
       "array(['tweet_id', 'dt_day', 'engager_id', 'creator_id', 'domains',\n",
       "       'language', 'reply', 'retweet', 'like'], dtype='<U10')"
      ]
     },
     "metadata": {},
     "execution_count": 3
    }
   ],
   "source": [
    "label_names = ['reply', 'retweet', 'retweet_comment', 'like']\n",
    "DONT_USE = ['timestamp','creator_account_creation','engager_account_creation','engage_time',\n",
    "            'creator_account_creation', 'engager_account_creation',\n",
    "            'fold','tweet_id', \n",
    "            'tr','dt_day','','',\n",
    "            'engager_id','creator_id','engager_is_verified',\n",
    "            'elapsed_time',\n",
    "            'links','domains','hashtags0','hashtags1',\n",
    "            'hashtags','tweet_hash','dt_second','id',\n",
    "            'tw_hash0',\n",
    "            'tw_hash1',\n",
    "            'tw_rt_uhash',\n",
    "            'same_language', 'nan_language','language',\n",
    "            'tw_hash', 'tw_freq_hash','tw_first_word', 'tw_second_word', 'tw_last_word', 'tw_llast_word',\n",
    "            'ypred','creator_count_combined','creator_user_fer_count_delta_time','creator_user_fing_count_delta_time','creator_user_fering_count_delta_time','creator_user_fing_count_mode','creator_user_fer_count_mode','creator_user_fering_count_mode'\n",
    "            \n",
    "           ]\n",
    "DONT_USE += label_names\n",
    "RMV = [c for c in DONT_USE if c in valid.columns]\n",
    "\n",
    "print('Using %i features:'%(len(RMV)))\n",
    "np.asarray(RMV)"
   ]
  },
  {
   "cell_type": "code",
   "execution_count": 4,
   "metadata": {},
   "outputs": [],
   "source": [
    "TARGET = 'like'\n",
    "model = joblib.load( f'/hdd/models/model-'+TARGET+'-49.xgb' )\n",
    "dvalid = xgb.DMatrix(data=valid.drop(RMV, axis=1).compute().to_pandas() ,label=valid[TARGET].compute().values)\n",
    "valid = valid.compute()\n",
    "valid['ypred'] = model.predict(dvalid)\n",
    "del dvalid, model\n",
    "_=gc.collect()"
   ]
  },
  {
   "cell_type": "code",
   "execution_count": 5,
   "metadata": {},
   "outputs": [
    {
     "output_type": "execute_result",
     "data": {
      "text/plain": [
       "         like     ypred\n",
       "id                     \n",
       "1           0  0.481552\n",
       "2           1  0.667589\n",
       "3           0  0.806838\n",
       "4           0  0.341133\n",
       "5           0  0.046326\n",
       "...       ...       ...\n",
       "3034000     0  0.017058\n",
       "3034001     0  0.560991\n",
       "3034002     0  0.079748\n",
       "3034003     1  0.186418\n",
       "3034004     0  0.346106\n",
       "\n",
       "[3034491 rows x 2 columns]"
      ],
      "text/html": "<div>\n<style scoped>\n    .dataframe tbody tr th:only-of-type {\n        vertical-align: middle;\n    }\n\n    .dataframe tbody tr th {\n        vertical-align: top;\n    }\n\n    .dataframe thead th {\n        text-align: right;\n    }\n</style>\n<table border=\"1\" class=\"dataframe\">\n  <thead>\n    <tr style=\"text-align: right;\">\n      <th></th>\n      <th>like</th>\n      <th>ypred</th>\n    </tr>\n    <tr>\n      <th>id</th>\n      <th></th>\n      <th></th>\n    </tr>\n  </thead>\n  <tbody>\n    <tr>\n      <th>1</th>\n      <td>0</td>\n      <td>0.481552</td>\n    </tr>\n    <tr>\n      <th>2</th>\n      <td>1</td>\n      <td>0.667589</td>\n    </tr>\n    <tr>\n      <th>3</th>\n      <td>0</td>\n      <td>0.806838</td>\n    </tr>\n    <tr>\n      <th>4</th>\n      <td>0</td>\n      <td>0.341133</td>\n    </tr>\n    <tr>\n      <th>5</th>\n      <td>0</td>\n      <td>0.046326</td>\n    </tr>\n    <tr>\n      <th>...</th>\n      <td>...</td>\n      <td>...</td>\n    </tr>\n    <tr>\n      <th>3034000</th>\n      <td>0</td>\n      <td>0.017058</td>\n    </tr>\n    <tr>\n      <th>3034001</th>\n      <td>0</td>\n      <td>0.560991</td>\n    </tr>\n    <tr>\n      <th>3034002</th>\n      <td>0</td>\n      <td>0.079748</td>\n    </tr>\n    <tr>\n      <th>3034003</th>\n      <td>1</td>\n      <td>0.186418</td>\n    </tr>\n    <tr>\n      <th>3034004</th>\n      <td>0</td>\n      <td>0.346106</td>\n    </tr>\n  </tbody>\n</table>\n<p>3034491 rows × 2 columns</p>\n</div>"
     },
     "metadata": {},
     "execution_count": 5
    }
   ],
   "source": [
    "valid[['like', 'ypred']]"
   ]
  },
  {
   "cell_type": "code",
   "execution_count": 6,
   "metadata": {},
   "outputs": [
    {
     "output_type": "execute_result",
     "data": {
      "text/plain": [
       "10.02013208018122"
      ]
     },
     "metadata": {},
     "execution_count": 6
    }
   ],
   "source": [
    "rce_like = compute_rce(valid['ypred'].to_array(), valid['like'].to_array())\n",
    "rce_like"
   ]
  },
  {
   "cell_type": "code",
   "execution_count": 8,
   "metadata": {},
   "outputs": [
    {
     "output_type": "execute_result",
     "data": {
      "text/plain": [
       "0.4395012912796188"
      ]
     },
     "metadata": {},
     "execution_count": 8
    }
   ],
   "source": [
    "pred = valid['ypred'].to_array()\n",
    "pred = list(map(lambda x: 1 if x > 0.4 else 0,  pred))\n",
    "valid['ypred'] = pred\n",
    "ap_like = average_precision_score(valid['ypred'].to_array(), valid['like'].to_array())\n",
    "ap_like"
   ]
  },
  {
   "cell_type": "code",
   "execution_count": null,
   "metadata": {},
   "outputs": [],
   "source": []
  }
 ]
}