{
 "metadata": {
  "language_info": {
   "codemirror_mode": {
    "name": "ipython",
    "version": 3
   },
   "file_extension": ".py",
   "mimetype": "text/x-python",
   "name": "python",
   "nbconvert_exporter": "python",
   "pygments_lexer": "ipython3",
   "version": "3.7.10"
  },
  "orig_nbformat": 2,
  "kernelspec": {
   "name": "python3710jvsc74a57bd0c4c1a3e9c3a39a0885e9d9bd6e4723f2ede522dfea9ed13682022cc292aed1ac",
   "display_name": "Python 3.7.10 64-bit ('dask-cudf': conda)"
  }
 },
 "nbformat": 4,
 "nbformat_minor": 2,
 "cells": [
  {
   "cell_type": "code",
   "execution_count": 2,
   "metadata": {},
   "outputs": [],
   "source": [
    "import sys\n",
    "sys.path.append('..')\n",
    "\n",
    "import numpy as np\n",
    "import matplotlib.pyplot as plt\n",
    "import pandas as pd\n",
    "from tqdm import tqdm\n",
    "from utils.preprocessing import *\n",
    "import core.config as conf"
   ]
  },
  {
   "source": [
    "## time split"
   ],
   "cell_type": "markdown",
   "metadata": {}
  },
  {
   "cell_type": "code",
   "execution_count": 9,
   "metadata": {},
   "outputs": [
    {
     "output_type": "stream",
     "name": "stderr",
     "text": [
      "100%|██████████| 291/291 [3:06:34<00:00, 38.47s/it]\n"
     ]
    }
   ],
   "source": [
    "file_list = sorted(os.listdir(conf.raw_lzo_path))\n",
    "\n",
    "for raw_file_name in tqdm(file_list):\n",
    "    part = raw_file_name[-3]\n",
    "    data_path = conf.raw_lzo_path + raw_file_name\n",
    "    df = read_data(data_path)\n",
    "    df['day'] = pd.to_datetime( df['tweet_timestamp'] , unit='s' ).dt.day\n",
    "\n",
    "    for i in (range(df['day'].min(), df['day'].max()+1)): # 4~24\n",
    "        if i >= 10:\n",
    "            day = str(i)\n",
    "        else:\n",
    "            day = '0' + str(i)\n",
    "\n",
    "        # dir_path = f'{conf.dataset_path}/2102{day}'\n",
    "        # # makedir\n",
    "        # if not os.path.exists(dir_path):\n",
    "        #     os.makedirs(dir_path)\n",
    "\n",
    "        # save\n",
    "        df[df['day'] == i].drop('day', axis=1).to_csv(f\"{conf.dataset_path}/part-2102{day}-{part}\", mode='a', header=False, sep='\\x01', index=False)\n",
    "    \n",
    "    del df\n",
    "\n",
    "    "
   ]
  },
  {
   "source": [
    "## test"
   ],
   "cell_type": "markdown",
   "metadata": {}
  },
  {
   "cell_type": "code",
   "execution_count": 3,
   "metadata": {},
   "outputs": [],
   "source": [
    "data_path = f'{conf.dataset_path}/part-210204-0'\n",
    "\n",
    "test = read_data(data_path)"
   ]
  },
  {
   "cell_type": "code",
   "execution_count": 4,
   "metadata": {},
   "outputs": [
    {
     "output_type": "execute_result",
     "data": {
      "text/plain": [
       "                                                text_tokens  \\\n",
       "0         101\\t15764\\t10700\\t763\\t24455\\t17329\\t19163\\t1...   \n",
       "1                                             101\\t100\\t102   \n",
       "2         101\\t56898\\t137\\t15688\\t61497\\t11809\\t131\\t101...   \n",
       "3         101\\t56898\\t137\\t88449\\t11369\\t40876\\t10147\\t1...   \n",
       "4         101\\t28248\\t10320\\t10192\\t13605\\t16670\\t10219\\...   \n",
       "...                                                     ...   \n",
       "15232802   101\\t11982\\t77676\\t183\\t20401\\t60121\\t12013\\t102   \n",
       "15232803                                      101\\t100\\t102   \n",
       "15232804  101\\t146\\t32240\\t18376\\t14172\\t11327\\t15127\\t2...   \n",
       "15232805  101\\t4378\\t4348\\t1946\\t4163\\t3388\\t10074\\t1063...   \n",
       "15232806  101\\t56898\\t137\\t19132\\t12349\\t28580\\t76560\\t1...   \n",
       "\n",
       "                                  hashtags                          tweet_id  \\\n",
       "0                                      NaN  9B25FA25E79D31D3BCC37C45F4C731E5   \n",
       "1                                      NaN  A3974F1BC83B2D1DE672D3A6D8539ADC   \n",
       "2         3845D7476D231FA1AD18463A400026A4  3B6498FF58C7E5F642F03179D148010A   \n",
       "3                                      NaN  1C1FA9ACD3C35515C0FBB8D800DC720A   \n",
       "4                                      NaN  8C9B185DEB518C1E2F67974258523DC3   \n",
       "...                                    ...                               ...   \n",
       "15232802                               NaN  9261511B2BDED772738E26393D5803BB   \n",
       "15232803                               NaN  9CA4EC7C28344E549944B54AF548C869   \n",
       "15232804                               NaN  E17B8160C7260C52A47AF163FFAA443F   \n",
       "15232805  F95515697EB91C597A3240E918E7E12F  127516789F35C30FA0B6D58272B369AD   \n",
       "15232806  F455AA7D87B3256A17E56C93AA8AF30F  16C142D95E835895A85CADAC4EA2F444   \n",
       "\n",
       "                        media links domains tweet_type  \\\n",
       "0                         NaN   NaN     NaN   TopLevel   \n",
       "1                         NaN   NaN     NaN      Quote   \n",
       "2                       Photo   NaN     NaN    Retweet   \n",
       "3                         NaN   NaN     NaN    Retweet   \n",
       "4                         NaN   NaN     NaN      Quote   \n",
       "...                       ...   ...     ...        ...   \n",
       "15232802                  NaN   NaN     NaN   TopLevel   \n",
       "15232803                  NaN   NaN     NaN      Quote   \n",
       "15232804                  NaN   NaN     NaN   TopLevel   \n",
       "15232805  Photo\\tPhoto\\tPhoto   NaN     NaN   TopLevel   \n",
       "15232806                  NaN   NaN     NaN    Retweet   \n",
       "\n",
       "                                  language  tweet_timestamp  \\\n",
       "0         9A78FC330083E72BE0DD1EA92656F3B5       1612472571   \n",
       "1         313ECD3A1E5BB07406E4249475C2D6D6       1612450518   \n",
       "2         488B32D24BD4BB44172EB981C1BCA6FA       1612397217   \n",
       "3         488B32D24BD4BB44172EB981C1BCA6FA       1612406118   \n",
       "4         B0FA488F2911701DD8EC5B1EA5E322D8       1612411409   \n",
       "...                                    ...              ...   \n",
       "15232802  B8B04128918BBF54E2E178BFF1ABA833       1612405413   \n",
       "15232803  313ECD3A1E5BB07406E4249475C2D6D6       1612407774   \n",
       "15232804  488B32D24BD4BB44172EB981C1BCA6FA       1612477059   \n",
       "15232805  E7F038DE3EAD397AEC9193686C911677       1612418090   \n",
       "15232806  E7F038DE3EAD397AEC9193686C911677       1612411471   \n",
       "\n",
       "                                creator_id  ...  \\\n",
       "0         A5A49E65DE6B45652AFCA96BB96EB7D0  ...   \n",
       "1         370DC464BAAA0605646CED9F6F623209  ...   \n",
       "2         A8419ECCFEF225FE048F35959FB31609  ...   \n",
       "3         D5FB9ACC23F7BF85D7F2192D7745DBC8  ...   \n",
       "4         F4760C2FCC128F83C77FD39174B532EB  ...   \n",
       "...                                    ...  ...   \n",
       "15232802  AC2F2DC071EBE7092152F2D4006BEA90  ...   \n",
       "15232803  A1C778A214177412AC712B1536E6A62F  ...   \n",
       "15232804  BC1041978577FE7FE15DD787E80B3D92  ...   \n",
       "15232805  F77401606F525CFBE60CFE88817045E6  ...   \n",
       "15232806  626486C52DA6118AADCBA7B9CB9ABC37  ...   \n",
       "\n",
       "                                engager_id  engager_follower_count  \\\n",
       "0         39333FE12CE46A640E8B4422CD5322EE                     167   \n",
       "1         55EE30E04A2B87055A2A06DD1E5BCD88                     891   \n",
       "2         7C170CBD96EB11E9B5036FD859DCEE64                     542   \n",
       "3         8447D2D1DD8616D7789B3B4AA7973C96                       7   \n",
       "4         4AA853CCDC80ECCBEC279086899136BD                     374   \n",
       "...                                    ...                     ...   \n",
       "15232802  DC4078342553C8CB2E227F62C876E670                     424   \n",
       "15232803  2F5F3B4591EAC4479906672F6A4ACEDA                      66   \n",
       "15232804  684362571DF22FA38C7E5BB64E122CE8                     584   \n",
       "15232805  5E5AAB5E2A2C6C7E62BC24C300D8AAA7                    5184   \n",
       "15232806  540D348A7CFDB299F8B3DC67B93EC0B6                    4396   \n",
       "\n",
       "          engager_following_count  engager_is_verified  \\\n",
       "0                             394                False   \n",
       "1                            1769                False   \n",
       "2                             511                False   \n",
       "3                              30                False   \n",
       "4                             489                False   \n",
       "...                           ...                  ...   \n",
       "15232802                      230                False   \n",
       "15232803                      377                False   \n",
       "15232804                      502                False   \n",
       "15232805                     5204                False   \n",
       "15232806                      350                False   \n",
       "\n",
       "         engager_account_creation  creator_follows_engager  reply_timestamp  \\\n",
       "0                      1546022960                     True              NaN   \n",
       "1                      1537576980                     True              NaN   \n",
       "2                      1501966397                    False              NaN   \n",
       "3                      1461370543                    False              NaN   \n",
       "4                      1308685631                     True              NaN   \n",
       "...                           ...                      ...              ...   \n",
       "15232802               1284737129                    False              NaN   \n",
       "15232803               1263146738                    False              NaN   \n",
       "15232804               1581267213                     True              NaN   \n",
       "15232805               1268234408                     True     1.612430e+09   \n",
       "15232806               1241792769                     True              NaN   \n",
       "\n",
       "          retweet_timestamp  comment_timestamp  like_timestamp  \n",
       "0                       NaN                NaN    1.612536e+09  \n",
       "1                       NaN                NaN    1.612451e+09  \n",
       "2                       NaN                NaN             NaN  \n",
       "3                       NaN                NaN    1.612407e+09  \n",
       "4                       NaN                NaN             NaN  \n",
       "...                     ...                ...             ...  \n",
       "15232802                NaN                NaN             NaN  \n",
       "15232803                NaN                NaN             NaN  \n",
       "15232804                NaN                NaN             NaN  \n",
       "15232805                NaN                NaN             NaN  \n",
       "15232806                NaN                NaN             NaN  \n",
       "\n",
       "[15232807 rows x 24 columns]"
      ],
      "text/html": "<div>\n<style scoped>\n    .dataframe tbody tr th:only-of-type {\n        vertical-align: middle;\n    }\n\n    .dataframe tbody tr th {\n        vertical-align: top;\n    }\n\n    .dataframe thead th {\n        text-align: right;\n    }\n</style>\n<table border=\"1\" class=\"dataframe\">\n  <thead>\n    <tr style=\"text-align: right;\">\n      <th></th>\n      <th>text_tokens</th>\n      <th>hashtags</th>\n      <th>tweet_id</th>\n      <th>media</th>\n      <th>links</th>\n      <th>domains</th>\n      <th>tweet_type</th>\n      <th>language</th>\n      <th>tweet_timestamp</th>\n      <th>creator_id</th>\n      <th>...</th>\n      <th>engager_id</th>\n      <th>engager_follower_count</th>\n      <th>engager_following_count</th>\n      <th>engager_is_verified</th>\n      <th>engager_account_creation</th>\n      <th>creator_follows_engager</th>\n      <th>reply_timestamp</th>\n      <th>retweet_timestamp</th>\n      <th>comment_timestamp</th>\n      <th>like_timestamp</th>\n    </tr>\n  </thead>\n  <tbody>\n    <tr>\n      <th>0</th>\n      <td>101\\t15764\\t10700\\t763\\t24455\\t17329\\t19163\\t1...</td>\n      <td>NaN</td>\n      <td>9B25FA25E79D31D3BCC37C45F4C731E5</td>\n      <td>NaN</td>\n      <td>NaN</td>\n      <td>NaN</td>\n      <td>TopLevel</td>\n      <td>9A78FC330083E72BE0DD1EA92656F3B5</td>\n      <td>1612472571</td>\n      <td>A5A49E65DE6B45652AFCA96BB96EB7D0</td>\n      <td>...</td>\n      <td>39333FE12CE46A640E8B4422CD5322EE</td>\n      <td>167</td>\n      <td>394</td>\n      <td>False</td>\n      <td>1546022960</td>\n      <td>True</td>\n      <td>NaN</td>\n      <td>NaN</td>\n      <td>NaN</td>\n      <td>1.612536e+09</td>\n    </tr>\n    <tr>\n      <th>1</th>\n      <td>101\\t100\\t102</td>\n      <td>NaN</td>\n      <td>A3974F1BC83B2D1DE672D3A6D8539ADC</td>\n      <td>NaN</td>\n      <td>NaN</td>\n      <td>NaN</td>\n      <td>Quote</td>\n      <td>313ECD3A1E5BB07406E4249475C2D6D6</td>\n      <td>1612450518</td>\n      <td>370DC464BAAA0605646CED9F6F623209</td>\n      <td>...</td>\n      <td>55EE30E04A2B87055A2A06DD1E5BCD88</td>\n      <td>891</td>\n      <td>1769</td>\n      <td>False</td>\n      <td>1537576980</td>\n      <td>True</td>\n      <td>NaN</td>\n      <td>NaN</td>\n      <td>NaN</td>\n      <td>1.612451e+09</td>\n    </tr>\n    <tr>\n      <th>2</th>\n      <td>101\\t56898\\t137\\t15688\\t61497\\t11809\\t131\\t101...</td>\n      <td>3845D7476D231FA1AD18463A400026A4</td>\n      <td>3B6498FF58C7E5F642F03179D148010A</td>\n      <td>Photo</td>\n      <td>NaN</td>\n      <td>NaN</td>\n      <td>Retweet</td>\n      <td>488B32D24BD4BB44172EB981C1BCA6FA</td>\n      <td>1612397217</td>\n      <td>A8419ECCFEF225FE048F35959FB31609</td>\n      <td>...</td>\n      <td>7C170CBD96EB11E9B5036FD859DCEE64</td>\n      <td>542</td>\n      <td>511</td>\n      <td>False</td>\n      <td>1501966397</td>\n      <td>False</td>\n      <td>NaN</td>\n      <td>NaN</td>\n      <td>NaN</td>\n      <td>NaN</td>\n    </tr>\n    <tr>\n      <th>3</th>\n      <td>101\\t56898\\t137\\t88449\\t11369\\t40876\\t10147\\t1...</td>\n      <td>NaN</td>\n      <td>1C1FA9ACD3C35515C0FBB8D800DC720A</td>\n      <td>NaN</td>\n      <td>NaN</td>\n      <td>NaN</td>\n      <td>Retweet</td>\n      <td>488B32D24BD4BB44172EB981C1BCA6FA</td>\n      <td>1612406118</td>\n      <td>D5FB9ACC23F7BF85D7F2192D7745DBC8</td>\n      <td>...</td>\n      <td>8447D2D1DD8616D7789B3B4AA7973C96</td>\n      <td>7</td>\n      <td>30</td>\n      <td>False</td>\n      <td>1461370543</td>\n      <td>False</td>\n      <td>NaN</td>\n      <td>NaN</td>\n      <td>NaN</td>\n      <td>1.612407e+09</td>\n    </tr>\n    <tr>\n      <th>4</th>\n      <td>101\\t28248\\t10320\\t10192\\t13605\\t16670\\t10219\\...</td>\n      <td>NaN</td>\n      <td>8C9B185DEB518C1E2F67974258523DC3</td>\n      <td>NaN</td>\n      <td>NaN</td>\n      <td>NaN</td>\n      <td>Quote</td>\n      <td>B0FA488F2911701DD8EC5B1EA5E322D8</td>\n      <td>1612411409</td>\n      <td>F4760C2FCC128F83C77FD39174B532EB</td>\n      <td>...</td>\n      <td>4AA853CCDC80ECCBEC279086899136BD</td>\n      <td>374</td>\n      <td>489</td>\n      <td>False</td>\n      <td>1308685631</td>\n      <td>True</td>\n      <td>NaN</td>\n      <td>NaN</td>\n      <td>NaN</td>\n      <td>NaN</td>\n    </tr>\n    <tr>\n      <th>...</th>\n      <td>...</td>\n      <td>...</td>\n      <td>...</td>\n      <td>...</td>\n      <td>...</td>\n      <td>...</td>\n      <td>...</td>\n      <td>...</td>\n      <td>...</td>\n      <td>...</td>\n      <td>...</td>\n      <td>...</td>\n      <td>...</td>\n      <td>...</td>\n      <td>...</td>\n      <td>...</td>\n      <td>...</td>\n      <td>...</td>\n      <td>...</td>\n      <td>...</td>\n      <td>...</td>\n    </tr>\n    <tr>\n      <th>15232802</th>\n      <td>101\\t11982\\t77676\\t183\\t20401\\t60121\\t12013\\t102</td>\n      <td>NaN</td>\n      <td>9261511B2BDED772738E26393D5803BB</td>\n      <td>NaN</td>\n      <td>NaN</td>\n      <td>NaN</td>\n      <td>TopLevel</td>\n      <td>B8B04128918BBF54E2E178BFF1ABA833</td>\n      <td>1612405413</td>\n      <td>AC2F2DC071EBE7092152F2D4006BEA90</td>\n      <td>...</td>\n      <td>DC4078342553C8CB2E227F62C876E670</td>\n      <td>424</td>\n      <td>230</td>\n      <td>False</td>\n      <td>1284737129</td>\n      <td>False</td>\n      <td>NaN</td>\n      <td>NaN</td>\n      <td>NaN</td>\n      <td>NaN</td>\n    </tr>\n    <tr>\n      <th>15232803</th>\n      <td>101\\t100\\t102</td>\n      <td>NaN</td>\n      <td>9CA4EC7C28344E549944B54AF548C869</td>\n      <td>NaN</td>\n      <td>NaN</td>\n      <td>NaN</td>\n      <td>Quote</td>\n      <td>313ECD3A1E5BB07406E4249475C2D6D6</td>\n      <td>1612407774</td>\n      <td>A1C778A214177412AC712B1536E6A62F</td>\n      <td>...</td>\n      <td>2F5F3B4591EAC4479906672F6A4ACEDA</td>\n      <td>66</td>\n      <td>377</td>\n      <td>False</td>\n      <td>1263146738</td>\n      <td>False</td>\n      <td>NaN</td>\n      <td>NaN</td>\n      <td>NaN</td>\n      <td>NaN</td>\n    </tr>\n    <tr>\n      <th>15232804</th>\n      <td>101\\t146\\t32240\\t18376\\t14172\\t11327\\t15127\\t2...</td>\n      <td>NaN</td>\n      <td>E17B8160C7260C52A47AF163FFAA443F</td>\n      <td>NaN</td>\n      <td>NaN</td>\n      <td>NaN</td>\n      <td>TopLevel</td>\n      <td>488B32D24BD4BB44172EB981C1BCA6FA</td>\n      <td>1612477059</td>\n      <td>BC1041978577FE7FE15DD787E80B3D92</td>\n      <td>...</td>\n      <td>684362571DF22FA38C7E5BB64E122CE8</td>\n      <td>584</td>\n      <td>502</td>\n      <td>False</td>\n      <td>1581267213</td>\n      <td>True</td>\n      <td>NaN</td>\n      <td>NaN</td>\n      <td>NaN</td>\n      <td>NaN</td>\n    </tr>\n    <tr>\n      <th>15232805</th>\n      <td>101\\t4378\\t4348\\t1946\\t4163\\t3388\\t10074\\t1063...</td>\n      <td>F95515697EB91C597A3240E918E7E12F</td>\n      <td>127516789F35C30FA0B6D58272B369AD</td>\n      <td>Photo\\tPhoto\\tPhoto</td>\n      <td>NaN</td>\n      <td>NaN</td>\n      <td>TopLevel</td>\n      <td>E7F038DE3EAD397AEC9193686C911677</td>\n      <td>1612418090</td>\n      <td>F77401606F525CFBE60CFE88817045E6</td>\n      <td>...</td>\n      <td>5E5AAB5E2A2C6C7E62BC24C300D8AAA7</td>\n      <td>5184</td>\n      <td>5204</td>\n      <td>False</td>\n      <td>1268234408</td>\n      <td>True</td>\n      <td>1.612430e+09</td>\n      <td>NaN</td>\n      <td>NaN</td>\n      <td>NaN</td>\n    </tr>\n    <tr>\n      <th>15232806</th>\n      <td>101\\t56898\\t137\\t19132\\t12349\\t28580\\t76560\\t1...</td>\n      <td>F455AA7D87B3256A17E56C93AA8AF30F</td>\n      <td>16C142D95E835895A85CADAC4EA2F444</td>\n      <td>NaN</td>\n      <td>NaN</td>\n      <td>NaN</td>\n      <td>Retweet</td>\n      <td>E7F038DE3EAD397AEC9193686C911677</td>\n      <td>1612411471</td>\n      <td>626486C52DA6118AADCBA7B9CB9ABC37</td>\n      <td>...</td>\n      <td>540D348A7CFDB299F8B3DC67B93EC0B6</td>\n      <td>4396</td>\n      <td>350</td>\n      <td>False</td>\n      <td>1241792769</td>\n      <td>True</td>\n      <td>NaN</td>\n      <td>NaN</td>\n      <td>NaN</td>\n      <td>NaN</td>\n    </tr>\n  </tbody>\n</table>\n<p>15232807 rows × 24 columns</p>\n</div>"
     },
     "metadata": {},
     "execution_count": 4
    }
   ],
   "source": [
    "test"
   ]
  },
  {
   "cell_type": "code",
   "execution_count": 5,
   "metadata": {},
   "outputs": [
    {
     "output_type": "execute_result",
     "data": {
      "text/plain": [
       "                                         text_tokens  \\\n",
       "0  101\\t15764\\t10700\\t763\\t24455\\t17329\\t19163\\t1...   \n",
       "1                                      101\\t100\\t102   \n",
       "2  101\\t56898\\t137\\t15688\\t61497\\t11809\\t131\\t101...   \n",
       "3  101\\t56898\\t137\\t88449\\t11369\\t40876\\t10147\\t1...   \n",
       "4  101\\t28248\\t10320\\t10192\\t13605\\t16670\\t10219\\...   \n",
       "\n",
       "                           hashtags                          tweet_id  media  \\\n",
       "0                               NaN  9B25FA25E79D31D3BCC37C45F4C731E5    NaN   \n",
       "1                               NaN  A3974F1BC83B2D1DE672D3A6D8539ADC    NaN   \n",
       "2  3845D7476D231FA1AD18463A400026A4  3B6498FF58C7E5F642F03179D148010A  Photo   \n",
       "3                               NaN  1C1FA9ACD3C35515C0FBB8D800DC720A    NaN   \n",
       "4                               NaN  8C9B185DEB518C1E2F67974258523DC3    NaN   \n",
       "\n",
       "  links domains tweet_type                          language  tweet_timestamp  \\\n",
       "0   NaN     NaN   TopLevel  9A78FC330083E72BE0DD1EA92656F3B5       1612472571   \n",
       "1   NaN     NaN      Quote  313ECD3A1E5BB07406E4249475C2D6D6       1612450518   \n",
       "2   NaN     NaN    Retweet  488B32D24BD4BB44172EB981C1BCA6FA       1612397217   \n",
       "3   NaN     NaN    Retweet  488B32D24BD4BB44172EB981C1BCA6FA       1612406118   \n",
       "4   NaN     NaN      Quote  B0FA488F2911701DD8EC5B1EA5E322D8       1612411409   \n",
       "\n",
       "                         creator_id  ...                        engager_id  \\\n",
       "0  A5A49E65DE6B45652AFCA96BB96EB7D0  ...  39333FE12CE46A640E8B4422CD5322EE   \n",
       "1  370DC464BAAA0605646CED9F6F623209  ...  55EE30E04A2B87055A2A06DD1E5BCD88   \n",
       "2  A8419ECCFEF225FE048F35959FB31609  ...  7C170CBD96EB11E9B5036FD859DCEE64   \n",
       "3  D5FB9ACC23F7BF85D7F2192D7745DBC8  ...  8447D2D1DD8616D7789B3B4AA7973C96   \n",
       "4  F4760C2FCC128F83C77FD39174B532EB  ...  4AA853CCDC80ECCBEC279086899136BD   \n",
       "\n",
       "   engager_follower_count  engager_following_count  engager_is_verified  \\\n",
       "0                     167                      394                False   \n",
       "1                     891                     1769                False   \n",
       "2                     542                      511                False   \n",
       "3                       7                       30                False   \n",
       "4                     374                      489                False   \n",
       "\n",
       "  engager_account_creation  creator_follows_engager  reply_timestamp  \\\n",
       "0               1546022960                     True              NaN   \n",
       "1               1537576980                     True              NaN   \n",
       "2               1501966397                    False              NaN   \n",
       "3               1461370543                    False              NaN   \n",
       "4               1308685631                     True              NaN   \n",
       "\n",
       "   retweet_timestamp  comment_timestamp  like_timestamp  \n",
       "0                NaN                NaN    1.612536e+09  \n",
       "1                NaN                NaN    1.612451e+09  \n",
       "2                NaN                NaN             NaN  \n",
       "3                NaN                NaN    1.612407e+09  \n",
       "4                NaN                NaN             NaN  \n",
       "\n",
       "[5 rows x 24 columns]"
      ],
      "text/html": "<div>\n<style scoped>\n    .dataframe tbody tr th:only-of-type {\n        vertical-align: middle;\n    }\n\n    .dataframe tbody tr th {\n        vertical-align: top;\n    }\n\n    .dataframe thead th {\n        text-align: right;\n    }\n</style>\n<table border=\"1\" class=\"dataframe\">\n  <thead>\n    <tr style=\"text-align: right;\">\n      <th></th>\n      <th>text_tokens</th>\n      <th>hashtags</th>\n      <th>tweet_id</th>\n      <th>media</th>\n      <th>links</th>\n      <th>domains</th>\n      <th>tweet_type</th>\n      <th>language</th>\n      <th>tweet_timestamp</th>\n      <th>creator_id</th>\n      <th>...</th>\n      <th>engager_id</th>\n      <th>engager_follower_count</th>\n      <th>engager_following_count</th>\n      <th>engager_is_verified</th>\n      <th>engager_account_creation</th>\n      <th>creator_follows_engager</th>\n      <th>reply_timestamp</th>\n      <th>retweet_timestamp</th>\n      <th>comment_timestamp</th>\n      <th>like_timestamp</th>\n    </tr>\n  </thead>\n  <tbody>\n    <tr>\n      <th>0</th>\n      <td>101\\t15764\\t10700\\t763\\t24455\\t17329\\t19163\\t1...</td>\n      <td>NaN</td>\n      <td>9B25FA25E79D31D3BCC37C45F4C731E5</td>\n      <td>NaN</td>\n      <td>NaN</td>\n      <td>NaN</td>\n      <td>TopLevel</td>\n      <td>9A78FC330083E72BE0DD1EA92656F3B5</td>\n      <td>1612472571</td>\n      <td>A5A49E65DE6B45652AFCA96BB96EB7D0</td>\n      <td>...</td>\n      <td>39333FE12CE46A640E8B4422CD5322EE</td>\n      <td>167</td>\n      <td>394</td>\n      <td>False</td>\n      <td>1546022960</td>\n      <td>True</td>\n      <td>NaN</td>\n      <td>NaN</td>\n      <td>NaN</td>\n      <td>1.612536e+09</td>\n    </tr>\n    <tr>\n      <th>1</th>\n      <td>101\\t100\\t102</td>\n      <td>NaN</td>\n      <td>A3974F1BC83B2D1DE672D3A6D8539ADC</td>\n      <td>NaN</td>\n      <td>NaN</td>\n      <td>NaN</td>\n      <td>Quote</td>\n      <td>313ECD3A1E5BB07406E4249475C2D6D6</td>\n      <td>1612450518</td>\n      <td>370DC464BAAA0605646CED9F6F623209</td>\n      <td>...</td>\n      <td>55EE30E04A2B87055A2A06DD1E5BCD88</td>\n      <td>891</td>\n      <td>1769</td>\n      <td>False</td>\n      <td>1537576980</td>\n      <td>True</td>\n      <td>NaN</td>\n      <td>NaN</td>\n      <td>NaN</td>\n      <td>1.612451e+09</td>\n    </tr>\n    <tr>\n      <th>2</th>\n      <td>101\\t56898\\t137\\t15688\\t61497\\t11809\\t131\\t101...</td>\n      <td>3845D7476D231FA1AD18463A400026A4</td>\n      <td>3B6498FF58C7E5F642F03179D148010A</td>\n      <td>Photo</td>\n      <td>NaN</td>\n      <td>NaN</td>\n      <td>Retweet</td>\n      <td>488B32D24BD4BB44172EB981C1BCA6FA</td>\n      <td>1612397217</td>\n      <td>A8419ECCFEF225FE048F35959FB31609</td>\n      <td>...</td>\n      <td>7C170CBD96EB11E9B5036FD859DCEE64</td>\n      <td>542</td>\n      <td>511</td>\n      <td>False</td>\n      <td>1501966397</td>\n      <td>False</td>\n      <td>NaN</td>\n      <td>NaN</td>\n      <td>NaN</td>\n      <td>NaN</td>\n    </tr>\n    <tr>\n      <th>3</th>\n      <td>101\\t56898\\t137\\t88449\\t11369\\t40876\\t10147\\t1...</td>\n      <td>NaN</td>\n      <td>1C1FA9ACD3C35515C0FBB8D800DC720A</td>\n      <td>NaN</td>\n      <td>NaN</td>\n      <td>NaN</td>\n      <td>Retweet</td>\n      <td>488B32D24BD4BB44172EB981C1BCA6FA</td>\n      <td>1612406118</td>\n      <td>D5FB9ACC23F7BF85D7F2192D7745DBC8</td>\n      <td>...</td>\n      <td>8447D2D1DD8616D7789B3B4AA7973C96</td>\n      <td>7</td>\n      <td>30</td>\n      <td>False</td>\n      <td>1461370543</td>\n      <td>False</td>\n      <td>NaN</td>\n      <td>NaN</td>\n      <td>NaN</td>\n      <td>1.612407e+09</td>\n    </tr>\n    <tr>\n      <th>4</th>\n      <td>101\\t28248\\t10320\\t10192\\t13605\\t16670\\t10219\\...</td>\n      <td>NaN</td>\n      <td>8C9B185DEB518C1E2F67974258523DC3</td>\n      <td>NaN</td>\n      <td>NaN</td>\n      <td>NaN</td>\n      <td>Quote</td>\n      <td>B0FA488F2911701DD8EC5B1EA5E322D8</td>\n      <td>1612411409</td>\n      <td>F4760C2FCC128F83C77FD39174B532EB</td>\n      <td>...</td>\n      <td>4AA853CCDC80ECCBEC279086899136BD</td>\n      <td>374</td>\n      <td>489</td>\n      <td>False</td>\n      <td>1308685631</td>\n      <td>True</td>\n      <td>NaN</td>\n      <td>NaN</td>\n      <td>NaN</td>\n      <td>NaN</td>\n    </tr>\n  </tbody>\n</table>\n<p>5 rows × 24 columns</p>\n</div>"
     },
     "metadata": {},
     "execution_count": 5
    }
   ],
   "source": [
    "test.head()"
   ]
  },
  {
   "source": [
    "test.tail()"
   ],
   "cell_type": "code",
   "metadata": {},
   "execution_count": null,
   "outputs": []
  },
  {
   "cell_type": "code",
   "execution_count": null,
   "metadata": {},
   "outputs": [],
   "source": []
  }
 ]
}