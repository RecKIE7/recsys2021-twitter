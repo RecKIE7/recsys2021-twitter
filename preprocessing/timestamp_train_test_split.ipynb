{
 "metadata": {
  "language_info": {
   "codemirror_mode": {
    "name": "ipython",
    "version": 3
   },
   "file_extension": ".py",
   "mimetype": "text/x-python",
   "name": "python",
   "nbconvert_exporter": "python",
   "pygments_lexer": "ipython3",
   "version": "3.7.10"
  },
  "orig_nbformat": 2,
  "kernelspec": {
   "name": "python3710jvsc74a57bd0c4c1a3e9c3a39a0885e9d9bd6e4723f2ede522dfea9ed13682022cc292aed1ac",
   "display_name": "Python 3.7.10 64-bit ('dask-cudf': conda)"
  }
 },
 "nbformat": 4,
 "nbformat_minor": 2,
 "cells": [
  {
   "cell_type": "code",
   "execution_count": 2,
   "metadata": {},
   "outputs": [],
   "source": [
    "import sys\n",
    "sys.path.append('..')\n",
    "\n",
    "import numpy as np\n",
    "import matplotlib.pyplot as plt\n",
    "import pandas as pd\n",
    "from tqdm import tqdm\n",
    "from utils.preprocessing import *\n",
    "import core.config as conf"
   ]
  },
  {
   "source": [
    "## time split"
   ],
   "cell_type": "markdown",
   "metadata": {}
  },
  {
   "cell_type": "code",
   "execution_count": 9,
   "metadata": {},
   "outputs": [
    {
     "output_type": "stream",
     "name": "stderr",
     "text": [
      "100%|██████████| 291/291 [3:06:34<00:00, 38.47s/it]\n"
     ]
    }
   ],
   "source": [
    "file_list = sorted(os.listdir(conf.raw_data_path))\n",
    "\n",
    "for raw_file_name in tqdm(file_list):\n",
    "    part = raw_file_name[-3]\n",
    "    data_path = conf.raw_lzo_path + raw_file_name\n",
    "    df = read_data(data_path)\n",
    "    df['day'] = pd.to_datetime( df['tweet_timestamp'] , unit='s' ).dt.day\n",
    "\n",
    "    for i in (range(df['day'].min(), df['day'].max()+1)): # 4~24\n",
    "        if i >= 10:\n",
    "            day = str(i)\n",
    "        else:\n",
    "            day = '0' + str(i)\n",
    "\n",
    "        # dir_path = f'{conf.dataset_path}/2102{day}'\n",
    "        # # makedir\n",
    "        # if not os.path.exists(dir_path):\n",
    "        #     os.makedirs(dir_path)\n",
    "\n",
    "        # save\n",
    "        df[df['day'] == i].drop('day', axis=1).to_csv(f\"{conf.dataset_path}/part-2102{day}-{part}\", mode='a', header=False, sep='\\x01', index=False)\n",
    "    \n",
    "    del df\n",
    "\n",
    "    "
   ]
  },
  {
   "source": [
    "## test"
   ],
   "cell_type": "markdown",
   "metadata": {}
  },
  {
   "cell_type": "code",
   "execution_count": 11,
   "metadata": {},
   "outputs": [],
   "source": [
    "data_path = f'{conf.dataset_path}/part-210204-0'\n",
    "\n",
    "test = read_data(data_path)"
   ]
  },
  {
   "cell_type": "code",
   "execution_count": 58,
   "metadata": {},
   "outputs": [
    {
     "output_type": "execute_result",
     "data": {
      "text/plain": [
       "                                              text_tokens  \\\n",
       "0       101\\t72493\\t13439\\t16114\\t10149\\t10671\\t131\\t1...   \n",
       "1       101\\t17244\\t117\\t11299\\t84480\\t118\\t47271\\t113...   \n",
       "2       101\\t95154\\t3460\\t1923\\t12236\\t3188\\t4348\\t191...   \n",
       "3       101\\t56898\\t137\\t101989\\t92736\\t13372\\t131\\t14...   \n",
       "4       101\\t1997\\t61631\\t10634\\t3173\\t1912\\t16923\\t10...   \n",
       "...                                                   ...   \n",
       "144101  101\\t13744\\t10147\\t12741\\t10621\\t33098\\t46110\\...   \n",
       "144102  101\\t56898\\t137\\t94836\\t10418\\t26076\\t131\\t948...   \n",
       "144103  101\\t30665\\t30905\\t10312\\t10138\\t163\\t49196\\t2...   \n",
       "144104  101\\t56898\\t137\\t52227\\t11490\\t11273\\t14783\\t2...   \n",
       "144105  101\\t19561\\t10605\\t97764\\t10729\\t64008\\t30297\\...   \n",
       "\n",
       "                                                 hashtags  \\\n",
       "0                                                     NaN   \n",
       "1                                                     NaN   \n",
       "2                                                     NaN   \n",
       "3                                                     NaN   \n",
       "4       00F38D0A6E0E767A8DCFF70189B16F80\\t2B4A34148769...   \n",
       "...                                                   ...   \n",
       "144101                                                NaN   \n",
       "144102                                                NaN   \n",
       "144103                                                NaN   \n",
       "144104                                                NaN   \n",
       "144105                                                NaN   \n",
       "\n",
       "                                tweet_id         media links domains  \\\n",
       "0       A0B21C0A04D232A717B11517C8E3E253           NaN   NaN     NaN   \n",
       "1       7D8232B2C5FFB3B396DEB8F07EB0E779           NaN   NaN     NaN   \n",
       "2       441192F3FAA11581DCE6C31DAF410926  Photo\\tPhoto   NaN     NaN   \n",
       "3       9667E109D02427ED8222FC7381BDCA67  Photo\\tPhoto   NaN     NaN   \n",
       "4       20BC2CF97885E6CC9F0E182DDC606985           NaN   NaN     NaN   \n",
       "...                                  ...           ...   ...     ...   \n",
       "144101  0975D9E7A5AD8E950CE56D5973489AB6           NaN   NaN     NaN   \n",
       "144102  AD11607AB5F6C29E6EE0EB855C84F05A           NaN   NaN     NaN   \n",
       "144103  310516879EFDCC935B5886858B90A77B         Photo   NaN     NaN   \n",
       "144104  E46C19A7CFE4FB10DA1191EC1AFABA30           NaN   NaN     NaN   \n",
       "144105  B42CB5B47ABCCA8700686CD8F32696B6           NaN   NaN     NaN   \n",
       "\n",
       "       tweet_type                          language  tweet_timestamp  \\\n",
       "0        TopLevel  B8B04128918BBF54E2E178BFF1ABA833       1613313284   \n",
       "1           Quote  488B32D24BD4BB44172EB981C1BCA6FA       1613303449   \n",
       "2        TopLevel  E7F038DE3EAD397AEC9193686C911677       1613294377   \n",
       "3         Retweet  9FCF19233EAD65EA6E32C2E6DC03A444       1613295531   \n",
       "4        TopLevel  E7F038DE3EAD397AEC9193686C911677       1613301771   \n",
       "...           ...                               ...              ...   \n",
       "144101   TopLevel  DA13A5C3763C212D9D68FC69102DE5E5       1613300177   \n",
       "144102    Retweet  488B32D24BD4BB44172EB981C1BCA6FA       1613306467   \n",
       "144103   TopLevel  1F73BB863A39DB62B4A55B7E558DB1E8       1613318426   \n",
       "144104    Retweet  488B32D24BD4BB44172EB981C1BCA6FA       1613269298   \n",
       "144105   TopLevel  B0FA488F2911701DD8EC5B1EA5E322D8       1613329929   \n",
       "\n",
       "                              creator_id  ...  \\\n",
       "0       DFD0EE0ADAAB8E5FAAD0604BBE05081F  ...   \n",
       "1       D70507F1FF928548B39704E020B9A781  ...   \n",
       "2       23309ACC72E643024A65CDC0192334D6  ...   \n",
       "3       2E9907130DCF3D9F5E86EF6398A01C39  ...   \n",
       "4       CCA9D6C23A87AE4341891FFCB782FE1E  ...   \n",
       "...                                  ...  ...   \n",
       "144101  16B59AEDB3CDA24B2CC81058F4BA8748  ...   \n",
       "144102  568D262F6FEF65CD985EFCC80BD01EEA  ...   \n",
       "144103  CFC06377A695E4675165D6FB5AE8A543  ...   \n",
       "144104  0B848B7DEA68CA25D68B8681EFA265F5  ...   \n",
       "144105  D3D9F1F6F4CCFA079891511B0818FF03  ...   \n",
       "\n",
       "                              engager_id  engager_follower_count  \\\n",
       "0       02FEA62825EEBCBAB8596A090BB07E36                     136   \n",
       "1       2C3052CC8FFC55E4D738FCAAC152207F                     406   \n",
       "2       2718414C8DF930EAE55532EA06A509C2                      79   \n",
       "3       0927E0722215A31AF566CE29AC78DF6A                       0   \n",
       "4       08F351778A9562E63ED4477C895BE361                     906   \n",
       "...                                  ...                     ...   \n",
       "144101  BF47086775081B81CF8B9B3F630F253D                      70   \n",
       "144102  D8FBA716B3E36CCD646BA0303873625D                      46   \n",
       "144103  AD25741909FB73FAAAD7C256A0AC60D2                     251   \n",
       "144104  BE64B5F8055F08CC7AC9D8F84796BECA                     630   \n",
       "144105  1C3C0C32D7AEBCA253DC54EC85084951                      27   \n",
       "\n",
       "        engager_following_count  engager_is_verified engager_account_creation  \\\n",
       "0                           481                False               1493250440   \n",
       "1                           364                False               1340691110   \n",
       "2                           261                False               1582941194   \n",
       "3                            54                False               1345768982   \n",
       "4                           360                False               1480945046   \n",
       "...                         ...                  ...                      ...   \n",
       "144101                      121                False               1448997237   \n",
       "144102                      734                False               1481915158   \n",
       "144103                      233                False               1482816229   \n",
       "144104                     1013                False               1470450449   \n",
       "144105                       83                False               1540658011   \n",
       "\n",
       "        creator_follows_engager  reply_timestamp  retweet_timestamp  \\\n",
       "0                          True              NaN                NaN   \n",
       "1                         False              NaN                NaN   \n",
       "2                          True              NaN                NaN   \n",
       "3                         False              NaN                NaN   \n",
       "4                          True              NaN                NaN   \n",
       "...                         ...              ...                ...   \n",
       "144101                    False              NaN                NaN   \n",
       "144102                    False              NaN                NaN   \n",
       "144103                    False              NaN                NaN   \n",
       "144104                     True              NaN                NaN   \n",
       "144105                    False              NaN                NaN   \n",
       "\n",
       "        comment_timestamp  like_timestamp  \n",
       "0                     NaN    1.613342e+09  \n",
       "1                     NaN             NaN  \n",
       "2                     NaN    1.613300e+09  \n",
       "3                     NaN             NaN  \n",
       "4                     NaN             NaN  \n",
       "...                   ...             ...  \n",
       "144101                NaN             NaN  \n",
       "144102                NaN             NaN  \n",
       "144103                NaN             NaN  \n",
       "144104                NaN    1.613273e+09  \n",
       "144105                NaN    1.613332e+09  \n",
       "\n",
       "[144106 rows x 24 columns]"
      ],
      "text/html": "<div>\n<style scoped>\n    .dataframe tbody tr th:only-of-type {\n        vertical-align: middle;\n    }\n\n    .dataframe tbody tr th {\n        vertical-align: top;\n    }\n\n    .dataframe thead th {\n        text-align: right;\n    }\n</style>\n<table border=\"1\" class=\"dataframe\">\n  <thead>\n    <tr style=\"text-align: right;\">\n      <th></th>\n      <th>text_tokens</th>\n      <th>hashtags</th>\n      <th>tweet_id</th>\n      <th>media</th>\n      <th>links</th>\n      <th>domains</th>\n      <th>tweet_type</th>\n      <th>language</th>\n      <th>tweet_timestamp</th>\n      <th>creator_id</th>\n      <th>...</th>\n      <th>engager_id</th>\n      <th>engager_follower_count</th>\n      <th>engager_following_count</th>\n      <th>engager_is_verified</th>\n      <th>engager_account_creation</th>\n      <th>creator_follows_engager</th>\n      <th>reply_timestamp</th>\n      <th>retweet_timestamp</th>\n      <th>comment_timestamp</th>\n      <th>like_timestamp</th>\n    </tr>\n  </thead>\n  <tbody>\n    <tr>\n      <th>0</th>\n      <td>101\\t72493\\t13439\\t16114\\t10149\\t10671\\t131\\t1...</td>\n      <td>NaN</td>\n      <td>A0B21C0A04D232A717B11517C8E3E253</td>\n      <td>NaN</td>\n      <td>NaN</td>\n      <td>NaN</td>\n      <td>TopLevel</td>\n      <td>B8B04128918BBF54E2E178BFF1ABA833</td>\n      <td>1613313284</td>\n      <td>DFD0EE0ADAAB8E5FAAD0604BBE05081F</td>\n      <td>...</td>\n      <td>02FEA62825EEBCBAB8596A090BB07E36</td>\n      <td>136</td>\n      <td>481</td>\n      <td>False</td>\n      <td>1493250440</td>\n      <td>True</td>\n      <td>NaN</td>\n      <td>NaN</td>\n      <td>NaN</td>\n      <td>1.613342e+09</td>\n    </tr>\n    <tr>\n      <th>1</th>\n      <td>101\\t17244\\t117\\t11299\\t84480\\t118\\t47271\\t113...</td>\n      <td>NaN</td>\n      <td>7D8232B2C5FFB3B396DEB8F07EB0E779</td>\n      <td>NaN</td>\n      <td>NaN</td>\n      <td>NaN</td>\n      <td>Quote</td>\n      <td>488B32D24BD4BB44172EB981C1BCA6FA</td>\n      <td>1613303449</td>\n      <td>D70507F1FF928548B39704E020B9A781</td>\n      <td>...</td>\n      <td>2C3052CC8FFC55E4D738FCAAC152207F</td>\n      <td>406</td>\n      <td>364</td>\n      <td>False</td>\n      <td>1340691110</td>\n      <td>False</td>\n      <td>NaN</td>\n      <td>NaN</td>\n      <td>NaN</td>\n      <td>NaN</td>\n    </tr>\n    <tr>\n      <th>2</th>\n      <td>101\\t95154\\t3460\\t1923\\t12236\\t3188\\t4348\\t191...</td>\n      <td>NaN</td>\n      <td>441192F3FAA11581DCE6C31DAF410926</td>\n      <td>Photo\\tPhoto</td>\n      <td>NaN</td>\n      <td>NaN</td>\n      <td>TopLevel</td>\n      <td>E7F038DE3EAD397AEC9193686C911677</td>\n      <td>1613294377</td>\n      <td>23309ACC72E643024A65CDC0192334D6</td>\n      <td>...</td>\n      <td>2718414C8DF930EAE55532EA06A509C2</td>\n      <td>79</td>\n      <td>261</td>\n      <td>False</td>\n      <td>1582941194</td>\n      <td>True</td>\n      <td>NaN</td>\n      <td>NaN</td>\n      <td>NaN</td>\n      <td>1.613300e+09</td>\n    </tr>\n    <tr>\n      <th>3</th>\n      <td>101\\t56898\\t137\\t101989\\t92736\\t13372\\t131\\t14...</td>\n      <td>NaN</td>\n      <td>9667E109D02427ED8222FC7381BDCA67</td>\n      <td>Photo\\tPhoto</td>\n      <td>NaN</td>\n      <td>NaN</td>\n      <td>Retweet</td>\n      <td>9FCF19233EAD65EA6E32C2E6DC03A444</td>\n      <td>1613295531</td>\n      <td>2E9907130DCF3D9F5E86EF6398A01C39</td>\n      <td>...</td>\n      <td>0927E0722215A31AF566CE29AC78DF6A</td>\n      <td>0</td>\n      <td>54</td>\n      <td>False</td>\n      <td>1345768982</td>\n      <td>False</td>\n      <td>NaN</td>\n      <td>NaN</td>\n      <td>NaN</td>\n      <td>NaN</td>\n    </tr>\n    <tr>\n      <th>4</th>\n      <td>101\\t1997\\t61631\\t10634\\t3173\\t1912\\t16923\\t10...</td>\n      <td>00F38D0A6E0E767A8DCFF70189B16F80\\t2B4A34148769...</td>\n      <td>20BC2CF97885E6CC9F0E182DDC606985</td>\n      <td>NaN</td>\n      <td>NaN</td>\n      <td>NaN</td>\n      <td>TopLevel</td>\n      <td>E7F038DE3EAD397AEC9193686C911677</td>\n      <td>1613301771</td>\n      <td>CCA9D6C23A87AE4341891FFCB782FE1E</td>\n      <td>...</td>\n      <td>08F351778A9562E63ED4477C895BE361</td>\n      <td>906</td>\n      <td>360</td>\n      <td>False</td>\n      <td>1480945046</td>\n      <td>True</td>\n      <td>NaN</td>\n      <td>NaN</td>\n      <td>NaN</td>\n      <td>NaN</td>\n    </tr>\n    <tr>\n      <th>...</th>\n      <td>...</td>\n      <td>...</td>\n      <td>...</td>\n      <td>...</td>\n      <td>...</td>\n      <td>...</td>\n      <td>...</td>\n      <td>...</td>\n      <td>...</td>\n      <td>...</td>\n      <td>...</td>\n      <td>...</td>\n      <td>...</td>\n      <td>...</td>\n      <td>...</td>\n      <td>...</td>\n      <td>...</td>\n      <td>...</td>\n      <td>...</td>\n      <td>...</td>\n      <td>...</td>\n    </tr>\n    <tr>\n      <th>144101</th>\n      <td>101\\t13744\\t10147\\t12741\\t10621\\t33098\\t46110\\...</td>\n      <td>NaN</td>\n      <td>0975D9E7A5AD8E950CE56D5973489AB6</td>\n      <td>NaN</td>\n      <td>NaN</td>\n      <td>NaN</td>\n      <td>TopLevel</td>\n      <td>DA13A5C3763C212D9D68FC69102DE5E5</td>\n      <td>1613300177</td>\n      <td>16B59AEDB3CDA24B2CC81058F4BA8748</td>\n      <td>...</td>\n      <td>BF47086775081B81CF8B9B3F630F253D</td>\n      <td>70</td>\n      <td>121</td>\n      <td>False</td>\n      <td>1448997237</td>\n      <td>False</td>\n      <td>NaN</td>\n      <td>NaN</td>\n      <td>NaN</td>\n      <td>NaN</td>\n    </tr>\n    <tr>\n      <th>144102</th>\n      <td>101\\t56898\\t137\\t94836\\t10418\\t26076\\t131\\t948...</td>\n      <td>NaN</td>\n      <td>AD11607AB5F6C29E6EE0EB855C84F05A</td>\n      <td>NaN</td>\n      <td>NaN</td>\n      <td>NaN</td>\n      <td>Retweet</td>\n      <td>488B32D24BD4BB44172EB981C1BCA6FA</td>\n      <td>1613306467</td>\n      <td>568D262F6FEF65CD985EFCC80BD01EEA</td>\n      <td>...</td>\n      <td>D8FBA716B3E36CCD646BA0303873625D</td>\n      <td>46</td>\n      <td>734</td>\n      <td>False</td>\n      <td>1481915158</td>\n      <td>False</td>\n      <td>NaN</td>\n      <td>NaN</td>\n      <td>NaN</td>\n      <td>NaN</td>\n    </tr>\n    <tr>\n      <th>144103</th>\n      <td>101\\t30665\\t30905\\t10312\\t10138\\t163\\t49196\\t2...</td>\n      <td>NaN</td>\n      <td>310516879EFDCC935B5886858B90A77B</td>\n      <td>Photo</td>\n      <td>NaN</td>\n      <td>NaN</td>\n      <td>TopLevel</td>\n      <td>1F73BB863A39DB62B4A55B7E558DB1E8</td>\n      <td>1613318426</td>\n      <td>CFC06377A695E4675165D6FB5AE8A543</td>\n      <td>...</td>\n      <td>AD25741909FB73FAAAD7C256A0AC60D2</td>\n      <td>251</td>\n      <td>233</td>\n      <td>False</td>\n      <td>1482816229</td>\n      <td>False</td>\n      <td>NaN</td>\n      <td>NaN</td>\n      <td>NaN</td>\n      <td>NaN</td>\n    </tr>\n    <tr>\n      <th>144104</th>\n      <td>101\\t56898\\t137\\t52227\\t11490\\t11273\\t14783\\t2...</td>\n      <td>NaN</td>\n      <td>E46C19A7CFE4FB10DA1191EC1AFABA30</td>\n      <td>NaN</td>\n      <td>NaN</td>\n      <td>NaN</td>\n      <td>Retweet</td>\n      <td>488B32D24BD4BB44172EB981C1BCA6FA</td>\n      <td>1613269298</td>\n      <td>0B848B7DEA68CA25D68B8681EFA265F5</td>\n      <td>...</td>\n      <td>BE64B5F8055F08CC7AC9D8F84796BECA</td>\n      <td>630</td>\n      <td>1013</td>\n      <td>False</td>\n      <td>1470450449</td>\n      <td>True</td>\n      <td>NaN</td>\n      <td>NaN</td>\n      <td>NaN</td>\n      <td>1.613273e+09</td>\n    </tr>\n    <tr>\n      <th>144105</th>\n      <td>101\\t19561\\t10605\\t97764\\t10729\\t64008\\t30297\\...</td>\n      <td>NaN</td>\n      <td>B42CB5B47ABCCA8700686CD8F32696B6</td>\n      <td>NaN</td>\n      <td>NaN</td>\n      <td>NaN</td>\n      <td>TopLevel</td>\n      <td>B0FA488F2911701DD8EC5B1EA5E322D8</td>\n      <td>1613329929</td>\n      <td>D3D9F1F6F4CCFA079891511B0818FF03</td>\n      <td>...</td>\n      <td>1C3C0C32D7AEBCA253DC54EC85084951</td>\n      <td>27</td>\n      <td>83</td>\n      <td>False</td>\n      <td>1540658011</td>\n      <td>False</td>\n      <td>NaN</td>\n      <td>NaN</td>\n      <td>NaN</td>\n      <td>1.613332e+09</td>\n    </tr>\n  </tbody>\n</table>\n<p>144106 rows × 24 columns</p>\n</div>"
     },
     "metadata": {},
     "execution_count": 58
    }
   ],
   "source": [
    "test"
   ]
  },
  {
   "cell_type": "code",
   "execution_count": null,
   "metadata": {},
   "outputs": [],
   "source": []
  }
 ]
}