{
 "metadata": {
  "language_info": {
   "codemirror_mode": {
    "name": "ipython",
    "version": 3
   },
   "file_extension": ".py",
   "mimetype": "text/x-python",
   "name": "python",
   "nbconvert_exporter": "python",
   "pygments_lexer": "ipython3",
   "version": "3.7.10-final"
  },
  "orig_nbformat": 2,
  "kernelspec": {
   "name": "python3710jvsc74a57bd0c4c1a3e9c3a39a0885e9d9bd6e4723f2ede522dfea9ed13682022cc292aed1ac",
   "display_name": "Python 3.7.10 64-bit ('dask-cudf': conda)"
  }
 },
 "nbformat": 4,
 "nbformat_minor": 2,
 "cells": [
  {
   "cell_type": "code",
   "execution_count": 3,
   "metadata": {},
   "outputs": [],
   "source": [
    "import sys\n",
    "sys.path.append('..')\n",
    "\n",
    "from utils.cuda_cluster import *\n",
    "from utils.dataset import *\n",
    "from utils.util import save_memory\n",
    "import dask as dask, dask_cudf\n",
    "\n",
    "from tqdm import tqdm\n",
    "\n",
    "import core.config as conf"
   ]
  },
  {
   "cell_type": "code",
   "execution_count": 4,
   "metadata": {},
   "outputs": [],
   "source": [
    "\n",
    "data_path = conf.raw_data_path + 'part-00175'\n",
    "df = read_data(data_path, n_partitions=conf.n_partitions)\n",
    "df.columns = conf.raw_features + conf.labels\n",
    "\n",
    "df = df.drop('text_tokens', axis=1)\n",
    "\n",
    "df, = dask.persist(df)\n",
    "_ = wait(df)"
   ]
  },
  {
   "cell_type": "code",
   "execution_count": 5,
   "metadata": {},
   "outputs": [
    {
     "output_type": "execute_result",
     "data": {
      "text/plain": [
       "Index(['hashtags', 'tweet_id', 'media', 'links', 'domains', 'tweet_type',\n",
       "       'language', 'tweet_timestamp', 'creator_id', 'creator_follower_count',\n",
       "       'creator_following_count', 'creator_is_verified',\n",
       "       'creator_account_creation', 'engager_id', 'enaging_user_follower_count',\n",
       "       'engager_following_count', 'engager_is_verified',\n",
       "       'engager_account_creation', 'creator_follows_engager',\n",
       "       'reply_timestamp', 'retweet_timestamp',\n",
       "       'retweet_with_comment_timestamp', 'like_timestamp'],\n",
       "      dtype='object')"
      ]
     },
     "metadata": {},
     "execution_count": 5
    }
   ],
   "source": [
    "df.columns"
   ]
  },
  {
   "cell_type": "code",
   "execution_count": 6,
   "metadata": {},
   "outputs": [
    {
     "output_type": "stream",
     "name": "stderr",
     "text": [
      "100%|██████████| 4/4 [00:05<00:00,  1.31s/it]\n",
      " 47%|████▋     | 7/15 [00:00<00:00, 69739.02it/s]\n",
      "100%|██████████| 3/3 [00:11<00:00,  3.78s/it]\n",
      "100%|██████████| 3/3 [00:00<00:00,  4.02it/s]\n"
     ]
    }
   ],
   "source": [
    "features = ['creator_id', 'engager_id', 'tweet_id', 'tweet_type', 'language', 'creator_follower_count', 'creator_following_count', 'domains', 'media', 'tweet_timestamp']\n",
    "df = feature_extraction(df, features=features, labels=conf.labels)"
   ]
  },
  {
   "cell_type": "code",
   "execution_count": 7,
   "metadata": {},
   "outputs": [
    {
     "output_type": "execute_result",
     "data": {
      "text/plain": [
       "                         creator_id                        engager_id  \\\n",
       "0  51AA232EC3465EF97AD10F86F4D0FDAF  E080FA54ADDDE2AD60D16732B6A21873   \n",
       "1  B827BA8BEE7FC11C2947C32DB34B0166  F9D10F33314377A87D26ADD2F6C9BDE6   \n",
       "2  C8C9007AF0441782FCFD7B3F1AA3A0B9  0FDAE3795B5418C9FE09B7B7E007D2AF   \n",
       "3  6C0AC44474BD6DF4ACC29F651D2DC85A  660FD10143BBE8D295B5621AE275746B   \n",
       "4  3725049251C78314DCBC2DA6A5030A1D  0F07542C9C78CA86DCCC4EF0BA16A791   \n",
       "\n",
       "   creator_follower_count  creator_following_count  tweet_timestamp  reply  \\\n",
       "0                    1175                      927       1613997245      0   \n",
       "1                     372                      585       1612589286      0   \n",
       "2                     306                      210       1612630944      0   \n",
       "3                      72                      122       1613042890      0   \n",
       "4                    3444                      982       1612891741      0   \n",
       "\n",
       "   retweet  like  dt_day  dt_dow  dt_hour  language  tweet_type  media    id  \\\n",
       "0        0     0      22       0       12        61           1      5  6177   \n",
       "1        0     1       6       5        5        19           1      0  6193   \n",
       "2        0     1       6       5       17        19           1      7  6185   \n",
       "3        0     1      11       3       11        19           1     10  6201   \n",
       "4        0     0       9       1       17        19           1      0  6178   \n",
       "\n",
       "   domains  \n",
       "0        0  \n",
       "1        0  \n",
       "2        0  \n",
       "3        0  \n",
       "4        0  "
      ],
      "text/html": "<div>\n<style scoped>\n    .dataframe tbody tr th:only-of-type {\n        vertical-align: middle;\n    }\n\n    .dataframe tbody tr th {\n        vertical-align: top;\n    }\n\n    .dataframe thead th {\n        text-align: right;\n    }\n</style>\n<table border=\"1\" class=\"dataframe\">\n  <thead>\n    <tr style=\"text-align: right;\">\n      <th></th>\n      <th>creator_id</th>\n      <th>engager_id</th>\n      <th>creator_follower_count</th>\n      <th>creator_following_count</th>\n      <th>tweet_timestamp</th>\n      <th>reply</th>\n      <th>retweet</th>\n      <th>like</th>\n      <th>dt_day</th>\n      <th>dt_dow</th>\n      <th>dt_hour</th>\n      <th>language</th>\n      <th>tweet_type</th>\n      <th>media</th>\n      <th>id</th>\n      <th>domains</th>\n    </tr>\n  </thead>\n  <tbody>\n    <tr>\n      <th>0</th>\n      <td>51AA232EC3465EF97AD10F86F4D0FDAF</td>\n      <td>E080FA54ADDDE2AD60D16732B6A21873</td>\n      <td>1175</td>\n      <td>927</td>\n      <td>1613997245</td>\n      <td>0</td>\n      <td>0</td>\n      <td>0</td>\n      <td>22</td>\n      <td>0</td>\n      <td>12</td>\n      <td>61</td>\n      <td>1</td>\n      <td>5</td>\n      <td>6177</td>\n      <td>0</td>\n    </tr>\n    <tr>\n      <th>1</th>\n      <td>B827BA8BEE7FC11C2947C32DB34B0166</td>\n      <td>F9D10F33314377A87D26ADD2F6C9BDE6</td>\n      <td>372</td>\n      <td>585</td>\n      <td>1612589286</td>\n      <td>0</td>\n      <td>0</td>\n      <td>1</td>\n      <td>6</td>\n      <td>5</td>\n      <td>5</td>\n      <td>19</td>\n      <td>1</td>\n      <td>0</td>\n      <td>6193</td>\n      <td>0</td>\n    </tr>\n    <tr>\n      <th>2</th>\n      <td>C8C9007AF0441782FCFD7B3F1AA3A0B9</td>\n      <td>0FDAE3795B5418C9FE09B7B7E007D2AF</td>\n      <td>306</td>\n      <td>210</td>\n      <td>1612630944</td>\n      <td>0</td>\n      <td>0</td>\n      <td>1</td>\n      <td>6</td>\n      <td>5</td>\n      <td>17</td>\n      <td>19</td>\n      <td>1</td>\n      <td>7</td>\n      <td>6185</td>\n      <td>0</td>\n    </tr>\n    <tr>\n      <th>3</th>\n      <td>6C0AC44474BD6DF4ACC29F651D2DC85A</td>\n      <td>660FD10143BBE8D295B5621AE275746B</td>\n      <td>72</td>\n      <td>122</td>\n      <td>1613042890</td>\n      <td>0</td>\n      <td>0</td>\n      <td>1</td>\n      <td>11</td>\n      <td>3</td>\n      <td>11</td>\n      <td>19</td>\n      <td>1</td>\n      <td>10</td>\n      <td>6201</td>\n      <td>0</td>\n    </tr>\n    <tr>\n      <th>4</th>\n      <td>3725049251C78314DCBC2DA6A5030A1D</td>\n      <td>0F07542C9C78CA86DCCC4EF0BA16A791</td>\n      <td>3444</td>\n      <td>982</td>\n      <td>1612891741</td>\n      <td>0</td>\n      <td>0</td>\n      <td>0</td>\n      <td>9</td>\n      <td>1</td>\n      <td>17</td>\n      <td>19</td>\n      <td>1</td>\n      <td>0</td>\n      <td>6178</td>\n      <td>0</td>\n    </tr>\n  </tbody>\n</table>\n</div>"
     },
     "metadata": {},
     "execution_count": 7
    }
   ],
   "source": [
    "df.head()"
   ]
  },
  {
   "cell_type": "code",
   "execution_count": 8,
   "metadata": {},
   "outputs": [
    {
     "output_type": "stream",
     "name": "stderr",
     "text": [
      "  0%|          | 0/4 [00:00<?, ?it/s]TE_engager_id_like\n",
      " 25%|██▌       | 1/4 [00:27<01:21, 27.27s/it]TE_engager_id_tweet_type_language_like\n",
      "distributed.utils_perf - WARNING - full garbage collections took 12% CPU time recently (threshold: 10%)\n",
      "distributed.utils_perf - WARNING - full garbage collections took 10% CPU time recently (threshold: 10%)\n",
      "distributed.utils_perf - WARNING - full garbage collections took 11% CPU time recently (threshold: 10%)\n",
      "distributed.utils_perf - WARNING - full garbage collections took 11% CPU time recently (threshold: 10%)\n",
      "distributed.utils_perf - WARNING - full garbage collections took 11% CPU time recently (threshold: 10%)\n",
      "distributed.utils_perf - WARNING - full garbage collections took 12% CPU time recently (threshold: 10%)\n",
      "distributed.utils_perf - WARNING - full garbage collections took 12% CPU time recently (threshold: 10%)\n",
      " 50%|█████     | 2/4 [01:21<01:25, 43.00s/it]TE_creator_id_like\n",
      " 75%|███████▌  | 3/4 [01:40<00:32, 32.28s/it]TE_domains_media_tweet_type_language_like\n",
      "100%|██████████| 4/4 [01:45<00:00, 26.29s/it]\n"
     ]
    }
   ],
   "source": [
    "t = 'like'\n",
    "df = df.compute().to_pandas() # to pandas\n",
    "for c in tqdm([\n",
    "    ['engager_id'],\n",
    "    ['engager_id','tweet_type','language'],\n",
    "    ['creator_id'],\n",
    "    ['domains','media','tweet_type','language']\n",
    "    ]):\n",
    "    fname = 'TE_'+'_'.join(c)+'_'+t\n",
    "    print( fname )\n",
    "    df[fname] = tartget_encoding( df, c, t, 20, 0 )\n",
    "df = cudf.from_pandas(df)\n",
    "df = dask_cudf.from_cudf(df,  npartitions=conf.n_partitions).reset_index().drop('index', axis=1)"
   ]
  },
  {
   "cell_type": "code",
   "execution_count": 35,
   "metadata": {},
   "outputs": [],
   "source": [
    "file_path = f'{conf.preproc_path}/train/' + 'part-00175.parquet'\n",
    "save_parquet(df, file_path)"
   ]
  },
  {
   "cell_type": "code",
   "execution_count": 9,
   "metadata": {},
   "outputs": [],
   "source": [
    "# del df \n",
    "\n",
    "# client.close()\n",
    "# cluster.close()"
   ]
  },
  {
   "cell_type": "code",
   "execution_count": 36,
   "metadata": {},
   "outputs": [
    {
     "output_type": "execute_result",
     "data": {
      "text/plain": [
       "                         creator_id                        engager_id  \\\n",
       "0  51AA232EC3465EF97AD10F86F4D0FDAF  E080FA54ADDDE2AD60D16732B6A21873   \n",
       "1  58DC3AFB7649EDED0EB2A710CE85924C  0C83D6251B3ED28945F1194E6E359DBC   \n",
       "2  E1386586D16DC85D18BBBBE2D966F014  DC03F3C543AC389D50C4254BA2CB10DF   \n",
       "3  275F79705BFB784B7D626677F1966EED  2D41203A7D3A80F093B2EAA879B2E773   \n",
       "4  A80C76361A379BC3CCF9E81CCEC21A08  0AAE6B93BB827DBC2352E7A1A0600A12   \n",
       "\n",
       "   creator_follower_count  creator_following_count  tweet_timestamp  reply  \\\n",
       "0                    1175                      927       1613997245      0   \n",
       "1                   10692                     8394       1614082017      0   \n",
       "2                   67489                      155       1612988313      0   \n",
       "3                   11654                      136       1613404808      0   \n",
       "4                    1109                     1206       1612684449      1   \n",
       "\n",
       "   retweet  like  dt_day  dt_dow  dt_hour  language  tweet_type  media  \\\n",
       "0        0     0      22       0       12        61           1      5   \n",
       "1        0     0      23       1       12        61           2      0   \n",
       "2        0     0      10       2       20         7           2      4   \n",
       "3        0     1      15       0       16        19           2      4   \n",
       "4        0     0       7       6        7        46           2      1   \n",
       "\n",
       "        id  domains TE_engager_id_like TE_engager_id_tweet_type_language_like  \\\n",
       "0     6177        0               <NA>                                   <NA>   \n",
       "1   287221        0               <NA>                                   <NA>   \n",
       "2   550281        0               <NA>                                   <NA>   \n",
       "3   830432        0               <NA>                                   <NA>   \n",
       "4  1098136        0               <NA>                                   <NA>   \n",
       "\n",
       "  TE_creator_id_like  TE_domains_media_tweet_type_language_like  \n",
       "0               <NA>                                   0.349328  \n",
       "1               <NA>                                   0.454765  \n",
       "2               <NA>                                   0.589558  \n",
       "3               <NA>                                   0.546565  \n",
       "4               <NA>                                   0.493198  "
      ],
      "text/html": "<div>\n<style scoped>\n    .dataframe tbody tr th:only-of-type {\n        vertical-align: middle;\n    }\n\n    .dataframe tbody tr th {\n        vertical-align: top;\n    }\n\n    .dataframe thead th {\n        text-align: right;\n    }\n</style>\n<table border=\"1\" class=\"dataframe\">\n  <thead>\n    <tr style=\"text-align: right;\">\n      <th></th>\n      <th>creator_id</th>\n      <th>engager_id</th>\n      <th>creator_follower_count</th>\n      <th>creator_following_count</th>\n      <th>tweet_timestamp</th>\n      <th>reply</th>\n      <th>retweet</th>\n      <th>like</th>\n      <th>dt_day</th>\n      <th>dt_dow</th>\n      <th>dt_hour</th>\n      <th>language</th>\n      <th>tweet_type</th>\n      <th>media</th>\n      <th>id</th>\n      <th>domains</th>\n      <th>TE_engager_id_like</th>\n      <th>TE_engager_id_tweet_type_language_like</th>\n      <th>TE_creator_id_like</th>\n      <th>TE_domains_media_tweet_type_language_like</th>\n    </tr>\n  </thead>\n  <tbody>\n    <tr>\n      <th>0</th>\n      <td>51AA232EC3465EF97AD10F86F4D0FDAF</td>\n      <td>E080FA54ADDDE2AD60D16732B6A21873</td>\n      <td>1175</td>\n      <td>927</td>\n      <td>1613997245</td>\n      <td>0</td>\n      <td>0</td>\n      <td>0</td>\n      <td>22</td>\n      <td>0</td>\n      <td>12</td>\n      <td>61</td>\n      <td>1</td>\n      <td>5</td>\n      <td>6177</td>\n      <td>0</td>\n      <td>&lt;NA&gt;</td>\n      <td>&lt;NA&gt;</td>\n      <td>&lt;NA&gt;</td>\n      <td>0.349328</td>\n    </tr>\n    <tr>\n      <th>1</th>\n      <td>58DC3AFB7649EDED0EB2A710CE85924C</td>\n      <td>0C83D6251B3ED28945F1194E6E359DBC</td>\n      <td>10692</td>\n      <td>8394</td>\n      <td>1614082017</td>\n      <td>0</td>\n      <td>0</td>\n      <td>0</td>\n      <td>23</td>\n      <td>1</td>\n      <td>12</td>\n      <td>61</td>\n      <td>2</td>\n      <td>0</td>\n      <td>287221</td>\n      <td>0</td>\n      <td>&lt;NA&gt;</td>\n      <td>&lt;NA&gt;</td>\n      <td>&lt;NA&gt;</td>\n      <td>0.454765</td>\n    </tr>\n    <tr>\n      <th>2</th>\n      <td>E1386586D16DC85D18BBBBE2D966F014</td>\n      <td>DC03F3C543AC389D50C4254BA2CB10DF</td>\n      <td>67489</td>\n      <td>155</td>\n      <td>1612988313</td>\n      <td>0</td>\n      <td>0</td>\n      <td>0</td>\n      <td>10</td>\n      <td>2</td>\n      <td>20</td>\n      <td>7</td>\n      <td>2</td>\n      <td>4</td>\n      <td>550281</td>\n      <td>0</td>\n      <td>&lt;NA&gt;</td>\n      <td>&lt;NA&gt;</td>\n      <td>&lt;NA&gt;</td>\n      <td>0.589558</td>\n    </tr>\n    <tr>\n      <th>3</th>\n      <td>275F79705BFB784B7D626677F1966EED</td>\n      <td>2D41203A7D3A80F093B2EAA879B2E773</td>\n      <td>11654</td>\n      <td>136</td>\n      <td>1613404808</td>\n      <td>0</td>\n      <td>0</td>\n      <td>1</td>\n      <td>15</td>\n      <td>0</td>\n      <td>16</td>\n      <td>19</td>\n      <td>2</td>\n      <td>4</td>\n      <td>830432</td>\n      <td>0</td>\n      <td>&lt;NA&gt;</td>\n      <td>&lt;NA&gt;</td>\n      <td>&lt;NA&gt;</td>\n      <td>0.546565</td>\n    </tr>\n    <tr>\n      <th>4</th>\n      <td>A80C76361A379BC3CCF9E81CCEC21A08</td>\n      <td>0AAE6B93BB827DBC2352E7A1A0600A12</td>\n      <td>1109</td>\n      <td>1206</td>\n      <td>1612684449</td>\n      <td>1</td>\n      <td>0</td>\n      <td>0</td>\n      <td>7</td>\n      <td>6</td>\n      <td>7</td>\n      <td>46</td>\n      <td>2</td>\n      <td>1</td>\n      <td>1098136</td>\n      <td>0</td>\n      <td>&lt;NA&gt;</td>\n      <td>&lt;NA&gt;</td>\n      <td>&lt;NA&gt;</td>\n      <td>0.493198</td>\n    </tr>\n  </tbody>\n</table>\n</div>"
     },
     "metadata": {},
     "execution_count": 36
    }
   ],
   "source": [
    "df.head()"
   ]
  },
  {
   "cell_type": "code",
   "execution_count": null,
   "metadata": {},
   "outputs": [],
   "source": []
  }
 ]
}