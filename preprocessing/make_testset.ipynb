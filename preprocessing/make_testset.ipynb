{
 "metadata": {
  "language_info": {
   "codemirror_mode": {
    "name": "ipython",
    "version": 3
   },
   "file_extension": ".py",
   "mimetype": "text/x-python",
   "name": "python",
   "nbconvert_exporter": "python",
   "pygments_lexer": "ipython3",
   "version": "3.7.10-final"
  },
  "orig_nbformat": 2,
  "kernelspec": {
   "name": "dask-cudf",
   "display_name": "Python 3.7.10 64-bit ('dask-cudf': conda)"
  }
 },
 "nbformat": 4,
 "nbformat_minor": 2,
 "cells": [
  {
   "cell_type": "code",
   "execution_count": 2,
   "metadata": {},
   "outputs": [],
   "source": [
    "import sys\n",
    "sys.path.append('..')\n",
    "\n",
    "import numpy as np\n",
    "import pandas as pd\n",
    "pd.set_option('display.max_columns', 500)\n",
    "\n",
    "\n",
    "from utils.util import *\n",
    "from utils.preprocessing import *\n",
    "\n",
    "import core.config as conf"
   ]
  },
  {
   "cell_type": "code",
   "execution_count": 3,
   "metadata": {},
   "outputs": [
    {
     "output_type": "execute_result",
     "data": {
      "text/plain": [
       "0"
      ]
     },
     "metadata": {},
     "execution_count": 3
    }
   ],
   "source": [
    "file_name = 'part-00020'\n",
    "path = f'{conf.raw_lzo_path}/{file_name}'\n",
    "df = read_data(path)\n",
    "gc.collect()"
   ]
  },
  {
   "cell_type": "code",
   "execution_count": 4,
   "metadata": {},
   "outputs": [],
   "source": [
    "df = df.drop(conf.labels, axis=1)"
   ]
  },
  {
   "cell_type": "code",
   "execution_count": 5,
   "metadata": {},
   "outputs": [
    {
     "output_type": "execute_result",
     "data": {
      "text/plain": [
       "Index(['text_tokens', 'hashtags', 'tweet_id', 'media', 'links', 'domains',\n",
       "       'tweet_type', 'language', 'tweet_timestamp', 'creator_id',\n",
       "       'creator_follower_count', 'creator_following_count',\n",
       "       'creator_is_verified', 'creator_account_creation', 'engager_id',\n",
       "       'engager_follower_count', 'engager_following_count',\n",
       "       'engager_is_verified', 'engager_account_creation',\n",
       "       'creator_follows_engager'],\n",
       "      dtype='object')"
      ]
     },
     "metadata": {},
     "execution_count": 5
    }
   ],
   "source": [
    "df.columns"
   ]
  },
  {
   "cell_type": "code",
   "execution_count": 7,
   "metadata": {},
   "outputs": [],
   "source": [
    "df.to_csv(f'{conf.project_root}test/{file_name}', index=False)"
   ]
  },
  {
   "cell_type": "code",
   "execution_count": 8,
   "metadata": {},
   "outputs": [
    {
     "output_type": "execute_result",
     "data": {
      "text/plain": [
       "                                         text_tokens  \\\n",
       "0  101\\t56898\\t137\\t15212\\t12772\\t168\\t131\\t87692...   \n",
       "1  101\\t10117\\t13190\\t10108\\t12140\\t11061\\t13914\\...   \n",
       "2  101\\t10766\\t15254\\t31043\\t10104\\t187\\t112\\t154...   \n",
       "3  101\\t20754\\t10104\\t58168\\t117\\t12001\\t10245\\t1...   \n",
       "4  101\\t56898\\t137\\t61116\\t168\\t58985\\t131\\t11741...   \n",
       "\n",
       "                                            hashtags  \\\n",
       "0                                                NaN   \n",
       "1  146750B0EC1F0CE555A2C3DFE3824C47\\tD857520E02B3...   \n",
       "2                                                NaN   \n",
       "3  CE5B75DF0C79C4FEF837DC6384592DF7\\tC4FB06E370B0...   \n",
       "4                   9FA4F829DAE15B477C1922650D8359F8   \n",
       "\n",
       "                           tweet_id  media                             links  \\\n",
       "0  CA9F441C56B4D49D96B50F82DE3203B5  Photo                               NaN   \n",
       "1  8174A3044A3E99E37C7ED002EFB6025F    NaN                               NaN   \n",
       "2  0EF1AF32E395C2D941532C92E2F980D0    NaN  B990ECED7FADC7BED7844E1C26FF410E   \n",
       "3  9D142875AE4CB9B7C61E9D4D62D5A326    NaN                               NaN   \n",
       "4  BF82A97201D4C8D83CB7E7CF9239A3D1  Photo                               NaN   \n",
       "\n",
       "                            domains tweet_type  \\\n",
       "0                               NaN    Retweet   \n",
       "1                               NaN   TopLevel   \n",
       "2  35C841DDA4355D0C130A90A02A8FF01D   TopLevel   \n",
       "3                               NaN   TopLevel   \n",
       "4                               NaN    Retweet   \n",
       "\n",
       "                           language  tweet_timestamp  \\\n",
       "0  B0FA488F2911701DD8EC5B1EA5E322D8       1613966122   \n",
       "1  488B32D24BD4BB44172EB981C1BCA6FA       1613615967   \n",
       "2  E6936751CBF4F921F7DE1AEF33A16ED0       1613622132   \n",
       "3  23686A079CA538645BF6118A1EF51C8B       1613325847   \n",
       "4  B0FA488F2911701DD8EC5B1EA5E322D8       1613264270   \n",
       "\n",
       "                         creator_id  creator_follower_count  \\\n",
       "0  DF9024694348BCFD4ACEEE1007754F66                     935   \n",
       "1  801762D19B72BF0ED67946E26CAA6903                 1974218   \n",
       "2  AAC63571510FA57780E86E1266635833                     264   \n",
       "3  9D8DBDAFB7B8932004C15C3972DB88E4                     171   \n",
       "4  C49442B4B8C76ABD39580B9142BD55FF                     196   \n",
       "\n",
       "   creator_following_count  creator_is_verified  creator_account_creation  \\\n",
       "0                      673                False                1368119002   \n",
       "1                     2464                 True                1230906328   \n",
       "2                       19                False                1254733839   \n",
       "3                      485                False                1534528757   \n",
       "4                      245                False                1368930441   \n",
       "\n",
       "                         engager_id  engager_follower_count  \\\n",
       "0  DE1AA5C95FD2BBC9CDDFE7109037DADC                    1090   \n",
       "1  A025DB5A578742F207568CC9349B97FF                    2397   \n",
       "2  546C92C144784A42D80A1B9AD520BBB1                     198   \n",
       "3  D3C14035F2C6D26755833CE13825A221                     170   \n",
       "4  41549EB858BFCCA6933A862AFBEE5E6F                     161   \n",
       "\n",
       "   engager_following_count  engager_is_verified  engager_account_creation  \\\n",
       "0                      107                False                1551681294   \n",
       "1                     1188                False                1307428108   \n",
       "2                      360                False                1460646893   \n",
       "3                      613                False                1476705941   \n",
       "4                      218                False                1602088770   \n",
       "\n",
       "   creator_follows_engager  \n",
       "0                    False  \n",
       "1                    False  \n",
       "2                    False  \n",
       "3                     True  \n",
       "4                     True  "
      ],
      "text/html": "<div>\n<style scoped>\n    .dataframe tbody tr th:only-of-type {\n        vertical-align: middle;\n    }\n\n    .dataframe tbody tr th {\n        vertical-align: top;\n    }\n\n    .dataframe thead th {\n        text-align: right;\n    }\n</style>\n<table border=\"1\" class=\"dataframe\">\n  <thead>\n    <tr style=\"text-align: right;\">\n      <th></th>\n      <th>text_tokens</th>\n      <th>hashtags</th>\n      <th>tweet_id</th>\n      <th>media</th>\n      <th>links</th>\n      <th>domains</th>\n      <th>tweet_type</th>\n      <th>language</th>\n      <th>tweet_timestamp</th>\n      <th>creator_id</th>\n      <th>creator_follower_count</th>\n      <th>creator_following_count</th>\n      <th>creator_is_verified</th>\n      <th>creator_account_creation</th>\n      <th>engager_id</th>\n      <th>engager_follower_count</th>\n      <th>engager_following_count</th>\n      <th>engager_is_verified</th>\n      <th>engager_account_creation</th>\n      <th>creator_follows_engager</th>\n    </tr>\n  </thead>\n  <tbody>\n    <tr>\n      <th>0</th>\n      <td>101\\t56898\\t137\\t15212\\t12772\\t168\\t131\\t87692...</td>\n      <td>NaN</td>\n      <td>CA9F441C56B4D49D96B50F82DE3203B5</td>\n      <td>Photo</td>\n      <td>NaN</td>\n      <td>NaN</td>\n      <td>Retweet</td>\n      <td>B0FA488F2911701DD8EC5B1EA5E322D8</td>\n      <td>1613966122</td>\n      <td>DF9024694348BCFD4ACEEE1007754F66</td>\n      <td>935</td>\n      <td>673</td>\n      <td>False</td>\n      <td>1368119002</td>\n      <td>DE1AA5C95FD2BBC9CDDFE7109037DADC</td>\n      <td>1090</td>\n      <td>107</td>\n      <td>False</td>\n      <td>1551681294</td>\n      <td>False</td>\n    </tr>\n    <tr>\n      <th>1</th>\n      <td>101\\t10117\\t13190\\t10108\\t12140\\t11061\\t13914\\...</td>\n      <td>146750B0EC1F0CE555A2C3DFE3824C47\\tD857520E02B3...</td>\n      <td>8174A3044A3E99E37C7ED002EFB6025F</td>\n      <td>NaN</td>\n      <td>NaN</td>\n      <td>NaN</td>\n      <td>TopLevel</td>\n      <td>488B32D24BD4BB44172EB981C1BCA6FA</td>\n      <td>1613615967</td>\n      <td>801762D19B72BF0ED67946E26CAA6903</td>\n      <td>1974218</td>\n      <td>2464</td>\n      <td>True</td>\n      <td>1230906328</td>\n      <td>A025DB5A578742F207568CC9349B97FF</td>\n      <td>2397</td>\n      <td>1188</td>\n      <td>False</td>\n      <td>1307428108</td>\n      <td>False</td>\n    </tr>\n    <tr>\n      <th>2</th>\n      <td>101\\t10766\\t15254\\t31043\\t10104\\t187\\t112\\t154...</td>\n      <td>NaN</td>\n      <td>0EF1AF32E395C2D941532C92E2F980D0</td>\n      <td>NaN</td>\n      <td>B990ECED7FADC7BED7844E1C26FF410E</td>\n      <td>35C841DDA4355D0C130A90A02A8FF01D</td>\n      <td>TopLevel</td>\n      <td>E6936751CBF4F921F7DE1AEF33A16ED0</td>\n      <td>1613622132</td>\n      <td>AAC63571510FA57780E86E1266635833</td>\n      <td>264</td>\n      <td>19</td>\n      <td>False</td>\n      <td>1254733839</td>\n      <td>546C92C144784A42D80A1B9AD520BBB1</td>\n      <td>198</td>\n      <td>360</td>\n      <td>False</td>\n      <td>1460646893</td>\n      <td>False</td>\n    </tr>\n    <tr>\n      <th>3</th>\n      <td>101\\t20754\\t10104\\t58168\\t117\\t12001\\t10245\\t1...</td>\n      <td>CE5B75DF0C79C4FEF837DC6384592DF7\\tC4FB06E370B0...</td>\n      <td>9D142875AE4CB9B7C61E9D4D62D5A326</td>\n      <td>NaN</td>\n      <td>NaN</td>\n      <td>NaN</td>\n      <td>TopLevel</td>\n      <td>23686A079CA538645BF6118A1EF51C8B</td>\n      <td>1613325847</td>\n      <td>9D8DBDAFB7B8932004C15C3972DB88E4</td>\n      <td>171</td>\n      <td>485</td>\n      <td>False</td>\n      <td>1534528757</td>\n      <td>D3C14035F2C6D26755833CE13825A221</td>\n      <td>170</td>\n      <td>613</td>\n      <td>False</td>\n      <td>1476705941</td>\n      <td>True</td>\n    </tr>\n    <tr>\n      <th>4</th>\n      <td>101\\t56898\\t137\\t61116\\t168\\t58985\\t131\\t11741...</td>\n      <td>9FA4F829DAE15B477C1922650D8359F8</td>\n      <td>BF82A97201D4C8D83CB7E7CF9239A3D1</td>\n      <td>Photo</td>\n      <td>NaN</td>\n      <td>NaN</td>\n      <td>Retweet</td>\n      <td>B0FA488F2911701DD8EC5B1EA5E322D8</td>\n      <td>1613264270</td>\n      <td>C49442B4B8C76ABD39580B9142BD55FF</td>\n      <td>196</td>\n      <td>245</td>\n      <td>False</td>\n      <td>1368930441</td>\n      <td>41549EB858BFCCA6933A862AFBEE5E6F</td>\n      <td>161</td>\n      <td>218</td>\n      <td>False</td>\n      <td>1602088770</td>\n      <td>True</td>\n    </tr>\n  </tbody>\n</table>\n</div>"
     },
     "metadata": {},
     "execution_count": 8
    }
   ],
   "source": [
    "df.head()"
   ]
  },
  {
   "cell_type": "code",
   "execution_count": null,
   "metadata": {},
   "outputs": [],
   "source": []
  }
 ]
}