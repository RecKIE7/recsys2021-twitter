{
 "metadata": {
  "language_info": {
   "codemirror_mode": {
    "name": "ipython",
    "version": 3
   },
   "file_extension": ".py",
   "mimetype": "text/x-python",
   "name": "python",
   "nbconvert_exporter": "python",
   "pygments_lexer": "ipython3",
   "version": 3
  },
  "orig_nbformat": 2
 },
 "nbformat": 4,
 "nbformat_minor": 2,
 "cells": [
  {
   "source": [
    "# Hashtag related features\n",
    "\n",
    "tweet_feature_has_discriminative_hashtag_like: bool:\n",
    "- If the tweet contains a discriminative (w.r.t like engagements) hashtag.\n",
    "\n",
    "tweet_feature_has_discriminative_hashtag_retweet: bool:\n",
    "- If the tweet contains a discriminative (w.r.t retweet engagements) hashtag.\n",
    "\n",
    "tweet_feature_has_discriminative_hashtag_reply: bool:\n",
    "- If the tweet contains a discriminative (w.r.t reply engagements) hashtag.\n",
    "\n",
    "tweet_feature_has_discriminative_hashtag_comment: bool:\n",
    "- If the tweet contains a discriminative (w.r.t comment engagements) hashtag.\n",
    "\n",
    "tweet_feature_number_of_discriminative_hashtag_like: int:\n",
    "- Count of the discriminative (w.r.t like engagements) hashtags contained in a tweet.\n",
    "\n",
    "tweet_feature_number_of_discriminative_hashtag_retweet: int:\n",
    "- Count of the discriminative (w.r.t retweet engagements) hashtags contained in a tweet.\n",
    "\n",
    "tweet_feature_number_of_discriminative_hashtag_reply: int:\n",
    "- Count of the discriminative (w.r.t reply engagements) hashtags contained in a tweet.\n",
    "\n",
    "tweet_feature_number_of_discriminative_hashtag_comment: int:\n",
    "- Count of the discriminative (w.r.t comment engagements) hashtags contained in a tweet.\n",
    "\n"
   ],
   "cell_type": "markdown",
   "metadata": {}
  },
  {
   "cell_type": "code",
   "execution_count": null,
   "metadata": {},
   "outputs": [],
   "source": []
  }
 ]
}