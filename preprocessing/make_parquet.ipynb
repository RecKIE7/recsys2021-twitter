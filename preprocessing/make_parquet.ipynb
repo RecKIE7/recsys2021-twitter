{
 "cells": [
  {
   "cell_type": "code",
   "execution_count": 1,
   "metadata": {},
   "outputs": [],
   "source": [
    "import os, time\n",
    "os.environ[\"CUDA_VISIBLE_DEVICES\"]=\"0\"\n",
    "start = time.time()\n",
    "very_start = time.time()"
   ]
  },
  {
   "cell_type": "code",
   "execution_count": 2,
   "metadata": {},
   "outputs": [
    {
     "data": {
      "text/plain": [
       "'0.18.1'"
      ]
     },
     "execution_count": 2,
     "metadata": {},
     "output_type": "execute_result"
    }
   ],
   "source": [
    "import numpy as np\n",
    "from tqdm import tqdm\n",
    "from datetime import datetime\n",
    "import matplotlib.pyplot as plt\n",
    "import cudf, cupy, time, rmm\n",
    "cudf.__version__"
   ]
  },
  {
   "cell_type": "code",
   "execution_count": 3,
   "metadata": {},
   "outputs": [],
   "source": [
    "import dask as dask, dask_cudf\n",
    "from dask.distributed import Client, wait, progress\n",
    "from dask_cuda import LocalCUDACluster\n",
    "import subprocess"
   ]
  },
  {
   "cell_type": "code",
   "execution_count": 4,
   "metadata": {},
   "outputs": [],
   "source": [
    "from dask.diagnostics import ProgressBar\n",
    "\n",
    "pbar = ProgressBar()\n",
    "pbar.register()"
   ]
  },
  {
   "cell_type": "code",
   "execution_count": 5,
   "metadata": {},
   "outputs": [
    {
     "data": {
      "text/html": [
       "<table style=\"border: 2px solid white;\">\n",
       "<tr>\n",
       "<td style=\"vertical-align: top; border: 0px solid white\">\n",
       "<h3 style=\"text-align: left;\">Client</h3>\n",
       "<ul style=\"text-align: left; list-style: none; margin: 0; padding: 0;\">\n",
       "  <li><b>Scheduler: </b>tcp://127.0.0.1:34727</li>\n",
       "  <li><b>Dashboard: </b><a href='http://127.0.0.1:8787/status' target='_blank'>http://127.0.0.1:8787/status</a></li>\n",
       "</ul>\n",
       "</td>\n",
       "<td style=\"vertical-align: top; border: 0px solid white\">\n",
       "<h3 style=\"text-align: left;\">Cluster</h3>\n",
       "<ul style=\"text-align: left; list-style:none; margin: 0; padding: 0;\">\n",
       "  <li><b>Workers: </b>1</li>\n",
       "  <li><b>Cores: </b>1</li>\n",
       "  <li><b>Memory: </b>33.47 GB</li>\n",
       "</ul>\n",
       "</td>\n",
       "</tr>\n",
       "</table>"
      ],
      "text/plain": [
       "<Client: 'tcp://127.0.0.1:34727' processes=1 threads=1, memory=33.47 GB>"
      ]
     },
     "execution_count": 5,
     "metadata": {},
     "output_type": "execute_result"
    }
   ],
   "source": [
    "cluster = LocalCUDACluster()\n",
    "client = Client(cluster)\n",
    "client"
   ]
  },
  {
   "cell_type": "code",
   "execution_count": 6,
   "metadata": {
    "tags": []
   },
   "outputs": [],
   "source": [
    "features = [\"text_ tokens\", \"hashtags\", \"tweet_id\", \"present_media\", \"present_links\", \"present_domains\",\\\n",
    "                \"tweet_type\",\"language\", \"tweet_timestamp\", \"engaged_with_user_id\", \"engaged_with_user_follower_count\",\\\n",
    "               \"engaged_with_user_following_count\", \"engaged_with_user_is_verified\", \"engaged_with_user_account_creation\",\\\n",
    "               \"enaging_user_id\", \"enaging_user_follower_count\", \"enaging_user_following_count\", \"enaging_user_is_verified\",\\\n",
    "               \"enaging_user_account_creation\", \"engagee_follows_engager\", \"reply_timestamp\", \"retweet_timestamp\", \"retweet_with_comment_timestamp\", \"like_timestamp\"]"
   ]
  },
  {
   "cell_type": "code",
   "execution_count": 7,
   "metadata": {},
   "outputs": [
    {
     "name": "stdout",
     "output_type": "stream",
     "text": [
      "CPU times: user 2 µs, sys: 0 ns, total: 2 µs\n",
      "Wall time: 4.29 µs\n"
     ]
    }
   ],
   "source": [
    "%%time\n",
    "\n",
    "def preprocessing(df):\n",
    "    df['id']   = 1\n",
    "    df['id']   = df['id'].cumsum()\n",
    "    df['id'] = df['id'].astype('int32')\n",
    "\n",
    "    df['reply_timestamp']   = df['reply_timestamp'].fillna(0)\n",
    "    df['retweet_timestamp'] = df['retweet_timestamp'].fillna(0)\n",
    "    df['retweet_with_comment_timestamp'] = df['retweet_with_comment_timestamp'].fillna(0)\n",
    "    df['like_timestamp']    = df['like_timestamp'].fillna(0)\n",
    "\n",
    "    df['reply_timestamp']   = df['reply_timestamp'].astype('int32')\n",
    "    df['retweet_timestamp'] = df['retweet_timestamp'].astype('int32')\n",
    "    df['retweet_with_comment_timestamp'] = df['retweet_with_comment_timestamp'].astype('int32')\n",
    "    df['like_timestamp']    = df['like_timestamp'].astype('int32')\n",
    "\n",
    "    df['tweet_timestamp']         = df['tweet_timestamp'].astype( np.int32 )\n",
    "    df['engaged_with_user_follower_count']  = df['engaged_with_user_follower_count'].astype( np.int32 )\n",
    "    df['engaged_with_user_following_count'] = df['engaged_with_user_following_count'].astype( np.int32 )\n",
    "    df['engaged_with_user_account_creation']= df['engaged_with_user_account_creation'].astype( np.int32 )\n",
    "    df['enaging_user_follower_count']  = df['enaging_user_follower_count'].astype( np.int32 )\n",
    "    df['enaging_user_following_count'] = df['enaging_user_following_count'].astype( np.int32 )\n",
    "    df['enaging_user_account_creation']= df['enaging_user_account_creation'].astype( np.int32 )\n",
    "\n",
    "    df, = dask.persist(df)\n",
    "    _ = wait(df)\n",
    "\n",
    "    return df\n"
   ]
  },
  {
   "cell_type": "code",
   "execution_count": null,
   "metadata": {},
   "outputs": [
    {
     "name": "stderr",
     "output_type": "stream",
     "text": [
      "  8%|▊         | 23/291 [03:07<36:33,  8.19s/it]"
     ]
    }
   ],
   "source": [
    "%%time\n",
    "\n",
    "path = \"/dataset/twitter_raw\"\n",
    "file_list = os.listdir(path)\n",
    "file_list = sorted(file_list)\n",
    "NP = 16\n",
    "\n",
    "for file_name in tqdm(file_list):\n",
    "    df = dask_cudf.read_csv(f'{path}/{file_name}', sep='\\x01', header=None, names=features)\n",
    "    df = df.repartition(npartitions=NP)\n",
    "    df = preprocessing(df)\n",
    "    df, = dask.persist(df)\n",
    "    _ = wait(df)\n",
    "\n",
    "    df.to_parquet(f'/dataset/train/{file_name}', write_index=False)\n"
   ]
  },
  {
   "cell_type": "code",
   "execution_count": null,
   "metadata": {},
   "outputs": [],
   "source": []
  }
 ],
 "metadata": {
  "kernelspec": {
   "display_name": "Python 3",
   "language": "python",
   "name": "python3"
  },
  "language_info": {
   "codemirror_mode": {
    "name": "ipython",
    "version": 3
   },
   "file_extension": ".py",
   "mimetype": "text/x-python",
   "name": "python",
   "nbconvert_exporter": "python",
   "pygments_lexer": "ipython3",
   "version": "3.7.10"
  }
 },
 "nbformat": 4,
 "nbformat_minor": 2
}
