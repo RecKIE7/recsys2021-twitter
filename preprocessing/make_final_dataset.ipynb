{
 "metadata": {
  "language_info": {
   "codemirror_mode": {
    "name": "ipython",
    "version": 3
   },
   "file_extension": ".py",
   "mimetype": "text/x-python",
   "name": "python",
   "nbconvert_exporter": "python",
   "pygments_lexer": "ipython3",
   "version": "3.7.10"
  },
  "orig_nbformat": 2,
  "kernelspec": {
   "name": "python3710jvsc74a57bd0c4c1a3e9c3a39a0885e9d9bd6e4723f2ede522dfea9ed13682022cc292aed1ac",
   "display_name": "Python 3.7.10 64-bit ('dask-cudf': conda)"
  }
 },
 "nbformat": 4,
 "nbformat_minor": 2,
 "cells": [
  {
   "cell_type": "code",
   "execution_count": 7,
   "metadata": {},
   "outputs": [],
   "source": [
    "import sys\n",
    "sys.path.append('../')\n",
    "\n",
    "import tqdm\n",
    "import numpy as np\n",
    "import pandas as pd\n",
    "from tensorflow.keras import optimizers\n",
    "from deepctr.models import DeepFM\n",
    "from sklearn.preprocessing import LabelEncoder, MinMaxScaler\n",
    "from sklearn.model_selection import train_test_split\n",
    "from deepctr.feature_column import SparseFeat, DenseFeat, get_feature_names\n",
    "from sklearn import preprocessing\n",
    "from utils.preprocessing import read_data\n",
    "import core.config as conf\n",
    "import matplotlib.pyplot as plt\n",
    "from utils.dataiter import Dataset\n",
    "\n",
    "\n",
    "from utils.evaluate import calculate_ctr, compute_rce, average_precision_score"
   ]
  },
  {
   "cell_type": "code",
   "execution_count": 14,
   "metadata": {},
   "outputs": [],
   "source": [
    "data_path = conf.dataset_mini_path + 'valid'\n",
    "df = read_data(data_path)\n"
   ]
  },
  {
   "cell_type": "code",
   "execution_count": 15,
   "metadata": {},
   "outputs": [
    {
     "output_type": "stream",
     "name": "stderr",
     "text": [
      "../utils/dataset.py:324: SettingWithCopyWarning: \n",
      "A value is trying to be set on a copy of a slice from a DataFrame.\n",
      "Try using .loc[row_indexer,col_indexer] = value instead\n",
      "\n",
      "See the caveats in the documentation: https://pandas.pydata.org/pandas-docs/stable/user_guide/indexing.html#returning-a-view-versus-a-copy\n",
      "  df['number_of_tweet_engagements'] = df.apply(lambda x : tweet_engagements[x['tweet_id']], axis = 1)\n",
      "creator mapping\n"
     ]
    }
   ],
   "source": [
    "ds = Dataset()\n",
    "df = ds.preprocess(df)\n",
    "df = ds.tweet_engagements(df) # tweet engagement\n",
    "df = ds.user_engagements(df) # user engagement\n",
    "df = ds.tweet_features(df) # tweet features"
   ]
  },
  {
   "cell_type": "code",
   "execution_count": 16,
   "metadata": {},
   "outputs": [],
   "source": [
    "df.to_csv('valid.csv', header=None, index=False)"
   ]
  },
  {
   "cell_type": "code",
   "execution_count": null,
   "metadata": {},
   "outputs": [],
   "source": []
  }
 ]
}