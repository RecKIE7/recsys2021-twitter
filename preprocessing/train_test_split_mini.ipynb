{
 "cells": [
  {
   "cell_type": "code",
   "execution_count": 1,
   "metadata": {},
   "outputs": [],
   "source": [
    "import sys\n",
    "sys.path.append('..')\n",
    "\n",
    "import numpy as np\n",
    "import matplotlib.pyplot as plt\n",
    "import pandas as pd\n",
    "from tqdm import tqdm\n",
    "from utils.preprocessing import *\n",
    "import core.config as conf"
   ]
  },
  {
   "cell_type": "markdown",
   "metadata": {},
   "source": [
    "## time split "
   ]
  },
  {
   "cell_type": "code",
   "execution_count": 2,
   "metadata": {},
   "outputs": [],
   "source": [
    "data_path = conf.raw_lzo_path + 'part-00080'\n",
    "df = read_data(data_path)\n",
    "df['day'] = pd.to_datetime( df['tweet_timestamp'] , unit='s' ).dt.day\n",
    "train = df[df['day'] <= 18]\n",
    "tmp = df[df['day'] >= 19]\n",
    "valid = tmp[tmp['day'] <= 21]\n",
    "test = tmp[tmp['day'] >= 22]\n"
   ]
  },
  {
   "cell_type": "code",
   "execution_count": 3,
   "metadata": {},
   "outputs": [
    {
     "name": "stdout",
     "output_type": "stream",
     "text": [
      "2167814\n",
      "426272\n",
      "438195\n"
     ]
    }
   ],
   "source": [
    "print(len(train))\n",
    "print(len(valid))\n",
    "print(len(test))"
   ]
  },
  {
   "cell_type": "code",
   "execution_count": 4,
   "metadata": {},
   "outputs": [],
   "source": [
    "train.drop('day', axis=1).to_csv(f\"{conf.dataset_mini_path}/train\", mode='a', header=False, sep='\\x01', index=False)\n",
    "valid.drop('day', axis=1).to_csv(f\"{conf.dataset_mini_path}/valid\", mode='a', header=False, sep='\\x01', index=False)\n",
    "test.drop('day', axis=1).to_csv(f\"{conf.dataset_mini_path}/test\", mode='a', header=False, sep='\\x01', index=False)\n"
   ]
  },
  {
   "cell_type": "code",
   "execution_count": null,
   "metadata": {},
   "outputs": [],
   "source": []
  },
  {
   "cell_type": "code",
   "execution_count": 5,
   "metadata": {},
   "outputs": [],
   "source": [
    "data_path = conf.raw_lzo_path + 'part-00126'\n",
    "df = read_data(data_path)\n",
    "df['day'] = pd.to_datetime( df['tweet_timestamp'] , unit='s' ).dt.day\n",
    "train = df[df['day'] <= 18]\n",
    "tmp = df[df['day'] >= 19]\n",
    "valid = tmp[tmp['day'] <= 21]\n",
    "test = tmp[tmp['day'] >= 22]\n"
   ]
  },
  {
   "cell_type": "code",
   "execution_count": 6,
   "metadata": {},
   "outputs": [
    {
     "name": "stdout",
     "output_type": "stream",
     "text": [
      "2168188\n",
      "427862\n",
      "437967\n"
     ]
    }
   ],
   "source": [
    "print(len(train))\n",
    "print(len(valid))\n",
    "print(len(test))"
   ]
  },
  {
   "cell_type": "code",
   "execution_count": 7,
   "metadata": {},
   "outputs": [],
   "source": [
    "train.drop('day', axis=1).to_csv(f\"{conf.dataset_mini_path}/train\", mode='a', header=False, sep='\\x01', index=False)\n",
    "valid.drop('day', axis=1).to_csv(f\"{conf.dataset_mini_path}/valid\", mode='a', header=False, sep='\\x01', index=False)\n",
    "test.drop('day', axis=1).to_csv(f\"{conf.dataset_mini_path}/test\", mode='a', header=False, sep='\\x01', index=False)\n"
   ]
  },
  {
   "cell_type": "code",
   "execution_count": null,
   "metadata": {},
   "outputs": [],
   "source": []
  }
 ],
 "metadata": {
  "kernelspec": {
   "display_name": "Python 3",
   "language": "python",
   "name": "python3"
  },
  "language_info": {
   "codemirror_mode": {
    "name": "ipython",
    "version": 3
   },
   "file_extension": ".py",
   "mimetype": "text/x-python",
   "name": "python",
   "nbconvert_exporter": "python",
   "pygments_lexer": "ipython3",
   "version": "3.8.5"
  }
 },
 "nbformat": 4,
 "nbformat_minor": 2
}
