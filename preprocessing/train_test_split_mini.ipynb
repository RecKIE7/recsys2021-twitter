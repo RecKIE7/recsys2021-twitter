{
 "metadata": {
  "language_info": {
   "codemirror_mode": {
    "name": "ipython",
    "version": 3
   },
   "file_extension": ".py",
   "mimetype": "text/x-python",
   "name": "python",
   "nbconvert_exporter": "python",
   "pygments_lexer": "ipython3",
   "version": "3.7.10"
  },
  "orig_nbformat": 2,
  "kernelspec": {
   "name": "python3710jvsc74a57bd0c4c1a3e9c3a39a0885e9d9bd6e4723f2ede522dfea9ed13682022cc292aed1ac",
   "display_name": "Python 3.7.10 64-bit ('dask-cudf': conda)"
  }
 },
 "nbformat": 4,
 "nbformat_minor": 2,
 "cells": [
  {
   "cell_type": "code",
   "execution_count": 1,
   "metadata": {},
   "outputs": [],
   "source": [
    "import sys\n",
    "sys.path.append('..')\n",
    "\n",
    "import numpy as np\n",
    "import matplotlib.pyplot as plt\n",
    "import pandas as pd\n",
    "from tqdm import tqdm\n",
    "from utils.preprocessing import *\n",
    "import core.config as conf"
   ]
  },
  {
   "source": [
    "## time split "
   ],
   "cell_type": "markdown",
   "metadata": {}
  },
  {
   "cell_type": "code",
   "execution_count": 2,
   "metadata": {},
   "outputs": [],
   "source": [
    "data_path = conf.raw_lzo_path + 'part-00157'\n",
    "df = read_data(data_path)\n",
    "df['day'] = pd.to_datetime( df['tweet_timestamp'] , unit='s' ).dt.day\n",
    "train = df[df['day'] <= 18]\n",
    "tmp = df[df['day'] >= 19]\n",
    "valid = tmp[tmp['day'] <= 21]\n",
    "test = tmp[tmp['day'] >= 22]\n"
   ]
  },
  {
   "cell_type": "code",
   "execution_count": 25,
   "metadata": {},
   "outputs": [
    {
     "output_type": "stream",
     "name": "stdout",
     "text": [
      "2168930\n426462\n437684\n"
     ]
    }
   ],
   "source": [
    "print(len(train))\n",
    "print(len(valid))\n",
    "print(len(test))"
   ]
  },
  {
   "cell_type": "code",
   "execution_count": 4,
   "metadata": {},
   "outputs": [],
   "source": [
    "train.drop('day', axis=1).to_csv(f\"{conf.dataset_mini_path}/train\", mode='a', header=False, sep='\\x01', index=False)\n",
    "valid.drop('day', axis=1).to_csv(f\"{conf.dataset_mini_path}/valid\", mode='a', header=False, sep='\\x01', index=False)\n",
    "test.drop('day', axis=1).to_csv(f\"{conf.dataset_mini_path}/test\", mode='a', header=False, sep='\\x01', index=False)\n"
   ]
  },
  {
   "cell_type": "code",
   "execution_count": 21,
   "metadata": {},
   "outputs": [],
   "source": []
  },
  {
   "source": [
    "data_path = conf.raw_lzo_path + 'part-00197'\n",
    "df = read_data(data_path)\n",
    "df['day'] = pd.to_datetime( df['tweet_timestamp'] , unit='s' ).dt.day\n",
    "train = df[df['day'] <= 18]\n",
    "tmp = df[df['day'] >= 19]\n",
    "valid = tmp[tmp['day'] <= 21]\n",
    "test = tmp[tmp['day'] >= 22]\n"
   ],
   "cell_type": "code",
   "metadata": {},
   "execution_count": 26,
   "outputs": []
  },
  {
   "cell_type": "code",
   "execution_count": 27,
   "metadata": {},
   "outputs": [
    {
     "output_type": "stream",
     "name": "stdout",
     "text": [
      "2169976\n427289\n436760\n"
     ]
    }
   ],
   "source": [
    "print(len(train))\n",
    "print(len(valid))\n",
    "print(len(test))"
   ]
  },
  {
   "cell_type": "code",
   "execution_count": 28,
   "metadata": {},
   "outputs": [],
   "source": [
    "train.drop('day', axis=1).to_csv(f\"{conf.dataset_mini_path}/train\", mode='a', header=False, sep='\\x01', index=False)\n",
    "valid.drop('day', axis=1).to_csv(f\"{conf.dataset_mini_path}/valid\", mode='a', header=False, sep='\\x01', index=False)\n",
    "test.drop('day', axis=1).to_csv(f\"{conf.dataset_mini_path}/test\", mode='a', header=False, sep='\\x01', index=False)\n"
   ]
  },
  {
   "cell_type": "code",
   "execution_count": null,
   "metadata": {},
   "outputs": [],
   "source": []
  }
 ]
}