{
 "metadata": {
  "language_info": {
   "codemirror_mode": {
    "name": "ipython",
    "version": 3
   },
   "file_extension": ".py",
   "mimetype": "text/x-python",
   "name": "python",
   "nbconvert_exporter": "python",
   "pygments_lexer": "ipython3",
   "version": "3.7.10-final"
  },
  "orig_nbformat": 2,
  "kernelspec": {
   "name": "dask-cudf",
   "display_name": "dask-cudf",
   "language": "python"
  }
 },
 "nbformat": 4,
 "nbformat_minor": 2,
 "cells": [
  {
   "source": [
    "# Decode 'langauge' feature"
   ],
   "cell_type": "markdown",
   "metadata": {}
  },
  {
   "cell_type": "code",
   "execution_count": 10,
   "metadata": {},
   "outputs": [],
   "source": [
    "import sys\n",
    "sys.path.append('..')\n",
    "\n",
    "from utils.cuda_cluster import client\n",
    "from utils.util import plot_graphs\n",
    "import core.config as conf\n",
    "from utils.dataset import read_data, factorize_small_cardinality\n",
    "\n",
    "import numpy as np\n",
    "from tqdm import tqdm\n",
    "from datetime import datetime \n",
    "import matplotlib.pyplot as plt\n",
    "\n",
    "import tensorflow as tf\n",
    "from transformers import *\n",
    "from tensorflow.keras.preprocessing.sequence import pad_sequences\n",
    "from tensorflow.keras.callbacks import EarlyStopping, ModelCheckpoint\n"
   ]
  },
  {
   "cell_type": "code",
   "execution_count": 8,
   "metadata": {},
   "outputs": [
    {
     "output_type": "execute_result",
     "data": {
      "text/plain": [
       "<Client: 'tcp://127.0.0.1:39629' processes=1 threads=1, memory=33.47 GB>"
      ],
      "text/html": "<table style=\"border: 2px solid white;\">\n<tr>\n<td style=\"vertical-align: top; border: 0px solid white\">\n<h3 style=\"text-align: left;\">Client</h3>\n<ul style=\"text-align: left; list-style: none; margin: 0; padding: 0;\">\n  <li><b>Scheduler: </b>tcp://127.0.0.1:39629</li>\n  <li><b>Dashboard: </b><a href='http://127.0.0.1:8787/status' target='_blank'>http://127.0.0.1:8787/status</a></li>\n</ul>\n</td>\n<td style=\"vertical-align: top; border: 0px solid white\">\n<h3 style=\"text-align: left;\">Cluster</h3>\n<ul style=\"text-align: left; list-style:none; margin: 0; padding: 0;\">\n  <li><b>Workers: </b>1</li>\n  <li><b>Cores: </b>1</li>\n  <li><b>Memory: </b>33.47 GB</li>\n</ul>\n</td>\n</tr>\n</table>"
     },
     "metadata": {},
     "execution_count": 8
    }
   ],
   "source": [
    "client"
   ]
  },
  {
   "cell_type": "code",
   "execution_count": 5,
   "metadata": {},
   "outputs": [],
   "source": [
    "#random seed \n",
    "tf.random.set_seed(1234)\n",
    "np.random.seed(1234)"
   ]
  },
  {
   "cell_type": "code",
   "execution_count": 89,
   "metadata": {},
   "outputs": [
    {
     "output_type": "stream",
     "name": "stderr",
     "text": [
      "Downloading: 100%|██████████| 996k/996k [00:01<00:00, 818kB/s] \n",
      "Downloading: 100%|██████████| 29.0/29.0 [00:00<00:00, 41.7kB/s]\n",
      "Downloading: 100%|██████████| 1.96M/1.96M [00:01<00:00, 1.44MB/s]\n"
     ]
    }
   ],
   "source": [
    "tokenizer = BertTokenizer.from_pretrained(\"bert-base-multilingual-cased\", cache_dir='bert_ckpt', do_lower_case=False)"
   ]
  },
  {
   "source": [
    "## 1. Load data"
   ],
   "cell_type": "markdown",
   "metadata": {}
  },
  {
   "cell_type": "code",
   "execution_count": 11,
   "metadata": {},
   "outputs": [
    {
     "output_type": "stream",
     "name": "stdout",
     "text": [
      "number of rows: 3033347\n"
     ]
    }
   ],
   "source": [
    "# data_path = conf.raw_data_path + '*' # for all dataset\n",
    "data_path = conf.raw_data_path + 'part-00175'\n",
    "ori_df = read_data(data_path)"
   ]
  },
  {
   "cell_type": "code",
   "execution_count": 18,
   "metadata": {},
   "outputs": [],
   "source": [
    "df = ori_df[['text_ tokens', 'language']]"
   ]
  },
  {
   "cell_type": "code",
   "execution_count": 19,
   "metadata": {},
   "outputs": [
    {
     "output_type": "execute_result",
     "data": {
      "text/plain": [
       "                                         text_ tokens  \\\n",
       "id                                                      \n",
       "1   101\\t12845\\t10341\\t55818\\t13410\\t10129\\t23633\\...   \n",
       "2   101\\t56898\\t137\\t181\\t10123\\t10410\\t168\\t168\\t...   \n",
       "3   101\\t11916\\t16818\\t117\\t10911\\t35691\\t10638\\t1...   \n",
       "4   101\\t66676\\t53622\\t11499\\t38356\\t10703\\t12843\\...   \n",
       "5   101\\t56898\\t137\\t158\\t168\\t10111\\t168\\t100061\\...   \n",
       "\n",
       "                            language  \n",
       "id                                    \n",
       "1   B8B04128918BBF54E2E178BFF1ABA833  \n",
       "2   9FCF19233EAD65EA6E32C2E6DC03A444  \n",
       "3   B0FA488F2911701DD8EC5B1EA5E322D8  \n",
       "4   1F73BB863A39DB62B4A55B7E558DB1E8  \n",
       "5   E7F038DE3EAD397AEC9193686C911677  "
      ],
      "text/html": "<div>\n<style scoped>\n    .dataframe tbody tr th:only-of-type {\n        vertical-align: middle;\n    }\n\n    .dataframe tbody tr th {\n        vertical-align: top;\n    }\n\n    .dataframe thead th {\n        text-align: right;\n    }\n</style>\n<table border=\"1\" class=\"dataframe\">\n  <thead>\n    <tr style=\"text-align: right;\">\n      <th></th>\n      <th>text_ tokens</th>\n      <th>language</th>\n    </tr>\n    <tr>\n      <th>id</th>\n      <th></th>\n      <th></th>\n    </tr>\n  </thead>\n  <tbody>\n    <tr>\n      <th>1</th>\n      <td>101\\t12845\\t10341\\t55818\\t13410\\t10129\\t23633\\...</td>\n      <td>B8B04128918BBF54E2E178BFF1ABA833</td>\n    </tr>\n    <tr>\n      <th>2</th>\n      <td>101\\t56898\\t137\\t181\\t10123\\t10410\\t168\\t168\\t...</td>\n      <td>9FCF19233EAD65EA6E32C2E6DC03A444</td>\n    </tr>\n    <tr>\n      <th>3</th>\n      <td>101\\t11916\\t16818\\t117\\t10911\\t35691\\t10638\\t1...</td>\n      <td>B0FA488F2911701DD8EC5B1EA5E322D8</td>\n    </tr>\n    <tr>\n      <th>4</th>\n      <td>101\\t66676\\t53622\\t11499\\t38356\\t10703\\t12843\\...</td>\n      <td>1F73BB863A39DB62B4A55B7E558DB1E8</td>\n    </tr>\n    <tr>\n      <th>5</th>\n      <td>101\\t56898\\t137\\t158\\t168\\t10111\\t168\\t100061\\...</td>\n      <td>E7F038DE3EAD397AEC9193686C911677</td>\n    </tr>\n  </tbody>\n</table>\n</div>"
     },
     "metadata": {},
     "execution_count": 19
    }
   ],
   "source": [
    "df.head()"
   ]
  },
  {
   "source": [
    "## Get unique language"
   ],
   "cell_type": "markdown",
   "metadata": {}
  },
  {
   "cell_type": "code",
   "execution_count": 84,
   "metadata": {},
   "outputs": [],
   "source": [
    "languages = df.compute().groupby('language')[['text_ tokens']].nth(-1)\n",
    "languages = languages.reset_index()"
   ]
  },
  {
   "cell_type": "code",
   "execution_count": 85,
   "metadata": {},
   "outputs": [],
   "source": [
    "tokens = list(map(lambda x: x.split('\\t'), languages['text_ tokens'].to_array()))\n",
    "decoded_tokens = []\n",
    "n_languages = len(languages)\n",
    "\n",
    "for i in range(n_languages):\n",
    "    decoded_tokens.append(tokenizer.decode(tokens[i]))"
   ]
  },
  {
   "cell_type": "code",
   "execution_count": 86,
   "metadata": {},
   "outputs": [],
   "source": [
    "languages['decoded_tweet_tokens'] = decoded_tokens"
   ]
  },
  {
   "cell_type": "code",
   "execution_count": 88,
   "metadata": {},
   "outputs": [
    {
     "output_type": "execute_result",
     "data": {
      "text/plain": [
       "                            language  \\\n",
       "0   00304D7356D6C64481190D708D8F739C   \n",
       "1   0BB2C843174730BA7D958C98B763A797   \n",
       "2   105008E45831ADE8AF1DB888319F422A   \n",
       "3   10C6C994C2AD434F9D49D4BE9CFBC613   \n",
       "4   159541FA269CA8A9CDB93658CAEC4CA2   \n",
       "..                               ...   \n",
       "61  E7F038DE3EAD397AEC9193686C911677   \n",
       "62  E84BE2C963852FB065EE827F41A0A304   \n",
       "63  F33767F7D7080003F403FDAB34FEB755   \n",
       "64  F70598172AC4514B1E6818EA361AD580   \n",
       "65  F9D8F1DB5A398E1225A2C42E34A51DF6   \n",
       "\n",
       "                                         text_ tokens  \\\n",
       "0   101\\t56898\\t137\\t26747\\t16724\\t13034\\t51427\\t1...   \n",
       "1   101\\t638\\t52988\\t34748\\t67457\\t18555\\t14120\\t1...   \n",
       "2   101\\t56898\\t137\\t139\\t50198\\t11517\\t10157\\t741...   \n",
       "3   101\\t56898\\t137\\t178\\t10174\\t49025\\t11211\\t113...   \n",
       "4   101\\t56898\\t137\\t44286\\t16105\\t51658\\t11373\\t6...   \n",
       "..                                                ...   \n",
       "61  101\\t100\\t216\\t3796\\t2023\\t15464\\t17575\\t99827...   \n",
       "62  101\\t45113\\t118\\t25587\\t10137\\t15788\\t20794\\t1...   \n",
       "63  101\\t100\\t100\\t100\\t100\\t100\\t100\\t100\\t100\\t1...   \n",
       "64  101\\t56898\\t137\\t21573\\t11669\\t10133\\t168\\t192...   \n",
       "65  101\\t790\\t51464\\t10278\\t100\\t825\\t16295\\t10765...   \n",
       "\n",
       "                                 decoded_tweet_tokens  \n",
       "0   [CLS] RT @ FarazWahab1 : اس پرچم کے سائے تلے ہ...  \n",
       "1   [CLS] Ծաղկաձոր https : / / t. co / TSlacMT5JV ...  \n",
       "2   [CLS] RT @ BhoneMy91441280 : Followersနည်းနေတဲ...  \n",
       "3   [CLS] RT @ jk100687 : Austro - Hungarian storm...  \n",
       "4   [CLS] RT @ Nansy64953936 : Πάντα θα σε στηριζο...  \n",
       "..                                                ...  \n",
       "61  [CLS] [UNK] ¶ 忍 トラみたいにこんな 技 使 って 欲 しかったなぁ ｡ [U...  \n",
       "62  [CLS] Southampton - Arsenal är första FA - cup...  \n",
       "63  [CLS] [UNK] [UNK] [UNK] [UNK] [UNK] [UNK] [UNK...  \n",
       "64  [CLS] RT @ jensoo _ xoxo : rawr! [UNK] https :...  \n",
       "65  [CLS] هغوی [UNK] گومان کاوه [UNK] به [UNK] ژر ...  \n",
       "\n",
       "[66 rows x 3 columns]"
      ],
      "text/html": "<div>\n<style scoped>\n    .dataframe tbody tr th:only-of-type {\n        vertical-align: middle;\n    }\n\n    .dataframe tbody tr th {\n        vertical-align: top;\n    }\n\n    .dataframe thead th {\n        text-align: right;\n    }\n</style>\n<table border=\"1\" class=\"dataframe\">\n  <thead>\n    <tr style=\"text-align: right;\">\n      <th></th>\n      <th>language</th>\n      <th>text_ tokens</th>\n      <th>decoded_tweet_tokens</th>\n    </tr>\n  </thead>\n  <tbody>\n    <tr>\n      <th>0</th>\n      <td>00304D7356D6C64481190D708D8F739C</td>\n      <td>101\\t56898\\t137\\t26747\\t16724\\t13034\\t51427\\t1...</td>\n      <td>[CLS] RT @ FarazWahab1 : اس پرچم کے سائے تلے ہ...</td>\n    </tr>\n    <tr>\n      <th>1</th>\n      <td>0BB2C843174730BA7D958C98B763A797</td>\n      <td>101\\t638\\t52988\\t34748\\t67457\\t18555\\t14120\\t1...</td>\n      <td>[CLS] Ծաղկաձոր https : / / t. co / TSlacMT5JV ...</td>\n    </tr>\n    <tr>\n      <th>2</th>\n      <td>105008E45831ADE8AF1DB888319F422A</td>\n      <td>101\\t56898\\t137\\t139\\t50198\\t11517\\t10157\\t741...</td>\n      <td>[CLS] RT @ BhoneMy91441280 : Followersနည်းနေတဲ...</td>\n    </tr>\n    <tr>\n      <th>3</th>\n      <td>10C6C994C2AD434F9D49D4BE9CFBC613</td>\n      <td>101\\t56898\\t137\\t178\\t10174\\t49025\\t11211\\t113...</td>\n      <td>[CLS] RT @ jk100687 : Austro - Hungarian storm...</td>\n    </tr>\n    <tr>\n      <th>4</th>\n      <td>159541FA269CA8A9CDB93658CAEC4CA2</td>\n      <td>101\\t56898\\t137\\t44286\\t16105\\t51658\\t11373\\t6...</td>\n      <td>[CLS] RT @ Nansy64953936 : Πάντα θα σε στηριζο...</td>\n    </tr>\n    <tr>\n      <th>...</th>\n      <td>...</td>\n      <td>...</td>\n      <td>...</td>\n    </tr>\n    <tr>\n      <th>61</th>\n      <td>E7F038DE3EAD397AEC9193686C911677</td>\n      <td>101\\t100\\t216\\t3796\\t2023\\t15464\\t17575\\t99827...</td>\n      <td>[CLS] [UNK] ¶ 忍 トラみたいにこんな 技 使 って 欲 しかったなぁ ｡ [U...</td>\n    </tr>\n    <tr>\n      <th>62</th>\n      <td>E84BE2C963852FB065EE827F41A0A304</td>\n      <td>101\\t45113\\t118\\t25587\\t10137\\t15788\\t20794\\t1...</td>\n      <td>[CLS] Southampton - Arsenal är första FA - cup...</td>\n    </tr>\n    <tr>\n      <th>63</th>\n      <td>F33767F7D7080003F403FDAB34FEB755</td>\n      <td>101\\t100\\t100\\t100\\t100\\t100\\t100\\t100\\t100\\t1...</td>\n      <td>[CLS] [UNK] [UNK] [UNK] [UNK] [UNK] [UNK] [UNK...</td>\n    </tr>\n    <tr>\n      <th>64</th>\n      <td>F70598172AC4514B1E6818EA361AD580</td>\n      <td>101\\t56898\\t137\\t21573\\t11669\\t10133\\t168\\t192...</td>\n      <td>[CLS] RT @ jensoo _ xoxo : rawr! [UNK] https :...</td>\n    </tr>\n    <tr>\n      <th>65</th>\n      <td>F9D8F1DB5A398E1225A2C42E34A51DF6</td>\n      <td>101\\t790\\t51464\\t10278\\t100\\t825\\t16295\\t10765...</td>\n      <td>[CLS] هغوی [UNK] گومان کاوه [UNK] به [UNK] ژر ...</td>\n    </tr>\n  </tbody>\n</table>\n<p>66 rows × 3 columns</p>\n</div>"
     },
     "metadata": {},
     "execution_count": 88
    }
   ],
   "source": [
    "languages"
   ]
  },
  {
   "cell_type": "code",
   "execution_count": null,
   "metadata": {},
   "outputs": [],
   "source": []
  }
 ]
}