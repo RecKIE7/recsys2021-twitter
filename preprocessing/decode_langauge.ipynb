{
 "cells": [
  {
   "cell_type": "markdown",
   "metadata": {},
   "source": [
    "# Decode 'langauge' feature"
   ]
  },
  {
   "cell_type": "code",
   "execution_count": 10,
   "metadata": {},
   "outputs": [],
   "source": [
    "import sys\n",
    "sys.path.append('..')\n",
    "\n",
    "from utils.cuda_cluster import client\n",
    "from utils.util import plot_graphs\n",
    "import core.config as conf\n",
    "from utils.dataset import read_data, factorize_small_cardinality\n",
    "\n",
    "import numpy as np\n",
    "from tqdm import tqdm\n",
    "from datetime import datetime \n",
    "import matplotlib.pyplot as plt\n",
    "\n",
    "import tensorflow as tf\n",
    "from transformers import *\n",
    "from tensorflow.keras.preprocessing.sequence import pad_sequences\n",
    "from tensorflow.keras.callbacks import EarlyStopping, ModelCheckpoint\n"
   ]
  },
  {
   "cell_type": "code",
   "execution_count": 8,
   "metadata": {},
   "outputs": [
    {
     "data": {
      "text/html": [
       "<table style=\"border: 2px solid white;\">\n",
       "<tr>\n",
       "<td style=\"vertical-align: top; border: 0px solid white\">\n",
       "<h3 style=\"text-align: left;\">Client</h3>\n",
       "<ul style=\"text-align: left; list-style: none; margin: 0; padding: 0;\">\n",
       "  <li><b>Scheduler: </b>tcp://127.0.0.1:39629</li>\n",
       "  <li><b>Dashboard: </b><a href='http://127.0.0.1:8787/status' target='_blank'>http://127.0.0.1:8787/status</a></li>\n",
       "</ul>\n",
       "</td>\n",
       "<td style=\"vertical-align: top; border: 0px solid white\">\n",
       "<h3 style=\"text-align: left;\">Cluster</h3>\n",
       "<ul style=\"text-align: left; list-style:none; margin: 0; padding: 0;\">\n",
       "  <li><b>Workers: </b>1</li>\n",
       "  <li><b>Cores: </b>1</li>\n",
       "  <li><b>Memory: </b>33.47 GB</li>\n",
       "</ul>\n",
       "</td>\n",
       "</tr>\n",
       "</table>"
      ],
      "text/plain": [
       "<Client: 'tcp://127.0.0.1:39629' processes=1 threads=1, memory=33.47 GB>"
      ]
     },
     "execution_count": 8,
     "metadata": {},
     "output_type": "execute_result"
    }
   ],
   "source": [
    "client"
   ]
  },
  {
   "cell_type": "code",
   "execution_count": 90,
   "metadata": {},
   "outputs": [],
   "source": [
    "#random seed \n",
    "tf.random.set_seed(1234)\n",
    "np.random.seed(1234)"
   ]
  },
  {
   "cell_type": "code",
   "execution_count": 91,
   "metadata": {},
   "outputs": [
    {
     "name": "stderr",
     "output_type": "stream",
     "text": [
      "Downloading: 100%|██████████| 996k/996k [00:01<00:00, 845kB/s] \n",
      "Downloading: 100%|██████████| 29.0/29.0 [00:00<00:00, 40.2kB/s]\n",
      "Downloading: 100%|██████████| 1.96M/1.96M [00:01<00:00, 1.52MB/s]\n"
     ]
    }
   ],
   "source": [
    "tokenizer = BertTokenizer.from_pretrained(\"bert-base-multilingual-cased\", cache_dir='bert_ckpt', do_lower_case=False)"
   ]
  },
  {
   "cell_type": "markdown",
   "metadata": {},
   "source": [
    "## 1. Load data"
   ]
  },
  {
   "cell_type": "code",
   "execution_count": 249,
   "metadata": {},
   "outputs": [
    {
     "name": "stdout",
     "output_type": "stream",
     "text": [
      "number of rows: 3034025\n"
     ]
    }
   ],
   "source": [
    "# data_path = conf.raw_data_path + '*' # for all dataset\n",
    "data_path = conf.raw_data_path + 'part-00197'\n",
    "ori_df = read_data(data_path)"
   ]
  },
  {
   "cell_type": "code",
   "execution_count": 250,
   "metadata": {},
   "outputs": [],
   "source": [
    "# ori_df = ori_df[ori_df['tweet_type'] == 'TopLevel']\n",
    "df = ori_df[['text_ tokens', 'language']]"
   ]
  },
  {
   "cell_type": "code",
   "execution_count": 123,
   "metadata": {},
   "outputs": [],
   "source": []
  },
  {
   "cell_type": "code",
   "execution_count": 251,
   "metadata": {},
   "outputs": [
    {
     "data": {
      "text/html": [
       "<div>\n",
       "<style scoped>\n",
       "    .dataframe tbody tr th:only-of-type {\n",
       "        vertical-align: middle;\n",
       "    }\n",
       "\n",
       "    .dataframe tbody tr th {\n",
       "        vertical-align: top;\n",
       "    }\n",
       "\n",
       "    .dataframe thead th {\n",
       "        text-align: right;\n",
       "    }\n",
       "</style>\n",
       "<table border=\"1\" class=\"dataframe\">\n",
       "  <thead>\n",
       "    <tr style=\"text-align: right;\">\n",
       "      <th></th>\n",
       "      <th>text_ tokens</th>\n",
       "      <th>language</th>\n",
       "    </tr>\n",
       "    <tr>\n",
       "      <th>id</th>\n",
       "      <th></th>\n",
       "      <th></th>\n",
       "    </tr>\n",
       "  </thead>\n",
       "  <tbody>\n",
       "    <tr>\n",
       "      <th>1</th>\n",
       "      <td>101\\t12489\\t112\\t187\\t20442\\t55768\\t85377\\t101...</td>\n",
       "      <td>488B32D24BD4BB44172EB981C1BCA6FA</td>\n",
       "    </tr>\n",
       "    <tr>\n",
       "      <th>2</th>\n",
       "      <td>101\\t56898\\t137\\t32916\\t11359\\t11359\\t131\\t199...</td>\n",
       "      <td>E7F038DE3EAD397AEC9193686C911677</td>\n",
       "    </tr>\n",
       "    <tr>\n",
       "      <th>3</th>\n",
       "      <td>101\\t1413\\t18427\\t111434\\t46856\\t20503\\t58264\\...</td>\n",
       "      <td>9FCF19233EAD65EA6E32C2E6DC03A444</td>\n",
       "    </tr>\n",
       "    <tr>\n",
       "      <th>4</th>\n",
       "      <td>101\\t56658\\t11127\\t18137\\t66014\\t30340\\t12396\\...</td>\n",
       "      <td>488B32D24BD4BB44172EB981C1BCA6FA</td>\n",
       "    </tr>\n",
       "    <tr>\n",
       "      <th>5</th>\n",
       "      <td>101\\t14120\\t131\\t120\\t120\\t188\\t119\\t11170\\t12...</td>\n",
       "      <td>313ECD3A1E5BB07406E4249475C2D6D6</td>\n",
       "    </tr>\n",
       "  </tbody>\n",
       "</table>\n",
       "</div>"
      ],
      "text/plain": [
       "                                         text_ tokens  \\\n",
       "id                                                      \n",
       "1   101\\t12489\\t112\\t187\\t20442\\t55768\\t85377\\t101...   \n",
       "2   101\\t56898\\t137\\t32916\\t11359\\t11359\\t131\\t199...   \n",
       "3   101\\t1413\\t18427\\t111434\\t46856\\t20503\\t58264\\...   \n",
       "4   101\\t56658\\t11127\\t18137\\t66014\\t30340\\t12396\\...   \n",
       "5   101\\t14120\\t131\\t120\\t120\\t188\\t119\\t11170\\t12...   \n",
       "\n",
       "                            language  \n",
       "id                                    \n",
       "1   488B32D24BD4BB44172EB981C1BCA6FA  \n",
       "2   E7F038DE3EAD397AEC9193686C911677  \n",
       "3   9FCF19233EAD65EA6E32C2E6DC03A444  \n",
       "4   488B32D24BD4BB44172EB981C1BCA6FA  \n",
       "5   313ECD3A1E5BB07406E4249475C2D6D6  "
      ]
     },
     "execution_count": 251,
     "metadata": {},
     "output_type": "execute_result"
    }
   ],
   "source": [
    "df.head()"
   ]
  },
  {
   "cell_type": "code",
   "execution_count": 254,
   "metadata": {},
   "outputs": [],
   "source": [
    "df['cnt'] = 1"
   ]
  },
  {
   "cell_type": "markdown",
   "metadata": {},
   "source": [
    "## Get unique language"
   ]
  },
  {
   "cell_type": "code",
   "execution_count": 270,
   "metadata": {},
   "outputs": [],
   "source": [
    "languages_cnt = df.compute().groupby('language')[['cnt']].count().reset_index()\n",
    "languages_tokens = df.compute().groupby('language')[['text_ tokens']].nth(-1).reset_index()\n",
    "languages = languages_tokens.merge(languages_cnt, on=['language'], how='left')\n"
   ]
  },
  {
   "cell_type": "code",
   "execution_count": 273,
   "metadata": {},
   "outputs": [],
   "source": [
    "languages = languages.sort_values('cnt', ascending=False)\n",
    "languages['id'] = range(66)\n",
    "languages = languages.set_index('id')"
   ]
  },
  {
   "cell_type": "code",
   "execution_count": 274,
   "metadata": {},
   "outputs": [
    {
     "data": {
      "text/html": [
       "<div>\n",
       "<style scoped>\n",
       "    .dataframe tbody tr th:only-of-type {\n",
       "        vertical-align: middle;\n",
       "    }\n",
       "\n",
       "    .dataframe tbody tr th {\n",
       "        vertical-align: top;\n",
       "    }\n",
       "\n",
       "    .dataframe thead th {\n",
       "        text-align: right;\n",
       "    }\n",
       "</style>\n",
       "<table border=\"1\" class=\"dataframe\">\n",
       "  <thead>\n",
       "    <tr style=\"text-align: right;\">\n",
       "      <th></th>\n",
       "      <th>language</th>\n",
       "      <th>text_ tokens</th>\n",
       "      <th>cnt</th>\n",
       "    </tr>\n",
       "    <tr>\n",
       "      <th>id</th>\n",
       "      <th></th>\n",
       "      <th></th>\n",
       "      <th></th>\n",
       "    </tr>\n",
       "  </thead>\n",
       "  <tbody>\n",
       "    <tr>\n",
       "      <th>0</th>\n",
       "      <td>488B32D24BD4BB44172EB981C1BCA6FA</td>\n",
       "      <td>101\\t18740\\t11003\\t98514\\t10529\\t12229\\t18103\\...</td>\n",
       "      <td>1096401</td>\n",
       "    </tr>\n",
       "    <tr>\n",
       "      <th>1</th>\n",
       "      <td>E7F038DE3EAD397AEC9193686C911677</td>\n",
       "      <td>101\\t1972\\t18825\\t3425\\t100\\t14120\\t131\\t120\\t...</td>\n",
       "      <td>520269</td>\n",
       "    </tr>\n",
       "    <tr>\n",
       "      <th>2</th>\n",
       "      <td>B0FA488F2911701DD8EC5B1EA5E322D8</td>\n",
       "      <td>101\\t77603\\t10165\\t85912\\t10125\\t11639\\t75366\\...</td>\n",
       "      <td>253290</td>\n",
       "    </tr>\n",
       "    <tr>\n",
       "      <th>3</th>\n",
       "      <td>B8B04128918BBF54E2E178BFF1ABA833</td>\n",
       "      <td>101\\t100\\t108\\t16062\\t11281\\t10115\\t11274\\t102...</td>\n",
       "      <td>242549</td>\n",
       "    </tr>\n",
       "    <tr>\n",
       "      <th>4</th>\n",
       "      <td>313ECD3A1E5BB07406E4249475C2D6D6</td>\n",
       "      <td>101\\t77603\\t10133\\t136\\t14120\\t131\\t120\\t120\\t...</td>\n",
       "      <td>194984</td>\n",
       "    </tr>\n",
       "    <tr>\n",
       "      <th>...</th>\n",
       "      <td>...</td>\n",
       "      <td>...</td>\n",
       "      <td>...</td>\n",
       "    </tr>\n",
       "    <tr>\n",
       "      <th>61</th>\n",
       "      <td>CDE47D81F953D800F760F1DE8AA754BA</td>\n",
       "      <td>101\\t100\\t14120\\t131\\t120\\t120\\t188\\t119\\t1117...</td>\n",
       "      <td>28</td>\n",
       "    </tr>\n",
       "    <tr>\n",
       "      <th>62</th>\n",
       "      <td>9D831A0F3603A54732CCBDBF291D17B7</td>\n",
       "      <td>101\\t100\\t14120\\t131\\t120\\t120\\t188\\t119\\t1117...</td>\n",
       "      <td>20</td>\n",
       "    </tr>\n",
       "    <tr>\n",
       "      <th>63</th>\n",
       "      <td>5F152815982885A996841493F2757D91</td>\n",
       "      <td>101\\t100\\t216\\t137\\t86545\\t11090\\t168\\t12464\\t102</td>\n",
       "      <td>7</td>\n",
       "    </tr>\n",
       "    <tr>\n",
       "      <th>64</th>\n",
       "      <td>82C9890E4A7FC1F8730A3443C761143E</td>\n",
       "      <td>101\\t20384\\t762\\t58753\\t92857\\t11884\\t100\\t100...</td>\n",
       "      <td>1</td>\n",
       "    </tr>\n",
       "    <tr>\n",
       "      <th>65</th>\n",
       "      <td>8C64085F46CD49FA5C80E72A35845185</td>\n",
       "      <td>101\\t1481\\t111452\\t111466\\t1472\\t1484\\t111466\\...</td>\n",
       "      <td>1</td>\n",
       "    </tr>\n",
       "  </tbody>\n",
       "</table>\n",
       "<p>66 rows × 3 columns</p>\n",
       "</div>"
      ],
      "text/plain": [
       "                            language  \\\n",
       "id                                     \n",
       "0   488B32D24BD4BB44172EB981C1BCA6FA   \n",
       "1   E7F038DE3EAD397AEC9193686C911677   \n",
       "2   B0FA488F2911701DD8EC5B1EA5E322D8   \n",
       "3   B8B04128918BBF54E2E178BFF1ABA833   \n",
       "4   313ECD3A1E5BB07406E4249475C2D6D6   \n",
       "..                               ...   \n",
       "61  CDE47D81F953D800F760F1DE8AA754BA   \n",
       "62  9D831A0F3603A54732CCBDBF291D17B7   \n",
       "63  5F152815982885A996841493F2757D91   \n",
       "64  82C9890E4A7FC1F8730A3443C761143E   \n",
       "65  8C64085F46CD49FA5C80E72A35845185   \n",
       "\n",
       "                                         text_ tokens      cnt  \n",
       "id                                                              \n",
       "0   101\\t18740\\t11003\\t98514\\t10529\\t12229\\t18103\\...  1096401  \n",
       "1   101\\t1972\\t18825\\t3425\\t100\\t14120\\t131\\t120\\t...   520269  \n",
       "2   101\\t77603\\t10165\\t85912\\t10125\\t11639\\t75366\\...   253290  \n",
       "3   101\\t100\\t108\\t16062\\t11281\\t10115\\t11274\\t102...   242549  \n",
       "4   101\\t77603\\t10133\\t136\\t14120\\t131\\t120\\t120\\t...   194984  \n",
       "..                                                ...      ...  \n",
       "61  101\\t100\\t14120\\t131\\t120\\t120\\t188\\t119\\t1117...       28  \n",
       "62  101\\t100\\t14120\\t131\\t120\\t120\\t188\\t119\\t1117...       20  \n",
       "63  101\\t100\\t216\\t137\\t86545\\t11090\\t168\\t12464\\t102        7  \n",
       "64  101\\t20384\\t762\\t58753\\t92857\\t11884\\t100\\t100...        1  \n",
       "65  101\\t1481\\t111452\\t111466\\t1472\\t1484\\t111466\\...        1  \n",
       "\n",
       "[66 rows x 3 columns]"
      ]
     },
     "execution_count": 274,
     "metadata": {},
     "output_type": "execute_result"
    }
   ],
   "source": [
    "languages"
   ]
  },
  {
   "cell_type": "code",
   "execution_count": 275,
   "metadata": {},
   "outputs": [],
   "source": [
    "tokens = list(map(lambda x: x.split('\\t'), languages['text_ tokens'].to_array()))\n",
    "decoded_tokens = []\n",
    "n_languages = len(languages)\n",
    "languages['language_id'] = range(n_languages)\n",
    "for i in range(n_languages):\n",
    "    decoded_tokens.append(tokenizer.decode(tokens[i], skip_special_tokens=True))"
   ]
  },
  {
   "cell_type": "code",
   "execution_count": 276,
   "metadata": {},
   "outputs": [],
   "source": [
    "languages['decoded_tweet_tokens'] = decoded_tokens"
   ]
  },
  {
   "cell_type": "code",
   "execution_count": 317,
   "metadata": {},
   "outputs": [
    {
     "name": "stdout",
     "output_type": "stream",
     "text": [
      "[CLS] Rašid Hadžović, inače ministar OBRAZOVANJA u Hercegovačko neretvanskoj županiji. https : / / t. co / GcvEpKQ3t0 [SEP]\n"
     ]
    }
   ],
   "source": [
    "df[df['language'] == '313ECD3A1E5BB07406E4249475C2D6D6'].compute()\n",
    "\n",
    "a = list(map(int, df.loc[3033944]['text_ tokens'].compute().to_array()[0].split('\\t')))\n",
    "print(tokenizer.decode(a))"
   ]
  },
  {
   "cell_type": "code",
   "execution_count": 318,
   "metadata": {},
   "outputs": [],
   "source": [
    "language_type = [\n",
    "    '영어', # 0\n",
    "    '일본어', # 1\n",
    "    '스페인어', # 2\n",
    "    '포루투갈어', # 3\n",
    "    '크로아티아어', # 4\n",
    "    '터키어', # 5\n",
    "    '태국어', # 6\n",
    "    '아랍어', # 7\n",
    "    '한국어', # 8\n",
    "    '프랑스어', # 9\n",
    "    '인도네시아어', # 10\n",
    "    '힌디어', # 11\n",
    "    '러시아어', # 12\n",
    "    '타갈로그어', # 13\n",
    "    '이탈리아어', # 14\n",
    "    '페르시아어', # 15\n",
    "    '독일어', # 16\n",
    "    '폴란드어', # 17\n",
    "    '우르두어', # 18\n",
    "    '네덜란드어', # 19\n",
    "    '카탈로니아어', # 20\n",
    "    '중국어', # 21\n",
    "    '타밀어', # 22\n",
    "    '?', # 23\n",
    "    '?', # 24\n",
    "    '그리스어', # 25\n",
    "    '터키어', # 26\n",
    "    '체코어', # 27\n",
    "    '히브리어', # 28\n",
    "    '핀란드어', # 29\n",
    "    '노르웨이어', # 30\n",
    "    '마라티어', # 31\n",
    "    '텔루구어', # 32\n",
    "    '?', # 33\n",
    "    '우크라이나어', # 34\n",
    "    '?', # 35\n",
    "    '네팔어', # 36\n",
    "    '노르웨이어', # 37\n",
    "    '?', # 38\n",
    "    '헝가리어', # 39\n",
    "    '베트남어', # 40\n",
    "    '버마어', # 41\n",
    "    '프랑스어', # 42\n",
    "    '포르투갈어', # 43\n",
    "    '마케도니아어', # 44\n",
    "    '?', # 45\n",
    "    '말라가시어', # 46\n",
    "    '구자라트어', # 47\n",
    "    '말라얄람어', # 48\n",
    "    '칸나다어', # 49\n",
    "    '스와힐리어', # 50\n",
    "    '펀잡어', # 51\n",
    "    '불가리아어', # 52\n",
    "    '페르시아어', # 53\n",
    "    '페르시아어', # 54\n",
    "    '신디어', # 55\n",
    "    '?', # 56\n",
    "    '?', # 57\n",
    "    '?', # 58\n",
    "    '?', # 59\n",
    "    '아르메니아어', # 60\n",
    "    '?', # 61\n",
    "    '?', # 62\n",
    "    '?', # 63\n",
    "    '위구르어', # 64\n",
    "    '?', # 65\n",
    "]"
   ]
  },
  {
   "cell_type": "code",
   "execution_count": 319,
   "metadata": {},
   "outputs": [],
   "source": [
    "languages['language_type'] = language_type"
   ]
  },
  {
   "cell_type": "code",
   "execution_count": 320,
   "metadata": {},
   "outputs": [],
   "source": [
    "res = languages[['language_id', 'language', 'language_type']]"
   ]
  },
  {
   "cell_type": "code",
   "execution_count": 321,
   "metadata": {},
   "outputs": [],
   "source": [
    "res.to_csv(conf.project_root + 'data/language.csv', index=False)"
   ]
  },
  {
   "cell_type": "code",
   "execution_count": null,
   "metadata": {},
   "outputs": [],
   "source": []
  }
 ],
 "metadata": {
  "kernelspec": {
   "display_name": "Python 3",
   "language": "python",
   "name": "python3"
  },
  "language_info": {
   "codemirror_mode": {
    "name": "ipython",
    "version": 3
   },
   "file_extension": ".py",
   "mimetype": "text/x-python",
   "name": "python",
   "nbconvert_exporter": "python",
   "pygments_lexer": "ipython3",
   "version": "3.7.10"
  }
 },
 "nbformat": 4,
 "nbformat_minor": 2
}
