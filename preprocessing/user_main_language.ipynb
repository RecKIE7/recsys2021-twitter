{
 "cells": [
  {
   "cell_type": "code",
   "execution_count": 3,
   "metadata": {},
   "outputs": [],
   "source": [
    "import os\n",
    "import sys\n",
    "sys.path.append('..')\n",
    "import pickle\n",
    "import numpy as np\n",
    "import matplotlib.pyplot as plt\n",
    "import pandas as pd, numpy as np, gc\n",
    "from tqdm import tqdm\n",
    "from utils.util import *\n",
    "\n",
    "import core.config as conf"
   ]
  },
  {
   "cell_type": "code",
   "execution_count": 4,
   "metadata": {},
   "outputs": [],
   "source": [
    "path = f'/home/dataset/raw_lzo/'\n",
    "list_dir = os.listdir(path)"
   ]
  },
  {
   "cell_type": "code",
   "execution_count": 5,
   "metadata": {},
   "outputs": [],
   "source": [
    "def read_data(path, type='csv', sep='\\x01', features=conf.raw_features+conf.labels):\n",
    "    if type == 'csv':\n",
    "        df = pd.read_csv(f'{path}', sep=sep, header=None, names=features)\n",
    "        return df\n",
    "    else:\n",
    "        print('cannot read data')"
   ]
  },
  {
   "cell_type": "code",
   "execution_count": 6,
   "metadata": {},
   "outputs": [],
   "source": [
    "lang_dict_path = 'language_dict.pkl'\n",
    "if os.path.exists(lang_dict_path) :\n",
    "    with open(lang_dict_path, 'rb') as f :\n",
    "        lang_dict = pickle.load(f)"
   ]
  },
  {
   "cell_type": "code",
   "execution_count": 7,
   "metadata": {},
   "outputs": [],
   "source": [
    "lang_dict = {y:x for x,y in lang_dict.items()}"
   ]
  },
  {
   "cell_type": "code",
   "execution_count": 9,
   "metadata": {
    "scrolled": true
   },
   "outputs": [
    {
     "name": "stderr",
     "output_type": "stream",
     "text": [
      "100%|██████████| 291/291 [19:56:22<00:00, 246.68s/it]   \n"
     ]
    }
   ],
   "source": [
    "#tweet_id_path = 'tweet_id.pkl'\n",
    "user_language = defaultdict(list)\n",
    "\n",
    "for df_name in tqdm(list_dir) :\n",
    "    df = read_data(path+df_name)\n",
    "    for index, row in df.iterrows():\n",
    "        creator_id = row['creator_id']\n",
    "        engager_id = row['engager_id']\n",
    "        language = lang_dict[row['language']]\n",
    "        user_language[creator_id].append(language)\n",
    "        user_language[engager_id].append(language)\n",
    "    del df"
   ]
  },
  {
   "cell_type": "code",
   "execution_count": 10,
   "metadata": {},
   "outputs": [],
   "source": [
    "for user in user_language :\n",
    "    max_lang = max(user_language[user])\n",
    "    user_language[user] = max_lang"
   ]
  },
  {
   "cell_type": "code",
   "execution_count": 11,
   "metadata": {},
   "outputs": [],
   "source": [
    "main_lang_path = 'user_main_language.pkl'\n",
    "with open(main_lang_path, 'wb') as f:\n",
    "    pickle.dump(user_language, f)"
   ]
  },
  {
   "cell_type": "code",
   "execution_count": null,
   "metadata": {},
   "outputs": [],
   "source": []
  },
  {
   "cell_type": "code",
   "execution_count": null,
   "metadata": {},
   "outputs": [],
   "source": []
  }
 ],
 "metadata": {
  "kernelspec": {
   "display_name": "Python 3",
   "language": "python",
   "name": "python3"
  },
  "language_info": {
   "codemirror_mode": {
    "name": "ipython",
    "version": 3
   },
   "file_extension": ".py",
   "mimetype": "text/x-python",
   "name": "python",
   "nbconvert_exporter": "python",
   "pygments_lexer": "ipython3",
   "version": "3.6.10"
  }
 },
 "nbformat": 4,
 "nbformat_minor": 2
}
