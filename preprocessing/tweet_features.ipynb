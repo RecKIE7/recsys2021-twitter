{
 "metadata": {
  "language_info": {
   "codemirror_mode": {
    "name": "ipython",
    "version": 3
   },
   "file_extension": ".py",
   "mimetype": "text/x-python",
   "name": "python",
   "nbconvert_exporter": "python",
   "pygments_lexer": "ipython3",
   "version": "3.7.10"
  },
  "orig_nbformat": 2,
  "kernelspec": {
   "name": "python3710jvsc74a57bd0c4c1a3e9c3a39a0885e9d9bd6e4723f2ede522dfea9ed13682022cc292aed1ac",
   "display_name": "Python 3.7.10 64-bit ('dask-cudf': conda)"
  }
 },
 "nbformat": 4,
 "nbformat_minor": 2,
 "cells": [
  {
   "source": [
    "# Extracted from text token\n",
    "tweet_feature_mentions: list of ints (or None):\n",
    "- Mentions extracted from the tweet.\n",
    "\n",
    "tweet_feature_number_of_mentions: int:\n",
    "- Number of mentions in the tweet.\n",
    "\n",
    "tweet_feature_token_length: int:\n",
    "- Number of BERT tokens in the tweet.\n",
    "\n",
    "tweet_feature_token_length_unique: int:\n",
    "- Number of unique bert tokens in the tweet.\n",
    "\n",
    "tweet_feature_text_token_decoded: list of str:\n",
    "- Decoded BERT tokens.\n",
    "\n",
    "tweet_feature_text_topic_word_count_adult_content: int:\n",
    "- Number of 'adult content' words.\n",
    "\n",
    "tweet_feature_text_topic_word_count_kpop: int:\n",
    "- Number of 'kpop' words.\n",
    "\n",
    "tweet_feature_text_topic_word_count_covid: int:\n",
    "- Number of 'covid' words.\n",
    "\n",
    "tweet_feature_text_topic_word_count_sport: int:\n",
    "- Number of 'sport' words."
   ],
   "cell_type": "markdown",
   "metadata": {}
  },
  {
   "cell_type": "code",
   "execution_count": 8,
   "metadata": {},
   "outputs": [],
   "source": [
    "import sys\n",
    "sys.path.append('..')\n",
    "\n",
    "import core.config as conf\n",
    "from utils.preprocessing import *\n",
    "import numpy as np\n",
    "from tqdm import tqdm\n",
    "from datetime import datetime \n",
    "import matplotlib.pyplot as plt\n",
    "\n",
    "import tensorflow as tf\n",
    "from transformers import *\n",
    "from tensorflow.keras.preprocessing.sequence import pad_sequences\n",
    "from tensorflow.keras.callbacks import EarlyStopping, ModelCheckpoint\n"
   ]
  },
  {
   "cell_type": "code",
   "execution_count": 22,
   "metadata": {},
   "outputs": [],
   "source": [
    "tqdm.pandas()"
   ]
  },
  {
   "cell_type": "code",
   "execution_count": 4,
   "metadata": {},
   "outputs": [],
   "source": [
    "#random seed \n",
    "tf.random.set_seed(1234)\n",
    "np.random.seed(1234)"
   ]
  },
  {
   "cell_type": "code",
   "execution_count": 5,
   "metadata": {},
   "outputs": [],
   "source": [
    "tokenizer = BertTokenizer.from_pretrained(\"bert-base-multilingual-cased\", cache_dir='bert_ckpt', do_lower_case=False)"
   ]
  },
  {
   "source": [
    "## Load data"
   ],
   "cell_type": "markdown",
   "metadata": {}
  },
  {
   "cell_type": "code",
   "execution_count": 10,
   "metadata": {},
   "outputs": [],
   "source": [
    "data_path = '/hdd/twitter/dataset_mini/train'\n",
    "df = read_data(data_path)"
   ]
  },
  {
   "cell_type": "code",
   "execution_count": 12,
   "metadata": {},
   "outputs": [],
   "source": [
    "text_tokens = df['text_tokens']"
   ]
  },
  {
   "cell_type": "code",
   "execution_count": 13,
   "metadata": {},
   "outputs": [
    {
     "output_type": "execute_result",
     "data": {
      "text/plain": [
       "0          101\\t147\\t69849\\t11447\\t57277\\t63310\\t136\\t106...\n",
       "1          101\\t56898\\t137\\t10799\\t11039\\t168\\t26978\\t131...\n",
       "2          101\\t13304\\t179\\t14902\\t74788\\t10390\\t33993\\t1...\n",
       "3          101\\t620\\t55399\\t17451\\t69304\\t82692\\t572\\t105...\n",
       "4          101\\t10747\\t12723\\t10124\\t29956\\t91518\\t10142\\...\n",
       "                                 ...                        \n",
       "4338901    101\\t1972\\t18825\\t3425\\t100\\t14120\\t131\\t120\\t...\n",
       "4338902    101\\t56898\\t137\\t25944\\t22659\\t11305\\t131\\t181...\n",
       "4338903    101\\t100\\t108\\t16062\\t11281\\t10115\\t11274\\t102...\n",
       "4338904    101\\t100\\t27577\\t30416\\t10107\\t10655\\t11239\\t1...\n",
       "4338905    101\\t18740\\t11003\\t98514\\t10529\\t12229\\t18103\\...\n",
       "Name: text_tokens, Length: 4338906, dtype: object"
      ]
     },
     "metadata": {},
     "execution_count": 13
    }
   ],
   "source": [
    "text_tokens"
   ]
  },
  {
   "cell_type": "code",
   "execution_count": 18,
   "metadata": {},
   "outputs": [],
   "source": [
    "df['len_text_tokens'] = df['text_tokens'].apply(lambda x: len(x.split('\\t')))"
   ]
  },
  {
   "cell_type": "code",
   "execution_count": 23,
   "metadata": {},
   "outputs": [
    {
     "output_type": "stream",
     "name": "stderr",
     "text": [
      "100%|██████████| 4338906/4338906 [43:49<00:00, 1649.95it/s]\n"
     ]
    }
   ],
   "source": [
    "df['decoded_text_tokens'] = df['text_tokens'].progress_apply(lambda x: tokenizer.decode(x.split('\\t'), skip_special_tokens=True))"
   ]
  },
  {
   "cell_type": "code",
   "execution_count": 27,
   "metadata": {},
   "outputs": [
    {
     "output_type": "execute_result",
     "data": {
      "text/plain": [
       "'RT @'"
      ]
     },
     "metadata": {},
     "execution_count": 27
    }
   ],
   "source": [
    "# x = '101\\t56898\\t137'\n",
    "# tokenizer.decode(x.split('\\t'), skip_special_tokens=True)"
   ]
  },
  {
   "cell_type": "code",
   "execution_count": 30,
   "metadata": {},
   "outputs": [
    {
     "output_type": "stream",
     "name": "stderr",
     "text": [
      "100%|██████████| 4338906/4338906 [00:08<00:00, 506917.75it/s]\n"
     ]
    }
   ],
   "source": [
    "df['cnt_mention'] = df['text_tokens'].progress_apply(lambda x: (x.split('\\t').count('137')))"
   ]
  },
  {
   "cell_type": "code",
   "execution_count": 33,
   "metadata": {},
   "outputs": [
    {
     "output_type": "stream",
     "name": "stderr",
     "text": [
      "100%|██████████| 4338906/4338906 [00:19<00:00, 217804.30it/s]\n"
     ]
    }
   ],
   "source": [
    "df['len_text_tokens_unique'] = df['text_tokens'].progress_apply(lambda x: len(list(set(x.split('\\t')))))"
   ]
  },
  {
   "cell_type": "code",
   "execution_count": 34,
   "metadata": {},
   "outputs": [
    {
     "output_type": "execute_result",
     "data": {
      "text/plain": [
       "                                         text_tokens hashtags  \\\n",
       "0  101\\t147\\t69849\\t11447\\t57277\\t63310\\t136\\t106...      NaN   \n",
       "1  101\\t56898\\t137\\t10799\\t11039\\t168\\t26978\\t131...      NaN   \n",
       "2  101\\t13304\\t179\\t14902\\t74788\\t10390\\t33993\\t1...      NaN   \n",
       "3  101\\t620\\t55399\\t17451\\t69304\\t82692\\t572\\t105...      NaN   \n",
       "4  101\\t10747\\t12723\\t10124\\t29956\\t91518\\t10142\\...      NaN   \n",
       "\n",
       "                           tweet_id         media  \\\n",
       "0  6238B9E15E83B6D477394E9D80B3784E  Photo\\tPhoto   \n",
       "1  731FB90C6CFEF1B71D322106573F71DB         Photo   \n",
       "2  89276E5272498E858EE8AF691EBF0951           NaN   \n",
       "3  502FDBC0EB4E7AB157D38262817716EB           NaN   \n",
       "4  CF1F523F7D4D4139E5FD3EBD72F27D5A           NaN   \n",
       "\n",
       "                              links                           domains  \\\n",
       "0                               NaN                               NaN   \n",
       "1                               NaN                               NaN   \n",
       "2                               NaN                               NaN   \n",
       "3  F65FE23F3E97EE91DB990B4E02FC8DFC  28F197E209F61EE2F1C97FBF9128976D   \n",
       "4                               NaN                               NaN   \n",
       "\n",
       "  tweet_type                          language  tweet_timestamp  \\\n",
       "0   TopLevel  7F4FAB1EB12CD95EDCD9DB2A6634EFCE       1612883086   \n",
       "1    Retweet  E7F038DE3EAD397AEC9193686C911677       1612864776   \n",
       "2   TopLevel  1F73BB863A39DB62B4A55B7E558DB1E8       1613661020   \n",
       "3   TopLevel  310ECD7D1E42216E3C1B31EFDDFC72A7       1612751908   \n",
       "4   TopLevel  488B32D24BD4BB44172EB981C1BCA6FA       1613060168   \n",
       "\n",
       "                         creator_id  ...  creator_follows_engager  \\\n",
       "0  F09233A58769507FD4E6FD618BCFA5B6  ...                    False   \n",
       "1  46BEEE566BB708F18075A60FDDAA8503  ...                     True   \n",
       "2  83F59BF2E0778AC4078FA3F7B71F5960  ...                     True   \n",
       "3  C96110509F8B6256CE08A8AE85ED75DB  ...                     True   \n",
       "4  2031F18622E7C6A30E702D33776BF2C1  ...                    False   \n",
       "\n",
       "   reply_timestamp  retweet_timestamp  comment_timestamp like_timestamp  \\\n",
       "0              NaN                NaN                NaN            NaN   \n",
       "1              NaN                NaN                NaN            NaN   \n",
       "2              NaN                NaN                NaN   1.613662e+09   \n",
       "3              NaN                NaN                NaN            NaN   \n",
       "4              NaN                NaN                NaN   1.613061e+09   \n",
       "\n",
       "   len_tokens  len_text_tokens  \\\n",
       "0         147               30   \n",
       "1         432               81   \n",
       "2         105               19   \n",
       "3         682              124   \n",
       "4         365               69   \n",
       "\n",
       "                                 decoded_text_tokens  cnt_mention  \\\n",
       "0      JUNGKOOK?!!??? https : / / t. co / 1Fx5Xk4TDv            0   \n",
       "1  RT @ nanjo _ info : 【 お 知 らせ 】 デレステ 、 及 びモバマス ...            1   \n",
       "2      Ben köşeliydim hayat dedi düz olana yanaşırım            0   \n",
       "3  Өрнөсөн үйл явдлуудыг долоо хоног тутмын Үндэс...            0   \n",
       "4  This country is rigged for the top 1 %. ¶ ¶ If...            0   \n",
       "\n",
       "   len_text_tokens_unique  \n",
       "0                      24  \n",
       "1                      77  \n",
       "2                      19  \n",
       "3                     102  \n",
       "4                      47  \n",
       "\n",
       "[5 rows x 29 columns]"
      ],
      "text/html": "<div>\n<style scoped>\n    .dataframe tbody tr th:only-of-type {\n        vertical-align: middle;\n    }\n\n    .dataframe tbody tr th {\n        vertical-align: top;\n    }\n\n    .dataframe thead th {\n        text-align: right;\n    }\n</style>\n<table border=\"1\" class=\"dataframe\">\n  <thead>\n    <tr style=\"text-align: right;\">\n      <th></th>\n      <th>text_tokens</th>\n      <th>hashtags</th>\n      <th>tweet_id</th>\n      <th>media</th>\n      <th>links</th>\n      <th>domains</th>\n      <th>tweet_type</th>\n      <th>language</th>\n      <th>tweet_timestamp</th>\n      <th>creator_id</th>\n      <th>...</th>\n      <th>creator_follows_engager</th>\n      <th>reply_timestamp</th>\n      <th>retweet_timestamp</th>\n      <th>comment_timestamp</th>\n      <th>like_timestamp</th>\n      <th>len_tokens</th>\n      <th>len_text_tokens</th>\n      <th>decoded_text_tokens</th>\n      <th>cnt_mention</th>\n      <th>len_text_tokens_unique</th>\n    </tr>\n  </thead>\n  <tbody>\n    <tr>\n      <th>0</th>\n      <td>101\\t147\\t69849\\t11447\\t57277\\t63310\\t136\\t106...</td>\n      <td>NaN</td>\n      <td>6238B9E15E83B6D477394E9D80B3784E</td>\n      <td>Photo\\tPhoto</td>\n      <td>NaN</td>\n      <td>NaN</td>\n      <td>TopLevel</td>\n      <td>7F4FAB1EB12CD95EDCD9DB2A6634EFCE</td>\n      <td>1612883086</td>\n      <td>F09233A58769507FD4E6FD618BCFA5B6</td>\n      <td>...</td>\n      <td>False</td>\n      <td>NaN</td>\n      <td>NaN</td>\n      <td>NaN</td>\n      <td>NaN</td>\n      <td>147</td>\n      <td>30</td>\n      <td>JUNGKOOK?!!??? https : / / t. co / 1Fx5Xk4TDv</td>\n      <td>0</td>\n      <td>24</td>\n    </tr>\n    <tr>\n      <th>1</th>\n      <td>101\\t56898\\t137\\t10799\\t11039\\t168\\t26978\\t131...</td>\n      <td>NaN</td>\n      <td>731FB90C6CFEF1B71D322106573F71DB</td>\n      <td>Photo</td>\n      <td>NaN</td>\n      <td>NaN</td>\n      <td>Retweet</td>\n      <td>E7F038DE3EAD397AEC9193686C911677</td>\n      <td>1612864776</td>\n      <td>46BEEE566BB708F18075A60FDDAA8503</td>\n      <td>...</td>\n      <td>True</td>\n      <td>NaN</td>\n      <td>NaN</td>\n      <td>NaN</td>\n      <td>NaN</td>\n      <td>432</td>\n      <td>81</td>\n      <td>RT @ nanjo _ info : 【 お 知 らせ 】 デレステ 、 及 びモバマス ...</td>\n      <td>1</td>\n      <td>77</td>\n    </tr>\n    <tr>\n      <th>2</th>\n      <td>101\\t13304\\t179\\t14902\\t74788\\t10390\\t33993\\t1...</td>\n      <td>NaN</td>\n      <td>89276E5272498E858EE8AF691EBF0951</td>\n      <td>NaN</td>\n      <td>NaN</td>\n      <td>NaN</td>\n      <td>TopLevel</td>\n      <td>1F73BB863A39DB62B4A55B7E558DB1E8</td>\n      <td>1613661020</td>\n      <td>83F59BF2E0778AC4078FA3F7B71F5960</td>\n      <td>...</td>\n      <td>True</td>\n      <td>NaN</td>\n      <td>NaN</td>\n      <td>NaN</td>\n      <td>1.613662e+09</td>\n      <td>105</td>\n      <td>19</td>\n      <td>Ben köşeliydim hayat dedi düz olana yanaşırım</td>\n      <td>0</td>\n      <td>19</td>\n    </tr>\n    <tr>\n      <th>3</th>\n      <td>101\\t620\\t55399\\t17451\\t69304\\t82692\\t572\\t105...</td>\n      <td>NaN</td>\n      <td>502FDBC0EB4E7AB157D38262817716EB</td>\n      <td>NaN</td>\n      <td>F65FE23F3E97EE91DB990B4E02FC8DFC</td>\n      <td>28F197E209F61EE2F1C97FBF9128976D</td>\n      <td>TopLevel</td>\n      <td>310ECD7D1E42216E3C1B31EFDDFC72A7</td>\n      <td>1612751908</td>\n      <td>C96110509F8B6256CE08A8AE85ED75DB</td>\n      <td>...</td>\n      <td>True</td>\n      <td>NaN</td>\n      <td>NaN</td>\n      <td>NaN</td>\n      <td>NaN</td>\n      <td>682</td>\n      <td>124</td>\n      <td>Өрнөсөн үйл явдлуудыг долоо хоног тутмын Үндэс...</td>\n      <td>0</td>\n      <td>102</td>\n    </tr>\n    <tr>\n      <th>4</th>\n      <td>101\\t10747\\t12723\\t10124\\t29956\\t91518\\t10142\\...</td>\n      <td>NaN</td>\n      <td>CF1F523F7D4D4139E5FD3EBD72F27D5A</td>\n      <td>NaN</td>\n      <td>NaN</td>\n      <td>NaN</td>\n      <td>TopLevel</td>\n      <td>488B32D24BD4BB44172EB981C1BCA6FA</td>\n      <td>1613060168</td>\n      <td>2031F18622E7C6A30E702D33776BF2C1</td>\n      <td>...</td>\n      <td>False</td>\n      <td>NaN</td>\n      <td>NaN</td>\n      <td>NaN</td>\n      <td>1.613061e+09</td>\n      <td>365</td>\n      <td>69</td>\n      <td>This country is rigged for the top 1 %. ¶ ¶ If...</td>\n      <td>0</td>\n      <td>47</td>\n    </tr>\n  </tbody>\n</table>\n<p>5 rows × 29 columns</p>\n</div>"
     },
     "metadata": {},
     "execution_count": 34
    }
   ],
   "source": [
    "df.head()"
   ]
  },
  {
   "cell_type": "code",
   "execution_count": 48,
   "metadata": {},
   "outputs": [
    {
     "output_type": "execute_result",
     "data": {
      "text/plain": [
       "[101, 30521, 19509, 102]"
      ]
     },
     "metadata": {},
     "execution_count": 48
    }
   ],
   "source": [
    "tokenizer.encode('adult content')"
   ]
  },
  {
   "cell_type": "code",
   "execution_count": 41,
   "metadata": {},
   "outputs": [
    {
     "output_type": "execute_result",
     "data": {
      "text/plain": [
       "'[CLS] kpop [SEP]'"
      ]
     },
     "metadata": {},
     "execution_count": 41
    }
   ],
   "source": [
    "tokenizer.decode([101, 11170, 32194, 102])"
   ]
  },
  {
   "cell_type": "code",
   "execution_count": 49,
   "metadata": {},
   "outputs": [
    {
     "output_type": "stream",
     "name": "stderr",
     "text": [
      "100%|██████████| 4338906/4338906 [00:08<00:00, 483630.57it/s]\n"
     ]
    }
   ],
   "source": [
    "df['wc_sport'] = df['text_tokens'].progress_apply(lambda x: (x.split('\\t').count('17925')))"
   ]
  },
  {
   "cell_type": "code",
   "execution_count": 50,
   "metadata": {},
   "outputs": [
    {
     "output_type": "execute_result",
     "data": {
      "text/plain": [
       "                                               text_tokens  \\\n",
       "0        101\\t147\\t69849\\t11447\\t57277\\t63310\\t136\\t106...   \n",
       "1        101\\t56898\\t137\\t10799\\t11039\\t168\\t26978\\t131...   \n",
       "2        101\\t13304\\t179\\t14902\\t74788\\t10390\\t33993\\t1...   \n",
       "3        101\\t620\\t55399\\t17451\\t69304\\t82692\\t572\\t105...   \n",
       "4        101\\t10747\\t12723\\t10124\\t29956\\t91518\\t10142\\...   \n",
       "...                                                    ...   \n",
       "4338901  101\\t1972\\t18825\\t3425\\t100\\t14120\\t131\\t120\\t...   \n",
       "4338902  101\\t56898\\t137\\t25944\\t22659\\t11305\\t131\\t181...   \n",
       "4338903  101\\t100\\t108\\t16062\\t11281\\t10115\\t11274\\t102...   \n",
       "4338904  101\\t100\\t27577\\t30416\\t10107\\t10655\\t11239\\t1...   \n",
       "4338905  101\\t18740\\t11003\\t98514\\t10529\\t12229\\t18103\\...   \n",
       "\n",
       "                                                  hashtags  \\\n",
       "0                                                      NaN   \n",
       "1                                                      NaN   \n",
       "2                                                      NaN   \n",
       "3                                                      NaN   \n",
       "4                                                      NaN   \n",
       "...                                                    ...   \n",
       "4338901                                                NaN   \n",
       "4338902                                                NaN   \n",
       "4338903                   360847D5E2E14DE261D275573CFCCE34   \n",
       "4338904  80E7062116A700EBFA5E0A99EDCDBBAD\\t3AAE07FAD1D5...   \n",
       "4338905                   40110025DD66B25DE4A54644E7E2259F   \n",
       "\n",
       "                                 tweet_id                       media  \\\n",
       "0        6238B9E15E83B6D477394E9D80B3784E                Photo\\tPhoto   \n",
       "1        731FB90C6CFEF1B71D322106573F71DB                       Photo   \n",
       "2        89276E5272498E858EE8AF691EBF0951                         NaN   \n",
       "3        502FDBC0EB4E7AB157D38262817716EB                         NaN   \n",
       "4        CF1F523F7D4D4139E5FD3EBD72F27D5A                         NaN   \n",
       "...                                   ...                         ...   \n",
       "4338901  EE63068E74D7E293457FDC2EA3527D65                       Photo   \n",
       "4338902  F15B4615DA12447331AFEC90FA814B4D                         NaN   \n",
       "4338903  DA947A6368CF4414BEA9172003A639FD                Photo\\tPhoto   \n",
       "4338904  730879D11261FA6700804AD49CCB59BB  Photo\\tPhoto\\tPhoto\\tPhoto   \n",
       "4338905  D22612FC6C7E4CFAECB4CAE406DB072F                Photo\\tPhoto   \n",
       "\n",
       "                                    links                           domains  \\\n",
       "0                                     NaN                               NaN   \n",
       "1                                     NaN                               NaN   \n",
       "2                                     NaN                               NaN   \n",
       "3        F65FE23F3E97EE91DB990B4E02FC8DFC  28F197E209F61EE2F1C97FBF9128976D   \n",
       "4                                     NaN                               NaN   \n",
       "...                                   ...                               ...   \n",
       "4338901                               NaN                               NaN   \n",
       "4338902                               NaN                               NaN   \n",
       "4338903                               NaN                               NaN   \n",
       "4338904                               NaN                               NaN   \n",
       "4338905                               NaN                               NaN   \n",
       "\n",
       "        tweet_type                          language  tweet_timestamp  \\\n",
       "0         TopLevel  7F4FAB1EB12CD95EDCD9DB2A6634EFCE       1612883086   \n",
       "1          Retweet  E7F038DE3EAD397AEC9193686C911677       1612864776   \n",
       "2         TopLevel  1F73BB863A39DB62B4A55B7E558DB1E8       1613661020   \n",
       "3         TopLevel  310ECD7D1E42216E3C1B31EFDDFC72A7       1612751908   \n",
       "4         TopLevel  488B32D24BD4BB44172EB981C1BCA6FA       1613060168   \n",
       "...            ...                               ...              ...   \n",
       "4338901   TopLevel  E7F038DE3EAD397AEC9193686C911677       1612670742   \n",
       "4338902    Retweet  488B32D24BD4BB44172EB981C1BCA6FA       1612744473   \n",
       "4338903   TopLevel  B8B04128918BBF54E2E178BFF1ABA833       1612397867   \n",
       "4338904   TopLevel  488B32D24BD4BB44172EB981C1BCA6FA       1612956173   \n",
       "4338905   TopLevel  488B32D24BD4BB44172EB981C1BCA6FA       1613569320   \n",
       "\n",
       "                               creator_id  ...  retweet_timestamp  \\\n",
       "0        F09233A58769507FD4E6FD618BCFA5B6  ...                NaN   \n",
       "1        46BEEE566BB708F18075A60FDDAA8503  ...                NaN   \n",
       "2        83F59BF2E0778AC4078FA3F7B71F5960  ...                NaN   \n",
       "3        C96110509F8B6256CE08A8AE85ED75DB  ...                NaN   \n",
       "4        2031F18622E7C6A30E702D33776BF2C1  ...                NaN   \n",
       "...                                   ...  ...                ...   \n",
       "4338901  968FAF2F52AACA58C2B41CE5B13A811D  ...                NaN   \n",
       "4338902  54652625625729AE0E38196970594938  ...                NaN   \n",
       "4338903  614E269F8E5D731946BDBC86E9DC4F4D  ...                NaN   \n",
       "4338904  5A5C7CCA69CDEBBD7E81C3797DE9DD7E  ...                NaN   \n",
       "4338905  87BD2290F2A144F5F52A176AE3795CBC  ...                NaN   \n",
       "\n",
       "         comment_timestamp  like_timestamp  len_tokens len_text_tokens  \\\n",
       "0                      NaN             NaN         147              30   \n",
       "1                      NaN             NaN         432              81   \n",
       "2                      NaN    1.613662e+09         105              19   \n",
       "3                      NaN             NaN         682             124   \n",
       "4                      NaN    1.613061e+09         365              69   \n",
       "...                    ...             ...         ...             ...   \n",
       "4338901                NaN    1.612707e+09         111              22   \n",
       "4338902                NaN             NaN         127              23   \n",
       "4338903                NaN    1.612443e+09         415              75   \n",
       "4338904                NaN    1.612962e+09         420              77   \n",
       "4338905                NaN    1.613578e+09         233              45   \n",
       "\n",
       "                                       decoded_text_tokens  cnt_mention  \\\n",
       "0            JUNGKOOK?!!??? https : / / t. co / 1Fx5Xk4TDv            0   \n",
       "1        RT @ nanjo _ info : 【 お 知 らせ 】 デレステ 、 及 びモバマス ...            1   \n",
       "2            Ben köşeliydim hayat dedi düz olana yanaşırım            0   \n",
       "3        Өрнөсөн үйл явдлуудыг долоо хоног тутмын Үндэс...            0   \n",
       "4        This country is rigged for the top 1 %. ¶ ¶ If...            0   \n",
       "...                                                    ...          ...   \n",
       "4338901                よく 寝 https : / / t. co / SrGk5Z8naN            0   \n",
       "4338902  RT @ Leslieoo7 : Vladimir Putin owns two Patek...            1   \n",
       "4338903  # AliceInBorderland atingiu mais de 18 milhões...            0   \n",
       "4338904  Yorkshire Dales National Park has been named #...            0   \n",
       "4338905  Only three managers have presided over 9 - 0 w...            0   \n",
       "\n",
       "         len_text_tokens_unique  wc_17925  wc_sport  \n",
       "0                            24         0         0  \n",
       "1                            77         0         0  \n",
       "2                            19         0         0  \n",
       "3                           102         0         0  \n",
       "4                            47         0         0  \n",
       "...                         ...       ...       ...  \n",
       "4338901                      20         0         0  \n",
       "4338902                      23         0         0  \n",
       "4338903                      62         0         0  \n",
       "4338904                      55         0         0  \n",
       "4338905                      41         0         0  \n",
       "\n",
       "[4338906 rows x 31 columns]"
      ],
      "text/html": "<div>\n<style scoped>\n    .dataframe tbody tr th:only-of-type {\n        vertical-align: middle;\n    }\n\n    .dataframe tbody tr th {\n        vertical-align: top;\n    }\n\n    .dataframe thead th {\n        text-align: right;\n    }\n</style>\n<table border=\"1\" class=\"dataframe\">\n  <thead>\n    <tr style=\"text-align: right;\">\n      <th></th>\n      <th>text_tokens</th>\n      <th>hashtags</th>\n      <th>tweet_id</th>\n      <th>media</th>\n      <th>links</th>\n      <th>domains</th>\n      <th>tweet_type</th>\n      <th>language</th>\n      <th>tweet_timestamp</th>\n      <th>creator_id</th>\n      <th>...</th>\n      <th>retweet_timestamp</th>\n      <th>comment_timestamp</th>\n      <th>like_timestamp</th>\n      <th>len_tokens</th>\n      <th>len_text_tokens</th>\n      <th>decoded_text_tokens</th>\n      <th>cnt_mention</th>\n      <th>len_text_tokens_unique</th>\n      <th>wc_17925</th>\n      <th>wc_sport</th>\n    </tr>\n  </thead>\n  <tbody>\n    <tr>\n      <th>0</th>\n      <td>101\\t147\\t69849\\t11447\\t57277\\t63310\\t136\\t106...</td>\n      <td>NaN</td>\n      <td>6238B9E15E83B6D477394E9D80B3784E</td>\n      <td>Photo\\tPhoto</td>\n      <td>NaN</td>\n      <td>NaN</td>\n      <td>TopLevel</td>\n      <td>7F4FAB1EB12CD95EDCD9DB2A6634EFCE</td>\n      <td>1612883086</td>\n      <td>F09233A58769507FD4E6FD618BCFA5B6</td>\n      <td>...</td>\n      <td>NaN</td>\n      <td>NaN</td>\n      <td>NaN</td>\n      <td>147</td>\n      <td>30</td>\n      <td>JUNGKOOK?!!??? https : / / t. co / 1Fx5Xk4TDv</td>\n      <td>0</td>\n      <td>24</td>\n      <td>0</td>\n      <td>0</td>\n    </tr>\n    <tr>\n      <th>1</th>\n      <td>101\\t56898\\t137\\t10799\\t11039\\t168\\t26978\\t131...</td>\n      <td>NaN</td>\n      <td>731FB90C6CFEF1B71D322106573F71DB</td>\n      <td>Photo</td>\n      <td>NaN</td>\n      <td>NaN</td>\n      <td>Retweet</td>\n      <td>E7F038DE3EAD397AEC9193686C911677</td>\n      <td>1612864776</td>\n      <td>46BEEE566BB708F18075A60FDDAA8503</td>\n      <td>...</td>\n      <td>NaN</td>\n      <td>NaN</td>\n      <td>NaN</td>\n      <td>432</td>\n      <td>81</td>\n      <td>RT @ nanjo _ info : 【 お 知 らせ 】 デレステ 、 及 びモバマス ...</td>\n      <td>1</td>\n      <td>77</td>\n      <td>0</td>\n      <td>0</td>\n    </tr>\n    <tr>\n      <th>2</th>\n      <td>101\\t13304\\t179\\t14902\\t74788\\t10390\\t33993\\t1...</td>\n      <td>NaN</td>\n      <td>89276E5272498E858EE8AF691EBF0951</td>\n      <td>NaN</td>\n      <td>NaN</td>\n      <td>NaN</td>\n      <td>TopLevel</td>\n      <td>1F73BB863A39DB62B4A55B7E558DB1E8</td>\n      <td>1613661020</td>\n      <td>83F59BF2E0778AC4078FA3F7B71F5960</td>\n      <td>...</td>\n      <td>NaN</td>\n      <td>NaN</td>\n      <td>1.613662e+09</td>\n      <td>105</td>\n      <td>19</td>\n      <td>Ben köşeliydim hayat dedi düz olana yanaşırım</td>\n      <td>0</td>\n      <td>19</td>\n      <td>0</td>\n      <td>0</td>\n    </tr>\n    <tr>\n      <th>3</th>\n      <td>101\\t620\\t55399\\t17451\\t69304\\t82692\\t572\\t105...</td>\n      <td>NaN</td>\n      <td>502FDBC0EB4E7AB157D38262817716EB</td>\n      <td>NaN</td>\n      <td>F65FE23F3E97EE91DB990B4E02FC8DFC</td>\n      <td>28F197E209F61EE2F1C97FBF9128976D</td>\n      <td>TopLevel</td>\n      <td>310ECD7D1E42216E3C1B31EFDDFC72A7</td>\n      <td>1612751908</td>\n      <td>C96110509F8B6256CE08A8AE85ED75DB</td>\n      <td>...</td>\n      <td>NaN</td>\n      <td>NaN</td>\n      <td>NaN</td>\n      <td>682</td>\n      <td>124</td>\n      <td>Өрнөсөн үйл явдлуудыг долоо хоног тутмын Үндэс...</td>\n      <td>0</td>\n      <td>102</td>\n      <td>0</td>\n      <td>0</td>\n    </tr>\n    <tr>\n      <th>4</th>\n      <td>101\\t10747\\t12723\\t10124\\t29956\\t91518\\t10142\\...</td>\n      <td>NaN</td>\n      <td>CF1F523F7D4D4139E5FD3EBD72F27D5A</td>\n      <td>NaN</td>\n      <td>NaN</td>\n      <td>NaN</td>\n      <td>TopLevel</td>\n      <td>488B32D24BD4BB44172EB981C1BCA6FA</td>\n      <td>1613060168</td>\n      <td>2031F18622E7C6A30E702D33776BF2C1</td>\n      <td>...</td>\n      <td>NaN</td>\n      <td>NaN</td>\n      <td>1.613061e+09</td>\n      <td>365</td>\n      <td>69</td>\n      <td>This country is rigged for the top 1 %. ¶ ¶ If...</td>\n      <td>0</td>\n      <td>47</td>\n      <td>0</td>\n      <td>0</td>\n    </tr>\n    <tr>\n      <th>...</th>\n      <td>...</td>\n      <td>...</td>\n      <td>...</td>\n      <td>...</td>\n      <td>...</td>\n      <td>...</td>\n      <td>...</td>\n      <td>...</td>\n      <td>...</td>\n      <td>...</td>\n      <td>...</td>\n      <td>...</td>\n      <td>...</td>\n      <td>...</td>\n      <td>...</td>\n      <td>...</td>\n      <td>...</td>\n      <td>...</td>\n      <td>...</td>\n      <td>...</td>\n      <td>...</td>\n    </tr>\n    <tr>\n      <th>4338901</th>\n      <td>101\\t1972\\t18825\\t3425\\t100\\t14120\\t131\\t120\\t...</td>\n      <td>NaN</td>\n      <td>EE63068E74D7E293457FDC2EA3527D65</td>\n      <td>Photo</td>\n      <td>NaN</td>\n      <td>NaN</td>\n      <td>TopLevel</td>\n      <td>E7F038DE3EAD397AEC9193686C911677</td>\n      <td>1612670742</td>\n      <td>968FAF2F52AACA58C2B41CE5B13A811D</td>\n      <td>...</td>\n      <td>NaN</td>\n      <td>NaN</td>\n      <td>1.612707e+09</td>\n      <td>111</td>\n      <td>22</td>\n      <td>よく 寝 https : / / t. co / SrGk5Z8naN</td>\n      <td>0</td>\n      <td>20</td>\n      <td>0</td>\n      <td>0</td>\n    </tr>\n    <tr>\n      <th>4338902</th>\n      <td>101\\t56898\\t137\\t25944\\t22659\\t11305\\t131\\t181...</td>\n      <td>NaN</td>\n      <td>F15B4615DA12447331AFEC90FA814B4D</td>\n      <td>NaN</td>\n      <td>NaN</td>\n      <td>NaN</td>\n      <td>Retweet</td>\n      <td>488B32D24BD4BB44172EB981C1BCA6FA</td>\n      <td>1612744473</td>\n      <td>54652625625729AE0E38196970594938</td>\n      <td>...</td>\n      <td>NaN</td>\n      <td>NaN</td>\n      <td>NaN</td>\n      <td>127</td>\n      <td>23</td>\n      <td>RT @ Leslieoo7 : Vladimir Putin owns two Patek...</td>\n      <td>1</td>\n      <td>23</td>\n      <td>0</td>\n      <td>0</td>\n    </tr>\n    <tr>\n      <th>4338903</th>\n      <td>101\\t100\\t108\\t16062\\t11281\\t10115\\t11274\\t102...</td>\n      <td>360847D5E2E14DE261D275573CFCCE34</td>\n      <td>DA947A6368CF4414BEA9172003A639FD</td>\n      <td>Photo\\tPhoto</td>\n      <td>NaN</td>\n      <td>NaN</td>\n      <td>TopLevel</td>\n      <td>B8B04128918BBF54E2E178BFF1ABA833</td>\n      <td>1612397867</td>\n      <td>614E269F8E5D731946BDBC86E9DC4F4D</td>\n      <td>...</td>\n      <td>NaN</td>\n      <td>NaN</td>\n      <td>1.612443e+09</td>\n      <td>415</td>\n      <td>75</td>\n      <td># AliceInBorderland atingiu mais de 18 milhões...</td>\n      <td>0</td>\n      <td>62</td>\n      <td>0</td>\n      <td>0</td>\n    </tr>\n    <tr>\n      <th>4338904</th>\n      <td>101\\t100\\t27577\\t30416\\t10107\\t10655\\t11239\\t1...</td>\n      <td>80E7062116A700EBFA5E0A99EDCDBBAD\\t3AAE07FAD1D5...</td>\n      <td>730879D11261FA6700804AD49CCB59BB</td>\n      <td>Photo\\tPhoto\\tPhoto\\tPhoto</td>\n      <td>NaN</td>\n      <td>NaN</td>\n      <td>TopLevel</td>\n      <td>488B32D24BD4BB44172EB981C1BCA6FA</td>\n      <td>1612956173</td>\n      <td>5A5C7CCA69CDEBBD7E81C3797DE9DD7E</td>\n      <td>...</td>\n      <td>NaN</td>\n      <td>NaN</td>\n      <td>1.612962e+09</td>\n      <td>420</td>\n      <td>77</td>\n      <td>Yorkshire Dales National Park has been named #...</td>\n      <td>0</td>\n      <td>55</td>\n      <td>0</td>\n      <td>0</td>\n    </tr>\n    <tr>\n      <th>4338905</th>\n      <td>101\\t18740\\t11003\\t98514\\t10529\\t12229\\t18103\\...</td>\n      <td>40110025DD66B25DE4A54644E7E2259F</td>\n      <td>D22612FC6C7E4CFAECB4CAE406DB072F</td>\n      <td>Photo\\tPhoto</td>\n      <td>NaN</td>\n      <td>NaN</td>\n      <td>TopLevel</td>\n      <td>488B32D24BD4BB44172EB981C1BCA6FA</td>\n      <td>1613569320</td>\n      <td>87BD2290F2A144F5F52A176AE3795CBC</td>\n      <td>...</td>\n      <td>NaN</td>\n      <td>NaN</td>\n      <td>1.613578e+09</td>\n      <td>233</td>\n      <td>45</td>\n      <td>Only three managers have presided over 9 - 0 w...</td>\n      <td>0</td>\n      <td>41</td>\n      <td>0</td>\n      <td>0</td>\n    </tr>\n  </tbody>\n</table>\n<p>4338906 rows × 31 columns</p>\n</div>"
     },
     "metadata": {},
     "execution_count": 50
    }
   ],
   "source": [
    "df"
   ]
  },
  {
   "cell_type": "code",
   "execution_count": null,
   "metadata": {},
   "outputs": [],
   "source": []
  }
 ]
}