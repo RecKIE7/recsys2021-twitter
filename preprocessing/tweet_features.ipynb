{
 "metadata": {
  "language_info": {
   "codemirror_mode": {
    "name": "ipython",
    "version": 3
   },
   "file_extension": ".py",
   "mimetype": "text/x-python",
   "name": "python",
   "nbconvert_exporter": "python",
   "pygments_lexer": "ipython3",
   "version": "3.7.10"
  },
  "orig_nbformat": 2,
  "kernelspec": {
   "name": "python3710jvsc74a57bd0c4c1a3e9c3a39a0885e9d9bd6e4723f2ede522dfea9ed13682022cc292aed1ac",
   "display_name": "Python 3.7.10 64-bit ('dask-cudf': conda)"
  }
 },
 "nbformat": 4,
 "nbformat_minor": 2,
 "cells": [
  {
   "source": [
    "# Extracted from text token\n",
    "tweet_feature_mentions: list of ints (or None):\n",
    "- Mentions extracted from the tweet.\n",
    "\n",
    "tweet_feature_number_of_mentions: int:\n",
    "- Number of mentions in the tweet.\n",
    "\n",
    "tweet_feature_token_length: int:\n",
    "- Number of BERT tokens in the tweet.\n",
    "\n",
    "tweet_feature_token_length_unique: int:\n",
    "- Number of unique bert tokens in the tweet.\n",
    "\n",
    "tweet_feature_text_token_decoded: list of str:\n",
    "- Decoded BERT tokens.\n",
    "\n",
    "tweet_feature_text_topic_word_count_adult_content: int:\n",
    "- Number of 'adult content' words.\n",
    "\n",
    "tweet_feature_text_topic_word_count_kpop: int:\n",
    "- Number of 'kpop' words.\n",
    "\n",
    "tweet_feature_text_topic_word_count_covid: int:\n",
    "- Number of 'covid' words.\n",
    "\n",
    "tweet_feature_text_topic_word_count_sport: int:\n",
    "- Number of 'sport' words."
   ],
   "cell_type": "markdown",
   "metadata": {}
  },
  {
   "cell_type": "code",
   "execution_count": 8,
   "metadata": {},
   "outputs": [],
   "source": [
    "import sys\n",
    "sys.path.append('..')\n",
    "\n",
    "import core.config as conf\n",
    "from utils.preprocessing import *\n",
    "import numpy as np\n",
    "from tqdm import tqdm\n",
    "from datetime import datetime \n",
    "import matplotlib.pyplot as plt\n",
    "\n",
    "import tensorflow as tf\n",
    "from transformers import *\n",
    "from tensorflow.keras.preprocessing.sequence import pad_sequences\n",
    "from tensorflow.keras.callbacks import EarlyStopping, ModelCheckpoint\n"
   ]
  },
  {
   "cell_type": "code",
   "execution_count": 4,
   "metadata": {},
   "outputs": [],
   "source": [
    "#random seed \n",
    "tf.random.set_seed(1234)\n",
    "np.random.seed(1234)"
   ]
  },
  {
   "cell_type": "code",
   "execution_count": 5,
   "metadata": {},
   "outputs": [],
   "source": [
    "tokenizer = BertTokenizer.from_pretrained(\"bert-base-multilingual-cased\", cache_dir='bert_ckpt', do_lower_case=False)"
   ]
  },
  {
   "source": [
    "## Load data"
   ],
   "cell_type": "markdown",
   "metadata": {}
  },
  {
   "cell_type": "code",
   "execution_count": 10,
   "metadata": {},
   "outputs": [],
   "source": [
    "data_path = '/hdd/twitter/dataset_mini/train'\n",
    "df = read_data(data_path)"
   ]
  },
  {
   "cell_type": "code",
   "execution_count": 12,
   "metadata": {},
   "outputs": [],
   "source": [
    "text_tokens = df['text_tokens']"
   ]
  },
  {
   "cell_type": "code",
   "execution_count": 13,
   "metadata": {},
   "outputs": [
    {
     "output_type": "execute_result",
     "data": {
      "text/plain": [
       "0          101\\t147\\t69849\\t11447\\t57277\\t63310\\t136\\t106...\n",
       "1          101\\t56898\\t137\\t10799\\t11039\\t168\\t26978\\t131...\n",
       "2          101\\t13304\\t179\\t14902\\t74788\\t10390\\t33993\\t1...\n",
       "3          101\\t620\\t55399\\t17451\\t69304\\t82692\\t572\\t105...\n",
       "4          101\\t10747\\t12723\\t10124\\t29956\\t91518\\t10142\\...\n",
       "                                 ...                        \n",
       "4338901    101\\t1972\\t18825\\t3425\\t100\\t14120\\t131\\t120\\t...\n",
       "4338902    101\\t56898\\t137\\t25944\\t22659\\t11305\\t131\\t181...\n",
       "4338903    101\\t100\\t108\\t16062\\t11281\\t10115\\t11274\\t102...\n",
       "4338904    101\\t100\\t27577\\t30416\\t10107\\t10655\\t11239\\t1...\n",
       "4338905    101\\t18740\\t11003\\t98514\\t10529\\t12229\\t18103\\...\n",
       "Name: text_tokens, Length: 4338906, dtype: object"
      ]
     },
     "metadata": {},
     "execution_count": 13
    }
   ],
   "source": [
    "text_tokens"
   ]
  },
  {
   "cell_type": "code",
   "execution_count": 18,
   "metadata": {},
   "outputs": [],
   "source": [
    "df['len_text_tokens'] = df['text_tokens'].apply(lambda x: len(x.split('\\t')))"
   ]
  },
  {
   "cell_type": "code",
   "execution_count": 20,
   "metadata": {},
   "outputs": [
    {
     "output_type": "error",
     "ename": "KeyboardInterrupt",
     "evalue": "",
     "traceback": [
      "\u001b[0;31m---------------------------------------------------------------------------\u001b[0m",
      "\u001b[0;31mKeyboardInterrupt\u001b[0m                         Traceback (most recent call last)",
      "\u001b[0;32m<ipython-input-20-4757d453abb2>\u001b[0m in \u001b[0;36m<module>\u001b[0;34m\u001b[0m\n\u001b[0;32m----> 1\u001b[0;31m \u001b[0mdf\u001b[0m\u001b[0;34m[\u001b[0m\u001b[0;34m'decoded_text_tokens'\u001b[0m\u001b[0;34m]\u001b[0m \u001b[0;34m=\u001b[0m \u001b[0mdf\u001b[0m\u001b[0;34m[\u001b[0m\u001b[0;34m'text_tokens'\u001b[0m\u001b[0;34m]\u001b[0m\u001b[0;34m.\u001b[0m\u001b[0mapply\u001b[0m\u001b[0;34m(\u001b[0m\u001b[0;32mlambda\u001b[0m \u001b[0mx\u001b[0m\u001b[0;34m:\u001b[0m \u001b[0mtokenizer\u001b[0m\u001b[0;34m.\u001b[0m\u001b[0mdecode\u001b[0m\u001b[0;34m(\u001b[0m\u001b[0mx\u001b[0m\u001b[0;34m.\u001b[0m\u001b[0msplit\u001b[0m\u001b[0;34m(\u001b[0m\u001b[0;34m'\\t'\u001b[0m\u001b[0;34m)\u001b[0m\u001b[0;34m,\u001b[0m \u001b[0mskip_special_tokens\u001b[0m\u001b[0;34m=\u001b[0m\u001b[0;32mTrue\u001b[0m\u001b[0;34m)\u001b[0m\u001b[0;34m)\u001b[0m\u001b[0;34m\u001b[0m\u001b[0;34m\u001b[0m\u001b[0m\n\u001b[0m",
      "\u001b[0;32m~/anaconda3/envs/dask-cudf/lib/python3.7/site-packages/pandas/core/series.py\u001b[0m in \u001b[0;36mapply\u001b[0;34m(self, func, convert_dtype, args, **kwds)\u001b[0m\n\u001b[1;32m   4211\u001b[0m             \u001b[0;32melse\u001b[0m\u001b[0;34m:\u001b[0m\u001b[0;34m\u001b[0m\u001b[0;34m\u001b[0m\u001b[0m\n\u001b[1;32m   4212\u001b[0m                 \u001b[0mvalues\u001b[0m \u001b[0;34m=\u001b[0m \u001b[0mself\u001b[0m\u001b[0;34m.\u001b[0m\u001b[0mastype\u001b[0m\u001b[0;34m(\u001b[0m\u001b[0mobject\u001b[0m\u001b[0;34m)\u001b[0m\u001b[0;34m.\u001b[0m\u001b[0m_values\u001b[0m\u001b[0;34m\u001b[0m\u001b[0;34m\u001b[0m\u001b[0m\n\u001b[0;32m-> 4213\u001b[0;31m                 \u001b[0mmapped\u001b[0m \u001b[0;34m=\u001b[0m \u001b[0mlib\u001b[0m\u001b[0;34m.\u001b[0m\u001b[0mmap_infer\u001b[0m\u001b[0;34m(\u001b[0m\u001b[0mvalues\u001b[0m\u001b[0;34m,\u001b[0m \u001b[0mf\u001b[0m\u001b[0;34m,\u001b[0m \u001b[0mconvert\u001b[0m\u001b[0;34m=\u001b[0m\u001b[0mconvert_dtype\u001b[0m\u001b[0;34m)\u001b[0m\u001b[0;34m\u001b[0m\u001b[0;34m\u001b[0m\u001b[0m\n\u001b[0m\u001b[1;32m   4214\u001b[0m \u001b[0;34m\u001b[0m\u001b[0m\n\u001b[1;32m   4215\u001b[0m         \u001b[0;32mif\u001b[0m \u001b[0mlen\u001b[0m\u001b[0;34m(\u001b[0m\u001b[0mmapped\u001b[0m\u001b[0;34m)\u001b[0m \u001b[0;32mand\u001b[0m \u001b[0misinstance\u001b[0m\u001b[0;34m(\u001b[0m\u001b[0mmapped\u001b[0m\u001b[0;34m[\u001b[0m\u001b[0;36m0\u001b[0m\u001b[0;34m]\u001b[0m\u001b[0;34m,\u001b[0m \u001b[0mSeries\u001b[0m\u001b[0;34m)\u001b[0m\u001b[0;34m:\u001b[0m\u001b[0;34m\u001b[0m\u001b[0;34m\u001b[0m\u001b[0m\n",
      "\u001b[0;32mpandas/_libs/lib.pyx\u001b[0m in \u001b[0;36mpandas._libs.lib.map_infer\u001b[0;34m()\u001b[0m\n",
      "\u001b[0;32m<ipython-input-20-4757d453abb2>\u001b[0m in \u001b[0;36m<lambda>\u001b[0;34m(x)\u001b[0m\n\u001b[0;32m----> 1\u001b[0;31m \u001b[0mdf\u001b[0m\u001b[0;34m[\u001b[0m\u001b[0;34m'decoded_text_tokens'\u001b[0m\u001b[0;34m]\u001b[0m \u001b[0;34m=\u001b[0m \u001b[0mdf\u001b[0m\u001b[0;34m[\u001b[0m\u001b[0;34m'text_tokens'\u001b[0m\u001b[0;34m]\u001b[0m\u001b[0;34m.\u001b[0m\u001b[0mapply\u001b[0m\u001b[0;34m(\u001b[0m\u001b[0;32mlambda\u001b[0m \u001b[0mx\u001b[0m\u001b[0;34m:\u001b[0m \u001b[0mtokenizer\u001b[0m\u001b[0;34m.\u001b[0m\u001b[0mdecode\u001b[0m\u001b[0;34m(\u001b[0m\u001b[0mx\u001b[0m\u001b[0;34m.\u001b[0m\u001b[0msplit\u001b[0m\u001b[0;34m(\u001b[0m\u001b[0;34m'\\t'\u001b[0m\u001b[0;34m)\u001b[0m\u001b[0;34m,\u001b[0m \u001b[0mskip_special_tokens\u001b[0m\u001b[0;34m=\u001b[0m\u001b[0;32mTrue\u001b[0m\u001b[0;34m)\u001b[0m\u001b[0;34m)\u001b[0m\u001b[0;34m\u001b[0m\u001b[0;34m\u001b[0m\u001b[0m\n\u001b[0m",
      "\u001b[0;32m~/anaconda3/envs/dask-cudf/lib/python3.7/site-packages/transformers/tokenization_utils_base.py\u001b[0m in \u001b[0;36mdecode\u001b[0;34m(self, token_ids, skip_special_tokens, clean_up_tokenization_spaces, **kwargs)\u001b[0m\n\u001b[1;32m   3048\u001b[0m             \u001b[0mskip_special_tokens\u001b[0m\u001b[0;34m=\u001b[0m\u001b[0mskip_special_tokens\u001b[0m\u001b[0;34m,\u001b[0m\u001b[0;34m\u001b[0m\u001b[0;34m\u001b[0m\u001b[0m\n\u001b[1;32m   3049\u001b[0m             \u001b[0mclean_up_tokenization_spaces\u001b[0m\u001b[0;34m=\u001b[0m\u001b[0mclean_up_tokenization_spaces\u001b[0m\u001b[0;34m,\u001b[0m\u001b[0;34m\u001b[0m\u001b[0;34m\u001b[0m\u001b[0m\n\u001b[0;32m-> 3050\u001b[0;31m             \u001b[0;34m**\u001b[0m\u001b[0mkwargs\u001b[0m\u001b[0;34m,\u001b[0m\u001b[0;34m\u001b[0m\u001b[0;34m\u001b[0m\u001b[0m\n\u001b[0m\u001b[1;32m   3051\u001b[0m         )\n\u001b[1;32m   3052\u001b[0m \u001b[0;34m\u001b[0m\u001b[0m\n",
      "\u001b[0;32m~/anaconda3/envs/dask-cudf/lib/python3.7/site-packages/transformers/tokenization_utils.py\u001b[0m in \u001b[0;36m_decode\u001b[0;34m(self, token_ids, skip_special_tokens, clean_up_tokenization_spaces, spaces_between_special_tokens, **kwargs)\u001b[0m\n\u001b[1;32m    709\u001b[0m         \u001b[0mself\u001b[0m\u001b[0;34m.\u001b[0m\u001b[0m_decode_use_source_tokenizer\u001b[0m \u001b[0;34m=\u001b[0m \u001b[0mkwargs\u001b[0m\u001b[0;34m.\u001b[0m\u001b[0mpop\u001b[0m\u001b[0;34m(\u001b[0m\u001b[0;34m\"use_source_tokenizer\"\u001b[0m\u001b[0;34m,\u001b[0m \u001b[0;32mFalse\u001b[0m\u001b[0;34m)\u001b[0m\u001b[0;34m\u001b[0m\u001b[0;34m\u001b[0m\u001b[0m\n\u001b[1;32m    710\u001b[0m \u001b[0;34m\u001b[0m\u001b[0m\n\u001b[0;32m--> 711\u001b[0;31m         \u001b[0mfiltered_tokens\u001b[0m \u001b[0;34m=\u001b[0m \u001b[0mself\u001b[0m\u001b[0;34m.\u001b[0m\u001b[0mconvert_ids_to_tokens\u001b[0m\u001b[0;34m(\u001b[0m\u001b[0mtoken_ids\u001b[0m\u001b[0;34m,\u001b[0m \u001b[0mskip_special_tokens\u001b[0m\u001b[0;34m=\u001b[0m\u001b[0mskip_special_tokens\u001b[0m\u001b[0;34m)\u001b[0m\u001b[0;34m\u001b[0m\u001b[0;34m\u001b[0m\u001b[0m\n\u001b[0m\u001b[1;32m    712\u001b[0m \u001b[0;34m\u001b[0m\u001b[0m\n\u001b[1;32m    713\u001b[0m         \u001b[0;31m# To avoid mixing byte-level and unicode for byte-level BPT\u001b[0m\u001b[0;34m\u001b[0m\u001b[0;34m\u001b[0m\u001b[0;34m\u001b[0m\u001b[0m\n",
      "\u001b[0;32m~/anaconda3/envs/dask-cudf/lib/python3.7/site-packages/transformers/tokenization_utils.py\u001b[0m in \u001b[0;36mconvert_ids_to_tokens\u001b[0;34m(self, ids, skip_special_tokens)\u001b[0m\n\u001b[1;32m    685\u001b[0m         \u001b[0;32mfor\u001b[0m \u001b[0mindex\u001b[0m \u001b[0;32min\u001b[0m \u001b[0mids\u001b[0m\u001b[0;34m:\u001b[0m\u001b[0;34m\u001b[0m\u001b[0;34m\u001b[0m\u001b[0m\n\u001b[1;32m    686\u001b[0m             \u001b[0mindex\u001b[0m \u001b[0;34m=\u001b[0m \u001b[0mint\u001b[0m\u001b[0;34m(\u001b[0m\u001b[0mindex\u001b[0m\u001b[0;34m)\u001b[0m\u001b[0;34m\u001b[0m\u001b[0;34m\u001b[0m\u001b[0m\n\u001b[0;32m--> 687\u001b[0;31m             \u001b[0;32mif\u001b[0m \u001b[0mskip_special_tokens\u001b[0m \u001b[0;32mand\u001b[0m \u001b[0mindex\u001b[0m \u001b[0;32min\u001b[0m \u001b[0mself\u001b[0m\u001b[0;34m.\u001b[0m\u001b[0mall_special_ids\u001b[0m\u001b[0;34m:\u001b[0m\u001b[0;34m\u001b[0m\u001b[0;34m\u001b[0m\u001b[0m\n\u001b[0m\u001b[1;32m    688\u001b[0m                 \u001b[0;32mcontinue\u001b[0m\u001b[0;34m\u001b[0m\u001b[0;34m\u001b[0m\u001b[0m\n\u001b[1;32m    689\u001b[0m             \u001b[0;32mif\u001b[0m \u001b[0mindex\u001b[0m \u001b[0;32min\u001b[0m \u001b[0mself\u001b[0m\u001b[0;34m.\u001b[0m\u001b[0madded_tokens_decoder\u001b[0m\u001b[0;34m:\u001b[0m\u001b[0;34m\u001b[0m\u001b[0;34m\u001b[0m\u001b[0m\n",
      "\u001b[0;32m~/anaconda3/envs/dask-cudf/lib/python3.7/site-packages/transformers/tokenization_utils_base.py\u001b[0m in \u001b[0;36mall_special_ids\u001b[0;34m(self)\u001b[0m\n\u001b[1;32m   1239\u001b[0m         \"\"\"\n\u001b[1;32m   1240\u001b[0m         \u001b[0mall_toks\u001b[0m \u001b[0;34m=\u001b[0m \u001b[0mself\u001b[0m\u001b[0;34m.\u001b[0m\u001b[0mall_special_tokens\u001b[0m\u001b[0;34m\u001b[0m\u001b[0;34m\u001b[0m\u001b[0m\n\u001b[0;32m-> 1241\u001b[0;31m         \u001b[0mall_ids\u001b[0m \u001b[0;34m=\u001b[0m \u001b[0mself\u001b[0m\u001b[0;34m.\u001b[0m\u001b[0mconvert_tokens_to_ids\u001b[0m\u001b[0;34m(\u001b[0m\u001b[0mall_toks\u001b[0m\u001b[0;34m)\u001b[0m\u001b[0;34m\u001b[0m\u001b[0;34m\u001b[0m\u001b[0m\n\u001b[0m\u001b[1;32m   1242\u001b[0m         \u001b[0;32mreturn\u001b[0m \u001b[0mall_ids\u001b[0m\u001b[0;34m\u001b[0m\u001b[0;34m\u001b[0m\u001b[0m\n\u001b[1;32m   1243\u001b[0m \u001b[0;34m\u001b[0m\u001b[0m\n",
      "\u001b[0;32m~/anaconda3/envs/dask-cudf/lib/python3.7/site-packages/transformers/tokenization_utils.py\u001b[0m in \u001b[0;36mconvert_tokens_to_ids\u001b[0;34m(self, tokens)\u001b[0m\n\u001b[1;32m    371\u001b[0m         \u001b[0mids\u001b[0m \u001b[0;34m=\u001b[0m \u001b[0;34m[\u001b[0m\u001b[0;34m]\u001b[0m\u001b[0;34m\u001b[0m\u001b[0;34m\u001b[0m\u001b[0m\n\u001b[1;32m    372\u001b[0m         \u001b[0;32mfor\u001b[0m \u001b[0mtoken\u001b[0m \u001b[0;32min\u001b[0m \u001b[0mtokens\u001b[0m\u001b[0;34m:\u001b[0m\u001b[0;34m\u001b[0m\u001b[0;34m\u001b[0m\u001b[0m\n\u001b[0;32m--> 373\u001b[0;31m             \u001b[0mids\u001b[0m\u001b[0;34m.\u001b[0m\u001b[0mappend\u001b[0m\u001b[0;34m(\u001b[0m\u001b[0mself\u001b[0m\u001b[0;34m.\u001b[0m\u001b[0m_convert_token_to_id_with_added_voc\u001b[0m\u001b[0;34m(\u001b[0m\u001b[0mtoken\u001b[0m\u001b[0;34m)\u001b[0m\u001b[0;34m)\u001b[0m\u001b[0;34m\u001b[0m\u001b[0;34m\u001b[0m\u001b[0m\n\u001b[0m\u001b[1;32m    374\u001b[0m         \u001b[0;32mreturn\u001b[0m \u001b[0mids\u001b[0m\u001b[0;34m\u001b[0m\u001b[0;34m\u001b[0m\u001b[0m\n\u001b[1;32m    375\u001b[0m \u001b[0;34m\u001b[0m\u001b[0m\n",
      "\u001b[0;32m~/anaconda3/envs/dask-cudf/lib/python3.7/site-packages/transformers/tokenization_utils.py\u001b[0m in \u001b[0;36m_convert_token_to_id_with_added_voc\u001b[0;34m(self, token)\u001b[0m\n\u001b[1;32m    380\u001b[0m         \u001b[0;32mif\u001b[0m \u001b[0mtoken\u001b[0m \u001b[0;32min\u001b[0m \u001b[0mself\u001b[0m\u001b[0;34m.\u001b[0m\u001b[0madded_tokens_encoder\u001b[0m\u001b[0;34m:\u001b[0m\u001b[0;34m\u001b[0m\u001b[0;34m\u001b[0m\u001b[0m\n\u001b[1;32m    381\u001b[0m             \u001b[0;32mreturn\u001b[0m \u001b[0mself\u001b[0m\u001b[0;34m.\u001b[0m\u001b[0madded_tokens_encoder\u001b[0m\u001b[0;34m[\u001b[0m\u001b[0mtoken\u001b[0m\u001b[0;34m]\u001b[0m\u001b[0;34m\u001b[0m\u001b[0;34m\u001b[0m\u001b[0m\n\u001b[0;32m--> 382\u001b[0;31m         \u001b[0;32mreturn\u001b[0m \u001b[0mself\u001b[0m\u001b[0;34m.\u001b[0m\u001b[0m_convert_token_to_id\u001b[0m\u001b[0;34m(\u001b[0m\u001b[0mtoken\u001b[0m\u001b[0;34m)\u001b[0m\u001b[0;34m\u001b[0m\u001b[0;34m\u001b[0m\u001b[0m\n\u001b[0m\u001b[1;32m    383\u001b[0m \u001b[0;34m\u001b[0m\u001b[0m\n\u001b[1;32m    384\u001b[0m     \u001b[0;32mdef\u001b[0m \u001b[0m_convert_token_to_id\u001b[0m\u001b[0;34m(\u001b[0m\u001b[0mself\u001b[0m\u001b[0;34m,\u001b[0m \u001b[0mtoken\u001b[0m\u001b[0;34m)\u001b[0m\u001b[0;34m:\u001b[0m\u001b[0;34m\u001b[0m\u001b[0;34m\u001b[0m\u001b[0m\n",
      "\u001b[0;32m~/anaconda3/envs/dask-cudf/lib/python3.7/site-packages/transformers/models/bert/tokenization_bert.py\u001b[0m in \u001b[0;36m_convert_token_to_id\u001b[0;34m(self, token)\u001b[0m\n\u001b[1;32m    235\u001b[0m     \u001b[0;32mdef\u001b[0m \u001b[0m_convert_token_to_id\u001b[0m\u001b[0;34m(\u001b[0m\u001b[0mself\u001b[0m\u001b[0;34m,\u001b[0m \u001b[0mtoken\u001b[0m\u001b[0;34m)\u001b[0m\u001b[0;34m:\u001b[0m\u001b[0;34m\u001b[0m\u001b[0;34m\u001b[0m\u001b[0m\n\u001b[1;32m    236\u001b[0m         \u001b[0;34m\"\"\" Converts a token (str) in an id using the vocab. \"\"\"\u001b[0m\u001b[0;34m\u001b[0m\u001b[0;34m\u001b[0m\u001b[0m\n\u001b[0;32m--> 237\u001b[0;31m         \u001b[0;32mreturn\u001b[0m \u001b[0mself\u001b[0m\u001b[0;34m.\u001b[0m\u001b[0mvocab\u001b[0m\u001b[0;34m.\u001b[0m\u001b[0mget\u001b[0m\u001b[0;34m(\u001b[0m\u001b[0mtoken\u001b[0m\u001b[0;34m,\u001b[0m \u001b[0mself\u001b[0m\u001b[0;34m.\u001b[0m\u001b[0mvocab\u001b[0m\u001b[0;34m.\u001b[0m\u001b[0mget\u001b[0m\u001b[0;34m(\u001b[0m\u001b[0mself\u001b[0m\u001b[0;34m.\u001b[0m\u001b[0munk_token\u001b[0m\u001b[0;34m)\u001b[0m\u001b[0;34m)\u001b[0m\u001b[0;34m\u001b[0m\u001b[0;34m\u001b[0m\u001b[0m\n\u001b[0m\u001b[1;32m    238\u001b[0m \u001b[0;34m\u001b[0m\u001b[0m\n\u001b[1;32m    239\u001b[0m     \u001b[0;32mdef\u001b[0m \u001b[0m_convert_id_to_token\u001b[0m\u001b[0;34m(\u001b[0m\u001b[0mself\u001b[0m\u001b[0;34m,\u001b[0m \u001b[0mindex\u001b[0m\u001b[0;34m)\u001b[0m\u001b[0;34m:\u001b[0m\u001b[0;34m\u001b[0m\u001b[0;34m\u001b[0m\u001b[0m\n",
      "\u001b[0;31mKeyboardInterrupt\u001b[0m: "
     ]
    }
   ],
   "source": [
    "df['decoded_text_tokens'] = df['text_tokens'].apply(lambda x: tokenizer.decode(x.split('\\t'), skip_special_tokens=True))"
   ]
  },
  {
   "cell_type": "code",
   "execution_count": null,
   "metadata": {},
   "outputs": [],
   "source": [
    " "
   ]
  },
  {
   "cell_type": "code",
   "execution_count": null,
   "metadata": {},
   "outputs": [],
   "source": []
  },
  {
   "cell_type": "code",
   "execution_count": 19,
   "metadata": {},
   "outputs": [
    {
     "output_type": "execute_result",
     "data": {
      "text/plain": [
       "                                               text_tokens  \\\n",
       "0        101\\t147\\t69849\\t11447\\t57277\\t63310\\t136\\t106...   \n",
       "1        101\\t56898\\t137\\t10799\\t11039\\t168\\t26978\\t131...   \n",
       "2        101\\t13304\\t179\\t14902\\t74788\\t10390\\t33993\\t1...   \n",
       "3        101\\t620\\t55399\\t17451\\t69304\\t82692\\t572\\t105...   \n",
       "4        101\\t10747\\t12723\\t10124\\t29956\\t91518\\t10142\\...   \n",
       "...                                                    ...   \n",
       "4338901  101\\t1972\\t18825\\t3425\\t100\\t14120\\t131\\t120\\t...   \n",
       "4338902  101\\t56898\\t137\\t25944\\t22659\\t11305\\t131\\t181...   \n",
       "4338903  101\\t100\\t108\\t16062\\t11281\\t10115\\t11274\\t102...   \n",
       "4338904  101\\t100\\t27577\\t30416\\t10107\\t10655\\t11239\\t1...   \n",
       "4338905  101\\t18740\\t11003\\t98514\\t10529\\t12229\\t18103\\...   \n",
       "\n",
       "                                                  hashtags  \\\n",
       "0                                                      NaN   \n",
       "1                                                      NaN   \n",
       "2                                                      NaN   \n",
       "3                                                      NaN   \n",
       "4                                                      NaN   \n",
       "...                                                    ...   \n",
       "4338901                                                NaN   \n",
       "4338902                                                NaN   \n",
       "4338903                   360847D5E2E14DE261D275573CFCCE34   \n",
       "4338904  80E7062116A700EBFA5E0A99EDCDBBAD\\t3AAE07FAD1D5...   \n",
       "4338905                   40110025DD66B25DE4A54644E7E2259F   \n",
       "\n",
       "                                 tweet_id                       media  \\\n",
       "0        6238B9E15E83B6D477394E9D80B3784E                Photo\\tPhoto   \n",
       "1        731FB90C6CFEF1B71D322106573F71DB                       Photo   \n",
       "2        89276E5272498E858EE8AF691EBF0951                         NaN   \n",
       "3        502FDBC0EB4E7AB157D38262817716EB                         NaN   \n",
       "4        CF1F523F7D4D4139E5FD3EBD72F27D5A                         NaN   \n",
       "...                                   ...                         ...   \n",
       "4338901  EE63068E74D7E293457FDC2EA3527D65                       Photo   \n",
       "4338902  F15B4615DA12447331AFEC90FA814B4D                         NaN   \n",
       "4338903  DA947A6368CF4414BEA9172003A639FD                Photo\\tPhoto   \n",
       "4338904  730879D11261FA6700804AD49CCB59BB  Photo\\tPhoto\\tPhoto\\tPhoto   \n",
       "4338905  D22612FC6C7E4CFAECB4CAE406DB072F                Photo\\tPhoto   \n",
       "\n",
       "                                    links                           domains  \\\n",
       "0                                     NaN                               NaN   \n",
       "1                                     NaN                               NaN   \n",
       "2                                     NaN                               NaN   \n",
       "3        F65FE23F3E97EE91DB990B4E02FC8DFC  28F197E209F61EE2F1C97FBF9128976D   \n",
       "4                                     NaN                               NaN   \n",
       "...                                   ...                               ...   \n",
       "4338901                               NaN                               NaN   \n",
       "4338902                               NaN                               NaN   \n",
       "4338903                               NaN                               NaN   \n",
       "4338904                               NaN                               NaN   \n",
       "4338905                               NaN                               NaN   \n",
       "\n",
       "        tweet_type                          language  tweet_timestamp  \\\n",
       "0         TopLevel  7F4FAB1EB12CD95EDCD9DB2A6634EFCE       1612883086   \n",
       "1          Retweet  E7F038DE3EAD397AEC9193686C911677       1612864776   \n",
       "2         TopLevel  1F73BB863A39DB62B4A55B7E558DB1E8       1613661020   \n",
       "3         TopLevel  310ECD7D1E42216E3C1B31EFDDFC72A7       1612751908   \n",
       "4         TopLevel  488B32D24BD4BB44172EB981C1BCA6FA       1613060168   \n",
       "...            ...                               ...              ...   \n",
       "4338901   TopLevel  E7F038DE3EAD397AEC9193686C911677       1612670742   \n",
       "4338902    Retweet  488B32D24BD4BB44172EB981C1BCA6FA       1612744473   \n",
       "4338903   TopLevel  B8B04128918BBF54E2E178BFF1ABA833       1612397867   \n",
       "4338904   TopLevel  488B32D24BD4BB44172EB981C1BCA6FA       1612956173   \n",
       "4338905   TopLevel  488B32D24BD4BB44172EB981C1BCA6FA       1613569320   \n",
       "\n",
       "                               creator_id  ...  engager_following_count  \\\n",
       "0        F09233A58769507FD4E6FD618BCFA5B6  ...                     1424   \n",
       "1        46BEEE566BB708F18075A60FDDAA8503  ...                      416   \n",
       "2        83F59BF2E0778AC4078FA3F7B71F5960  ...                      311   \n",
       "3        C96110509F8B6256CE08A8AE85ED75DB  ...                    16342   \n",
       "4        2031F18622E7C6A30E702D33776BF2C1  ...                      647   \n",
       "...                                   ...  ...                      ...   \n",
       "4338901  968FAF2F52AACA58C2B41CE5B13A811D  ...                     1908   \n",
       "4338902  54652625625729AE0E38196970594938  ...                      713   \n",
       "4338903  614E269F8E5D731946BDBC86E9DC4F4D  ...                       48   \n",
       "4338904  5A5C7CCA69CDEBBD7E81C3797DE9DD7E  ...                      135   \n",
       "4338905  87BD2290F2A144F5F52A176AE3795CBC  ...                     1068   \n",
       "\n",
       "         engager_is_verified  engager_account_creation  \\\n",
       "0                      False                1307991260   \n",
       "1                      False                1336861089   \n",
       "2                      False                1602935552   \n",
       "3                      False                1366022767   \n",
       "4                      False                1410270773   \n",
       "...                      ...                       ...   \n",
       "4338901                False                1420785574   \n",
       "4338902                False                1311226875   \n",
       "4338903                False                1597880960   \n",
       "4338904                False                1604003943   \n",
       "4338905                False                1593749766   \n",
       "\n",
       "         creator_follows_engager reply_timestamp  retweet_timestamp  \\\n",
       "0                          False             NaN                NaN   \n",
       "1                           True             NaN                NaN   \n",
       "2                           True             NaN                NaN   \n",
       "3                           True             NaN                NaN   \n",
       "4                          False             NaN                NaN   \n",
       "...                          ...             ...                ...   \n",
       "4338901                    False             NaN                NaN   \n",
       "4338902                     True             NaN                NaN   \n",
       "4338903                    False             NaN                NaN   \n",
       "4338904                    False             NaN                NaN   \n",
       "4338905                    False             NaN                NaN   \n",
       "\n",
       "         comment_timestamp  like_timestamp  len_tokens  len_text_tokens  \n",
       "0                      NaN             NaN         147               30  \n",
       "1                      NaN             NaN         432               81  \n",
       "2                      NaN    1.613662e+09         105               19  \n",
       "3                      NaN             NaN         682              124  \n",
       "4                      NaN    1.613061e+09         365               69  \n",
       "...                    ...             ...         ...              ...  \n",
       "4338901                NaN    1.612707e+09         111               22  \n",
       "4338902                NaN             NaN         127               23  \n",
       "4338903                NaN    1.612443e+09         415               75  \n",
       "4338904                NaN    1.612962e+09         420               77  \n",
       "4338905                NaN    1.613578e+09         233               45  \n",
       "\n",
       "[4338906 rows x 26 columns]"
      ],
      "text/html": "<div>\n<style scoped>\n    .dataframe tbody tr th:only-of-type {\n        vertical-align: middle;\n    }\n\n    .dataframe tbody tr th {\n        vertical-align: top;\n    }\n\n    .dataframe thead th {\n        text-align: right;\n    }\n</style>\n<table border=\"1\" class=\"dataframe\">\n  <thead>\n    <tr style=\"text-align: right;\">\n      <th></th>\n      <th>text_tokens</th>\n      <th>hashtags</th>\n      <th>tweet_id</th>\n      <th>media</th>\n      <th>links</th>\n      <th>domains</th>\n      <th>tweet_type</th>\n      <th>language</th>\n      <th>tweet_timestamp</th>\n      <th>creator_id</th>\n      <th>...</th>\n      <th>engager_following_count</th>\n      <th>engager_is_verified</th>\n      <th>engager_account_creation</th>\n      <th>creator_follows_engager</th>\n      <th>reply_timestamp</th>\n      <th>retweet_timestamp</th>\n      <th>comment_timestamp</th>\n      <th>like_timestamp</th>\n      <th>len_tokens</th>\n      <th>len_text_tokens</th>\n    </tr>\n  </thead>\n  <tbody>\n    <tr>\n      <th>0</th>\n      <td>101\\t147\\t69849\\t11447\\t57277\\t63310\\t136\\t106...</td>\n      <td>NaN</td>\n      <td>6238B9E15E83B6D477394E9D80B3784E</td>\n      <td>Photo\\tPhoto</td>\n      <td>NaN</td>\n      <td>NaN</td>\n      <td>TopLevel</td>\n      <td>7F4FAB1EB12CD95EDCD9DB2A6634EFCE</td>\n      <td>1612883086</td>\n      <td>F09233A58769507FD4E6FD618BCFA5B6</td>\n      <td>...</td>\n      <td>1424</td>\n      <td>False</td>\n      <td>1307991260</td>\n      <td>False</td>\n      <td>NaN</td>\n      <td>NaN</td>\n      <td>NaN</td>\n      <td>NaN</td>\n      <td>147</td>\n      <td>30</td>\n    </tr>\n    <tr>\n      <th>1</th>\n      <td>101\\t56898\\t137\\t10799\\t11039\\t168\\t26978\\t131...</td>\n      <td>NaN</td>\n      <td>731FB90C6CFEF1B71D322106573F71DB</td>\n      <td>Photo</td>\n      <td>NaN</td>\n      <td>NaN</td>\n      <td>Retweet</td>\n      <td>E7F038DE3EAD397AEC9193686C911677</td>\n      <td>1612864776</td>\n      <td>46BEEE566BB708F18075A60FDDAA8503</td>\n      <td>...</td>\n      <td>416</td>\n      <td>False</td>\n      <td>1336861089</td>\n      <td>True</td>\n      <td>NaN</td>\n      <td>NaN</td>\n      <td>NaN</td>\n      <td>NaN</td>\n      <td>432</td>\n      <td>81</td>\n    </tr>\n    <tr>\n      <th>2</th>\n      <td>101\\t13304\\t179\\t14902\\t74788\\t10390\\t33993\\t1...</td>\n      <td>NaN</td>\n      <td>89276E5272498E858EE8AF691EBF0951</td>\n      <td>NaN</td>\n      <td>NaN</td>\n      <td>NaN</td>\n      <td>TopLevel</td>\n      <td>1F73BB863A39DB62B4A55B7E558DB1E8</td>\n      <td>1613661020</td>\n      <td>83F59BF2E0778AC4078FA3F7B71F5960</td>\n      <td>...</td>\n      <td>311</td>\n      <td>False</td>\n      <td>1602935552</td>\n      <td>True</td>\n      <td>NaN</td>\n      <td>NaN</td>\n      <td>NaN</td>\n      <td>1.613662e+09</td>\n      <td>105</td>\n      <td>19</td>\n    </tr>\n    <tr>\n      <th>3</th>\n      <td>101\\t620\\t55399\\t17451\\t69304\\t82692\\t572\\t105...</td>\n      <td>NaN</td>\n      <td>502FDBC0EB4E7AB157D38262817716EB</td>\n      <td>NaN</td>\n      <td>F65FE23F3E97EE91DB990B4E02FC8DFC</td>\n      <td>28F197E209F61EE2F1C97FBF9128976D</td>\n      <td>TopLevel</td>\n      <td>310ECD7D1E42216E3C1B31EFDDFC72A7</td>\n      <td>1612751908</td>\n      <td>C96110509F8B6256CE08A8AE85ED75DB</td>\n      <td>...</td>\n      <td>16342</td>\n      <td>False</td>\n      <td>1366022767</td>\n      <td>True</td>\n      <td>NaN</td>\n      <td>NaN</td>\n      <td>NaN</td>\n      <td>NaN</td>\n      <td>682</td>\n      <td>124</td>\n    </tr>\n    <tr>\n      <th>4</th>\n      <td>101\\t10747\\t12723\\t10124\\t29956\\t91518\\t10142\\...</td>\n      <td>NaN</td>\n      <td>CF1F523F7D4D4139E5FD3EBD72F27D5A</td>\n      <td>NaN</td>\n      <td>NaN</td>\n      <td>NaN</td>\n      <td>TopLevel</td>\n      <td>488B32D24BD4BB44172EB981C1BCA6FA</td>\n      <td>1613060168</td>\n      <td>2031F18622E7C6A30E702D33776BF2C1</td>\n      <td>...</td>\n      <td>647</td>\n      <td>False</td>\n      <td>1410270773</td>\n      <td>False</td>\n      <td>NaN</td>\n      <td>NaN</td>\n      <td>NaN</td>\n      <td>1.613061e+09</td>\n      <td>365</td>\n      <td>69</td>\n    </tr>\n    <tr>\n      <th>...</th>\n      <td>...</td>\n      <td>...</td>\n      <td>...</td>\n      <td>...</td>\n      <td>...</td>\n      <td>...</td>\n      <td>...</td>\n      <td>...</td>\n      <td>...</td>\n      <td>...</td>\n      <td>...</td>\n      <td>...</td>\n      <td>...</td>\n      <td>...</td>\n      <td>...</td>\n      <td>...</td>\n      <td>...</td>\n      <td>...</td>\n      <td>...</td>\n      <td>...</td>\n      <td>...</td>\n    </tr>\n    <tr>\n      <th>4338901</th>\n      <td>101\\t1972\\t18825\\t3425\\t100\\t14120\\t131\\t120\\t...</td>\n      <td>NaN</td>\n      <td>EE63068E74D7E293457FDC2EA3527D65</td>\n      <td>Photo</td>\n      <td>NaN</td>\n      <td>NaN</td>\n      <td>TopLevel</td>\n      <td>E7F038DE3EAD397AEC9193686C911677</td>\n      <td>1612670742</td>\n      <td>968FAF2F52AACA58C2B41CE5B13A811D</td>\n      <td>...</td>\n      <td>1908</td>\n      <td>False</td>\n      <td>1420785574</td>\n      <td>False</td>\n      <td>NaN</td>\n      <td>NaN</td>\n      <td>NaN</td>\n      <td>1.612707e+09</td>\n      <td>111</td>\n      <td>22</td>\n    </tr>\n    <tr>\n      <th>4338902</th>\n      <td>101\\t56898\\t137\\t25944\\t22659\\t11305\\t131\\t181...</td>\n      <td>NaN</td>\n      <td>F15B4615DA12447331AFEC90FA814B4D</td>\n      <td>NaN</td>\n      <td>NaN</td>\n      <td>NaN</td>\n      <td>Retweet</td>\n      <td>488B32D24BD4BB44172EB981C1BCA6FA</td>\n      <td>1612744473</td>\n      <td>54652625625729AE0E38196970594938</td>\n      <td>...</td>\n      <td>713</td>\n      <td>False</td>\n      <td>1311226875</td>\n      <td>True</td>\n      <td>NaN</td>\n      <td>NaN</td>\n      <td>NaN</td>\n      <td>NaN</td>\n      <td>127</td>\n      <td>23</td>\n    </tr>\n    <tr>\n      <th>4338903</th>\n      <td>101\\t100\\t108\\t16062\\t11281\\t10115\\t11274\\t102...</td>\n      <td>360847D5E2E14DE261D275573CFCCE34</td>\n      <td>DA947A6368CF4414BEA9172003A639FD</td>\n      <td>Photo\\tPhoto</td>\n      <td>NaN</td>\n      <td>NaN</td>\n      <td>TopLevel</td>\n      <td>B8B04128918BBF54E2E178BFF1ABA833</td>\n      <td>1612397867</td>\n      <td>614E269F8E5D731946BDBC86E9DC4F4D</td>\n      <td>...</td>\n      <td>48</td>\n      <td>False</td>\n      <td>1597880960</td>\n      <td>False</td>\n      <td>NaN</td>\n      <td>NaN</td>\n      <td>NaN</td>\n      <td>1.612443e+09</td>\n      <td>415</td>\n      <td>75</td>\n    </tr>\n    <tr>\n      <th>4338904</th>\n      <td>101\\t100\\t27577\\t30416\\t10107\\t10655\\t11239\\t1...</td>\n      <td>80E7062116A700EBFA5E0A99EDCDBBAD\\t3AAE07FAD1D5...</td>\n      <td>730879D11261FA6700804AD49CCB59BB</td>\n      <td>Photo\\tPhoto\\tPhoto\\tPhoto</td>\n      <td>NaN</td>\n      <td>NaN</td>\n      <td>TopLevel</td>\n      <td>488B32D24BD4BB44172EB981C1BCA6FA</td>\n      <td>1612956173</td>\n      <td>5A5C7CCA69CDEBBD7E81C3797DE9DD7E</td>\n      <td>...</td>\n      <td>135</td>\n      <td>False</td>\n      <td>1604003943</td>\n      <td>False</td>\n      <td>NaN</td>\n      <td>NaN</td>\n      <td>NaN</td>\n      <td>1.612962e+09</td>\n      <td>420</td>\n      <td>77</td>\n    </tr>\n    <tr>\n      <th>4338905</th>\n      <td>101\\t18740\\t11003\\t98514\\t10529\\t12229\\t18103\\...</td>\n      <td>40110025DD66B25DE4A54644E7E2259F</td>\n      <td>D22612FC6C7E4CFAECB4CAE406DB072F</td>\n      <td>Photo\\tPhoto</td>\n      <td>NaN</td>\n      <td>NaN</td>\n      <td>TopLevel</td>\n      <td>488B32D24BD4BB44172EB981C1BCA6FA</td>\n      <td>1613569320</td>\n      <td>87BD2290F2A144F5F52A176AE3795CBC</td>\n      <td>...</td>\n      <td>1068</td>\n      <td>False</td>\n      <td>1593749766</td>\n      <td>False</td>\n      <td>NaN</td>\n      <td>NaN</td>\n      <td>NaN</td>\n      <td>1.613578e+09</td>\n      <td>233</td>\n      <td>45</td>\n    </tr>\n  </tbody>\n</table>\n<p>4338906 rows × 26 columns</p>\n</div>"
     },
     "metadata": {},
     "execution_count": 19
    }
   ],
   "source": [
    "tokens = list(map(lambda x: x.split('\\t'), languages['text_ tokens'].to_array()))\n",
    "decoded_tokens = []\n",
    "n_languages = len(languages)\n",
    "languages['language_id'] = range(n_languages)\n",
    "for i in range(n_languages):\n",
    "    decoded_tokens.append(tokenizer.decode(tokens[i], skip_special_tokens=True))\n",
    "    \n",
    "df['decoded_text_tokens'] = decoded_tokens"
   ]
  },
  {
   "cell_type": "code",
   "execution_count": null,
   "metadata": {},
   "outputs": [],
   "source": []
  }
 ]
}